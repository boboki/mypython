{
 "cells": [
  {
   "cell_type": "code",
   "execution_count": 10,
   "metadata": {
    "collapsed": false,
    "nbpresent": {
     "id": "a97fb45b-7acd-498b-9809-cdaef6794beb"
    }
   },
   "outputs": [
    {
     "name": "stdout",
     "output_type": "stream",
     "text": [
      "Total is: 165\n",
      "None\n"
     ]
    }
   ],
   "source": [
    "#-*-coding:UTF-8 -*-\n",
    "#  EX04_01.py\n",
    "#  改寫 EX02_05.py 的程式，將其寫成函式版本\n",
    "#  ref: https://gist.github.com/chifu/f044779487741c829734\n",
    "\n",
    "def summation(n):\n",
    "    total = 0\n",
    "    for i in range(1,n+1):\n",
    "        # total += i  等價於 total = total + i\n",
    "        total += i\n",
    "    print('Total is:',total)\n",
    "#     return total\n",
    "\n",
    "def summation1(start,end=20):\n",
    "    total = 0\n",
    "    for i in range(start,end+1):\n",
    "        # total += i  等價於 total = total + i\n",
    "        total += i\n",
    "    print('Total is:',total)\n",
    "    \n",
    "#函式宣告完之後才能呼叫\n",
    "# result = summation(100)\n",
    "result = summation1(10)\n",
    "print(result)"
   ]
  },
  {
   "cell_type": "code",
   "execution_count": 11,
   "metadata": {
    "collapsed": false
   },
   "outputs": [
    {
     "name": "stdout",
     "output_type": "stream",
     "text": [
      "========append_item=========\n",
      "['apple']\n",
      "['apple', 'orange']\n",
      "['apple', 'orange', 'peach']\n",
      "========append_item_v2=========\n",
      "['apple']\n",
      "['banana']\n",
      "['banana', 'watermelon']\n",
      "['apple', 'orange']\n",
      "['apple', 'orange', 'peach']\n",
      "========append_item_v3=========\n",
      "['apple']\n",
      "['orange']\n",
      "['peach']\n"
     ]
    }
   ],
   "source": [
    "#-*-coding:UTF-8 -*-\n",
    "#  EX04_02.py\n",
    "#\n",
    "#  函數的預設值為可變物件\n",
    "\n",
    "print('========append_item=========')\n",
    "\n",
    "def append_item(item, lis=[]):\n",
    "    lis.append(item)\n",
    "    return lis\n",
    "\n",
    "print(append_item('apple'))\n",
    "print(append_item('orange'))\n",
    "print(append_item('peach'))\n",
    "\n",
    "#============================\n",
    "print('========append_item_v2=========')\n",
    "\n",
    "def append_item_v2(item,lis=[]):\n",
    "    lis.append(item)\n",
    "    return lis\n",
    "lis = []\n",
    "print(append_item_v2('apple',lis))\n",
    "print(append_item_v2('banana'))\n",
    "print(append_item_v2('watermelon'))\n",
    "print(append_item_v2('orange',lis))\n",
    "print(append_item_v2('peach',lis))\n",
    "\n",
    "#============================\n",
    "print('========append_item_v3=========')\n",
    "\n",
    "def append_item_v3(item):\n",
    "    lis=[]\n",
    "    lis.append(item)\n",
    "    return lis\n",
    "\n",
    "print(append_item_v3('apple'))\n",
    "print(append_item_v3('orange'))\n",
    "print(append_item_v3('peach'))"
   ]
  },
  {
   "cell_type": "code",
   "execution_count": 27,
   "metadata": {
    "collapsed": false
   },
   "outputs": [
    {
     "name": "stdout",
     "output_type": "stream",
     "text": [
      "Hello, Tom.\n",
      "Hello, Peter.\n",
      "Hello, Bob.\n",
      "Hello, Rain.\n",
      "Hello, ['Tom', 'Peter', 'Bob', 'Rain', 'boboki'].\n",
      "Hello, Tom.\n",
      "Hello, Peter.\n",
      "Hello, Bob.\n",
      "Hello, Rain.\n",
      "Hello, boboki.\n"
     ]
    }
   ],
   "source": [
    "#-*-coding:UTF-8 -*-\n",
    "#  EX04_03.py\n",
    "#\n",
    "#  不定個數參數 * (tuple)\n",
    "#  傳入多個成員資訊 姓名(數量可以動態增減)當引數\n",
    "#  對每個成員打招呼\n",
    "\n",
    "def hello(*names):\n",
    "    for n in names: print(\"Hello, %s.\"%n)\n",
    "\n",
    "hello(\"Tom\",\"Peter\",\"Bob\",\"Rain\")\n",
    "# test = (\"Tom\",\"Peter\",\"Bob\",\"Rain\")\n",
    "# hello(test)\n",
    "member = [\"Tom\",\"Peter\",\"Bob\",\"Rain\",\"boboki\"]\n",
    "hello(member)\n",
    "hello(*member) # * 解開list物件"
   ]
  },
  {
   "cell_type": "code",
   "execution_count": 21,
   "metadata": {
    "collapsed": false
   },
   "outputs": [
    {
     "name": "stdout",
     "output_type": "stream",
     "text": [
      "Hello Tony, you're 18 years old\n",
      "Hello Tom, you're 20 years old\n",
      "Hello John, you're 25 years old\n",
      "Hello Bob, you're 33 years old\n",
      "Hello Tony, you're 18 years old\n",
      "Hello Tom, you're 20 years old\n",
      "Hello John, you're 25 years old\n",
      "Hello Bob, you're 33 years old\n"
     ]
    }
   ],
   "source": [
    "#-*-coding:UTF-8 -*-\n",
    "#  EX04_04.py\n",
    "#\n",
    "#  不定個數參數 ** (dict)\n",
    "#  傳入多個成員資訊 姓名=年齡(數量可以動態增減)當引數\n",
    "#  對每個成員打招呼\n",
    "\n",
    "def hello(**names):\n",
    "#     print(names)\n",
    "    for n in names:\n",
    "        print(\"Hello %s, you're %d years old\"%(n,names[n])) #字典取值: names[n] 也可以寫 names.get(n)\n",
    "\n",
    "hello(John=25, Tom=20, Bob=33, Tony=18)\n",
    "user={'Tony': 18, 'Tom': 20, 'John': 25, 'Bob': 33}\n",
    "hello(**user)"
   ]
  },
  {
   "cell_type": "code",
   "execution_count": 32,
   "metadata": {
    "collapsed": false
   },
   "outputs": [
    {
     "name": "stdout",
     "output_type": "stream",
     "text": [
      "[0, 1, 2, 3, 4, 5, 6, 7, 8, 9]\n",
      "<generator object myrange at 0x0309C720>\n",
      "0\n",
      "[1, 2, 3, 4, 5, 6, 7, 8, 9]\n",
      "0\n",
      "1\n",
      "2\n",
      "3\n",
      "4\n",
      "5\n",
      "6\n",
      "7\n",
      "8\n",
      "9\n"
     ]
    }
   ],
   "source": [
    "#-*-coding:UTF-8 -*-\n",
    "#  EX04_05.py\n",
    "#\n",
    "#  使用 yield 模擬 range()\n",
    "#  \n",
    "\n",
    "def myrange(n):\n",
    "    x = 0\n",
    "    while True:\n",
    "        yield x\n",
    "        x += 1\n",
    "        if x == n:\n",
    "            break \n",
    "            \n",
    "print(list(myrange(10)))\n",
    "print(myrange(10))\n",
    "\n",
    "r=myrange(10)\n",
    "print(next(r)) # 將產生器物件取出 pop, 內容會減少\n",
    "print(list(r))\n",
    "\n",
    "for i in myrange(10):\n",
    "    print(i)"
   ]
  },
  {
   "cell_type": "code",
   "execution_count": 35,
   "metadata": {
    "collapsed": false
   },
   "outputs": [
    {
     "name": "stdout",
     "output_type": "stream",
     "text": [
      "Before change_name function called, name=Tony\n",
      "In change_name function, name=John\n",
      "After change_name function called, name=John\n",
      "Before change_name function called, name=Tony\n",
      "In change_name function, name=John\n",
      "After change_name function called, name=Tony\n"
     ]
    }
   ],
   "source": [
    "#-*-coding:UTF-8 -*-\n",
    "#  EX04_06.py\n",
    "#\n",
    "#  全域變數範例\n",
    "#  \n",
    "\n",
    "#name 變數宣告在最外層，為全域變數\n",
    "name = \"Tony\"\n",
    "\n",
    "def change_name(n):\n",
    "    global name # global 將name指向全域變數name，不另外new記憶體空間\n",
    "    name = n\n",
    "    print('In change_name function, name=%s' % name)\n",
    "\n",
    "def change_name1(n):\n",
    "#     global name # global 將name指向全域變數name，不另外new記憶體空間\n",
    "    name = n\n",
    "    print('In change_name function, name=%s' % name)\n",
    "    \n",
    "print('Before change_name function called, name=%s' % name)\n",
    "change_name('John')\n",
    "print('After change_name function called, name=%s' % name)\n",
    "\n",
    "name = \"Tony\"\n",
    "print('Before change_name function called, name=%s' % name)\n",
    "change_name1('John')\n",
    "print('After change_name function called, name=%s' % name)"
   ]
  },
  {
   "cell_type": "code",
   "execution_count": 59,
   "metadata": {
    "collapsed": false
   },
   "outputs": [
    {
     "name": "stdout",
     "output_type": "stream",
     "text": [
      "Help on class Demo in module __main__:\n",
      "\n",
      "class Demo(builtins.object)\n",
      " |  Methods defined here:\n",
      " |  \n",
      " |  __init__(self, name)\n",
      " |      Initialize self.  See help(type(self)) for accurate signature.\n",
      " |  \n",
      " |  hello(self)\n",
      " |  \n",
      " |  ----------------------------------------------------------------------\n",
      " |  Data descriptors defined here:\n",
      " |  \n",
      " |  __dict__\n",
      " |      dictionary for instance variables (if defined)\n",
      " |  \n",
      " |  __weakref__\n",
      " |      list of weak references to the object (if defined)\n",
      " |  \n",
      " |  ----------------------------------------------------------------------\n",
      " |  Data and other attributes defined here:\n",
      " |  \n",
      " |  i = 100\n",
      "\n",
      "['__class__', '__delattr__', '__dict__', '__dir__', '__doc__', '__eq__', '__format__', '__ge__', '__getattribute__', '__gt__', '__hash__', '__init__', '__le__', '__lt__', '__module__', '__ne__', '__new__', '__reduce__', '__reduce_ex__', '__repr__', '__setattr__', '__sizeof__', '__str__', '__subclasshook__', '__weakref__', 'hello', 'i']\n",
      "100\n",
      "hello python\n",
      "hello python,3\n",
      "None\n"
     ]
    }
   ],
   "source": [
    "class Demo:\n",
    "    i = 100\n",
    "    def __init__(self,name):\n",
    "        self.name=name\n",
    "    def hello(self): #class中的函式，參數預設都要放一個self\n",
    "        print(\"hello\", self.name)\n",
    "        print(\"hello %s,%d\" %(self.name,3))\n",
    "\n",
    "help(Demo) #help()不用再用print()\n",
    "print(dir(Demo))\n",
    "\n",
    "d = Demo(\"python\")\n",
    "print(d.i)\n",
    "print(d.hello())"
   ]
  },
  {
   "cell_type": "code",
   "execution_count": 80,
   "metadata": {
    "collapsed": false
   },
   "outputs": [
    {
     "name": "stdout",
     "output_type": "stream",
     "text": [
      "60.0\n",
      "0\n",
      "Help on class student in module __main__:\n",
      "\n",
      "class student(builtins.object)\n",
      " |  Methods defined here:\n",
      " |  \n",
      " |  __init__(self, n, g)\n",
      " |      Initialize self.  See help(type(self)) for accurate signature.\n",
      " |  \n",
      " |  add(self, grade)\n",
      " |      輸入成績\n",
      " |  \n",
      " |  avg(self)\n",
      " |  \n",
      " |  fcount(self)\n",
      " |  \n",
      " |  ----------------------------------------------------------------------\n",
      " |  Data descriptors defined here:\n",
      " |  \n",
      " |  __dict__\n",
      " |      dictionary for instance variables (if defined)\n",
      " |  \n",
      " |  __weakref__\n",
      " |      list of weak references to the object (if defined)\n",
      "\n"
     ]
    }
   ],
   "source": [
    "#-*-coding:UTF-8 -*-\n",
    "# 類別作業練習 EX05_hw.py\n",
    "#\n",
    "# 測試資料 http://140.112.31.82/wordpress/?p=216\n",
    "\n",
    "class student:\n",
    "\n",
    "    def __init__(self, n, g):\n",
    "        self.name = n\n",
    "        self.gender = g\n",
    "        self.grades = []\n",
    "\n",
    "    def add(self,grade):\n",
    "        '''輸入成績'''\n",
    "        self.grades.append(grade)\n",
    "\n",
    "    def avg(self):\n",
    "        total =0\n",
    "        for grade in self.grades:\n",
    "            total += grade            \n",
    "        return total/len(self.grades)\n",
    "\n",
    "    def fcount(self):\n",
    "        count = 0\n",
    "        for grade in self.grades:\n",
    "            if(grade<60): \n",
    "                count+=1\n",
    "        return count\n",
    "    \n",
    "s1 = student(\"Tom\",\"M\")\n",
    "s2 = student(\"Jane\",\"F\")\n",
    "s3 = student(\"John\",\"M\")\n",
    "s4 = student(\"Ann\",\"F\")\n",
    "s5 = student(\"Peter\",\"M\")\n",
    "s1.add(80)\n",
    "s1.add(90)\n",
    "s1.add(55)\n",
    "s1.add(77)\n",
    "s1.add(40)\n",
    "s2.add(58)\n",
    "s2.add(87)\n",
    "s3.add(100)\n",
    "s3.add(80)\n",
    "s4.add(40)\n",
    "s4.add(55)\n",
    "s5.add(60)\n",
    "s5.add(60)\n",
    "\n",
    "print(s5.avg())\n",
    "print(s5.fcount())\n",
    "help(student)"
   ]
  },
  {
   "cell_type": "code",
   "execution_count": 79,
   "metadata": {
    "collapsed": false
   },
   "outputs": [
    {
     "name": "stdout",
     "output_type": "stream",
     "text": [
      "Tom:68.4\n",
      "Jane:72.5\n",
      "John:90.0\n",
      "Ann:47.5\n",
      "Peter:60.0\n"
     ]
    },
    {
     "data": {
      "text/plain": [
       "'John'"
      ]
     },
     "execution_count": 79,
     "metadata": {},
     "output_type": "execute_result"
    }
   ],
   "source": [
    "def top(*students):\n",
    "    i=0\n",
    "    for student in students:\n",
    "        print(\"{}:{}\".format(student.name,student.avg()))\n",
    "        i=i+1\n",
    "        if(i==1):\n",
    "            temp = student;\n",
    "        else:\n",
    "            if(student.avg()>=temp.avg()):\n",
    "                temp = student\n",
    "    return temp\n",
    "tops = top(s1,s2,s3,s4,s5)    \n",
    "tops.name"
   ]
  },
  {
   "cell_type": "code",
   "execution_count": 85,
   "metadata": {
    "collapsed": false
   },
   "outputs": [
    {
     "name": "stdout",
     "output_type": "stream",
     "text": [
      "Tom同學: 性別:M avg=68.40, 不及格:2 \n",
      "Jane同學: 性別:F avg=72.50, 不及格:1 \n",
      "John同學: 性別:M avg=90.00, 不及格:0 \n",
      "Ann同學: 性別:F avg=47.50, 不及格:2 \n",
      "Peter同學: 性別:M avg=60.00, 不及格:0 \n",
      "平均最高分的同學=John , 最高分的分數90.00 \n"
     ]
    }
   ],
   "source": [
    "# 老師的答案\n",
    "class student:\n",
    "    def __init__(self,name,gen):\n",
    "        self.name=name\n",
    "        self.gen=gen\n",
    "        self.grades=[]\n",
    "    def add(self,grade):\n",
    "        self.grades.append(grade)\n",
    "    def avg(self):\n",
    "        return sum(self.grades)/len(self.grades)\n",
    "    def fcount(self):\n",
    "        count=0\n",
    "        for g in self.grades:\n",
    "            if g < 60:\n",
    "                count+=1\n",
    "        return count\n",
    "\n",
    "def top(*students): #用不定個數寫\n",
    "    '''\n",
    "    top_student=students[0]\n",
    "    for s in students:\n",
    "        if s.avg() > top_student.avg():\n",
    "            top_student = s\n",
    "    return top_student\n",
    "    '''\n",
    "    students = sorted(students, key=lambda student: student.avg(), reverse=True)\n",
    "    return students[0]\n",
    "    \n",
    "\n",
    "s1 = student(\"Tom\",\"M\")\n",
    "s2 = student(\"Jane\",\"F\")\n",
    "s3 = student(\"John\",\"M\")\n",
    "s4 = student(\"Ann\",\"F\")\n",
    "s5 = student(\"Peter\",\"M\")\n",
    "s1.add(80)\n",
    "s1.add(90)\n",
    "s1.add(55)\n",
    "s1.add(77)\n",
    "s1.add(40)\n",
    "s2.add(58)\n",
    "s2.add(87)\n",
    "s3.add(100)\n",
    "s3.add(80)\n",
    "s4.add(40)\n",
    "s4.add(55)\n",
    "s5.add(60)\n",
    "s5.add(60)\n",
    "\n",
    "print (\"%s同學: 性別:%s avg=%.2f, 不及格:%d \" %(s1.name,s1.gen,s1.avg(),s1.fcount()))\n",
    "print (\"%s同學: 性別:%s avg=%.2f, 不及格:%d \" %(s2.name,s2.gen,s2.avg(),s2.fcount()))\n",
    "print (\"%s同學: 性別:%s avg=%.2f, 不及格:%d \" %(s3.name,s3.gen,s3.avg(),s3.fcount()))\n",
    "print (\"%s同學: 性別:%s avg=%.2f, 不及格:%d \" %(s4.name,s4.gen,s4.avg(),s4.fcount()))\n",
    "print (\"%s同學: 性別:%s avg=%.2f, 不及格:%d \" %(s5.name,s5.gen,s5.avg(),s5.fcount()))\n",
    "top=top(s1,s2,s3,s4,s5)\n",
    "print (\"平均最高分的同學=%s , 最高分的分數%.2f \"%(top.name,top.avg()))"
   ]
  },
  {
   "cell_type": "code",
   "execution_count": 104,
   "metadata": {
    "collapsed": false
   },
   "outputs": [
    {
     "data": {
      "text/plain": [
       "0"
      ]
     },
     "execution_count": 104,
     "metadata": {},
     "output_type": "execute_result"
    }
   ],
   "source": [
    "class Demo:\n",
    "    x = 0\n",
    "    def __init__(self,name):\n",
    "        self.__i=name\n",
    "        Demo.x +=1\n",
    "    def hello(self): #class中的函式，參數預設都要放一個self\n",
    "        print(\"hello\", self.name)\n",
    "        print(\"hello %s,%d\" %(self.name,3))\n",
    "    @classmethod\n",
    "    def getX(cls):\n",
    "        return cls.x\n",
    "    @staticmethod\n",
    "    def getY(x,y):\n",
    "        return x*y\n",
    "        \n",
    "\n",
    "Demo.getX()"
   ]
  },
  {
   "cell_type": "code",
   "execution_count": 118,
   "metadata": {
    "collapsed": false
   },
   "outputs": [
    {
     "name": "stdout",
     "output_type": "stream",
     "text": [
      "18.0\n"
     ]
    }
   ],
   "source": [
    "class Egg():\n",
    "    def __init__(self,price):\n",
    "        self.ori_price = price\n",
    "    @property\n",
    "    def price(self):\n",
    "        return self.ori_price*1.2\n",
    "    @price.setter\n",
    "    def price(self,value):\n",
    "        self.ori_price = value\n",
    "\n",
    "item = Egg(10) #原價為10\n",
    "item.price = 15 # 設原價為15\n",
    "print(item.price)"
   ]
  },
  {
   "cell_type": "code",
   "execution_count": 136,
   "metadata": {
    "collapsed": false
   },
   "outputs": [
    {
     "name": "stdout",
     "output_type": "stream",
     "text": [
      "hello John\n",
      "True\n",
      "False\n",
      "True\n",
      "True\n",
      "True\n",
      "False\n"
     ]
    }
   ],
   "source": [
    "#類別繼承\n",
    "class Demo:\n",
    "    __x = 0\n",
    "    def __init__(self, i):\n",
    "        self.__i = i\n",
    "        Demo.__x += 1\n",
    "    def hello(self):\n",
    "        print(\"hello\", self.__i)\n",
    "    @classmethod\n",
    "    def getX(cls):\n",
    "        return cls.__x\n",
    "    @classmethod\n",
    "    def add(cls):\n",
    "        Demo.__x +=1\n",
    "\n",
    "class subDemo(Demo):\n",
    "    pass\n",
    "\n",
    "a = Demo(\"Tom\")\n",
    "b = subDemo(\"John\")\n",
    "b.hello()\n",
    "#isinstance\n",
    "print(isinstance(a, Demo))\n",
    "print(isinstance(a, subDemo))\n",
    "print(isinstance(b, Demo))\n",
    "print(isinstance(b, subDemo))\n",
    "#issubclass\n",
    "print(issubclass(subDemo, Demo))\n",
    "print(issubclass(Demo, subDemo))"
   ]
  },
  {
   "cell_type": "code",
   "execution_count": 128,
   "metadata": {
    "collapsed": false
   },
   "outputs": [
    {
     "name": "stdout",
     "output_type": "stream",
     "text": [
      "moT\n",
      "Demo.x = 1\n"
     ]
    }
   ],
   "source": [
    "#多重繼承\n",
    "class Demo:\n",
    "    __x = 0\n",
    "    def __init__(self, i):\n",
    "        self.__i = i\n",
    "        Demo.__x += 1\n",
    "    def hello(self):\n",
    "        print(\"hello\", self.__i)\n",
    "    @classmethod\n",
    "    def getX(cls):\n",
    "        return cls.__x\n",
    "    @classmethod\n",
    "    def add(cls):\n",
    "        Demo.__x +=1\n",
    "        \n",
    "class Demo2:\n",
    "    def __init__(self, i):\n",
    "        self.__i = i\n",
    "    def reverseString(self,string):\n",
    "        reverse=string[::-1]\n",
    "#         for i in range(len(string)-1, -1, -1):\n",
    "#             reverse += string[i]\n",
    "#         return reverse\n",
    "        return reverse\n",
    "    \n",
    "class subDemo(Demo,Demo2):\n",
    "    def __init__(self, i, j=\"guest\"):\n",
    "        super().__init__(i)\n",
    "        self.__i = i\n",
    "        self.__j = j\n",
    "    def hello(self):\n",
    "        print(\"hello\", self.__i,self.__j)\n",
    "    def superHello(self):\n",
    "        super().__init__(self.__i)\n",
    "        super().hello()\n",
    "        \n",
    "a = subDemo(\"Tom\")\n",
    "print(a.reverseString(\"Tom\"))\n",
    "print(\"Demo.x =\", Demo.getX())"
   ]
  },
  {
   "cell_type": "code",
   "execution_count": 138,
   "metadata": {
    "collapsed": false
   },
   "outputs": [
    {
     "name": "stdout",
     "output_type": "stream",
     "text": [
      "hello hello world\n",
      "hello world\n"
     ]
    }
   ],
   "source": [
    "class Demo:\n",
    "    def __init__(self, i):\n",
    "        self.i = i\n",
    "\n",
    "    def __str__(self):\n",
    "        return 'hello world'\n",
    "\n",
    "    def __del__(self):\n",
    "        print(\"del called: \" + self.__str__())\n",
    "\n",
    "    def hello(self):\n",
    "        print(\"hello \" + self.__str__())\n",
    "a = Demo(\"Tommy\")\n",
    "a.hello()\n",
    "print( str(a) )"
   ]
  },
  {
   "cell_type": "code",
   "execution_count": 137,
   "metadata": {
    "collapsed": false
   },
   "outputs": [
    {
     "name": "stdout",
     "output_type": "stream",
     "text": [
      "Missy: Meow!\n",
      "Garfield: Meow!\n",
      "Lassie: Woof! Woof!\n"
     ]
    }
   ],
   "source": [
    "class Animal:\n",
    "    def __init__(self, name): # Constructor of the class\n",
    "        self.name = name\n",
    "    def talk(self): # Abstract method, defined by convention only\n",
    "        raise NotImplementedError(\"Subclass must implement abstract method\")\n",
    "\n",
    "class Cat(Animal):\n",
    "    def talk(self):\n",
    "        return 'Meow!'\n",
    "        \n",
    "class Dog(Animal):\n",
    "    def talk(self):\n",
    "        return 'Woof! Woof!'\n",
    "\n",
    "animals = [Cat('Missy'), Cat('Garfield'), Dog('Lassie')]\n",
    "for animal in animals:\n",
    "    print(animal.name + ': ' + animal.talk())"
   ]
  }
 ],
 "metadata": {
  "anaconda-cloud": {},
  "kernelspec": {
   "display_name": "Python [Root]",
   "language": "python",
   "name": "Python [Root]"
  },
  "language_info": {
   "codemirror_mode": {
    "name": "ipython",
    "version": 3
   },
   "file_extension": ".py",
   "mimetype": "text/x-python",
   "name": "python",
   "nbconvert_exporter": "python",
   "pygments_lexer": "ipython3",
   "version": "3.5.2"
  }
 },
 "nbformat": 4,
 "nbformat_minor": 0
}
