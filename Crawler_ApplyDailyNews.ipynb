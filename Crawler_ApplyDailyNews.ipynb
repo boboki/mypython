{
 "cells": [
  {
   "cell_type": "code",
   "execution_count": 1,
   "metadata": {
    "collapsed": true
   },
   "outputs": [],
   "source": [
    "import requests\n",
    "from bs4 import BeautifulSoup as bs\n",
    "\n",
    "def getPageContent(url):\n",
    "    res = requests.get(url)\n",
    "    soup = bs(res.text, 'html.parser')\n",
    "    return soup.select('div.articulum.trans')[0].text.split('googletag')[0].strip()"
   ]
  },
  {
   "cell_type": "code",
   "execution_count": 2,
   "metadata": {
    "collapsed": true
   },
   "outputs": [],
   "source": [
    "import requests\n",
    "from bs4 import BeautifulSoup as bs\n",
    "import re\n",
    "import time\n",
    "\n",
    "localtime = time.strftime(\"%H/%M\")\n",
    "domain = 'http://www.appledaily.com.tw/'\n",
    "stopFlag = False\n",
    "\n",
    "def getPageNews(page=1):\n",
    "    res = requests.get('http://www.appledaily.com.tw/realtimenews/section/new/{}'.format(page))\n",
    "    soup = bs(res.text, 'html.parser')\n",
    "\n",
    "#     print(soup.select('h1.dddd')[0].text)\n",
    "#     if today==soup.select('h1.dddd')[0].text break\n",
    "\n",
    "    today = \"\".join(soup.select('h1.dddd')[0].text.split())\n",
    "    news = []\n",
    "    time = today+' 23:59:59'\n",
    "#     print(len(soup.select('li.rtddt')))\n",
    "    for li in soup.select('li.rtddt'):\n",
    "#     print(\"===================\")\n",
    "        h1 = li.select('h1')[0].text\n",
    "        m = re.match('(.+)\\((\\d+)\\)', h1)\n",
    "        if(time < '{} {}'.format(today, li.select('time')[0].text)):\n",
    "            global stopFlag \n",
    "            stopFlag = True\n",
    "            break\n",
    "        time  = '{} {}'.format(today, li.select('time')[0].text)\n",
    "        category = li.select('h2')[0].text\n",
    "        link = domain + li.select('a')[0]['href']\n",
    "        if m:\n",
    "            title =  m.group(1)\n",
    "            view_cnt = int(m.group(2))\n",
    "#       print(title, view_cnt, time, category, link)\n",
    "            news.append({'title':title, 'view_cnt':view_cnt, 'time': time, 'category': category, 'link': link, 'summary': getPageContent(link)}) \n",
    "    return news"
   ]
  },
  {
   "cell_type": "code",
   "execution_count": 3,
   "metadata": {
    "collapsed": false
   },
   "outputs": [
    {
     "name": "stdout",
     "output_type": "stream",
     "text": [
      "1 2 3 4 5 6 7 8 9 10 11 12 13 14 15 16 17 18 19 20 21 22 23 24 "
     ]
    }
   ],
   "source": [
    "newsToday=[]\n",
    "page=1\n",
    "while True:\n",
    "    print(page, end=' ')\n",
    "    newsToday.extend(getPageNews(page));\n",
    "    if(stopFlag):\n",
    "        break\n",
    "    page += 1;    \n",
    "# print(newsToday)"
   ]
  },
  {
   "cell_type": "code",
   "execution_count": 4,
   "metadata": {
    "collapsed": true
   },
   "outputs": [],
   "source": [
    "# -*-coding: utf-8 -*-\n",
    "import sqlite3\n",
    "db=sqlite3.connect('news.sqlite')\n",
    "cur=db.cursor()\n",
    "cur.execute('''DROP TABLE IF EXISTS news_entry''')\n",
    "cur.execute('''CREATE TABLE IF NOT EXISTS news_entry\n",
    "     (id INTEGER PRIMARY KEY,\n",
    "      category TEXT,\n",
    "      view_cnt INTEGER,\n",
    "      time TEXT,\n",
    "      title TEXT,\n",
    "      summary TEXT,\n",
    "      link TEXT)''')\n",
    "cur.close()"
   ]
  },
  {
   "cell_type": "code",
   "execution_count": null,
   "metadata": {
    "collapsed": true
   },
   "outputs": [],
   "source": [
    "import sqlite3\n",
    "db=sqlite3.connect('news.sqlite')\n",
    "cur=db.cursor()\n",
    "insert_stmt = 'insert into news_entry({}) values({})'\n",
    "for idx,news in enumerate(newsToday):\n",
    "    print(idx, end=' ')\n",
    "    columns = ','.join(news.keys())\n",
    "    vals = ','.join(len(news.keys()) * '?')\n",
    "    sql = insert_stmt.format(columns, vals)\n",
    "#     print(sql)\n",
    "#     print(news.values())\n",
    "    cur.execute(sql, list(news.values())) # 要list()轉型\n",
    "    db.commit() # 要commit\n",
    "cur.close()\n",
    "db.close()"
   ]
  },
  {
   "cell_type": "markdown",
   "metadata": {},
   "source": [
    "# Dataframe to DB"
   ]
  },
  {
   "cell_type": "code",
   "execution_count": 12,
   "metadata": {
    "collapsed": true
   },
   "outputs": [],
   "source": [
    "import pandas as pd \n",
    "df = pd.DataFrame(newsToday)\n",
    "\n",
    "import sqlite3 as lite\n",
    "with lite.connect('news.sqlite') as db:\n",
    "    df.to_sql(name='news_entry', index=False, con=db, if_exists='replace')\n",
    "db.close()"
   ]
  },
  {
   "cell_type": "code",
   "execution_count": 10,
   "metadata": {
    "collapsed": true
   },
   "outputs": [],
   "source": [
    "# Drop table \n",
    "import sqlite3\n",
    "db=sqlite3.connect('news.sqlite')\n",
    "cur=db.cursor()\n",
    "sql = 'drop table news_entry3'\n",
    "try:\n",
    "    cur.execute(sql)\n",
    "except:\n",
    "    print(\"Error Occur!\")\n",
    "    traceback.print_exc()\n",
    "finally:    \n",
    "    db.commit() # 要commit\n",
    "    cur.close()\n",
    "    db.close()"
   ]
  }
 ],
 "metadata": {
  "kernelspec": {
   "display_name": "Python 3",
   "language": "python",
   "name": "python3"
  },
  "language_info": {
   "codemirror_mode": {
    "name": "ipython",
    "version": 3
   },
   "file_extension": ".py",
   "mimetype": "text/x-python",
   "name": "python",
   "nbconvert_exporter": "python",
   "pygments_lexer": "ipython3",
   "version": "3.5.1"
  }
 },
 "nbformat": 4,
 "nbformat_minor": 0
}
