{
 "cells": [
  {
   "cell_type": "code",
   "execution_count": 13,
   "metadata": {
    "collapsed": false
   },
   "outputs": [
    {
     "data": {
      "text/plain": [
       "5"
      ]
     },
     "execution_count": 13,
     "metadata": {},
     "output_type": "execute_result"
    }
   ],
   "source": [
    "a=3\n",
    "b=2\n",
    "a+b"
   ]
  },
  {
   "cell_type": "code",
   "execution_count": 11,
   "metadata": {
    "collapsed": false
   },
   "outputs": [
    {
     "name": "stdout",
     "output_type": "stream",
     "text": [
      "6\n"
     ]
    }
   ],
   "source": [
    "print(a+3)"
   ]
  },
  {
   "cell_type": "code",
   "execution_count": 6,
   "metadata": {
    "collapsed": false
   },
   "outputs": [
    {
     "name": "stdout",
     "output_type": "stream",
     "text": [
      "Help on package requests:\n",
      "\n",
      "NAME\n",
      "    requests\n",
      "\n",
      "DESCRIPTION\n",
      "    Requests HTTP library\n",
      "    ~~~~~~~~~~~~~~~~~~~~~\n",
      "    \n",
      "    Requests is an HTTP library, written in Python, for human beings. Basic GET\n",
      "    usage:\n",
      "    \n",
      "       >>> import requests\n",
      "       >>> r = requests.get('https://www.python.org')\n",
      "       >>> r.status_code\n",
      "       200\n",
      "       >>> 'Python is a programming language' in r.content\n",
      "       True\n",
      "    \n",
      "    ... or POST:\n",
      "    \n",
      "       >>> payload = dict(key1='value1', key2='value2')\n",
      "       >>> r = requests.post('http://httpbin.org/post', data=payload)\n",
      "       >>> print(r.text)\n",
      "       {\n",
      "         ...\n",
      "         \"form\": {\n",
      "           \"key2\": \"value2\",\n",
      "           \"key1\": \"value1\"\n",
      "         },\n",
      "         ...\n",
      "       }\n",
      "    \n",
      "    The other HTTP methods are supported - see `requests.api`. Full documentation\n",
      "    is at <http://python-requests.org>.\n",
      "    \n",
      "    :copyright: (c) 2015 by Kenneth Reitz.\n",
      "    :license: Apache 2.0, see LICENSE for more details.\n",
      "\n",
      "PACKAGE CONTENTS\n",
      "    adapters\n",
      "    api\n",
      "    auth\n",
      "    certs\n",
      "    compat\n",
      "    cookies\n",
      "    exceptions\n",
      "    hooks\n",
      "    models\n",
      "    packages (package)\n",
      "    sessions\n",
      "    status_codes\n",
      "    structures\n",
      "    utils\n",
      "\n",
      "DATA\n",
      "    __build__ = 133377\n",
      "    __copyright__ = 'Copyright 2015 Kenneth Reitz'\n",
      "    __license__ = 'Apache 2.0'\n",
      "    __title__ = 'requests'\n",
      "    codes = <lookup 'status_codes'>\n",
      "\n",
      "VERSION\n",
      "    2.9.1\n",
      "\n",
      "AUTHOR\n",
      "    Kenneth Reitz\n",
      "\n",
      "FILE\n",
      "    c:\\anaconda3\\lib\\site-packages\\requests\\__init__.py\n",
      "\n",
      "\n"
     ]
    }
   ],
   "source": [
    "import requests\n",
    "dir(requests)\n",
    "help(requests)"
   ]
  },
  {
   "cell_type": "code",
   "execution_count": 9,
   "metadata": {
    "collapsed": false
   },
   "outputs": [
    {
     "data": {
      "text/plain": [
       "['__abs__',\n",
       " '__add__',\n",
       " '__and__',\n",
       " '__bool__',\n",
       " '__ceil__',\n",
       " '__class__',\n",
       " '__delattr__',\n",
       " '__dir__',\n",
       " '__divmod__',\n",
       " '__doc__',\n",
       " '__eq__',\n",
       " '__float__',\n",
       " '__floor__',\n",
       " '__floordiv__',\n",
       " '__format__',\n",
       " '__ge__',\n",
       " '__getattribute__',\n",
       " '__getnewargs__',\n",
       " '__gt__',\n",
       " '__hash__',\n",
       " '__index__',\n",
       " '__init__',\n",
       " '__int__',\n",
       " '__invert__',\n",
       " '__le__',\n",
       " '__lshift__',\n",
       " '__lt__',\n",
       " '__mod__',\n",
       " '__mul__',\n",
       " '__ne__',\n",
       " '__neg__',\n",
       " '__new__',\n",
       " '__or__',\n",
       " '__pos__',\n",
       " '__pow__',\n",
       " '__radd__',\n",
       " '__rand__',\n",
       " '__rdivmod__',\n",
       " '__reduce__',\n",
       " '__reduce_ex__',\n",
       " '__repr__',\n",
       " '__rfloordiv__',\n",
       " '__rlshift__',\n",
       " '__rmod__',\n",
       " '__rmul__',\n",
       " '__ror__',\n",
       " '__round__',\n",
       " '__rpow__',\n",
       " '__rrshift__',\n",
       " '__rshift__',\n",
       " '__rsub__',\n",
       " '__rtruediv__',\n",
       " '__rxor__',\n",
       " '__setattr__',\n",
       " '__sizeof__',\n",
       " '__str__',\n",
       " '__sub__',\n",
       " '__subclasshook__',\n",
       " '__truediv__',\n",
       " '__trunc__',\n",
       " '__xor__',\n",
       " 'bit_length',\n",
       " 'conjugate',\n",
       " 'denominator',\n",
       " 'from_bytes',\n",
       " 'imag',\n",
       " 'numerator',\n",
       " 'real',\n",
       " 'to_bytes']"
      ]
     },
     "execution_count": 9,
     "metadata": {},
     "output_type": "execute_result"
    }
   ],
   "source": [
    "dir()\n",
    "dir(1)"
   ]
  },
  {
   "cell_type": "markdown",
   "metadata": {},
   "source": [
    "# python requests"
   ]
  },
  {
   "cell_type": "code",
   "execution_count": 11,
   "metadata": {
    "collapsed": false
   },
   "outputs": [
    {
     "data": {
      "text/plain": [
       "<Response [200]>"
      ]
     },
     "execution_count": 11,
     "metadata": {},
     "output_type": "execute_result"
    }
   ],
   "source": [
    "import requests\n",
    "res = requests.get('http://www.appledaily.com.tw/realtimenews/section/new/')\n",
    "res"
   ]
  },
  {
   "cell_type": "code",
   "execution_count": 13,
   "metadata": {
    "collapsed": false
   },
   "outputs": [
    {
     "data": {
      "text/plain": [
       "requests.models.Response"
      ]
     },
     "execution_count": 13,
     "metadata": {},
     "output_type": "execute_result"
    }
   ],
   "source": [
    "type(res)"
   ]
  },
  {
   "cell_type": "code",
   "execution_count": 23,
   "metadata": {
    "collapsed": false,
    "scrolled": false
   },
   "outputs": [
    {
     "name": "stdout",
     "output_type": "stream",
     "text": [
      "['__attrs__', '__bool__', '__class__', '__delattr__', '__dict__', '__dir__', '__doc__', '__eq__', '__format__', '__ge__', '__getattribute__', '__getstate__', '__gt__', '__hash__', '__init__', '__iter__', '__le__', '__lt__', '__module__', '__ne__', '__new__', '__nonzero__', '__reduce__', '__reduce_ex__', '__repr__', '__setattr__', '__setstate__', '__sizeof__', '__str__', '__subclasshook__', '__weakref__', '_content', '_content_consumed', 'apparent_encoding', 'close', 'connection', 'content', 'cookies', 'elapsed', 'encoding', 'headers', 'history', 'is_permanent_redirect', 'is_redirect', 'iter_content', 'iter_lines', 'json', 'links', 'ok', 'raise_for_status', 'raw', 'reason', 'request', 'status_code', 'text', 'url']\n",
      "{'Content-Type': 'text/html; charset=utf-8', 'Connection': 'keep-alive', 'Content-Encoding': 'gzip', 'Vary': 'Accept-Encoding', 'Date': 'Sat, 07 May 2016 05:12:34 GMT', 'Server': 'Apache', 'Content-Length': '15687'}\n",
      "http://www.appledaily.com.tw/realtimenews/section/new/\n"
     ]
    }
   ],
   "source": [
    "print(dir(res))\n",
    "print(res.headers)\n",
    "print(res.url)\n",
    "# print(res.text)"
   ]
  },
  {
   "cell_type": "code",
   "execution_count": 26,
   "metadata": {
    "collapsed": false
   },
   "outputs": [
    {
     "data": {
      "text/plain": [
       "2"
      ]
     },
     "execution_count": 26,
     "metadata": {},
     "output_type": "execute_result"
    }
   ],
   "source": [
    "dic = {'a':1, 'b':2, 'c':4}\n",
    "dic['b']"
   ]
  },
  {
   "cell_type": "markdown",
   "metadata": {},
   "source": [
    "# BeautifulSoup"
   ]
  },
  {
   "cell_type": "code",
   "execution_count": 31,
   "metadata": {
    "collapsed": false
   },
   "outputs": [
    {
     "name": "stdout",
     "output_type": "stream",
     "text": [
      "\n",
      "<html> \n",
      "<body> \n",
      "   <h1 id=\"title\">Hello World</h1> \n",
      "   <a href=\"#\" class=\"link\">This is link1</a> \n",
      "   <a href=\"# link2\" class=\"link\">This is link2</a> \n",
      "</body> \n",
      "</html>\n",
      "<class 'bs4.BeautifulSoup'>\n",
      "\n",
      "\n",
      "\n",
      "Hello World\n",
      "This is link1\n",
      "This is link2\n",
      "\n",
      "\n"
     ]
    }
   ],
   "source": [
    "from bs4 import BeautifulSoup\n",
    "html_sample='''\n",
    "<html> \n",
    "<body> \n",
    "   <h1 id=\"title\">Hello World</h1> \n",
    "   <a href=\"#\" class=\"link\">This is link1</a> \n",
    "   <a href=\"# link2\" class=\"link\">This is link2</a> \n",
    "</body> \n",
    "</html>'''\n",
    "print(html_sample)\n",
    "\n",
    "soup = BeautifulSoup(html_sample, 'html.parser')\n",
    "print(type(soup))\n",
    "print(soup.text)"
   ]
  },
  {
   "cell_type": "code",
   "execution_count": 33,
   "metadata": {
    "collapsed": false
   },
   "outputs": [
    {
     "name": "stdout",
     "output_type": "stream",
     "text": [
      "1\n",
      "2\n",
      "5\n"
     ]
    }
   ],
   "source": [
    "a=[1,2,3,4,5]\n",
    "print(a[0])\n",
    "print(a[1])\n",
    "print(a[-1])"
   ]
  },
  {
   "cell_type": "code",
   "execution_count": 47,
   "metadata": {
    "collapsed": false
   },
   "outputs": [
    {
     "name": "stdout",
     "output_type": "stream",
     "text": [
      "[<a class=\"link\" href=\"#\">This is link1</a>, <a class=\"link\" href=\"# link2\">This is link2</a>]\n",
      "<class 'list'>\n",
      "<a class=\"link\" href=\"#\">This is link1</a>\n",
      "This is link1\n",
      "#\n",
      "# link2\n"
     ]
    }
   ],
   "source": [
    "print(soup.select('a'))\n",
    "print(type(soup.select('a')))\n",
    "print(soup.select('a')[0])\n",
    "print(soup.select('a')[0].text)\n",
    "for link in soup.select('a'):\n",
    "    print(link['href'])"
   ]
  },
  {
   "cell_type": "code",
   "execution_count": 42,
   "metadata": {
    "collapsed": false
   },
   "outputs": [
    {
     "name": "stdout",
     "output_type": "stream",
     "text": [
      "[<h1 id=\"title\">Hello World</h1>]\n",
      "<class 'list'>\n",
      "<h1 id=\"title\">Hello World</h1>\n",
      "Hello World\n"
     ]
    }
   ],
   "source": [
    "print(soup.select('h1'))\n",
    "print(type(soup.select('h1')))\n",
    "print(soup.select('h1')[0])\n",
    "print(soup.select('h1')[0].text)"
   ]
  },
  {
   "cell_type": "code",
   "execution_count": 44,
   "metadata": {
    "collapsed": false
   },
   "outputs": [
    {
     "name": "stdout",
     "output_type": "stream",
     "text": [
      "[<h1 id=\"title\">Hello World</h1>]\n",
      "Hello World\n"
     ]
    }
   ],
   "source": [
    "#id => #\n",
    "print(soup.select('#title'))\n",
    "print(soup.select('#title')[0].text)"
   ]
  },
  {
   "cell_type": "code",
   "execution_count": 48,
   "metadata": {
    "collapsed": false
   },
   "outputs": [
    {
     "name": "stdout",
     "output_type": "stream",
     "text": [
      "[<a class=\"link\" href=\"#\">This is link1</a>, <a class=\"link\" href=\"# link2\">This is link2</a>]\n",
      "This is link1\n"
     ]
    }
   ],
   "source": [
    "#classs => .\n",
    "print(soup.select('.link'))\n",
    "print(soup.select('.link')[0].text)"
   ]
  },
  {
   "cell_type": "code",
   "execution_count": 65,
   "metadata": {
    "collapsed": false,
    "scrolled": false
   },
   "outputs": [
    {
     "name": "stdout",
     "output_type": "stream",
     "text": [
      "[<a href=\"#\" iii=\"ttt\" qoo=\"123\">this is a link</a>]\n",
      "<a href=\"#\" iii=\"ttt\" qoo=\"123\">this is a link</a>\n",
      "ttt 123\n"
     ]
    }
   ],
   "source": [
    "a = '<a href=# qoo=123 iii=ttt>this is a link</a>'\n",
    "soup2 = BeautifulSoup(a,'html.parser')\n",
    "print(soup2.select('a'))\n",
    "print(soup2.select('a')[0])\n",
    "for ele in soup2.select('a'):\n",
    "    print(ele['iii'], ele['qoo'])"
   ]
  },
  {
   "cell_type": "markdown",
   "metadata": {},
   "source": [
    "# Case AppleDailyNews"
   ]
  },
  {
   "cell_type": "code",
   "execution_count": 80,
   "metadata": {
    "collapsed": false
   },
   "outputs": [
    {
     "name": "stdout",
     "output_type": "stream",
     "text": [
      "2016 / 05 / 07\n",
      "30\n",
      "===================\n",
      "MLB今日戰績(0) 2016/05/07 16:07 體育\n",
      "===================\n",
      "日巡世界女子高爾夫錦標賽　姚宣榆落後8桿(480) 2016/05/07 16:05 體育\n",
      "===================\n",
      "今年要不要參加WHA？　蔡英文笑而不答(0) 2016/05/07 16:05 政治\n",
      "===================\n",
      "【更新】台新銀搶匪落網　追回60萬贓款(42162) 2016/05/07 16:04 社會\n",
      "===================\n",
      "【有片】殘忍育兒法？　母坐視女嬰水中掙扎...(7676) 2016/05/07 16:01 國際\n",
      "===================\n",
      "女闖輸送帶大鬧　羽田機場重驗行李2小時(52) 2016/05/07 15:59 國際\n",
      "===================\n",
      "【有片】26歲喀麥隆中場國腳猝死賽場(6404) 2016/05/07 15:55 體育\n",
      "===================\n",
      "【法廣RFI】陸外儲再升 人民幣貶值壓力...(47) 2016/05/07 15:55 財經\n",
      "===================\n",
      "林洲民：台北人真自私　接納豪宅反對好宅(351) 2016/05/07 15:54 生活\n",
      "===================\n",
      "​台大實驗室氟氣外洩　化災人員進入處理(5016) 2016/05/07 15:53 社會\n"
     ]
    }
   ],
   "source": [
    "import requests\n",
    "from bs4 import BeautifulSoup as bs\n",
    "res = requests.get('http://www.appledaily.com.tw/realtimenews/section/new/')\n",
    "soup = bs(res.text, 'html.parser')\n",
    "\n",
    "print(soup.select('h1.dddd')[0].text)\n",
    "# if today==soup.select('h1.dddd')[0].text break\n",
    "today = \"\".join(soup.select('h1.dddd')[0].text.split())\n",
    "\n",
    "print(len(soup.select('li.rtddt')))\n",
    "for li in soup.select('li.rtddt')[0:10]:\n",
    "    print(\"===================\")\n",
    "#     print(li)\n",
    "    print(li.select('h1')[0].text, '{} {}'.format(today, li.select('time')[0].text), li.select('h2')[0].text)"
   ]
  },
  {
   "cell_type": "code",
   "execution_count": 83,
   "metadata": {
    "collapsed": false
   },
   "outputs": [
    {
     "name": "stdout",
     "output_type": "stream",
     "text": [
      "True\n",
      "True\n"
     ]
    }
   ],
   "source": [
    "s='apple'\n",
    "print(s=='apple')\n",
    "print(s is 'apple')"
   ]
  },
  {
   "cell_type": "code",
   "execution_count": 87,
   "metadata": {
    "collapsed": false
   },
   "outputs": [
    {
     "name": "stdout",
     "output_type": "stream",
     "text": [
      "a\n",
      "a\n",
      "a\n",
      "a\n"
     ]
    }
   ],
   "source": [
    "import re\n",
    "a = 'apple'\n",
    "m  = re.match('a', a)\n",
    "print(m.group(0))\n",
    "\n",
    "m  = re.match('[abcdefghhijklmnopqrstuvwxyz]', a)\n",
    "print(m.group(0))\n",
    "\n",
    "m  = re.match('[a-z]', a)\n",
    "print(m.group(0))\n",
    "\n",
    "m  = re.match('\\w', a)\n",
    "print(m.group(0))"
   ]
  },
  {
   "cell_type": "code",
   "execution_count": 89,
   "metadata": {
    "collapsed": false
   },
   "outputs": [
    {
     "name": "stdout",
     "output_type": "stream",
     "text": [
      "1\n",
      "1\n",
      "1\n",
      "1\n"
     ]
    }
   ],
   "source": [
    "s = '1a2@'\n",
    "m  = re.match('1', s)\n",
    "print(m.group(0))\n",
    "\n",
    "m  = re.match('[0123456789]', s)\n",
    "print(m.group(0))\n",
    "\n",
    "m  = re.match('[0-9]', s)\n",
    "print(m.group(0))\n",
    "\n",
    "m  = re.match('\\d', s)\n",
    "print(m.group(0))"
   ]
  },
  {
   "cell_type": "code",
   "execution_count": 95,
   "metadata": {
    "collapsed": false
   },
   "outputs": [
    {
     "name": "stdout",
     "output_type": "stream",
     "text": [
      "apple\n",
      "apple\n",
      "apple\n",
      "apple\n",
      "apple\n"
     ]
    }
   ],
   "source": [
    "import re\n",
    "a = 'apple'\n",
    "m  = re.match('\\w{5,9}', a)\n",
    "print(m.group(0))\n",
    "\n",
    "m  = re.match('\\w{0,}', a)\n",
    "print(m.group(0))\n",
    "\n",
    "m  = re.match('\\w*', a) # {0, } => *\n",
    "print(m.group(0))\n",
    "\n",
    "m  = re.match('\\w{1,}', a) \n",
    "print(m.group(0))\n",
    "\n",
    "m  = re.match('\\w+', a) # {1, } => +\n",
    "print(m.group(0))"
   ]
  },
  {
   "cell_type": "code",
   "execution_count": 97,
   "metadata": {
    "collapsed": false
   },
   "outputs": [
    {
     "name": "stdout",
     "output_type": "stream",
     "text": [
      "0912345678\n",
      "0912\n",
      "0912\n",
      "091234567812301382908128302193802913\n"
     ]
    }
   ],
   "source": [
    "phone = ['0912345678', '0912-345-678', '0912-345678', '091234567812301382908128302193802913']\n",
    "import re\n",
    "for p in phone:\n",
    "    m = re.match('09\\d+', p)\n",
    "    print(m.group(0))"
   ]
  },
  {
   "cell_type": "code",
   "execution_count": 98,
   "metadata": {
    "collapsed": false
   },
   "outputs": [
    {
     "name": "stdout",
     "output_type": "stream",
     "text": [
      "0912345678\n",
      "0912-345-678\n",
      "0912-345678\n",
      "0912345678\n"
     ]
    }
   ],
   "source": [
    "phone = ['0912345678', '0912-345-678', '0912-345678', '091234567812301382908128302193802913']\n",
    "import re\n",
    "for p in phone:\n",
    "    m = re.match('09\\d{2}-{0,1}\\d{3}-{0,1}\\d{3}', p) # {0,1} => ?\n",
    "    print(m.group(0))"
   ]
  },
  {
   "cell_type": "code",
   "execution_count": 99,
   "metadata": {
    "collapsed": false
   },
   "outputs": [
    {
     "name": "stdout",
     "output_type": "stream",
     "text": [
      "0912345678\n",
      "0912-345-678\n",
      "0912-345678\n",
      "0912345678\n"
     ]
    }
   ],
   "source": [
    "phone = ['0912345678', '0912-345-678', '0912-345678', '091234567812301382908128302193802913']\n",
    "import re\n",
    "for p in phone:\n",
    "    m = re.match('09\\d{2}-?\\d{3}-?\\d{3}', p) # {0,1} => ?\n",
    "    print(m.group(0))"
   ]
  },
  {
   "cell_type": "code",
   "execution_count": 101,
   "metadata": {
    "collapsed": false
   },
   "outputs": [
    {
     "name": "stdout",
     "output_type": "stream",
     "text": [
      "0912345678\n",
      "0912-345-678\n",
      "0912-345678\n"
     ]
    }
   ],
   "source": [
    "phone = ['0912345678', '0912-345-678', '0912-345678', '091234567812301382908128302193802913']\n",
    "import re\n",
    "for p in phone:\n",
    "    m = re.match('^09\\d{2}-?\\d{3}-?\\d{3}$', p) # ^ match initial, $ match end\n",
    "    if m:\n",
    "        print(m.group(0))"
   ]
  },
  {
   "cell_type": "code",
   "execution_count": 109,
   "metadata": {
    "collapsed": false
   },
   "outputs": [
    {
     "name": "stdout",
     "output_type": "stream",
     "text": [
      "2016 / 05 / 07\n",
      "30\n",
      "===================\n",
      "【更新】郭俊麟1.2局被KO　火腿8比6...(11457) 2016/05/07 16:50 體育 http://www.appledaily.com.tw//realtimenews/article/sports/20160507/855491/【更新】郭俊麟1.2局被KO　火腿8比6勝西武\n",
      "===================\n",
      "忘情觀海困沙洲　輕熟女險滅頂(0) 2016/05/07 16:49 社會 http://www.appledaily.com.tw//realtimenews/article/local/20160507/855621/忘情觀海困沙洲　輕熟女險滅頂\n",
      "===================\n",
      "一家4口受困電梯　警消助脫困(0) 2016/05/07 16:48 社會 http://www.appledaily.com.tw//realtimenews/article/local/20160507/855619/一家4口受困電梯　警消助脫困\n",
      "===================\n",
      "統一vs.中信　陳韻文vs.希克(8) 2016/05/07 16:45 體育 http://www.appledaily.com.tw//realtimenews/article/sports/20160507/855620/統一vs.中信　陳韻文vs.希克\n",
      "===================\n",
      "陽耀勳縫12針　約須休養一個月(342) 2016/05/07 16:40 體育 http://www.appledaily.com.tw//realtimenews/article/sports/20160507/855617/陽耀勳縫12針　約須休養一個月\n",
      "===================\n",
      "【更新】要跟老婆離婚　男子攜槍大鬧岳父家(4363) 2016/05/07 16:38 社會 http://www.appledaily.com.tw//realtimenews/article/local/20160507/855519/【更新】要跟老婆離婚　男子攜槍大鬧岳父家\n",
      "===================\n",
      "【更新】譏下屬「有菜味」遭殺　家屬駁「把...(6478) 2016/05/07 16:35 社會 http://www.appledaily.com.tw//realtimenews/article/local/20160507/855552/【更新】譏下屬「有菜味」遭殺　家屬駁「把他當朋友竟被殺」\n",
      "===================\n",
      "【有片】母親節快樂！　美女立委們這樣過節(354) 2016/05/07 16:33 政治 http://www.appledaily.com.tw//realtimenews/article/politics/20160507/855258/【有片】母親節快樂！　美女立委們這樣過節\n",
      "===================\n",
      "【更新】台北長庚電腦出包　約千人受影響　(2720) 2016/05/07 16:33 生活 http://www.appledaily.com.tw//realtimenews/article/life/20160507/855527/【更新】台北長庚電腦出包　約千人受影響　\n",
      "===================\n",
      "【有片】桃園王室打線出征　國輝國麟再拼同...(246) 2016/05/07 16:33 體育 http://www.appledaily.com.tw//realtimenews/article/sports/20160507/855574/【有片】桃園王室打線出征　國輝國麟再拼同場開轟\n"
     ]
    }
   ],
   "source": [
    "import requests\n",
    "from bs4 import BeautifulSoup as bs\n",
    "res = requests.get('http://www.appledaily.com.tw/realtimenews/section/new/')\n",
    "soup = bs(res.text, 'html.parser')\n",
    "\n",
    "print(soup.select('h1.dddd')[0].text)\n",
    "# if today==soup.select('h1.dddd')[0].text break\n",
    "\n",
    "today = \"\".join(soup.select('h1.dddd')[0].text.split())\n",
    "domain = 'http://www.appledaily.com.tw/'\n",
    "\n",
    "print(len(soup.select('li.rtddt')))\n",
    "for li in soup.select('li.rtddt')[0:10]:\n",
    "    print(\"===================\")\n",
    "#     print(li)\n",
    "    print(li.select('h1')[0].text, \\\n",
    "          '{} {}'.format(today, li.select('time')[0].text), \\\n",
    "          li.select('h2')[0].text, \\\n",
    "          domain + li.select('a')[0]['href'])\n"
   ]
  },
  {
   "cell_type": "code",
   "execution_count": 105,
   "metadata": {
    "collapsed": false
   },
   "outputs": [
    {
     "name": "stdout",
     "output_type": "stream",
     "text": [
      "david@largitdata.com\n",
      "yoyo@gmail.com\n"
     ]
    }
   ],
   "source": [
    "import re\n",
    "emails = ['david@largitdata.com', 'hihi qoo', 'yoyo@gmail.com']\n",
    "for email in emails:\n",
    "    m = re.match('.+@.+' , email)\n",
    "    if m:\n",
    "        print(m.group(0))"
   ]
  },
  {
   "cell_type": "code",
   "execution_count": 107,
   "metadata": {
    "collapsed": false
   },
   "outputs": [
    {
     "name": "stdout",
     "output_type": "stream",
     "text": [
      "david@largitdata.com\n",
      "david\n",
      "largitdata.com\n",
      "yoyo@gmail.com\n",
      "yoyo\n",
      "gmail.com\n"
     ]
    }
   ],
   "source": [
    "import re\n",
    "emails = ['david@largitdata.com', 'hihi qoo', 'yoyo@gmail.com']\n",
    "for email in emails:\n",
    "    m = re.match('(.+)@(.+)' , email)\n",
    "    if m:\n",
    "        print(m.group(0))\n",
    "        print(m.group(1))\n",
    "        print(m.group(2))"
   ]
  },
  {
   "cell_type": "code",
   "execution_count": 110,
   "metadata": {
    "collapsed": false
   },
   "outputs": [
    {
     "name": "stdout",
     "output_type": "stream",
     "text": [
      "【更新】任內最後一次備詢　吳思華語錄在此...(706)\n",
      "【更新】任內最後一次備詢　吳思華語錄在此...\n",
      "706\n"
     ]
    }
   ],
   "source": [
    "import re\n",
    "s = '【更新】任內最後一次備詢　吳思華語錄在此...(706)'\n",
    "m = re.match('(.+)\\((\\d+)\\)', s) # . match anything (include \\d, \\w)\n",
    "print(m.group(0)) # s\n",
    "print(m.group(1)) # (.+)\n",
    "print(m.group(2)) # (\\d+)"
   ]
  },
  {
   "cell_type": "code",
   "execution_count": 115,
   "metadata": {
    "collapsed": false
   },
   "outputs": [
    {
     "name": "stdout",
     "output_type": "stream",
     "text": [
      "2016 / 05 / 07\n",
      "30\n",
      "===================\n",
      "蘇花改觀音隧道「貫通石」　5月12日最後... 0 2016/05/07 17:06 生活 http://www.appledaily.com.tw//realtimenews/article/life/20160507/855526/蘇花改觀音隧道「貫通石」　5月12日最後一次發放\n",
      "===================\n",
      "台塑化今宣布　後天汽、柴油不調整 8 2016/05/07 17:00 生活 http://www.appledaily.com.tw//realtimenews/article/life/20160507/855584/台塑化今宣布　後天汽、柴油不調整\n",
      "===================\n",
      "台大毒氣疑案　校方：師生操作儀器致氟氣外... 90 2016/05/07 16:57 生活 http://www.appledaily.com.tw//realtimenews/article/life/20160507/855622/台大毒氣疑案　校方：師生操作儀器致氟氣外洩\n",
      "===================\n",
      "花蓮中正國小傳工安意外　１工人遭電擊命危 0 2016/05/07 16:56 社會 http://www.appledaily.com.tw//realtimenews/article/local/20160507/855626/花蓮中正國小傳工安意外　１工人遭電擊命危\n",
      "===================\n",
      "蘋果股價墜2年新低　專家：快去買！ 469 2016/05/07 16:53 財經 http://www.appledaily.com.tw//realtimenews/article/finance/20160507/855624/蘋果股價墜2年新低　專家：快去買！\n",
      "===================\n",
      "【有片】張志豪屁股痛痛　繼續挑戰連25場... 432 2016/05/07 16:52 體育 http://www.appledaily.com.tw//realtimenews/article/sports/20160507/855595/【有片】張志豪屁股痛痛　繼續挑戰連25場安打\n",
      "===================\n",
      "【更新】郭俊麟1.2局被KO　火腿8比6... 12047 2016/05/07 16:50 體育 http://www.appledaily.com.tw//realtimenews/article/sports/20160507/855491/【更新】郭俊麟1.2局被KO　火腿8比6勝西武\n",
      "===================\n",
      "忘情觀海困沙洲　輕熟女險滅頂 680 2016/05/07 16:49 社會 http://www.appledaily.com.tw//realtimenews/article/local/20160507/855621/忘情觀海困沙洲　輕熟女險滅頂\n",
      "===================\n",
      "一家4口受困電梯　警消助脫困 305 2016/05/07 16:48 社會 http://www.appledaily.com.tw//realtimenews/article/local/20160507/855619/一家4口受困電梯　警消助脫困\n",
      "===================\n",
      "統一vs.中信　陳韻文vs.希克 254 2016/05/07 16:45 體育 http://www.appledaily.com.tw//realtimenews/article/sports/20160507/855620/統一vs.中信　陳韻文vs.希克\n"
     ]
    }
   ],
   "source": [
    "import requests\n",
    "from bs4 import BeautifulSoup as bs\n",
    "import re\n",
    "\n",
    "res = requests.get('http://www.appledaily.com.tw/realtimenews/section/new/')\n",
    "soup = bs(res.text, 'html.parser')\n",
    "\n",
    "print(soup.select('h1.dddd')[0].text)\n",
    "# if today==soup.select('h1.dddd')[0].text break\n",
    "\n",
    "today = \"\".join(soup.select('h1.dddd')[0].text.split())\n",
    "domain = 'http://www.appledaily.com.tw/'\n",
    "\n",
    "print(len(soup.select('li.rtddt')))\n",
    "for li in soup.select('li.rtddt')[0:10]:\n",
    "    print(\"===================\")\n",
    "    h1 = li.select('h1')[0].text\n",
    "    m = re.match('(.+)\\((\\d+)\\)', h1)\n",
    "    time  = '{} {}'.format(today, li.select('time')[0].text)\n",
    "    category = li.select('h2')[0].text\n",
    "    link = domain + li.select('a')[0]['href']\n",
    "    if m:\n",
    "        title =  m.group(1)\n",
    "        view_cnt = int(m.group(2))\n",
    "        print(title, view_cnt, time, category, link)"
   ]
  },
  {
   "cell_type": "markdown",
   "metadata": {},
   "source": [
    "# DataFrame"
   ]
  },
  {
   "cell_type": "code",
   "execution_count": 121,
   "metadata": {
    "collapsed": false
   },
   "outputs": [
    {
     "name": "stdout",
     "output_type": "stream",
     "text": [
      "32\n",
      "{'John': 30, 'david': 32}\n",
      "32\n"
     ]
    }
   ],
   "source": [
    "names = ['david', 'John']\n",
    "ages = [32, 30]\n",
    "\n",
    "for idx, name in enumerate(names):\n",
    "    if name == 'david':\n",
    "        #print idx\n",
    "        print(ages[idx])\n",
    "\n",
    "#dict zip\n",
    "print(dict(zip(names,ages)))\n",
    "print(dict(zip(names,ages))['david'])"
   ]
  },
  {
   "cell_type": "code",
   "execution_count": 124,
   "metadata": {
    "collapsed": false
   },
   "outputs": [
    {
     "name": "stdout",
     "output_type": "stream",
     "text": [
      "   age   name\n",
      "0   32  david\n",
      "1   30   john\n"
     ]
    }
   ],
   "source": [
    "import pandas\n",
    "df = pandas.DataFrame([{'name':'david', 'age':32}, {'name':'john', 'age':30}])\n",
    "print(df)"
   ]
  },
  {
   "cell_type": "code",
   "execution_count": 126,
   "metadata": {
    "collapsed": false
   },
   "outputs": [
    {
     "name": "stdout",
     "output_type": "stream",
     "text": [
      "0    david\n",
      "1     john\n",
      "Name: name, dtype: object\n",
      "0    32\n",
      "1    30\n",
      "Name: age, dtype: int64\n"
     ]
    }
   ],
   "source": [
    "#by columnname\n",
    "print(df['name'])\n",
    "print(df['age'])"
   ]
  },
  {
   "cell_type": "code",
   "execution_count": 127,
   "metadata": {
    "collapsed": false
   },
   "outputs": [
    {
     "name": "stdout",
     "output_type": "stream",
     "text": [
      "age        32\n",
      "name    david\n",
      "Name: 0, dtype: object\n"
     ]
    }
   ],
   "source": [
    "#by index number\n",
    "print(df.ix[0])"
   ]
  },
  {
   "cell_type": "code",
   "execution_count": 130,
   "metadata": {
    "collapsed": false
   },
   "outputs": [
    {
     "name": "stdout",
     "output_type": "stream",
     "text": [
      "count     2.000000\n",
      "mean     31.000000\n",
      "std       1.414214\n",
      "min      30.000000\n",
      "25%      30.500000\n",
      "50%      31.000000\n",
      "75%      31.500000\n",
      "max      32.000000\n",
      "Name: age, dtype: float64\n",
      "count        2\n",
      "unique       2\n",
      "top       john\n",
      "freq         1\n",
      "Name: name, dtype: object\n"
     ]
    }
   ],
   "source": [
    "print(df['age'].describe())\n",
    "print(df['name'].describe())"
   ]
  },
  {
   "cell_type": "code",
   "execution_count": 132,
   "metadata": {
    "collapsed": false
   },
   "outputs": [
    {
     "name": "stdout",
     "output_type": "stream",
     "text": [
      "2016 / 05 / 07\n",
      "30\n",
      "[{'link': 'http://www.appledaily.com.tw//realtimenews/article/life/20160507/855655/中國施壓讓台經濟衰退？\\u3000網友戳破難堪真相', 'view_cnt': 0, 'category': '生活', 'title': '中國施壓讓台經濟衰退？\\u3000網友戳破難堪真相', 'time': '2016/05/07 17:31'}, {'link': 'http://www.appledaily.com.tw//realtimenews/article/local/20160507/855436/【有片】驚險直擊\\u3000火場屋坍壓傷2消防員', 'view_cnt': 2570, 'category': '社會', 'title': '【有片】驚險直擊\\u3000火場屋坍壓傷2消防員', 'time': '2016/05/07 17:26'}, {'link': 'http://www.appledaily.com.tw//realtimenews/article/life/20160507/855585/226公里超級鐵人賽\\u3000侯怡君與賈永婕的對決', 'view_cnt': 57, 'category': '生活', 'title': '226公里超級鐵人賽\\u3000侯怡君與賈永婕的對...', 'time': '2016/05/07 17:24'}, {'link': 'http://www.appledaily.com.tw//realtimenews/article/sports/20160507/855648/張志豪開季連25場安打\\u3000破日職紀錄', 'view_cnt': 40, 'category': '體育', 'title': '張志豪開季連25場安打\\u3000破日職紀錄', 'time': '2016/05/07 17:24'}, {'link': 'http://www.appledaily.com.tw//realtimenews/article/sports/20160507/855615/【更新】林哲瑄首局開轟\\u3000義大4比0桃猿', 'view_cnt': 532, 'category': '體育', 'title': '【更新】林哲瑄首局開轟\\u3000義大4比0桃猿', 'time': '2016/05/07 17:24'}, {'link': 'http://www.appledaily.com.tw//realtimenews/article/finance/20160507/855650/【母愛最偉大】留住媽媽人才！\\u3000IBM用這招', 'view_cnt': 0, 'category': '財經', 'title': '【母愛最偉大】留住媽媽人才！\\u3000IBM用這...', 'time': '2016/05/07 17:24'}, {'link': 'http://www.appledaily.com.tw//realtimenews/article/life/20160507/855638/台大實驗室氣體外洩\\u3000北市府：已消散', 'view_cnt': 15, 'category': '生活', 'title': '台大實驗室氣體外洩\\u3000北市府：已消散', 'time': '2016/05/07 17:23'}, {'link': 'http://www.appledaily.com.tw//realtimenews/article/international/20160507/855644/中國四知名藥廠止咳藥含硫磺\\u3000吃多損肝腎', 'view_cnt': 88, 'category': '國際', 'title': '中國四知名藥廠止咳藥含硫磺\\u3000吃多損肝腎', 'time': '2016/05/07 17:21'}, {'link': 'http://www.appledaily.com.tw//realtimenews/article/sports/20160507/855645/劉以豪開球\\u3000桃猿復古球衣被虧合庫打義大', 'view_cnt': 132, 'category': '體育', 'title': '劉以豪開球\\u3000桃猿復古球衣被虧合庫打義大', 'time': '2016/05/07 17:21'}, {'link': 'http://www.appledaily.com.tw//realtimenews/article/sports/20160507/855620/【更新】高國慶1分打點安打\\u3000統一先馳得點', 'view_cnt': 958, 'category': '體育', 'title': '【更新】高國慶1分打點安打\\u3000統一先馳得點', 'time': '2016/05/07 17:18'}]\n"
     ]
    }
   ],
   "source": [
    "import requests\n",
    "from bs4 import BeautifulSoup as bs\n",
    "import re\n",
    "\n",
    "res = requests.get('http://www.appledaily.com.tw/realtimenews/section/new/')\n",
    "soup = bs(res.text, 'html.parser')\n",
    "\n",
    "print(soup.select('h1.dddd')[0].text)\n",
    "# if today==soup.select('h1.dddd')[0].text break\n",
    "\n",
    "today = \"\".join(soup.select('h1.dddd')[0].text.split())\n",
    "domain = 'http://www.appledaily.com.tw/'\n",
    "news = []\n",
    "print(len(soup.select('li.rtddt')))\n",
    "for li in soup.select('li.rtddt')[0:10]:\n",
    "#     print(\"===================\")\n",
    "    h1 = li.select('h1')[0].text\n",
    "    m = re.match('(.+)\\((\\d+)\\)', h1)\n",
    "    time  = '{} {}'.format(today, li.select('time')[0].text)\n",
    "    category = li.select('h2')[0].text\n",
    "    link = domain + li.select('a')[0]['href']\n",
    "    if m:\n",
    "        title =  m.group(1)\n",
    "        view_cnt = int(m.group(2))\n",
    "#       print(title, view_cnt, time, category, link)\n",
    "        news.append({'title':title, 'view_cnt':view_cnt, 'time': time, 'category': category, 'link': link})\n",
    "print(news)"
   ]
  },
  {
   "cell_type": "code",
   "execution_count": 134,
   "metadata": {
    "collapsed": false
   },
   "outputs": [
    {
     "name": "stdout",
     "output_type": "stream",
     "text": [
      "10\n",
      "{'link': 'http://www.appledaily.com.tw//realtimenews/article/life/20160507/855655/中國施壓讓台經濟衰退？\\u3000網友戳破難堪真相', 'view_cnt': 0, 'category': '生活', 'title': '中國施壓讓台經濟衰退？\\u3000網友戳破難堪真相', 'time': '2016/05/07 17:31'}\n",
      "中國施壓讓台經濟衰退？　網友戳破難堪真相\n"
     ]
    }
   ],
   "source": [
    "print(len(news))\n",
    "print(news[0])\n",
    "print(news[0]['title'])"
   ]
  },
  {
   "cell_type": "code",
   "execution_count": 139,
   "metadata": {
    "collapsed": false
   },
   "outputs": [
    {
     "data": {
      "text/html": [
       "<div>\n",
       "<table border=\"1\" class=\"dataframe\">\n",
       "  <thead>\n",
       "    <tr style=\"text-align: right;\">\n",
       "      <th></th>\n",
       "      <th>category</th>\n",
       "      <th>link</th>\n",
       "      <th>time</th>\n",
       "      <th>title</th>\n",
       "      <th>view_cnt</th>\n",
       "    </tr>\n",
       "  </thead>\n",
       "  <tbody>\n",
       "    <tr>\n",
       "      <th>0</th>\n",
       "      <td>生活</td>\n",
       "      <td>http://www.appledaily.com.tw//realtimenews/art...</td>\n",
       "      <td>2016/05/07 17:31</td>\n",
       "      <td>中國施壓讓台經濟衰退？　網友戳破難堪真相</td>\n",
       "      <td>0</td>\n",
       "    </tr>\n",
       "    <tr>\n",
       "      <th>1</th>\n",
       "      <td>社會</td>\n",
       "      <td>http://www.appledaily.com.tw//realtimenews/art...</td>\n",
       "      <td>2016/05/07 17:26</td>\n",
       "      <td>【有片】驚險直擊　火場屋坍壓傷2消防員</td>\n",
       "      <td>2570</td>\n",
       "    </tr>\n",
       "    <tr>\n",
       "      <th>2</th>\n",
       "      <td>生活</td>\n",
       "      <td>http://www.appledaily.com.tw//realtimenews/art...</td>\n",
       "      <td>2016/05/07 17:24</td>\n",
       "      <td>226公里超級鐵人賽　侯怡君與賈永婕的對...</td>\n",
       "      <td>57</td>\n",
       "    </tr>\n",
       "    <tr>\n",
       "      <th>3</th>\n",
       "      <td>體育</td>\n",
       "      <td>http://www.appledaily.com.tw//realtimenews/art...</td>\n",
       "      <td>2016/05/07 17:24</td>\n",
       "      <td>張志豪開季連25場安打　破日職紀錄</td>\n",
       "      <td>40</td>\n",
       "    </tr>\n",
       "    <tr>\n",
       "      <th>4</th>\n",
       "      <td>體育</td>\n",
       "      <td>http://www.appledaily.com.tw//realtimenews/art...</td>\n",
       "      <td>2016/05/07 17:24</td>\n",
       "      <td>【更新】林哲瑄首局開轟　義大4比0桃猿</td>\n",
       "      <td>532</td>\n",
       "    </tr>\n",
       "  </tbody>\n",
       "</table>\n",
       "</div>"
      ],
      "text/plain": [
       "  category                                               link  \\\n",
       "0       生活  http://www.appledaily.com.tw//realtimenews/art...   \n",
       "1       社會  http://www.appledaily.com.tw//realtimenews/art...   \n",
       "2       生活  http://www.appledaily.com.tw//realtimenews/art...   \n",
       "3       體育  http://www.appledaily.com.tw//realtimenews/art...   \n",
       "4       體育  http://www.appledaily.com.tw//realtimenews/art...   \n",
       "\n",
       "               time                    title  view_cnt  \n",
       "0  2016/05/07 17:31     中國施壓讓台經濟衰退？　網友戳破難堪真相         0  \n",
       "1  2016/05/07 17:26      【有片】驚險直擊　火場屋坍壓傷2消防員      2570  \n",
       "2  2016/05/07 17:24  226公里超級鐵人賽　侯怡君與賈永婕的對...        57  \n",
       "3  2016/05/07 17:24        張志豪開季連25場安打　破日職紀錄        40  \n",
       "4  2016/05/07 17:24      【更新】林哲瑄首局開轟　義大4比0桃猿       532  "
      ]
     },
     "execution_count": 139,
     "metadata": {},
     "output_type": "execute_result"
    }
   ],
   "source": [
    "import pandas as pd\n",
    "df = pd.DataFrame(news)\n",
    "df.head()"
   ]
  },
  {
   "cell_type": "code",
   "execution_count": 140,
   "metadata": {
    "collapsed": false
   },
   "outputs": [
    {
     "data": {
      "text/plain": [
       "count      10.000000\n",
       "mean      439.200000\n",
       "std       810.141524\n",
       "min         0.000000\n",
       "25%        21.250000\n",
       "50%        72.500000\n",
       "75%       432.000000\n",
       "max      2570.000000\n",
       "Name: view_cnt, dtype: float64"
      ]
     },
     "execution_count": 140,
     "metadata": {},
     "output_type": "execute_result"
    }
   ],
   "source": [
    " df['view_cnt'].describe()"
   ]
  },
  {
   "cell_type": "markdown",
   "metadata": {},
   "source": [
    "# Create Function"
   ]
  },
  {
   "cell_type": "code",
   "execution_count": 142,
   "metadata": {
    "collapsed": false
   },
   "outputs": [
    {
     "name": "stdout",
     "output_type": "stream",
     "text": [
      "4\n",
      "3\n"
     ]
    }
   ],
   "source": [
    "def a(a = 1,  b = 2):\n",
    "    return a + b\n",
    "\n",
    "print(a(2,2))\n",
    "print(a())"
   ]
  },
  {
   "cell_type": "code",
   "execution_count": 143,
   "metadata": {
    "collapsed": false
   },
   "outputs": [
    {
     "name": "stdout",
     "output_type": "stream",
     "text": [
      "Hi my name is david and my age is 32 years'old\n",
      "Hi my name is david and my age is 32 years'old\n"
     ]
    }
   ],
   "source": [
    "name ='david'\n",
    "age = '32'\n",
    "print(\"Hi my name is \" + name + ' and my age is ' + age + \" years'old\")\n",
    "print(\"Hi my name is {} and my age is {} years'old\".format(name, age))"
   ]
  },
  {
   "cell_type": "code",
   "execution_count": 145,
   "metadata": {
    "collapsed": false
   },
   "outputs": [
    {
     "name": "stdout",
     "output_type": "stream",
     "text": [
      "[1, 2, 3, 2, 3, 4]\n"
     ]
    }
   ],
   "source": [
    "a = [1,2,3]\n",
    "b = [2,3,4]\n",
    "a.extend(b)\n",
    "print(a)"
   ]
  },
  {
   "cell_type": "code",
   "execution_count": 148,
   "metadata": {
    "collapsed": false
   },
   "outputs": [
    {
     "name": "stdout",
     "output_type": "stream",
     "text": [
      "1\n",
      "2\n",
      "3\n",
      "4\n",
      "5\n",
      "6\n",
      "7\n",
      "8\n",
      "9\n",
      "10\n"
     ]
    }
   ],
   "source": [
    "for i in range(1,11): # for(int i = 1 ; i < 11; i++)\n",
    "    print(i)"
   ]
  },
  {
   "cell_type": "code",
   "execution_count": 76,
   "metadata": {
    "collapsed": false
   },
   "outputs": [
    {
     "data": {
      "text/plain": [
       "str"
      ]
     },
     "execution_count": 76,
     "metadata": {},
     "output_type": "execute_result"
    }
   ],
   "source": [
    "import time\n",
    "time1='2016/05/11 00:00'\n",
    "time2='2016/05/11 12:00'\n",
    "time2 < time1\n",
    "type(time1)"
   ]
  },
  {
   "cell_type": "code",
   "execution_count": 93,
   "metadata": {
    "collapsed": false
   },
   "outputs": [],
   "source": [
    "import requests\n",
    "from bs4 import BeautifulSoup as bs\n",
    "import re\n",
    "import time\n",
    "\n",
    "localtime = time.strftime(\"%H/%M\")\n",
    "domain = 'http://www.appledaily.com.tw/'\n",
    "stopFlag = False\n",
    "\n",
    "def getPageNews(page=1):\n",
    "    res = requests.get('http://www.appledaily.com.tw/realtimenews/section/new/{}'.format(page))\n",
    "    soup = bs(res.text, 'html.parser')\n",
    "\n",
    "#     print(soup.select('h1.dddd')[0].text)\n",
    "    # if today==soup.select('h1.dddd')[0].text break\n",
    "\n",
    "    today = \"\".join(soup.select('h1.dddd')[0].text.split())\n",
    "    news = []\n",
    "    time = today+' 23:59:59'\n",
    "#     print(len(soup.select('li.rtddt')))\n",
    "    for li in soup.select('li.rtddt'):\n",
    "    #     print(\"===================\")\n",
    "        h1 = li.select('h1')[0].text\n",
    "        m = re.match('(.+)\\((\\d+)\\)', h1)\n",
    "        if(time < '{} {}'.format(today, li.select('time')[0].text)):\n",
    "            stopFlag = True\n",
    "            break\n",
    "        time  = '{} {}'.format(today, li.select('time')[0].text)\n",
    "        category = li.select('h2')[0].text\n",
    "        link = domain + li.select('a')[0]['href']\n",
    "        if m:\n",
    "            title =  m.group(1)\n",
    "            view_cnt = int(m.group(2))\n",
    "    #       print(title, view_cnt, time, category, link)\n",
    "            news.append({'title':title, 'view_cnt':view_cnt, 'time': time, 'category': category, 'link': link})\n",
    " \n",
    "#     print(news)\n",
    "    return news"
   ]
  },
  {
   "cell_type": "code",
   "execution_count": 94,
   "metadata": {
    "collapsed": false
   },
   "outputs": [
    {
     "data": {
      "text/plain": [
       "[{'category': '娛樂',\n",
       "  'link': 'http://www.appledaily.com.tw//realtimenews/article/entertainment/20160511/858009/真的「很有事」\\u3000林心如拍片意外頻傳',\n",
       "  'time': '2016/05/11 00:11',\n",
       "  'title': '真的「很有事」\\u3000林心如拍片意外頻傳',\n",
       "  'view_cnt': 10273},\n",
       " {'category': '論壇',\n",
       "  'link': 'http://www.appledaily.com.tw//realtimenews/article/forum/20160511/857800/胡晴舫：蘇格拉底的暴君',\n",
       "  'time': '2016/05/11 00:10',\n",
       "  'title': '胡晴舫：蘇格拉底的暴君',\n",
       "  'view_cnt': 2230},\n",
       " {'category': '娛樂',\n",
       "  'link': 'http://www.appledaily.com.tw//realtimenews/article/entertainment/20160511/858156/小珍妮佛這次沒摔\\u3000上夜店倒出D級豪乳',\n",
       "  'time': '2016/05/11 00:09',\n",
       "  'title': '小珍妮佛這次沒摔\\u3000上夜店倒出D級豪乳',\n",
       "  'view_cnt': 18667},\n",
       " {'category': '論壇',\n",
       "  'link': 'http://www.appledaily.com.tw//realtimenews/article/forum/20160511/857794/廢除國中會考回歸基測',\n",
       "  'time': '2016/05/11 00:08',\n",
       "  'title': '廢除國中會考  回歸基測',\n",
       "  'view_cnt': 6406},\n",
       " {'category': '生活',\n",
       "  'link': 'http://www.appledaily.com.tw//realtimenews/article/life/20160511/857949/2倍薪好心酸\\u3000做粗工雙手沾鉛被鄙視',\n",
       "  'time': '2016/05/11 00:07',\n",
       "  'title': '2倍薪好心酸\\u3000做粗工雙手沾鉛被鄙視',\n",
       "  'view_cnt': 21525},\n",
       " {'category': '論壇',\n",
       "  'link': 'http://www.appledaily.com.tw//realtimenews/article/forum/20160511/857768/獨董不是官員的庇護所',\n",
       "  'time': '2016/05/11 00:06',\n",
       "  'title': '獨董不是官員的庇護所',\n",
       "  'view_cnt': 2372},\n",
       " {'category': '生活',\n",
       "  'link': 'http://www.appledaily.com.tw//realtimenews/article/life/20160511/857749/最難訂位餐廳\\u3000阿姨吃到飽還帶著走',\n",
       "  'time': '2016/05/11 00:05',\n",
       "  'title': '最難訂位餐廳\\u3000阿姨吃到飽還帶著走',\n",
       "  'view_cnt': 25592},\n",
       " {'category': '社會',\n",
       "  'link': 'http://www.appledaily.com.tw//realtimenews/article/local/20160511/858175/43死囚只槍決鄭捷\\u3000原因在此',\n",
       "  'time': '2016/05/11 00:05',\n",
       "  'title': '43死囚只槍決鄭捷\\u3000原因在此',\n",
       "  'view_cnt': 168159},\n",
       " {'category': '社會',\n",
       "  'link': 'http://www.appledaily.com.tw//realtimenews/article/local/20160511/858184/【槍決效應】白玫瑰憂司法院不敢判死',\n",
       "  'time': '2016/05/11 00:05',\n",
       "  'title': '【槍決效應】白玫瑰憂司法院不敢判死',\n",
       "  'view_cnt': 15734},\n",
       " {'category': '壹週刊',\n",
       "  'link': 'http://www.appledaily.com.tw//realtimenews/article/nextmag/20160511/858191/【壹週刊】【獨家】D奶尹馨勾搭新同志天菜\\u3000「直覺有女友」',\n",
       "  'time': '2016/05/11 00:05',\n",
       "  'title': '【壹週刊】【獨家】D奶尹馨勾搭新同志天菜...',\n",
       "  'view_cnt': 16254},\n",
       " {'category': '論壇',\n",
       "  'link': 'http://www.appledaily.com.tw//realtimenews/article/forum/20160511/852241/劉黎兒：老婆只要你做愛半小時',\n",
       "  'time': '2016/05/11 00:04',\n",
       "  'title': '劉黎兒：老婆只要你做愛半小時',\n",
       "  'view_cnt': 12939},\n",
       " {'category': '正妹',\n",
       "  'link': 'http://www.appledaily.com.tw//realtimenews/article/beauty/20160511/858198/【動新聞】設計師當Coser\\u3000扮娜美南半球好搶鏡',\n",
       "  'time': '2016/05/11 00:03',\n",
       "  'title': '【動新聞】設計師當Coser\\u3000扮娜美南半...',\n",
       "  'view_cnt': 14582},\n",
       " {'category': '論壇',\n",
       "  'link': 'http://www.appledaily.com.tw//realtimenews/article/forum/20160511/852134/許佑生：叫春免責權大戰',\n",
       "  'time': '2016/05/11 00:02',\n",
       "  'title': '許佑生：叫春免責權大戰',\n",
       "  'view_cnt': 3958},\n",
       " {'category': '社會',\n",
       "  'link': 'http://www.appledaily.com.tw//realtimenews/article/local/20160511/858192/3度輔導鄭捷\\u3000應曉薇：他很可怕、不認有錯',\n",
       "  'time': '2016/05/11 00:02',\n",
       "  'title': '3度輔導鄭捷\\u3000應曉薇：他很可怕、不認有錯',\n",
       "  'view_cnt': 90760},\n",
       " {'category': '體育',\n",
       "  'link': 'http://www.appledaily.com.tw//realtimenews/article/sports/20160511/858205/【動新聞】陳偉殷明戰釀酒人挑戰本季第3勝',\n",
       "  'time': '2016/05/11 00:02',\n",
       "  'title': '【動新聞】陳偉殷明戰釀酒人挑戰本季第3勝',\n",
       "  'view_cnt': 6815},\n",
       " {'category': '財經',\n",
       "  'link': 'http://www.appledaily.com.tw//realtimenews/article/finance/20160511/858082/5月11日(三)\\u3000全球重要經濟數據預覽',\n",
       "  'time': '2016/05/11 00:01',\n",
       "  'title': '5月11日(三)\\u3000全球重要經濟數據預覽',\n",
       "  'view_cnt': 1097},\n",
       " {'category': '論壇',\n",
       "  'link': 'http://www.appledaily.com.tw//realtimenews/article/forum/20160511/851427/吳若權：趁早開除豬頭老闆',\n",
       "  'time': '2016/05/11 00:00',\n",
       "  'title': '吳若權：趁早開除豬頭老闆',\n",
       "  'view_cnt': 3286},\n",
       " {'category': '社會',\n",
       "  'link': 'http://www.appledaily.com.tw//realtimenews/article/local/20160511/854495/【法律問蘋果】父過世屋遭佔用\\u3000子女可這樣討回',\n",
       "  'time': '2016/05/11 00:00',\n",
       "  'title': '【法律問蘋果】父過世屋遭佔用\\u3000子女可這樣...',\n",
       "  'view_cnt': 7614},\n",
       " {'category': '搜奇',\n",
       "  'link': 'http://www.appledaily.com.tw//realtimenews/article/strange/20160511/858116/100包洋芋片放火燒\\u3000網友：脂肪的憤怒',\n",
       "  'time': '2016/05/11 00:00',\n",
       "  'title': '100包洋芋片放火燒\\u3000網友：脂肪的憤怒',\n",
       "  'view_cnt': 9090},\n",
       " {'category': '社會',\n",
       "  'link': 'http://www.appledaily.com.tw//realtimenews/article/local/20160511/858127/教誨師眼中的鄭捷\\u3000「彷彿人間鬼魅」',\n",
       "  'time': '2016/05/11 00:00',\n",
       "  'title': '教誨師眼中的鄭捷\\u3000「彷彿人間鬼魅」',\n",
       "  'view_cnt': 70244},\n",
       " {'category': '體育',\n",
       "  'link': 'http://www.appledaily.com.tw//realtimenews/article/sports/20160511/858187/哈登重口味\\u3000把妹專挑人妻下手',\n",
       "  'time': '2016/05/11 00:00',\n",
       "  'title': '哈登重口味\\u3000把妹專挑人妻下手',\n",
       "  'view_cnt': 12221}]"
      ]
     },
     "execution_count": 94,
     "metadata": {},
     "output_type": "execute_result"
    }
   ],
   "source": [
    "getPageNews(9)"
   ]
  },
  {
   "cell_type": "code",
   "execution_count": 149,
   "metadata": {
    "collapsed": false
   },
   "outputs": [
    {
     "name": "stdout",
     "output_type": "stream",
     "text": [
      "Help on built-in function print in module builtins:\n",
      "\n",
      "print(...)\n",
      "    print(value, ..., sep=' ', end='\\n', file=sys.stdout, flush=False)\n",
      "    \n",
      "    Prints the values to a stream, or to sys.stdout by default.\n",
      "    Optional keyword arguments:\n",
      "    file:  a file-like object (stream); defaults to the current sys.stdout.\n",
      "    sep:   string inserted between values, default a space.\n",
      "    end:   string appended after the last value, default a newline.\n",
      "    flush: whether to forcibly flush the stream.\n",
      "\n"
     ]
    }
   ],
   "source": [
    "help(print)"
   ]
  },
  {
   "cell_type": "code",
   "execution_count": 2,
   "metadata": {
    "collapsed": false
   },
   "outputs": [
    {
     "name": "stdout",
     "output_type": "stream",
     "text": [
      "1 2 3 4 5 6 7 8 9 10 "
     ]
    }
   ],
   "source": [
    "newsall = []\n",
    "for i in range(1,11): # for(int i = 0 ; i < 11; i++)\n",
    "    newsall.extend(getPageNews(i))\n",
    "    print(i, end=' ')"
   ]
  },
  {
   "cell_type": "code",
   "execution_count": 3,
   "metadata": {
    "collapsed": false
   },
   "outputs": [
    {
     "name": "stdout",
     "output_type": "stream",
     "text": [
      "300\n"
     ]
    },
    {
     "data": {
      "text/plain": [
       "category    300\n",
       "link        300\n",
       "time        300\n",
       "title       300\n",
       "view_cnt    300\n",
       "dtype: int64"
      ]
     },
     "execution_count": 3,
     "metadata": {},
     "output_type": "execute_result"
    }
   ],
   "source": [
    "import pandas as pd\n",
    "print(len(newsall))\n",
    "newspd = pd.DataFrame(newsall)\n",
    "newspd.count() "
   ]
  },
  {
   "cell_type": "code",
   "execution_count": 4,
   "metadata": {
    "collapsed": false
   },
   "outputs": [
    {
     "data": {
      "text/html": [
       "<div>\n",
       "<table border=\"1\" class=\"dataframe\">\n",
       "  <thead>\n",
       "    <tr style=\"text-align: right;\">\n",
       "      <th></th>\n",
       "      <th>category</th>\n",
       "      <th>link</th>\n",
       "      <th>time</th>\n",
       "      <th>title</th>\n",
       "      <th>view_cnt</th>\n",
       "    </tr>\n",
       "  </thead>\n",
       "  <tbody>\n",
       "    <tr>\n",
       "      <th>0</th>\n",
       "      <td>財經</td>\n",
       "      <td>http://www.appledaily.com.tw//realtimenews/art...</td>\n",
       "      <td>2016/05/10 10:04</td>\n",
       "      <td>​英仁套幣今亮相　李紀珠：我已預購不止1...</td>\n",
       "      <td>0</td>\n",
       "    </tr>\n",
       "    <tr>\n",
       "      <th>1</th>\n",
       "      <td>生活</td>\n",
       "      <td>http://www.appledaily.com.tw//realtimenews/art...</td>\n",
       "      <td>2016/05/10 10:01</td>\n",
       "      <td>飲料店打工7年的他告訴你　喝的這個是假的</td>\n",
       "      <td>445</td>\n",
       "    </tr>\n",
       "    <tr>\n",
       "      <th>2</th>\n",
       "      <td>財經</td>\n",
       "      <td>http://www.appledaily.com.tw//realtimenews/art...</td>\n",
       "      <td>2016/05/10 10:01</td>\n",
       "      <td>外資撤出台股　王儷玲：勿負面解讀</td>\n",
       "      <td>0</td>\n",
       "    </tr>\n",
       "    <tr>\n",
       "      <th>3</th>\n",
       "      <td>娛樂</td>\n",
       "      <td>http://www.appledaily.com.tw//realtimenews/art...</td>\n",
       "      <td>2016/05/10 10:00</td>\n",
       "      <td>【有片】寶寶不哭～陳海茵妙招哄喜羊羊</td>\n",
       "      <td>23</td>\n",
       "    </tr>\n",
       "    <tr>\n",
       "      <th>4</th>\n",
       "      <td>政治</td>\n",
       "      <td>http://www.appledaily.com.tw//realtimenews/art...</td>\n",
       "      <td>2016/05/10 10:00</td>\n",
       "      <td>【財訊】小英真正的左右手　劉建忻、陳俊麟...</td>\n",
       "      <td>0</td>\n",
       "    </tr>\n",
       "  </tbody>\n",
       "</table>\n",
       "</div>"
      ],
      "text/plain": [
       "  category                                               link  \\\n",
       "0       財經  http://www.appledaily.com.tw//realtimenews/art...   \n",
       "1       生活  http://www.appledaily.com.tw//realtimenews/art...   \n",
       "2       財經  http://www.appledaily.com.tw//realtimenews/art...   \n",
       "3       娛樂  http://www.appledaily.com.tw//realtimenews/art...   \n",
       "4       政治  http://www.appledaily.com.tw//realtimenews/art...   \n",
       "\n",
       "               time                    title  view_cnt  \n",
       "0  2016/05/10 10:04  ​英仁套幣今亮相　李紀珠：我已預購不止1...         0  \n",
       "1  2016/05/10 10:01     飲料店打工7年的他告訴你　喝的這個是假的       445  \n",
       "2  2016/05/10 10:01         外資撤出台股　王儷玲：勿負面解讀         0  \n",
       "3  2016/05/10 10:00       【有片】寶寶不哭～陳海茵妙招哄喜羊羊        23  \n",
       "4  2016/05/10 10:00  【財訊】小英真正的左右手　劉建忻、陳俊麟...         0  "
      ]
     },
     "execution_count": 4,
     "metadata": {},
     "output_type": "execute_result"
    }
   ],
   "source": [
    "newspd.head()"
   ]
  },
  {
   "cell_type": "code",
   "execution_count": 6,
   "metadata": {
    "collapsed": false
   },
   "outputs": [
    {
     "data": {
      "text/html": [
       "<div>\n",
       "<table border=\"1\" class=\"dataframe\">\n",
       "  <thead>\n",
       "    <tr style=\"text-align: right;\">\n",
       "      <th></th>\n",
       "      <th>category</th>\n",
       "      <th>link</th>\n",
       "      <th>time</th>\n",
       "      <th>title</th>\n",
       "      <th>view_cnt</th>\n",
       "    </tr>\n",
       "  </thead>\n",
       "  <tbody>\n",
       "    <tr>\n",
       "      <th>233</th>\n",
       "      <td>3C</td>\n",
       "      <td>http://www.appledaily.com.tw//realtimenews/art...</td>\n",
       "      <td>2016/05/10 22:59</td>\n",
       "      <td>【影片 】LINE更新超有感　值得升級</td>\n",
       "      <td>131375</td>\n",
       "    </tr>\n",
       "    <tr>\n",
       "      <th>141</th>\n",
       "      <td>娛樂</td>\n",
       "      <td>http://www.appledaily.com.tw//realtimenews/art...</td>\n",
       "      <td>2016/05/10 01:18</td>\n",
       "      <td>男偶像臉書粉絲91萬　演唱會票房比謝金燕...</td>\n",
       "      <td>111180</td>\n",
       "    </tr>\n",
       "    <tr>\n",
       "      <th>227</th>\n",
       "      <td>社會</td>\n",
       "      <td>http://www.appledaily.com.tw//realtimenews/art...</td>\n",
       "      <td>2016/05/10 23:14</td>\n",
       "      <td>大魯閣草衙道外牆剝落　2大人傷頭1孩童破...</td>\n",
       "      <td>100820</td>\n",
       "    </tr>\n",
       "    <tr>\n",
       "      <th>234</th>\n",
       "      <td>政治</td>\n",
       "      <td>http://www.appledaily.com.tw//realtimenews/art...</td>\n",
       "      <td>2016/05/10 22:57</td>\n",
       "      <td>【獨家】等不到520名單　業者揚言不調車...</td>\n",
       "      <td>88752</td>\n",
       "    </tr>\n",
       "    <tr>\n",
       "      <th>103</th>\n",
       "      <td>社會</td>\n",
       "      <td>http://www.appledaily.com.tw//realtimenews/art...</td>\n",
       "      <td>2016/05/10 06:59</td>\n",
       "      <td>15歲蹺家少年年賺千萬？　他找出4大疑點</td>\n",
       "      <td>84883</td>\n",
       "    </tr>\n",
       "  </tbody>\n",
       "</table>\n",
       "</div>"
      ],
      "text/plain": [
       "    category                                               link  \\\n",
       "233       3C  http://www.appledaily.com.tw//realtimenews/art...   \n",
       "141       娛樂  http://www.appledaily.com.tw//realtimenews/art...   \n",
       "227       社會  http://www.appledaily.com.tw//realtimenews/art...   \n",
       "234       政治  http://www.appledaily.com.tw//realtimenews/art...   \n",
       "103       社會  http://www.appledaily.com.tw//realtimenews/art...   \n",
       "\n",
       "                 time                    title  view_cnt  \n",
       "233  2016/05/10 22:59      【影片 】LINE更新超有感　值得升級    131375  \n",
       "141  2016/05/10 01:18  男偶像臉書粉絲91萬　演唱會票房比謝金燕...    111180  \n",
       "227  2016/05/10 23:14  大魯閣草衙道外牆剝落　2大人傷頭1孩童破...    100820  \n",
       "234  2016/05/10 22:57  【獨家】等不到520名單　業者揚言不調車...     88752  \n",
       "103  2016/05/10 06:59     15歲蹺家少年年賺千萬？　他找出4大疑點     84883  "
      ]
     },
     "execution_count": 6,
     "metadata": {},
     "output_type": "execute_result"
    }
   ],
   "source": [
    "newspd.sort_values(by=['view_cnt'],ascending=False).head()"
   ]
  },
  {
   "cell_type": "code",
   "execution_count": 5,
   "metadata": {
    "collapsed": false
   },
   "outputs": [
    {
     "data": {
      "text/plain": [
       "category\n",
       "3C     131375\n",
       "娛樂     111180\n",
       "社會     100820\n",
       "政治      88752\n",
       "生活      83764\n",
       "國際      44644\n",
       "正妹      42634\n",
       "搜奇      30130\n",
       "論壇      14904\n",
       "體育      11053\n",
       "財經      10884\n",
       "壹週刊     10480\n",
       "動物       7630\n",
       "時尚       6438\n",
       "地產       4439\n",
       "Name: view_cnt, dtype: int64"
      ]
     },
     "execution_count": 5,
     "metadata": {},
     "output_type": "execute_result"
    }
   ],
   "source": [
    "df1=newspd.groupby(['category'])['view_cnt'].max().sort_values(ascending=False)\n",
    "df1"
   ]
  },
  {
   "cell_type": "code",
   "execution_count": 7,
   "metadata": {
    "collapsed": false
   },
   "outputs": [
    {
     "data": {
      "text/plain": [
       "category       \n",
       "3C        count         9.000000\n",
       "          mean      18963.000000\n",
       "          std       42668.692533\n",
       "          min         236.000000\n",
       "          25%        1763.000000\n",
       "          50%        2990.000000\n",
       "          75%        4827.000000\n",
       "          max      131375.000000\n",
       "動物        count         8.000000\n",
       "          mean       4344.500000\n",
       "          std        1807.478433\n",
       "          min        2790.000000\n",
       "          25%        2973.250000\n",
       "          50%        3511.000000\n",
       "          75%        5559.250000\n",
       "          max        7630.000000\n",
       "國際        count        67.000000\n",
       "          mean       4024.208955\n",
       "          std        6452.838789\n",
       "          min          24.000000\n",
       "          25%        1075.000000\n",
       "          50%        1676.000000\n",
       "          75%        4751.500000\n",
       "          max       44644.000000\n",
       "地產        count         1.000000\n",
       "          mean       4439.000000\n",
       "          std                NaN\n",
       "          min        4439.000000\n",
       "          25%        4439.000000\n",
       "          50%        4439.000000\n",
       "                       ...      \n",
       "社會        std       23596.280948\n",
       "          min          41.000000\n",
       "          25%        5211.250000\n",
       "          50%        9585.500000\n",
       "          75%       21130.500000\n",
       "          max      100820.000000\n",
       "論壇        count        15.000000\n",
       "          mean       3585.666667\n",
       "          std        3711.321591\n",
       "          min         735.000000\n",
       "          25%        1629.500000\n",
       "          50%        2348.000000\n",
       "          75%        3551.500000\n",
       "          max       14904.000000\n",
       "財經        count        32.000000\n",
       "          mean       2585.187500\n",
       "          std        3031.793767\n",
       "          min           0.000000\n",
       "          25%         484.750000\n",
       "          50%        1285.500000\n",
       "          75%        3354.250000\n",
       "          max       10884.000000\n",
       "體育        count        10.000000\n",
       "          mean       3607.900000\n",
       "          std        3189.532723\n",
       "          min         126.000000\n",
       "          25%        2178.000000\n",
       "          50%        2696.500000\n",
       "          75%        3646.000000\n",
       "          max       11053.000000\n",
       "dtype: float64"
      ]
     },
     "execution_count": 7,
     "metadata": {},
     "output_type": "execute_result"
    }
   ],
   "source": [
    "df1=newspd.groupby(['category'])['view_cnt'].describe()\n",
    "df1  "
   ]
  },
  {
   "cell_type": "code",
   "execution_count": 38,
   "metadata": {
    "collapsed": false
   },
   "outputs": [
    {
     "data": {
      "text/html": [
       "<div>\n",
       "<table border=\"1\" class=\"dataframe\">\n",
       "  <thead>\n",
       "    <tr style=\"text-align: right;\">\n",
       "      <th></th>\n",
       "      <th>category</th>\n",
       "      <th>link</th>\n",
       "      <th>time</th>\n",
       "      <th>title</th>\n",
       "      <th>view_cnt</th>\n",
       "    </tr>\n",
       "  </thead>\n",
       "  <tbody>\n",
       "    <tr>\n",
       "      <th>227</th>\n",
       "      <td>社會</td>\n",
       "      <td>http://www.appledaily.com.tw//realtimenews/art...</td>\n",
       "      <td>2016/05/10 23:14</td>\n",
       "      <td>大魯閣草衙道外牆剝落　2大人傷頭1孩童破...</td>\n",
       "      <td>100820</td>\n",
       "    </tr>\n",
       "    <tr>\n",
       "      <th>103</th>\n",
       "      <td>社會</td>\n",
       "      <td>http://www.appledaily.com.tw//realtimenews/art...</td>\n",
       "      <td>2016/05/10 06:59</td>\n",
       "      <td>15歲蹺家少年年賺千萬？　他找出4大疑點</td>\n",
       "      <td>84883</td>\n",
       "    </tr>\n",
       "    <tr>\n",
       "      <th>101</th>\n",
       "      <td>社會</td>\n",
       "      <td>http://www.appledaily.com.tw//realtimenews/art...</td>\n",
       "      <td>2016/05/10 07:01</td>\n",
       "      <td>男友回妻子身邊　女大生哭求：我甘願作小</td>\n",
       "      <td>69511</td>\n",
       "    </tr>\n",
       "    <tr>\n",
       "      <th>113</th>\n",
       "      <td>社會</td>\n",
       "      <td>http://www.appledaily.com.tw//realtimenews/art...</td>\n",
       "      <td>2016/05/10 06:15</td>\n",
       "      <td>老公全裸、小三嬌叫　老婆抓姦超傻眼</td>\n",
       "      <td>50209</td>\n",
       "    </tr>\n",
       "    <tr>\n",
       "      <th>184</th>\n",
       "      <td>社會</td>\n",
       "      <td>http://www.appledaily.com.tw//realtimenews/art...</td>\n",
       "      <td>2016/05/10 00:15</td>\n",
       "      <td>他讓女網友在高檔飯店過夜　下場竟這樣</td>\n",
       "      <td>47306</td>\n",
       "    </tr>\n",
       "  </tbody>\n",
       "</table>\n",
       "</div>"
      ],
      "text/plain": [
       "    category                                               link  \\\n",
       "227       社會  http://www.appledaily.com.tw//realtimenews/art...   \n",
       "103       社會  http://www.appledaily.com.tw//realtimenews/art...   \n",
       "101       社會  http://www.appledaily.com.tw//realtimenews/art...   \n",
       "113       社會  http://www.appledaily.com.tw//realtimenews/art...   \n",
       "184       社會  http://www.appledaily.com.tw//realtimenews/art...   \n",
       "\n",
       "                 time                    title  view_cnt  \n",
       "227  2016/05/10 23:14  大魯閣草衙道外牆剝落　2大人傷頭1孩童破...    100820  \n",
       "103  2016/05/10 06:59     15歲蹺家少年年賺千萬？　他找出4大疑點     84883  \n",
       "101  2016/05/10 07:01      男友回妻子身邊　女大生哭求：我甘願作小     69511  \n",
       "113  2016/05/10 06:15       老公全裸、小三嬌叫　老婆抓姦超傻眼　     50209  \n",
       "184  2016/05/10 00:15       他讓女網友在高檔飯店過夜　下場竟這樣     47306  "
      ]
     },
     "execution_count": 38,
     "metadata": {},
     "output_type": "execute_result"
    }
   ],
   "source": [
    "newspd[newspd.category=='社會'].sort_values(by=['view_cnt'],ascending=False).head()"
   ]
  },
  {
   "cell_type": "code",
   "execution_count": 69,
   "metadata": {
    "collapsed": false
   },
   "outputs": [
    {
     "data": {
      "text/plain": [
       "Index(['category', 'link', 'time', 'title', 'view_cnt'], dtype='object')"
      ]
     },
     "execution_count": 69,
     "metadata": {},
     "output_type": "execute_result"
    }
   ],
   "source": [
    "# Dataframe中取出column name\n",
    "newspd.columns"
   ]
  },
  {
   "cell_type": "code",
   "execution_count": 98,
   "metadata": {
    "collapsed": false
   },
   "outputs": [
    {
     "data": {
      "text/plain": [
       "['3C',\n",
       " '動物',\n",
       " '國際',\n",
       " '地產',\n",
       " '壹週刊',\n",
       " '娛樂',\n",
       " '搜奇',\n",
       " '政治',\n",
       " '時尚',\n",
       " '正妹',\n",
       " '生活',\n",
       " '社會',\n",
       " '論壇',\n",
       " '財經',\n",
       " '體育']"
      ]
     },
     "execution_count": 98,
     "metadata": {},
     "output_type": "execute_result"
    }
   ],
   "source": [
    "# Dataframe中取出不重覆的類別名稱\n",
    "a = sorted(newspd['category'].unique())\n",
    "a"
   ]
  },
  {
   "cell_type": "code",
   "execution_count": 101,
   "metadata": {
    "collapsed": false
   },
   "outputs": [
    {
     "data": {
      "text/html": [
       "<div>\n",
       "<table border=\"1\" class=\"dataframe\">\n",
       "  <thead>\n",
       "    <tr style=\"text-align: right;\">\n",
       "      <th></th>\n",
       "      <th>category</th>\n",
       "      <th>link</th>\n",
       "      <th>time</th>\n",
       "      <th>title</th>\n",
       "      <th>view_cnt</th>\n",
       "    </tr>\n",
       "  </thead>\n",
       "  <tbody>\n",
       "    <tr>\n",
       "      <th>12</th>\n",
       "      <td>體育</td>\n",
       "      <td>http://www.appledaily.com.tw//realtimenews/art...</td>\n",
       "      <td>2016/05/10 09:52</td>\n",
       "      <td>【更新】基伊一人搞定5.1局　王建民連5...</td>\n",
       "      <td>11053</td>\n",
       "    </tr>\n",
       "    <tr>\n",
       "      <th>130</th>\n",
       "      <td>財經</td>\n",
       "      <td>http://www.appledaily.com.tw//realtimenews/art...</td>\n",
       "      <td>2016/05/10 02:54</td>\n",
       "      <td>《巴拿馬文件》資料庫揭密　台灣近2萬筆客...</td>\n",
       "      <td>10884</td>\n",
       "    </tr>\n",
       "    <tr>\n",
       "      <th>190</th>\n",
       "      <td>論壇</td>\n",
       "      <td>http://www.appledaily.com.tw//realtimenews/art...</td>\n",
       "      <td>2016/05/10 00:10</td>\n",
       "      <td>新政府立馬讓支持者傻眼</td>\n",
       "      <td>14904</td>\n",
       "    </tr>\n",
       "    <tr>\n",
       "      <th>227</th>\n",
       "      <td>社會</td>\n",
       "      <td>http://www.appledaily.com.tw//realtimenews/art...</td>\n",
       "      <td>2016/05/10 23:14</td>\n",
       "      <td>大魯閣草衙道外牆剝落　2大人傷頭1孩童破...</td>\n",
       "      <td>100820</td>\n",
       "    </tr>\n",
       "    <tr>\n",
       "      <th>270</th>\n",
       "      <td>生活</td>\n",
       "      <td>http://www.appledaily.com.tw//realtimenews/art...</td>\n",
       "      <td>2016/05/09 21:50</td>\n",
       "      <td>電話鍵盤數字旁的小英文字　功能就這2個字</td>\n",
       "      <td>83764</td>\n",
       "    </tr>\n",
       "    <tr>\n",
       "      <th>94</th>\n",
       "      <td>正妹</td>\n",
       "      <td>http://www.appledaily.com.tw//realtimenews/art...</td>\n",
       "      <td>2016/05/10 07:22</td>\n",
       "      <td>不科學！台大正妹主播新婚　對象是PTT鄉...</td>\n",
       "      <td>42634</td>\n",
       "    </tr>\n",
       "    <tr>\n",
       "      <th>68</th>\n",
       "      <td>時尚</td>\n",
       "      <td>http://www.appledaily.com.tw//realtimenews/art...</td>\n",
       "      <td>2016/05/10 08:19</td>\n",
       "      <td>女生快減肥！看看辣模想想自己</td>\n",
       "      <td>6438</td>\n",
       "    </tr>\n",
       "    <tr>\n",
       "      <th>234</th>\n",
       "      <td>政治</td>\n",
       "      <td>http://www.appledaily.com.tw//realtimenews/art...</td>\n",
       "      <td>2016/05/10 22:57</td>\n",
       "      <td>【獨家】等不到520名單　業者揚言不調車...</td>\n",
       "      <td>88752</td>\n",
       "    </tr>\n",
       "    <tr>\n",
       "      <th>158</th>\n",
       "      <td>搜奇</td>\n",
       "      <td>http://www.appledaily.com.tw//realtimenews/art...</td>\n",
       "      <td>2016/05/10 00:57</td>\n",
       "      <td>【有片】微波食物傷身？害人的是這兩個字</td>\n",
       "      <td>30130</td>\n",
       "    </tr>\n",
       "    <tr>\n",
       "      <th>141</th>\n",
       "      <td>娛樂</td>\n",
       "      <td>http://www.appledaily.com.tw//realtimenews/art...</td>\n",
       "      <td>2016/05/10 01:18</td>\n",
       "      <td>男偶像臉書粉絲91萬　演唱會票房比謝金燕...</td>\n",
       "      <td>111180</td>\n",
       "    </tr>\n",
       "    <tr>\n",
       "      <th>91</th>\n",
       "      <td>壹週刊</td>\n",
       "      <td>http://www.appledaily.com.tw//realtimenews/art...</td>\n",
       "      <td>2016/05/10 07:27</td>\n",
       "      <td>【壹週刊】一杯茶　竟讓他開出六百多家連鎖...</td>\n",
       "      <td>10480</td>\n",
       "    </tr>\n",
       "    <tr>\n",
       "      <th>90</th>\n",
       "      <td>地產</td>\n",
       "      <td>http://www.appledaily.com.tw//realtimenews/art...</td>\n",
       "      <td>2016/05/10 07:27</td>\n",
       "      <td>【買房問蘋果】1樓嫌吵　要求送羊奶用走的...</td>\n",
       "      <td>4439</td>\n",
       "    </tr>\n",
       "    <tr>\n",
       "      <th>134</th>\n",
       "      <td>國際</td>\n",
       "      <td>http://www.appledaily.com.tw//realtimenews/art...</td>\n",
       "      <td>2016/05/10 02:18</td>\n",
       "      <td>《巴拿馬文件》凌晨公開　32萬間境外公司...</td>\n",
       "      <td>44644</td>\n",
       "    </tr>\n",
       "    <tr>\n",
       "      <th>146</th>\n",
       "      <td>動物</td>\n",
       "      <td>http://www.appledaily.com.tw//realtimenews/art...</td>\n",
       "      <td>2016/05/10 01:10</td>\n",
       "      <td>幫狗辦信用卡  收到帳單悲劇惹</td>\n",
       "      <td>7630</td>\n",
       "    </tr>\n",
       "    <tr>\n",
       "      <th>233</th>\n",
       "      <td>3C</td>\n",
       "      <td>http://www.appledaily.com.tw//realtimenews/art...</td>\n",
       "      <td>2016/05/10 22:59</td>\n",
       "      <td>【影片 】LINE更新超有感　值得升級</td>\n",
       "      <td>131375</td>\n",
       "    </tr>\n",
       "  </tbody>\n",
       "</table>\n",
       "</div>"
      ],
      "text/plain": [
       "    category                                               link  \\\n",
       "12        體育  http://www.appledaily.com.tw//realtimenews/art...   \n",
       "130       財經  http://www.appledaily.com.tw//realtimenews/art...   \n",
       "190       論壇  http://www.appledaily.com.tw//realtimenews/art...   \n",
       "227       社會  http://www.appledaily.com.tw//realtimenews/art...   \n",
       "270       生活  http://www.appledaily.com.tw//realtimenews/art...   \n",
       "94        正妹  http://www.appledaily.com.tw//realtimenews/art...   \n",
       "68        時尚  http://www.appledaily.com.tw//realtimenews/art...   \n",
       "234       政治  http://www.appledaily.com.tw//realtimenews/art...   \n",
       "158       搜奇  http://www.appledaily.com.tw//realtimenews/art...   \n",
       "141       娛樂  http://www.appledaily.com.tw//realtimenews/art...   \n",
       "91       壹週刊  http://www.appledaily.com.tw//realtimenews/art...   \n",
       "90        地產  http://www.appledaily.com.tw//realtimenews/art...   \n",
       "134       國際  http://www.appledaily.com.tw//realtimenews/art...   \n",
       "146       動物  http://www.appledaily.com.tw//realtimenews/art...   \n",
       "233       3C  http://www.appledaily.com.tw//realtimenews/art...   \n",
       "\n",
       "                 time                    title  view_cnt  \n",
       "12   2016/05/10 09:52  【更新】基伊一人搞定5.1局　王建民連5...     11053  \n",
       "130  2016/05/10 02:54  《巴拿馬文件》資料庫揭密　台灣近2萬筆客...     10884  \n",
       "190  2016/05/10 00:10              新政府立馬讓支持者傻眼     14904  \n",
       "227  2016/05/10 23:14  大魯閣草衙道外牆剝落　2大人傷頭1孩童破...    100820  \n",
       "270  2016/05/09 21:50     電話鍵盤數字旁的小英文字　功能就這2個字     83764  \n",
       "94   2016/05/10 07:22  不科學！台大正妹主播新婚　對象是PTT鄉...     42634  \n",
       "68   2016/05/10 08:19           女生快減肥！看看辣模想想自己      6438  \n",
       "234  2016/05/10 22:57  【獨家】等不到520名單　業者揚言不調車...     88752  \n",
       "158  2016/05/10 00:57      【有片】微波食物傷身？害人的是這兩個字     30130  \n",
       "141  2016/05/10 01:18  男偶像臉書粉絲91萬　演唱會票房比謝金燕...    111180  \n",
       "91   2016/05/10 07:27  【壹週刊】一杯茶　竟讓他開出六百多家連鎖...     10480  \n",
       "90   2016/05/10 07:27  【買房問蘋果】1樓嫌吵　要求送羊奶用走的...      4439  \n",
       "134  2016/05/10 02:18  《巴拿馬文件》凌晨公開　32萬間境外公司...     44644  \n",
       "146  2016/05/10 01:10          幫狗辦信用卡  收到帳單悲劇惹      7630  \n",
       "233  2016/05/10 22:59      【影片 】LINE更新超有感　值得升級    131375  "
      ]
     },
     "execution_count": 101,
     "metadata": {},
     "output_type": "execute_result"
    }
   ],
   "source": [
    "# 各類別，取head()，並依view_cnt排序，類似各類別的 top N 新聞\n",
    "newslist = []\n",
    "for cat in sorted(newspd['category'].unique(), reverse=True):\n",
    "    news= newspd[newspd.category==cat].sort_values(by=['view_cnt'],ascending=False).head(1)\n",
    "    newslist.append(news)\n",
    "result = pd.concat(newslist)\n",
    "result"
   ]
  },
  {
   "cell_type": "code",
   "execution_count": 100,
   "metadata": {
    "collapsed": false
   },
   "outputs": [
    {
     "name": "stdout",
     "output_type": "stream",
     "text": [
      "    category                    title  view_cnt\n",
      "12        體育  【更新】基伊一人搞定5.1局　王建民連5...     11053\n",
      "68        時尚           女生快減肥！看看辣模想想自己      6438\n",
      "90        地產  【買房問蘋果】1樓嫌吵　要求送羊奶用走的...      4439\n",
      "91       壹週刊  【壹週刊】一杯茶　竟讓他開出六百多家連鎖...     10480\n",
      "94        正妹  不科學！台大正妹主播新婚　對象是PTT鄉...     42634\n",
      "130       財經  《巴拿馬文件》資料庫揭密　台灣近2萬筆客...     10884\n",
      "134       國際  《巴拿馬文件》凌晨公開　32萬間境外公司...     44644\n",
      "141       娛樂  男偶像臉書粉絲91萬　演唱會票房比謝金燕...    111180\n",
      "146       動物          幫狗辦信用卡  收到帳單悲劇惹      7630\n",
      "158       搜奇      【有片】微波食物傷身？害人的是這兩個字     30130\n",
      "190       論壇              新政府立馬讓支持者傻眼     14904\n",
      "227       社會  大魯閣草衙道外牆剝落　2大人傷頭1孩童破...    100820\n",
      "233       3C      【影片 】LINE更新超有感　值得升級    131375\n",
      "234       政治  【獨家】等不到520名單　業者揚言不調車...     88752\n",
      "270       生活     電話鍵盤數字旁的小英文字　功能就這2個字     83764\n"
     ]
    }
   ],
   "source": [
    "# 取各類別最多人看的新聞，transform() 取group後，都轉成該group最大的view_cnt\n",
    "idx = newspd.groupby(['category'],sort=True)['view_cnt'].transform(max) == newspd['view_cnt']\n",
    "# print(newspd.groupby(['category'])['view_cnt'].transform(max),  newspd['view_cnt'])\n",
    "# print(idx)\n",
    "print(newspd[idx][['category', 'title', 'view_cnt']])"
   ]
  },
  {
   "cell_type": "code",
   "execution_count": 113,
   "metadata": {
    "collapsed": false
   },
   "outputs": [
    {
     "data": {
      "text/html": [
       "<div>\n",
       "<table border=\"1\" class=\"dataframe\">\n",
       "  <thead>\n",
       "    <tr style=\"text-align: right;\">\n",
       "      <th></th>\n",
       "      <th>0</th>\n",
       "      <th>1</th>\n",
       "      <th>10</th>\n",
       "      <th>11</th>\n",
       "      <th>12</th>\n",
       "      <th>13</th>\n",
       "      <th>14</th>\n",
       "      <th>15</th>\n",
       "      <th>2</th>\n",
       "      <th>3</th>\n",
       "      <th>4</th>\n",
       "      <th>5</th>\n",
       "      <th>6</th>\n",
       "      <th>7</th>\n",
       "      <th>8</th>\n",
       "      <th>9</th>\n",
       "    </tr>\n",
       "  </thead>\n",
       "  <tbody>\n",
       "    <tr>\n",
       "      <th>0</th>\n",
       "      <td>1260</td>\n",
       "      <td>富味鄉</td>\n",
       "      <td>26.15</td>\n",
       "      <td>S</td>\n",
       "      <td>15675</td>\n",
       "      <td>-</td>\n",
       "      <td>-</td>\n",
       "      <td>1260</td>\n",
       "      <td>27.08</td>\n",
       "      <td>26.15</td>\n",
       "      <td>10000</td>\n",
       "      <td>27.49</td>\n",
       "      <td>5000</td>\n",
       "      <td>27</td>\n",
       "      <td>26.15</td>\n",
       "      <td>26.8</td>\n",
       "    </tr>\n",
       "    <tr>\n",
       "      <th>1</th>\n",
       "      <td>1268</td>\n",
       "      <td>漢美</td>\n",
       "      <td>0</td>\n",
       "      <td></td>\n",
       "      <td>0</td>\n",
       "      <td>-</td>\n",
       "      <td>-</td>\n",
       "      <td>1268</td>\n",
       "      <td>170</td>\n",
       "      <td>168</td>\n",
       "      <td>2000</td>\n",
       "      <td>174</td>\n",
       "      <td>2000</td>\n",
       "      <td>0</td>\n",
       "      <td>0</td>\n",
       "      <td>0</td>\n",
       "    </tr>\n",
       "    <tr>\n",
       "      <th>2</th>\n",
       "      <td>1563</td>\n",
       "      <td>巧新</td>\n",
       "      <td>138.76</td>\n",
       "      <td>S</td>\n",
       "      <td>626540</td>\n",
       "      <td>-</td>\n",
       "      <td>-</td>\n",
       "      <td>1563</td>\n",
       "      <td>140.82</td>\n",
       "      <td>138.75</td>\n",
       "      <td>4100</td>\n",
       "      <td>139.2</td>\n",
       "      <td>4100</td>\n",
       "      <td>140.5</td>\n",
       "      <td>137.72</td>\n",
       "      <td>138.81</td>\n",
       "    </tr>\n",
       "    <tr>\n",
       "      <th>3</th>\n",
       "      <td>1585</td>\n",
       "      <td>鎧鉅</td>\n",
       "      <td>0</td>\n",
       "      <td></td>\n",
       "      <td>0</td>\n",
       "      <td>-</td>\n",
       "      <td>-</td>\n",
       "      <td>1585</td>\n",
       "      <td>4.85</td>\n",
       "      <td>4.77</td>\n",
       "      <td>5000</td>\n",
       "      <td>5</td>\n",
       "      <td>5000</td>\n",
       "      <td>0</td>\n",
       "      <td>0</td>\n",
       "      <td>0</td>\n",
       "    </tr>\n",
       "    <tr>\n",
       "      <th>4</th>\n",
       "      <td>1587</td>\n",
       "      <td>吉茂</td>\n",
       "      <td>21</td>\n",
       "      <td>S</td>\n",
       "      <td>1000</td>\n",
       "      <td>-</td>\n",
       "      <td>-</td>\n",
       "      <td>1587</td>\n",
       "      <td>21.03</td>\n",
       "      <td>20.96</td>\n",
       "      <td>3000</td>\n",
       "      <td>21.4</td>\n",
       "      <td>3000</td>\n",
       "      <td>21</td>\n",
       "      <td>21</td>\n",
       "      <td>21</td>\n",
       "    </tr>\n",
       "    <tr>\n",
       "      <th>...</th>\n",
       "      <td>...</td>\n",
       "      <td>...</td>\n",
       "      <td>...</td>\n",
       "      <td>...</td>\n",
       "      <td>...</td>\n",
       "      <td>...</td>\n",
       "      <td>...</td>\n",
       "      <td>...</td>\n",
       "      <td>...</td>\n",
       "      <td>...</td>\n",
       "      <td>...</td>\n",
       "      <td>...</td>\n",
       "      <td>...</td>\n",
       "      <td>...</td>\n",
       "      <td>...</td>\n",
       "      <td>...</td>\n",
       "    </tr>\n",
       "    <tr>\n",
       "      <th>280</th>\n",
       "      <td>8496</td>\n",
       "      <td>台霖</td>\n",
       "      <td>25.6</td>\n",
       "      <td>S</td>\n",
       "      <td>5000</td>\n",
       "      <td>-</td>\n",
       "      <td>-</td>\n",
       "      <td>8496</td>\n",
       "      <td>25.61</td>\n",
       "      <td>25.01</td>\n",
       "      <td>3005</td>\n",
       "      <td>26.3</td>\n",
       "      <td>3005</td>\n",
       "      <td>26.3</td>\n",
       "      <td>25.6</td>\n",
       "      <td>26.02</td>\n",
       "    </tr>\n",
       "    <tr>\n",
       "      <th>281</th>\n",
       "      <td>9957</td>\n",
       "      <td>燁聯</td>\n",
       "      <td>6.97</td>\n",
       "      <td>B</td>\n",
       "      <td>78000</td>\n",
       "      <td>-</td>\n",
       "      <td>-</td>\n",
       "      <td>9957</td>\n",
       "      <td>6.95</td>\n",
       "      <td>6.84</td>\n",
       "      <td>10000</td>\n",
       "      <td>6.9</td>\n",
       "      <td>5000</td>\n",
       "      <td>6.98</td>\n",
       "      <td>6.81</td>\n",
       "      <td>6.92</td>\n",
       "    </tr>\n",
       "    <tr>\n",
       "      <th>282</th>\n",
       "      <td>3637</td>\n",
       "      <td>鉅景</td>\n",
       "      <td></td>\n",
       "      <td></td>\n",
       "      <td></td>\n",
       "      <td>-</td>\n",
       "      <td>20160412~</td>\n",
       "      <td>3637</td>\n",
       "      <td></td>\n",
       "      <td></td>\n",
       "      <td></td>\n",
       "      <td></td>\n",
       "      <td></td>\n",
       "      <td></td>\n",
       "      <td></td>\n",
       "      <td></td>\n",
       "    </tr>\n",
       "    <tr>\n",
       "      <th>283</th>\n",
       "      <td>5541</td>\n",
       "      <td>廣朋</td>\n",
       "      <td></td>\n",
       "      <td></td>\n",
       "      <td></td>\n",
       "      <td>-</td>\n",
       "      <td>20160421~</td>\n",
       "      <td>5541</td>\n",
       "      <td></td>\n",
       "      <td></td>\n",
       "      <td></td>\n",
       "      <td></td>\n",
       "      <td></td>\n",
       "      <td></td>\n",
       "      <td></td>\n",
       "      <td></td>\n",
       "    </tr>\n",
       "    <tr>\n",
       "      <th>284</th>\n",
       "      <td>6437</td>\n",
       "      <td>永箔</td>\n",
       "      <td></td>\n",
       "      <td></td>\n",
       "      <td></td>\n",
       "      <td>-</td>\n",
       "      <td>20160422~</td>\n",
       "      <td>6437</td>\n",
       "      <td></td>\n",
       "      <td></td>\n",
       "      <td></td>\n",
       "      <td></td>\n",
       "      <td></td>\n",
       "      <td></td>\n",
       "      <td></td>\n",
       "      <td></td>\n",
       "    </tr>\n",
       "  </tbody>\n",
       "</table>\n",
       "<p>285 rows × 16 columns</p>\n",
       "</div>"
      ],
      "text/plain": [
       "        0    1      10 11      12 13         14    15       2       3      4  \\\n",
       "0    1260  富味鄉   26.15  S   15675  -          -  1260   27.08   26.15  10000   \n",
       "1    1268   漢美       0          0  -          -  1268     170     168   2000   \n",
       "2    1563   巧新  138.76  S  626540  -          -  1563  140.82  138.75   4100   \n",
       "3    1585   鎧鉅       0          0  -          -  1585    4.85    4.77   5000   \n",
       "4    1587   吉茂      21  S    1000  -          -  1587   21.03   20.96   3000   \n",
       "..    ...  ...     ... ..     ... ..        ...   ...     ...     ...    ...   \n",
       "280  8496   台霖    25.6  S    5000  -          -  8496   25.61   25.01   3005   \n",
       "281  9957   燁聯    6.97  B   78000  -          -  9957    6.95    6.84  10000   \n",
       "282  3637   鉅景                     -  20160412~  3637                          \n",
       "283  5541   廣朋                     -  20160421~  5541                          \n",
       "284  6437   永箔                     -  20160422~  6437                          \n",
       "\n",
       "         5     6      7       8       9  \n",
       "0    27.49  5000     27   26.15    26.8  \n",
       "1      174  2000      0       0       0  \n",
       "2    139.2  4100  140.5  137.72  138.81  \n",
       "3        5  5000      0       0       0  \n",
       "4     21.4  3000     21      21      21  \n",
       "..     ...   ...    ...     ...     ...  \n",
       "280   26.3  3005   26.3    25.6   26.02  \n",
       "281    6.9  5000   6.98    6.81    6.92  \n",
       "282                                      \n",
       "283                                      \n",
       "284                                      \n",
       "\n",
       "[285 rows x 16 columns]"
      ]
     },
     "execution_count": 113,
     "metadata": {},
     "output_type": "execute_result"
    }
   ],
   "source": [
    "# 興櫃當日行情表\n",
    "# http://www.tpex.org.tw/web/emergingstock/lateststats/new.htm?l=zh-tw \n",
    "# →Network→XHR→header\n",
    "# http://www.tpex.org.tw/storage/emgstk/emgstk.txt?_=1462857921058\n",
    "\n",
    "import pandas as pd\n",
    "import requests\n",
    "import json\n",
    "res  = requests.get('http://www.tpex.org.tw/storage/emgstk/emgstk.txt?_=1462857921058')\n",
    "res.encoding = 'utf-8'\n",
    "\n",
    "jd = json.loads(res.text)\n",
    "df = pd.DataFrame(jd['aaData'])\n",
    "df"
   ]
  },
  {
   "cell_type": "code",
   "execution_count": 112,
   "metadata": {
    "collapsed": false
   },
   "outputs": [
    {
     "data": {
      "text/html": [
       "<div>\n",
       "<table border=\"1\" class=\"dataframe\">\n",
       "  <thead>\n",
       "    <tr style=\"text-align: right;\">\n",
       "      <th></th>\n",
       "      <th>0</th>\n",
       "      <th>1</th>\n",
       "      <th>10</th>\n",
       "      <th>11</th>\n",
       "      <th>12</th>\n",
       "      <th>13</th>\n",
       "      <th>14</th>\n",
       "      <th>15</th>\n",
       "      <th>2</th>\n",
       "      <th>3</th>\n",
       "      <th>4</th>\n",
       "      <th>5</th>\n",
       "      <th>6</th>\n",
       "      <th>7</th>\n",
       "      <th>8</th>\n",
       "      <th>9</th>\n",
       "    </tr>\n",
       "  </thead>\n",
       "  <tbody>\n",
       "    <tr>\n",
       "      <th>0</th>\n",
       "      <td>1260</td>\n",
       "      <td>富味鄉</td>\n",
       "      <td>26.15</td>\n",
       "      <td>S</td>\n",
       "      <td>15675</td>\n",
       "      <td>-</td>\n",
       "      <td>-</td>\n",
       "      <td>1260</td>\n",
       "      <td>27.08</td>\n",
       "      <td>26.15</td>\n",
       "      <td>10000</td>\n",
       "      <td>27.49</td>\n",
       "      <td>5000</td>\n",
       "      <td>27</td>\n",
       "      <td>26.15</td>\n",
       "      <td>26.8</td>\n",
       "    </tr>\n",
       "    <tr>\n",
       "      <th>1</th>\n",
       "      <td>1268</td>\n",
       "      <td>漢美</td>\n",
       "      <td>0</td>\n",
       "      <td></td>\n",
       "      <td>0</td>\n",
       "      <td>-</td>\n",
       "      <td>-</td>\n",
       "      <td>1268</td>\n",
       "      <td>170</td>\n",
       "      <td>168</td>\n",
       "      <td>2000</td>\n",
       "      <td>174</td>\n",
       "      <td>2000</td>\n",
       "      <td>0</td>\n",
       "      <td>0</td>\n",
       "      <td>0</td>\n",
       "    </tr>\n",
       "    <tr>\n",
       "      <th>2</th>\n",
       "      <td>1563</td>\n",
       "      <td>巧新</td>\n",
       "      <td>138.76</td>\n",
       "      <td>S</td>\n",
       "      <td>626540</td>\n",
       "      <td>-</td>\n",
       "      <td>-</td>\n",
       "      <td>1563</td>\n",
       "      <td>140.82</td>\n",
       "      <td>138.75</td>\n",
       "      <td>2100</td>\n",
       "      <td>139.19</td>\n",
       "      <td>4100</td>\n",
       "      <td>140.5</td>\n",
       "      <td>137.72</td>\n",
       "      <td>138.81</td>\n",
       "    </tr>\n",
       "    <tr>\n",
       "      <th>3</th>\n",
       "      <td>1585</td>\n",
       "      <td>鎧鉅</td>\n",
       "      <td>0</td>\n",
       "      <td></td>\n",
       "      <td>0</td>\n",
       "      <td>-</td>\n",
       "      <td>-</td>\n",
       "      <td>1585</td>\n",
       "      <td>4.85</td>\n",
       "      <td>4.77</td>\n",
       "      <td>5000</td>\n",
       "      <td>5</td>\n",
       "      <td>5000</td>\n",
       "      <td>0</td>\n",
       "      <td>0</td>\n",
       "      <td>0</td>\n",
       "    </tr>\n",
       "    <tr>\n",
       "      <th>4</th>\n",
       "      <td>1587</td>\n",
       "      <td>吉茂</td>\n",
       "      <td>21</td>\n",
       "      <td>S</td>\n",
       "      <td>1000</td>\n",
       "      <td>-</td>\n",
       "      <td>-</td>\n",
       "      <td>1587</td>\n",
       "      <td>21.03</td>\n",
       "      <td>20.96</td>\n",
       "      <td>3000</td>\n",
       "      <td>21.4</td>\n",
       "      <td>3000</td>\n",
       "      <td>21</td>\n",
       "      <td>21</td>\n",
       "      <td>21</td>\n",
       "    </tr>\n",
       "    <tr>\n",
       "      <th>...</th>\n",
       "      <td>...</td>\n",
       "      <td>...</td>\n",
       "      <td>...</td>\n",
       "      <td>...</td>\n",
       "      <td>...</td>\n",
       "      <td>...</td>\n",
       "      <td>...</td>\n",
       "      <td>...</td>\n",
       "      <td>...</td>\n",
       "      <td>...</td>\n",
       "      <td>...</td>\n",
       "      <td>...</td>\n",
       "      <td>...</td>\n",
       "      <td>...</td>\n",
       "      <td>...</td>\n",
       "      <td>...</td>\n",
       "    </tr>\n",
       "    <tr>\n",
       "      <th>280</th>\n",
       "      <td>8496</td>\n",
       "      <td>台霖</td>\n",
       "      <td>0</td>\n",
       "      <td></td>\n",
       "      <td>0</td>\n",
       "      <td>-</td>\n",
       "      <td>-</td>\n",
       "      <td>8496</td>\n",
       "      <td>25.61</td>\n",
       "      <td>25.01</td>\n",
       "      <td>3005</td>\n",
       "      <td>26.3</td>\n",
       "      <td>3005</td>\n",
       "      <td>0</td>\n",
       "      <td>0</td>\n",
       "      <td>0</td>\n",
       "    </tr>\n",
       "    <tr>\n",
       "      <th>281</th>\n",
       "      <td>9957</td>\n",
       "      <td>燁聯</td>\n",
       "      <td>6.97</td>\n",
       "      <td>B</td>\n",
       "      <td>78000</td>\n",
       "      <td>-</td>\n",
       "      <td>-</td>\n",
       "      <td>9957</td>\n",
       "      <td>6.95</td>\n",
       "      <td>6.83</td>\n",
       "      <td>5000</td>\n",
       "      <td>6.96</td>\n",
       "      <td>5000</td>\n",
       "      <td>6.98</td>\n",
       "      <td>6.81</td>\n",
       "      <td>6.92</td>\n",
       "    </tr>\n",
       "    <tr>\n",
       "      <th>282</th>\n",
       "      <td>3637</td>\n",
       "      <td>鉅景</td>\n",
       "      <td></td>\n",
       "      <td></td>\n",
       "      <td></td>\n",
       "      <td>-</td>\n",
       "      <td>20160412~</td>\n",
       "      <td>3637</td>\n",
       "      <td></td>\n",
       "      <td></td>\n",
       "      <td></td>\n",
       "      <td></td>\n",
       "      <td></td>\n",
       "      <td></td>\n",
       "      <td></td>\n",
       "      <td></td>\n",
       "    </tr>\n",
       "    <tr>\n",
       "      <th>283</th>\n",
       "      <td>5541</td>\n",
       "      <td>廣朋</td>\n",
       "      <td></td>\n",
       "      <td></td>\n",
       "      <td></td>\n",
       "      <td>-</td>\n",
       "      <td>20160421~</td>\n",
       "      <td>5541</td>\n",
       "      <td></td>\n",
       "      <td></td>\n",
       "      <td></td>\n",
       "      <td></td>\n",
       "      <td></td>\n",
       "      <td></td>\n",
       "      <td></td>\n",
       "      <td></td>\n",
       "    </tr>\n",
       "    <tr>\n",
       "      <th>284</th>\n",
       "      <td>6437</td>\n",
       "      <td>永箔</td>\n",
       "      <td></td>\n",
       "      <td></td>\n",
       "      <td></td>\n",
       "      <td>-</td>\n",
       "      <td>20160422~</td>\n",
       "      <td>6437</td>\n",
       "      <td></td>\n",
       "      <td></td>\n",
       "      <td></td>\n",
       "      <td></td>\n",
       "      <td></td>\n",
       "      <td></td>\n",
       "      <td></td>\n",
       "      <td></td>\n",
       "    </tr>\n",
       "  </tbody>\n",
       "</table>\n",
       "<p>285 rows × 16 columns</p>\n",
       "</div>"
      ],
      "text/plain": [
       "        0    1      10 11      12 13         14    15       2       3      4  \\\n",
       "0    1260  富味鄉   26.15  S   15675  -          -  1260   27.08   26.15  10000   \n",
       "1    1268   漢美       0          0  -          -  1268     170     168   2000   \n",
       "2    1563   巧新  138.76  S  626540  -          -  1563  140.82  138.75   2100   \n",
       "3    1585   鎧鉅       0          0  -          -  1585    4.85    4.77   5000   \n",
       "4    1587   吉茂      21  S    1000  -          -  1587   21.03   20.96   3000   \n",
       "..    ...  ...     ... ..     ... ..        ...   ...     ...     ...    ...   \n",
       "280  8496   台霖       0          0  -          -  8496   25.61   25.01   3005   \n",
       "281  9957   燁聯    6.97  B   78000  -          -  9957    6.95    6.83   5000   \n",
       "282  3637   鉅景                     -  20160412~  3637                          \n",
       "283  5541   廣朋                     -  20160421~  5541                          \n",
       "284  6437   永箔                     -  20160422~  6437                          \n",
       "\n",
       "          5     6      7       8       9  \n",
       "0     27.49  5000     27   26.15    26.8  \n",
       "1       174  2000      0       0       0  \n",
       "2    139.19  4100  140.5  137.72  138.81  \n",
       "3         5  5000      0       0       0  \n",
       "4      21.4  3000     21      21      21  \n",
       "..      ...   ...    ...     ...     ...  \n",
       "280    26.3  3005      0       0       0  \n",
       "281    6.96  5000   6.98    6.81    6.92  \n",
       "282                                       \n",
       "283                                       \n",
       "284                                       \n",
       "\n",
       "[285 rows x 16 columns]"
      ]
     },
     "execution_count": 112,
     "metadata": {},
     "output_type": "execute_result"
    }
   ],
   "source": [
    "pd.set_option('display.max_rows', 10)\n",
    "df = pd.DataFrame(jd['aaData'])\n",
    "df"
   ]
  },
  {
   "cell_type": "code",
   "execution_count": 1,
   "metadata": {
    "collapsed": false
   },
   "outputs": [],
   "source": [
    "#個股日成交資訊\n",
    "import requests\n",
    "res = requests.get('http://www.twse.com.tw/ch/trading/exchange/STOCK_DAY/genpage/Report201603/201603_F3_1_8_2330.php?STK_NO=2330&myear=2016&mmon=03')\n",
    "res.encoding = 'big5'\n",
    "# res.text"
   ]
  },
  {
   "cell_type": "code",
   "execution_count": 2,
   "metadata": {
    "collapsed": false
   },
   "outputs": [
    {
     "data": {
      "text/html": [
       "<div>\n",
       "<table border=\"1\" class=\"dataframe\">\n",
       "  <thead>\n",
       "    <tr style=\"text-align: right;\">\n",
       "      <th>1</th>\n",
       "      <th>日期</th>\n",
       "      <th>成交股數</th>\n",
       "      <th>成交金額</th>\n",
       "      <th>開盤價</th>\n",
       "      <th>最高價</th>\n",
       "      <th>最低價</th>\n",
       "      <th>收盤價</th>\n",
       "      <th>漲跌價差</th>\n",
       "      <th>成交筆數</th>\n",
       "    </tr>\n",
       "  </thead>\n",
       "  <tbody>\n",
       "    <tr>\n",
       "      <th>2</th>\n",
       "      <td>105/03/01</td>\n",
       "      <td>44046047</td>\n",
       "      <td>6637110793</td>\n",
       "      <td>148.50</td>\n",
       "      <td>152.00</td>\n",
       "      <td>148.50</td>\n",
       "      <td>152.00</td>\n",
       "      <td>+3.00</td>\n",
       "      <td>12003</td>\n",
       "    </tr>\n",
       "    <tr>\n",
       "      <th>3</th>\n",
       "      <td>105/03/02</td>\n",
       "      <td>36101650</td>\n",
       "      <td>5548587572</td>\n",
       "      <td>154.00</td>\n",
       "      <td>154.50</td>\n",
       "      <td>153.00</td>\n",
       "      <td>153.00</td>\n",
       "      <td>+1.00</td>\n",
       "      <td>11075</td>\n",
       "    </tr>\n",
       "    <tr>\n",
       "      <th>4</th>\n",
       "      <td>105/03/03</td>\n",
       "      <td>28867121</td>\n",
       "      <td>4438187013</td>\n",
       "      <td>154.00</td>\n",
       "      <td>154.50</td>\n",
       "      <td>153.00</td>\n",
       "      <td>154.00</td>\n",
       "      <td>+1.00</td>\n",
       "      <td>10112</td>\n",
       "    </tr>\n",
       "    <tr>\n",
       "      <th>5</th>\n",
       "      <td>105/03/04</td>\n",
       "      <td>37794356</td>\n",
       "      <td>5763190355</td>\n",
       "      <td>153.00</td>\n",
       "      <td>153.50</td>\n",
       "      <td>151.50</td>\n",
       "      <td>152.50</td>\n",
       "      <td>-1.50</td>\n",
       "      <td>10724</td>\n",
       "    </tr>\n",
       "    <tr>\n",
       "      <th>6</th>\n",
       "      <td>105/03/07</td>\n",
       "      <td>24052580</td>\n",
       "      <td>3655841160</td>\n",
       "      <td>152.50</td>\n",
       "      <td>153.50</td>\n",
       "      <td>151.00</td>\n",
       "      <td>152.00</td>\n",
       "      <td>-0.50</td>\n",
       "      <td>7324</td>\n",
       "    </tr>\n",
       "  </tbody>\n",
       "</table>\n",
       "</div>"
      ],
      "text/plain": [
       "1         日期      成交股數        成交金額     開盤價     最高價     最低價     收盤價   漲跌價差  \\\n",
       "2  105/03/01  44046047  6637110793  148.50  152.00  148.50  152.00  +3.00   \n",
       "3  105/03/02  36101650  5548587572  154.00  154.50  153.00  153.00  +1.00   \n",
       "4  105/03/03  28867121  4438187013  154.00  154.50  153.00  154.00  +1.00   \n",
       "5  105/03/04  37794356  5763190355  153.00  153.50  151.50  152.50  -1.50   \n",
       "6  105/03/07  24052580  3655841160  152.50  153.50  151.00  152.00  -0.50   \n",
       "\n",
       "1   成交筆數  \n",
       "2  12003  \n",
       "3  11075  \n",
       "4  10112  \n",
       "5  10724  \n",
       "6   7324  "
      ]
     },
     "execution_count": 2,
     "metadata": {},
     "output_type": "execute_result"
    }
   ],
   "source": [
    "# pip install html5lib\n",
    "# pd.read_html()\n",
    "\n",
    "import pandas as pd\n",
    "dfs = pd.read_html(res.text)\n",
    "df = dfs[6]\n",
    "df.columns = df.iloc[1]\n",
    "df = df.reindex(df.index.drop([0,1]))\n",
    "df.head()"
   ]
  },
  {
   "cell_type": "code",
   "execution_count": 4,
   "metadata": {
    "collapsed": false
   },
   "outputs": [
    {
     "data": {
      "text/html": [
       "<div>\n",
       "<table border=\"1\" class=\"dataframe\">\n",
       "  <thead>\n",
       "    <tr style=\"text-align: right;\">\n",
       "      <th>1</th>\n",
       "      <th>日期</th>\n",
       "      <th>成交股數</th>\n",
       "      <th>成交金額</th>\n",
       "      <th>開盤價</th>\n",
       "      <th>最高價</th>\n",
       "      <th>最低價</th>\n",
       "      <th>收盤價</th>\n",
       "      <th>漲跌價差</th>\n",
       "      <th>成交筆數</th>\n",
       "    </tr>\n",
       "  </thead>\n",
       "  <tbody>\n",
       "    <tr>\n",
       "      <th>count</th>\n",
       "      <td>23</td>\n",
       "      <td>23</td>\n",
       "      <td>23</td>\n",
       "      <td>23</td>\n",
       "      <td>23</td>\n",
       "      <td>23</td>\n",
       "      <td>23</td>\n",
       "      <td>23</td>\n",
       "      <td>23</td>\n",
       "    </tr>\n",
       "    <tr>\n",
       "      <th>unique</th>\n",
       "      <td>23</td>\n",
       "      <td>23</td>\n",
       "      <td>23</td>\n",
       "      <td>15</td>\n",
       "      <td>13</td>\n",
       "      <td>13</td>\n",
       "      <td>14</td>\n",
       "      <td>9</td>\n",
       "      <td>23</td>\n",
       "    </tr>\n",
       "    <tr>\n",
       "      <th>top</th>\n",
       "      <td>105/03/18</td>\n",
       "      <td>31126817</td>\n",
       "      <td>3655841160</td>\n",
       "      <td>158.50</td>\n",
       "      <td>159.50</td>\n",
       "      <td>157.00</td>\n",
       "      <td>158.50</td>\n",
       "      <td>+1.00</td>\n",
       "      <td>14989</td>\n",
       "    </tr>\n",
       "    <tr>\n",
       "      <th>freq</th>\n",
       "      <td>1</td>\n",
       "      <td>1</td>\n",
       "      <td>1</td>\n",
       "      <td>5</td>\n",
       "      <td>4</td>\n",
       "      <td>4</td>\n",
       "      <td>3</td>\n",
       "      <td>7</td>\n",
       "      <td>1</td>\n",
       "    </tr>\n",
       "  </tbody>\n",
       "</table>\n",
       "</div>"
      ],
      "text/plain": [
       "1              日期      成交股數        成交金額     開盤價     最高價     最低價     收盤價  \\\n",
       "count          23        23          23      23      23      23      23   \n",
       "unique         23        23          23      15      13      13      14   \n",
       "top     105/03/18  31126817  3655841160  158.50  159.50  157.00  158.50   \n",
       "freq            1         1           1       5       4       4       3   \n",
       "\n",
       "1        漲跌價差   成交筆數  \n",
       "count      23     23  \n",
       "unique      9     23  \n",
       "top     +1.00  14989  \n",
       "freq        7      1  "
      ]
     },
     "execution_count": 4,
     "metadata": {},
     "output_type": "execute_result"
    }
   ],
   "source": [
    "df.describe()"
   ]
  },
  {
   "cell_type": "code",
   "execution_count": 20,
   "metadata": {
    "collapsed": false
   },
   "outputs": [
    {
     "data": {
      "text/plain": [
       "2     105/03/01\n",
       "3     105/03/02\n",
       "4     105/03/03\n",
       "5     105/03/04\n",
       "6     105/03/07\n",
       "7     105/03/08\n",
       "8     105/03/09\n",
       "9     105/03/10\n",
       "10    105/03/11\n",
       "11    105/03/14\n",
       "12    105/03/15\n",
       "13    105/03/16\n",
       "14    105/03/17\n",
       "15    105/03/18\n",
       "16    105/03/21\n",
       "17    105/03/22\n",
       "18    105/03/23\n",
       "19    105/03/24\n",
       "20    105/03/25\n",
       "21    105/03/28\n",
       "22    105/03/29\n",
       "23    105/03/30\n",
       "24    105/03/31\n",
       "Name: 日期, dtype: object"
      ]
     },
     "execution_count": 20,
     "metadata": {},
     "output_type": "execute_result"
    }
   ],
   "source": [
    "df['日期']"
   ]
  },
  {
   "cell_type": "code",
   "execution_count": 26,
   "metadata": {
    "collapsed": false
   },
   "outputs": [
    {
     "name": "stdout",
     "output_type": "stream",
     "text": [
      "{1, 2, 3, 4}\n",
      "False\n",
      "True\n",
      "{1, 2, 3, 4, 5}\n",
      "1\n"
     ]
    }
   ],
   "source": [
    "a = [1,2,3,4,1,2,3]\n",
    "print(set(a))\n",
    "print(5 in set(a))\n",
    "print(4 in set(a))\n",
    "b = set(a)\n",
    "b.add(5)\n",
    "print(b)\n",
    "print(len(b.difference(a)))"
   ]
  },
  {
   "cell_type": "code",
   "execution_count": 28,
   "metadata": {
    "collapsed": false
   },
   "outputs": [
    {
     "name": "stdout",
     "output_type": "stream",
     "text": [
      "7\n"
     ]
    }
   ],
   "source": [
    "s = '/realtimenews/section/new/7'\n",
    "print(int(s.split('/')[-1]))"
   ]
  },
  {
   "cell_type": "code",
   "execution_count": 33,
   "metadata": {
    "collapsed": false
   },
   "outputs": [
    {
     "name": "stdout",
     "output_type": "stream",
     "text": [
      "{1, 2, 3, 4, 5, 6, 7, 8, 9, 10, 11, 12, 13, 14, 15, 16, 17, 18, 19, 20, 21, 22, 23, 24, 25, 26, 27, 28, 29, 30, 31, 32, 33, 34, 35, 36, 37, 38, 39, 40, 41, 42, 43, 44, 45, 46, 47, 48, 49, 50, 51, 52, 53, 54, 55, 56, 57}\n"
     ]
    }
   ],
   "source": [
    "import requests\n",
    "from bs4 import BeautifulSoup as bs\n",
    "\n",
    "newspages = set()\n",
    "page = 1\n",
    "while True:\n",
    "    domain = 'http://www.appledaily.com.tw'\n",
    "    pageurl = domain + '/realtimenews/section/new/{}'\n",
    "    res = requests.get(pageurl.format(page))\n",
    "    soup = bs(res.text,\"html.parser\")\n",
    "    pageset  = set()\n",
    "    for link in soup.select('nav.page_switch a'):\n",
    "        pageset.add(int(link['href'].split('/')[-1]))\n",
    "\n",
    "    if len(pageset.difference(newspages)) == 0:\n",
    "        break\n",
    "\n",
    "    for item in pageset.difference(newspages):\n",
    "        newspages.add(item)\n",
    "\n",
    "    page = list(newspages)[-1]\n",
    "print(newspages)"
   ]
  },
  {
   "cell_type": "code",
   "execution_count": 34,
   "metadata": {
    "collapsed": false
   },
   "outputs": [
    {
     "name": "stdout",
     "output_type": "stream",
     "text": [
      "dddd\n"
     ]
    }
   ],
   "source": [
    "a = '                     dddd                   '\n",
    "print(a.strip())"
   ]
  },
  {
   "cell_type": "code",
   "execution_count": 43,
   "metadata": {
    "collapsed": false
   },
   "outputs": [
    {
     "name": "stdout",
     "output_type": "stream",
     "text": [
      "美國麻州陶頓(Taunton)今日一處梅西(Macy’s)商場遭到一名歹徒攻擊，並對商場內民眾揮刀，已知造成4人受傷，兇手隨後也遭到警方擊斃。最新消息指出，其中有3人死亡，但目前未知死者身分。 據美國《CBS新聞網》報導，事發在當地時間晚間7時左右，據悉歹徒開著一輛黑色轎車撞進梅西商場，之後在商場內揮刀，有目擊者指出在現場聽到槍響。警方表示，有2名傷者是在賣場內被刺傷，但另外有2名傷者是在一處民宅內被刺傷，隨後這名歹徒遭到警方擊斃。 其中一位傷者表示，歹徒的揮刀程度已經造成生命威脅，另外有一位傷者是孕婦。有一位目擊者表示，在商場內的餐廳聽到第一聲槍響，目前警方正深入調查案件中。（施旖婕／綜合外電報導） 發稿：09:14更新：09:48\n",
      "警方封鎖案發現場。翻自cbslocal.com\n"
     ]
    }
   ],
   "source": [
    "import requests\n",
    "from bs4 import BeautifulSoup as bs\n",
    "url = 'http://www.appledaily.com.tw/realtimenews/article/international/20160511/858330/%E7%BE%8E%E9%BA%BB%E5%B7%9E%E5%95%86%E5%A0%B4%E9%81%AD%E6%94%BB%E6%93%8A%E8%87%B43%E6%AD%BB%E3%80%80%E5%85%87%E6%89%8B%E8%A2%AB%E6%93%8A%E6%96%83'\n",
    "res = requests.get(url)\n",
    "soup = bs(res.text, 'html.parser')\n",
    "# print(soup.select('div.articulum.trans')[0].text)\n",
    "print(soup.select('div.articulum.trans')[0].text.split('googletag')[0].strip())"
   ]
  },
  {
   "cell_type": "code",
   "execution_count": 13,
   "metadata": {
    "collapsed": false
   },
   "outputs": [],
   "source": [
    "# define function\n",
    "import requests\n",
    "from bs4 import BeautifulSoup as bs\n",
    "\n",
    "def getPageContent(url):\n",
    "    res = requests.get(url)\n",
    "    soup = bs(res.text, 'html.parser')\n",
    "    return soup.select('div.articulum.trans')[0].text.split('googletag')[0].strip()"
   ]
  },
  {
   "cell_type": "code",
   "execution_count": 14,
   "metadata": {
    "collapsed": false
   },
   "outputs": [],
   "source": [
    "import requests\n",
    "from bs4 import BeautifulSoup as bs\n",
    "import re\n",
    "import time\n",
    "\n",
    "localtime = time.strftime(\"%H/%M\")\n",
    "domain = 'http://www.appledaily.com.tw/'\n",
    "stopFlag = False\n",
    "\n",
    "def getPageNews(page=1):\n",
    "    res = requests.get('http://www.appledaily.com.tw/realtimenews/section/new/{}'.format(page))\n",
    "    soup = bs(res.text, 'html.parser')\n",
    "\n",
    "#     print(soup.select('h1.dddd')[0].text)\n",
    "    # if today==soup.select('h1.dddd')[0].text break\n",
    "\n",
    "    today = \"\".join(soup.select('h1.dddd')[0].text.split())\n",
    "    news = []\n",
    "    time = today+' 23:59:59'\n",
    "#     print(len(soup.select('li.rtddt')))\n",
    "    for li in soup.select('li.rtddt'):\n",
    "    #     print(\"===================\")\n",
    "        h1 = li.select('h1')[0].text\n",
    "        m = re.match('(.+)\\((\\d+)\\)', h1)\n",
    "        if(time < '{} {}'.format(today, li.select('time')[0].text)):\n",
    "            global stopFlag \n",
    "            stopFlag = True\n",
    "            break\n",
    "        time  = '{} {}'.format(today, li.select('time')[0].text)\n",
    "        category = li.select('h2')[0].text\n",
    "        link = domain + li.select('a')[0]['href']\n",
    "        if m:\n",
    "            title =  m.group(1)\n",
    "            view_cnt = int(m.group(2))\n",
    "    #       print(title, view_cnt, time, category, link)\n",
    "            news.append({'title':title, 'view_cnt':view_cnt, 'time': time, 'category': category, 'link': link, 'summary': getPageContent(link)})\n",
    " \n",
    "#     print(news)\n",
    "    return news"
   ]
  },
  {
   "cell_type": "code",
   "execution_count": 15,
   "metadata": {
    "collapsed": false
   },
   "outputs": [
    {
     "name": "stdout",
     "output_type": "stream",
     "text": [
      "1 2 3 4 5 6 7 8 9 10 11 12 13 14 15 16 17 18 19 20 [{'link': 'http://www.appledaily.com.tw//realtimenews/article/politics/20160511/858694/「最美鎮長」涉貪\\u3000媽媽也曾涉賄停職', 'category': '政治', 'title': '「最美鎮長」涉貪\\u3000媽媽也曾涉賄停職', 'time': '2016/05/11 16:01', 'summary': '民進黨籍的嘉義縣大林鎮長黃貞瑜及夫婿涉嫌A公務車自用遭起訴，令人意外。黃貞瑜曾「有最美麗鎮長」之稱，她出身政治世家，母親李秀美8年前因擔任大林鎮長選舉賄選遭停職，縣府派黃貞瑜代理鎮長，她以創意和親和力，贏得鎮民好感，代理鎮之後當選第16屆鎮長再連任成功至今，也是「台灣最年輕女鎮長」，姑姑是知名歌手黃思婷。\\xa0黃貞瑜世新大學口傳系畢業再攻讀國立中正大學政治學研究所，長相甜美加上口才一流，常常主持民進黨在嘉義縣的大型活動，黃貞瑜也是總統當選人蔡英文的愛將之一，是民進黨看好的明日之星。\\xa0黃 貞瑜擔任鎮長，充滿熱忱與服務精神，平易近人的親和作風，很快拉近了與民眾的距離。黃貞瑜2010年在大林鎮北向入口處，創設「大林My Darling」景觀地標入口意象，將「Dalin」（大林英文地名）與「Darling」（親愛的）的諧音趣味巧妙串連，表現大林的熱情、親愛與溫暖。 此地標吸引許多結婚新人來拍婚紗照，平面及電子媒體均有報導，已成為婚紗攝影的熱門景點，並推動婚紗小鎮，也打響了大林知名度。\\xa0黃貞瑜3年前3月19日和大林鎮公所原行政室課員李豐全結婚（李豐全和同年2月20日調到嘉義縣政府新聞行銷處當科員），才子佳人一時傳為美談。今天卻因為公車私用，遭嘉義地檢署檢察官依《貪污治罪條例》，起訴她和丈夫李豐全，令人感到意外。（徐彩媚／嘉義報導）\\xa0\\xa0\\n【想知道更多，一定要看……】A公務車給老公用\\u3000大林美女鎮長夫妻起訴黃貞瑜主持大型活動能力強，被看好是民進黨的明日之星。翻攝黃貞瑜臉書', 'view_cnt': 0}, {'link': 'http://www.appledaily.com.tw//realtimenews/article/life/20160511/858757/她不怕被罰30萬\\u3000也要說小豬「3照5抱」錯在這', 'category': '生活', 'title': '她不怕被罰30萬\\u3000也要說小豬「3照5抱」...', 'time': '2016/05/11 16:01', 'summary': '藝人羅志祥（小豬）去年發專輯《真人秀？》預告將「買3張可合照、5張抱抱」的互動模式辦歌迷會，被活動主持人陳沂酸肉體斂財、「亞洲空幹王」，遭羅志祥提告，台北地院昨判陳沂需賠羅志祥30萬元，並登報道歉。對於小豬的「三照五抱」方式，部落客廣告小妹AdFan在臉書粉絲專頁發文提醒手段不高明，道行不夠深。\\xa0廣告小妹在臉書指出，當年她瘋狂愛黎明，要她買5張根本沒問題，「可是等哪一日我長大了，想起這位我真心崇拜過的偶像曾經使用這種方式賺我的錢，會非常心寒。」她點出一個藝人能紅得長久，一定是本身道德標準很高，她並以劉德華為例，「知道很多偶像最後是怎麼死的嗎？都是被『鐵轉黑』的前任粉絲幹掉的。不要小看粉絲的潛在恨意與破壞力。」\\xa0廣告小妹認為，賺錢得漂亮不漂亮很重要，「你的問題在於你有商人的慾望，卻沒有商人的手段。」要粉絲一次買多張照片不是不行，但明講就是公關技巧差，她並以韓國為例，想抱抱、簽名和握手都必須靠抽籤，「你覺得這種方式很公平嗎？錯！每多買一張唱片就多一份被抽中的機會，所以強者我朋友買了一百張少女時代新專輯。有人叫他買一百張嗎？沒有。唱片公司賺飽飽，還不會被人罵肉體斂財。賺錢要靠腦袋，懂？」\\xa0有網友擔心地問「你不怕被罰30萬嗎？」廣告小妹回應「不怕。因為我中肯（自己誇自己？）」（盧麗蓮／綜合報導）', 'view_cnt': 0}, {'link': 'http://www.appledaily.com.tw//realtimenews/article/fashion/20160511/858592/新加坡國寶紅吱吱\\u3000強撞仙女級人妻\\u3000', 'category': '時尚', 'title': '新加坡國寶紅吱吱\\u3000強撞仙女級人妻\\u3000 ', 'time': '2016/05/11 16:00', 'summary': '有新加坡國寶稱號的43歲歌手陳潔儀昨在香港舉行記者會，宣布下月開演唱會，頂著一頭招牌短髮的她，穿著Michael Kors（MK） 2016春夏系列紅色印花洋裝，並化上大紅唇，熟女氣場十足，讓人難以忽視。\\xa0\\xa0其實這件洋裝，29歲的氣質人妻劉詩詩早在3月就穿過，清新派的她化著裸色唇妝登上中國《紅秀》雜誌封面，仙氣飄飄的模樣，照例電暈不少粉絲。（陳玥礽／綜合報導）\\xa0\\n劉詩詩以裸色唇妝搭配Michael Kors紅色洋裝，飄逸依舊。翻攝Michael Kors微博Michael Kors 2016春夏系列。香港《蘋果日報》', 'view_cnt': 0}, {'link': 'http://www.appledaily.com.tw//realtimenews/article/nextmag/20160511/858655/【壹週刊】遊果阿香料農場\\u3000吃印度檳榔', 'category': '壹週刊', 'title': '【壹週刊】遊果阿香料農場\\u3000吃印度檳榔', 'time': '2016/05/11 16:00', 'summary': '香料共和國 果阿面積3702平方公里，距離孟買約一小時飛行時間。這個擁有一百多公里長阿拉伯海海岸線的小邦，有著曾被葡萄牙殖民長達約五世紀的歷史。而整個果阿邦最知名的殖民時期建築，便是位在舊果阿城（Old Goa）的「仁慈耶穌大教堂（Basilica of Bom Jesus）」。教堂之所以知名，是因為這裡擺放著聖方濟．沙勿略神父的棺柩。聖方濟．沙勿略是耶穌會創辦人，一五四二年來到果阿，在這裡給成千上萬的人受洗；1552年，在前往中國傳教的途中得了瘧疾病逝，死前交待希望自己能安葬在果阿，最後遺體便擺放在仁慈耶穌大教堂裡。果阿目前人口約一百八十萬，有接近二成六是天主教徒，仁慈耶穌大教堂每隔十年便會舉行紀念儀式，供各地信徒朝聖。\\xa0為了打造一條壟斷亞洲到歐洲的海上香料、絲綢、陶瓷的貿易路線，葡萄牙人在1510年來到了果阿。之所以會選擇果阿，除了是作為里斯本到澳門、麻六甲、長崎的中轉站，也是看中這裡盛產的各式香料。目前果阿有幾座香料觀光農場，全集中在北部的龐達（Ponda）地區。\\xa0這一日我們來到一處被沼澤圍繞著的「熱帶香料園（Tropical Spice Plantation）」參觀；隨著園區導遊走入香料林內，迎面而來的是各式濃郁辛香，以及大群咬人不留情面蚊蟲。一邊這裡抓那裡抓，一邊仔細聽著導遊講解的香料名，聽不懂的，就將香料捏碎放在鼻子前聞聞；那情景看起來，好像我和旅伴還是對世界充滿好奇的猴子。\\xa0除了數不清的植物，園區裡還提供幾種香料製品供遊客品嚐，最特別是竟然還有以香蕉葉捲的菸草與印度檳榔。印度檳榔名為Paan，本是印度當地人喜歡的以葉子包起的類口香糖零食。而熱帶香料園則在檳榔裡加入自產的丁香、荳蔻、薄荷、肉桂……等香料。一口咬下，除了石灰味與台灣檳榔相似，其餘香料混和的味道，則讓印度檳榔多了一種清新感。那感覺有些詭異，像是一邊含著漱口水一邊嚼菁仔，也像著西裝外套卻內搭宮廟T恤有著衝突的滋味。吃了印度檳榔，感覺有些昏沉像走入迷宮；到了園區出口，導遊則從一旁陶水缸裡舀起一大瓢清水，拉開旅客領口往背後淋去。據說往昔在香料園裡工作的工人，都會以這種方式驅散在樹林裡工作的悶熱。清水淋下，冰涼直衝腦門，也許是交感神經影響味覺，口腔鼻腔複雜的香料味，也瞬間但化成一股遙遠的草甜味。（撰文：王志元，攝影：李智為）\\xa0「更多其他壹週刊內容請點我」', 'view_cnt': 0}, {'link': 'http://www.appledaily.com.tw//realtimenews/article/local/20160511/858683/「電話都不接」\\u3000弟報警破門救出昏迷姊', 'category': '社會', 'title': '「電話都不接」\\u3000弟報警破門救出昏迷姊', 'time': '2016/05/11 15:59', 'summary': '花蓮1名退休獨居孔姓女老師(57歲)在公寓住宅昏迷3天奄奄一息，幸好遠在20公里外的胞弟發現有異，急忙跑到美崙派出所報案，警消獲後報動用器材車前往破門，發現女老師躺在床上動彈不得，尚存一絲氣息，趕緊將她送至門諾醫院急救，及時救回一命。\\xa0消防局救護隊員藍俊斌說，抵達現場時警方已在場，因敲門打電話都沒人應門，屋內電話也沒接。消防隊員莊逸寧才持破壞器材破門，但因有三道門鎖救護人員花了二十分鐘，並用腳踹門，最後才將門打開。\\xa0救護隊員劉羽哲說，進入屋內時門窗緊閉空氣不流通，趕緊去打開門窗通風，當時發現婦人躺在床上動也不動，經檢查發現她很虛弱尚有體溫及氣息，趕緊將她救出送醫急救。\\xa0美崙派出所長鄭詠翰表示，獨居的孔姓婦人之前身體硬朗，常會到派出所找員警泡茶聊天，沒想到，有一陣子沒見到她，竟是臥病在床。孔姓婦人的弟弟，常打電話關心姐姐，因上班加上沒有姐姐住家鑰匙，這3天來打電話給姐姐，都沒接電話，才到派出所求救，幸好發現得早，來得及救回姐姐一命。院方說，婦人送醫時已呈現肝昏迷狀態，若再持續昏睡恐危及性命。（突發中心李光濱／花蓮報導）\\xa0\\n婦人被救出時奄奄一息。李光濱攝美崙派出所獲報後，趕緊派員前往查看救人。李光濱攝消防隊員藍俊斌(右)及劉羽哲將婦人救出送醫，搶救回一條寶貴性命。李光濱攝', 'view_cnt': 0}, {'link': 'http://www.appledaily.com.tw//realtimenews/article/politics/20160511/858618/花蓮議會總質詢少一天\\u3000學生高喊：還我總質詢', 'category': '政治', 'title': '花蓮議會總質詢少一天\\u3000學生高喊：還我總質...', 'time': '2016/05/11 15:58', 'summary': '花蓮縣議會本屆定期大會縣政總質詢原訂今天截止，但議長賴進坤昨天下午突然敲槌宣布休會，明起開始分組審查，6天議程再度縮水成5天，引來旁聽席的學生與環盟不滿，今在議場外高喊：「還我總質詢！」東華大學烏頭翁社學生郭家瑋說，總質詢從12天縮水成6天，如今再少1天，令人錯愕！環保聯盟鍾寶珠說：「5天夠議員監督縣政嗎？」\\xa0賴進坤表示，議會33名議員每人口頭質詢50分鐘，也有人選擇用書面質詢，6天的質詢時間共36小時，足夠每位議員發揮，昨天下午因所有議員的發言時間接用罄，且無人再登記質詢，他依議長職權宣布休會，合情合理、並無不妥。他強調，監督縣政是全年無休，不侷限在這短短5天。\\xa0花蓮縣議員劉曉玫譏諷說：「花蓮縣議會創造很多第一，誰能比我們行啊？」她認為總質詢從12天一路縮水，就是限縮議員質詢的權利與義務，大人不去爭取反倒是學生在捍衛議員權力，實在可笑。議員王燕美說，過去總質詢的剩餘時間是提供給議員與官員小組座談溝通協調，現在全都沒有，但議長行使職權她也無話可說。\\xa0東華大學烏頭翁社學生鄧家洋表示，議員針對旁聽席直播問題雖已提案修改，但未見期程，本月17日就是議會排定的二讀會、三讀會，預計當天會修改議事規則，該社會幫花蓮縣議會開始倒數，17日當天再重返議場，監督代議士會如何修訂。（突發中心王文傑／花蓮報導）\\xa0\\n東華大學學生為花蓮縣議會修法倒數。王文傑攝', 'view_cnt': 0}, {'link': 'http://www.appledaily.com.tw//realtimenews/article/local/20160511/858577/超失控！馬尾女竟對警察嗆「恁爸」', 'category': '社會', 'title': '超失控！馬尾女竟對警察嗆「恁爸」', 'time': '2016/05/11 15:56', 'summary': '（更新：影片）\\xa0高市1名蔡姓女子（31歲）在超商大聲講電話，警方據報處理，沒想到蔡女竟失控飆罵，不時以恁北、衝啥小（台語）等字眼對嗆警察，最後甚連臭雞巴及幹拎婆字眼都出籠，這名蔡女失控的下場就是吃上妨害公務及公然侮辱官司。\\xa0警方說，蔡女原住鳳山，因與家人不合，4月下旬搬到三民區1人獨住。上月27日深夜11時，她到住處附近1處超商買東西，後來在店內講起電話，愈講愈大聲，搞得店家受不了報警。\\xa0警方起初好言相勸，告知已經妨害安寧，但蔡女卻不聽勸，一再挑釁執勤員警，警方見蔡女實在太囂張，最後告知權利依法逮捕，蔡女沒料到警方會強力執法，還試圖反抗， 2名男警折騰了好一會兒，才將她制伏帶回。（湯寶隆／高雄報導）\\xa0出版時間13：26更新時間15：56\\n警方到場勸阻，但蔡女卻出言辱罵。翻攝畫面蔡女遭警方當場壓制，手被反扣上銬。翻攝畫面蔡女因反抗，一度被壓制在地上。翻攝畫面蔡女的言詞辱罵，讓服務30年的副所長簡奇彬都受不了。翻攝畫面', 'view_cnt': 4364}, {'link': 'http://www.appledaily.com.tw//realtimenews/article/finance/20160511/858748/陸網友用ApplePay\\u3000「還要簽名較麻煩」', 'category': '財經', 'title': '陸網友用Apple Pay\\u3000「還要簽名較...', 'time': '2016/05/11 15:54', 'summary': '行政院長張善政今天中午已拍板，有條件開放Apple Pay等國際行動支付來台，中國已於2月搶先開放，以網友使用經驗來看，認為相對中國民眾常用的支付寶與微信支付，完全是不同的事，認為Apple Pay的觀念，是要取代「錢包內的卡片」。\\xa0根據中國網站「快用」的網友經驗分享，指出部分北京連鎖企業店面，已更換支持閃付的POS機，實際到當地太平洋咖啡店與肯德基體驗時，發現有些店面的的POS機是平放在桌上，使用Apple Pay時需要非常靠近；而肯德基則是比較人性化，架在桌子前使用更方便。\\xa0然而比起刷卡支付，網友表示，目前Apple Pay支付完成後仍需簽名，是因為中國的銀聯支付體系，仍無法避免該流程，並認為如果在未來指紋可以代替用户簽名，應會更便利。（李易紓／綜合報導）\\n在大陸用Apple Pay支付完，依然需要簽名。翻攝網路網友認為北京肯德基的POS機是直立式的，使用較為方便。翻攝網路', 'view_cnt': 95}, {'link': 'http://www.appledaily.com.tw//realtimenews/article/local/20160511/858755/鄭捷遺體冰存\\u3000姑姑已領「死亡證明書」', 'category': '社會', 'title': '鄭捷遺體冰存\\u3000姑姑已領「死亡證明書」', 'time': '2016/05/11 15:54', 'summary': '北捷殺人案兇嫌鄭捷昨晚間8時47分在台北看守所遭槍決伏法，法務部昨晚證實遺體被送到中壢殯儀館殯冰存。根據「桃園市政府殯葬所中壢區殯葬服務中心」網站的「冰庫使用狀況」顯示，鄭捷遺體冰存在編號098冰櫃。根據《中時電子報》報導，鄭捷姑姑已在今天領取死亡證明。\\xa0中壢區殯儀館所長黃國清今天，家屬可將死亡證明書、委託書，委由殯葬業者處理，家屬並不需親自到殯儀館，即可委託業者辦理後事。（突發中心／桃園報導）', 'view_cnt': 244}, {'link': 'http://www.appledaily.com.tw//realtimenews/article/life/20160511/858737/漁民、觀光業者向德翔臺北求償\\u3000黃國昌批政府協助消極', 'category': '生活', 'title': '漁民、觀光業者向德翔臺北求償\\u3000黃國昌批政...', 'time': '2016/05/11 15:52', 'summary': '立院衛環委員會今邀相關部會做「德翔臺北」輪船體移除作業是否符合海洋環境保護需求及後續污染賠償作業報告。立委黃國昌、呂孫綾都批評，當地漁民、觀光業者受損，但政府協助處理不夠積極。漁業署說，下周會排3場說明會，在金山漁會、石門區公所召開；觀光局允諾，會跟北海岸地區觀光業者一一詢問確認。\\xa0黃國昌質詢，上月28日他開記者會，要求對於當地漁民及觀光損失向「德翔臺北」船東求償、並要求設立油污求償專線，他問，至今農委會接到多少求償電話？農委會漁業署組長施俊毅答「目前都沒接到」。黃國昌批評，大家都沒損害？還是大家都不知道？\\xa0黃國昌批評，政府應該代表漁民，並告訴漁民如何做證據蒐集和證據保全，教戰守則該做什麼，該如何證明損害。他說，很多當地觀光業者如飯店、餐廳陳情因油污造成損害，但調閱觀光局公文資料，僅發函詢問了救國團、白宮行館、翡翠灣等少數業者，形同只做少數觀光損害調查。(洪敏隆／台北報導)', 'view_cnt': 34}, {'link': 'http://www.appledaily.com.tw//realtimenews/article/local/20160511/858646/【有片】鄭捷遺體無人領\\u3000中壢殯儀館：冰存沒有期限', 'category': '社會', 'title': '【有片】鄭捷遺體無人領 \\u3000中壢殯儀館：冰...', 'time': '2016/05/11 15:51', 'summary': '（更新：新增影片）\\xa0北捷殺人案兇嫌鄭捷昨晚間於台北看守所執行槍決，鄭捷遭槍決後，殯葬業者將他的遺體運送至桃園市中壢區殯葬服務中心冰存，但從昨晚至今天下午，鄭捷的家人尚未出面至殯儀館辦理後事。\\xa0桃園市政府殯葬管理所中壢區殯葬服務中心主管黃國清表示，死者家屬可以將死亡證明書和委託書和交由殯葬業者代為處理，所以家屬並不一定需要親自出面向殯儀館辦理後事。\\xa0戶籍設在桃園當地人冰存遺體費用一天為200元，而戶籍設在外縣市的遺體冰存費用則是一天600元，是當地人的3倍，殯葬服務中心有提供遺體冰存和遺體火化等服務，領取遺體前只要結清費用，冰存的時間並沒有限制，此外只要確認死者還有家屬，殯儀館不會通報社會局以無名屍的方式處理遺體。（突發中心／新北報導）\\xa0發稿時間：14：34更新時間：15：51\\xa0\\n媒體守在殯儀館外等候鄭捷家屬出面辦理後事。陳韋劭攝中壢區殯葬服務中心外觀。陳韋劭攝', 'view_cnt': 113906}, {'link': 'http://www.appledaily.com.tw//realtimenews/article/international/20160511/858697/習近平訪英「無禮事件」\\u3000當天威廉夫妻.成龍作陪', 'category': '國際', 'title': '習近平訪英「無禮事件」\\u3000當天威廉夫妻.成...', 'time': '2016/05/11 15:51', 'summary': '中國國家主席習近平去年訪英期間，究竟發生什麼事，讓英國女王也忍不住批評？從英國女王和倫敦警察廳指揮官朵爾西的對話中可知，當時的「無禮事件」發生在蘭開斯特宮（Lancaster House）。《蘋果》記者回溯當時新聞影像發現，當天陪同習近平伉儷的是英國威廉王子夫妻和香港武打明星成龍。\\xa0根據路透資料畫面，去年10月21日、習近平夫妻展開國是訪問英國行程第二天，兩人前往蘭開斯特宮參觀一項慶祝中英關係友好的展覽活動。威廉王子和王妃凱特親自在蘭開斯特宮外迎接習近平夫婦。香港武打明星成龍也受邀參加此活動，當天一行人還開心合影，絲毫看不出有任何不悅事件發生。\\xa0根據英國《衛報》報導，英國駐北京使館不願評論，駐中大使吳百納（Barbara Woodward）當時究竟被如何「不當對待」。資深英國外交人員向《衛報》表示，根據他和習近平接觸的經驗，他認為習近平是個「很有魅力且迷人」的政治領袖。但中國外交人員確曾多次發生無禮行徑。報導指出，2014年李克強訪英時，中國官員威脅一定要安排李克強和英國女王會面，否則將取消訪英行程。英國政府當時一名匿名官員曾向媒體抱怨：「中國人是很強悍的談判者。」（桂家齊／綜合外電報導）\\xa0更多國際新聞請進蘋果繞著地球爆\\xa0\\n【想知道更多，一定要看……】【有片】接待習近平「真倒楣」\\u3000英女王批中國言論曝光習近平訪英多無禮？\\u3000英警官不肯說中國國家主席習近平夫妻（左三及左二）去年訪英時，成龍和威廉王子夫妻作陪。翻攝英國《鏡報》', 'view_cnt': 534}, {'link': 'http://www.appledaily.com.tw//realtimenews/article/life/20160511/858754/對流旺盛\\u3000南投、嘉義注意大雷雨', 'category': '生活', 'title': '對流旺盛\\u3000南投、嘉義注意大雷雨', 'time': '2016/05/11 15:51', 'summary': '由於對流雲系發展旺盛，中央氣象局剛針對南投縣信義鄉、嘉義縣的竹崎鄉、梅山鄉、番路鄉、阿里山發布大雷雨即時訊息，持續時間到16時0分為止。\\xa0氣象局表示，請民眾慎防劇烈降雨、雷擊、9級以上強陣風、冰雹，低窪地區慎防淹水。路面濕滑，步行與開車請注意安全。能見度低，請注意行車安全、減速慢行。請進入室內，遠離山頂、屋頂、涼亭、獨立樹下、溪流或水塘，位於空曠區域應蹲下降並盡量減少與地面接觸的面積。駕車人士如駛經高速公路或天橋，應提防強勁陣風吹襲。（生活中心／台北報導）', 'view_cnt': 9}, {'link': 'http://www.appledaily.com.tw//realtimenews/article/life/20160511/858727/【有片】柯P：世大運場館多數是整建\\u3000明年4月整修完畢', 'category': '生活', 'title': '【有片】柯P：世大運場館多數是整建\\u3000明年...', 'time': '2016/05/11 15:50', 'summary': '更新：新增影片\\xa0北市府將在明年8月舉行世界大學運動會，但距離開幕僅剩1年3個月，有議員發現2座新建場館施工進度不到6成，另外需要整修的52座場館，更有41座尚未發包。台北市長柯文哲今表示，整建的部分會利用寒暑假再來修，但不管怎樣，明年4月以前會整修完畢，北市府評估世大運場館，目前都還來得及。\\xa0柯表示，世大運場館除了幾個是興建外，絕大部分都是整建，整建幾乎都是在學校，由於目前開學學生還在用，因此會利用寒暑假再來修，「不管怎樣，明年4月以前會整修完畢」。他直言，如果都是興建那會來不及，但很多只是整建而且是輕微整建，例如換冷氣，因此「我們評估過是還來得及」。至於世大運轉播部分，柯說後來將變成議價，目前應該是在找華視議價。(陳思豪/台北報導)\\xa0出版：15:34更新：15:50\\xa0\\xa0\\n台北市長柯文哲受訪。林啟弘攝', 'view_cnt': 355}, {'link': 'http://www.appledaily.com.tw//realtimenews/article/politics/20160511/858684/\\u200b2758號決議文\\u3000洪秀柱：杯葛我參與國際組織前兆', 'category': '政治', 'title': '\\u200b2758號決議文\\u3000洪秀柱：杯葛我參與國...', 'time': '2016/05/11 15:48', 'summary': '國民黨主席洪秀柱今天表示，北京透過WHA邀請函附上2758號決議文的方式，警示民進黨，若民進黨不願接受九二共識，北京將「一個中國」原則從原有兩岸共識層次，拉高到聯合國決議文層次，「這是全面杯葛我們參與國際組織的前兆，請民進黨清楚了解此事」。\\xa0洪秀柱今天邀請外交部長林永樂赴中常會報告「活路外交的成果」，並開放臉書直播，獲得上千人次觀看。\\xa0洪秀柱會後裁示指出，國民黨執政8年在外交上有豐碩成果，關鍵在於兩岸關係穩定發展，維繫兩岸關係基礎就是「九二共識」，以及九二共識帶來的善意，她非常憂心8年來的豐碩成果，極有可能因為民進黨執著「反九二共識」的意識形態，讓兩岸善意基礎變得不存在，外交休兵也會結束，未來國際參與將變得更困難。現在政府即將進行交接，活路外交是否延續，兩岸關係穩定現況是否可以維繫，都是國民黨關切議題，也是監督重點，希望民黨政府體察得來不易的成果，不要重蹈金援外交與烽火外交的覆轍。（張文馨／台北報導）', 'view_cnt': 207}, {'link': 'http://www.appledaily.com.tw//realtimenews/article/local/20160511/858731/太巧合！\\u3000鄭捷遺體冰櫃與大體車都是98', 'category': '社會', 'title': '太巧合！\\u3000鄭捷遺體冰櫃與大體車都是98', 'time': '2016/05/11 15:47', 'summary': '鄭捷遭槍決後遺體由殯葬業者運送至中壢區殯葬服務中心，今天下午中壢殯儀館官網資料證實，鄭捷的遺體從昨晚入館後，就暫時冰存在遺體處理中心的98號冰櫃內，昨天載運鄭捷遺體的車輛車號為9886，前兩碼恰巧與冰存鄭捷遺體的冰櫃都是98。\\xa0鄭捷犯案被捕後拘禁在台北看守所，他在所內的編號為「1892」，今年4月22日由最高法院判4個死刑定讞，18天後，於5月10日晚間8點47分執行槍決開第一槍，8點49分第二槍，槍決後由車牌後4號碼9886殯葬業者車輛，將遺體載至中壢區殯葬服務中心存放，今天下午桃園市政府殯葬管理所官網證實，鄭捷的遺體就冰存於中 壢區殯葬服務中心的98號冰櫃。（突發中心／新北報導）\\xa0\\xa0\\n鄭捷的遺體冰存在遺體處理中心內。陳韋劭攝', 'view_cnt': 1573}, {'link': 'http://www.appledaily.com.tw//realtimenews/article/forum/20160511/858750/【公庫】親愛的議員，別把自己藏在黑箱裡', 'category': '論壇', 'title': '【公庫】親愛的議員，別把自己藏在黑箱裡', 'time': '2016/05/11 15:46', 'summary': '本內容由公庫提供\\xa0文 / 管中祥東華大學學生郭家瑋日前到花蓮縣議會直播開議，卻被警方架出議場。根據郭家瑋的描述，第一天社員到議場紀錄便受到阻擾，甚至被議長約談，第二天議會通過旁聽席不能直播的規定，而在第三天，他入座旁聽席後，議會工作人員便趨前表示要坐在他旁邊，不斷質問「你有沒有在直播？」沒多久，郭生就被架離議場。這是繼4月7日，「桃園在地聯盟」理事長桃長潘忠政等人在桃園市議會旁聽、錄影，遭警察架離後，另一次地方議會驅趕旁聽民眾事件。更早之前，中正大學學生到嘉義市議會旁聽，側錄議會質詢，也被攔阻。地方議會禁止民眾在議場內錄音、錄影，其實是於「法」有據、依「法」行政....（閱讀全文）', 'view_cnt': 57}, {'link': 'http://www.appledaily.com.tw//realtimenews/article/entertainment/20160511/858505/「像動物園裡動物」\\u3000男偶像受夠禁粉絲合照', 'category': '娛樂', 'title': '「像動物園裡動物」\\u3000男偶像受夠禁粉絲合照', 'time': '2016/05/11 15:45', 'summary': '22歲的加拿大偶像「小賈斯汀」賈斯汀畢柏（Justin Bieber）飽受盛名之累，不管到哪都被粉絲包圍、要求簽名合照，他昨在IG宣布，以後不會再和歌迷合照，小賈抱怨有些人甚至連招呼都不打，就上前拍照，讓他受夠了，他甚至自比像動物園裡的動物，為了保持清醒，他決定全面禁止合照。\\xa0小賈語重心長向歌迷喊話：「如果你正好在哪看到我，你知道我不會和大家合照，我已經受夠拍照了。現在有些人甚至不會說Hi，或是體認到我也是個人，我感覺像動物園裡的動物，而我想保持清醒。我知道大家會很失望，但我不欠任何人合照，有人會說『但我買了你的專輯』，我知道你買了我的專輯，而你付出的就是一張專輯的代價，專輯印刷上並沒有說，不管你何時看到我，你也可以要求合照。」\\xa0他的PO文引發歌迷兩極反應，大部分歌迷認同他，覺得他很可憐，一名歌迷留言：「我深深為你感到遺憾，你被困住了，為你禱告。」也有人說小賈並非機器，希望大家同理心體諒他。今年3月，他也宣布取消演唱會後在後台和歌迷面對面的互動，因為他最後都感到筋疲力盡、不開心。（林慧娟／綜合報導）\\xa0\\xa0\\n小賈斯汀前陣子宣布取消演唱會後在後台和歌迷面對面的互動，因為他最後都感到筋疲力盡、不開心。翻攝IG22歲的加拿大偶像「小賈斯汀」賈斯汀畢柏走到哪都是眾人焦點，讓他飽受壓力。達志', 'view_cnt': 320}, {'link': 'http://www.appledaily.com.tw//realtimenews/article/international/20160511/858699/【央廣RTI】UFC主席否認出售終極格鬥傳聞', 'category': '國際', 'title': '【央廣RTI】UFC主席否認出售終極格鬥...', 'time': '2016/05/11 15:45', 'summary': '本內容由中央廣播電臺提供\\xa0\\xa0 \\xa0 \\xa0 \\xa0傳聞全球最大的綜合武術組織「終極格鬥錦標賽」(UFC)將出售給中國大陸企業，UFC主席懷特(Dana White)10日否認相關報導。懷特說，「UFC沒有要賣。」「ESPN的報導太誇張了。」他還說，ESPN的報導「無法差事實更多」。\\xa0 \\xa0 \\xa0 \\xa0懷特10日晚間對「拉斯維加斯評論報」(Las Vegas Review-Journal)表示，美國體育頻道網站(ESPN.com)的報導是錯誤的。ESPN報導內容指出，UFC可能將以好幾十億美元的價格出售。ESPN稍早報導表示，UFC母公司Zuffa正在進行出售UFC的「事前對談」，價格在35億至40億美元之間。Zuffa出售UFC的提案吸引至少4個可能買家的興趣。\\xa0 \\xa0 \\xa0 \\xa0ESPN報導提到，中國大陸最大商業地產企業、億萬富翁王健林(Wang Jianlin)所擁有的大連萬達集團(Dalian Wanda)有可能出價收購UFC。協商正在進行中，並可能於7月底定案。(繼續閱讀)', 'view_cnt': 72}, {'link': 'http://www.appledaily.com.tw//realtimenews/article/politics/20160511/858707/鄭捷槍決\\u3000民進黨：執行死刑是法務部權責', 'category': '政治', 'title': '鄭捷槍決\\u3000民進黨：執行死刑是法務部權責', 'time': '2016/05/11 15:45', 'summary': '捷運殺人犯鄭捷昨天被槍決，民進黨發言人阮昭雄下午在民進黨中常會後回應媒體詢問表示，死刑執行有既定的程序、機制，屬於法務部的權責，民進黨沒有評論。\\xa0至於民進黨上任後是否執行死刑，阮昭雄強調，民進黨的態度很清楚，關於鄭捷這類的隨機殺人事件是社會悲劇，當務之急是儘速建置更完備的社會安全防護網，避免類似犯罪再次發生，這是新政府未來努力方向。（曾盈瑜／台北報導）', 'view_cnt': 830}, {'link': 'http://www.appledaily.com.tw//realtimenews/article/nextmag/20160511/858732/【壹週刊】7月開唱\\u3000Bii想起往事眼眶紅', 'category': '壹週刊', 'title': '【壹週刊】7月開唱\\u3000Bii想起往事眼眶紅', 'time': '2016/05/11 15:45', 'summary': '人氣歌手Bii畢書盡即將於7月16日在台大體育館舉辦個人首次大型售票演唱會「Catch Your Double Eye」，在台灣出道10年，從2011年大河岸演唱會一路唱到今年的台大體育館，Bii看到過往的紀錄影片，不禁紅了眼眶。\\xa0為了呈現不同風貌的Bii畢書盡，主辦單位就是娛樂與老鷹音樂特地首創B字型特殊舞台設計，不惜犧牲演唱會近千個位置，希望讓歌迷見證Bii 畢書盡出道6年來的成長經歷，Bii表示演唱會沒有特別來賓，將展現火力全開的面貌，獻給一路支持他的粉絲。演唱會將於5月14日晚上7點7分，於KKTIX及全家便利商店售票，更表示沒有公關票，讓喜歡Bii的歌迷都能順利買到票，在7月16日進場欣賞Bii畢書盡的精彩演出。（撰文：娛樂組）\\xa0「更多精彩壹週刊內容請點我」\\nBii畢書盡的演唱會，首創B字型舞台設計，不惜攜牲台大體育館上千個座位。（老鷹音樂提供）', 'view_cnt': 21}, {'link': 'http://www.appledaily.com.tw//realtimenews/article/local/20160511/858741/姑姑氣氣！嗆法務部：沒腦官員只會用子彈做事', 'category': '社會', 'title': '姑姑氣氣！嗆法務部：沒腦官員只會用子彈做...', 'time': '2016/05/11 15:45', 'summary': '鄭捷已經伏法了，但法務部的工作就只有這樣嗎？兒童權益促進會理事長王薇君今天在臉書氣憤Po文，餘怒未消，也暗諷法務部只處死鄭捷，卻沒重視她們力推的犯罪被害人改革制度，是「只想選擇簡單的事做 讓人生氣！！」\\xa0「姑姑」王薇君，近年也努力推動「犯罪被害人保護制度」改革，但似乎仍覺不見法務部誠意，今日於臉書氣憤寫道「法務部只想選不需用腦 輕輕鬆鬆用『子彈』做事？」、「『犯罪被害人保護制度改革』法務部重視這個制度的大問題嗎？聽到看到了我這幾年來的呼籲嗎？（和法務部面談三年了完全沒下文，法務部你們的腦呢？該不會是腦死了吧？）」\\xa0最後心情還註明是「覺得沒腦官員只會用『子彈』做事好棒棒呢！」諷刺意味濃厚。\\xa0有網友留言支持「先殺幾個壓壓驚，轉移焦點後，就可以不用管被害人，及其他健全社福制度的問題了。」、「現在是拿鄭捷當成績單在繳...老實說~不削!!!」，王也回應「只想選擇簡單的事做 讓人生氣！」\\xa0但也有人不認同，留言「我是認為這是兩回事... 反過來說,也可以努力在受害人保護機制之下,讓受害者能真正的寬恕加害人. 只是,不論死刑與否,不會做的政府還是不會做.」、「所以.重視問題是要法務部還是敎育部,法務部本來就是執行司法正義,你罵他幹嘛?」(即時新聞中心/綜合報導)\\n【想知道更多，一定要看……】鄭捷槍決\\u3000廢死聯盟怒批「等於現場轉播」【鄭捷槍決】藤井樹批廢死\\u3000「誰被冤枉了嗎？」【槍決鄭捷】廢死聯盟：羅瑩雪會被記得做了什麼事情', 'view_cnt': 2611}, {'link': 'http://www.appledaily.com.tw//realtimenews/article/finance/20160511/858745/昔日帽子大王戴勝通\\u3000當導遊帶團玩', 'category': '財經', 'title': '昔日帽子大王戴勝通\\u3000當導遊帶團玩', 'time': '2016/05/11 15:45', 'summary': '過去人稱「帽子大王」的戴勝通，2008年歷經家族事業「三勝製帽」倒閉，一度要靠弟弟戴勝益贊助生活費。然而，承襲戴家人對觀光餐飲業的敏感度，戴勝通7年前來了個大轉彎，出版自己撰寫的旅遊書與雜誌，甚至親自「下海」帶旅行團出遊。\\xa0儘管是家族企業第2代掌門人，但三勝製帽卻是在戴勝通手上發揚光大。當年戴家三兄弟- -戴勝通、戴勝益、戴勝堂，其實最為人知曉的「戴董」就是戴勝通，因為他不僅被譽為「帽子大王」、榮獲第6屆青年創業楷模，還擔任過中小企業協會理事長。\\xa02004年三勝製帽在海地投資失利，2005年高幹集體出走，成立新公司打對台，同時也正臨對岸低成本的製帽產業崛起，三勝製帽旗下工廠被迫一一關閉，並且在2008年正式宣布倒閉。背負沉重財務壓力的戴勝通，還不得已接受戴勝益贊助生活費。\\xa0如同弟弟戴勝益、戴勝堂在創業路上的能屈能伸，戴勝通憑藉自己當年做董事長「吃遍天下」的經驗，以及戴家人天生對觀光餐旅的敏感度，2009年他先是以筆名「官東侑」寫了3本台灣旅遊書，2013年更創辦月刊《跟著董事長遊台灣》。\\xa03年前，戴勝通的觀光事業從紙本走向實體，成立《跟著董事長遊台灣》網站，供人訂購台灣、日本、歐洲、中東的旅遊行程，其中部分的台灣旅遊行團，還是他親自當導遊帶隊。（侯良儒／台北報導）\\xa0\\xa0戴勝通小檔案出生年：1946年 11月6日／70歲現職：《跟著董事長遊台灣》董事長籍貫：台中清水學歷：清水高中畢經歷：三勝製帽董事長、中小企業協會理事長、國策顧問等封號：因繼承家業三勝製帽，因而有帽子大王之稱家庭狀況：已婚，育有2子。父為三勝製帽創辦人戴芳，弟為王品前董事長戴勝益、大鼎活蝦董事長戴勝堂近況：˙2004年\\u3000海地投資失利、三勝製帽跳票˙2008年\\u3000三勝製帽大甲工廠遭查封˙2009年\\u3000出版《跟著董事長學點菜》、《跟著董事長挑民宿》等書，轉型成作家˙2012年\\u3000成立「跟著董事長遊台灣」粉絲團˙2013年\\u3000創辦旅遊雜誌《跟著董事長遊台灣》雙月刊，後並經營旅行社業務資料來源：《蘋果》採訪整理', 'view_cnt': 235}, {'link': 'http://www.appledaily.com.tw//realtimenews/article/politics/20160511/858692/蔡英文恭喜菲國新總統勝選\\u3000強調深化雙向交流', 'category': '政治', 'title': '蔡英文恭喜菲國新總統勝選\\u3000強調深化雙向交...', 'time': '2016/05/11 15:43', 'summary': '民進黨下午舉行中常會，發言人阮昭雄會後轉述表示，黨主席蔡英文在會中恭喜菲律賓納卯市長杜特蒂（Rodrigo Duterte）在這次菲國大選勝出，並肯定菲律賓選民投下手中一票，透過民主機制選出未來六年的領導人。蔡英文也說，台灣與菲律賓的新政府很快都將上任，未來民進黨政府將大力推動新南向政策，在各方深化台灣與東南亞各國的夥伴關係，將來也會和菲律賓新政府合作，持續推動雙方投資、產業、文化、語言、觀光、教育、人才等雙向交流。\\xa0今天民進黨中常會邀中興大學國際政治研究所所長陳牧民以「菲律賓大選之國際政經情勢分析」為題進行專案報告，並邀請台灣自由選舉觀察協會秘書長洪耀南與談。阮昭雄會後轉述，蔡英文在會中表示，關心東南亞各國重要政經情勢是增進認識、強化交流的第一步。希望未來的執政團隊能深入掌握東南亞各國的發展，也抓緊東南亞迅速發展的契機，為台灣建設與發展尋求更多國際合作機會。（曾盈瑜／台北報導）', 'view_cnt': 254}, {'link': 'http://www.appledaily.com.tw//realtimenews/article/finance/20160511/858739/富邦金EV達39.6元\\u3000年增2.3', 'category': '財經', 'title': '富邦金EV達39.6元\\u3000年增2.3%', 'time': '2016/05/11 15:43', 'summary': '富邦金今日將舉行第1季法說會，最新出爐資料顯示，截至去年底，富邦人壽隱含價值達4051億元，年增2.3%，每股隱含價值(EV)70.7元，年減21.5%，反映在富邦金每股隱含價值達39.6元，較前年底成長2.3%。\\xa0富邦人壽精算價值7196億元，換算每股精算價值(AV)125.5元，反映在富邦金每股精算價值70.3元，年增2.3%\\xa0此外，富邦金總資產在今年3月底也逼近6兆元關卡，達5.985兆元，淨值由去年底的約3680億元，回溫到第一季底約3990億元。（王立德／台北報導）', 'view_cnt': 125}, {'link': 'http://www.appledaily.com.tw//realtimenews/article/life/20160511/858661/【有片】世新漲學費說明會爆衝突\\u3000學校人員動手推學生', 'category': '生活', 'title': '【有片】世新漲學費說明會爆衝突\\u3000學校人員...', 'time': '2016/05/11 15:42', 'summary': '（上傳影帶）世新大學今召開調漲學費說明會，卻發生學校人員動手推擠學生事件。一名世新學生拍攝衝突影片，並向《蘋果》投訴指，校方上周突然宣布在今天召開漲學費說明會，但調漲學費的決策並未公開，引發部分學生不滿，該校學生組成的勞權小組今到場抗議，遭一名男子粗暴拉扯，多位學生被他用力推出門外。投訴學生指，這名動手的男子為該校課外活動組長。《蘋果》目前尚未取得校方說法，也正與該校勞權小組聯繫中。（生活中心／台北報導）\\xa0出版時間：14:39更改時間：15:42\\xa0\\xa0\\n世新大學今召開調漲學費說明會，卻發生學校人員動手推擠學生事件。翻攝臉書', 'view_cnt': 930}, {'link': 'http://www.appledaily.com.tw//realtimenews/article/life/20160511/858507/【有片】何嘉仁未正面回應\\u3000全教總痛批超收幼童罰太少', 'category': '生活', 'title': '【有片】何嘉仁未正面回應\\u3000全教總痛批超收...', 'time': '2016/05/11 15:42', 'summary': '（更新：新增影片）知名連鎖幼兒園何嘉仁旗下的台北市嘉勝、嘉維幼兒園，遭檢舉嚴重超收62位幼童，政府稽查時就把幼兒藏起來。北市教育局前天各罰4萬5000元和3萬元，並停止招生半年。全國教師工會總聯合會今天批評，何嘉仁超收所得超過1200萬，罰款連1％都不到，教育局應派具園長資格的人員接管，社會局、勞動局也應介入。教育局回應會研議加重處罰。\\xa0嘉勝、嘉維合計只能收62人，實際上超收1倍。幼兒家長賴小姐痛批，每次政府派人稽查，園方就把超收的「黑戶」幼兒藏在違章建築的房子裡，安全沒保障；部分家長上周五驚覺自己的小孩沒有保險，園方拖到昨天才給了一張「產物保險」的保險單，而非幼兒團體保險，上面也沒有保費、保額、投保日期等資訊。\\xa0家長黃媽媽說，事發多日，總公司都沒人出面解釋，教育局罰款太低，她認為幼兒園門口應張貼規定人數和違規紀錄，讓家長知道。\\xa0全教總幼教委員會副主委顏嘉辰指出，何嘉仁超收62個學生，每個月收1萬7000元，整年收入超過1200萬，北市教育局處罰太輕，令人憤怒，他認為園內教師工作超時，北市勞動局也應該去勞動檢查。立委王育敏認為業者可能已經違反《幼兒教育及照顧法》和《兒童及少年福利法》，北市社會局也要介入開罰，何嘉仁總公司也有相對責任。立委柯志恩說，18年前北市公立幼兒園可容納21％的市內幼兒，現在也才30％，成長空間不大，該業者應該先勒令停業，而不是限期改善。\\xa0北市教育局主任祕書廖文靜指出，市內幼兒園有500多所，局裡稽查人力有限，他們已經找法務局研議加重裁罰，也會要求業者退費，或提供資訊協助轉介超收幼兒到合法立案的幼兒園。\\xa0對此，何嘉仁旗下的嘉勝、嘉維幼兒園未正面回應。（蔡永彬／台北報導）\\xa0出版時間：12:09更新時間：15:42\\xa0\\n全教總兒童教育委員會副主委顏嘉辰（右）與家長等召開幼兒教育記者會。林啟弘攝', 'view_cnt': 1778}, {'link': 'http://www.appledaily.com.tw//realtimenews/article/local/20160511/858516/【影片曝光】花蓮環保局突擊稽查\\u3000非法土資場先罰300萬', 'category': '社會', 'title': '【影片曝光】花蓮環保局突擊稽查\\u3000非法土資...', 'time': '2016/05/11 15:41', 'summary': '（更新：新增影片）\\xa0花蓮縣議員張智冠接獲陳情，指壽豐鄉志學村有一處占地逾萬坪的非法土資場，今會同議員謝國榮帶縣府官員直搗黃龍、突擊檢查，發現場內堆放大批可二度利用的瀝青、下腳料及建築事業廢棄物，環保局長饒忠見狀說：「違法堆置，先開罰300萬元！」土石堆中驚見蔣介石半身斑駁銅像，有人笑說：「落難王者也依然保持微笑。」\\xa0半身銅像早已落漆斑駁不堪，還好下方註明「總統遺像」才能勉強辨認，身邊還擺放一尊彌勒佛像，兩尊塑像笑容可掬、氣度悠然。議員與環保局督察人員現場會勘，但占地萬坪土資場早人去樓空，巧遇2名男子開聯結車、貨車進場被警方攔下，警方問說老闆在哪？2人辯稱：「我是來找工作，其他一概不知。」警斥說：「開聯結車找工作？你再掰啊！」\\xa0張智冠表示，廢土、建築廢棄物堆置都有法規約束，就是有人不守法、逃避檢查，該家土資場貨源充足、品項又多，儼然成為非法土石大賣場，他要求各處室要詳查，務必揪出幕後影武者。饒忠表示，該場區未登記列管，任意堆是廢棄物可依《廢棄物清理法》第46條法辦，業者最高可處5年有期徒刑，併科300萬元罰金。（突發中心王文傑／花蓮報導）\\xa0出版時間：12:31更新時間：15:41\\xa0\\n查非法土資場見落難蔣公。王文傑攝查非法土資場見落難蔣公。王文傑攝大批建築廢棄物任意堆置。王文傑攝土資場內貨源充足儼然是土石大賣場。王文傑攝', 'view_cnt': 1069}, {'link': 'http://www.appledaily.com.tw//realtimenews/article/nextmag/20160511/858645/【壹週刊】奧日光重機行\\u3000征服頭文字D場景', 'category': '壹週刊', 'title': '【壹週刊】奧日光重機行\\u3000征服頭文字D場景', 'time': '2016/05/11 15:40', 'summary': '進到日本栃木縣一二○號國道往奧日光山路後，氣溫驟降，我在機車後座發著抖，腦袋一片空白，無法去想究竟是因為害怕還是沒穿外套的緣故。跨上後座前，騎士們叮嚀我：「坐重機後座的訣竅就是把自己當成貨物，不要因為害怕就亂動改變車子重心。」\\xa0這群重機騎士是鴻寶重機俱樂部的車友們，此行要挑戰的是日本賽車動漫《頭文字D》的山路場景。所謂的「奧日光」在日文裡指的是枥木縣日光這個地區的深處，範圍是從中禪寺湖往北到金精峠隘口的一段山路。「奧日光」本是日本秋季賞楓的知名景點，但對追求速度與競技的重機騎士來說，眼中只有那段「伊呂波歌」的四十八個彎道。之所以會被稱為伊呂波歌，則是因為和古時和歌《伊呂波歌》的四十八個字數相同。\\xa0從奧日光一直到赤城山這段路程，有相當多適合機車騎士以及後座嚇得要死的乘客休息的景點，例如「華嚴瀑布」便是其一。華嚴瀑布源自中禪寺湖，向下奔流銜接鬼怒川支流大谷川。除了因為氣勢磅礡成為日本三大瀑布之一，更因為作家夏目漱石的學生藤村操在此留下一篇厭世遺書「巖頭之感」後跳崖自盡，引得當時許多學子爭相模仿。（撰文、攝影：王志元）\\xa0「更多其他壹週刊內容請點我」', 'view_cnt': 145}, {'link': 'http://www.appledaily.com.tw//realtimenews/article/politics/20160511/858725/【有卦】羅瑩雪拒答Ａ濫\\u3000原來是這件事不能說', 'category': '政治', 'title': '【有卦】羅瑩雪拒答Ａ濫\\u3000原來是這件事不能...', 'time': '2016/05/11 15:40', 'summary': '法務部長羅瑩雪昨天中午錄《蘋果》「紅芯Ａ-真心話大冒險」時，婉拒主持人Ａ濫問「任內簽署11個死刑犯的執行」的問題，不料她跑完行程，下午回辦公室就簽了鄭捷死刑的執行令。兩位主持人昨晚在臉書提起此事，雖然意外又震驚，又覺羅瑩雪言談之間已露端倪。\\xa0《蘋果》製作單位4月底邀羅瑩雪當5月4日的「紅芯Ａ-真心話大冒險」來賓，羅瑩雪主動要求改到昨天（10日），錄影時羅瑩雪侃侃而談，三人聊到忘了時間。但她離開攝影棚時，被記者追問「法務部是否儘快執行鄭捷死刑？」，眼神明顯閃爍了一下。\\xa0昨晚「鄭捷即將執行死刑」消息傳出，「紅芯Ａ」兩位主持人齊呼：「怎會那麼巧？」不約而同在臉書抒發心情。\\xa0Ａ濫在臉書寫著：「我之前擬了一個問題，羅部長在任內簽署11個死刑犯的執行，這根本違背妳個人的信仰。結果她來了、在梳化時看到這個問題，便請部屬來轉達不要這樣問，我只好換個方式問。最後，她給我的答案，是死刑也是佛教所說的『因果循環』，似乎透露出一點簽署鄭捷死刑執行的心態。」\\xa0徐巧芯也在臉書寫：「今天才跟她討論有關死刑的議題，晚上就聽到鄭捷伏法的消息，老實說我蠻震驚。」\\xa0兩邊支持者對羅瑩雪火速執行鄭捷死刑的看法，大不相同，Ａ濫網友多不認同。有人罵：「她自己這樣亂搞，是有把因果循環放在眼裡嗎??」、「因果本來是鄭捷和被害人的，若決定執行這個槍決時有任何算計，羅部長也攪入這因果了」，還有人用羅瑩雪的名言挖苦拒答事件：「這問題有很難嗎？答案不就是：然後就死掉了！然後就死掉了！然後就死掉了！」\\xa0徐巧芯臉書的粉絲，挺此事居多，有人罵「人權是善良者之冠冕，反之放在惡人頭上就變成免死金牌…情何以堪？天理何在？」「我還是要罵羅部長，為何不多斃幾個？場地都佈置好了，只一個伏法，這對被奸殺死掉的冤魂們太不公平了！」還有人問徐巧芯：「是震驚還是驚喜？」（動專題組╱台北報導）\\xa0更多羅瑩雪真心話，通通在11日晚間七點「紅芯Ａ-真心話大冒險」請鎖定 \\xa0蘋果LIVE', 'view_cnt': 1334}, {'link': 'http://www.appledaily.com.tw//realtimenews/article/life/20160511/858730/高鐵行李專區無監視器\\u3000行李被偷難追查', 'category': '生活', 'title': '高鐵行李專區無監視器\\u3000行李被偷難追查', 'time': '2016/05/11 15:40', 'summary': '高鐵車廂有設置大型行李置放空間，方便旅客不用把行李帶進座位，不過，有旅客遺失行李，行李區卻無監視器，找不到竊賊，恐成為治安死角。對此，台灣高鐵表示，目前會請鐵路警察及保全加強巡邏。\\xa0台南吳小姐表示，四月三十日和友人搭乘高鐵到台中旅遊，上車後兩人都把行李箱放在車廂的大型行李置放空間，兩人坐進車廂中，下車時，卻找不到她的行李箱，當下通報列車長，現場沒有設置監視器，到各車廂廁所搜尋都查無所獲，只好報案，她說，「行李放置區竟無監視器，對乘客完全沒有保障！」以後只能把行李推到座位旁就近保管。\\xa0鐵路警察局刑警大隊副大隊長鄭家昇表示，今年已接獲兩起民眾報案行李遺失案，正在過濾各車站監視畫面，清查竊嫌樣貌。\\xa0台灣高鐵公司表示，目前車廂內並無監視器，基於車廂氣密性，日本原廠不建議加裝監視器，但已在新採購合約中納入裝設監視器要求，同時也已協調鐵路警察提高隨車巡邏次數，並會要求隨車保全加強車廂內巡檢，以避免行李遺失案件再發生。\\xa0台南市消保官楊璿圓表示，在車廂內裝設監視器恐引起侵犯旅隱私的爭議，基於維護消費者財產安全，她贊成在不侵犯他人下，裝設監視器，同時，建議行李最好隨身保管，若有大型行李，高鐵可考慮在列車上成立有專人管理的寄放專區。(投訴組／台南報導)\\xa0\\n吳小姐出示報案單表示，四月底搭乘高鐵，把行李箱放在車廂上的行李專區被偷，因無監視器，目前仍找不到小偷。投訴人提供吳小姐二十吋的行李箱第一次使用就被偷，圖為行李箱外觀。投訴人提供\\n圖為高鐵大型行李專區。資料照片，非當事車廂。', 'view_cnt': 150}, {'link': 'http://www.appledaily.com.tw//realtimenews/article/entertainment/20160511/858738/【大數聚】當夢幻無法隨現實長大：台灣偶像劇的矛盾困境(下)', 'category': '娛樂', 'title': '【大數聚】當夢幻無法隨現實長大：台灣偶像...', 'time': '2016/05/11 15:40', 'summary': '本內容由網路溫度計提供\\xa0(還不瞭解歷年偶像劇的男女主角年齡變化？請見第一集、第二集！)\\xa0從三大要素檢視偶像劇的轉型！而要進一步檢視偶像劇的文本轉型問題，就從構成原始偶像劇的三大要素「愛情至上」、「青春」、「夢幻浪漫」來看吧！「愛情至上」背後代表的是偶像劇的題材選擇；「青春」背後代表的是偶像劇的角色年紀；「夢幻浪漫」背後代表的是劇中角色的身分和所在環境與現實差距多少。題材選擇方面，我們先用和愛情有關的關鍵字，包括「愛」、「戀」、「情」等，去粗略檢視366部偶像劇劇名，發現劇名包含「愛」字的有69部、「戀」字17部、「情」字30部。雖然當中劇名可能重複包含這些關鍵字，例如「好想談戀愛」就同時包含戀跟愛，但仍可看出愛情還是偶像劇想探討的主題，但是否為愛情「至上」則無法透過劇名來解釋。偶像劇角色的年紀由於已經是問題當中被認為有疑點、被檢視的對象，因此我們先暫時跳過不看。至於偶像劇劇情「夢幻浪漫」與否，我們則試著用劇中男女主角的「身分」為何來觀察。\\xa0偶像劇的男女主角都是什麼身分？這裡一樣挑出偶像劇人物檔案中有「描述到第一男、女主角身分」的資料來看，我們先檢視過去16年整體來說，劇中的男女主角分別扮演什麼樣的社會角色為多。2000-2015年間的偶像劇中，我們共歸納出287齣戲的女主角身分，其中由最大族群前五名依序排列，分別是：大學生50位（17.42％）上班族39位（13.59％）高中生23位（8.01％）公司主管20位（6.97％）富家千金15位（5.23％）\\xa0(示意圖由此去)\\xa0男主角部分，我們則歸納出304位的身分，一樣由最大族群前五名依序排列，分別是：大學生42位（13.82％）總經理/董事長25位（8.22％）高中生21位（6.91％）公司主管19位（6.25％）富家公子19位（6.25％）\\xa0(示意圖由此去)\\xa0要稍作說明的是，這裡「公司主管」的定義是受僱中階管理階層，例如「我可能不會愛你」的女主角程又青擔任鞋業公司北區區長即是。而「總經理/董事長」分類則偏向負責大企業經營者，例如「命中註定我愛你」的男主角紀存希是亞洲最大日用化工集團「魔法靈集團」企業第九代的執行長、「幸福最晴天」男主角是天宇集團總裁等，就屬此類。就觀眾投射自身的角度（也就是女主角）來看，學生族群（高中生＋大學生）佔了1/4，較貼近輕熟齡族群的身分（上班族＋公司主管）佔1/5，夢幻不切實際的代表（富家千金）則佔1/20。就觀眾嚮往的愛情角度（也就是男主角）來看，學生族群（高中生＋大學生）佔1/5，較貼近輕熟齡族群會接觸的身分（公司主管＋上班族）佔約1/10，夢幻不切實際的代表（總經理/董事長＋富家公子）則佔1/7。看出端倪了嗎？在女性觀眾自身投射的角色（女主角）中，夢幻不切實際的角色佔比明顯比貼近自身身分的角色來得少；但在戀愛對象的投射角色（男主角）中，夢幻不切實際的角色卻比貼近自身身分的角色要多。\\xa0不論如何，就是愛看總裁高富帥系列！我們再進重新搬出「2010年主角年齡轉捩點」來檢視角色身分。女主角方面，2000-2009年共140位辨識得出身分的角色中，排名前五大的族群依序是：大學生40位高中生21位富家千金13位上班族7位設計師4位\\xa0(示意圖由此去)\\xa0學生族群佔了四成（40.15％）為大宗，貼近生活角色的上班族（包括設計師）佔7.86％，夢幻角色富家千金ˊ則佔9.29％。到了2010-2015階段，共147位辨識得出身分的女主角中，排名前五大的族群依序是‧‧‧‧‧‧\\xa0究竟近期的偶像劇中，女主角的職業產生了什麼變化？而男主角的職業又都是什麼類型呢？讓我們繼續看下去！(作者：渴膩怒)\\xa0本文未完，精采全文詳見當夢幻無法隨現實長大：台灣偶像劇的矛盾困境(下)\\xa0【更多精采文章，請上《大數聚官網：http://group.dailyview.tw》；《DailyView網路溫度計官網：http://dailyview.tw》；《DailyView網路溫度計粉絲團www.facebook.com/DailyView.tw》未經授權，請勿轉載！】', 'view_cnt': 362}, {'link': 'http://www.appledaily.com.tw//realtimenews/article/politics/20160511/858669/【有片】國宴菜色曝光\\u3000小英唯一要求：有客家料理', 'category': '政治', 'title': '【有片】國宴菜色曝光\\u3000小英唯一要求：有客...', 'time': '2016/05/11 15:39', 'summary': '更新：新增影片\\xa0準總統蔡英文即將於下周五就職，當天的國宴料理也成為各界矚目的焦點，負責製作的台北萬豪酒店今天也舉行記者會，正式對外公布國宴菜色並請師傅現場烹調「錦繡菊花雞湯」料理。民進黨媒體創意中心主任李厚慶表示，當天菜單也結合Qrcode條碼，首度將菜單的產銷履歷掛在總統府官網，讓當天參與國宴的賓客，能夠用手機就輕鬆連結到總統府官網，觀看菜單的完整產銷履歷。\\xa0李厚慶說明，會採取QRcode掃描履歷的方式，是延續蔡英文的「食安五環」政策，讓大家了解產銷履歷，兼顧食品安全。李厚慶表示，菜色大概從三月初就開始規劃，關於菜色搭配、餐具使用與各國來賓的使用餐具、食用習慣，再持續討論調整。\\xa0520當天的前菜與主菜菜色分別為前菜小盤為雲林刺蔥帝豆 / 梅汁大甲芋頭 / 醋漬木耳蓮藕，其他菜色則是福爾摩沙之春、蔥蒜蒸龍蝦、爐烤快樂豬、百合綠時蔬、樹子蒸龍膽、客家炒粄條，飲品則是東方美人茶與古坑咖啡。萬豪飯店表示，菜色很完美，但是甜點更是讓人驚艷，不過，周六才會對外公布國宴甜點。\\xa0至於新任總統蔡英文對菜色是有有特別要求，萬豪飯店中餐總主廚高鋼輝指出，因為蔡英文是客家人，所以特別有要求客家料理的呈現，其中經過黨部試菜後，也是最喜愛客家炒粄條這道料理。李厚慶表示，由於蔡英文是「客家妹」，所以當然希望把代表客家的料理，讓前來國宴的客人都能享用，這是一種分享的概念。（黃信維／台北報導）\\xa0出版：15:29更新：15:39\\xa0\\xa0\\n蔡英國宴菜色曝光。莊宗達攝前菜。莊宗達攝福爾摩沙之春。莊宗達攝蔥蒜蒸龍蝦。莊宗達攝爐烤快樂豬。莊宗達攝百合綠時蔬。莊宗達攝樹子蒸龍膽。莊宗達攝客家炒粄條。莊宗達攝錦繡菊花雞湯爐烤快樂豬。莊宗達攝', 'view_cnt': 4111}, {'link': 'http://www.appledaily.com.tw//realtimenews/article/finance/20160511/858723/三貝德Q2攀高峰\\u3000今年營收拼破10億', 'category': '財經', 'title': '三貝德Q2攀高峰\\u3000今年營收拼破10億', 'time': '2016/05/11 15:39', 'summary': '全台最大K-12（幼兒園至高中）數位教育領導廠商三貝德（8489）累計前4月營收2.2億元，年增逾35%，展望第2季，總經理魏宏泰表示，台灣數位學習產值在2015年成長23%至546億元，看好傳統升學考試旺季，不管是國高中生學員的招生與升學產品的銷售成長趨勢明確，有助新增學員人數保持高比率成長，另正式跨入線上live課程，來擴展升學市場外龐大的外語學習商機，預期第2季營運將再攀高峰，法人預估，第2季營收至少2.1億元，季增至少3成，董事長史勇信樂觀預期，今年營收目標可望突破10億元。\\xa0中國市場數位市場方面，魏宏泰說，中國成長非常火熱，2015年數位教育總投資額達6000億元，為搶攻大陸數位市場，已在廣州透過小量試做，希望未來在教學及商業模式取得中國認同後，將台灣的經驗直接複製到大陸市場，並透過加盟、自營或公播3軌併行，搶進中國市場。\\xa0另與科見合作的線上live課程，4月底就會正式上線，初步目前1年使用的學生目標是3000人，預估第3季就會有營收貢獻。\\xa0至於新增學員方面，今年預估新增2.5萬人，其中希望高單價使用會員可佔1萬人，扣除畢業的學員，今年底總學生約可從去年的4.5萬人增至5.2~5.5萬人。\\xa0他進一步指出，全年段、全功能、全載具，是三貝德數位教育產品的核心競爭優勢，可同時兼顧補習班與家教兩者的優點，並且增進家長與學生間在學習上的互動，這也是三貝德營運持續創高的重要關鍵。\\xa0因應107年課綱修改，因此，今年將在國高中銷售人員大幅擴編，魏宏泰說，目前公司銷售人員約200人，今年預計再擴增5成，總人數將增至300人。\\xa0他說，首季營收因為升學王先修，年增34%，達1.61億元，展望第2季，隨著傳統升學考試旺季，營收會逐步增溫，到第3季達到高峰。\\xa0董事長史勇信進一步指出，因應數位市場快速成長，公司在行銷成本也大幅增加，預估成長支出將由去年的1800萬增至2800萬，預估其效益對營收貢獻，預估至少年增3成，營收目標突破10億元。（高佳菁／台北報導）', 'view_cnt': 83}, {'link': 'http://www.appledaily.com.tw//realtimenews/article/entertainment/20160511/858207/【辣片】方文琳比基尼射C彈\\u3000害男星流鼻血', 'category': '娛樂', 'title': '【辣片】方文琳比基尼射C彈\\u3000害男星流鼻血', 'time': '2016/05/11 15:38', 'summary': '(新增動新聞)美魔女方文琳日前拋下2個女兒帶媽媽到沖繩過母親節，碧海藍天的美景讓她身心放鬆，還大方換上火紅比基尼戲水，50歲白皙肌膚配上C罩杯火辣身材大吸網友眼球，連星友張勛傑都忍不住留言：「很難不洗版～流鼻血中！」\\xa0其實方文琳已結束5天4夜的沖繩之旅，因答應網友如果按讚人數增加就po比基尼照，昨晚她實現承諾：「答應你們，說穿比基尼就比基尼，雖然不是第1次穿（只敢在國外），倒真是第1次發，而且還是真真實實的動態。」\\xa0因在家人、朋友面前可以很放膽盡情玩樂，加上沖繩的沙灘很乾淨、海水很清透，舒服得誘她換上比基尼下海游泳，臉友誇她「身材真沒話講，可以拍個寫真集」，她卻謙虛回「還差遠了……」，只肯讓火辣身影留在沖繩。（黃于珊／綜合報導）\\xa0出版時間：00：50更新時間：15：38\\xa0\\xa0\\n方文琳換上比基尼躺在沖繩沙灘上，女兒還幫她P成美人魚。翻攝方文琳臉書方文琳在親友面前盡情享受沖繩美景。翻攝方文琳臉書', 'view_cnt': 44396}, {'link': 'http://www.appledaily.com.tw//realtimenews/article/local/20160511/858380/【影片】張正翰之母謝羅瑩雪\\u3000「心中能放下一點」', 'category': '社會', 'title': '【影片】張正翰之母謝羅瑩雪\\u3000「心中能放下...', 'time': '2016/05/11 15:38', 'summary': '（更新：張家祭拜祖先和現場相片、新增影片）\\xa0在鄭捷昨晚遭到伏法法，被害人張正翰的母親張素密今天到農會上班前，接受媒體訪問，她說，聽到同事打電話來講鄭捷已經伏法了，她一件事就對天向張正翰說，「殺你的惡魔已經伏法了。」\\xa0張素密說，「她很謝謝司法站在被害人這一方，感謝羅瑩雪部長，即使孩子死了再怎麼痛，心中也能放下一點。」\\xa0張素密說，身為父母就只有一個心願，就是希望社會回歸到正常，每個孩子都能快快樂樂出門，平平安安回家。我們要求的不多，只要能平安健康就好。\\xa0張正翰的父親張振源和張素密和弟弟張書僑3人在今天上午11時一同請假在位在溪口郵局對面的張氏宗祠祭拜張正翰和張家的祖先，張書僑還向大哥說，大哥你可以放心走了，家裡的父親親我會幫你照料。場面令人感動（王智勇／嘉義報導）\\xa0出版時間：10:21更新時間：15:38\\xa0\\n張正翰母親張素密和父親張振源聽到鄭捷伏法，今天上午第一件事就是張氏宗祠祭拜祖先。王智勇攝張振源和張素密夫妻二人站在張氏宗祠前感謝社會各界的關心。王智勇攝\\n張素密準備了張正翰生前最愛吃的溪口名產鳥仔餅祭拜,告訴他張正翰伏法了。王智勇攝', 'view_cnt': 8109}, {'link': 'http://www.appledaily.com.tw//realtimenews/article/international/20160511/858438/【有片】接待習近平「真倒楣」\\u3000英女王批中國言論曝光', 'category': '國際', 'title': '【有片】接待習近平「真倒楣」\\u3000英女王批中...', 'time': '2016/05/11 15:37', 'summary': \"（更新：增加動新聞影片）\\xa0英國女王昨天（10日）在白金漢宮花園出席首場夏季花園派對，其間會見倫敦警察廳指揮官朵爾西（Lucy D'Orsi），提到她對中國國家主席習近平伉儷去年訪問英國的感受，直指他們對大使非常無禮。整段對話被御用攝影師威爾金森（Peter Wilkinson）拍下，並發送到全國廣播機構，意外曝光。\\xa0當時，宮務大臣皮爾（William Peel）向英國女王介紹指揮官朵爾西，以下是他們的對話：\\xa0皮爾：我可否向你介紹指揮官朵爾西，是中國國是訪問期間的首席指揮官...英女王：噢，真倒楣。皮爾：她（朵爾西）嚴重、嚴重被中國人傷害，但她成功撐過來並且維持領導工作。這是她母親，朱迪絲（Judith），涉足保護兒童及社會工作。朱迪絲：對，我為愛女感到非常驕傲。皮爾：你必須說說你的故事。朵爾西：對，我是首席指揮官，我不太確定你是否知道，對我來說那是相當考驗的時刻。英女王：對，我知道。朵爾西：那是，呃，我想他們走出蘭開斯特宮的那一刻，跟我說行程告吹，我感到……英女王：他們對大使非常無禮。朵爾西：他們是……\\u3000這個……\\u3000對，她在那，芭芭拉（Barbara Janet Woodward，中國駐英大使吳百納）跟我在一起，他們當我們的面離去。女王：離譜。朵爾西母親：我知道，難以置信。朵爾西：我覺得非常無禮，也不符合外交禮儀。\\xa0（國際中心／綜合外電報導）\\xa0更多國際新聞請進蘋果繞著地球爆\\xa0發稿：11:21更新：15:37\\n【想知道更多，一定要看……】習近平訪英多無禮？\\u3000英警官不肯說習近平訪英「無禮事件」\\u3000當天威廉夫妻.成龍作陪中國國家主席習近平伉儷去年訪問英國。資料照片英女王（右）在白金漢宮花園出席首場夏季花園派對，其間會見倫敦警察廳指揮官朵爾西（左）。翻攝BBC\", 'view_cnt': 82822}, {'link': 'http://www.appledaily.com.tw//realtimenews/article/finance/20160511/858670/【有片】彰銀案\\u3000台新金：進退願配合新政府政策', 'category': '財經', 'title': '【有片】彰銀案\\u3000台新金：進退願配合新政府...', 'time': '2016/05/11 15:36', 'summary': '更新：新增影片台新金今日舉行法人說明會， 彰銀經營權問題仍是市場關注焦點，台新金財務長林維俊表示，過去彰銀標購案是在將任行政院院長林全當年出任財長所完成，如果新政府要持續這個政策，現增募集預做準備，但如果新政府改變政策，不違及台新股東權益下，也願意配合退場。\\xa0台新金日昨董事會也通過擬發行戊、己兩種特別股籌資，合計發行75億股，在特別股多採溢價發行下，台新金可望至少從市場募集800、900億元資金，募集資金之大引發市場與銀行經營權保衛戰進行聯想，林維俊強調，此時大舉增資「純屬時間上的巧合」，沒有針對性，外界不要賦予太多聯想。\\xa0另就整體獲利而言，台新金第1季稅後純益約為38億元，較去年同期減少約15%，主要是受提存TRF的損失準備約5億元影響；第1季每股稅後純益0.41元，年化股東權益報酬率(ROE)13.2%。\\xa0林維俊表示，對於今年業績持看好態度，尤其是中小企業放款可望有超過15%的成長。（林潔禎／台北報導）\\xa0出版：14:49更新：15:36\\xa0\\n台新金財務長林維俊。吳貞慧攝', 'view_cnt': 682}, {'link': 'http://www.appledaily.com.tw//realtimenews/article/life/20160511/858704/誇張！海研五號8月打撈\\u3000恐再跳票', 'category': '生活', 'title': '誇張！海研五號8月打撈\\u3000恐再跳票', 'time': '2016/05/11 15:33', 'summary': '立院衛環委員會今邀相關部會報告「德翔臺北」輪船體移除作業是否符合海洋環境保護需求及後續污染賠償作業。立委楊曜質詢批評，前年10月10日國慶日在澎湖外海觸礁沉沒的海研五號，至今未打撈，今年2月比德翔臺北擱淺更久，至今仍擱淺的耘海輪也還沒善後。\\xa0交通部航港局副局長林昌輝證實，國研院對於海研五號是否要打撈仍有意見，並且提出行政訴願，但約兩個星期前遭到行政院駁回，尚不知道國研院是否會提行政訴訟，可能要等整個法律程序都走完，才能要求國研院打撈海研五號。\\xa0前年10月10日在澎湖外海觸礁沉沒的海研五號至今未打撈。楊曜說，海研五號是國家的，竟然到現在還沒打撈，他憂心沈船恐破壞海底電纜、危害行經船隻和生態環境，且當時立院有要求國研院今年8月前完成移除。\\xa0航港局透露，因保險公司對有無必要打撈仍有意見，粗估約要台幣3億至5億元，國研院因此向交通部提起不打撈沉船的訴願，等法律程序全部駁回，保險公司才願理賠打撈費用。\\xa0另外，擱淺澎湖海域的耘海輪，林昌輝說，因為船身破了33個洞，且卡在礁岩，無法採浮揚方式處理，明天將會現場查看，決定如何處理。（洪敏隆／台北報導）', 'view_cnt': 676}, {'link': 'http://www.appledaily.com.tw//realtimenews/article/finance/20160511/858712/APEC貿易部長會議17日登場\\u3000聚焦2大議題', 'category': '財經', 'title': 'APEC貿易部長會議17日登場\\u3000聚焦2大...', 'time': '2016/05/11 15:32', 'summary': '第22屆APEC貿易部長會議將於5月17~18日舉行，此行由於時機敏感，適逢新舊政府交接期，此行將由經濟部次長楊偉甫與國貿局長楊珍妮帶隊前往秘魯，與20個會員國交流。\\xa0據悉，中國將派部長級出席，市場關注是否重演先前世界鋼鐵會議時，中國代表以我國層級不夠為由，逼我不得參加會議等小手段？楊偉甫說，APEC是以會員體為組成組織，過去都有得到應有尊重，如果有狀況會充分表達，且駐外代表或國安會等都會協助，目前參加資深官員會議回報狀況都正常。\\xa0是否安排中國對於服貿、貨貿等議題交流？楊偉甫說，國際場合上交流是很正常，不過這次APEC議題安排非常緊湊，新政府上來也希望雙方有更好發展模式，若有適當機會一定會表達善意。\\xa0此次APEC貿易部長會議將聚焦「區域經濟整合」及「微中小企業的國際化」兩大議題，會議將延續討論去年的幾項重點進度包括一、進行亞太自由貿易區「共同策略性研究」的撰寫，二、檢視區域供應鏈連結的表現，三、發展APEC服務業競爭力路徑圖，提高服務業帶動經濟成長的潛在能量。(江俞庭／台北報導)', 'view_cnt': 127}, {'link': 'http://www.appledaily.com.tw//realtimenews/article/international/20160511/858369/可負擔宅比例加倍可打房？反對者：只會讓建商不想蓋', 'category': '國際', 'title': '可負擔宅比例加倍可打房？反對者：只會讓建...', 'time': '2016/05/11 15:31', 'summary': '（更新：增加動新聞影片）\\xa0舊金山住房問題越演越烈，許多人認同蓋更多房子及可負擔住宅，才能打房價。有市議員提議修訂現有規定，即「每個建案中必須包含12%可負擔住宅」，重新討論可負擔宅比例，並在討論定案前先將百分比暫調到25%。但遭反對陣營質疑此舉會減低建商蓋房意願。\\xa0趁著本週「提前投票（early voting）」開跑，希望選民支持舊金山開發更多建案的陣營，在市政府前拉票，希望選民能支持相關的法案，並對「重審可負擔住宅比例，並在重審過渡期間先將百分比暫調到25%」的C提案（Proposition C）投下反對票。\\xa0C提案是市議員金貞妍（Jane Kim）倡議。她希望選民能同意移除市憲章裡，針對開發商在每個建案中必須涵蓋的12%可負擔住宅比例規定，並由市議會重新討論後，再訂定新的比例。但在拍板定案前的過渡期，該法案將把百分比調高兩倍至25%。\\xa0今天到場反對C提案的民眾，44歲的史渥客（John Schwark）十分憂心目前舊金山房市供不應求，房價居高不下的情形：「根據專家的數據統計，若要求建商多蓋25%的可負擔住宅，將會降低投資者出資的意願，導致建商少蓋30%的房子。 」他認為支持該法案的人目的是希望建商打退堂鼓，少蓋一點房子，「因為他們不希望舊金山太過擁擠」。他也認為新建案跟新的可負擔宅兩者的開發並不衝突，不認為建商開發符合市場價格的住房，會影響到可負擔房屋的興建。\\xa0在舊金山小業主協會擔任董事的招霞（Josephine Zhao）也認為，舊金山應該為各階層多蓋不同類型的住房，否則僧多粥少，房價自然就貴。「尤其是像我們這種人，不是有錢人但也不是太窮，我們現在買不到房子。」\\xa0她與史渥客一樣，以擔心25%將減少建商開發建案為由，反對Ｃ提案。她認為，可負擔宅比例應由建商視狀況自訂。「對於他們來說，負擔不起的話，整個物業就因為這25%而無法蓋 。 但若他們自己訂，房子就蓋得了。有些物業若地皮便宜的話，說不定他們可以多蓋50%甚至100％的可負擔住宅。」\\xa055歲的胡太太則批評C提案是「真空法案」，不顧其可行性，「是左派候選人為了拉攏選票提出的」。她更把增加可負擔宅跟保障租客的現有法案相提並論，表示法律上房東不能依照自己的情況收回租屋自住，與房客的權利不平衡。「一些市議員經常只顧及房客的權益，把責任都加諸在業主身上，像我們這樣獨立屋的屋主經常被剝削。」\\xa0面對指控，金貞妍辦公室澄清，若該議案通過，屆時市議會將參考市府做的影響評估，再做比例調整。稅捐稽徵局第一階段的評估報告將在7底完成，且每三年會重新審查一次。而針對建商找不到資金而負擔不起的說法，他們強調，依照目前的節節升高的房市，多蓋房子只會讓建商多賺，持續收益。（王欣儀／舊金山報導）\\xa0發稿：10:04更新：15:31\\n舊金山住房問題越演越烈，趁著本週「提前投票」開跑，希望選民支持舊金山開發更多建案的陣營，在市政府前拉票。王欣儀攝許多華裔爺爺奶奶也出來支持開發。王欣儀攝支持開發的陣營，反對C提案，認為增加建案需包含的可負擔住宅比例，會降低建商蓋房子的意願。翻攝sfyimby.org支持舊金山應該多蓋住房的舊金山民主黨中央委員會委員安德生（Kat Anderson）表示中央委員會是挺C提案的。王欣儀攝', 'view_cnt': 1131}, {'link': 'http://www.appledaily.com.tw//realtimenews/article/local/20160511/858500/\\u200b【影片打臉駕駛】貨車臨停路中撿包\\u3000轎車反應不及追撞駕駛命危', 'category': '社會', 'title': '\\u200b【影片打臉駕駛】貨車臨停路中撿包\\u3000轎車...', 'time': '2016/05/11 15:31', 'summary': '(更新：新增影片)\\xa0宜蘭縣宜191甲線冬山鄉貓里武淵橋下橋處，上午9時10分許發生轎車追撞小貨車的車禍，因撞擊猛烈，轎車男駕駛一度受困車內，警消獲報抵達，以破壞器材將轎車內的男駕駛救出，但已無生命跡象，經緊急送往羅東博愛醫院搶救後救回生命徵象，還在加護病房搶救，不過警方調閱轎車行車記錄器才發現，貨車打著雙黃燈臨停在馬路上，貨車駕駛準備下車撿包包，而後方轎車駕駛反應不及才會直接撞上。\\xa0宜蘭縣政府消防局獲報後，派遣羅東、冬山分隊救護人員前往搶救，當時轎車駕駛卡在車上動彈不得已無生命跡象，緊急用破壞器材破壞車體後把人救出，緊急送往羅東博愛醫院搶救。\\xa0警方抵達時，轎車車頭全毀，現場零件四散，小貨車停在案發前方約20公尺處，轎車的煞車痕長約16公尺。\\xa0小貨車駕駛陳錦和面對媒體追問時說，他當時要往冬山方向行駛，在該橋樑下橋時，突然傳出「砰」聲響，他說當時他行駛在內側車道，但車速不快，為何被撞上他也很莫名其妙。\\xa0警方調查，轎車駕駛為設籍在新北市新店區的50歲男子黃漢鼎，調閱轎車行車記錄器後，赫然發現小貨車當時打閃黃燈，竟停在下橋處內側車道，轎車駕駛疑似發現後閃避不及，雖緊急煞車仍直接撞上貨車車尾。\\xa0「前後才停不到十秒鐘」，陳姓駕駛才向警方坦承說，當時因包包掉落，他停車閃著雙黃燈正要撿才會停車，警方透過行車記錄器，發現貨車停車16秒。\\xa0羅東博愛醫院醫療副院長林志銘說，男子到院時已無心跳、血壓，經搶救後，已恢復心跳，但意識模糊，仍陷入昏迷，經照Ｘ光及電腦斷層掃描後發現，傷者胸口有瘀青骨折情形，是否因重力撞擊造成心因性休克或心臟本身有問題，將請心臟科醫師會診，目前傷者已送入加護病房觀察，生命垂危。（林泊志／宜蘭報導）\\xa0發稿時間：12：18更新時間：15：31\\xa0\\xa0\\n轎車車頭全毀。林泊志攝轎車車頭全毀。林泊志攝貨車陳姓駕駛。林泊志攝貨車駕駛當時為了撿包包，臨停路中央打雙黃燈，後方轎車駕駛反應不及直接撞上。林泊志攝警方現場採證。林泊志攝煞車痕長達16公尺。林泊志攝貨車駕駛陳錦和。林泊志攝', 'view_cnt': 3752}, {'link': 'http://www.appledaily.com.tw//realtimenews/article/finance/20160511/858491/【有片】鴨胸牛排低溫烹調\\u3000天蔥搶健康飲食商機', 'category': '財經', 'title': '【有片】鴨胸牛排低溫烹調\\u3000天蔥搶健康飲食...', 'time': '2016/05/11 15:30', 'summary': '民眾重視健康、自我保健的意識提高，天蔥國際（2740）針對產品品質再進化，全面採用真空低溫烹調方式，強調健康、品質並符合國人飲食習慣，策略長張國強表示，斥資百萬元全面引入低溫調理機加強產品力，期望進一步拉抬營收。\\xa0目前天蔥國際共有Mr. Onion以及Grand Mr. Onion兩個品牌，全台共33家店，張國強也說，進入夏季後，將全面更新飲料品項與品質，未來規劃由餐飲業進入飲料業，不排除與其他公司合作。\\xa0天蔥4月營收5817.5萬元，年減14.89%，累計1~4月營收2.76億元，年減2.7%。張國強指出，除了既有２個品牌外，目前也已經有新品牌Bistro Onion正在試營運，將走精緻餐飲路線，預計6月就能展出首店。（林海／台北報導）\\xa0出版：11:59更新：15:31\\n左起法式櫻桃鴨胸、特選菲力牛排、迷迭香嫩雞排。康仲誠攝天蔥國際斥資百萬元全面引入Sous Vide真空低溫烹調機。康仲誠攝', 'view_cnt': 2371}, {'link': 'http://www.appledaily.com.tw//realtimenews/article/nextmag/20160511/858625/【壹週刊】夜遊胡志明\\u3000泡酒吧慵懶聽爵士', 'category': '壹週刊', 'title': '【壹週刊】夜遊胡志明\\u3000泡酒吧慵懶聽爵士', 'time': '2016/05/11 15:30', 'summary': \"對旅客來說，夜晚胡志明市的重頭戲就在范五老街（Kho pho Pham Ngu Lao）。范五老街是越南背包客大本營，要找便宜旅館來這就對了。隨著外國遊客群集，范五老街上也發展出獨特酒吧文化。太陽一下山，那酒吧店外的高腳椅上便坐滿了穿著清涼的辣妹，一個個嗲聲嗲氣招攬著客人好像狐妖鬥法，走在路上也一堆騎著摩托車的男人挑著眉問你要不要馬殺雞。\\xa0若嫌范五老街氣質不夠，還可以到Saxn'art Jazz Club聽爵士樂。Saxn'art Jazz Club在胡志明市 Le Loi 路上，老闆Tran Manh Tuanu本身也是出過多張爵士專輯的知名薩克斯風手，從范五老街步行約二十分鐘左右。這家爵士酒吧曾被《Vietnam Economic Times》雜誌選為越南最棒爵士酒吧。一輪樂手演奏後，一位莫約四十多歲的女歌手從後台走出，老外們開始騷動紛紛遞上點歌單，看來是位在外國人圈子裡小有名氣的歌手。音樂一下，是經典曲目〈La Vie En Rose〉﹙玫瑰人生﹚，女歌手唱起香頌來有種慵懶的南洋氣息。（撰文、攝影：王志元）\\xa0「更多其他壹週刊內容請點我」\", 'view_cnt': 301}, {'link': 'http://www.appledaily.com.tw//realtimenews/article/local/20160511/858689/病母囑「讓我解脫」\\u3000弒母男判緩刑3年', 'category': '社會', 'title': '病母囑「讓我解脫」\\u3000弒母男判緩刑3年', 'time': '2016/05/11 15:30', 'summary': '台南市李姓男子疑因不忍母親久病纏身，前年12月以麻繩勒死對方，吞服大量治療痛風的藥物「秋水仙素」，企圖自殺未果，事後打電話自首。台南高分院法官認為，被告坦認犯行，自首接受裁判，受其母囑託終止其母病痛而殺人，事後自殺急救未死，可見其內心痛苦，日前依《殺人罪》判處2年徒刑，緩刑3年。\\xa0二審判決書指出，被告李姓男子（60歲）的84歲母親，因腫瘤導致肝臟異常腫大，壓迫腹部及其他器官，常年腹部疼痛不適，夜間痛醒、哀嚎，經醫師評估僅半年餘年，身心備受煎熬，起意求死。前年12月28日凌晨3時，李母疼痛難耐哀嚎，向兒子表示「幫我解脫，讓我早點走」等語。\\xa0李姓男子不忍母親常年深受病痛所苦，在李母房間，以母親繫褲腰帶的備用棉繩，勒死李母頸部窒息死亡。李姓男子陪伴母親4小時後，打電話向110自首，表示願意接受制裁，隨後服用平日治療口腔潰瘍的58顆秋水仙藥物自殺，經警員抵達戒護下，把李男戒護到成大醫院急救。（辛啟松／台南報導）\\xa0想知道更多，一定要看......勒死癌末母 60歲兒露詭笑\\xa0\\xa0\\n警方到場處理。資料照片', 'view_cnt': 909}, {'link': 'http://www.appledaily.com.tw//realtimenews/article/forum/20160511/858719/【公庫】從教育現場看鄭捷的火速槍決', 'category': '論壇', 'title': '【公庫】從教育現場看鄭捷的火速槍決', 'time': '2016/05/11 15:27', 'summary': '本內容由公庫提供\\xa0文 /\\xa0 陳登耀 (現任高中教師)2016年5月10日晚上，行刑前的3小時，才從電視新聞看到捷將被實行槍決的消息，當下的第一個想法–怎麼會這麼突然？2014年5月21日，台北捷運發生台灣史上第一件捷運隨機殺人的事件，當時轟動全台，釘死鄭捷、殺人償命的聲音響徹雲霄，而我也是其中之一。然而，這件事難道「砰！砰！砰！」三聲就結束了？死者安息？受害家屬得到補償？事情畫下完美的句點？我想當大家知道他行刑前是「不後悔也不怕死，只怕槍決過程太痛苦」的想法時，這一切應該也畫下了大問號．．（閱讀全文）', 'view_cnt': 499}, {'link': 'http://www.appledaily.com.tw//realtimenews/article/finance/20160511/858722/華碩CEO沈振來稱徐世昌\\u3000最佳創意教練\\u3000', 'category': '財經', 'title': '華碩CEO沈振來稱徐世昌\\u3000最佳創意教練\\u3000', 'time': '2016/05/11 15:27', 'summary': '對徐世昌加入，華碩執行長沈振來表示，徐世昌以前是我的教練，也是現在我的教練，他加入當策略長，首先，最欣賞他的創意跟洞察力，徐世昌未來會積極在創意跟洞察力對公司有幫助，公司決策會更快。策略長會進入董事會，為來3J（施崇棠、曾鏘聲、沈振來）＋1T（徐世昌），一起努力合作不會變。\\xa0沈振來表示，董事長施崇棠的認真度跟努力度不會變，甚至比沈振來上班還認真，每天非常專注在公司營運，這一點不會變，沈振來表示，施崇棠工作範圍不會變，組織上則要看未來變化。施崇棠仍將是華碩的傳奇精神領袖，工作熱忱不會變，只是創意上，華碩會多一個更犀利的人進來，把華碩的策略準度加強。（王郁倫／台北報導）', 'view_cnt': 190}, {'link': 'http://www.appledaily.com.tw//realtimenews/article/local/20160511/858701/鄭捷遺體在哪引關切\\u3000鄉民查出「098」', 'category': '社會', 'title': '鄭捷遺體在哪引關切\\u3000鄉民查出「098」', 'time': '2016/05/11 15:26', 'summary': '北捷殺人案兇嫌鄭捷昨晚於台北看守所執行槍決後，殯葬業者將他的遺體運送至桃園市中壢區殯葬服務中心冰存，本來說今天將有家屬認屍，還有耳語傳出家屬低調在中途領走，到底槍決後的「鄭捷」在哪？引發網友好奇，有網友透過桃園市政府殯葬管理資訊系統的資料查到，鄭捷的確是保存在冷凍櫃中。\\xa0PTT網友在八卦版，分享使用桃園市政府殯葬管理所「殯葬管理資訊系統」查詢的結果，他指出，從冷凍櫃使用狀況可看出，鄭捷的遺體並沒有被領走，依然在編號「098」的冷凍櫃。\\xa0不過也有網友猜測，有寫出來不一定真的還在裡面「瞞天過海實際上死的不是鄭捷的可能性」、「啊不是都說了，家屬在倒殯儀館前就領走了」、「同名同姓的可能性?!」。\\xa0（即時新聞中心／綜合報導）', 'view_cnt': 8082}, {'link': 'http://www.appledaily.com.tw//realtimenews/article/life/20160511/858573/【有片】見鬼了！他預言5/14起\\u3000台灣終年冬天', 'category': '生活', 'title': '【有片】見鬼了！他預言5/14起\\u3000台灣終...', 'time': '2016/05/11 15:25', 'summary': '（更新：新增影片）\\xa0你相信嗎？\\xa0網路上這兩天流傳一「預言」，台灣即將變天。\\xa0莊圓文化指出，天帝佛陀宣示，今年5月14日也就是這個星期六，上午7點開始，天氣將轉變為終年冬天，每天氣溫最高不超過20℃。\\xa0不過這項預言被氣象局狠狠打臉，因為根據天氣預報，周六起為多雲到晴，各地高溫均逾30℃，並無所謂的「終年成冬」。（王嘉慶／綜合報導）\\xa0出版時間\\u300013：05更新時間\\u300015：25\\n台灣今年1月遇到「霸王寒流」，山區積雪明顯。資料照片翻攝臉書', 'view_cnt': 51427}, {'link': 'http://www.appledaily.com.tw//realtimenews/article/local/20160511/858632/大仁哥白嫖勒索\\u3000援交女被騙3次才清醒', 'category': '社會', 'title': '大仁哥白嫖勒索\\u3000援交女被騙3次才清醒', 'time': '2016/05/11 15:24', 'summary': '台中29歲古姓女子今年三月間透過手機通訊軟體Wechat，結識一名暱稱「大仁」的方姓男子，並約定援交，不料雙方碰面後，大仁卻拿出警察服務證，要求古女給付1.2萬元，以免除援交刑責，古女沒錢，同意與對方發生性關係，「以肉償債」抵銷1萬元，完事後還補足「欠費」2千元給對方。\\xa0大仁白嫖知其味，上月八日又到古女租屋處，要了1萬元，昨天又要向古女要1萬元，古女終於覺得不對勁，報警將其逮捕，清水分局偵查隊查出假冒警察的方姓 男子（27歲），及其所持的偽造警察服務證。\\xa0警方查扣一本本票，內有四名女子簽的本票，共15張，價值近20萬元。（蕭夙眉／台中報導）\\xa0\\xa0\\n上方是真的警察證，下方是假的。蕭夙眉攝方姓男子被依照詐欺和恐嚇罪送辦。翻攝畫面清水分局偵查隊在男子身上查到畫押的本票。蕭夙眉攝', 'view_cnt': 5749}, {'link': 'http://www.appledaily.com.tw//realtimenews/article/life/20160511/858715/上周災防通報簡訊出包\\u3000NCC：民眾應速更新手機', 'category': '生活', 'title': '上周災防通報簡訊出包\\u3000NCC：民眾應速更...', 'time': '2016/05/11 15:24', 'summary': '上週地震災防通報簡訊測試出現重複接收、未接受到等狀況，國家通訊傳播委員會（NCC）表示，上週是首次完整流程測試，據了解上述狀況有可能是民眾手機軟體未更新，或尚未支援該功能所致，呼籲民眾能夠儘速更新。\\xa0NCC發言人虞孝成表示，根據一般正常程序，「地震速報」要五級以上才會即刻發布，而上週所發佈的為「地震報告」，只要震度一級以上地區縣市，包含中部、東部等十個縣市民眾都會發送，會持續發送一個小時。\\xa0NCC表示，上週發送地震報告發送測試，相較過去是由電信業者發送測試訊息到民眾手機，這次測試是首度經完整流程發送，由中央災防主管機關主動發送，經由電信業者傳送出去。\\xa0針對部分民眾出現重複接收、延遲接收，甚至完全沒收到狀況，NCC表示，反映有異民眾數量並不多，一般正常狀況，上述災防簡訊會持續發送一段時間，但手機端必須能判斷是否接到重複訊息忽略。\\xa0NCC表示，三月一日後經認證手機，都已支援接受緊急訊息功能，在此之前則由業者提供更新軟體，經了解上述出現重複接收狀況，可能是手機端未更新到最新版軟體，導致接收訊息功能不完整，才會出現一直不斷收到重複訊息狀況。\\xa0至於延遲收到，或是未收到，NCC表示，因關機、沒有收訊，或是通話、上網的時候，都沒法收到該簡訊，相關使用須知及支援手機型號，民眾可以查詢NCC官網專區。（朱正庭／台北報導）', 'view_cnt': 320}, {'link': 'http://www.appledaily.com.tw//realtimenews/article/life/20160511/858710/大巨蛋要攤牌了\\u3000柯P：523當天將交代清楚', 'category': '生活', 'title': '大巨蛋要攤牌了\\u3000柯P：523當天將交代清...', 'time': '2016/05/11 15:22', 'summary': '台北市議員高嘉瑜今在臉書透露，昨日與台北市長柯文哲進行午餐會，柯已表明會在523議會大巨蛋專案報告中，公布北市將如何處理大巨蛋。台北市長柯文哲今表示，屆時至少會提出方向，因為台北市政府受議會監督，所以不管怎樣，還是要有一個比較清楚的說明，目前專案小組，也都在日夜趕工研究各種方案的可行性。\\xa0柯文哲今出席國際護師節活動後受訪表示，大巨蛋當天至少要提出個方向，因為台北市政府受議會監督，所以不管怎樣，523還是要有一個比較清楚的說明。記者追問是否有具體的想法？柯說目前北市府委託的律師、專案小組都在日夜趕工，各種可能性、優劣性以及是否可行性都還在評估，最後他重申「不管怎樣，(我們)必須跟議會報告」。柯坦言，北市府確實有很多壓力，因為這是一個很困難的題目。\\xa0至於大巨蛋周圍不斷出現地層下陷的情形，柯表示已經有跟都發局建管處交代，以後每個禮拜都要巡視工地，目前大巨蛋擺在那裡，加上遠雄整個一副擺爛的樣子，這樣不行，因此建管處每個禮拜會排時間進場檢查，發現問題就要處理。\\xa0由於高嘉瑜在臉書還透露，柯文哲談大巨蛋議題說提到「要是能拆早就拆了」的想法，現場記者追問柯的最終目標是不是要拆蛋？柯坦言「這個不是我喜歡不喜歡，不是我個人意願，國家還是有法律，要在法律程序內想一個解套方案」。(陳思豪/台北報導)', 'view_cnt': 881}, {'link': 'http://www.appledaily.com.tw//realtimenews/article/life/20160511/858713/遠傳宣佈與Gogoro合作\\u3000買電動機車可綁門號', 'category': '生活', 'title': '遠傳宣佈與Gogoro合作\\u3000買電動機車可...', 'time': '2016/05/11 15:22', 'summary': '買電動機車也能搭配手機門號補貼，遠傳電信今宣布和電動車品牌Gogoro跨業合作，後天起將可搭配遠傳資費方案，只要到 Gogoro 門市申辦遠傳 2 年4G 方案，最高可獲得購車折扣2萬元，等於最低只要4.3萬元就可以買到Gogoro電動機車。\\xa0遠傳電信表示，該專案從5月13日至7月31日止，限到全國Gogoro門市申辦，需搭配4G新絕配1199/1399/1799指定方案，簽約24個月並預繳，即可享Gogoro智慧雙輪購車補貼優惠。\\xa0根據該「超級騎機」方案，如申辦1199元資費，可提供1萬6000元車價補貼，擁有前6個月4G上網吃到飽，過後每月26GB上網傳輸量，申辦1399、1799元方案，則分別可補貼1萬8000元及2萬元車價補貼，還有上網吃到飽不限速。（朱正庭／台北報導）', 'view_cnt': 522}, {'link': 'http://www.appledaily.com.tw//realtimenews/article/local/20160511/858679/談判馬國詐騙犯回台\\u3000法務部帶這個當籌碼', 'category': '社會', 'title': '談判馬國詐騙犯回台\\u3000法務部帶這個當籌碼', 'time': '2016/05/11 15:21', 'summary': '法務部等單位明天將派員前往中國，針對日前從馬來西亞被押送到中國的32名台灣詐欺犯，以及兩岸共同打擊犯罪等進行事務性協商。桃園地檢署今天依殺人罪嫌起訴郭鎮豪（33歲，在押），他在3年多前在深圳槍殺中國商人谷峰，該份起訴書也將被帶到中國，成為這次談判的重要籌碼之一，也讓對岸了解台灣配合共同打擊犯罪的決心。（突發中心張沛森／桃園報導）\\xa0\\xa0\\xa0\\n【想知道更多，一定要看……】台男槍殺中國商人\\u3000茶葉禮盒留DNA被捕郭鎮豪（前中）被移審到桃園地院。張沛森攝', 'view_cnt': 808}, {'link': 'http://www.appledaily.com.tw//realtimenews/article/sports/20160511/858708/\\u200b跟著金牌選手這樣吃\\u3000你也能健美又不胖', 'category': '體育', 'title': '\\u200b跟著金牌選手這樣吃\\u3000你也能健美又不胖 ...', 'time': '2016/05/11 15:21', 'summary': '2016巴西奧運倒數不到2個月，台灣代表隊每天除規律訓練，飲食也是很重要的一環，國家運動訓練中心營養師潘奕廷說：「每個選手需要攝取的熱量和營養都不一樣，我會先教導他們如何選擇自己需要的食物，在比賽前2周我甚至會主動幫選手打菜，幫他們客制化餐點。」\\xa0潘奕廷以舉重選手陳士杰和女將許淑淨為例子，他說：「陳士杰的體重大約150公斤(155公斤)，他每餐需要攝取的熱量約1000大卡，而許淑淨體重只有52公斤，每餐的熱量大約650大卡到700大卡上下，我會依照他們的身材肌肉組成、體脂肪率做綜合考量，讓他們在吃得飽的前提下，又能均衡攝取營養。」\\xa0除餐點，潘奕廷也透露，選手在飲料的取用上也有限制，基本上早餐大多建議牛奶，中午用餐因為結束訓練，可以補充1罐運動飲料，此外國訓中心冰箱裡也有無糖豆漿與低糖豆漿，都是適合運動員的飲料。（龍柏安／高雄報導）\\n國訓中心營養師潘奕廷幫選手客制冠軍餐。游智勝攝舉重選手許淑淨冠軍餐。游智勝攝舉重選手陳士杰冠軍餐。游智勝攝', 'view_cnt': 776}, {'link': 'http://www.appledaily.com.tw//realtimenews/article/nextmag/20160511/858724/【壹週刊】馬總統准辭隔天士檢隨即約談翁啟惠', 'category': '壹週刊', 'title': ' 【壹週刊】馬總統准辭隔天 士檢隨即約談...', 'time': '2016/05/11 15:21', 'summary': '\\u200b總統馬英九才剛批准中研院院長翁啟惠的辭呈，今天(11日)就傳出檢調再度約談翁啟惠；據悉，翁啟惠與浩鼎董事長張念慈現已於調查局台北市調查處應訊，預計下午4點移送士林地檢署複訊。\\xa0翁啟惠4月25日與他會面時表示，此時辭職，將造成人事極大動盪，甚或影響國際聲譽，總統說，此一考量，顯係多慮，他為維護中研院聲譽，並在審酌各界期待後，決定同意翁啟惠3月29日所提辭呈。\\xa0總統表示，翁啟惠請辭獲准後，將依機關政務首長辭職通例，立即留任王汎森、王瑜、王惠鈞等3位副院長，並指派其中一位副院長代理院長職務，以維持中研院正常運作，至下任院長產生就任為止，絕不致因翁啟惠辭職造成人事動盪。(撰文：專案組)\\xa0「更多其他壹週刊內容請點我」', 'view_cnt': 145}, {'link': 'http://www.appledaily.com.tw//realtimenews/article/international/20160511/858705/【央廣RTI】不會要他道歉歐巴馬將訪廣島', 'category': '國際', 'title': '【央廣RTI】不會要他道歉  歐巴馬將訪...', 'time': '2016/05/11 15:20', 'summary': '本內容由中央廣播電臺提供\\xa0\\xa0 \\xa0 \\xa0 \\xa0美國總統歐巴馬(Barack Obama)決定將拜訪二戰期間遭受原子彈轟炸的廣島市(Hiroshima)，日本對此表示歡迎。今天(11日)接受美聯社採訪的日本民眾也表示，他們不會尋求美國道歉。歐巴馬計畫參與完在日本舉行的七大工業國(G7)年度峰會之後，拜訪1945年原爆地的受難者紀念碑，有受訪者對此表示開心。\\xa0 \\xa0 \\xa0 \\xa0現年74歲的老婦人森美惠子(Mieko Mori，音譯)表示，「我不住在廣島或長崎，但一想到盼望致意的某人(歐巴馬)終於要來，我就覺得情緒激動。」這名老婦人受訪時正在東京一處紀念碑前為受難者祈禱。\\xa0 \\xa0 \\xa0 \\xa0歐巴馬將成為首位拜訪廣島的美國在任總統。這座城市在二戰結束前不久，遭美軍投擲一顆原子彈，幾乎完全被摧毀，共有約14萬人死亡，其他人到今天仍受原爆後遺症所苦。美軍3天後又在長崎市上空投了第二顆原子彈，此後，日本很快就在1945年8月15日宣布投降。\\xa0 \\xa0 \\xa0 \\xa0日本放送協會(NHK)本周公布一份民調指出，70%的日本人希望歐巴馬拜訪廣島，只有2%反對。\\xa0 \\xa0 \\xa0 \\xa0現年59歲的民眾林八郎(Kohachiro Hayashi，音譯)表示，「我聽說美國對原子彈轟炸的看法仍然分歧，但距離戰爭結束已經過了將近71年，我想該是歐巴馬可以訪問廣島的時候了。」這名退休的老師還說，「他或許不能在任期一半的時候來，但現在差不多要卸任了，現在看來機不可失。」他說，若日本要求道歉，只會導致無止盡、沒有結果的辯論，爭論誰該為多種戰爭犯行負責。(繼續閱讀)', 'view_cnt': 200}, {'link': 'http://www.appledaily.com.tw//realtimenews/article/politics/20160511/858690/Applepay登台\\u3000行政院長張善政下午批准了', 'category': '政治', 'title': 'Apple pay登台\\u3000行政院長張善政下...', 'time': '2016/05/11 15:18', 'summary': '行政院長張善政下午批准Apple Pay來台，准許可不限由國內TSP業者提供代碼化服務，但是我國持卡人的國內信用卡交易依法應在國內辦理清算。\\xa0張揆有關Apple pay國內提供行動支付服務裁示：\\xa01. 同意開放Apple Pay等國際行動支付，不限由國內TSP業者提供代碼化服務，惟我國持卡人之國內信用卡交易依法應在國內辦理清算。2. 為提供消費者多元選擇，金管會應要求國際行動支付業者與國內非信用卡之支付方式(如金融卡、電子票證、第三方支付等)業者合作，以國際、國內服務業者皆能上線為目標，讓國內業者得以利用其行動裝置作為載具，併請金管會配合鬆綁相關法令。3. 為協助國內TSP業者發展，請金管會協調國際行動支付業者及信用卡國際組織，儘速與國內TSP業者洽商合作事宜，進行代碼(Token)相關技術、系統介接及認證等事項。\\xa0張善政四月底宣示說，開放ApplePay登台，可讓國人金融科技服務便利性與國外同步，也有助國內TSP（Token Service Provider，代碼化服務平台）開發與應用，若評估沒有逃漏稅等負面疑慮，請金管會盡速開放，金管會主委王儷玲則說，在國際化和金融科技發展上，希望台灣可跟上ApplePay趨勢，但須研議相關配套。（王家俊／台北報導）', 'view_cnt': 29442}, {'link': 'http://www.appledaily.com.tw//realtimenews/article/life/20160511/858702/是否支持廢死？\\u3000柯Ｐ：應先維持現狀', 'category': '生活', 'title': '是否支持廢死？\\u3000柯Ｐ：應先維持現狀', 'time': '2016/05/11 15:18', 'summary': '鄭捷昨晚執行死刑引發外界熱議。台北市長柯文哲今表示，自己沒有特別的意見，但是否支持維持死刑或廢死？因為目前有很高的民意認為應該保留(死刑)，因此他認為「既然民意這樣就暫時這樣吧」。對總統馬英九宣稱520以前不會執法、最後卻破功一事，柯則笑稱「他一定會辯解說，這表示我國的司法是獨立的」。\\xa0柯文哲下午出席國際護師節活動後，被媒體詢問對鄭捷伏法的看法。柯冷冷的說「反正事情就發生了，問我什麼？」，記者再問柯，對鄭捷插隊有何看法？柯反問「這種事還有插隊喔？」對外界批評時間過快，柯再冷回，強調執行順序是法務部決定的，他也不曉得，要記者應該去問羅瑩雪，而不是問他。\\xa0至於是否支持廢死？柯說自己以前已講過很多次，那就是台灣所有公共政策上，(支持反對)比例最懸殊的就是這項，從10幾年前做民調到現在，支持執行死刑最低至少有70%，最高還曾經到85%，「既然民意這樣就暫時這樣吧」。(陳思豪/台北報導)', 'view_cnt': 1591}, {'link': 'http://www.appledaily.com.tw//realtimenews/article/sports/20160511/858709/【未來事件交易所】NBA總冠軍可能是…', 'category': '體育', 'title': '【未來事件交易所】NBA總冠軍可能是…', 'time': '2016/05/11 15:17', 'summary': '本內容由未來事件交易所提供\\xa02016 NBA季後賽如火如荼的進行中，第二輪賽事也於5/1登場，七戰四勝制進行到了後段，目前除了例行賽東區強權「騎士」，連續兩個系列賽橫掃對手，靠著強大的團隊戰力以4：0立剋老鷹，全勝挺進東區總決賽外，其餘六支隊伍仍在努力奮戰。勇士第四戰在傷癒歸隊的「100%年度MVP」得主Stephen Curry，狂轟40分的帶領下，系列賽以3:1領先拓荒者率先聽牌；暴龍與熱火系列戰，在兩隊先發中鋒Jonas Valanciunas與Hassan Whiteside雙雙掛點的情況下，目前戰成2:2平手局面。雷霆今日靠著「忍者龜」Russell Westbrook ，35分、11籃板、9助攻準大三元神人表現，連隊友杜蘭特（Kevin Durant）都表示「今晚他就是一個瘋子！」，在決勝節成功逆轉馬刺，以95：91奪下第五戰勝利，系列賽取得3勝2負優勢。「未來運動交易所」在預測市場「2016NBA總冠軍預測」的數據，截至今天(5/11 15:00)最新交易價格，目前是勇士(60.00)暫居龍頭，其次為騎士(39.00)、馬刺(15.00) 。其價格如下：\\xa0表一：2016NBA總冠軍預測球隊最新交易價格(05/11 15:00)金州勇士60.00克里福蘭騎士39.00聖安東尼奧馬刺15.00奧克拉荷馬雷霆5.00多倫多暴龍5.00邁阿密熱火4.90波特蘭拓荒者1.00資料來源：未來事件交易所(2016)現在「未來運動交易所」正在舉辦「This Is Why We Predict 2016NBA季後賽預測競賽」，只要購買NBA全餐就送「威剛科技獨家提供隨身碟」；另外參與季後賽賽事相關預測，還有機會獲得Kobe與Jordan限量絕版公仔，想知道詳細活動辦法嗎？請點\\xa0按我馬上參加！註：照片擷取自金州勇士官網', 'view_cnt': 1708}, {'link': 'http://www.appledaily.com.tw//realtimenews/article/life/20160511/858688/土航開航杜布羅夫尼克\\u3000前進《冰與火之歌》場景', 'category': '生活', 'title': '土航開航杜布羅夫尼克 \\u3000前進《冰與火之歌...', 'time': '2016/05/11 15:13', 'summary': '看好東歐旅遊市場日益擴大，土耳其航空即日起開航伊斯坦堡直飛克羅埃西亞杜布羅夫尼克（Dubrovnik）航班，採每周2、4、6三班機直飛。\\xa0瀕臨亞得理亞海的杜布羅夫尼克，為一座有著數百年歷史的界世界遺產古城，也是《冰與火之歌》君臨城大部分場景主要拍攝地之一，特別是登上老城牆，由制高點遠眺成片紅瓦、石牆民宅堆疊出的曠世美景，令人屏息。\\xa0該景點目前也廣受國內旅行社安排，成為浪漫旅遊新景之一，如今土航直飛杜布羅夫尼克，台北直飛伊斯坦堡後銜接遊程更便利，不需至黑山共和國等地拉車前往、或走回頭路，省去不少旅遊時間。目前土航台北至杜布羅夫尼克票價2萬8900元起(稅金1萬4694元)。（齊佑誠/克羅埃西亞報導）\\xa0更多資訊請看吃喝玩樂蘋果花粉絲團\\xa0\\xa0\\n主要街道普拉卡(Placa)大道，石坂路兩側除了可見始建於13~16世紀的教堂、宮殿、噴水池、修道院等古建築，也處處可見露天咖啡館。這座階梯是《冰與火之歌》拍攝場景。為慶祝昨日(5/10)首航，杜布羅夫尼克機場請來傳統舞蹈迎接班機。', 'view_cnt': 691}, {'link': 'http://www.appledaily.com.tw//realtimenews/article/life/20160511/858691/【央廣RTI】中油估今年營收達6千億', 'category': '生活', 'title': '【央廣RTI】中油估今年營收達6千億', 'time': '2016/05/11 15:10', 'summary': '本內容由中央廣播電臺提供\\xa0\\xa0 \\xa0 \\xa0 \\xa0中油今天(11日)舉辦「中油70能源高峰論壇」，中油發言人張瑞宗表示，近期國際油價逐步回穩，加上天然氣、多角化經營挹注營收，目前盈餘約新台幣40億元。他也預估，若國際油價穩定，全年營收可望上看6千億元。\\xa0 \\xa0 \\xa0 「中油70能源高峰論壇」11日在台北登場，邀請國內外專家學者就「新能源發展之機會與挑戰」、「天然氣多元化契機與挑戰」及「加油站品牌經營與價值創新」等議題進行演講與交流。中油發言人張瑞宗受訪表示，今年初由於國際油價走低，中油1月虧損新台幣43億元，所幸2月以來，原油價格逐步回穩，再加上天然氣、多角化經營挹注營收，已轉虧為盈。\\xa0 \\xa0 \\xa0 \\xa0張瑞宗表示，由於當前頁岩油生產成本已經降低，若市場價格過低，業者將不敷成本，因此預估國際油價將來到每桶50美元。而今年原油價格若保持在每桶40到50美元水位，或只有微幅波動，中油全年營收將可望上看6000億元。而對於法定全年盈餘目標61億元，他也樂觀看待。\\xa0 \\xa0 \\xa0 \\xa0中油董事長林聖忠則表示，多角化經營是潮流趨勢，中油已有很好的通路，包括旗下的630座直營加油站，還有2000多座民營加油站，因此，未來將努力提升通路價值。(繼續閱讀)', 'view_cnt': 730}, {'link': 'http://www.appledaily.com.tw//realtimenews/article/local/20160511/858578/【有片】「跟著政府去投資」遭聲請管收\\u3000戴勝通求國賠30億', 'category': '社會', 'title': '【有片】「跟著政府去投資」遭聲請管收\\u3000戴...', 'time': '2016/05/11 15:09', 'summary': '（更新：新增影片）\\xa0「三勝製帽」2003年赴海地共和國設子公司慘陪，先後向中國輸出入銀行申貸1億餘元仍血本無歸，負責人戴勝通回台創業「跟著董事長遊台灣」，1.5億元貸款本息則由財團法人國際合作發展基金會代償。事後國合會要求戴還債不成，認為他隱匿財產，向法院聲請管收，戴收到台北地院傳票後，今開記者會怒批「我為國家作這麼多，為何還追殺我」，還一度哽咽說：「這10年來，為了國家，我遍體麟傷」，他表示，將向總統府及國合會連帶請求國賠30億元，而這項求償行動，與520新舊政權交接無關。\\xa0三勝2005年自中輸取得1億4800萬元填補公司資金缺口後，因繳不出第2期保證手續費251萬元，造成國合會代償中輸1億5266元，有「帽子大王」之稱三勝董座戴勝通、總經理高堅育等人被控詐欺，2013年間，北檢認為，三勝申貸時財務沒問題，三勝也沒財報不實，事後雖因資力不佳而無法償還貸款，但申貸時並無詐欺意圖，全案已不起訴。\\xa0戴勝通今指出，14年前為了邦交，受總統及政府高層等人之要求而赴海地投資設廠，沒想到隔年當地暴動導致慘賠，投資失利後，他已70多歲，低調返台老年創業，卻二度收到法院的開庭通知，隨時隨地就要被抓去管收，他認為這沒有道理，當年政府要求他前往海地投資，那時他已跳票，但國合會還是協助他向銀行貸款，而國合會是外交部的基金會，負責外交秘密預算，當時海地政府說，若沒人去投資，就要與北京建交，他才答應投資，國合會也認同這投資是為國家外交才協助他。\\xa0戴說：「我沒有欠國家錢，是國家欠我的」，現在名下已無財產，講到激動處，還一度哽咽，戴說，這筆債務不是他欠的，虧損不應由他償還，目前自己為了國家外交遍體鱗傷，也負責近30億，因此將向總統府及國合會提告請求國賠30億元，若獲國賠，全數用來償債，有餘額全數捐公益，戴的律師說，目前還未與總統府協商要求國賠，也尚未向法院遞狀。（劉志原╱台北報導）\\xa0【更多法庭新聞，請看《蘋果陪審團》粉絲團】\\xa0出版時間 13：59更新時間 15：09\\n戴勝通(左)申請國賠記者會。康仲誠攝戴勝通申請國賠記者會。康仲誠攝', 'view_cnt': 46814}, {'link': 'http://www.appledaily.com.tw//realtimenews/article/international/20160511/858555/【有片】挑戰YouTube\\u3000亞馬遜創影音平台', 'category': '國際', 'title': '【有片】挑戰YouTube\\u3000亞馬遜創影音...', 'time': '2016/05/11 15:08', 'summary': '（新增動新聞）\\xa0美國網路零售巨擘亞馬遜（Amazon）宣布新成立網路影音平台「Amazon Video Direct」，企圖以潛在獲利分紅模式吸引專業影音工作者。外界分析，亞馬遜不僅在和YouTube搶客戶，最主要的競爭對手還包括網路影音串流業者Netflix。\\xa0亞馬遜表示，所有成功申請成立「Amazon Video Direct」帳戶的用戶，都可選擇未來影音利潤的分享模式，包括：附加廣告免費觀看、收取租借費、付費後永久觀看或透過Amazon Prime Video訂閱。若選擇附加廣告模式，可獲得廣告收入的一半。若選擇租借或販售方式，也可獲得一半金額。\\xa0外界分析，亞馬遜此舉雖看似針對擁有1億用戶、全球最大影音平台YouTube而來，但其實只想挖提供高品質影音的用戶，並非針對一般用戶。投資顧問公司Wedbush Securities分析師帕切特（Michael Pachter）說：「亞馬遜企圖吸引高品質的影音內容。他們希望獲得更多影片，而YouTube的品質要求則較低。」\\xa0專家認為，從Amazon要求申請「Amazon Video Direct」帳戶者，必須提供公司名號以及繳納稅資料等條件可看出，Amazon要的不是一般拍攝貓貓狗狗的影片，而是擁有專業內容但非大型娛樂公司拍攝的影片，企圖和Netflix爭奪這塊影音市場。目前「Amazon Video Direct」只在美國、英國、德國、奧地利及日本推出。\\xa0亞馬遜同時宣布另一項影音新服務，合作對象包括玩具商美泰兒（Mattel）、出版社Conde Nast Entertainment及多媒體集團Mashabled等。（桂家齊／綜合外電報導）\\xa0發稿時間：13:16更新時間：15:08\\xa0更多國際新聞請進蘋果繞著地球爆\\xa0\\n資料照片亞馬遜宣布新成立網路影音平台「Amazon Video Direct」。翻攝網路', 'view_cnt': 975}, {'link': 'http://www.appledaily.com.tw//realtimenews/article/finance/20160511/858693/農糧署模糊公文\\u3000高雄關放行疑似大陸蒜', 'category': '財經', 'title': '農糧署模糊公文\\u3000高雄關放行疑似大陸蒜', 'time': '2016/05/11 15:08', 'summary': '立委蘇治芬今天下午帶領一整台遊覽車的蒜農北上財政部抗議，蒜農懷疑從泰國進口的大蒜疑似為中國大陸品種，高雄關昨天卻依然放行，將造成國內蒜價大跌。關務署長莊水吉說，因依據農糧署公文指出，與鑑定小組所蒐集的中國大陸蒜頭樣品外觀比對，非屬所蒐集的大陸蒜品種，請海關逕行判定。\\u200b蒜農昨天早上提告，蘇治芬說，農糧署昨天下午承諾她，因為無法百分百確定是否來自大陸，所以會請海關暫緩放行，等今天早上開完記者會再協調，沒想到海關昨晚就准許押款放行，昨晚已取走兩貨櫃，今天早上取走最後一箱貨櫃。\\xa0關務署解釋，依據海關稅法，廠商繳完３倍價款就可放行。蒜農不滿怒吼飆罵，大蒜市價是每台斤110~130元，這些疑似中國產地，從泰國進口的大陸算進來後，蒜價將跌到1斤百元以下。且根據廠商繳交押款700萬估算，80噸的蒜價等於1公斤才27元。\\xa0蒜農也痛批，99%從泰國進口的蒜都是有問題，幾乎都是從大陸來的，一看就很明顯，農糧署只說與所蒐集的樣本不符，但農糧署沒有收集完整樣本，也不敢百分百確定不是中國品種。\\xa0莊水吉委屈說，海關只是執行單位，能不能放行由農糧署決定，以後會請農糧署公文寫清楚，不要模擬兩可。\\xa0即將接下新財長位子的財政部次長許虞哲隨後也來聽取蒜農陳情，氣氛頓時轉為溫馨祥和，蒜農還紛紛改跟新部長拍照留影，不捨離去。許虞哲也與陳情蒜農達成共識，除了請政風處調查高雄關是否有疏失之外，未來若農糧署公文寫不清楚，將會退給農糧署寫清楚是否可放行。（林巧雁／台北報導）\\xa0\\xa0\\xa0\\n立委蘇治芬舉行反對大陸蒜入台記者會時，為了高雄關將疑似夾帶大陸蒜的東南亞進口蒜頭貨櫃放行，而和財政部關務署通關業務組組長陳金標（左二西裝）、高雄關驗貨課長杲景翔（短襯衫）等官員爆發言語衝突。張良一攝', 'view_cnt': 568}, {'link': 'http://www.appledaily.com.tw//realtimenews/article/finance/20160511/858695/【科技新報】科學家破解紅蘿蔔基因，解開為何是橘色的謎團', 'category': '財經', 'title': '【科技新報】科學家破解紅蘿蔔基因，解開為...', 'time': '2016/05/11 15:08', 'summary': '本內容由科技新報TechNews提供\\xa0你喜歡煮過的紅蘿蔔還是搭配生菜沙拉生吃的紅蘿蔔？科學家最近破解了飲食中常見的紅蘿蔔基因，除了解開為何紅蘿蔔為何是橘色的問是之外，透過找到影響維生素 A 含量的關鍵基因，能夠培育出更營養多產的紅蘿蔔品種。\\xa0研究團隊分析紅蘿蔔品種南特 (Nantes) 的基因，發現總共有 32,000 個基因，而蔬果類平均有 3 萬個基因，比人類還要多。紅蘿蔔的橘色外觀來自類胡蘿蔔素，研究者找到導致紅蘿蔔會累積胡蘿蔔素的基因 DCAR_032551。胡蘿蔔素經過轉變會變成維生素 A，能夠保護人類視覺，攝取不足會導致夜盲症。\\xa0「正常來說橘色色素的累積不會發生，」研究團隊之一的威斯康辛大學園藝和基因教授 Phil Simon 說，「如今我們知道是哪個基因造成的，而我們知道如何調整。」\\xa0除了跟維生素 A 相關的基因，研究員也找出跟抗蟲、抗病、抗旱和生產力相關的基因......\\xa0【更多精彩內容請詳科技新報官網】', 'view_cnt': 631}, {'link': 'http://www.appledaily.com.tw//realtimenews/article/beauty/20160511/858686/男師躺著跟E奶妹運動\\u3000她上上下下讓人「忍不住」', 'category': '正妹', 'title': '男師躺著跟E奶妹運動\\u3000她上上下下讓人「忍...', 'time': '2016/05/11 15:06', 'summary': '有著E奶好身材的網路紅人「Tiffany Chen」，在臉書PO出自己運動的影片，卻讓大家看得血脈噴張！\\xa0Tiffany這次找來老師陪她一起運動，影片中可見男老師躺在地上，T妹則穿著運動內衣直接正面面對男老師，利用手部力量上升又下降，T妹手都在發抖了。她事後也表示「手真的酸到發抖，老師說因為我太弱，我下次要雪恥加油！」\\xa0網友看了後直呼想跟T妹一起運動，「怎麼受得了」、「這樣沒辦法專心」，甚至還有人說「如果我是教練，超想故意鬆手」、「這樣的運動，我會忍不住」。（盧麗蓮／綜合報導）', 'view_cnt': 12410}, {'link': 'http://www.appledaily.com.tw//realtimenews/article/local/20160511/858402/遭疑虛擬招募實剝削\\u3000宏達電：嚴格遵守法規', 'category': '社會', 'title': '遭疑虛擬招募實剝削\\u3000宏達電：嚴格遵守法規', 'time': '2016/05/11 15:05', 'summary': '（更新：新增影片）\\xa0手機大廠宏達電去年大量解雇勞工，最近公司招募員工，2名曾遭解雇員工回聘，今天上午重返公司前，提出薪資不如以往等，抗議宏達電藉由非法解雇，進行實質剝削，宏達電回映：公司嚴格遵守勞動法規，視員工為重要資產，致力保障同仁權益。\\xa0去年8、9月間，宏達電員工趙建輝、黃春安遭解雇，2人隨即籌組桃園市電子產業工會，並分別擔任理事長及監事。2人得知宏達電最近招募員工，依據大量解雇勞工保護法重新回聘，並於今天上午重回宏達電上班。\\xa0趙建輝、黃春安今天上午與支持民眾前往宏達電公司前抗議，趙建輝指稱，事業單位大量解雇勞工再雇用工作性質相同的勞工，除法令另有規定，應優先雇用經其大量解雇的勞工。公司去年大量解雇勞工，最近大量應徵勞工，卻沒有優先照顧之前解雇的員工，且再度回聘後，薪資不如從前，認為公司利用非法裁員，進行剝削本勞。\\xa0宏達電表示：公司一向嚴格遵守勞動法規，視員工為重要資產，致力保障同仁權益；同時也透過持續檢視人力資源配置，促使營運更有效率運作，提升企業核心競爭力。（突發中心石明啟／桃園報導）\\xa0發稿時間：10：35更新時間：15：05\\xa0\\n宏達電回聘員工重返前持標語抗議。石明啟攝回聘員工在公司大門口抗議。石明啟攝宏達電回聘員工出示公司招徵才資訊。石明啟攝', 'view_cnt': 2432}, {'link': 'http://www.appledaily.com.tw//realtimenews/article/nextmag/20160511/858648/【壹週刊】建商都更大讓利\\u30001坪換2.5坪', 'category': '壹週刊', 'title': '【壹週刊】建商都更大讓利 \\u30001坪換2.5...', 'time': '2016/05/11 15:05', 'summary': '「文林苑」案之後，許多建商對都更案都興趣缺缺，但在位在汀州路上的「太平洋之森」都更案，卻在11號舉辦完銷慶功宴，建商之所以可以順利取得1300多坪土地，是因為大讓利。\\xa0一般都更戶約是一坪換一坪，但住戶與建商談判時要求，都更後的使用空間必需有30坪，加上30%公設比後，太平洋建設承諾分給每個都更戶45坪，外加一個車位，換算下來，等於每坪可換2.5坪，以該案每坪均價80萬元計算，每個住戶都有4000萬元身價。（撰文：高迪、拍攝、剪接：楊弘熙）\\xa0更多其他壹週刊內容請點我\\n位在汀州路一段的「太平洋之森」，每坪均價80萬元，符合區域行情，3個月就完銷。（攝影：楊弘熙）', 'view_cnt': 1687}, {'link': 'http://www.appledaily.com.tw//realtimenews/article/local/20160511/858572/【有片】翁啟惠昨請辭獲准\\u3000今再遭檢調約談', 'category': '社會', 'title': '【有片】翁啟惠昨請辭獲准\\u3000今再遭檢調約談', 'time': '2016/05/11 15:03', 'summary': '(更新：新增影片)剛請辭獲准的前中研院長翁啟惠，今天又因浩鼎案再被檢調約談，目前他人已進入台北市市調處，預計下午4點移送士林地檢署複訊。\\xa0據了解，檢調原定明、後天要再度約談翁啟惠、浩鼎董事長張念慈，沒想到這2人今早就自行到市調處應訊。\\xa0昨天才被總統馬英九批准辭去中研院院長一職的翁啟惠，因為捲入浩鼎案而於上個月21日遭檢調約談，檢調認為，中研院將生技技術轉移給浩鼎，翁啟惠卻隱匿女兒持有浩鼎股票，其中疑涉行收賄，且檢調另發現，翁啟惠讓潤雅生技公司在與中研院合作前， 就參觀中研院實驗室，並由研究員為潤雅簡報，但雙方最後並未合作，認為他恐另涉背信罪。\\xa0據悉翁啟惠應訊表示，女兒認股浩鼎的9300多萬元，是他們夫妻贈與，他強調，自己從事研究多年，有能力支付這筆費用，且他為免女兒受到損失而協助管理股票，並無不法，至於讓潤雅人員參觀中研院研究室，也未違法，當時檢方僅將他限制出境，並未有交保等強制處分。\\xa0由於翁啟惠日前已將相關資金證明呈報檢調，預計今天檢調將就他贈與女兒資金來源進行了解。（法庭中心／台北報導）\\xa0出版時間 12:59修改時間 15:03\\n翁啟惠。資料照片', 'view_cnt': 23251}, {'link': 'http://www.appledaily.com.tw//realtimenews/article/entertainment/20160511/858643/華仔愛女4歲生日趴\\u3000朱麗倩藏肚神隱', 'category': '娛樂', 'title': '華仔愛女4歲生日趴\\u3000朱麗倩藏肚神隱', 'time': '2016/05/11 15:03', 'summary': '劉德華（華仔）愛女劉向蕙前天（9日）過4歲生日，他一改低調，為她舉行生日趴，邀幼稚園同學與家長同樂。衝著天王名號，小朋友與家長出席踴躍，從流出的大合照看來，至少有5、60人，會場布置迪士尼公主氣球，華仔抱著小向蕙站中間，桌上放著五彩繽紛的蛋糕；小向蕙穿著藍色連身裙，笑得燦爛。\\xa0當天現場未見華仔老婆朱麗倩，50歲的她日前傳出懷第2胎，雖然華仔未正面承認，但從她缺席女兒慶生會看來，因懷孕不便露面的可能性很大。（吳惠菁／綜合報導）\\xa0\\n劉德華邀請女兒幼稚園的同學與家長同樂，現場熱鬧非凡。翻攝時上時時上微博50歲朱麗倩（右）日前被拍到大腹便便。翻攝壹週Plus', 'view_cnt': 10920}, {'link': 'http://www.appledaily.com.tw//realtimenews/article/politics/20160511/858685/陳菊愛將蔡清華\\u3000接任教育部政次', 'category': '政治', 'title': '陳菊愛將蔡清華\\u3000接任教育部政次', 'time': '2016/05/11 15:02', 'summary': '新政府教育部三巨頭到齊。根據《自由時報》報導，中山大學退休教授轉任文藻大學副校長的蔡清華將接任教育部政次。\\xa0蔡清華曾擔任高雄市教育局長，為高雄市長陳菊重用的人士，專長為比較教育，與綠營、教育界人脈關係良好，接任教育部政次外界表示不意外。(葉國吏/綜合報導)', 'view_cnt': 1785}, {'link': 'http://www.appledaily.com.tw//realtimenews/article/entertainment/20160511/858574/寫真妹首戰AV\\u3000嬌嗔搞到肌肉痠痛', 'category': '娛樂', 'title': '寫真妹首戰AV\\u3000嬌嗔搞到肌肉痠痛', 'time': '2016/05/11 15:00', 'summary': '日本G奶寫真女星高崎聖子，改名為高橋翔子拍AV轟動業界，還在報紙開專欄。她透露拍攝AV處女作時，一開始只是打扮美美擺pose，和寫真女星的工作沒兩樣，所以一點都不緊張，但男優登場後，她不知如何是好，還好靠男方引導，才安心完成拍攝。\\xa0她說：「被愛撫、揉胸部後，感覺越來越棒，也漸漸不緊張。第一次跟男優愛愛，被引導地很舒服，對著鏡頭表演很多體位，蠻令人害羞的。雖然隔天肌肉痠痛，但拍攝過程很愉快。」她下月2日將首度推出裸體露毛寫真集，目前高居日本Amazon網站藝人寫真集預購榜第3名。（吳惠菁／綜合報導）', 'view_cnt': 8233}, {'link': 'http://www.appledaily.com.tw//realtimenews/article/fashion/20160511/858605/鞏俐李冰冰機場裝\\u3000簡約就時尚', 'category': '時尚', 'title': '鞏俐李冰冰機場裝\\u3000簡約就時尚', 'time': '2016/05/11 15:00', 'summary': '第69屆坎城影展即將開幕，隨官方贊助商「巴黎歐萊雅」出席的鞏俐、李冰冰也在當地時間5月10日現身機場，大批粉絲接機只為爭睹天后們風采。\\xa0鞏俐、李冰冰的機場裝扮，有志一同的皆以簡約裝束現身。鞏俐身穿白襯衫搭配白色休閒褲腳踩McCartney厚底鞋，提著路易威登（LV）包包，而李冰冰則是身穿Jil Sander印花西裝配戴Dior split墨鏡，腳踩adidas Originals布鞋，兩人皆沒有用過多色彩點綴，但天后氣場仍是藏不住。（林品宜／綜合報導）\\xa0\\n李冰冰身穿Jil Sander印花西裝配戴Dior split墨鏡，腳踩adidas Originals布鞋。鞏俐身穿白襯衫搭配白色休閒褲腳踩McCartney厚底鞋。McCartney厚底鞋。翻攝自品牌官網', 'view_cnt': 1505}, {'link': 'http://www.appledaily.com.tw//realtimenews/article/life/20160511/858649/即期藥改標再賣\\u3000醫師：恐讓病情更嚴重', 'category': '生活', 'title': '即期藥改標再賣\\u3000醫師：恐讓病情更嚴重', 'time': '2016/05/11 15:00', 'summary': '彰化縣彰化市的GMP藥廠的大豐製藥股份有限公司，涉嫌改換藥品包裝等不法，彰化縣衛生局秘書蕭惠玲表示，昨日配合檢調到彰化市大豐製藥公司搜索，在一旁鐵皮屋內的桌上當場查獲167瓶涉嫌改標的抗黴菌液，以及548個瓶身標籤及469個空盒，現場馬上封存。\\xa0蕭惠玲表示，業者是供稱下游廠商反映抗黴菌液的外包裝損毀，才會寄回公司更改包裝，否認有重新換標、更改有效日期的情事。\\xa0蕭惠玲說，只要藥品一出廠，就不可以更換包裝或是塗改、更換有效日期，違者有涉嫌違反《藥事法》第20條規定，可處十年以下有期徒刑，得併科一億元以下罰金。\\xa0蕭惠玲說，現場還發現有其他不明藥品在場，懷疑不只一個商品被更改有效日期，將報請地檢署深入追查。\\xa0彰基皮膚科主治醫師邱足滿表示，使用過期藥品，一來可能因超過保存期限，致使效力減低或是無效。二來可能還未因為藥品變質，導致出現接觸性皮膚炎，出現紅腫、發癢甚至發炎的情況，致使病情更加惡化。 (詹智淵╱彰化報導）\\xa0\\n【想知道更多，一定要看……】GMP藥廠幹黑心事\\u3000即期藥改標再賣稽查人員查獲私下標籤的瓶身。翻攝照片桌上有大批新標籤。翻攝照片一旁紙箱內有大批標籤。翻攝照片外包紙盒的新標籤。翻攝照片大豐表示是更換新包裝。翻攝照片', 'view_cnt': 681}, {'link': 'http://www.appledaily.com.tw//realtimenews/article/nextmag/20160511/858673/【壹週刊】拒當餓死鬼殺人魔鄭捷定讞19天三槍伏法', 'category': '壹週刊', 'title': '【壹週刊】拒當餓死鬼 殺人魔鄭捷定讞19...', 'time': '2016/05/11 15:00', 'summary': '碰碰碰！有聽到槍聲沒，前年在台北捷運犯下4死22受傷的鄭捷被槍決了。\\xa0啊，這早就要彈掉，這摳鄭捷根本是俗仔，連法醫問他是否要打麻藥，鄭捷一聽到就說：「要！」，法醫還問是否怕痛，鄭捷竟然點頭，難道他殺人的時候都沒想到那些無辜的被害人會痛。\\xa0鄭捷被判死刑，在看守所不用去工廠工作，還跟獄友分享殺人經驗，嚇得對方要求換牢房，他每天還有半小時放風打籃球，看起來很開心，其他時間幾乎都在看科幻小說、發呆，身材明顯發福，這些花的都是納歲人的錢ㄟ。\\xa0鄭捷的嘴很刁，不但會嫌看守所飯菜難吃，每天還拿著父母寄給他的零用金買泡麵或罐頭吃，連要死之前，看守所還要花錢買滷肉便當給他吃最後一餐，很多混黑道的死刑犯都吃不下去這頓，但是鄭捷不當餓死鬼，最後一頓不但幾乎把便當吃光，不知是否太緊張，還是怕死，還一直說口渴，要討水喝。\\xa0聽說鄭捷挨3槍撐6分鐘才死，屍體由葬儀社送到殯儀館冰存，醫院也不要死刑犯的器官捐贈了。被害人家屬聽到鄭捷槍決，都認為這才是正義，連執行的檢察官錢漢良也寫紙條說：「法律的精神在於社會正義，而正義是基於良知的正道，正道的理想必須能夠具體實現，社會正義才有落實的可能。」\\xa0撰文：林俊宏', 'view_cnt': 11175}, {'link': 'http://www.appledaily.com.tw//realtimenews/article/international/20160511/858682/【央廣RTI】爭取總統提名桑德斯：奮戰到底無意退選', 'category': '國際', 'title': '【央廣RTI】爭取總統提名  桑德斯：奮...', 'time': '2016/05/11 15:00', 'summary': '本內容由中央廣播電臺提供\\xa0\\xa0 \\xa0 \\xa0 \\xa0美國民主黨聯邦參議員桑德斯(Bernie Sanders)10日在贏得黨內西維吉尼亞州總統提名初選之後表示，他將會奮戰到底，他無意退選。這位佛蒙特州參議員表示，即使對手希拉蕊(Hillary Clinton)距離獲得提名所需要的2,383代表人票只差145票，但他並沒有計劃要退出這場選戰。\\xa0 \\xa0 \\xa0 \\xa0不過，桑德斯在奧勒岡州賽勒姆(Salem)舉行的造勢大會中也坦承，他的路已經越走越窄，但表示他慣於逆境作戰，聲稱自己是打敗可能成為共和黨總統提名人川普(Donald Trump)的最佳人選，並說他仍有希望贏得多數的黨代表人票。但桑德斯若想贏得黨內提名，必須取得86%的剩餘代表人票。截至目前，他只贏得40%。(繼續閱讀)', 'view_cnt': 288}, {'link': 'http://www.appledaily.com.tw//realtimenews/article/life/20160511/858668/台灣成功養殖大西洋鮭魚魚苗\\u3000首批長逾20公分', 'category': '生活', 'title': '台灣成功養殖大西洋鮭魚魚苗\\u3000首批長逾20...', 'time': '2016/05/11 14:59', 'summary': '漁業署今公布台灣首批養殖成功的大西洋鮭魚魚苗！漁業署表示，大西洋鮭魚最適合溫度為攝氏6至16度，在受精卵孵化及幼魚時期生活於淡水環境，銀化過程後至海水環境成長，主要分布於北大西洋沿岸，包括北美洲東岸，格蘭陵島及歐洲沿海地區，屬冷水性魚類。漁業署委託國立台灣海洋大學與高雄海洋科技大學研發團隊執行冷水性魚類繁殖技術開發計畫後，成功在台灣建立大西洋鮭魚的孵化與育苗技術。\\xa0漁業署說，台灣近3年鮭魚進口量平均2萬公噸，國內市場批發價為每公斤200至250元，未來養殖成功，台灣即可吃到國人自己養殖的大西洋鮭魚，減少進口鮭魚的二氧化碳排放。\\xa0台灣海洋大學副教授冉繁華說，過去台灣從沒有人成功建立大黑洋鮭魚養殖技術，這次透過與雪霸國家公園台灣櫻花鉤吻鮭生態中心、海洋科技博物館潮境海洋中心合作，成功建立台灣首例大西洋鮭魚受精卵孵化與魚苗銀化養殖技術，目前幼魚已養殖至20公分以上，未來將進一步利用中油永安液化氣廠的冷排水，營造適合鮭魚的養殖環境。（戴安瑋／台北報導）\\xa0\\n台灣首批成功養殖大西洋鮭魚魚苗。戴安瑋攝', 'view_cnt': 1307}, {'link': 'http://www.appledaily.com.tw//realtimenews/article/local/20160511/858672/世新漲學費公聽會動粗趕學生\\u3000洪崇晏批程序不完備', 'category': '社會', 'title': '世新漲學費公聽會動粗趕學生\\u3000洪崇晏批程序...', 'time': '2016/05/11 14:59', 'summary': '世新大學今天下午一點舉行的「學雜費調整公開說明會」，因校方遲在說明會前一週的星期五才公布資訊，引起部分學生反彈，下午公聽會現場，校方更粗暴動手驅離抗議學生。\\xa0校友呂曜舜在臉書貼上公聽會現場影片，校方人員大喊：「請出去！」學生則回應：「請不要動手好不好！我們只是表達我們的意見！」「為什麼要動手！」接著校方人士強行推離抗議學生離開，一名抗議女學生甚至大叫，仍遭推擠出場。\\xa0曾發起包圍中正一分局活動的世新大學社發所學生洪崇晏（綽號八六）表示，校方今天臨時舉行學雜費調整公聽會，卻無依照教育部規定公告應告知全校學生，根本「程序不完備」，且公聽會現場僅高呼口號，卻遭到校方咆哮、搶布條，甚至奪下麥克風，影片中被拖行的女子是世新勞權小組的聲援學生，仍遭校方如此粗暴對待。\\xa0世新大學公共事務處表示，學校在今天下午一點召開調漲學費的說明會，由副校長陳清河主持，世新大學社發所學生洪崇晏帶領的學生勞動權益小組，約10多名學生在教室後方拉開黑布條，抗議校方欲調漲學費。 因學生持大聲公抗議，聲量太大讓說明會無法進行，體育組長何正峰在請抗議學生出場時，爆發肢體衝突，隨後副校長宣布說明會中止。（突發中心／台北報導）\\xa0\\xa0\\xa0\\n抗議學生洪崇晏遭校方動手驅離（翻攝畫面）洪崇晏被校方強行驅離出場（翻攝畫面）前往聲援的女學生也遭人推離（翻攝畫面）校方將人推出場外（翻攝畫面）', 'view_cnt': 674}, {'link': 'http://www.appledaily.com.tw//realtimenews/article/beauty/20160511/858660/最正計程車運將拍寫真\\u3000泳裝照令人噴鼻血', 'category': '正妹', 'title': '最正計程車運將拍寫真\\u3000泳裝照令人噴鼻血', 'time': '2016/05/11 14:58', 'summary': '計程車司機如果是個大正妹，你會不會想天天叫車呢？\\xa0目前24歲的正妹模特兒生田佳那，因緣際會下參加了計程車公司的培訓計畫，意外通過了錄取率僅2成的考試，成為正式的計程車司機，目前已開車上路1年半，還常在推特分享開車照片。\\xa0日前生田佳那幫日本雜誌「週刊プレイボーイ」拍攝性感寫真集，一連串比基尼照片秀出姣好身材，讓不少讀者看了大噴鼻血，生田佳那接受訪問時說，即使穿著計程車司機制服，也有很多人不相信她就是計程車司機，還會問「是在Cosplay嗎？」，她也透露雖然不是第一次拍寫真，但「半裸」姿態還是令她難為情，還有一套沒有肩帶的服裝，讓她一直擔心胸部「快掉出來了」（張鈜閔／綜合報導）\\xa0\\n翻攝自ertk翻攝自ertk翻攝自ertk翻攝自ertk翻攝自生田佳那推特翻攝自生田佳那推特', 'view_cnt': 8249}, {'link': 'http://www.appledaily.com.tw//realtimenews/article/finance/20160511/858681/Google：並無於彰濱成立研發中心計劃', 'category': '財經', 'title': 'Google：並無於彰濱成立研發中心計劃', 'time': '2016/05/11 14:58', 'summary': '針對今日媒體報導指出Google將於彰濱成立研發中心以及資料中心擴建計劃等細節，Google的官方聲明如下：\\xa0針對增設研發中心，Google表示：「我們於2006年在台北成立研發中心以來，團隊仍持續穩健成長，目前並無在台灣其他地區成立研發中心的計劃。」\\xa0針對擴建資料中心，Google重申：「我們於台灣擴建資料中心的計劃未曾改變。兩年多前Google啟用台灣資料中心之際，我們便承諾長期投入Google台灣資料中心，相關團隊和設施至今仍不斷成長。未來若有更新的相關資訊，我們將會進一步分享。」（蕭文康／台北報導）', 'view_cnt': 1167}, {'link': 'http://www.appledaily.com.tw//realtimenews/article/sports/20160511/858678/美國職棒今日比賽結果', 'category': '體育', 'title': '美國職棒今日比賽結果', 'time': '2016/05/11 14:57', 'summary': 'Your browser does not support iframes.\\xa0美國聯盟洋基(主)10：7皇家紅襪(主)13：5運動家遊騎兵(主)13：11白襪金鶯(客)5：3雙城印地安人(客)4：0太空人水手(主)6：4巨人\\xa0國家聯盟釀酒人(客)10：2馬林魚費城人(客)3：2勇士小熊(主)8：7教士響尾蛇(客)5：1落磯道奇(主)3：2大都會\\xa0跨聯盟老虎(客)5：4國民紅雀(客)8：1天使藍鳥(客)4：0巨人\\xa0（記者楊逸民／製表）註：紅人vs.海盜之戰因雨延賽※資料來源：大聯盟官網', 'view_cnt': 1705}, {'link': 'http://www.appledaily.com.tw//realtimenews/article/life/20160511/858680/【今周刊】保險理賠糾紛保險公司沒說的秘密', 'category': '生活', 'title': '【今周刊】保險理賠糾紛 保險公司沒說的秘...', 'time': '2016/05/11 14:57', 'summary': '本內容由今周刊官網提供\\xa0「這樣的理賠結果，我完全不能接受，非常、非常不合理；尤其，原本以為可以理賠，但後來卻完全不行，當下真是氣炸了，有被騙的感覺！」\\xa035歲的余小葳（化名），在金融業服務超過10年，對理財、保險規畫向來很有想法，4年多前，她就加強了醫療險，但她沒料到，業務員說好可以理賠的內容，最後卻不是那一回事。\\xa0「我經常中耳發炎積水，醫師建議做中耳炎引流手術；保險業務員告訴我，門診手術可給付1萬元。」余小葳講起這段往事，還是一肚子火，「投保的公司在還沒被合併前，同樣是引流手術，理賠申請都沒問題；不料合併後，保險公司就拒賠了。」\\xa0原來，業務員主動幫余小葳申請理賠後，保險公司承辦人員告訴他，引流手術在健保認定是處置治療、而非手術；換言之，在保險公司的認定裡，這根本不是門診手術，自然不會給付理賠金。\\xa0保單大不同\\xa0 投保看清楚\\xa0余小葳的業務員李先生解釋，現行健保制度下，不少人以為是手術的項目，已多改為處置，如果保險公司照此認定，就會有愈來愈多雙方認知不同的爭議產生，「隨著醫學進步，新形態手術若不在健保涵蓋項目內，也容易出現理賠糾紛，此時就要看各家保險公司條款內容，或有無開放給付。」\\xa0金融消費評議中心資料顯示，人壽保險5大理賠爭議類型中，高居榜首的正是「必要性醫療」，申訴及申請評議件數，約占17%；其次是事故發生原因認定約9%；殘廢等級認定8.7%、理賠金額認定8.2%；投保時已患疾病或在妊娠中約占7%；其他像是手術認定、違反告知義務、除外責任、癌症或其併發症認定，及承保範圍，申訴比率也不低。（閱讀更多）\\xa0延伸閱讀\\xa0新制重大疾病險 投保攻略大公開\\u3000第8件事： 用年輕的自己養年老的自己\\n避免必要性醫療爭議的有效做法，是將醫療資料準備齊全，包括「診斷證明、完整病例，及住院期間護理紀錄」。', 'view_cnt': 1387}, {'link': 'http://www.appledaily.com.tw//realtimenews/article/finance/20160511/858667/優你康新品量產\\u3000歐洲代工業績看增2倍', 'category': '財經', 'title': '優你康新品量產\\u3000歐洲代工業績看增2倍', 'time': '2016/05/11 14:55', 'summary': '隱型眼鏡供應商優你康〈4150〉表示，公司製造新一代矽水膠技術純熟，月拋良率提升，已邁入大量生產階段，預計第3季開始出貨。總經理顏萬春表示，隨著產品線逐步完整，有助讓歐洲代工業績提升2倍，另外，中國市場今年第4季也將導入新品，年底可望貢獻業績。\\xa0優你康主要為國際品牌代工隱形眼鏡，外銷至日本、中國、東南亞、歐洲、加拿大、紐澳等地，此外，也幫日本Hello kitty品牌製作出有可愛Hello Kitty圖案的獨特彩片，深受亞洲女性喜愛，銷量甚佳，目前日本代工的佔比高達7成。\\xa0優你康財務長張通義表示，今年優你康製造新一代矽水膠技術純熟，月拋良率提升，已邁入大量生產階段，下季開始出貨，目標鎖定歐洲及中國市場，希望新一 代矽水膠日、月拋及矽水膠散光日、月拋領軍，將代工佔比不到10％的歐洲及中國，擴大到20％。(江俞庭／台北報導)', 'view_cnt': 276}, {'link': 'http://www.appledaily.com.tw//realtimenews/article/property/20160511/858502/建案完銷慶功\\u3000竟送住戶這個', 'category': '地產', 'title': '建案完銷慶功\\u3000 竟送住戶這個', 'time': '2016/05/11 14:53', 'summary': '還沒正式公開就賣光的「太平洋之森」，今舉辦慶功記者會，高齡94歲的太平洋集團總裁章民強亦出席，章民強表示，多年整合後能圓滿銷售成功，是一件很不容易的事情，也說明好地段、好規劃及好的商品、公道的價錢，就能得到消費者的肯定。\\xa0太設總經理章啟明指出，太設為此案付出相當心力，整合過程與原住戶建立相當情感，甚至為住戶出版《老家的，畢業紀念冊》，內容詳載住戶的故事，及整合過程中的小插曲，並拍攝微電影。\\xa0負責銷售此案的聯碩地產3月成功完銷「Trump Park」、4月則完成「太平洋之森」銷售，成績斐然。該公司總經理史碩綱透露，6~10月已陸續接下台北市5案，總銷售金額約45億元。（詹宜軒／台北報導）\\xa0「蘋果掀房事」每周三中午12點半，午餐加好料更多房地產新聞，請參考蘋果地產王粉絲團\\xa0\\xa0\\n太設總經理章啟明秀出為都更戶製作的《老家的，畢業紀念冊》。詹宜軒攝高齡94歲的太平洋集團總裁章民強，親自出席建案慶功記者會。林琨凱攝', 'view_cnt': 3786}, {'link': 'http://www.appledaily.com.tw//realtimenews/article/local/20160511/858636/被燈桿砸中躺路邊\\u3000多人經過「看一眼」', 'category': '社會', 'title': '被燈桿砸中躺路邊\\u3000多人經過「看一眼」', 'time': '2016/05/11 14:53', 'summary': '（更新：新增影片）\\xa0高市左營區民族路昨早發生一起車禍，一輛砂石車拖倒路燈，燈桿子砸中2台機車，造成2人輕傷，意外發生時，傷者昏躺地面無法起身，不少騎士從旁經過好奇察看，卻都無人停車協助，直到警方趕到才將傷者送醫，這段畫面被上傳網路，令人感慨。\\xa0昨早7時左右，徐姓司機（50歲）駕駛的砂石車，卸貨後，疑因車斗未放下，在左營區民族路段撞斷分隔島上告示牌及路燈。\\xa0當時陳姓（24歲）騎士被扯斷路燈桿子砸中機車，當場摔出，一度昏躺地上，嚇壞不少用路人，另沈姓女騎士（34歲）則是被電線扯到摔車，所幸2人僅皮肉傷。\\xa0在電子公司上班的謝姓市民（38歲）當時也騎機車，離砂石車後方不遠處，他先聽到「砰」的聲響，接著看到路燈及告示牌被扯落，謝追上前，告訴徐姓司機「你撞到人了」，再趕去上班。\\xa0謝事後將行車紀錄器錄下的部份過程PO網。他說，當時心想，如果再騎快一點，搞不好倒在地上的就是他，謝騎民族路上班已2年，看到路燈被扯斷，想來還是覺得不可思議。\\xa0警方說，接獲民眾報案到場，但不知是誰報案，肇事責任還待鑑定，不過光賠償路燈及告示牌，初估就超過80萬元。（湯寶隆／高雄報導）\\xa0出版時間：14:40更新時間：14:53\\n陳姓騎士當場昏厥，躺臥馬路，後方騎士有的嚇得不敢往前。翻攝畫面陳姓騎士昏摔馬路，有騎士陸續從旁騎過。翻攝畫面砂石車因車斗未放下釀禍。翻攝畫面安全島的告示牌被扯斷，看來頗為嚇人。翻攝畫面砂車車扯斷安全島的告示牌，讓民族路的交通一度混亂。翻攝畫面', 'view_cnt': 5909}, {'link': 'http://www.appledaily.com.tw//realtimenews/article/international/20160511/858576/【有片】受困小島\\u3000懼高男不上直升機「寧願待著」', 'category': '國際', 'title': '【有片】受困小島\\u3000懼高男不上直升機「寧願...', 'time': '2016/05/11 14:51', 'summary': '美國紐約一對夫婦自行開船前往布魯克林（Brooklyn）附近的一座小島旅遊，結果被困在島上一天一夜，靠著警方派出直升機才成功救回。\\xa0美國哥倫比亞廣播公司（CBS）報導，50歲的李珍妮（Jenny Ly）和52歲的丈夫漢恩（Kevin Huynh）周一搭著船隻前往牙買加灣（Jamaica Bay）一座小島，不料船隻擱淺，夫婦倆就這麼受困在小島上整整一天一夜，超過24小時。隔天其他船的人經過發現夫婦倆，才趕緊報警呼救。紐約警方派出空中單位－直升機到現場支援，在周二下午2時04分將他們救起。\\xa0但是由於漢恩患有懼高症，整個援救過程一度顯得棘手：「他們先把我太太救上去，我跟警察說，我怕高，我要留下來。但他們說：『你一定得走！』」，漢恩只好閉著雙眼上被救上直升機，還直說這過程比被困在島上本身還恐怖。（北美中心／綜合外電報導）\\n警察出動直升機搜救。翻攝紐約警方漢恩夫婦在紐約小島上受困超過一天。翻攝紐約警方漢恩接受記者訪問，直說上直升機比受困小島可怕。翻攝CBS', 'view_cnt': 1863}, {'link': 'http://www.appledaily.com.tw//realtimenews/article/sports/20160511/858653/首度公開\\u3000奧運台灣奪金基地探女力士郭婞淳', 'category': '體育', 'title': '首度公開\\u3000奧運台灣奪金基地探女力士郭婞淳', 'time': '2016/05/11 14:48', 'summary': '台灣女子舉重好手郭婞淳，是今年巴西奧運重點奪金選手，在備戰奧運之餘，她也不忘回饋家鄉母校台東體中，從2013年起她每年捐贈母校10萬元，還額外自掏腰包幫助像她一樣努力訓練、目標放眼奧運的學弟妹，她說：「透過這種方式，讓我更珍惜現在的舞台，我的目標很清楚，就是奧運金牌。」\\xa0郭婞淳是阿美族與布農族「混血」，身長在單親家庭的她家境不算充裕，但今年初才捐贈澎湖馬公天主教靈醫會惠民醫院一台價值超過百萬的救護車，私底下的她個性節儉，教練林敬能說：「她(郭婞淳)全身上下幾乎沒有一樣東西是自己花錢買的，但是學弟妹只要沒鞋穿，一雙3、4000元的鞋子她眼睛都不眨一下就買下來送他們，現在很少有像她這樣心地這麼善良的小孩了。」\\xa0對於自己的善行，郭婞淳揮揮手說：「這沒什麼。」自己這麼節省，卻對學弟妹這麼大方？她說：「很多學弟妹的家境都不好，有時候我回去看到他們鞋子都穿到破洞也沒錢換，既然我有能力就幫助他們，而且看到他們努力訓練的背影，會讓我格外珍惜現在的舞台。」\\xa0郭婞淳2013年在舉重國際戰場上席捲4金，被譽為仁川亞運金牌大熱門，不料大賽前夕她因右大腿肌肉撕裂，亞運奪金夢碎，直到今年烏茲別克的亞洲舉重錦標賽她再次舉金，才找回自信，不過她透露，每天訓練她都是對著鏡子不斷自我催眠，她笑說：「因為鏡子會反射，我對著鏡子裡的人說要堅強，她(自己)就會對著我說要堅強。」（龍柏安／高雄報導）\\n郭婞淳習慣與鏡子裡的自己對話加油打氣。游智勝攝郭婞淳筆記自己的訓練課程。游智勝攝', 'view_cnt': 444}, {'link': 'http://www.appledaily.com.tw//realtimenews/article/international/20160511/858656/習近平訪英多無禮？\\u3000英警官不肯說', 'category': '國際', 'title': '習近平訪英多無禮？\\u3000英警官不肯說', 'time': '2016/05/11 14:48', 'summary': \"英女王接見倫敦警察廳指揮官朵爾西（Lucy D'Orsi），雙方都忍不住抱怨中國國家主席習近平伉儷去年訪英的種種麻煩。朵爾西之後被媒體追訪，她不願透漏習近平訪英時究竟發生什麼事。\\xa0朵爾西向媒體強調，她和女王只是談及當職業婦女的苦惱。她說：「她（女王）感謝我在中國國是訪問期間作出的所有努力，這對我來說相當鼓舞。」白金漢宮發言人則說：「我們對英女皇的私人對話不予置評。不過中國國是訪問非常成功，各方緊密合作確保一切順利。」\\xa0根據先前曝光的談話影片，朵爾西向女王抱怨，習近平伉儷訪英期間對英國駐中大使吳百納（Barbara Woodward）十分無禮。當時朵爾西說：「他們真的……嗯，她真的是（非常無禮），吳百納當然與我在一起，他們突然拋下我們兩個離開。」英女王回說：「匪夷所思！」朵爾西說：「這是非常無禮及非常不符外交禮節，我認為。」\\xa0目前外界無法得知習近平夫婦和英國官員在蘭卡斯特宮外發生何事，奧爾西事後受訪時也沒再提及事件。（國際中心／綜合外電報導）\\xa0\\xa0更多國際新聞請進蘋果繞著地球爆\\xa0\\n【想知道更多，一定要看……】【有片】接待習近平「真倒楣」\\u3000英女王批中國言論曝光習近平訪英「無禮事件」\\u3000當天威廉夫妻.成龍作陪\", 'view_cnt': 2706}, {'link': 'http://www.appledaily.com.tw//realtimenews/article/life/20160511/858664/台大研究：台婦女生育率已止跌反彈', 'category': '生活', 'title': '台大研究：台婦女生育率已止跌反彈', 'time': '2016/05/11 14:46', 'summary': '少子化對台灣造成嚴重衝擊，根據台灣大學研究顯示，台灣婦女生育總量隨世代演替而穩定遞減，1970至1980年代出生的女性，其生育步調不但起步晚，完成生育數量也拖延較長時間，反倒是1980年後年輕世代雖晚生育，但因為政府政策支持反而迎頭趕上，學者指最低生育結果可能出現在1970至1980年代出生女性，台灣婦女生育率已出現止跌反彈。\\xa0在科技部經費補助下，台大生物產業傳播暨發展學系與政治大學社會系共同執行為期3年的「近期回升的生育率能否持續？制度變遷與婚育行為的連結」研究計畫，該研究利用人口統計資料，針對1950年至1995年出生的女性，進行世代累計探討台灣戰後出生世代對於婚姻和生育的偏好和行為，以及因教育、就業時間延長，導致延遲結婚與生育事件的效應，進行研究。\\xa0台大生傳系副教授陳玉華說，少子化不僅是人口問題，更是社會、經濟，甚至擴及政治層面的複雜問題，觀察生育率與結婚率的長期變動趨勢，發現不僅政治與經濟風暴會影響婚育時間的選擇，趨吉避凶的社會傳統文化然左右台灣民眾的決策，例如經濟不景氣加上完成大學以上學歷的年齡，都是少子化原因之一。\\xa0不過，陳玉華指出，1980年之後的年輕世代雖然晚生育，但因為育兒津貼及育嬰假等政府政策的鼓勵，卻有「急起直追、迎頭趕上」的現象，反倒是1970-1980年出生的女性，其生育步調不但起步晚、完成生育數量也拖延較長的時間。\\xa0面對日益嚴峻狀況，陳玉華認為，少子化是一個嚴重問題，但台灣在現有政策推動不僅太晚，且資源仍不足，而生育的責任應該是大家去負擔，把孩子當成公共財，建議政府應該擴大鼓勵生育的相關政策，包括育嬰假更有彈性或時間更長，且育兒津貼額度不應有區域性差別，而是全國一體適用，才能解決生育率下降導致的人口老化問題。（許敏溶／台北報導）\\xa0\\n台大生傳系副教授陳玉華說，少子化不僅是人口問題，更是社會、經濟，甚至擴及政治層面的複雜問題。許敏溶攝', 'view_cnt': 2442}, {'link': 'http://www.appledaily.com.tw//realtimenews/article/life/20160511/858640/【民報/林靜君心理專欄】家有退休老公真是討人厭？\\u200b', 'category': '生活', 'title': '【民報/林靜君心理專欄】家有退休老公真是...', 'time': '2016/05/11 14:45', 'summary': '本內容由民報提供\\xa0(摘錄 全文請連結民報)文 / 林靜君\\xa0「我快要被搞瘋了，千萬不能讓妳老公提早退休，太可怕了！」拉開星巴克的木椅，小蘭人還沒有坐穩，馬上對和自己年齡相仿的編輯耳提面命，開始大倒苦水。\\xa0前年小蘭的先生，因為公司轉型祭出優退方案，擔任主管的他盤算在部門整併之後自己職涯發展到頂，選擇領錢走人。小蘭看到先生上班辛苦，支持他趁優退機會休息一下。小蘭不假思索認為，向來是工作狂的先生，需要的只是短暫的休息，過一陣子就會自己找事情做。她和先生年齡差距快十歲，婚後一直過著在家接案畫插畫，過獨立作業的生活。\\xa0小蘭萬萬沒想到，先生的優退變成她的惡夢。\\xa0前幾個月度過退休蜜月期，先生說：「以前真是想不開，替人家賣命還要被糟蹋。以後，我要快樂做自己。」舊識多半都還在工作崗位上，在職時往來密切的朋友，互動也沒以前熱絡。他開口向舊識問是否有工作機會，但對方打哈哈說：「我們小廟哪容得下你這大菩薩，別開玩笑！」先生向小蘭提到這件事時，兩頰微微發抖忿忿地說：「我又不差這幾個錢，是他過去一再拜託要我跳槽到他公司。我是給他面子。」\\xa0斷續談了兩、三個位置，先生嫌位子小、條件不好，說如果要屈就根本就不需要優退。之後多半時間，就在家上網看看股票、滑手機，偶而發表一下對政論的高見。\\xa0同時間，先生開始對家人的生活方式看不順眼。首當其衝是小蘭，為了配合業主的時間，有時需熬夜畫圖，沒辦法在第二天六點半起床弄早餐。小蘭前一天買麵包，要先生起床後自已倒牛奶用餐，結果他勃然大怒，罵小蘭不懂紀律與時間管理，太好命，沒在社會工作過嚴重與社會脫節。\\xa0小蘭有次和男性的企劃約在住家附近咖啡廳談案子，剛好遇到先生，小蘭介紹企畫給先生認識，結果他當場沒給人好臉色，回到家大發雷霆，說談公事不在辦公室，兩人心裡一定有鬼。之後，只要小蘭要出門，先生就鉅細靡遺問東問西。批評小蘭為一個鳥工作，花那麼多時間。\\xa0在外念書的兒子回到家也是動輒得咎，從髮型、衣著到作息，沒有一點他看得順眼，兒子有次被罵煩了，直接回他：「你有病！」小蘭看先生不到兩年時間，從意氣風發社會中堅，變成晚上睡不好覺、白天愛找碴的老頭。連帶自己也變得愛發脾氣，有時人在外只要一接近用餐時間，不自覺會緊張、甚至胃痛。小蘭好懊惱，早知如此，當初要是反對先生提前退休就好了。\\xa0退休是一家子的事\\xa0退休是劇烈的生活轉變，當家庭成員從職場上退下來，並不只是......(摘錄 全文請連結民報)', 'view_cnt': 1692}, {'link': 'http://www.appledaily.com.tw//realtimenews/article/international/20160511/858651/【央廣RTI】紐西蘭兩大報考慮合併', 'category': '國際', 'title': '【央廣RTI】紐西蘭兩大報考慮合併', 'time': '2016/05/11 14:45', 'summary': '本內容由中央廣播電臺提供\\xa0\\xa0 \\xa0 \\xa0 \\xa0美聯社報導，面對年收入下滑與讀者閱讀習慣改變等衝擊，紐西蘭兩大報正在商討合併。此舉可能終結雙方數十年來的競爭關係，這項合併提案若通過，將使紐西蘭的主要報紙出版商剩下唯一一家。並導致數百個工作機會消失。\\xa0 \\xa0 \\xa0 \\xa0總部設在澳洲的費爾法克斯媒體公司(Fairfax Media)與APN新聞媒體集團(APN News & Media)今天(11日)宣布，他們正考慮合併兩家公司在紐西蘭的報紙、廣播電台與網站。此舉是紐澳地區企業緊縮開支的最新一起案例，當地許多媒體都在致力調整，以應付快速變化的環境。但合併提案仍須經過監管單位同意。\\xa0 \\xa0 \\xa0 \\xa0企業方面表示，兩家公司彼此互補，合併也可改善提供給讀者與廣告主的服務。但工會與觀察員則憂心工作機會可能消失，與公司持不同看法。(繼續閱讀)', 'view_cnt': 174}, {'link': 'http://www.appledaily.com.tw//realtimenews/article/3c/20160511/857959/躺著就高潮\\u3000但總覺得好眼熟？', 'category': '3C', 'title': '躺著就高潮\\u3000但總覺得好眼熟？', 'time': '2016/05/11 14:44', 'summary': '科技狂潮席捲大眾，連睡眠商機業者也積極搶進，據外電媒體報導，Starpool與Neocogita二家公司日前合作開發了一款智慧水療床Zerobody Bed，它可是款能加熱的水床，也可自己調整適合溫度及燈光，還能帶給使用者無重力漂浮的體驗，號稱更能幫助冥想時快速進入放鬆狀態，讓身心徹底舒暢，只是有人似乎覺得它長得太像棺材，似乎有點觸霉頭就是了。(王心怡／綜合報導)\\xa0分享更多有趣生活照快上失焦der小確幸\\xa0更多有趣新聞快上吃喝玩樂蘋果花', 'view_cnt': 3046}, {'link': 'http://www.appledaily.com.tw//realtimenews/article/property/20160511/858659/新竹巨城商圈\\u3000房市交易住宅熱店面冷', 'category': '地產', 'title': '新竹巨城商圈\\u3000房市交易住宅熱店面冷', 'time': '2016/05/11 14:43', 'summary': '新竹市東區開發較早，生活機能純熟，且有規劃遠東巨城購物中心，居民吃喝玩樂機能完備，專家表示，近期周邊中古屋交易熱絡，多集中在北大路與中央路段，店面部分則較少人詢問。\\xa0遠東巨城購物中心周邊，屋齡10~15年大樓，成交行情每坪25~27萬元，視社區品質及有無物業管理而定，中信房屋新竹區北大加盟店店長楊嘉寶表示，近期北大路與中央路中古屋帶看量大，主要為自住需求，且客群多偏向於新竹科學園區上班的工程師，楊嘉寶解釋，因園區周邊房價多為每坪30幾萬，相較下此區價位較低，且百貨公司落於市中心，逛街機能吸引不少人。\\xa0新案部分，位民主路的「榀house」，基地位置處靜巷，且近北新竹車站，生活及交通機能皆不錯，總價1558萬元起，銷售專員周士軒表示，此案採清水混凝土打造日式外觀，強調建築工法，目前僅剩2戶，另一新案由群新建設興建的「群新風度」，基地位置近學區三民國小和三民國中，小孩上下學方便，專案經理黃雅芳表示，顧客看屋需求多為自助型換屋族，且主要為新竹科學園區客，目前已銷售7成。（廖育萱／新竹報導）\\xa0「蘋果掀房事」每周三中午12點半 午餐加好料\\xa0更多房市快訊請看蘋果地產王粉絲團', 'view_cnt': 790}, {'link': 'http://www.appledaily.com.tw//realtimenews/article/finance/20160511/858662/都怪日圓太強\\u3000豐田警告純益恐銳減35\\u30005年來首見下滑', 'category': '財經', 'title': '都怪日圓太強\\u3000豐田警告純益恐銳減35%\\u3000...', 'time': '2016/05/11 14:42', 'summary': '日本最大企業豐田汽車今發布聲明表示，受日圓強升影響，至明年3月底止本年度純益恐銳減35%至1.5兆日圓（138億美元），為5年來純益首見下滑，而且遠少於市場預期的2.19兆，計劃最多買回3.42%股票，金額上看5000億日圓。（于倩若／綜合外電報導）', 'view_cnt': 721}, {'link': 'http://www.appledaily.com.tw//realtimenews/article/life/20160511/858441/【有片】慢慢的那個突然衝刺好快\\u3000網友驚呆', 'category': '生活', 'title': '【有片】慢慢的那個突然衝刺好快\\u3000網友驚呆', 'time': '2016/05/11 14:40', 'summary': '(新增：影片和公關說法)\\xa0號稱「亞洲最好玩的國際級購物中心」大魯閣草衙道開幕後，不少人搶著去體驗，有網友到了現場發現，摩天輪的轉速超快，光看就頭暈，還有人封這是「無敵風火輪」。\\xa0該名網友在臉書「爆料公社」貼出摩天輪運轉的畫面，可見摩天輪運轉的速度明顯得快，讓網友大驚「第一次看過『摩天輪』轉那快～可能頭暈會吐到死！」\\xa0網友笑稱「這根本是無敵風火輪」、「這是血滴子」、「轉吧...七彩霓虹燈」、「趕場嗎」、「他是標榜高速摩天輪啊！慢的轉兩圈快的轉三圈」，但也有人懷疑「可能是壓力測試」。\\xa0而大魯閣草衙道公關則表示，其實園區內的遊樂園，主題是「車」，因此遊具也多半呼應主題，強調「速度感」。而引進的摩天輪，更是全台獨家具有「速度感」的摩天輪，其造型就是一個輪胎，而遊客搭乘後，摩天輪會運轉三圈，第一圈是緩慢的運轉，方便遊客上下摩天輪，而第二圈後便會開始「飆速」，但其實座位上也都已經設置安全帶，速度快就是其特色，安全無虞，也歡迎民眾前來體驗。（盧麗蓮、劉邠如／綜合報導）\\xa0出版：11:25更新：14:24\\n大魯閣草衙道的摩天輪被封「無敵風火輪」。翻攝爆料公社', 'view_cnt': 7992}, {'link': 'http://www.appledaily.com.tw//realtimenews/article/nextmag/20160511/858663/【壹週刊】跟著達人逛\\u3000全球第一家LV行李箱概念店', 'category': '壹週刊', 'title': '【壹週刊】跟著達人逛\\u3000全球第一家LV行李...', 'time': '2016/05/11 14:39', 'summary': '講到古董行李箱，就不會忘記LOUIS VUITTON。昨日剛開幕的LOUIS VUITTON晶華行李箱概念店，是全球第一家針對硬箱的概念店。現在就跟著店經理一起逛，除了旅行用的行李箱，竟然有香檳箱、威士忌箱、西洋棋箱跟各種 奇妙的箱子，還可以擁有專屬的彩繪與刻印，快點一窺這奢華概念的私房小秘密。（撰文：李詩文）\\xa0「更多其他壹週刊內容請點我」', 'view_cnt': 253}, {'link': 'http://www.appledaily.com.tw//realtimenews/article/local/20160511/858508/台男槍殺中國商人\\u3000茶葉禮盒留DNA被捕', 'category': '社會', 'title': '台男槍殺中國商人\\u3000茶葉禮盒留DNA被捕', 'time': '2016/05/11 14:39', 'summary': '（更新：新增畫面）\\xa0商業糾紛竟找槍手殺人！台灣一名陳姓男子因為商業糾紛，2012年12月中旬帶著郭鎮豪（33歲）搭機前往中國深圳後，就由郭男以送茶葉禮盒為名，進入深圳市羅湖區的世界金融中心大樓，待在中國籍男子谷峰（48歲）經營的生物科技公司，趁著谷男的公司員工陸續下班，郭男再持槍射殺谷男身亡，事後還把做案槍枝丟在深圳市皇崗口岸公用廁所，隨後與陳姓男子分別搭機回台。\\xa0中國警方調查後，在命案現場發現茶葉禮盒的提繩，還有在公廁內拾獲的槍枝上採集到DNA，追查出搭機回台的郭男涉案，中國警方於是依據「海峽兩岸共同打擊犯罪及司法互助協議」，請求台灣警方協助調查，桃園地檢署指揮刑事局等單位，根據中國警方提供的DNA，比對出涉案郭男的身分，並在今年1月13日將其拘提到案。\\xa0郭男到案說明時供詞反覆，但是警方出示他在案發時間進出命案大樓的影像，也查出陳姓男子涉案，郭男才坦承因與谷男發生衝突，見到谷男持槍相向，於是上前搶槍引發槍枝走火，才會不慎打死谷男，但是桃園地檢署今天仍依殺人罪嫌將郭男起訴，檢警並持續追查潛逃出境的陳姓男子。（突發中心張沛森／桃園報導）\\xa0發稿時間：1240更新時間：1439\\xa0\\n【想知道更多，一定要看……】談判馬國詐騙犯回台\\u3000法務部帶這個當籌碼郭男攜去中國的茶葉禮盒，留下DNA跡證。翻攝畫面', 'view_cnt': 2502}, {'link': 'http://www.appledaily.com.tw//realtimenews/article/international/20160511/858633/鄭捷遭槍決\\u3000BBC、《美聯社》關注', 'category': '國際', 'title': '鄭捷遭槍決\\u3000BBC、《美聯社》關注', 'time': '2016/05/11 14:39', 'summary': '前年犯下4死、22傷的台北捷運殺人魔鄭捷，昨晚8時47分被開3槍伏法，今日英國《BBC》和《美聯社》皆陸續報導鄭捷遭槍決的新聞。\\xa0《BBC》報導引述法務部政務次長陳明堂的說法，表示鄭捷的死刑執行，是唯一能伸張正義並減輕受害者家屬痛苦的方法。報導也稱近幾年來台灣社會有多數人支持死刑，尤其是針對類似鄭捷案的隨機殺人案，以及殺害兒童案件。但國際特赦組織及歐盟委員會，以及台灣在地的人權組織卻認為，台灣應該停止死刑執行。\\xa0而《美聯社》引述法務部說法指出，鄭捷的死刑執行是有必要的，因為他的犯罪情節太嚴重，而且公眾要求要維護社會正義。（施旖婕／綜合外電報導）\\n美國abc新聞網引述《美聯社》報導，刊登鄭捷遭槍決消息。', 'view_cnt': 13053}, {'link': 'http://www.appledaily.com.tw//realtimenews/article/entertainment/20160511/858647/李婭莎怕痛拒生\\u3000媽媽撂話「斷絕關係」', 'category': '娛樂', 'title': '李婭莎怕痛拒生\\u3000媽媽撂話「斷絕關係」', 'time': '2016/05/11 14:38', 'summary': '來自上海的台語金曲歌后李婭莎推出新輯《Live台北/騷故事》，今舉辦活動暢談耗資300萬的專輯，並以千萬音響設備播放歌曲，她現場播放《西施》、《騷》、《我住台北》3首試聽，並解說歌曲創作靈感，她的專輯去年底發行，剛好趕上今年金曲獎報名，明就要公佈入圍名單，她笑說有關注，有無入圍就抱持平常心。\\xa033歲的她笑稱自己單身，但媽媽一直催她結婚，期限就是她35歲時，她笑說順其自然，還曾跟媽媽說即便結婚，也不打算生小孩，因為怕痛，媽媽撂狠話說「那就斷絕關係吧」，讓她很無奈。（陳薈涵／台北報導）\\xa0\\n李婭莎超偶出身，並曾獲第24屆金曲獎最佳台語女歌手獎。陳明中攝李婭莎今出席新輯宣傳活動，穿著黑色禮服秀出美腿。陳明中攝', 'view_cnt': 6754}, {'link': 'http://www.appledaily.com.tw//realtimenews/article/nextmag/20160511/858654/【壹週刊】班傑家門深吻南洋妹\\u3000新女友曝光！', 'category': '壹週刊', 'title': '【壹週刊】班傑家門深吻南洋妹\\u3000新女友曝光...', 'time': '2016/05/11 14:35', 'summary': '本刊直擊班傑摸黑帶新女伴回家，兩人牽手、喇舌，做滿前戲後才一起進門，顯然早把劉雨柔忘個精光。四日晚間10點，本刊目擊班傑一手拿著茶飲，一手緊牽著一名長髮女生的手，兩人用英文有說有笑地沿著大安區的街道散步，看起來就像是熱戀中的情侶。班傑神情愉悅，還不時含情脈脈地望向身旁的女伴。\\xa0本刊觀察，這名新女伴只比身高183公分的班傑矮了半個頭，一身健康的小麥色肌，身材比例不像台灣人，散發出濃濃的南洋風情，而且相當活潑健談，一路上一張嘴幾乎沒停過。\\xa0途中，兩人巧遇騎單車經過的男性友人，班傑將這位南洋女伴介紹給友人認識，女伴還大方地與男子握手；從交談中可聽出，女子的中文也很好。\\xa0小倆口與友人道別後，非常省錢地搭著公車回到班傑住處。進門倒數前，兩人還猴急地先在門口喇舌，口水交融好一陣後，才心甘情願回家，證明這親嘴並非只是國際禮儀。這也是繼劉雨柔後，班傑身邊首次被拍到有新對象。\\xa0對此，班傑所屬「重感情創意工作室」經紀人艾瑪士坦承，兩人的確是男女朋友，交往不到一個月，為了保護戀情和尊重女方，不方便透露其他資訊。（撰文：娛樂組）\\xa0更多精彩壹週刊內容請點我', 'view_cnt': 3599}, {'link': 'http://www.appledaily.com.tw//realtimenews/article/entertainment/20160511/857980/超模2歲愛女\\u3000收豪宅等比娃娃屋慶生', 'category': '娛樂', 'title': '超模2歲愛女\\u3000收豪宅等比娃娃屋慶生', 'time': '2016/05/11 14:30', 'summary': '31歲英國超模塔瑪拉（Tamara Ecclestone）是F1賽車主席埃克萊斯通之女，又嫁了個富商老公，她有個2歲的女兒蘇菲亞，這個含著金湯匙出生的小女孩竟擁有一座和塔瑪拉自家倫敦豪宅等比例打造的娃娃屋。\\xa0根據《每日郵報》，這座娃娃屋是依據塔瑪拉娘家位於倫敦價值34億元台幣的豪宅等比打造，要價近50萬台幣，是塔瑪拉的妹妹，也就是蘇菲亞的阿姨佩特拉送給小外甥女的生日禮物。（封以恩╱綜合報導）\\xa0\\xa0\\n塔瑪拉娘家位於倫敦的豪華宅邸。翻攝每日郵報', 'view_cnt': 4055}, {'link': 'http://www.appledaily.com.tw//realtimenews/article/finance/20160511/858624/台新信用卡當電子發票\\u3000大潤發也適用', 'category': '財經', 'title': '台新信用卡當電子發票\\u3000大潤發也適用', 'time': '2016/05/11 14:30', 'summary': '財政部今年年初開放信用卡做為電子發票載具，台新銀行在5月與新光三越合作首辦後，與大潤發合作建置的電子發票系統預計在6月底上線，大潤發也是國內首家導入信用卡電子發票載具功能的量販業者。\\xa0據了解，過去可以用來存取電子發票的載具，包括手機條碼、自然人憑證、悠遊卡、一卡通等，今年起多了信用卡，在5月台新銀行與新光三越配合率先開辦，之後包括台灣銀行、華南銀行、第一銀行和合作金庫等八大公股行庫。\\xa0台新銀支付金融處資深副總經理周偉萱表示，支付數位代時代來臨，「發票無紙化」是必然趨勢，除了新光三越百貨，未來民眾到大潤發各門市購物並使用台新信用卡或VISA金融卡刷卡結帳，只需告知櫃員不列印發票，即可用台新卡存取電子發票。\\xa0周偉萱進一步指出，日後若發票中獎，台新銀行將透過簡訊及e-mail通知持卡人，若持卡人以手機條碼或自然人憑證等方式完成載具歸戶，可再免去兌領獎項的手續，獎金扣除應納稅額後，可直接匯入中獎人指定帳戶。（林潔禎／台北報導）', 'view_cnt': 807}, {'link': 'http://www.appledaily.com.tw//realtimenews/article/international/20160511/858642/【央廣RTI】達文西死因揭秘可能死於中風', 'category': '國際', 'title': '【央廣RTI】達文西死因揭秘  可能死於...', 'time': '2016/05/11 14:30', 'summary': '本內容由中央廣播電臺提供\\xa0\\xa0 \\xa0 \\xa0 「刺胳針神經學」(The Lancet Neurology)6月號一份研究指出，文藝復興時期天才達文西(Leonardo da Vinci)生前最後兩年可能飽受一再中風所苦，導致他行動能力減低，最終邁向死亡。探索新聞網(Discovery News)10日報導，這項研究是由義大利兩位醫師所進行，他們翻閱古老文獻，重建達文西自1517年至1519年死亡中間的健康狀況。達文西去世時為67歲。\\xa0 \\xa0 \\xa0 \\xa0義大利戈里齊亞(Gorizia)醫院醫學部的沛恰坎蒂(Antonio Perciaccante)表示，「根據(文藝復興時期人物)德貝亞提斯(Antonio de Beatis)紀載(其主人)達阿拉戈納(Louis d’Aragona)的旅行日誌，李奧納多(達文西)65歲時右手癱瘓。」沛恰坎蒂與共同作者柯拉里(Alessia Coralli)指出，根據文獻敘述，達文西右手雖然癱瘓，但只有身體部分受到影響，並未損及認知能力。柯拉里是奇維塔卡斯泰拉納(Civita Castellana)醫院的外科醫師。\\xa0 \\xa0 \\xa0 \\xa0但依據15世紀畫家、建築師兼作家瓦薩里(Giorgio Vasari)的描述，達文西健康可能已經退化。在瓦薩里1550年的書籍「藝術家的一生」(Lives of the Artists，暫譯)中，他形容達文西為一名生病且久臥病榻的人，無法在沒有僕人與朋友的手臂支持下站起來。瓦薩里寫道，達文西的病情持續好幾個月。\\xa0 \\xa0 \\xa0 \\xa0沛恰坎蒂與柯拉里表示，應該是發生甚麼事，才損害了這位文藝復興時期奇才的自主能力。沛恰坎蒂說，「我們的假設是，第一次中風導致(達文西的)手癱瘓，接著又發生其他幾次中風，使達文西的健康與行動力惡化。」(繼續閱讀)', 'view_cnt': 779}, {'link': 'http://www.appledaily.com.tw//realtimenews/article/life/20160511/858641/夏季旅展520超殺登場\\u3000住宿券門票3折起', 'category': '生活', 'title': '夏季旅展520超殺登場\\u3000住宿券門票3折起', 'time': '2016/05/11 14:26', 'summary': '夏季最大旅展、台北國際觀光博覽會預計5月20日到23日登場，為搶攻暑假旅遊商機，旅行業者、飯店業者和遊樂園卯足勁推出超殺優惠，其中住宿券約3折起、餐券3.2折起、遊樂園門票3.3折起，預估今年將吸引30萬人次搶進旅展。\\xa0台北市旅行公會理事長吳志健表示，台灣國際觀光博覽會是夏季最大旅展，今年總計有460家廠商、1200個攤位參展，創下夏季旅展最大規模，去年4天內吸引28萬人次入場，今年預計將突破30萬人次。\\xa0看準夏季旅遊商機，旅行業者搶推超殺優惠搶客，易遊網推出環島之星遠雄海洋公園一日遊，原價2199元，下殺1590元起，易遊網國內處長蕭冠群表示，易遊網包下台鐵環島之星，旅客購買該行程不用擔心買不到火車票，保證有位可搭。\\xa0另國人最愛搶買的餐券也推優惠，錦華大飯店推出2人港式好食套餐，原價1254元，優惠僅398元，下殺3.2折起，五星級飯店折扣也超強勢，君悅飯店凱菲屋平日分享餐券原價3872元，優惠僅2500元，且可選平日下午茶4客，或是午餐或晚餐2客。\\xa0明天才開幕的桃園大溪笠復威斯汀度假酒店也首度參展，住宿券原價1萬7千元，優惠5999元，推出3.5折超低折扣，若買5張還可再送1張，等於下殺3折。義大世界皇家酒店豪華客房住宿原價1萬3530元，優惠4500元，推出3.3折。國內遊樂園優惠也不少，麗寶樂園推出雙人月光票，原價598元，優惠199元，下殺3.3折。(李姿慧／台北報導)', 'view_cnt': 1038}, {'link': 'http://www.appledaily.com.tw//realtimenews/article/life/20160511/858534/【更新】iPadPro9.7資費出爐\\u3000購機折抵萬元', 'category': '生活', 'title': '【更新】iPad Pro 9.7資費出爐...', 'time': '2016/05/11 14:25', 'summary': '（更新：新增燦坤、Studio A購機方案）\\xa0蘋果今年三月發表的iPad Pro 9.7吋，德誼數位及燦坤今宣布資費方案，空機價20900元起，搭配遠傳699元及台灣之星799元4G上網方案可折抵萬元。Studio A則推出蘋果系列產品舊換新折抵服務，以蘋果平板為例，單機舊換新約可2千元至8700元不等，舊機折抵不限數量，最高可全額折抵。\\xa0iPad Pro 9.7吋開賣，最低容量32GB售價20900元、128GB售價25900元、256GB售價30900元，德誼數位今推出遠傳電信699元資費方案，前6個月吃到飽不降速，之後每月提供20.5GB上網傳輸量，綁約24期加贈市價10490元的Apple Pencil及Beats Solo 2耳罩式耳機，綁約36期可折9千元，最高可折抵1萬元。\\xa0德誼數位總經理杜偉昱表示，統計過去一年以來德誼門市iPad銷售，同為9.7吋的iPad/iPad Air系列超過所有銷售的6成以上，這次的iPad Pro 9.7吋很有市場潛力。\\xa0燦坤今也搭配台灣之星，推出4G競速799資費方案，網內通話吃到飽、網外送45分鐘、4G上網吃到飽不限速，綁約30期，原價20900元的iPad Pro 9.7吋售價6999元，單買空機可享12期0利率。\\xa0Studio A這次推出iPad Pro 9.7吋的舊換新折抵方案，可持手上舊有的蘋果iPhone、平板、Mac折價，不限數量，最多可全額折抵，以平板為例，平均折抵價錢約2千元至8700元不等。\\xa0Studio A說，這次折抵方案加入公益活動，民眾拿來折抵的蘋果系列商品將捐贈給肌肉萎縮病友協會、雅文基金會、慎修養護中心。（蔡孟修／台北報導）\\xa0發稿時間：12：26更新時間：14：25', 'view_cnt': 2387}, {'link': 'http://www.appledaily.com.tw//realtimenews/article/life/20160511/858635/對流雲系旺盛\\u3000氣象局：嘉義縣要注意大雷雨', 'category': '生活', 'title': '對流雲系旺盛\\u3000氣象局：嘉義縣要注意大雷雨', 'time': '2016/05/11 14:25', 'summary': '由於對流雲系發展旺盛，中央氣象局剛剛發布剛針對嘉義縣的朴子市、布袋鎮、六腳鄉、東石鄉等地發布大雷雨即時訊息，持續時間至14 時45 分止。\\xa0氣象局表示，請民眾慎防劇烈降雨、雷擊、9級以上強陣風，低窪地區慎防淹水。路面濕滑，步行與開車請注意安全。能見度低，請注意行車安全、減速慢行。請進入室內，遠離山頂、屋頂、涼亭、獨立樹下、溪流或水塘，位於空曠區域應蹲下降並盡量減少與地面接觸的面積。（生活中心／台北報導）', 'view_cnt': 985}, {'link': 'http://www.appledaily.com.tw//realtimenews/article/local/20160511/858477/7天被抓2次\\u3000怕見不到女友哭了', 'category': '社會', 'title': '7天被抓2次\\u3000怕見不到女友哭了', 'time': '2016/05/11 14:24', 'summary': '（更新：增加影片）\\xa02名男子在賣場前交易毒品遭逮，買毒的黃姓男子擔心無法見到女友，先當街求饒，見警方無意放人，乾脆跌坐地上，放聲大哭，讓在場警員看傻了，警方事後通融，讓他講電話，只見黃男在電話這頭，不斷輕聲安慰女友，讓警方直嘆「早知如此，何必當初」。\\xa0前天凌晨3時40分，保大特勤警網行經三多、福德路口，發現2名男子在賣場前交頭接耳，2人看到警車靠近，快步閃人，警方下車逮人，共在2人身上查獲5小安毒，另有4發制式子彈。\\xa0警方指出，遭逮的黃男（23歲）在建築工地當派遣工，與17歲就讀護專女友交往1年，目前租屋同住，黃1星期前才持毒被抓，如今再被抓，擔心被關，見不到女友才會情緒如此失控。\\xa0另名黃姓男子（30歲）開設服飾店，他否認販毒，強調只是自己吸食，子彈是赴台中批貨時，對方欠5千元，拿4顆子彈抵債，全案訊後依毒品及槍砲罪嫌送辦。（湯寶隆／高雄報導）\\xa0發稿時間 11:54更新時間 14:24\\n黃姓男子涉嫌持有子彈及毒品被送辦。翻攝畫面黃男跌坐地上，向警方求饒。翻攝畫面', 'view_cnt': 8322}, {'link': 'http://www.appledaily.com.tw//realtimenews/article/finance/20160511/858637/華碩Q3推手持VR裝置\\u30002017年推VR頭盔\\u3000', 'category': '財經', 'title': '華碩Q3推手持VR裝置\\u30002017年推VR...', 'time': '2016/05/11 14:24', 'summary': '華碩估個人電腦中電競業務第2季營收年增率56%，Chromebook業務年增5成，ZenBook跟ZenAiO營收年增10%，其中ZenBook 3及變形系列Transformer 3預計將台北國際電腦展推出。華碩首季手機營收年增40%，第2季預估是過渡期，新舊機交替。\\xa0華碩進軍VR（虛擬實境）跟AR（擴增實境）領域，宣布2016年第3季推出手持VR裝置，2017年上半將推出電腦VR頭戴裝置及新手持VR裝置，2017年CES預計也會推出AR行動裝置。華碩也宣布將進軍智慧家庭、智慧車、智慧穿戴3大領域。（王郁倫／台北報導）\\xa0\\n華碩財務長兼發言人吳長榮。李柏毅攝華碩執行長沈振來。李柏毅攝', 'view_cnt': 494}, {'link': 'http://www.appledaily.com.tw//realtimenews/article/forum/20160511/858639/【台灣英文新聞】馬英九在急什麼？', 'category': '論壇', 'title': '【台灣英文新聞】馬英九在急什麼？', 'time': '2016/05/11 14:24', 'summary': '本內容由台灣英文新聞提供\\xa0（作者李平華，資深媒體人）\\xa0馬英九總統的任期，進入最後倒數計時，但他到底在想什麼？急著在各種事情軋上一腳，將燙手山芋拚命往身上攬？這是否是馬不願放下權力，企圖創造最後歷史定位，殊不知他已乏力回天，執政成績早已評定，現在只是多添加幾筆爛帳。\\xa0以中研院院長遴選為例，剛好處於新舊政權交接期，外界希望由新任總統蔡英文拍板定案，方便讓雙方未來能更緊密合作，馬英九卻在同意現任院長翁啟惠請辭時，硬要安排三位院長候選人，與他會面深談。\\xa0馬英九雖然說，約談院長候選人後，由他或下屆總統來核定人選；但蔡英文和馬英九一起面談候選人的可能性極低，候選人分兩次和先後任總統會面的機會也不高。可以預期的是，由馬英九約談，最後院長如何產生，答案呼之欲出。\\xa0再看看北捷殺人犯鄭捷伏法過程，從死刑定讞，到執行槍決，只有19天，創下近年來最快紀錄。啟人疑竇的是，不像以往多人同時執法，這次卻只有鄭捷一人，... 閱讀全文\\xa0Taiwan News／台灣英文新聞生活頻道／世界深度', 'view_cnt': 1609}, {'link': 'http://www.appledaily.com.tw//realtimenews/article/beauty/20160511/858392/【有片】正妹主播轉戰演藝圈\\u3000「真妹妹文」曝光', 'category': '正妹', 'title': '【有片】正妹主播轉戰演藝圈\\u3000「真妹妹文」...', 'time': '2016/05/11 14:22', 'summary': '（更新：新增影片）\\xa0《蘋果》報導「女神主播閃退新聞圈 竟然要去這上班」，指出民視體育主播林柏妤將告別採訪生涯，轉戰演藝圈、朝全職藝人發展。對此消息許多批踢踢鄉民討論，並在推文說「主播就是念稿做做表情 當藝人剛好啊 」、「藝人好賺多了 如果照吳怡霈 應該有以前當主播的10倍吧 \\xa0」、「根本撞臉蘇晏霈」等不看好。\\xa0不過有位自稱是「肥宅哥哥」的鄉民發文「別的主播我不知道是不是只是念念稿做做表情，我妹是真心熱愛體育這塊」「肥宅哥哥」說，林柏妤很有意志力，讓他心底對他只有佩服。\\xa0對於林柏妤要轉戰演藝圈，肥宅哥哥也說「這不是條好走的路，要努力，要機緣，要天時地利人和，不過既然是她下定決心的事，做為家人就是相信與支持」、「但我妹應該不是走女神路線的，她是我心中的鐵娘子!」\\xa0對此鄉民紛紛敲碗說「你跟你妹的圖勒」、「真妹妹文4ni?」，當然肥宅哥哥不負眾望的PO初他與林柏妤合照，讓更多鄉民改稱他「大舅子」。(葉國吏/綜合報導)\\xa0出版時間 10：48更新時間 14：22\\n林柏妤比基尼照令人驚豔。翻攝林柏妤臉書林柏妤轉戰演藝圈。林柏妤提供翻攝批踢踢', 'view_cnt': 16422}, {'link': 'http://www.appledaily.com.tw//realtimenews/article/life/20160511/858554/【有片】恐怖鄭捷\\u3000應曉薇輔導要求戴警報器', 'category': '生活', 'title': '【有片】恐怖鄭捷\\u3000應曉薇輔導要求戴警報器', 'time': '2016/05/11 14:22', 'summary': '台北捷運隨機殺人案凶手鄭捷昨晚槍決伏法。台北市議員應曉薇說，輔導死刑犯20年中，鄭捷是她要求應帶警報器輔導的死刑犯之一，他很可怕且毫不後悔殺人。應曉薇形容鄭捷眼神恐怖、尖銳，「他很冷靜 你不知道他的下一秒鐘要做什麼」，並指鄭捷很在意媒體對他的報導，「我感覺他把他自己當成殺人魔中的英雄」，更多應曉薇談鄭捷的內容，請看影片。（生活中心／台北報導）\\xa0\\xa0\\n【想知道更多，一定要看……】【鄭捷槍決】死者解青雲母：羅瑩雪正義之舉【有片】速簽鄭捷死刑令\\u3000羅瑩雪：做該做的事台北市議員應曉薇指，輔導死刑犯20年中，鄭捷是她要求應帶警報器輔導的死刑犯之一。取自應曉薇臉書', 'view_cnt': 9117}, {'link': 'http://www.appledaily.com.tw//realtimenews/article/politics/20160511/858621/夾腳拖事件遭批腦子進水\\u3000張景森：發狂的不是我', 'category': '政治', 'title': '夾腳拖事件遭批腦子進水\\u3000張景森：發狂的不...', 'time': '2016/05/11 14:20', 'summary': '準政務委員張景森日前在臉書PO文指出，台灣天氣太炎熱，應該允許正式場合穿著短褲、夾腳拖，引來網路熱議。資深媒體人周玉蔻也則在臉書諷刺張景森「腦子進水，還裝可愛！」張景森今早在臉書再度發文表示，「其實小的能夠在政壇活到今天，腦袋應該不會是裝大便，發狂的應該也不是我」。\\xa0張景森說，他提出應允許正式場合穿著短褲、夾腳拖，結果「不分青紅皂白，又被媒體圍毆了」，他抱怨指媒體說他發狂想、名嘴說他腦袋進水。\\xa0張景森說，稍微關心環境問題的人都知道，日本小泉政府，為了節能減碳、降低室內冷氣耗電，10年前就推動cool biz，目的就是要改善日本人的商業禮儀，從政府機關倡導，夏季公務場合不穿西裝、不打領帶，改成輕便服裝，後來推展到企業，這不但實際產生節能減碳的效果，也帶領出日本輕便服飾的時尚產業；311地震之後，cool biz 更進展成super cool biz。\\xa0張景森說，台灣更熱，文化包袱比日本更輕，應該更容易改革服裝文化，讓台灣的穿著更接近台灣的氣候環境，發展出更多自己的時尚產業。\\xa0張景森還在文末自我調侃，「一定要寫這麼正式嗎？這樣會有人報導嗎？」（政治中心／台北報導）\\xa0\\xa0\\xa0\\xa0\\n【想知道更多，一定要看……】夾腳拖列正式服裝？\\u3000準文化部長鄭麗君這樣說【有片】張景森推夾腳拖列國服 綠委：「藍白拖才是台灣精神」', 'view_cnt': 4357}, {'link': 'http://www.appledaily.com.tw//realtimenews/article/international/20160511/858627/【民報】好直接！英女王形容接待習大大「真倒楣」', 'category': '國際', 'title': '【民報】好直接！英女王形容接待習大大「真...', 'time': '2016/05/11 14:20', 'summary': \"本內容由民報提供\\xa0(摘錄 全文請連結民報)民報國際中心／綜合報導\\xa0英國女王伊莉莎白二世（Elizabeth II）日前在白金漢宮出席今年首場花園派對時，在接見倫敦警察廳指揮官奧爾西（Lucy D'Orsi）時，得知奧爾西為去年中國國家主席習近平伉儷訪問英國期間指揮官時，竟意外說出真心話表示：「歐！真倒楣」（Oh, bad luck），還在對話時透露「他們對大使非常粗魯！」整段對話全被拍攝下來，意外道出英國對習近平訪問期間的心情......(摘錄 全文請連結民報)\", 'view_cnt': 2030}, {'link': 'http://www.appledaily.com.tw//realtimenews/article/entertainment/20160511/858405/【更新】老公蓋SHotel\\u3000大S笑拉小S墊背', 'category': '娛樂', 'title': '【更新】老公蓋S Hotel\\u3000大S笑拉小...', 'time': '2016/05/11 14:19', 'summary': '（新增大S回應）大S老公汪小菲在台北打造精品旅館，請來法國知名設計師Philippe Starck主導裝潢，今年將開幕，同時版圖拓展到海南島三亞，以「S hotel」命名，高調向老婆示愛。\\xa0大S稍晚開心回應：「我非常支持他創業，這會是一個有趣又艱難的過程，希望他玩得開心並從中學習。」至於以她名字命名，她說：「用我的S當飯店的名字，我很感動！若生意不好就當是我妹（小S）的S！」\\xa0汪小菲昨深夜在微博po出飯店房間照，和外籍人士邊看建築模型邊討論，還有和大S的甜蜜自拍，表示：「這幾年雖然投（資）了不少公司，獲得了還好的回報，但我還是喜歡做些實事來給家人。老婆，再過幾個月咱們台北的Philippe Starck酒店就開業了。三亞亞龍灣的也快動工了。都是為了家人開心，都是為了你的名字S hotel，都是要把快樂帶給每個酒店的文化裡。然而這一切都是因為你。」吸引大S粉絲留言謝謝他如此疼愛大S。（吳惠菁、張瑞振／綜合報導）\\xa0出版時間：13:09更新時間：14:19\\xa0\\n汪小菲po出飯店房間照。翻攝汪小菲微博', 'view_cnt': 13663}, {'link': 'http://www.appledaily.com.tw//realtimenews/article/entertainment/20160511/858314/【有片】離譜！女主播自爆喝醉\\u3000被召回播新聞', 'category': '娛樂', 'title': '【有片】離譜！女主播自爆喝醉\\u3000被召回播新...', 'time': '2016/05/11 14:18', 'summary': '（更新：新增影片）\\xa0法務部昨晚閃電執行鄭捷槍決，各家媒體紛紛召回人力，高規格報導。\\xa0東森新聞主播陳柔安被叫回公司，在臉書粉絲專頁開新聞直播。結果她自爆「有人發現我是醉的嗎？至少喝了3杯威士忌」，坦言「被伏法殺得措手不及。」\\xa0陳柔安PO文後隨即刪文，但已被網友擷圖分享，網友覺得她「很有事」、「喝醉了還播新聞」、「我能相信妳嗎」、「失去主播專業」。\\xa0有網友虧，「通常都是死刑犯槍決前要喝酒，沒聽過主播上台前也要喝。」\\xa0也有人替陳柔安緩頰，「說不定她只是下班喝點酒，根本不知道會有突發新聞啊！」（王嘉慶／綜合報導）\\xa0出版時間\\u300009：01更新時間\\u300014：18\\n【想知道更多，一定要看……】女主播喝醉還直播新聞\\u3000東森「會檢討」東森主播陳柔安自爆酒醉。翻攝網路', 'view_cnt': 90620}, {'link': 'http://www.appledaily.com.tw//realtimenews/article/life/20160511/858631/芝山岩蓋19層高樓\\u3000柯P指示先暫緩實行', 'category': '生活', 'title': '芝山岩蓋19層高樓\\u3000柯P指示先暫緩實行', 'time': '2016/05/11 14:18', 'summary': '1993年北市芝山岩被指定為國家二級古蹟公園，2011年北市府有意針對周邊擬定「視覺景觀與天際線管制」條文，但5年時間過去，條文不但未見蹤影，鄰近的惠濟宮旁還準備興建一棟19層高的大樓。北市今舉行里長座談，當地里長再度就此事向台北市長柯文哲陳情，柯最後拍板，市府會在3個月內釐清立場，該都更案先暫緩實行。\\xa0岩山里長王芝安與名山里長薛群秀今在里長會議上向柯陳情，兩人希望政府儘快擬出管制計畫，才能核發建照，至於目前19層大樓的都更案，市府必須先撤回。柯文哲隨後指示，會和副市長林欽榮進行討論，釐清市府的立場與態度，該先列管3個月。\\xa0都發局則表示，該建案為民辦都更，裡面有40%土地為市有地，因此根據都更條例第27條規定市府必須參加，未來主要希望做公宅使用。至於「芝山岩周圍視覺景觀與天際線管制」草案目前正在內部作業，預計對建案高度有相關限制，但內容還須送都委會進行審議，預計本月底會進行。(陳思豪/台北報導)', 'view_cnt': 1296}, {'link': 'http://www.appledaily.com.tw//realtimenews/article/life/20160511/858630/北市腸病毒上周就診人次破千\\u3000進入流行期', 'category': '生活', 'title': '北市腸病毒上周就診人次破千\\u3000進入流行期', 'time': '2016/05/11 14:17', 'summary': '腸病毒疫情持續升溫，北市正式進入疫情流行期。台北市衛生局今公布上周腸病毒門急診就診人次，已達1019人次，超過衛福部疾管署日前公布北市腸病毒疫情流行警戒值1千人，昨衛生局正式公告北市進入腸病毒疫情流行期。北市衛生局表示，今年腸病毒疫情恐大爆發，國小及幼托機構應落實通報及停課規定，違者將依《傳染病防治法》處3千元到1萬5千元罰鍰。\\xa0北市衛生局疾病管制處長陳少卿表示，北市近4周（4月10日至5月7日）腸病毒門急診就診人次分別為561、648、783及1019人次，而上周（5月1日至7日）就診人次已破千人，正式進入流行期。另外，國小、國小補習班及幼托機構的校園通報數也持續攀升，今年截至前天共通報2514人次、停課196班次，均高於去年同期1875人次及117班次。\\xa0陳少卿說，腸病毒疫情約每3到4年會有一次大流行，今年離上次大流行約3年，今年腸病毒疫情恐再次出現大流行。今年至今全台腸病毒感染併發重症個案確診已有3例，但北市尚無確診個案，目前社區流行腸病毒為克沙奇A型，患者多為輕症，但仍有導致重症的風險，不可掉以輕心。\\xa0陳少卿說，孩童若出現發燒、嘔吐、疱疹性咽峽炎或手、足、口等部位出現小紅疹或水泡等疑似腸病毒症狀時，應減少出入公共場所，並在家休息。但若孩童出現嗜睡、肌躍型抽搐、持續性嘔吐、呼吸急促等疑似腸病毒重症，應速就醫治療。（沈能元／台北報導）\\xa0</iframe', 'view_cnt': 397}, {'link': 'http://www.appledaily.com.tw//realtimenews/article/sports/20160511/858634/【有片】時速408公里殺球創紀錄\\u3000李宗偉殺翻中國', 'category': '體育', 'title': '【有片】時速408公里殺球創紀錄\\u3000李宗偉...', 'time': '2016/05/11 14:17', 'summary': '2015香港羽球公開賽 李宗偉vs.田厚威 根據BWF(Badminton World Federation，世界羽球聯合會)公布的消息，李宗偉在2015年香港公開賽決賽，面對中國球員田厚威，曾打出一記時速高達408公里的殺球，締造BWF在正式比賽中最快殺球紀錄。\\xa0舊紀錄則是同年的日本公開賽，由丹麥球員艾利森(Viktor Axelsen)所保持的時速404公里。\\xa02013年由知名羽球品牌Yonex曾邀請多位球星，參與一項速金氏世界紀錄極速殺球認證，馬來西亞男子雙打球員陳文宏，在測試中，打出一記時速493公里殺球，締造新的紀錄。\\xa0台灣女單一姐戴資穎，在今年的全英公開賽，8強賽也曾打出一記時速360公里的殺球，在BWF紀錄中，速度僅次於泰國球員伊瑟儂(Ratchanok Intanon)於今年馬來西亞公開賽四強賽，所打出時速372公里殺球。\\xa0（陳國偉／綜合報導)【更多體育新聞訊息，請加入《蘋果運動超級吧》粉絲團】\\n戴資穎在全英公開賽殺出時速360公里速球。Badminton Photo', 'view_cnt': 1562}, {'link': 'http://www.appledaily.com.tw//realtimenews/article/3c/20160511/858013/毛小孩當道\\u3000寵物遊戲超療癒', 'category': '3C', 'title': '毛小孩當道\\u3000寵物遊戲超療癒', 'time': '2016/05/11 14:14', 'summary': '現在毛小孩的地位愈來愈高，是不少飼主的心頭肉，但很多上班族礙於沒有時間可以陪伴牠，或是家裡空間不大而作罷。現在不少電玩廠商看中這點，紛紛推出養寵物的相關遊戲，不僅撫慰了沒辦法養寵物的人的遺憾，還大大療癒苦悶的上班族呢！到底有哪些可愛的寵物遊戲呢？快一起來看看吧！（蔣欣倫／綜合報導）\\xa0照片均取自YouTube\\xa0快來手寫時代，分享你的手寫作品！更多內容，請上吃喝玩樂蘋果花粉絲團\\xa0\\xa0\\n《進化小天地》中有超過40隻的奇怪生物，餵不同的食物會影響進化的結果喔！感覺會孕育出各種怪異的傢伙～～《啾比牧場》這款遊戲裡並非有小狗小貓，而是可愛的寵物精靈，除了可以打造專屬自己的牧場外，還能養成精靈進而分配工作給它們。可以讓你飼養各種狗狗的《晴天小狗》，內容豐富且畫面相當可愛唷！可愛指數爆表的休閒養成遊戲《寵物派對Web》，可以幫毛小孩打扮成任何帥氣又時尚的樣子唷～超夯的《貓咪收集》遊戲，每隻貓咪的個性都不同，還可以將庭院打造成遊樂場呢！', 'view_cnt': 748}, {'link': 'http://www.appledaily.com.tw//realtimenews/article/3c/20160511/858022/一起來萌萌噠丟泡泡吧！', 'category': '3C', 'title': '一起來萌萌噠丟泡泡吧！', 'time': '2016/05/11 14:13', 'summary': '以前還沒有那麼多智慧型手機時，朋友都會互相借手機來玩遊戲，其中最容易上手又有挑戰力的莫過於丟泡泡的遊戲了，尤其是《泡泡龍》，可愛的小龍努力消除泡泡闖關，非常有趣！現在各業者也紛紛推出泡泡遊戲，讓人隨手就能消磨時光、打發時間。（楊婷凱／綜合報導）\\xa0你也喜歡玩丟泡泡嗎？請上手寫時代社團分享更多有趣報導，請上吃喝玩樂蘋果花粉絲團\\xa0\\n大家應該都玩過《泡泡龍》，是百玩不膩的遊戲。翻攝自http://acg.gamer.com.tw/acgDetail.php?s=73928迪士尼的《腦筋急轉彎：泡泡樂》是《腦筋急轉彎》卡通的同名遊戲，加上可愛人物很吸引小朋友目光。翻攝自http://acg.gamer.com.tw/acgDetail.php?s=78586', 'view_cnt': 358}, {'link': 'http://www.appledaily.com.tw//realtimenews/article/local/20160511/858595/曾柏瑜影射羅明才是黑道\\u3000檢察官認定非憑空杜撰', 'category': '社會', 'title': '曾柏瑜影射羅明才是黑道\\u3000檢察官認定非憑空...', 'time': '2016/05/11 14:13', 'summary': '曾代表綠社盟參選立委的曾柏瑜，在去年登記參選期間，影射同選區的國民黨籍立委候選人羅明才是黑道，被控違反《選罷法》竟圖使人不當選，但台北地檢署認為之前已有媒體報導羅明才的父親羅福助是黑道，而曾女以家世背景質疑對手，並非憑空杜撰，且抛出該議題讓選民選擇，也無使人不當選犯意，今將曾女不起訴。\\xa0曾柏瑜原為「黑色島國青年陣線」行政組長，在太陽花學運期間，多次代表學運上政論節目發言，事後她加入綠黨，擔任青年部召集人，去年底代表綠社盟登記參選立委，昨天鄭捷執行槍決，曾在臉書粉絲專頁發文批評，一個政府為了討好人民而貿然奪走一個人的性命，「我永遠不能明白，也無法諒解」，引發議論。\\xa0去年11月23日，曾柏瑜前往新北市選委會登記角逐新北市第11選區立委，同選區的包括長期經營的國民黨籍立委羅明才，曾女當天登記後召開記者會表示：「自從參選以來，我們對上的是對這邊長期經營，己經當了16年立委的羅明才、羅福助的兒子。」\\xa0曾柏瑜話峰一轉說道：「自從我競選以來，不停的有支持者跑來告訴我，要提醒我吳善九的命案、提醒我關狗籠事件，這些事情，就是不停有人跑來告訴我，要我們小心一點，小心人身安全、要不要裝監視器、要不要請保鑣。」\\xa0曾女說，「問我們說怕不怕，老實說我們很怕，可是我們更害怕台灣沒有未來，我們更害怕我們沒有更好的政治，因此雖然我們很害怕，我們還是決定要勇於冒險，要站出來、迎戰黑道勢力、迎戰這個黑色的勢力，我們不相信新店只能選出黑道。」\\xa0羅明才認為曾柏瑜的發言在引射他是黑道，認為名譽受辱，提出告訴。但曾女開庭時，否認有說羅明才是黑道，當時的說法，只是想要表達不畏懼惡勢力，為了台灣的前途，會勇敢的站出來。\\xa0但檢察官聽了當天曾柏瑜的現場言論，從前後文來研判曾女的說法是在指羅福助為黑道份子，而羅明才又是羅的兒子，的確會讓人覺得是在影射羅明才有黑幫的背景，不過，檢察官認為，羅福助是黑道，之前媒體就已大篇幅報導過，曾女以其家世背景提出質疑，並抛出這個議題讓選民選擇，並無意圖使人不當選的犯意，因此將她不起訴。（呂志明／台北報導）\\xa0【更多新聞，請看《蘋果陪審團》粉絲團】\\n曾柏瑜質疑羅明才（圖）是黑道，檢察官認定並非憑空杜撰。資料照片', 'view_cnt': 3119}, {'link': 'http://www.appledaily.com.tw//realtimenews/article/life/20160511/858628/【央廣RTI】巡迴全球推廣臺灣美食僑胞熱情讓人感動', 'category': '生活', 'title': '【央廣RTI】巡迴全球推廣臺灣美食 僑胞...', 'time': '2016/05/11 14:13', 'summary': '本內容由中央廣播電臺提供\\xa0\\xa0 僑委會每年都會遴選臺灣名廚遠赴世界各地舉辦臺灣美食廚藝巡迴講座，今年擔任「加拿大地區臺灣美食廚藝巡迴講座」講師的醒吾科技大學餐旅管理系副教授兼系主任黃寶元，他多次排除萬難參與為期不短的巡迴講座，也曾經一落地就丟掉行李，但支持他不斷參與下去的最大動力就是全球僑胞的熱情。\\xa0\\xa0\\xa0 僑務委員會為協助僑營餐館提升專業力及配合推動臺灣美食國際化、行銷臺灣美食品牌形象，每年都會遠赴世界各地辦理「臺灣美食廚藝巡迴講座」，「2016 年加拿大地區臺灣美食廚藝巡迴講座」於 5 月 1 日至 5 月 23 日在加拿大多倫多、渥太華、卡加利、溫哥華以及溫哥華島等地舉行，今年邀請黃寶元主任擔任講師。黃寶元曾經參與過中南美洲、美西地區以及印尼地區的臺灣美食廚藝巡迴講座，在2011年遠赴中南美洲時，下機的第一天行李就不見了，精心準備從臺灣帶去的材料也全部化為烏有，談到當時如何度過難關，從事餐飲行業多年，經驗相當豐富的他說，只要給他一把菜刀、一套廚師服就可以。\\xa0\\xa0\\xa0 本身工作也相當忙碌的黃寶元，為了參與為期幾乎長達一個月的巡迴講座，常常義無反顧放下手頭的工作，只為了服務海外殷切期盼家鄉味的僑胞們。他說，僑胞的熱情是他持續下去的力量，他也希望把臺灣美食的溫度，帶到每一位僑胞家中的廚房，成為維繫家族感情的力量。\\xa0\\xa0\\xa0 而這一次「加拿大地區臺灣美食廚藝巡迴講座」，黃寶元準備了將近40道菜單，除了僑胞最想念的牛肉麵、滷肉飯等臺灣美食之外，還有金瓜米粉以及臺灣古早味甜點雪花膏。此外，他還將運用加拿大著名的食材─象拔蚌，製作出有臺灣味的美食。\\xa0詳細專訪內容收聽', 'view_cnt': 121}, {'link': 'http://www.appledaily.com.tw//realtimenews/article/finance/20160511/858629/優預期\\u3000華碩首季每股賺5.6元', 'category': '財經', 'title': '優預期\\u3000華碩首季每股賺5.6元', 'time': '2016/05/11 14:13', 'summary': '華碩首季財報出爐，首季營收1100.5億元，季減11%，單季毛利率13.1%比去年同期跟第4季略降，本業賺46.97億元，季減16%，稅後純益41.61億元，季減8%，每股純益5.6元，略高於法人預期的5.3元。華碩業外匯兌收益達7900萬元。但業績比去年成長。\\xa0華碩首季手機營收佔比17%，電腦營收66%，零組件14%，物聯網裝置約貢獻3%。\\xa0展望第2季，華碩估營收在950~1000億元之間，營收季減9~14%。其中電腦營收季減10~15%，但仍維持正年成長，手機等行動裝置業務營收季增5%內，低於去年同期，零組件業務如主機板，營收季減5~10%，也維持正年成長。（王郁倫／台北報導）', 'view_cnt': 642}, {'link': 'http://www.appledaily.com.tw//realtimenews/article/local/20160511/858606/【有片】騎士撞公車彈飛\\u3000時間凝結5秒鐘', 'category': '社會', 'title': '【有片】騎士撞公車彈飛\\u3000時間凝結5秒鐘', 'time': '2016/05/11 14:11', 'summary': '台中市南區國光路、南門路口中興大學側門今天上午8點左右發生一起車禍，一輛台中客運公車行駛到路口左轉時，一輛由許姓男子（21歲）駕駛機車突然高速衝撞公車車頭，碰的一聲，騎士彈飛數公尺倒地後動也不動，一旁的路人和騎士全都嚇呆，約五秒鐘，沒人敢上前查看，現場氣氛凝結，還好許男隨即動了一下，並掙扎想站起來，這時公車司機也下車，將許多扶起，沒想到許男又腳軟癱坐下來，整個過程都被停等紅燈的汽車行車記錄器拍下，向《蘋果》爆料，目擊民眾說：「當場頭破血流，實在很可怕，應該傷得很重吧！」\\xa0台中市警局三分局交通分隊長黃昱維表示，很幸運地，許姓機車騎士只有全身多處挫傷，沒有生命危險，據王姓公車司機（48歲）表示，他在路口等左轉綠燈亮起後才剛起步，機車就衝過來，根本來不及反應。許姓機車騎士聲稱他是黃燈通過路口，沒有闖紅燈。\\xa0黃昱維說，雙方都聲稱沒有闖紅燈，將調閱公車行車紀錄器及路口監視器進一步查證，釐清肇責。（蔡智銘／台中報導）\\n公車左轉，機車直行而來。翻攝畫面機車撞上公車車頭。翻攝畫機車騎士彈飛數公尺。翻攝畫面騎士倒在地上一動也不動。翻攝畫面', 'view_cnt': 4775}, {'link': 'http://www.appledaily.com.tw//realtimenews/article/sports/20160511/858626/喬丹為何哭？\\u3000哭到網友都認不得', 'category': '體育', 'title': '喬丹為何哭？\\u3000哭到網友都認不得', 'time': '2016/05/11 14:11', 'summary': 'Reddit user asks \"who is that crying black dude?\" https://t.co/vlYHLoOWq1 pic.twitter.com/Pw21T9AkCc— Complex (@ComplexMag) May 10, 2016「籃球之神」喬丹(Michael Jordan)在籃球界的地位可說是無人不知，無人不曉。但今天在美國論壇Reddit上就有名瑞典網友貼上「喬丹哭哭圖」天真問說：「這黑人老兄是誰啊？為什麼每次有球隊在季後賽被淘汰我就看到這張圖？」引起眾多網友熱議。但他隨即就將發文刪掉，並表示：「我當然認識喬丹，但從來沒認出他來(指照片)。」\\xa0這張圖是喬丹在2009年喬丹入選名人堂時激動落淚時所拍攝的畫面，後來被網友惡搞因此成為網路上永久流傳的經典惡搞圖。也許正是平時喬丹打球的樣子，跟淚流滿面的他樣子真的差很多所以這名網友才認不出來。（丁曉祥／綜合報導）', 'view_cnt': 5893}, {'link': 'http://www.appledaily.com.tw//realtimenews/article/politics/20160511/858585/【民報】槍斃鄭捷好貼心？羅瑩雪：不讓邱太三為難', 'category': '政治', 'title': '【民報】槍斃鄭捷好貼心？羅瑩雪：不讓邱太...', 'time': '2016/05/11 14:10', 'summary': '本內容由民報提供\\xa0(摘錄 全文請連結民報)政治中心／綜合報導\\xa0台北捷運殺人案造成4死22傷，兇手鄭捷昨天晚間執行槍決。法務部長羅瑩雪今（11）日表示，批准執行死刑，是因為鄭捷在眾目睽睽之下施暴，對社會治安產生很大不良影響，「鄭捷這個死刑是他為自己判的」，她還認為即將接任的邱太三執行死刑「會不會有些為難」。\\xa0媒體詢問，有人批評她搶功，把「鄭捷這一筆」記在自己任內，而非即將接任的邱太三。羅瑩雪否認指出，事實上她未曾跟邱太三討論過死刑，過去印象民進黨有些立委支持廢死，「我反而覺得邱太三對執行死刑會不會有些為難」。邱太三昨晚也對媒體表示，自己事前並不知道鄭捷槍決一事。\\xa0羅瑩雪上午出席行政院會議前受訪說，鄭捷是......(摘錄 全文請連結民報)', 'view_cnt': 1689}, {'link': 'http://www.appledaily.com.tw//realtimenews/article/life/20160511/857815/【有片】吃了這個\\u3000大姨媽來不停', 'category': '生活', 'title': '【有片】吃了這個\\u3000大姨媽來不停', 'time': '2016/05/11 14:06', 'summary': '(更新：增加影片)\\xa0頻繁使用緊急避孕藥易打亂經期，導致不規則出血，馬偕紀念醫院婦產科主治醫師翁嘉穗表示，日前收治1位年輕女性，性行為時不避孕，1個月內吃了3次事後藥，結果導致整個月陰道不規則出血，大幅增加血管栓塞風險，尤其若家族女性有血栓病史者，更忌使用。\\xa0翁嘉穗醫師提到，事後藥所含的黃體素劑量高於一般避孕藥的8倍，高濃度的黃體素進入人體後，會影響荷爾蒙與雌激素分泌，打亂原本的月經周期，建議避孕仍應使用一般避孕藥、保險套，或是可自費約6000元裝設子宮內投藥系統，較傳統避孕器更少感染風險。（黃子倫／台北報導）\\xa0出版時間：10:32更新時間：14:06\\xa0\\xa0\\n事後藥易導致經血失調，頻繁出血。設計畫面／資料照片', 'view_cnt': 6326}, {'link': 'http://www.appledaily.com.tw//realtimenews/article/entertainment/20160511/858025/女團成員被P出2隻右腳\\u3000網友酸「很難買鞋」', 'category': '娛樂', 'title': '女團成員被P出2隻右腳\\u3000網友酸「很難買鞋...', 'time': '2016/05/11 14:06', 'summary': '美國流行女團「五佳人」（Fifth Harmony）4年前在選秀節目《X Factor》成軍出道，以流行舞曲走紅的她們日前推出單曲《Work from Home》，副歌旋律洗腦，MV已有近1億人次點閱，她們登上最新一期《告示牌》雜誌封面，拍攝一系列沙龍美照，卻被網友抓包修圖修很大，成員艾莉布魯克竟然被修出2隻右腳，網友笑稱：「一定很難買鞋。」\\xa0「五佳人」2012年參加選秀比賽被評審賽門克威爾相中簽約，她們日前為《告示牌》雜誌拍攝沙龍照，其中一張照片卻把艾莉的雙腿修圖修成2隻右腳，但該照並未刊出。艾莉在個人IG貼出修圖特寫照自嘲：「當你有2隻右腳還想裝可愛。」粉絲也開玩笑說「她真的沒有2隻右腳嗎」？「一定很難買鞋」。（謝宛儒／綜合報導）', 'view_cnt': 8982}, {'link': 'http://www.appledaily.com.tw//realtimenews/article/fashion/20160511/858476/VALENTINO鉚釘風衣\\u3000追求中性不完美', 'category': '時尚', 'title': 'VALENTINO鉚釘風衣\\u3000追求中性不完...', 'time': '2016/05/11 14:06', 'summary': '「仙女牌」VALENTINO近期與藝術家Vanessa Beecroft攜手合作，創作嶄新的Rockstud Untitled膠囊系列。將於2016秋季上市的新作概念來自日本「侘寂」美學，以手工裝飾大量鉚釘，追求不完美的美，並以風衣、圓領毛衣、白襯衫等經典輪廓落實中性美學風潮。Rockstud Untitled系列每件精品各有編號，由1至12順序排列，編號標籤繫於包裝服裝的軟帆布袋上。\\xa0前陣子在紐約藝術學院舉行的「VB_Valentino_Untitled 01」藝術表演，由25位男女詮釋Rockstud Untitled膠囊系列的中性思想，當中包括演員艾美莉莫添瑪和夫婿艾歷山度利奧拿、名模Nicolas Malleville及其他在街頭選角的性格人物。\\xa0VALENTINO創作總監Maria Grazia Chiuri與Pierpaolo Piccioli表示：「我們希望創作一組獨一無二的中性服飾，所以構思了Rockstud Untitled系列。我們認為標記可以賦予物件和人物特質，用金色鉚釘作裝飾，令每件服飾也有即時可辨認的設計特點。很高興請來Vanessa實現我們的意念，她的演繹來得很自然，沒有誰比她更了解我們的心意。她的手法時尚而具感染力，巧妙地把美感、現實、完美、獨特和多元概念融入藝術。在她的藝術表演裡，不同人物穿上「制服」分享一個獨特時刻，一切只為了表達個人對美的信念。我們希望穿着這系列精品的顧客也可以感受這美妙的一刻。」（薛佳甯／台北報導）\\xa0\\xa0\\nVALENTINO近期與藝術家Vanessa Beecroft合作推出Rockstud Untitled膠囊系列。品牌提供VALENTINO近期與藝術家Vanessa Beecroft合作推出Rockstud Untitled膠囊系列。品牌提供VALENTINO近期與藝術家Vanessa Beecroft合作推出Rockstud Untitled膠囊系列。品牌提供VALENTINO近期與藝術家Vanessa Beecroft合作推出Rockstud Untitled膠囊系列。品牌提供VALENTINO近期與藝術家Vanessa Beecroft合作推出Rockstud Untitled膠囊系列。品牌提供VALENTINO近期與藝術家Vanessa Beecroft合作推出Rockstud Untitled膠囊系列。品牌提供VALENTINO近期與藝術家Vanessa Beecroft合作推出Rockstud Untitled膠囊系列。品牌提供前陣子在紐約藝術學院舉行的「VB_Valentino_Untitled 01」藝術表演，由25位男女詮釋Rockstud Untitled膠囊系列的中性思想。品牌提供', 'view_cnt': 576}, {'link': 'http://www.appledaily.com.tw//realtimenews/article/local/20160511/858610/「我與我的鄭捷學長」\\u3000再掀網友熱議', 'category': '社會', 'title': '「我與我的鄭捷學長」\\u3000再掀網友熱議', 'time': '2016/05/11 14:02', 'summary': '北捷殺人案兇手鄭捷昨晚遭伏法，讓去年《蘋果》一篇文章「我與我的鄭捷學長」再度被網友討論。這篇文章是由一位名叫「鄭捷」的成大法律系大學生所投稿，文中透露他小學時與北捷殺人犯鄭捷同校，也因為同名名姓引起許多意外。\\xa0成大生「鄭捷」說「北捷事件發生，許多老師才知道在那時的校園裡有兩個鄭捷。」、「當我與鄭捷學長同在一個校園時，他透過廣播或許認識了我，但包括我的多數人卻完全無意識他的存在。」\\xa0成大「鄭捷」也說「當一個鄭捷站在台上接受掌聲時，有一個因此而懷疑自己、失落內傷的鄭捷站在台下，那是一個教育環節最殘忍的時刻」。\\xa0對於這篇投稿，則有一位名叫「西風」的網友投稿「呼應〈我與我的鄭捷學長〉」，「西風」認為在資源與榮耀的大水庫理論中，你消我長是不可避免之惡，直言「現今的教育現象就像是披著羊皮的狼，表面上適性揚才、發展多元智能、教學正常化，實際上智育至上的升學主義與過去相比有過之而無不及」。(葉國吏/綜合報導)\\n網友投稿「呼應《我與我的鄭捷學長》」。翻攝《蘋果》', 'view_cnt': 33706}, {'link': 'http://www.appledaily.com.tw//realtimenews/article/international/20160511/858238/【有片】克卜勒望遠鏡\\u3000新發現1284個系外行星', 'category': '國際', 'title': '【有片】克卜勒望遠鏡\\u3000新發現1284個系...', 'time': '2016/05/11 14:00', 'summary': '（新增配音影片）\\xa0美國太空總署（NASA）10日宣布，克卜勒望遠鏡（Kepler）又發現1284個系外行星，當中9個可能為宜居行星，且可能有液態水，這是克卜勒望遠鏡發現截至目前最大一群聚集在一起的行星，其中近550個行星，大小類似地球佈滿岩石。\\xa0加上此次發現，克卜勒發現的系外行星數目增至2325個，所有已知的系外行星數達3264個。\\xa0耗資6億美元的克卜勒任務於2009年3月展開，是NASA在適居帶或接近適居帶尋找繞行遠方恆星的近地行星的首個任務。（國際中心／綜合外電報導）\\xa0發稿時間：03:39更新時間：14:00\\n照片來源：NASA', 'view_cnt': 22616}, {'link': 'http://www.appledaily.com.tw//realtimenews/article/international/20160511/858339/【更新】慟！前公辯律師護民30載\\u3000疑遭親侄兒手刃', 'category': '國際', 'title': '【更新】慟！前公辯律師護民30載\\u3000疑遭親...', 'time': '2016/05/11 13:56', 'summary': \"（更新：新增動新聞）\\xa0悲！一位主打青年罪行官司，畢生為人辯護無數的前公辯律師，上週五疑似被親侄兒殺害。舊金山前首席檢察官薩莫拉（Marla Zamora）上周五遇刺身亡。警方剛公布疑犯資料，指嫌犯是死者的親姪兒，他今被正式控以謀殺罪。\\xa0警方周一公布案中被告是20歲青年，舊金山居民安吉洛（ Angelo Zamora）。他於案發後被捕，原訂周二於高等法院出庭作認罪應訊，但因仍留醫，而延後一天，法官托普高（Edward Torpoco）將他的保釋金訂在1千萬美元（約3億2千萬台幣），他目前在舊金山總醫院羈留候審。\\xa0據悉，他患有精神病，犯案動機未明，但被指於凶案發生前，在屋內與姑姑薩莫拉發生爭執。\\xa0數名死者親友這天現身高等法院，神情哀戚。他們的發言人，公辯律師賀大器（Jeff Adachi）於庭外透露，死者親友原希望尋求舊金山公共辯護辦公室（San Francisco Public Defender's Office）的律師代表辯護，但鑑於那是死者生前工作處，她與裡面的職員熟稔，基於利益衡突遭否決，因此改由加州馬林郡（Marin County）派出辯護律師，「相信薩莫拉也會明白這個決定較為公正」。賀大器又說：「對所有認識她的人來說，這是個非常艱難的時期，我們很想念她，她是個了不起的人物！」\\xa0上周五早上約11時，警方接報稱Arkansas街一個公寓單位發生兇殺案，到案時薩莫拉已沒生命跡象，被刺後倒斃在家中，當場證實死亡，終年65歲。薩莫拉住所外仍擺滿民眾所獻的鮮花，附以悼念語句。\\xa0薩莫拉畢業於加州大學哈斯汀法學院（Hastings College of the Law），於公辯辦服務超過30年，離職前為首席檢察官，被法律界同僚形容為是位「大無畏精神的倡導者」。她任內助人無數，挺身而出的案件中，包括轟動全美的羅慕斯（Edwin Ramos）殺人案。羅慕斯本為非法移民黑道中人，薩莫拉當年代表他辯護，飽受爭議。她退休後時有接手私人案件，不時提攜後輩。據了解，她對青年罪犯的案件格外關心，對姪子安吉洛一直非常關懷。\\xa0警方呼籲，任何有案件進一步消息者，盡快透過匿名熱線 (415) 575-4444向當局提供。\\xa0出版：09：44更新：13：40\\xa0\\xa0\\n舊金山退休公辯律師薩莫拉（Marla Zamora）遭殺害，疑兇是她的姪兒。翻攝網絡警方正式起訴死者薩莫拉的20歲姪兒安吉洛（ Angelo Zamora）。警方提供圖片死者薩莫拉（Marla Zamora）（左一）服務公共辯護辦公室逾30年，主打青年罪行官司。翻攝舊金山紀事報凶案現場死者住所外，周二仍放滿民眾所獻的鮮花，悼念為民服務多年的公辯律師。唐芷瑩攝公辯律師賀大器（Jeff Adachi）表示，由於死者有身份衝突，公辯辦無法派員為前同僚辯護。唐芷瑩攝\", 'view_cnt': 4834}, {'link': 'http://www.appledaily.com.tw//realtimenews/article/entertainment/20160511/858583/【有片】楊麗花夫爆出私生子\\u3000愛徒陳亞蘭說...', 'category': '娛樂', 'title': '【有片】楊麗花夫爆出私生子\\u3000愛徒陳亞蘭說...', 'time': '2016/05/11 13:55', 'summary': '71歲的「歌仔戲國寶」楊麗花3月才烏龍傳出跟醫師老公洪文棟，為了家產問題鬧離婚「分居中」，今又被《壹週刊》爆出老公有個55歲的私生子徐國璋，將從美國跨海提訴訟，要求認祖歸宗改姓洪。楊麗花的徒弟亞蘭今受訪無奈表示「這些問題，問我們晚輩也沒有辦法回答」。\\xa0陳亞蘭今錄《華視天王豬哥秀》前受訪，提到師父「家事」」又鬧紛爭，表示自己今天一早就出門，還來不及問楊麗花這件事情。自己平常會去陪師父小住，楊麗花的心情一直都挺好的，但師徒倆平常也不大會聊私事，都在討論舞台造型或是表演。陳亞蘭最後大嘆「清官難斷家務事，我這個嘉慶君（節目角色）也難處理」。（葉文正、毛敬智/台北報導）\\xa0\\xa0\\n陳亞蘭今錄《華視天王豬哥秀》前受訪無奈表示「這些問題，問我們晚輩也沒有辦法回答」。陳賜哿攝陳亞蘭（右)和師父楊麗花情同母女。資料照片', 'view_cnt': 15460}, {'link': 'http://www.appledaily.com.tw//realtimenews/article/life/20160511/858615/旅行社線上旅展激殺夏威夷6天2萬9900元起', 'category': '生活', 'title': '旅行社線上旅展激殺 夏威夷6天2萬990...', 'time': '2016/05/11 13:55', 'summary': '台北夏季旅展雖為期3天，不過許多旅行社線上旅展已開跑，提早炒熱買氣。其中鳳凰旅行社夏威夷6日遊團體自由行2萬9990元起、洛杉磯環球影城哈利波特7日遊3萬3990元起、及西班牙11日6萬9900元起；雄獅旅遊則是從即日起至5/31推出線上「每日秒殺行程」，香港自由行3日4699元起及國內行程忘憂森林1900元起，且2人同行1人免費。\\xa0旅展現場則有五福旅行社促銷澳門3日4888元(只含1晚酒店)起，東京迪士尼5日遊3萬5800元起，兒童享半價、第2人減4000元；易飛網沖繩4日自由行9990元起、東京5日9900元起；華泰旅遊韓國首爾5日遊9888元起、喜鴻旅行社沖繩自由行4日8999元起。\\xa0另外，長程線有迎家旅行社杜拜阿布達比7日2萬9900元起、友泰旅行社土耳其+烏魯木齊10天原價4萬6900元起，旅展特價2萬9900元起，埃及尼羅河遊輪紅海10天原價5萬4900元起，特價4萬7900元起，以上價格均已含稅金。(陳姿吟／台北報導)\\xa0洽詢電話復興航空(02) 412-8133鳳凰旅行社(02)2537-8111雄獅旅遊(02)8793-9669五福旅遊(02)2547-1155華泰旅遊(02)2509-4888喜鴻旅行社(02) 412-8618迎家旅行社(02)6600-1688友泰旅行社(02)7701-6866易飛網(02)7725-0900\\xa0更多資訊請看吃喝玩樂蘋果花粉絲團\\xa0想知道更多親子遊去處，請參加蘋果花客製親子遊社團\\xa0\\n【想知道更多，一定要看……】台北夏季旅展5/20登場 將狂送百張機票針對暑假檔期親子團優惠，東京迪士尼5日遊享兒童半價、第2人減4000元。', 'view_cnt': 1618}, {'link': 'http://www.appledaily.com.tw//realtimenews/article/life/20160511/858613/【獨家有片】國宴一桌2萬元\\u3000比婚宴還便宜', 'category': '生活', 'title': '【獨家有片】國宴一桌2萬元\\u3000比婚宴還便宜', 'time': '2016/05/11 13:54', 'summary': '2016總統就職520國宴倒數計時，繼小英啤酒全民瘋搶，禮賓員服裝發表及國宴菜色陸續曝光，菜色有人說好，但也有人批評是了無新意，總統國宴主廚、高鋼輝接受蘋果獨家專訪時表示，國宴賓客菜色每人預算2000元，還要符合在地、得時，並要融合族群及文化精神，這場國宴很難做。\\xa0但舉辦國宴是飯店殊榮，今年主辦總統國宴的台北萬豪酒店表示咬牙也要完成這個重要任務，並在今天下午正式公布國宴菜色。現任萬豪中餐廳主廚，目前還兼任台北西華飯店中餐主廚的高鋼輝也將以國宴主廚身分現場示範國宴料理。曾為美國前總統老布希、英國前首相柴契爾夫人、導演李安上菜的高鋼輝表示，今年國宴除了要使用各縣市食材，還要融合原住民、客家文化，從選擇食材、製做到擺盤，都很不容易。\\xa0目前在台北市的五星飯店的一桌宴會桌席平均3萬元左右，像是台北君悅酒店三樓宴會廳一桌28000元到29000元起，可以吃到大明蝦或小龍蝦、肋眼牛排等10道菜色；台北晶華酒店宴會廳一桌約3萬元，若想指定一人2000元的宴會餐點，龍蝦和鮑魚可以二擇一，但是龍蝦只吃得到半隻。4年前圓山飯店為總統馬英九舉辦第13屆就職國宴料理，一人8道菜成本1600元，即使把預算壓到最低，但仍遭民眾批評：「時機歹歹，國宴上大吃龍蝦太瞎。」\\xa0國宴要辦得得體，又要顧及全民觀感，拿捏大不易。高鋼輝說：「今年國宴菜色共有9道菜，像是頭盤福爾摩沙之春就很有難度，像是其中的海鮮凍，要融合各地食材，像是拉拉山水蜜桃及神農獎的雞等都入菜，菜色變化多，在排盤和搭配上都是大挑戰。」(林嘉琪/台北報導)\\n2016國宴共有9道菜，一套國宴菜色預算2000元，每桌2萬元。國宴前菜小盤為雲林刺蔥帝豆 / 梅汁大甲芋頭 / 醋漬木耳蓮藕。台北萬豪酒店提供國宴菜色之一蔥蒜蒸龍蝦，選用澎湖海域的龍蝦。台北萬豪酒店提供顧及國賓禮賓可能不吃牛，主菜之一是來自雲林的爐烤快樂豬。台北萬豪酒店提供國宴米食要吃客家炒粄條。台北萬豪酒店提供國宴湯品是一道刀工細緻的錦繡菊花雞湯。台北萬豪酒店提供國宴菜色的另一道海鮮料理是樹子蒸龍膽。台北萬豪酒店提供第一道迎賓盤是高鋼輝認為難度最高的福爾摩沙之春，用了海鮮凍、拉拉山水蜜桃及神農獎的雞等材料入菜。台北萬豪酒店提供現任萬豪中餐廳主廚還兼任台北西華飯店中餐主廚的高鋼輝，是台灣首位女總統蔡英文總統就職國宴主廚。資料相片台灣第一位女總統蔡英文的520總統就職國宴全民矚目。資料相片民進黨主席、總統當選人蔡英文520總統就職國宴確定於萬豪酒店登場，預計有1200位賓客出席。台北萬豪酒店提供', 'view_cnt': 20962}, {'link': 'http://www.appledaily.com.tw//realtimenews/article/international/20160511/858617/描述如何烹煮人肉\\u3000港血腥小說沒封套惹議', 'category': '國際', 'title': '描述如何烹煮人肉\\u3000港血腥小說沒封套惹議', 'time': '2016/05/11 13:52', 'summary': '香港年輕網絡作家「恐懼鳥」所創作的「黑暗網絡」題材讀物《DEEP WEB FILE#網絡奇談》(《DEEP WEB》)，最近引爆香港家長恐慌。《DEEP WEB》內容充滿難以想像的神秘活動，人口販賣、血腥儀式、邪教結社，甚至有烹煮女孩步驟的描述，吸引到不少心智仍未成熟的學生成為書迷，銷量非常火爆，更成為本港連鎖書店的十大暢銷書籍，情況已引起教師及家長憂慮，擔心學生有樣學樣。\\xa0《DEEP WEB》是「恐懼鳥」首本作品，他最近已推出新作《Deep Web File 2.0人性奇談》，並在臉書粉絲專頁介紹新作：「除了一如以往有大量鮮血橫飛的情節（例如病態戀童癖者教授如何烹煮小孩）外，今次更加著墨描繪Deep Web裡頭不同角色的人的心理，窺探他們的內心掙扎，以及詳細分析Deep Web犯罪網絡怎樣運作」，聲稱讓讀者思索環繞生活四周圍的「黑暗」。\\xa0不過，由於作品吸引到大批青少年讀者，情況已引起家長及教師關注，不少家長已在WhatsApp群組及網上討論區聲討書籍教壞小孩，指該書「內容是將網上世界既暴力，色情，殺人，變態等等兒童不宜內容，將之譯作中文及文字化」，最擔心是該書沒有封套，在各大型書局都能輕易買到，更是誠品Top 10，但卻沒有警告字句及任何封條去讓人識別內容存在暴力成份。有教師更在群組指，曾見學生在校園閱讀該書，被同事沒收，呼籲老師們留意。\\xa0香港《蘋果》記者今早到銅鑼灣誠品了解，發現原先放在暢銷書籍排行榜第一及第四位的「恐懼鳥」作品，已被員工拿走，當值職員指該書並非下架，但如要購買，讀者必需出示身份證，證明年滿18歲。\\xa0作者「恐懼鳥」在臉書粉絲專頁表示得知此事，聲稱已第一時間和出版社商量問題，又指早已在封面多加警告和描述本書內容絕對會令人不安，不少書店早已把書本包膠，「但明顯地，我們的措施還未足夠，所以我們很樂意接受各家長和學校的意見，正積極商量對策，並保證會加強書本上的警告字句，讓人一眼便知曉書本內容的恐怖性，對於還未包膠的書店，出版社也會和他們協商，儘力避免同類型的事件發生。」\\xa0「恐懼鳥」在出版《DEEP WEB》後曾接受訪問，被問到書本內容令人驚訝，他答道：「當你知道全球每天有多少謀殺、強姦案件，有多少失蹤人口，你便不會再對deep web的內容感到驚訝。」（大陸中心／綜合報導）\\n翻攝網路', 'view_cnt': 663}, {'link': 'http://www.appledaily.com.tw//realtimenews/article/local/20160511/858535/GMP藥廠幹黑心事\\u3000即期藥改標再賣', 'category': '社會', 'title': 'GMP藥廠幹黑心事\\u3000即期藥改標再賣', 'time': '2016/05/11 13:48', 'summary': '（新增：照片）\\xa0彰化縣彰化市的GMP藥廠的大豐製藥股份有限公司，涉嫌在藥廠外搭建一鐵皮倉庫，從事暗帳、改換藥品包裝等不法，彰化地檢署昨前往搜索，當場查獲2名員工正在拆除某品牌藥物抗黴菌液外包裝，以便改換包裝盒批號，達到延長效期的目的，檢方並扣得其涉嫌逃漏稅的進銷項、內帳、公司內部簽呈、電腦檔案等資料，已交由國稅局核算逃漏稅金額。\\xa0因 鐵皮屋內藥品品項及數量龐大，檢方先封存，待食品藥物管理署派員協助清點查核。檢方拘提葉姓廠長、陳姓副理、游姓包裝組長及傳喚吳姓會計與現場2名員工到案，對犯行大致坦承，訊後檢方認為涉嫌違反《藥事法》、《刑法》偽造文書等罪嫌，諭知葉、陳、游3被告各以100萬元、20萬元、5萬元交保，其餘請回。《蘋果》記者前往該藥廠，員工否認有改標情事。而該藥廠去年4月間因其由厚生製藥委託生產的「厚生胃散」，使用允成化工無藥證原料碳酸鈣作主成分，食藥署已要求廠商下架，也被依藥事法處罰3萬元。\\xa0（鄧惠珍、詹智淵／彰化報導）\\xa0發稿時間：21:46修改時間：13:48\\xa0\\n【想知道更多，一定要看……】即期藥改標再賣\\u3000醫師：恐讓病情更嚴重藥廠涉嫌將有效期限2018年舊包裝改換2020年新包裝。翻攝畫面。藥廠涉嫌改換藥品包裝遭檢警搜索。詹智淵攝。', 'view_cnt': 11749}, {'link': 'http://www.appledaily.com.tw//realtimenews/article/local/20160511/858596/過肩摔還沒用\\u300032歲就被60歲KO', 'category': '社會', 'title': '過肩摔還沒用\\u300032歲就被60歲KO', 'time': '2016/05/11 13:46', 'summary': '高雄市一名無業張姓男子昨日上午11時40分許，騎車行經一處檳榔攤，由於張男先前曾向檳榔攤女老闆的黃姓哥哥借3000元未還，見黃男坐在店內又開口借錢，黃男出示皮夾，指生病剛出院繳了2萬多元，沒錢可借，未料，張男瞧見黃皮夾內有千元大鈔，搶了2千元後，棄車拔腿往巷弄逃逸，一旁的大樓周姓管理員聽到黃男喊「搶錢呀！」隨即騎車載被害人追搶嫌，在300公尺處發現搶嫌，追到搶嫌後，嗆再跑我就搓死你，雖搶嫌聲稱是黃男要借錢給他，周男未聽信其說詞，將他扭送法辦！\\xa0警方指出，張姓搶嫌（32歲，有竊盜、毒品前科），先前在檳榔攤旁的卡拉OK上班，認識黃姓被害人，但張上班一個多月後即離職，失業後，曾向黃借3000元未還，昨早11時40分許，張嫌騎車經過瑞隆路檳榔攤前，見黃男坐在檳榔攤，上前開口借錢。\\xa0黃因前一天大病初癒剛出院，打開皮夾對張說；「我才繳2萬多元住院費，沒甚麼錢借你」，張見皮夾內有千元大鈔，趁黃不注意，伸手搶了2000元，棄車逃離現場。\\xa0黃男大喊搶錢，一旁的大樓周姓管理員聞聲，見義勇為，問黃男「哪一個搶你的錢」，黃用手指：「前面在跑的那個」，周男隨即騎車勇追張嫌，追了300公尺，見張嫌徒步快跑，近身貼近張嫌，由於張嫌身材不到170公分、體型瘦弱，周男下車擋住張去路，質問：「為何搶別人的錢？」張辯稱；是黃男借他的，周未聽信黃男說詞，請一旁計程車司機報警，將張嫌扭送法辦。\\xa060多歲的周姓管理員學化學工程出身，原本承包工程，因沒生意可做，去年加入保全行業，剛當大樓管理員4個月，周男謙虛地表示，「這沒甚麼，因為聽到檳榔攤的黃男喊搶錢的聲音，研判搶嫌跑不遠，當下立即騎車追人，並指若搶嫌反抗，或有攜帶凶器，就會將他過肩摔，警方偵訊後依《搶奪罪》將張嫌送辦。（石秀華／高雄報導）\\xa0\\n張嫌辯稱是向被害人借錢，但卻搶了錢卻棄機車拔腿逃逸，被警方依搶奪罪送辦。翻攝周姓管理員見義勇為，敘說逮搶匪經過。石秀華攝發生搶案的瑞隆東路口。石秀華攝', 'view_cnt': 8783}, {'link': 'http://www.appledaily.com.tw//realtimenews/article/life/20160511/858607/對流發展旺盛\\u3000雲林至高雄防大雨與雷擊', 'category': '生活', 'title': '對流發展旺盛\\u3000雲林至高雄防大雨與雷擊', 'time': '2016/05/11 13:45', 'summary': '由於對流雲系發展旺盛，中央氣象局剛剛發布即時天氣訊息，氣象局指出，目前台灣海峽對流雲系發展旺盛並即將移入，雲林至高雄沿海地區民眾請注意瞬間大雨、強陣風及雷擊。（生活中心／台北報導）', 'view_cnt': 1565}, {'link': 'http://www.appledaily.com.tw//realtimenews/article/finance/20160511/858612/你買了沒？\\u3000未來半年逾1成消費者擬買VR產品', 'category': '財經', 'title': '你買了沒？\\u3000未來半年逾1成消費者擬買VR...', 'time': '2016/05/11 13:45', 'summary': '市場研究公司Newzoo所做遍及12個西方國家的全新線上調查指出，11%的消費者有計劃在未來6個月內購買虛擬實境產品，其中西班牙人擁有最高的購買意願，加拿大人則願意花最多錢購買虛擬實境產品。\\xa0在此最新報告中，受訪者來自12個國家，根據文化背景與對虛擬實境的關注度回覆興趣等級。在Newzoo的報告中，除美國的樣本數為3000人外，其他各個國家的樣本數為2000人，結果指出，消費者對虛擬實境的關注與了解遠超過人們所想。\\xa0當受訪者被詢問「在未來6個月內，你計劃購買虛擬實境產品嗎？」，令人意外地有高達16%的西班牙人、12%的美國人與10%的英國人表示「是，有計劃購買」；僅有4%的荷蘭人有意願購買虛擬實境產品，甚至有15%的比利時人未關注虛擬實境的話題。\\xa0根據Newzoo的報告，在虛擬實境產品中願意投入相對高金額的比例，竟出乎意料地高，此現象在此報告中對高科技敏感族群的核心人群-遊戲玩家更明顯。舉例來說，雖然僅7%的加拿大人有計劃購買虛擬實境產品，但其中28%已在相關產品上花費超過600美元，而在同個受訪題目中，有24%的瑞典人與18%的英國人在相同金額級距中。\\xa0雖然VR已經開始進入民眾的生活，但這只是個開始，虛擬實境產品於今年在消費者市場中跨出了第一步，使得所有人得以更進一步探索與了解。無庸置疑地，目前市場處於虛擬實境最好的發展並帶來消費者最能負擔得起的虛擬實境技術，但未來的機會更比目前所見還要更大，高階虛擬實境裝置於今年1月起開始接受預購，相信在經過耶誕及跨年等假期後，在新的1年將能看出端倪。（陳俐妏／台北報導）', 'view_cnt': 1100}, {'link': 'http://www.appledaily.com.tw//realtimenews/article/forum/20160511/858609/張景森失言已超過八秒了！', 'category': '論壇', 'title': '張景森失言已超過八秒了！', 'time': '2016/05/11 13:44', 'summary': '作者：呂孝佛（文字工作者）\\xa0按照蔡英文的執政標準：八秒鐘失言，毀掉八年累積。林全則提醒準內閣團隊：人民期待我們解決問題，而不是製造爭議。站在公民的立場，張景森失言已超過\\xa0八秒了。在520前，筆者贊同林飛帆前一陣子的提議：能否請民進黨新政府把張景森從內閣名單裡刪除！\\xa0張景森的失言爭議已不止一次，道歉也不止一次。從捅出電價爭議，到指文林苑王家都更案是「史上最Kuso的一場社會運動」熱議；還貼上一位女性裸露雙峰，文字則寫「明天早上六點，爬九五峰。意者私訊」，被網友截圖轉傳，痛批「準閣員公然性騷擾」。引起社會譁然。到近日520總統就職典禮「穿夾腳夾腳拖和短褲應定為正式服裝」，又引發藍綠立委反對，連準文化部長鄭麗君都說：國家不須評論人民穿著！而骨科醫師也認為非常極端，有的醫師認為，若夾腳拖穿太久，容易導致小腿和背部痠痛等等。\\xa0即便是才高八斗或點子王，既然當了閣員，就要像個「大臣」樣子，知止不辱，不是當名嘴，或作家，言行舉止，自受社會矚目。而今民進黨苦了八年翻身，靠人民支持，若不謹言慎行，一樣會被推翻。所謂人民「能載舟，亦能沉舟」，這就是蔡英文心之所危的地方，民進黨豈能忽焉！如今一再耳提面命，言猶在耳，況且「君無戲言」，倘若一再「縱容」閣員恣意妄為，人民是絕不會「包容」的，切記！切記！\\xa0任何團隊必須紀律嚴明，該怎麼做就怎麼做，一切要以大局為重。但張景森尚未上任，一再惹起爭議，就已是「不適格、不勝任」了，他本人更應知所進退，可留下好的身影！\\xa0《即時論壇》徵稿\\xa0你對新聞是否不吐不快，《蘋果日報即時新聞》新闢《即時論壇》，歡迎讀者投稿，對新聞時事表達意見。來稿請寄onlineopinions@appledaily.com.tw，文長以500到1000字為度，一經錄用，將發布在蘋果日報即時新聞區，唯不付稿酬。\\xa0請勿一稿兩投，本報有刪改權，當天未見報，請另行處理，不另退件或通知。', 'view_cnt': 2983}, {'link': 'http://www.appledaily.com.tw//realtimenews/article/international/20160511/858602/曾捲薄熙來案前央視女主播姜豐秀海外豪宅', 'category': '國際', 'title': '曾捲薄熙來案 前央視女主播姜豐秀海外豪宅', 'time': '2016/05/11 13:43', 'summary': '曾為中國重慶前市委書記薄熙來持有法國別墅的央視女主播姜豐，昨在微博上大秀她在海外的豪宅及品味生活，她留言稱：「週日的早上，我們都穿著睡衣，吃了今年夏天的第一頓花園早餐。只要太陽照常升起，人類就不乏幸福感。」不過，相關的微博已經被刪除。\\xa0在薄熙來案爆發後，現年45歲的姜豐被指是代替遭谷開來毒殺的英國人海伍德，管理薄熙來在法國的別墅，而在谷開來審訊期間，谷稱姜豐是遼寧大連富商徐明的「女朋友」。\\xa0上海復旦大學畢業的姜豐，1994年到中央電視台工作，至2011年離職到英國劍橋大學升學，期間遇到英籍丈夫，並且結婚，2007年誔下一子一女，她亦已取得英國國籍。（大陸中心／綜合報導）\\n翻攝網路', 'view_cnt': 4600}, {'link': 'http://www.appledaily.com.tw//realtimenews/article/international/20160511/858290/【有片】熊本熊休息25天正式開工\\u3000粉絲飆淚', 'category': '國際', 'title': '【有片】熊本熊休息25天正式開工\\u3000粉絲飆...', 'time': '2016/05/11 13:42', 'summary': '（更新：新增41J配音版影片）\\xa0日本熊本自上月中旬發生大地震以來，「營業部長」熊本熊表示救難第一，於是暫停所有活動，在休息25日之後，昨日熊本熊正式開工。\\xa0據《日本電視台》報導，雖然熊本熊已在本月5日溫暖回歸，探望災區的小朋友，但昨日才是熊本熊正式上工的日子。許多粉絲看到熊本熊上班，忍不住當場飆淚。有粉絲表示，熊本熊是復興的象徵，能夠療癒人心。還有粉絲爆哭著說：「熊本熊沒事，真是太好了，終於見到面了！」\\xa0未來熊本熊將恢復正常活動，固定每天下午會有2場與粉絲互動的機會。（施旖婕／綜合外電報導）\\xa0發稿：07:38更新：13:42\\n熊本熊休息25天正式開工。翻自《西日本新聞》', 'view_cnt': 3396}, {'link': 'http://www.appledaily.com.tw//realtimenews/article/life/20160511/858588/怪象！恆春玉荷包不開花結果反抽新芽', 'category': '生活', 'title': '怪象！恆春玉荷包不開花結果反抽新芽', 'time': '2016/05/11 13:42', 'summary': '原定母親節前上市的恆春玉荷包，今年開花期遇到高溫，花沒開成反倒猛長新芽，讓果農大嘆，沒開花根本無法結果，產量預估僅剩3成，恆春鎮農會今天與高雄農改場到果園調查，確切受災原因還待進一步瞭解。\\xa0果農葉恆泉說，適合玉荷包開花的溫度約17度，年初正值開花期，卻出現30度的高溫，無法開花，種植2公頃的玉荷包僅1、2株有盛開，產期也預估在下周才會陸續上市，產量預估不到3成。\\xa0高雄農改場表示，開花結果是很多因素綜合而成，有無達天然災害的補助標準，需要進一步認定。（李卉婷／屏東報導）\\n恆春玉荷包落果嚴重。李卉婷攝玉荷包出現裂果。李卉婷攝恆春玉荷包產期延後2周，預估下周才會上市。李卉婷攝今天前往勘災。李卉婷攝', 'view_cnt': 1781}, {'link': 'http://www.appledaily.com.tw//realtimenews/article/life/20160511/858603/台北夏季旅展5/20登場將狂送百張機票', 'category': '生活', 'title': '台北夏季旅展5/20登場 將狂送百張機票', 'time': '2016/05/11 13:40', 'summary': '2016台北國際觀光博覽會(TTE)也稱台北夏季旅展，即將在下周末5/20~23於台北世貿一館登場。主辦單位台北市旅行商業同業公會於今日(5/11)中午舉辦者會表示，今年總共460家業者、、1200個攤位參展搶暑假商機，再創歷屆新高，主辦單位及航空公司總計將送出100張機票及300個福袋，總價值破千萬元。\\xa0主辦單位推出購買現場票，即可獲得「任意門。遊世界刮刮卡」一張，以「世界第一」主題為獎項，如世界第一間馬卡龍創始店(法國)、第一間星巴克(西雅圖)等等，刮中者等於獲得該航線來回機票，線上再登錄刮刮卡還可加碼參加大會於旅展期間每日17:00額外抽出的機票、住宿券。\\xa0\\xa0另外，旅展首日主辦將發出300個福袋，最小獎也有價值300元，其它還有住宿券、餐券、泡湯券等以及35張機票，總價值達千萬元以上。復興航空適逢65周年慶，配合夏季旅展也送出65張機票，即日起至5/31只要於興航官網、App購買來回機票即可參加抽獎，包含40張不限航點的國際線及國內航線25張。 (陳姿吟／台北報導)\\xa0BOX╱2016夏季旅展台北國際觀光博覽會日期：5/20(五)~5/23(一)時間：10:00~18:00地點：台北世貿一館票價：全票200、優惠票150元電話：(02)2759-7167網址：www.tte.tw\\xa0更多資訊請看吃喝玩樂蘋果花粉絲團\\xa0想知道更多親子遊去處，請參加蘋果花客製親子遊社團\\xa0\\n【想知道更多，一定要看……】旅行社線上旅展激殺 夏威夷6天2萬9900元起購票入場者幸運的話有機會抽中法國來回機票。圖為資料照片', 'view_cnt': 882}, {'link': 'http://www.appledaily.com.tw//realtimenews/article/finance/20160511/858604/德誼iPadPro開賣\\u3000搭方案送Beats耳機', 'category': '財經', 'title': '德誼iPad Pro開賣\\u3000搭方案送Bea...', 'time': '2016/05/11 13:40', 'summary': '德誼數位Data Express今天宣布最新iPad Pro 9.7吋即日起開賣！看好9.7吋iPad商機，德誼數位在5月31日前推搭配網卡699資費方案24期，即限量加贈Apple Pencil+Beats Solo 2耳罩式耳機（市價10490元），充分享受iPad Pro原廠配件帶來的美好使用體驗！更限時3天推出urBeats入耳式耳機（市價3900元）75折上市優惠給購買iPad Pro 9.7吋單機消費者！\\xa0德誼數位總經理杜偉昱表示，德誼數位認為這次的iPad Pro 9.7吋很有市場潛力，統計過去1年以來德誼門市iPad銷售，同為9.7吋的iPad/iPad Air系列超過所有銷售的6成以上，顯現消費者選購平板時，輕巧適中的尺寸為考量的第一要素，預計上市後可再掀起一波iPad Pro熱潮。\\xa0iPad Air 系列一直是蘋果暢銷機種，此次推出同樣9.7吋的iPad Pro功能更進化，除了處理器加強外，新增廣色域顯示功能，比以往iPad的色彩飽和度提升25%，True Tone顯示可根據所處環境的光線，自動調整顯示器的色彩與發光強度，讓閱讀起來更舒適自然，配備1200萬像素iSight鏡頭更可拍攝4K影片，讓影像細節更顯真實，尤其搭配Apple Pencil繪畫使用，對流暢敏銳的筆觸感到驚艷。\\xa0考量購買iPad Pro消費者周邊加購的需求，德誼數位這次也推出兩種不同的促銷方案：針對有設計需求的消費者，將Apple Pencil、Beats Solo 2耳罩式耳機組成優惠方案，讓設計師在設計、影音、雲端儲存三個願望一次滿足。\\xa0針對單機消費者，德誼數位貼心洞察iPad Pro使用者注重音效的使用習慣，德誼這次也推出限時3天（5/11-5/13）urBeats入耳式耳機75折上市優惠活動。（陳俐妏／台北報導）', 'view_cnt': 1232}, {'link': 'http://www.appledaily.com.tw//realtimenews/article/local/20160511/858367/【有片】倒吊撞地虐死3歲童\\u3000狠舅公下場是這樣', 'category': '社會', 'title': '【有片】倒吊撞地虐死3歲童\\u3000狠舅公下場是...', 'time': '2016/05/11 13:39', 'summary': '(更新：新增影片)新竹縣一對3歲、1歲小兄妹因未滿18歲的父母吵架離家，去年7月將他們託付給愛吸毒的33歲何姓舅公照料，但何男狠心將小兄妹關在房間，9天竟然只給4次麵包、一瓶飲料，夏天炎熱也不開冷氣，還嫌2童吵鬧而毆打，推男童撞牆，甚至抓他雙腳倒吊後撞地，導致男童顱內出血慘死，女童則脫水昏迷、腎衰竭險死，急救後保命。新竹地院先前依對兒童傷害致死等罪，判何男11年半徒刑，高等法院今仍判他11年6月。可上訴。\\xa0高等法院目前尚未提供判決理由，但前審法官認為，何男僅因兩兄妹爭搶食物、男童不練習寫名字等原因，就恣意毆打兩兄妹，甚至將男童抱摔撞擊牆柱門檻，造成男童頭部重創，雖他發現男童翻白眼、無法出聲、臉色蒼白等命危狀態，卻未將男童送醫，導致男童死亡。\\xa0但法官考量何男並非拿物品傷害男童，事後也坦承犯行，且他僅是受託暫時照顧小兄妹，因此依對兒童傷害致死罪、對兒童傷害罪判刑11年6月。(丁牧群／台北報導)\\xa0【更多新聞，請看《蘋果陪審團》粉絲團】\\xa0出版時間 10:11修改時間 13:39\\n狠舅公一度想抱男童送醫，卻反悔搭電梯返家。翻攝畫面', 'view_cnt': 10628}, {'link': 'http://www.appledaily.com.tw//realtimenews/article/politics/20160511/858580/漁民如驚弓之鳥\\u3000馬公艦護漁被當菲船', 'category': '政治', 'title': '漁民如驚弓之鳥\\u3000馬公艦護漁被當菲船', 'time': '2016/05/11 13:39', 'summary': '琉球籍捕黑鮪的漁船富漁慶2號，今天上午7時許在台菲重疊海域作業時，一度傳出遭不明船艦跟蹤，漁民研判可能是菲國船艦，即通報東港漁業電台盼我國海巡護漁。不過經查證後，應是我國的馬公艦，虛驚一場。\\xa0琉球區漁會總幹事蔡寶興表示，從這事顯見漁民在海上捕魚風險如驚弓之鳥，雖然漁船發現該艦還遠在後方約二到三海浬的距離，但怕是菲方軍艦，若不小心又被扣了，當然是遠遠看到船艦就先逃、先通報。\\xa0富漁慶2號的通報地點在北緯21度30分，東經122度03分，約是台菲重疊海域的雅米島東北方海域，該區仍屬我國暫定執法線內。\\xa0蔡寶興表示，這件通報案，經海巡單位查證，後來是第五海巡隊打電話通知他，查證後確認應是我方的馬公艦。（陳宏銘／屏東報導）', 'view_cnt': 2409}, {'link': 'http://www.appledaily.com.tw//realtimenews/article/strange/20160511/858600/這個小三有夠嗆\\u3000一句話讓正宮都認輸了', 'category': '搜奇', 'title': '這個小三有夠嗆\\u3000一句話讓正宮都認輸了', 'time': '2016/05/11 13:38', 'summary': '這個「小三」恐怕是所有媽媽最難以抵擋的敵人！\\xa0一名網友在YouTube上傳了一支約1分鐘的影片，影片中可見一個小妹妹抓著一旁爸爸的手臂，嗲聲嬌喊「老公、老公」，媽媽在一旁問「妳叫誰老公啊？」萌娃斬釘截鐵地回答「這是我老公！」媽媽糾正「他是妳老爸」，萌娃還拍胸回嗆「他是我老公」，讓一旁的爸爸笑歪了腰。\\xa0媽媽忍不住捍衛正宮立場說「他是我老公」，還強調「我」的部分，沒想到萌娃仍堅持地說「爸爸是妳老爸」，讓一旁的爸爸都哈哈大笑。\\xa0其實不少萌娃都把最愛的爸爸當成老公，曾有一名女童聽到媽媽說「老公是我的」，結果整個人大崩潰，在爸爸身上大哭，看來大家都說「女兒是爸爸上輩子的情人」是有原因的。（盧麗蓮／綜合報導）\\xa0\\n萌娃還拍胸回嗆「他是我老公」。翻攝彩兒YouTube', 'view_cnt': 9641}, {'link': 'http://www.appledaily.com.tw//realtimenews/article/life/20160511/858588/怪象！恆春玉荷包不開花結果反抽新芽', 'category': '生活', 'title': '怪象！恆春玉荷包不開花結果反抽新芽', 'time': '2016/05/11 13:42', 'summary': '原定母親節前上市的恆春玉荷包，今年開花期遇到高溫，花沒開成反倒猛長新芽，讓果農大嘆，沒開花根本無法結果，產量預估僅剩3成，恆春鎮農會今天與高雄農改場到果園調查，確切受災原因還待進一步瞭解。\\xa0果農葉恆泉說，適合玉荷包開花的溫度約17度，年初正值開花期，卻出現30度的高溫，無法開花，種植2公頃的玉荷包僅1、2株有盛開，產期也預估在下周才會陸續上市，產量預估不到3成。\\xa0高雄農改場表示，開花結果是很多因素綜合而成，有無達天然災害的補助標準，需要進一步認定。（李卉婷／屏東報導）\\n恆春玉荷包落果嚴重。李卉婷攝玉荷包出現裂果。李卉婷攝恆春玉荷包產期延後2周，預估下周才會上市。李卉婷攝今天前往勘災。李卉婷攝', 'view_cnt': 1799}, {'link': 'http://www.appledaily.com.tw//realtimenews/article/life/20160511/858603/台北夏季旅展5/20登場將狂送百張機票', 'category': '生活', 'title': '台北夏季旅展5/20登場 將狂送百張機票', 'time': '2016/05/11 13:40', 'summary': '2016台北國際觀光博覽會(TTE)也稱台北夏季旅展，即將在下周末5/20~23於台北世貿一館登場。主辦單位台北市旅行商業同業公會於今日(5/11)中午舉辦者會表示，今年總共460家業者、、1200個攤位參展搶暑假商機，再創歷屆新高，主辦單位及航空公司總計將送出100張機票及300個福袋，總價值破千萬元。\\xa0主辦單位推出購買現場票，即可獲得「任意門。遊世界刮刮卡」一張，以「世界第一」主題為獎項，如世界第一間馬卡龍創始店(法國)、第一間星巴克(西雅圖)等等，刮中者等於獲得該航線來回機票，線上再登錄刮刮卡還可加碼參加大會於旅展期間每日17:00額外抽出的機票、住宿券。\\xa0\\xa0另外，旅展首日主辦將發出300個福袋，最小獎也有價值300元，其它還有住宿券、餐券、泡湯券等以及35張機票，總價值達千萬元以上。復興航空適逢65周年慶，配合夏季旅展也送出65張機票，即日起至5/31只要於興航官網、App購買來回機票即可參加抽獎，包含40張不限航點的國際線及國內航線25張。 (陳姿吟／台北報導)\\xa0BOX╱2016夏季旅展台北國際觀光博覽會日期：5/20(五)~5/23(一)時間：10:00~18:00地點：台北世貿一館票價：全票200、優惠票150元電話：(02)2759-7167網址：www.tte.tw\\xa0更多資訊請看吃喝玩樂蘋果花粉絲團\\xa0想知道更多親子遊去處，請參加蘋果花客製親子遊社團\\xa0\\n【想知道更多，一定要看……】旅行社線上旅展激殺 夏威夷6天2萬9900元起購票入場者幸運的話有機會抽中法國來回機票。圖為資料照片', 'view_cnt': 885}, {'link': 'http://www.appledaily.com.tw//realtimenews/article/finance/20160511/858604/德誼iPadPro開賣\\u3000搭方案送Beats耳機', 'category': '財經', 'title': '德誼iPad Pro開賣\\u3000搭方案送Bea...', 'time': '2016/05/11 13:40', 'summary': '德誼數位Data Express今天宣布最新iPad Pro 9.7吋即日起開賣！看好9.7吋iPad商機，德誼數位在5月31日前推搭配網卡699資費方案24期，即限量加贈Apple Pencil+Beats Solo 2耳罩式耳機（市價10490元），充分享受iPad Pro原廠配件帶來的美好使用體驗！更限時3天推出urBeats入耳式耳機（市價3900元）75折上市優惠給購買iPad Pro 9.7吋單機消費者！\\xa0德誼數位總經理杜偉昱表示，德誼數位認為這次的iPad Pro 9.7吋很有市場潛力，統計過去1年以來德誼門市iPad銷售，同為9.7吋的iPad/iPad Air系列超過所有銷售的6成以上，顯現消費者選購平板時，輕巧適中的尺寸為考量的第一要素，預計上市後可再掀起一波iPad Pro熱潮。\\xa0iPad Air 系列一直是蘋果暢銷機種，此次推出同樣9.7吋的iPad Pro功能更進化，除了處理器加強外，新增廣色域顯示功能，比以往iPad的色彩飽和度提升25%，True Tone顯示可根據所處環境的光線，自動調整顯示器的色彩與發光強度，讓閱讀起來更舒適自然，配備1200萬像素iSight鏡頭更可拍攝4K影片，讓影像細節更顯真實，尤其搭配Apple Pencil繪畫使用，對流暢敏銳的筆觸感到驚艷。\\xa0考量購買iPad Pro消費者周邊加購的需求，德誼數位這次也推出兩種不同的促銷方案：針對有設計需求的消費者，將Apple Pencil、Beats Solo 2耳罩式耳機組成優惠方案，讓設計師在設計、影音、雲端儲存三個願望一次滿足。\\xa0針對單機消費者，德誼數位貼心洞察iPad Pro使用者注重音效的使用習慣，德誼這次也推出限時3天（5/11-5/13）urBeats入耳式耳機75折上市優惠活動。（陳俐妏／台北報導）', 'view_cnt': 1232}, {'link': 'http://www.appledaily.com.tw//realtimenews/article/local/20160511/858367/【有片】倒吊撞地虐死3歲童\\u3000狠舅公下場是這樣', 'category': '社會', 'title': '【有片】倒吊撞地虐死3歲童\\u3000狠舅公下場是...', 'time': '2016/05/11 13:39', 'summary': '(更新：新增影片)新竹縣一對3歲、1歲小兄妹因未滿18歲的父母吵架離家，去年7月將他們託付給愛吸毒的33歲何姓舅公照料，但何男狠心將小兄妹關在房間，9天竟然只給4次麵包、一瓶飲料，夏天炎熱也不開冷氣，還嫌2童吵鬧而毆打，推男童撞牆，甚至抓他雙腳倒吊後撞地，導致男童顱內出血慘死，女童則脫水昏迷、腎衰竭險死，急救後保命。新竹地院先前依對兒童傷害致死等罪，判何男11年半徒刑，高等法院今仍判他11年6月。可上訴。\\xa0高等法院目前尚未提供判決理由，但前審法官認為，何男僅因兩兄妹爭搶食物、男童不練習寫名字等原因，就恣意毆打兩兄妹，甚至將男童抱摔撞擊牆柱門檻，造成男童頭部重創，雖他發現男童翻白眼、無法出聲、臉色蒼白等命危狀態，卻未將男童送醫，導致男童死亡。\\xa0但法官考量何男並非拿物品傷害男童，事後也坦承犯行，且他僅是受託暫時照顧小兄妹，因此依對兒童傷害致死罪、對兒童傷害罪判刑11年6月。(丁牧群／台北報導)\\xa0【更多新聞，請看《蘋果陪審團》粉絲團】\\xa0出版時間 10:11修改時間 13:39\\n狠舅公一度想抱男童送醫，卻反悔搭電梯返家。翻攝畫面', 'view_cnt': 10666}, {'link': 'http://www.appledaily.com.tw//realtimenews/article/politics/20160511/858580/漁民如驚弓之鳥\\u3000馬公艦護漁被當菲船', 'category': '政治', 'title': '漁民如驚弓之鳥\\u3000馬公艦護漁被當菲船', 'time': '2016/05/11 13:39', 'summary': '琉球籍捕黑鮪的漁船富漁慶2號，今天上午7時許在台菲重疊海域作業時，一度傳出遭不明船艦跟蹤，漁民研判可能是菲國船艦，即通報東港漁業電台盼我國海巡護漁。不過經查證後，應是我國的馬公艦，虛驚一場。\\xa0琉球區漁會總幹事蔡寶興表示，從這事顯見漁民在海上捕魚風險如驚弓之鳥，雖然漁船發現該艦還遠在後方約二到三海浬的距離，但怕是菲方軍艦，若不小心又被扣了，當然是遠遠看到船艦就先逃、先通報。\\xa0富漁慶2號的通報地點在北緯21度30分，東經122度03分，約是台菲重疊海域的雅米島東北方海域，該區仍屬我國暫定執法線內。\\xa0蔡寶興表示，這件通報案，經海巡單位查證，後來是第五海巡隊打電話通知他，查證後確認應是我方的馬公艦。（陳宏銘／屏東報導）', 'view_cnt': 2445}, {'link': 'http://www.appledaily.com.tw//realtimenews/article/strange/20160511/858600/這個小三有夠嗆\\u3000一句話讓正宮都認輸了', 'category': '搜奇', 'title': '這個小三有夠嗆\\u3000一句話讓正宮都認輸了', 'time': '2016/05/11 13:38', 'summary': '這個「小三」恐怕是所有媽媽最難以抵擋的敵人！\\xa0一名網友在YouTube上傳了一支約1分鐘的影片，影片中可見一個小妹妹抓著一旁爸爸的手臂，嗲聲嬌喊「老公、老公」，媽媽在一旁問「妳叫誰老公啊？」萌娃斬釘截鐵地回答「這是我老公！」媽媽糾正「他是妳老爸」，萌娃還拍胸回嗆「他是我老公」，讓一旁的爸爸笑歪了腰。\\xa0媽媽忍不住捍衛正宮立場說「他是我老公」，還強調「我」的部分，沒想到萌娃仍堅持地說「爸爸是妳老爸」，讓一旁的爸爸都哈哈大笑。\\xa0其實不少萌娃都把最愛的爸爸當成老公，曾有一名女童聽到媽媽說「老公是我的」，結果整個人大崩潰，在爸爸身上大哭，看來大家都說「女兒是爸爸上輩子的情人」是有原因的。（盧麗蓮／綜合報導）\\xa0\\n萌娃還拍胸回嗆「他是我老公」。翻攝彩兒YouTube', 'view_cnt': 9692}, {'link': 'http://www.appledaily.com.tw//realtimenews/article/nextmag/20160511/858601/【壹週刊】520不談92共識段宜康:中方施壓更不能讓步', 'category': '壹週刊', 'title': '【壹週刊】520不談92共識    段宜...', 'time': '2016/05/11 13:36', 'summary': '準總統蔡英文就職演說確定不談92共識，民進黨立委段宜康認為，兩岸關係發展，任何讓步都是籌碼，蔡英文若在中方不斷恫嚇下讓步，恐怕會讓外界認為是在壓力下接受九二共識的印象。\\xa0段宜康表示，兩岸關係就台灣來說，要不要做更有彈性的詮釋，本來就是我們手上的籌碼，這個籌碼如果隨意用掉，顯然在兩岸互動上，會讓我們陷於不利地位，對岸一定不會滿意我們做彈性處理，我們所做的任何讓步，中國一定會想辦法要得更多。段宜康說，中方從肯亞案到ＷＨＡ邀請函的處理方式，都在延伸一個中國的論述，兩岸的模糊空間變小，對想拉近兩岸關係的中國而言，反而是適得其反。\\xa0台灣智庫諮詢委員董立文指出，2012年與2016年兩次大選的東亞情勢不同，也讓蔡英文在上台前承載了鄰近各國的期待。2010年美國總統歐巴馬對習近平剛上台時的中美關係有所期待，國際氛圍對習近平友好，馬英九的「和中」路線因此在東亞有市場。但2016年不論是美日或東南亞等國家，已認清習近平的強硬及不確定性。\\xa0尤其過去三個月馬政府的外交政策走向，突然在南海主權問題上表現得非常強硬，加上沖之鳥礁事件爭議擴大，讓馬英九的外交政策從過去的「親美、友日、和中」變成「反日、遠美、親中」，如此劇烈的轉變，不但讓國際社會看破手腳，也讓他們對蔡英文新政府的態度，從原先的觀望變成期待，促成如此巨大的轉變，其實正是來自台灣。(撰文:劉榮)\\n立委段宜康認為，中國對我們所做的任何讓步，一定會想辦法要得更多。', 'view_cnt': 1401}, {'link': 'http://www.appledaily.com.tw//realtimenews/article/international/20160511/858575/美漢堡驗出老鼠DNA\\u3000專家：不一定會損害健康', 'category': '國際', 'title': '美漢堡驗出老鼠DNA\\u3000專家：不一定會損害...', 'time': '2016/05/11 13:35', 'summary': '美國的漢堡被檢測出人類和老鼠的DNA！根據美國食品分析公司Clear Labs昨發布報告指，美國市面上的漢堡超過10%有問題，甚至在少數漢堡中檢測到人類及老鼠的DNA。\\xa0新華社報導，該公司與美國安全專家均指，食品裡出現人類與老鼠DNA難以避免，不一定會損害人的健康。\\xa0該公司研究人員針對加州22零售店賣的漢堡進行基因組分析，共調查77個品牌、共258份樣品，結果顯示，13.6%的漢堡有問題，包括成分與標籤標示不合、衛生問題與病菌污染等。其中研究人員在一份漢堡樣品中發現人類DNA，在3份漢堡中發現老鼠DNA，報告認為，人類DNA可能來源於漢堡包加工過程中操作人員的頭髮、皮膚或指甲等。\\xa0報告指，美國食品和藥物管理局允許食品中存在一定量的人類與老鼠DNA，因為這在生產過程中無法完全避免。\\xa0此外，素食漢堡包問題也很多。在89份樣品中，23.6%存在所含成分與標籤不一致等問題。比如，2份素食漢堡包樣品中出現牛肉DNA，一份黑豆漢堡包裏根本不含黑豆。\\xa0最引人關注的是，4.3%的樣品裏含有假結核耶爾森氏菌、嗜水氣單胞菌等病菌的DNA。不過，喬治亞大學食品微生物學教授多伊爾表示，這一結果會有一點誤導，因為基因組分析技術無法區分出死與活的細胞，發現死細胞的病菌DNA並沒有多大意義。而且，所發現的病菌不是人們通常擔心的病菌，就是數量較少不足以致病。（大陸中心／綜合外電報導）', 'view_cnt': 1568}, {'link': 'http://www.appledaily.com.tw//realtimenews/article/3c/20160511/858598/9.7吋iPadPro舊換新0元起\\u3000', 'category': '3C', 'title': '9.7吋iPad Pro舊換新0元起\\u3000', 'time': '2016/05/11 13:35', 'summary': '最新9.7吋iPad Pro今天正式在門市開賣，售價2萬900元起，蘋果經銷商Studio A推出舊換新活動，可以0元換購，而德誼數位 Data Express 則推5/31前購買單機再加上搭配網卡699資費方案24期，即限量加贈Apple Pencil+Beats Solo 2耳罩式耳機，市價共1萬0490元。\\xa0Studio A表示，iPad Pro 9.7吋開賣並同步推出「舊i分享，希望傳承」二手iPad募集活動，持舊款iPhone、Mac電腦、iPad購買新機，最高可折抵2萬6500元，除可免費折換新9.7吋iPad Pro，將以消費者名義捐出二手二手iPad，捐贈給雅文基金會等單位。(王雪玲／台北報導)\\xa0管迷人美照，還是失焦殘念照，快來「失焦der小確幸」社團分享照片吧\\xa0更有趣報導，請上副刊吃喝玩樂蘋果花粉絲團', 'view_cnt': 1920}, {'link': 'http://www.appledaily.com.tw//realtimenews/article/finance/20160511/858599/股王獨強無力撐盤\\u3000台股開高走低跌20點', 'category': '財經', 'title': '股王獨強無力撐盤\\u3000台股開高走低跌20點', 'time': '2016/05/11 13:33', 'summary': '美股大漲，激勵台股今天開高一度站回8200點之上，但因追價力道不足，指數再度翻黑，儘管股王大立光（3008）一枝獨秀，卻無法撐起盤勢，終場下跌20.73點，收8135.56點，成交值783億元。\\xa0台新投顧研究部協理黃文清表示，目前外資動向還是偏空，加上季報等變數尚未釐清，短期指數仍有回測8000點關卡，建議保守觀望為宜。\\xa0黃文清表示，台股這波從3月下旬的8840點回檔迄今，跌幅最多達8.65%，雖然短線跌深，反彈卻不夠力，顯示盤勢比預期弱很多，主要有幾項變數，包括外資態度持續偏空、季報要等5月中才會公布完畢，以及上市櫃公司4月營收較去年同期衰退。\\xa0他認為，短期指數可能回測8000點關卡，至於會不會跌破，屆時再觀察外資動向而定。在指數未出現帶量中長紅、外資未開始反手加碼、主流股走勢續強等訊號出現前，操作還是要謹慎為宜，因為缺乏整體性表現，仍以個股為主。（陳建彰／台北報導）\\xa0\\xa0\\n台股終場下跌20.73點，收8135.56點，成交值783億元。林林攝', 'view_cnt': 903}, {'link': 'http://www.appledaily.com.tw//realtimenews/article/entertainment/20160511/858518/妙麗捲入巴拿馬文件\\u3000透過境外公司買豪宅', 'category': '娛樂', 'title': '妙麗捲入巴拿馬文件\\u3000透過境外公司買豪宅', 'time': '2016/05/11 13:30', 'summary': '「巴拿馬文件」（Panama Papers）外洩案轟動全球，英國女星「妙麗」艾瑪華森（Emma Watson）也上榜。英國《太陽報》報導，26歲的艾瑪2013年透過一家設在英屬維京群島的境外公司Falling Leaves LTD，斥資300萬元英鎊（約1億4355萬元台幣）購買一棟3房的房地產，她的發言人表示，艾瑪設立境外公司單純是為了保護個人隱私，而非逃稅。\\xa0艾瑪身家估計高達3500萬元英鎊（約16億7475萬元台幣），她的發言人指出：「艾瑪其他名人一樣，成立境外公司是為了保護她的隱私和安全。英國公司行號必須公開股東的身分資料，她為保障自己安全，保有匿名性，才選擇設立境外公司。她以前便曾因個資被公開，飽受威脅。」\\xa0美國「國際調查記者聯盟」（ICIJ）台灣時間10日凌晨2時，開放巴拿馬文件開放網路資料庫，可供一般民眾搜尋，全球有36萬筆境外公司資料，引起各界高度關注。（林慧娟／綜合報導）\\xa0\\xa0\\n【想知道更多，一定要看……】【有片】劉嘉玲捲入巴拿馬文件\\u3000沒算財產幾個零26歲的艾瑪捲入「巴拿馬文件」，被爆透過境外公司買房產，發言人代她否認逃稅。達志', 'view_cnt': 3719}, {'link': 'http://www.appledaily.com.tw//realtimenews/article/sports/20160511/858593/萊恩帶你玩翻府城\\u3000周末球場吃美食', 'category': '體育', 'title': '萊恩帶你玩翻府城\\u3000周末球場吃美食', 'time': '2016/05/11 13:28', 'summary': '統一獅「PLAYFUL TAINAN 玩翻府城」系列活動，本周六、日(14、15日)在台南主場推出「美食球場」活動，邀請台南在地美食「台南度小月原始店本舖」、「張三瘋小鮮肉奶茶」、「誠品知味」、「辛村籽煙燻滷味」、「台南funbox鳳盒子鳳梨酥」、「Bula冷奶油咖椰吐司」，來球場設攤，讓球迷們在看球同時可以品嚐平日要排隊才吃得到的美食。此外，統一獅將同步推山與「台南度小月擔仔麵」、「張三瘋小鮮肉奶茶」聯名推出限定紙碗、吊卡。(姚瑞宸／綜合報導)\\n【看了這則新聞的人，也看了……】張進德2A初猛打賞\\u3000林子偉安打突圍皇家先發輪值異動\\u3000基伊取代克里斯楊張三瘋小鮮肉奶茶：結合統一獅Q版圖案製作小鮮肉及小鮮女奶茶吊牌，限量推出萊恩到安平推薦美味辛村籽煙燻滷味萊恩客串美食家烤土司服務旅客。統一獅提供', 'view_cnt': 1232}, {'link': 'http://www.appledaily.com.tw//realtimenews/article/local/20160511/858490/採訪遭警暴力驅離受傷\\u3000《蘋果》提告遭駁', 'category': '社會', 'title': '採訪遭警暴力驅離受傷\\u3000《蘋果》提告遭駁', 'time': '2016/05/11 13:26', 'summary': '《蘋果》張姓記者前年4月在北市忠孝西路、中山南路天橋上採訪反核大遊行時，遭警方暴力驅離致跌落台階受傷、相機受損，他為捍衛言論自由，自訴控告時任中正一分局局長的指揮官方仰寧妨害自由等罪，但台北地院認定方執行任務未違法，而現場影像也無法證明警員施暴，今駁回張男自訴。可抗告。\\xa0民進黨前主席林義雄為主張「落實民主、停建核四」，前年4月22日展開禁食行動，相關環保團體陸續響應號召民眾上街，直到26日民眾聚凱道周圍，並迅速蔓延擴散至忠孝西路，時任北市警局長黃昇勇下令淨空，由時任中正一分局長方仰寧指揮，經多次柔性勸導無效，28日凌晨4時許即以噴水驅離。\\xa0張男指控，當時在忠孝西路、中山南路口天橋上採訪，方仰寧下令警方以噴水柱及拉扯方式驅離群眾，另有警員以強光照射、推擠等方式阻擋他採訪，他要求警員說明單位及編號，對方不滿反而激烈拉扯，當下蒐證時，又遭警員遮住手機鏡頭，拉扯時手機摔壞上無法繼續蒐證，後來又有警員推他摔落台階受傷，眼鏡及相機配備受損。\\xa0張男指出，方仰寧及施暴警員不但造成他採訪權利受損，更嚴重傷害新聞自由，他為捍衛言論自由的民主價值，才不得已控告方仰寧妨害自由等罪。\\xa0法官認為，當時現場有群眾違法集會遊行，又有民眾從高處丟擲物品，方仰寧受命依法執行驅離任務並未違法，而根據新聞影像也看不出張男指控的情形，無法證明警員施暴犯行，因此駁回張男自訴。可抗告。（張欽／台北報導）\\xa0【更多司法新聞，請看《蘋果陪審團》粉絲團】', 'view_cnt': 1072}, {'link': 'http://www.appledaily.com.tw//realtimenews/article/life/20160511/858589/紅包被嫌太少\\u3000新娘竟寫信要求加碼', 'category': '生活', 'title': '紅包被嫌太少\\u3000新娘竟寫信要求加碼', 'time': '2016/05/11 13:24', 'summary': '這起案例實在太扯了！\\xa0《壹周刊》報導，國外有名網友在Mumsne發文，他說日前被前同事邀請參加婚禮，她包了100英鎊（約新台幣4,775元）的支票做為禮金。但婚宴過後幾天，前同事卻寄電郵來說：「我們很驚訝妳所送的禮金金額，似乎與這個值得祝福的大日子不大對等…如果妳想修改增加金額，我們會非常感激！」\\xa0網友說，自己當時看到傻眼，而且這名前同事還故意提醒她：「妳最近似乎繼承了一筆遺產…」暗示她禮金應該可以更大方。對此，網友覺得不知該怎麼辦，「我從來沒有碰到過這樣的事情！」上論壇求援。（即時新聞中心／綜合報導）\\xa0\\n翻攝自網路', 'view_cnt': 28253}, {'link': 'http://www.appledaily.com.tw//realtimenews/article/finance/20160511/858591/外資看衰砍目標價\\u3000宏達電重挫跌停', 'category': '財經', 'title': '外資看衰砍目標價\\u3000宏達電重挫跌停', 'time': '2016/05/11 13:24', 'summary': '宏達電（2498）第1季持續虧損，且本季可能還沒轉盈機會，外資大砍目標價，最低甚至喊到31元，拖累今天股價持續走弱，尾盤打入跌停62.1元鎖住，創7個多月來新低價。\\xa0宏達電第1季雖有處分桃園廠獲利挹注，但因手機出貨低迷，加上非手機業務尚未帶來實際貢獻，單季每股虧損逾3元，連4季虧損，儘管內部預期，本季起手機業務可好轉，但以出貨規模來看，可能還無法獲利，甚至有外資看衰到2018年才會獲利，大砍目標價，今天股價弱勢跌停。（陳建彰／台北報導）', 'view_cnt': 2250}, {'link': 'http://www.appledaily.com.tw//realtimenews/article/life/20160511/858465/【有片】圓仔「變身」\\u3000邁向青春美少女', 'category': '生活', 'title': '【有片】圓仔「變身」\\u3000邁向青春美少女', 'time': '2016/05/11 13:22', 'summary': '（更新：新增影片）\\xa0台北市立動物園的大貓熊「圓仔」7月即將滿3歲，已經出現青春期的徵兆，從「小女孩」變身為「青春美少女」了！園方表示，近1個月來圓仔出現頻繁來回走動、蹭陰、食慾下降等行為，經過尿液荷爾蒙檢測，確認牠已經進入青春期。園方解釋，雄性野生大貓熊約7歲性成熟，雌性約6歲，圈養的大貓熊因為營養較充足，會比野外提早2至3年。\\xa0台北動物園表示，上月中旬開始，圓仔開始焦躁不安的走動，到了下旬，連吃竹葉的狀況也變差、糞便量減少、外陰紅腫，保育員蒐集尿液交由實驗室進行荷爾蒙分析，發現圓仔的生殖系統開始微幅運作，不過目前還沒有達到性成熟，距離「熟女」還有一段路要走。\\xa0園方指出，大貓熊進入青春期時的類似發情（稱為「發身」）行為一般會維持3個星期，目前圓仔已經進入尾聲，食慾和體重都已經恢復正常。（蔡永彬／台北報導）\\xa0出版時間：11:36更新時間：13:22\\xa0\\n圓仔。北市動物園提供圓仔。北市動物園提供圓仔。北市動物園提供圓仔蹭陰。北市動物園提供', 'view_cnt': 2853}, {'link': 'http://www.appledaily.com.tw//realtimenews/article/local/20160511/857501/【有片】凌晨偷襲夜歸女\\u3000狼竟辯夜色好在慢跑', 'category': '社會', 'title': '【有片】凌晨偷襲夜歸女\\u3000狼竟辯夜色好在慢...', 'time': '2016/05/11 13:21', 'summary': '1名年輕女子在凌晨3時許下班返家，卻在回家的路上，遭到1名陌生男子從後方熊抱襲胸，然後望著對方掦長而去，警方獲報後調閱沿路監視畫面，發現20多歲的陳男涉有重嫌，但陳男竟辯稱，當天他騎車經過該路段，發現夜色好，環境也好，未來想要在那裡置產，所以到哪裡慢跑認識環境，但絕沒有偷襲女子，但檢察官勘驗監視器畫面，認定陳男在鬼扯，今依強制猥褻罪將他起訴。\\xa0這起事件發生在今年1月間，家住台北市中山區的20歲被害女子，凌晨3時下班走路回家，突然被1名戴著口罩、穿著大衣的男子，從後方熊抱襲胸，當時她嚇得不知所措任對方擺布，等到對方離開時她才回神過來，並在家人陪同下報警處理。警方獲報後立即調閱沿路的監視畫面，發現20多歲的陳姓男子，當天騎著摩托車到案發地附近涉有重嫌，因此將陳男函送法辦。\\xa0陳男雖然不否認當天有到案發現場，但否認有對女子襲胸，對於監視畫面穿著大衣的襲胸男，則否認是他本人，而是另有其人，陳男辯稱，當天因為要去榮星花園附近慢跑，在騎車經過案發地時，發現當時夜色美，環境也不錯，未來想要到那裡置產，因此將車子停在一旁，以慢跑的方式想要認識當地的環境。\\xa0對於陳男的說詞，檢察官也以證人身分傳喚調閱沿路監視器的警員作證，警員證稱，他們在接獲報案時，立即調閱現場及周圍所有的監視器影像，他從編號第1支影像，開始過濾，從陳男停車，從女子後方襲胸、到得逞後再度騎車離開，發現衣服、人影都與女子所指訴的加害人身影一致，檢察官還問了「當天路上人車多不多，會不會誤認」，警員回答，當天路上幾乎只有陳男及他的車子，不會有辯識錯誤的情形」。\\xa0檢察官認為，從各項證據在再顯示陳男涉有重嫌，其辯詞並不可採，因此依強制猥褻罪起訴。（呂志明／台北報導）\\xa0【更多新聞，請看《蘋果陪審團》粉絲團】\\nOL夜歸遇上色狼。示意圖', 'view_cnt': 3968}, {'link': 'http://www.appledaily.com.tw//realtimenews/article/entertainment/20160511/858372/【有片】劉嘉玲捲入巴拿馬文件\\u3000沒算財產幾個零', 'category': '娛樂', 'title': '【有片】劉嘉玲捲入巴拿馬文件\\u3000沒算財產幾...', 'time': '2016/05/11 13:21', 'summary': '（更新動新聞）美國「國際調查記者聯盟」（ICIJ）上月公布多國政商權貴藏富避稅的「巴拿馬文件」，昨天凌晨開放網路資料庫供搜尋，全球有36萬筆境外公司資料，吳奇隆、周星馳、澳門賭王何鴻燊名列其中，劉嘉玲也被披露曾於2002年至2007年期間，擔任英屬維京群島（BVI）註冊公司Cheers More Holdings的中介人。\\xa0劉嘉玲昨晚在香港出席慈善晚宴，被問到「巴拿馬文件」，她一頭霧水，反問內容後再說：「我沒有留意今天的新聞，我的財務是由BVI公司安排，我不希望將整件事帶到不正確的方向，變成非法，我的財務是有正常的安排，是個奉公守法的人。」表示稍後會再了解。\\xa0經營副業嚇嚇叫的她，是否知道自己有多少身家？她說：「真的不知道，我沒算有幾個零，不過我隨時可以退休，我好有信心。但退休又可以幹什麼呢？我覺得一個人不可以不工作。」笑問她大可以專心相夫？她說：「有在相，邊相邊工作。工作可以開闊視野，令自己好開心，有時工作不是說賺到多少錢，只是想學多一些，得到多一些經驗。」（吳惠菁／綜合報導）\\xa0出版時間：10:45更新時間：13:21\\xa0\\n【想知道更多，一定要看……】妙麗捲入巴拿馬文件\\u3000透過境外公司買豪宅劉嘉玲昨晚在香港出席慈善晚宴。香港《蘋果日報》楊千嬅（左起）、劉心悠、劉嘉玲和梁詠琪昨晚不約而同都穿花花裙。香港《蘋果日報》', 'view_cnt': 7028}, {'link': 'http://www.appledaily.com.tw//realtimenews/article/life/20160511/858590/\\u200b資訊科技納國中必修\\u3000教長：國中會考不考', 'category': '生活', 'title': '\\u200b資訊科技納國中必修\\u3000教長：國中會考不考', 'time': '2016/05/11 13:20', 'summary': '教育部今天公布「資訊教育總藍圖」，列出未來資訊教育的兩大願景、四大目標以及二十四項發展策略架構；在學習面部分，將培育有創新實作及自主學習的數位公民。然而，趕在520政府交接之前公告，遭現場媒體質疑沒有任何實質內容，包括上課怎麼上、師資怎麼來，設備充不充足等，教育部皆沒有具體答案。不過教育部長吳思華承諾，雖資訊教育將納入十二年國教的國中必修，但短期內不會成為會考考科，請大家放心。\\xa0十二年國教課綱預定2018年上路，總綱中新增資訊科技領域，將成為國中、高中的科目，包括必修合計八學分、選修八學分。由於現行教育中，資訊教育是採融入式教學，未來課程怎麼上、師資怎麼來，今教育部沒有具體答案，僅表示細節還在規劃中，唯一給予家長及學生的承諾，就是短期內不會成為會考考科。\\xa0吳思華表示，現階段國高中教師約有700名具有資訊科技專長，但資訊科技成為正式科目之後，預估需要1500至2000名教師人力，將由現職教師中補修學分，並加註第二專長模式，補足教師人力。至於需補修多少學分等細節，教育部國教署仍在規劃中。\\xa0另針對學生、家長關心是否成為升學考試科目，吳思華承諾，在短期內不會成為會考考科，但會鼓勵高中職開設資訊特招班，例如今年有北市師大附中設資訊特招班，將透過特招管道招生，未來將視辦理成果，鼓勵其他縣市學校繼續推廣。\\xa0設備部分，吳思華也表示，今年4月已完成學術骨幹網路升級至100G，年底前將投入2400萬元資金，協助學校區域網路升級；至於學校電腦教室則是每四年更新一次設備，這些都是既有政策，因此設備方面將能如期完成。\\xa0現場有媒體質疑，教育部趕在520前公布「資訊教育總藍圖」，卻只空有「口號」，沒有實質政策牛肉。教育部則解釋，由於時間不足，細節仍在規劃討論中，具體如何執行，還會再慢慢討論。（劉嘉韻／台北報導）', 'view_cnt': 582}, {'link': 'http://www.appledaily.com.tw//realtimenews/article/fashion/20160511/858376/Missoni聯名國民鞋\\u3000今夏掀足潮', 'category': '時尚', 'title': 'Missoni聯名國民鞋\\u3000今夏掀足潮', 'time': '2016/05/11 13:17', 'summary': '時尚圈吹起球鞋潮後，不分男女、著正式服裝或休閒服裝，總可搭配球鞋的新潮穿搭，也接連帶動精品與知名球鞋品牌推出聯名款的風潮，義大利品牌Missoni自2015年與素有「國民鞋」美稱的Converse合作推出聯名系列，2016夏季最新聯名款正式發布，把Missoni標誌性的彩色印花圖騰和Converse經典的Chuck Taylor All Star鞋款結合，推出彈性編織網眼布料款，共有藍、紅、黃三種主要色系。（劉妍伶／綜合報導）\\xa0\\xa0\\n黃、灰配色的Missoni x Converse夏季聯名款，為炎熱夏至注入清爽感。翻攝sneakernews.com義大利品牌Missoni和Converse的2016夏季聯名款。翻攝sneakernews.com', 'view_cnt': 1074}, {'link': 'http://www.appledaily.com.tw//realtimenews/article/entertainment/20160511/858545/【有片】徐佳瑩談「歌手」心得\\u3000虧林子祥蹣跚中年男子', 'category': '娛樂', 'title': '【有片】徐佳瑩談「歌手」心得\\u3000虧林子祥蹣...', 'time': '2016/05/11 13:16', 'summary': '徐佳瑩將發行「日全蝕」演唱會實錄，分享比《我是歌手4》心得，她透露能李玟等前輩合作，像經歷「涅槃」，決賽時還見到葉蒨文、林子祥，她笑說港星很有氣勢，原本都不敢靠近，但她後來發現「一位步履蹣跚的中年男子」慢慢走過她身旁，那人就是林子祥，她邊笑邊學逗笑全場。（張力文／台北報導）\\xa0\\n徐佳瑩今天為了演唱會專輯舉辦記者會。張桓誠攝徐佳瑩回想起她ㄧ路走來的經歷仍然十分興奮。張桓誠攝唱片公司送上印有她愛犬的靠墊。張桓誠攝', 'view_cnt': 3077}, {'link': 'http://www.appledaily.com.tw//realtimenews/article/local/20160511/858561/生小孩丟給朋友照顧\\u3000無良媽媽有報應', 'category': '社會', 'title': '生小孩丟給朋友照顧\\u3000無良媽媽有報應', 'time': '2016/05/11 13:16', 'summary': '高雄一名蕭姓女子前年9月產子後無力照顧，把3個月大的孩子丟給謝姓友人照顧，隨即避不見面，事後謝女要求蕭女出面接回小孩，蕭女隨口答應卻未現身，謝女只好報警。高雄地檢署今依遺棄兒童罪將蕭女起訴。\\xa0起訴指出，20餘歲的蕭女前年9月生下一子，12月就把孩子託付給謝姓友人照顧，並請父親給謝2萬5000元買奶粉。但謝女照顧1個月後，發現自己也無法照顧這麼小的嬰兒，打電話要求蕭女把孩子帶回去，但蕭女卻未出現。謝不得已打電話報警。\\xa0高雄地檢署認為，蕭女不顧孩子無自救能力，就把他託付給非保母也非親屬的謝姓朋友，之後對小孩不聞不問，已觸犯遺棄罪，且須依《兒童及少年福利與權益保障法》加重其刑，若罪名成立，蕭女將面臨1年以上、7年6個月以下徒刑。（郭芷余／高雄報導）\\xa0【更多新聞，請看《蘋果陪審團》粉絲團】', 'view_cnt': 10390}, {'link': 'http://www.appledaily.com.tw//realtimenews/article/life/20160511/858587/樂壇新寵兒演唱會門票秒殺沒問題！', 'category': '生活', 'title': '樂壇新寵兒 演唱會門票秒殺沒問題！', 'time': '2016/05/11 13:16', 'summary': '甫發新專輯《REBORN》的滅火器樂團上月剛結束首波巡迴演唱，今(11)日中午12點開賣第2輪「早安台灣 A NEW DAY TOUR」，場次幾乎遍及全台，開賣不到10分鐘，台北4場、高雄2場即完售，其他像是台南場、台中場的票券則所剩不多，火種紛紛在Team Fire社團求票，更有人留言表示：「有沒有買不到票就馬上求票的…」成軍16年的滅火器要說是樂壇新寵兒當之無愧！\\xa0滅火器表示：「這次我們規劃12場巡迴，雖然演唱空間較小，但規格及精采度大大提升！」滅火器原本就是從小場唱到大場，吉他手鄭宇辰說：「其實我們比較喜歡唱小空間，因為我們不是偶像，且跟歌迷零距離、也最能直接感受他們的熱情！」（劉珮芬／台北報導）\\xa0你知道更多有趣的事物嗎？分享到手寫時代吧！更多資訊請上吃喝玩樂蘋果花', 'view_cnt': 786}, {'link': 'http://www.appledaily.com.tw//realtimenews/article/local/20160511/858537/妄想領700,000,000,000\\u3000女偽造存單被逮\\u3000', 'category': '社會', 'title': '妄想領700,000,000,000\\u3000女...', 'time': '2016/05/11 13:15', 'summary': '妄想領7千億！台北市萬華區一間郵局，上週二突然出現一名神秘的許姓女子，持著寫有「柒仟億元」的定期儲金存單，向櫃檯人員請領這筆鉅款，因金額實在太驚人，郵局人員報警逮捕這名異想天開的女子。\\xa0警方調查，許姓女子在3日下午4時到郵局，手持郵政定期儲金存單到櫃台辦理質押借款，行員一看存單上印著「柒仟億元」，當場嚇傻眼，急忙通報郵局經理，經理懷疑儲金存單遭變造，請警方到場處理。\\xa0警員抵達後，許女仍與行員爭論不休，堅持這張「柒仟億元」的儲金存單絕對沒有變造，郵局人員只好請郵政總局的業務承辦人鑑定，郵局柯姓股長指稱，正常存單的數字是使用電腦印製，但女子手持的存單是用圖章按壓，況且郵局不會開立「柒仟億元」這種離譜數字的儲金支票。\\xa0誇張的是，警方後來在許女身上搜出面額「壹兆元」、「玖千億元」的存單，這些金額加起來高達兩兆多元新台幣，讓人直呼不可思議，許女後來坦承犯行，訊後依行使變造有價證券罪嫌移送台北地檢署偵辦。（突發中心／台北報導）\\xa0\\xa0\\n經變造的7000億元存單。翻攝畫面經變造的1兆元存單。翻攝畫面', 'view_cnt': 18541}, {'link': 'http://www.appledaily.com.tw//realtimenews/article/politics/20160511/858569/【有片】鄭捷伏法\\u3000林昶佐：執行槍決不應這麼突然', 'category': '政治', 'title': '【有片】鄭捷伏法\\u3000林昶佐：執行槍決不應這...', 'time': '2016/05/11 13:14', 'summary': '更新：新增影片\\xa0台北捷運隨機殺人案凶手鄭捷昨晚遭槍決，法務部長羅瑩雪今早受訪說，簽署死刑令是避免準法務部長邱太三為難。時代力量立委黃國昌上午受訪說，任何刑罰的執行都不應該有政治的考慮，這是非常嚴肅議題，政府施政的作為應是能有效的預防犯罪，讓社會的人更有安全感。\\xa0至於對死刑的立場，黃國昌說，時代力量提出的政策並沒有廢死，過去沒有廢死的政策，現在也沒有提出法案，但當然有部分時代力量成員認為，推動死刑無法防範犯罪，這是基於國際人權公約的角度，也是希望台灣能推動的方向。\\xa0時代力量立委洪慈庸上午受訪說，鄭捷的槍決太突然，讓人覺得心情沉重，她想問的是，執行槍決然後呢？大家能否再為社會防護網作些什麼，讓社會更好，不要再有類似的事件發生，這是她要繼續努力的，她不想再作評論，能評論此事的只有受害者家屬，看他們是否能就此放下。\\xa0時代力量立委林昶佐上午受訪說，他不揣測羅瑩雪是否有政治動機，但執行槍決不應這麼突然，台灣雖然有死刑，但不應這麼突然，應該要建立一個透明的程序，同時也希望不要再有下一個鄭捷。（黃信維、何哲欣／台北報導）\\xa0出版：12:58更新：13:14\\xa0\\n林昶佐認為，鄭捷遭槍決太突然。張良一攝黃國昌否認時代力量政策有廢死。唐紹航攝洪慈庸對鄭捷遭槍決感到心情沉重。唐紹航攝', 'view_cnt': 15387}, {'link': 'http://www.appledaily.com.tw//realtimenews/article/local/20160511/858512/【有片】鄭捷槍決後\\u3000羅瑩雪說出真心話', 'category': '社會', 'title': '【有片】鄭捷槍決後\\u3000羅瑩雪說出真心話', 'time': '2016/05/11 13:13', 'summary': '捷運殺人魔鄭捷昨晚3槍伏法，火速簽下死刑執行令的羅瑩雪，明天也將隨內閣總辭，今天她接受媒體訪問，對於是誰決定優先槍決鄭捷？她爽快回說：「是我。因為這是一個非常嚴重的社會矚目案件，這個案子對社會治安造成很大的傷害，造成社會大眾認為台灣是一個非常安全地方的破壞，我覺得這個事情必須要有一個特別的處理，所以提出優先處理的想法，部裡同仁也都蠻支持的。」\\xa0羅瑩雪以往執行槍決，都會打坐、迴向給死刑犯，這次呢？羅瑩雪說：「其實就跟平常一樣，過去已經執行過2次，這個是我工作的一部分，所以很多人覺得我會不會有壓力？情緒上是不是會受干擾？其實都沒有，因為我當做這些人（死刑犯），所有接觸到的人，都是因此陪伴我成長的人，從他們身上我也學到很多，我也祝福他們從今以後會走得更好，我是佛教徒，其實不相信人死生滅，我相信還有一個靈魂會繼續走他的路，我希望大家有學到該學的東西。」\\xa0羅瑩雪強調，執行鄭捷死刑其實沒有特別不一樣，「因為每一個生命都是非常可貴的，每一個靈魂都有他極高的價值」。\\xa0羅瑩雪表示，鄭捷在光天化日之下進行犯罪，他的案情相對非常簡單，證據也非常直接明確，所以法院沒有誤判的可能，雖法務部一如過往進行所有程序審核，但速度非常快，羅瑩雪強調，之所以單獨處理鄭捷槍決，是因為他對社會的影響太大了，「我們需要安定社會，讓大家回歸一個正確的觀念，這些事情是不容許的，也讓那些崇拜鄭捷、想效法的人有所警惕」。\\xa0至於簽署鄭捷死刑令是否考慮到外界觀感？羅瑩雪說：「執行公務時我只想一件事，這件事該不該做，這件事這樣做對不對，如果是該做、是對的事，我就會去做，至於批評都一定會有，因為有些人只是因為我就是我，就是會想要批評，我覺得這些都沒有關係，覺得執行公務都是可受公評的」；至於沒有事先通知鄭捷律師，「是因若事先通知的話，所有的死刑都不可能執行，因為相關的人可能會提出再審、非常上訴等等的動作，那會使得死刑的判決形同具文，變成沒有作用」。\\xa0至於昨天睡前是否針對任內3次簽准死刑令做一個總回想？羅瑩雪指出，「晚上打坐時候都會回迴向給所有的一切，跟我有緣、無緣的眾生，當然包括他們（死刑犯）。」（胡守得／台北報導）\\xa0【更多新聞，請看《蘋果陪審團》粉絲團】\\n法務部長羅瑩雪明天即將總辭。黃世宏攝', 'view_cnt': 11726}, {'link': 'http://www.appledaily.com.tw//realtimenews/article/local/20160511/858564/一隻黑貴賓\\u3000讓司小姐相逢詩先生', 'category': '社會', 'title': '一隻黑貴賓\\u3000讓司小姐相逢詩先生', 'time': '2016/05/11 13:12', 'summary': '雲林縣斗六市長安里司小姐（47歲）一隻養了二年的黑貴賓「小柚」，週日母親節當天一早離家出走，牠逛大街時，被住鎮東里的詩先生（30歲）發現，帶往附近長安派出所備案，並帶「小柚」先到動物醫院檢查，因掃瞄不到晶片，無法找到飼主，準備送交動植物疾病防治所處理。\\xa0\\u3000詩先生離開派出所約一小時，司小姐就急急忙忙跑進派出所報案；所長許坤雄請她不要著急，表示剛有人拾獲一隻黑貴賓，不過派出所當時沒留下詩先生的聯絡電話，調閱監視器找到詩先生的車牌號碼，根據車籍資料的電話，電話已停用，聯繫不上。\\u3000\\u3000司小姐急得如熱鍋上的螞蟻，許坤雄好人做到底，直接到詩先生的戶籍地找，順利找到詩家，由於星期天動植物疾疾防治所沒上班，所以狗還留在家中。許坤雄請詩先生帶狗回到派出所，把狗面交給司小姐。\\u3000\\u3000司小姐開心不已，頻頻向所長及詩先生道謝，所長在留他們二人的資料時，才發現二人的姓氏都很罕見，二人都是第一次遇到對方這種姓氏，覺得為了一隻小狗而相遇，是一種難得緣份，司小姐看詩先生也是愛狗人，歡迎他有空來找「小柚」玩。（寶智華／雲林報導）\\n司小姐感謝所長許坤雄。寶智華攝司小姐女兒在臉書社團PO文感謝警方熱心幫忙尋狗。翻攝畫面', 'view_cnt': 2182}, {'link': 'http://www.appledaily.com.tw//realtimenews/article/international/20160511/858586/美巡航陸控島礁\\u3000陸國防部：已派艦驅離', 'category': '國際', 'title': '美巡航陸控島礁\\u3000陸國防部：已派艦驅離', 'time': '2016/05/11 13:12', 'summary': '美軍驅逐艦勞倫斯號昨天駛入大陸控制的南沙永暑礁海域，引發中國不滿，中國國防部發言人楊宇軍昨表示，美國海軍驅逐艦「未經中國政府允許，非法進入中國南沙群島有關島礁鄰近海域，中國軍隊當即採取應對行動」，他並指已派軍艦警告驅離。（大陸中心／綜合外電報導）', 'view_cnt': 1863}, {'link': 'http://www.appledaily.com.tw//realtimenews/article/nextmag/20160511/858147/【壹週刊】驚！ATR模擬實測\\u3000依「導引儀」飛皆失速', 'category': '壹週刊', 'title': '【壹週刊】驚！ATR模擬實測\\u3000依「導引儀...', 'time': '2016/05/11 13:10', 'summary': '今年4月26日，本刊前往泰國曼谷AATC模擬機訓練中心，並找來曾任ATR法國原廠飛行教官、飛行資歷超過40年的Robert Allemand（法國籍），及曾任立榮航空ATR72-600型客機副駕駛、現為自由機師的Frank Ting（台灣籍）擔任正、副駕駛，進行模擬機飛行測試。\\xa0本刊告訴正、副駕駛測試目的，並根據飛安會公布的「事實資料報告」進行電腦設定，包括氣溫、風向、飛機重量等參數，都與復航南港空難當天狀況一致，起飛機場也設定為台北松山機場。\\xa0飛機升空不久，副駕駛按下自動駕駛AP（AutoPilot）鈕，飛機繼續往上飛。當飛行高度接近1200呎時，副駕駛將2號發動機的油門完全收掉，模擬空難發生前，2號發動機失效的情況。此時，機艙內的警報聲大作，接著「自動駕駛」突然跳開，正駕駛手中握的操縱桿抖了一下，表示飛機已變成「手動駕駛模式」。\\xa0同一時間，儀表板上的2個發動機扭力表也出現變化。失效的2號發動機，扭力指針瞬間歸零，螢幕變成白色；未失效的1號發動機，扭力則突然提高，指針甚至超過100％（正常上限為99.9％），螢幕也從白色變成橘色警示。\\xa0副駕駛為了避免發動機過熱，根據操作手冊規定，把1號發動機的油門先收了一點，讓扭力表的指針回復正常。雖然機艙內還是不時發出警報聲響，但正駕駛握著操縱桿，跟著「飛行導引儀」的十字座標飛，飛機仍在掌控中。\\xa0當飛行高度達到1600呎，副駕駛把正常運作的1號發動機油門完全收掉，模擬空難發生前，駕駛收錯油門的情況。此時，2具發動機通通停止運作，正駕駛根據「標準作業程序」，繼續跟著「飛行導引儀」飛，不料3秒後，「失速」警報聲大作，接著操縱桿劇烈震動，正駕駛根本無法掌握，代表飛機失控，即將墜毀。\\xa0這樣的結果，讓正、副駕駛大吃一驚，因為在高空中，就算2具發動機都失去動力，但只要操控得宜，飛機並不會發生「失速」這樣無可挽回的悲劇。老經驗的正、副駕駛不信邪，重新測試3次，結果狀況一模一樣，飛機最後失速墜毀。\\xa0第5次測試，正、副駕駛決定不再跟著「飛行導引儀」飛。當2具發動機都停止運作後，正駕駛憑著經驗，先將機頭往下帶，讓飛機維持一定速度，再靠目視及副駕駛的引導，將飛機避開地面上的建築物。這一次「失速警報」沒再響過，就算飛機沒有動力，但始終在駕駛掌控中，最後平安迫降。\\xa0為了確認「飛行導引儀」是否真有瑕疵，正、副駕駛再進行第6次測試，這次依舊照「飛行導引儀」的帶領飛，最後一樣出現失速的結果。（撰文：丁國鈞）\\xa0「更多其他壹週刊內容請點我」', 'view_cnt': 5025}, {'link': 'http://www.appledaily.com.tw//realtimenews/article/strange/20160511/858480/【有片】這樣的男人快追！\\u3000證明他將是好老公', 'category': '搜奇', 'title': '【有片】這樣的男人快追！\\u3000證明他將是好老...', 'time': '2016/05/11 13:10', 'summary': '其實不管是前一陣子流行的暖男還是草食男，或是日本專門形容有少女的興趣，擁有一顆少女心卻不娘娘腔的「乙男」，都證明現代女性已經不喜歡大男人主義了，她們要的是跟自己有相同興趣、共同話題的溫柔男孩。如果有以下特徵並且不是「甲甲」的話，女孩請務必要把握，因為他就是妳的必嫁男人。(李佩珊／綜合報導)\\xa0\\xa01.對時尚品味非常關注，衣櫃衣服甚至比妳多。\\xa02.非常喜歡做菜，尤其是甜點。\\xa03.超級喜歡小動物。\\xa04.願意花一整天陪妳玩無聊小遊戲。\\xa05.熱愛保養，絕對不會覺得花錢保養是浪費的行為。\\xa06.不在乎你做過什麼整形手術。\\xa07.就算妳朋友嫌他娘，他還是依然做自己，只在乎妳對他的看法。\\xa0\\xa0\\xa0\\xa0\\xa0\\n以妳為重的男人才是最值得嫁的。圖片來源：必娶女人粉絲團', 'view_cnt': 1443}, {'link': 'http://www.appledaily.com.tw//realtimenews/article/strange/20160511/858480/【有片】這樣的男人快追！\\u3000證明他將是好老公', 'category': '搜奇', 'title': '【有片】這樣的男人快追！\\u3000證明他將是好老...', 'time': '2016/05/11 13:10', 'summary': '其實不管是前一陣子流行的暖男還是草食男，或是日本專門形容有少女的興趣，擁有一顆少女心卻不娘娘腔的「乙男」，都證明現代女性已經不喜歡大男人主義了，她們要的是跟自己有相同興趣、共同話題的溫柔男孩。如果有以下特徵並且不是「甲甲」的話，女孩請務必要把握，因為他就是妳的必嫁男人。(李佩珊／綜合報導)\\xa0\\xa01.對時尚品味非常關注，衣櫃衣服甚至比妳多。\\xa02.非常喜歡做菜，尤其是甜點。\\xa03.超級喜歡小動物。\\xa04.願意花一整天陪妳玩無聊小遊戲。\\xa05.熱愛保養，絕對不會覺得花錢保養是浪費的行為。\\xa06.不在乎你做過什麼整形手術。\\xa07.就算妳朋友嫌他娘，他還是依然做自己，只在乎妳對他的看法。\\xa0\\xa0\\xa0\\xa0\\xa0\\n以妳為重的男人才是最值得嫁的。圖片來源：必娶女人粉絲團', 'view_cnt': 1457}, {'link': 'http://www.appledaily.com.tw//realtimenews/article/local/20160511/858539/裝作不怕死？\\u3000教誨師稱：鄭捷刑前閃尿剉咧等', 'category': '社會', 'title': '裝作不怕死？\\u3000教誨師稱：鄭捷刑前閃尿剉咧...', 'time': '2016/05/11 13:10', 'summary': '鄭捷臨刑前的心情到底如何？\\xa0「北捷隨機殺人犯」鄭捷昨日被槍決，曾經輔導過他的「教誨師」張柏舟在上三立節目《54新觀點》時透露，雖然鄭捷總是一副「不怕死」的樣子，但經過他的分析發現，鄭捷「他是最怕死的」，對一切都不屑一顧的樣子其實是在掩飾他「心中的恐懼」。張柏舟說，一個死囚最大的凌遲就是「等死」，他相信「鄭捷在5點多時就已經閃尿了！」\\xa0不過這番言論受到許多質疑，台北市長柯文哲的正妹幕僚「戳戳妹」葉芝邑就直言「非常噁心」，她在臉書痛批「我們國家的教誨師沒有教誨的功能，只會在教誨對象死後繼續上政論節目鞭屍，講一些對社會沒幫助的屁話」，大酸「凸顯自己是多麼無能多麼失職多麼低能。」\\xa0新聞被轉載至PTT八卦版，網友也都毫不留情，有網友轟「這種心態的咖洨當教誨師難怪獄政差」「他一定要這樣嘴砲來增加死刑的嚇阻力嗎？」「幻想文果然來了...」「教誨師都這樣的話，還期待那些犯人向善喔？」「承認有人就是冷漠到對自己與他人生命都無感很難嗎？」「難怪監獄沒教化功能」（張鈜閔／綜合報導）\\xa0\\n教誨師張柏舟在節目中稱「鄭捷必定怕死」「5點多時就已經閃尿了！」翻攝自setn 三立新聞網', 'view_cnt': 55571}, {'link': 'http://www.appledaily.com.tw//realtimenews/article/politics/20160511/858579/【民報】人物／磺溪傲骨石錫勳從反日一路到反國民黨', 'category': '政治', 'title': '【民報】人物／磺溪傲骨石錫勳 從反日一路...', 'time': '2016/05/11 13:05', 'summary': '本內容由民報提供\\xa0(摘錄 全文請連結民報)【本文取材自民報文化雜誌2016年／第12期】文／陳婉真 (資深媒體工作者)\\xa0\\xa0他和他的夫人都是受過正規醫學教育的醫師夫婦，功名利祿唾手可得，他卻選擇最艱辛的路：日本人統治時他抗日，國民黨來台灣不久，因為三度以無黨籍身分參選彰化縣長落敗。他散盡家財，醫師執照被吊銷，並成為「中華民國」的叛亂犯，多次被捕，最後祖產被拍賣，被迫遷居高雄，客死異鄉。\\xa0他是彰化的名醫石錫勳，夫人則是日本習醫的張慶美醫師，老一輩彰化人只記得他以唐吉訶德式的精神，在國民黨提名等同當選的年代，每次競選縣長等都高票落選。年輕人根本聽都沒聽過這個名字。\\xa0浪漫仁醫 坎坷人生路\\xa0石錫勳不只是名醫、仁醫，也是多情多產的詩人。或許源自於詩人的浪漫性格，導致他的人生路崎嶇坎坷。\\xa0石錫勳於1900年出生在彰化市北門外，父親是著名中醫師，也是詩文造詣頗深的漢學家。他自幼在父親的培植下，17歲就展現詩才。同年考入臺灣總督府臺北醫學校（今臺大醫學院），1921年參與文化協會籌組工作，成為創會理事。\\xa0石錫勳在同年畢業後，為了想繼續從事政治活動，及逃避父親幫他指腹為婚的安排，到高雄旗後（今旗津）開業。\\xa01923年1月，他擔任「臺灣議會期成同盟會」理事，兼高雄州總幹事，為了向民眾鼓吹議會設置的重要，他練就群眾演講的好口才，加上年輕、聲音宏亮，妙語如珠，贏得「石大砲」的綽號。10月，續任文化協會理事。12月，因「治警事件」被捕，並於次年被起訴，第一審判無罪，第二審判罰金1百圓。\\xa01928年，彰化人士王敏川、賴和等人創辦「大眾時報」，成為文化協會的機關報，石錫勳也沒有缺席。\\xa01929年文化協會分裂改組後，主要幹部幾乎清一色為彰化人，石錫勳被選為中央執行委員會委員。\\xa0日人也採取收買策略，由總督府派台中州高等科長山下末之武前往遊說，只要他退出文協，或不參加文協活動，除給予一筆鉅款外，還有芳苑地區175甲土地奉送，石錫勳拒絕了。\\xa01936年日本政府改派軍人擔任台灣總督，強力推動皇民化運動，而台灣人的改革運動，已被日人取締殆盡，石錫勳乃結合昔日文協同志，暗中組織一個反對皇民化的俱樂部和日人周旋，因而常被日本特務跟踪。\\xa0二戰終結丶日本人投降後，和大多數抗日志士一樣，彰化人懷抱回歸祖國的美夢，自動組成歡迎國民政府接收的委員會，到台北中山堂受降儀式會場觀禮，石錫勳被推舉為委員會主席，旋被地方委員會推選為首任省轄市彰化市長。國民黨彰化市黨部及三民主義青年團，都是由他發起成立的，1946年也曾當選彰化市參議員，但次年他就看清國民黨真相而退黨，成為無黨籍人士。\\xa01949年他因經營貿易的胞弟，在搭船載貨由日返台途中，在上海連人帶貨遭共匪搶劫，貿易行宣告倒閉，石錫勳也因是胞弟借款的保證人，散盡家財好不容易辦妥賠償等善後事宜，卻遭政敵密告他開地下錢莊、擾亂金融及惡性倒閉；政治上則被警總指控為與逃到日本的廖文毅暗中來往，因而被捕入獄90天，因查無實據，被判無罪。\\xa0一生多次參選 皆不敵國民黨買票、作票而落敗\\xa0石錫勳隨後舉家遷往臺中，然而，由於彰化地方人士看不慣國民黨籍首長的惡行惡狀......(摘錄 全文請連結民報)', 'view_cnt': 975}, {'link': 'http://www.appledaily.com.tw//realtimenews/article/life/20160511/858556/劈腿和無縫接軌的差異\\u3000他的回文讓網友推爆', 'category': '生活', 'title': '劈腿和無縫接軌的差異\\u3000他的回文讓網友推爆', 'time': '2016/05/11 13:04', 'summary': '有網友在批踢踢詢問「劈腿」和「無縫接軌」有什麼差異？引起許多網友討論，批踢踢名人蘇美回文表示，在交往期間，和其他人曖昧就算劈腿。\\xa0蘇美說，一般人所認知的劈腿，是同一個時期，交往兩個以上的人，但他認為，有交往的人，還和其他人曖昧就算劈腿了。「平常有在養備胎或工具人，這就不叫無縫接軌了，因為根本就是在劈腿啦！」他說，真正無縫接軌大概只有一種狀況，「晚上吃飯談了分手，出了餐廳門，心情不好去夜店喝酒，結果在夜店認識了新朋友，當天馬上交往。」他認為，分手前就認識，且關係很好，分手後沒多久就交往，「別人可能不知道，但是自己最清楚就是劈腿啊，那是騙不了人的。」\\xa0許多網友留言：「真的，真相只有自己知道」、「很清楚! 果然無縫跟劈腿一線之隔」、「太中肯了」、「自己最清楚，其他都是藉口!」，也有網友認為，「無縫只是劈腿好聽一點的說法吧」。（即時新聞中心／綜合報導）', 'view_cnt': 6309}, {'link': 'http://www.appledaily.com.tw//realtimenews/article/finance/20160511/858581/群募挺電競\\u3000助《快打旋風5》選手出國戰', 'category': '財經', 'title': '群募挺電競\\u3000助《快打旋風 5》選手出國戰', 'time': '2016/05/11 13:03', 'summary': '在為期4個月的《快打旋風 5》台灣代表預選賽中，群募貝果首創利用群眾募資的手法，來讓台灣廣大的電競社群可以一同參與支持創造台灣電競的歷史。群募貝果的執行長陳威光也表示：「群募貝果支持台灣電競發展，期待成為電競選手的圓夢推手，在國內及國際的電競舞台上發光發熱！」\\xa0台灣最大的原生直播平台 LIVEhouse.in，致力發展台灣遊戲與電競產業，並緊密結合實況直播，舉辦多場電競賽事。更於今年的台北國際電玩展，協同多個遊戲廠商舉辦活動。近日更協同 ESR 電競王，於3/19(六)起，共同舉辦連續4個月的「Evolution 2016」《快打旋風 5》台灣代表預選賽，期望透過此賽事可以將台灣優秀的選手送往美國拉斯維加斯參加於7/14~15舉辦的E.V.O世界格鬥大賽，為台灣贏得下一個世界冠軍。\\xa0賽事主辦單位 ESR 電競王執行長陳建群表示：「電競是一國科技力的表徵，更是一個先進文明的驕傲，電競代表的就是一種未來力量，世界電競正在發展，台灣電競不能缺席。」\\xa0LIVEhouse.in除了贊助選手出國比賽的費用之外，更將這些選手們精彩刺激的比賽過程，透過現場直播的方式擴散於網路世界，即時呈現於全台灣的觀眾面前，並善用直播平台的VOD保存功能，為我們台灣電競之路，留下一個精彩的回顧。此賽事目前已經吸引到台灣上百名好手參加，包含「Tomy」、「洛克胖」、「基隆東」等《快打旋風》系列的好手參賽，並累積近 10 萬人觀看次數。LIVEhouse.in 執行長程世嘉表示：「LIVEhouse.in 將持續耕耘電競領域，讓台灣的電競產業可以跟世界接軌！」\\xa0《快打旋風 5》於2016年2月上市以來，迅速成為2016全球各大賽事組織指定年度項目；為與世界電競接軌，本次依循 E.V.O 賽事的「傳統」：進行高密度的雙敗淘汰賽事，於僅僅一天的賽程日內進行所有賽事，直至決選出冠亞軍為止。此賽事的聯合推動廠商包括了 LIVEhouse.in、ESR電競王、Intel、e-go台灣租車旅遊集團、群募貝果，此賽事目前亦得到台北市政府的支持，預選賽出線的選手也將會代表台北市前往參加比賽！接下來的預選賽於5/28（六）進行，勝者將可以晉級至 6/18（六）台灣預選賽決戰！（蕭文康／台北報導）', 'view_cnt': 589}, {'link': 'http://www.appledaily.com.tw//realtimenews/article/local/20160511/858543/擒鄭捷勇伯\\u3000已返美國定居', 'category': '社會', 'title': '擒鄭捷勇伯\\u3000已返美國定居', 'time': '2016/05/11 13:02', 'summary': '勇伯陳風（64歲）2年前的5月21日當天，正好就在江子翠捷運站，原本因為背痛要去看醫生，看見月台上不斷有人驚叫，「殺人了！」他瞬間忘記背痛，對著鄭捷大喊：「你給我過來！」接著使用擒拿術扣住鄭捷，再使勁坐在他身上，一直到警方將他上銬，如今鄭捷伏法，《蘋果》試圖聯繫陳風，但他已返回美國。\\xa0已經退休的陳風，1994年便舉家移民美國，當初是為了照顧母親才會返台，當時他因為受背痛所苦，搭捷運去看病，想不到竟遇上殺人魔，事發後陳風英勇作為被廣為報導，儘管家人都勸他低調些，但正如他當時勇於與持刀的鄭捷對抗，陳風也不吝於分享事蹟。\\xa0陳風曾對媒體提到，他在美國時歷經911恐攻，當時社會恐懼氛圍不斷散布，鄭捷案後社會也陷入恐慌，但他說：「他沒做惡夢，也照常搭捷運。」勇伯勇敢對抗殺人魔、戰勝恐懼的形象，讓陷入黑暗中台灣社會帶來一絲光芒，鄭捷伏法後，《蘋果》試圖再度聯繫陳風，但家中外籍看護表示，他目前已返回美國，無法聯繫上。（突發中心／新北報導）\\xa0\\xa0\\n陳風已移民美國，目前其母住在北大特區。黃靖文攝', 'view_cnt': 23275}, {'link': 'http://www.appledaily.com.tw//realtimenews/article/finance/20160511/858566/F-VHQ強片進補\\u3000全年EPS6元起跳', 'category': '財經', 'title': 'F-VHQ強片進補\\u3000全年EPS 6元起跳', 'time': '2016/05/11 13:02', 'summary': '影視特效製作公司F-VHQ（4803）投資的《快手鎗手快鎗手》及《麥兵兵》2部電影，確認在下半年上映，票房收入會依比例在今年底前及明年初陸續認列入帳，法人預估，這2部對EPS貢獻約1.2元，為了滿足亞太市場及爭取歐美影業市場，拓展全球業務規模，近期將積極物色及購併優質的特效後製公司，以縮短培訓時間及吸納各地人才，此外，F-VHQ集團計劃結合大中華區的知名影業集團共同成立基金，聯手挖掘影視文創產業的潛力市場。\\xa0F-VHQ表示，去年全年營收7.64億元，首季為營收淡季，但因電影項目加入營業，首季營收即達2.2億元，隨著年底再加認列票房收入與4月後新接單收入挹注下，今年營收和EPS將再創新高，法人指出，針對F-VHQ全年廣告及電影已接單部分做今年收入評估，預估全年EPS至少6元以上。\\xa0F-VHQ指出，接獲由阿里影業（屬阿里巴巴旗下）及儒意影業2家聯合出品三生三世十里桃花電影玄幻仙俠大片，已進行後製階段，因亞太地區影視業務成長，且為拓展其全球業務規模，物色購併優質的特效後製公司，已為VHQ集團近程迫切規劃的要項之一。\\xa0F-VHQ進一步指出，去年簽約多部電影投資案中，目前已確定有《麥兵兵》及《快手鎗手快鎗手》等2部電影上映，其中《快手鎗手快鎗手》將於7月中旬暑假檔期上映，《麥兵兵》則於11月中年底電影旺季上映。\\xa0《快手鎗手快鎗手》這部電影是由潘安子導演，林更新及張靜初分任男女主角，這次2人主演的《快手鎗手快鎗手》為動作喜劇片，主攻全球華人市場，預計達4~5億人民幣的票房收入時，法人預估將可貢獻F-VHQ約EPS1.1元。\\xa0至於《麥兵兵》則是中國影業第1部設計以人與動物互動，進行編劇拍攝的特效大片，此片是由F-VHQ與中國官方文化單位共同出品發行，並由F-VHQ承辦片中之特效製作。\\xa0F-VHQ指出，目前中國電影市場，每部電影的平均票房約4~5億元人民幣，麥兵兵保守估計票房收入將可超出平均值之上，總收入扣除成本後，該片票房收入每多1億元，法人估計約可增加F-VHQ之EPS 0.09元。\\xa0F-VHQ說，未來除了以集團優勢的特效後製主要業務來帶動票房投資合作機會，並將票房收入列為VHQ主要業務，為滿足亞太市場及爭取歐美影業市場，拓展全球業務規模，將積極物色及購併優質的特效後製公司，以縮短培訓時間及吸納各地人才，這是VHQ目前積極進行的要項。此外，VHQ集團還計畫結合大中華區的知名影業集團共同成立基金，聯手挖掘影視文創產業的潛力市場。（高佳菁／台北報導）', 'view_cnt': 527}, {'link': 'http://www.appledaily.com.tw//realtimenews/article/sports/20160511/858582/日本足球巨星本田圭佑真的要來臺灣', 'category': '體育', 'title': '日本足球巨星本田圭佑真的要來臺灣', 'time': '2016/05/11 13:02', 'summary': \"自2010年南非世界盃足球賽起爆紅的日本足球中場名將本田圭佑即將首度來臺灣！本田圭佑創辦足球營隊「本田圭佑足球學校(HONDA's SOLTILO SOCCER SCHOOL，直譯為本田的太陽風格足球學校)」6月8日在臺灣新北板橋體育場登場，他將帶領日本教練團來台指導小球員踢球，並免費開放民眾於觀眾席觀摩教學。活動已透過足球相關社團招募150名臺灣、日本小學生參與。\\xa0本田圭佑目前效力義大利名門球會AC米蘭(AC Milan)，他自幼夢想以足球員身分登上國際舞台，也希望藉由自身經驗讓更多孩子了解到擁有夢想與相信自己力量的重要性。他表示：「擁有夢想的人，才會越來越強大。」\\xa0本田圭佑足球學校營隊自2009年開辦，他另在2012年5月創辦「SOLTILO FAMILIA SOCCER SCHOOL(太陽風格家族足球學校)」，Familia是西班牙文「家人」，Soltilo則是日本J聯盟球會盛行的結合外語，結合西班牙文「太陽」(Sol)和「風格」(Estilo)新創。SOLTILO FAMILIA足球學校已在日本關東、關西及九州各大城市建立共56所分校。(王毓健／綜合報導)\", 'view_cnt': 1823}, {'link': 'http://www.appledaily.com.tw//realtimenews/article/nextmag/20160511/858584/【壹週刊】520就職演說王牌文膽再操刀', 'category': '壹週刊', 'title': '【壹週刊】520就職演說 王牌文膽再操刀', 'time': '2016/05/11 13:02', 'summary': '曾為準總統蔡英文撰寫過 2012大選參選聲明、敗選演說及2016勝選演說的清大社會所所長姚人多，再度為520就職演說執筆，綠營幕僚不諱言，姚的筆鋒感性有溫度，蔡只要說出動人辭句，外界第一個聯想的就是出自姚人多手筆。\\xa0姚人多能掌握蔡的談話精要，要領在除了事先參與幕僚會議，定稿後也會再跟蔡討論，蔡只要提示方向及基調，姚就能掌握精髓，例如2012年落選感言，蔡要求落選感言與幕僚討論時，就交待「我等一下出去就是希望告訴大家不能失望，這個國家未來四年要繼續往前走」，姚果真為蔡寫出「你可以哭泣，但不要洩氣。你可以悲傷，但是不要放棄。」的精典催淚金句。(撰文:劉榮)', 'view_cnt': 1364}, {'link': 'http://www.appledaily.com.tw//realtimenews/article/life/20160511/858533/【聲明全文】中研院長候選第一\\u3000廖俊智願回台見總統', 'category': '生活', 'title': '【聲明全文】中研院長候選第一\\u3000廖俊智願回...', 'time': '2016/05/11 13:01', 'summary': '中央研究院上月16日召開評議會，選出3位新院長候選人，目前待總統馬英九擇一任命，馬曾表示他將與3人面談，再決定選誰，中研院則說還在代為聯繫中。外傳新院長候選人排名第1的是美國加州大學洛杉磯分校化學暨生物分子工程系系主任廖俊智，今天隔海發出聲明指，他願回台灣與總統馬英九面談院長遴選過程，但也請總統府和中研院澄清遴選程序的適法性問題，以決定回台日期，廖另澄清他和馬英九、中研院前院長李遠哲、準總統蔡英文都不熟識。截至目前為止，《蘋果》未能聯繫上廖俊智，暫時無法取得進一步說法。（蔡永彬／台北報導）\\xa0廖俊智聲明全文如下：\\xa0本人承蒙中研院評議會肯定，獲選為下屆中研院院長候選人，深感榮幸。近期有關本人與中研院長選舉的各項傳言，本人認為事久自能論定，並由於本人為事件當事人，不當對此發表任何意見，故皆選擇沈默以對。然近二日有一些突發狀況要求本人回應，關係重大，故特別發此聲明稿。\\xa0總統府於昨日批准翁院長辭職，並透過中研院院方立即來電詢問是否能儘速回台與馬總統面談。本人當時將此視為新院長遴選過程的正常程序，既然府方與院方有此要求，故已首肯。\\xa0然而之後上網讀到馬總統批准翁院長辭職所致的長函，其中多次提到似乎有不少人士對院長選舉過程有所疑慮，希望中研院處理。本人自從獲推薦以來，與中研院所有的互動皆屬被動，對選舉過程亦不甚清楚。馬總統的信函既然提到關於遴選過程的許多疑慮，希望中研院處理，仍盼府方或院方在面談前對於遴選程序的適法性與有效性做進一步的澄清，以便決定何時回國。如若造成院方或府方的不便，尚請見諒。\\xa0此外，本人與李遠哲前院長於遴選前並不認識。與馬英九及蔡准總統亦未曾相識。外界有許多不確實的傳言，於此亦特別加以澄清。\\xa0廖俊智5月10日於洛杉磯\\xa0發稿時間：12:28更新時間：13:01', 'view_cnt': 4189}, {'link': 'http://www.appledaily.com.tw//realtimenews/article/local/20160511/858550/鄭捷槍決\\u3000廢死聯盟怒批「等於現場轉播」', 'category': '社會', 'title': '鄭捷槍決\\u3000廢死聯盟怒批「等於現場轉播」', 'time': '2016/05/11 13:01', 'summary': '殺人魔鄭捷昨被槍決，廢死聯盟今發新聞稿呼籲：「莫為政治算計，背棄程序正義」，指出昨晚法務部某種程度，是一場看不見的死刑執行現場轉播，將死刑作為一種展演，用來恫嚇或者虛偽安撫社會大眾，強調總統馬英九任內執行33人槍決，但還是沒嚇阻犯罪效果，廢死聯盟指出，對於這樣的死刑執行過程深感遺憾及不滿，認為不能用死刑作為解決問題手段，廢死聯盟指出：「拜託新的政府有新的思維，別殺，別只剩下殺」\\xa0廢死聯盟指出，鄭捷案最高法院2016年4月22日宣判死刑確定，當天下午法警親送判決書至律師事務所，4月26日發布新聞稿「將全案卷證檢送最高法院檢察署執行，同時副知法務部檢察司」；法務部5月10日通知記者將於晚間8時45分召開記者會說明鄭捷的死刑執行，最後記者會延遲至8時58分召開，8時47分執行死刑，在記者會現場等待的同時，大家都知道，鄭捷正在被執行死刑，某種程度，這是一場看不見的死刑執行現場轉播。\\xa0廢死聯盟強調，反對鄭捷被判處死刑及執行死刑，並不是因為廢死聯盟「同情」及「原諒」加害者或者無視於被害者的處境，而是認為政府不能以死刑作為解決問題的手段，也不能因政治算計而背棄程序正義，因為台灣社會一直不重視程序正義，造成很多無可彌補的憾事，廢死懇切希望台灣社會能從過去的經驗裡體會程序正義的重要性。而程序正義的堅持，是不能挑選案子的，不能在那些廢死聯盟認為毫無疑問的案子裡就自動跳過程序正義。\\xa0廢死聯盟也向未來的法務部長邱太三提出呼籲，邱於昨天和法務部長羅瑩雪見面時談到死刑，表示會「依循以往的機制」，這是絕對錯誤的想法，而從馬英九政府執政以來總計執行了7次死刑、33位死刑犯，廢死聯盟心驚的殺人事件都是在執行死刑後發生，死刑沒有嚇阻效果，只會有模仿效應，這個「以往的機制」向政府學到了殺人是可以的，以暴制暴是可以的。\\xa0新聞稿指出，新政府不能夠學習舊政府用幾顆子彈排除所有精神衛生、校園安全、社會經濟與被害人保障等層面的批評及檢討；邱太三部長也必須要認真思考犯罪預防的機制、監獄改革、更生政策、被害人保護的工作。若只依循以往的機制，意思就是製造更多冤死的杜氏兄弟。廢死聯盟拜託新的政府有新的思維，別殺，別只剩下殺。（劉志原╱台北報導）\\xa0【更多法庭新聞，請看《蘋果陪審團》粉絲團】', 'view_cnt': 10905}, {'link': 'http://www.appledaily.com.tw//realtimenews/article/politics/20160511/858540/疑似中國蒜遭海關押款放行\\u3000綠委嗆：520後見', 'category': '政治', 'title': '疑似中國蒜遭海關押款放行\\u3000綠委嗆：520...', 'time': '2016/05/11 13:00', 'summary': '台灣蒜頭今年產量少，造成價格上揚，但有蒜農發現有不肖業者疑似假冒泰國蒜頭名義，進口中國蒜頭「大片黑」品種，想從高雄海關闖關，並在昨天控告海關瀆職。綠委蘇治芬與蒜農協會理事長胡永芳等今早更召開記者會，要求海關保障台灣蒜農權益；胡永芳表示，行政官員應積極替台灣農民把關，為調查前不該先行放行，更不得押款放行。\\xa0記者會進行中，蘇治芬得知相關裝有蒜頭的三個貨櫃，兩個已在昨晚、一個在今早都已「押款放行」的方式，讓廠商提領走後，大罵海關辦事不力，罔顧農民訴求。關務署通關業務組長陳金標、高雄關驗貨課課長杲景祥連忙解釋，目前初步鑑定後，與中國品種不同，後續會再積極查驗，了解到處有無中國蒜頭混充。陳金標解釋，依照《關稅法》規定，貨品有保存期，目前暫時查無中國品種，若不放行造成蒜頭壞掉恐有國賠問題，才會讓廠商押款放行，後續再行處理。\\xa0但蘇治芬與蒜農嗆，都已經提告，海關卻完全沒有保護蒜農權益，要人民如何相信政府；蘇治芬最後轟，「走著瞧，520後見」，就宣布記者會結束。（黃信維／台北報導）', 'view_cnt': 2762}, {'link': 'http://www.appledaily.com.tw//realtimenews/article/life/20160511/858570/為何男人想找援交妹？一句話引爆網友大戰', 'category': '生活', 'title': '為何男人想找援交妹？一句話引爆網友大戰', 'time': '2016/05/11 12:56', 'summary': '一個問題，引發男女大戰！\\xa0一名網友在臉書「靠北男友」問「男生到底為何想找援交妹啊？不覺得髒嗎？到底心態是什麼？」引發男女網友筆戰，雙方各持己見，在留言區交鋒。\\xa0男性網友認為「因為援交妹不會對你靠北，不會邊跟你做跟你說我朋友買一個包包好好看欸，我朋友買一條手練好好看唷 ，我朋友買新的香水，欸我朋友買新的衣服耶」、「因為直接花錢解決不囉唆」、「一樣給2500~3000元，給女友還是老婆也許嫌少，還會擺一張臭臉，如果給援交妹2500~3000，他們會說謝謝哥哥，也許還可以完美的性服務。那知道答案了嗎？就是得到的感覺不一樣！」\\xa0這種回應讓女網友怒吼「好可怕， 一堆男人女人覺得沒問題。有女朋友的懂什麼叫忠誠嗎？沒女朋友的懂什麼叫自愛嗎？覺得沒問題的女人，你男人找援交記得乖乖不要吵。」、「我看到有人打“各求所需沒甚麼大不了”我覺得很好笑，把自己骯髒行為講得合情合理，那你無法滿足你女友，就自己多戴幾頂綠帽吧，看誰才是傻B！」（即時新聞中心／綜合報導）\\n網友問為何男人想找援交妹？結果引爆網友大戰。翻攝靠北男友', 'view_cnt': 16183}, {'link': 'http://www.appledaily.com.tw//realtimenews/article/local/20160511/858532/私吞國中生車馬費\\u3000亞洲波神前經紀人起訴', 'category': '社會', 'title': '私吞國中生車馬費\\u3000亞洲波神前經紀人起訴', 'time': '2016/05/11 12:56', 'summary': '亞洲波神巧巧（本名王騴之）的前經紀人瑞奇（本名朱俊憲），前年遭一名16歲的國中男生指控對他摸頭性騷擾，雖因事證不足朱男獲不起訴，但國中男生另控告朱男假冒中國湖南衛視選秀人員和他簽約並A走車馬費，台北地檢署認定朱男將廠商付給國中生的8千元據為己有，今依業務侵占罪將他起訴。\\xa0起訴指出，該名國中生和母親指控，31歲的朱男在2014年1月間，向該名長相俊俏的國中男生和其母親表示，自己是湖南衛視委託的選秀人員，若和他簽立經紀約就可以當湖南衛視的藝人，每個月可以領8千元車馬費，事後還和他們延長合約。\\xa0但同年4月間，朱男卻將廠商提供的8千元車馬費匯到自己戶頭，還向國中生的母親謊稱廠商不願贊助，因此沒有拿到車馬費，但國中生的母親向廠商查證發現錢早就匯給朱男，且朱男也並非湖南衛視委託的選秀人員。\\xa0檢方調查，朱男只是口頭說可以使用湖南衛視的資源，但在合約中並未稱受湖南衛視委託，因此認為朱男並未詐騙國中生和母親，詐欺罪部分不起訴朱男；但朱男卻私吞廠商要給國中生的8千元，因此依業務侵占罪起訴朱男。（吳珮如／台北報導）\\xa0【更多司法新聞，請看《蘋果陪審團》粉絲團】', 'view_cnt': 3030}, {'link': 'http://www.appledaily.com.tw//realtimenews/article/forum/20160511/858568/面對死刑犯，也不能違背工作倫理', 'category': '論壇', 'title': '面對死刑犯，也不能違背工作倫理', 'time': '2016/05/11 12:56', 'summary': '作者：王大維（國立屏東大學教育心理與輔導學系助理教授兼社區諮商中心主任）\\xa0昨日鄭捷被執行槍決，之後紛紛有「輔導員」、「教誨師」跳出來訴說他們「輔導」鄭捷的經驗，其中一位具台北市議員身份者不斷說「他好可怕」、「是那種會令她要求應該帶警報器的死囚之一，因為他很可怕，他的一言一行中，他從未認知犯過錯」。另一位具宗教背景的教誨師則是彷彿當起算命師，從字跡測性格，他提到「鄭捷總將自己的名字寫得又大又潦草，除了顯示出他的自我，也顯示他因長期沉迷網路世界，導致似乎不太會寫字。」\\xa0上述兩位應該都是不具備專業心理諮商與輔導訓練的半專業助人工作者，然而其言論會讓民眾混淆，以為他們在做的事情與專業心理諮商與輔導無異。事實上他們兩位主動在臉書貼文或向記者爆料都已經違反了助人工作的大忌-維護當事人的私密。不論當事人是否犯錯，輔導人員與當事人晤談的過程都應該是保密的。這樣的基本倫理原則是心理師、社工、輔導老師等所有助人工作者都該遵守的，即使像張老師或生命線這類的半專業助人工作者（輔導志工）亦然。因為個案把他最私密的內心世界向你傾吐，無疑是因為他信任你；若助人工作者違反倫理、打破保密，這樣的輔導關係是難以建立的。即使鄭捷是死刑犯，也已被槍決，但看在其他受輔者的眼中，也可能會對於輔導人員畏懼與排斥，不敢信任。因此相關專業團體有必要澄清、導正視聽。\\xa0做為心理輔導工作者，當事人願意信任我們，把內心世界與我們分享，甚至有些話是他這一輩子從未向人說過；這是諮商輔導人員的「特權」，但同時這份信任也是沈重的「負擔」。特別是當我們聽到痛苦、黑暗、扭曲的人生故事時，輔導人員內心的掙扎與自我的情緒調適都是非常困難的，不過我們可以尋求專業督導來協助我們處理許多兩難的困境。這種情況在對各類暴力加害人的諮商輔導上特別常見。無論如何，保密是各種輔導人員的天職，唯有將這層保護網架構起來，我們才有足夠的能量去承接當事人心底最深處的情緒。也唯有從這裡開始，行為的改變才有可能展開。\\xa0這樣的原則是無關乎我們眼前這位受輔者是誰、什麼身份、犯過多少錯的。保密當然也有例外，例如當個案明確表示有自殺或殺害他人的意圖，或是違反家庭暴力、性侵害等相關法令。詳細內容可參考「台灣輔導與諮商學會諮商專業倫理守則」\\xa0領有證照的心理師、社工師及學校輔導老師是不可能犯這種最基本的錯誤，心理師法、社工師法、學生輔導法等等也有明文規範，違反者是會受到懲罰。但是半專業助人工作者卻無法可管，只能靠不斷的自我反思、道德約束與專業提升來避免。然而光靠自律有時是不夠的，監獄與其他司法機關應思考發展一套機制，來管理並協助這些教誨師或義務輔導員等半專業助人工作者提升倫理作為。\\xa0期許往後不要再看到有任何助人工作者濫用這份當事人所賦予的特權，來達到吸引鎂光燈、提升自我價值與成就感或其他私人目的。\\xa0《即時論壇》徵稿\\xa0你對新聞是否不吐不快，《蘋果日報即時新聞》新闢《即時論壇》，歡迎讀者投稿，對新聞時事表達意見。來稿請寄onlineopinions@appledaily.com.tw，文長以500到1000字為度，一經錄用，將發布在蘋果日報即時新聞區，唯不付稿酬。\\xa0請勿一稿兩投，本報有刪改權，當天未見報，請另行處理，不另退件或通知。', 'view_cnt': 15452}, {'link': 'http://www.appledaily.com.tw//realtimenews/article/international/20160511/858282/【有片】少女慘遭鬼畜父親性侵\\u3000卻被判鞭刑', 'category': '國際', 'title': '【有片】少女慘遭鬼畜父親性侵\\u3000卻被判鞭刑', 'time': '2016/05/11 12:55', 'summary': '（更新：新增41J配音版影片）\\xa0印度一名年約13歲左右的少女，近日遭到村裡6名長老「判刑」，對這名少女進行鞭刑，但原因竟是她遭到親生父親性侵，卻未報案。\\xa0據美國《華盛頓郵報》報導，這名少女年約13~15歲，沒有上學，她一直待在家裡做家事，偶爾到父親的雜技團裡幫忙或表演，賺取微薄金錢。不過日前她卻慘遭父親性侵，但村裡的長老並沒有保護她，反而稱因為少女未報案，要對她進行鞭刑，於是少女被五花大綁行刑。眾人圍觀看少女被鞭刑，大喊「夠了！夠了！」，卻無人上前制止。\\xa0這位少女的故事，其實只是印度類似案例的冰山一角，雖然近幾年來政府明訂這種私刑是屬於違法，但在印度的鄉村內卻仍不時發生。除了上述的鞭刑，還有所謂的「榮譽殺人」，另外在2014年曾發生過一名女子與村外的一名男子相戀，違反村內規定，於是這名女子被判「姦刑」，也就是讓眾多男子對她輪流性侵。\\xa0在印度，多數遭遇性侵的女子都被迫隱忍吞聲，被逼著與加害人妥協，無法獲得正義與公平，更被造成二次傷害。（施旖婕／綜合外電報導）\\xa0發稿：07:14更新：12:55\\n印度一名年約13歲左右的少女，近日遭到村裡6名長老「判刑」，對這名少女進行鞭刑，但原因竟是她遭到親生父親性侵卻未報案。翻自《華盛頓郵報》', 'view_cnt': 25543}, {'link': 'http://www.appledaily.com.tw//realtimenews/article/local/20160511/858382/鬱女街頭尋短\\u3000新舊割腕痕跡好嚇人', 'category': '社會', 'title': '鬱女街頭尋短\\u3000新舊割腕痕跡好嚇人', 'time': '2016/05/11 12:55', 'summary': '苗栗縣一名罹患嚴重精神憂鬱症的女子（30多歲）太久沒見到男友，以割腕方式引起男友出面關心，警方接獲其男友報案趕到，見女子酒醉、走路搖搖晃晃，她在馬路上情緒激動，不願就醫，男友到場後表示，女友常有脫序行為，已感身心俱疲無法處理，才請警方出面協助。\\xa0警方苦口婆心、動之以情，請她想想家中老母會擔憂，女警魏姿瑜一句「有事情我幫妳！」撼動藍女，讓她情緒漸漸平穩，願意接受警方協助，隨救護車前往醫院救治。（吳傑沐／苗栗報導）\\n女子在警方苦勸下同意到醫院接受治療。吳傑沐翻攝', 'view_cnt': 2400}, {'link': 'http://www.appledaily.com.tw//realtimenews/article/life/20160511/858562/【有片】囂張重機國道狂飆還比中指挑釁', 'category': '生活', 'title': '【有片】囂張 重機國道狂飆還比中指挑釁', 'time': '2016/05/11 12:55', 'summary': '嚇死人了！台北林先生5月9日晚間開車行駛國道一號往台北南京東路方向行駛時，眼前竟出現兩輛機車，其中一輛黃牌大型重機居然囂張的刻意擋在他車前，讓他相當不滿。內政部警政署國道公路警察局表示，機車行駛國道，依《道路交通管理處罰條例》，最高可處6000元罰鍰，民眾可檢舉。\\xa0林先生說，5月9日凌晨許，他要駕車從國道一號汐止交流道南下至內湖交流道，才剛上汐止交流道不久，就發現前方出現兩輛以超過時速90公里行駛的機車，一輛是黃牌大型重機，另一輛是白牌普通重機，黃牌大型重機騎士囂張的刻意擋在他車前，副駕駛座的友人見狀，遂拿起手機錄影，黃牌大型重機騎士疑似是發現有人錄影，竟還比中指挑釁，他氣呼「太囂張！」\\xa0內政部警政署國道公路警察局國道一隊交通組組長游子揚看過影片後表示，機車行駛國道，已違反《道路交通管理處罰條例》，可處3000元以上、6000元以下罰鍰，民眾遇相同狀況，可檢附事證影像向警察機關檢舉。(投訴組／台北報導)\\xa0\\n5月9日零時，國道一號汐止端往南京東路方向，竟有兩輛機車違規行駛在高速公路上。投訴人提供違規行駛在高速公路上的大型重機不但惡意擋在林先生車前，還比中指挑釁。投訴人提供', 'view_cnt': 2605}, {'link': 'http://www.appledaily.com.tw//realtimenews/article/finance/20160511/858571/【快來看片～財長自評幾分？】他請老師打分數', 'category': '財經', 'title': '【快來看片～財長自評幾分？】他請老師打分...', 'time': '2016/05/11 12:55', 'summary': '財政部長張盛和今天很放得開，即將卸任的他，被問及卸任感想，他笑說很輕鬆，請他為自己打個分數，他又打趣說「有人為自己打分數的嗎？」說自己是學生，大家才是他的老師，應由老師打分數。他的畢業感言還說了什麼？快看影片～（財經中心／台北報導）\\xa0\\n財政部長張盛和即將卸任，他說心情很輕鬆。', 'view_cnt': 318}, {'link': 'http://www.appledaily.com.tw//realtimenews/article/local/20160511/858526/ATR瑕疵釀復航空難？\\u3000檢赴長榮模擬測試', 'category': '社會', 'title': 'ATR瑕疵釀復航空難？\\u3000檢赴長榮模擬測試', 'time': '2016/05/11 12:51', 'summary': '復興航空GE235班機去年2月4日墜落基隆河釀43死，《壹週刊》今報導墜毀的 ATR 72-600型客機系統存在重大瑕疵，當2具發動機同時失效時，若駕駛仍然跟著「飛行導引儀」操控飛行，反而會造成失速墜毀。據悉，士林地檢署檢察官黃睦涵為查明相關疑點，本月6日特地前往長榮航空訓練中心，依失事班機黑盒子數據進行模擬測試，但檢方不願進一步說明測試結果。\\xa0飛安會去年7月已先公布復興航空GE235航班墜毀基隆河的「事故事實資料報告」，當中顯示空難2大肇因都與操控駕駛員廖建宗有關，一是飛機起飛滾行4秒、自動起飛動力控制系統出現異常，廖未放棄起飛，二是誤關正常的一號發動機。\\xa0《壹週刊》則報導指出，檢方測試結果發現，ATR72-600型客機在相同失事情況下，出現3大系統瑕疵，包括發動機失效時，自動駕駛系統會解開，駕駛員僅能手動操動、而沒失效的發動機扭力會突然提升，為避免發動機過熱，駕駛需微收油門，但慌亂中可能收錯，嚴重將造成2具發動機同時失效，而最大瑕疵則是，假使2具發動機都失效時，駕駛若依照平常習慣照著「飛行導引儀」的十字座標飛行，反而會導致失速，飛機將完全失控墜機，若駕駛改以目視飛行，才能成功迫降。(顏凡裴／台北報導)\\xa0【更多新聞，請看《蘋果陪審團》粉絲團】', 'view_cnt': 2909}, {'link': 'http://www.appledaily.com.tw//realtimenews/article/local/20160511/858552/鄭捷遺體送中壢\\u3000板殯：家屬與葬儀社秘密協定', 'category': '社會', 'title': '鄭捷遺體送中壢\\u3000板殯：家屬與葬儀社秘密協...', 'time': '2016/05/11 12:50', 'summary': '北捷殺人魔鄭捷昨天晚間遭槍決伏法，遺體昨天從台北看守所載離，卻未按慣例送往最近的新北市板橋殯儀館，而是直奔國道往中壢，一度更傳出是因為板殯冰櫃不足，《蘋果》記者今天實地前往採訪，館方人員喊冤，並開遺體冰藏室供檢視，其實館內還有100多個空的冰櫃，絕對能夠應付，至於為何「不來」的原因，研判是家屬與禮儀社之間的秘密協定，外界不得而知。\\xa0據了解，台北看守所槍決的死刑犯，若非器官捐贈送往指定器官摘除醫院外，幾乎都會送往新北 市板橋殯儀館遺體冰藏室冰存，再由家屬來辦理後事，鄭捷遺體此次未送往板殯，讓館方大呼意外，依有多年處理殯葬業務的人士推斷，已經搬離板橋的鄭捷家屬， 目的就是為了能方便就近處理兒子後事。（突發中心曾佳俊／新北報導）', 'view_cnt': 23765}, {'link': 'http://www.appledaily.com.tw//realtimenews/article/nextmag/20160511/858567/【壹週刊】警破千歲團賭場\\u300090歲賭客腳麻跑不了', 'category': '壹週刊', 'title': '【壹週刊】警破千歲團賭場\\u300090歲賭客腳麻...', 'time': '2016/05/11 12:50', 'summary': '台南市麻豆警分局接獲通報，在油車里一處寺廟旁的廢棄豬舍疑似有人聚賭，警方立即派員埋伏蒐證，果然發現賭博情事，有的幹員躲在悶不透氣的冷凍車內，忍耐超過30度的高溫，有的偽裝成進香客，等到時機成熟，一舉衝入賭場逮人。\\xa030名賭客中，有年輕人看到警方查緝，紛紛逃竄，還是被員警一一逮回，其中也有8、90歲的長者，看到警察，乾脆坐在椅子上，乖乖就逮，因為年紀大行動不方便，但是賭性堅強，拄著拐杖跑到賭場插一腳，警方在現場查獲賭資總計2萬5千元，以及撲克牌、骰子、賭桌等賭具，動用遊覽車將莊家、賭客全部帶回，依賭博罪嫌移送法辦。（撰文:社會組）\\u3000「點我看更多其他壹週刊新聞…」\\n台南警方破獲賭場，賭客多為近百歲老人。（圖：警方提供）', 'view_cnt': 736}, {'link': 'http://www.appledaily.com.tw//realtimenews/article/entertainment/20160511/858496/王子死因未明\\u3000美國緝毒局突襲搜索豪宅', 'category': '娛樂', 'title': '王子死因未明\\u3000美國緝毒局突襲搜索豪宅', 'time': '2016/05/11 12:49', 'summary': '西洋樂壇鬼才「王子」（Prince）逝世3星期，身後仍不平靜，他的驗屍程序已完成，確切死因證明尚未出爐。外界懷疑他服藥過量致死，美國緝毒局（DEA）今天到王子的豪宅兼工作室「派斯利公園」（Paisley Park）搜索，TMZ網站指出，這項搜尋行動由聯邦調查局發動，將查明醫師是否濫開止痛藥，導致王子死亡。\\xa0美國國家廣播公司報導，王子過世時身邊有處方止痛藥，而開給他處方簽的醫師麥可陶德史楚藍寶（Dr. Michael Todd Schulenberg）最近悄悄離開他服務的醫院North Memorial Medical Center，警方日前持搜索證到醫院，要求王子相關的醫療紀錄、文件和照片。\\xa0史楚藍寶4月兩度為王子看病，最後一次是在王子過世前一天，他告訴警方，他幫王子做檢驗，而在王子過世當天，他也到派斯利公園，通知他檢驗結果。他同時坦承開立處方簽給王子。TMZ報導，史楚藍寶最近在醫院的名單中除名，已經不在該單位服務，離開原因不明。（林慧娟／綜合報導）\\xa0\\xa0\\n美國緝毒局今天大陣仗到王子的豪宅兼工作室「派斯利公園」搜索。翻攝TMZ網站王子的豪宅兼工作室「派斯利公園」（Paisley Park）。翻攝TMZ網站', 'view_cnt': 2019}, {'link': 'http://www.appledaily.com.tw//realtimenews/article/entertainment/20160511/858522/【瘋片】異鄉人Tellmeajoke\\u3000大家來笑笑唄', 'category': '娛樂', 'title': '【瘋片】異鄉人Tell me a jok...', 'time': '2016/05/11 12:49', 'summary': '網路興起一位奇葩「異鄉人」，喜歡在臉書分享「Tell me a joke」一日一笑話廣受歡迎，4月底爆紅短短10天光景就增加6萬個讚，除了講笑話專長還有跳舞及饒舌創作，表演free style版《簡單愛》更是笑翻網友。（娛樂中心／綜合報導）\\xa0\\xa0\\n「異鄉人」改編名曲自創舞步搞笑。翻攝YouTube', 'view_cnt': 2995}, {'link': 'http://www.appledaily.com.tw//realtimenews/article/forum/20160511/858563/【公庫】以「正義」為名的槍響\\u3000補償了誰？', 'category': '論壇', 'title': '【公庫】以「正義」為名的槍響\\u3000補償了誰？', 'time': '2016/05/11 12:49', 'summary': '本內容由公庫提供\\xa0文/孔德廉在亂刀揮舞中，他失去了一路陪伴他成長的姊夫，然而在兩年不到的時間內，筆直而迅速的子彈，也轉眼解決了這個奪去姊夫性命的罪犯；身為最應該感到滿足的被害人家屬，他卻認為這種「短期需求」的解決，無疑是自慰式的正義，刺激了所有人對於公理的短暫高潮，政府也迅速了結了重大的治安汙點，但這樣的做法無疑凸顯國家殺人的權力可以無限擴張，更代表政府的法治精神與阿Q式的正義補償相去不遠，「鄭捷的血液只是單純為了政治而流。」....（閱讀全文）', 'view_cnt': 1160}, {'link': 'http://www.appledaily.com.tw//realtimenews/article/politics/20160511/858547/【有片】好友卓冠廷代寫稿？\\u3000洪慈庸：沒有的事', 'category': '政治', 'title': '【有片】好友卓冠廷代寫稿？\\u3000洪慈庸：沒有...', 'time': '2016/05/11 12:48', 'summary': '今日出刊的《周刊王》報導，時代力量立委洪慈庸與台中市新聞局長卓冠廷關係匪淺，不僅有吃飯、出國而已，甚至連洪慈庸的新聞稿，都出自卓冠廷的文筆，卓還會順便指導洪慈庸與助理，對於新聞議題掌控與發佈的技巧。不過洪慈庸上午否認，她說自己的辦公室有很資深的助理團隊，不必請人代筆。\\xa0洪慈庸說，周刊的報導都非事實，不知道為什麼會報導這種奇怪的事。那會特別請教卓冠廷嗎？她說她請教的對象很多。那最近有跟卓冠廷聯絡嗎？她說，今天心情沉重，這題就不回應了。（何哲欣／台北報導）\\xa0\\n洪慈庸否認找卓冠廷代寫新聞稿。唐紹航攝', 'view_cnt': 3967}, {'link': 'http://www.appledaily.com.tw//realtimenews/article/life/20160511/858558/鄭明典示警\\u3000今中午過南部將有一波雷陣雨', 'category': '生活', 'title': '鄭明典示警\\u3000今中午過南部將有一波雷陣雨', 'time': '2016/05/11 12:48', 'summary': '中央氣象局剛剛針對台南、高雄、屏東發布新的即時天氣訊息，指恐有大雨與雷擊，氣象局預報中心主認鄭明典也在臉書指出，有新對流胞在北側出現。中午過後，南部有可能再出現一波雷陣雨。\\xa0鄭明典說，通常一團對流胞擠在一起，新對流胞比較常在南側發展，因為南方氣流通常比較不穩定，但這一次，新對流胞是在北側發展，這比較特殊。原因是鋒面已呈滯留，但是南風在增強，所以不穩定帶稍稍往北擴展，中午過後，南部有可能再出現一波雷陣雨。（生活中心／台北報導）', 'view_cnt': 1680}, {'link': 'http://www.appledaily.com.tw//realtimenews/article/local/20160511/858378/【更新】紅燈高速撞前車\\u30006車撞一團釀1死', 'category': '社會', 'title': '【更新】紅燈高速撞前車\\u30006車撞一團釀1死', 'time': '2016/05/11 12:47', 'summary': '（更新：新增相片和內容）\\xa0今天上午9時許，高雄市燕巢區安招路發生一起死亡車禍，戴姓男子（45歲）一輛黑色小轎車行經路口時，疑似未減速也沒保持安全距離，直接衝撞前方吳姓女車主的銀色小轎車，劇烈的衝擊力把銀車推撞到對向車道，再撞上陳姓男子開的藍色小轎車，肇事車輛則再往前衝撞停等紅燈的3台車才停止。\\xa0意外現場6車撞成一團，肇事車輛撞上小貨車車斗後，還反彈了將近3公尺才停下，可見撞擊力道之大，肇事車嚴重毀損，戴姓男子一度被夾在車內，救出時已沒有呼吸心跳，送醫仍宣告不治，其餘車主則都沒有無礙。\\xa0遭無辜波及的王姓小貨車駕駛說，當時正在等紅燈，先聽到後方一聲劇烈碰撞聲，隨後肇事車輛就撞上他的車後斗，另一位鄭姓車主表示，他聽到撞擊聲後，還從後照鏡瞄了一下，還心裡起禱不要撞過來，沒想到還是被撞上，不過還好沒受傷，算是大幸。（陳宏瑞／高雄報導）\\xa0出版時間：10:12更新時間：12:47\\xa0\\n肇事車輛嚴重毀損。陳宏瑞攝肇事車輛嚴重毀損。陳宏瑞攝被推撞的第一輛車衝到對向車道，撞上對向大型車。陳宏瑞攝肇事現場一片混亂。陳宏瑞攝肇事車輛毀損嚴重，零件散落一地。陳宏瑞攝肇事車輛撞上小貨車車斗後，又反彈了將近3公尺。肇事車輛追撞前方三台停等紅燈的車輛。陳宏瑞攝肇事車輛內血跡斑斑。陳宏瑞攝', 'view_cnt': 9920}, {'link': 'http://www.appledaily.com.tw//realtimenews/article/strange/20160511/858538/他們都怕這一針\\u3000看完有感請分享', 'category': '搜奇', 'title': '他們都怕這一針\\u3000看完有感請分享', 'time': '2016/05/11 12:46', 'summary': '「打針」雖然沒有味道，但還是有些人會怕、有些人不會怕。《美拍》網頁版有支集結網友分享「那群最害怕打針的人」的反應，看完真是令人可愛又心疼。\\xa0在這支一分半的影片中，可以看到打針的恐懼，無論年紀、性別，都會有人害怕，像是已經十幾歲的少女，為了躲避打針不惜曝光。也有小孩針還沒打就直接放聲大哭，對於這些反應網友留言說「哭笑不得」、「我也好怕！一看見針就全身起雞皮疙瘩」、「實在感同身受」。(葉國吏/綜合報導)\\n一針打下去，大男孩直接目瞪口呆。翻攝網頁小女孩還沒打就先哭了。翻攝網頁', 'view_cnt': 3930}, {'link': 'http://www.appledaily.com.tw//realtimenews/article/politics/20160511/858482/【有片】520就職主舞台被批醜\\u3000民進黨：再做修改調整', 'category': '政治', 'title': '【有片】520就職主舞台被批醜\\u3000民進黨：...', 'time': '2016/05/11 12:44', 'summary': '更新：新增影片\\xa0520總統副總統就職府外慶祝大會主舞台，遭外界批評「很醜」。總統副總統就職相關活動籌備委員會證實，主舞台設計將做調整。民進黨媒創中心副主任詹賀舜今表示， 舞台設計從公佈的那天起，有很多不同意見提出來，「對我們來講，意見是創新的養份之一」，所有會參考這些意見，而設計師也會做修改和調整。\\xa0詹賀舜說，人民與多元的原素是不會變，這是大會的主軸，而設計師會在這個基礎下，參考各方意見再去調，也敬請期待。\\xa0據了解，520就職府外主舞台之前定版的圖樣，事前並未給總統當選人蔡英文先看過，記者會公佈後，蔡是透露新聞才知道主舞台的設計。（林修卉／台北報導）\\xa0出版：12:08更新：12:44\\xa0\\xa0\\n520總統副總統就職府外慶祝大會主舞台，遭外界批評「很醜」。民進黨提供總統府前已開始搭建520主舞台的鐵架。林啟弘攝總統府前已開始搭建520主舞台的鐵架。林啟弘攝民進黨媒創中心副主任詹賀舜。林修卉攝', 'view_cnt': 3954}, {'link': 'http://www.appledaily.com.tw//realtimenews/article/nextmag/20160511/858559/【壹週刊】轎車撞翻機車\\u3000網友卻只看到白皙長腿', 'category': '壹週刊', 'title': '【壹週刊】轎車撞翻機車\\u3000網友卻只看到白皙...', 'time': '2016/05/11 12:40', 'summary': '最近網路上瘋傳兩張車禍照片，一輛白色TOYOTA轎車，險撞進超商內，卻把門口七、八輛機車撞成一團，相當混亂，警方到場處理，發現是一名穿著灰色小洋裝，露出修長美腿的正妹，女駕駛發現自己闖禍，神情緊張，看到警察，趕緊到車內拿證件，這時眼尖的網友看到亮點…\\xa0這起車禍，引起上千網友紛紛留言，到底車禍原因是啥沒人關心，反而是女駕駛成了亮點，原本事故的留言卻成歪樓，大家關注的焦點全在女子身上，有人留言：「你們會原諒車主嗎？我選擇原諒，給年輕人一個機會」，也有網友霸氣的說：「遇上正妹撞上我的車，修車費我來出」。（撰文:社會組）\\u3000「點我看更多其他壹週刊新聞…」\\n網友留言蓋歪樓，如果車被她撞，寧願自己出修車費。（圖：翻攝Duke li）', 'view_cnt': 2675}, {'link': 'http://www.appledaily.com.tw//realtimenews/article/international/20160511/858549/西藏昌都丁青縣5.5地震\\u3000有人受傷', 'category': '國際', 'title': '西藏昌都丁青縣5.5地震\\u3000有人受傷', 'time': '2016/05/11 12:39', 'summary': '中國地震台網今證實，西藏昌都市丁青縣今上午9時15分發生芮氏規模5.5地震，震央深度7公里，目前已知當地有人員受傷及道路塌方。新華網報導，西藏自治區地震局指出，地震震央位於丁青縣嘎塔鄉，震央附近有兩座較大的寺廟，當地道路出現塌方，目前當地電信均暢通，距離鄉政府10公里左右的嘎塔鄉果東村有人受傷。（大陸中心／綜合外電報導）', 'view_cnt': 342}, {'link': 'http://www.appledaily.com.tw//realtimenews/article/forum/20160511/858551/【公庫】邱顯智：馬政府操弄死刑政治鄭性澤活著回家是奇蹟', 'category': '論壇', 'title': '【公庫】邱顯智：馬政府操弄死刑政治 鄭性...', 'time': '2016/05/11 12:39', 'summary': '本內容由公庫提供\\xa0文 / 邱顯智 （鄭性澤案義務辯護律師）過去近五年來，我大概都是週五下午去律見鄭性澤，而馬政府過去幾年來操作的死刑政治衝民調，也都在週五的下午。有一次，很巧，鄭的室友也是我另一個案件的當事人，我問他說，鄭性澤平日在舍房都在做甚麼？他說，「如果看守所放封，提早收封，鄭就會很緊張，因為通常提早收封就是要執行死刑。」「 這樣阿澤就死不瞑目了！」....（閱讀全文）', 'view_cnt': 971}, {'link': 'http://www.appledaily.com.tw//realtimenews/article/life/20160511/858553/德翔臺北賠償金額\\u3000蔣萬安憂只有10分之1', 'category': '生活', 'title': '德翔臺北賠償金額\\u3000蔣萬安憂只有10分之1', 'time': '2016/05/11 12:39', 'summary': '立院衛環委員會今邀相關部會做「德翔臺北」輪船體移除作業是否符合海洋環境保護需求及後續污染賠償作業報告，立委蔣萬安關注賠償事宜，他指出，過去1977年科威特籍油輪布拉格號於基隆外海觸礁淹沒，超過3萬噸的原油外洩，我們求償10億，最後只賠1億，2001年希臘籍阿瑪斯號在鵝鑾鼻外海油污，打國際官司求償3億5千萬，最後和解只有3千4百萬，兩起案例都只賠10分之1。\\xa0漁業署副署長王正芳說，漁業署跟新北市政府成立專案小組，定期召開會議就漁民受損部分協助求償，其中直接損失部分，也就是漁船漁具受污染，目前有40艘漁船向船東德翔海運公司委託的中華海事檢定社申請會勘及採樣，共提出300多萬元，目前有兩艘已做確認，各賠3萬多元。\\xa0間接損失部分，因為漁民無法作業等不易舉證，漁會已委託學者做調查評估，預定9月底完成。另生態影響評估，漁業署也已委託學者與水產試驗所合作辦理評估，作為後續海域生態受損求償及後續復育的依據。（洪敏隆／台北報導）', 'view_cnt': 525}, {'link': 'http://www.appledaily.com.tw//realtimenews/article/local/20160511/858470/霸超商店車格一個月\\u3000警說「無法處理」', 'category': '社會', 'title': '霸超商店車格一個月\\u3000警說「無法處理」', 'time': '2016/05/11 12:38', 'summary': '雲林縣虎尾鎮光明路一家24小時便利超商，業者在店前準備停車格方便駕駛購物，不料一輛三菱轎車卻連停一整個月，車主也沒有去移動車，最近南部天氣 熱，車輛疑似電線短路，喇叭響個不停，業者報警後，警方聯繫車主後，對方還是不處理，熱心網友拍影片上傳臉書，表示「誰的車快過來牽別太無恥停了一個月現在還在亂叫……。」\\xa0便利超商向報警處理，警員到場根據車牌號碼查詢，由店員說，警察也請車主來開走，車主就是不來，我們也是沒辦法。\\xa0虎 尾警分局虎尾派出所所長鄭智仁表示，警員通知住斗六市的車主，將該車開回，車主向警方表示會去處理，但是過了好幾天，該車還是停在那裏。\\xa0鄭智仁說，該車沒有影響出入，也沒有影響交通安全，加上未失竊，多次以電話通知車主前往處理，但車主每次都說要去處理，就是不見 處理，車主可能涉及民事的損害他人權益，但店家不願意提告，只希望盡快將車開離，目前持續通知車主前往處理。（李政遠／雲林報導）\\xa0\\n民眾將該車拍影片貼臉書社團。有車主將便利超商前停車位，當成自家停車位，一停就是一個月沒移動。李政遠攝', 'view_cnt': 6631}, {'link': 'http://www.appledaily.com.tw//realtimenews/article/international/20160511/858546/中國要求別出席520\\u3000美眾議員霸氣回應', 'category': '國際', 'title': '中國要求別出席520\\u3000美眾議員霸氣回應', 'time': '2016/05/11 12:38', 'summary': '美國聯邦眾議院外交委員會亞太小組主席邵建隆10日在美國指出，中國駐美國大使館曾要求他不要赴台灣參加總統當選人蔡英文的就職典禮，他已回絕。\\xa0中央社報導，邵建隆（Matt Salmon）10日傍晚參加在國會舉行的台灣美食活動上向台灣記者透露，要他別出席蔡英文的就職，「這是不可能發生的」。\\xa0邵建隆並指出，美國應派「現任官員、國務院更高層級的官員」參加蔡英文的就職典禮，而非前任官員，但中國對美施加極大的壓力。美國日前已宣布指派前貿易代表柯克率團出席蔡的就職典禮。密西西比州眾議員祖柏（Hank Zuber）先前也曾指中國勸他不要出席。（石秀娟／綜合外電報導）', 'view_cnt': 3862}, {'link': 'http://www.appledaily.com.tw//realtimenews/article/strange/20160511/858536/【旅途中】好耳熟喔！越南歌謠聽起來像……', 'category': '搜奇', 'title': '【旅途中】好耳熟喔！越南歌謠聽起來像……', 'time': '2016/05/11 12:37', 'summary': '前陣子到越南下龍灣搭郵輪，工作人員在晚餐後，一時興起，唱起了一段傳統的越南歌，乍聽覺得似曾相似，好像某種台灣歌謠，不知道大家覺得有像嗎？趕快按下影片，一起來聽聽看！\\xa0更多精采訊息請看吃喝玩樂蘋果花\\xa0想要知道更多親子旅遊地點，歡迎加入「蘋果花客製親子遊」社團\\xa0\\n搭下龍灣郵輪聽見了似曾相似的越南歌……。愛玩姊攝。', 'view_cnt': 1234}, {'link': 'http://www.appledaily.com.tw//realtimenews/article/strange/20160511/857882/【有片】肉肉好悶肉肉不說\\u3000多肉植物養護五撇步', 'category': '搜奇', 'title': '【有片】肉肉好悶肉肉不說\\u3000多肉植物養護五...', 'time': '2016/05/11 12:35', 'summary': '在這一波療癒植物風潮下，許多人都購入了模樣可愛的多肉植物，但除了熱愛豔陽的仙人掌型多肉植物外，台灣悶熱的夏季可是厚葉型多肉植物的大敵，一不注意就容易爛根死亡。為了幫肉肉們平安度過夏天，請務必Follow以下五大撇步。(李佩珊／台北報導)\\xa01.將葉片上的水珠吹落：避免水珠因為陽光照射而急速加溫，造成葉片曬傷。\\xa02.不要在白天澆水：為了避免水分因為高溫在根部悶燒，要在晚上澆水才對。\\xa03.厚葉型多肉植物移至陰涼處：不同於仙人掌類的多肉植物喜歡日曬，厚葉型多肉植物在夏日應該移到陰涼處。\\xa04.將介質換成鬆軟的石頭：排水性良好的小碎石，可以避免根部因為不通風而悶壞。\\xa05.厚葉型多肉植物澆水量減半：台灣的夏天十分濕熱，所以澆水量變成原本的一半或是1/3。\\xa0圖片、資料來源：http://succuland.com.tw/\\xa0蘋果副刊每天推出【愛飛遜】流行訊息，想看更多流行資訊，請上副刊Vintage School @古庫社團，或上吃喝玩樂蘋果花粉絲團\\xa0\\xa0\\xa0\\n為了不讓可愛的肉肉被炎炎夏日悶死，你需要知道這五個照顧撇步。', 'view_cnt': 1088}, {'link': 'http://www.appledaily.com.tw//realtimenews/article/sports/20160511/858403/【有片】雙星飆58分\\u3000雷霆客場強拔馬刺聽牌', 'category': '體育', 'title': '【有片】雙星飆58分\\u3000雷霆客場強拔馬刺聽...', 'time': '2016/05/11 12:35', 'summary': 'NBA西區季後賽次輪聖安東尼奧馬刺vs.奧克拉荷馬雷霆系列賽關鍵第5戰，雷霆在雙星威斯布克(Russell Westbrook)、杜蘭特(Kevin Durant)合攻58分下，以95比91強拔馬刺，搶先在系列戰以3勝2敗聽牌。\\xa0雷霆首節打完6分領先，但馬刺新一哥雷納德(Kawhi Leonard)第2節單節拿下15分逆轉局面，讓馬刺半場打完反以48比43領先。雷霆第3節在威斯布克、杜蘭特單節合攻19分下縮小差距，並在第4節開打沒多久就讓比分重陷拉鋸。\\xa0雙方至比賽倒數1分鐘左右仍是90比90平手僵局，雷霆在杜蘭特2罰命中後佔據主動，威斯布克連投帶罰3分打底定勝基。\\xa0威斯布克此役不僅攻下35分冠絕全場，另有11籃板、9助攻，差1助攻就完成大三元，他另有2抄截。杜蘭特也貢獻23分、6籃板、5助攻。雷霆除2人之外僅先發中鋒亞當斯(Steven Adams)得分達雙位數12分。\\xa0馬刺有3人得20分以上，一哥雷納德26分、6籃板、4助攻、5抄截，大前鋒阿德里奇(LaMarcus Aldridge)和後衛格林(Danny Green)均繳20分，但他們也是全隊僅有3名得分達2位數者。阿德里奇另貢獻9籃板，但他全場21投僅6中，命中率僅28.57%有失水準。馬刺昔日三巨頭鄧肯(Tim Duncan)、帕克(Tony Parker)、吉諾比利(Manuel Ginobili)此役僅合得17分。(王毓健／綜合報導)\\n【想知道更多，一定要看……】 【有片】柯神再創紀錄\\u3000史上首位全票當選MVP 【有片】柯瑞女兒大鬧MVP頒獎典禮現場 雷霆杜蘭特(Kevin Durant)與雷納德(Kawhi Leonard)。美聯社', 'view_cnt': 16615}, {'link': 'http://www.appledaily.com.tw//realtimenews/article/nextmag/20160511/858530/【壹週刊】五種必備單品\\u3000穿出獨特個性風', 'category': '壹週刊', 'title': '【壹週刊】五種必備單品\\u3000穿出獨特個性風', 'time': '2016/05/11 12:35', 'summary': '比起清純柔弱的文青，個性風女孩有著更強烈的存在感，本次我們送上個性風5種必備單品，帥一下是必要的呀。（撰文：邱冠旭 攝影：邱之嶔）\\xa0「更多其他壹週刊內容請點我」', 'view_cnt': 655}, {'link': 'http://www.appledaily.com.tw//realtimenews/article/animal/20160511/858169/你看過嗎？天竺鼠跳躍的瞬間', 'category': '動物', 'title': '你看過嗎？天竺鼠跳躍的瞬間', 'time': '2016/05/11 12:34', 'summary': '4肢短短的天竺鼠，大家平時對牠的印象就是肥肥的在地上跑來跑去，但其實天竺鼠也是具備跳躍能力的！臉書頻道Break5/10上傳了一段影片，慢動作的畫面捕捉到豚鼠跳過兩塊地毯的接縫處的景象，從影片中看來天竺鼠的動作其實非常俐落喔！ (程加敏/綜合報導)\\xa0資料來源: https://www.facebook.com/Break/videos/10154214927142792/更多內容請上毛愛蘋果粉絲團\\xa0\\xa0\\n跳躍成功！(翻攝Break)', 'view_cnt': 1211}, {'link': 'http://www.appledaily.com.tw//realtimenews/article/strange/20160511/858054/\\u200b想吃不能吃的樂高食物！', 'category': '搜奇', 'title': '\\u200b想吃不能吃的樂高食物！', 'time': '2016/05/11 12:33', 'summary': '樂高是不少大小朋友的興趣，用各種零件拼湊出自己喜歡的世界，是讓不少人著迷的原因，樂高高手Tary在他的Flickr上發表了一系列的樂高食物，高還原的食物模樣，讓人超想咬一口！（張家瑋／綜合報導）\\xa0圖片來源：https://www.flickr.com/photos/127525305@N02/sets/72157665113357492來手寫時代分享另類手寫吧！更多有趣的報導，請上吃喝玩樂蘋果花粉絲團\\xa0\\xa0\\n天丼的炸蝦看起來超酥脆！牽絲披薩超多料。來份甜點吧！可愛的蛋糕也是樂高做的。連香蕉也可以做出來！', 'view_cnt': 613}, {'link': 'http://www.appledaily.com.tw//realtimenews/article/strange/20160511/858515/只要小改造\\u3000家的氣氛更溫馨', 'category': '搜奇', 'title': '只要小改造\\u3000家的氣氛更溫馨', 'time': '2016/05/11 12:33', 'summary': '想要維持舒適的居家空間，除了把用不到的東西丟掉，也可試著動手小改造，不僅能廢物利用，家裡也煥然一新。Distractify就分享了家中隨手可得的燈泡、相框等小物，手作感讓家中感覺更溫馨了呢！（劉欣欣／綜合報導）\\xa0圖片翻攝自Distractify\\xa0更多有趣新知快上蘋果花愛Shopping副刊中心粉絲團：吃喝玩樂蘋果花\\xa0\\xa0\\n廢棄的透明燈泡，放入水跟植物，夏天看起來十分清爽。小孩長大了，玩具不一定要通通丟掉，「分屍」當書擋更有創意。酒喝完了，把軟木塞集合就能變成特色地墊。想要有美麗燭台，就用鐵罐小改造吧！小巧糖果盒最適合收納髮夾、鈕釦等小物，再貼上紙膠帶，就變成彩色收納盒。粗曠的輪胎噴上白漆，也能化身優雅的鏡子。', 'view_cnt': 947}, {'link': 'http://www.appledaily.com.tw//realtimenews/article/entertainment/20160511/858487/陳沂槓小豬敗訴\\u3000吳宗憲酸「筆干王」催繳30萬', 'category': '娛樂', 'title': '陳沂槓小豬敗訴\\u3000吳宗憲酸「筆干王」催繳3...', 'time': '2016/05/11 12:33', 'summary': '活動主持人陳沂指羅志祥（小豬）疑用肉體斂財、「亞洲空幹王」和賣淫小模有什麼兩樣等語，遭羅志祥提告，台北地院昨判陳沂需賠羅志祥30萬元，並登報道歉。曾被她利嘴掃到的吳宗憲，今po文說：「這一下可好啦！官司輸了，判賠30萬，還要道歉！要去澳洲之前，記得要先買單喔！」附上P成狗臉的自拍照，戲謔意味濃厚。\\xa0吳宗憲稱陳沂是亞洲筆干（幹）王，勸她：「憲哥希望妳可以發自內心的改變自己，在藝能界有才藝就不怕沒出路，主持更不是耍耍嘴皮子而已……心境一打開！就能夠有機會改變！看妳囉……」不過陳沂已表明會上訴到底。（吳惠菁／綜合報導）\\xa0【想知道更多，一定要看……】小豬被辱「肉體斂財」勝訴\\u3000陳沂判賠30萬登報道歉\\xa0\\n吳宗憲好聲好氣勸陳沂。翻攝吳宗憲臉書', 'view_cnt': 7091}, {'link': 'http://www.appledaily.com.tw//realtimenews/article/forum/20160511/858544/【公庫】從黑夜到清晨死刑改變了什麼？', 'category': '論壇', 'title': '【公庫】從黑夜到清晨 死刑改變了什麼？', 'time': '2016/05/11 12:33', 'summary': '本內容由公庫提供\\xa0文 / 盧映潔（中正大學法律系教授）我大四畢業那年暑假，在理律事務所打工，小小的工讀生在訴訟組。前一年發生了馬曉濱等三位當時所謂的反共義士，因生活困頓，策劃綁架了長榮集團張榮發的兒子，勤贖五千萬。縱使沒有殺害肉票，也沒有凌虐肉票，也釋放了肉票，但因為當時的懲治盜匪條例第二條的規定，意圖勒贖而擄人，唯一死刑，再加上解嚴不久，社會治安變壞，司法政策上對於重大犯罪要求速審速結，所以馬曉濱等三人很快三審死刑定讞。近二十幾年過去了，法律事務所的小小工讀生變成法律系刑法老師，變化大嗎？一點都不。若我沒記錯，那時馬曉濱案的判決書寫著：若不處以死刑，不足以維護治安，將使社會上的有錢人人人自危....（閱讀全文）', 'view_cnt': 923}, {'link': 'http://www.appledaily.com.tw//realtimenews/article/strange/20160511/858121/【有片】以下這4件事\\u3000最易引爆怒火\\u3000\\u3000\\u3000', 'category': '搜奇', 'title': ' 【有片】以下這4件事\\u3000最易引爆怒火\\u3000\\u3000...', 'time': '2016/05/11 12:30', 'summary': '你是否有遇過一些很沒品或沒公德心的人，他們做了一些事情讓你氣到很想揍他們兩拳，但卻不知道兇手是誰呢？或者是碰到一些讓你內心十把火在燒卻不知道能對誰發火的事情呢？快來看看我們蒐集的這些行為，是否也會讓你怒火中燒吧！（陳映蓁／台北報導）\\xa0快一起來手寫時代分享吧！更多資訊請上吃喝玩樂蘋果花\\xa0\\n【電梯裡有人放屁】明知道放屁是生理現象，但在密閉空間內有人放屁內心還是會有很多把火在燒啊…翻攝《櫻桃小丸子》【下雨天雨傘被偷走】到底是誰這麼缺德啦！偷拿別人的傘是要我怎麼回家啦？翻攝《蠟筆小新》【摩托車被亂移位】你不能因為不想讓自己的愛車淋雨，就把我的摩托車移去淋雨啊！翻攝bikesindia.org【限量商品售完】為什麼輪到我就賣光了…我只能看著空空的購物車哭泣了。翻攝kirarian.com', 'view_cnt': 897}, {'link': 'http://www.appledaily.com.tw//realtimenews/article/property/20160511/858415/小英擬調高遺贈稅率\\u3000房市重擊？', 'category': '地產', 'title': '小英擬調高遺贈稅率\\u3000房市重擊？', 'time': '2016/05/11 12:30', 'summary': '新政府有意提高遺贈稅率，財政部委外調查報告日前建議，改變現行單一稅制為2、3級累進制，報告中試算各種稅率模組，最高稅率落在15~40%，免稅額度也建議調整。台北大學財政暨金融研究中心主任劉彩卿認為，稅率目前調高至20%可行，建議新政府試行後，再評估狀況調整。「蘋果掀房事」直播中：http://goo.gl/Z9ZI9u\\xa0當初很多人認為，遺贈稅率從50%降至10%，是造成房價高漲的兇手，劉彩卿表示，這是部分原因，但同時大環境有美國寬鬆政策，造成熱錢湧入亞洲，尤其進到台灣來，房價高漲並非單一稅制問題，而是跟整個景氣循環有關。\\xa0針對未來遺贈稅率調整對房市景氣影響，劉彩卿觀察，調升遺產稅可能會打擊民眾財富累積意願，使得不動產需求下降；但另一方面，民眾可能重新考慮資產配置，比如不想存錢，轉而投資房地產，帶動需求。劉彩卿說：「短期對房價抑制效果，我持保留態度，長期則須搭配全球景氣循環再觀察。」（陳世峰／台北報導）\\xa0更多房市訊息，請上蘋果地產王粉絲團\\n台北大學財政暨金融研究中心主任劉彩卿認為，房價高漲並非單一稅制問題，應搭配全球景氣循環觀察。翻攝影片', 'view_cnt': 2881}, {'link': 'http://www.appledaily.com.tw//realtimenews/article/life/20160511/858513/芒果荔枝釋迦都吃不到了\\u3000接下來是什麼？', 'category': '生活', 'title': '芒果荔枝釋迦都吃不到了\\u3000接下來是什麼？', 'time': '2016/05/11 12:30', 'summary': '今年初的霸王寒流加3月連日降雨影響，不僅台南芒果產量銳減，許多歸仁釋迦果農也向立委王定宇陳情，指出釋迦果樹不但無法開花結果，甚至整棵樹受損枯死，王定宇指出，將協助果農爭取中央認定補助，盼讓農民損失程度降低。\\xa0釋迦去年8月才因颱風造成落果嚴重，台南被劃定為現金救助災區，每公頃9萬元補助農民，沒想到今年現在正是要人工授粉的季節，果農卻發現不少果樹陸續枯死，讓果農心急如焚；歸仁區崙頂里長徐進德指出，年初寒害造成釋迦果樹不開花，嚴重影響授粉，再加上春季豪雨，讓果樹受損，甚至出現枯死，必須整棵刨除，「農損不是只有一時，會影響後續收成狀況」。\\xa0歸仁區公所指出，釋迦農損狀況已向市府農業局通報，後續將由農委會和農改場等專家會勘，若確認是屬於延遲性農損，將可申請補助。（李恩慈／台南報導）\\xa0\\n立委王定宇聽取歸仁釋迦果農意見，將協助爭取補助。翻攝畫面', 'view_cnt': 3255}, {'link': 'http://www.appledaily.com.tw//realtimenews/article/life/20160511/858541/國中會考周末登場\\u3000想金榜題名有8撇步', 'category': '生活', 'title': '國中會考周末登場\\u3000想金榜題名有8撇步', 'time': '2016/05/11 12:30', 'summary': '國中會考本周六、日登場，衛福部國健署今表示，考生考前生活應注意8撇步，有助發揮最佳實力。國健署表示，考生考前應規律作息、睡眠充足，每天須有7到8小時睡眠，且為有良好睡眠品質，就寢前切忌使用3C產品，利用輕音樂及伸展運動幫助入睡；考試當天則應穿著淺色、寬鬆、透氣衣物，減少考試時高溫造成的不適。\\xa0國健署表示，考前仍應保持運動習慣，建議每天應運動30分鐘，或做肩頸伸展動作，減緩不適久坐讀書造成的肩頸僵硬或痠痛。若考試壓力引起心情焦慮，可採聽音樂、散步等方式紓緩情緒，保持平常心才能有最佳表現。\\xa0飲食方面，考生吃東西前應勤洗手，避免食用生食或不新鮮食物，並多攝取蔬菜水果，減少高油、高鹽、高糖及油炸食物等不易消化的食物，以及茶、咖啡等刺激物，減少腹瀉、發燒、腸胃不適等症狀。（沈能元／台北報導）\\xa0金榜題名8撇步\\xa01.規律作息睡眠足\\xa02.適當運動好腦力\\xa03.紓壓保持平常心\\xa04.舒適穿著好涼爽\\xa05.補充水分防中暑\\xa06.健康飲食少油膩\\xa07.注重衛生勤洗手\\xa08.考場規則要清楚\\xa0</iframe', 'view_cnt': 580}, {'link': 'http://www.appledaily.com.tw//realtimenews/article/local/20160511/858449/「滿足性幻想」\\u3000她嗲聲誘男客掏錢判無罪', 'category': '社會', 'title': '「滿足性幻想」\\u3000她嗲聲誘男客掏錢判無罪', 'time': '2016/05/11 12:29', 'summary': '台中市一名32歲張姓已婚女子在電信公司「大中華生活網」從事接線聊天工作，與來客30歲彭姓單身男子結識後交往，事後彭男指控張女為吸引他打電話聊天為她拉抬業績，謊稱她未婚、身兼模特兒，年僅23歲，並編造家人欠會錢、母親簽賭留債、學貸無法償還等理由，騙他匯款100萬元並買3支手機、1台平板電腦、1個LV包給張女，檢察官依詐欺罪將張女起訴，但台中地院認定銀行領款單據無法證明彭男受騙，今判張女無罪。\\xa0另一方面，彭男認為受騙後，曾怒發簡訊給張女「我要拿你女兒陪葬、抵債」、「你逼我的、一定先動小孩」等，結果也遭張女提告恐嚇，最後同樣被台中地檢署起訴，且因台中地院審理期間，彭男屢傳不到，已被法院發佈通緝。\\xa0張女出庭辯稱，她從來沒有說過家人欠會錢、母親簽賭留債、學貸無法償還等理由，向彭男要錢，一切都是彭男自己給的，且金額也沒有彭男所說的100萬元這麼高。\\xa0張女律師也為張女辯護，強調張女是色情電話接線生，工作服務的內容，就是要滿足來電男客的性幻想，所以在電話中佯裝自己年輕貌美、身材曼妙，進而與來電男客調情，沒有什麼詐術可言，且張女收受手機、平版電腦、化妝品、衛生棉等，都是彭男希望私下聯繫而主動贈與，不算詐欺。\\xa0法官查出彭男提出向銀行領款時間與匯款給張女的時間不符，且領款單據不能證明錢交給張女，加上雙方事後僅以10萬元達成和解，與彭男指控被騙金額相差太大，有違常理，因此判張女無罪。仍可上訴。（鄧玉瑩／台中報導）\\xa0【更多新聞，請看《蘋果陪審團》粉絲團】', 'view_cnt': 6687}, {'link': 'http://www.appledaily.com.tw//realtimenews/article/finance/20160511/858528/噩耗3連發\\u3000智慧手機更糟的還在後頭', 'category': '財經', 'title': '噩耗3連發\\u3000智慧手機更糟的還在後頭', 'time': '2016/05/11 12:27', 'summary': '彭博報導指出，亞洲供應商又傳來3個噩耗，預示智慧手機市況將會更糟，包括iPhone組裝廠和碩（4938）周二公布未達獲利預期，並表示4月營收銳減16%；日本背光模組大廠Minebea落後於自己所做的營收與純益預測；日本顯示器（JDI）表示獲利快速惡化，恐出現年度虧損，並取消發放原先承諾的股息。\\xa0凱基證券分析師Richard Ko說：「智慧手機產業今年將持續走疲，競爭將加劇，價格很可能進一步走跌。」\\xa0全球智慧手機面臨2007年iPhone問世來最糟糕的擴張速度。中國本是智慧手機強大成長引擎，而今卻面臨歷史性的洗牌，對當地消費者而言，智慧手機已不再新鮮，大部分國內品牌鎖定中低價產品，消費者換機速度比不上蘋果或三星用戶。（于倩若／綜合外電報導）\\xa0\\xa0\\n全球智慧手機市場正快速流失成長動能。翻攝彭博網站', 'view_cnt': 4805}, {'link': 'http://www.appledaily.com.tw//realtimenews/article/property/20160511/858481/馬總統居住政策只拿F\\u3000巢運要小英別跳票', 'category': '地產', 'title': '馬總統居住政策只拿F\\u3000巢運要小英別跳票 ...', 'time': '2016/05/11 12:25', 'summary': '520新總統即將上任，巢運團體今早公布馬政府的居住政策成績單，指出馬總統初上任時，承諾推動居住改革，但8年來，房價飆漲，弱勢民眾還是難覓安居之處，巢運批評，「馬總統居住政策分數只有F，不合格，宣示大於實踐！」\\xa0巢運記者會砲轟，馬政府強推合宜宅等錯誤政策，被少數財團綁架、出現弊端，且改革決心不足，無能有效推動「社會住宅」，嚴重忽視「租屋市場及住安全」，實價登錄做半套，尤其預售屋及租屋市場資訊都不實、不夠透明。\\xa0巢運列出7大科目，馬總統分數最低就是「租屋市場」、「居住安全及品質」，以及「弱勢居住」、「社會住宅」。崔媽媽基金會執行長呂秉怡建議蔡英文上任後，能針對多戶房東適用消保法，其次用政策引導愛心房東加入弱勢租屋，同時運用包租包管方案，管理租屋市場，並訂定啟動租賃專法。」\\xa0消費者文教基金會房屋委員會委員林旺根也指出，國內發生0206地震導致維冠大樓倒塌，浮洲合宜宅也被震裂，誰來讓民眾知道住宅是否安全、結構設計是否合法，「新政府應針對住宅品質保證立法，保固保證住宅性能，並針對舊建物強制健檢、新建物增設履歷。」\\xa0針對蔡英文提出興建20萬戶社會住宅政策，巢運呼籲她上任後絕對不能跳票，盡速修正住宅法、健全社宅興辦機制，強化中央和地方整合。\\xa0台北大學不動產與城鄉環境系教授彭建文表示，新政府要「新、社、租、稅、產」，應修法加強整體住宅政策、都市更新，20萬社會住宅不能跳票，提供多元租屋選擇，將持有稅提高、減少空屋，強化居住相關產業管制，包括施工品質、不實廣告剔除及金融管制等，「新總統上任後，盡速提出新版的居住政策相關法令，9月送往立法院。」（于靜芳／台北報導）\\xa0「蘋果掀房事」每周三中午12點半，午餐加好料更多房地產新聞，請參考蘋果地產王粉絲團\\n巢運團體今舉辦記者會，點出馬政府居住政策缺失，並提出新政府應努力的方向。于靜芳攝', 'view_cnt': 767}, {'link': 'http://www.appledaily.com.tw//realtimenews/article/finance/20160511/858529/這些人願意在半年掏錢內買VR', 'category': '財經', 'title': '這些人願意在半年掏錢內買 VR', 'time': '2016/05/11 12:25', 'summary': '虛擬實境 （VR）裝置話題夯，Newzoo 調查12個西方國家顯示，未來6個月將會採購VR裝置，12%美國人傾向購買，其中西班牙民眾最願意掏錢，佔比達16%。而加拿大遊戲玩家，最願意掏錢購買超過600美元的VR產品。\\xa0近期調查資料顯示，從12個西方市場來看，考量對於偷窺這檔事的文化態度，以及對虛擬實境產品的認知度，其實市場對於VR 需求高於預期。 相關調查包括12個歐洲市場2000各、美國3000名受訪者，16% 西班牙人願意在半年內購買，12%的美國人有意願、英國人購買意願比例也有10%，加拿大約7%，荷蘭人意願最低4%。\\xa0至於談到願意花多少預算購買VR裝置，以VR主要目標族群遊戲玩家來看，雖然加拿大人傾向購買比例僅有7%，不過他們可願意花上超過600 美元。（陳俐妏/ 台北報導）', 'view_cnt': 1191}, {'link': 'http://www.appledaily.com.tw//realtimenews/article/sports/20160511/858523/首爾網球挑戰賽\\u3000莊吉生單打晉16', 'category': '體育', 'title': '首爾網球挑戰賽\\u3000莊吉生單打晉16', 'time': '2016/05/11 12:24', 'summary': '臺灣2名好手在總獎金10萬美元(約327.2萬臺幣)並招待住宿、ATP(Association of Tennis Professionals，男子職業網球協會)首爾挑戰賽單打首輪出賽，世界第311莊吉生以6比3、6比2擊敗美國選手薩基西恩(Alexander Sarkissian)，晉級16強；世界第225陳迪則以3比6、3比6敗給世界第121斯洛伐克選手拉奇科(Lukas Lacko)，遭淘汰。(王毓健／綜合報導)', 'view_cnt': 367}, {'link': 'http://www.appledaily.com.tw//realtimenews/article/local/20160511/858517/吳宗憲加封陳沂新稱號：去澳洲前記得先買單', 'category': '社會', 'title': '吳宗憲加封陳沂新稱號：去澳洲前記得先買單', 'time': '2016/05/11 12:23', 'summary': '主持人陳沂日前在臉書發文酸藝人羅志祥（小豬）「應只要來簽名會，都可拍照跟抱抱啊！三拍五抱根本是用肉體來斂財，「亞洲空幹王」這行徑跟賣淫小模有什麼兩樣？」結果陳沂昨天被判賠30萬須登報道歉。對此綜藝天王吳宗憲特地為陳沂在臉書發文。\\xa0吳宗憲封她「亞洲筆干王」，並說「這一下可好啦！官司輸了，判賠三十萬，還要道歉！要去澳洲之前，記得要先買單喔！憲哥希望你可以發自內心的改變自己，在藝能界有才藝就不怕沒出路，主持更不是耍耍嘴皮子而已⋯⋯心境一打開！就能夠有機會改變！看妳囉⋯⋯」。(葉國吏/綜合報導)', 'view_cnt': 8157}, {'link': 'http://www.appledaily.com.tw//realtimenews/article/life/20160511/858525/台鐵車長打盹被舉發\\u3000司機員揭血汗內幕', 'category': '生活', 'title': '台鐵車長打盹被舉發\\u3000司機員揭血汗內幕', 'time': '2016/05/11 12:23', 'summary': '日前台鐵一名車長在斗六開往台中的台鐵區間車上，列車長坐在車廂內打盹被旅客拍下照片舉發。臉書上「火車司機的日常」因此PO文叫屈，指雖然執勤時不該這樣大剌剌的找「空檔」休息，但若去了解台鐵行車人員(司機和車長)排班，就會知道真的血汗，以司機工作班來說，睡不飽的班不在少數，只睡個4、5小時，隔天繼續當牛來操。\\xa0「火車司機的日常」臉書更貼出2月份一張工作班表，曾有當天凌晨0時才下班，當天4時12分就上班，貼文更指出，不然就是司機工作班晚上7、8時到，隔天凌晨3、4時就要起床上班，表面上有足夠時間可去睡眠，但實際上因為前幾天都工作到半夜12時、1時的，哪可能今天突然7、8時下班就能馬上睡著，大多都是在床上翻來覆去到10、11時才勉強睡著，更慘的可能還要翻到12時才睡著。\\xa0「火車司機的日常」臉書貼文指出，不正常的工作時間，一直都是他們這些行車人員的困擾，可是上面的人有在乎這一點嗎？沒有！！反正對長官來說，只要「表面上」沒違法就好，誰管你的「休息品質」好不好？司機整路硬撐到下班，才能好好的休息，那要是撐不下去呢？這種只看表面的排班方式，才是「置行車安全不顧！」\\xa0台鐵駕駛透過「火車司機的日常」臉書更爆料，指除排班問題外，工班內容也一直都有問題，許多深夜的長途列車，如果是自強號也就算了，停的站少、速度快，跑一趟大約3小時，勉強還能撐一下，可是連莒光號也這樣搞，這才是想害人，一趟七堵─彰化的莒光號，少說都要跑4小時以上，不要說是半夜到站，或是凌晨3、4時起床上班，在這種精神不濟的狀況下，要硬撐4小時以上的長時間開車，都想拿牙籤來撐住眼皮了！向上面抗議、反應，這種深夜的長途車應該要在中途(新竹)就換人開，結果都是被駁回，反正出事有司機扛責任，打不到遠在天邊的長官。\\xa0台鐵則回應表示，不可否認目前台鐵駕駛休息時間會有斷斷續續或輪夜班情況，工作班會有長有短交錯，整體平均每天工時為6小時40分，但也因為司機員較辛苦，因此待遇也較其他職務高，目前排班會透過機班工時協商會訂出相關規則方向後，再由各段各自去協商，另還有機班排班小組來排班，各種類型包括夜班等都會公平來輪，且除依法規規定工時排班外，列車上也有無人警醒裝置，司機員若睡著或昏迷超過60秒或90秒沒有腳踩該裝置，列車就會自動煞停下來，不會有安全問題。(生活中心／台北報導)', 'view_cnt': 7705}, {'link': 'http://www.appledaily.com.tw//realtimenews/article/forum/20160511/858519/習大大棒打蔡英文', 'category': '論壇', 'title': '習大大棒打蔡英文', 'time': '2016/05/11 12:22', 'summary': '作者：羅伯特亞當斯(部落格作家)\\xa0蔡總統如果決定祭出「空心話術」，在520就職演說，模糊處理兩岸關係，忽略九二共識和一個中國原則，中共的大棍棒勢必要揮向蔡政府，兩岸關係會進入新的賽局競爭。兩岸之間，一旦扯上國際空間，蔡政府所要的伸張主權、國際參與，勢難兩全，必得對抗中共死硬派的封殺與凌遲。今年WHA入場與會能否順利，要看中國臉色，蔡政府要做好最壞局勢的應對策略，我方代表團很有可能連出國搭機都不能成行，與會證件拿不到，想參與、抗議，門兒都沒有。\\xa0習大大與傳統的中共領導人有一點大不相同，他曾經是文革受害者，應該可以體驗中共一黨專政下，人治迂腐的不可避免與特權劣行。從習大大上臺後，對內積極打貪反腐，對外全球趴趴走，主動拜訪與維繫外交，出訪次數已經創下紀錄，所有作為彰彰顯示他不是傳統的共產黨領導人。對於如何處理臺灣，習大大應該有他真實的想法與策略。只可惜，面對鷹派的掣肘，不能放軟處理兩岸關係，也不能輕易放棄九二「攻勢」。\\xa0九二共識已經成為中共抑制民進黨的政治攻勢，兩岸版的一中原則就是九二共識，如果民進黨不接受，中國立馬擺出國際版一中原則，也就是聯合國2758號決議。除了臺灣22個隨時可以斷交的邦交承認關係外，2758號決議不僅限縮臺灣的國際參與，也會強逼民進黨務實面對國際上的一中原則。美國歡迎臺灣參與WHA，但是對於2758號決議，也僅是毫無新意重申一中政策、三個公報、臺灣關係法而已，形式上支援臺灣的力道很弱，僅僅敷衍應付。蔡政府要看到這項警訊，中共要耍弄大棍棒，不會虛張聲勢，說說罷了。\\xa0臺灣關係法沒有承認臺灣當局是個主權獨立的國家，頂多可以視為獨立的政治實體。蔡總統要維持現狀，不走向臺獨或統一，這確實是臺灣人民透過選舉想要表達的意願和聲音。倘若九二共識可以談判成為不統、不獨、不武的政治共識，在國際上即使要求臺灣承認一個中國原則，蔡政府應該務實面對，甚至接受與默認。\\xa0蔡政府未當家前，可以同時陳義伸張主權和國際參與，但是當家執政後，面對中共強力打壓，伸張主權一定做不到。從兩岸版一中原則到國際版一中原則，中國釋出的訊息已經很清楚明白，不容許操弄申論題，只能面對選擇題。如此殘酷事實，需要蔡政府在520之後，誠實面對與告知國人如何應對。\\xa0臺南登革熱疫情嚴重時，國人看不到過去七年參與WHA的實質效益何在。為了不到六天的會期和短短五分鐘的國際能見度，而要飛蛾撲火、迎接中國的大棍棒，是否值得？蔡總統請再想想。\\xa0《即時論壇》徵稿\\xa0你對新聞是否不吐不快，《蘋果日報即時新聞》新闢《即時論壇》，歡迎讀者投稿，對新聞時事表達意見。來稿請寄onlineopinions@appledaily.com.tw，文長以500到1000字為度，一經錄用，將發布在蘋果日報即時新聞區，唯不付稿酬。\\xa0請勿一稿兩投，本報有刪改權，當天未見報，請另行處理，不另退件或通知。', 'view_cnt': 3462}, {'link': 'http://www.appledaily.com.tw//realtimenews/article/nextmag/20160511/858524/【壹週刊】偷美妝品太專注\\u3000被店員盯上還不知', 'category': '壹週刊', 'title': '【壹週刊】偷美妝品太專注\\u3000被店員盯上還不...', 'time': '2016/05/11 12:22', 'summary': '高雄一名65年次的胡姓女子，跑到連鎖藥妝店行竊商品，由於她手法相當罕見，不易被發現，讓店家損失不少，還好機警的店員發現該名女子不斷地翻動商品，行為詭異，仔細查看，終於發現女嫌犯的行竊手法，報警逮人，果然在她身上搜出價值420元的美妝商品，人贓俱獲。\\xa0女子帶著帽子來到藥妝店，在化妝品區徘徊，拿起試用商品塗塗抹抹，鎖定要下手的目標後，竟然拆開外盒，將唇膏放進包包裡，為了避人耳目，還將空盒移往櫃架後方，企圖掩飾犯行。\\xa0胡女用類似手法，偷了唇膏、粉餅、眉線筆，因為她知道，美妝外盒有防盜條碼，出門口時會觸動警報器作響，原本以為這樣可以瞞天過海，沒想到機警的女店員早就發現胡女的行為，當女嫌犯假裝像是整理貨品的樣子，將偷走商品的空盒往內移動時，可能是偷的太專注，完全沒察覺，後方已經有店員雙手叉腰，看在眼裡。\\xa0警方調查，胡姓女子有10多項竊盜前科，根本就是名慣竊，貪小便宜行竊，自以為聰明可以躲避店裡的防盜器，卻逃不過店員的法眼。（撰文:社會組）\\u3000 「點我看更多其他壹週刊新聞…」\\n女賊專注偷美妝品，店員站在背後她也不知道。（圖：翻攝畫面）', 'view_cnt': 643}, {'link': 'http://www.appledaily.com.tw//realtimenews/article/strange/20160511/857968/學會真玉辨別\\u30003秒打趴假玉業者', 'category': '搜奇', 'title': '學會真玉辨別\\u30003秒打趴假玉業者', 'time': '2016/05/11 12:21', 'summary': '很多人喜歡玉，除了外觀的美麗讓人喜愛，所蘊含的能量甚至是能改變壞磁場，都是玉的魅力所在。不過玉與石頭只在一線之隔，坊間所販賣的玉石、配飾，真真假假，有時民眾以高價位購買，殊不知買到的是假玉，而其實，根據行家蘇君綾說法，只要3秒鐘，就能辨別玉石的真假，依照花費時間的多寡排序，列舉以下4種快速檢測方式，讓您不再當冤大頭。（蔡惠嵐／台中報導）\\xa0臉書必加社團「蘋果花愛Shopping」副刊中心粉絲團：吃喝玩樂蘋果花\\xa0\\xa0\\n2.輕敲法：把玉器用線或鍊子懸空掛起，再用硬物輕輕敲擊玉石，真玉聲音清脆悅耳，假玉則相對沉悶乾澀。(5秒鐘)3.視察法：將玉器朝向光明處(如陽光處、燈光下)，若顏色剔透，色澤均勻分布為真玉。(5~10秒鐘)4.水鑑別法：將一滴水滴在玉上，如果呈露珠狀久不散開者為真玉，水滴快速消失為假玉。(10秒鐘)', 'view_cnt': 3666}, {'link': 'http://www.appledaily.com.tw//realtimenews/article/finance/20160511/858520/焦點股～本季營運看俏\\u3000廣達邁向月線', 'category': '財經', 'title': '焦點股～本季營運看俏\\u3000廣達邁向月線', 'time': '2016/05/11 12:20', 'summary': '廣達（2382）公布第1季財報，每股純益0.94元，預期本季筆電及非筆電業務都可維持10%季成長，今天股價表現強勢，漲幅逾3%，逼近月線53.6元關卡。\\xa0廣達第1季獲利與去年同期相當，儘管本季為電子業淡季，不過，廣達預期本季筆電、非筆電業務都可維持10%成長，董事長林百里也看好雲端業務，預估每年可維持3成成長幅度，今天股價逆勢走高，往月線邁進。（陳建彰／台北報導）', 'view_cnt': 366}, {'link': 'http://www.appledaily.com.tw//realtimenews/article/forum/20160511/858519/習大大棒打蔡英文', 'category': '論壇', 'title': '習大大棒打蔡英文', 'time': '2016/05/11 12:22', 'summary': '作者：羅伯特亞當斯(部落格作家)\\xa0蔡總統如果決定祭出「空心話術」，在520就職演說，模糊處理兩岸關係，忽略九二共識和一個中國原則，中共的大棍棒勢必要揮向蔡政府，兩岸關係會進入新的賽局競爭。兩岸之間，一旦扯上國際空間，蔡政府所要的伸張主權、國際參與，勢難兩全，必得對抗中共死硬派的封殺與凌遲。今年WHA入場與會能否順利，要看中國臉色，蔡政府要做好最壞局勢的應對策略，我方代表團很有可能連出國搭機都不能成行，與會證件拿不到，想參與、抗議，門兒都沒有。\\xa0習大大與傳統的中共領導人有一點大不相同，他曾經是文革受害者，應該可以體驗中共一黨專政下，人治迂腐的不可避免與特權劣行。從習大大上臺後，對內積極打貪反腐，對外全球趴趴走，主動拜訪與維繫外交，出訪次數已經創下紀錄，所有作為彰彰顯示他不是傳統的共產黨領導人。對於如何處理臺灣，習大大應該有他真實的想法與策略。只可惜，面對鷹派的掣肘，不能放軟處理兩岸關係，也不能輕易放棄九二「攻勢」。\\xa0九二共識已經成為中共抑制民進黨的政治攻勢，兩岸版的一中原則就是九二共識，如果民進黨不接受，中國立馬擺出國際版一中原則，也就是聯合國2758號決議。除了臺灣22個隨時可以斷交的邦交承認關係外，2758號決議不僅限縮臺灣的國際參與，也會強逼民進黨務實面對國際上的一中原則。美國歡迎臺灣參與WHA，但是對於2758號決議，也僅是毫無新意重申一中政策、三個公報、臺灣關係法而已，形式上支援臺灣的力道很弱，僅僅敷衍應付。蔡政府要看到這項警訊，中共要耍弄大棍棒，不會虛張聲勢，說說罷了。\\xa0臺灣關係法沒有承認臺灣當局是個主權獨立的國家，頂多可以視為獨立的政治實體。蔡總統要維持現狀，不走向臺獨或統一，這確實是臺灣人民透過選舉想要表達的意願和聲音。倘若九二共識可以談判成為不統、不獨、不武的政治共識，在國際上即使要求臺灣承認一個中國原則，蔡政府應該務實面對，甚至接受與默認。\\xa0蔡政府未當家前，可以同時陳義伸張主權和國際參與，但是當家執政後，面對中共強力打壓，伸張主權一定做不到。從兩岸版一中原則到國際版一中原則，中國釋出的訊息已經很清楚明白，不容許操弄申論題，只能面對選擇題。如此殘酷事實，需要蔡政府在520之後，誠實面對與告知國人如何應對。\\xa0臺南登革熱疫情嚴重時，國人看不到過去七年參與WHA的實質效益何在。為了不到六天的會期和短短五分鐘的國際能見度，而要飛蛾撲火、迎接中國的大棍棒，是否值得？蔡總統請再想想。\\xa0《即時論壇》徵稿\\xa0你對新聞是否不吐不快，《蘋果日報即時新聞》新闢《即時論壇》，歡迎讀者投稿，對新聞時事表達意見。來稿請寄onlineopinions@appledaily.com.tw，文長以500到1000字為度，一經錄用，將發布在蘋果日報即時新聞區，唯不付稿酬。\\xa0請勿一稿兩投，本報有刪改權，當天未見報，請另行處理，不另退件或通知。', 'view_cnt': 3476}, {'link': 'http://www.appledaily.com.tw//realtimenews/article/nextmag/20160511/858524/【壹週刊】偷美妝品太專注\\u3000被店員盯上還不知', 'category': '壹週刊', 'title': '【壹週刊】偷美妝品太專注\\u3000被店員盯上還不...', 'time': '2016/05/11 12:22', 'summary': '高雄一名65年次的胡姓女子，跑到連鎖藥妝店行竊商品，由於她手法相當罕見，不易被發現，讓店家損失不少，還好機警的店員發現該名女子不斷地翻動商品，行為詭異，仔細查看，終於發現女嫌犯的行竊手法，報警逮人，果然在她身上搜出價值420元的美妝商品，人贓俱獲。\\xa0女子帶著帽子來到藥妝店，在化妝品區徘徊，拿起試用商品塗塗抹抹，鎖定要下手的目標後，竟然拆開外盒，將唇膏放進包包裡，為了避人耳目，還將空盒移往櫃架後方，企圖掩飾犯行。\\xa0胡女用類似手法，偷了唇膏、粉餅、眉線筆，因為她知道，美妝外盒有防盜條碼，出門口時會觸動警報器作響，原本以為這樣可以瞞天過海，沒想到機警的女店員早就發現胡女的行為，當女嫌犯假裝像是整理貨品的樣子，將偷走商品的空盒往內移動時，可能是偷的太專注，完全沒察覺，後方已經有店員雙手叉腰，看在眼裡。\\xa0警方調查，胡姓女子有10多項竊盜前科，根本就是名慣竊，貪小便宜行竊，自以為聰明可以躲避店裡的防盜器，卻逃不過店員的法眼。（撰文:社會組）\\u3000 「點我看更多其他壹週刊新聞…」\\n女賊專注偷美妝品，店員站在背後她也不知道。（圖：翻攝畫面）', 'view_cnt': 644}, {'link': 'http://www.appledaily.com.tw//realtimenews/article/strange/20160511/857968/學會真玉辨別\\u30003秒打趴假玉業者', 'category': '搜奇', 'title': '學會真玉辨別\\u30003秒打趴假玉業者', 'time': '2016/05/11 12:21', 'summary': '很多人喜歡玉，除了外觀的美麗讓人喜愛，所蘊含的能量甚至是能改變壞磁場，都是玉的魅力所在。不過玉與石頭只在一線之隔，坊間所販賣的玉石、配飾，真真假假，有時民眾以高價位購買，殊不知買到的是假玉，而其實，根據行家蘇君綾說法，只要3秒鐘，就能辨別玉石的真假，依照花費時間的多寡排序，列舉以下4種快速檢測方式，讓您不再當冤大頭。（蔡惠嵐／台中報導）\\xa0臉書必加社團「蘋果花愛Shopping」副刊中心粉絲團：吃喝玩樂蘋果花\\xa0\\xa0\\n2.輕敲法：把玉器用線或鍊子懸空掛起，再用硬物輕輕敲擊玉石，真玉聲音清脆悅耳，假玉則相對沉悶乾澀。(5秒鐘)3.視察法：將玉器朝向光明處(如陽光處、燈光下)，若顏色剔透，色澤均勻分布為真玉。(5~10秒鐘)4.水鑑別法：將一滴水滴在玉上，如果呈露珠狀久不散開者為真玉，水滴快速消失為假玉。(10秒鐘)', 'view_cnt': 3666}, {'link': 'http://www.appledaily.com.tw//realtimenews/article/finance/20160511/858520/焦點股～本季營運看俏\\u3000廣達邁向月線', 'category': '財經', 'title': '焦點股～本季營運看俏\\u3000廣達邁向月線', 'time': '2016/05/11 12:20', 'summary': '廣達（2382）公布第1季財報，每股純益0.94元，預期本季筆電及非筆電業務都可維持10%季成長，今天股價表現強勢，漲幅逾3%，逼近月線53.6元關卡。\\xa0廣達第1季獲利與去年同期相當，儘管本季為電子業淡季，不過，廣達預期本季筆電、非筆電業務都可維持10%成長，董事長林百里也看好雲端業務，預估每年可維持3成成長幅度，今天股價逆勢走高，往月線邁進。（陳建彰／台北報導）', 'view_cnt': 366}, {'link': 'http://www.appledaily.com.tw//realtimenews/article/strange/20160511/858118/【有片】小時候最期待的校外教學！\\u3000好懷念啊～', 'category': '搜奇', 'title': '【有片】小時候最期待的校外教學！\\u3000好懷念...', 'time': '2016/05/11 12:19', 'summary': '還是小小孩的時候，總是最期待校外教學，除了當天不用上課外，還可以帶著零食和同學歡樂的遊玩，遠足總是小孩們心目中的最快樂的上學日，還記得你曾為遠足做些什麼準備嗎？還記得那種期待遠足的心情嗎？讓我們一起來回味吧。（林婉珺／綜合報導）\\xa0你也有校外教學的回憶可以說嗎？可以寫下來到手寫時代社團分享更多有趣報導，請上吃喝玩樂蘋果花粉絲團\\xa0\\xa0\\n要去遠足啦！豪嗨森～～～翻攝《小丸子》【遠足前一天拖著爸媽買零食】一定要帶很多很多的零食和好朋友一起分享啊！翻攝www.dianliwenmi.com【睡前興奮地把東西準備好】睡不著就是睡不著，總會興奮地期待明天的郊遊！翻攝《小丸子》【在遊覽車上和好友大唱歌】在遊覽車上跟好朋友高歌一曲也是校外教學必做的事情之一啊！資料照片可惜天下不會有白吃的午餐，出去玩是要付出代價的，像是交張落落長的學習單……翻攝appnews.fanswong.com', 'view_cnt': 730}, {'link': 'http://www.appledaily.com.tw//realtimenews/article/local/20160511/858478/找藥師借牌詐百萬\\u3000名醫遭起訴', 'category': '社會', 'title': '找藥師借牌詐百萬\\u3000名醫遭起訴', 'time': '2016/05/11 12:18', 'summary': '北市大直區知名的診所「高固廉聯合診所」旗下的「元氣藥局」，涉嫌找藥劑師借牌開藥，詐領健保費，遭健保署查出後移送法辦，台北地檢署查出，診所醫師高固廉夥同岳母等人，每個月以1萬元向張姓女藥師借用藥師執照開藥，從2011年12月間至2014年7月間詐領保費188萬多元，因此依詐欺、偽造文書罪起訴高男等5人。\\xa046歲的高固廉曾任林口長庚醫院急診室主治醫師，專長慢性病、外傷等，2009年在大直開業後，因治療科目完備，而小有名氣。\\xa0北檢查出，該診所附設的元氣藥局，由高固廉和岳母經營，依規定依藥局必須有藥師執業，高等人因此涉嫌從2011年12月間至2014年7月間，以1萬元向張姓女藥師借牌，登記為該藥局藥師，但張女根本沒在藥局工作，而是由診所行政人員和其他藥師，在病患的處方箋中記載由張女配藥，再請領健保的藥事服務費，3年來共詐領188萬多元。\\xa0檢方認定，高男和顏姓岳母以及藥局的許姓藥師、高姓行政人員和張女是共犯，依詐欺取財、偽造文書罪起訴5人。（吳珮如／台北報導）\\xa0【更多司法新聞，請看《蘋果陪審團》粉絲團】', 'view_cnt': 2225}, {'link': 'http://www.appledaily.com.tw//realtimenews/article/forum/20160511/858514/面對兩岸，台灣不能自說自唱', 'category': '論壇', 'title': '面對兩岸，台灣不能自說自唱', 'time': '2016/05/11 12:17', 'summary': '中美與兩岸之間一個巧合的類似情況\\xa0作者：朱駿（獨立評論人）\\xa0中美之間因大陸的快速崛起，國際資源有限，雙方處於「修昔底德陷阱」(Thucydides\\'s trap)，雖然大陸方面一再淡化這種陷阱的存在，多方舉證歷史事實，說明這個強權之間惡性競爭的局面是可以避免的，但實際事態的發展顯然無法說服美方。之所以如此，在於理論與實踐之間的差異所致。\\xa0美國何嘗不知道，大陸這樣體量的國家一旦崛起，必然要排擠美方原先掌控的國際權力與資源的機會。好比一個人從小長大了，必然要換大件的衣服一樣，但一家人可用的布料只有一塊，小弟長大了當然要分大哥的布料，天公地道。大陸崛起所帶來的對國際資源與權力的現實需求是美國不能否定的生存權利，美國很難完全排擠與封鎖的。也就是說，美國勢必要讓出一些國際權力與資源，這是幾十年來一路發展的國際現實所呈現的事實。\\xa0然而，站在美國的立場，天下沒有白吃的午餐，大陸要的，美國不能白送，必須靠本事才能拿得走且抓得穩。美國也會擔心，一旦讓大陸予取予求，美國在國際間的力量將會潰敗崩盤，屆時，既有的全球秩序被破壞了，新的秩序還來不及建設完成，全球將陷入混亂，立即影響美國的現實利益，也會直接衝擊美方國內政治與經濟。這是任何一位美國政治人物不會准許的。只有一種情況他們不得不准，就是大陸的實力夠強，強到可以幫助建立有效的新秩序，在實力夠強的情況下幫助建立的新秩序當然就必然會有不同的內涵，這必然是靠各種實力鬥爭的結果，美國恐怕也無法不認。證諸人類歷史，這恐怕不能僅僅依靠多少飛彈或第五代戰機做得到的，最終是捨軟實力莫由。偏偏，軟實力主要是由價值觀念與政治制度的吸引力構成，這是大陸迄今為止最大的罩門，相信大陸領導人心中有數。\\xa0兩岸之間也有一個類似的情況，根據台灣長期以來的民調顯示，絕大多數的民眾不願統一，偏向台灣獨立的比例已超過半數，但大家都很清楚，客觀的情勢越來越不利於台灣，台灣的經濟已經深深依賴大陸，中美間軍事與綜合國力差距日漸縮小，令台灣想要依賴美國的夢想越來越沒有現實的條件，成本也會越來越高，在經濟長期持續下滑，見不到新的熱帶氣旋可以將台灣經濟拉起的前景下，依賴美國更不是台灣可以期盼或擔負得起的。在這個彼長我消的明顯趨勢對照之下，台灣遲早有一天會被統一，只要頭腦正常，具有常識判斷的水平，都可以做出這個結論。這也就是說，台灣其實有一大批人明知道統一的進程不可阻擋，但好像類似美國，對大陸發出天下沒有白吃午餐的信息，要吃午餐(要統一)，必須要拿出真本事，不能由台灣白給。簡言之，這是告訴大陸，若不經一番鬥爭獲勝，想統一台灣，門兒都沒有。可惜，在兩岸之間，台灣是極弱的一方，與中美之間美國是優勢的一方，情況不同。\\xa0中美與兩岸之間似乎都存在一個引誘雙方使用角力爭勝的現實格局，這種格局最容易發展成自我實現的陷阱，似乎已經沒道理可講，勝者為王，欲勝唯力，這是台海或南海風雲中最具危險的潛在勢能，這股能量還在激化之中。《紐約時報》5月9日報導，美國太平洋海軍司令哈里斯曾公開表示，太平洋美軍必須做好「今夜就開戰」的準備，哈氏的發言其實代表一大批鷹派內心的想法。大陸代表官方口徑的學者倪永傑5月10日亦有「歷史證明，兩岸和平發展現狀基於\"九二共識\"，有則續、無則毀。歷史證明，兩岸和平發展現狀基於\"九二共識\"，有則續、無則毀。」的發言。情勢不斷在激化，可見一般。\\xa0不過，前述兩個情況還有一個明顯的重大差異。在國際間，戰略的時間與空間深長，要增長實力與持盈保泰，軟實力是最終的決定力量。在兩岸間，格局本身就給不出類似國際上那麼深長之戰略時間與空間，在以唯力是從的較量中，台灣沒有戰略縱深，只需常識水平就能判斷。大陸若能展現軟實力固然是上上策，但在國際局勢激盪之下，台灣內部有一大群人想要配合美國力量，將兩岸之間的距離越拉越遠，恐怕大陸要對台發展軟實力的時間與條件已經不充分，而且明顯會被壓縮，要統一的方法恐怕越來越會走向以經濟為核心內涵的巧實力，乃至以軍事為核心內涵的硬實力恐怕都會被超乎預期地提上日程。屆時，台灣必然受重傷，不知美國人會在哪裡？可靠嗎？看看烏克蘭就可知道答案。\\xa0台灣要跳說這種不利於自己的格局，必須避免走向軍事硬實力與經濟巧實力的對決格局，而是大膽地走向以軟實力為核心內涵的政治談判，這種談判非一朝一夕可成，也許沒有十年八年難以竟其功，台灣應爭取在這談判期間說服大陸進行政治體制改革，台灣亦應自我提升民主政治的素質，幫助大陸有序地進行政治體制改革，解決兩岸最大差異的根本原因，如此能消除台灣民眾對大陸的恐懼。不過，這有兩個基本前提，要在一個中國之內找戰略支撐點，同時獨立自主，不受美方脅制，馬習會的成局應可看出，只要台灣堅持，美國也莫可奈何！而且，獨立自主才能為台灣創造左右逢源的最大利益。\\xa0台灣當局如果看不清這個戰略形勢，找到可以與大陸以政治談判方式解決爭議的戰略支撐點，獨立自主地有序推動政治談判，所有現在被提到的「在中華民國體制下」、「維持現狀」、「南向政策」、「亞投行」、「一帶一路」、「憲法一中」、「一中各表」、「兩岸監督條例」、「林中森條款」、「兩岸和平協議」等等都會是自說自唱、自欺自誤的假議題，吵乾唾液，只會令自己身體更虛弱罷了，前面所列的沒有一條在中長期趨勢下可以站得住，甚至有短期就會出問題者。「不會有意外」只會是一個懵懂無知的美好空想！\\xa0客觀的情勢如此，歷史正確道路的門徑很窄，時間窗口也有限，就看台灣自己的主觀抉擇了。不要說沒有機會幹大事，老抱怨別人打壓，應先問問自己頭腦是否清楚，如果行如鴕鳥，天亦難助，何況是向來自私自利的老美！別傻了！\\xa0《即時論壇》徵稿\\xa0你對新聞是否不吐不快，《蘋果日報即時新聞》新闢《即時論壇》，歡迎讀者投稿，對新聞時事表達意見。來稿請寄onlineopinions@appledaily.com.tw，文長以500到1000字為度，一經錄用，將發布在蘋果日報即時新聞區，唯不付稿酬。\\xa0請勿一稿兩投，本報有刪改權，當天未見報，請另行處理，不另退件或通知。', 'view_cnt': 1191}, {'link': 'http://www.appledaily.com.tw//realtimenews/article/finance/20160511/858510/新台幣午盤~32.54元\\u3000貶值0.7分', 'category': '財經', 'title': '新台幣午盤~32.54元\\u3000貶值0.7分', 'time': '2016/05/11 12:16', 'summary': '新台幣兌美元匯率今日因韓元小幅升值帶動，早盤同呈小幅走升，不過因股市表現不佳、外資續匯出，台幣兌美元匯率由升轉貶。\\xa0截至午盤為止，台幣兌美元匯率暫收32.54元對1美元，貶值0.7分，台北外匯交易經紀公司成交量暫收4.11億美元。（王立德/台北報導）', 'view_cnt': 300}, {'link': 'http://www.appledaily.com.tw//realtimenews/article/property/20160511/858414/遺贈節稅撇步\\u300012點半「掀房事」直播', 'category': '地產', 'title': '遺贈節稅撇步\\u3000 12點半「掀房事」直播', 'time': '2016/05/11 12:15', 'summary': '520新政府上台，準總統蔡英文有意調增遺贈稅率，在2009年稅率從50%降至10%，造成熱錢湧入台灣，推升房價，同時也掀起一波房屋贈與潮，《蘋果掀房事》今天中午12點半邀請住商不動產企研室主任徐佳馨，與正業代書事務所地政士鄭文在，在節目中剖析遺贈稅率對房市的影響，也教你怎麼做才能省稅！。\\xa0根據內政部統計，2009年贈與移轉棟數為3.32萬棟，到2015年攀升至5.58萬棟，大華不動產估價師聯合事務所所長張義權表示，遺贈稅基以土地公告現值跟房屋評定現值課徵，因兩者較市價低，相對來說更省稅。但張義權提醒，在今年房地合一新制後，這樣做已經行不通。\\xa0張義權指出，使用贈與、繼承取得，實價登錄是以土地公告現值及房屋評定現值登記，未來交易的所得稅將較買賣取得多很多。舉例來說，1間市價1000萬元的房子，土地公告現值500萬元、房屋評定現值100萬元，實價登錄即為600萬元，假定以1100萬元賣出，國稅局認定獲利為500萬元，若以市價出售，認定獲利僅100萬元，兩者相差400萬元！\\xa0現在最佳的省稅策略，張義權建議善用夫妻1年各220萬元，合計440萬元的免稅額，每年用現金贈與給下一代，等到錢達到市價的價格，再讓小孩用買賣的方式取得房子，才可以幫小孩省掉以後賣掉的所得稅。想了解更多內容？快看《蘋果掀房事》直播中：http://goo.gl/Z9ZI9u（陳世峰／台北報導）\\xa0更多房市訊息，請上蘋果地產王粉絲團\\xa0\\n新政府有意提高遺贈稅率，對房市有何影響？請鎖定中午12點半「蘋果掀房事」直播。資料照片2009年遺贈稅率調降，贈與移轉棟數逐年攀升，從2009年的3.32萬棟，攀升到2015年5.58萬棟。翻攝影片大華不動產估價師聯合事務所所長張義權建議，應讓小孩以市價跟父母買房子，才能省未來交易的所得稅。翻攝影片', 'view_cnt': 11140}, {'link': 'http://www.appledaily.com.tw//realtimenews/article/international/20160511/858509/【央廣RTI】洩密大傷巴拿馬事務所擬告記者聯盟', 'category': '國際', 'title': '【央廣RTI】洩密大傷  巴拿馬事務所擬...', 'time': '2016/05/11 12:15', 'summary': '本內容由中央廣播電臺提供\\xa0\\xa0 \\xa0 \\xa0 \\xa0因為巴拿馬文件(Panama Papers)外洩案被拖入金融醜聞的巴拿馬法律事務所莫薩克馮賽卡(Mossack Fonseca)10日表示，將對國際調查(International Consortium of Investigative Journalists, ICIJ)採取法律行動。莫薩克馮賽卡發表聲明說，已要求ICIJ停止公布巴拿馬文件中的資料。\\xa0 \\xa0 \\xa0 \\xa0ICIJ是在9日將可供搜尋的資料庫放在網上，讓大眾獲得查詢巴拿馬文件中20多萬筆祕密海外公司紀錄的管道，包括隱藏在匿名空殼公司後的個人和企業名稱，而且這只是莫薩克馮賽卡1,150萬筆外洩文件一部分。莫薩克馮賽卡指出，ICIJ曾表示，他們是經由電腦駭客取得這些資料。這家巴拿馬法律公司說，除了非法取得之外，這些資料中也充滿不實的錯誤內容。\\xa0 \\xa0 \\xa0 \\xa0巴拿馬文件由於披露出全球富豪和罪犯，是如何藉由這樣的代理人公司規避法務和稅務官員追查，以隱匿和轉移其資產，其中包括重要的政治人物和社會名流，因此在全球引發軒然大波。(繼續閱讀)', 'view_cnt': 498}, {'link': 'http://www.appledaily.com.tw//realtimenews/article/local/20160511/858463/火鍋店小開撒錢毆人\\u3000法官怒斥「錢猶如刀」', 'category': '社會', 'title': '火鍋店小開撒錢毆人\\u3000法官怒斥「錢猶如刀」', 'time': '2016/05/11 12:14', 'summary': '基隆市知名火鍋店「義美火鍋」黃姓小開（40歲），上月5日晚間8時許，前往女友上班的養生館接對方下班，得知女友與徐姓女同事有嫌隙，黃男為了替女友抱不平，走進店內拍桌怒罵5字經，之後拿出千元鈔票當眾往徐女頭上砸，嗆聲說：「我是義美火鍋店的兒子，很有錢！」\\xa0黃男不罷休，還衝上前痛毆徐女，導致對方顏面挫傷、左眼結膜下出血及頸部擦傷等，對方氣得提告傷害、公然侮辱等罪嫌。今天判決出爐，法官在判決書上痛斥黃男說：「錢猶如刀，刀在醫生手是救人，刀在惡人手是殺人。」指出黃男不要總是炫富，應與人和睦共處為宜。\\xa0法院依傷害罪判處黃男有期徒刑3個月，得易科罰金9萬元；另外公然侮辱罪判處黃拘役58日，得易科罰金58000，全案仍可上訴。（突發中心陳偉周／基隆報導）\\xa0\\xa0\\n法官在判決書中痛斥黃，「錢猶如刀」。陳偉周攝', 'view_cnt': 3524}, {'link': 'http://www.appledaily.com.tw//realtimenews/article/local/20160511/858485/女警偷拍讓他不滿\\u3000發文「我是不是太無聊」', 'category': '社會', 'title': '女警偷拍讓他不滿\\u3000發文「我是不是太無聊」', 'time': '2016/05/11 12:13', 'summary': '有位女警站在人行道上拍「未禮讓行人」的車輛，結果引發網友不滿前去理論。\\xa0網友在《Mobile01》發文「到底是不是我太無聊」，表示他在捷運站外看到女警，拿著錄影機要拍下「未禮讓行人的車輛」，但網友覺得既然有人力在這錄影，何不在路口指揮交通、避免行人被撞？於是他以「行人」身分前去詢問女警。\\xa0但在他與女警交談後，雙方「不歡而散」，於是網友提問「到底是不是我太多管閒事了?」，也解釋他的想法只是「好好的指揮交通 會讓往來的車輛和行人都覺得很安心 但是站在那邊錄影，就會讓我覺得只是要拚業績而已」。\\xa0對此有人認為「資源是有限的，警方不可能24小時都派人指揮」認為，取締的目的是讓駕駛改變違規習慣；但也有網友認為「只要不違規 那管得了他愛怎麼拍就怎麼拍不是嗎? 有時我反而更無法理解反對側錄的人心態究竟為何= =」。(葉國吏/綜合報導)', 'view_cnt': 7499}, {'link': 'http://www.appledaily.com.tw//realtimenews/article/forum/20160511/858506/大家今天出門就安心了', 'category': '論壇', 'title': '大家今天出門就安心了', 'time': '2016/05/11 12:12', 'summary': '作者：陳時豐（退休）\\xa0殺人犯鄭捷經最高法院判決死刑確定才19天，昨天就以最快的速度執行槍決，除了讓大家發洩怨恨，大快部分人心，然後呢？大家今天出門就安心了？媽媽今天帶小孩上學，就不再害怕了？\\xa0最近花東縣民，呼籲未來的中央政府，給他們一條安全回家的路。在蘇花公路開車，不幸被落石砸中死亡，是因為蘇花公路依山傍海，地勢險惡，落石不斷，造成道路的不安全，如果不針對道路安全的問題，加以徹底改善，就算把砸死人的石頭炸得粉碎，以後還是會有倒楣的人，在蘇花公路開車被落石砸死。\\xa0出門在外，無故被不特定的隨機殺人殺害，是因為社會安全體系出了問題，社會不安全的情況很多，原因也非常複雜，如果不針對社會不安全的原因，逐一加以研究，徹頭徹尾檢討改善，就算把殺人犯碎屍萬段，以後還是會有人被隨機殺人傷害。\\xa0我不是要談死刑存廢，按照現行法律，我們的刑法還有死刑，死刑犯只要證據明確，經最高法院判決死刑確定，就要執行死刑。台灣的死刑犯包括鄭捷還有很多個，鄭捷被以最快的速度執行槍決，真的有那麼急破嗎？\\xa0鄭捷是在捷運造成四人死亡慘案的殺人重要個案當事人，政府有委請相關的專業人士，學者專家，針對個案當事人鄭捷的成長背景，家庭狀況，求學過程，心理狀態，犯案動機，做深入的訪談、研究並作成報告嗎？昨天以最快的速度執行槍決，但問題就解決了嗎？如今，想做這殺人個案研究的學者專家、大學博士班研究生、甚至新政府的相關首長，少了個案當事人鄭捷，所做的相關研究，恐怕也是片面呈現。\\xa0醫學上發現造成死亡的新流行病毒，醫師是直接把病毒殺死搶救病人，還是通知疾病管制局，將流行病毒取樣，送到實驗室培養，針對病毒做預防、藥品、防疫等研究工作，甚至要通知世界衛生組織，善盡國際社會責任。法務部昨天的做法就是直接把病毒消滅，還自認做該做的事！\\xa0《即時論壇》徵稿\\xa0你對新聞是否不吐不快，《蘋果日報即時新聞》新闢《即時論壇》，歡迎讀者投稿，對新聞時事表達意見。來稿請寄onlineopinions@appledaily.com.tw，文長以500到1000字為度，一經錄用，將發布在蘋果日報即時新聞區，唯不付稿酬。\\xa0請勿一稿兩投，本報有刪改權，當天未見報，請另行處理，不另退件或通知。', 'view_cnt': 2269}, {'link': 'http://www.appledaily.com.tw//realtimenews/article/fashion/20160511/858044/美女部落客事業做很大\\u3000前進甜點圈', 'category': '時尚', 'title': '美女部落客事業做很大\\u3000前進甜點圈', 'time': '2016/05/11 12:10', 'summary': '義大利籍、長住美國洛杉磯的美女時尚部落客Chiara Ferragni，事業版圖不只侷限在她的同名鞋款品牌、參加時尚活動，近期她將跨足甜點圈，與馬卡龍聞名的法國百年老牌Ladurée合作，推出時尚餐點，據悉將有一套漂亮時尚的馬卡龍套餐與特別版沙拉。\\xa0\\xa0Ladurée非首次與時尚圈聯手，過去曾與Pucci、Lanvin等品牌攜手推出餐點，吸引時尚迷捧場。可惜Ladurée已退出台灣，2013年登台引起排隊風潮的風光只能成為追憶。（陳雅韻／台北報導）\\xa0\\nChiara也愛po美食照。翻攝IG女星潔西卡艾芭生日時收到 Ladurée馬卡龍蛋糕塔。翻攝IG色彩繽紛的馬卡龍令人食指大動。翻攝IG', 'view_cnt': 2876}, {'link': 'http://www.appledaily.com.tw//realtimenews/article/entertainment/20160511/858141/嚴控老公防偷吃\\u3000一線女星慘變疑心病人妻', 'category': '娛樂', 'title': '嚴控老公防偷吃\\u3000一線女星慘變疑心病人妻', 'time': '2016/05/11 12:10', 'summary': '27歲日本女星堀北真希去年8月閃嫁C咖男星山本耕史，日前拍完日劇《彼岸花~警視廳搜查七課》後，暫時在家當專職主婦。日本「livedoor」網站報導，她結婚之初完全握有主導權，山本耕史也都唯命是從，最近夫妻倆的立場卻完全顛倒，她突然變得神經兮兮，每天都仔細追問老公的行程，擔心他在外面偷吃，緊迫盯人的攻勢，已讓他開始吃不消。\\xa0報導指出，她去年決定閃婚，對山本耕史之前的戀情緋聞也略知一二，沒想到升格當人妻後，反而開始擔心他會故態復萌在外把妹，山本耕史每天回到家，她就開始追問他「今天去了哪裡？」、「和誰見了面？」，有時候甚至還親自去攝影棚探班宣示主權，全面防護不讓老公有在外偷吃的機會。日本演藝圈人士表示，她婚前是高高在上的一線女星，婚後竟變成有疑心病的人妻，前後判若兩人。\\xa0堀北真希婚後生活都以山本耕史為中心，之前傳她常抽空為他做便當，看到購物網站有適合的東西，也毫不考慮就買下來送他，更希望能盡快生兒育女，2人結婚還不滿1年，她現在就將老公管得死死的，會否因此影響夫妻倆的感情，有待觀察。（蘇威全╱綜合報導）\\xa0\\xa0\\n堀北真希（右）和山本耕史閃婚至今還不滿1年。翻攝《日刊體育報》網站', 'view_cnt': 12837}, {'link': 'http://www.appledaily.com.tw//realtimenews/article/life/20160511/858498/【央廣RTI】9成國人用Line滑手機不分世代', 'category': '生活', 'title': '【央廣RTI】9成國人用Line  滑手...', 'time': '2016/05/11 12:10', 'summary': '本內容由中央廣播電臺提供\\xa0\\xa0 \\xa0 \\xa0 \\xa0教育部委託國立台灣師範大學進行「數位科技及社群媒體使用與家人關係」電訪調查，結果顯示，有8成民眾擁有智慧型手機，其中18到29歲族群更高達9成5，且近9成都有使用Line，近8成還會成立家族群組，顯見「滑手機」已不分世代。\\xa0 \\xa0 \\xa0 \\xa0調查結果發現，8成民眾已使用智慧型手機，主要用途為看Line、拍照、上臉書與傳簡訊，而且有7成7的人透過Line成立家族群組。計畫主持人、台師大教授林如萍表示，有7成以上的受訪父母會藉由臉書取得教養資訊與支持，尤其家有學齡前幼兒的家長更是如此；另外，也有一半以上的民眾使用臉書搜尋關於婚姻或與家人相處的資訊。\\xa0 \\xa0 \\xa0 \\xa0這次調查也發現，有7成5的民眾認為數位科技增加與家人的聯繫和溝通，但也有半數的人覺得，數位科技減少了家人的實質互動，並有3成受訪者表示，數位科技也提高了家人間的衝突。(繼續閱讀)', 'view_cnt': 929}, {'link': 'http://www.appledaily.com.tw//realtimenews/article/forum/20160511/858503/鄭捷的死是廉價正義', 'category': '論壇', 'title': '鄭捷的死是廉價正義', 'time': '2016/05/11 12:09', 'summary': '作者：林建德（大學教師）\\xa0鄭捷兩年前北捷行兇殺人，死刑定讞短短19天隨即伏法。法務部表示鄭捷罪行人神共憤，而今殺人者償命，其伏刑可謂罪有應得。然鄭捷被槍決，固然給受害者暨受害者家屬一個公道，但進一步想，也徒留諸多疑問。\\xa0第一、鄭捷殺人目的其一就是不想活，想透過被判死刑，早早結束這無趣的人生，而今死刑定讞隨即伏法，不正逐其所願？\\xa0第二、不死比死更艱難，對鄭捷這樣的人而言，活著反而是一種懲罰，不只失去自由，成天當個「人形廢物」，那等待槍決的日子，提心吊膽，每天度日如年的煎熬歲月，才足以收懲戒之效，才有促其自省悔悟的可能。\\xa0第三、人生真正糾結所在，在於你知道自己錯了，真心懺悔想要挽回、想要彌補，卻為時已晚，一切都來不及，你還是必須一死。但我們看不到鄭捷這樣的轉折，卻讓他輕輕鬆鬆死去，未免太可惜了。\\xa0第四、鄭捷伏法前打足麻醉藥，然被他殺害的人卻無此福份，多半穿腸破肚血肉橫飛慘死；更重要的是他麻木不仁，已麻痺的人是感覺不到痛苦的，而沒有痛苦的刑罰，是否還是刑罰？是否達到嚴懲的目的？\\xa0鄭捷的死是廉價正義，如不少網友表示，直接槍決太便宜他了！幾槍斃命的當下雖大快人心，但靜下心來好好思考，這究竟是解決了問題，還是留下更多遺憾和不解？\\xa0《即時論壇》徵稿\\xa0你對新聞是否不吐不快，《蘋果日報即時新聞》新闢《即時論壇》，歡迎讀者投稿，對新聞時事表達意見。來稿請寄onlineopinions@appledaily.com.tw，文長以500到1000字為度，一經錄用，將發布在蘋果日報即時新聞區，唯不付稿酬。\\xa0請勿一稿兩投，本報有刪改權，當天未見報，請另行處理，不另退件或通知。', 'view_cnt': 2911}, {'link': 'http://www.appledaily.com.tw//realtimenews/article/sports/20160511/858504/【有片】擊中164公里火球\\u3000球棒碎了', 'category': '體育', 'title': '【有片】擊中164公里火球\\u3000球棒碎了', 'time': '2016/05/11 12:09', 'summary': 'Your browser does not support iframes.\\xa0剛坐完球監，解禁上班不到24小時，洋基隊守護神查普曼(Aroldis Chapman\\xa0)在今天對皇家隊之戰第9局，馬上就飆出102哩(164公里)火球，擊碎皇家打者卡斯伯特(Cheslor Cuthbert)的球棒。查普曼在第9局洋基隊10比7領先時登板，先讓卡斯伯特擊出軟弱的一壘方向滾地球出局，再三振柯隆(Christian Colon)，解決今天單場3響砲的坎恩(Lorenzo Cain)，輕鬆取得轉隊至洋基後的第1場救援成功。大聯盟史上最快球速紀錄，也是查普曼保持，他在2010年9月24日，對聖地牙哥教士的比賽中，投出105.1哩(約169.1公里)的快速球，刷新大聯盟紀錄。(姚瑞宸／綜合報導)', 'view_cnt': 13483}, {'link': 'http://www.appledaily.com.tw//realtimenews/article/sports/20160511/858501/小熊預約世界大賽冠軍\\u3000開季25勝6敗平隊史紀錄', 'category': '體育', 'title': '小熊預約世界大賽冠軍\\u3000開季25勝6敗平隊...', 'time': '2016/05/11 12:08', 'summary': '3棒布萊恩(Kris Bryant)敲出2分打點二壘打，游擊手羅素(Addison Russel)打下3分，加上佐伯瑞斯特(Ben Zobrist)單場4安、2打點，僅管教士在8上反攻4分，但終場小熊還是以8比7險勝，不但成為本季大聯盟率先25勝的球隊，也追平1907年開季25勝6敗的隊史最佳成績。\\xa0小熊最近8連勝，隊史2次拿下世界大賽冠軍，就是在1907和1908年，本季賽前就被各方看好，開季至今也勢如破竹，一步一步朝睽違百年的世界大賽冠軍邁進。\\xa0先發左投雷斯特(Jon Lester)直到4局被厄普頓(Melvin Upton Jr.)敲出陽春砲，才被擊出第1支安打，他今投6局失3分，只被擊出4安，終於拿下本季他在主場的首勝，目前戰績4勝1敗。(鍾裕能／綜合報導)', 'view_cnt': 3642}, {'link': 'http://www.appledaily.com.tw//realtimenews/article/forum/20160511/858495/死刑存廢的另一種觀點', 'category': '論壇', 'title': '死刑存廢的另一種觀點    ', 'time': '2016/05/11 12:07', 'summary': '作者：呂岳桐\\xa0鄭傑的槍決，再度引起台灣是否繼續維持死刑的各方激辯，撇開是否為政治操作不談，我認為在面對死刑存廢的議題上，或許我們能用另一種角度思考。\\xa0首先，刑罰的意義應該在於：１.懲罰加害者２.預防潛在犯罪者３.補償受害者或遺族４.處理產生問題的原因\\xa0而我觀察到的是，無論死刑制度或是廢死制度，當發生遺憾事件的時候，他們都在用他們各自認為最適當的方式，去處理上述的四件事情。台灣在爭論廢死與否的兩造雙方，無非就是質疑對方的制度，在處理上述的項目時有多少的瑕疵與不完善。比方說廢死主張：死刑與再犯率並無顯著關係；贊成死刑主張：廢死無法補償受害者遺族心理上的感受等等。\\xa0其次，使用死刑或是廢死的地區，都有正反案例可循，這代表了問題其實並不在於「面對一個死刑犯，我們該不該取其生命？」，而是不管選擇了哪種制度，背後是否有一套適宜的配討措施，來針對上述的四個意義去做處理，進而爭取到更多人的認同與支持。\\xa0而且在這個世界上，至少在台灣，永遠不會出現一條讓全島人民都能接受的法律出現（何況涉及死刑的法律不只一條），尤其是牽扯到道德、正義、義務或分配時更是如如此，因為那是種價值的選擇，而沒有絕對的是非對錯。因此，一味質疑對方的道德感、同理心程度，或是在處理四個意義時的瑕疵是沒有意義的，因為沒有標準答案。\\xa0因此個人認為，廢死與否的層次不應癥結在爭論這種沒有標準答案的事情上，而該是更深層的，「在我們的民主體制中，多數人有沒有權力去決定一個人的生死？」的探究，以利了解自身真正的性向為何，以免發生不認為有權力，但卻支持死刑，或是認為有權利，卻反對死刑的矛盾邏輯。\\xa0簡單的說，其實死刑與廢死兩種論點，都在用它們自認最符合自己價值的方式去處理產生問題的原因。所以無論你認為死刑或廢死在處理這件事情上有多麼的糟糕，甚至根本沒有處理，擁護它的人還是會用他的價值告訴你他其實有做，而這就陷入我所謂沒有意義的爭論。\\xa0「多數人能不能決定一個人的生命？」本來就是個沒有標準答案的問題，只會因為同意或不同意這兩股力量在抗衡時誰取得優勢，進而讓死刑或廢死變成這個社會的遊戲規則，所以這只是對於生命價值觀的不同，在制度上並沒有絕對的優劣。也就是在廢死議題上，我認為無須浪費口舌在沒有標準答案的地方，而是該就更深層的哲學意義去尋求最大公約數，我們也會在探詢這個公約數的同時了解自己，進一步理解對方。而法律終究也只是一個群體中的優勢，為了某種共同目的所訂定的遊戲規則，所以當優勢方在這個深層問題的討論中有了共識，一套大家都能接受的新遊戲規則也就會自然而然的誕生。\\xa0《即時論壇》徵稿\\xa0你對新聞是否不吐不快，《蘋果日報即時新聞》新闢《即時論壇》，歡迎讀者投稿，對新聞時事表達意見。來稿請寄onlineopinions@appledaily.com.tw，文長以500到1000字為度，一經錄用，將發布在蘋果日報即時新聞區，唯不付稿酬。\\xa0請勿一稿兩投，本報有刪改權，當天未見報，請另行處理，不另退件或通知。', 'view_cnt': 1336}, {'link': 'http://www.appledaily.com.tw//realtimenews/article/international/20160511/858499/文革浩劫50周年：《毛語錄》人人熟讀', 'category': '國際', 'title': '文革浩劫50周年：《毛語錄》人人熟讀 ', 'time': '2016/05/11 12:07', 'summary': '被視為10年浩劫的文化大革命下周一滿50周年，而當時人手一本的「小紅書」《毛語錄》，收錄毛澤東近400句名言，包括「為人民服務」、「自力更生艱苦奮鬥」和「敢於鬥爭敢於勝利」等金句，成為文革時期的重要象徵之一。《毛語錄》全球印刷量僅次於 《聖經》，估計超過9億本，中文以外還有幾十種不同語言的譯本，在百多個國家出版，被譽為20世紀最流行書籍。當時為了讓解放軍方便攜帶，改成以64開本小本形式，並搭配標誌的紅色書皮，文化大革命時又稱「紅寶書」。1966年公開發行，成為毛澤東思想的象徵。《毛語錄》的推手是曾任毛澤東副手的中共中央委員會副主席林彪，為鼓吹活學活用毛澤東思想，1961年林彪授意解放軍報經常選登毛澤東的語錄。\\xa0當時坊間曾流傳「飯可以不吃、覺可以不睡、《毛語錄》不可不帶」，就連結婚和畢業證書都會印上毛主席語錄，反映當時中國社會對《毛語錄》的風靡程度。在當時社會的各個角落，小到杯子等日用品，大到學校教室和工廠車間裡的字幅，處處可見語錄裡的警句，就連結婚送禮也必少不了一本語錄，毛澤東還曾在天安門城樓上8次接見紅衞兵，當時他們人手一本《毛語錄》熱烈揮舞，成為難以抹滅的歷史性畫面。不過，隨着 1976年毛澤東逝世和文革結束，《毛語錄》熱潮減退，中宣部1979年宣布停止發行《毛語錄》。 （大陸中心／綜合外電報導）', 'view_cnt': 1087}, {'link': 'http://www.appledaily.com.tw//realtimenews/article/animal/20160511/858173/奧少年！汪星人登山前後對比超爆笑', 'category': '動物', 'title': '奧少年！汪星人登山前後對比超爆笑', 'time': '2016/05/11 12:06', 'summary': '說到出去玩，沒有一隻狗狗是不興奮的，但每次玩完上車還沒到家汪星人就先睡翻了。國外網友5/4在網站izismile上傳了自家狗狗登山前後的before&after照，登山前的汪星人一臉興奮地往車外看；但爬完山後的牠卻露出一臉快要往生的表情，呈現眼神呆滯的狀態。(程加敏/綜合報導)資料來源: http://izismile.com/2016/05/04/dog_before_vs_after_mountain_biking_2_pics-2.html更多內容請上毛愛蘋果粉絲團\\n要出去玩嗎?好期待~好期待~(翻攝izismile)近期內登山還是不要揪我好惹！(翻攝izismile)爬一天，我腿快斷了！(翻攝izismile)', 'view_cnt': 2843}, {'link': 'http://www.appledaily.com.tw//realtimenews/article/politics/20160511/858448/A公務車給老公用\\u3000大林美女鎮長夫妻起訴', 'category': '政治', 'title': 'A公務車給老公用\\u3000大林美女鎮長夫妻起訴', 'time': '2016/05/11 12:06', 'summary': '出身政治世家的嘉義縣大林鎮美女鎮長黃貞瑜（34歲），在2012年利用汰換鎮公所清潔隊環保稽查車機會，指派當時的未婚夫、行政室課員的李豐全（36歲）驗收，並開走使用，保險費、油料費、維修費也全報公帳，不法利益近52萬元，嘉義地檢署今天偵依貪污治罪條例圖利罪起訴倆人。\\xa0起訴指出，黃貞瑜夫婦涉嫌夫婦詐取加油油料，及使用環保稽查車圖利自己私人不法利益共51萬9681元。不過黃貞諭夫婦，偵辦時都矢口否認犯行。\\xa0起 訴書指，黃貞瑜為掩飾丈夫占用汰換舊環保稽查車，採購豐田汽車做環保稽查車的事實，2013年1月30日還指示行政室簽辦，將稽查車與原黃貞瑜使用的鎮長座車對調使用，但黃貞瑜未將鎮長座車交回清潔隊，仍由司機駕駛作鎮長公務車，環保稽查車則授意變更為鎮長座車，續停家中，供李豐全上下班及假日私用。\\xa0起訴書指，黃貞瑜夫婦公車私用謀取不法利益，包括2013年1月3日至2015年2月8日的核銷油料費10萬8080元，公務車定期保養維修費3萬3442元， 公務車保險費5萬3498元，車輛已折舊43萬2741元，核算黃貞瑜夫婦詐取加油油料費10萬8080元，使用環保稽查車圖利自己不法利益為5l萬 9681元。全還可上訴。（徐彩媚／嘉義報導）\\xa0\\xa0\\n【想知道更多，一定要看……】「最美鎮長」涉貪\\u3000媽媽也曾涉賄停職黃貞瑜平時做風相當親民。翻攝黃貞瑜臉書', 'view_cnt': 22333}, {'link': 'http://www.appledaily.com.tw//realtimenews/article/politics/20160511/858489/勞動條件差\\u3000民團轟：護理人員超時嚴重', 'category': '政治', 'title': '勞動條件差\\u3000民團轟：護理人員超時嚴重', 'time': '2016/05/11 12:06', 'summary': '民進黨立委林淑芬、台灣勞陣秘書長孫友聯、台灣護理產業工會理事長盧孳艷上午舉行記者會，公布台灣護理人員的工時現況，批評勞動條件仍然十分惡化。據台灣護理產業工會調查，雖目前法定工時每周四十小時，但是高達78%醫護人員每周工時超過40小時，甚至高達90小時，區域醫院平均更高達47小時，負責門診的護理人員則有48.3小時。\\xa0盧孳艷痛批，除了工時過長，更有將近68.7%的護理人員天天加班，但是卻僅有29.2%依照《勞動基準法》給予加班費，45.7%遭要求累積加班時數，甚至醫院還要求月結加班時數來規避法律。盧孳艷質疑，血汗醫院遭成護理人員身心俱疲，更是扭曲法律的制度，連合理的工時補償都沒給予醫護人員，嚴重危害民眾的醫護品質。（黃信維／台北報導）', 'view_cnt': 698}, {'link': 'http://www.appledaily.com.tw//realtimenews/article/animal/20160511/858120/前面明明好歡樂第30秒卻讓人落淚', 'category': '動物', 'title': '前面明明好歡樂  第30秒卻讓人落淚', 'time': '2016/05/11 12:05', 'summary': '日前The Little Things網站分享了一則廣告，廣告溫馨描述主人與狗狗的情感，互相陪伴與依賴，一起外出遊玩、在家依偎，一天，主人和朋友外出飲酒作樂，狗狗獨自在家等待主人歸來，然而日落月升，趴在門口的狗卻等不到主人歸來。這隻啤酒廠商推出的感人廣告，明白點出酒駕帶來的最大傷害，是那些在家裡默默等待你歸來的家人，而廣告最後也讓人明白，避免酒駕就能平安回到家人身邊。(戴伊妏／綜合報導)資料來源：The Little Things網站更多內容請上毛愛蘋果粉絲團\\n一天，主人和朋友外出飲酒作樂，狗狗獨自在家等待主人歸來，然而日落月升，趴在門口的狗卻等不到主人歸來。', 'view_cnt': 2935}, {'link': 'http://www.appledaily.com.tw//realtimenews/article/animal/20160511/858122/手遊玩多了\\u3000腦筋動到老舊雞舍上', 'category': '動物', 'title': '手遊玩多了\\u3000腦筋動到老舊雞舍上', 'time': '2016/05/11 12:05', 'summary': '農場類型手遊熱門，可以打造農場與開心農場、卡通農場、迷你農場等遊戲吸引無數網友，滑滑手指種田、蓋農舍，滿足遠離都市、下鄉種田的幻想。國外一位網友，則是親自動手改造老舊雞舍，重新木作、油漆、上鐵網，將農舍變身可愛美觀的雞舍喔！（戴伊妏／綜合報導）資料來源：https://www.reddit.com更多內容請上毛愛蘋果粉絲團\\n國外一位網友親自動手將老舊雞舍大改造。不但重上木板門窗，還重新刷上油漆。老舊雞舍改造成這麼可愛的模樣，是不是很像卡通農場遊戲裡的夢幻雞舍呢？', 'view_cnt': 1165}, {'link': 'http://www.appledaily.com.tw//realtimenews/article/animal/20160511/858171/守護寶寶！貓咪緊貼即將臨盆女主人', 'category': '動物', 'title': '守護寶寶！貓咪緊貼即將臨盆女主人', 'time': '2016/05/11 12:05', 'summary': '平時傲嬌的喵星人，透過敏銳的觀察，往往會對懷孕的主人特別體貼，國外一隻虎斑貓Sparta在主人臨盆前，竟然變得比平常更黏主人，像是想要守護主人還肚子中的寶寶一樣。YouTube頻道4/28上傳了這段影片，主人在影片介紹中提到，Sparta在女主人快臨盆前，像是忽然意識到「她正在懷孕」這件事，每天都要跟在女主人身旁，甚至要整隻貓壓在她的身上，一起「陪睡」。(程加敏/綜合報導)資料來源: https://www.youtube.com/watch?v=FDxjb2Cko0c更多內容請上毛愛蘋果粉絲團\\n除了Sparta 外，家中其他的狗狗貓貓也都圍繞著她。(翻攝YouTube)', 'view_cnt': 1805}, {'link': 'http://www.appledaily.com.tw//realtimenews/article/animal/20160511/857612/沒聽過樹懶叫也要知道樹懶長怎樣', 'category': '動物', 'title': '沒聽過樹懶叫 也要知道樹懶長怎樣', 'time': '2016/05/11 12:04', 'summary': '近期上映的電影《動物方程式》讓樹懶一炮而紅，動作超緩慢的牠們也是哺乳類動物，移動的速度只有每分鐘4公尺(0.24km/h)的速度，若是在地面上更只有每分鐘公尺(0.12km/h)的速度，所以不慎掉到地面，容易成為其他肉食性動物的獵物！而樹懶天敵是角鵰，可以迅速且無聲無息將樹懶抓起，這時候你想聽樹懶叫也來不及了。 (王彥婷／台北報導)更有趣報導，請上副刊Vintage School @古庫社團，或上吃喝玩樂蘋果花粉絲團', 'view_cnt': 1429}, {'link': 'http://www.appledaily.com.tw//realtimenews/article/animal/20160511/858117/狗寶寶版的旋轉床鈴', 'category': '動物', 'title': '狗寶寶版的旋轉床鈴', 'time': '2016/05/11 12:04', 'summary': \"They're so happy!\\xa0旋轉音樂床鈴是陪伴嬰兒的玩具之一，但你知道嗎？這竟然有汪星人版呢？網站imgur於5/10有網友分享一段影片，影片中的一群幼犬開心地玩耍，仔細一看竟然是變形版的床鈴，主人將寶特瓶和鐵罐，甚至是可愛的布偶，全部綁在支架上，讓狗寶寶們可以玩耍，該影片吸引不少人觀賞，目前已經累積51萬人點閱！ (黃馨儀／綜合報導)\\xa0更多內容，請上毛愛蘋果粉絲團\\xa0\\xa0\\n這根本是汪汪版的旋轉音樂床鈴。圖片／翻攝自網站imgur\", 'view_cnt': 1084}, {'link': 'http://www.appledaily.com.tw//realtimenews/article/life/20160511/857825/【健康問蘋果】室內工作也要擦防曬乳？', 'category': '生活', 'title': '【健康問蘋果】室內工作也要擦防曬乳？', 'time': '2016/05/11 12:03', 'summary': '網友艾琳問：夏天怕曬黑，聽聞即便在室內工作，也要選擇防曬係數（SPF）高的防曬乳，防曬效果較好，是真的嗎？\\xa0台北長庚醫院皮膚科主治醫師黃毓惠表示，民眾選購防曬乳時常陷入防曬係數（SPF）愈高愈好的迷思。事實上，上班族日常防曬只需塗抹SPF15的防曬乳，即可過濾93％的中波紫外線，避免皮膚曬紅、曬傷。\\xa0她說，戶外工作者或民眾到海邊戲水時，才需塗抹SPF30以上的防曬乳，不論是室內上班族或戶外工作者，重點是防曬乳過濾紫外線的效果會隨時間遞減，因此每隔2至3小時應補充，降低皮膚受傷風險。\\xa0《蘋果》即時新聞推出「健康問蘋果」專欄，解答讀者對健康方面的疑問，歡迎寫信至life@appledaily.com.tw。\\xa0來看更多「健康問蘋果」！', 'view_cnt': 2199}, {'link': 'http://www.appledaily.com.tw//realtimenews/article/animal/20160511/858117/狗寶寶版的旋轉床鈴', 'category': '動物', 'title': '狗寶寶版的旋轉床鈴', 'time': '2016/05/11 12:04', 'summary': \"They're so happy!\\xa0旋轉音樂床鈴是陪伴嬰兒的玩具之一，但你知道嗎？這竟然有汪星人版呢？網站imgur於5/10有網友分享一段影片，影片中的一群幼犬開心地玩耍，仔細一看竟然是變形版的床鈴，主人將寶特瓶和鐵罐，甚至是可愛的布偶，全部綁在支架上，讓狗寶寶們可以玩耍，該影片吸引不少人觀賞，目前已經累積51萬人點閱！ (黃馨儀／綜合報導)\\xa0更多內容，請上毛愛蘋果粉絲團\\xa0\\xa0\\n這根本是汪汪版的旋轉音樂床鈴。圖片／翻攝自網站imgur\", 'view_cnt': 1084}, {'link': 'http://www.appledaily.com.tw//realtimenews/article/life/20160511/857825/【健康問蘋果】室內工作也要擦防曬乳？', 'category': '生活', 'title': '【健康問蘋果】室內工作也要擦防曬乳？', 'time': '2016/05/11 12:03', 'summary': '網友艾琳問：夏天怕曬黑，聽聞即便在室內工作，也要選擇防曬係數（SPF）高的防曬乳，防曬效果較好，是真的嗎？\\xa0台北長庚醫院皮膚科主治醫師黃毓惠表示，民眾選購防曬乳時常陷入防曬係數（SPF）愈高愈好的迷思。事實上，上班族日常防曬只需塗抹SPF15的防曬乳，即可過濾93％的中波紫外線，避免皮膚曬紅、曬傷。\\xa0她說，戶外工作者或民眾到海邊戲水時，才需塗抹SPF30以上的防曬乳，不論是室內上班族或戶外工作者，重點是防曬乳過濾紫外線的效果會隨時間遞減，因此每隔2至3小時應補充，降低皮膚受傷風險。\\xa0《蘋果》即時新聞推出「健康問蘋果」專欄，解答讀者對健康方面的疑問，歡迎寫信至life@appledaily.com.tw。\\xa0來看更多「健康問蘋果」！', 'view_cnt': 2229}, {'link': 'http://www.appledaily.com.tw//realtimenews/article/animal/20160511/857943/萌噠噠\\u3000這些撲倒讓人融化', 'category': '動物', 'title': '萌噠噠\\u3000這些撲倒讓人融化', 'time': '2016/05/11 12:03', 'summary': '勞累一天回到家後，被毛小孩團團圍住是一件幸福的事情，尤其是蜂擁而至的擁抱可以慰勞一天的辛勞，就連傲嬌的喵星人也被攻陷，快來看以下這些萌噠噠的撲倒吧！ (黃馨儀／綜合報導)\\xa0資料來源：網站youtube\\xa0更多內容，請上毛愛蘋果粉絲團\\xa0\\xa0\\n萌噠噠的汪式撲倒~相當可愛。圖片／翻攝自網站youtube回到家抱著汪汪們，所有的辛勞的一掃而空。圖片／翻攝自網站youtube主人完全被淹沒~。圖片／翻攝自網站youtube', 'view_cnt': 4830}, {'link': 'http://www.appledaily.com.tw//realtimenews/article/strange/20160511/858483/【第一手試開】ToyotaVios新CVT變速箱到底好不好用？答案是…', 'category': '搜奇', 'title': '【第一手試開】Toyota Vios新C...', 'time': '2016/05/11 11:59', 'summary': 'Toyota算夠有誠意的了，原本我們以為它只是將Vios針對胎壓偵測法規作了對應，沒想到，乾脆也把我們唸了許久的四速自排變速箱給換了，換上一具CVT無段變速箱，而且還一不做二不休地把新的1.5升Dual VVT-i雙連續可變汽門正時2NR-FE引擎裝到Vios車上。厚、厚，這下Vios雖然沒有拉皮，但內涵卻已經大大地不同了，那開起來新CVT變速箱到底好不好用啊？來，我們來告訴你答案是：大部分的路段省油好用，中高轉速行駛加速也比較精緻一些。不過，一般道路行駛CVT變速箱無頓挫、更平暢，不代表它開起來完美無缺，它的缺點就是走山路時，協助動力輸出的反應有點溫吞，引擎轉速4000轉前的爬升有夠慢，比原來四速自排還慢，得過4000轉扭力迸發才會比較大一點。總之，像Vios這樣小排氣量車款運用上CVT無段變速箱，在絕大部分的道路上行駛，它的順暢度比原本的四速自排要讚，中高轉速域表現較為滑溜、也不會有檔位換來換去的毛躁嘶吼聲，可是面對山路爬坡經常用到的再加速力道傳遞，它的周全就沒那麼好了。(陳宏銘/台北報導)\\xa0副刊中心粉絲團：吃喝玩樂蘋果花\\xa0想看更多有趣車訊，快上轟轟轟 就是愛車\\xa0\\xa0\\xa0\\n無段變速檔位銜接順、無頓挫感。可是一旦山路遇坡，油門下來之後的再加速，遞力時機慢、印象溫吞。翁玉信攝1.5升Dual VVT-i雙連續可變汽門正時新引擎，讓平均油耗從每公升汽油跑15.6公里提升至17.4公里。翁玉信攝Super CVT-i無段變速系統還規劃有7速手自排功能，它的好處就是虛擬檔位變換無落差，動力銜接性好。翁玉信攝車室內裝刻意經過美化，雖然塑膠感仍重，但至少有立體層次感，沒辦法，俗仔車質感不可能高。翁玉信攝前座空間實際乘坐還OK，後座頭部餘裕小，腿膝的活動空間沒有雙生車Yaris、和對手Honda City優。翁玉信攝', 'view_cnt': 2888}, {'link': 'http://www.appledaily.com.tw//realtimenews/article/life/20160511/858492/設計之都很無感\\u3000謝佩霓：3、4年後就能看到價值', 'category': '生活', 'title': '設計之都很無感\\u3000謝佩霓：3、4年後就能看...', 'time': '2016/05/11 11:58', 'summary': '台北市今年舉行世界設計之都，預計投入10億多經費，但很多市民甚至市長柯文哲都不清楚設計之都做了什麼。文化局長謝佩霓今表示，市長所指的應該是他上任前跟上任的第一年，但現在已感受到設計可能性與可貴性，日前還指示文化局看如何更讓設計融入市民的生活；對無感的批評，她坦言設計需要時間累積，過往的首爾、赫爾辛基等，也是在辦理後第3、4年，「終於大家看到它脫胎換骨的價值」。\\xa0謝表示，這些城市舉行設計之都，都是用國家的高度在操作，以國家整體政策做訴求，相對資訊會比較有露出，台北做為首善之都，也可以用首都高度展現，但目前的表現應該不止於此，坦言還有改進的空間。\\xa0對市長和市民無感的批評，謝表示「市長的確改受到設計可能性和可貴姓」，日前也責成文化局，希望再多思考怎麼讓各局處能有更多的連結，另外把設計融入到市民、執政者的生活，成為未來大家重要的思考、成為執政者對城市發展的新想像，這都是設計之都最終的目的。（陳思豪/台北報導）', 'view_cnt': 1515}, {'link': 'http://www.appledaily.com.tw//realtimenews/article/life/20160511/858497/亞東母公司曾陷財務危機\\u3000業者：解決中', 'category': '生活', 'title': '亞東母公司曾陷財務危機\\u3000業者：解決中', 'time': '2016/05/11 11:58', 'summary': '亞東電信無預警停止國際電話卡業務，而專營070節費電話母公司全網通去年也出現財務危機，負債高達13億元，讓吳伯雄次子、台北市議員吳志剛，因身兼公司保證人讓房產遭法拍，今全網通董事長林瑋軒表示，已積極尋找金主投資，現資金缺口已縮小至2億元，下月起也有新合作案推出。\\xa0吳志剛去年因投資全網通，並身兼公司保證人，結果因全網通經營不善，傳揹債10億元，旗下淡水房產也遭法拍，據了解目前為止都還未拍出。\\xa0林瑋軒表示，這一年來，已積極引入包含港資在內資金，也積極協調債權人，盡量不要連累到吳志剛，不要讓吳的財產受到損傷，而過去吳就是單純投資角色，由他進行實際經營，對於吳也非常抱歉，現相關債權人也暫沒有其他動作。\\xa0林瑋軒表示，目前公司資金缺口僅剩2億元，和一年多前相比僅剩十分之一左右，許多投資人仍看好070業務仍在台仍大有可為，預計很快其他資金也會到位。\\xa0林表示，為了節約成本，現在人力確實已緊縮，最多時曾有四、五十名員工，現僅剩十餘位，不過接下來將有新業務拓展，後續人力也可能再拓展。\\xa0林瑋軒表示，070業務是台灣少數可結合通訊軟體電信執照，過去曾和揪科、XONO等通訊軟體合作，提供包含市話、國際電話和行動電話通話優惠利率，而全網通也是少數持有執照業者，也是少數非財團成立公司。\\xa0林表示，當初走太快了，在資金上沒有妥善規劃才出現財務危機，但對於相關業務前景仍很有信心，已談妥新的合作方案，將和其他合作廠商推出低於市場水準的通話資費，相關內容還需保密，但下月就會推出，甚至和揪科後續也還有合作計畫。（朱正庭／台北報導）', 'view_cnt': 1120}, {'link': 'http://www.appledaily.com.tw//realtimenews/article/life/20160511/858455/她來台灣2年\\u3000大嘆台灣女生真辛苦！', 'category': '生活', 'title': '她來台灣2年\\u3000大嘆台灣女生真辛苦！', 'time': '2016/05/11 11:57', 'summary': '女網友在《Dcard》發文，她有感而發地寫下「我不是台灣人，但是來台灣也快接近2年了，我真的很佩服各位台灣的女生，妳們是怎麼活過來？」\\xa0女網友說，班上某位女同學嫌自己太胖、腿太粗，也說自己因為有腿、手毛常招來嘲笑，當女網友聽到後就感嘆這位女同學明明很瘦、根本像筷子了！而且，在很多國家都認為手腳毛長的都是美女才有的，「可是在台灣，美女都被標準化，追求的都是同一個樣子，如果沒在設下的標準內，就會從小遭受言語霸凌」。\\xa0這篇獲得很多人的討論「在台灣還有更多問題，成績好就被罵說是書呆子，弱雞…」、「台灣人的審美觀太狹隘了」、「白富美」、「很多人對肉肉女生的態度不好啊…動不動就要嘲笑人家」、「胖=懶」（即時新聞中心／綜合報導）\\xa0\\n女網友發文，翻攝網路', 'view_cnt': 37681}, {'link': 'http://www.appledaily.com.tw//realtimenews/article/sports/20160511/858484/【有片】柯瑞值不值全票MVP？看各式神蹟', 'category': '體育', 'title': '【有片】柯瑞值不值全票MVP？看各式神蹟', 'time': '2016/05/11 11:56', 'summary': '金州勇士一哥柯瑞(Stephen Curry)成功蟬聯MVP(Most Valuable Player，最有價值球員)，也創紀錄成為史上首位全票當選者。就數據來看，他當之無愧，以下是他本季驚人成就。\\xa01. 各式各樣3分球紀錄柯瑞本季例行賽3分球出手886次、命中402球都是NBA紀錄，但最可怕的是3分球命中率還高達45.4%，這也是所有單季3分球出手超過500次球員裡的最高命中率紀錄。\\xa0此外，單場投進3、4、5、6、7、8、9、10、11顆3分球的場數紀錄也全被他刷新。他有許多3分球出手投射距離都超過25呎(約7.6公尺)，新聞媒體甚至為他新創LOGO Shot(中圈投籃)名詞。甚至有不少球迷打趣，NBA該考慮取消3分球或增設4分球。\\xa02.50-40-90俱樂部賽季投籃命中率50%、3分球命中率40%、罰球命中率90%是評斷射手的高門檻，NBA歷來僅9人完成13次。\\xa0他本季投籃命中率50.4%、3分球命中率45.4%、罰球命中率90.8%，更是繼勇士現任教練柯爾(Steve Kerr)、前太陽名將納許(Steve Nash)後，達成50-45-90第3人，此外柯瑞場均30.1分也是50-40-90俱樂部中最高紀錄。\\xa03.全能控衛柯瑞除場均30.1分拿下例行賽得分王，場均2.14次抄截也傲視聯盟，場均6.7助攻在全聯盟也能排到第10。\\xa0此外，NBA在1997年新創的聯想值(+/-)，亦即球員上場後到他下場時，球隊領先或落後的分差，柯瑞整季達+1022，這代表他本季79場出賽為球隊帶來的效益。全聯盟領先他的只有勇士隊友格林(Draymond Green)，+1070。他們2人也是統計這項數據以來史上前2名。\\xa0(王毓健／綜合報導)\\n【想知道更多，一定要看……】 【影片】柯神再創紀錄\\u3000史上首位全票當選MVP 【有片】雙星飆58分\\u3000雷霆客場強拔馬刺聽牌', 'view_cnt': 11108}, {'link': 'http://www.appledaily.com.tw//realtimenews/article/entertainment/20160511/858422/女主播喝醉還直播新聞\\u3000東森「會檢討」', 'category': '娛樂', 'title': '女主播喝醉還直播新聞\\u3000東森「會檢討」', 'time': '2016/05/11 11:55', 'summary': '法務部昨晚閃電執行鄭捷槍決，\\xa0東森新聞主播陳柔安被叫回公司支援，在臉書粉絲專頁開新聞直播。結果她竟自爆「有人發現我是醉的嗎？至少喝了3杯威士忌」，坦言「被伏法殺得措手不及。」\\xa0隨即刪文，但已被網友擷圖分享，網友批她「很有事」、「喝醉了還播新聞」、「我能相信妳嗎」、「失去主播專業」。\\xa0也有人替陳柔安緩頰，「說不定她只是下班喝點酒，根本不知道會有突發新聞啊！」對此東森新聞部總監孫嘉蕊回應:「昨天柔安有報備，主管評估狀況不影響直播，因此派遣工作，直播過程也正常，無不當表現。但內部仍會針對此事件檢討，對網路直播再做規範。」（蔡維歆／台北報導）\\xa0\\xa0\\n【想知道更多，一定要看……】【有片】離譜！女主播自爆喝醉\\u3000被召回播新聞', 'view_cnt': 25429}, {'link': 'http://www.appledaily.com.tw//realtimenews/article/politics/20160511/858464/回應國台辦\\u3000童振源：健康是基本人權普世價值', 'category': '政治', 'title': '回應國台辦\\u3000童振源：健康是基本人權普世價...', 'time': '2016/05/11 11:55', 'summary': '世界衛生組織（WHO）秘書處寄給台灣的的世界衛生大會（WHA）邀請函竟加註聯合國大會第2758號決議及「一個中國原則」。中國國台辦發言人馬曉光今表示，挑戰國際社會公認的「一中原則」，相關的安排將難以為繼。準行政院發言人童振源今表示，依據世界衛生組織憲章，健康是基本人權，是普世價值，不因種族、宗教、政治信仰、經濟或社會情境而有所分別，而台灣在國際社會務實而有意義的參與，不僅攸關全體國人的健康權益，更是世界衛生及防疫體系中不可或缺的一環。\\xa0童振源表示，新政府對於出席WHA的立場與態度很清楚，他也做過多次的說明，就是依據世界衛生組織憲章，健康是基本人權，是普世價值，不因種族、宗教、政治信仰、經濟或社會情境而有所分別，而台灣在國際社會務實而有意義的參與，不僅攸關全體國人的健康權益，更是世界衛生及防疫體系中不可或缺的一環。他說，「我們相信臺灣繼續參與WHA，將會提升臺灣及世界人民的健康與福祉。」（林修卉／台北報導）\\xa0\\xa0\\n【想知道更多，一定要看……】國台辦：兩岸若現危機\\u3000改變者承擔責任', 'view_cnt': 1358}, {'link': 'http://www.appledaily.com.tw//realtimenews/article/local/20160511/858444/當車手賺6千\\u3000少年自豪「比打工好賺」', 'category': '社會', 'title': '當車手賺6千\\u3000少年自豪「比打工好賺」', 'time': '2016/05/11 11:54', 'summary': '詐騙集團吸收少不經事的未成年當車手，簡直可惡至極！台中市龍井區上周發生陳姓婦人誤信詐騙集團說詞，遭騙走80萬現款案件，警方調閱監視器循線追查，前 日在逢甲商圈一家速食店內逮捕2名負責取款的少年車手，少年供稱，只要依據上游指示取款，就可輕鬆賺到6000元，「比打工還好賺」，毫無悔意說詞令警方不禁 搖頭：「為了蠅頭小利就出賣自己清白，少年ㄟ划不來啦！」\\xa0台中市龍井區一名陳姓婦人，上周五接獲詐騙集團電話，誆稱其子因替友人作保積 欠80萬元被押走，要求陳姓婦人交付款項贖回兒子，陳婦一時心慌急奔銀行分二次共提領現金80萬元，並依對方指示將款項放置在龍新路107巷口，事後陳婦 與兒子取得連繫才驚覺受騙，返回現場時鉅款已被取走，氣急敗壞向警方報案。\\xa0轄區烏日分局龍井分駐所立即調閱銀行及周遭路口監視器，鎖定二名取走鉅款的黑衣少年，依據二人搭乘的計程車循線追查，前天上午在西屯區福星路上的麥當勞速食店內，逮捕與取款當天穿著同一件黑色上衣的葉姓少年（15歲），及另名周姓少年（16歲）。\\xa0葉 姓少年坦承，上週五接獲詐騙集團上手指示，與另名蘇姓少年搭乘計程車前往烏日區取款，得手後由在逃蘇姓少年將80萬元款項交回上手，自己僅分得6000 元，前天上午與葉姓少年在西屯區麥當勞內待命等候電話指示，不料就遭警方逮捕，警方訊後將二名少年送往少年法庭審理，並繼續追查在逃蘇姓少年及上游詐騙集 團。（王煌忠／台中報導）\\xa0\\xa0\\xa0\\xa0\\xa0\\xa0\\xa0\\xa0\\xa0\\xa0\\xa0\\xa0\\xa0\\xa0\\xa0\\xa0\\xa0\\xa0\\xa0\\xa0\\xa0\\xa0\\xa0\\xa0\\xa0\\xa0\\xa0\\xa0\\xa0\\xa0\\xa0\\n葉姓少年車手穿著黑色上衣，胸前印有明顯紅色圖案，遭警方鎖定。翻攝畫面', 'view_cnt': 4488}, {'link': 'http://www.appledaily.com.tw//realtimenews/article/local/20160511/858260/【有片】鄭捷伏法遺體送桃園\\u3000家屬今認領', 'category': '社會', 'title': '【有片】鄭捷伏法遺體送桃園\\u3000家屬今認領', 'time': '2016/05/11 11:53', 'summary': '（更新：新增影片）\\xa0北捷殺人案兇嫌鄭捷，於昨天晚間8時47分在土城看守所槍決，在執行檢察官的監督下，3槍伏法，鄭捷的遺體在伏法後，由殯葬業者用大體運送車運送離開，原本以為遺體會運送至就近的板橋殯儀館，但是車輛開往國道一路南下，昨天晚間法務部證實，鄭捷遺體送往中壢殯儀館冰存，已經通知家屬今天白天至殯儀館認領。\\xa0承辦的葬儀社老闆在鄭捷伏法後，不斷接到電話有人詢問，但是由於有簽訂保密協定，在個人臉書裡只回答：「在冰庫、、在冰庫、在冰庫說了三次夠清楚了吧！」希望大家不要再打給他了，冰存何處保密到家，至於鄭捷的靈位擺放何處，還有待家屬認領後由家屬決定。（突發中心／桃園報導）\\xa0發稿時間：06：10更新時間：11：53\\xa0\\n承辦的葬儀社老闆臉書抱怨不要再打給他了。翻攝畫面法務部表示遺體運送至中壢殯儀館冰存。突發中心攝', 'view_cnt': 272274}, {'link': 'http://www.appledaily.com.tw//realtimenews/article/strange/20160511/858452/豔陽草地好風光\\u3000裸體四腳獸盡情野合', 'category': '搜奇', 'title': '豔陽草地好風光\\u3000裸體四腳獸盡情野合', 'time': '2016/05/11 11:52', 'summary': \"$('#popup_18').show();\\n\\n 在英國唐卡斯特學院(Doncaster College)附近的一處草叢邊，近日發現一對男女變成裸體四腳獸，在光天化日之下竟然當場野合，完全忽略旁人的存在。\\xa0據英國《每日郵報》報導，這對男女就在一處提存款機的後方寬衣解帶，躺在草地上盡情忘我做愛，目擊者則透過鐵網偷拍這對男女的猥褻行徑。報導也指出，這對男女做愛的地點，除了鄰近學校，附近還有火車經過，鄰近市區不遠。（施旖婕／綜合外電報導）\\n目擊者則透過鐵網偷拍這對男女的猥褻行徑。翻自《每日郵報》\", 'view_cnt': 22766}, {'link': 'http://www.appledaily.com.tw//realtimenews/article/sports/20160511/858479/連5場登板無失分\\u3000曹錦輝第4場救援成功', 'category': '體育', 'title': '連5場登板無失分\\u3000曹錦輝第4場救援成功', 'time': '2016/05/11 11:50', 'summary': '效力奧克拉荷瑪道奇隊的旅美投手曹錦輝，今天對遊騎兵3A圓石隊(Round Rock)之戰第9局登板，順利讓對手3上3下，取得個人本季第4場救援成功。曹錦輝此役後援1局，面對3人次，投10球(8好2壞)，飆出1次三振，目前戰績1勝1敗4救援成功，防禦率4.15，從4月30日已連5場出賽0失分。(姚瑞宸／綜合報導)', 'view_cnt': 4688}, {'link': 'http://www.appledaily.com.tw//realtimenews/article/finance/20160511/858473/宏碁攜手青葡萄\\u3000搶吃東北教育雲', 'category': '財經', 'title': '宏碁攜手青葡萄\\u3000搶吃東北教育雲', 'time': '2016/05/11 11:47', 'summary': '宏碁跟深圳青葡萄科技合作桌面虛擬化解決方案，期望帶動中國東北電子化教室教育翻轉，利用桌面雲系統，每個教室只要一台雲教室主機設備，就能相當擁有數10台電腦主機，提供個人化專屬電腦桌面環境，無線環境下也能在平板或顯示器、AIO等裝置上使用。\\xa0宏碁5月參加瀋陽中國教育裝備行業協會舉辦的「第70屆中國教育裝備展示會」，以「身身歷其境，進入桌面雲的世界」為主題參展，宏碁跟深圳青葡萄科技合作展出宏碁桌面雲，宏碁雲計算中心總經理聞賢表示，該系統不止是鎖定教育市場，包括企業政府也都是目標行業。（王郁倫／台北報導）', 'view_cnt': 818}, {'link': 'http://www.appledaily.com.tw//realtimenews/article/local/20160511/858431/鄭捷伏法後\\u3000人渣文本預告「還沒結束」', 'category': '社會', 'title': '鄭捷伏法後\\u3000人渣文本預告「還沒結束」', 'time': '2016/05/11 11:45', 'summary': '北捷殺人案兇嫌正傑昨天伏法，再度引起社會大眾討論。作家人渣文本在臉書分享一篇文章「周偉航／鄭捷案還沒結束」，他提出三個問題，解釋為何鄭捷案還沒結束。\\xa0首先是「鄭捷留下第一個問題，是隨機殺人的成因到底為何，我們還是不清楚。」，人渣文本認為，由於沒人對鄭捷進行相關研究「然後他就死掉了」，這對於解決後續的隨機殺人完全沒幫助，也讓大家「只好繼續保持著無知的狀態，來面對下一起隨機殺人。」\\xa0第二，是犯罪者的教化問題。人渣文本提到鄭捷在最後一次開庭說的幾點個人看法，認為「台灣的監獄，如果只是把人關一關，啥都沒做，「懲罰以快人心」就好，那麼只是把「普通炸彈」改成「定時炸彈」，時間一到放出來，還是會爆炸。」、「活在這樣的世界，你很開心嗎？」。\\xa0最後則是「社會信任的機會成本已高到很難支應」，他認為鄭捷隨機殺人破壞的人對陌生人之間的信任，「讓我們只能花錢來建構防禦體系」、「但網蓋得再密，還是會有漏網的隨機殺人者，我們就只能砸下更多的成本，直到有一天所有人付不起。」(葉國吏/綜合報導)', 'view_cnt': 22264}, {'link': 'http://www.appledaily.com.tw//realtimenews/article/life/20160511/858474/【央廣RTI】穆斯林祈禱室國道清水服務區也有了', 'category': '生活', 'title': '【央廣RTI】穆斯林祈禱室  國道清水服...', 'time': '2016/05/11 11:45', 'summary': '本內容由中央廣播電臺提供\\xa0\\xa0 \\xa0 \\xa0 \\xa0交通部國道高速公路局今天(11日)首度啟用設置在台中清水服務區的「穆斯林祈禱室」。這是台灣繼桃園機場、台北火車站、高鐵台中站之後，第4個在重要交通場站設置穆斯林祈禱室的地方，希望打造出更友善穆斯林的旅遊環境，迎接佔全球旅遊市場達1成的穆斯林國際觀光客來台旅遊。\\xa0 \\xa0 \\xa0 \\xa0根據統計，全球穆斯林旅客一年高達1億1,700萬人次，旅遊商機上看1,500億美元，佔全球旅遊市場的1成。為了吸引穆斯林旅客來台觀光，交通部從4年前開始，逐步推動友善穆斯林的旅遊環境，也讓穆斯林來台人數逐年成長，去年已逾20萬人次，較前年成長1成。新加坡伊斯蘭旅遊網站新月評等與萬事達卡更連續2年，將台灣列為「全球十大非穆斯林組織國家最佳旅遊地」。\\xa0 \\xa0 \\xa0 \\xa0為了擴大成效，國道高速公路局11日也在台中清水服務區，啟用國道服務區第一個穆斯林祈禱室，成為台灣繼桃園機場、台北火車站、高鐵台中站之後，第4個在重要交通場站設置穆斯林祈禱室的地方。對於清水服務區設置的穆斯林祈禱室，中國回教協會秘書長馬超彥盛讚，國際間也只有在馬來西亞或沙烏地阿拉伯等虔誠的回教國家，才能在國道上見到穆斯林祈禱室。加上清水服務區設置的祈禱室又相當美觀、舒適、簡潔，堪稱國際的表率。(繼續閱讀)', 'view_cnt': 597}, {'link': 'http://www.appledaily.com.tw//realtimenews/article/3c/20160511/858071/吉他新手別怕怕\\u3000周六神來教', 'category': '3C', 'title': '吉他新手別怕怕\\u3000周六神來教', 'time': '2016/05/11 11:43', 'summary': '會彈吉他的人對於閃靈內的吉他手Jesse劉笙彙一定不陌生，在國外也是相當有名氣的吉他手，現在有個可以拜神的機會，STUDIO A將於5/14邀請Jesse到Neo 19門市舉辦教學，主要透過《BIAS FX》音樂APP，來讓新手快速進入音樂的世界，同時當天購買任一款iPad就加送價值890元《BIAS FX》APP，購買12.9吋iPad Pro 128GB加購安心意外保就送Apple Pencil，同時20名報到者加送皮革證件套。（周淑萍／綜合報導）\\xa0更有趣報導，請上副刊吃喝玩樂蘋果花粉絲團\\xa0不管迷人美照，還是失焦殘念照，快來「失焦der小確幸」社團分享照片吧\\n5/14當天購買iPad 任一款加碼送價值近900元的《BIAS FX》音樂APP。廠商提供', 'view_cnt': 854}, {'link': 'http://www.appledaily.com.tw//realtimenews/article/entertainment/20160511/858143/巨石強森演新版《野蠻遊戲》\\u3000「讓羅賓威廉斯驕傲」', 'category': '娛樂', 'title': '巨石強森演新版《野蠻遊戲》\\u3000「讓羅賓威廉...', 'time': '2016/05/11 11:40', 'summary': '好萊塢巨石強森（Dwayne Johnson）以《玩命關頭》系列、《加州大地震》等票房電影衝出高人氣，他確定主演90年代經典科幻冒險片《野蠻遊戲》的重啟版，預計明年7月上映，他日前受訪時表示新版電影會更忠於原著，並保證「一定會讓羅賓威廉斯驕傲」。\\xa0\\xa01995年推出的電影《野蠻遊戲》由已故男星羅賓威廉斯、克莉絲汀鄧斯特主演，劇情描述神祕的桌上遊戲「野蠻遊戲」只要輸入符合的密碼，就會帶領玩家進入超時空環境中，12歲的男孩阿倫派瑞許困在遊戲中的叢林裡達26年之久，直到他38歲這年才被兩位小孩茱蒂和彼特無意間尋獲，但他們必須玩完全程，並找回當時阿倫的玩伴莎拉才可以回到現實。該片因題材新奇廣獲好評，全球熱賣2.62億美元（約85億元台幣），堪稱90年代奇幻片的經典作，索尼影業11年前曾以續集之名推出《野蠻遊戲：迷走星球》。\\xa0巨石強森日前確定主演重啟版的《野蠻遊戲》，他受訪時透露該片是「重新想像這個奇幻的故事」，將更忠於原著小說的劇情設定，他也對威廉斯表達致意，他說：「我們將向他致敬，而阿倫將以真摯且很酷的形象永遠活在《野蠻遊戲》的世界中，我已經有一些初步想法，我想他的家人會感到驕傲。」該片卡司還有黑人諧星凱文哈特，新版蜘蛛人湯姆哈蘭也將軋一角，預計明年7月在美上映。（謝宛儒／綜合報導）', 'view_cnt': 4179}, {'link': 'http://www.appledaily.com.tw//realtimenews/article/international/20160511/858261/【更新】911恐攻倖存者\\u3000當佛光山義工走出陰霾', 'category': '國際', 'title': '【更新】911恐攻倖存者\\u3000當佛光山義工走...', 'time': '2016/05/11 11:40', 'summary': '（更新：新增動新聞）\\xa0慶祝佛誕節暨佛光山開山50週年，法拉盛的佛光山紐約道場將在週六同步舉辦影像回顧圖像展。走過半世紀，老照片承載珍貴的歷史回憶，其中星雲法師在2001年發生911恐怖攻擊事件後，率領百名法師到現場超渡往生者的照片也在展出之中。佛光山紐約道場理事陳雅芬看到這張照片甚是激動，因為她是恐攻事件的倖存者。\\xa0「很長一段時間，很怕接觸人群，也很怕看到高樓」，陳雅芬指著照片上的雙子星大廈，她說飛機撞上當時，從事保險業的她就在大樓裡。雖然順利躲過死劫，但死裡逃生的她卻在事件之後，身心承受不了如此大的創傷，得了憂鬱症，好一陣子走不出來。甚至「一聽到警車、救護車聲音就會緊張」。\\xa0陳雅芬回想事件發生之前，在美國的日子都過得相當平安，完完全全沒想到會遭遇15年前恐攻事件。當時的她特別「覺得沒有安全感，不曉得明天在哪裡」。雖然她過去就曾經接觸佛光山活動，但她當時更需要宗教心靈上的慰藉，「因為911我來到佛堂」，也因此，陳雅芬天天將行程排滿，參加道場裡的書法班、讀書會、合唱團，「每天日子過得很紮實，花了幾年時間才慢慢走出來」。\\xa0陳雅芬講著講著難掩激動，頻頻啜泣、拭淚。她說「珍惜現在能活著的日子」，也感念經歷此創傷期間，佛光山道場是她「心靈寄託的場所、心靈的加油站」。而後，陳雅芬也持續在佛光山紐約道場擔任義工，甚至擔任支會分會長，幫助心靈受過創傷的人，或者是來美的新移民。\\xa0佛光山開山50週年活動影像回顧圖像展，將在5月15日至6月15日在紐約道場為期一個月的展出，現場除了展有星雲大師年輕時弘法照片，更有佛光山半世紀的全球五大洲動靜態影像紀實。配合活動也將舉辦「慶祝佛誕節佛光三好園遊會」活動，佛光山紐約道場邀請民眾共同參加。（曾偉旻╱紐約報導）出版：06：40更新：11：37\\xa0\\n陳雅芬指著當時她遭遇911恐攻時，所處的48樓。曾偉旻攝911事件發生後，星雲法師與上百名法師前往現場超渡。翻攝畫面佛光山紐約道場將與全球佛光山道場同慶開山50週年，舉辦系列活動。曾偉旻攝影像回顧圖像展上也展出星雲大師年輕時的模樣，相當帥氣。曾偉旻攝', 'view_cnt': 7362}, {'link': 'http://www.appledaily.com.tw//realtimenews/article/finance/20160511/858416/【財訊】外資金童楊應超的第15個戰場\\u3000轉戰Fintech', 'category': '財經', 'title': '【財訊】外資金童楊應超的第15個戰場\\u3000轉...', 'time': '2016/05/11 11:40', 'summary': '本內容由財訊雙週刊提供\\xa0走進位於敦化南路上葉財記大樓的異康公司辦公室，由logo上的英文名稱E-COM，推測是和網路業務相關的公司；但讓人意外的，這裡是前巴克萊銀行董事總經理楊應超的新辦公室。這位片刻不得閒的外資金童，即使卸下重擔，仍一如既往地忙碌著，看上去像是剛結束上一個行程。投身金融業新顯學楊應超總是一襲吊帶西裝，拎上一只後背包就能全世界走透透，儘管工作繁忙，但說起話來臉上永遠掛著笑容，身為外資圈裡明星級的大咖分析師卻絲毫沒有架子，走在路上要是不特別注意，你不會知道這位擦身而過的大叔所發表的投資報告，影響上千億外資資金進出。一陣寒暄後，記者問起楊應超的職涯下一步，他爽朗笑回：「你們問得真是時候，這份工作是剛才吃飯時才談定的，我接下來會在這裡（異康公司）擔任首席資深顧問。」見記者一臉疑惑，他接著說，「異康現在正投入Fintech（金融科技）產業。」Fintech一詞掀起全球熱潮，近期更成為金融業顯學，「我是科技背景出身，曾經待過ＩＢＭ及ＩＴ資訊公司；而我又在金融領域這麼久，金融業做財務工程就是運用科技來達成，所以Fintech對我來說不算陌生，接下這個顧問職就是幫忙把這兩個產業知識結合，提供意見與策略方向。」楊應超提到，國外有不少華爾街大班轉戰Fintech的例子，例如花旗、摩根士丹利及德銀的前舵手，都紛紛「掉轉槍頭」投身Fintech...詳全文', 'view_cnt': 1159}, {'link': 'http://www.appledaily.com.tw//realtimenews/article/life/20160511/858443/【有片】亞東電信爆歇業\\u3000母公司：會全額退費\\u3000', 'category': '生活', 'title': '【有片】亞東電信爆歇業\\u3000母公司：會全額退...', 'time': '2016/05/11 11:40', 'summary': '更新：新增影片\\xa0專售國際電話卡第二類電信業者亞東電信，傳出無預警歇業，今母公司全網通出面表示亞東確實暫停國際電話卡業務，但不會停業解散公司，購買民眾持發票和電話卡可到超商或該公司全額退費，業者透露，國際電話業務受通訊軟體盛行影響，每月全台銷售量僅剩十多萬元。\\xa0根據公司登記資料，亞東電信為全網通科技所投資，全網通董事長林瑋軒也身兼亞東電信監察人。今林出面說明表示，雖國際電話卡業務並不賺錢，但基於服務老客戶，仍持續經營，不過近日因身體微恙開刀治療，但原負責業務財務顧問卻未繳交租用電路費用，導致從上月底起斷訊。\\xa0林瑋軒表示，為此已將負責三位財務顧問解除職務，但因該業務確實營運不佳，也順勢停止，對於造成消費者不便也非常抱歉，超商業者代收2到4月費用，還在超商處，民眾可持發票和電話卡至原購買超商全額退費，已開卡、未用完民眾，也可至證件至位於北市內湖區瑞光路公司所在地退費。\\xa0林表示，受到通訊軟體盛行影響，目前每月全台銷售金額僅約十多萬元，和二、三年前相比，僅剩兩、三成。不過未來還有其他新業務會推展，所以亞東電信雖停止國際電話卡業務，但不會停業。\\xa0不過林瑋軒表示，為了節省人力成本，現在亞東電信已沒有員工，原業務由全網通員工統一處理相關業務。（朱正庭／台北報導）\\xa0出版：11:26更新：11:40\\xa0\\xa0 \\xa0\\n全網通。莊宗達攝全網通董事長林瑋軒。莊宗達攝', 'view_cnt': 5703}, {'link': 'http://www.appledaily.com.tw//realtimenews/article/international/20160511/858459/【央廣RTI】衛星曝光!北韓暫無核試跡象', 'category': '國際', 'title': '【央廣RTI】衛星曝光!北韓暫無核試跡象', 'time': '2016/05/11 11:40', 'summary': '本內容由中央廣播電臺提供\\xa0\\xa0 \\xa0 \\xa0 \\xa0在北韓勞動黨全國代表大會通過提升北韓核子軍備政策之際，美國智庫今天(11日)表示，最近的衛星影像顯示，沒有北韓迫在眉睫要進行五次核試的跡象。北韓最近召開36年來首見的勞動黨全國代表大會，並正式通過一項提升及擴大北韓核子軍備的政策。北韓中央通信社(KCNA)報導，這項決定是為了「在質量和數量上提升北韓自我防衛的核子能力。」\\xa0 \\xa0 \\xa0 \\xa0美國約翰霍普金斯大學(Johns Hopkins University)美韓研究所(US-Korea Institute)指出，這些日期標示為5月8日的衛星照片顯示，位於北韓東北方的豐溪里(Punggye-ri)地下核測試場只有低程度的活動，而且先前在核試場指揮中心發現的車輛也已不見。先前的衛星影像顯示，指揮中心前緊密停放著車輛，這通常只有在最終的核試準備時會看到。\\xa0 \\xa0 \\xa0 \\xa0北韓領導人金正恩並在會中宣布，北韓要做一個負責任的擁核國家，要為全球的無核化努力。金正恩表示，將誠實履行核不擴散義務，為實現世界無核化而努力。只要敵對勢力不動用核武侵犯北韓的自主權，北韓將依照承諾，不會先動用核武器。(繼續閱讀)', 'view_cnt': 566}, {'link': 'http://www.appledaily.com.tw//realtimenews/article/local/20160511/858409/【有片】女騎士竄出巷道\\u30001秒後被撞死', 'category': '社會', 'title': '【有片】女騎士竄出巷道\\u30001秒後被撞死', 'time': '2016/05/11 11:39', 'summary': '「路口一定要減速！」彰化縣警局再度將驚悚的死亡車禍行車紀錄器影片PO上臉書，一名騎機車未戴安全帽的婦人從巷道右轉彰化縣埤頭鄉中和村溪林路，一輛直行的大客車閃避不及，直接撞上婦人，經送醫不治死亡。警方ＰＯ臉書呼籲「請大家行經交岔路口時，應減速並禮讓，注意來車方向，最重要的記得戴安全帽！」\\xa0警方指出，車禍發生在上月26日清晨6時許，劉姓男子（54歲）駕駛某校校車要前往上班地點，行經溪林路時，右側巷道突然有一部機車衝出來，騎機車的婦人連看都沒看左側是否有來車就向右轉，大客車車速也不慢，根本來不及減速，右側就直接撞上婦人機車。\\xa0沒有戴安全帽的陳姓婦人（78歲）當場被拋飛到一旁的圳溝裡，大客車駕駛也趕緊停車，並下車查看、報警，但陳女雖經送醫急救，仍因傷重不治。當時車上並沒有載學生，司機也未受傷。\\xa0雙方經酒精濃度檢測均無酒駕情形，警方指出，千萬不要心存僥倖、貪圖方便，不戴安全帽就騎車上路，而汽機車經過巷道路口也一定要減速，才不致發生遺憾。（鄧惠珍／彰化報導）\\xa0\\xa0\\n婦人由巷道右轉。翻攝畫面。婦人看起來並未戴安全帽。翻攝畫面。大客車閃避不及，右側撞上婦人。翻攝畫面。', 'view_cnt': 139483}, {'link': 'http://www.appledaily.com.tw//realtimenews/article/finance/20160511/858458/谷歌投資沒喊卡反加碼\\u3000經部：滿足水電需求', 'category': '財經', 'title': '谷歌投資沒喊卡反加碼\\u3000經部：滿足水電需求', 'time': '2016/05/11 11:38', 'summary': '日前傳出由於台灣缺水又缺電，不僅臉書不來台投資，連谷歌在彰濱投資案都要喊卡，經濟部次長沈榮津今赴立院備詢時澄清，谷歌將持續在台投資，一定會滿足水電等需求，先前因有簽定NDA保密協定因此不便詳細說明。\\xa0據日前媒體報導，谷歌4年前在彰濱工業區設置雲端資料中心，去年加碼3億美元擴廠，提出用水量要增加6000噸的需求，但彰化縣缺乏水源，經濟部雖編列經費，擬自雲林引水遇抗爭，傳出Google第３期擴廠計畫進度受阻。\\xa0立委批，缺水缺電等問題使得台灣投資環境差、外資不願來台投資，排名為全球倒數第5，實為警訊，是否因為缺水問題導致臉書不來台投資、谷歌投資案喊卡？\\xa0沈榮津表示，谷歌投資計劃將持續，金額未變，與谷歌保持密切關係，一定會滿足投資者水電需求，雙方因有簽定NDA保密協定所以才不便說明細節。\\xa0據了解，谷歌投資案不僅沒喊卡，甚至還加碼投資彰濱工業區！沈榮津引述媒體報導指出，除第1階段第3期擴廠工程將於年底完工外，第2階段總金額390億元投資也悄悄展開，預計將在彰化縣彰濱工業區興建佔地32公頃的Chrome及Nest研發中心，完成後台灣將是谷歌在美國之外，全球最大營運基地。(江俞庭／台北報導)', 'view_cnt': 1446}, {'link': 'http://www.appledaily.com.tw//realtimenews/article/politics/20160511/858457/2758決議與一中原則無關？\\u3000馬總統：與事實相距太遠', 'category': '政治', 'title': '2758決議與一中原則無關？\\u3000馬總統：與...', 'time': '2016/05/11 11:37', 'summary': '總統馬英九今天上午頒贈兩岸交流有功人員勳章，給海基會董事長林中森、陸委會主委夏立言、國安會諮委王郁琦與行政院顧問吳美紅。馬總統在致詞時提到世界衛生大會（WHA）的議題，他說，中華民國在1971年失去聯合國代表權，是外交戰場上最大的挫敗，那次挫敗後，邦交國從60幾國一下子變成20多國，是驚天動地的大變化，對台灣影響太大；有人說2758號決議跟台灣無關或是跟一中原則無關，「我不知道他們怎麼會有這樣的想法，跟事實實在相距太遠，對我們影響太大，所以沒有這個的話，我們在國際上不會有這麼大困難。」\\xa0馬總統說，闊別38年，我們在2009年還是參加WHA，用的是「中華台北」的名稱，採納的是正式觀察員的身份，出席的是正式大會，而非技術性會議，聯繫時直接就跟世界衛生組織的秘書處聯絡，而非經過第三方，這都是過去從未達到過的。「兩岸關係改善，外溢效果就是國際關係改善，讓全世界都知道，儘管他們跟中國大陸建立正式外交關係，但他們還是願意跟台灣保持適度關係，不光是對他們有益，對整個世界和平繁榮都有利」。\\xa0馬總統指出，在此狹窄空間中，發展出前所未有的國際角色，就是和平促進者與人道援助提供者，也因為做了這些，大家都認為中華民國存在在這個世界是資產不是負債，這沒有大陸政策改善是不可能達成的。台灣所面對的是兩岸情勢嚴峻，不管哪一黨執政都會遭遇困難，前人已經種的樹、開的花、結的果，必須要珍惜，歷史留在這個地方給我們重要參考，盼台灣人民與政府都能珍視，讓兩岸關係繼續前進。（張文馨／台北報導）', 'view_cnt': 3157}, {'link': 'http://www.appledaily.com.tw//realtimenews/article/sports/20160511/858471/【有片】紅襪拉米瑞茲夯468呎MLB本季第2遠', 'category': '體育', 'title': '【有片】紅襪拉米瑞茲夯468呎MLB本季...', 'time': '2016/05/11 11:37', 'summary': '紅襪靠著貝茲(Mookie Betts)、拉米瑞茲 (Hanley Ramirez)和蕭(Travis Shaw )3轟，以及打線敲出本季單場新高的16安，以13比5大勝運動家。蕭敲出生涯新高的單場5打點，而拉米瑞茲1局下的左外野2分砲，直接飛越芬威球場的綠色怪物，是支468呎(約142.6公尺)的超大號全壘打。\\xa0貝茲和拉米瑞茲的兩支全壘打，讓紅襪一開賽就取得3比0領先。拉米瑞茲這1棒，僅次馬林魚「怪力男」史坦頓(Giancarlo Stanton)7日所擊出的475呎(144.8公尺)，是本季大聯盟第2遠的全壘打。\\xa0另外，紅襪9棒布雷德利(Jackie Bradley Jr.)則4打數2安打，延續大聯盟本季最長的連16場安打。(鍾裕能／綜合報導).►Your browser does not support iframes.', 'view_cnt': 3123}, {'link': 'http://www.appledaily.com.tw//realtimenews/article/entertainment/20160511/858467/【網路溫度計】暖心男神從軍去？修杰楷閃電宣告入伍！', 'category': '娛樂', 'title': '【網路溫度計】暖心男神從軍去？修杰楷閃電...', 'time': '2016/05/11 11:36', 'summary': '本內容由網路溫度計提供\\xa0《2016網路溫度人氣大賞》暖心男神引發激戰，10日宣布即將入伍的帥氣人夫修杰楷，票數意外直逼年輕小鮮肉畢書盡、李國毅、李玉璽！\\xa0師兄弟齊賣萌 畢書盡、李玉璽闖進前三不論是親回粉絲留言、送上生日祝福，或苦勸小粉絲好好念書，畢書盡長期與粉絲熱情互動凝聚大票鐵粉，活動一開跑便與其他入圍者拉出差距，目前粉絲支持度高達4萬多票，於12位入圍者中暫居第一。\\xa0目前正忙著拍攝新作《我和我的17歲》的李國毅，因忙碌行程較少公開活動，但透過《我的自由年代》《料理高校生》等作品累積超高人氣，目前位列粉絲支持度第二。\\xa0而李玉璽因為演出《我的少女時代》爆紅，最近又接下新版《惡作劇之吻》男主角，人氣持續翻漲，李玉璽笑說有入圍就很開心了，要超越「大魔王」畢書盡實在太難啦，賣萌催票粉絲支持度成功衝進前三！\\xa0當爸更吃香 修杰楷入伍當「修大尉」誰說只有年輕小帥哥才能成為暖男！修杰楷自從結了婚、當了爸爸後，粉絲年齡層從20、30代女生升級全年齡通殺，在一票年輕男星中突圍目前名列第四名，10日晚上老婆賈靜雯發文「修爸爸乖乖去做該做的事」，親手幫修杰楷剃平頭，宣告老公即將入伍，粉絲感性留言「修爸爸要去當修大尉了」、「大家等你回來」！而近年重心轉往中國的彭于晏、霍建華，雖然在台灣曝光度較少，粉絲們依舊熱情十足，還特別在粉絲團撰寫投票教學文替偶像催票，難怪兩人就算沒露面粉絲支持度依舊能分列第四、第五名。其他入圍者包括四爺吳奇隆、五月天主唱阿信、大仁哥陳柏霖、布魯斯、劉以豪、韋禮安等，粉絲支持度投票活動將於5/15截止，最終總排名將統計DailyView網路溫度計網路討論聲量（占45%）、Yahoo奇摩關鍵字搜尋量（占45%）、粉絲支持度（占10%），於5/17公布最終排名。\\xa0「oeoe網路警報器」為偶像持續加溫《DailyView網路溫度計》為感謝眾多粉絲熱烈響應2016網路溫度人氣大賞！推出「oeoe網路警報器」App，關注偶像超方便，透過oeoe每8小時可加碼支持你的心愛偶像一次，加溫他們的網路溫度！\\xa0Android版下載 / iOS版Coming Soon\\xa0更多詳細資訊：大賞火速加溫投票 下載oeoe網路警報器2016網路溫度人氣大賞完整入圍名單DailyView網路溫度計官網2016網路溫度人氣大賞眾星催票影片', 'view_cnt': 4438}, {'link': 'http://www.appledaily.com.tw//realtimenews/article/politics/20160511/857954/【內心事】\\u200b羅瑩雪真面目\\u3000其實是「宅女小雪」', 'category': '政治', 'title': '【內心事】\\u200b羅瑩雪真面目\\u3000其實是「宅女小...', 'time': '2016/05/11 11:35', 'summary': '即將卸任的法務部長羅瑩雪，近來不斷大鳴大放，講真話不怕得罪人的作風，被網友封為雪神、藍營女戰神，也有人批評她不打理門面、答詢時表情猙獰如悍婦。雪神聽得下去嗎？\\xa0羅瑩雪在《蘋果》網路政論節目《紅芯A真心話大冒險》，接受主持人A濫、徐巧芯的真心話大考驗，錄影前空檔接受《蘋果》採訪，她說不覺得自己凶悍：「法務部年輕同仁都叫我阿姨」，卸下公務身份的她，根本超自閉，「其實你可以叫我宅女」。\\xa0羅瑩雪說，她平常在家完全素顏，「我不喜歡逛街，我喜歡宅在家」，上班只畫眉毛、擦個口紅，連吃喜酒、出席活動都不化妝，「我不是雪神，我就是個宅女」，可以宅到星期五下班到星期一上班，「中間都沒出過門」。看著造型師幫她上妝，羅瑩雪還笑著問記者：「我都快不認識自己了，你們知道我是誰嗎？」\\xa0至於宅在家做什麼？羅瑩雪說，她喜歡看書，「我喜歡看武俠小說、科幻小說，什麼書都看，看書能給我啟發」，更給了一段「宅女小雪」名言：「有書，一點都不寂寞！」（專案組／台北報導）\\xa0更多戰神部長的新聞，你一定要看......【有片】就是他！\\u3000讓雪神嘆「人都會看走眼」\\xa0更多羅瑩雪真心話，通通在11日晚間七點「紅芯Ａ-真心話大冒險」請鎖定 \\xa0蘋果LIVE\\xa0\\n法務部長羅瑩雪薄施脂粉，配上開朗笑容，像個鄰家阿姨。游宗樺攝不愛化妝的法務部長羅瑩雪，難得讓造型師上妝。游宗樺攝', 'view_cnt': 5294}, {'link': 'http://www.appledaily.com.tw//realtimenews/article/finance/20160511/858461/焦點股～獲利優預期\\u3000京元電挑戰前高', 'category': '財經', 'title': '焦點股～獲利優預期\\u3000京元電挑戰前高', 'time': '2016/05/11 11:34', 'summary': '封測廠京元電（2449）4月營收創今年新高，預期本季營運可望淡季不淡，股價維持高檔震盪後，今天再度發動攻勢，漲幅一度超過3%，短期若量能持續增溫，有機會突破28.9元高點。\\xa0京元電第1季每股純益達0.52元，優於市場，且4月營收創今年新高，預期本季營運可望持續走高，淡季不淡，近期股價維持高檔震盪，表現相對強勢，今天再度轉強，最高達28.7元，逼近前高28.9元關卡。（陳建彰／台北報導）', 'view_cnt': 824}, {'link': 'http://www.appledaily.com.tw//realtimenews/article/life/20160511/858468/設計之都你有感嗎？\\u30005路段62處變電箱大變身', 'category': '生活', 'title': '設計之都你有感嗎？\\u30005路段62處變電箱大...', 'time': '2016/05/11 11:34', 'summary': '你有感嗎？為了讓民眾生活環境獲得改善，設計之都專案辦公室今天召開記者會，宣布與台電合作，共同改造台北市全市62處133座變電箱。設計之都執行長吳漢中表示，希望透過這些微小的細節，讓民眾體會到城市的改變；文化局長謝佩霓則認為，透過小小的美化工程，讓大家體會到不同的變化。\\xa0設計之都專案辦公室表示，目前北市共有9000多座變電箱，本次計畫執行北市62處133座變電箱環境彩色作業，包含松江路、復興南北路、北門、新生南路與羅斯福路等5路段，所有變電箱都將配合周圍道路、橋樑的背景，設計5種不同造型，目前松江路路段開始作業，其餘路段陸續執行。該計畫總經費約1000餘萬，除了變電箱改造，還包含高架橋、人行道、公車專用道彩繪。\\xa0吳漢中表示，設計之都希望能改變一些微小細節，讓民眾感受到設計就在各個角落。新的變電箱將重新整理排版箱體上的字體與符號，減少視覺負擔與雜亂的資訊，底部的水泥基座也會調整警示條紋的比例，內側也會刷上輔助色，讓整體看起來更有層次。\\xa0謝佩霓表示，希望藉此帶動公民參與，未來擴大改變全台北市9000座的變電箱，她坦言自己不認為設計就是要花大錢，畢竟每個階段拆除、重造成本都是非常高的，透過這樣小小改變，就可以讓城市產生新的表情和新的可能。未來也可能在變電箱上附上資訊載體，可以在上頭放上QR Code，民眾可用手機掃描找尋周圍捷運站、文化景點，這樣政府就不需要再打造9000個資訊站。\\xa0台電台北營業處副處長楊顯輝特別感謝市府的用心，過去變電箱都是統一色塊，上頭甚至貼滿貼紙還有塗鴉，看起來有些凌亂，能配合周圍環境打造不同的特點的變電箱，確實讓整體環境看起來更美好。(陳思豪/台北報導)\\xa0\\n文化局長謝佩霓認為設計不一定要花大錢，小小改變就能讓民眾有不同體驗。陳思豪攝設計之都改造松江路上的變電箱。陳思豪攝', 'view_cnt': 1037}, {'link': 'http://www.appledaily.com.tw//realtimenews/article/international/20160511/858345/重新開幕超吸睛\\u3000整理舊金山現代藝術博物館10大亮點\\u3000', 'category': '國際', 'title': '重新開幕超吸睛\\u3000整理舊金山現代藝術博物館...', 'time': '2016/05/11 11:31', 'summary': '美國舊金山現代藝術博物館（San Francisco Museum of Modern Art，SFMOMA）歷經3年翻修，將在5月14日重新開幕，新的建築外觀彷彿是漂浮的冰山，除了超酷的外型相當吸睛，負責博物館翻修的建築公司負責人戴克（Craig Dykers）表示：「希望能敞開大門，歡迎更多對現代藝術較沒概念的民眾」使得博物館本身，不僅只是一座存放藝術品的場所。\\xa0《WIRED》雜誌報導，新的博物館至少有以下10大亮點。（北美中心／綜合外電報導）\\n１．富麗堂皇樓梯間：原本複合式的樓梯多少會擋住上方的視線，新的樓梯間採光能力更佳，天然光線直接照耀進來。翻攝《WIRED》２．生命之牆：這座3層樓高的牆面，是全美最大面的生命之牆之一。俄勒岡酢漿草、劍蕨等植物就是覆蓋在加州森林地表上的綠色植物，能降低周遭溫度，淨化空氣，甚至減緩壓力。翻攝《WIRED》３．更多採光：為了採納更多光線，窗戶的框線，玻璃窗片之間的接合點，都盡可能做到最細。翻攝《WIRED》４．炫目外裝：建築的外觀模仿舊金山灣的波光粼粼，除了炫目更是務實之選：玻璃纖維的原料既比鋼鐵輕盈，又比混凝土便宜。翻攝《WIRED》５．專屬APP讓你把手機放在口袋，眼睛專心體驗藝術，而不只是普通的語音導覽。翻攝《WIRED》6．極細排氣孔：特殊空調系統設計，將排氣管藏在天花板裡，且孔隙極細化，不影響美觀。翻攝《WIRED》7．隱藏式LED燈：隱藏式LED燈透過反射器將讓光線四散，使得燈光亮度更適合觀賞藝術品。翻攝《WIRED》8．玻璃三明治：多層次窗戶內建特殊「溶塊」，這些小黑點能阻擋陽光曝曬，版塊之間的空隙則能隔離外部干擾，還有抗紫外線的內層等，多道層次彷彿三明治。翻攝《WIRED》9．神秘園丁：生命之牆內設有智慧裝置，隱藏式感應器監控灌溉、酸鹼值和濕度，秘密照料館內19,000株植物，彷彿隱藏版園丁。翻攝《WIRED》10．隔音設備：總有些咳嗽、拖著腳走路，大力踩踏的觀眾，難免妨礙觀賞的興致。建築物天花板內建隔音灰漿、樓梯間設置特製木板，吸取不必要的噪音，提高參觀品質。', 'view_cnt': 579}, {'link': 'http://www.appledaily.com.tw//realtimenews/article/politics/20160511/858453/回應國台辦\\u3000民進黨：維持現狀是合乎各方利益的最大共識', 'category': '政治', 'title': '回應國台辦\\u3000民進黨：維持現狀是合乎各方利...', 'time': '2016/05/11 11:31', 'summary': '中國國台辦發言人馬曉光今表示，中國對「九二共識」的要求是合理的，因為「我們沒有對台灣新候選人提出過超出2008年以來的新要求」、現在「球在台灣新的當政者手上」。民進黨發言人阮昭雄今表示，總統當選人蔡英文的兩岸政策立場非常清楚，就是維持現狀，維持台灣的自由與民主，維持台海和平與兩岸穩定與發展的現狀。\\xa0阮昭雄說，蔡英文維持現狀的主張，不僅合乎各方的利益，更是台灣社會最大的共識所在，而維持兩岸關係和平穩定與發展，也是雙方共同的責任。（林修卉／台北報導）\\xa0\\xa0\\n【想知道更多，一定要看……】交部稱網軍攻擊準戰爭程度\\u3000軍方打臉：不會用這個字速簽鄭捷死刑令\\u3000羅瑩雪回應10語錄', 'view_cnt': 2305}, {'link': 'http://www.appledaily.com.tw//realtimenews/article/life/20160511/858446/對流旺盛\\u3000台南高雄屏東注意大雷雨', 'category': '生活', 'title': '對流旺盛\\u3000台南高雄屏東注意大雷雨', 'time': '2016/05/11 11:30', 'summary': '由於目前台灣海峽南部對流雲系發展旺盛並即將移入，中央氣象局剛剛發布即時天氣訊息，提醒台南、高雄及屏東地區注意瞬間大雨、強陣風及雷擊。（生活中心／台北報導）', 'view_cnt': 1029}, {'link': 'http://www.appledaily.com.tw//realtimenews/article/nextmag/20160511/858466/【壹週刊】女疑吸毒超商咆哮\\u3000囂張嗆警GG了', 'category': '壹週刊', 'title': '【壹週刊】女疑吸毒超商咆哮\\u3000囂張嗆警GG...', 'time': '2016/05/11 11:28', 'summary': '警方日前獲報高雄市一家超商內，有名女性不斷大聲咆哮，並且騷擾客人，前往勸阻時，該女子竟然囂張嗆警，還辱罵三字經，警方不容公權力受挑戰，強勢壓制移送法辦。\\xa0位於新民路與灣中路超商，4月27號晚間11點多，一名女子坐在超商椅子上，自言自語還不時大聲咆哮，甚至對客人怒罵，店員發現女子行為怪異，擔心波及顧客，趕緊報警，沒想到，兩名員警前往處理時，她竟然大聲嗆警，簡直就把客氣的員警當成小弟在罵。\\xa0警方警告她說話客氣點，互相尊重，該名女子不但沒有收斂，還不甘示弱地站起來，指著員警問「這是什麼世界」，員警耐著性子請她卡小聲點、不要妨礙安寧秩序，女子嗆警察說要調哪裡，接著三字經出口，辱罵員警，警方眼看女子行為已經明顯犯下公然侮辱，直接將她壓制，移送警局。\\xa0經過調查，大鬧超商的是74年次的蔡姓女子，有竊盜以及多項毒品前科，租屋在附近，警方懷疑，蔡女可能吸毒後出現神智不清，跑到超商大鬧，已經採集檢體化驗，並且針對她公然侮辱還有妨礙公務的部分，移送法辦。警方強力執法的影片貼在臉書上後，引起網友廣泛討論，有人認為警察總算硬起來，也痛罵該女子沒有教養，給警察按個讚等留言。（撰文:社會組）\\u3000「點我看更多其他壹週刊新聞…」\\n警方獲報前往超商安撫情緒不穩女子，卻遭辱罵。（圖：警方提供）', 'view_cnt': 2804}, {'link': 'http://www.appledaily.com.tw//realtimenews/article/life/20160511/858456/兒女照「書」養\\u3000研究：逾7成父母照臉書養', 'category': '生活', 'title': '兒女照「書」養\\u3000研究：逾7成父母照臉書養', 'time': '2016/05/11 11:26', 'summary': '3C產品普及，造就「滑世代」。台師大一項研究發現，由於3C裝置盛行，民眾生活越來越離不開手機，不僅年輕世代會使用智慧型手機，而65歲以上銀髮族，使用智慧手機的比率也超過五成；此外，台灣有9成民眾使用LINE，並有7成有家族LINE群組，也有四成五臉書使用者，有臉書家族社團，而令人訝異的是，各年齡層使用臉書家族社團的比率，以65歲以上的6成最高。\\xa0台師大家庭研究發展中心主任林茹萍今在教育部發表「數位科技及社群媒體使用與家人關係」調查研究，顯示台灣18歲以上民眾生活，愈來越離不開3C裝置與社群媒體，而銀髮族也不遑多讓，尤其在臉書家族社群的使用者中，65歲銀髮族佔比例最高，達59.7%，最低的反而是18-29歲的年輕族群，只有36.5%。\\xa0林茹萍並指，以前養兒育女是「照書養」，現在則是照「臉書」養；調查發現，育有學齡前兒童的父母，有七成二是透過臉書詢問教養孩子的問題，有八成五則在臉書上找到有用的教養資訊。而針對13-17歲子女的教養，有三成七父母以禁止使用手機或電腦，作為對孩子處罰的方式。\\xa0然而，數位科技是否增加了家人的互動？林茹萍說，三十年前的家族聚會，一家人應該是很快樂的在餐桌上聊天，然而前幾天的母親節，應該有不少人是在餐桌上先拍照、再聊天、吃飯配滑手機；但這項調查發現，有七成五民眾同意數位科技增加了家人的聯繫與溝通，六成以上民眾也認為社群網路讓家人更加親近，另有五成認為，科技造成減少了實質互動。\\xa0林茹萍建議，活在數位時代，父母一定要做的幾件事，包括提升自己的數位素養、設定合宜的監控機制及使用規範，甚至可以全家一同努力、健康地使用數位裝置或社群網路。(劉嘉韻／台北報導)\\xa0\\xa0\\n台師大一項研究發現，由於3C裝置盛行，民眾生活越來越離不開手機。劉嘉韻攝', 'view_cnt': 656}, {'link': 'http://www.appledaily.com.tw//realtimenews/article/international/20160511/858433/16歲不可抽菸但可投票？舊金山11月歷史性公投定奪', 'category': '國際', 'title': '16歲不可抽菸但可投票？舊金山11月歷史...', 'time': '2016/05/11 11:26', 'summary': '16歲以上的舊金山青年是否具能力投票？現在確定進入公投，端看11月時，市民怎麼說。\\xa0今天下午舊金山市議會以9比2的票數，通過11月交由選民決定是否修改市憲章，將地方選舉的投票年齡從18降低至16歲。\\xa0投下反對票的市議員麥翡（Mark Farrell）和郭嫻（Malia Cohen）皆認為舊金山在不同議題上，對年齡的限制不一致。\\xa0「合法買菸年齡剛從18歲提高到21歲⋯⋯我16歲時，根本還沒準備好要投票。我16歲時，比較關心考到駕照、棒球，以及邀請女孩去畢業舞會這些事，投票這檔事我壓根沒想過。」\\xa0麥翡也表示，今年市議會才提高抽煙的年紀至21歲，現在又認為青年有足夠判斷能力參與市政投票，對於青少年和其智力的定義十分矛盾。\\xa0郭嫻補充，她擔心一旦青少年被認定有投票權，在法庭上，將會被視同為成人來審判。\\xa0不過其他原先有質疑的市議員，包括威善高（Scott Wiener）和議長布里德（Lodon Breed）都在上禮拜的公聽會後改變主意，轉而支持。\\xa0市議員馬兆光（Eric Mar）則再次強調，他16歲女兒絕對有能力可投票了。（王欣儀／綜合報導）\\xa0\\n議案的提案人，第11區市議員愛華樂（John Avalos ）。翻攝SF Examiner投反對票的第二區市議員麥翡（Mark Farrell）。翻攝SF Examiner第十區市議員郭嫻（Malia Cohen）也反對調降投票年齡。翻攝sfbos.org', 'view_cnt': 531}, {'link': 'http://www.appledaily.com.tw//realtimenews/article/politics/20160511/858429/交部稱網軍攻擊準戰爭程度\\u3000軍方打臉：不會用這個字', 'category': '政治', 'title': '交部稱網軍攻擊準戰爭程度\\u3000軍方打臉：不會...', 'time': '2016/05/11 11:25', 'summary': '立法院外交及國防委員會今天邀國防部、國安局等相關部會報告「從國防部成立第四軍種之必要性探討網路駭客之侵擾對政府及民間資訊安全防範之挑戰」。根據交通部提供報告指出，台灣是駭客攻擊活動最頻繁的國家，勝過美國、香港、中國大陸，主因是「多數駭客攻擊行為來自對岸」，許多活躍的駭客是來自大陸網軍，長年滲透台灣的國防、外交、民生（油水電）、航管、通信等關鍵系統，入侵規模及深度已經構成「準戰爭程度」。\\xa0不過，交通部報告遭到國防部與行政院打臉。國民黨立委江啟臣指出，交通部報告稱網軍攻擊是「準戰爭程度」，國防部副部長鄭德美答覆指出，國防部不會用這種字眼。行政院資通安全辦公室主任蕭秀琴也說，台灣應該是駭客攻擊活動最頻繁的國家「之一」。\\xa0民進黨選前公布的國防藍皮書說明國防部應該成立第四軍種，不過，鄭德美會前受訪表表示，國防部目前並沒有接獲任何消息要成立第四軍種，不過國軍會恪守行政院的政策指導。\\xa0國防部通通信電子資訊參謀次長室次長胡延年中將在詢答時說，大家都認為現在網安威脅都非常重要，需要在這方面做充實與努力，國防部資電作戰部隊在個精簡案中，只有在網路戰部隊人員沒有精簡，還增加人力，現階段國防部在質與量進行調整。但交通部提交的書面報告稱，成立第四軍種有必要性，以有效防衛台灣相關資產與關鍵基礎設施免於遭到組織駭客與恐怖分子的網路侵襲，必要時也要有攻擊的戰力，以癱瘓敵方可能對台產生的網路攻擊。（陳培煌／台北報導）\\xa0\\xa0\\n【想知道更多，一定要看……】回應國台辦\\u3000民進黨：維持現狀是合乎各方利益的最大共識【有片】政府未婚聯誼設年齡限制\\u3000吳思瑤自嘲「快不能參加了」', 'view_cnt': 1843}, {'link': 'http://www.appledaily.com.tw//realtimenews/article/life/20160511/858450/南山人壽併購美亞產險\\u3000公平會准了', 'category': '生活', 'title': '南山人壽併購美亞產險\\u3000公平會准了', 'time': '2016/05/11 11:25', 'summary': '南山人壽董事會去年6月通過購併美國國際集團(AIG)在台子公司美亞產險之個人險及中小企業商業保險業務，成交金額約49.23億元，兩家公司申報結合，經公平會審核後，今決議該結合案。\\xa0為拓展保險經營版圖，潤成投資控股公司旗下之南山人壽擬取得美亞產險全部股份，去年董事通過購併美國國際集團(AIG)在台子公司美亞產險之個人險及中小企業商業保險業務。\\xa0由於該案符合《公平交易法》第10條第1項第2款「持有或取得他事業之股份或出資額，達到他事業有表決權股份總數或資本總額三分之一以上」及第5款「直接或間接控制他事業之業務經營或人事任免」之結合類型，且潤成投資控股及南山人壽、美亞產險104年度之銷售金額已達結合應申報之門檻，所以依法向公平會提出結合申報。（蔡孟修／台北報導）', 'view_cnt': 405}, {'link': 'http://www.appledaily.com.tw//realtimenews/article/life/20160511/858440/先恢復勞工7天國定假日\\u3000勞動部擬將「周休二日」入法', 'category': '生活', 'title': '先恢復勞工7天國定假日\\u3000勞動部擬將「周休...', 'time': '2016/05/11 11:24', 'summary': '馬政府推動縮短工時而減少勞工7天國定假日，但在勞團激烈反彈下，立院退回此案不予備查，民進黨政府會怎麼做？有媒體報導，勞動部研擬兩方案，都是刪除7天國定假日，但配套是新增7天有薪家庭照顧假，或是明訂周休二日；但勞動部官員表示，並未研擬；準勞動部部長郭芳煜日前曾對民進黨立委表示，將先恢復7天國定假日。\\xa0《勞動基準法》今年元旦起將法定工時由雙周84小時減為單周40小時，但同步修正《勞動基準法施行細則》做為配套，將勞工與公務員國定假日齊一、減少勞工7天假，包括孔子誕辰紀念日、台灣光復節等。但立院日前決議退回此案，要求行政院2個月內修正或廢止，若依時程推估，新政府最慢要在6月20日前做出決定。\\xa0今《經濟日報》報導，勞動部內部研擬兩方案配套，一是維持刪除7天國定假日，但讓勞工比照公務員，增加7天有薪家庭照顧假；二是刪除7天國定假日，但周休二日訂入《勞基法》。\\xa0但勞動部官員說，並未研擬過「增加7天有薪家庭照顧假來換國定假日」這方案，家庭照顧假跟國定假日層次不同，不能一概而論。官員說，7天有薪家庭照顧假概念，先前討論與勞僱團體討論產假、育嬰假時，曾有人提出；但當時僱主希望由就業保險基金支應薪資，但基金在財務上無法負擔，因此並未有結論，這次也沒有再拿出來討論。。\\xa0準勞動部部長郭芳煜6日與民進黨立委餐敘時，在席間表示會先恢復勞工7天國定假日，未來再翻修《勞基法》將周休二日入法，再一併討論7天國定假日與變形工時調整的問題。（唐鎮宇／台北報導）', 'view_cnt': 3102}, {'link': 'http://www.appledaily.com.tw//realtimenews/article/politics/20160511/858427/唉！這款效率\\u3000台南大震過半捐款沒開收據', 'category': '政治', 'title': '唉！這款效率\\u3000台南大震過半捐款沒開收據', 'time': '2016/05/11 11:22', 'summary': '台南震災捐款截至上週五統計達43萬多筆，善款近42億元，但3個月來，捐款收據開出不到20萬筆，今天議會賑災款使用專案報告上，議員謝龍介等人批評市府作業太慢，市府社會局長劉淑惠表示，預定6月底可全數開出。\\xa0台南市副市長曾旭正上午在議會進行0206地震賑災款使用專案報告表示，截至上週五統計，累計捐款共41億9千餘萬元，已支出5億多元，後續預估還要再支出10餘億元。\\xa0大會主席林阳乙說，災後3個月，很多人捐款還沒收到收據，如果有人不想捐了，可不可以把錢要回去？議員杜素吟說，賑災捐款應用在受災戶，不是要讓市府開發建設，也不是讓市府放在銀行生利息。\\xa0議員謝龍介則批市府開立捐款收據速度太慢，相較新北市八仙塵爆時，他捐了1個月12萬多薪水，捐後19天就收到收據，這次震款他捐了20萬元，前後向市府要了3次，至今沒拿到，如果是這樣的話，希望把錢還他，他直接拿給受災家屬即可。\\xa0社會局長劉淑惠答詢時說，各界捐款共計43萬多筆，收據均採人工開立，所以作業較慢，至今開出收據不到 20 萬筆，預定 6 月底可全數開出。（劉榮輝／台南報導）\\n謝龍介批市府開立收據太慢輸新北市。劉榮輝攝。', 'view_cnt': 3557}, {'link': 'http://www.appledaily.com.tw//realtimenews/article/nextmag/20160511/858451/【壹週刊】速決鄭捷過程合法人權團體：羅瑩雪自打嘴巴', 'category': '壹週刊', 'title': ' 【壹週刊】速決鄭捷過程合法 人權團體：...', 'time': '2016/05/11 11:22', 'summary': '殘忍犯下4死22傷捷運殺人案的鄭捷，在最高法院死刑定讞第19天，昨(10日)遭槍決，法務部長羅瑩雪今(11日)上午受訪時強調簽下鄭捷槍決令過程絕對合法，不過台灣人權促進會砲轟羅部長根本是自打嘴巴。\\xa0台灣人權促進會祕書長邱伊翎表示：「台灣是個法治國家，法律有賦予人民有提非常上訴、再審及釋憲等的救濟期限，目前鄭捷還沒有超過30天法定期限，才19天而已，因此部長說是合法完全是自打嘴巴。」\\xa0羅瑩雪今早表示：「這個案件非常特別，鄭捷帶來的傷害，讓人心惶惶，治安產生不良影響，為了要使社會導入正途，讓那些崇拜、想效法鄭捷的人知所警惕，所以我們快速執行此案，因為此案案情非常簡單明白，證據直接明確，審查過程也照過去一樣，每個步驟都做了，但就像剛剛講的原因，所以比較快。」(撰文：專案組)', 'view_cnt': 6}, {'link': 'http://www.appledaily.com.tw//realtimenews/article/entertainment/20160511/858377/【更新】鄭捷為何槍決？\\u3000美女主播「神翻譯」', 'category': '娛樂', 'title': '【更新】鄭捷為何槍決？\\u3000美女主播「神翻譯...', 'time': '2016/05/11 11:21', 'summary': '（更新：白喬茵刪文）\\xa0鄭捷昨晚遭槍決，法務部隨即發出新聞稿，三立新聞主播白喬茵把它翻成「白話文」，獲網友好評。\\xa0不過白喬茵今天上午已將該PO文刪除。\\xa0白喬茵分享法務部新聞稿，「由於鄭捷案影響社會層面甚廣，社會大眾也紛紛要求法務部應依法執行死刑，以彰顯社會公義。我們理解，人權保障固為普世價值，惟刑事政策必須兼顧被害人人權及社會正義，發揮刑罰抗衡犯罪的功能，以維護社會秩序安定，保障絕大多數善良百姓的安全與福祉。」\\xa0白喬茵改成淺顯易懂的文，「我知道你有人權，但既然大多數人要你死，我就保不了你了，所以得罪了，我要開槍了！」\\xa0網友大推女主播一下子就讓人了解新聞緣由，「新聞稿給妳寫得很容易懂」。（王嘉慶／綜合報導）\\xa0出版時間\\u300010：23更新時間\\u300011：21\\n三立新聞主播白喬茵。翻攝臉書網友擷圖白喬茵臉書PO文。翻攝網路', 'view_cnt': 54378}, {'link': 'http://www.appledaily.com.tw//realtimenews/article/finance/20160511/858445/雙鏡頭夯\\u3000大立光目標價上看3200元', 'category': '財經', 'title': '雙鏡頭夯\\u3000大立光目標價上看3200元', 'time': '2016/05/11 11:21', 'summary': '歐系外資重新聚焦雙鏡頭趨勢，看好全球品牌廠採用雙鏡頭滲透率提升，預期今年大立光主要客戶蘋果、華為加速採用，帶動全球雙鏡頭滲透率可達5.6%、明年有望達13.5%，大立光將在6月重啟動能，將評等從減碼調升至買進，將目標價從先前的2000元一舉調升至3200元，也同步上調今明年獲利預估2.7%、18.4%。\\xa0由於大立光可能從下半年將提供主要客戶雙鏡頭鏡頭，雖然光學防手震組裝需要更複雜的製成，且由鏡頭模組著手，可能影響大立光營收，但對獲利影響應有限，預期大立光毛利率在有望擴增至60%。（陳俐妏／台北報導）', 'view_cnt': 1429}, {'link': 'http://www.appledaily.com.tw//realtimenews/article/life/20160511/858437/【民報】面對生命的不確定／正念減壓，不被復發陰影綁架', 'category': '生活', 'title': '【民報】面對生命的不確定／正念減壓，不被...', 'time': '2016/05/11 11:20', 'summary': '本內容由民報提供\\xa0(摘錄 全文請連結民報)民報編輯部\\xa0前言：正念(Mindfulness)逐漸進入醫學主流，許多美國、英國、加拿大等醫學中心，都開始將正念應用在醫療上。透過有系統的正念練習，重新學習專注意念，體驗心活在當下、身體活在當下，幫助癌友遠離復發陰影，啟動新生活。\\xa0雖然治療日新月異，癌症仍然令人聞風喪膽，許多癌友咬牙撐過治療，追蹤5年「畢業」後，心理的恐懼仍會因為身旁病友一個又一個復發而逐漸擴張，很難逃離擔憂復發的隱形魔咒。\\xa0而這份恐懼可能放大了身體一切的不適，如胃痛就想到胃癌，一點不適都可能讓癌友崩潰。\\xa0台灣正念工坊執行長、諮商心理師陳德中解釋，情緒（感受）、認知（想法）、行為三者會互相影響，許多病友時常因身體不舒服而陷入負面循環，比如身體出現胃痛的感受，進而產生如癌症轉移等擔憂及想法；此時看到孩子不乖，可能對孩子發脾氣、說出「以後媽媽不在該怎麼辦？」等行為，家人可能因此影響心情與病友起衝突，衝突又容易讓病友產生身體不適，一連串由感受引發的連鎖效應就像無止境的漩渦，難以掙脫。「此時，身體的痛（pain）已經從原本只是單純神經反應，變成了身心煎熬的痛苦（suffering），」陳德中說。\\xa0現在國內逐漸推廣的正念減壓（Mindfulness-Based Stress Reduction）源自喬‧卡巴金（Jon Kabat-Zinn）於美國麻州大學醫學中心開設的減壓門診，藉由系統性的練習，協助病人處理壓力、疼痛、慢性疾病等所導致的種種身心問題，目前已有豐富研究證實正念減壓的效果，許多研究者也以此基礎運用到各領域。\\xa0而從正念減壓課程延伸出的「正念取向癌症療癒（Mindfulness-Based Cancer Recovery，簡稱MBCR）」，則是特別為癌友設計的課程，用來處理罹患癌症後的情緒與壓力問題，幫助病友從惡性循環解脫。\\xa0目前已有許多研究證實正念取向可以協助癌友改善憂鬱、焦慮與不安的情緒。其中最早期的一篇是2000年發表在《心身醫學期刊（Psychosomatic Medicine）》的研究，經過正念減壓的課程後，參與癌友的情緒狀態、憂鬱指標如焦慮、憤怒、疑惑等等都顯著地比對照組少，也更有活力。整體減少了65％的情緒困擾、35％壓力症狀；壓力反應如肌肉緊繃、腸胃不適、易怒、緊張、酗酒、睡眠問題等也大幅降低。在課程結束後的6個月，學員身上的效果仍持續。\\xa0而在台灣，由和信治癌中心醫院臨床心理師石世明在和信治癌中心醫院帶領的正念課程效果顯示......\\u200b(摘錄 全文請連結民報)', 'view_cnt': 690}, {'link': 'http://www.appledaily.com.tw//realtimenews/article/fashion/20160511/858426/【閃片】美鳳姊泡冷水換300萬鑽錶', 'category': '時尚', 'title': '【閃片】美鳳姊泡冷水換300萬鑽錶', 'time': '2016/05/11 11:19', 'summary': '「台灣最美歐巴桑」美鳳姊為《蘋果日報》拍攝《2016名錶誌》秀愛錶收藏，她認為女人要多愛自己一點，辛苦賺錢當然要好好犒賞自己，有一次寒冬中還得下水拍戲，一殺青立刻買了一只300萬元卡地亞鑽錶，犒賞自己絕不手軟；天心也有同感，為了買下中意的手錶，勤奮多接幾個通告，是工作最大動力。（娛樂中心／綜合報導）\\xa0\\xa0\\n陳美鳳為《名錶誌》秀出收藏愛錶。美鳳姊拍完戲立刻買下卡地亞鑽錶。', 'view_cnt': 2902}, {'link': 'http://www.appledaily.com.tw//realtimenews/article/sports/20160511/858442/張進德2A初猛打賞\\u3000林子偉安打突圍', 'category': '體育', 'title': '張進德2A初猛打賞\\u3000林子偉安打突圍', 'time': '2016/05/11 11:17', 'summary': '效力海盜2A奧圖納曲球隊(Altoona Curve)的旅美捕手張進德，在今天出戰洋基2A崔頓雷電隊(Trenton Trenton)，擔任先發第7棒捕手，4打數敲出3安打，締造個人升上2A之後第1次猛打賞。張進德本季在2A已出賽13場，敲出1發全壘誰內的14支安打，貢獻4分打點，打擊率上升為3成11。張進德的三弟張育成，今天在印地安人高階1A的林區堡山貓隊，擔任先發第2棒游擊手，5打數安打掛0，賽後打擊率下滑為2成83。效力紅襪2A波特蘭海狗隊的林子偉，今天客場出戰新罕布夏州曼徹斯特對魚貓隊，擔任先發第9棒游擊手，第5局揮出二壘安打，攻下海狗隊全場唯一的1分，終場海狗隊以1比8輸球。林子偉3打數1安打，賽後打擊率微升至2成04。(姚瑞宸／綜合報導)', 'view_cnt': 2255}, {'link': 'http://www.appledaily.com.tw//realtimenews/article/entertainment/20160511/858420/有圖有真相\\u3000魔戒神射手背著凱蒂佩芮親熱她', 'category': '娛樂', 'title': '有圖有真相\\u3000魔戒神射手背著凱蒂佩芮親熱她', 'time': '2016/05/11 11:16', 'summary': '23歲迪士尼女星賽琳娜戈梅茲（Selena Gomez）上周五在賭城展開「Revival」巡演，會後到Mandalay Bay飯店夜店開慶功趴，被拍到和39歲的「魔戒神射手」奧蘭多布魯在包廂裡擁吻親熱，消息人士透露：「奧蘭多當天去參加一場單身漢派對，趁機到賽琳娜的包廂打招呼。」\\xa0美國TMZ網站報導，他們狀甚親密，雙手離不開彼此，不過，賽琳娜最後獨自回飯店套房休息；另有消息人士告訴美國《時人》雜誌，表示「賽琳娜和奧蘭多絕對只是朋友」。巧的是，奧蘭多的前妻米蘭達克爾當天也到賽琳娜的演唱會捧場，在台下聽歌。\\xa0這並非奧蘭多和賽琳娜第一次傳緋聞，她2年前和「小賈斯汀」賈斯汀畢柏分手時，被爆「無縫接軌」與奧蘭多約會，小賈斯汀也曾和米蘭達克爾搞曖昧，這對「表兄弟」2014年7月在西班牙伊比薩島餐廳正面衝突，小賈斯汀嗆奧蘭多「婊子」，奧蘭多氣得對他揮拳，四角戀情超八卦。\\xa0奧蘭多年初和凱蒂佩芮交往，小倆口上周聯袂出席Met Gala，還帶著電子雞示愛，凱蒂佩芮看到這組照片，不知做何感想。（林慧娟／綜合報導）\\xa0\\xa0\\n消息人士爆料，奧蘭多（右）和賽琳娜狀甚親密，雙手離不開彼此。翻攝英國《每日郵報》賽琳娜（前）和奧蘭多屢傳緋聞，交情匪淺。翻攝英國《每日郵報》23歲迪士尼女星賽琳娜戈梅茲上周五在賭城展開「Revival」巡演，會後到Mandalay Bay飯店夜店開慶功趴。翻攝IG奧蘭多（右）和賽琳娜2年前也曾傳緋聞。達志', 'view_cnt': 8708}, {'link': 'http://www.appledaily.com.tw//realtimenews/article/3c/20160511/857964/愈玩愈大\\u3000空拍機開直播', 'category': '3C', 'title': '愈玩愈大\\u3000空拍機開直播', 'time': '2016/05/11 11:14', 'summary': '社群軟體直播大戰開打，臉書先前才大幅更新直播功能，先前還宣布釋出API應用程式開發介面，開放支援空拍機，但推特先前收購的直播服務《Periscope》App速度更快，宣布iOS版將搶先開放支援dji大疆空拍機直播，還可在GoPro運動相機、智慧手機間無縫切換，另外，使用者也能搜尋關鍵字，找出有興趣的的直播內容。（柯長錕／綜合報導）\\xa0快來「失焦der小確幸」社團分享有趣照片吧！\\xa0副刊中心粉絲團：吃喝玩樂蘋果花', 'view_cnt': 1408}, {'link': 'http://www.appledaily.com.tw//realtimenews/article/finance/20160511/858351/【有片】財長張盛和自評幾分？\\u3000將卸任的他說～', 'category': '財經', 'title': '【有片】財長張盛和自評幾分？\\u3000將卸任的他...', 'time': '2016/05/11 11:14', 'summary': '更新：新增影片即將卸任的財政部長張盛和今日至立法院財委會備詢，會前接受媒體訪問，被問及富人稅調降議題，他說，新政府有他們的政策，他們決定就好，一切都是政策，每個人主政都有他的理念，換人執政，我們尊重，目前還沒聽到要調降。\\xa0至於4月證交稅與土增稅創新低，張盛和強調「我們沒有打房」。房市若回到過去、繼續不正常飆漲下去會硬著陸，現在健全了，以前飆漲，稅是不正常的，現在稅收回復正常。\\xa0關於翁啟惠案，國稅局已調查中，有些事情不能說，該做的還是會做。\\xa0被要求為自己打分數？他先自謙有學生為自己打分數嗎？\\xa0他隨後自豪指出，財政健全方案與稅收創新高兩樣，國際評價也很高，獲得德國貝特曼基金會第1名。貨幣政策財政、房地合一新制與國際接軌，這也是比較重大的改革。\\xa0媒體朋友很支持，罵我的不多。我們新的部長是次長，會持續推動政策。（林巧雁／台北報導）出版：09:37更新：11:14\\xa0\\n財政部長張盛和。唐紹航攝', 'view_cnt': 1559}, {'link': 'http://www.appledaily.com.tw//realtimenews/article/international/20160511/858434/國台辦：大陸對台新領導人\\u3000未提出新要求', 'category': '國際', 'title': '國台辦：大陸對台新領導人\\u3000未提出新要求', 'time': '2016/05/11 11:14', 'summary': '中國國務院台灣辦公室發言人馬曉光今表示：「大陸方面沒有對台灣新當選領導人提出過超出2008年以來的新要求」，「真心實意希望兩岸關係沿著九二共識作基礎鋪就的光明大道上，持續發展。」\\xa0馬曉光指出，大陸已多次就兩岸關係重大問題表明立場和態度。特別是就維護兩岸關係和平發展政治基礎的極端重要性，及兩種道路選擇可能帶來的兩種前景，作了系統說明和論述。馬曉光說，這體現大陸在「九二共識」基礎上繼續推進兩岸關係和平發展的真誠願望。當前，兩岸關係正處在重要節點，「球在台灣新的當政者手上，何去何從，人們拭目以待」。（大陸中心／綜合外電報導）', 'view_cnt': 2268}, {'link': 'http://www.appledaily.com.tw//realtimenews/article/3c/20160511/858021/喇叭DIY\\u3000一起動手TRY', 'category': '3C', 'title': '喇叭DIY\\u3000一起動手TRY', 'time': '2016/05/11 11:13', 'summary': '義大利sinestesìa工作室最新作品「giacinto」是一台小型的桌上型喇叭。此款喇叭做法看起來很簡單，就是將兩張再生皮革加一個立體聲擴音器，再連接電纜(USB和AUX)等各個配件，用小號螺絲連接組裝即可，但…小編覺得應該不會這麼簡單，大家動手來做做看吧！這款喇叭目前正在國外網站募資爭取量產，有興趣的人可上相關網址了解詳情。（劉珮芬／綜合報導）\\xa0圖片來源／設計邦你知道更多有趣的事物嗎？分享到手寫時代吧！更多資訊請上吃喝玩樂蘋果花\\xa0\\n材料如上，好像真的很簡單欸～還可以自由變換喜歡的皮革，這好像巫師的帽子喔！', 'view_cnt': 1301}, {'link': 'http://www.appledaily.com.tw//realtimenews/article/life/20160511/858320/今鋒面通過防大雨\\u3000明天好天氣', 'category': '生活', 'title': '今鋒面通過防大雨\\u3000明天好天氣', 'time': '2016/05/11 11:13', 'summary': '（更新：新增影片）\\xa0受鋒面影響，昨晚到今天清晨，西半部陸續下起大雷雨，不少地區雷雨交加，雨勢驚人，其中苗栗造橋今天清晨時雨量達54毫米，台中東勢也有41毫米，而今天凌晨0時到今早9時，苗栗大河、造橋累積雨量都超過100毫米。\\xa0中央氣象局表示，今天白天起鋒面通過及東北風影響，天氣稍轉涼，北部白天高溫僅約27℃，北部、東北部及金馬澎湖為短暫陣雨後多雲，南台灣及花東有短暫陣雨或雷雨，且仍有局部較大雨勢發生機率，請民眾仍要注意。\\xa0不過，明天鋒面遠離，氣象局表示，因為水汽減少，各地大多為多雲到晴，東部及東南部地區有局部短暫陣雨，午後山區有局部短暫雷陣雨，但明天清晨北台灣氣溫稍低，北部、東北部約21至22℃，白天起氣溫回升。\\xa0周五起到下周日水汽稍增多，南部及東半部有局部短暫陣雨或雷雨，其他地區大多為多雲到晴，午後有局部短暫雷陣雨，各地白天氣溫偏高，西半部白天高溫約31至32℃。\\xa0此外，下周一另一道鋒面接近，下周二鋒面影響，各地有雨，西半部及東北部有短暫陣雨或雷雨，其他地區也有局部短暫陣雨或雷雨，下周二因為鋒面影響，北部轉涼。（許敏溶／台北報導）\\xa0出版時間：09:00更新時間：11:13\\xa0\\n今天鋒面通過，中南部及花東仍要防大雨。氣象局提供', 'view_cnt': 4373}, {'link': 'http://www.appledaily.com.tw//realtimenews/article/sports/20160511/858436/今晚阿福vs泰山\\u3000日本人形容是........', 'category': '體育', 'title': '今晚阿福vs泰山\\u3000日本人形容是........', 'time': '2016/05/11 11:13', 'summary': '台灣時間今天下午5點，日本四國獨立聯盟愛媛橘子隊，將在主場的東予運動公園迎戰德島藍短襪隊，陽建福和張泰山2位來自台灣的「前興農」隊友將正式遭遇，阿福所屬的愛媛橘子今在臉書粉絲團設計了一張照片，還形容兩人是「夢幻對決」。(鍾裕能／綜合報導)\\xa0愛媛橘子粉團寫道：今晚這2人的對決你好!!!今日大家的大新聞這2人………今晚對決這個夢幻的對決………….是的!!!愛媛MP的「陽建福選手」vs「德島IS的張泰山選手」不~要~呀!!!在台灣曾經活躍的2人\\u3000對決的結果會是？今天東予運動公園的比賽很熱鬧呀今晚18:00 到球場來大聲加油吧敬請期待!!', 'view_cnt': 6382}, {'link': 'http://www.appledaily.com.tw//realtimenews/article/international/20160511/858379/【央廣RTI】禁止孕婦喝酒紐約市政府：做不到', 'category': '國際', 'title': '【央廣RTI】禁止孕婦喝酒  紐約市政府...', 'time': '2016/05/11 11:10', 'summary': '本內容由中央廣播電臺提供\\xa0\\xa0 \\xa0 \\xa0 \\xa0法新社10日報導，紐約市長辦公室表示，紐約的酒吧和餐廳不能對買醉的懷孕女性說「NO」，因為這將違反她們的基本權利。根據上週公布的新指導方針，紐約市人權法案(New York City Human Rights Law)下的懷孕歧視，是一種「基於性別的歧視」。\\xa0 \\xa0 \\xa0 \\xa0根據這項新指導原則，拒絕對懷孕女性提供可能傷害胎兒的酒精飲料或生魚，構成侵權。紐約一處法院在2003年發現，保護孩童法並不適用於行為舉止可能影響到胎兒健康的懷孕婦女。在此同時，全美任何提供酒精飲料的餐廳、酒吧和機構，都必須針對懷孕飲酒的危機發出警訊。\\xa0 \\xa0 \\xa0 \\xa0世界衛生組織(WHO)已警告，準媽媽飲酒可能造成胎兒酒精綜合症(fetal alcohol syndrome)、以及早產分娩併發症。根據美國疾病管制暨預防中心(CDC)的數據，美國10%的孕婦坦承，她們在懷孕最後30天中還有飲酒。(繼續閱讀)', 'view_cnt': 787}, {'link': 'http://www.appledaily.com.tw//realtimenews/article/politics/20160511/858430/【遠見】營建業五大荒謬讓居住安全「大落漆」', 'category': '政治', 'title': '【遠見】營建業五大荒謬 讓居住安全「大落...', 'time': '2016/05/11 11:09', 'summary': '本內容由遠見提供\\xa0（本文刊載於《遠見雜誌》2016年5月號）\\xa0文／李建興\\xa0最科技的台灣，為什麼會有全世界最令人擔心的居住品質！？\\xa0「說穿了，就是制度殺人，漏洞百出的法令和荒謬的業態，讓台灣長出了一堆像維冠這樣的『黑心住宅』！」曾在921震災中，代表災民向建商索賠的法家法律事務所律師鄭文龍，一語道破癥結。\\xa0荒謬1〉公司登記只需100萬資本額 一案建商逾七成「怪只怪，市面上充斥太多不負責任的『一案建商』！」台南市副市長曾旭正指出了台灣營建業第一個荒謬之處......（繼續閱讀）\\xa0相關報導：台灣任憑災難輪迴， 抗震竟比不上智利土壤液化可補強，敏感地質潛藏更大危機', 'view_cnt': 2719}, {'link': 'http://www.appledaily.com.tw//realtimenews/article/finance/20160511/858432/彰銀案再上訴？\\u3000張盛和：上訴費用準備中', 'category': '財經', 'title': '彰銀案再上訴？\\u3000張盛和：上訴費用準備中 ', 'time': '2016/05/11 11:09', 'summary': '彰銀經營權案是否再上訴，因內閣明天總辭，財政部長只剩今天可做決定，否則將留待新財長決定。財政部長張盛和今天仍沒有未明確回應，但表示：「上訴費用在準備中，」資金已準備好，預估需2000多萬元，經費已報請行政院。\\xa0立委曾銘宗今天在財委會質詢張盛和，媒體報導彰銀案，財政部可能不上訴？張盛和回應，自己還沒看到判決書，但已準備好準備上訴的資金。先前1審費用，法院判由財政部負擔1000多萬元，台新金負擔8、9000萬元；2審上訴費用估計比1審多50%，因此準備了2000多萬準備上訴的資金。\\xa0國庫署署長阮清華補充表示，財部已收到判決書，若要上訴，最慢5月24日前會提出，一切都準備好了，但也語帶保留說，需看新政府的態度。（林巧雁／台北報導）', 'view_cnt': 726}, {'link': 'http://www.appledaily.com.tw//realtimenews/article/strange/20160511/858385/鋼鐵人造型便當太可愛！\\u3000小勞勃都受不了', 'category': '搜奇', 'title': '鋼鐵人造型便當太可愛！\\u3000小勞勃都受不了', 'time': '2016/05/11 11:08', 'summary': '媽媽做了這麼可愛的便當，小朋友忍心吃嗎！\\xa0一位外國媽媽幫小朋友做各種可愛造型便當，還在Instagram上分享作品，因為造型可愛而且精緻，各種卡通人物栩栩如生，深獲網友好評，就連「鋼鐵人」小勞勃道尼(Robert Downey Jr)都忍不住分享讚嘆。\\xa0小勞勃道尼在臉書分享一組「鋼鐵人vs美國隊長」造型的便當，並留言「從來沒看過這麼可愛的激烈對決！」，這位媽媽得知照片被小勞勃分享後非常興奮，說兩個兒子都是「鋼鐵人」的粉絲，覺得非常開心。\\xa0這位媽媽除了鋼鐵人造型便當外還做了許多日韓動漫造的點心，像是「hello kitty」港式茶點、「拉拉熊」冰淇淋、「蛋黃哥」荷包蛋、「英雄天團」丸子等，都讓人愛不釋手！（張鈜閔／綜合報導）\\xa0\\n連「鋼鐵人」小勞勃道尼都分享便當照。翻攝自Robert Downey Jr臉書翻攝自bentomonsters。翻攝自bentomonsters。翻攝自bentomonsters。翻攝自bentomonsters。翻攝自bentomonsters。翻攝自bentomonsters。', 'view_cnt': 2828}, {'link': 'http://www.appledaily.com.tw//realtimenews/article/politics/20160511/858398/【有片】政府未婚聯誼設年齡限制\\u3000吳思瑤自嘲「快不能參加了」', 'category': '政治', 'title': '【有片】政府未婚聯誼設年齡限制\\u3000吳思瑤自...', 'time': '2016/05/11 11:07', 'summary': '更新：新增影片民進黨立委鍾孔炤、吳思瑤今舉辦記者會指出，行政院各部會都會按照國發會「人口政策白皮書」舉辦「未婚職員聯誼活動」，本是美意一樁，卻設下「限大專以上學歷、年齡45歲以下、未曾離婚者」等帶有歧視的參加條件。吳思瑤打趣說，自己「快不能參加了」，政府應修正差別待遇；鍾孔炤也說，每個人都有敲幸福之門的機會，政府應帶頭做，讓民間依循。\\xa0鍾孔炤說，有八個部會在辦理聯誼活動的報名表上，分別有學歷、年齡及未離過婚的限制，吳思瑤舉例，文化部傳藝中心辦理的聯誼活動中，因年齡限制在28至45歲，被排除的人數高達35.5%，各部門因學歷而不符參加資格的則有2成，雖然失婚者因隱私無法統計，但估計也有7到10個百分比被排除。\\xa0吳思瑤說，鼓勵未婚聯誼是國發會推動的國家政策，公部門應該捐棄傳統舊思維，讓聯誼活動符合進步時代需求，去除不當門檻。國發會公關科科長邵梅華表示，人口政策白皮書由國發會統籌管理，由各部會執行，未來會配合新政府施政，將各界意見，對於這些門檻、限制，會在下半年檢討時一併納入修正。鍾孔炤說，會持續追蹤政府作為。（符芳碩/台北報導）\\xa0出版：10:41更新：11:07\\xa0 \\xa0\\n【想知道更多，一定要看……】與新政府理念不合\\u3000我駐英代表報准退職諷馬政府操弄死刑\\u3000律師：鄭性澤能出獄是奇蹟20160511立委吳思瑤鍾孔炤舉行未婚聯誼設限不准聯誼記者會。張良一攝', 'view_cnt': 4219}, {'link': 'http://www.appledaily.com.tw//realtimenews/article/fashion/20160511/858076/公主也愛訂製包\\u3000有名字最瞎趴', 'category': '時尚', 'title': '公主也愛訂製包\\u3000有名字最瞎趴', 'time': '2016/05/11 11:06', 'summary': '訂製包的魅力連公主都難擋，英國女王的孫女碧翠絲公主（Princess Beatrice）最近出席活動，穿著黑色洋裝搭配一只藍色硬殼手拿包，上面有她的名字縮寫Bea，手拿包來自深受明星和名人喜愛的品牌Edie Parker，這不是碧翠絲公主第一次用它，去年7月出席馬術賽，她穿著白色洋裝搭配這只包，又是不同風情，無論黑白服裝都能配，加上訂製的名字縮寫，果然深得公主歡心。（林明瑋／綜合報導）\\xa0\\n去年6月碧翠絲公主穿白色洋裝搭配Edie Parker包。達志碧翠絲公主的手拿包上有名字縮寫Bea。翻攝Mail OnlineEdie Parker手拿包可以客製姓名或想要的字。翻攝Edie Parker官網', 'view_cnt': 2638}, {'link': 'http://www.appledaily.com.tw//realtimenews/article/fashion/20160511/858076/公主也愛訂製包\\u3000有名字最瞎趴', 'category': '時尚', 'title': '公主也愛訂製包\\u3000有名字最瞎趴', 'time': '2016/05/11 11:06', 'summary': '訂製包的魅力連公主都難擋，英國女王的孫女碧翠絲公主（Princess Beatrice）最近出席活動，穿著黑色洋裝搭配一只藍色硬殼手拿包，上面有她的名字縮寫Bea，手拿包來自深受明星和名人喜愛的品牌Edie Parker，這不是碧翠絲公主第一次用它，去年7月出席馬術賽，她穿著白色洋裝搭配這只包，又是不同風情，無論黑白服裝都能配，加上訂製的名字縮寫，果然深得公主歡心。（林明瑋／綜合報導）\\xa0\\n去年6月碧翠絲公主穿白色洋裝搭配Edie Parker包。達志碧翠絲公主的手拿包上有名字縮寫Bea。翻攝Mail OnlineEdie Parker手拿包可以客製姓名或想要的字。翻攝Edie Parker官網', 'view_cnt': 2638}, {'link': 'http://www.appledaily.com.tw//realtimenews/article/entertainment/20160511/858356/離婚7個月\\u3000韓瑜和舊愛再續前緣', 'category': '娛樂', 'title': '離婚7個月\\u3000韓瑜和舊愛再續前緣', 'time': '2016/05/11 11:06', 'summary': '韓瑜和孫協志去年結束4年婚姻，最近則重回分手6年的舊愛李政穎懷抱，但並非復合，而是合體演出大愛連續劇《三個女人》（暫名）。前天該劇低調開鏡，劇中演夫妻的李政穎和韓瑜正式對戲，兩人互動自然。\\xa0\\xa0李政穎讚美韓瑜「保養得宜，依舊亮眼，條件還是很好」，說她很專業。兩人都很專注拍戲，而且戰戰兢兢，反倒是外界用八卦眼光看待，例如放飯時會一塊吃便當嗎？李政穎保持風度不忘開玩笑說：「難道是我餵她或她餵我嗎？」\\xa0韓瑜恢復單身，是否有復合可能？李政穎說：「完全沒想過這個可能性。」直言韓瑜還年輕，應要再找個適合對象，至於他自己，「我比較傾向不婚啦」。6年前跟韓瑜分手後，他沒有再談戀愛，這幾年也少接戲，讓自己完全放鬆。\\xa0而韓瑜和孫協志過往愛巢目前仍未賣掉，她在三立8點檔《甘味人生》的戲分從今年3月停拍了2個月，雙方協調過後請了假，到大愛接了這部新戲，預計拍到8月底。這2個月休假期間她身心獲得休養生息，整個人氣色變得更好。（趙大智／台北報導）\\xa0\\xa0\\n韓瑜（右）和李政穎還是情侶時曾一塊上節目。資料照片', 'view_cnt': 36275}, {'link': 'http://www.appledaily.com.tw//realtimenews/article/nextmag/20160511/858428/【壹週刊】原來！飛機就算沒動力\\u3000一樣可平安降落', 'category': '壹週刊', 'title': '【壹週刊】原來！飛機就算沒動力\\u3000一樣可平...', 'time': '2016/05/11 11:05', 'summary': '去年2月發生的復興航空南港空難，造成43人死亡，飛安會初步調查認定，是駕駛誤關發動機，導致飛機失去動力墜毀。不過，資深機師認為，就算飛機沒有動力，也能平安降落，不至於會造成像復航南港空難一般，飛機呈90度翻轉的異常狀況，這樣的狀況顯示，飛機當時已經失速，完全無法控制。\\xa0飛機在沒有動力的狀況下，仍平安降落的最著名案例，是2009年的「哈德遜河奇蹟」。2009年1月15日，一架全美航空空中巴士A320型客機，從美國紐約機場起飛後不久，意外遭鳥擊，導致兩具發動機同時熄火，飛機完全失去動力。機長決定在哈德遜河河面迫降，該飛機最後於升空6分鐘後，緊急迫降於紐約曼哈頓的哈德遜河河面，機上151人全數生還。\\xa0另外一起案例，是加拿大的越洋航空。2001年8月24日，越洋航空空中巴士A330型客機，從加拿大多倫多機場起飛，但卻在大西洋上空漏盡燃料並失去動力，但最後成功以滑翔方式降落在亞速爾群島，機上306人全數平安，還打破民航機滑翔飛行最長距離的世界紀錄。\\xa0而這次本刊進行ATR72-600型客機的模擬測試，也特別請機師不要靠「飛行導引儀」飛，而憑經驗、目視操控飛機，結果一次就成功迫降，不像靠「飛行導引儀」飛的時候，會出現失速、墜毀的慘劇。（撰文：丁國鈞）\\xa0「更多其他壹週刊內容請點我」', 'view_cnt': 2844}, {'link': 'http://www.appledaily.com.tw//realtimenews/article/life/20160511/858411/平行時空？停車場同處有兩種距離告示牌', 'category': '生活', 'title': '平行時空？停車場同處有兩種距離告示牌', 'time': '2016/05/11 11:04', 'summary': '新北市新店區復興路80巷有兩面公有建國停車場的告示牌，一面標示距離20公尺，另一面卻標示距離50公尺，民眾批評兩面告示牌標示的距離相差30公尺，不知道該相信哪面告示牌。新北市交通局表示， 5月9日晚間已派員拆除，會再視情況設置正確告示牌。\\xa0新北吳先生說，四月底開車到新店區復興路一帶尋找停車場，在復興路80巷巷口看到兩面公有建國停車場的告示牌，一面標示距離20公尺，另一面由新店區公所設立的告示牌卻標示距離50公尺，相差30公尺，讓他感到相當不解，最後實際前往，發現正確距離應為50公尺，不滿抱怨「一個地點兩種告示牌，搞得人好混亂！」\\xa0對此，新北市新店區公所表示，告示牌是多年前所設，因公有停車場現由新北市交通局所管，會派員前往拆除。\\xa0新北市交通局停車管理科科長金肇安則表示，2013年4月接管時，兩面告示牌皆已存在，公有建國停車場距離復興路80巷巷口確實是50公尺，標註距離20公尺的告示牌是哪個單位所設已不可考，5月9日晚間已派員拆除，會視情況再設置。\\xa0《蘋果日報》表示，本則影片或照片是投訴人獨家提供《蘋果日報》，若其他媒體未取得授權逕行翻攝，也未註明出處，《蘋果》必訴諸法律，以保障權益。《蘋果日報》歡迎讀者加入監督社會，向《蘋果》獨家提供照片、影片，經採用可獲獎金，照片一千，影片兩千元，每周點閱數最高，更可獲獎金三萬元，請參考活動網址： http://www.appledaily.com.tw/complainevent ( 投訴組／新北報導)', 'view_cnt': 1489}, {'link': 'http://www.appledaily.com.tw//realtimenews/article/local/20160511/858424/火速槍決\\u3000解青雲母問鄭捷雙親「你怎麼教小孩的？」', 'category': '社會', 'title': '火速槍決\\u3000解青雲母問鄭捷雙親「你怎麼教小...', 'time': '2016/05/11 11:02', 'summary': '台北捷運殺人魔鄭捷昨晚伏法，其中一名死者解青雲的母親高懿文，昨晚激動表示：「感謝法務部長羅瑩雪的正義之舉。」讓她終於可以放下心中大石。\\xa0今天上午解青雲的母親接受媒體訪問，再度表示感謝羅部長做了一個公益正義的事情，痛失愛兒的解媽媽說：「讓兇嫌的媽媽知道被害人的痛」。\\xa0解青雲的母親還說，媳婦應該知道鄭捷被槍決，希望大家不要去打擾她太太，讓媳婦好好地帶兩個小孩長大。\\xa0解青雲的母親說，「感謝死刑速決」讓她再也不用看到鄭捷這個人、這個名字了，因為她只要一想到兒子躺在病床上肢離破碎的模樣，就難過不已，\\xa0解青雲的母親還說，事發至今近2年，夫妻倆仍常去看兒子牌位，哭得不能自已，但是仍然不解為何發至今兇嫌父母對受害家屬都沒道歉，她很想問對方父母是如何教養小孩。（突發中心／新北報導）\\xa0\\n解青雲的母親拿著一家人的合照，難過地回憶兒子。黃彥傑攝解青雲的母親拿著兒子的照片，難過地回憶兒子。黃彥傑攝解青雲的母親想到兒子就很難過。黃彥傑攝', 'view_cnt': 8287}, {'link': 'http://www.appledaily.com.tw//realtimenews/article/international/20160511/858423/國台辦：兩岸若現危機\\u3000改變者承擔責任', 'category': '國際', 'title': '國台辦：兩岸若現危機\\u3000改變者承擔責任', 'time': '2016/05/11 11:02', 'summary': '中國國務院台灣辦公室發言人馬曉光今表示，大陸對台大政策方針不會因台灣政局變化而改變，如果兩岸導致僵局，或者出現危機，「責任由改變現狀者承擔。」\\xa0（大陸中心／綜合外電報導）', 'view_cnt': 2331}, {'link': 'http://www.appledaily.com.tw//realtimenews/article/international/20160511/858299/【有片】\\u200b英相女王前失言\\u3000稱友邦「貪腐得驚奇」', 'category': '國際', 'title': '【有片】\\u200b英相女王前失言\\u3000稱友邦「貪腐得...', 'time': '2016/05/11 11:00', 'summary': '（更新：增加動新聞影片）\\xa0在英國女王面前，權貴政客都小心遣詞；擔任英國首相剛滿6年的卡麥隆（David Cameron），大概已經沒在怕，被錄到當著英國女王伊莉莎白二世的面，戲稱阿富汗與奈及利亞「貪腐得驚奇」；而遭點名的兩國知情後都表示抗議。\\xa0明天（12日）卡麥隆將在英國倫敦主持國際反貪腐峰會，致力打擊全球各國、各行各業的貪腐問題，而奈及利亞總統布哈里（Muhammadu Buhari）將要在峰會上發表演說，談論「為何我們一定要共同處理貪腐」。\\xa0昨天（10日）卡麥隆與英國女王、英格蘭國教會坎特伯里大主教威爾比（Justin Welby）、下議院議長約翰伯考（John Bercow）見面，談到內閣準備反貪峰會的工作。他對女王、主教與議長說，「我們有奈及利亞人，其實我們有一些元首會到英國，來自貪腐得驚奇的國家」。主教在擔任神職前，曾赴奈及利亞在石油業工作，馬上表示「但這一個總統其實不貪腐」，而女王也問主教，「他（奈及利亞總統）很努力，不是嗎？」。\\xa0這時候議長接話，說這些元首造訪英國「代價自負」，卡麥隆戲稱，整個峰會公開、沒有閉門會議，全程開放媒體出席，會「很有趣」。\\xa0卡麥隆的發言人後來表示，阿富汗總統甘尼（Ashraf Ghani）和奈及利亞總統布哈里都承認自己的國家貪腐問題嚴重，但是兩國元首都針對發言嚴正抗議。阿富汗使館表示，總統甘尼與政府就任來，就大力打擊貪腐，作為第一要務；布哈里的發言人表示，布哈里去年就是靠反貪腐勝選，對於這樣的評論覺得驚嚇且尷尬，認為英國首相指的是總統當選前的問題。\\xa0而首相這樣的評論，也讓人質疑英國對兩國的援助款項。英國在前年花費2.37億英鎊（約111.34億元台幣）援助奈及利亞，1.98億元英鎊（約93.02億元台幣）援助阿富汗。\\xa0根據國際反貪組織「透明國際」（Transparency International）去年調查，阿富汗世界上清廉排名166名，只比北韓與索馬利亞好，而奈及利亞排名136。但是「透明國際」的負責人德斯瓦德特（Cobus de Swardt）表示，兩國總統都釋出有力的訊息試圖改變。台灣在該調查中與波蘭並列第30名。（蘇立／綜合外電報導）\\xa0發稿：09:23更新：11:00\\n【想知道更多，一定要看……】【有片】接待習近平「真倒楣」\\u3000英女王批中國言論曝光英國首相卡麥隆（右二）昨天與英國女王（左二）見面時失言。法新社英國女王沒有對首相的評論多做回應。法新社', 'view_cnt': 4543}, {'link': 'http://www.appledaily.com.tw//realtimenews/article/life/20160511/858413/德翔臺北油污海面近28噸\\u3000拆船還要3個月', 'category': '生活', 'title': '德翔臺北油污海面近28噸\\u3000拆船還要3個月', 'time': '2016/05/11 11:00', 'summary': '環保署副署長符樹強今天在立院衛環委員會答詢說，「德翔臺北」輪重油總數約411餘噸，今年3月間抽除約295噸，4月在第三貨艙抽油27.82噸，岸際清理共60.3噸，在海面擴散或蒸發約有27.82噸，目前仍殘留在艙壁約有0.26噸。\\xa0立委劉建國今質詢目前仍擱淺在石門海域的「德翔臺北」輪，何時會拆除，避免二次污染？交通部航港局副局長林昌輝答詢說，目前船東還在跟拆除的業者簽訂合約，預計拆船的作業船會從新加坡開來，預計要1個月的時間才會抵達石門海域，拆除作業大約還要再80天的時間。\\xa0劉建國批評，至少還要2個月的時間，將會遇到颱風季節，但在整個報告卻未見相關應變措施。航港局允諾會要求船東業者補強。（洪敏隆／台北報導）', 'view_cnt': 891}, {'link': 'http://www.appledaily.com.tw//realtimenews/article/nextmag/20160511/858421/【壹週刊】避免孩子像鄭捷\\u3000專家：父母不要只關心分數', 'category': '壹週刊', 'title': '【壹週刊】避免孩子像鄭捷\\u3000專家：父母不要...', 'time': '2016/05/11 11:00', 'summary': '北捷隨機殺人案的鄭捷10日晚上伏法，寫下個人生命的完結篇。但曾接觸過的人對其行為，仍有摸不著頭緒的感覺，找不太出來到底是什麼原因，造成一個人變惡魔。\\xa0去年承審鄭捷捷運殺人案的法官連雅婷曾接受《蘋果日報》的專訪提及，她在寫判決的過程中會不知不覺的落淚，想到被害者及加害者都這麼年輕，而這個案件是她當法官生涯中，很讓她震撼的事。\\xa0連雅婷調出相關卷證等資料發現，鄭捷在求學過程有很多的家庭支援，父母非常重視生活及功課，直到大學時期鄭捷母親還會每天跟他聯繫。但鄭捷是特殊的例子，他青少年時期的特殊個性及情緒表現，其實可以發現鄭捷處於危機，如果在他在過程中任何一個環節，有人能夠多費心思，多給予他一些關懷與注意，或許結果會全然不同。曾看過鄭捷相關資料的中華民國諮商心理師公會全國聯合會發言人林萃芬說，這就是我們最擔心的部份，鄭捷案的出現，傳遞了一些訊息，警告我們教育出了很大的問題，尤其是情緒教育部份。\\xa0林萃芬憂心地說，鄭捷可怕的地方在於，他出自中產階級，父母為了他就學跨區到很好的學區，家中經濟沒問題，也無單親或隔代教養等問題，又無霸凌或被霸凌的情形，更無吸毒等高風險因子，他就活生生的存在一般普羅家庭裡，但這樣尋常百姓家，確養出這隻大怪獸，問題出在哪值得深思。\\xa0卷證有提到，父母是非常注意功課的，林萃芬提醒，父母對孩子的關心，不要被孩子認為，只是在關心成績、分數，不是真的關心我。她也建議，父母要先了解孩子的個性，天生的氣質是什麼，要跟孩子建立有效的溝通管道，聽取孩子的意見，了解他真正的想法，不要急著把事情處理掉。\\xa0曾在學校輔導過的心理師也認為，現代社會走的太快，網路世界來臨，大家處理事情都太急了，有時只看到表面的狀況，但父母或師長若沒有發現問題的根本，有時事情過了就過了，累積下來的反作用就會很驚人。（撰文：蔡怡真）<更多壹週刊內容請點我>http://www.nextmag.com.tw/breaking-news', 'view_cnt': 3794}, {'link': 'http://www.appledaily.com.tw//realtimenews/article/politics/20160511/858412/速簽鄭捷死刑令\\u3000羅瑩雪回應10語錄', 'category': '政治', 'title': '速簽鄭捷死刑令\\u3000羅瑩雪回應10語錄', 'time': '2016/05/11 10:59', 'summary': '法務部長羅瑩雪昨天簽發捷運殺人犯鄭捷的死刑執行令，昨天晚間就執行槍決，任內簽了12個死刑犯執行。羅瑩雪今天上午出面受訪多方談到鄭捷案，《蘋果》整理羅瑩雪10大金句，包括鄭捷死刑是他幫自己判的、他讓人別無選擇、簽死是平常心與做該做的事情、卸任以後是自由人與小老百姓、怕邱太三為難所以幫他做等。（張文馨／台北報導）\\xa0以下是羅瑩雪的談話：\\xa0一、鄭捷傷害非常大，讓人心也惶惶。為了要使社會導入正途，讓那些崇拜想效法他的人知所警惕，所以我們快速執行此案。\\xa0\\xa0二、有些人說那我是不是又背負一條人命，我覺得這個死刑是他自己幫自己判的。\\xa0三、他的行為造成這麼多法官認為必須要判處死刑，而且一次四個死刑，是不是他自己讓別人別無選擇，只能做這樣決定。\\xa0四、跟過去一樣，平常心，就是該做的事。\\xa0\\xa0五、我不需要算什麼成績或贏得什麼掌聲或什麼，只做該做的事。\\xa0六、我離開這個位置後沒有任何工作的規劃，就是一個自由的人，就是平常小老百姓，所以不需要政績或爭取什麼。\\xa0七、過去有民進黨立委支持廢死，我怕（準法務部長）邱太三執行死刑會不會有些為難，我就先做，對大家會比較好。\\xa0八、過去談到死刑執行的時候，馬總統就只有講說、你就依法辦理。\\xa0九、你說總統特赦鄭捷，這個想像力也太豐富。\\xa0十、常常都會有這樣陰謀論、動機論，這事很單純，該執行就執行。\\xa0\\xa0\\n【想知道更多，一定要看……】【有片】520前槍決鄭捷\\u3000黃偉哲諷：馬英九刷存在感【有片】否認槍決鄭捷搶功\\u3000羅瑩雪：怕邱太三簽死為難', 'view_cnt': 13102}, {'link': 'http://www.appledaily.com.tw//realtimenews/article/politics/20160511/858361/【有片】520前槍決鄭捷\\u3000黃偉哲諷：馬英九刷存在感', 'category': '政治', 'title': '【有片】520前槍決鄭捷\\u3000黃偉哲諷：馬英...', 'time': '2016/05/11 10:57', 'summary': '(更新:新增影片)前年在台北捷運隨機殺人的鄭捷，遭判死刑定讞18天後昨晚遭槍決，被害家屬雖認為大快人心，但也有聲音質疑執行死刑時間太過迅速。民進黨立委黃偉哲上午受訪說，台灣社會大多數都支持讓鄭捷伏法，但執法過程中有太多政治考量，馬政府下周五就要卸任，明天內閣就要總辭，有必要在卸任前多砍一個人嗎？馬英九總統最近的作為，感覺像在刷存在感。\\xa0不過國民黨立委王育敏反駁，鄭捷背負四條人命，是很重大的社會犯罪，且他現行犯，在眾目睽睽下犯下殺人罪，跟其他的死刑犯不一樣，不必擔心有冤獄問題，槍決鄭捷符合民意，也是社會正義的展現，且執行槍決是由法務部長羅瑩雪簽署，跟馬英九也沒關係。（何哲欣／台北報導）\\xa0出版時間:09:54更新時間:10:57\\n【想知道更多，一定要看……】【有片】否認槍決鄭捷搶功\\u3000羅瑩雪：怕邱太三簽死為難速簽鄭捷死刑令\\u3000羅瑩雪回應10語錄鄭捷昨遭槍決。資料照片', 'view_cnt': 9921}, {'link': 'http://www.appledaily.com.tw//realtimenews/article/politics/20160511/858368/【有片】否認槍決鄭捷搶功\\u3000羅瑩雪：怕邱太三簽死為難', 'category': '政治', 'title': '【有片】否認槍決鄭捷搶功\\u3000羅瑩雪：怕邱太...', 'time': '2016/05/11 10:55', 'summary': '更新：新增影片內閣明天總辭，法務部長羅瑩雪昨天簽發捷運殺人犯鄭捷的死刑執行令，外界批評羅瑩雪是為了搶功，把鄭捷這一筆記在自己任內，而非接任的法務部長邱太三，羅瑩雪上午對此表示，「不是這樣」，事實上她也未曾跟邱太三討論過死刑，她是今早看了報導，才稍微知道邱太三對死刑的看法。\\xa0羅瑩雪說，因為兩人未曾就死刑交換意見，過去印象是民進黨有些立委支持廢死，我反而覺得邱太三對執行死刑會不會有些為難；就如同財產申報法申報法修正，因為大幅修正會使得對公務員好像比較有利，他們（邱）會被說成圖利自己或自肥，「我覺得該做的事、尤其他做比較為難的事，我就先做，對大家會比較好」。羅瑩雪說，不論死刑或修法，她都秉持同樣心態，「所以對死刑執行這件事，沒有太多這方面考量（搶功或政績）」。（張文馨／台北報導）\\xa0出版：10:00更新：10:55\\xa0\\n【想知道更多，一定要看……】速簽鄭捷死刑令\\u3000羅瑩雪回應10語錄【有片】羅瑩雪：鄭捷死刑是他幫自己判的羅瑩雪。侯世駿攝', 'view_cnt': 11745}, {'link': 'http://www.appledaily.com.tw//realtimenews/article/international/20160511/858419/國台辦：15日起接待台灣詐騙犯家屬探視', 'category': '國際', 'title': '國台辦：15日起接待台灣詐騙犯家屬探視', 'time': '2016/05/11 10:54', 'summary': '中國國務院台灣辦公室馬曉光今表示，有關部門已收到台灣海基會發來的電信詐騙犯罪嫌疑人家屬的探視請求，將在符合相關規定的情況下，於5月15日以後接待家屬探視。（大陸中心／綜合外電報導）', 'view_cnt': 640}, {'link': 'http://www.appledaily.com.tw//realtimenews/article/local/20160511/858397/鄭捷遭火速槍決\\u3000他認為等於殺了這些人', 'category': '社會', 'title': '鄭捷遭火速槍決\\u3000他認為等於殺了這些人', 'time': '2016/05/11 10:51', 'summary': '鄭捷昨晚遭火速槍決，有網友認為，殺了他，就永遠找不出他會隨機殺人的原因，「你也殺了那些，在未來原本可以不會被無辜殺害的人們。」\\xa0網友蕭奕辰在臉書po文認為，一個正常人去殺了人，我們該探討，是什麼社會原因促使他殺人；如果不正常的人去殺了人，我們該探討是什麼疾病原因，去導致他殺人。他認為，無論從社會角度或疾病角度去探討，前提都是得留活口，「你把他殺了要研究個屁！」\\xa0他認為，要研究才有機會找到原因，才能降低同樣悲劇發生的機率，「就因為你殺了他，你也殺了那些，在未來原本可以不會被無辜殺害的人們。」\\xa0許多網友留言：「沒有悔意 還順了他的意槍斃他 這有啥好開心的？」、「你們支持死刑，為的是出一口氣，我們支持廢死，為的是忍著心裡的痛，竭誠的希望，不要再有下一個受害者，這是不同的格局。」、「從新聞下的討論串只看到，人死了，仇恨卻持續增長」。（即時新聞中心／綜合報導）', 'view_cnt': 18027}, {'link': 'http://www.appledaily.com.tw//realtimenews/article/strange/20160511/858015/【有片】電玩情侶吵翻臉\\u3000都是因為這4件事', 'category': '搜奇', 'title': '【有片】電玩情侶吵翻臉\\u3000都是因為這4件事', 'time': '2016/05/11 10:50', 'summary': '誰說有共同興趣的情侶不會吵架？騙人！一起玩遊戲的情侶吵得才兇呢！以下這4種原因，可是會讓愛玩遊戲的情侶大吵特吵喔，你和情人中了幾個呢？ (顏佩瑩／綜合報導)\\xa0你知道更多有趣的事物嗎？分享到手寫時代吧！更多資訊請上吃喝玩樂蘋果花\\xa0\\n【打到好裝備不說】俗話說有福同享有難同當，對於另一半打到好裝備卻不分享，實在是太怒了。資料照片\\n【偷偷帶妹仔練等】偷偷練等已經夠令人生氣了，重點還是帶妹仔，這叫正宮如何不生氣啊？資料照片【情侶系統不找你】真實生活已有你，虛擬空間應該可以找找其他人吧？不！怎麼可以呢！這很容易讓人暴怒啊！資料照片【自己先偷解任務】前一晚說好一起解任務，結果竟然自己下班後跑回家跟朋友一起解任務，太傷人了，為了朋友不要情人。資料照片', 'view_cnt': 1451}, {'link': 'http://www.appledaily.com.tw//realtimenews/article/local/20160511/858384/【更新】長銷30年\\u3000任天堂紅白機還有盜版賣', 'category': '社會', 'title': '【更新】長銷30年\\u3000任天堂紅白機還有盜版...', 'time': '2016/05/11 10:47', 'summary': '（更新：新增影片）\\xa0任天堂紅白機是台灣中生代的兒時回憶，雖然隨著遊戲產業日新月異而式微，但坊間仍有不少愛好者死忠追隨，有業者看準這歷久不衰的懷舊潮，從中國引進破解版的任天堂盜版卡帶，從原本的一卡匣一遊戲，升級成一卡匣上百款遊戲，且只賣200元不到，靠著「賣經典」，每月能入帳2、3萬元，一年下來約獲利數十萬元，警方逮捕了台灣2名業者，全案依違反著作權及商標法罪嫌送辦。\\xa0警方表示，中國近年來瘋行日本任天堂遊戲，台灣數十年前流行的紅白機更是熱門，在鄉村尤其受到歡迎，有人破解後將多款遊戲組合熱賣，台灣業者看準這項商機，去年4月以100、200元不等的低價引進，再以4到5倍價格賣出。\\xa0保二總隊刑事偵三隊今年初接獲檢舉，歷經3個月追查，分別在3月及4月在台中及嘉義2地逮捕鄭姓（33歲）、曾姓（44歲）2名業者，查扣200件遊戲卡匣，內含遊戲軟體達1.5萬套，其中多數是懷舊絕版的紅白機系列遊戲，其他則是任天堂另款3DS。\\xa0警方說，遭逮的鄭、曾2人，鄭是電子工程師，曾則是大賣場的品管人員，2人都是任天堂愛好者，他們發現原本一卡一遊戲的任天堂遊戲，在大陸遭破解，數百種遊戲被組合在單一卡匣，由於利潤極高，才會引進台灣銷售。\\xa0鄭、曾說詞避重就輕，只說是透過淘寶網購得，再透過拍賣網站銷售，1年下來約獲利數十萬元，警方對說詞保留，仍將深入追查，全案依違反著作權及商標法罪嫌送辦。（湯寶隆、林振義／高雄報導）\\xa0出版時間：10:47更新時間：13:08\\xa0\\xa0\\n保二總隊查獲盜版的任天堂遊戲軟體卡匣，侵權市值逾億元。林振義攝警方查扣破解遊戲軟體的R4及記憶卡。林振義攝遭破解後組合多種遊戲的R4卡(左)，右方為傳統正版的遊戲卡。林振義攝', 'view_cnt': 4848}, {'link': 'http://www.appledaily.com.tw//realtimenews/article/life/20160511/858347/【有片】今多穿點衣服\\u3000專家：北台灣今高溫較昨降約10℃', 'category': '生活', 'title': '【有片】今多穿點衣服\\u3000專家：北台灣今高溫...', 'time': '2016/05/11 10:46', 'summary': '更新：新增影片受鋒面影響，昨晚到今天清晨，西半部接連下起大雷雨，苗栗大河累積雨量已超過130毫米，氣象專家吳德榮指出，今晨鋒面已移至巴士海峽，各地氣溫皆比昨日下降，尤其北台灣高溫較昨日下降約10℃，明顯的轉涼，民眾穿著要注意調整。\\xa0吳德榮指出，鋒面伴隨的層狀雲系仍然籠罩台灣上空，對流雲系則大多在鋒面附近，南部、東南部容易受到對流胞的影響，今天仍應注意。中部、北部上空的雲系雖則持續伴隨降雨，但會逐漸減弱，降雨也會緩和下來。\\xa0吳德榮說，根據最新的歐洲中期預報中心(ECMWF)電腦模擬資料顯示，明、後天鋒面滯留在巴士海峽，結構逐日減弱，台灣的天氣，大部份皆已明顯好轉。只有東南部、南部距離鋒面較近，偶爾會受到影響，明天東南部、南部有局部性的陣雨發生的機率。中部及東部地區距離鋒面較遠，偶爾有一些局部、零星的降雨，北台灣離鋒面更遠，天氣是穩定的，大多晴到多雲。\\xa0後天天氣更趨緩和，吳德榮表示，周五東半部及台灣南端有局部降雨的機率，午後山區也有一些。周六、下周日恢復成上半天晴到多雲，下午對流雲容易在山區發展，其下風處鄰近的平地，自然就會受到一些影響。但下周一至周三又有另一波鋒面，對台影響程度以及其滯留性如何，尚待進一步觀察。（生活中心／台北報導）\\xa0出版：09:35更新：10:46\\xa0\\n吳德榮說，受鋒面通過影響，北台灣天氣明顯轉涼。資料照片今日氣溫明顯下降。林林攝', 'view_cnt': 2834}, {'link': 'http://www.appledaily.com.tw//realtimenews/article/finance/20160511/858365/【影片報你知～】日圓最佳匯價出現！', 'category': '財經', 'title': '【影片報你知～】日圓最佳匯價出現！', 'time': '2016/05/11 10:43', 'summary': '（更新：新增影片）\\xa0受到日銀積極干預，日圓升值總算暫緩，日圓兌台幣今早更出現本月最佳匯價，一度來到0.3003元，短線可望測試0.3元，為本月最佳匯兌價格，相當於1元台幣可換3.33元。\\xa0日圓今天早盤最低來到0.3003元，不過隨即一路走高，上午9點52分，已經來到0.3014元。 (財經中心／台北報導)\\xa0出版：09：55更新：10：43\\xa0\\n日圓匯率今早暫歇，一度回軟來到0.3003。翻攝台銀網站翻攝台銀網站', 'view_cnt': 5010}, {'link': 'http://www.appledaily.com.tw//realtimenews/article/international/20160511/858410/國台辦：兩岸司法互助協議明天珠海協商', 'category': '國際', 'title': '國台辦：兩岸司法互助協議明天珠海協商', 'time': '2016/05/11 10:42', 'summary': '中國國務院台灣辦公室發言人馬曉光今表示，兩岸有關主管部門將於5月12日至14日，在珠海舉行《海峽兩岸共同打擊犯罪及司法互助協議》有關合作打擊電信詐騙的工作會談。（大陸中心／綜合外電報導）', 'view_cnt': 618}, {'link': 'http://www.appledaily.com.tw//realtimenews/article/life/20160511/857817/寶寶不說\\u3000但老北老母這3點要知道', 'category': '生活', 'title': '寶寶不說\\u3000但老北老母這3點要知道', 'time': '2016/05/11 10:38', 'summary': '迎接寶寶出生，新手爸媽們無不戰戰兢兢，台北市立聯合醫院陽明院區小兒科主治醫師黃正憲指出，雖第一線小兒科醫師不斷宣導，仍不時發生新生兒猝死意外，除了不可避免之因素，有3個重點是家長們要謹記，且可確實執行的，首先，要避免與家長同床，讓新生兒睡嬰兒床；再者，要避免趴睡；最後，若家長有抽菸者，應及早戒除。\\xa0嬰兒猝死症候群（SIDS，sudden infant death syndrome）是指1歲以下的嬰兒因無法預期的原因突然死亡，黃正憲醫師指出，尤其對1天有16～20小時在睡眠當中度過的嬰兒來說，睡覺的習慣與姿勢更應注意，最基本的原則即是要與父母分床睡，且家長即使午休小憩片刻，也要避免同床，預防意外發生；再者，美國兒科醫學會也提醒，嬰兒若採趴睡姿易增加猝死風險，應採仰躺較佳。另外，嬰兒暴露在二手菸的環境中，易增加猝死風險，家長也應讓小孩遠離二手菸。（黃子倫／）', 'view_cnt': 3073}, {'link': 'http://www.appledaily.com.tw//realtimenews/article/3c/20160511/857962/中國台勞快下載\\u3000翻牆APP不用錢', 'category': '3C', 'title': '中國台勞快下載\\u3000翻牆APP不用錢', 'time': '2016/05/11 10:38', 'summary': \"Meet Olaf and SurfEasy's Opera VPN app for iOS 瀏覽器大廠Opera近日宣布推出免費VPN(Virtual Private Network，虛擬私人網路) App《Opera VPN》，俗稱翻牆軟體，由於大多數VPN服務都需付費，Opera採免費制相當誘人，目前有美國、加拿大、德國、新加坡和荷蘭的伺服器當跳板，並具備移除廣告追蹤器功能，可惜初期尚不支援中文，但無礙於使用，僅在iOS平台推出、Android未定。\\xa0Opera\\xa0VPN部門Surfeasy團隊總監Chris Houston表示：「每天有數以百萬計的人，尤其是學生與上班族，無法透過校園或工作場所提供的Wi-Fi網路存取臉書等社交媒體網站，有的甚至無法連線至影音串流網站，我們打破網絡連線障礙，享受原本網際網路該有的內容自由存取的權利。」而先前Opera也於電腦版瀏覽器新增VPN服務，但關注度沒手機版App來的大。（柯長錕／綜合報導）\\xa0快來「失焦der小確幸」社團分享有趣照片吧！\\xa0副刊中心粉絲團：吃喝玩樂蘋果花\", 'view_cnt': 3125}, {'link': 'http://www.appledaily.com.tw//realtimenews/article/politics/20160511/858401/綠委爆：軍官因心理疾病退伍\\u3000四年半高達661人', 'category': '政治', 'title': '綠委爆：軍官因心理疾病退伍\\u3000四年半高達6...', 'time': '2016/05/11 10:38', 'summary': '傳出軍中有人傳授以精神疾病名義辦理除役的巧門，民進黨立委羅致政今天在立法院外交及國防委員會提出資料顯示，從2012年到2016年4月，過去4年半以來因病停、退除役軍官有829人，其中因心理疾病人數高達8成有661人，是不是有人在裝病領退伍金，淪為詐騙犯？國防部人事參謀次長室次長徐衍璞中將坦言，人數偏高，但因病因素佔整個志願役人數比例只有5%。\\xa0羅致政追問這樣的問題反映基層軍官人數不足？鄭德美表示，編現比只要達到80％以上就可維持戰力，低於70%就會有影響，現在人員編現比符合範圍。徐衍璞指出，目前各軍編現比，海軍達到87%、空軍83%，陸軍年底可達85%。\\xa0國防部資源規劃司司長陳正棋也證實，官兵除因傷病退伍，沒有其他選項可以選擇。部隊的確有抗壓性較低的人，但軍方不會放棄任何一絲機會。（陳培煌／台北報導）\\xa0\\xa0\\n【想知道更多，一定要看……】【有片】傳精神疾病除役\\u3000軍方：多數官兵都不怕苦與新政府理念不合\\u3000我駐英代表報准退職', 'view_cnt': 5881}, {'link': 'http://www.appledaily.com.tw//realtimenews/article/3c/20160511/858204/新運動攝影機\\u3000吃GoPro豆腐！？', 'category': '3C', 'title': '新運動攝影機\\u3000吃GoPro豆腐！？', 'time': '2016/05/11 10:37', 'summary': '相機市場與新機可說亮點愈來愈少，近年來不少廠商也改推運動攝影機搶商機，而近期除了Nikon Keymission360運動攝影機外，根據日本網站Digicame-info的消息指出，Olympus也傳將推自家首款運動攝影機，外型頗具旗下防水相機Tough風格，料也將有防水、防震、耐寒外，從流出圖片也看出鏡頭上方設置類似大型補光燈，可方便於水下拍攝之餘，也有爆料指出此相機還能沿用GoPro配件，雖然對已有類似產品的消費者頗有吸引力，但這樣大吃豆腐，真的沒問題嗎？（莊友直／綜合報導）\\xa0不管迷人美照，還是失焦殘念照，快來「失焦der小確幸」社團分享照片吧\\xa0更有趣報導，請上副刊吃喝玩樂蘋果花粉絲團', 'view_cnt': 1582}, {'link': 'http://www.appledaily.com.tw//realtimenews/article/life/20160511/858408/台北車站不再迷路\\u30005月13日起推APP導航', 'category': '生活', 'title': '台北車站不再迷路\\u30005月13日起推APP導...', 'time': '2016/05/11 10:37', 'summary': '為洗刷台北車站「全台最大迷宮」汙名，台鐵局5月13日起將正式推出「台鐵 EZ GO」APP室內導航系統，民眾可在手機不上網的情況下透過手機APP與地板上的定位辨識貼紙，等同車站內有許多虛擬站務服務人員，隨時引導出入車站或是來往搭車，使旅客不用再受「迷路」之苦。\\xa0台北車站包括台鐵、高鐵和台北捷運三鐵共構，且有5條地下街及70多個出入口，讓車站成了大迷宮，不僅旅客時常搞不清楚方向，剛啟用初期連站務員也都曾迷路過，為改善民眾迷路情況，台鐵正式推出「台鐵 EZ GO」APP室內導航系統，透過地面一百張地貼QR Code掃描後，手機APP就會出現箭頭指引前往地點。\\xa0台鐵表示，「台鐵 EZ GO」目前系統服務範圍為台鐵台北車站1F及B1，未來將擴大系統服務範圍，納入台北車站2F、機場捷運、台北捷運及地下街等區域，結合商場資訊，並普及至各三鐵共構車站，使台鐵車站轉變為智慧型車站，提供民眾行的便利。\\xa0台鐵表示，為推廣｢台鐵 EZ GO」，台鐵局於5月13日周五上午10時到晚上7時於台北車站一樓大廳售票口旁推出體驗活動，贈品為限量200份CT273蒸汽火車三枚組銅雕書籤。(李姿慧／台北報導)\\xa0\\n台北車站5月13日起將推出「台鐵 EZ GO」APP室內導航系統。資料照片', 'view_cnt': 1015}, {'link': 'http://www.appledaily.com.tw//realtimenews/article/local/20160511/858158/【還原現場】執行檢察官：鄭捷打第一槍還在動', 'category': '社會', 'title': '【還原現場】執行檢察官：鄭捷打第一槍還在...', 'time': '2016/05/11 10:36', 'summary': '(更新：新增影片)多次聲稱想死但怕痛的北捷隨機殺人魔鄭捷，昨晚終於伏法，他遭槍決前雖仍裝酷拒絕回答執行檢察官提問，但實際上內心似乎並非真心想死，當行刑手朝心臟開第一槍，鄭捷身體仍有明顯晃動，最後總共被開3槍，才終結他的罪孽一生。\\xa0昨晚鄭捷被帶往刑場後，高檢署執行檢察官錢漢良依規定詢問鄭捷是否收到判決？有無意見或遺言等，鄭捷都拒絕回應，只是面無表情的看著檢察官說：「我想喝口水。」\\xa0隨後看守所人員為鄭捷準備菸酒及含4樣配菜的焢肉便當，鄭捷吃了2/3便當，幾乎喝光水，但沒抽菸也沒喝酒，便停止進食，由法醫為他注射麻醉藥，然後趴臥在行刑地點等待死神降臨。\\xa08點47行刑手從背後朝鄭捷心臟開第一槍，沒想到鄭捷身軀竟明顯晃動，2分鐘後執行檢察官錢漢良隨即下令補開第二槍，但傷口卻冒出血泡，法醫研判可能沒有命中心臟，行刑手隨即在8點51分補上第三槍，20分鐘後法醫相驗確認鄭捷死亡，才由殯葬業者將他遺體載離刑場。\\xa0事後錢漢良接受《蘋果》專訪談到這次執行的感想，他特別出示等候執行期間，有感而發隨手寫下的感言，表示：「法律的精神在於社會正義，而正義是基於良知的正道，正道的理想必須能夠具體實現，社會正義才有落實的可能。」（呂志明／台北報導）\\xa0【更多新聞，請看《蘋果陪審團》粉絲團】\\xa0出版時間：00：01更新時間：10：36\\n執行鄭捷死刑的高檢署檢察官錢漢良。呂志明攝錢漢良出示有感而發隨手寫下的感言。呂志明攝', 'view_cnt': 320204}, {'link': 'http://www.appledaily.com.tw//realtimenews/article/local/20160511/858400/鄭捷原本想當警察\\u3000拿槍後要大開殺戒', 'category': '社會', 'title': '鄭捷原本想當警察\\u3000拿槍後要大開殺戒', 'time': '2016/05/11 10:36', 'summary': '鄭捷伏法槍決，前主播、名嘴羅友志在臉書驚爆，鄭捷當初在做筆錄時，曾透露原本想當警察，警察問他當警察要幹嘛，他竟回答「領到槍，我就要去大開殺戒」。\\xa0羅友志在臉書提到，當初鄭捷在做筆錄時，自己跟員警說「我本來也可能是警察喔」，還說當時同學曾建議他可以考警大，結果有科分數差一點才落榜，他被問到當警察要幹嘛時，鄭捷竟說「如果我當上警察，上班第一天，領到槍，我就要去大開殺戒」。\\xa0羅友志嘆「今天，如果在捷運上的鄭捷不是一把刀，而是一把槍……在死了一條命後，該想的是，我們的命，也許也是撿回來的！恭喜你！」（盧麗蓮／綜合報導）\\n羅友志爆鄭捷差一點考上警察，拿到槍後要大開殺戒。翻攝羅友志oo有事找友志臉書', 'view_cnt': 22946}, {'link': 'http://www.appledaily.com.tw//realtimenews/article/life/20160511/857976/【影片】愈睡愈累？4大助眠迷思', 'category': '生活', 'title': '【影片】愈睡愈累？4大助眠迷思', 'time': '2016/05/11 10:35', 'summary': '許多人晚上睡不好，備受失眠困擾，或者感覺明明有睡，白天卻還是十分疲憊，注意力無法集中。中醫師羅明宇提醒常見相關錯誤的改善睡眠的迷思，避免助眠不成，反而愈睡愈累。(鄭綿綿／綜合報導)\\xa0迷思1、睡前喝酒有助睡眠有些人認為喝酒可以幫助睡眠，但其實酒屬濕熱之品，容易讓身體燥熱上火。通常喝酒後，雖然可幫助大腦下意識放鬆，但通常助眠只有2~3小時作用。由於酒精會讓腦波不容易進入深層睡眠，之後就容易睡眠中斷、易醒，處在淺眠多夢狀況，因此往往隔天起床，會感到更疲憊。【提醒您：飲酒過量，有害健康】\\xa0迷思2、洗完熱水澡更好睡許多人認為洗完熱水澡馬上去睡更好睡，但其實洗完澡身體核心體溫，即軀幹體溫會上升，反而不容易入眠。較好睡的狀態，應該是讓核心體溫下降0.5~1度，而四肢則應較溫暖，大約提升0.3~0.5度。因此，建議睡覺之前1~2小時洗熱水澡較適宜。建議可配合睡前泡15~20分鐘熱水腳，溫度比體溫略高約38度到42度即可，且腳踝有許多穴道，可幫助引熱下行，提升循環，更好入睡。\\xa0迷思3、劇烈運動後更好睡許多人認為睡前做劇烈運動，消耗體力，更能幫助睡眠。但其實睡前1小時不宜做劇烈運動，像是打球、快走、跑步，容易讓身體核心體溫升高，更疲勞，出汗過多，也容易造成心氣不足，更不好睡。建議睡前1小時可做伸展運動，將手腳緩和伸展3~5分鐘，搭配調節呼吸，更能幫助好睡。\\xa0迷思4、看電視、追劇看到累更好睡有些人認為看電視或使用三C追劇看到累，之後更好入眠，但是夜晚的聲光刺激會不斷刺激大腦皮質，讓大腦處在興奮狀態，也會影響褪黑激素分泌降低，容易造成失眠。且熬夜看電視，容易影響肝火旺盛，讓人容易頭發脹，淺眠多夢，影響睡眠品質。\\n錯誤助眠方式容易愈睡愈累。睡前喝酒容易處在淺眠狀態。洗完熱水澡馬上睡其實不易入睡。劇烈運動後更不好入睡。聲光刺激會不斷刺激大腦皮質。', 'view_cnt': 2494}, {'link': 'http://www.appledaily.com.tw//realtimenews/article/politics/20160511/858406/【有片】用死刑預防犯罪？\\u3000黃國昌：此議題有待努力', 'category': '政治', 'title': '【有片】用死刑預防犯罪？\\u3000黃國昌：此議題...', 'time': '2016/05/11 10:35', 'summary': '（更新：新增影片）\\xa0\\xa0台北捷運隨機殺人凶手鄭捷昨晚槍決。時代力量立委黃國昌今天表示，人已伏法，現在談是否太快執行已沒意義，未來政府應思考如何有效預防犯罪，從國際人權公約來看，他認為此議題有待進一步努力。\\xa0鄭捷於2014年5月21日在台北捷運龍山寺到至江子翠站之間持刀殺人，造成4死22傷。最高法院今年4月22日依殺人罪、殺人未遂等罪判處死刑、褫奪公權終身定讞。法務部昨天批准鄭捷死刑令，昨晚8時47分伏法。\\xa0黃國昌今天至財政委員質詢，會後接受媒體訪問指出，鄭捷死刑定讞後19天即槍決，與過去比相對快很多，但現在人已伏法，再談是否太快執行已沒有意義，重點是未來政府施政能否有效預防犯罪，讓民眾提升安全感。\\xa0外界認為時代力量的立場是反對死刑。黃國昌重申，時代力量競選時所提出的14項政策中，死刑存廢議題不在其中，現在也沒有提出相關政策。他說，時代力量成員對用死刑預防犯罪有不同看法，但從國際人權公約來看，此議題有待進一步努力。（林巧雁／台北報導）\\xa0出版：10：35更新：11：00\\n時代力量立委黃國昌。唐紹航攝', 'view_cnt': 3579}, {'link': 'http://www.appledaily.com.tw//realtimenews/article/life/20160511/858008/牙都快拔光了還是痛？原來是它在作怪', 'category': '生活', 'title': '牙都快拔光了還是痛？原來是它在作怪', 'time': '2016/05/11 10:34', 'summary': '根據資料顯示，全美國1年約有1萬顆牙齒，因三叉神經痛而被無辜拔除。台北慈濟醫院神經外科醫師李定洲表示，三叉神經是從腦幹延伸出來，分為眼、上顎、下顎3大分支，主要功能是支配臉部的感覺和肌肉動作。臨床上也常見許多患者拔了多顆牙，甚至一排牙都快拔光了，還是感到疼痛。整體而言，三叉神經痛屬陣發性，常伴隨臉皮疼痛；牙痛則是持續性的，不會伴隨臉皮疼痛。診斷時可透過核磁共振檢查，確定是否血管壓迫到三叉神經造成疼痛。（鄭綿綿／綜合報導）\\xa0三叉神經痛常見痛點：第1分支眼分支，易造成眼眶疼痛，甚至痛到張不開眼。由於疼痛點常發生在上排及下排牙齒附近，即第2上顎分支、第3下顎分支，容易誤以為是牙痛引起。經常容易發生誤拔牙的狀況。在說話、吞嚥，咀嚼硬的食物、刷牙、洗臉冷熱水刺激、觸摸甚至吹到風都會痛，嚴重時會像針刺、刀割或電擊的感覺，每次持續數秒至數分鐘，十分不適。', 'view_cnt': 3671}, {'link': 'http://www.appledaily.com.tw//realtimenews/article/local/20160511/858185/草率槍決鄭捷討好人民？\\u3000「我無法諒解」', 'category': '社會', 'title': '草率槍決鄭捷討好人民？\\u3000「我無法諒解」', 'time': '2016/05/11 10:33', 'summary': '(新增：網友意見)犯下台北捷運4死命案的死囚鄭捷，定讞18天後在昨天晚間執行槍決，曾代表綠社盟參選立委的曾柏瑜在臉書粉絲專頁發文批評，一個政府為了討好人民而貿然奪走一個人的性命，「我永遠不能明白，也無法諒解」。\\xa0曾柏瑜表示，4名被害者和加害者鄭捷同樣都是性命，無論大家認為他們是否有貴賤之分，但在昨晚的3聲槍響之後，都一樣是被草率地對待，她認為自己成長在一個號稱司法獨立、重視公平正義的國家，政府竟然為了安撫神明、討好人民，而不去思考有沒有機會更進一步理解犯案心理與動機，就這樣貿然地奪走一個人的性命，「我永遠不能明白，也無法諒解」。\\xa0對於曾柏瑜的發文，《蘋果》讀者留言說「我書讀的不高。但是我知道什麼叫做\"將心比心\"、你能夠感受到被害者及家屬的那份無法言喻的悲痛嗎？、做人啊！別自視甚高，過於清高。」、「曾小姐，妳偽善的論點真的非常無知也令人憤慨，難道妳不知道鄭捷殘害的是22位受輕重傷的老百姓，以及殺害了四位無辜的寶貴生命嗎？」（劉育良、葉國吏／綜合報導）\\xa0出版：00:00更新：10:32\\xa0\\n翻攝自曾柏瑜的臉書粉絲專頁', 'view_cnt': 238252}, {'link': 'http://www.appledaily.com.tw//realtimenews/article/international/20160511/858404/世衛附一中原則\\u3000美學者：北京設高門檻\\u3000', 'category': '國際', 'title': '世衛附一中原則\\u3000美學者：北京設高門檻\\u3000', 'time': '2016/05/11 10:33', 'summary': '華府兩岸問題學者葛來儀10日在美國指出，「世界衛生組織」（WHO）向台灣發出的世界衛生大會（WHA）邀請函附有「一中原則」字眼，對兩岸關係的情勢沒有幫助，而邀請函寄給即將離任的衛福部長也是奇怪的事，但北京設下的門檻非常高，相信兩岸最後還是會找出新的公式。\\xa0中央社報導，美國戰略暨國際研究中心（CSIS）中國權力計畫主任葛來儀（Bonnie Glaser）10日出席喬治華盛頓大學席格爾亞洲研究中心舉辦的「蔡英文新政府的前景」研討會，分析民進黨執政後兩岸關係的可能發展。關於總統當選人蔡英文的就職演說，中央社報導，葛來儀指，不會期待蔡英文講出一中原則與九二共識，但期待她就兩岸關係提出想法，也可以提及她想要執行的政策，各界再看看北京如何回應，但不清楚蔡英文是否會提出新的兩岸構思。（石秀娟／綜合外電報導）', 'view_cnt': 1335}, {'link': 'http://www.appledaily.com.tw//realtimenews/article/3c/20160511/858201/《秘境探險4》台灣入鏡\\u3000猜猜這是哪', 'category': '3C', 'title': '《秘境探險4》台灣入鏡\\u3000猜猜這是哪', 'time': '2016/05/11 10:32', 'summary': '延期一陣子的PS4獨佔冒險大作《秘境探險4》，在近期終於正式上市，且為系列最終作，自然吸引不少玩家搶玩，而近期在Ptt也有網友發現，在主角德瑞克的家中，掛著3幅似曾相似的照片，且不少眼尖網友不僅認出是三峽祖師廟外，照片中還有機車輔助輪，相當有趣外，網友也說主角德瑞克那麼衰，還是不要來台灣好了。（莊友直／綜合報導）\\xa0不管迷人美照，還是失焦殘念照，快來「失焦der小確幸」社團分享照片吧\\xa0更有趣報導，請上副刊吃喝玩樂蘋果花粉絲團\\n不少眼尖網友立馬認出是三峽祖師廟外，也笑說德瑞克那麼衰，還是不要來台灣以免有什麼意外。翻攝自Ptt', 'view_cnt': 1822}, {'link': 'http://www.appledaily.com.tw//realtimenews/article/international/20160511/858393/女警微嘟小桃唇露美腿\\u3000被批不雅遭辭退', 'category': '國際', 'title': '女警微嘟小桃唇露美腿\\u3000被批不雅遭辭退', 'time': '2016/05/11 10:32', 'summary': '中國遼寧一名女輔警日前在微博上PO出一組照片，照片中這名女警僅穿小熱褲，露出修長美腿，還對著鏡頭嘟起小桃唇。但這些照片被當局發現後認為不雅，最後這名女輔警遭到辭退。\\xa0據中國《南方網》報導，這名王姓女輔警是警校畢業生，畢業後在丹東市振興公安分局服務，最近她自拍這組性感照，卻引發網友批評。當局發現後也認為不雅與不妥，分局最後將她辭退。警校校方也表示，會進一步加強對學生的教育管理，嚴格各項紀律要求，杜絕類似事件再次發生。（施旖婕／綜合報導）\\n王姓女輔警是警校畢業生，畢業後在丹東市振興公安分局服務。翻自《南方網》', 'view_cnt': 8619}, {'link': 'http://www.appledaily.com.tw//realtimenews/article/strange/20160511/857967/蝦米！國產車當超跑賣四月才賣了2輛？原來是…', 'category': '搜奇', 'title': '蝦米！國產車當超跑賣四月才賣了2輛？原來...', 'time': '2016/05/11 10:31', 'summary': '沒看錯吧！Honda City四月才賣2台，再揉一下眼睛、再揉一下眼睛，沒看錯是2台啊！雖然Honda City也算是名廠出身的一台車，但終究是台求量、售價58.9~66.9萬元的平價庶民車款，啊怎麼可能四月只賣個2台，難道這兩台是媲美超級跑車的City F1一級方程版？連售價也是千萬級別所以才僅僅賣兩台？喔、喔、喔、嗯、嗯、嗯，跟台灣本田連繫後，原來是為了對應7月全面上路的汽車胎壓偵測法規，原廠要先清倉、銷庫存，5月工廠才會正式排線生產內建汽車胎壓偵系統的Honda City，由於四月剛好正值轉換期所以才會出現只掛兩台的特殊現象。預計下星期就能消化截至目前為止約的1100張訂單。(陳宏銘/綜合報導)\\xa0副刊中心粉絲團：吃喝玩樂蘋果花\\xa0想看更多有趣車訊，快上轟轟轟 就是愛車', 'view_cnt': 6699}, {'link': 'http://www.appledaily.com.tw//realtimenews/article/sports/20160511/858395/【有片】「F」伺候主審\\u3000哈潑面臨禁賽', 'category': '體育', 'title': '【有片】「F」伺候主審\\u3000哈潑面臨禁賽', 'time': '2016/05/11 10:31', 'summary': '國民隊哈潑(Bryce Harper)10日對老虎之戰，在隊友羅賓森(Clint Robinson)轟出再見全壘打後，衝入場內慶祝同時，轉頭向主審奈特(Brian Knight)飆罵”Fxxx you”，過程被電視鏡頭全都錄，嘴型拍得清清楚楚，可能會面臨被禁賽處份。哈潑表示不在乎 ，如果可以的話，他可以讓那名主審再清楚地聽到他的問候。\\xa0哈潑飆罵主審(第20秒)：\\xa0Your browser does not support iframes.哈潑在10日對老虎隊之戰第9局，隊友艾斯皮諾沙(Danny Espinosa)被主審拉弓三振，哈潑不滿主審好球帶，在休息室碎碎唸，被主審聽到遭驅逐出場。緊接著上場代打的羅賓森，一棒敲出再見全壘打，已被逐出場的哈潑又跑入場內，轉頭爆國罵問候主審。（姚瑞宸／綜合報導）\\xa0\\xa0ICYMI: last night, Bryce Harper had some choice words for an umpire during the #Nats walk-off celebration https://t.co/gTGRYGMXF8— FOX Sports: MLB (@MLBONFOX) 2016年5月10日\\n【看了這則新聞的人，也看了……】 【更新】王建民牛棚熱身還是沒上\\u3000皇家7比10輸洋基去年他在世界大賽創紀錄\\u3000今卻遭禁賽50場', 'view_cnt': 6561}, {'link': 'http://www.appledaily.com.tw//realtimenews/article/life/20160511/858399/家裡一堆逾期藥別亂丟\\u3000專家這樣說...', 'category': '生活', 'title': '家裡一堆逾期藥別亂丟\\u3000專家這樣說...', 'time': '2016/05/11 10:31', 'summary': '國內一年丟棄136噸廢棄藥品，堆高約5棟台北101、數量驚人。專家表示，藥品非一般商品，任意丟棄恐污染環境，尤其具基因毒性的藥品如抗癌化療藥、荷爾蒙藥物等，若逾期勿擅自丟垃圾桶或沖馬桶，應拿回原醫療院所依醫療廢棄物回收，避免污染環境、水源；其餘藥品回收，民眾可準備夾鏈袋，將錠劑、藥膏、藥水等集中密封，隨一般垃圾回收丟棄即可。\\xa0亞東醫院藥劑部主任孫淑慧指，天氣愈來愈濕熱，藥品保存不當恐因受潮、日曬變質，而影響藥效或吃了反而傷身，提醒民眾常用的消炎止痛藥、腸胃藥等，可置於室溫環境、避免日曬、潮濕即可；糖尿病患使用的胰島素、肛門栓劑等，需低溫乾燥保存，應置於冰箱冷藏，避免變質。\\xa0她強調，民眾可從藥品外觀判斷是否變質，如藥品顏色改變、錠劑因潮解變成粉末狀及膠囊外殼變軟等，應停止服用。\\xa0孫淑慧說，藥品最好保持在原包裝內，不建議民眾擅自分裝藥品，以防變質，但高血壓、糖尿病等高齡慢性病患常領一大堆藥，每次服藥需拆好幾袋包裝，恐因此漏掉幾顆藥沒吃，因此子女會買塑膠藥盒自行方裝，方便老人家服藥，她提醒，若自行分裝藥品不建議分裝超過1個月，最長以1周為限。（蔡明樺／台北報導）\\xa0\\n藥品依種類各有不同保存方式。蔡明樺攝', 'view_cnt': 4223}, {'link': 'http://www.appledaily.com.tw//realtimenews/article/3c/20160511/857953/小7網大放送\\u3000黑色食物周五青菜賣', 'category': '3C', 'title': '小7網大放送\\u3000黑色食物周五青菜賣', 'time': '2016/05/11 10:30', 'summary': '7-11購物網站ibon mart跟進13號星期五熱潮，也將在5/13黑色星期五當天舉辦黑色超殺特價商品，當天將推出總共約30個品項促銷，其中可口可樂zero 600ml當天最殺，將推出買一送一促銷，單瓶原價29元，特價後平均單瓶14.5元，但最低得購買2瓶才能享優惠，而且當然是限量發售，業者表示預計將可帶動當日銷量成長3倍以上，另UCC BLACK無糖咖啡185克30入原價750元，特價後也只要450元，平均單罐15元，另還有黑麥汁及黑芝麻餡餅等食品同步促銷，但都售完為止。(王心怡／台北報導)\\xa0分享更多有趣生活照快上失焦der小確幸\\xa0更多有趣新聞快上吃喝玩樂蘋果花\\xa0\\xa0\\nUCC BLACK無糖咖啡185克30入原價750元，箱購特價後平均單罐15元。業者提供崇德發黑麥汁250mlx20瓶原價600元，箱購特價後平均單罐18元。業者提供', 'view_cnt': 990}, {'link': 'http://www.appledaily.com.tw//realtimenews/article/local/20160511/858391/【民報】當鄭捷伏法後/預防無差別殺人台灣該做的事', 'category': '社會', 'title': '【民報】當鄭捷伏法後/ 預防無差別殺人 ...', 'time': '2016/05/11 10:30', 'summary': '本內容由民報提供\\xa0(摘錄 全文請連結民報)「大家都要反省，大家都是結構內的一份子。如果沒有做什麼措施，可以預期未來類似案件還是會再發生。」文／黃筱珮、楊惠君\\xa0「希望社會不要再出現這樣的人！」慘遭殺害的劉小妹母親，淌著淚、忍著慟的告白，重擊著每一個台灣人的心。\\xa0為什麼社會出現如此恐佈冷血的人，能傷害無怨無仇的無辜孩童？也在每一個人心裡形成恐懼與疑惑。從歐美的校園槍擊、日本的無差別殺人到台灣的捷運砍人和街頭殺童，「無由來的恨意」似乎潛藏在社會的角落，瞬間就能掠奪我們尋常的幸福。\\xa0恨意從哪而來？如何不再讓這樣的人出現？把矛頭對準精神病患，把這些人關進醫院，就能「消滅」所有恐佈份子，保障全體的安全嗎？很遺憾，這個考驗著台灣、也考驗著全球已開發國家的難題，在在顯示：它的恨意不是單一來源、它由整個社會的資源分配、公平正義、家庭結構、教育體系、人際關係全面蘊釀擴散而來….。\\xa0是的，無差別殺人魔，不是一種精神病，它沒有特效藥。\\xa0預防一：減少社會底層的被剝奪感\\xa0「所有的壞人都是好人變成的」如同電影《無間道》裡的這句典經台詞，捷運案的鄭捷、殺女童案的王嫌......(摘錄 全文請連結民報)', 'view_cnt': 932}, {'link': 'http://www.appledaily.com.tw//realtimenews/article/3c/20160511/858074/iPhone這個功能你一定很少用', 'category': '3C', 'title': 'iPhone這個功能你一定很少用', 'time': '2016/05/11 10:28', 'summary': '蘋果推出廣告的頻率越來越頻繁，日前在推「Thank You Speech」，由曾為金像獎主持人尼爾派屈克哈里斯Neil Patrick Harris為主角，強打Siri功能，且升級後的iOS 9.3隱藏了一個頗實用的功能，不需長按Home鍵，在黑畫面時對著手機講「嘿Siri」，就會自動開啟語音助理模式，但使用前需要先進入系統設定才行。（周淑萍／綜合報導）\\xa0更有趣報導，請上副刊吃喝玩樂蘋果花粉絲團\\xa0不管迷人美照，還是失焦殘念照，快來「失焦der小確幸」社團分享照片吧\\niPhone手機升級到iOS 9.3之後，喚醒Siri不用按Home鍵就可使用，對著黑畫面喊「嘿Siri」即可，使用前一樣要到「設定」內的「一般」點選「Siri」開啟「允許嘿Siri」。手機截圖', 'view_cnt': 3568}, {'link': 'http://www.appledaily.com.tw//realtimenews/article/sports/20160511/858323/【影片】柯神再創紀錄\\u3000史上首位全票當選MVP', 'category': '體育', 'title': ' 【影片】柯神再創紀錄\\u3000史上首位全票當選...', 'time': '2016/05/11 10:28', 'summary': '勇士「柯神」柯瑞(Stephen Curry)今順利蟬聯本季MVP(Most Valuable Player，最有價值球員)，而且他成為此獎項創立61年來，首位全票當選的MVP，他也是史上第11蟬聯MVP的球員。\\xa0在參與投票的131位媒體記者中，所有人的第1名選票都投給了柯瑞，讓他得到滿分的1310分，馬刺的雷納德(Kawhi Leonard)則以634分排第2，詹姆士(LeBron James)則以631分排名第3。(廖柏璋／綜合報導)\\n【想知道更多，一定要看……】柯瑞首位全票MVP\\u3000麥葛雷迪：NBA水準下降柯神的表現\\u3000讓拓荒者老闆嚇到嘴開開勇士「柯神」柯瑞(Stephen Curry)蟬聯本季MVP。美聯社', 'view_cnt': 11964}, {'link': 'http://www.appledaily.com.tw//realtimenews/article/life/20160511/858394/張大春朋友為這理由當法醫\\u3000誰能說他錯？', 'category': '生活', 'title': '張大春朋友為這理由當法醫\\u3000誰能說他錯？', 'time': '2016/05/11 10:27', 'summary': '病人們求醫時，也應體諒醫護辛勞，否則未來沒人願意從醫，恐怕非人民之福！\\xa0作家張大春今早於臉書分享一個自己與法醫朋友的對話，幾句話揭露醫師行醫的無奈。\\xa0張大春寫道自己問一位法醫朋友「當初你明明可以去外科，最後為什麼卻選了法醫？」朋友竟答「為了生存」，張大春不解，問「法醫整天摸死人，報酬也不算高啊？」沒想到朋友回答「醫病關係比較穩定。」\\xa0不少網友紛紛也有感而發回應「還不會被健保局找麻煩？」、「原來真正最有保障的分科在這裡:CSI。」(即時新聞中心/綜合報導)', 'view_cnt': 2243}, {'link': 'http://www.appledaily.com.tw//realtimenews/article/finance/20160511/858389/台股盤中～反彈乏力\\u3000指數開高走低', 'category': '財經', 'title': '台股盤中～反彈乏力\\u3000指數開高走低', 'time': '2016/05/11 10:24', 'summary': '受到美股大漲激勵，台股今天開高一度站回8200點之上，但因追價力道不足，9點40分過後，指數翻黑，目前維持小跌格局。台新投顧研究部協理黃文清表示，目前外資動向還是偏空，加上季報等變數尚未釐清，短期指數仍有回測8000點關卡，建議保守觀望為宜。\\xa0黃文清表示，台股這波從3月下旬的8840點回檔迄今，跌幅最多達8.65%，雖然短線跌深，反彈卻不夠力，顯示盤勢比預期的弱很多，主要有幾項變數，包括外資態度持續偏空、季報要等5月中才會公布完畢，以及上市櫃公司4月營收較去年同期衰退。\\xa0他認為，短期指數可能回測8000點關卡，至於會不會跌破，屆時再觀察外資動向而定；黃文清認為，在指數未出現帶量中長紅、外資未開始反手加碼、主流股能續強等訊號出現前，操作還是要謹慎，因為缺乏整體性，仍以個股表現為主。（陳建彰／台北報導）\\xa0\\xa0\\xa0\\n台股因追價力道不足，9點40分過後，指數翻黑，目前維持小跌格局。林林攝', 'view_cnt': 635}, {'link': 'http://www.appledaily.com.tw//realtimenews/article/strange/20160511/857956/【有片】鄰居超大噪音\\u3000他這樣對付的結果是....', 'category': '搜奇', 'title': '【有片】鄰居超大噪音\\u3000他這樣對付的結果是...', 'time': '2016/05/11 10:21', 'summary': '傍晚時分下班，拖著疲憊的身軀回到家，打算看看電視、翻閱喜愛的書籍，或是聆聽好聽的樂曲，來舒緩整天緊繃的神經，但怎麼也沒想到，正當自己沉浸於此時此刻，隔壁鄰居居然出現擾民行為，噪音聲響之大，你/妳是不是也會有以下處理方式? （蔡惠嵐／台中報導）\\xa0臉書必加社團「蘋果花愛Shopping」副刊中心粉絲團：吃喝玩樂蘋果花\\xa0\\xa0\\n1.跟他尬了，用更強大的聲響蓋過他。(圖片翻攝taopic.com)2.嗶嗶嗶~ 打電話請環保單位或警察前往處理。3.直接上門找他理論。4.上網請教鄉民該如何解決，或是默默地po文表露心聲。5.好吧!打包行李，今晚就在外面過夜吧~ (圖片翻攝xinhuanet.com)6.戴上耳機，就算天塌下來我也不動如山。(圖片翻攝nipic.com)', 'view_cnt': 2492}, {'link': 'http://www.appledaily.com.tw//realtimenews/article/sports/20160511/858388/超浪漫\\u3000斯皮思UA新鞋顏色竟然是....', 'category': '體育', 'title': '超浪漫\\u3000斯皮思UA新鞋顏色竟然是....', 'time': '2016/05/11 10:20', 'summary': '本周PGA(Professional Golf Association，職業高球巡迴賽)進行球員錦標賽，前球王斯皮思(Jordan Spieth)穿著代言品牌的粉紅新鞋亮相吸引目光....。\\xa0斯皮思目前世界排名第2，本季PGA出賽9場，4場前10，包括1冠、1亞。\\xa0（陳國偉／綜合報導)【更多體育新聞訊息，請加入《蘋果運動超級吧》粉絲團】\\n斯皮思。資料照片', 'view_cnt': 2191}, {'link': 'http://www.appledaily.com.tw//realtimenews/article/finance/20160511/858302/【有片證明～HTC10硬梆梆？】彎曲門不管用', 'category': '財經', 'title': '【有片證明～HTC 10硬梆梆？】彎曲門...', 'time': '2016/05/11 10:20', 'summary': 'HTC 10  Bend Test （更新：新增影片）\\xa0宏達電（2498）旗艦機HTC 10全球陸續出貨，國外網站geeky-gadgets將剛入手HTC 10 立馬來做暴力測試，先用尖銳物品做刮擦、打火機火燒，最後來個彎曲門，快來看看HTC 10在這些極端測試結果如何。 網站主編好奇，一款旗艦機在經過2 年風吹日曬雨打後，會變成何種模樣，在大家手下之前，先測試未來日常生活可能發生的情境。\\xa0首先在大猩猩玻璃上做刮擦測試，與其他競品相比情況類似，約在壓力6~7時會有較明顯的刮痕。 今年HTC 10在具備光學防手震的前鏡頭上備有玻璃保護蓋，相較去年M9塑膠保護層有提升，用刀片測試，也沒有破碎的現象。\\xa0接下來更暴力的來了，用美工刀片刮除手機背面的LOGO 測試，由於是一體式金屬製程，不能免除還是有刮痕。但假設是你是放入口袋、大包包裡難免與鑰匙誇刮擦碰撞下，鑰匙的刮擦痕跡，是可以輕易抹除，很神奇不會留下明顯的痕跡。指紋辨識的home按鍵即便有刮痕，還是能夠辨識運作。\\xa0在火烤測試中，HTC 10 螢幕約維持9秒在變黑，不過火源一移開就恢復原狀。相較於LG G5 約3 秒鐘就變黑，持久度較高。 最後當然不能錯過彎曲大考驗，今年HTC 10不管在前彎後彎極限壓力下，手機還是屹立不搖，彎曲度堪稱0。整體而言，與宏達電M9 相比，HTC 10算是一款強壯的手機。（陳俐妏/ 台北報導）出版：08：02更新：10：20\\nHTC 10被國外網站暴力測試，其中彎曲度近乎於零，表示很強壯。翻攝Youtube', 'view_cnt': 4426}, {'link': 'http://www.appledaily.com.tw//realtimenews/article/life/20160511/858265/【有片】今降雨趨緩\\u3000明晨東北風增強低溫21℃', 'category': '生活', 'title': '【有片】今降雨趨緩\\u3000明晨東北風增強低溫2...', 'time': '2016/05/11 10:19', 'summary': '（更新：新增影片）\\xa0鋒面通過，天氣不穩定。\\xa0這波鋒面從昨天下半天至今天清晨，為西半部地區帶來明顯雨勢，雨下最大的地方集中在苗栗、新竹一帶，造橋今天凌晨1時至2時，時雨量高達55毫米。\\xa0氣象局預報員劉宇其指出，隨著北方乾空氣南下，台灣地區今天白天由北而南逐漸轉乾。北部高溫約27℃，和昨天相比降了7℃左右；中南部30至31℃。\\xa0明天清晨東北風增強，各地感覺偏涼，中部以北低溫21至22℃，直到白天陽光露臉，才會回升到30℃以上。（王嘉慶／綜合報導）\\xa0出版時間 06：25更新時間 10：19\\n鋒面通過，天氣不穩定。翻攝中央氣象局', 'view_cnt': 32295}, {'link': 'http://www.appledaily.com.tw//realtimenews/article/sports/20160511/858288/【更新】王建民牛棚熱身還是沒上\\u3000皇家7比10輸洋基', 'category': '體育', 'title': ' 【更新】王建民牛棚熱身還是沒上\\u3000皇家7...', 'time': '2016/05/11 10:18', 'summary': '皇家、洋基今進行4連戰的第2場比賽，皇家由戰績1勝3敗、防禦率6.85的梅德倫先發，他只投2局就失4分退場，開始啟動牛棚。洋基則是由日籍投手田中將大掛帥，不過他單場挨3轟，投7局失6分退場。洋基則在8局下一口氣攻下3分，以10比７擊敗皇家，休息5天的王建民在牛棚待命，並開始熱身練投，但最後沒機會上場，睽違7年要再踏上洋基球場投手丘，還要再等。(鍾裕能／綜合報導)(更新比賽)\\xa0坎恩單場3響砲Your browser does not support iframes.\\xa09局上：洋基由昨天歸隊的守護神查普曼(Arpldis Chapman)登板，用102哩(164公里)速球，讓庫8棒斯伯擊出一壘滾地出局；之後三振代打的柯隆(Christian Colon)，但保送艾斯柯巴，接著面對單場3響的坎恩，讓他擊出內野飛球出局，查普曼救援成功。\\xa0８局下：皇家更換赫雷拉(Kelvin Herrera)登板，輕鬆解決韓德利，但游擊手艾斯科巴失誤，讓賈梅爾上到一壘，接著1棒賈納中外野安打，賈梅爾得分，洋基8比7領先皇家。之後，赫雷拉再對卡斯楚投出觸身球保送，一二壘有人，再被馬坎擊出右外野全壘打牆邊二壘打，洋基連得2分，10比7皇家。王建民也在8局下進牛棚熱身。\\xa08局上：洋基更換投手米勒(Andrew Miller)，但已經單場雙響的皇家中外野手坎恩，一上場又敲出右外野全壘打，單場3響砲，皇家7比7平手。\\xa0Your browser does not support iframes.\\xa07局下：皇家更換第5位投手索瑞亞(Joakim Soria)，1出局後被馬坎敲出安打，再因投手犯規上二壘；2出局後，艾克利左外野安打，洋基追成6比6平手，希克斯左外野二壘打，洋基7比6超前。\\xa05局上：皇家進攻，庫斯伯、戴森連續安打，接著艾斯科巴犧牲觸擊，跑者進佔二、三壘；3局上才擊出陽春砲的坎恩，一棒又擊出左中外野全壘打，3分打點，皇家6比5超前洋基，這也是田中將大此役所挨的第3支全壘打。\\xa0Your browser does not support iframes.\\xa03局下：洋基貝爾川一上場就敲出左外野二壘打，接著艾克利保送，皇家叫信，但梅德倫繼續保送下一棒希克斯，形成滿壘；隨後葛瑞歐里亞斯丄棒清壘右外野二壘打掃回3分，洋基5比3後來取上。\\xa03局上：皇家坎恩在1出局後擊出右外野陽春砲，3比2超前洋基。\\xa02局下：洋基葛瑞歐里亞斯右外野二壘打，韓德利右外野安打，洋基得到第2分，雙方平手。\\xa02局上：皇家反攻，5棒戈登中外野二壘打，2出局後，8棒庫斯伯擊出兩分全壘打，皇家2比1超前。\\xa01局下：洋基1出局後，2棒卡斯楚、3棒馬坎、4棒貝爾川連續擊出安打，接著艾克利中外野高飛犧牲打，洋基先馳得點，1比0領先。\\xa0以下是兩隊先發名單皇家1棒游擊手 \\u3000艾斯科巴 Alcides Escobar2棒中外野手 坎恩Lorenzo Cain3棒一壘手 \\u3000侯斯莫Eric Hosmer4棒DH \\u3000\\u3000\\xa0 莫拉列斯Kendrys Morales5棒左外野手 戈登Alex Gordon6棒捕手\\xa0\\xa0\\xa0\\xa0\\xa0\\xa0\\xa0 裴瑞茲Salvador Perez7棒二壘手 \\xa0\\xa0\\xa0 英方提Omar Infante8棒三壘手\\xa0\\xa0 \\xa0 庫斯伯Cheslor Cuthbert9棒右外野手\\xa0 戴森Jarrod Dyson\\xa0先發投手\\xa0\\xa0\\xa0\\xa0\\xa0 梅德倫Kris Medlen\\xa0洋基1棒左外野手 \\xa0賈納Brett Gardner2棒二壘手\\xa0\\xa0\\xa0 \\xa0卡斯楚Starlin Castro3棒捕手\\xa0\\xa0\\xa0\\xa0\\xa0\\xa0\\xa0\\xa0 馬坎Brian McCann4棒DH\\xa0\\xa0\\xa0\\xa0\\xa0\\xa0\\xa0\\xa0\\xa0 貝爾川Carlos Beltran5棒一壘手\\xa0\\xa0\\xa0\\xa0 艾克利Dustin Ackley6棒中外野手\\xa0 希克斯Aaron Hicks7棒游擊手\\xa0\\xa0 \\xa0 葛瑞歐里亞斯Didi Gregorius8棒三壘手\\xa0\\xa0\\xa0 \\xa0韓德利Chase Headley9棒右外野手 \\xa0賈梅爾Ben Gamel先發投手\\xa0\\xa0\\xa0\\xa0\\xa0\\xa0\\xa0 田中將大\\n【想知道更多，一定要看……】皇家先發輪值異動\\u3000基伊取代克里斯楊去年他在世界大賽創紀錄\\u3000今卻遭禁賽50場坎恩(右)第5局揮出3分全壘打。美聯社田中將大被轟得滿頭包。法新社', 'view_cnt': 31740}, {'link': 'http://www.appledaily.com.tw//realtimenews/article/politics/20160511/858383/他評羅瑩雪馬英九這件事\\u3000「與鄭捷沒兩樣」', 'category': '政治', 'title': '他評羅瑩雪馬英九這件事\\u3000「與鄭捷沒兩樣」', 'time': '2016/05/11 10:18', 'summary': '北捷殺人案兇手鄭捷伏法，多數輿論表達贊同，但也有人認為鄭捷的死刑還帶有政治意義。政大教授陳芳明就批評，這「閃電執法」，只看出羅瑩雪和馬英九「真的覺得來日無多了，那種心情大概與鄭捷沒有兩樣，非常絕望。」\\xa0政大教授陳芳明在臉書上以「羅馬不是一天造成的」寫道「羅瑩雪以最快方式簽署鄭捷死刑，並且立即執行．．．九局下半的政權，顯然已經意識到來日無多。羅瑩雪的隨機殺人，想必是為了展現她的行政效率。馬英九在同一天批准翁啟惠辭職，並且揚言在短短九天之內任命新院長。他們真的覺得來日無多了，那種心情大概與鄭捷沒有兩樣，非常絕望。」\\xa0陳芳明批評，「過去執政八年，如果是如此快刀斬亂麻，如此劍及履及，大概不會這樣輕易失去政權吧。」、「同樣的法律，可以讓江國慶冤死。同樣的法律，也可以讓洪仲丘虐死。問題出在哪裡，從未見馬政權好好檢討。藉由死刑來為自己的政權塗粉抹紅，恐怕是徒勞無功。」\\xa0「那麼有效率的執行死刑，那麼有效率視察南沙與彭佳嶼，絕對不可能為腐敗的政權加分。羅馬畢竟不是一天造成的，他們八年的無能已是證據確鑿。人們會記得，他們的行政無能的背後，完全沒有深層的價值觀念，也根本沒有核心思考。處理生命如此嚴肅的議題，羅馬兩人的內心空洞無物，內心深處的絕望，與鄭捷沒有兩樣。」\\xa0有網友呼應「台灣有羅馬 , 真不幸」；但也有人不認同，委婉問陳芳明，「芳明兄大文所述，我都甚表贊同。唯槍決鄭捷事，我倒覺得現在槍決、520之後槍決，有何不同之處？」(即時新聞中心/綜合報導)', 'view_cnt': 6024}, {'link': 'http://www.appledaily.com.tw//realtimenews/article/strange/20160511/858063/【有片】上天啊～\\u3000請救救菜英文！', 'category': '搜奇', 'title': '【有片】上天啊～\\u3000請救救菜英文！', 'time': '2016/05/11 10:17', 'summary': '想和外國人自然聊天卻總是會卡卡的？還是每次看到英文都霧煞煞，或頭昏眼花嗎？或者是想要增進自身的外語能力，卻又不知道該從何做起嗎？快來學學以下幾招有用的方法，搶救菜英文就從今天開始吧！ (鄭惠文／綜合報導)\\xa0\\xa0\\xa0\\xa0\\xa0\\xa0\\xa0\\xa0\\xa0\\xa0\\xa0\\xa0\\xa0\\xa0\\xa0\\xa0\\xa0\\xa0\\xa0\\xa0\\xa0\\xa0\\xa0\\xa0\\xa0\\xa0\\xa0\\xa0\\xa0\\xa0\\xa0\\xa0\\xa0\\xa0\\xa0\\xa0\\xa0\\xa0\\xa0\\xa0\\xa0\\xa0你知道更多有趣的事物嗎？分享到手寫時代吧！更多資訊請上吃喝玩樂蘋果花\\xa0\\xa0\\n【身處充滿英文的環境】讓生活周遭充滿英文，不論是電腦或手機都調成英文介面吧！久了後一天沒看到英文就會渾身不自在！資料照片【和朋友用英文聊天】想用英文聊天卻卡卡的嗎？有空就和朋友多練習講幾句，講久了字彙也會跟著增加！資料照片【訓練自己將文章翻成英文】可以將每天看到的文章翻成英文，先從較短的文章開始練習，之後就會愈來愈熟練！資料照片【來段異國戀】愛情可以說是一切的動力來源啊！所以如果想增進自己的英文，不妨來段異國戀吧！資料照片', 'view_cnt': 910}, {'link': 'http://www.appledaily.com.tw//realtimenews/article/strange/20160511/857992/【有片】超療癒！6個可以一起游泳的海底動物', 'category': '搜奇', 'title': '【有片】超療癒！6個可以一起游泳的海底動...', 'time': '2016/05/11 10:16', 'summary': '「魚兒魚兒水中游 ♫ ♬♪游來游去樂悠悠~~~~♬ ♪♩♬」大海奧秘總是讓人類很好奇，跟什麼小丑無尼莫、沙丁魚，或是各式各樣熱帶魚共游已經不稀奇，看看以下這些可以共游的海底動物，個個超療癒（謎之音：鯊魚有療癒嗎？），快跟著蘋果旅遊來看看，有哪些你跟牠們游過的？哪天跟美人魚共游，記得打電話通知我嘿。（陳姿吟／綜合報導）\\xa0更多精采訊息請看吃喝玩樂蘋果花想要知道更多親子旅遊地點，歡迎加入「蘋果花客製親子遊 」社團\\xa0\\n1鯊魚。\\n別怕別怕~菲律賓歐斯陸(Oslob)漁村的鯨鯊很溫馴，難怪有人叫牠大憨鯊。高世安攝\\n水母。\\n照片上水母是很療癒啦！但是為什麼我一看到就覺得全身好癢央？王永村攝\\n海龜。\\n咱們屏東的小琉球，也是可以遇到海龜唷！高世安攝\\n海豚。\\n海豚是人類海洋中的好朋友，當然也可以共游。薛泰安攝\\n鯨魚。\\n我又被嚇歪了，鯨魚也可以？昆士蘭旅遊局提供\\n海狗。\\n跟野生海狗共游也是促咪，看看連王陽明Sunny都帶著愛妻下海。翻攝自王陽明臉書', 'view_cnt': 552}, {'link': 'http://www.appledaily.com.tw//realtimenews/article/strange/20160511/857934/星戰迷必看\\u3000捕獲野生R2D2', 'category': '搜奇', 'title': '星戰迷必看\\u3000捕獲野生R2D2', 'time': '2016/05/11 10:15', 'summary': '日本廠商AQUA去年發表的R2D2 機械人，母親節在台南貝伊拉鮮奶酪永福店亮相，引起星際迷搶著合照，只見機械人旋轉走動，模樣十分可愛，業者指出，R2-D2機械人冰箱重約 50公斤，光售價近約台幣30萬，目前全台只有2台，皆由玩家收藏。而獨特的是，肚子部分打開後就是冰箱，可冰存6瓶罐裝飲料，並具備投影機功能，而充電後約可行走2小時，不過民眾想看本尊可得碰碰運氣囉。（陳勇凱／台南報導）\\xa0社團「蘋果花愛Shopping」副刊中心粉絲團：吃喝玩樂蘋果花\\xa0\\n要價30萬台幣的R2D2 機械人現身，民眾搶著拍照。民眾提供R2D2機械人內部還可冰存飲料，並具備投影機功能。民眾提供', 'view_cnt': 664}, {'link': 'http://www.appledaily.com.tw//realtimenews/article/finance/20160511/858328/【財訊】運動商機再進化！搶賺兆元服務財', 'category': '財經', 'title': '【財訊】運動商機再進化！搶賺兆元服務財', 'time': '2016/05/11 10:15', 'summary': '本內容由財訊雙週刊提供\\xa0「女孩們！準備好迎接更讚的自己了嗎？」四月十日凌晨5點20分，耐吉（ＮＩＫＥ）運動事業總經理陳淑芬一鳴槍，1萬8000名女性跑者不畏陰沉的雷雨天，在高昂的歡呼加油聲中衝出起跑線。這是ＮＩＫＥ台北女子半程馬拉松現場，舉辦六屆以來，今年參加人數來到史上新高。整整21公里的賽道沿途，不僅有主辦單位ＮＩＫＥ＋RUN CLUB（ＮＲＣ）的90位配速員與教練帶領激勵，運動平台「運動筆記」也派數十位攝影隨行記錄報導，還有好幾個路跑社團自發性地帶著西瓜、能量膠，甚至啤酒等「私補」發送給跑者，加上醫護、贊助廠商攤位，當天有將近3萬人參加，還有不少是從香港、東南亞來的跑者。運動生活化\\xa0賣產品還不夠\\u3000搭配服務才夠看全球運動休閒相關商機總產值已經來到1兆5000億美元（約48.8兆元台幣），台灣也跟上全球運動熱潮方興未艾。「二○一三年開始，路跑賽事報名幾乎都是秒殺。」田中馬拉松創辦人鄭宗政觀察。市場研究機構Euromonitor指出，台灣路跑活動的參與人數已較前一年成長了47％，不僅帶動運動用品銷售，運動服務商機的成長更是不容小覷，而且新服務、新行業都在持續增加中...詳全文', 'view_cnt': 561}, {'link': 'http://www.appledaily.com.tw//realtimenews/article/strange/20160511/858373/72歲「阿嬤」成功添丁\\u3000首次當媽媽', 'category': '搜奇', 'title': '72歲「阿嬤」成功添丁\\u3000首次當媽媽', 'time': '2016/05/11 10:14', 'summary': '印度一名72歲老婦人卡爾(Daljinder Kaur)本應是當阿嬤的年紀，但她最近才首度當媽媽，在上月19日成功添丁。\\xa0據英國《都市報》報導，卡爾稱79歲丈夫吉爾(Mohinder Singh Gill)結婚46，但一直膝下無子，原本他們已經放棄希望，但當看到人工受孕的廣告，決定做最後一試，結果老天爺果然達成他們的願望。吉爾表示，有人質疑他們年事已高，如果他們逝世，孩子會怎樣，但他深信神會照顧孩子。\\xa0據悉婦產科診所採用兩夫婦的精子及卵子，進行人工受孕，嬰兒出生時只有2公斤，但很健康。卡爾說：「現在我很幸福快樂，我的生命是完整的。」（施旖婕／綜合外電報導）', 'view_cnt': 5124}, {'link': 'http://www.appledaily.com.tw//realtimenews/article/life/20160511/858386/熟男每天高粱、威士忌混酒紓壓\\u3000爆肝險丟命', 'category': '生活', 'title': '熟男每天高粱、威士忌混酒紓壓\\u3000爆肝險丟命', 'time': '2016/05/11 10:14', 'summary': '一位50歲中年男子20歲起開始在工地上班，周一到五都要應酬喝酒。一喝就是30年，這2年來，因為承包世大運，連續加班趕工盯進度，加上工程停工問題，讓他壓力大到每天睡前還得自己喝悶酒，把高粱、威士忌、啤酒混酒想換一夜好眠，長期喝酒導致他睡眠品質變糟、甚至肝硬化，今年4月甚至喝到爆肝昏迷，意識不清被送往醫院，醫師發現他已經有酒精成癮問題。精神科醫師楊聰財說，臨床上7成民眾用錯紓壓方法，靠抽菸、喝酒反而容易疾病上身。\\xa0楊聰財說，根據國內學者2014年所發表的健康訪問調查研究發現，國內青壯年及中年族群每天喝酒的盛行率分別是1.82％與4.82％，以內政部統計有1千6百萬名成年人來推算，國內因為紓壓、失眠、社交等理由，不當飲酒的民眾可能超過1百萬人。\\xa0楊聰財說，臨床上，有酗酒情形的患者還是男多於女，但是近幾年女生有逐漸增加的趨勢，當中年齡主要在25到65歲，這些民眾都是開始投入職場，因社交、生活煩悶、能夠合法取得酒類的成年人。\\xa0楊聰財說，這類有酒癮的患者，在戒酒過程中容易出現心跳加快、血壓高、手顫抖、流鼻涕等戒斷症狀，可以透過醫師開立藥物輔導；針對心理的憂鬱和焦慮，也可請醫師開立適量藥物輔助。另外，更重要的是必須學習正確的紓壓方法，找親友、專家訴苦、唱歌、找空檔靜坐，每次做20組腹式呼吸、睡前1小時可以寫心情筆記，除了幫助整理思緒，也能夠增加腦中血清素的分泌，減少鬱卒。（黃仲丘／台北報導）\\xa0\\n精神科醫師楊聰才提醒錯誤紓壓方式恐導致身體疾病上身，楊聰才提供。', 'view_cnt': 1674}, {'link': 'http://www.appledaily.com.tw//realtimenews/article/life/20160511/858375/【網路溫度計】出社會先修班？十大大學生最愛的打工來了！', 'category': '生活', 'title': '【網路溫度計】出社會先修班？十大大學生最...', 'time': '2016/05/11 10:08', 'summary': '本內容由網路溫度計提供\\xa0大學就是要打工啊不然要幹麻！ 隨著五、六月份畢業季的到來，又將有一批青澀的新鮮人準備進入多采多姿的大學生活！說到大學，可真是瘋狂與青春的代名詞，有好多好好玩的事可以做，夜衝、夜 唱、舞會⋯⋯光想到就令人心生嚮往！不過，進入大學除了更多的權利，也代表著更多的責任，因此不少人會利用課餘之時，打工賺自己的生活費、零用錢，甚至分 擔家計，還有許多人就這樣存到了出社會的房、車頭期款呢！\\xa0DailyView網路溫度計運用網路聲量分析，交叉比對討論大學生打工時，最常提到的工作類型是那些，網友們不妨一起來看看，現在大學生中最夯的打工是什麼！\\xa0No.10 加油站員工 提到加油站，大家的印象無非就是沒有冷氣，所以非常熱。還有因為特殊的工作環境，常常要吸廢氣以及汽油味。不過其實加油站的薪水是略高於基本工資的，大多落在時薪135元到140元之間，而且在閒暇之餘不用一直苦站，是能坐著休息的。至於工作內容就是幫顧客加油，並不會耗費很大的體力，如果不怕熱的同學，加油站其實是不會太辛苦而且薪水也還ok的選擇喔！\\xa0No.9 外語翻譯 對於外語學院的學生而言，平常在學校裡學了這麼多，但是除了學校的考試，平常很少有實作練習的機會，如果是一些稍微冷門的歐系語言等等，那更是難上加難。此時，外語翻譯的打工就成了外語學院的學生非常好的選擇，不但可以學有所用，增進自己的語言能力，還可以賺賺零用錢，而且專業要求高，所以薪水普遍來說也較為優渥，更不用揮汗如雨的上班，也許做得好還能成為未來的工作呢！\\xa0No.8 酒店 是的！或許這很令人驚訝，但的確仍有部分學生將酒店娛樂業視為打工的一種選擇。雖然該行業上多半打著高薪、純陪酒、無經驗可的誘人條件吸引新人，但千萬要睜大眼睛看好工作內容，畢竟學生們涉世未深，恐怕一時行差踏錯而誤觸法律，那就得不償失了！而且娛樂產業的生活品質不固定，要為了賺錢而犧牲健康，那可就虧大了！\\xa0No.7 超商店員 「全 家就是你家！」、「有7-11真好～」在台灣，這些無所不在的超商們，可是台灣民眾們生活中不可或缺的存在，除了鮮食、水果、便當這些基本餐點之外，超商 還能包辦各式繳費、代收甚至影印等服務。而超商店員更是有著十八般武藝的存在，不論是煮咖啡、烤鬆餅或是做冰淇淋，通通難不倒他們！去超商打工，是辛苦了 些，但也可以從中培養許多神奇的（？）技能，在來來往往的人群中，還能認識許多不一樣的人，也是相當特別的經驗呢！\\xa0No.6 手搖飲料店員 夏日炎炎，當然是要來杯超讚的手搖杯啊！台灣的手搖飲料店可以說是遍地開花的存在，而品牌眾多更是目不暇己。別看這些工讀生們似乎都非常年輕，他們可是嘩啦嘩啦的就能輕鬆調出數十種飲料，手起手落非常的暢快俐落，就算有人滿為患的顧客在外頭等待，他們也能有條不紊的完成，甚至還能微笑著服務客人，台灣的工讀生們真的是好厲害啊！\\xa0No.5 仲介業務 也 許你很難想像那西裝筆挺的身影還是學生，不過對於能言善道、八面玲瓏的人而言，確實許多業務在大學時期就投入這一行了，不但可以提早累積工作經驗與銷售技 能，還能擴展人脈，就算未來不做業務，對於往後的工作，也有正面的影響。而許多有天份的大學生，光是當業務，就能月入十來萬的也是所在多有！下次看到穿著 襯衫西裝年輕面孔的業務們，不妨也能上前和他們聊聊，或許還能跟他們學個幾招呦！\\xa0No.4 家教老師 對 於在課業上優異的學生而言，家教老師絕對是非常吸引人的工作，普遍而言時薪都能輕易達三百元以上，如果你經驗豐富或是名校學歷，就算時薪八九百甚至破千也 不是什麼奇怪的事。不但如此，家教的工作時間不長，就算有私人活動也能跟家長協調，非常彈性。雖然家教老師看起來好處多多，但偶爾也會碰到喜歡壓低價格的 怪獸家長或完全坐不住的暴走小孩，這也是在考驗大學生們的應變力啊！\\xa0前三名想必過半的大學生都曾經接觸過吧～\\xa0本文未完，精采全文詳見出社會先修班？十大大學生最愛的打工來了！【2016網路溫度人氣大賞，火熱催票中！http://2016staraward.dailyview.tw/；大賞火速加溫投票 下載oeoe網路警報器\\xa0；更多精采報導，請上《DailyView 網路溫度計官網：http://dailyview.tw》；《DailyView 網路溫度計粉絲團www.facebook.com/DailyView.tw》未經授權， 請勿轉載！】', 'view_cnt': 684}, {'link': 'http://www.appledaily.com.tw//realtimenews/article/local/20160511/858370/撞倒騎士卻當沒事\\u3000惡劣黑車肇逃全都錄', 'category': '社會', 'title': '撞倒騎士卻當沒事\\u3000惡劣黑車肇逃全都錄', 'time': '2016/05/11 10:06', 'summary': '竟然有這款駕駛，撞倒機車騎士連車都不停，還揚長而去，所幸後方轎車行車紀錄器拍下車禍過程，要公布惡劣駕駛肇逃的行徑。\\xa0錄下車禍過程的蕭姓駕駛表示，昨晚7時15分許，昨晚開車從北市忠孝東路5段西往東方向，就在行經松信路口時，前方一輛黑色轎車在右轉燈號亮起時右轉松信路，卻不慎撞上右側一輛機車，女騎士當場倒地，機車還被汽車拖行，但是肇事的黑色轎車竟然沒停車查看，還揚長而去。\\xa0女騎士倒地後驚魂未定從地上爬起，後方的蕭姓駕駛立刻下車關心女騎士傷勢，詢問是否要叫救護車，但是女騎士告知只是輕傷，就將機車牽到路邊，休息了一段時間才騎上機車離開，蕭姓駕駛認為，即使女騎士只是輕傷，但是黑色轎車撞到人車卻肇逃，他感到相當不可取，於是公布行車紀錄器，揭露其惡劣行徑。\\xa0信義警分局指出，這件車禍的當事人並沒有報案，但是警方已掌握這段行車紀錄器，將追查肇逃的黑色轎車，不管當事人吿不告，都會將該惡劣駕駛移送法辦。（突發中心林金聖／台北報導）\\xa0《蘋果日報》表示，本則影片或照片是投訴人獨家提供《蘋果日報》，若其他媒體未取得授權逕行翻攝，也未註明出處，《蘋果》必訴諸法律，以保障權益。\\xa0《蘋果日報》歡迎讀者加入監督社會，向《蘋果》獨家提供照片、影片，經採用可獲獎金，照片一千，影片兩千元，每周點閱數最高，更可獲獎金三萬元，請參考活動網址：http://www.appledaily.com.tw/complainevent/\\xa0\\xa0\\n黑色轎車撞倒騎士。翻攝畫面機案車女騎士倒地不起。翻攝畫面灰色轎車肇逃，留下驚魂未定女騎士。翻攝畫面', 'view_cnt': 2671}, {'link': 'http://www.appledaily.com.tw//realtimenews/article/strange/20160511/858100/【占卜】你是網路美人嗎？', 'category': '搜奇', 'title': '【占卜】你是網路美人嗎？', 'time': '2016/05/11 10:05', 'summary': '中國網路用語「網路美顏」，意指網路發布的照片完美無瑕，但本人的真實長相卻差很多。快來測孟小靖老師的塔羅占卜，看你的網路美顏指數有多高吧！（顏佩瑩／綜合報導）\\xa0更多資訊請上吃喝玩樂蘋果花想重溫手寫的感動嗎？快分享在手寫時代吧！\\xa0\\n照片就是要修過才能與大家分享啦！資料照片【測驗開始】憑直覺選1張塔羅牌。【選女帝的人：網路美顏指數70%】你很愛美，所以會利用修圖將遮掩自己的瑕疵後才會發上網，但為了不被人笑說太誇張，所以不會修過頭到讓人認不出來。 資料照片【選惡魔的人：網路美顏指數90%】愛慕虛榮的你，為了要讓自己看起來完美無瑕，每張照片都會精心修圖後才發布，就算修得不像本人也不在乎。資料照片【選星星的人：網路美顏指數40%】你不喜歡修圖，但懂得利用光線及角度，所以拍出來的照片看起來會與本人有些落差。資料照片【選教皇的人：網路美顏指數10%】講求自然的你，不在乎照片是否很醜，會立即發上網與大家分享當下的那瞬間心情。資料照片【專家檔案】孟小靖，成立第一家塔羅牌博物館「塔羅事典」www.looktarot.com，鑽研塔羅15年，收藏600副塔羅牌。', 'view_cnt': 558}, {'link': 'http://www.appledaily.com.tw//realtimenews/article/strange/20160511/858152/【祕密客】夜探市場祕店', 'category': '搜奇', 'title': '【祕密客】夜探市場祕店', 'time': '2016/05/11 10:02', 'summary': '這天晚上被帶來到高雄的國民市場，深夜時分是要逛什麼市場啦？原來是市場對面有間店面小、招牌也不明顯的新開居酒屋，名叫Moshi moshi小料理。裡頭居然只能坐6、7桌，幸好聽說開幕才幾星期，所以這天來立刻有了位子。因此馬上點滿整桌的炸物與燒烤。\\xa0這裡的雞軟骨是用炸的，裹了點粉炸熟後，又淋了些微的特製醬汁，鹹甜滋味果然涮嘴。老闆娘推薦我們培根捲小番茄串，而且烤的、炸的都一定要點，雖然菜名叫「培根」，但其實有改良成只用五花肉，而非煙燻過的培根，因此吃起來比較不會太鹹，烤過的五花肉配著番茄的酸甜，很是順口。至於炸的做法，外層有挺厚的一層麵衣，沒想到因為炸工不錯，不怎麼含油，尤其是咬下瞬間，番茄在嘴裡爆汁，酸甜味與果香完全平衡了炸物的膩感，祕密客有被這道驚喜到。\\xa0而祕密客一向愛明太子，當然不會錯過這類菜色。明太子雞肉串烤到皮酥肉嫩，上層的明太子醬鹹潤微辣，感覺好吃，令人回味。還有明太子蛋卷，煎得層層堆疊的蛋卷，維持水嫩質感，混著明太子內餡入口，十足重口味。一夜干也不錯，一整尾不小尺寸的魚才賣200元，老闆娘說是因為主廚自己拿鮮魚來風乾製作的，所以成本可以降低，烤到魚皮薄酥，內層的魚肉細緻，吃起來也挺不錯的。\\xa0這裡大部分的菜口味都挺獨特的，屬於日式料理但卻又有點台，也稍微有融合了南部人喜愛的那股甜味，所以吃起來格外有種親切感，即便有些菜的賣相稍弱了些，反而造成了驚豔的效果。\\xa0祕密客：居酒屋料理有點台又怎樣，順口好吃就好啦！\\xa0Moshi moshi小料理居酒屋高雄市新興區青年一路224號(07)281-6636\\xa0《蘋果》副刊每日推出【祕密客】專欄。\\xa0台灣飲食男女也有APP哦～◎ iPhone app 下載http://goo.gl/avzc3r\\xa0◎ Android app 下載http://goo.gl/CiI1hd\\xa0\\xa0\\n明太子蛋卷外觀看來水嫩，吃起來果然香醇夠味。明太子雞肉串感覺是先烤好再加明太子醬，因此皮脆肉嫩。炸雞軟骨有另外又淋了點醬汁，增添鹹甜的滋味。烤的培根捲番茄，酸甜的番茄能平衡肉膩。培根捲番茄串也能用炸的，看起來粉衣厚，卻不覺得有油膩感。自家曬出的一夜干，烤得皮脆肉細緻。店面不大，但布置得很溫馨有味道。以上皆副刊中心祕密客攝', 'view_cnt': 1139}, {'link': 'http://www.appledaily.com.tw//realtimenews/article/property/20160511/854820/【特企】房市大追擊-送房產給子女怎麼做最好？', 'category': '地產', 'title': '【特企】房市大追擊-送房產給子女 怎麼做...', 'time': '2016/05/11 10:00', 'summary': '【行銷專題企劃】由蘋果地產與FBS TV合作的全新節目-房市大追擊，本集節目邀請到台灣大華不動產估價師聯合事務所長張義權，及太平洋房屋副總章克勤， 一起來聊聊小英政府即將上任，遺贈稅將調漲，有可能進而影響房市交易量嗎？\\xa0針對市場上大家議論紛紛的遺贈稅議題，章副總表示，若僅以遺贈稅而言，房地合一新稅制上路後，已讓房產的“節稅”效果打折，確實對房市有些影響。此外，張所長也提到，過去習慣以贈與房產給子女是“合法節稅”，但要特別注意的是，105年1月1日以前取得的房子，則適用舊制，反之如果是這個時間點之後，則適用新稅制。以經驗而言，確實有許多人趕在舊制結束前，贈與給子女的案例。\\xa0至於若手邊沒現金，只有房地產該怎麼贈與來節稅呢？章副總建議，假設不動產價值不超過1200萬（免稅額門檻），建議先別急著做遺產轉移，往後用繼承較佳。當然，前提是記得要立定合法公正遺囑，身後財產分配就不用擔心，這麼也能合法節稅。房地產目前已經無法節稅，盡量當成“遺產來處理，會是最好的方式喔！若真要節稅，拿房產去貸款換成現金，可能也是個變通的方法。萬一子女不孝，還有哪些自保的方式呢？快鎖定這集節目內容吧～\\xa0想了解更多房屋相關議題，趕緊鎖定房市大追擊，每周只要花20分鐘，更新你的房產知識：home.appledaily.com.tw/video/index/25/158470/', 'view_cnt': 1576}, {'link': 'http://www.appledaily.com.tw//realtimenews/article/entertainment/20160511/857973/【有片】蕭煌奇想見最愛的桂綸鎂\\u3000來的卻是...', 'category': '娛樂', 'title': '【有片】蕭煌奇想見最愛的桂綸鎂\\u3000來的卻是...', 'time': '2016/05/11 10:00', 'summary': '蕭煌奇日前到八大《娛樂百分百》宣傳新專輯，聽到製作單位為他邀請神祕嘉賓，蕭煌奇直說：「如果可以找到我最愛的桂綸鎂，我真的會很開心。」結果謎底揭曉卻是主持夥伴方宥心，方宥心安慰蕭煌奇：「我也算是台語界的桂綸鎂啦！」\\xa0蕭煌奇主持歌唱節目後，口才變得更好，讓主持人愷樂訪問到一半忍不住笑說：「感覺都不知道什麼時候要接話。」蕭煌奇開玩笑回說：「本來想說這集我自己串場，但是這樣對不起漂亮的主持人愷樂啦。」（蔡維歆／台北報導）\\xa0\\n蕭煌奇(左二)和方宥心(右二)日前一起上節目宣傳。八大提供', 'view_cnt': 2613}, {'link': 'http://www.appledaily.com.tw//realtimenews/article/international/20160511/858363/【央廣RTI】美超市集團大舉徵才招募1.4萬人', 'category': '國際', 'title': '【央廣RTI】美超市集團大舉徵才  招募...', 'time': '2016/05/11 10:00', 'summary': '本內容由中央廣播電臺提供\\xa0\\xa0 \\xa0 \\xa0 \\xa0美聯社10日報導，美國零售集團克羅格(Kroger)表示，將為包括勞爾夫(Ralphs)、福瑞德梅爾(Fred Meyer)和Food 4 Less等旗下連續超市，在全美新增1萬4千個工作機會。克羅格表示，有意者可上網在jobs.kroger.com線上申請，並在14日上午10點到下午3點之間前往超市門市進行面試。\\xa0 \\xa0 \\xa0 \\xa0總部位於辛辛那提(Cincinnati)的克羅格擁有近2,800家門市，他們表示去年創造了9千個新工作，在2014年也貢獻了2萬個新工作。(繼續閱讀)', 'view_cnt': 938}, {'link': 'http://www.appledaily.com.tw//realtimenews/article/life/20160511/858371/【央廣RTI】不怕陸客不來善用陸客消費資訊', 'category': '生活', 'title': '【央廣RTI】不怕陸客不來  善用陸客消...', 'time': '2016/05/11 10:00', 'summary': '本內容由中央廣播電臺提供\\xa0\\xa0 \\xa0 \\xa0 \\xa0陸客來台限縮傳聞不斷，台灣該做好哪些因應準備？財團法人商業發展研究院商業發展與政策研究所副所長朱浩建議，增強宣傳台灣觀光訊息的力度、促使更多自由行旅客來台，吸引更多商務、會展、學術文化交流客群，以及善用過往陸客來台消費資訊，將陸客偏好的商品銷往大陸市場。在吸引各國觀光客方面，朱浩在接受中央廣播電臺「兩岸ING」節目訪問時表示，除了現有的做法外，可發展更多結合觀光的活動，吸引旅客來台參與。同時，要讓觀光、產業與消費更緊密的結合，以擴大商機。(繼續閱讀)', 'view_cnt': 854}, {'link': 'http://www.appledaily.com.tw//realtimenews/article/property/20160511/858364/4月營收\\u3000興富發、皇翔2猛虎打頭陣', 'category': '地產', 'title': '4月營收\\u3000興富發、皇翔2猛虎打頭陣', 'time': '2016/05/11 09:58', 'summary': '上市櫃建商公布4月營收，營建五虎中，以興富發（2542）、皇翔（2545）2虎最猛，遠雄（5522）有機會在5月加入猛虎行列。\\xa0興富發4月營收11.53億元，累計營收102.84億元，年增近5%，整體營收表現位居類股之冠。興富發4月收入主要仰賴台中CBD時代廣場完工交屋，法人估計，該公司今年Q2、Q4分別將有萬華區「晶麒」、內湖區「雙湖匯」等案完工交屋，2案合計案量近300億元，可望為興富發全年營收再添柴火。\\xa0皇翔2015年營收17.87億元，而今年光是4月營收，在合宜住宅「皇翔歡喜城」交屋挹注下，即達60.52億元，累計1~4月營收達86.64億元，年增12倍。而「皇翔歡喜城」總銷130億元，預計5月還將持續貢獻營收。\\xa0遠雄4月營收14.76億元、累計營收40.23億元，年減約57%。而遠雄同有林口A7合宜住宅案「遠雄文青」，總銷120億元，陸續在5月進入密集交屋階段，預計5月營收即可反映，甚至有機會趕上去年同期營收水平。（詹宜軒／台北報導）\\xa0「蘋果掀房事」每周三中午12點半，午餐加好料更多房地產新聞，請參考蘋果地產王粉絲團', 'view_cnt': 1060}, {'link': 'http://www.appledaily.com.tw//realtimenews/article/politics/20160511/858350/【有片】羅瑩雪：鄭捷死刑是他幫自己判的', 'category': '政治', 'title': '【有片】羅瑩雪：鄭捷死刑是他幫自己判的', 'time': '2016/05/11 09:57', 'summary': '(更新：新增影片)\\xa0法務部長羅瑩雪昨天簽下死刑執行令，晚間8時許槍決捷運連續殺人犯鄭捷，引發社會討論。羅瑩雪篤信佛教一事，又因槍決被拿出來討論，羅瑩雪上午說，「有些人會認為我會不會因為槍決又背負一條人命，我覺得這個死刑是他自己幫自己判的，因為鄭捷的行為造成這麼多法官、甚至包括支持廢死法官都認為必須要判處死刑，而且鄭捷一次被判處4個死刑還有很多傷害罪，大家想想這個嚴重性，是不是他自己讓別人別無選擇，只能做這樣決定。」\\xa0羅瑩雪今天出席行政院毒品防制會報，會前接受媒體訪問，作出以上表示。羅瑩雪說，她查過鄭捷案是否有非常上訴，確認現在沒有，這是事前必須確認的程序，才會簽發。另外，被問到槍決鄭捷前是否有跟府方聯繫或確認特赦，羅瑩雪說，「沒有沒有，這個想像力也太豐富」。羅瑩雪說，總統馬英九沒有特別跟她談過鄭捷的事，過去談到死刑執行的時候，總統只說依法辦理。\\xa0對於社會批評政權交接之際是馬總統為了轉移社會焦點，羅瑩雪說，常常都會有這樣陰謀論動機論，這事很單純，該執行就執行。問到是否五二零前還要槍決其他死刑犯，羅瑩雪表示，大概來不及。（張文馨／台北報導）\\xa0出版：09:41更新：09:57\\xa0\\n【想知道更多，一定要看……】【有片】速簽鄭捷死刑令\\u3000羅瑩雪：做該做的事【有片】傳精神疾病除役\\u3000軍方：多數官兵都不怕苦羅瑩雪。侯世駿攝', 'view_cnt': 12552}, {'link': 'http://www.appledaily.com.tw//realtimenews/article/strange/20160511/858030/來自星星的你？\\u3000都教授別走～', 'category': '搜奇', 'title': '來自星星的你？\\u3000都教授別走～', 'time': '2016/05/11 09:56', 'summary': 'Xuan Xuan Loc為一名越南插畫家，他的作品都帶有其細膩的風格，而此次他推出一系列名為夜晚的作品，在這些作品裡能看到有名男子在雪花飄落的夜晚裡坐在岩石上沉思，相當地富有詩意呢！（鄭惠文／綜合報導）\\xa0圖片來源／https://www.behance.net/xuanlocxuan\\xa0你知道更多有趣的事物嗎？分享到手寫時代吧！更多有趣的資訊請上吃喝玩樂蘋果花\\xa0\\xa0\\xa0\\n小編也好想躺在雪地上啊～這貓好可愛啊！', 'view_cnt': 734}, {'link': 'http://www.appledaily.com.tw//realtimenews/article/local/20160511/858309/【頭條咬一口】鄭捷突然就死掉', 'category': '社會', 'title': '【頭條咬一口】鄭捷突然就死掉', 'time': '2016/05/11 09:55', 'summary': '今日大新聞，你對什麼最有感?\\xa0今日最多人認為重要的頭條新聞是「鄭捷閃電伏法」。劉同學對於鄭捷執行死刑，心情有點矛盾，覺得他怎會「突然就死掉」，雖然認為他活該，卻也覺得他很可憐，過程有點太倉促。陳小姐表示，閃電伏法的部分，應該還是因為小燈泡的事件有影響 ，但還是覺得過程太草率，因為這整件事情爭論還是很大，一切有點突然，但「我還是贊同死刑的吧，因為鄭捷真的太過分了」，我覺得台灣還沒有到能廢除死刑的地步。林小姐說，覺得執行死刑是好的，國家不用浪費錢去養一個廢物。\\xa0康小姐表示今日覺得最重要的新聞是「今日全台氣溫下降」，他說一直下雨覺得很煩，放假時都不能出去玩，出門都要考慮很久要穿什麼衣物，然後衣服都曬不乾。（唉！台北這個季節就是這樣濕濕冷冷的啦）\\xa0對於「CURRY奪MVP 改寫NBA歷史」的新聞蔡先生感到興趣，他說金洲勇士隊的CURRY，終於在傷後替補上場拿下40分高分，今年他還打破單季三分球紀錄，破了400顆,得到MVP並不意外，但CURRY能打出這樣鬼神般的數據還是很誇張。（但小編支持的是雷霆隊！謝謝 ）\\xa0胡先生認為「WHA連結一中 國安局：矮化我地位」,才是重要的新聞，認為是新政府上任關係，覺得民進黨好像不太行，時常自我膨脹。蔡小姐覺得重要的新聞是「罰不怕 酒駕扣機車 保管場擠爆」，她認為好像罰再多錢都沒用，大家好像都不在意，覺得加重刑責合併罰鍰提高才有可能會比較有效應。（林家維、謝昇璁╱台北報導）\\n連贊成死刑的女生都覺得，突然伏法也太草率了。柯瑞大神太強啦，鐵粉現身！別再下雨啦～衣服都曬不乾了！酒駕罰款太輕了啦，最好是判重刑!', 'view_cnt': 18578}, {'link': 'http://www.appledaily.com.tw//realtimenews/article/strange/20160511/857497/【愛飛遜】JOYRICH推X世代裝搞60s復古風', 'category': '搜奇', 'title': '【愛飛遜】JOYRICH推X世代裝 搞6...', 'time': '2016/05/11 09:53', 'summary': '潮牌JOYRICH的秋冬系列照釋出，本季以Generation-X的意念為出發，而Generation-X一詞指60 年代~ 70 年代初出生的美國人，他們普遍與長輩持有不同的人生觀，X代表尋找未知、否定現實、反抗社會等含義。因此本季以60年代的經典文化象徵為靈感，推出了橘色毛呢大衣、美式機車夾克、豹紋外套、夏威夷花朵襯衫、及經典卡通《Popeye》和《The Simpsons》、明星\\xa0Brigitte Bardot\\xa0圖樣等各式聯名款，完美詮釋X世代的叛逆精神。蘋果副刊每天推出【愛飛遜】流行訊息，想看更多流行資訊，請上副刊Vintage School @古庫社團，或上吃喝玩樂蘋果花粉絲團\\xa0\\nJOYRICH的秋冬系列以60年代為靈感。(圖片業者提供)', 'view_cnt': 221}, {'link': 'http://www.appledaily.com.tw//realtimenews/article/local/20160511/858335/殺人魔的童年\\u3000看完只有一個感想', 'category': '社會', 'title': '殺人魔的童年\\u3000看完只有一個感想', 'time': '2016/05/11 09:53', 'summary': '犯下方姓男童割喉案的曾文欽，曾在法庭上說「我活得生不如死，我長得又胖又難看，誰會找我當朋友？」為了瞭解曾文欽的成長歷程，端傳媒委請特約記者進監獄訪談曾文欽，以及他的表姊、父親，試圖勾勒出一些背景，由於此文獲得許多網友討論分享，因此節錄部份如下，全文請點此。（即時新聞中心／綜合報導）\\xa0訪談曾文欽：他看到記者沒好奇眼前這位陌生人是誰？反而焦急的拜託記者買泡麵等食物送他，當記者問他「你曾有女朋友，她很重要嗎？」曾文欽回「她非常重要，因為她是唯一可講話的人」，兩人是在工廠認識，後來女朋友嫌他沒工作、沒錢分手；分手後、案發前兩人仍有連絡，但在曾文欽在押這3年，前女友沒來看過他。\\xa0訪談曾文欽表姊：表姊說，曾文欽父母曾當大家樂組頭，有錢時很愛玩，常態性把兒子丟在家裡，曾文欽一個人時常拉了把塑膠椅坐在門口，安靜的看著人來人往；小六時，父母因為沒錢吵到離婚，母親離家後，國小畢業的曾文欽就被爸爸叫去工廠上班養家，20歲時，身體累積不少職業傷害，包括雙肩有習慣性脫臼、眼睛也因為做電鍍受傷，不必當兵。案發前半年，表姊說曾文欽曾因找不到工作來拜託她，「但台南沒什麼工作，他只有國小更不可能。我也幫他介紹過，去建築工地，可是他又怕高，身體又很多傷。那我能怎麼辦？我幫不到。」\\xa0訪談曾文欽爸爸：曾父不否認曾做大家樂，坦承常把曾文欽丟在家裡，曾父解釋除了因年少時比較不會想，也強調「沒辦法，因為要賺錢」，對於為何才讓國小畢業的曾文欽去工作，曾父也說是兒子自己不愛讀書；對於曾文欽的判決有什麼看法？曾父說「對方家屬會怎麼要求，我們沒有辦法。不過我希望他能活下來，他如果有一天關完了出來，找到工作，一定會和以前一樣乖乖上班。」', 'view_cnt': 13154}, {'link': 'http://www.appledaily.com.tw//realtimenews/article/politics/20160511/858359/與新政府理念不合\\u3000我駐英代表報准退職', 'category': '政治', 'title': '與新政府理念不合\\u3000我駐英代表報准退職', 'time': '2016/05/11 09:53', 'summary': '外交部今天證實，我駐英國代表劉志攻已經報准現任政府同意後退職，外交部尊重劉志攻的決定。據傳，劉志攻認為自身理念與新政府不同，無法勝任、執行政策，因此決定請辭。（陳培煌／台北報導）', 'view_cnt': 7629}, {'link': 'http://www.appledaily.com.tw//realtimenews/article/international/20160511/858226/【影片】麥當勞在美推「香蒜薯條」\\u3000才4天就賣到斷貨', 'category': '國際', 'title': '【影片】麥當勞在美推「香蒜薯條」\\u3000才4天...', 'time': '2016/05/11 09:52', 'summary': '（更新：新增動新聞影片）\\xa0美國連鎖速食店龍頭麥當勞上周六宣布在美國加州舊金山試賣「香蒜薯條」，但沒想到新商品太受歡迎，正式宣佈不到4天就賣到缺貨，要等幾個禮拜之後才有辦法重新推出了。\\xa0麥當勞其實在上月底就陸續開始於舊金山灣區的4家分店試賣「香蒜薯條」（Gilroy Garlic Fries），這款新商品拌有蒜末醬料、橄欖油、帕馬森乾酪還有洋香菜，而會以「Gilroy」為名是因為所使用的大蒜來自當地盛產大蒜的加州吉爾羅伊市（Gilroy），此地離舊金山距離約80英里，有「世界大蒜首都」的美名。\\xa0麥當勞上周六正式宣布推出「香蒜薯條」的消息，造成當地許多消費者慕名前往嚐鮮，結果香蒜薯條供不應求，不到4天就賣到斷貨了。\\xa0根據《舊金山紀事報》報導，麥當勞表示公司需要幾個禮拜的時間才能補貨重新上架，為消費者帶來不便感到抱歉，但是未來產品如果成功的話，舊金山灣區多達250家分店也會跟進。\\xa0不過消息一出也有許多人批評這是麥當勞故意做「飢渴行銷」，故意創造出商品很搶手、很難買的假象，只是釣消費者胃口的手段罷了。（廖育琳／綜合外電報導）\\n翻攝麥當勞官網翻攝推特', 'view_cnt': 9770}, {'link': 'http://www.appledaily.com.tw//realtimenews/article/strange/20160511/857809/【愛漂亮】免光療！超亮指甲油', 'category': '搜奇', 'title': '【愛漂亮】免光療！超亮指甲油', 'time': '2016/05/11 09:50', 'summary': '光療已經成為不少女孩美甲必備，尤其夏天到了，短褲、夾腳拖鞋、泳裝等，指甲光禿禿就輸在起跑點。RIMMEL的超凝膠專業系列指甲油，使用方法就像一般指甲油，但搭配亮甲油擦上後卻有直逼光療的光澤度！試抹時均勻度也很好上手，大約3到5分鐘就乾，目前顏色共有8色，價格每瓶250元的平易近人，非常推薦給懶得做光療、想省光療費用的女孩們使用。\\xa0新鮮試用文及美容訊息快加臉書社團「香蕉姊掃黑自救會」\\xa0更多流行資訊請看吃喝玩樂蘋果花\\n塗上後指甲的光澤幾乎就跟花錢做光療差不多，而且很容易塗均勻。瓶身還有名模Kate Moss的簽名喔。', 'view_cnt': 541}, {'link': 'http://www.appledaily.com.tw//realtimenews/article/strange/20160511/858062/【有片】想吃這顆粽子？先跟雷神索爾借槌子！', 'category': '搜奇', 'title': '【有片】想吃這顆粽子？先跟雷神索爾借槌子...', 'time': '2016/05/11 09:50', 'summary': '端午節快到了，不吃粽子要幹嘛？今年飯店業者推出了好幾款創意破表的粽子，最特別的的莫過於亞都麗緻飯店推出的極品八寶粽，粽子外層被紅土包覆，食用前，還得和雷神索爾借槌子，狠狠大力敲破土層，才吃得到！是不是超級有趣！其他還有，以墨西哥點心為發想、外觀與玉蜀黍相似度極高的粽子，以牛肚包裹糯米的肉粽，還有業者以椰子殼承裝甜粽，創意無上限，讓人看得眼珠都捨不得轉啦！(孫守萱/綜合報導)\\xa0更多有趣資訊都在副刊中心吃喝玩樂蘋果花粉絲團\\xa0\\xa0\\n想吃這款創意粽，先跟索爾借槌子！敲敲打打之後才吃的到啦！椰子？粽子？傻傻分不清楚！火箭筒還是竹筒飯？都錯！粽子無誤。少逗了，這是粽子？根本就是玉蜀黍吧！牛肚包粽超有創意！粽葉裡頭是以千層酥皮包裹內餡，看得我肚子都咕嚕咕嚕叫拉！以上照片皆由孫守萱攝', 'view_cnt': 1082}, {'link': 'http://www.appledaily.com.tw//realtimenews/article/international/20160511/858360/【央廣RTI】破4千萬人全球流離失所人數創新高', 'category': '國際', 'title': '【央廣RTI】破4千萬人  全球流離失所...', 'time': '2016/05/11 09:50', 'summary': '本內容由中央廣播電臺提供\\xa0\\xa0 \\xa0 \\xa0 \\xa0總部設於日內瓦的「境內流離失所監測中心」(Internal Displacement Monitoring Centre，IDMC)今天(11日)表示，全球各地因戰亂衝突所導致的國內流離失所人數，在去年創下4,080萬人的新高紀錄。這份報告的共同作者─挪威難民委員會(Norwegian Refugee Council，NRC)祕書長艾基蘭(Jan Egeland)說，這是前所未見的新高數據，也是全球難民人數的2倍之多。\\xa0 \\xa0 \\xa0 \\xa0報告指出，在2015年約有860萬的「國內流離失所者」(IDPs)是和戰亂衝突有關，其中包括在中東和北非的480萬人。自從2010年爆發阿拉伯之春(Arab spring)、以及伊斯蘭國(IS)崛起之後，流離失所人數就如同滾雪球一般增加，而葉門、敘利亞和伊拉克佔了總數逾半人數。\\xa0 \\xa0 \\xa0 \\xa0除去中東，國內衝突逃亡人口最多的國家是阿富汗、中非共和國、哥倫比亞、剛果民主共和國、奈及利亞、南蘇丹和烏克蘭。此外，報告中說，去年因天災導致的IDPs有1,920萬人，其中印度、中國大陸和尼泊爾分別以370萬、360萬和260萬人佔最高。\\xa0 \\xa0 \\xa0 \\xa0根據這份報告，衝突和天災在去年造成2,780萬名新的IDPs。艾基蘭表示，這相當於紐約市、倫敦、巴黎和開羅的人口都收拾全身家當，通常是在一種驚慌失措的狀態下，展開充滿著不確定性的逃難行程。(繼續閱讀)', 'view_cnt': 371}, {'link': 'http://www.appledaily.com.tw//realtimenews/article/politics/20160511/858344/【有片】速簽鄭捷死刑令\\u3000羅瑩雪：做該做的事', 'category': '政治', 'title': '【有片】速簽鄭捷死刑令\\u3000羅瑩雪：做該做的...', 'time': '2016/05/11 09:49', 'summary': '更新：新增影片\\xa0法務部長羅瑩雪昨天簽署捷運連續殺人犯鄭捷的死刑執行令，晚間8時許執行完畢，震驚社會各界。羅瑩雪今天上午指出，「這個案件非常特別，鄭捷帶來的傷害，讓人心惶惶，治安產生不良影響，為了要使社會導入正途，讓那些崇拜、想效法鄭捷的人知所警惕，所以我們快速執行此案，因為此案案情非常簡單明白，證據直接明確，審查過程也照過去一樣，每個步驟都做了，但就像剛剛講的原因，所以比較快。」\\xa0羅瑩雪今天上午出席行政院毒品防制會報，會前受訪作出以上表示。對於鄭捷案定讞僅19天就執行死刑槍決，外界質疑太快，沒有充分給予教化悔過機會，只是為了搶功或政績。羅瑩雪說，當512內閣總辭，自己卸下法務部長身份後，就只是一個平常小老百姓，不需要政績或爭取什麼，簽署鄭捷的死刑執行令，也沒有什麼壓力，就是平常心，做該做的事。對於如此快速決定先槍決鄭捷，羅瑩雪說，鄭捷案讓法界有許多討論，（鄭捷三審）判決之後，大家就在討論，認為此事比較特別，應該要先提出來處理，當她簽下執行令後，執行是台高檢決定的時間，時間是台高檢自己聯繫安排。（張文馨／台北報導）\\xa0出版時間：09:26更新時間：09:49\\n【想知道更多，一定要看……】諷馬政府操弄死刑\\u3000律師：鄭性澤能出獄是奇蹟羅瑩雪：鄭捷死刑是他幫自己判的羅瑩雪。侯世駿攝', 'view_cnt': 32938}, {'link': 'http://www.appledaily.com.tw//realtimenews/article/international/20160511/858330/美麻州商場遭攻擊致3死\\u3000兇手被擊斃', 'category': '國際', 'title': '美麻州商場遭攻擊致3死\\u3000兇手被擊斃', 'time': '2016/05/11 09:48', 'summary': '美國麻州陶頓(Taunton)今日一處梅西(Macy’s)商場遭到一名歹徒攻擊，並對商場內民眾揮刀，已知造成4人受傷，兇手隨後也遭到警方擊斃。最新消息指出，其中有2位民眾死亡，但目前未知死者身分。\\xa0據美國《CBS新聞網》報導，事發在當地時間晚間7時左右，據悉歹徒開著一輛黑色轎車撞進梅西商場，之後在商場內揮刀，有目擊者指出在現場聽到槍響。警方表示，有2名傷者是在賣場內被刺傷，但另外有2名傷者是在一處民宅內被刺傷，隨後這名歹徒遭到警方擊斃。\\xa0其中一位傷者表示，歹徒的揮刀程度已經造成生命威脅，另外有一位傷者是孕婦。有一位目擊者表示，在商場內的餐廳聽到第一聲槍響，目前警方正深入調查案件中。（施旖婕／綜合外電報導）\\xa0發稿：09:14更新：09:48\\n警方封鎖案發現場。翻自cbslocal.com', 'view_cnt': 1822}, {'link': 'http://www.appledaily.com.tw//realtimenews/article/international/20160511/858343/金正恩煙火趴好嗨\\u3000「火把人」排字超壯觀', 'category': '國際', 'title': '金正恩煙火趴好嗨\\u3000「火把人」排字超壯觀', 'time': '2016/05/11 09:48', 'summary': '為了慶祝北韓勞動黨睽違36年所召開的黨代表大會順利落幕，昨日平壤從早到晚都有慶祝大會，到了晚上更有煙火大會，還有上萬「火把人」排字與圖騰，場面相當壯觀。\\xa0北韓最高領導人金正恩在黨大會上獲選為黨魁，成為「金委員長」，昨日的慶祝大會從早到晚都很嗨。有上萬人拿著火把進場排字，高呼口號，現場也燃放煙火，點亮整個平壤天空，另外還有北韓「少女時代」牡丹峰樂團的獻唱。\\xa0而《韓聯社》指出，上一次擔任委員長職務的的是金正恩爺爺金日成，這次黨大會可視為是對金正恩的「加冕典禮」，將進一步鞏固他的權威。（施旖婕／綜合外電報導）\\n金正恩煙火趴好嗨，「火把人」排字超壯觀。翻自《每日郵報》上萬人拿著火把進場排字，高呼口號。翻自《每日郵報》煙火點燃平壤天空。翻自《每日郵報》煙火好壯觀。翻自《每日郵報》平壤民眾跳舞慶祝。翻自《每日郵報》現場有特技表驗。翻自《每日郵報》', 'view_cnt': 1548}, {'link': 'http://www.appledaily.com.tw//realtimenews/article/local/20160511/858355/鄭捷槍決\\u3000他問「你在高興什麼？」', 'category': '社會', 'title': '鄭捷槍決\\u3000他問「你在高興什麼？」', 'time': '2016/05/11 09:46', 'summary': '殺人魔鄭捷死刑定讞18天後昨晚伏法，引起社會討論，一名網友在臉書寫下「網友說今天是今年最高興的一天，一條用四條人命換的命，你在高興什麼？」吸引逾1.8萬網友按讚討論。\\xa0看到鄭捷槍決，Okinafa Chen在臉書感嘆地寫下政府無法解決隨機殺人事件，於是試圖用槍決掩蓋，但卻忘了這麼多年來大家忽略了關心、低薪、失業等問題，「他們把不想看見的東西藏起來，他們把提出問題的人解決，他們用槍聲蓋過怒吼，卻換來笑聲。」\\xa0他不解地問「網友說今天是今年最高興的一天，一條用四條人命換的命，你在高興什麼？」他認為鄭捷是條不被同情的生命，活著或死去都是，「因為他的心長歪了，卻從來沒有人替他扶正過。」「沒有什麼好去高興，打從那天捷運列車停靠在江子翠站，這件事就注定永遠都會是個遺憾。」\\xa03千多名網友認同他的看法，紛紛分享內容，網友也在留言區討論「整個社會因為一個人的失控而失控了 鼓舞著殺人償命 就是在說：『我們殺了他吧！』」、「很沉很重，卻真真切切。今夜，難以沉眠」，但也有網友認為「一條用四條人命換的命這句話邏輯上是相當不正確的」、「沒有對錯，這只是法律，法律面前本來就沒有同情心，同情心也不是這樣濫用的，不是靠殺人來博取社會關注，不是靠殺人引起社會關懷，不是靠殺人就能把心扶正。」（即時新聞中心／綜合報導）\\n鄭捷昨晚槍決。資料照片', 'view_cnt': 30786}, {'link': 'http://www.appledaily.com.tw//realtimenews/article/sports/20160511/858357/【有片】柯瑞女兒大鬧MVP頒獎典禮現場', 'category': '體育', 'title': '【有片】柯瑞女兒大鬧MVP頒獎典禮現場 ', 'time': '2016/05/11 09:46', 'summary': '柯瑞女兒萊利(Riley Curry)喜感十足，今柯瑞的MVP頒獎典禮，萊利也出席，但閒不下來的萊利大鬧頒獎典禮現場，老爸在台上發表得獎感言，她以充滿霸氣的神情、手指著坐在台下的記者，似乎在提醒大家：「我盯著你們，明年記得再把票投給我爸！」\\xa0 (廖柏璋／綜合報導)\\n【想知道更多，一定要看……】柯瑞首位全票MVP\\u3000麥葛雷迪：NBA水準下降柯瑞賣1.27億豪宅\\u3000附NBA標準球場、泳池柯瑞女兒萊利(Riley Curry)。美聯社', 'view_cnt': 9773}, {'link': 'http://www.appledaily.com.tw//realtimenews/article/politics/20160511/858329/諷馬政府操弄死刑\\u3000律師：鄭性澤能出獄是奇蹟', 'category': '政治', 'title': '諷馬政府操弄死刑\\u3000律師：鄭性澤能出獄是奇...', 'time': '2016/05/11 09:45', 'summary': '北捷連續殺人犯鄭捷死刑定讞18天快速伏法，有人叫好，但有人為此感到擔憂。\\xa0擔任日前被釋放死囚鄭性澤辯護律師的邱顯智，今在臉書對於鄭捷被槍決發表感想，他提到2年前的4月29日，他為被判死刑的鄭性澤以及劉炎國提起非常上訴，當天他與劉、鄭3人中午在同一張桌子上聊天，互道再見後，劉炎國當天下午被執行死刑，鄭性澤沒有，2年後鄭性澤活著走出看守所。\\xa0邱顯智感慨，鄭性澤當時被認為罪證確鑿，卻沒有在定讞後19天被執行死刑，所以在被關了5231天之後，還可以活著回家過母親節，他諷刺說「在馬政府死刑政治的操弄下，鄭性澤能夠活著回家，是運氣，也是一種奇蹟。」（張鈜閔／綜合報導）\\xa0\\n翻攝自邱顯智 為人民辯護', 'view_cnt': 7283}, {'link': 'http://www.appledaily.com.tw//realtimenews/article/life/20160511/858358/船難責成交通部指揮\\u3000綠委憂污染未放上位', 'category': '生活', 'title': '船難責成交通部指揮\\u3000綠委憂污染未放上位', 'time': '2016/05/11 09:44', 'summary': '行政院昨天召開德翔臺北輪擱淺案應變專案小組會議，會中決定為統一災害防救事權，今後海難災害及其肇致的海洋污染事件，在不修法的原則下，環保署及交通部修正相關緊急應變機制，由交通部統籌指揮，調度資源並運用各相關部會專業，以期發揮救災救難最大能量與綜效。\\xa0立院衛環委員會今天邀相關部會做德翔臺北輪船體移除作業是否符合海洋環境保護需求及後續污染賠償作業報告，召委林淑芬批評行政院統籌由交通部主責，擔心未來國家沒有把污染放在最上位，先審船東的船隻移除計畫適合嗎？造成污染後再由環保署擦屁股，這是很糟的設計。\\xa0環保署長魏國彥在報告時說，德翔臺北在３月１０日擱淺至今，昨已完成岸際油污染清除作業，且船上殘油在交通部督促下也已完成清除，後續由交通部港務局主政辦理船艙貨櫃移除及船體移除作業，尋求「對生態及環境影響最小，移除時間最短」的方式，避免作業造成二次污染，以維護當地海洋環境。（洪敏隆／台北報導）', 'view_cnt': 201}, {'link': 'http://www.appledaily.com.tw//realtimenews/article/local/20160511/858353/罵小豬敗訴\\u3000她再轟政府「拿死刑販當政績」', 'category': '社會', 'title': '罵小豬敗訴\\u3000她再轟政府「拿死刑販當政績」', 'time': '2016/05/11 09:41', 'summary': '臉書PO文總是辛辣的主持人陳沂，昨日和小豬羅志祥的官司敗訴，但依舊不減她針對時事的麻辣力道。今日她在於臉書po文，針對鄭捷伏法po文嗆政府「拿死刑犯的生命來當作最後的政績」，轟「刻意做給人民看的正義不叫正義」！\\xa0陳沂凌晨於臉書po文，寫道「一個政府，竟然要拿死刑犯的生命來當作最後的政績，刻意做給人民看的正義不叫正義。」’「就像這八年來你們做給人民看的那些事一樣，荒謬而且廉價，我想這也將成為你們的歷史定位。再會，馬政府。」\\xa0有網友呼應，「 鄭捷該不該死？我舉雙手贊成！但是不是現在該死，我保留意見。」、「還一堆愚民喝采的 然後還說啥這件事跟政治無關 。直到今天才知道台灣文盲也超多」。\\xa0但多數人不認同「這是政績?這不是一個領幾十萬俸祿的法務部長該做的嗎？他可以不簽，真的！ 然後翹著腳再等幾天就畢業了，但這就是瀆職 很機歪 應該要臭罵她 ..」、「原本還蠻喜歡妳的 但政治歸政治 殺人歸殺人 妳是在講什麼屁話啊」、「那妳覺得鄭捷他關到長命百歲好嗎？這種事也可以撤到政治.......妳有事嗎？」(即時新聞中心／綜合報導)\\n【想知道更多，一定要看……】【更新】陳沂批「肉體斂財」賠30萬\\u3000小豬開心：終獲正義【鄭捷伏法】20:47三槍聲\\u3000終結鄭捷一生', 'view_cnt': 6966}, {'link': 'http://www.appledaily.com.tw//realtimenews/article/sports/20160511/858325/老師眼中的問題小子\\u3000擲鉛球雙破紀錄', 'category': '體育', 'title': '老師眼中的問題小子\\u3000擲鉛球雙破紀錄', 'time': '2016/05/11 09:37', 'summary': '台中市豐原區南陽國小在全國小學田徑賽傳捷報！鉛球選手廖杰陞、陳廷宇都破了三年前的大會紀錄16.03公尺，廖杰陞擲出18.22公尺，陳廷宇擲出17.57公尺，創下同一所學校兩名選手在同一賽事中刷新大會紀錄的佳績。摘下冠軍的廖杰陞說，一切苦練都值得！\\xa0廖杰陞、陳廷宇都是南陽國小六年級男學生，教練彭文良說，廖杰陞就讀小學三年級時，看他整個人胖胖的，沒想到反應靈敏，經投擲訓練，彈跳、衝刺等訓練，廖杰陞近兩年來，不斷刷新各鉛球賽事的大會紀錄，包含豐原國小田徑賽、台中市運動大會、全國秋季田徑賽等九場比賽紀錄。至於陳廷宇則是五年級才被發掘擲鉛球的天分，不過他上場比賽不怕生，爆發力十足。\\xa0廖杰陞和陳廷宇利用下課時間、假日練球，練習累了，偶爾翹課，教練彭文良嚴厲糾正學習態度，兩人比較不敢叛逆翹課，也肯苦練。廖杰陞有自信，十年內沒有人可以破他的紀錄，唸國中將繼續勤學。（蕭夙眉／台中報導）\\xa0\\n廖杰陞。蕭夙眉攝南陽國小鉛球教練彭文良訓練出兩位破紀錄的選手。蕭夙眉攝廖杰陞擲鉛球破三年來的大會紀錄，摘下冠軍。蕭夙眉攝陳廷宇也破紀錄摘下亞軍。蕭夙眉攝陳廷宇擲鉛球。蕭夙眉攝兩位學生平常受很多體能和技巧訓練。蕭夙眉攝', 'view_cnt': 2365}, {'link': 'http://www.appledaily.com.tw//realtimenews/article/international/20160511/858310/美西維州總統初選\\u3000希拉蕊敗仗、川普找副手', 'category': '國際', 'title': '美西維州總統初選\\u3000希拉蕊敗仗、川普找副手', 'time': '2016/05/11 09:35', 'summary': '美國西維吉尼亞州今日進行總統初選，在民主黨方面，前國務卿希拉蕊與對手參議員桑德斯呈現五五波拉鋸戰，但據美國《CNN》報導，桑德斯在出口民調上領先希拉蕊，最後結果是希拉蕊輸掉西維州。不過這不影響希拉蕊的領先優勢，因為她目前已獲得2224張黨代表票，距離提名門檻2383張不遠，但桑德斯只得1448張黨代表票。\\xa0另外在共和黨方面，由於地產大亨川普已無對手，穩拿西維州3張黨代表票。川普也表示，他目前正積極尋找副手人選，已鎖定5位人選。（施旖婕／綜合外電報導）\\xa0發稿：08:30更新：09:35', 'view_cnt': 3840}, {'link': 'http://www.appledaily.com.tw//realtimenews/article/international/20160511/858349/【央廣RTI】殺死美國大使班加西攻擊案主嫌免死', 'category': '國際', 'title': '【央廣RTI】殺死美國大使  班加西攻擊...', 'time': '2016/05/11 09:35', 'summary': '本內容由中央廣播電臺提供\\xa0\\xa0 \\xa0 \\xa0 \\xa0美國司法部10日表示，將不會尋求對被控涉及美國駐班加西(Benghazi)領事館遇襲事件的主嫌─利比亞民兵領袖哈塔拉(Ahmed Abu Khatallah)求處死刑。2012年9月11日，美國駐利比亞班加西使館和附近一個中央情報局(CIA)工作站發生攻擊事件，造成包括當時的美國大使史蒂文斯(Christopher Stevens)在內4名美國外交人員喪生。\\xa0 \\xa0 \\xa0 \\xa0哈塔拉是在2年前於利比亞境內被美國特種部隊逮捕，並由美國海軍戰艦移交給位於華盛頓的美國地方法院監管，他面臨18項罪名指控。哈塔拉的律師們曾企圖讓法院駁回此案、好讓被告返回利比亞受審，但未能成功。而他們也擴大施壓，要求一旦哈塔拉被判有罪不能將他處死。\\xa0 \\xa0 \\xa0 \\xa0聯邦檢察官菲利普斯(Channing Phillips)向華府的美國地方法院呈交的通知中說，一旦這名被告在此案中被判定死罪，美國政府將不會尋求實施死刑。司法部發言人皮爾斯(Emily Pierce)表示，美國司法部長林奇(Loretta Lynch)是在審視此案、並和檢方商談後做出這項決定，司法部將致力於確保被告為2012年的攻擊案被究責。\\xa0 \\xa0 \\xa0 \\xa0由於如今死刑已不在選項之中，因此一旦哈塔拉被判有罪將面臨終身監禁的命運。哈塔拉的律師路易斯(Eric Lewis)說，他們認為這是正確的決定。(繼續閱讀)', 'view_cnt': 735}, {'link': 'http://www.appledaily.com.tw//realtimenews/article/nextmag/20160511/858232/【壹週刊】徐國璋等不到洪文棟認親\\u3000他說這段話．．．', 'category': '壹週刊', 'title': '【壹週刊】徐國璋等不到洪文棟認親\\u3000他說這...', 'time': '2016/05/11 09:32', 'summary': '徐國璋稱是洪文棟的兒子，他從美國阿拉斯加回來接受本刊專訪，期間本刊透過關係聯絡洪文棟，但最後沒有得到正面回應。\\xa0他當下還是盼望洪文棟可以承認他，他說了以下這段話。\\xa0「爸，我回來，是要認祖歸宗，我希望你可以承認我是你的兒子。我身體也不好，心臟也不好，所以我的最大的希望，就是可以跟你認祖歸宗，還有跟你坐下來吃個飯，父親跟兒子那種感覺。」（撰文：宋志民）\\xa0看更多精彩壹週刊請點我', 'view_cnt': 700}, {'link': 'http://www.appledaily.com.tw//realtimenews/article/entertainment/20160511/858043/純情猛男神還原\\u3000網友驚封「日版周杰倫」', 'category': '娛樂', 'title': '純情猛男神還原\\u3000網友驚封「日版周杰倫」', 'time': '2016/05/11 09:30', 'summary': '榮獲「講談社漫畫賞」、「小學館漫畫賞」肯定的人氣漫畫《俺物語!!》搬上銀幕，找來演出《瘋狂假面》暴紅的日本男星鈴木亮平，詮釋身高約200公分、體重約120公斤的男主角「剛田猛男」，製作人佐藤貴博大讚鈴木亮平，男主角除了他不另作他想，表示：「他在晨間劇呈現出的誠實樣貌，在《瘋狂假面》又有破天荒、豁出去的演技，可謂同時具備肉體、說服力和反轉魅力的演員。」\\xa0有台灣網友認為他在片中的扮相，看久了和「周董」周杰倫的神韻頗為相似，直呼鈴木亮平是繼東尼大木後，新一代的「日版周杰倫」。由於他飾演角色的眉毛與鬢角造型搞笑又討喜，同台演員永野芽郁、坂口健太郎也在臉上貼上紙做的假眉毛與假鬢角與他合照，笑翻劇組人員。\\xa0「第24回橋田賞」昨在日本舉行頒獎典禮，鈴木亮平以日劇《天皇御廚》榮獲橋田賞演員獎肯定，領獎時他也恭喜同台的佐藤健，說：「能和佐藤健一起以《天皇御廚》獲獎，真的很開心。」《俺》片下月3日在台上映。（蘇威全╱綜合報導）\\xa0\\n永野芽郁（右）與坂口健太郎（左），貼上鈴木亮平（中）片中的招牌假眉毛與假鬢角搞笑合照。采昌國際提供鈴木亮平（左）昨天與佐藤健一起出席「第24回橋田賞」頒獎典禮。采昌國際提供', 'view_cnt': 3994}, {'link': 'http://www.appledaily.com.tw//realtimenews/article/life/20160511/858200/【解密有片】拉不拉多好訓練\\u3000因為貪吃', 'category': '生活', 'title': '【解密有片】拉不拉多好訓練\\u3000因為貪吃', 'time': '2016/05/11 09:30', 'summary': '拉不拉多犬是人類的好幫手！牠受訓後可以當導盲犬、搜救犬、緝毒犬，甚至會嗅聞炸彈，還可作為醫療犬，聞出癌細胞、糖尿病。\\xa0英國劍橋大學學者最近發表的研究指出，拉不拉多這麼好訓練，原來是因為牠有貪嘴好吃的基因啊！\\xa0\\n專家說，許多拉不拉多犬因為有基因變異，對食物特別狂熱，所以容易訓練。', 'view_cnt': 16598}, {'link': 'http://www.appledaily.com.tw//realtimenews/article/life/20160511/858346/環署長心臟病後首到立院備詢\\u3000臨時告假', 'category': '生活', 'title': '環署長心臟病後首到立院備詢\\u3000臨時告假', 'time': '2016/05/11 09:29', 'summary': '環保署長魏國彥3月底在立院備詢時，因為心臟病被緊急送醫，並在台大醫院開刀治療住院，今天立院衛環委員會邀相關部會做「德翔臺北」輪船體移除作業是否符合海洋環境保護需求及後續污染賠償作業報告，魏國彥雖然是病後首次現身立院，卻以環署有重要會議及下午陪同行政院長張善政至石門會勘為由要請假，在召委林淑芬徵詢在場立委意見，同意其報告完後告假離開。\\xa0魏國彥在會議前接受媒體訪問說，今天到立院抱持平常心，作為署長一定要來，明天就總辭，是看守中的看守，他跟準環保署長李應元昨天有先進行交接，有共識是明天之後有決定性事務，現階段他不會再做，且雙方窗口俱全，任何事務真要做也會知會後再來做。\\xa0魏國彥對於生病後首次來到立院備詢，他說心情很好，對於行政跟立法的關係，他認為只要兩邊配合好，就會有很好的思維。\\xa0對於今天要到立院備詢，卻要臨時請假，魏國彥說，因為環署內有個例行會議， 是國際事務會議，很早就排定，就署內行政程序，今天必須有程序結果，5月20幾日同仁才能出席會議，至於是何種會議，因為涉及國際外交事宜，不宜多說。另外，他下午要陪張院長到石門現場勘查，因此要向立院告假。（洪敏隆／台北報導）\\xa0\\n立院衛環委員會召委林淑芬徵詢在場立委意見，同意魏國彥報告完後告假離開。洪敏隆攝', 'view_cnt': 871}, {'link': 'http://www.appledaily.com.tw//realtimenews/article/local/20160511/858338/鄭捷伏法他最先知！\\u3000爆掛正確鄉民朝聖', 'category': '社會', 'title': '鄭捷伏法他最先知！\\u3000爆掛正確鄉民朝聖', 'time': '2016/05/11 09:28', 'summary': '先知總是孤獨。在昨晚八點時，鄭捷確認將伏法，引起社會議論紛紛。沒想到神通廣大的批踢踢鄉民，比媒體更早一步掌握消息。但先知總是孤獨，鄉民godzilla0204率先在晚間7點初爆掛「鄭捷準備在土城看守所被槍斃了!?」，文中寫道「剛跌倒夢到鄭捷被送到土城看守所....準備執行死刑...然後我就醒來了...」\\xa0對此許多鄉民推文噓「想太多 他父母那麼夠力」、「不可能這麼快」、「再騙阿」、「最近有什麼事件需要被掩蓋嗎？」、「別想太多啦 這種消息記者應該比較靈通 更何況接近520」，其中鄉民ilovelol還說「聽你放屁 死了我直播吃屎 沒死你吃 敢不敢」、鄉民xpxp123xp「這禮拜槍斃我一天不打手槍喇 幹」被許多鄉民噓到不行。\\xa0沒想到在八點《蘋果》報導「死刑定讞第19天 鄭捷今晚執行槍決」，並藉由App推播後社會民眾大為震驚，這篇先知文也馬上被鄉民朝聖推「恭喜啊」、「幹 你中了耶」、「有好多祭品要陪葬」、「前面一堆自己為高手的被啪啪」、「先知都是被噓的」、「有神快拜！」，也有人不斷呼籲鄉民ilovelol出來面對開直播。(葉國吏/綜合報導)', 'view_cnt': 52931}, {'link': 'http://www.appledaily.com.tw//realtimenews/article/finance/20160511/858341/智擎胰腺癌新藥申請韓上市\\u30003.2億先落袋', 'category': '財經', 'title': '智擎胰腺癌新藥申請韓上市\\u30003.2億先落袋', 'time': '2016/05/11 09:28', 'summary': '智擎〈4162〉宣布，新藥ONIVYDE 獲得韓國食品藥物安全部(MFDS)接受申請新藥上市送件，並將開始進行新藥上市審查流程，智擎可望獲得1000萬美元（相當於3.25億元台幣）之階段里程碑授權金。\\xa0智擎表示，此次新藥上市送件是以ONIVYDE併用5-FU/LV合併療法，申請適應症為曾接受過gemcitabine治療後之轉移性胰腺癌病患的治療。\\xa0根據智擎公司與美國Merrimack公司的授權暨合作契約規定，韓國係屬亞洲地區重點發展市場，也是重要的開發里程碑之一，智擎公司可獲得1000萬美元（相當於3.25億元台幣）之階段里程碑授權金。\\xa0智擎總經理葉常菁表示，在亞洲國家中，韓國也為新藥銷售市場主要國家之一，ONIVYDE若能迅速在韓國獲得新藥上市許可，必可造福當地病患。\\xa0據了解，ONIVYDE已通過台灣TFDA及美國FDA新藥上市許可申請。(江俞庭／台北報導)', 'view_cnt': 1496}, {'link': 'http://www.appledaily.com.tw//realtimenews/article/finance/20160511/858341/智擎胰腺癌新藥申請韓上市\\u30003.2億先落袋', 'category': '財經', 'title': '智擎胰腺癌新藥申請韓上市\\u30003.2億先落袋', 'time': '2016/05/11 09:28', 'summary': '智擎〈4162〉宣布，新藥ONIVYDE 獲得韓國食品藥物安全部(MFDS)接受申請新藥上市送件，並將開始進行新藥上市審查流程，智擎可望獲得1000萬美元（相當於3.25億元台幣）之階段里程碑授權金。\\xa0智擎表示，此次新藥上市送件是以ONIVYDE併用5-FU/LV合併療法，申請適應症為曾接受過gemcitabine治療後之轉移性胰腺癌病患的治療。\\xa0根據智擎公司與美國Merrimack公司的授權暨合作契約規定，韓國係屬亞洲地區重點發展市場，也是重要的開發里程碑之一，智擎公司可獲得1000萬美元（相當於3.25億元台幣）之階段里程碑授權金。\\xa0智擎總經理葉常菁表示，在亞洲國家中，韓國也為新藥銷售市場主要國家之一，ONIVYDE若能迅速在韓國獲得新藥上市許可，必可造福當地病患。\\xa0據了解，ONIVYDE已通過台灣TFDA及美國FDA新藥上市許可申請。(江俞庭／台北報導)', 'view_cnt': 1496}, {'link': 'http://www.appledaily.com.tw//realtimenews/article/nextmag/20160511/858348/【壹週刊】鄭捷死前沒遺言不當餓死鬼滷肉便當幾乎吃光光', 'category': '壹週刊', 'title': '【壹週刊】 鄭捷死前沒遺言   不當餓死...', 'time': '2016/05/11 09:28', 'summary': '殺人魔鄭捷昨晚被押赴刑場，吃完最後一餐，經高檢署檢察官錢漢良確認身份後，由法警執行槍決，三槍伏法。據了解，鄭捷得知要執行槍決，態度異常冷靜，不吵不鬧，完全配合槍決，似乎知道這天早晚會來，已有心理準備，鄭捷完全沒交代遺言，槍決前一刻，也沒再向家屬道歉。\\xa0據了解，檢察官在刑場確認人別身分後，問鄭捷有收到判決書，鄭捷回答，「有」，檢察官再問鄭捷有沒有遺言，鄭捷毫不思考就回答，「沒有」，檢察官再問，有沒有什麼話要說？鄭捷只說「口渴」，法警拿給鄭捷一瓶礦泉水，鄭捷接手過來，一口氣就喝光整瓶水。\\xa0由於不少黑道大哥走上刑場還要人扶，甚至故意在檢察官問話時拖拖拉拉，似乎害怕，但旁人一聽鄭捷回應，都覺得鄭捷態度異常冷靜。\\xa0監所準備的最後一餐便當非常豐盛，主菜是滷肉，配菜還有菜圃蛋跟青菜等四道菜，鄭捷吃了三分之二的飯菜，不當餓死鬼就上路。(撰文：林俊宏)\\xa0「更多其他壹週刊內容請點我」', 'view_cnt': 3426}, {'link': 'http://www.appledaily.com.tw//realtimenews/article/life/20160511/858301/【影片】50秒\\u3000讓你看清晨港都風貌', 'category': '生活', 'title': '【影片】50秒\\u3000讓你看清晨港都風貌', 'time': '2016/05/11 09:27', 'summary': '最近高雄天氣令人捉摸不定，昨天還艷陽高照，今晨卻細雨綿綿，讓《蘋果》用短短50秒的時間，帶大家看看不同面貌卻一樣美麗的港都清晨。（吳柏源／高雄報導）\\n細雨綿綿的高雄清晨，別有一番風味。吳柏源攝艷陽高照的港都清晨，充滿活力。吳柏源攝', 'view_cnt': 22997}, {'link': 'http://www.appledaily.com.tw//realtimenews/article/life/20160511/858324/專摸護士屁股\\u3000骨科醫師趕垃圾病人出院', 'category': '生活', 'title': '專摸護士屁股\\u3000骨科醫師趕垃圾病人出院', 'time': '2016/05/11 09:21', 'summary': '《蘋果》日前一篇「勃起要小護士換藥 醫斥：你可以出院了」新聞引起許多網友討論，批踢踢名人骨科醫師也說，曾遇過騷擾護士的病患，他氣到把對方趕出醫院，甚至對他羞辱一番。\\xa0骨科醫師在台大批踢踢po文表示，3年前也曾趕過垃圾病人出院。有病患因足部開放性骨折住院，但他在病房內、走廊等處吸菸，醫師警告病患不能在醫院抽菸，病患卻嘻皮笑臉回應，之後仍在病房抽菸。有門診護理師告知，被該名病人摸屁股，之後又有病房專科護理師投訴，幫他換藥時，被摸屁股，醫師氣炸和病患攤牌，要他今天就辦出院，不幫他治療。\\xa0他說，那幾天，護理師都對他擺臭臉，抱怨他怎麼收這種人住院，「是病人自己來急診掛號，然後我值班就被會診了，沒住院前我怎麼知道他是怎種人...」。他說，病人後來又到門診看病，他表示，不會再讓他住院，之後當眾批他，「一個查捕郎到處摸護理師屁股，笑死人」。不過，後來他覺得這樣講也沒用，「這根本就是畜生了，你羞辱他，他也不會痛，媽的」。（即時新聞中心／綜合報導）', 'view_cnt': 6300}, {'link': 'http://www.appledaily.com.tw//realtimenews/article/strange/20160511/858342/這個菜單超難懂？重點其實只有2個字', 'category': '搜奇', 'title': '這個菜單超難懂？重點其實只有2個字', 'time': '2016/05/11 09:21', 'summary': '一名網友在批踢踢貼出日前到餐廳用餐的菜單，質疑菜單超難懂，害他看得霧煞煞。\\xa0網友指出這份菜單讓他誤會，「我以為我點了咖啡之後，就沒有蛋糕可以吃了！結果在場所有人只有我認為是，咖啡或飲料加蛋糕………」，他並PO出菜單要大家評評理，可見菜單中寫著「套餐內容：任選35元的咖啡 或 飲料 + 蛋糕類」，如果是你會怎麼想呢？\\xa0不少網友跟原PO一樣整個誤會「我以為的跟原po一樣，這就是為什麼數學要有括號」，但也有人很快理解「我覺得是咖啡跟飲料選一種，然後都有蛋糕」，並有網友建議「寫成蛋糕+任選35元咖啡或飲料比較順吧！」另有網友神回「等你交了女友點套餐就只有咖啡」被其他網友狂推，「看到留言瞬間噴笑」、「看破紅塵」、「同樣過來人，拍拍！」（即時新聞中心／綜合報導）', 'view_cnt': 18633}, {'link': 'http://www.appledaily.com.tw//realtimenews/article/international/20160511/858322/【有片】40學生校園互毆\\u3000校長發信譴責', 'category': '國際', 'title': '【有片】40學生校園互毆\\u3000 校長發信譴責...', 'time': '2016/05/11 09:20', 'summary': '美國加州洛杉磯希爾馬高中（Sylmar High School）當地周一發生學生互毆事件，超過40名學生在校園內大打出手，出動了12名校警才擺平紛亂，畫面被手機拍下、上傳網路。\\xa0美國國家廣播公司（NBC）報導，這場互毆歷時大約20分鐘，多名學生流血受傷。現場一位匿名女同學告訴記者，這些學生是想要「支援自己的朋友」因而互毆。據瞭解，大打出手的原因和畢業舞會有關。\\xa0希爾馬高中校長李詹姆斯（James Lee）寄出給家長的Email表示，牽涉鬥毆的學生將會在調查出爐後接受懲罰。（北美中心／綜合外電報導）', 'view_cnt': 1814}, {'link': 'http://www.appledaily.com.tw//realtimenews/article/finance/20160511/858340/美股大漲\\u3000台股早盤收復8200點', 'category': '財經', 'title': '美股大漲\\u3000台股早盤收復8200點', 'time': '2016/05/11 09:18', 'summary': '受美股大漲激勵，台股今天跳空走高，一度突破8200點，站上5日線關卡。\\xa0今天包括蘋概股延續反彈攻勢，台積電（2330）、大立光（3008）、可成（2474）同步走高，加上聯發科（2454）站穩200元關卡，帶動指數收復8200點。（陳建彰／台北報導）', 'view_cnt': 435}, {'link': 'http://www.appledaily.com.tw//realtimenews/article/sports/20160511/858336/曼聯兵敗客場\\u3000下季歐冠席位恐不保', 'category': '體育', 'title': '曼聯兵敗客場\\u3000下季歐冠席位恐不保', 'time': '2016/05/11 09:15', 'summary': '2015~16英格蘭足球超級聯賽周末收官，凌晨1場補賽，「鐵鎚幫」西漢姆聯主場3比2險勝「紅魔」曼聯，這意味曼聯已經失去爭奪下賽季歐洲足球冠軍聯賽(UEFA Champions League)席位主動權。\\xa0西漢姆聯開賽第10分鐘就由塞內加爾前鋒薩科(Diafra Sakho)先馳得點。曼聯下半場反超，法國邊鋒馬夏爾(Anthony Martial)第51、72分鐘梅開二度。但英格蘭後衛安通尼歐(Michail Antonio)、紐西蘭後衛雷德(Winston Reid)分別於第76、80分鐘進球再度為西漢姆聯逆轉形勢。\\xa0英超在歐洲各大聯賽排名第3，每季前3名直接取得下賽季歐冠32強席次，第4名可取得歐冠資格賽最末輪附加賽資格。賽前曼聯少賽1場，落後同城宿敵曼城2分，居第5，補賽過後仍落後2分，歐冠資格已非自身能決定。\\xa0曼聯甚至可能失去較歐冠次一級、歐洲足球聯賽(UEFA Europa League)資格。歐聯資格以本季而言是英超第5、6名，但目前排名第7南安普敦積分只少曼聯3分，且淨勝球多3顆。曼聯最後1輪若吞敗甚至可能直接無緣下季歐洲賽場。(王毓健／綜合報導)', 'view_cnt': 847}, {'link': 'http://www.appledaily.com.tw//realtimenews/article/beauty/20160511/858331/G奶波神錯愛劈腿小開\\u3000墮掉6月大胎兒', 'category': '正妹', 'title': 'G奶波神錯愛劈腿小開\\u3000墮掉6月大胎兒', 'time': '2016/05/11 09:14', 'summary': '《蘋果》報導「巧巧拍G奶寫真急住院 下體大出血怒駁小產」，指出擁有30G好身材、「亞洲波神」巧巧（王騴之）最近忙籌備個人寫真集，不過日前她卻因下體大量出血，被醫生判定是子宮肌瘤大出血引發骨盆腔發炎，緊急要她住院，她還因此被懷孕小產，昨她解釋：「我若因懷孕生小孩，爸媽還比較開心呢，真的不是啦。」\\xa0不過今日出版的《周刊王》指稱，巧巧的姊妹淘透露，去年初悄悄與一位小開陷入熱戀後，赫然發現小開竟然還另有一位同居的正牌女友，而且還傻傻地懷了這位劈腿小開的孩子。\\xa0沒想到這位小開得知消息後，不僅增加性行為次數，還多次遊說巧巧拿掉小孩，卻後在懷孕5個月後，巧巧因身體不舒服就醫，醫生告知因性行為感染病毒，必須拿掉小孩，巧巧只能哭著拿掉小孩，而這位小開還就此換手機號碼、人間蒸發。\\xa0對於墮胎一事，巧巧哭訴「我真的很想要這個小孩。」至於目前和小開的狀況，巧巧則說「我跟前男友已經成為好朋友。」(葉國吏/綜合報導)', 'view_cnt': 17004}, {'link': 'http://www.appledaily.com.tw//realtimenews/article/politics/20160511/858333/【有片】傳精神疾病除役\\u3000軍方：多數官兵都不怕苦', 'category': '政治', 'title': '【有片】傳精神疾病除役\\u3000軍方：多數官兵都...', 'time': '2016/05/11 09:13', 'summary': '《蘋果》報導海軍官校正期101年班，130名畢業軍官中，竟有17人以精神疾病名義辦理除役或是調離戰鬥單位，遭外界質疑有人傳授因病除役的巧門。國防部副部長鄭德美今在立法院受訪強調，少數個案，國防部會關注、按規定辦理；21萬絕大多數官兵都戮力戰務，不怕苦不怕難，捍衛國家安全，請外界給予國軍支持。\\xa0鄭德美強調，少數人生病住院，國防部會盡到照顧責任，讓這些人恢復健康，返回職務任職（陳培煌／台北報導）\\xa0\\xa0\\n國防部副部長鄭德美。資料照片', 'view_cnt': 1226}, {'link': 'http://www.appledaily.com.tw//realtimenews/article/sports/20160511/858337/【有片】好爽！\\u3000他開轟啤酒無限暢飲1年', 'category': '體育', 'title': ' 【有片】好爽！\\u3000他開轟啤酒無限暢飲1年', 'time': '2016/05/11 09:12', 'summary': '日本火腿昨在東京巨蛋以4比0擊敗歐力士，陽岱鋼的隊友洋砲雷亞德(Brandon Laird)，4局下擊出本季第10轟，這支全壘打不但是支150公尺的特大彈，還直擊左外野看台上方的麒麟啤酒看版，讓他可以1年啤酒無限暢飲。\\xa0雷亞特曾敵力太空人和洋基，但他在3年大聯盟生涯只擊出6支全壘打。但去年加盟日本火腿，單季34轟，目前10支全壘打也在太平洋聯盟排名第2。\\xa0\\xa0對於這支超大號全壘打，他說：「這是今年飛最遠的一擊，擊中的感覺超棒。」但被問到可以喝1年免費啤酒，他說：「很酷，就像有人告訴你，打全壘打有獎金一樣。」但要如何處理這365天份的啤酒？雷亞德說：「不喝，可能送給那些餵球投手，或看有誰想要的。」(鍾裕能／綜合報導)\\n【看了這則新聞的人，也看了……】哈登重口味\\u3000把妹專挑人妻下手泰山、阿福加油！\\u3000兩兄弟今敍舊明對決', 'view_cnt': 4916}, {'link': 'http://www.appledaily.com.tw//realtimenews/article/life/20160511/858327/昨晚到今晨的雷雨好嚇人\\u3000鄭明典：強烈對流雨帶造成', 'category': '生活', 'title': '昨晚到今晨的雷雨好嚇人\\u3000鄭明典：強烈對流...', 'time': '2016/05/11 09:08', 'summary': '受鋒面影響，昨晚到今天清晨，西半部陸續下起大雷雨，不少地區雷雨交加，雨勢驚人，中央氣象局預報中心主任鄭明典在臉書指出，昨晚有一條強烈的對流雨帶，最初在桃園外海形成，然後逐漸往東南方向移動，掃過中部以北地區。這條雨帶降雨持續，移動緩慢，因此留下很顯著的累積降雨，尤其在苗栗、新竹和桃園山區。\\xa0鄭明典表示，分析其原因，昨天在北風上方有一個小氣旋式環流，其中心在福建陸地上，因此在海峽上這個環流還帶有北風分量，接近台灣陸地才轉為南風。這個南風和北風在桃竹苗外海交會，南風被北風舉升而產生劇烈對流。這個對流帶隨著北風的推進而往東南方向移動，造成台中以北的顯著降雨。\\xa0不過，鄭明典說，因為北風很淺薄，因此只有其前緣具有較大的舉升力，北風前緣推進到小氣旋之南，對流就減弱了。（生活中心／台北報導）', 'view_cnt': 2606}, {'link': 'http://www.appledaily.com.tw//realtimenews/article/finance/20160511/858317/新台幣開盤~32.48元\\u3000升值5.3分', 'category': '財經', 'title': '新台幣開盤~32.48元\\u3000升值5.3分', 'time': '2016/05/11 09:06', 'summary': '新台幣兌美元匯率今日以32.48元兌1美元開出，升值5.3分。（王立德/台北報導）', 'view_cnt': 408}, {'link': 'http://www.appledaily.com.tw//realtimenews/article/entertainment/20160511/857757/【實用有片】許瑋甯白富美\\u3000抗曬7招大公開', 'category': '娛樂', 'title': '【實用有片】許瑋甯白富美\\u3000抗曬7招大公開', 'time': '2016/05/11 09:04', 'summary': '31歲女星許瑋甯自曝愛曬太陽，又擁有白泡泡幼咪咪肌膚，是不是超羨慕！夏天來臨，這次她向《蘋果》讀者公開消暑防曬「七小福」，只要準備「帽子」、「太陽眼鏡」、「陽傘」就能抗紫外線直曬眼，想涼快就拿把「扇子」，隨身攜帶「白開水」，「保濕噴霧」透清涼，「防曬乳液」不可少，快想想缺了什麼馬上購！（娛樂中心／綜合報導）\\xa0\\n許瑋甯擁有白泡泡幼咪咪肌膚。娛樂中心攝', 'view_cnt': 23738}, {'link': 'http://www.appledaily.com.tw//realtimenews/article/fashion/20160511/858289/太犯規！\\u3000買花而已需要這樣搞？', 'category': '時尚', 'title': '太犯規！\\u3000買花而已需要這樣搞？', 'time': '2016/05/11 09:01', 'summary': '嗶嗶嗶（吹哨子）！這真的是太太太犯規了！到底有誰會買花的時候穿那麼漂亮、還擺出回眸一笑百媚生的pose？\\xa0這是演出《超人再起》一片而受到矚目的女星凱特柏茲沃斯（Kate Bosworth）。一整身白色來自American Eagle的細肩帶落肩短版流蘇上衣、破洞丹寧短褲，整身的平價服飾就是能穿得出有型有款的舒服閒適感。至於懷中抱的那一大束向日葵，也只能淪為配角，畢竟人比花嬌，而且嬌太多啦！（陳慧明/台北報導）\\xa0\\xa0\\nKate Bosworth一身American Eagle裝扮。翻攝自Mail Online', 'view_cnt': 5167}, {'link': 'http://www.appledaily.com.tw//realtimenews/article/politics/20160511/858321/洪慈庸的新聞稿\\u3000遭爆是「男密友」代筆', 'category': '政治', 'title': '洪慈庸的新聞稿\\u3000遭爆是「男密友」代筆', 'time': '2016/05/11 09:01', 'summary': '時代力量立委洪慈庸，進入立院後表現時常被媒體拿來大做文章。\\xa0今日出版的《周刊王》報導，洪慈庸與台中市新聞局長卓冠廷關係匪淺，不僅有吃飯、出國而已，甚至連洪慈庸的新聞稿，都出自卓冠廷的文筆，卓冠廷也順便指導洪慈庸與助理，對於新聞議題掌控與發佈的技巧。\\xa0報導中指出，日前洪慈庸遭爆橋病床事件，洪慈庸的公開聲明就是經由卓冠廷的指導，卓冠廷不僅以最快速度草擬出文情並茂、條理分明的新聞稿，更成功迅速平息這場風波，也讓兩人的友情再次升溫。\\xa0對於《周刊王》的報導，卓冠廷說與洪慈庸是好朋友，針對新聞及議題討論交流是很平常的事情；洪慈庸則說絕無此事。(葉國吏/綜合報導)', 'view_cnt': 7597}, {'link': 'http://www.appledaily.com.tw//realtimenews/article/nextmag/20160511/857950/【壹週刊】3個小訣竅\\u3000夏日破洞丹寧這樣穿搭', 'category': '壹週刊', 'title': '【壹週刊】3個小訣竅\\u3000夏日破洞丹寧這樣穿...', 'time': '2016/05/11 09:00', 'summary': '這一季穿丹寧褲，一定要有看起來舊舊的破洞，可是褲子破到阿媽都忍不住想幫你補，搭配就要有巧思，3個穿搭小訣竅請看影片。（撰文：邱冠旭）\\xa0「更多其他壹週刊內容請點我」', 'view_cnt': 809}, {'link': 'http://www.appledaily.com.tw//realtimenews/article/sports/20160511/858326/柯瑞賣1.27億豪宅\\u3000附NBA標準球場、泳池', 'category': '體育', 'title': '柯瑞賣1.27億豪宅\\u3000附NBA標準球場、...', 'time': '2016/05/11 08:59', 'summary': '據美國福斯體育(FOX Sports)報導，金州勇士一哥柯瑞(Stephen Curry) 正出售位於加州奧林達(Orinda，柏克萊(Berkeley)東鄰城鎮住處，售價約389萬美元(約1.27億臺幣)。\\xa0這棟豪宅有5間臥房和4.5套衛浴，戶外附有草坪、游泳池與1座標準NBA尺寸籃球場，戶外還有燒烤設備，可辦烤肉派對。據了解，柯瑞一家是因為搬往附近更大的房子，才決定出售原本住處。(王毓健／綜合報導)\\n柯瑞住處主臥室。網路照片柯瑞住處書房。網路照片從擺飾推測可能是柯瑞女兒房間。網路照片柯瑞住處廚房、餐廳直通庭院。網路照片柯瑞住處戶外草坪。網路照片柯瑞住處附有游泳池。網路照片', 'view_cnt': 9697}, {'link': 'http://www.appledaily.com.tw//realtimenews/article/strange/20160511/858316/小心！這5個壞習慣\\u3000會讓30公分大縮水', 'category': '搜奇', 'title': '小心！這5個壞習慣\\u3000會讓30公分大縮水', 'time': '2016/05/11 08:56', 'summary': '30公分是許多台灣男鄉民的「寶貝」，但要小心，如果有以下5項壞習慣，恐怕會讓30公分大縮水。\\xa01. 年久失修。為了保持陰莖的形狀與長度，最好是天天都有勃起活動，以免年久失修，破壞生殖器的雄偉。\\xa02. 過度自慰。適度自慰有益身心健康，但過度自慰也會過度消耗睪丸激素，宛如古人所說的「精盡人亡」。\\xa03. 沉溺於酒精。過度飲酒會增加肝臟負擔，也會破壞生殖器功能。\\xa04. 菸抽太多。抽菸易造成心血管疾病，也容易造成勃起障礙和破壞陰莖組織。\\xa05. 吃太多垃圾食物。\\xa0資料來源：奈及利亞《pulse》\\xa0（施旖婕／綜合外電報導）', 'view_cnt': 10734}, {'link': 'http://www.appledaily.com.tw//realtimenews/article/local/20160511/858313/正妹挺父戰寶雅\\u3000臉書呼籲抵制黑心企業', 'category': '社會', 'title': '正妹挺父戰寶雅\\u3000臉書呼籲抵制黑心企業', 'time': '2016/05/11 08:51', 'summary': '《壹週刊》報導「遭踢爆賣過期品 寶雅反告員工結果糗了」，指出李姓離職員工踢爆，「寶雅」縱容供貨商篡改製造日期標籤，還上架當正常品賣，大賺黑心錢。但寶雅爆料是員工挾怨指控，控告李姓離職員工誹謗、妨害信用。最後法院認為此事與公益重大攸關，應該認定其言論內容是出於善意，因此判決離職員工無罪。\\xa0而這位李姓員工的正妹女兒也在臉書轉貼發文「我父親就是新聞中的李姓離職員工」、「販賣偽造日期商品的店家你還敢去嗎」。李如敏認為爸爸就是正義魔人，從小就看他父親是個伸張正義的人，但現在卻因寶雅的官司讓他沒了工作、家計難以維持，甚至讓身體一日不如一日。\\xa0李如敏表示，父親為了抵制寶雅販賣黑心商品，犧牲自己財富與光陰，只為替大家爭取有保障的生活品質，但要對抗如此黑心的龐大企業，單靠自己的力量實在太渺小，因為根本無法阻擋黑心商品流出「請大家一起抵制寶雅生活館！！！為了全部人民的消費保障分享出去！！！應讓黑心企業受到應有的懲罰，而不是犧牲百姓來成全黑心企業！」此貼文獲得近千網友分享，根據《周刊王》報導，還有人說買到竄改日期的洗髮精，害他頭皮毛囊發炎。\\xa0對此寶雅生活館發言神人沈鴻猷委任王先生，回應表示李姓前員工指寶雅勾結廠商、黑心企業等發言，對公司傷害很大，所以上訴主要在於誹謗。不過王先生對於李姓前員工踢爆過期商品、改標繼續販售一事是否屬實，沒有正面回應，同時對於撤回上訴一事，王先生表示「都可以談」。(葉國吏/綜合報導)\\n李如敏發文。翻攝臉書', 'view_cnt': 78414}, {'link': 'http://www.appledaily.com.tw//realtimenews/article/finance/20160511/858318/\\u200b亞泥：停止收購山水水泥', 'category': '財經', 'title': '\\u200b亞泥：停止收購山水水泥', 'time': '2016/05/11 08:48', 'summary': '亞泥昨召開董事會，決定停止收購對岸水泥廠「山水水泥」股份，主因是山水水泥不僅去年虧損67億人民幣（約新台幣335億元），更遭百餘名債權人要求還債，且公司還有許多主管有案在身，營運不確定性過大。\\xa0亞泥昨（11）晚間發布重大訊息，表示亞泥與「中國建材」，已分別向台湾證券交易所、香港聯交所發佈公告，就雙方在2015年8月11日，以持有山水水泥逾40%股權的大股東身份，提出設有先決條件的自願全面收購要約，已於各自董事會作出決議，未來將不再進行。\\xa0亞泥表示，當初本著解決山水水泥困境，和恢復其股票交易的初衷，考慮山水水泥及其員工的利益和未來發展，提議可能收購要約。後續推進也遵守香港證監會《公司收購、合併及股份回購守則》和其他法規。\\xa0然而，當收購進行後，山水水泥的營運卻發生了諸多變化，因此決定停止收購，亞泥共整理5點如下：\\xa01、除山水水泥 2015 年虧損達67億元人民幣外，獨立核數師還認為一些事實和情況存在重大不確定性，使得他們對山水水泥的經營能力存在懷疑。\\xa02、現任董事會至今無法落實承諾的到期債券贖回，同時，中國更有百餘宗債權人要求還款的訴訟。由2015年山水水泥股東結構變化、管理層更換而引發的海外債券提前贖回，至今未償總額高達5.29億美元，且未見償付計劃和時間表。中國境內超短融交叉違約額據報達72億人民幣，另有60億人民幣的銀行貸款。\\xa03、亞泥、中國建材缺乏獲取山水水泥資訊的管道，無法確定山水水泥資訊的準確性與完整性，其中包括：2015年以來公司的營運資金資訊、公司可持續經營資訊、公司對違約債券贖回的方案，以及其他貸款違約的資訊等。\\xa04、山水水泥的前後任管理層，在香港、中國大陸有諸多法律訴訟，包括有關山東山水水泥集團有限公司（山水水泥100%持有的子公司）的控制權糾紛，且審理期限和結果也無從判斷。\\xa05、山水水泥的股票長時間停牌，對流動性、核定股份市值皆存在重大不利影響。（侯良儒／台北報導）', 'view_cnt': 3112}, {'link': 'http://www.appledaily.com.tw//realtimenews/article/nextmag/20160511/858319/【壹週刊】鄭捷挨3槍撐6分鐘\\u3000多開2槍才死', 'category': '壹週刊', 'title': '【壹週刊】鄭捷挨3槍撐6分鐘\\u3000多開2槍才...', 'time': '2016/05/11 08:48', 'summary': '殺人魔鄭捷昨晚被押赴刑場，吃完最後一餐，經高檢署檢察官錢漢良確認身份後，由法警執行槍決。8時47分，當法警朝趴在地上的鄭捷背部心臟位置開第一槍，鄭捷身體明顯顫動，過了二分鐘，法醫發現鄭捷居然還有心跳，檢察官下令再開槍，法警在8時49分再補一槍，結果他仍有微弱氣息，直到8時51分再開第三槍，鄭捷才結束罪虐一生。\\xa0檢察官會同法醫在過了二十分鐘後，約9時11分確認鄭捷已無生命徵象，法醫簽署死亡證明，完成槍決。鄭捷遺體馬上被台北看守所人員移到殯儀館冰存。\\xa0據了解，鄭捷生前在看守所內的話不多，態度冷漠，多是他人主動詢問他問題，他才有一句、沒一句的回答，獄中曾有人問鄭捷，犯案後是否後悔，鄭捷毫不在乎，只說「不會」，鄭捷也知道，「一定會死刑定讞」，甚至清楚每年都有槍決，一定很快就會執行，還說不怕死，但怕槍決太痛。(撰文：林俊宏)\\xa0「更多其他壹週刊內容請點我」', 'view_cnt': 7600}, {'link': 'http://www.appledaily.com.tw//realtimenews/article/sports/20160511/858315/柯瑞首位全票MVP\\u3000麥葛雷迪：NBA水準下降', 'category': '體育', 'title': '柯瑞首位全票MVP\\u3000麥葛雷迪：NBA水準...', 'time': '2016/05/11 08:42', 'summary': \"金州勇士一哥柯瑞(Stephen Curry)成為NBA史上首名拿下全數131張第1名選票MVP(Most Valuable Player，最有價值球員)，但對於他全票當選，前球星麥葛雷迪(Tracy McGrady，暱稱T-Mac)卻在電視節目中以NBA「水準下降(watered down，原意為加水沖淡)」評價，引發各方抨擊。\\xa0T-Mac本季在ESPN節目《Jump》說：「對於他能獲得全票，這件事只告訴你，我們的聯盟水準下降多少。當你想到MJ(Michael Jordan，喬丹)、俠客(Shaq, Shaquille O'Neal，歐尼爾)......我的意思是這些人真的在打高等級聯盟。那時比起現在有更多超級球星在更多隊伍裡。但這獎項沒問題。他(柯瑞)打出極好的一季。」\\xa0此番言論馬上引發籃球界反應，有人委婉表示T-Mac應該變得更好或懷念以前的他，更有人直接表示T-Mac這番話愚蠢。(王毓健／綜合報導)\\n金州勇士一哥柯瑞(Stephen Curry)連莊MVP。美聯社\", 'view_cnt': 34552}, {'link': 'http://www.appledaily.com.tw//realtimenews/article/international/20160511/858312/女歌手遭3次性侵凌辱\\u3000星國淫魔判鞭22下囚16年', 'category': '國際', 'title': '女歌手遭3次性侵凌辱\\u3000星國淫魔判鞭22下...', 'time': '2016/05/11 08:40', 'summary': '新加坡一名無業男子林俊明在2013年凌晨攔截一名中國女歌手，並在20分鐘內當街3次性侵她，林男昨日下午被判囚16年10個月2周及鞭刑22下。\\xa0據新加坡《聯合早報》報導，30歲的林俊明在2013年2月9日凌晨3時15分至3時35分，在羅拔申碼頭附近的道路，攔截一名到新加坡工作的中國籍KTV女歌手，並對她2次逼口交，以及手指性侵等。此外，在對林男的搜索過程中，發現他擁有13部色情影片。\\xa0高庭司法委員判刑時說，在新加坡公路上安全行走的希望，被林男令人震驚和明目張膽的行徑給粉碎了，因此判處林男16年多的徒刑和鞭刑22下。（施旖婕／綜合外電報導）', 'view_cnt': 86213}, {'link': 'http://www.appledaily.com.tw//realtimenews/article/local/20160511/858281/鄭捷遺體為何送中壢？\\u3000原因曝光', 'category': '社會', 'title': '鄭捷遺體為何送中壢？\\u3000原因曝光', 'time': '2016/05/11 08:35', 'summary': '（更新：增加新北殯儀館說法）鄭捷昨晚8時48分槍決，晚間9時23分大體接運車從台北看守所離開，照慣例遺體應直接送往新北市立殯儀館，但最後卻是送到中壢，原因為何？\\xa0《自由時報》報導，據傳是因為鄭捷家屬欲馬上領回，遺體接運車離開看守所後，一路南下往桃園中壢殯儀館。坊間私人殯葬業者也說，因為此案比較敏感，可能鄭捷家屬會與業者簽訂保密條款，因此，即使有協助處理鄭捷遺體，恐怕也不會跟外界說明。\\xa0有報導指稱，北所昨在槍決後，原通知鄭捷家屬今天一早到新北市立殯儀館領取鄭捷遺體，但因新北殯儀館已沒有冰櫃，臨時改運到中壢殯儀館停放；新北殯儀處今早強調，從未接獲北所詢問鄭捷遺體存放問題，殯儀處了解新北也沒有冰櫃不夠問題，此次單純因鄭捷私人因素而送往中壢。（即時新聞中心／綜合報導）\\xa0出版時間：07:05修改時間：08:35', 'view_cnt': 286402}, {'link': 'http://www.appledaily.com.tw//realtimenews/article/nextmag/20160511/858311/【壹週刊】鄭捷律師急電法務部槍下留人\\u3000被害人家屬轟沒良心', 'category': '壹週刊', 'title': '【壹週刊】鄭捷律師急電法務部槍下留人\\u3000被...', 'time': '2016/05/11 08:34', 'summary': '殺人魔鄭捷的法扶律師劉繼蔚、黃致豪、梁家贏遭被害人及家屬痛罵「沒良心」，如同魔鬼代言人，昨晚黃致豪聽到法務部即將執行槍決鄭捷消息，馬上打電話到法務部要求槍下留人，不過，法務部接電話的官員回說「會依法執行」，沒多久鄭捷就遭開三槍伏法。\\xa0鄭捷的律師被外界臭罵是魔鬼利用的律師，律師們有人甚至還曾收到恐嚇信，臭罵他們「司法敗類」。不過，黃致豪曾強調，此案不去探究為什麼，未來社會恐將有更多鄭捷，基於律師職責，願承受千古罵名。\\xa0黃致豪也表示，他不是為「名」來接此案，更不是為「利」，不然不會接這件酬勞不多的法律扶助案件。據了解，一般法扶案件律師酬勞僅約3萬元。\\xa0法務部表示，鄭捷律師未提起非常上訴，法務部長羅瑩雪召集三位次長、主任秘書及檢察司長開會後，認為沒有任何槍下留人的條件，昨天下午批准死刑令。(撰文：林俊宏)\\xa0「更多其他壹週刊內容請點我」', 'view_cnt': 12544}, {'link': 'http://www.appledaily.com.tw//realtimenews/article/fashion/20160511/857957/賣翻了再變身\\u3000Dior珠寶雙面皆美', 'category': '時尚', 'title': '賣翻了再變身\\u3000Dior珠寶雙面皆美', 'time': '2016/05/11 08:32', 'summary': 'Dior珠寶設計師Victorie de Castellance去年以品牌創辦人Dior先生的幸運星符號、玫瑰與故居花園為靈感的ROSE DES VENTS（羅盤玫瑰）系列手鍊暴紅，在巴黎賣到缺貨，亞洲直至下半年才到貨，Dior乘勝追擊再推出第二代，無論是18K金、白金或玫瑰金戒指，都推出可翻轉的設計，不僅幸運圓徽章正反都漂亮，也增加了賞玩樂趣。\\xa0ROSE DES VENTS系列同時推出全新形象廣告，由知名攝影師Patrick Demarchelier掌鏡，捕捉Dior女郎佩戴此系列珠寶的自然清新風采，一次能混搭多條手鍊或戒指，正是此系列迷人之處。（陳雅韻／台北報導）\\xa0\\nROSE DES VENTS 綠松石戒指10萬8000元。品牌提供可翻轉至背面的綠松石戒指。品牌提供ROSE DES VENTS黑瑪瑙戒指9萬6000元。品牌提供翻轉至背面的黑瑪瑙戒指。品牌提供ROSE DES VENTS黃K金手鍊 18萬元。品牌提供背面也漂亮的黃K金手鍊。品牌提供ROSE DES VENTS短版白金項鍊 63萬元。品牌提供', 'view_cnt': 2077}, {'link': 'http://www.appledaily.com.tw//realtimenews/article/nextmag/20160511/857673/【壹週刊】入會健身前\\u3000搞懂契約保權益', 'category': '壹週刊', 'title': '【壹週刊】入會健身前\\u3000搞懂契約保權益', 'time': '2016/05/11 08:30', 'summary': '經營多年的老字號「邱素貞瑜伽天地」日前無預警歇業，讓許多民眾都非常訝異，主管機關介入後，很多人才知道原來有些瑜珈或舞蹈教室，其實是以短期補習班立案，由教育機關管轄，非體育署所管轄的健身中心，二者規範完全不同。\\xa0要如何辨識我們參加的是補習班還是健身中心呢？主管機關提醒除瑜珈跟舞蹈二個項目屬教育機關管轄範圍，可以為補習班立案外，競技及休閒的運動場館業為體育機關管轄。\\xa0消保官潘宏政說，通常補習班須在營業場所明顯處掛置補習班立案證書，或者民眾可以注意一下現場放置許多健身器材設備，多屬健身中心，而較重師資的瑜珈、有氧教室就有可能是補習班，可以此作簡易判別。\\xa0很多業者會要民眾簽署長時間的契約，可套價優惠等來吸客，但其實補習班及健身中心對簽約的期限皆有相關規範。\\xa0補習班：依《補習及進修教育法》修業期限為1個月至1年半。所以簽約期限最多1年半，但修業期間逾6個月以上1年以下者，應分為2期；超過1年，應分為3期，每期不得逾6個月。如有違反者，各縣市主管機關可糾正、限期改善，限期未改善可停止招生，嚴重者可撤銷立案。\\xa0健身中心：依《健身中心定型化契約應記載及不得記載事項》規定，會籍期限最高10年，建議最好採按月繳費入會，萬一出狀況可降低損失。依規定業者須將尚未履行費用其中一半交付銀行做履約保證，故消費者要注意契約是否有註明履約保證。如此一來，若業者歇業或倒閉，消費者可向銀行取回剩餘費用。若業者未提供履約保證，可向消保官申訴，查證屬實將依《消保法》開罰。\\xa0另提醒消費者，補習班契約審閱期為5天，健身中心則至少3天，加入前應詳閱契約，除確認契約是否有違反相關規定外；若其中有對自身不利的條款，可向業者反映、協議修改，若對方不同意，則應慎重考慮是否要加入。（撰文：古韵婷）\\xa0「看更多壹週刊內容請點我」', 'view_cnt': 1068}, {'link': 'http://www.appledaily.com.tw//realtimenews/article/nextmag/20160511/858219/【壹週刊】護照貼紙不罰撤案\\u3000綠營悄釋善意', 'category': '壹週刊', 'title': '【壹週刊】護照貼紙不罰撤案\\u3000綠營悄釋善意', 'time': '2016/05/11 08:30', 'summary': '新政府在未上任前，考量兩岸關係的互動敏感，黨內也極力避免做出讓對岸錯誤解讀的動作，綠營人士說，對中方的善意，確實有「只能做，不會說」的默契。\\xa0立法院四月審查「護照條例施行細則」，多位綠營立委主張刪除「護照貼紙罰則」，並已在外交委員會提出修正案，為此，民進黨中央特地召來立院黨團總召柯建銘說明，指刪掉護照貼紙罰則是否會讓外界誤為新政府在搞法理台獨？另有黨內人士說，曾聽聞中方透過管道傳達相同疑慮，但未獲證實，最後在柯建銘建議下決定撤案。黨內人士不諱言，由此不難看出民進黨對處理兩岸敏感議題的態度，已悄悄在轉變。（撰文：劉榮）\\n護照條例施行細節是否刪除「護照貼紙罰則」，隱含新政府與對岸巧妙的互動關係。', 'view_cnt': 8264}, {'link': 'http://www.appledaily.com.tw//realtimenews/article/nextmag/20160511/858231/【壹週刊】父子被撞見／徐國璋控訴洪文棟：說我是朋友，不敢承認我', 'category': '壹週刊', 'title': '【壹週刊】父子被撞見／徐國璋控訴洪文棟：...', 'time': '2016/05/11 08:29', 'summary': '徐國璋稱是洪文棟的兒子，他從美國阿拉斯加回來接受本刊專訪時，透露洪文棟與他互動時，曾做過一件最令他最傷心的事。\\xa0「我永遠不會忘記就是說，有一次我們走在馬路上，他的朋友經過我們，看到我爸，他問我爸『這一位是誰』？我爸對他講就是說，『我的朋友從美國回來。』這很傷我心，我永遠放在心裡面。（那時沒有承認你就是了？）對，他不敢講我是他的兒子。（為什麼呢？）怕別人知道（我是他兒子）。（那你的感受是什麼？）傷心，為什麼我爸，說是他朋友美國回來，他是個大人，怕什麼？」（撰文：宋志民）\\xa0看更多精彩壹週刊請點我', 'view_cnt': 5000}, {'link': 'http://www.appledaily.com.tw//realtimenews/article/entertainment/20160511/858307/為了林宗一\\u3000許純美自曝賣地敗掉40億', 'category': '娛樂', 'title': '為了林宗一\\u3000許純美自曝賣地敗掉40億', 'time': '2016/05/11 08:20', 'summary': '58歲許純美（阿美姊）去年10月穿著海青服素顏，身高166公分的她瘦到僅剩37公斤受訪，她自爆歷經4個月住院治療分枝桿菌感染，開刀切掉右肺，再撐過7天高燒不退，前天痊癒出院，並增胖12 公斤變49公斤，整個人氣色啵兒亮。\\xa0《蘋果》報導，阿美姊住院期間，她讀台大的女兒陪伴在旁，她昨說去年母女吵架早已和好，但她過戶又收回的名下約60億元財產暫不再分產，她稱因為她是一家之主。\\xa0關於60億元，許純美說原本她從一生最愛的亡夫鄭奇松那兒繼承百億元財產，卻為了林宗一，賣掉內湖、承德路、林口3塊地，敗掉40億元，她如今終於覺醒，說從來沒愛過宗一，也發毒誓「我向阿彌陀佛發誓，再交男友，我許純美不得好死」！（即時新聞中心／綜合報導）\\xa0\\n許純美昨在自家豪宅虔誠望著阿彌陀佛雙手合十。特勤組攝', 'view_cnt': 17007}, {'link': 'http://www.appledaily.com.tw//realtimenews/article/local/20160511/858305/法官縱放詐騙主嫌\\u3000羅瑩雪斥離譜「恐遭滅口」', 'category': '社會', 'title': '法官縱放詐騙主嫌\\u3000羅瑩雪斥離譜「恐遭滅口...', 'time': '2016/05/11 08:18', 'summary': '《蘋果》報導「詐騙貴州女出納5.8億 抓到車手卻被放了」，指出台籍男子楊華登，其所屬詐騙集團在烏干達設置電信機房，去年12月21日，向大陸地區貴州省都勻市經濟發展區建設局楊姓出納詐騙人民幣1.17億元（約5.8億元台幣），並在今年5月被桃園市刑大查獲落網，沒想到最後桃園地院法官卻以「證據不足」為由當庭釋放，讓法務部長羅瑩雪也相當不滿。\\xa0今日出版的《周刊王》報導，羅瑩雪對於桃園地院將詐騙主嫌楊登華無保釋放嘆氣的呼籲「拜託求求他們看清楚狀況，這次真的太離譜了！」羅瑩雪隨後也說「很擔心被釋放的詐騙主嫌，會被其他共犯滅口，因為牽扯太廣，集團核心分子難保不會想到，這個人消失了，就查不下去了！」。\\xa0根據調查，承接楊登華一案的桃園地院法官，現年35歲，在桃園地院約莫10年資歷，有司法同僚透露「該法官又不是菜鳥沒經驗，會這樣處置也是感到不可思議」。(葉國吏/綜合報導)', 'view_cnt': 10058}, {'link': 'http://www.appledaily.com.tw//realtimenews/article/nextmag/20160511/857592/【壹週刊】【王牌酒保】黃懷民雞湯也能入調酒', 'category': '壹週刊', 'title': '【壹週刊】【王牌酒保】黃懷民  雞湯也能...', 'time': '2016/05/11 08:17', 'summary': '來自台北信義區Marquee的黃懷民，才從中壢北上工作不久，初試啼聲的作品「翡翠的溫度」，大膽將雞湯入調酒，獲得評審青睞，順利入圍第五屆台灣三得利調酒競賽24強。\\xa0黃懷民表示：「我是以『哈密瓜雞湯』的概念，去做出這一杯酒。雞湯配上Midori蜜多麗哈密瓜香甜酒之後，會有一個鹹甜的味道。鹹甜回甘之後，最後帶一點九層塔還有新白州威士忌的尾韻，最後在微苦中帶點香料的香氣作為結尾。」\\xa0「翡翠的溫度」的酒體，以Midori蜜多麗哈密瓜香甜酒與新白州威士忌做主軸，黃懷民指出：「新白州和Midori蜜多麗哈密瓜香甜酒的味道，其實是非常搭的。然後再用鳳梨果泥和佛手柑，去襯托出整個香甜的味道。」\\xa0在酒體上方的泡沫，則是將雞湯、Midori蜜多麗哈密瓜香甜酒與大豆卵磷脂均勻混合後，置入氣泡球去產生白色的汽泡體，最後再放置在酒體上方，成為甜中帶鹹，鹹中有甜的「哈密瓜雞湯」。（撰文：高婉珮）\\xa0【警語：飲酒過量，有礙健康。酒後不開車，安全有保障。飲酒過量，害人害己。未成年請勿飲酒。】\\xa0<更多壹週刊內容請點我>\\xa0\\n黃懷民初試啼聲，便順利入圍第五屆台灣三得利調酒競賽24強。（林先本．陳思明攝影）黃懷民私房特調「翡翠的溫度」。（林先本．陳思明攝影）', 'view_cnt': 536}, {'link': 'http://www.appledaily.com.tw//realtimenews/article/politics/20160511/857385/【財訊】林全說了算？公股事業位高錢重\\u3000人事角力新戰場', 'category': '政治', 'title': '【財訊】林全說了算？公股事業位高錢重\\u3000人...', 'time': '2016/05/11 08:15', 'summary': '本內容由財訊雙週刊提供\\xa010年前，林全在擔任財政部長時，曾向當時總統陳水扁要求擁有「完整的人事權」；10年後，擔任閣揆的林全，該怎麼與蔡英文總統、以及內閣閣員分享或分擔人事權，值得觀察。公營事業高層人事異動府院具實質影響力50餘位新政府成員幾經波折後陸續公布，然而，號稱可分配數千職務的新政府，大規模人事更替的戲碼才正要上演，尤其是公營事業與周邊單位負責人的任命，更是政權輪替後人事任命的新焦點，而所任用之人的表現，不但直接影響新政府形象，人選更是各方角力之所在。但從這次重要內閣人事，英全政府不但沒有「整碗捧去」，反而大量起用藍營人士與事務官的作為，公營事業負責人恐將成為提前退休或轉任的行政官僚，積極搶占的職缺；一旦取才日漸偏狹、雙薪肥貓保守安穩過日，不但有礙觀瞻，也將導致龐大的公營事業體系更加顢頇沉淪。五二○之後，最引人注意的，莫過於公營事業高層主管與金融、證券周邊單位董事長與總經理職缺的調整與異動幅度。這些人事布局往往涉及財政部、央行、金管會等首長的意志，但長年以來，行政院長、甚至總統對重要公營事業高層人事布局都具有莫大的影響力，新政府無論是基於政策落實、培養人才、改善經營績效、乃至於政治上必要的酬庸，公營事業高層人事如何鋪排，都是亟待處理的議題。其中，財政部轄下金融機構最多、重要性最高，像土地銀行、台灣銀行、華南金控、兆豐金控、合作金庫、第一金控、彰化銀行、台灣金聯、關貿網路等，再加上這些金控底下的子公司，財政部可分配的重要職位達20、30個...詳全文', 'view_cnt': 3752}, {'link': 'http://www.appledaily.com.tw//realtimenews/article/nextmag/20160511/858308/【壹週刊】鄭捷三槍伏法\\u3000槍決前怕痛打麻醉還猛喝水', 'category': '壹週刊', 'title': '【壹週刊】鄭捷三槍伏法\\u3000槍決前怕痛打麻醉...', 'time': '2016/05/11 08:15', 'summary': '殺人魔鄭捷昨晚終於伏法，他遭槍決前猛喝水，而且怕痛，要求打麻醉，裝酷拒絕回答執行檢察官提問，當行刑手朝心臟開第一槍，鄭捷身體仍有明顯晃動，最後總共被開3槍，才終結他罪孽一生。執行的檢察官錢漢良說：「法律的精神在於社會正義，而正義是基於良知的正道，正道的理想必須能夠具體實現，社會正義才有落實的可能。」\\xa0鄭捷昨被帶往刑場後，高檢署執行檢察官錢漢良依規定詢問鄭捷是否收到判決？有無意見或遺言等，鄭捷都拒絕回應，只是面無表情的看著檢察官說：「我想喝口水。」\\xa0\\xa0看守所人員為鄭捷準備菸酒及含4樣配菜的焢肉便當，鄭捷吃了一半便當，幾乎喝光水，沒抽菸也沒喝酒，由法醫為他注射麻醉藥，然後趴臥在行刑地點等待死神降臨。\\xa08點47分，行刑手從背後朝鄭捷心臟開第一槍，鄭捷身軀明顯晃動，2分鐘後，執行檢察官下令補開第二槍，卻冒出血泡，法醫研判可能沒有命中心臟，行刑手在8點51分補上第三槍，20分鐘後由法醫相驗確認鄭捷死亡，才由殯葬業者將他遺體載離刑場。鄭捷被槍決前要求打麻藥，法醫問他是否怕痛，他點了點頭；據指出，他死前留有遺言，法務部基於隱私不願透露他最後說了什麼。\\xa0鄭捷昨晚伏法，從判決定讞至槍決僅18天，而史上最快的是民國75年陳雲輝犯下的分屍案，定讞7天槍決。前屏東縣議長鄭太吉也在定讞19天遭槍決。鄭捷伏法後，遺體由殯葬業者運送離開，原本以為運至就近的板橋殯儀館，車輛卻開往國道一路南下，送往中壢殯儀館冰存，法務部已通知家屬今天白天至殯儀館認屍。\\xa0鄭捷在押期間，想和外界聯繫，得知檢方和法官曾傳喚他以前的好友出庭作證，因此透過筆錄，找出好友的地址，想寫信問問朋友過得好不好，但多沒收到回信。他雖看來沒任何情緒反應，但卻自我安慰，應不是對方沒收到，可能筆錄上的地址是戶籍地，顯示他試圖說服自己，不是一廂情願。\\xa0據了解，鄭捷在押看守所期間，非常痛恨所內飲食，每天拿著父母寄給他的零用金買泡麵或罐頭吃，三餐至少有一餐吃泡麵，而每天除了僅存的放風時間，可打打籃球，其餘時間鄭捷只能在所內看書或參加團契打發時間，據了解，鄭捷最愛看科幻小說，他對此曾說，「反正我是沒未來的人，剩沒多少時間，就活在虛擬世界裡」。(撰文：林俊宏)\\xa0「更多其他壹週刊內容請點我」', 'view_cnt': 11466}, {'link': 'http://www.appledaily.com.tw//realtimenews/article/sports/20160511/858306/去年他在世界大賽創紀錄\\u3000今卻遭禁賽50場', 'category': '體育', 'title': '去年他在世界大賽創紀錄\\u3000今卻遭禁賽50場', 'time': '2016/05/11 08:13', 'summary': '皇家新秀小孟德西(Raul A. Mondesi)，去年成為美國職棒史上第1位生涯初登板就是在世界大賽的球員。但今天，他收到大聯盟50場禁賽的處分，原因是未通過藥檢。\\xa0小孟德西的父親是前道奇隊球星孟德西(Raul Mondesi)，他曾在1993年隨道奇來台與中職聯軍進行交流賽。小孟德西是被檢出體內含有類麻黃素克倫特羅(Clenbuterol)的成分，臨床上常做為支氣管擴張劑。\\xa0小孟德西原本要被禁賽80場，但因他提出所使用的藥物，在球員工會和大聯盟協商後，減為50場。小孟德西今透過球員工會發表聲明，「我要對我的球團、隊友和球迷抱歉，我接受大聯盟50場禁賽的處分，這是我人生到目前所需面對的最困難時刻，但我必須負完全的責任。」\\xa0小孟德西表示，「我在我的國家多明尼加買了一種非處方藥Subrox-C]，那是治療感冒和流感的藥，我沒有詳讀用藥須知，不知道含有禁藥物質，它不可能增加我球場上的表現，但我必須面對這個錯誤帶來的結果。」(鍾裕能／綜合報導)\\n【看了這則新聞的人，也看了……】 【更新】田中單場挨3轟\\u30006局結束皇家6比5洋基皇家先發輪值異動\\u3000基伊取代克里斯楊', 'view_cnt': 11918}, {'link': 'http://www.appledaily.com.tw//realtimenews/article/entertainment/20160511/858304/張洪量演唱會倒數\\u3000但票竟剩這麼多\\u3000', 'category': '娛樂', 'title': '張洪量演唱會倒數\\u3000但票竟剩這麼多\\u3000', 'time': '2016/05/11 08:13', 'summary': '張洪量演唱會，票房目前不太好。\\xa0《蘋果》報導，唱片市場不景氣，不是每場演唱會都能讓歌迷掏錢埋單。淡出歌壇15年的張洪量宣布重出江湖登台北小巨蛋圓夢，演唱會6月11日登場，但票房至今卻未達預期，3月10日開賣已2個月，據KKTIX售票系統資訊，目前僅有最低票價800元的座位區售完，其他1200至3800元等8個區域全部都仍在販售中。不過，當時他對票房壓力就先說過：「不怕票房壓力，就算台下只有我爸1人也值得。」（即時新聞中心／綜合報導）', 'view_cnt': 11785}, {'link': 'http://www.appledaily.com.tw//realtimenews/article/sports/20160511/858303/皇家先發輪值異動\\u3000基伊取代克里斯楊', 'category': '體育', 'title': '皇家先發輪值異動\\u3000基伊取代克里斯楊', 'time': '2016/05/11 08:09', 'summary': '皇家克里斯楊昨天對洋基先發2.2局被擊出5支全壘打，賽後總教練尤斯特(Ned Yost)還說對他有信心，不過隔天就傳出克里斯楊將跳過下一場先發輪值，由昨天中繼5.1局僅失1分的基伊(Dillon Gee)取而代之，在周日先發出戰勇士。\\xa0克里斯楊今年出賽7場，場場挨轟，至今挨13轟，戰績1勝5敗，防禦率6.68。昨天賽後他表示，速球尾勁消失，自己也不知道什麼原因。今天傳出他的前臂疼痛，已提前返回堪薩斯做核磁共振。克里斯楊說：「要仔細檢查找出原因，前臂疼痛已困擾我5、6個星期，我每天都做治療，它不僅造成心理陰影，也影響投球的尾勁。」\\xa0基伊昨天以68球投了5.1局，周日先發預定將投80至85球，他說：「我不認為15到20球(增加)會太多。」基伊過去在大都會先發110場，他說：「我不會說這是我所期待的，我只是盡力扮演好我的角色，只是來的太突然。」(王覺一／綜合報導)\\n【看了這則新聞的人，也看了……】 【更新】皇家8下7比10洋基\\u3000王建民牛棚練投去年他在世界大賽創紀錄\\u3000今卻遭禁賽50場', 'view_cnt': 9870}, {'link': 'http://www.appledaily.com.tw//realtimenews/article/local/20160511/858295/假懷孕向前男友詐財\\u3000露餡後竟做這件事', 'category': '社會', 'title': '假懷孕向前男友詐財\\u3000露餡後竟做這件事', 'time': '2016/05/11 08:06', 'summary': '苗栗縣溫姓女子與葉姓男友分手，她佯稱懷孕，要求葉男每月支付3000元，葉男之後發現溫女根本沒懷孕，溫女竟恐嚇葉男，「若不匯錢，黑白兩道都要你死」，葉報警，雙方後來和解，苗栗檢方予以緩起訴處分。\\xa0今日出版的《自由時報》報導，檢警調查，溫女佯稱懷葉男孩子，去年5月透過LINE告知葉男，並要求他匯款5000元，葉男不疑有詐而匯款，溫再以同手法要求葉按月支付3000元。葉男後來經由溫女出遊照片，確認她沒懷孕，拒絕再付款，溫女卻借用友人臉書帳號與葉男聯絡，出言恐嚇葉男。溫女坦承犯行，檢方顧及葉男損失尚屬輕微，且雙方已達成和解，予以緩起訴處分。（即時新聞中心／綜合報導）', 'view_cnt': 10492}, {'link': 'http://www.appledaily.com.tw//realtimenews/article/local/20160511/858300/情侶談情說愛\\u3000竟發現隔壁桌有窸窣聲', 'category': '社會', 'title': '情侶談情說愛\\u3000竟發現隔壁桌有窸窣聲', 'time': '2016/05/11 08:02', 'summary': '天天排隊的漢來海港餐廳，有人貪小便宜被隔壁桌拍下醜態！\\xa0《蘋果》報導，投訴人是中午在廣三店用餐，他和女友在談笑，突然聽到不遠處傳來塑膠袋的窸窣聲，轉頭過去發現有一桌客人約四、五人，桌上堆滿好幾盤食物，其中就有婦人不時把整盤蝦子等海鮮倒入塑膠袋中，一包一包塞進自己的提包裏，還會交頭接耳的談笑互相交待：「現在沒人，現在沒人！」投訴人看不過去，在用餐完離開前曾向店家反映，但不知店家有無進一步處理。\\xa0漢來餐飲事業部行銷企劃副理許怡茜驚訝表示：「現在很多人消費ＢＵＦＦＥＴ的能力很強，很少聽說有這樣子的！」她說，若店員有被告知，在現場會柔性勸說，但因為畢竟不想讓客人不高興，是不會罰款或有其他強制動作，「我們基本上會站在相信尊重客人的立場，不會過度干預」。（即時新聞中心／綜合報導）\\xa0\\n這名阿姨遭人拍下，在漢來海港餐廳台中分店自備提袋「掃貨」。翻攝畫面', 'view_cnt': 25865}, {'link': 'http://www.appledaily.com.tw//realtimenews/article/politics/20160511/858297/張善政建議民進黨\\u3000「上台不是為了報仇」', 'category': '政治', 'title': '張善政建議民進黨\\u3000「上台不是為了報仇」', 'time': '2016/05/11 07:55', 'summary': '「藍綠不要再吵了，台灣已經夠慘了！」即將卸任閣揆的張善政，語重心長地對新政府提出建議。\\xa0今日出刊的《聯合報》報導，張善政以即將卸任行政院長的「平民百姓」身分建議民進黨，「有意識型態的事少做，先休養生息，把經濟、產業處理好」，若立刻推課綱、轉型正義等政策，容易讓人覺得「民進黨執政是回來報仇的。」\\xa0張善政認為，課綱、轉型正義等議題不是不該做，而是順序上的差別，「新政府如果頭一、兩年做出政績，大家覺得民進黨有能力，到時再做意識型態的事，民眾也不會排斥。」（王嘉慶／綜合報導）', 'view_cnt': 7624}, {'link': 'http://www.appledaily.com.tw//realtimenews/article/strange/20160511/858296/學生舉頭望窗外\\u3000驚見男女在屋頂上做愛', 'category': '搜奇', 'title': '學生舉頭望窗外\\u3000驚見男女在屋頂上做愛', 'time': '2016/05/11 07:54', 'summary': '俄羅斯基洛夫市(Kirov)日前發生有一對男女爬到一處矮房的屋頂上，當場進行活春宮。據民眾指出，這對男女在做愛時，不僅被附近民眾直擊，相信在旁邊上課的學生，也有看見這場「野戰春風」。\\xa0據英國《每日星報》報導，有民眾指出，這對男女的做愛地點，旁邊剛好有一間學校，他相信學生在上課的時候，只要抬頭一望向窗外，就可以看到這對屋頂上的野合男女。而這名民眾也對這對男女的行為感到氣憤，立刻拍下現場狀況並上傳網路，引發當地鄉民熱烈討論。\\xa0不過警方發言人薩巴琳娜(Anna Shabalina)表示，民眾應該在第一時間報警處理，因為只憑照片裡的影像，難以確認這對男女的身分。（施旖婕／綜合外電報導）\\n女子無恥辱露下體做愛。翻自《每日星報》男子舔女子下體。翻自《每日星報》', 'view_cnt': 36696}, {'link': 'http://www.appledaily.com.tw//realtimenews/article/international/20160511/858291/嚴防毒氣恐攻！紐約地鐵釋放氣體測流向', 'category': '國際', 'title': '嚴防毒氣恐攻！紐約地鐵釋放氣體測流向', 'time': '2016/05/11 07:53', 'summary': '為了防範毒氣恐怖攻擊，美國紐約市地鐵站內本周將進行一系列的防範毒氣攻擊演習。\\xa0美國國土安全局和紐約市大都會運輸局將在中央車站、時報廣場和賓州車站等地點進行一系列的氣體流動測試，測試人員會在地鐵站內釋放特定的氣體，並追蹤他們的動向，但測試氣體無色無味、對民眾健康沒有任何的影響。\\xa0這項為期一個禮拜的測試計畫是要透過釋放這些無色無味的氣體，來評估當地鐵站內出現有害氣體時，對乘客所造成的威脅，研究如何應對有毒物質洩漏事故或化學武器攻擊時相關的應對措施。\\xa0國土安全局科學和技術負責人班斯勒本（Donald Bansleben）表示，「這項測試能讓我們了解毒氣被釋放時在地鐵內的擴散路徑，特別是當列車移動時，氣體在地鐵站內的擴散模式。」\\xa0紐約地鐵的乘客們對周一開始進行的防毒氣測試感受複雜，一些經歷過2001年911恐怖攻擊的紐約客不免回想起當年的緊張。許多乘客表示支 持，認為防範未然是好事，但也有乘客認為測試讓他們驚覺紐約地鐵系統其實很脆弱，複雜的車站和無數通風管道存在許多安全漏洞及隱患。（廖育琳／綜合外電報導）', 'view_cnt': 1120}, {'link': 'http://www.appledaily.com.tw//realtimenews/article/local/20160511/858298/色狼半蹲偷拍\\u3000「腳麻」跑不動被逮', 'category': '社會', 'title': '色狼半蹲偷拍\\u3000「腳麻」跑不動被逮', 'time': '2016/05/11 07:53', 'summary': '活刻，賊星該敗！\\xa0《蘋果》報導，新北市1名33歲無業徐姓男子，9日下午在板橋區三民路一段榮光教會對面馬路，見到路上1名穿短裙年輕貌美的女子，一時見色心起，半蹲在女子後方拿著手機拍攝她的裙下風光。因動作詭異被發現，遭到女子親屬喝斥，徐男見狀馬上拔腿就跑。\\xa0途中卻因腳麻加上穿拖鞋，體力不支跌倒。雖然他解釋這是他第一次偷拍，哀求原諒，但女子仍堅持提告，最後被依妨害秘密罪嫌送辦。（即時新聞中心／綜合報導）\\xa0\\n徐男逃跑的情形。翻攝畫面', 'view_cnt': 4310}, {'link': 'http://www.appledaily.com.tw//realtimenews/article/international/20160511/858221/【有片】誰說瘦子才會跳芭蕾？這隻胖天鵝讓網友瘋狂', 'category': '國際', 'title': '【有片】誰說瘦子才會跳芭蕾？這隻胖天鵝讓...', 'time': '2016/05/11 07:45', 'summary': '（新增動新聞影片）\\xa0你以為跳芭蕾舞一定要有瘦巴巴的身材嗎？美國一名身材圓潤的男舞者最近就打破了這樣的刻板印象，以優雅舞姿和正面積極的態度贏得了觀眾與網友的喝采。\\xa0住在美國賓州的23歲卡瓦諾（Erik Cavanaugh）身材圓潤壯碩，乍看之下可能會覺得他比較適合打美式足球，不過他可是貨真價實的芭蕾舞者。\\xa0卡瓦諾跳芭蕾舞的影片上周四被放到臉書舞者專頁「Worldwidedance」上，立刻遭到網友瘋傳，經過一個周末，點閱率已經超過900萬，許多網友都留言讚賞他的舞姿，更佩服他不懼他人眼光、勇敢跳躍的自信。\\xa0卡瓦諾在接受《富比士》雜誌的訪問時表示，「我知道自己看起來不像一般的舞者，網友可能也不期待我能跳得多高，但我試著不讓外界的聲音干擾自己。」卡瓦諾說自己想要「改變舞者的心態和體態」，所以才勇敢地把自己跳舞的影片和照片放上網與人分享。許多粉絲都留言感謝他說：「你太棒了，感謝你幫助我了解，尺寸和身形不會侷限舞蹈，只有熱情和決心才是跳舞的關鍵。」（廖育琳／綜合外電報導）\\xa0發稿時間 01:14更新時間 07:45\\n翻攝Instagram翻攝Instagram翻攝Instagram翻攝Instagram', 'view_cnt': 5979}, {'link': 'http://www.appledaily.com.tw//realtimenews/article/local/20160511/858294/員工密告有私生子\\u3000老闆娘才知老公養小三', 'category': '社會', 'title': '員工密告有私生子\\u3000老闆娘才知老公養小三', 'time': '2016/05/11 07:44', 'summary': '和老婆攜手創業成功，事業有成卻養小三，還把私生子抱到店裡，員工看不下去才和被蒙在鼓裡的老婆爆料。\\xa0《蘋果》報導，法院調查，基隆市知名的「旺記小籠湯包」是由黃姓男子(45歲)與妻子在16年前創立，兩人婚後育有兩子，當初創立湯包品牌時只做網路團購，因用心經營生意十分興隆，3年前更在基隆市區開設實體店面。\\xa0黃姓老闆與妻子創業成功，是人人稱羨的夫妻，豈料他竟然背著妻子與小三交往，更在外面產下一子，還抱著私生子到店面，員工看不下去向老闆娘告狀，老闆才向妻子坦承：「無法繼續當夫妻！」協議離婚，並表明要與小三共組家庭，妻子不甘受辱怒告求償200萬元，法官審理後判老闆須賠償60萬元，老闆昨得知判決，直說會再上訴。（即時新聞中心／綜合報導）\\xa0\\n基隆「旺記小籠湯包」主打港式湯包、鮮蝦湯包（圖2，翻攝官網）等。陳偉周攝', 'view_cnt': 16124}, {'link': 'http://www.appledaily.com.tw//realtimenews/article/politics/20160511/858292/蔡英文就職典禮舞台\\u3000「怎麼這麼醜」', 'category': '政治', 'title': '蔡英文就職典禮舞台\\u3000「怎麼這麼醜」', 'time': '2016/05/11 07:39', 'summary': '總統、副總統就職典禮主舞台設計以「建醮」為概念，挨批「怎麼這麼醜！」\\xa0今日出刊的《聯合報》報導，曾擔任民進黨文宣部主任的政大教授陳芳明認為，「廟會的東西，不應該放在國家大典上。」他直言舞台設計「太紅、圖案太複雜、剪紙也難看。」而建醮往往是為大型災禍消災的儀式，放在就職典禮「犯忌諱」。\\xa0不過台大戲劇學系教授林鶴宜不認同「建醮犯忌諱」的說法，她指出，每年大甲媽祖遶境，也會辦建醮典禮，「這是一種祝福的心情。」（王嘉慶／綜合報導）', 'view_cnt': 13135}, {'link': 'http://www.appledaily.com.tw//realtimenews/article/local/20160511/858284/少女剛申請上台大\\u3000憂鬱症發作跳樓亡', 'category': '社會', 'title': '少女剛申請上台大\\u3000憂鬱症發作跳樓亡', 'time': '2016/05/11 07:36', 'summary': '18歲王姓女子昨傍晚疑因憂鬱症復發，趁著家中無人時，跑到13樓頂一躍而下。\\xa0今日出版的《自由時報》報導，王女從13樓跳下，撞壞一輛轎車，造成頭部重創、多處骨折，當場慘死。據了解，王女日前申請上台灣大學。王母認屍時崩潰說：「要是沒出門上班就好了！」、「都怪我沒好好照顧你！」警方初步勘驗，住家並未留下遺書，詳細自殺原因仍待釐清。（即時新聞中心／綜合報導）\\xa0再給自己一次機會自殺諮詢專線：0800-788995（24小時）生命線：1995張老師專線：1980', 'view_cnt': 17336}, {'link': 'http://www.appledaily.com.tw//realtimenews/article/nextmag/20160511/858230/【壹週刊】洪文棟兩段婚姻爆\\u3000６年前爆過廟口事件', 'category': '壹週刊', 'title': '【壹週刊】洪文棟兩段婚姻爆 \\u3000６年前爆過...', 'time': '2016/05/11 07:35', 'summary': '78歲的前立委洪文棟，眾所周知有個知名妻子楊麗花。他42歲娶楊麗花之前，結過一次婚，育有3女1男，楊麗花為了當個稱職後媽，終身未生育，夫妻形象鶼鰈情深。\\xa0日前傳出分居消息時，洪文棟很震怒，事後摟著楊麗花合照否認，不料卻引來洪文棟的私生子徐國璋（從母姓）聯繫本刊，要求洪文棟能認他這個兒子。\\xa0當年楊麗花是「歌仔戲第一小生」，嫁給骨科名醫轟動一時，婚宴辦在台北圓山飯店，還創紀錄擠進5,000人觀禮。\\xa0楊麗花與洪文棟當年是透過朋友介紹，在自己開設的青葉餐廳相識。他在娶楊麗花前，也爆與被封是最美麗的主持人白嘉莉論及婚嫁，榮總骨科名醫身旁一直不缺紅粉知己，只是最後選了楊麗花。\\xa0洪文棟和楊麗花每次現身都高調曬甜蜜，更稱〈胭脂馬拄到關老爺〉是兩人的主題曲。\\xa0但楊麗花曾被張小燕問到洪文棟「以前看起來有點花」時，她坦承：「什麼有點花？是很花！但不要下流就好。」她也曾在白冰冰節目替夫婿解釋：「他就是愛交朋友」。\\xa0無論婚前婚後，楊麗花為愛執著，但洪文棟2009年卻曾在基隆廟口被拍到與一女子同吃小吃，當時楊麗花仍以賢內助姿態力挺。\\xa0隔年3月還辦了結婚27週年慶，洪文棟當眾問楊麗花：「老婆！幸福嗎？」她回：「很美滿。」洪文棟馬上兩手比出五五，希望姻緣長久久。\\xa0楊麗花一生傳奇，談感情曾公開說：「幕前我是大眾情人，幕後我永遠只做洪文棟一個人的情人。」據悉，楊麗花花邊極少，可以說一生只愛洪文棟一人，雖她曾被指與另一閩南語劇小生魏少朋有往來，但從未證實。（撰文：宋志民）\\xa0看更多精彩壹週刊請點我\\n【想知道更多，一定要看……】【壹週刊】男提跨海匯錢證據\\u3000洪文棟被爆美國有私生子', 'view_cnt': 13566}, {'link': 'http://www.appledaily.com.tw//realtimenews/article/property/20160511/857833/【買房問蘋果】好建商哪裡找？', 'category': '地產', 'title': '【買房問蘋果】好建商哪裡找？', 'time': '2016/05/11 07:33', 'summary': '讀者李小姐向《蘋果》投書表示，身邊買過房的朋友都說一定要挑好建商，房子才會有保障，但要具備什麼條件才是好建商呢？\\xa0《住展》雜誌企研室經理何世昌表示，每個人對建商好壞標準不一，若從房屋品質判斷，最直接的方法是詢問已購客，實際住過才知道品質好壞，意見也最值得參考。他建議，買房之前可先上網查詢該建商的推案紀錄，再搜尋住戶經驗，多做功課。\\xa0另外，有許多人會在意建商過去有無得獎紀錄，何世昌認為，雖然建商過去某個建案蓋得很好，獲得建築獎項肯定，但不代表之後每個建案品質都很好，當參考即可。何世昌建議，盡量找有售後服務的建商，像是有些建商會提供漏水保固，通常保固年限５~7年，須特別留意要將保固內容詳列契約書中，未來房子若出現問題或有瑕疵須修繕，才有保障。（陳世峰／台北報導）\\xa0【想知道更多，一定要看……】買房問蘋果，有問必答等你問\\xa0來來來！你來問！房地產大小事幫你解答：dr@appledaily.com.tw\\xa0「蘋果掀房事」每周三中午12點半，午餐加好料～\\xa0\\xa0更多房市快訊請看蘋果地產王粉絲團\\n購屋想找好建商，專家建議詢問已購客最準確。資料照片', 'view_cnt': 2182}, {'link': 'http://www.appledaily.com.tw//realtimenews/article/local/20160511/858287/應曉薇遭控壓榨「助理」\\u3000半日薪僅200元', 'category': '社會', 'title': '應曉薇遭控壓榨「助理」\\u3000半日薪僅200元', 'time': '2016/05/11 07:33', 'summary': '台北市議員應曉薇，日前捲入「A助理費」疑雲，雖然應曉薇矢口否認，表示「91歲老母親確實是工作團隊一員，非人頭詐領助理費」，但如今又被助理出面爆料，應曉薇除了A助理費外，還壓榨「黑工」。\\xa0今日出版的《周刊王》報導，一位曾經擔任應曉薇服務團隊的成員出面爆料，指出應曉薇的媽媽根本很少來台北，怎麼可能是工作團隊一員。另外，他也爆料應曉薇聘有多名「非正式助理」，也就是所謂的「黑工」、「地下助理」，這些人有可能是地方樁腳，甚至都印有名片。\\xa0只不過這位爆料者似乎對於擔任應曉薇的「非正式助理」相當不滿，出面抱怨說「每天忙得半死，幾乎沒有休假，周末還要上班，但月薪頂多只有15K。」、「有些論件計酬的更慘，一個早上只有200元。」\\xa0對此指控，應曉薇服務處主任王尊修表示「正式助理人數不一定，應曉薇母親主要負責的是在地方服務彰化鄉親。」、「正是助理全以轉帳方式入薪，非正式地確實是領現金。」(葉國吏/綜合報導)', 'view_cnt': 7795}, {'link': 'http://www.appledaily.com.tw//realtimenews/article/nextmag/20160511/857810/【壹週刊】冏男孩小童星長大後，因為媽媽而害怕蛋炒飯', 'category': '壹週刊', 'title': '【壹週刊】冏男孩小童星長大後，因為媽媽而...', 'time': '2016/05/11 07:30', 'summary': '我是很多年前一部電影《冏男孩》裡的「騙子二號」，目前在讀餐飲科，我從小愛做菜，我媽媽廚藝很好，我喜歡黏著她逛市場、進廚房，媽媽煮的每一道菜都好好吃，我最愛吃她的醬油蛋炒飯，看起來普通，但有一種外面吃不到的奇特味道。\\xa0媽媽也常帶我們出國，升國中二年級的暑假，媽媽又帶我和姊姊去上海看世博會，玩了快一個月，是我們出國最久的一次。回台後有一天晚上，浪漫的媽媽在我房間點了蠟燭，然後說，她要去開刀了。我不敢問是什麼病，但心裡有底，她之前就常肚子痛。開完刀媽媽變得很虛弱，寒假她又帶我們搭船去沖繩玩，但已經需要坐輪椅、插胃管。\\xa0下一個暑假，她就肝癌過世。從生病到過世，媽媽什麼都沒交代，我一直不知道她在想什麼，只能盡量幫忙做家事，或逗她開心。讀高職後，我變得很認真，以前我功課不好，一看書就想睡，後來會強迫自己讀書，因為媽媽生前很重視我的課業，常叮嚀我自動自發。我也利用假日兼拍電影，都會事前讀劇本，一定達到導演要求。\\xa0現在我有兩張餐飲證照，最近還靠教育部的繁星計劃考上台北藝術大學電影創作系，我爸開心得要命，我自己也訝異，我念開南商工，技職體系的學生很難被北藝大這種國立大學錄取。\\xa0我一直不太敢去想媽媽，連她教過我的醬油蛋炒飯，我後來也只做過一次，味道完全不對，那股奇特的、媽媽的味道不見了。不過偶爾想到媽媽，都是出國的快樂回憶，爸爸後來才告訴我，媽媽早就該開刀，卻硬要先帶我們去上海完成旅行。現在想想，媽媽可能早就安排好許多事，包括多陪伴我們、創造更多美好回憶，雖然她一直什麼都沒說。（撰文：簡竹書）「更多其他壹週刊內容請點我」', 'view_cnt': 1588}, {'link': 'http://www.appledaily.com.tw//realtimenews/article/nextmag/20160511/858229/【壹週刊】尹馨鄭人碩鍍金\\u3000脫光打砲起家', 'category': '壹週刊', 'title': '【壹週刊】尹馨鄭人碩鍍金\\u3000脫光打砲起家', 'time': '2016/05/11 07:30', 'summary': '\\u200b這對新的組合，尹馨與鄭人碩，巧的是，他們在作品都裸露很多，而且都有激情的性愛鏡頭。\\xa0尹馨就讀師大期間因為拍攝寫真集「悔過書」一砲而紅，高學歷加上豪乳，讓她成為媒體關注的焦點。2007年尹馨在電影《愛神幫幫我》中，與李康生全裸的69性愛姿勢，大膽到成為經典，2008年尹馨由演員轉為編劇的作品《與男友的前女友密談》拿下金鐘獎最佳迷你劇集編劇獎。\\xa0她接著以《權力過程》獲得台北電影節最佳女配角，以《交錯》入圍首爾電視節最佳女演員；前年以《回家的女人》獲得金鐘獎迷你劇女主角獎。\\xa0鄭人碩則是在15年前演民視的連續劇出道，中間因為家庭的因素，離開演藝圈多年；他近年來再幕後做起，去年以電影《醉‧生夢死》獲得台北電影獎最佳男配角同時入圍金馬獎最佳男配角。其實撇開私生活不談，33歲的他跟尹馨頗配。（撰文：娛樂組）\\xa0看更多精彩壹週刊請點我\\n【想知道更多，一定要看……】【壹週刊】尹馨沾富商勾小開\\u3000黏導演啾大叔', 'view_cnt': 10687}, {'link': 'http://www.appledaily.com.tw//realtimenews/article/international/20160511/858283/在小學擔任工友\\u3000竟公然掐10歲女童屁股', 'category': '國際', 'title': '在小學擔任工友\\u3000竟公然掐10歲女童屁股', 'time': '2016/05/11 07:25', 'summary': '美國華盛頓州瑟斯頓郡（Thurston County）一名小學工友本周涉嫌在超市內當眾掐一名女童屁股，遭警方逮捕被控一級猥褻兒童罪，且遭校方停職處分。\\xa0此案事發在瑟斯頓郡雷西（Lacey）地區馬文東北路（Marvin Road NE）1234號的連鎖超市「Safeway」裡，周日下午2點左右一名10歲女童與母親一起逛超市時，26歲的嫌犯克里斯帝納（David T. Cristina）竟在大庭廣眾之下伸手捏女童的臀部。\\xa0女童母親事後報警，警方調閱店內監視畫面，並追查嫌犯在超市裡所使用的「Safeway」購物卡基本資料，最後成功將他逮捕歸案。\\xa0克里斯帝納現於山景市小學（Mountain View Elementary）擔任工友，雖然他平常負責值夜班，多是學生已經放學的時間、跟學生沒有接觸，但學校目前已經將他停職處分。（廖育琳／綜合外電報導）', 'view_cnt': 2262}, {'link': 'http://www.appledaily.com.tw//realtimenews/article/local/20160511/858285/鄭捷槍決第2槍\\u3000竟不停冒出泡泡', 'category': '社會', 'title': '鄭捷槍決第2槍\\u3000竟不停冒出泡泡', 'time': '2016/05/11 07:25', 'summary': '鄭捷昨天共被開3槍才斃命，執行這一刻究竟狀況如何？\\xa0《蘋果》報導，昨天執行的檢察官錢漢良接受記者獨家訪問，他說鄭捷在槍決前不斷要求想喝水，而在執行時，法警開了第一槍後，趴在沙堆棉被上的鄭捷還不斷在動，法警於是再補第二槍「第二槍打下去好像有泡泡，可能有傷到，可能肺部有被擊中到，第三槍打下去就死亡了」（即時新聞中心／綜合報導）\\xa0\\n執行檢察官還原槍決現場', 'view_cnt': 36457}, {'link': 'http://www.appledaily.com.tw//realtimenews/article/local/20160511/858280/鄭捷遭火速槍決\\u3000司改會說「毛毛的」', 'category': '社會', 'title': '鄭捷遭火速槍決\\u3000司改會說「毛毛的」', 'time': '2016/05/11 07:24', 'summary': '鄭捷火速被槍決，將他判死定讞的最高法院法官黃瑞華獲知後感到震驚，不過她說，執行死刑是法務部的權責，不方便多加評論；民間司改會執行長高榮志則對法務部長羅瑩雪急著槍決死囚感到「毛毛的」。\\xa0今日出版的《中國時報》報導，高榮志認為，不光是判處死刑應謹慎對待，執行死刑犯槍決也是重大事件，因為攸關執政者對死刑政策與態度，羅瑩雪只剩幾天的任期，卻趕著簽下執行令槍決鄭捷，她的思考邏輯及判斷讓人無法理解。（即時新聞中心／綜合報導）', 'view_cnt': 24805}, {'link': 'http://www.appledaily.com.tw//realtimenews/article/politics/20160511/858286/馬總統圈選中研院長\\u3000因他堅持這些事', 'category': '政治', 'title': '馬總統圈選中研院長\\u3000因他堅持這些事', 'time': '2016/05/11 07:24', 'summary': '任期僅剩10天，馬英九總統為何要在此時決定中研院長人選？\\xa0今日出刊的《聯合報》報導，馬總統傾向親自了解3位中研院長候選人的理念和意願後，圈選院長。\\xa0據了解，站穩法律基礎、回應社會期待，以及「不希望把爛攤子留給新總統」，是馬總統的主要考量。\\xa0圈選中研院長屬總統職權，馬總統也有此體認，他認為如果自己不依法圈選，外界一定會批評他「擺爛」。\\xa0馬曾對友人表示，中研院長遴選過程紛紛擾擾，現在送來的3人名單，甚至傳出有人退選，「他們有沒有意願，我總要當面確認一下吧？不然怎麼圈選？」（王嘉慶／綜合報導）', 'view_cnt': 8085}, {'link': 'http://www.appledaily.com.tw//realtimenews/article/local/20160511/858278/他潛入母校看色情網站\\u3000還做這件事', 'category': '社會', 'title': '他潛入母校看色情網站\\u3000還做這件事', 'time': '2016/05/11 07:10', 'summary': '余姓男子沒錢上網咖，上周日凌晨3點潛入母校輔導室，用老師的電腦逛色情網頁，還偷走老師的零錢，最後趴在桌上睡著。警方到場後，將余男依竊盜罪嫌移送法辦。\\xa0今日出版的《自由時報》報導，21歲余男就讀國小時常蹺家，當時是學校輔導教室的常客，他上月底跟家人吵架後被趕出門，余男四處流浪，8日凌晨睡不著，想到自己以前常去的輔導教室，有電腦、還有冷氣可吹，決定潛入母校。他用電腦上色情網站，看完後在桌上睡著，返校加班的輔導老師嚇得啟動保全警報，余男也被嚇醒，躲到桌子底下。（即時新聞中心／綜合報導）', 'view_cnt': 8373}, {'link': 'http://www.appledaily.com.tw//realtimenews/article/international/20160511/858277/百年家業後繼無人\\u3000舊金山134年酒莊黯然歇業', 'category': '國際', 'title': '百年家業後繼無人\\u3000舊金山134年酒莊黯然...', 'time': '2016/05/11 07:09', 'summary': \"美國加州舊金山灣區門洛帕克（Menlo Park）一間歷史134年的老酒舖因為後繼無人，將於今年夏天歇業，讓當地許多老顧客不捨。\\xa0「Beltramo's Wine and Spirits」酒舖的2位老闆年事已高，加上子孫都沒有意願繼承家業，因此忍痛決定在今年夏天結束營業。總經理休伊特（Diana Beltramo Hewitt）表示，「是時候了，我伯伯81歲，我爸爸80歲，他們應該去釣釣魚了。雖然我非常享受在這裡的時光，但我並沒有準備要接手整門生意。」\\xa0休伊特過去5年協助家族打理酒舖生意，她的4個兄弟姊妹都從事與酒類無關的行業，家族的再下一代年紀又太小，她說：「我們對酒鋪關門都覺得難過，但在最光榮的時刻引退，我們可以帶着很多美好回憶，驕傲地畫下句點。」\\xa0得知這家1882年創立的百年酒舖就要停業，很多老顧客都特別來關心，休伊特說老客戶們的回應都十分正面，一些認識我伯伯及爸爸的顧客都很高興他們未來有更多時間享受人生。\\xa0休伊特已經為這個自1935年便開始經營的店舖找到新買家，但新買家將不會再經營酒鋪生意。（廖育琳／綜合外電報導）\", 'view_cnt': 7631}, {'link': 'http://www.appledaily.com.tw//realtimenews/article/local/20160511/858279/鄭捷聽到要槍決\\u3000淡淡地說了這個字', 'category': '社會', 'title': '鄭捷聽到要槍決\\u3000淡淡地說了這個字', 'time': '2016/05/11 07:03', 'summary': '兩年前犯下北捷殺人案的鄭捷，昨天伏法。\\xa0今日出刊的《聯合報》報導，鄭捷昨晚8時才被告知稍後執行槍決，他神色一如往常僅回覆「好。」\\xa0擔任特約法醫的鄭翠芬透露，她詢問鄭捷是否要打麻藥，鄭捷說：「要！」她追問是否怕痛，他點點頭，她斥責「那些被害的人也很痛」，鄭未回應。鄭翠芬隨後再問要不要向被害家屬道歉，鄭捷只回「講過了。」（王嘉慶／綜合報導）', 'view_cnt': 233930}, {'link': 'http://www.appledaily.com.tw//realtimenews/article/local/20160511/858278/他潛入母校看色情網站\\u3000還做這件事', 'category': '社會', 'title': '他潛入母校看色情網站\\u3000還做這件事', 'time': '2016/05/11 07:10', 'summary': '余姓男子沒錢上網咖，上周日凌晨3點潛入母校輔導室，用老師的電腦逛色情網頁，還偷走老師的零錢，最後趴在桌上睡著。警方到場後，將余男依竊盜罪嫌移送法辦。\\xa0今日出版的《自由時報》報導，21歲余男就讀國小時常蹺家，當時是學校輔導教室的常客，他上月底跟家人吵架後被趕出門，余男四處流浪，8日凌晨睡不著，想到自己以前常去的輔導教室，有電腦、還有冷氣可吹，決定潛入母校。他用電腦上色情網站，看完後在桌上睡著，返校加班的輔導老師嚇得啟動保全警報，余男也被嚇醒，躲到桌子底下。（即時新聞中心／綜合報導）', 'view_cnt': 8380}, {'link': 'http://www.appledaily.com.tw//realtimenews/article/international/20160511/858277/百年家業後繼無人\\u3000舊金山134年酒莊黯然歇業', 'category': '國際', 'title': '百年家業後繼無人\\u3000舊金山134年酒莊黯然...', 'time': '2016/05/11 07:09', 'summary': \"美國加州舊金山灣區門洛帕克（Menlo Park）一間歷史134年的老酒舖因為後繼無人，將於今年夏天歇業，讓當地許多老顧客不捨。\\xa0「Beltramo's Wine and Spirits」酒舖的2位老闆年事已高，加上子孫都沒有意願繼承家業，因此忍痛決定在今年夏天結束營業。總經理休伊特（Diana Beltramo Hewitt）表示，「是時候了，我伯伯81歲，我爸爸80歲，他們應該去釣釣魚了。雖然我非常享受在這裡的時光，但我並沒有準備要接手整門生意。」\\xa0休伊特過去5年協助家族打理酒舖生意，她的4個兄弟姊妹都從事與酒類無關的行業，家族的再下一代年紀又太小，她說：「我們對酒鋪關門都覺得難過，但在最光榮的時刻引退，我們可以帶着很多美好回憶，驕傲地畫下句點。」\\xa0得知這家1882年創立的百年酒舖就要停業，很多老顧客都特別來關心，休伊特說老客戶們的回應都十分正面，一些認識我伯伯及爸爸的顧客都很高興他們未來有更多時間享受人生。\\xa0休伊特已經為這個自1935年便開始經營的店舖找到新買家，但新買家將不會再經營酒鋪生意。（廖育琳／綜合外電報導）\", 'view_cnt': 7631}, {'link': 'http://www.appledaily.com.tw//realtimenews/article/local/20160511/858279/鄭捷聽到要槍決\\u3000淡淡地說了這個字', 'category': '社會', 'title': '鄭捷聽到要槍決\\u3000淡淡地說了這個字', 'time': '2016/05/11 07:03', 'summary': '兩年前犯下北捷殺人案的鄭捷，昨天伏法。\\xa0今日出刊的《聯合報》報導，鄭捷昨晚8時才被告知稍後執行槍決，他神色一如往常僅回覆「好。」\\xa0擔任特約法醫的鄭翠芬透露，她詢問鄭捷是否要打麻藥，鄭捷說：「要！」她追問是否怕痛，他點點頭，她斥責「那些被害的人也很痛」，鄭未回應。鄭翠芬隨後再問要不要向被害家屬道歉，鄭捷只回「講過了。」（王嘉慶／綜合報導）', 'view_cnt': 234384}, {'link': 'http://www.appledaily.com.tw//realtimenews/article/local/20160511/858276/鄭捷跟性侵犯室友說這些\\u3000嚇得對方換舍房', 'category': '社會', 'title': '鄭捷跟性侵犯室友說這些\\u3000嚇得對方換舍房', 'time': '2016/05/11 06:53', 'summary': '鄭捷昨晚執行死刑，昨晚8時，台北看守所管理員到殺人魔鄭捷的牢房，告知「時候到了」，鄭捷回了一聲「喔」，態度冷靜地令人驚訝。\\xa0今日出版的《中國時報》報導，鄭捷收押北所719天，不管一審遭判死，或上月判死定讞，他照常吃飯、打球、看小說。自羈押以來，他拒絕到工廠工作，每天有30分鐘打球放封，除外出開庭，其餘時間都在舍房內看書、發呆。鄭捷換過多次舍房，一度與性侵犯當室友，口出狂言訴說殺人理念，嚇得室友晚上不敢睡覺，向法官祈求能換舍房；他最後的室友，是犯下律師周德勝命案的死刑犯蕭仁俊，未再更換。（即時新聞中心／綜合報導）', 'view_cnt': 120870}, {'link': 'http://www.appledaily.com.tw//realtimenews/article/local/20160511/858270/中國姊妹花賣淫吸金\\u3000來台因為「比較賺」', 'category': '社會', 'title': '中國姊妹花賣淫吸金\\u3000來台因為「比較賺」', 'time': '2016/05/11 06:47', 'summary': '本來想要來台灣撈一筆，想不到最後「血本無歸」！\\xa0今日出刊的《自由時報》報導，65歲杜男在雙北地區租下旅館經營應召站，提供「一樓一鳳」的性交易服務，還在各大網站刊登女子清涼照攬客，永和分局警方大前晚上門查緝，將杜男、4名中國賣淫女及2名嫖客帶回偵辦。\\xa0其中一對33、28歲的姊妹來自中國重慶，在中國擔任百貨公司櫃姐，上月底藉觀光名義來台賣淫，兩人泣訴家中生活困苦，本來以為「來台灣賺比較快」，想不到現在根本是血本無歸了。\\xa0訊後警方依妨害風化罪嫌將杜男移送法辦，賣淫女子及嫖客則依社會秩序維護法開罰1500元，中國姐妹花將交由移民署遣送回去。（張鈜閔／綜合報導）', 'view_cnt': 21268}, {'link': 'http://www.appledaily.com.tw//realtimenews/article/local/20160511/858274/鄭捷要求打麻藥\\u3000法醫藉機回嗆一句話', 'category': '社會', 'title': '鄭捷要求打麻藥\\u3000法醫藉機回嗆一句話', 'time': '2016/05/11 06:47', 'summary': '鄭捷冷酷，實際上卻很怕痛。\\xa0《中國時報》報導，新光醫院乳房外科主任鄭翠芬受命擔任槍決的法醫，她表示，鄭捷在槍決前，一點害怕反應都沒有，一如往常的冷漠，沒有表情。她問鄭捷「最後要不要跟被害人家屬道歉？」鄭捷冷回：「我道過歉了」。\\xa0鄭翠芬依例問鄭捷要不要打麻藥，曾揚言快點槍斃的他，還是怕痛，要求注射麻醉劑，鄭翠芬斥責「被害的人也很痛」，鄭捷未再答話，鄭翠芬隨後再問鄭捷，是否要向被害家屬道歉，他還是回嗆「講過了」，死前仍不願對被害家屬做最後一次道歉，似乎毫無悔意。\\xa0鄭翠芬為鄭捷打麻醉劑，接著在左後背劃圓圈標出開槍部位，交由法警朝鄭捷背部開槍後，確認鄭捷死亡後，由工作人員將遺體送往殯儀館。鄭翠芬表示，為鄭捷打麻藥，有人有不同看法，認為不應打，讓他也嘗到死亡痛苦。（即時新聞中心／綜合報導）', 'view_cnt': 136825}, {'link': 'http://www.appledaily.com.tw//realtimenews/article/local/20160511/858275/鄭捷判死後擺爛\\u3000北所「送走他」很開心', 'category': '社會', 'title': '鄭捷判死後擺爛\\u3000北所「送走他」很開心', 'time': '2016/05/11 06:45', 'summary': '鄭捷走了，台北看守所相當開心。\\xa0根據《聯合新聞網》報導，北所人員早就對鄭捷相當不滿，除了他曾諷刺法務部矯正署應改名「懲罰署」，被判死刑後的態度更是糟糕。\\xa0所方人員表示，鄭捷在死刑定讞後配合度很差，什麼事都擺爛不做；多數人對他殘殺無辜民眾看不下去，「早日槍決是好事」。\\xa0所方人員私下透露，鄭捷罪證明確，在看守所內卻過得很舒服，現在執行死刑剛好，對隨機殺人犯有警惕效果。（王嘉慶／綜合報導）', 'view_cnt': 88985}, {'link': 'http://www.appledaily.com.tw//realtimenews/article/nextmag/20160511/857884/【壹週刊】斷群創後路\\u3000郭台銘要段行建轉救夏普', 'category': '壹週刊', 'title': '【壹週刊】斷群創後路\\u3000郭台銘要段行建轉救...', 'time': '2016/05/11 06:38', 'summary': '上週二，台灣民營製造業第一以及第八大的鴻海及群創先後公告今年董監改選的候選人名單。過去一向被視為由郭台銘一人獨斷的鴻海，今年找了財務高手高盛前亞洲副董事長宋學仁、新創專家創新工場創始人李開復、生技大老國光生技董事長詹啟賢、機器人專家台大電機工程學系暨資訊工程學系教授傅立成，等四位專家進入董事會，外界對於新安排一片叫好。\\xa0不過，群創的董監陣容，卻暗藏玄機。由於一年多前，郭台銘就曾打算改組群創，導致逼退段行建的傳言四起，儘管雙方否認，但此次段行健不在群創董監名單上，印證他今年真的要卸任了。\\xa0今年已六十九歲，曾被郭台銘稱為台灣面板業第一人的段行建，是否就這樣卸甲歸田、退隱山林？廉頗老矣，雖有尚能飯否之慨，但在正急著拯救夏普的郭台銘眼中，段行建大半生在面板界戎馬倥傯的經驗，正是他需要倚重的。\\xa0據本刊調查，對夏普去年可能創下三千億日圓鉅額虧損而大傷腦筋的郭台銘，正想盡辦法調集重臣大軍們出馬營救。雖然他早已安排鴻海知日派大將戴正吳與夏普經營團隊周旋，但造成夏普嚴重虧損的兩大包袱—面板與太陽能兩大事業，卻非戴正吳的專長。因此，這次趁著群創改組，順勢將段行建請出來，打算繼續重用這位老將。「郭董不只一次的說，段兄(段行建)是他最敬重的人。因此，郭董規劃的新局，一定有段董的角色。」知情人士對本刊說。\\xa0如何統整手中新台幣八千億營收的面板王國(含夏普、群創以及日本SDP堺工廠)，得以對抗如三星、LG Display、京東方等擁有韓國與中國國家隊支援的強敵，是郭台銘的首要考量。按照郭台銘整合台日面板事業的規畫，夏普與日本堺工廠(SDP)仍以先進技術、專利以及高階產能為主，目標是對抗日、韓，並繼續爭取大客戶蘋果的下一代iPhone訂單。\\xa0只不過，在六月夏普股東會召開前，郭台銘對夏普的控制力相當薄弱，老夏普人的反撲力道仍強。為不打草驚蛇。郭台銘先卸下段行建群創董座，轉任鴻海顧問，再伺機出手。(撰文:曹以斌)\\xa0「更多其他壹週刊內容請點我」\\n鴻海董事長郭台銘(右二)讓段行建(右一)卸下群創董座，打算請段轉救夏普(資料照片)', 'view_cnt': 11998}, {'link': 'http://www.appledaily.com.tw//realtimenews/article/nextmag/20160511/857927/【壹週刊】亞泥西進大挫敗\\u3000徐旭東中國水泥前十大夢碎', 'category': '壹週刊', 'title': '【壹週刊】亞泥西進大挫敗\\u3000徐旭東中國水泥...', 'time': '2016/05/11 06:37', 'summary': '遠東集團旗下的亞洲水泥，為拓展水泥版圖，2011年投資中國第六大水泥公司「山水水泥」，這幾年砸下153億台幣，取得2成股權。\\xa0不料半路殺出程咬金，去年山水爆發內鬨，河南首富「天瑞集團」董事長李留法趁勢大買股票，一舉躍升為最大股東，更在去年12月發動奇襲，改選董事，將亞泥人馬全部掃地出門，這讓徐旭東想藉由入主山水，擠進中國水泥前十大，並一舉超越台灣水泥業龍頭台泥的如意算盤落空。\\xa0本刊致電大陸天瑞集團，集團公共關係總監蔡蔚海表示，他們收購山水水泥的過程合乎於法，天瑞集團是第一大股東，也希望能進駐董事會，去年共召開三次股東會，前二次受到亞泥與中建材阻撓，直到第三次獲山水投資支持才成功。\\xa0此外，亞泥股東向本刊投訴，亞泥投資山水水泥累計高達新台幣一五三億元，但在亞泥財報，看不到任何投資山水水泥失利訊息。\\xa0根據股東提供的資料，今年三月底香港會計師對山水水泥出具「無法表示意見」之保留意見，即對山水水泥繼續經營有重大疑慮，報告指出，該公司新舊任董事交接不清、虧損金額龐大、流動負債超出流動資產近九００億新台幣等問題，皆嚴重威脅公司經營。（撰文：黃士庭）\\xa0「更多其他壹週刊內容請點我」\\xa0\\n徐旭東的亞洲水泥投資中國「山水水泥」，不料遭大股東中國「天瑞集團」反將一軍。（資料照片）', 'view_cnt': 6212}, {'link': 'http://www.appledaily.com.tw//realtimenews/article/international/20160511/858267/金氏紀錄最老貓出爐\\u3000相當人類136歲', 'category': '國際', 'title': '金氏紀錄最老貓出爐\\u3000相當人類136歲', 'time': '2016/05/11 06:34', 'summary': '全世界年紀最大的貓是誰?金氏世界紀錄公司周二宣布，現存最老貓的頭銜由美國德州的暹羅貓史酷特（Scooter）拿下，出生於1986年的牠今年已經30歲了，相當於是人類年齡的136歲，可說是相當有福氣。\\xa0史酷特的主人佛洛伊德（Gail Floyd）說史酷特喜歡吃雞肉，也喜歡在洗澡之後享受吹風機吹乾身體。史酷特是一隻旅遊經驗豐富的貓，美國50州牠去過45州，主人到安養院看母親的時候牠也都會跟著去。\\xa0上一個「世界現存最老貓」的紀錄保持者是住在奧勒岡州的26歲柯杜羅（Corduroy），不過史上最長壽貓的頭銜還是由德州已故的38歲奶油泡芙（Crème Puff）所保持。（廖育琳／綜合外電報導）\\n翻攝英國《每日郵報》翻攝英國《每日郵報》翻攝英國《每日郵報》', 'view_cnt': 4464}, {'link': 'http://www.appledaily.com.tw//realtimenews/article/local/20160511/858269/一周就執行\\u3000死囚最快遭槍決的是他', 'category': '社會', 'title': '一周就執行\\u3000死囚最快遭槍決的是他', 'time': '2016/05/11 06:34', 'summary': '鄭捷昨晚伏法，從判決定讞至槍決僅18天，而史上最快的是75年陳雲輝所犯下的分屍案，定讞7天就槍決。另犯下槍擊命案的前屏東縣議長鄭太吉，也在定讞19天遭槍決。\\xa0今日出版的《自由時報》報導，有檢察官指出，70至80年代，當時只要判決定讞，執行死刑的速度很快，大概1個月內就會執行完畢，判決後1星期左右執行槍決的死囚也所在多有。但95年起，創下4年零死刑執行紀錄，直到99年才恢復槍決，但執行速度趨緩，有死囚拖了16年未伏法。（即時新聞中心／綜合報導）', 'view_cnt': 28924}, {'link': 'http://www.appledaily.com.tw//realtimenews/article/international/20160511/858273/五月十一日世界各報頭條搶先報', 'category': '國際', 'title': '五月十一日世界各報頭條搶先報', 'time': '2016/05/11 06:34', 'summary': '美國《紐約時報》頭條川普轉變中\\u3000試圖爭取共和黨金援美國地產大亨川普變成共和黨唯一最有力的總統參選人，但在初選期間川普就已經燒掉4千萬美元，如果還要繼續戰下去，撐到秋季最激烈的選舉活動，川普表示勢必還要花上15億美元。但川普表示他會爭取共和黨的金援，現在的他正試圖轉變形象，以爭取其他共和黨人的支持。\\xa0美國《華盛頓郵報》頭條印度鄉村的野蠻正義她是一名年約13~15歲的女孩，在6名村里長老的「監視」之下，被實行鞭刑。她的罪過是，被親生父親性侵。在印度鄉村裡，有很多女孩跟她一樣有相同遭遇，她沒有上學，一直跟隨父親的雜技團，慘遭父親性侵，卻要被「懲罰」。\\xa0英國《泰晤士報》頭條美國防外交首長警告\\u3000望英國人不要選擇脫歐英國脫歐公投將在下月舉行，但有13位美國前國防與安全高層投書至《泰晤士報》，警告如果英國一旦脫離歐盟，不僅會失去在國際間的影響力，更會嚴重削弱歐洲勢力。\\xa0日本《朝日新聞》頭條歐巴馬27日訪問廣島\\u3000首位美現任總統訪原爆地美國總統歐巴馬確定在本月下旬到日本出席7大工業國集團(G7)高峰會時，訪問廣島，也將成為首位訪問原爆地的美國現任總統，宣示無核世界的理念。\\xa0南韓《朝鮮日報》頭條世界的政治\\u3000憤怒的逆流美國地產大亨川普在傳統政壇上被視為「異類」，他的言詞犀利，常語出驚人。而在菲律賓，有著「菲版川普」封號的新當選總統杜特蒂，一樣常說出「驚世語錄」，言論招致廣泛批評。\\xa0（施旖婕／綜合外電報導）\\n美國《華盛頓郵報》頭條：印度鄉村的野蠻正義。英國《泰晤士報》頭條：美國防外交首長警告\\u3000望英國人不要選擇脫歐。日本《朝日新聞》頭條：歐巴馬27日訪問廣島\\u3000首位美現任總統訪原爆地。南韓《朝鮮日報》頭條：世界的政治\\u3000憤怒的逆流。', 'view_cnt': 1964}, {'link': 'http://www.appledaily.com.tw//realtimenews/article/nextmag/20160511/858228/【壹週刊】尹馨沾富商勾小開\\u3000黏導演啾大叔', 'category': '壹週刊', 'title': '【壹週刊】尹馨沾富商勾小開\\u3000黏導演啾大叔', 'time': '2016/05/11 06:31', 'summary': '尹馨的情慾世界向來既坎坷又綺情，早年她身邊老黏著小開與富商，近來則改吃導演及文創大叔，守備範圍相當寬廣。\\xa0鄭人碩之前曾經私下透露，正在暗戀一名圈內的女星，外界全猜就是尹馨。而尹馨拒絕的理由，正是「直覺他有女友」的最糟狀況。之前鄭人碩在拍完張作驥的得獎電影《醉‧生夢死》時，跟同戲的王靖婷交往3年後分手，但他們確實藕斷絲連，仍然有簡訊聯絡。\\xa0其實尹馨面對鄭人碩殷勤示好，加上旁人不斷地大敲邊鼓，加上自己也單身，最後很配合地說「好啦，以後有空可以喝咖啡。」結果喝咖啡變成了看電影加上喝酒，被本刊給逮個正著；回顧尹馨緋聞，35歲的她常周旋不同男人間，但很少承認交往，檯面上只肯認馬維辰跟立委之子林益邦兩位男友；把她當寶貝的胖男一向是她的菜。\\xa0另外尹馨也曾情陷有才華的人。之前的導演范揚仲雖然不胖，但得過獎的他頗符合後者的條件。其它還有中年文創大叔Edison，但2年多就退回朋友的位置。感情之路走得並不順遂。（撰文：娛樂組）\\xa0看更多精彩壹週刊請點我\\n【想知道更多，一定要看……】【壹週刊】尹馨鄭人碩鍍金\\u3000脫光打砲起家', 'view_cnt': 10451}, {'link': 'http://www.appledaily.com.tw//realtimenews/article/local/20160511/858271/鄭捷第一槍還在抽\\u3000法警再補2槍斃命', 'category': '社會', 'title': '鄭捷第一槍還在抽\\u3000法警再補2槍斃命', 'time': '2016/05/11 06:26', 'summary': '鄭捷犯案後自稱因為怕痛不敢自殺，沒想到，他最後一程反倒非一槍斃命。\\xa0《蘋果》報導，當鄭捷被帶往刑場後，由女法醫幫鄭捷注射麻醉藥，並將鄭捷帶往沙堆，讓他趴在預先準備好鋪著棉被的沙堆上，直到鄭捷陷入昏迷後，槍手8時47分朝鄭捷的背部心臟處開了第1槍，但鄭仍在抽動，2分鐘後再開第2槍，鄭仍有氣息，直到8時51分，鄭捷被開第3槍才一動也不動，9時11分，由法醫相驗確認鄭捷已無氣息，確定伏法。\\xa0《中國時報》報導，晚間8時47分，法警持槍朝鄭捷心臟部位開槍後，法醫「驗屍」發現鄭捷尚未斷氣，且還有微弱心跳，檢察官再命法警補開第2槍，由於鄭捷心臟疑較一般人偏移，2槍仍未斃命，8時50分，法警再開第3槍，法醫相驗確定殺人魔已死。（即時新聞中心／綜合報導）', 'view_cnt': 75930}, {'link': 'http://www.appledaily.com.tw//realtimenews/article/nextmag/20160511/858196/【壹週刊】檢追復航南港空難真相\\u3000ATR驚爆系統重大瑕疵', 'category': '壹週刊', 'title': '【壹週刊】檢追復航南港空難真相\\u3000ATR驚...', 'time': '2016/05/11 06:24', 'summary': '復興航空去年2月發生南港空難，造成43人死亡，飛安會經過調查後，去年7月初步認定，是駕駛在慌亂中誤關發動機，導致飛機失去動力墜毀，最終調查報告原定今年4月出爐，但相關單位發現，除了人為疏失外，復航這款ATR 72-600型客機系統存在著重大瑕疵，當兩具發動機都失效時，若駕駛依規定跟著「飛行導引儀」操控飛行，反而造成失速墜毀，駕駛憑藉經驗飛行，飛機才能平安迫降。\\xa0為了追查真相，承辦檢察官日前特別在國內進行模擬飛行，本刊也遠赴泰國曼谷的ATR模擬機訓練中心實測，結果都證實ATR系統瑕疵的確存在！\\xa05月6日，士林地檢署檢察官黃睦涵在民航局官員陪同下，悄悄前往國內唯一擁有ATR模擬機的長榮航空訓練中心，針對復興航空ATR72-600型客機失事前的所有狀況，進行模擬測試，結果有驚人發現。\\xa0知情人士透露，檢察官的測試顯示，在相同情況下，ATR72-600型客機竟出現3大系統瑕疵，一是2具發動機中的1具失效時，自動駕駛系統會跳開，增加駕駛的工作負荷；二是沒失效的發動機扭力會突然提升，為避免發動機過熱，駕駛需微收油門，但慌亂中可能收錯，造成兩具發動機同時失效；第三也是最大的瑕疵，亦即2具發動機都失效時，駕駛若依照「飛行導引儀」的十字座標飛行，反而會導致失速，飛機將完全失控墜機；若駕駛不靠「飛行導引儀」，而是憑著經驗目視飛行，才能成功迫降。\\xa0本刊調查，ATR72-600型客機的「飛行導引儀」有問題，早在去年11月28日，寮國飛安會公布的《寮國航空QV301班機空難最終調查報告》已獲得證實。最終報告的「事件肇因」明確指出，飛行導引儀（Flight Director）的十字座標，雖設計符合邏輯，但重飛時並不適用。\\xa0雖然復航南港空難並非在重飛時墜機，但從多次模擬機的飛行測試顯示，該款飛機的「飛行導引儀」，確實存在系統瑕疵。本刊4月底也曾遠赴泰國曼谷的AATC（Asian Aviation Training Center）模擬機訓練中心，進行與檢察官相同的測試，結果都一模一樣。\\xa0本刊調查，為瞭解南港空難的真正原因，飛安會去年曾赴ATR法國原廠，進行模擬機測試，是否發現相關系統瑕疵，無法得知。但可以確定的是，民航局今年2月曾到長榮航空的ATR模擬機訓練中心測試，當時即發現前述3大瑕疵，並在今年3月初公開透露：「復航南港空難可能與飛機設計不良有關。」\\xa0民航局官員的說法，讓復興航空驚覺有異，為了探求真相，今年3月中旬，復航特別指派一組資深正、副駕駛，進行多次模擬測試飛行，也得到同樣的答案。\\xa0今年4月26日，本刊也前往曼谷AATC模擬機訓練中心，並找來曾任ATR法國原廠飛行教官、飛行資歷超過40年的Robert Allemand（法國籍），及曾任立榮航空ATR72-600型客機副駕駛、現為自由機師的Frank Ting（台灣籍）擔任正、副駕駛，進行模擬機飛行測試。（撰文：丁國鈞）\\xa0「更多其他壹週刊內容請點我」', 'view_cnt': 40298}, {'link': 'http://www.appledaily.com.tw//realtimenews/article/local/20160511/858264/不只想喝水\\u3000鄭捷臨刑前的願望曝光', 'category': '社會', 'title': '不只想喝水\\u3000鄭捷臨刑前的願望曝光', 'time': '2016/05/11 06:23', 'summary': '犯下台北捷運連續殺人案的鄭捷昨日伏法，臨死前的最後一句話是「想喝水」，但除此之外他其實還有一個願望。\\xa0今日出刊的《自由時報》報導，鄭捷友人透露，得知要被槍決時，鄭捷顯得很訝異，神情難過表示，希望能在執行前能夠「抱抱父母」。\\xa0因為執行死刑是傍晚5點多才決定，看守所來不及為他準備刑前特餐，只給他了一個3、4樣菜色的控肉便當，鄭捷吃了三分之二，沒有碰為他準備的高粱酒、香菸，喝光了一小瓶礦泉水。（張鈜閔／綜合報導）\\xa0\\n【想知道更多，一定要看……】槍決前不只要求喝水\\u3000鄭捷還有遺言', 'view_cnt': 138191}, {'link': 'http://www.appledaily.com.tw//realtimenews/article/nextmag/20160511/857963/【壹週刊】掃毒酒女換戰場\\u3000摩鐵Ｋ趴直擊', 'category': '壹週刊', 'title': '【壹週刊】掃毒酒女換戰場\\u3000摩鐵Ｋ趴直擊', 'time': '2016/05/11 06:21', 'summary': '近日多起震驚社會的兇殺案件，都與兇嫌吸毒有關，警方不敢大意，逕行展開大規模掃毒行動，此舉讓台北市多家原本與毒品牽扯不清的酒店紛紛自清，把俗稱「K桌」的吸毒客請出店外，但是上有政策下有對策，沉溺於毒品的尋歡客紛紛轉戰各大汽車旅館，就連部分原本在酒店坐檯的小姐，也跟著轉換跑道成了全職傳播妹，無視吸毒暴斃及遭客人性侵的潛藏危險，在汽旅內脫衣陪搖，本刊透過關係，直擊荒唐的汽旅「K桌」尋歡過程。\\xa0酒客阿威是台北的酒店通，當酒店天天都有警察上門之際，在上週四他卻熟門熟路的帶著本刊記者，來到新北市一家汽車旅館，同行的還有五男五女，進入房間後，五個原本看來相當清純的小女生，嘻嘻哈哈搶著衝進廁所，出來後個個變了樣。其實這些女孩原來都在酒店上班，每一個年紀都只有二十出頭，最近才跟著經紀充當傳播妹，轉戰摩鐵陪客，換裝後沒多久，其中一名綽號小D的女孩突然開口：「有沒有『褲子』（K他命）啊，這樣不夠high耶。」\\xa0旁邊衣著清涼，臉蛋看來相當稚氣的Eva，迅速從懷裡拿出幾個透明塑膠袋出來，裏頭就是白色的K粉，阿威當場塞給她一張千元大鈔，Eva堆著笑容收下，阿威及其他朋友立刻開始認真拿電話卡壓碎K粉，細心捲入香菸中做成「K菸」，接著一一分給在場所有人。Eva叼著菸，整個人躺在地上，嘴裡喃喃自語不知說什麼，一旁友伴似乎在旁想安慰，她卻甩開對方大吼：「不要煩我啦！不要煩我啦！現在感覺正好飛耶。」音樂High到最高點時，不知誰突然大喊：「我要比基尼消失不見！」\\xa0泳池裡的美眉竟也聽話地順著樂曲，邊跳邊轉身背對大家，一瞬間突然就將胸罩釦子蹦開，僅用手遮胸前扭腰擺臀，沒多久雙手不再環抱，還順著音樂舉了起來，手腳也不忘繼續熱舞。由於摩鐵房間大都是獨棟的，不太會有閒雜人闖入，私密性夠、坪數大、設施又多，不只游泳池、KTV，連撞球檯、麻將桌甚至高爾夫球都有，很多酒客都改到這裡開趴。阿威吐露心聲：「motel房間，休息貴一點三千，便宜的一千多就有，那些傳播妹一個小時一千元就叫的到，我們現在都來這，比較隱密，又比酒店便宜，好玩多了！」\\xa0摩鐵K趴越來越猖狂，有警員私下向本刊表示，因為請搜索票困難，法官每次都說「證據不足」，造成查緝困難，根本抓不勝抓。雖然從二○一二年六月開始，新北市觀光局就已跟旅館業者合作訂出規定，只要進房人數超過六位，就必須通報轄區派出所，如果知情不報，可罰一到五萬元罰鍰。但汽車旅館業者對此規定往往視而不見，幾乎都以「房間人數進進出出難以確實統計」，當作理由規避責任，實際上是害怕警方來查緝，會影響生意，口袋裡的銀子就飛了。（撰文：社會組）【點我看更多壹週刊新聞】\\n酒店退流行，摩鐵Ｋ趴氾濫。（圖：壹週刊）', 'view_cnt': 12779}, {'link': 'http://www.appledaily.com.tw//realtimenews/article/local/20160511/858266/槍決前不只要求喝水\\u3000鄭捷還有遺言', 'category': '社會', 'title': '槍決前不只要求喝水\\u3000鄭捷還有遺言', 'time': '2016/05/11 06:19', 'summary': '前年犯下4死、22傷的台北捷運殺人魔鄭捷，昨晚在傾盆大雨中伏法！\\xa0《蘋果》報導，鄭捷上月22日被判死定讞後，法務部長羅瑩雪昨天下午4時火速批准死刑令，並以最速件送交最高檢轉交台灣高檢署執行，昨晚8時47分開3槍處決鄭捷。北捷案受害者李翠雲的弟弟李瑞昌得知後激動說：「大快人心！終於給被害家屬一個公道！」鄭捷在判死定讞後18天即槍決，創下1987年解嚴後最快紀錄。\\xa0《聯合報》報導，鄭捷被槍決前要求打麻藥，法醫問他是否怕痛，他點了點頭；據指出，他死前留有遺言，法務部基於隱私不願透露他最後說了什麼。\\xa0昨天的法醫是新光醫院外科醫師鄭翠芬，她詢問鄭捷是否要打麻藥，鄭捷表示「要」，她追問是否怕痛？鄭點點頭；她隨即幫鄭捷注射麻醉劑，在鄭的左後背劃圓圈標出開槍部位，法警開槍後，最後由她確認鄭捷死亡。（即時新聞中心／綜合報導）\\xa0\\n【想知道更多，一定要看……】不只想喝水\\u3000鄭捷臨刑前的願望曝光', 'view_cnt': 255767}, {'link': 'http://www.appledaily.com.tw//realtimenews/article/local/20160511/858268/死刑定讞18天後槍決\\u3000鄭捷最後一餐菜色曝光', 'category': '社會', 'title': '死刑定讞18天後槍決\\u3000鄭捷最後一餐菜色曝...', 'time': '2016/05/11 06:19', 'summary': '前年犯下4死、22傷的台北捷運殺人魔鄭捷，昨晚在傾盆大雨中伏法！\\xa0今日出版的《蘋果日報》報導，晚上8時25分，北所管理員前往鄭捷舍房點呼鄭捷的編號時，感覺鄭捷已經預知要被執行死刑，但並沒有顯示出特別激動或是不安，8時30分，高檢署執行科檢察官錢漢良在刑場旁的臨時偵查庭，對鄭捷進行人別訊問，確認鄭捷的身分無誤後，錢漢良接連問了3個問題：「最高法院的判決是否收到？有什麼遺言希望我們協助你處理？你還有什麼話要說？」鄭捷卻始終用面無表情的眼神看著錢，最後只說了一句：「我很渴，給我一點水喝。」\\xa0\\xa0錢告訴鄭捷：「我們待會會給你喝水，但你有沒有話要說？」但鄭搖搖頭不再回話，隨後就被帶往刑場，在臨時擺設的小桌子上，吃所方準備的焢肉便當，雖然鄭捷下午5時就已吃了晚餐，但仍將便當吃掉2/3，然後將600c.c.裝瓶礦泉水一飲而盡，一滴也沒剩，但對於所方按例為死囚準備的高梁酒，則一口也沒喝，也沒有向法警要香菸。(葉國吏/綜合報導)', 'view_cnt': 41013}, {'link': 'http://www.appledaily.com.tw//realtimenews/article/politics/20160511/858259/五月十一日各報頭條搶先報', 'category': '政治', 'title': '五月十一日各報頭條搶先報', 'time': '2016/05/11 06:16', 'summary': '蘋果日報頭條鄭捷槍決前年犯下4死、22傷的台北捷運殺人魔鄭捷，昨晚在傾盆大雨中伏法！鄭捷上月22日被判死定讞後，法務部長羅瑩雪昨天下午4時火速批准死刑令，並以最速件送交最高檢轉交台灣高檢署執行，昨晚8時47分開3槍處決鄭捷。北捷案受害者李翠雲的弟弟李瑞昌得知後激動說：「大快人心！終於給被害家屬一個公道！」鄭捷在判死定讞後18天即槍決，創下1987年解嚴後最快紀錄。\\xa0蘋果日報重點新聞包括:眼神森冷 鄭捷吃下焢肉飯殺人魔鄭捷昨晚伏法前，未交代任何遺言，檢察官問他有沒有話說，想試探他是否死前有悔，跟家屬道歉，但鄭捷面無表情說：「我很渴，給我一點水喝。」之後安靜地吃下最後一餐焢肉飯、喝光瓶裝礦泉水，沒碰所方準備的高粱酒，就被帶到刑場服刑，整個過程的冷漠態度讓執行檢察官也感到無奈。\\xa0羅瑩雪任內 已處決12死囚昨批准鄭捷執行槍決的法務部長羅瑩雪，於2013年9月上任，隔年4月首度批准戴文慶等共奪11命的5名死囚槍決，隔年6月發生北投文化國小劉小妹遭割喉魔龔重安殺害，民憤沖天，羅再批准王秀昉等6名共奪11命死囚槍決，羅任內至今共批准12死囚槍決，在近14任法務部長中，前部長呂有文任內槍決114人最多，王清峰執行0人最少，羅執行槍決人數排行第8。\\xa0剩9天卸任 馬突遞信 批准翁辭呈中研院長翁啟惠涉浩鼎弊案延燒近三個月，馬英九總統前天突批准翁三月底傳真到總統府的辭呈，昨命府秘書長曾永權拜會翁後，確認翁請辭獲准。府表示，馬將不退回中研院提報的新任中研院長推薦名單，並已透過中研院聯繫三位新任院長候選人面談，了解三人理念後，將與總統當選人蔡英文商議，最快五二○前決定人選。\\xa0破紀錄 台大申請缺額183人大學甄選入學委員會昨公布今年大學個人申請統一分發結果，整體分發錄取率為百分之五十八，較去年提高六個百分點，但今年招生缺額高達一萬三百一十七個，就連龍頭台灣大學都有一百八十三個缺額，雙雙創歷史紀錄。\\xa0自由時報頭條罕見// 判死定讞19天 鄭捷火速槍決法務部長羅瑩雪昨天趕在內閣總辭前兩天，令准執行鄭捷死刑，昨晚八點四十七分在矯正署台北看守所刑場，由法警每隔兩分鐘開一槍，共開三槍完成，因目前已不受理死刑犯捐贈器官，鄭捷未器捐；從死刑定讞，短短十九天即槍決，鄭捷與屏東縣前議長鄭太吉槍決速度同樣快。\\xa0自由時報重點新聞包括:下台前2天槍決鄭捷 羅瑩雪被批時機可議下午說一套、晚上做一套！法務部長羅瑩雪昨天下午才說，還沒看到鄭捷案子的卷證，傍晚5點就簽准執行令，一名法界人士諷說：「都說羅瑩雪很直白，我看她根本是政治動物」、「擺明不想把鄭捷這條大魚送給新政府」、「時機可議」。\\xa0翁啟惠辭呈 馬擺40天突批准總統府昨天宣布，馬總統已批准中研院長翁啟惠的辭呈，並命秘書長曾永權拜會翁啟惠轉達決定，同時轉交馬給翁的信函、另指定副院長王汎森代理院長至新任院長選出為止。\\xa0回函WHA》馬政府提九二共識 立委：自陷一中框架世衛組織（ＷＨＯ）發出的世衛大會（ＷＨＡ）邀請函，附加「依據聯合國二七五八號等決議所反映的一中原則」文字，總統府回函定調「一中各表、九二共識」。民進黨立委蔡易餘批評，馬政府自陷一中框架，自我矮化主權；時代力量立委黃國昌也指出，從來就只有一中，沒有各表。\\xa04歲童走失 6歲蹺家童牽他報案4歲張姓男童8日下午和阿公到嘉義縣朴子市天公壇拜拜時走失，6歲鄭姓男童在距天公壇一個路口的配天宮遊玩，回家途中見4歲張童晃來晃去，好像找不到大人。「你跟我來！」機靈的鄭童牽著更小的張童，前往朴子派出所請警察叔叔幫忙，警員頭一遭受理年紀這麼小的報案，趕忙協助找到張童家人。\\xa0聯合報頭條死刑定讞18天…北捷案4死22傷 鄭捷520前槍決伏法犯下台北捷運四死廿二傷殺人案的鄭捷，昨晚三槍伏法；距離上月廿二日判決死刑定讞，僅短短十八天。他被槍決前要求打麻藥，法醫問他是否怕痛，他點了點頭；據指出，他死前留有遺言，法務部基於隱私不願透露他最後說了什麼。\\xa0聯合報重點新聞包括:卸任前10天 法務部長羅瑩雪火速准了鄭捷死刑「我只是做我該做的事」。學佛並曾公開表示希望沒有死刑的法務部長羅瑩雪，五二○卸任前十天火速批准鄭捷死刑執行令。她說，鄭捷「無差別殺人」犯行對社會治安影響實在太大，她本於職責執行；現在心情一如剛上任，以社會大眾為最主要的考量。\\xa0取材建醮遭批「怎麼這麼醜」 520舞台急改版五二○總統副總統就職府外慶祝大會主舞台，八日才公布亮相，卻遭外界批評「很醜」。總統副總統就職相關活動籌備委員會昨天證實，設計團隊從善如流修改，定案後近日就會對外公布。慶祝大會總策劃李永豐日前向友人表示，目前正在努力修正中，「意見是創新必要的養分」。\\xa0新舊政府都回函WHA 張揆：過去式與未來式世界衛生大會（ＷＨＡ）對我國所寄邀請函首度提及「一中原則」，引發議論，新舊政府前天以兩封信回函，各自表述。行政院長張善政昨天表示，一封是馬總統對過去七年九二共識基礎的紀錄，一封是新政府的立場，分別是「過去式、未來式」，希望不要被解讀為新舊政府吵架。\\xa0超商叮咚聲擾民 北市7月起開罰為解決廿四小時超商叮咚聲夜間擾鄰，北市府環保局昨宣布，未來蜂鳴器（叮咚聲）將以「最大值音量」評定，七月一日起實施，若限期未改善，將處三千元以上三萬元以下罰鍰。\\xa0中國時報頭條鄭捷閃電伏法正義伸張！就在周四內閣總辭前夕，法務部長羅瑩雪簽下北捷殺人魔鄭捷死刑令，昨晚8點47分，鄭捷在押赴刑場前，僅說了一句想要喝水的遺言，並拒絕對被害家屬道歉，最後在被注射麻醉藥劑後，法警朝他心臟開了3槍伏法，結束他23歲生命。被害死者家屬得知後，大呼「感謝羅部長！」\\xa0中國時報重點新聞包括:課綱、促轉沒生產力 張善政專訪 卸任前的最後諍言民進黨挾國會多數優勢，預計在520後，在立院優先處理課綱微調與通過《促進轉型正義條例》草案。然而，行政院長張善政昨日接受本報專訪，建議新政府「意識形態先擺一邊」，如果兩年內經濟、產業持續低迷、拉不起來，卻只完成課綱和轉型正義，恐讓外界認為「這個政府是來報仇的。」\\xa0鄭捷伏法「惡魔死了，我們不哭了」罹難者家屬激動：感謝羅部長 大快人心鄭捷昨晚伏法，罹難者家屬第一時間得知訊息時，淚水隨著壓抑已久的情緒潰堤而出；張政翰母親哽咽道謝「真的很感謝羅部長」；李翠雲胞弟握緊雙手，連聲直呼大快人心。張正翰的父母更激動地說，「惡魔死了，我們不哭了！」並高喊：感謝羅部長！\\xa0大學申請放榜 少子化衝擊 缺額逾萬創紀錄 4校8系招生掛蛋今年大學個人申請招生統一分發昨放榜，錄取率57.96％，創下歷年新高，較去年51.93％增加6.03個百分點。此外，因為少子化，今年招生缺額達1萬317個，歷年最多，連台大都有183個缺額，還有屏東大學、稻江等4校的8個系，一個學生都沒招到。\\xa0最新民調 過半民眾支持 詐騙犯交陸審判我國詐欺嫌犯境外犯罪被遣送大陸事件頻傳，舉國譁然，指陸方作為損及台灣司法主權。兩岸政策協會昨發布最新民調，有6成民眾認為我國詐欺嫌犯在國外犯罪被遣送大陸審判，有損台灣主權，但亦有高達8成8認為台灣法律對詐騙案量刑過輕，5成1贊成將詐騙犯轉交大陸調查審判。', 'view_cnt': 5138}, {'link': 'http://www.appledaily.com.tw//realtimenews/article/local/20160511/858263/殺人魔鄭捷伏法\\u30003張圖看出他的冷酷', 'category': '社會', 'title': '殺人魔鄭捷伏法\\u30003張圖看出他的冷酷', 'time': '2016/05/11 06:16', 'summary': '前年犯下4死、22傷的台北捷運殺人魔鄭捷，昨晚在傾盆大雨中伏法！\\xa0今日出版的《蘋果日報》報導，晚上8時25分，北所管理員前往鄭捷舍房點呼鄭捷的編號時，感覺鄭捷已經預知要被執行死刑，但並沒有顯示出特別激動或是不安，8時30分，高檢署執行科檢察官錢漢良在刑場旁的臨時偵查庭，對鄭捷進行人別訊問，確認鄭捷的身分無誤後，錢漢良接連問了3個問題：「最高法院的判決是否收到？有什麼遺言希望我們協助你處理？你還有什麼話要說？」鄭捷卻始終用面無表情的眼神看著錢，最後只說了一句：「我很渴，給我一點水喝。」\\xa0\\xa0錢告訴鄭捷：「我們待會會給你喝水，但你有沒有話要說？」但鄭搖搖頭不再回話，隨後就被帶往刑場，在臨時擺設的小桌子上，吃所方準備的焢肉便當，雖然鄭捷下午5時就已吃了晚餐，但仍將便當吃掉2/3，然後將600c.c.裝瓶礦泉水一飲而盡，一滴也沒剩，但對於所方按例為死囚準備的高梁酒，則一口也沒喝，也沒有向法警要香菸。\\xa0接著女法醫幫鄭捷注射麻醉藥，並將鄭捷帶往刑場，讓他趴在預先準備好的沙堆上，鋪著棉被，直到鄭捷陷入昏迷後，槍手8時47分朝鄭捷的背部心臟處開了第1槍，但鄭仍在抽動，2分鐘後再開第2槍，鄭仍有氣息，直到8時51分，鄭捷被開第3槍才一動也不動，9時11分，由法醫相驗確認鄭捷已無氣息，確定伏法。\\xa0對於鄭捷最後遺言竟是「我很渴，給我一點水喝。」錢漢良覺得有些無奈，他說，「我最後特別問他有什麼話要說，目的是希望他能夠在這個最後時間，跟被害人及其家屬道歉，我也希望他能對此有所表示，但是我不能提示，沒想到他卻什麼都沒說。」錢漢良昨晚在便條紙寫下「法律的精神，在於社會正義，而正義是基於良知的正道，正道的理想必須能夠具體實現，社會正義才有落實的可能。」\\xa0(葉國吏/綜合報導)\\xa0\\n【鄭捷伏法過程】1\\n鄭捷死前最後一餐吃了有3樣青菜的焢肉便當後，喝光整瓶600c.c.礦泉水。 2\\n女法醫鄭翠芬幫鄭捷靜脈注射麻藥。 3\\n鄭捷趴著被打第1槍後還在動，直到被打第3槍才不動，法醫在晚上9時11分確認鄭捷死亡。', 'view_cnt': 40275}, {'link': 'http://www.appledaily.com.tw//realtimenews/article/local/20160511/858262/鄭捷死刑定讞18天後火速槍決\\u3000原因曝光', 'category': '社會', 'title': '鄭捷死刑定讞18天後火速槍決\\u3000原因曝光', 'time': '2016/05/11 06:15', 'summary': '前年犯下4死、22傷的台北捷運殺人魔鄭捷，昨晚在傾盆大雨中伏法！\\xa0今日出版的《蘋果日報》報導，男大生鄭捷（23歲）前年5月21日下午4時許，在北捷板南線龍山寺站開往江子翠站的列車上，持鈦鋼刀在91秒內隨機殺人，造成乘客解青雲（28歲）、張正翰（26歲）、李翠雲（61歲）、潘碧珠（47歲）4人慘死，另有史艾芙琳等22人輕重傷，他遭警員與民眾圍捕落網後口出狂言：「殺人後很舒坦！」\\xa0\\xa0上月22日最高法院以鄭捷犯行符合《兩公約》可判死刑要件等5大理由，判死定讞，並罕見在26日公告已將死刑定讞卷證交最高檢察署執行，並在昨天晚間8時47分，由法警開3槍讓鄭捷伏法，法醫在8時58分確認死亡。\\xa0對此法部政務次長陳明堂昨晚在記者會中表示，鄭捷是當場逮捕，罪證明確，行兇時意識清楚，屬《兩公約》規定的最嚴重之罪，所為已達人神共憤地步，應依法執行以實現社會正義。他說，執行死刑未事先通報總統府。(葉國吏/綜合報導)\\xa0\\n台北捷運殺人魔鄭捷伏法。資料照片', 'view_cnt': 30570}, {'link': 'http://www.appledaily.com.tw//realtimenews/article/nextmag/20160511/857989/\\u200b【壹週刊】尹馨無懼當小三\\u3000調情鄭人碩直擊', 'category': '壹週刊', 'title': '\\u200b【壹週刊】尹馨無懼當小三\\u3000調情鄭人碩直...', 'time': '2016/05/11 06:09', 'summary': '本刊直擊，最近尹馨又換口味，給合作的男演員鄭人碩把上，只是據查，鄭人碩可能早有了正牌女友，這次尹馨沒想到又淪落在「小三」的危險邊緣遊走。\\xa0五月七日的下午將近五點時，尹馨隻身出現在西門町，穿著無袖又非常緊身上衣的她，D級乳浪超強，腰間肉感也展露無遺；她行色匆匆地走進了一家港式茶餐廳，這才發現原來有個男人正在等她。\\xa0這個男的，就是最近跟她合作《川流之島》的男演員鄭人碩；曖昧的是，鄭人碩多次公開對尹馨表達好感，比如「妳像我前女友」等，而且兩人戲中打砲已經到達「差點戳破抱枕」的激烈程度，於是私下偷約根本代表他們已經「戳」出了極不尋常的男女交情。\\xa0鏡頭回到兩人的偷約現場，他們坐在窗邊的座位，叫了茶點和一瓶啤酒，邊吃邊聊，起先互動雖然看來並無異處，但也有些許山雨欲來的味道。果然！尹馨戴上口罩接著起身，展現凸到不行的上圍，屁屁也噘了起來，只是她這費洛蒙滿滿的舉動鄭人碩看來並沒有接收到，可惜了她一場不經意的放電前戲。\\xa0接著填飽肚子的兩人開始在附近的商圈散步，先到了一家運動鞋專賣店參觀，換鄭人碩開始出招：他先是拿著一雙運動休閒鞋看了個仔細，但接著轉身像是在比鞋子尺寸一般，低頭看向尹馨的腳，看起來頗努力地獻殷勤，但大概是沒能打動尹馨，兩人再稍微逛了一下便空手而去。這一回合換成鄭人碩失敗。\\xa0這對男女接著去看了三個小時的電影，然後再走到附近的露天酒吧續攤。時間是晚間九點半，也許是漸漸藉著酒精的催化，兩人的肉體互動顯得進化了許多，鄭人碩像是很會製造氣氛的情場老將，豐富的肢體動作和表情，讓尹馨不時笑得花枝亂顫，尤其一不小心風情萬種過了頭，還自覺略顯失態，所以又趕緊掩面故作羞澀。\\xa0接著尹馨趁勝追擊，先是伸手抓了一下鄭人碩；鄭人碩接著把自己的酒遞給尹馨嚐，甚至大膽地貼近她的臉龐，看似在耳鬢廝磨、傳遞情意；但實際上尹馨喝了就是在交換體液。歡樂時光一直到深夜的十一點半才結束，尹馨同樣戴著口罩掩飾身分，眼神透露著茫意，而鄭人碩則像是打了一場漂亮勝仗似的滿面紅光，離開酒吧時，藉機攙扶尹馨的手臂，兩人一起走到路邊搭計程車離去。（撰文：娛樂組）「更多其他壹週刊內容請點我」\\n【想知道更多，一定要看……】【壹週刊】尹馨鄭人碩鍍金\\u3000脫光打砲起家傳說尹馨勾搭上了之前同戲的鄭人碩，但雙方經紀人都否認。（本刊畫面）', 'view_cnt': 11035}, {'link': 'http://www.appledaily.com.tw//realtimenews/article/nextmag/20160511/857982/【壹週刊】520就職演說採新民意\\u3000蔡英文只承認92會談', 'category': '壹週刊', 'title': '【壹週刊】520就職演說採新民意\\u3000 蔡英...', 'time': '2016/05/11 06:08', 'summary': '520前夕，中國持續對民進黨新政府施壓，官媒文攻武嚇，要求準總統蔡英文就職演說必須對九二共識及一中原則表態，不然就走著瞧。當各方高度關注蔡英文的演說內容之際，本刊掌握權威消息，指蔡英文的就職演說架構已大致完成，基於支持九二共識的國民黨已經下台，以及主張維持現狀獲得多數民意支持，蔡英文就職演說將不提九二共識及一個中國，只承認九二會談，以回應新民意，並確保人民有最終的選擇權。\\xa0蔡陣營核心人士透露，身為新任總統，蔡英文不可能因為對岸恐嚇，就接受不是多數民意支持的主張。內文五月六日晚間，世界衛生組織（ＷＨＯ）發函邀請台灣參與世界衛生大會（ＷＨＡ），函中新增依據聯合國二七五八號決議，也就是一個中國原則，引發朝野批判聲浪，但也使準總統蔡英文的維持現狀主張，再度面臨中國的挑戰。民進黨如何突破中國限縮的一中框架，以及蔡英文的就職演說如何回應中方要求的「九二共識」及「一個中國」？在在引人注目。\\xa0綠營人士透露，蔡英文的就職演說從四月初就開始草擬，負責執筆的是內定出任國安會諮詢委員的清大教授姚人多，他是民進黨公認最能掌握蔡英文意志的文膽；此外，黨內還設有「文稿小組」，經多次開會，已初步確認就職演說的架構。\\xa0「關於兩岸政策部分，就職演說不會有出人意料的說法！」一位參與討論的人士向本刊透露，蔡英文就職演說有關兩岸政策的論述，是由民進黨秘書長吳釗燮及小英基金會副執行長詹志宏召集的國安小組負責把關，「北京在五二○前加大力度施壓，不會改變蔡英文的想法」。\\xa0親近蔡英文的人士直言，兩岸的問題不在蔡英文接不接受九二共識或一個中國，而是台灣社會多數民意接不接受？「新政府不可能因為對岸恐嚇就範」。他並說：「北京必須體認主張九二共識及一個中國的國民黨政權，未獲多數民意支持已下台，民進黨當然不會重蹈覆轍。」\\xa0文稿小組成員透露，蔡英文就職演說主要有三大架構，首先是闡述第三次政黨輪替的意義，在於任何一個政府都是人民授權，人民也有權回收權力，必須珍惜這個機會做出成績。\\xa0其次，蔡英文也將說明台灣目前面臨的挑戰，尤其民進黨重新執政後，最大的問題是經濟停滯及失去成長動能，她將再次詮釋選舉時的五大政治改革、五大新創產業及五大社會安定政策。\\xa0第三則是眾所關注的兩岸政策論述。文稿小組成員指出，蔡英文將從台灣的國際處境切入，「對國際及兩岸關係的主張，不會跳脫既有的基調」。\\xa0文稿小組成員說，蔡英文去年六月應邀到美國華府智庫CSIS演講時即已明確表示，會在中華民國現行憲政體制下，依循普遍民意，持續推動兩岸關係的和平穩定發展。除此之外，蔡英文也會再次重申，「基於台灣內部廣泛共識，維持現狀將是符合各方的最佳利益」。\\xa0相關人士認為，蔡英文也許會用其它方式陳述維持現狀，但兩岸關係論述錙銖必較，「不能妥協的部份，多提也沒有用。」例如蔡英文主張回歸中華民國憲政體制，以現行中華民國憲法包含增修條文為依據，而不是掉進北京希望我方回到憲法一中原則的框架。\\xa0另一方面，蔡英文也會承認一九九二年兩岸會談的歷史事實基礎及共同認知，呼應中共總書記習近平提到九二共識的歷史事實，「但『九二共識』的字眼則不會出現在就職演說中。」\\xa0知情人士說，民進黨與中國對兩岸政策雖有各有堅持，但不必然全無交集。一月十六日蔡英文當選後接受本刊專訪時透露：「兩岸溝通，不只是坐下來談判，而在做了什麼事，讓對方能夠理解善意。」後來還向媒體說：「一九九二年後二十多年來雙方交流、協商所累積形成的現狀及成果，兩岸都應該共同去珍惜與維護，在這個基本事實與既有政治基礎上，持續推動兩岸關係的和平穩定與發展。」就是蔡英文的兩岸政策基調。(撰文:劉榮)\\xa0「更多其他壹週刊內容請點我」\\n蔡英文就職演說內容架構大致完成，對中國的文攻武嚇，蔡無意退讓。', 'view_cnt': 26819}, {'link': 'http://www.appledaily.com.tw//realtimenews/article/nextmag/20160511/857986/【壹週刊】男提跨海匯錢證據\\u3000洪文棟被爆美國有私生子', 'category': '壹週刊', 'title': '【壹週刊】男提跨海匯錢證據\\u3000洪文棟被爆美...', 'time': '2016/05/11 06:08', 'summary': '「歌仔戲國寶」楊麗花的丈夫、前立委洪文棟，驚爆有個55歲的私生子徐國璋。\\xa0為求認祖歸宗，他出示母親和洪文棟合照、匯款紀錄證明所言不虛，強調不是為錢而告，「我是他長子，50多年來他卻不認我，我心臟將開刀，這次恐是最後認親機會了！」\\xa0住美45年的他，將跨海提出訴訟，要求驗DNA確認親子關係，希望改姓洪。\\xa0一個月前，本刊接獲一通來自美國阿拉斯加的越洋電話，致電者叫徐國璋、今年五十五歲，表明是洪文棟二十三歲時婚外情生下的兒子，希望本刊協助認親。\\xa0他透過Line傳給本刊他母親徐英妹和洪文棟早年合照、自己的童年照及小孩照片，「很多人都說我和我爸長得一模一樣。」五月初，他飛來台北接受本刊專訪。\\xa0徐國璋說，母親徐英妹是台中名花，為了家計，十九歲就在舞廳上班，認識了當時就讀高雄醫學院的洪文棟。\\xa0此後洪文棟不時到台中找她，風趣又黏人的個性，讓她陷入愛河。兩人常住在她台中林森路的親友家，為了遷就讀高醫的洪文棟，後來乾脆搬到高雄同居。\\xa0起初徐英妹不知道洪文棟已婚，還生了個女兒。懷了徐國璋的她，一度以為會嫁進洪家，最後卻遭洪家以「門不當戶不對」不許進門，她只好獨自扶養徐國璋。\\xa0「我十歲時，媽媽嫁給美國人，把帶我出國前，才告訴我爸爸是洪文棟。」民國五十一年生的徐國璋，十歲第一次見到親生爸爸洪文棟，情緒驚喜又惶恐，只記得叫了聲爸爸，其餘對話並不多。\\xa0十八歲高中畢業，他和媽媽回台探親，才見了洪文棟第二次面。\\xa0徐國璋說，從小到大，和洪文棟只見過七次面：除了前述兩次，十三年前徐英妹過世前父子見了三次，過世隔年，則見了一次，最近一次則是九年前。\\xa0「我從來沒有我爸爸的電話，都是透過他祕書傳話。」連徐英妹生前要找洪文棟，也只能打到他當時任職的榮總骨科找人。\\xa0洪文棟是政、醫界名人，身家據傳超過十億元，徐國璋要求認親，不免令人聯想是為「錢」，但他強烈否認。\\xa0他強調，七次見面，有三次洪文棟主動給他錢：兩次給了新台幣五萬元，另一次是二○○九年，匯了一萬美元給他，而這五十多年，他只有兩次求助於洪文棟。\\xa0第一次，是徐國璋四十三歲，罹癌的徐英妹希望在生前見到兒子買房，求助洪文棟把學貸、車貸繳清，徐國璋才能申請房貸。\\xa0當時洪文棟匯了五萬美元（約新台幣一百六十二萬九千六百元）。\\xa0另一次則是十二年前，他急性心臟病發作，診斷是二尖瓣膜脫垂，必須馬上開刀，當時他工作停擺，亟需醫藥費，親友幫他打電話給洪文棟的祕書求助，洪文棟匯給他近四萬美元（約新台幣一百三十萬三千六百八十元）。\\xa0他後來心臟又陸續開刀數次，都未向洪文棟求助，至今還有四萬美元醫藥費未能付清。\\xa0徐國璋難過說：「我清醒後，親戚告訴我，我爸說我又沒死，叫我以後不要再找他了。」\\xa0生死關頭，洪文棟一通關心電話也沒有，「難道我做錯了什麼嗎？讓他這樣對我。」\\xa0但為何徐國璋到五十五歲才想認親？他解釋，母親過世隔年，舅舅曾帶他拿著媽媽和洪文棟合照，前往洪文棟與楊麗花位在台北市天母的豪宅，要告訴洪文棟說徐英妹過世了，並懇求讓兒子認祖歸宗。\\xa0但當時男傭人把照片收走後，隔幾天洪文棟祕書打電話問他：「楊阿姨（麗花）問你有什麼事嗎？你爸爸人在大陸。」\\xa0不久，洪文棟回台約了徐國璋及他的阿姨、舅吃飯，洪文棟當場抱怨：「本來沒人知道你存在的，現在ㄅㄧㄚ \\xa0 ㄎㄤ（曝光）了！」責怪害他難對楊麗花交代。洪文棟不但沒安慰到剛失去母親的徐國璋，也沒讓兒子姓洪。\\xa0但徐國璋說，他深知楊麗花人重感情又重忠孝節義，形象極好，認為她一定是個通情理的人，一直很希望見「楊媽媽」一面，完全不會覺得洪文棟的反應，是因她會阻止或生氣他的存在！（撰文：宋志民）\\xa0「更多其他壹週刊內容請點我」\\n【想知道更多，一定要看……】【壹週刊】洪文棟兩段婚姻爆 \\u3000６年前爆過廟口事件徐國璋長得跟洪文棟極為神似。他專程從美國阿拉斯加飛回台灣，接受本刊專訪(右圖)。楊麗花（右）與洪文棟（左）昔日常同進同出，他最近爆出有五十五歲的私生子。(資料照)', 'view_cnt': 64685}, {'link': 'http://www.appledaily.com.tw//realtimenews/article/fashion/20160511/858168/時尚教主變吸魂嬸婆\\u3000噢買尬金甲驚人', 'category': '時尚', 'title': '時尚教主變吸魂嬸婆\\u3000噢買尬金甲驚人', 'time': '2016/05/11 06:07', 'summary': '因為演出《慾望城市》的「凱莉」一角而穩坐時尚教主地位的美國女星莎拉潔西卡派克（Sarah Jessica Parker），繼前幾日在紐約大都會博物館慈善晚宴（MET GALA）的穿著讓大家跌破眼鏡引來一陣噓聲後，日前出席在紐約舉辦的傑出母親獎時，再度令人有些唏噓...\\xa0她身上穿著來自品牌HUISHAN ZHANG的秋季洋裝，大地色系的花卉圖騰過膝七分袖設計，在她曬得算是健康的膚色與垂在胸前的半長髮搭配下，顯得她沒什麼精神，彷彿會把人魂魄吸走的雙眼沒什麼焦距的看著前方...\\xa0到底以前那位時尚滿分的女神去哪裡了？！（陳慧明/台北報導）', 'view_cnt': 4213}, {'link': 'http://www.appledaily.com.tw//realtimenews/article/entertainment/20160511/858251/\\u200b【坎城直擊】捕獲野生伍迪艾倫！\\u3000華人拿獎沒份湊熱鬧', 'category': '娛樂', 'title': '\\u200b【坎城直擊】捕獲野生伍迪艾倫！\\u3000華人拿...', 'time': '2016/05/11 06:03', 'summary': '第69屆坎城影展即將於台北時間明天凌晨1點於節慶宮登場，兩岸三地華語片今年被狠狠打臉，在官方競賽片與觀摩片都槓龜。影展由名導伍迪艾倫（Woody Allen）執導的《咖啡．愛情》（Café Society，暫譯）開幕，他今天已先在飯店接受法國媒體訪問，離開飯店時剛好被經過的《蘋果》記者捕獲，他戴著漁夫帽，羊毛衫內搭襯衫，一貫都會老知青模樣，專心在門口與一名女性交談，但記者來不及確認該女性是否為他的亞裔妻子順宜，他們已相偕離去。\\xa0伍迪艾倫的新作由「暮光女」克莉絲汀史都華、《社群網戰》男星傑西伊森柏格與「花邊教主」布蕾克萊弗莉等人演出，他們都會到坎城宣傳新片。\\xa0由於華語片沒有作品參賽主要項目，鞏俐、李冰冰、劉亦菲等華人明星隨官方贊助商「巴黎歐萊雅」出席。台灣靠短片《阿尼》入圍「國際影評人短片競賽單元」，導演鄒隆娜將率劇組將到坎城參賽。台灣女星朱芷瑩將隨另一部台製短片《深夜海產店》赴坎城。\\xa0好萊塢今年陣容堅強，茱蒂佛斯特執導、克魯尼與茱莉亞羅勃茲等人主演的《金錢怪獸》，以及史蒂芬史匹柏執導的《吹夢巨人》被選為觀摩片。勞勃狄尼洛、西恩潘、基努李維、萊恩葛斯林、瑪莉詠柯蒂亞等人的新作也都將在坎城首映。\\xa0周杰倫（周董）參演的好萊塢電影《出神入化2》在會場對面的Majestic Hotel盛大造勢，門口兩邊架電視牆、放送炫目宣傳影像，牆上也可見巨幅海報，但周董透過唱片公司表示，他「只是客串」，不會赴坎城為電影造勢。（李子凡、趙世平／坎城報導）\\xa0\\xa0\\n坎城影展開幕前，海邊已可看到多艘豪華遊艇聚集，為影展更添派對氣氛。趙世平攝蔚藍海岸讓前來坎城的人都感到心曠神怡。趙世平攝十字大道旁的海灘邊緊鑼密鼓為即將到來的派對趕工。趙世平攝周杰倫參演的《出神入化2》砸重本在Majestic Hotel飯店前架設超大LED看板宣傳。趙世平攝坎城影展每年都在節慶宮舉行。趙世平攝已有不少媒體或民眾搬來梯子與椅子準備搶好角度。趙世平攝即將上映的動畫新片《憤怒鳥》也趁機到坎城造勢。趙世平攝', 'view_cnt': 3336}, {'link': 'http://www.appledaily.com.tw//realtimenews/article/international/20160511/858255/糗！想給女兒驚喜\\u3000卻上錯床還傳自拍照', 'category': '國際', 'title': '糗！想給女兒驚喜\\u3000卻上錯床還傳自拍照', 'time': '2016/05/11 06:00', 'summary': '美國紐約有位媽媽上周想要給女兒一個驚喜，於是跑到女兒宿舍裡，躺在女兒床上自拍、還傳了照片給女兒問：「猜猜我在哪?」但沒想到這位糊塗老媽其實跑錯房間、躺錯了別人的床，讓母女倆都嚇了一跳，又覺得十分爆笑。\\xa018歲的費玲（McKenna Pilling）來自紐約、在猶他州念大學，上個禮拜學期結束了，她的媽媽約好要來幫她搬宿舍，但這位老媽心血來潮想要給女兒一個驚喜，所以在約定時間之前跑進女兒的宿舍、躺在女兒床上、還自拍照片傳給女兒。\\xa0但沒想到這位糊塗媽媽根本跑錯了房間，女兒看到照片之後立刻就知道媽媽鬧烏龍了，費玲回簡訊給媽媽說：「我在房間裡啊」，這位媽媽才知道原來躺的不是女兒的床。母女兩人把這樁愚蠢跟網上親友分享，讓大家都笑翻了，這張經典床上自拍照也遭到網友瘋傳。\\xa0費玲說媽媽在別人的床上整整躺了5分鐘，後來發現還好是認識的人，床的主人事後看到照片疑惑地問：「那是我的枕頭嗎?」才發現原來自己的床有別人躺過。\\xa0而且這位搞笑的媽媽事後懊惱的不是自己跑錯了房間，而是覺得遭到網友瘋傳的自拍照不夠好看。（廖育琳／綜合外電報導）\\n翻攝福斯新聞網（Fox）翻攝福斯新聞網（Fox）', 'view_cnt': 11224}, {'link': 'http://www.appledaily.com.tw//realtimenews/article/finance/20160511/858258/五月十一日財經焦點搶先看', 'category': '財經', 'title': '五月十一日財經焦點搶先看', 'time': '2016/05/11 05:57', 'summary': '蘋果日報-蘋果神話告終 SONY手機奮起蘋果不敗神話今年似乎告終，剛過70歲生日的SONY營運轉趨獲利，SONY將以Xperia X新品重振高階戰場，並拓展物聯網、雲端和無人機新業務，SONY Mobile總裁兼執行長十時裕樹（Hiroki Totoki）接受《蘋果》專訪表示，今年行動終端業務有信心獲利，SONY不走蘋果、三星模式，將因地制宜專攻重點市場，轉型打勝仗。\\xa0經濟日報-台積營收度小月 本季成長不變台積電昨（10）日公布4月合併營收跌破700億元大關、降至668.43億元，月減8.5%。台積電強調，本季營收展望不變；法人看好，隨著蘋果A10處理器訂單陸續產出，台積電5、6月營收將強勁揚升，5月營收月增率可望超過一成。\\xa0中國時報-蘋果沒那麼酸... 鴻海４月挺住力保蘋果市占率策略奏效，鴻海昨（10）日公布4月營收3,223億元，優於外資圈預期，第2季營收預估平均值有機會調升。由於和碩首季財報數據欠佳，外資看好短線資金將由和碩轉向鴻海。', 'view_cnt': 2858}, {'link': 'http://www.appledaily.com.tw//realtimenews/article/international/20160511/858257/美運輸管理局安檢時間過長\\u3000港務局警告撤換', 'category': '國際', 'title': '美運輸管理局安檢時間過長\\u3000港務局警告撤換', 'time': '2016/05/11 05:53', 'summary': '由於安檢時間過長引發諸多抱怨，負責管理大紐約三大機場的紐約和紐澤西港務局（The Port Authority of New York and New Jersey, PANYNJ）日前給美國運輸安全管理局（TSA）下最後通碟，表示如果不縮短排隊時間，將找私人公司負責安檢。 \\u3000\\u3000\\xa0據《紐約郵報》10日報導，紐新港務局在給TSA的信中寫道，考慮到糟糕的旅客服務和不良經濟影響，我們實在無法再忍受了，信中指出2015年甘迺迪機場安檢最長等待時間為30分鐘，而今年則已接近一小時。\\u3000\\u3000\\xa0紐新港務局下轄紐約甘迺迪機場、拉瓜地亞機場和紐澤西的紐瓦克機場，每年旅客量近1.3億人次。美國廣播公司（ABC）引用紐新港務局的數據稱，從今年3月15日到4月15日，僅紐約甘迺迪機場就報告253件安檢等待時間超過20分鐘的案例，而去年同期僅10起。 \\u3000\\xa0港務局稱，最近數月旅客等待安檢時間急劇上昇，不僅旅客和航站方面的投訴劇增，航空公司也抱怨航班延誤等諸多不便。美國運輸安全管理局發言人回應稱，正在盡力解決旅客排隊問題，但強調其首要任務是應對恐怖主義威脅，因為恐怖分子將美國的交通運輸系統當成首要目標。\\xa0目前全美有22個機場是雇用私人公司負責安檢，其中包括舊金山國際機場和堪薩斯城國際機場。據專家解釋，就算換成私人公司負責安檢，旅客也不用擔心安全問題，因為安檢程序和標準都是一樣的。（國際中心／綜合外電報導）', 'view_cnt': 1455}, {'link': 'http://www.appledaily.com.tw//realtimenews/article/international/20160511/858257/美運輸管理局安檢時間過長\\u3000港務局警告撤換', 'category': '國際', 'title': '美運輸管理局安檢時間過長\\u3000港務局警告撤換', 'time': '2016/05/11 05:53', 'summary': '由於安檢時間過長引發諸多抱怨，負責管理大紐約三大機場的紐約和紐澤西港務局（The Port Authority of New York and New Jersey, PANYNJ）日前給美國運輸安全管理局（TSA）下最後通碟，表示如果不縮短排隊時間，將找私人公司負責安檢。 \\u3000\\u3000\\xa0據《紐約郵報》10日報導，紐新港務局在給TSA的信中寫道，考慮到糟糕的旅客服務和不良經濟影響，我們實在無法再忍受了，信中指出2015年甘迺迪機場安檢最長等待時間為30分鐘，而今年則已接近一小時。\\u3000\\u3000\\xa0紐新港務局下轄紐約甘迺迪機場、拉瓜地亞機場和紐澤西的紐瓦克機場，每年旅客量近1.3億人次。美國廣播公司（ABC）引用紐新港務局的數據稱，從今年3月15日到4月15日，僅紐約甘迺迪機場就報告253件安檢等待時間超過20分鐘的案例，而去年同期僅10起。 \\u3000\\xa0港務局稱，最近數月旅客等待安檢時間急劇上昇，不僅旅客和航站方面的投訴劇增，航空公司也抱怨航班延誤等諸多不便。美國運輸安全管理局發言人回應稱，正在盡力解決旅客排隊問題，但強調其首要任務是應對恐怖主義威脅，因為恐怖分子將美國的交通運輸系統當成首要目標。\\xa0目前全美有22個機場是雇用私人公司負責安檢，其中包括舊金山國際機場和堪薩斯城國際機場。據專家解釋，就算換成私人公司負責安檢，旅客也不用擔心安全問題，因為安檢程序和標準都是一樣的。（國際中心／綜合外電報導）', 'view_cnt': 1455}, {'link': 'http://www.appledaily.com.tw//realtimenews/article/international/20160511/858254/美總統大選\\u3000川普希拉蕊支持率接近', 'category': '國際', 'title': '美總統大選\\u3000川普 希拉蕊支持率接近', 'time': '2016/05/11 05:40', 'summary': '美國總統提名10日續戰，共和黨在內布拉斯加州舉行初選外，和民主兩黨同日也在西維吉尼亞州舉行初選。 經過上周印第安那州初選後，共和黨總統候選人川普成唯一參選人，內布拉斯加州有選民對於共和黨沒有選擇感到無奈。\\xa0民主黨西維吉尼亞州初選是唯一有競爭性的初選，縱然希拉蕊領先對手桑德斯，僅差155張黨代表票就可取得提名資格。\\xa0同時，昆尼皮亞克大學（Quinnipiac University）10日公佈的民調顯示，川普與希拉蕊在三個關鍵州支持率接近。川普在佛州和賓州的支持率僅落後希拉蕊1個百分點，在俄亥俄州，川普以43%支持率領先希拉蕊4個百分點。 另外，「公共政策民調」（Public Policy Polling）的民調顯示，希拉蕊的全國支持率僅領先川普4個百分點。（國際中心／綜合外電報導）', 'view_cnt': 3059}, {'link': 'http://www.appledaily.com.tw//realtimenews/article/international/20160511/858253/歧視失言遭解職\\u3000白人警重回崗位首度道歉', 'category': '國際', 'title': '歧視失言遭解職\\u3000白人警重回崗位首度道歉', 'time': '2016/05/11 05:37', 'summary': '美國加州一名資深警察前年底因其網路發言被認為是歧視黑人而被解雇，他近日重新回到工作岡位，並且對此事件公開表示歉意。\\xa0住在加州聖荷西的懷特（Phillip White）擔任警察將近20年，他在2014年底於社群網站推特（Twitter）上發表措辭激烈的言論，表示任何人只要威脅到他和他的家人，「我將會用上帝賦予我的權利毫不留情地殺了你」，他甚至揚言如果有人令他無法呼吸、或是威脅到他生命的話，即使已經下了班他也會帶著槍，到任何地方去堵對方。\\xa0懷特的激烈網路言論引發強烈反彈，許多人認為他是針對非裔人士，衝著「黑人的命也是命」（black lives matter）運動的支持者而來，事發之後警局內部也認為懷特的言行造成員警與市民之間的不信任感加深，更有數千人連署呼籲聖荷西警察局解雇懷特，說他根本不配戴上神聖的警徽，更不能配帶槍支，讓整個社區處於極端危險之中。\\xa0懷特在去年10遭解職，但今年2月又悄悄地復職，他在本周一公開接受媒體訪問，除了說明事情原委也首次公開道歉。懷特表示「如果可能的話他願意收回那些話。」但懷特強調自己的言論並沒有歧視任何人的意圖，懷特的太太與家人也都出現在專訪中，表示懷特家庭成員有華裔、非裔等各種背景人士，他不可能會因為種族而歧視任何人。\\xa0懷特強調，自己會有激烈的發言，是因為感到家人和自己受到威脅，他針對的是威脅他的人，而不是「黑人的命也是命」運動的支持者。他表示這雖然是個誤會，但是他的言論的確讓有些人感到不舒服，因此他現在能做的就是向大家表示歉意。（廖育琳／綜合外電報導）', 'view_cnt': 1679}, {'link': 'http://www.appledaily.com.tw//realtimenews/article/international/20160511/858252/提供土耳其免簽\\u3000歐洲議會：先完成72項條件', 'category': '國際', 'title': '提供土耳其免簽\\u3000歐洲議會：先完成72項條...', 'time': '2016/05/11 05:26', 'summary': '在歐洲議會中，反對給予土耳其免簽優惠的聲音逐漸增加。歐洲議會表示，土耳其先要滿足全部72個前提條件，才會對其免簽問題進行商議。\\xa0歐洲議會在與第三國的協議問題上有共同決定權，因此沒有歐洲議會的同意，計畫中的土耳其免簽協議無法生效，安卡拉早就要求歐盟讓國民在申根區享受90天免簽，但未被歐盟提上日程討論。如今為了與土耳其合作、共同解決難民危機，歐盟做出讓步，允諾考慮安卡拉的免簽要求。\\xa0但要實現免簽，土耳其要滿足72個前提條件，目前還有5個條件未達到，包括修改反恐法；遵照歐盟建議立法防止貪污；保護個人資訊；和歐盟成員國合作打擊犯罪等，土耳其總統艾爾段10日再次批評歐盟的要求，希望歐盟信守承諾，最晚在10月開始實施土耳其公民免簽。\\xa0人權組織指責土耳其政府以反恐之名打壓新聞自由，恐嚇知識分子並將他們關入監獄，但土耳其政府表示，為了打擊庫德族民兵組織和恐怖組織「伊斯蘭國」，這些規則都不可放棄。\\xa03月18日，歐盟與土耳其達成難民協議，旨在阻止從愛琴海湧向歐洲的難民潮。按照該計畫，從3月20日起，即可從希臘向土耳其遣返經濟難民等不符合規定的難民申請人。作為回應，土耳其每接收一名從歐盟被遣返的難民，歐盟就從土耳其直接接受一名敘利亞難民。（國際中心／綜合外電報導）', 'view_cnt': 983}, {'link': 'http://www.appledaily.com.tw//realtimenews/article/international/20160511/858250/無故持警棍痛毆嫌犯\\u3000舊金山2警遭重罪起訴', 'category': '國際', 'title': '無故持警棍痛毆嫌犯\\u3000舊金山2警遭重罪起訴', 'time': '2016/05/11 04:56', 'summary': '美國加州去年11月發生一起警方執法過當事件，檢方在經過6個月調查之後於近日將涉案2名舊金山員警以重罪逮捕。\\xa0美國舊金山2名警察在去年11月中追捕一名偷車犯，嫌犯遭逮捕時明顯未做出抵抗，但兩名警察仍用警棍朝他猛打。警察打人畫面曝光後立刻引發喧然大波。\\xa0據美國有線電視新聞網（CNN）周一報導，舊金山檢方在經過6個月的調查之後決定以重攻擊罪名起訴涉案警官山塔瑪里亞（Luis R. Santamaria）以及魏伯（Paul D. Wieber）。\\xa0嫌犯是26歲的佩卓夫（Stanislav Petrov），當時他涉嫌一件偷車案件卻逃避警方盤查，衝撞警車並與警方高速追逐。警匪追逐逾半小時後，嫌犯撞上另一輛路邊車輛，接著下車跑離現場，影片中可以看到，當時嫌犯跑進舊金山米慎區（Mission District）的一條小巷中，腳步逐漸變慢，兩名警察立刻上前制伏他，嫌犯並沒有攜帶武器也沒有反抗，但2名員警卻拿出警棍毆打他至少超過30次。（廖育琳／綜合外電報導）', 'view_cnt': 1713}, {'link': 'http://www.appledaily.com.tw//realtimenews/article/international/20160511/858249/臉書遭控有偏見\\u3000過濾保守派新聞\\u3000', 'category': '國際', 'title': '臉書遭控有偏見\\u3000過濾保守派新聞\\u3000', 'time': '2016/05/11 04:52', 'summary': '社群網站臉書（Facebook）被指人為編輯熱門話題名單，審查過濾政治保守的文章。臉書公司10日否認指控，稱公司依據嚴格的準則，確保以政治中立的立場向全世界16億用戶發佈新聞。\\xa0美國科技博客Gizmodo 9日發文稱，據多名臉書前員工爆料，臉書人為操控改變特定話題的熱度和傳播趨勢，稱這是一種常態。其中一名前員工透露，熱門話題一欄裡刻意剔除政治保守網站發佈的傳統保守派相關話題的熱門文章。\\xa0這些所謂禁止的話題包括威斯康辛州州長史考特沃克（Scott Walker）和前福斯新聞撰稿人史蒂芬克勞德（Steven Crowder）的相關文章，員工表示發現保守政治行動會議（CPAC）、美國共和黨大老拉穆尼（Mitt Romney）、格林貝克（Glenn Beck），或者流行的保守派話題都不會變得熱門，「這可能因為臉書欄目管理者沒有識別這一新聞主題，不然就是臉書有偏見」。\\xa0臉書表示他們網站上的熱門新聞都是由演算法決定，再經審查小組確認是當下熱門新聞後發布，從未人為操控，不過Gizmodo指臉書管理者曾受令將上級認為重要的新聞放入熱門新聞欄目，但實際上這些新聞並不是熱門新聞。（國際中心／綜合外電報導）', 'view_cnt': 792}, {'link': 'http://www.appledaily.com.tw//realtimenews/article/local/20160511/858248/【鄭捷槍決】張鐵志難過：許多人只想要報復', 'category': '社會', 'title': '【鄭捷槍決】張鐵志難過：許多人只想要報復', 'time': '2016/05/11 04:40', 'summary': '犯下台北捷運4死命案的鄭捷於昨晚槍決，作家張鐵志凌晨在臉書表態反對死刑，他發文表示，儘管鄭捷確實殺害許多無辜，但政府、社會的許多人只想要報復，以為槍決就能制止社會的惡，而不去理解、改變惡的形成，去讓社會能夠往前走。張鐵志最後寫道，「羅瑩雪。這是你的名字是吧。」\\xa0張鐵志認為，我們都不是神，我們也曾經也「以為」看到了蘇建和3人殺人、鄭性澤殺人、江國慶殺人，但如果不是廢死聯盟和許多人長期營救，蘇建和和鄭性澤等人可能也跟江國慶一樣枉死。他覺得人不是神，必然有盲點和自以為是的判斷，而「只要有一人會因為誤判而死，就應該反對這個制度」。（即時新聞中心／綜合報導）', 'view_cnt': 16837}, {'link': 'http://www.appledaily.com.tw//realtimenews/article/international/20160511/858247/美阿聯合反恐\\u3000意外救出巴基斯坦前總理之子', 'category': '國際', 'title': '美阿聯合反恐\\u3000意外救出巴基斯坦前總理之子', 'time': '2016/05/11 04:28', 'summary': '駐阿富汗美軍當地時間10日與阿富汗安全部隊執行聯合反恐任務時，救出3年前遭綁架的巴基斯坦前總理尤瑟夫拉札季蘭尼（Yousaf Raza Gilani）之子阿里海德季蘭尼（Ali Haider Gilani）。 \\u3000\\u3000\\xa0美國防部10日在聲明中表示，駐阿美軍與當地安全部隊當天在東南部派克蒂卡省進行聯合反恐行動，擊斃4名恐怖分子，並救出阿里海德季蘭尼，美阿部隊當天的行動目標是突襲位於派克蒂卡省基揚地區的基地組織據點，解救阿里實屬意外。\\xa0現年30歲的阿里被救出時身體狀況良好，已搭乘美軍直升機轉移。阿富汗與巴基斯坦官方正通過外交管道處理此事，阿里將於近期返回巴基斯坦。 \\u3000\\u3000\\xa0阿里2013年5月在巴基斯坦東部旁遮普省出席競選活動時被綁架，他的兩名助手被打死，父親先前曾接過綁匪電話，要求用數名基地組織被囚成員進行交換。（國際中心／綜合外電報導）', 'view_cnt': 2088}, {'link': 'http://www.appledaily.com.tw//realtimenews/article/local/20160511/858245/【鄭捷伏法】王薇君：LawInShit', 'category': '社會', 'title': '【鄭捷伏法】王薇君：Law In Shi...', 'time': '2016/05/11 04:19', 'summary': '犯下台北捷運4死命案的鄭捷於昨晚槍決，兒童權益促進會理事長王薇君今天凌晨在臉書發文，直言沒什麼好開心的，「真的要我說點甚麼？只想說 Law In Shit（司法像大便）」，並將心情設為「覺得好諷刺」。\\xa0其他網友紛紛留言回應，「昨晚的槍決是一場秀，想不到的是政府口口聲聲說民粹，今晚終於見識到鼓譟民粹的最高境界」、「姑姑的重點從來就不是看到犯人的槍決而愉悅啊！」、「本來該怎樣就怎樣，何來高興之有？」（（即時新聞中心／綜合報導）', 'view_cnt': 15333}, {'link': 'http://www.appledaily.com.tw//realtimenews/article/international/20160511/858246/法國會副議長陷性騷醜聞請辭\\u3000檢方展開調查', 'category': '國際', 'title': '法國會副議長陷性騷醜聞請辭\\u3000檢方展開調查', 'time': '2016/05/11 04:18', 'summary': '法國國會副議長杜尼布邦（Denis Baupin）因陷入性騷擾醜聞而辭職後，巴黎檢方10日宣佈就此事展開司法調查。\\xa0布邦是法國現任住房部長埃瑪紐埃勒科塞的丈夫，曾為歐洲生態黨－綠黨成員，最近因政見不合而退黨。日前多名曾是黨內女性同僚向媒體爆料，1998年至2014年期間，她們均曾遭到布邦的言語或肢體騷擾。\\xa0控訴布邦性騷擾的女性包括綠黨發言人桑德蘭魯索、國會議員伊莎貝爾阿塔爾、勒芒市副市長埃琳德博、巴黎市政府官員安妮拉默等，但迄今布賓對她們的指控一直矢口否認。\\xa0法國國會議長巴爾托洛內9日為此事專門召見布邦，布邦約談後宣佈請辭，但他堅稱自己清白，辭職的原因只是為了維護國會的聲譽。他隨後還通過律師宣稱，將以誹謗為由對率先報導性騷擾醜聞的媒體採取法律行動。 （國際中心／綜合外電報導）', 'view_cnt': 651}, {'link': 'http://www.appledaily.com.tw//realtimenews/article/local/20160511/858243/鄭捷伏法後\\u3000小燈泡媽媽分享李茂生講座', 'category': '社會', 'title': '鄭捷伏法後\\u3000小燈泡媽媽分享李茂生講座', 'time': '2016/05/11 04:07', 'summary': '4歲女童「小燈泡」之前在台北市街頭遭隨機殺害奪命，她的母親在鄭捷槍決隔天凌晨在臉書發文，分享台灣大學法律學院教授李茂生的講座，認為「無差別殺人事態與你我都有關，多瞭解一些，才有可能做些改變」。\\xa0李茂生挺廢除死刑，在小燈泡被殺害時，他也曾在臉書發文表示，「殺了這個惡魔，還是有下一個惡魔」、「死刑與強制治療是沒有辦法解決問題的」。而小燈泡媽媽分享的講座，李茂生講的主題是「面對傷痛 無差別殺人事態的成因與解決」，海報上指出民眾對於無差別殺人知道太少，造成民眾陷入無能為力的恐懼、讓社會籠罩猜忌懷疑。（即時新聞中心／綜合報導）', 'view_cnt': 39345}, {'link': 'http://www.appledaily.com.tw//realtimenews/article/international/20160511/858239/遊樂設施駭人意外\\u300011歲女童慘遭掀頭皮', 'category': '國際', 'title': '遊樂設施駭人意外\\u300011歲女童慘遭掀頭皮', 'time': '2016/05/11 03:58', 'summary': \"美國內布拉斯加州一名11歲女童周日在參加當地嘉年華會時，不慎在大型遊樂設施上頭髮遭機器捲入，造成頭皮被掀開的慘劇，小女孩目前還在加護病房，情況危急。\\xa011歲女童吉莉絲（Elizabeth Gilreath）上周六參加墨西哥慶典「五月五日節」（Cinco de Mayo）嘉年華，玩一款名為「皇冠」（King's Crown）的大型旋轉遊樂設施，但過程中頭髮被機械夾住，慘遭扯翻頭皮。\\xa0目擊者表示，事發當時可聽見女童尖叫，但在場工作人員不知如何處理，讓機器繼續運轉將近10分鐘，女童的爸爸回想當時情況，落淚表示簡直是「酷刑」。\\xa0吉莉絲的媽媽說女兒很寶貝自己一頭漂亮的秀髮，現在不僅頭髮沒了，連頭骨也都破碎骨折，頭皮到眼皮整個都被掀起。她把女兒在加護病房裡與病魔奮鬥的照片公開在臉書上，表示希望喚起大眾對遊樂設施安全的重視。警方目前已經展開調查，遊樂設施公司表示願意全力配合，稱此設施在3月還進行過維護。（廖育琳／綜合外電報導）\\n翻攝臉書\", 'view_cnt': 8062}, {'link': 'http://www.appledaily.com.tw//realtimenews/article/international/20160511/858244/《巴拿馬文件》\\u3000英女星艾瑪華生也上榜', 'category': '國際', 'title': '《巴拿馬文件》\\u3000英女星艾瑪華生也上榜', 'time': '2016/05/11 03:55', 'summary': '美國「國際調查記者聯盟」（ICIJ）台灣時間10日凌晨2時，開放巴拿馬文件開放網路資料庫，可供一般民眾搜尋，英國新生代女星艾瑪華生（Emma Watson）成最新上榜的知名影星。\\xa0文件顯示．艾瑪華生為一家設在英屬維京群島的境外公司Falling Leaves LTD, 的股東，她的代表人對此回應稱，艾瑪設立境外公司單純是為了保護個人隱私，絕無用來逃稅或其他不法用途。\\xa0在英國公司行號必須公開股東的身分資料，艾瑪為保障自己安全，保有匿名性，才選擇設立境外公司。（國際中心／綜合外電報導）', 'view_cnt': 3717}, {'link': 'http://www.appledaily.com.tw//realtimenews/article/local/20160511/858240/【鄭捷伏法】葉毓蘭：若家人多些愛\\u3000他會有不同人生', 'category': '社會', 'title': '【鄭捷伏法】葉毓蘭：若家人多些愛\\u3000他會有...', 'time': '2016/05/11 03:49', 'summary': '犯下台北捷運4死命案的鄭捷於昨晚槍決，警察大學前教授葉毓蘭在臉書發文表示，鄭捷想盡辦法向世人宣告他沒有教化的可能，現在如願以償，她希望未來鄭捷能夠胎到一個充滿愛的家庭，「我還是相信，如果你的家人多給你一些關心、多些愛，你應該會有一個不同的人生。」\\xa0葉毓蘭表示聽到鄭捷伏法的消息時覺得難過，「來不及了解鄭捷為什麼變成這麼兇殘、為什麼會完全關閉與外界的溝通、為什麼不願意表示懺悔，有太多的為什麼會隨著鄭捷而離去」。她表示，為鄭捷做過心理評鑑的朋友曾告訴她，鄭捷求死但沒有勇氣自殺，所以靠捷運屠殺來自殺。（劉育良／綜合報導）', 'view_cnt': 13848}, {'link': 'http://www.appledaily.com.tw//realtimenews/article/forum/20160511/858242/史丹利：婚後常被問到的問題', 'category': '論壇', 'title': '史丹利：婚後常被問到的問題', 'time': '2016/05/11 03:43', 'summary': '因為剛結完婚，總會遇到一些惱人的問題，像單身總會被問「怎麼不交個男(女)朋友？」在交往的人會被問到「什麼時候要結婚？」一樣，結完婚最常被問到的是「什麼時候要生小孩？」這真是個很惱人的問題。因為身分關係，不管是媒體報導還是自己上節目，都很明確地說了我們不想要生小孩，但直到現在我遇到人，除了恭喜之外，最常被問到的就是什麼時後要生小孩，不厭其煩。就算我又跟他們說了我們不想生小孩，對方一定會回說「確定嗎」或是「話不要說太快，現在不想說不定以後就會想了」之類的話， 好像我生小孩他就會有獎金一樣，巴不得我一定要有小孩，而且還帶有幸災樂禍的感覺。我只想說，不管有沒有想生小孩，這樣不經意的問題都會給對方無形的壓力，像我不想生的就會覺得煩，對想生但生不出來的又是個更大的壓力，不管怎樣，這都是只有經歷過才會知道的問題。所以我現在都會說「醫生說我不孕」來堵對方的嘴，這真是個一勞永逸的好方法啊！\\xa0沒變就是最好的改變另一個婚後常被問到的是，「婚後的感覺如何？有沒有什麼改變？」大概都被記者的無腦問話洗腦了，感覺如何這種話真不知該如何回答。其實我都回答「就沒有變都一樣啊！」因為真的沒什麼太大的改變。我一直覺得婚後沒有改變就是最好的改變，這才是最自然的。畢竟婚姻就只是兩人交往的一個過程，而結婚只是一個名目，不用太在意這個「名詞」，最大不同就只有要共同經營的從感情延伸到一個家，但這應該也是個自覺，不用特意轉變的。所以，關心真的很好，但就請別不經意地給對方太大的壓力吧！\\n更多史丹利文章', 'view_cnt': 5072}, {'link': 'http://www.appledaily.com.tw//realtimenews/article/forum/20160511/858241/睡天使醒惡魔：三鷹吉卜力美術館一日玩透透', 'category': '論壇', 'title': '睡天使醒惡魔：三鷹吉卜力美術館 一日玩透...', 'time': '2016/05/11 03:41', 'summary': '喜歡宮崎駿動畫的朋友，東京自助行一定要將「三鷹吉卜力美術館」景點納入行程，結束感動美學之旅之後，就一路散步到有許多的商場、雜貨、餐廳和商店街的吉祥寺吃、喝、玩、樂、敗，最後在與車站共構的atré吉祥寺商場買買名店伴手禮，為旅程畫下完美的句點。\\xa0睡天使醒惡魔成長日誌\\xa0http://naughtyangel.pixnet.net/blog\\n與車站共構的atré吉祥寺商場名店，好逛又好買。井之頭恩賜公園可踩小船賞湖景。芒果三明治又厚又新鮮。更多睡天使‧醒惡魔文章', 'view_cnt': 3082}, {'link': 'http://www.appledaily.com.tw//realtimenews/article/international/20160511/858236/女囚屢遭獄警性侵\\u3000企圖自殺超過100次', 'category': '國際', 'title': '女囚屢遭獄警性侵\\u3000企圖自殺超過100次', 'time': '2016/05/11 03:24', 'summary': '美國紐約一名女囚近日稱自己在獄中曾屢次遭獄警性侵虐待，導致她在牢裡試圖自殺超過100次想要以死解脫，她近日發起訴訟，要向紐約市府討1000萬美元的賠償金。\\xa0據《紐約每日新聞》報導，32歲的海莉（Candie Hailey）住在紐約市布朗克斯區，她在2012年因為涉嫌刺殺3個月大的嬰兒入獄，雖然她在去年5月被判無罪，但是在等待審判的過程中仍坐了29個月的牢。\\xa0海莉說她在雷克島（Riker Island）監獄坐牢期間常常遭到獄警性侵虐待，還無故被管禁閉，身心俱疲的她試圖自殺超過100次，想要以死解脫。海莉出獄之後計畫控告紐約市府，要求1000萬美元的賠償金。\\xa0海莉說自己在牢裡簡直生不如死，獄警只要遇到搜身的機會就會對她上下其手，禁閉室的惡劣環境也讓她失去了求生的意志。她為了尋死，曾經利用燈泡、塑膠杯和除毛劑等物品自殺。海莉在坐牢的29個月裡，有大約27個月都被關在禁閉室中，受到種種不人道的對待。讓她在出獄之後決定要控告紐約市府，揭發獄中陋習。（廖育琳／綜合外電報導）\\n翻攝《紐約每日新聞》', 'view_cnt': 10575}, {'link': 'http://www.appledaily.com.tw//realtimenews/article/international/20160511/858237/繞過國會\\u3000法政府強行通過勞改法', 'category': '國際', 'title': '繞過國會\\u3000法政府強行通過勞改法', 'time': '2016/05/11 03:13', 'summary': '法國總理瓦爾斯（Manuel Valls）10日宣佈，決定動用憲法第49條第3款，不需經過議員討論和表決，強行通過備受爭議的勞動法修改草案。法國憲法第49條第3款允許政府避免國會否決相關法案，除非在政府提出動用該條款後24小時內，國會提出不信任案投票並通過才能推翻政府決議，否則該法案即視為通過，藉以達到行政權優勢。 \\u3000\\u3000\\xa0瓦爾斯在下議院會議上發言指出，上述決定是因為勞改法需有成果，國家需要前進。他說當天舉行的特別內閣會議已准許他動用憲法第49條第3款。本月3日開始，國會開始審議勞動法修改草案，這一備受爭議的法案引發眾多法國民眾走上街頭抗議示威。\\u3000\\u3000\\xa0法國政府希望實施勞動法改革，通過賦予雇主更多聘用自主權，移除部分保障被解雇的員工權益，降低解雇條件，以鼓勵企業聘用更多人，並允許企業減少工時以減低支付薪資等，以解決法國失業問題。分析人士指出，這一改革從長遠看有利於提升法國經濟活力、增加就業崗位、增強法國國際競爭力，但對於年輕學生和企業員工來說，該改革意味福利削減，工作保障減少。\\xa0因此自2月勞動法改革消息公佈後，法國工會便接連發起大規模示威抗議。法國政府被迫讓步，對勞動法草案進行修改。然而部分強硬的工會勢力仍主張全面否定新勞動法草案。（國際中心／綜合外電報導）', 'view_cnt': 1110}, {'link': 'http://www.appledaily.com.tw//realtimenews/article/international/20160511/858235/暴雨引土石流\\u3000烏干達釀12死', 'category': '國際', 'title': '暴雨引土石流\\u3000烏干達釀12死', 'time': '2016/05/11 02:47', 'summary': '烏干達紅十字會官員10日表示，9日暴雨引發土石流，在烏干達西部造成至少12人死亡。 \\u3000\\u3000\\xa0受當地時間9日晚暴雨影響，烏干達魯文佐里山發生土石流，波及附近城鎮及該國和剛果民主共和國交界周邊地區，造成人員傷亡，暴雨還造成約200棟房屋受損，道路橋梁斷裂。 \\u3000\\u3000\\xa0由於降雨是在夜間，大多受災民眾事發時都在睡覺，來不及逃難，目前已尋獲12具遺體，估計恐還會有更多罹難者，搜救行動仍在進行中。 \\u3000\\u3000\\xa0烏干達曾多次發生由暴雨引發的土石流。2010年3月烏干達東部布杜達行政區遭遇大規模土石流襲擊，摧毀3座村莊，至少94人死亡，約320人失蹤。（國際中心／綜合外電報導）', 'view_cnt': 799}, {'link': 'http://www.appledaily.com.tw//realtimenews/article/international/20160511/858233/性愛影片外流\\u3000樂團主唱索性自己來賣', 'category': '國際', 'title': '性愛影片外流\\u3000樂團主唱索性自己來賣', 'time': '2016/05/11 02:45', 'summary': '美國加州有對情侶日前性愛影片不慎外流，事發之後小倆口竟索性決定既然片子都已經曝光了，那就肥水不落外人田，自己把性愛影片放上網路賣錢。\\xa0這對事主是加州洛杉磯銀湖（Silver Lake）地區樂團「YACHT」的主要團員貝齊托（Jona Bechtolt）和艾文思（Claire L. Evans），兩人從2006年開始交往並一起玩音樂。\\xa0這對情侶周一先是在臉書上表示他們的性愛影片遭到有心人士散播，呼籲大眾和粉絲不要點閱這個影片、侵犯他們的隱私。\\xa0但過了幾個小時之後他們又在臉書上發言，說既然影片都已經外流了，那乾脆就自己來賣好了。這對情侶說之所以會這樣做，是想要堅持樂團最原始的樣貌和原則，並找回整件事的主導權。兩人已經為了此影片設立網頁，讓有興趣的粉絲可以購買，只要花5美元（約162元台幣）就可以下載貝齊托和艾文思的性愛影片。\\xa0許多粉絲購買影片之後紛紛表示內容非常精彩，還表示影片之所以會好看是因為主角之間有真愛。不過也有粉絲反應網頁有問題，可能是同時想要下載的人太多，造成網站負荷量過重當機。另外也有網友質疑此事件和影片的真實性，指出這可能是樂團想要炒知名度的手段。（廖育琳／綜合外電報導）', 'view_cnt': 12046}, {'link': 'http://www.appledaily.com.tw//realtimenews/article/international/20160511/858234/不爽被超車\\u3000印度議員兒子涉開槍殺人', 'category': '國際', 'title': '不爽被超車\\u3000印度議員兒子涉開槍殺人', 'time': '2016/05/11 02:37', 'summary': '印度一名議員的20歲兒子洛基亞達夫（Rocky Yadav）涉嫌因不滿被超車，開槍射殺一名男學生阿迪蒂亞薩奇德瓦（Aditya Sachdeva），隨後潛逃現已落網，洛基否認射殺該學生，並稱自己並未畏罪潛逃。\\xa0事發於7日晚洛基亞達夫的座車行駛在比哈爾邦邦一條公路上，當時阿迪蒂亞薩奇德瓦乘坐的汽車超過洛基的座車，讓他怒火中燒。報導指洛基的車內傳出朝空中開槍，薩奇德瓦一行人誤以為是汽車爆胎，停車查看，洛磯和保鑣也停車和對方爆發衝突，目擊者表示洛基朝薩奇德瓦開槍，薩奇德瓦在送醫途中身亡。\\xa0洛基的媽媽瑪諾拉瑪黛維（Manorama Devi）是比哈爾邦邦聯合人民黨議員，事發後洛基的父親因涉嫌協助兒子逃逸被捕，警方報告稱洛基被捕後認罪，但洛基卻駁斥稱他從未開槍，且事發當時他人在德里，媽媽也否認兒子開槍，爸爸則辯稱對方先攻擊兒子，兒子純屬自衛。調查顯示，洛基是一家射擊俱樂部的會員，所使用的手槍屬於合法登記。 \\u3000 \\u3000\\u3000\\xa0這起事件在當地引起民眾、特別是學生的憤怒，發起示威抗議，目前全案仍在調查中。（國際中心／綜合外電報導）', 'view_cnt': 2745}, {'link': 'http://www.appledaily.com.tw//realtimenews/article/international/20160511/858227/7秒內解9位數除法\\u3000華裔天才奪全美數學冠軍', 'category': '國際', 'title': '7秒內解9位數除法\\u3000華裔天才奪全美數學冠...', 'time': '2016/05/11 02:18', 'summary': '住在美國西雅圖的一名13歲華裔天才周一在華府於7秒內解出9位數除法，奪得全美數學競賽冠軍。\\xa0據福斯新聞網（Fox）報導，13歲7年級華裔學生愛德華萬（Edward Wan，音譯）就讀西雅圖的湖畔中學（Lakeside Middle School），他周一於華府舉行的「全美數學大賽」（Raytheon MATHCOUNTS National Competition）中打敗來自美國各地224位高手，贏得全美數學冠軍的頭銜以及2萬美元獎學金。\\xa0愛德華萬在決賽中於7秒之內回答出定勝負的題目：999999999除以32的餘數是什麼？打敗了從德州來的6年級生羅比泰勒（Luke Robitaille）。今年全美共有超過10萬名學生參加此競賽，愛德華萬能過關斬將拿下冠軍真的非常不容易。（廖育琳／綜合外電報導）', 'view_cnt': 10320}, {'link': 'http://www.appledaily.com.tw//realtimenews/article/international/20160511/858224/「猜寶寶性別」派對玩超大\\u3000拿炸藥當道具挨批', 'category': '國際', 'title': '「猜寶寶性別」派對玩超大\\u3000拿炸藥當道具挨...', 'time': '2016/05/11 01:49', 'summary': '美國近年來非常流行「猜寶寶性別」派對，準爸媽們會和親友一起在派對上切蛋糕揭曉寶寶的性別。但是最近這類派對奇招盡出，連炸藥也成了道具，因此出現了許多「玩過頭了」的批評聲浪。\\xa0美國這類寶寶「性別揭曉派對」形式多樣，最常見的是用蛋糕顏色來揭曉，準爸媽們在派對上切蛋糕，內餡若是粉紅色就是女生、若是水藍色就是男生。參加派對的親友也會「下注」，穿著自己認為寶寶性別的顏色出席來共襄盛舉。有的時候連準爸媽自己都不知道寶寶的性別，而是在產檢的時候請醫生把性別寫下放在信封袋裡，唯一會事先知道寶寶性別的人只有蛋糕師傅。\\xa0但這樣的派對最近變化越來越多樣，去年底美國住在南達科塔州的準媽媽派麗許（Amanda Parrish）就請了她的髮型設計師來為她準備這個驚喜，為她把頭髮染成符合寶寶性別的顏色，事先完全不知寶寶性別的派麗許在毛巾拿下的那一刻看到了寶藍色，立刻驚喜尖叫，這段影片在網路上遭到網友瘋傳、也引來許多批評。很多人認為不管生男生女應該都一樣好，實在不需要大費周張這樣刻意營造「驚喜」，而且孕婦染髮也對寶寶不好。\\xa0美國另一對住在佛羅里達州的準爸媽，上周三所辦的「性別揭曉派對」居然還用上了炸藥。準爸爸巴徹德（Keith Batchelder）是一名軍人，於是想到了在紙箱裡同時裝炸藥和有色粉末的點子，他請人把寶寶性別顏色的粉末和炸藥裝箱之後，小倆口就在數十公尺遠處對著箱子開槍，隨著箱子中彈、炸藥爆炸，藍色的粉末也炸得到處都是。\\xa0這個原本只是邀請親友同樂的派對小遊戲，現在已經演變成了各種誇張又奢華的「巨作」，讓許多人質疑活動的原意到底何在。（廖育琳／綜合外電報導）\\n翻攝Instagram翻攝YouTube翻攝臉書', 'view_cnt': 3277}, {'link': 'http://www.appledaily.com.tw//realtimenews/article/international/20160511/858225/台日官員交流\\u3000傳唐家璇曾表不滿', 'category': '國際', 'title': '台日官員交流\\u3000傳唐家璇曾表不滿', 'time': '2016/05/11 01:44', 'summary': '據日本共同社10日獨家報導指，多名相關人士透露，中國前國務委員唐家璇4日在北京與日中友好議員聯盟訪中團會晤時，曾就日本與台灣議員交流顯露出不滿。\\xa0唐家璇是中日友好協會會長，在對日外交政策上具有一定的影響力。據分析，這可能是中方警惕日本與20日接任的民進黨蔡英文政府接近而做出表態。蔡英文去年10月訪日時，日本首相安倍晉三的胞弟、眾議員岸信夫陪同蔡英文前往安倍家鄉山口縣等，加深和蔡英文的關係。中方在應對歷史認識和南海問題上對於安倍的不信任加深，可見對安倍身邊人士與台灣新政府的交流保持警覺。 \\u3000\\u3000\\xa0據相關人士透露，唐家璇在會談中表示看到日方出現不遵循日台斷交歷史的動向，質疑日本政治家為何相繼赴台。在蔡英文當選總統後的1月下旬，日本自民黨議員古屋圭司訪台與蔡英文舉行會談，此外岸信夫也與訪日的台北市長柯文哲會晤。日本在野黨方面，日民進黨前國家戰略擔當相古川元久和前防衛副大臣長島昭久4月下旬訪台。 \\u3000\\u3000\\xa0據稱，唐家璇還對岸信夫擔任會長的促進日本與台灣經濟文化交流的年輕議員會力爭制定日本版與台灣關係法（暫名）一事表示警惕。日本版旨在模仿規定美國對台防衛支援義務的美國國內法《與台灣關係法》。（大陸中心／綜合外電報導）', 'view_cnt': 4303}, {'link': 'http://www.appledaily.com.tw//realtimenews/article/international/20160511/858223/英國伊拉克戰爭報告\\u30007月6日公開', 'category': '國際', 'title': '英國伊拉克戰爭報告\\u30007月6日公開', 'time': '2016/05/11 01:30', 'summary': '延宕已久的英國伊拉克戰爭報告終於要公開，英國伊拉克戰爭調查委員會主席約翰齊爾考特（John Chilcot）9日表示，伊拉克戰爭調查報告將於7月6日正式發表，主要重點為英國2003年加入伊拉克戰爭的原因，以及時任英國首相布萊爾在其中扮演的角色。 \\u3000\\u3000\\xa0這份報告上月終於完成，超過250萬個字，齊爾考特表示國家安全審查已完成，報告將完整發表，不會有任何刪減。在伊拉克戰爭期間陣亡的179名英國士兵的家屬將優先看到這份報告。 \\u3000\\u3000\\xa0英國對伊拉克戰爭的調查始於2009年，布萊爾曾兩次接受調查委員會的聆訊。調查報告之所以遲遲不能發表，主要原因是哪些秘密文件能公開的談判曠日持久，這些秘密文件包括布萊爾與時任美國總統布希之間的書信往來以及英美兩國情報部門的關係。 \\u3000\\u3000\\xa0英國針對伊拉克戰爭的調查委員會於2009年成立，調查時間範圍從2001年夏到2009年7月底，內容囊括英軍備戰、參戰、撤軍的全部過程，旨在判斷英國當年參戰是否具有正當性，以及時任首相布萊爾是否利用虛假資訊誤導國會議員和民眾。（國際中心／綜合外電報導）', 'view_cnt': 1321}, {'link': 'http://www.appledaily.com.tw//realtimenews/article/international/20160511/858222/坎城影展將開幕\\u3000大批警力加強維安\\u3000', 'category': '國際', 'title': '坎城影展將開幕\\u3000大批警力加強維安\\u3000', 'time': '2016/05/11 01:12', 'summary': '第69屆法國坎城國際電影節於11日開幕，巴黎恐怖攻擊發生六個月之後，目前法國全國仍處於緊急狀態，當局出動大批警力為影展維安。\\xa0報導稱，為保證這一全球馳名的坎城影展順利進行，法國內政部長卡澤納夫於當地時間9日抵達坎城視察。他表示，影展舉行期間，法國當局每天都會投入數百名警力維持治安。 同時，坎城電影節主辦方還聘用400名私家保全，對進入電影院的來賓進行檢查。\\xa0坎城海岸線行駛車輛也將受到限制，警方會對車輛進行攔檢，卡澤納夫表示，還將採取其他的特殊安全保護措施，但細節不便透露。另外，在電影節期間，坎城警察局將專門設置行動指揮中心，協調指揮。（國際中心／綜合外電報導）', 'view_cnt': 884}, {'link': 'http://www.appledaily.com.tw//realtimenews/article/entertainment/20160511/858031/女丑藝人削到爆\\u3000養老存款竟有這麼多', 'category': '娛樂', 'title': '女丑藝人削到爆\\u3000養老存款竟有這麼多', 'time': '2016/05/11 01:00', 'summary': '44歲日本女諧星大久保佳代子出道24年，密集參加許多綜藝節目演出，是很受歡迎的搞笑人氣咖。搶錢很有一套的她，日前參加《行腳旅者》（暫譯）節目被問及敏感的存款話題，她說出了存款數字後，讓同台女星杉田薰、道端安潔莉卡當場瞠目結舌，但事後卻被製作單位消音，由於她2年前曾透露存款多達1億日圓（約3000萬元台幣）以上，外界推估她現在至少有逾1.5億日圓（約4500萬元台幣）的身家。\\xa0大久保佳代子常上小淳主持的《男女糾察隊》，廣為台灣觀眾所熟悉，她長得雖然不漂亮，但獨特的口調和自成一格的搞笑形象，也獲得不少粉絲喜愛。\\xa0至今未婚的她曾表示，等以後年紀大了，想退休1個人悠閒的生活，她認為要過得舒服，1個月生活費最少要有9萬元台幣，如果從60歲退休開始計算，到80歲至少要存到2160萬元才夠花。\\xa0她多年來靠上節目、演戲、代言省吃儉用存下一大筆養老金，日本網友都對她十分佩服，也對她始終沒遇到好男人結婚大感惋惜，建議她存錢養老，也要不放棄找適合對象當將來的老伴，以後老了才不會孤單。（蘇威全／綜合報導）\\xa0\\n大久保佳代子（右起）日前參加《行腳旅者》節目與女星杉田薰、道端安潔莉卡同台。翻攝TBS電視台畫面杉田薰直接求證大久保佳代子存款不少的報導。翻攝TBS電視台畫面大久保佳代子在節目中自爆存款數字，卻被電視台消音。翻攝TBS電視台畫面', 'view_cnt': 54665}, {'link': 'http://www.appledaily.com.tw//realtimenews/article/international/20160511/858217/【蘋果數】英新民調46支持脫歐', 'category': '國際', 'title': '【蘋果數】英新民調46%支持脫歐', 'time': '2016/05/11 01:00', 'summary': '英國路透10日報導稱，民調機構ICM9日發佈的線上調查結果顯示，英國支持脫歐的民眾領先優勢略微擴大。 \\u3000\\u3000\\xa0英國於6月23日就英國是否留在歐盟舉行公民投票。調查發現，約46%的受訪者將投給脫歐，較上次調查上升1個百分點，44%的受訪者則支持留歐，與前次調查相同。\\xa0這次調查是於5月6日到8日進行。（國際中心／綜合外電報導）', 'view_cnt': 1737}, {'link': 'http://www.appledaily.com.tw//realtimenews/article/international/20160511/858218/「曼哈頓懸日」又要來啦！攝影迷們別錯過', 'category': '國際', 'title': '「曼哈頓懸日」又要來啦！攝影迷們別錯過', 'time': '2016/05/11 01:00', 'summary': '紐約攝影迷注意囉！每年最適合拍攝「曼哈頓懸日」（Manhattanhenge，又譯為「曼哈頓巨石陣」）的日子快到了，今年是5月29-30與7月11-12日這兩個時段，不想錯過的話就趕緊在行事曆上記下吧！\\xa0美國紐約市曼哈頓高樓大廈林立，街道呈棋盤布局，要從街道上看到日落美景並非易事。但每年都有2個時段，太陽在日落的時候，餘暉會貫穿整座城市所有東西向的街道，十分壯觀，夕陽落下的過程從頭到尾都不會被任何高樓或建築所阻擋。\\xa0美國天文學家泰森（Neil deGrasse Tyson）於2002年時發現了這個現象，在每年夏至前的22天與後21天，太陽落下的角度會剛好跟紐約曼哈頓東西向街道對齊，讓陽光得以完整穿透兩側大樓，跟英國的神祕巨石陣有同工異曲之妙，泰森因此將之命名為「Manhattanhenge」，就是結合了紐約曼哈頓（Manhattan）和英國巨石陣（Stonehenge）。\\xa0今年的「曼哈頓懸日」將會發生在5月29-30與7月11-12日，於晚上8點到8點半之間，時間會長達15分鐘左右，越東邊是越好的觀賞地點。以往第1大道與14街、23街、34街、42街、57街幾條主要街道的交叉口都會人滿為患，許多紐約客和觀光客都在路中央排排站，而42街的「Tudor City」橋上也是攝影迷喜歡的拍攝地點，每年都會有許多人去排隊卡位。（廖育琳／綜合外電報導）', 'view_cnt': 3399}, {'link': 'http://www.appledaily.com.tw//realtimenews/article/entertainment/20160511/858113/還記得《老情歌》呂方嗎\\u300054歲挺圓肚約會', 'category': '娛樂', 'title': '還記得《老情歌》呂方嗎\\u300054歲挺圓肚約會', 'time': '2016/05/11 00:50', 'summary': '當年以一首《老情歌》紅遍台灣的香港歌手呂方，現年已54歲，去年還在紅館開個唱。他曾與香港明星鄭裕玲姊弟戀16年，卻突然分手，之後他越老越吃香，身旁女友如走馬燈換不停，去年中終於情定圈外女友「呂小姐」。近日某晚他倆在香港中環晚餐約會，大叔打扮的他穿外套搭白T恤，挺著一個圓鼓鼓的大肚腩，看來該減肥囉。\\xa0當晚約晚上9點多，呂方與女友在中環吃西餐，酒足飯飽後，2人坐著聊天，而呂方似乎有點倦意，全程少露笑臉，但女友興頭十足、精神奕奕，離開時呂方走到門口突然停步，她十分自然地搭着他肩膀，然後笑着推他出門口。（唐慧穎／綜合報導）\\xa0\\n呂方（左）一副大叔模樣，和女友步出餐廳。香港《蘋果日報》DV截圖呂方（左）和鄭裕玲談了16年的姊弟戀。資料照片', 'view_cnt': 26737}, {'link': 'http://www.appledaily.com.tw//realtimenews/article/international/20160511/858214/驚！升降梯故障\\u3000洗窗工卡20樓窗外40分鐘', 'category': '國際', 'title': '驚！升降梯故障\\u3000洗窗工卡20樓窗外40分...', 'time': '2016/05/11 00:41', 'summary': '美國紐約市周二早上發生了一場洗窗升降機故障的意外，2名洗窗工人吊掛在高27層的大樓外長達40分鐘才獲救，情況相當驚險。\\xa0據美國國家廣播公司（NBC）報導，這起意外事件發生在紐約市曼哈頓下城侍女巷（Maiden Lane）33號，周二早上9點50左右某大樓外的洗窗升降機突然故障，其中一邊的纜繩突然脫落，導致整座升降梯右上左下斜掛在窗外、幾乎以45度橫跨2層樓，2名洗窗工人就這樣卡在約17-20樓外一直到10點半才獲救。\\xa0紐約市消防隊員趕到場之後帶他們緩緩從17樓的窗戶爬進大樓裡，所幸2人都沒有受傷，洗窗升降梯也在中午前順利降到地面。（廖育琳／綜合外電報導）\\n翻攝哥倫比亞廣播公司（CBS）', 'view_cnt': 3961}, {'link': 'http://www.appledaily.com.tw//realtimenews/article/international/20160511/858216/憂國民安全\\u3000波蘭執政黨主席稱拒收難民', 'category': '國際', 'title': '憂國民安全\\u3000波蘭執政黨主席稱拒收難民', 'time': '2016/05/11 00:37', 'summary': '波蘭執政黨法律與公正黨的黨主席雅羅斯瓦夫卡欽斯基（Jaroslaw Kaczynski）近日表示，難民會威脅國內安全，波蘭不會接收任何難民，並反對歐盟近日推出的成員國每拒絕一名難民需繳納25萬歐元罰款的規定。\\xa0卡欽斯基為波蘭前總理。波蘭廣播電臺報導稱，卡欽斯基近日表示，經過幾次恐怖攻擊事件，波蘭決定不再接收難民，因為沒有機制可保障安全。針對歐盟委員會近日提出的成員國須為拒收難民繳納罰款的決定，卡欽斯基認為這個決定是在剝奪弱小成員國的主權，但波蘭不會同意，因為無論是此刻還是將來，波蘭都是自己國家的主人，波蘭內政部長也表示該難民配額系統行不通。 \\u3000\\u3000\\xa0歐洲委員會提出罰款方案是為了調節，重新分配各國難民比重，以緩解希臘等國家的難民危機，但方案一出，即遭波蘭反對，匈牙利和斯洛伐克也強烈抨擊。（國際中心／綜合外電報導）', 'view_cnt': 793}, {'link': 'http://www.appledaily.com.tw//realtimenews/article/international/20160511/858210/Häagen-Dazs冰淇淋免費吃！錯過今天再等一年', 'category': '國際', 'title': 'Häagen-Dazs冰淇淋免費吃！錯過...', 'time': '2016/05/11 00:28', 'summary': '愛吃冰淇淋的美國讀者有福啦！頂級冰淇淋品牌哈根達斯（Häagen-Dazs）周二（5/10）是一年一度的免費甜筒日，住在美國地區的消費者在下午4點到晚上8點之間，到Häagen-Dazs全美各地分店，就可以免費吃到一球小朋友尺寸的頂級冰淇淋，還可自由選擇以紙杯、甜筒或脆皮甜筒盛裝。若想要查詢分店可上Häagen-Dazs官網：https://www.haagendazs.us/freeconeday/，但可惜這項免費吃冰淇淋活動目前在台灣並沒有舉辦。（廖育琳／綜合外電報導）\\n翻攝Häagen-Dazs官網', 'view_cnt': 20931}, {'link': 'http://www.appledaily.com.tw//realtimenews/article/finance/20160511/858213/現在買美元最好？\\u3000高盛稱美元已觸底', 'category': '財經', 'title': '現在買美元最好？\\u3000高盛稱美元已觸底', 'time': '2016/05/11 00:27', 'summary': '隨著美國聯準會（Fed）升息預期下降，美元近來持續走貶。不過，高盛集團周二表示，美元匯率已經觸底，美元在美國疲弱的4月就業報告出爐後不貶反升，顯示市場對美國經濟成長及Fed升息的預期下降速度太快，下降幅度也太大。\\xa0高盛駐紐約首席外匯策略師布魯克斯（Robin Brooks）說：「我們仍看多美元，認為美元匯率的走勢朝上。美元在美國公布不如預期的就業報告後作出的反應顯示，雖然就業數據不如預期，美元實際上卻不貶反升。」\\xa0布魯克斯預測，隨著美國貨幣政策正常化，未來2年美元將升值15%。（林文彬／綜合外電報導）', 'view_cnt': 10910}, {'link': 'http://www.appledaily.com.tw//realtimenews/article/international/20160511/858159/【片】繼A4腰、i6腿\\u3000微博又流行一元硬幣手', 'category': '國際', 'title': '【片】繼A4腰、i6腿\\u3000微博又流行一元硬...', 'time': '2016/05/11 00:25', 'summary': '繼「反手摸肚臍」、「鎖骨放東西」、「A4紙腰」、「iPhone 6腿」等詭異審美風潮後，現中國微博又出現「一元硬幣手」，讓網友直呼：「真有病！」\\xa0騰訊新聞指，一元硬幣手就是將一元硬幣放在自己的手腕上，若是能遮住手腕，就能證明是一個合格的瘦子。目前流通的人民幣1元硬幣直徑約25毫米。\\xa0有網友說，這只能證明你骨架小啊，也有人調侃：「過兩天來比比誰頭小得連腦子都放不進去，估計還是這些人贏。」（大陸中心／綜合報導）\\n一元硬幣手。翻攝微博一元硬幣手。翻攝微博iPhone 6腿。翻攝微博A4紙腰。翻攝微博鎖骨放雞蛋。翻攝微博反手摸肚臍。翻攝微博', 'view_cnt': 4967}, {'link': 'http://www.appledaily.com.tw//realtimenews/article/life/20160511/858106/【圖解新聞】9種補腦聖品', 'category': '生活', 'title': '【圖解新聞】9種補腦聖品', 'time': '2016/05/11 00:23', 'summary': '想要頭腦清楚、遠離腦部病變，外媒綜合專家意見，歸納出9種補腦聖品，以及「傷腦筋」的食物。請看「圖解新聞」。更多精簡、秒懂的圖解新聞，請看《蘋果》圖解新聞專頁http://www.appledaily.com.tw/column/infographic\\xa0【想知道更多，一定要看……】記憶力不好嗎？可以多吃3種補腦食物\\xa0\\xa0\\xa0\\xa0\\xa0\\n專家說，多吃全穀類、魚等9種食物，有助補腦。', 'view_cnt': 7967}, {'link': 'http://www.appledaily.com.tw//realtimenews/article/local/20160511/858176/鄭捷怕寂寞\\u3000入監後最期待有人關心他', 'category': '社會', 'title': '鄭捷怕寂寞\\u3000入監後最期待有人關心他', 'time': '2016/05/11 00:22', 'summary': '捷運殺人魔鄭捷昨伏法，《蘋果》訪問到1名曾在全案審理期間和鄭捷接觸的人士，發現鄭捷早預料犯案後對父母造成的打擊，但他認為，「反正他們還有弟弟」，因此仍執意執行殺人計畫，對親情毫不在乎；不過，他在押後期似乎渴望和外界聯繫，常寫信給親友，期盼對方回音，但似乎都沒得到回應，讓他懷疑，對方是否都沒收到自己的信，可看出鄭捷仍害怕寂寞，內心仍對他人回應有一絲期待。\\xa0這名曾和鄭捷接觸的人士告訴《蘋果》，他犯案後，知道父母因此一度被肉搜、成為媒體追逐對象，精神壓力極大，還因此搬家，他也因此在父母前往看守所會面時，和父母「真心」道歉，讓父母掉淚，這些後果他雖早預料到，不過因為他認為，父母如果少了他，還有一個弟弟，因此完全不在意。\\xa0這名人士透露，鄭捷在押期間，想和外界聯繫，得知檢方和法官曾傳喚他以前的好友出庭作證，因此透過筆錄，找出好友的地址，想寫信問問朋友過得好不好，但多沒收到回信。他雖看來沒任何情緒反應，但卻自我安慰，應不是對方沒收到，可能筆錄上的地址是戶籍地，顯示他試圖說服自己，不是一廂情願。\\xa0這名人士觀察，鄭捷在看守所內話不多，態度冷漠，多是他人主動詢問他問題，他才有一句、沒一句的回答，而鄭捷眼神雖毫無情感，總是帶著不屑，但若有親友前往看守所探視鄭捷，鄭捷會露出一絲期待的眼神，但隨即又將情緒藏起，似乎擔心內心情緒被看穿，不過他仍會在會客時，詢問對方或共同朋友，有沒有特別的話想跟他說。\\xa0據了解，鄭捷在押看守所期間，非常痛恨所內飲食，每天拿著父母寄給他的零用金買泡麵或罐頭吃，三餐至少有一餐吃泡麵，而每天除了僅存的放風時間，可打打籃球，其餘時間鄭捷只能在所內看書或參加團契打發時間，據了解，鄭捷最愛看科幻小說，他對此曾說，「反正我是沒未來的人，剩沒多少時間，就活在虛擬世界裡」。\\xa0這名人士透露，他曾問鄭捷，犯案後是否後悔，鄭捷毫不在乎，只說「不會」，他也知道，「一定會（死刑）定讞」，也清楚每年都有槍決，一定很快就會執行。但問他怕不怕死，他僅冷回，「不怕」，每天抱持混吃等死的心態，不過他唯一怕的，是槍決太痛。如今他已伏法，是否疼痛，恐怕只有他自己才知。(法庭中心／台北報導)', 'view_cnt': 64975}, {'link': 'http://www.appledaily.com.tw//realtimenews/article/international/20160511/858098/英國反恐超逼真\\u3000民眾哭喊求救滿身血', 'category': '國際', 'title': '英國反恐超逼真\\u3000民眾哭喊求救滿身血', 'time': '2016/05/11 00:21', 'summary': '在法國巴黎和比利時布魯塞爾遭遇恐怖攻擊後，英國當局也提高警覺，提防恐怖份子攻擊，10日凌晨在曼徹斯特的特拉福購物中心，就有一場反恐演習，模擬自殺炸彈客攻擊商場可能發生的狀況，並演練應對方式，有800名民眾自願參加演出，他們扮演遭炸傷、槍擊的傷患，演得非常逼真。 ( 國際中心/綜合外電報導)\\xa0\\n翻攝《曼徹斯特晚報》', 'view_cnt': 2277}, {'link': 'http://www.appledaily.com.tw//realtimenews/article/entertainment/20160511/858208/【狗仔偷拍】好登對！張立昂帶妹上陽明山', 'category': '娛樂', 'title': '【狗仔偷拍】好登對！張立昂帶妹上陽明山', 'time': '2016/05/11 00:19', 'summary': '最近有一部很夯的偶像劇《1989一念間》，主打穿越劇情，卻是台灣local製作，男女主角張立昂跟邵雨薇也因為這齣戲知名度大增，人氣強強滾，堪稱新生代高顏值螢幕情侶。\\xa0只是，咱們不聊劇情，咱們聊這對螢幕情侶，先前2人被拍過私下摟肩、舉止親密，前天下午狗仔發現2人活動結束、變裝完畢後再度上了同一台車，一前一後上車，應該是想要避人耳目，就這樣，前座的男性友人+司機+電燈泡，載著後座的張、邵（螢幕）情侶檔，一路開往新莊，又調頭往金山、萬里一帶反方向前進，狗仔實在看不太懂，只覺得路途遙遠。\\xa0到了金山，終於決定要休息一下，邵雨薇小跑步下車進超商，有了被拍經驗後，張立昂似乎也知道要避嫌，過了幾分鐘才下車，公共場所就是不合體，張立昂買了一些食物後，2人再度鑽回後座，繼續往人煙稀少的陽明山開去，這個行程是不是有點刺激？當時太陽快要下山，附近都是溫泉會館，狗仔好想知道他們到底去哪裡呦，是回去1989？還是溫泉飯店？詳情請打開今日出版的《蘋果》就知道。（特勤組／台北報導）\\xa0\\n張立昂帶妹上陽明山，猜是誰？特勤組攝，合成照片張立昂（左）跟邵雨薇一起到東區服飾店換裝。特勤組攝2人出席品牌記者會，老闆是蘇慧倫老公孫益民。特勤組攝', 'view_cnt': 22626}, {'link': 'http://www.appledaily.com.tw//realtimenews/article/forum/20160511/856810/人間異語：看朋友走絕路，慶幸自己早回頭', 'category': '論壇', 'title': '人間異語：看朋友走絕路，慶幸自己早回頭', 'time': '2016/05/11 00:16', 'summary': '阿凱山農\\xa0Q：你怎麼會到舞廳圍事？A：我很小就很會賺錢，上小學只跟爸爸拿過一次10塊錢，因為當時我爺爺生病，那時沒健保，我想幫忙賺錢，跟爸爸、奶奶到深山採藥草賣給行口，最多1個月可賺6萬，都給爸媽。\\xa0念國中時，偏鄉學生都住校，假日沒車回家，家人也沒辦法來接我，可是學校假日沒供餐，我就到卡啦OK打工，學會調酒，賺小費拿回家。所以上高中我自然就到酒吧、舞廳半工半讀，給人端酒及圍事。\\xa0Ｑ：在舞廳遇到什麼事？A：我上班的舞廳有分區，外面只要幾10塊開放給一般人玩，裡面幾千元的則有做特別的服務，管區警察來巡邏通常拿點紅包就從後面走，臨檢還會先打電話暗示，由於我未成年晚上出現在酒吧，反而是我被抓到警察局好幾次。\\xa0我的工作是送酒到包廂，有人喝醉還要送回家，有人吵架就出來圍事，就是勸架，遇到帶刀帶槍就閃開，但還是有危險。我曾看到被刀子捅得肚破腸流，最嚴重的是一群開跑車的人吵架，其中一個去開車從幾百公尺衝過來，把另一個當場撞死。有一回我看到一個小姐被幾個黑道架走，聽說被輪暴，因為她欠了高利貸。\\xa0當年我長得很清秀，很多來消費的姊姊追我，我的初戀就發生在高一那年，一個長得很漂亮的姊姊走來跟我說要跟我交往，當天我們就玩到天翻地覆，該做的都做了，可是後來她突然消失，讓我很錯愕。如此來回三次，第四次她再回來找我時，我另有女友，就沒再繼續，我結婚時她聽說了，還來祝福我。\\xa0在那裡金錢誘惑真的很大，包廂裡的酒客給小費5百、1千很好賺，我的底薪只有2萬多，一個月卻可賺到15萬。最可怕的是有藥頭用高佣金吸收我們賣毒品，我從沒接受，也沒沾過毒，但身邊朋友一個個陷下去。\\xa0Q：後來怎麼脫離？A：高三那年同學搶掃把被訓導主任拳打腳踢，我拿水桶往主任頭上罩，一頓狂打。學校讓我選擇留校察看或退學。我選擇退學，因為覺得不能再跟狐群狗黨混，我室友還會吸毒，所以我沒跟任何朋友講，捲捲舖蓋就回山上。後來幾個朋友找來，我故意閃開，不想跟他們再往來。\\xa0另一個原因是留校察看要家長到校處理，我當然不願意，因為從小看父親很累，不願讓他擔心，所以小時候頑皮跟人打架，即使被老師打得再慘，我都不會說家裡電話，所以爸媽一向對我很放心，從來不曾過問，更何況我從小就賺錢回家，他們也不以為意。\\xa0我很慶幸自己早早離開那環境，如今我在山上務農，收入一點不比當年差。過去那些朋友有位在我回山上兩個月，就吸毒過量死了，另一個被追殺，連人帶車撞到水裡也死了。我早早浪子回頭，才有今天安穩幸福的日子。\\xa0特約記者林宛華採訪整理', 'view_cnt': 13600}, {'link': 'http://www.appledaily.com.tw//realtimenews/article/international/20160511/857998/自閉童遇上白雪公主\\u3000笑到整個人都快融化', 'category': '國際', 'title': '自閉童遇上白雪公主\\u3000笑到整個人都快融化', 'time': '2016/05/11 00:15', 'summary': '迪士尼卡通人偶人見人愛，但想不到它們也能突破自閉症孩子的心防，帶給他們大大的歡樂。英國《每日郵報》報導，美國2歲的小傑克患有無口語自閉症，媽媽阿曼達表示，兒子不擅長與陌生人互動。小捷克去年到佛州迪士尼玩時，也如往常沒有和園區內的人偶們有太多互動，直到遇到白雪公主，讓他敞開心房，開心大笑。\\xa0報導稱，這段影片被媽媽阿曼達Po到網路上後，吸引超過600萬人觀看，近7000次轉發。影片中，小傑克不但主動趴在白雪公主腿上，眼神幾乎離不開她，羞澀的笑容讓媽媽都說他簡直是戀愛了。\\xa0事後小傑克在回顧這段影片時也露出同樣開心的笑容。阿曼達有兩個患自閉症的兒子，她稱迪士尼樂園帶給兒子們歡樂，是一個令人驚奇的地方。（張渝萍／綜合外電報導）\\n翻攝Amanda Coley臉書翻攝英國《每日郵報》翻攝英國《每日郵報》翻攝英國《每日郵報》', 'view_cnt': 5609}, {'link': 'http://www.appledaily.com.tw//realtimenews/article/international/20160511/858206/美國到底哪裡可以抽大麻？一張圖報你知', 'category': '國際', 'title': '美國到底哪裡可以抽大麻？一張圖報你知', 'time': '2016/05/11 00:15', 'summary': '娛樂用大麻4年前在全美各地都還是非法商品，但現在娛樂用大麻不但在美國5個地區合法，大麻產業和市場也越來越成熟。\\xa0據美國有線電視新聞網（CNN）報導，娛樂用大麻在美國銷量於2015年達到12億美元（約390億元台幣），藥用大麻更是高達45億美元（約1464億元台幣）。不過需要注意的是，雖然全美已經有24個州和華盛頓特區將藥用大麻合法化了，但是在公共場合吸食大麻仍屬違法的行為；而且在絕大多數地區，吸食大麻可以是雇主合法開除員工的理由，就算大麻在當地合法，而且員工出現在工作場合時是神智清醒的狀態也是一樣。\\xa0另外，雖然阿拉斯加州和華盛頓特區已經將娛樂用大麻合法化，但是在這兩個地區購買大麻仍屬非法行為。\\xa0對年滿21歲的成年人來說，科羅拉多州、華盛頓州和奧勒岡州是全美唯一3個可以合法購買並吸食娛樂用和藥用大麻的地方。（廖育琳／綜合外電報導）\\xa0那麼美國目前到底有哪些地方已經把大麻合法化了呢？\\xa0娛樂用和醫藥用大麻皆合法之地區：\\xa0阿拉斯加州（Alaska）科羅拉多州（Colorado）奧勒岡州（Oregon）華盛頓州（Washington）華盛頓特區（Washington D.C.）\\xa0\\xa0只有醫療用大麻合法之地區：\\xa0亞利桑那州（Arizona）加州（California）康乃迪克州（Connecticut）德拉瓦州（Delaware）夏威夷州（Hawaii）伊利諾伊州（Illinois）緬因州（Maine）馬里蘭州（Maryland）麻薩諸賽州（Massachusetts）密西根州（Michigan）明尼蘇達州（Minnesota）蒙大拿州（Montana）內華達州（Nevada）新罕布什爾州（New Hampshire）紐澤西州（New Jersey）新墨西哥州（New Mexico）紐約州（New York）賓夕法尼亞洲（Pennsylvania）羅德島州（Rhode Island）佛蒙特州（Vermont）\\xa0\\xa0大麻商品為非法之地區：\\xa0阿拉巴馬州（Alabama）阿肯薩州（Arkansas）佛羅里達州（Florida）喬治亞州（Georgia）愛達荷州（Idaho）印第安那州（Indiana）愛荷華州（Iowa）堪薩斯州（Kansas）肯德基州（Kentucky）路易斯安那州（Louisiana）密西西比州（Mississippi）密蘇里州（Missouri）內布拉斯加州（Nebraska）北卡羅萊納州（North Carolina）北達科他州（North Dakota）俄亥俄州（Ohio）奧克拉荷馬州（Oklahoma）南卡羅萊納州（South Carolina）南達科他州（South Dakota）田納西州（Tennessee）德州（Texas）猶他州（Utah）維吉尼亞州（Virginia）西維吉尼亞州（West Virginia）威斯康辛州（Wisconsin）懷俄明州（Wyoming）\\n娛樂用大麻合法地區。翻攝美國有線電視新聞網（CNN）醫藥用大麻合法地區。翻攝美國有線電視新聞網（CNN）大麻非法地區。翻攝美國有線電視新聞網（CNN）', 'view_cnt': 5886}, {'link': 'http://www.appledaily.com.tw//realtimenews/article/international/20160511/858215/菲律賓「國民拳王」\\u3000當選參議員', 'category': '國際', 'title': '菲律賓「國民拳王」\\u3000當選參議員', 'time': '2016/05/11 00:15', 'summary': '菲律賓37歲的「國民拳王」帕奎奧（Manny Pacquiao），在周一的菲律賓大選中當選成為參議員，使他從政之路摘下里程碑。\\xa0帕奎奧今年4月才剛從拳壇退休，在拉斯維加斯的世界拳擊協會（WBO）賽事中順利拿下中量級冠軍，為長達21年的拳壇生涯畫下完美句點。他原本已連選上2任菲律賓眾議員。昨晚計票到約93%時的結果顯示，帕奎奧已經拿下超過1500萬票，在所有參議員參選人中排名第八，可望穩定站上總共12人的名額。\\xa0帕奎奧曾在選戰中失言，稱同性戀者「禽獸不如」，隨後致歉，但仍表明自己不贊成同性婚姻。\\xa0（國際中心／綜合外電報導）', 'view_cnt': 2870}, {'link': 'http://www.appledaily.com.tw//realtimenews/article/forum/20160511/858195/死刑之後，大家都幸福了', 'category': '論壇', 'title': '死刑之後，大家都幸福了', 'time': '2016/05/11 00:14', 'summary': '作者：冰心\\xa0\\xa0 \\xa0死刑之後，大家都幸福了！被害人家屬的心靈創傷都好了，再也不用看心理醫生，再也不會流淚，再也不會想起那一天。他們都忘了傷痛，每天都平安幸福。\\xa0\\xa0 \\xa0死刑之後，大家都再也不用理會政治了，早上可以在自己便宜買到的大房子裡面睡到自然醒，再去公司做著年休一百天月薪六萬的工作；午餐的食材都是有機，沒有農藥、沒有重金屬、沒有基因改造、沒有標示不實，而且便宜又大碗。死刑之後的午休，喝著公平貿易咖啡豆的咖啡，看著電視上，再也不會亂報導的媒體，報導著中華民國重返聯合國與中共向中華民國投降的新聞，想著死刑之後的兩岸統一，終於不用再每天看政客炒作統獨了：死刑之後，政府再也不會亂收稅了亂徵地了，大法官再也不會偷改亂改意見書了，每個政治人物都開始為民服務了；死刑之後，國內藍綠惡鬥都消失了，司法都復活了，冤案都平反了，所有違憲的法律與違法的命令都消失而且再也不會出現了。\\xa0\\xa0 \\xa0死刑之後，貪官都變清廉了；死刑之後，小孩的教育再也不畸形了，可以睡到自然醒，可以開心玩樂，可以不用補習，可以只讀自己有興趣的專業；死刑之後，經濟起飛，新台幣每天升值，所有的老闆都恢復正常了，不但不亂扣薪水，也都給出遠超過最低薪資的薪水，把員工當作家人，大家都買得起房子車子了；死刑之後，醫生護士都不再過勞了，警察與消防員都組工會了，再也沒有職業被虧待了。\\xa0\\xa0 \\xa0死刑之後，基督教與伊斯蘭教的衝突都消失了，非洲的內戰也都平息了，朝鮮開始講理了開始民主化了；死刑之後，全世界再也不缺電了，所以不用核電廠發電了，熱帶雨林都漲回來了，再也不用開冷氣了，南北極的冰都恢復了，石油危機一如浮雲，臭氧層的破洞自己補好了，太空垃圾都消失了。\\xa0\\xa0 \\xa0死刑之後，大家都幸福了。', 'view_cnt': 11257}, {'link': 'http://www.appledaily.com.tw//realtimenews/article/local/20160511/858038/【酒空集錦】酒駕車「漫出來了」\\u3000大家別鬧啦', 'category': '社會', 'title': '【酒空集錦】酒駕車「漫出來了」\\u3000大家別鬧...', 'time': '2016/05/11 00:13', 'summary': '有網友po出台北某車輛保管場的照片，指出畫面中滿滿的機車幾乎都是酒駕遭到查扣的。北市交大授權中山交通分隊長蔡再璧表示，該處是市警局的公有交通違規保管場，目前場內有979部機車，7部汽車，包括酒駕、行駛註銷牌照的車輛等交通違規汽、機車，「因汽車領車率較高，場內大多都是查扣的機車。」真正證明即使台灣提高酒駕罰則，台灣人仍然酒駕不斷、「樂此不疲」。到底都是那些咖在提振國庫經濟呢？請看影片。（突發中心／台北報導）\\xa0\\xa0\\xa0\\n保管場目前扣留了近千輛機車。余思維攝', 'view_cnt': 7571}, {'link': 'http://www.appledaily.com.tw//realtimenews/article/local/20160511/858199/【實用文】酒駕機車拍賣\\u3000有便宜可以撿嗎？', 'category': '社會', 'title': '【實用文】酒駕機車拍賣\\u3000有便宜可以撿嗎？', 'time': '2016/05/11 00:13', 'summary': '酒駕被查扣的機車，將保管場塞爆，有的甚至已經坐墊開花長草，卻還是無人領取。北市交大授權中山交通分隊長蔡再璧表示：「酒扣罰鍰罰1萬5到9萬之間」，再加上每天保管費50元，都快可以買一部新機車，不少違規酒駕機車車主索性乾脆不領車，造成「車滿為患」。車主若遲未領車，警方則依《道路交通管理處罰條例》公告3個月，然後依法招標拍賣，但是民眾對於酒駕肇事車興趣缺缺，多是由專門廠商整批收購，這個便宜不是撿不到，也是沒人願意撿。（突發中心／台北報導）\\xa0\\xa0\\xa0\\n保管場的酒扣機車，已經放到長出花草。余思維攝車主不繳罰款、也不領車，讓保管場「車滿為患」，公告3個月後將拍賣。余思維攝', 'view_cnt': 12740}, {'link': 'http://www.appledaily.com.tw//realtimenews/article/forum/20160511/857788/魏則西之死：中國能到哪治病', 'category': '論壇', 'title': '魏則西之死：中國能到哪治病', 'time': '2016/05/11 00:12', 'summary': '作者：蔡以芃（台灣醫事安全法學會總監）\\xa0大學生魏則西患晚期滑膜肉瘤，誤信百度推薦，至「莆田系」下的武警二院救治，接受所謂「DC-CIK 生物免疫療法」，花費逾20萬人民幣後枉死。事件一曝光，中國輿論譁然，直指醫療體系結構出了問題，民眾不約而同從中看到自己，倘若結構不改，人人都可能是魏則西。5/3北京衛計委表示，國家早已嚴禁醫院科室外包，若非紅包文化猖獗，為何外包依然存在？日後開放公立醫院特許經營，更可能重演外包噩夢，無心於醫療品質，政策是換湯不換藥。民眾不信任民營醫院，如今連公立醫院都去不得，又該到哪治療？連異己言論都能屏蔽的國家，竟管不動百度，恐怕無人相信。\\xa0莆田系金主皆來自福建莆田，多無醫學背景，靠一毛錢的膏藥起家，就是所謂的赤腳醫師，1990年代開始承包縣級醫院科室並合法化。10年後，當局明禁科室外包逼走莆田系，卻允許「已合作的公立醫院經批准可轉獨立法人」，讓莆田系得以併購為民營醫院並拓展至8000多間，市占8成。中國推醫院改制卻疏於監管，醫療卻攸關性命，台灣雖許醫院委外由大學經營，但絕對嚴審資格，對岸卻只比口袋深，醫療品質反而不在考量，資本主義的做法只學半套。\\xa0再說，極權國家一切黨說了算，也就是所謂相關領導，從曝光的送禮名單，可見莆田系之所以壯大，正是絕對權力導致絕對腐化。中國對醫療一向粗暴，才會不時有被偷割腎的荒唐，連原食藥監局長也受賄判死，何況中國並未批准任何免疫療法。此類療法技術門檻高，臨床試驗是必備條件，理應由食藥監局嚴密控管，卻長期陷入與衛計委的權力鬥爭，至今審核停擺，各式療法誇大療效，正看準焦急的病人會上鉤，上樑不正下樑歪，主事者自己都亂了套，又如何管理醫院？\\xa0從莆田模式可見，這些金主精商而非醫學，欠缺同理心或道德感。在台灣，無論法律或現實面，政府都不許醫療業被視為生意，醫療糾紛也不適用消保法。兩岸醫療水準的差距主要是思維，吃大鍋飯的共產國家，醫師社會地位與待遇不佳，優秀人才不願從事高風險行業，公立醫師也因此被莆田系高薪挖角。台灣醫師雖工時過長，醫療業仍是頂尖人才投入，中國卻一國兩制，為滿足龐大醫療需求，始終允許無牌的鄉村醫師執業。莆田系醫院待遇優渥出自以藥養醫，自家藥品一條鏈獲利驚人，同時「培訓」醫師判斷病人「消費能力」，或假造專家頭銜，無怪爭議越滾越大。\\xa0百度靠廣告收入運作很正常，但競價排名涉及廣告不實，最大癥結在是否受中國廣告法規範。台灣對醫療廣告規定極嚴，除醫療法外，衛福部亦有專人審查網路，谷歌醫療廣告收益龐大，但須有FDA等官方證照才能刊登，百度卻讓莆田系砸大錢買排名，形同不實廣告。啟人疑竇的是，當局長期愚民致百度獨大，難道竟對其作法毫無所悉？不知情或不想管，兩者迥然不同。\\xa0醫療首重品質與醫學倫理，當醫德被拋在腦後，醫療與利益掛勾，還會有千千萬萬個魏則西。', 'view_cnt': 3166}, {'link': 'http://www.appledaily.com.tw//realtimenews/article/international/20160511/858209/傳試射飛彈\\u3000伊朗防長駁斥報導\\u3000', 'category': '國際', 'title': '傳試射飛彈\\u3000伊朗防長駁斥報導\\u3000 ', 'time': '2016/05/11 00:12', 'summary': '伊朗媒體先前報導指軍方表示第三次成功試射彈道飛彈，這次的飛彈試射是於兩周前進行，試射的導彈射程為2000公里，命中精準度在8米以內。\\xa0不過伊朗國防部長狄甘（Hossein Dehghan）9日隱晦地否認該報導，僅表示「我們沒有試射如媒體報導的那樣射程的飛彈」，此外就未進一步說明，但重申伊朗若試射任何飛彈都是出於防禦目的，並表示美國和沙烏地阿拉伯故意誤導，要讓全世界認為伊朗的飛彈並非用於防禦。\\xa0伊朗發展飛彈，引發西方國家不滿，認為伊朗試射飛彈違反先前達成的核談協議，禁止伊朗試射任何可裝載核彈頭的飛彈，伊朗回應指他們的飛彈不是設計來裝載核彈頭的，況且他們也沒有核彈頭。（國際中心／綜合外電報導）', 'view_cnt': 584}, {'link': 'http://www.appledaily.com.tw//realtimenews/article/entertainment/20160511/858009/真的「很有事」\\u3000林心如拍片意外頻傳', 'category': '娛樂', 'title': '真的「很有事」\\u3000林心如拍片意外頻傳', 'time': '2016/05/11 00:11', 'summary': '林心如主演的驚悚片《魔宮魅影》13日將於全台上映，她近日接受《網易》專訪，談到這次拍攝時有許多毛骨悚然的意外，「我莫名其妙坐在那邊，攝影機就掉下來砸到我的頭，坐在床頭的時候整個佈景板整個倒下來又是砸到我的頭」，她無奈地表示自己的頭「挺有事的」。\\xa0她也說自己很怕某些禁忌或忌諱，因此這次帶了很多護身符，而劇組每天早上都一定會燒香，「畢竟在那個環境裡面，還是會有很多的我們看不見的，我們還是會打擾人家嘛」。（陳明慧／綜合報導）', 'view_cnt': 12475}, {'link': 'http://www.appledaily.com.tw//realtimenews/article/forum/20160511/857800/胡晴舫：蘇格拉底的暴君', 'category': '論壇', 'title': '胡晴舫：蘇格拉底的暴君', 'time': '2016/05/11 00:10', 'summary': '紐約百老匯近來最火的歌舞劇《漢米爾頓》講的是美國創國元勳漢米爾頓的故事，美國人看得熱淚盈眶，看他們的國父們如何出生入死，參戰獨立革命，盡畢生之力建國，焚膏繼晷寫文章為美國聯邦制辯護，甚至因為政見不同終至決鬥喪命。劇中，當兒子出生，漢米爾頓角色唱著：「為了你，我會使世界安全而穩健，當你與我們的年輕國家同時成長，我們不惜流血，為你奮戰，我們將使你稱心，如果我們奠下夠強的基礎，我們會傳下去給你，我們會給你全世界，而你將使我們驚奇…有那麼一天。」彷彿漢米爾頓以及全部國父們穿越時空，與台下後代子孫感性對話。\\xa0不知道此次美國總統大選的川普現象是否令國父們「驚奇」。其他候選人宣布退選後，川普成為共和黨提名候選人幾成定局，深夜政治脫口秀主持人個個詞窮，無言以對，史蒂芬柯伯要大家提前互道聖誕快樂，因為「我們可能撐不到今年聖誕節」。企圖保持中立的美國總統歐巴馬終於忍不住跳出來，點名批評川普，宣稱總統大選不是「電視實境秀」。保守主義評論家蘇利文（Andrew Sullivan）是英國移民，一名同志，特別撰文指出，美國民主政治來到柏拉圖所形容的民主最後階段，當富人遭到唾棄，精英不受重視，人人不分才智品格、一律平等，民粹成為暴政的土壤，美國已經準備好了選出一名暴君。他說，因為網路，政治素人秀其實早在2007年歐巴馬宣布參選時便已經開始，歐巴馬當年就跟今年的伯尼、川普一樣反建制，靠民氣，打網戰，大眾支持而非精英挑選之下，躍上政治舞台中央，只不過，網民第一次手氣順，正巧挑出了一個不差的歐巴馬。\\xa0柏拉圖與美國國父們雖相信民主，卻不全然信任民主的決定。對柏拉圖來說，正是民主決議，判他的老師蘇格拉底死刑。美國國父們為了保護國家不使民粹精神挾持，定下繁複的投票制，分開眾議院與參議院，設立獨立最高法院，意圖保障精英能保持一定的政治影響力，提供理性的聲音，然而，隨著時代改變，精英的定義自然遭到質疑，原來只侷限於擁有土地的白種男性，必須打破，讓女性、黑人、無產勞工等等也有權投票，而這次正因為黨內投票分成一般民眾與超級代表，給了川普與伯尼最大理由，猛烈攻擊制度不公平，由少數精英把持。\\xa0川普現象之所以令人「驚奇」，不光是網路催生素人參政熱，也在反映了美國低層民眾對「富者越富、窮者越窮」現象的不滿已達沸點，表面上，川普煽動了極右派心態，反移民、反全球貿易，要築牆，倡導國際孤立主義，而伯尼吸引了年輕的佔領華爾街運動世代，大學教育免費，嚮往社會均富，但，川普與伯尼的選民基礎其實類似，皆對當前政治文化失望，急欲銳改社會，視中庸為反動，也因此伯尼支持者的美國女星蘇珊莎蘭登會說出，如果伯尼不是民主黨候選人，她寧可選川普，至少川普會作出改變。眼看伯尼落後希拉蕊，川普已經開始向伯尼支持者喊話，轉向支持他。\\xa0還有什麼時候比現在更適合溫習托克維爾呢？兩百年前這名法國人寫下，「美國之所以偉大並不因為她比其他國家更聰明，而是她有能力修補自己的錯誤。」\\xa0\\xa0\\n更多胡晴舫文章', 'view_cnt': 2623}, {'link': 'http://www.appledaily.com.tw//realtimenews/article/entertainment/20160511/858156/小珍妮佛這次沒摔\\u3000上夜店倒出D級豪乳', 'category': '娛樂', 'title': '小珍妮佛這次沒摔\\u3000上夜店倒出D級豪乳', 'time': '2016/05/11 00:09', 'summary': '奧斯卡影后「小珍妮佛」珍妮佛勞倫斯（Jennifer Lawrence）前天出席新片《X戰警：天啟》倫敦首映會險些仆街，當晚她一身蕾絲薄紗到夜店慶功，性感D奶呼之欲出，凌晨2點多離開時，疑似喝茫腳步有些不穩，保鑣攙扶之下才安全上車，沒有再為自己的摔跤紀錄再添一筆；不過她踉蹌進入車內時，倒出豪乳的火辣畫面讓人看得噴鼻血。（郭妤／綜合報導）\\xa0\\xa0\\n小珍妮佛性感裝扮上夜店。香港《蘋果日報》小珍妮佛最後安然上車。香港《蘋果日報》', 'view_cnt': 22076}, {'link': 'http://www.appledaily.com.tw//realtimenews/article/forum/20160511/857794/廢除國中會考回歸基測', 'category': '論壇', 'title': '廢除國中會考  回歸基測', 'time': '2016/05/11 00:08', 'summary': '作者：廖明源（國中教師）\\xa0去年畢業的幾位學生，國中教育會考成績5C以免試入學上了鄰近國立高職，讀沒幾個月紛紛休學在外打工，希望下學年度能夠重返私校，繼續未竟的學業。其中一位同學國中在校成績敬陪末座，與班上另一位名列前茅的同窗，一起上了標榜均優化的十二年國教殿堂，就近入學變成「救盡」入學；均優化形同均「憂」化，無論智賢愚癡，不分能力高下，通通可以走上高教康莊大道，或許圓了父母的虛榮，卻苦了孩子的未來。\\xa0這樣的例子不勝枚舉，尤其是偏鄉學校更加嚴重，眼看會考剩下數天，偏鄉小校願意焚膏繼晷、破釜沉舟的學生卻少得可憐，任憑諸多老師苦口婆心，費盡唇舌勸告，多數學生依舊無動於衷，逍遙過日。畢業的學長姊躺著、趴著就能分發上國立高職，誰還頭殼壞掉，犧牲打電動、上臉書、追韓劇、結交異性的時間，實實在在為自己前途奮力拼搏。\\xa0會考成績B級分，等同於平時學科成績八十幾到三十幾分，這麼一大段差距的學生通通擺在一起，能有鑑別度嗎？許多學校甚至教導畢業生猜題的技巧，直言要考到C級分還真不容易，教育如此扭曲，能不感慨嗎？想想德國大學生佔全體比例僅29%，境內有非常優異的技職教育體系，技師薪水甚或不亞於大學教授；反觀國人拋不開萬般皆下品，唯有讀書高的科舉思維，盲目追求齊頭式的高等學歷。本來指望十二年國教大幅降低學生壓力，沒料到搞了一套更加複雜，壓力更甚的升學制度。\\xa0舉例來說，校生三年內要獲得四十支嘉獎，沒有特殊才藝的學生，舉凡勤於刷牙、跑步、減重、出公差、家長閱讀寫心得、參加親職教育等，均能記點換取嘉獎，獎勵措施千奇百怪，人人榮譽氾濫成災。每學期服務學習3小時，一行人浩浩蕩蕩掃街，個個有如劉姥姥逛大觀園，東逛西晃，掃了三年，路線一模一樣，積滿時數就算功德圓滿。新規七大領域中四個領域不及格就領不到畢業證書(原先三個領域)，於是補救教學風起雲湧，效果卻屈指可數，每學期寒暑假辦理補考，試前擬好題目給考生參酌，能不過嗎？會考原始設計為A、B、C三個等級，卻在輿論撻伐之下推出七級分，甚或十級分量尺，每年一變再變，一改再改，比來比去，比出一堆問題一堆氣。\\xa0教育本來很單純，高中、高職依學科成績、興趣與性向分流，大家各憑本事，各自努力，聯考、基測實施數十年，為國家造就多少專業人才，有目共睹；反而十二國教實施經年，問題叢生，百弊不斷，老師疲於鑽研各種實驗教學；學生汲汲參與各式競賽爭取加分，學校絞盡腦汁活化社團、宣傳招生、經營社區、補救教學、假日輔導、衝刺升學、成立特殊藝才班、應付教育評鑑等，忙到天昏地暗，日月無光，忽略了教學本質、學生輔導與班級經營。\\xa0能不能廢除國中會考回歸基測，因為現行超額比序項目除了會考成績之外其餘幾乎人人滿分，選校依據還是取決於會考成績。除此之外，免試入學導致多數學生學習意願低落，基礎知能每況愈下，為挽救學力與國力，恢復基測責無旁貸。再者，反對齊頭式地平等，各校辦學自有特色，就近入學反而限縮學生的選擇，延長學生獨立自主的時程。最後，多數學生輕易地選填上國立學校，許多學生未能真正了解自己的志向，囫圇成了校方榜單的一隅，適性揚才淪為「拭」性揚才。十二年國教雖然立意良善，但是通往地獄的路通常是良善鋪成的，萬望新政府新氣象，銳意革新，勇於改變，不要再說因為走了，就無法回頭。', 'view_cnt': 8760}, {'link': 'http://www.appledaily.com.tw//realtimenews/article/life/20160511/857949/2倍薪好心酸\\u3000做粗工雙手沾鉛被鄙視', 'category': '生活', 'title': '2倍薪好心酸\\u3000做粗工雙手沾鉛被鄙視', 'time': '2016/05/11 00:07', 'summary': '要是在買東西時，發現你身邊的人手腳充滿污垢，你會怎麼想？\\xa0一名從事翻砂黑手工作的網友，在臉書不公開社團「爆廢公社」PO出兩張手腳沾滿黑色鉛粉的照片，並感嘆地說「下車買個東西，卻被人用鄙視的眼光注視，很想說什麼，但是什麼卻是都說不出來！很多人卻不知道我做這個又累又黑！正常的朝八晚五！但是薪水卻是一般人的兩倍多一點！」\\xa0不少網友看完後，紛紛留言力挺原PO，說「還是有人用正常眼光看待各種職業的人」、「別在意別人那種鄙視莫名其妙的眼神，他們只是好奇心而已」、「管人家怎麼看！對得起自己就好」、「口袋飽飽才是真的」、「領薪水換你鄙視他們」、「沒有傳統產業，那來社會繁榮」、「台灣的GDP靠得就是辛苦的勞工」。但也有網友認為抱持不同看法，認為「那麼在意不要做啊，一個大男人在意什麼」、「會不會是自己覺得啊？也許只是看你一下而已」、「人們不是鄙視你的工作，把自己整理乾乾淨淨的應該不難」。（即時新聞中心／綜合報導）\\xa0\\n有從事粗工的網友因手腳髒污買東西，遭到別人用鄙視的眼神注視。翻攝自爆廢公社', 'view_cnt': 35789}, {'link': 'http://www.appledaily.com.tw//realtimenews/article/forum/20160511/857768/獨董不是官員的庇護所', 'category': '論壇', 'title': '獨董不是官員的庇護所', 'time': '2016/05/11 00:06', 'summary': '作者：沈榮欽（加拿大約克大學教授）\\xa0由於林全、陳添枝、趙少康、薛琦、丁守中等人，政治人物擔任企業獨立董事再度成為熱門話題，也對政商分際與台灣公司治理形成挑戰，520後林內閣又將指派102位金融董事，究竟獨董與官員的適當分際為何？\\xa0要回答這個問題，必須先瞭解成立獨董的目的。資本主義下企業屬於股東所有，但是股東直接監督經理人有其困難：統合眾多股東意見所費不貲，而且不監督的股東也可享受監督的好處，所以沒人想耗費精力費心監督。董事會的成立即在避免這些困難：有限的董事人數定期會議的成本很低，大量持股則使得每一位董事都有足夠的誘因與股數監督經理人；但是引進董事會卻產生新的問題：董事會成員容易勾結舞弊，侵害小股東的權益。因此引進獨董監督內部董事，保障小股東的權益，獨董因非大股東也不參與經營，能夠超然地監督董事，上市公司的獨董需要為企業的不法行為負法律責任，也避免其消極怠惰。\\xa0台灣公司法沿襲日本法例而來，但是獨董的設計卻是參考美國，因此與兩國皆有所差異。例如日本曾經認為外部董事只要非受雇於公司即可，台灣與美國對獨董的獨立性要求較高；美國公司法避免法院干預公司內部決策，因此獨董也被視為取代外部管制的制度，特別是美國向來對管理階層獨大疑慮甚深，因此主張獨董擁有股份有利於制衡管理階層對董事會的支配力，台灣則認為獨董主要僅在保障小股東權益。\\xa0但是獨董真的獨立嗎？這取決於誰提名獨董，台灣多由董事長提名，獨董監督董事會的能力必然有限；美國多由總經理提名，獨董監督管理階層的能力也必然打折，並無最佳良方。再者，在同一企業擔任董事日久，利益糾葛與人際關係日漸緊密，也不利監督，因此有學者懷疑任期五年以上的獨董皆不具獨立性。考量台灣企業多董事長制，獨董提名委員會似可修改向總經理傾斜，並且同一集團企業內連選連任最多一屆，以保持其獨立性。至於認為獨董浮濫而要求改回監察人制度的建議並不可行，因為過去正是因為監察人的功效不彰才改為獨董制度，在台灣以家族企業為主的結構下，股東會「累積投票制」選出的監察人需要董事大股東的支持，甚至由單一股東法人推薦董事與監察人，其獨立性較獨董更值得懷疑。\\xa0監督之外，第二種看法認為獨董的目的在提供公司諮詢服務與策略建議，退休財金官員正可展所長，但是卻無法說明為什麼不可以用獨立的諮詢服務，而非得用獨董的方式不可。\\xa0第三種可能是董事長找高官名人擔任獨董以滿足個人膨脹的自我意識，嚴格說來，這也是一種有害小股東權益的不良公司治理。\\xa0第四種說法是獨董的政商關係有利於企業經營，但這也是為人詬病的退休官員成為企業門神，或是獨董成為執政者政治酬庸的工具，如近日中華電信或是富邦金的爭議；不過這種關係得以存在還是因為背後的體制因素，包括貪污或是不夠中立的政府組織與監督力量薄弱的媒體等，例如波灣戰爭時美國普遍懷疑副總統Cheney的Halliburton石油公司會因此獲益，但是在千夫所指、媒體強力監督下，Halliburton最終並未獲得任何好處，因此關鍵還是在改善政府的裙帶資本主義與增強媒體的監督能力；富邦金過去由北市府指派媒體人擔任獨董，問題不僅在肥貓，更有違權力的分立與制衡，因此有必要在透明化、旋轉門條款與獨董資格限制上更加嚴格。', 'view_cnt': 2542}, {'link': 'http://www.appledaily.com.tw//realtimenews/article/life/20160511/857749/最難訂位餐廳\\u3000阿姨吃到飽還帶著走', 'category': '生活', 'title': '最難訂位餐廳\\u3000阿姨吃到飽還帶著走', 'time': '2016/05/11 00:05', 'summary': '果然不愧為全台最難訂位餐廳的榜首，漢來海港餐廳夯到餐食被客人吃到飽還「帶著走」！客人自備塑膠袋「掃」貨，被鄰桌的客人給側錄下來！投訴人說，今天跟女友到廣三內的漢來海港餐廳用餐，赫見右邊一桌婆婆媽媽，先是夾了一堆餐點然後要離開時還自備塑膠袋打包帶走，誇張到爆！\\xa0投訴人是中午去用餐，他原本和友人在談笑，突然聽到不遠處傳來塑膠袋的窸窣聲，轉頭過去發現有一桌客人約四、五人，桌上堆滿好幾盤食物，其中就有婦人不時把整盤蝦子等海鮮倒入塑膠袋中，一包一包塞進自己的提包裏，還會交頭接耳的談笑互相交待：「現在沒人，現在沒人！」投訴人看不過去，在用餐完離開前曾向店家反映，但不知店家有無進一步處理。\\xa0漢來海港餐廳現全國有六處據點，高雄巨蛋店單點單月即可創造四千萬業績，其他如台中台北等各處分店，單月也都可進帳兩千萬，天天排隊不在話下，假日要去用餐，得三個月前預訂才有位子。\\xa0漢來餐飲事業部行銷企劃副理許怡茜驚訝表示：「現在很多人消費ＢＵＦＦＥＴ的能力很強，很少聽說有這樣子的！」她說，若店員有被告知，在現場會柔性勸說，但因為畢竟不想讓客人不高興，是不會罰款或有其他強制動作，「我們基本上會站在相信尊重客人的立場，不會過度干預」。（黃任膺／台中報導）\\xa0\\n這名阿姨不斷將桌上一盤盤食材倒到自己的提袋內。翻攝畫面吃到飽還不夠，阿姨還偷偷打包帶回家。翻攝畫面兩人不斷交頭接耳。翻攝畫面', 'view_cnt': 27361}, {'link': 'http://www.appledaily.com.tw//realtimenews/article/local/20160511/858175/43死囚只槍決鄭捷\\u3000原因在此', 'category': '社會', 'title': '43死囚只槍決鄭捷\\u3000原因在此', 'time': '2016/05/11 00:05', 'summary': '法務部長羅瑩雪今批准殺人魔鄭捷槍決，晚間8時47分，鄭捷3槍斃命，原本有共43死囚待槍決，為何唯獨挑鄭捷？法務部次長陳明堂指出，其他其餘42人是造成1至3人死亡，犯行是對特定被害人造成危害，但鄭一次奪4命，又是在捷運上犯案，造成不特定的大眾全面恐慌，人神共憤，影響重大，因此先對他執行死刑，以符合社會正義。\\xa0陳明堂說，鄭捷犯下台北捷運殺人案，造成解青雲、張正翰、李翠雲和潘碧珠等4名無辜者失去寶貴生命，另林姓等22人受到輕重不等的傷害，歷審法院均認定其罪證明確判處死刑，最高法院並提訊鄭某到庭召開言詞辯論，終審判決亦認其罪證明確，犯行符合公民與政治權利國際公約（ICCPR）第6條所稱最嚴重之罪而維持原判，判處鄭4個死刑定讞。\\xa0陳明堂強調，鄭捷的犯行已達人神共憤地步，且他犯罪情節嚴重破壞社會秩序與安定，造成大眾驚恐不安，並對被害人及其家屬造成永遠難以抹滅的傷害，法務部只有依法執行，以實現社會正義的責任。（劉志原╱台北報導）\\xa0【更多法庭新聞，請看《蘋果陪審團》粉絲團】', 'view_cnt': 219794}, {'link': 'http://www.appledaily.com.tw//realtimenews/article/local/20160511/858184/【槍決效應】白玫瑰憂司法院不敢判死', 'category': '社會', 'title': '【槍決效應】白玫瑰憂司法院不敢判死', 'time': '2016/05/11 00:05', 'summary': '針對鄭捷伏法，白玫瑰社會關懷協會理事長梁毓芳表示：「我覺得很好，政府也知道該處理的時候了」，從去年5月21日開始，一連串的社會事件都是從鄭捷開始，速審速決是好的，法務部有魄力迅速處理，是一件非常好的事情，但是法務部敢執行，司法院敢不敢判死？這是我們非常隱憂的事情。\\xa0梁毓芳表示，在新舊政府交接的時刻突然執行，政治的事很混亂，個人有個人的想法，「但對人民來講只要求一個安全的環境」，不管是新舊政府，以後新政府交替，也希望法務部有此魄力，在司法上更貼近民意。\\xa0梁毓芳說，對於其他死囚，我們認為也該處理，但是對於鄭捷較快速的執行，應該是他對於社會所造成的震盪真的太大，必須先對現今治安有所交待，鄭捷案使社會付出的代價太大了，若再不處理，人民失去對政府的信心會愈來愈嚴重。\\xa0支持死刑的宅神朱學恆表示：「這是依法執行，對受害死者家屬僅是最基本的撫慰，他後續可能引起的模仿效應(捷運或隨機殺人)，恐怕還無法如此快結束。」\\xa0朱學恆也表示，法務部應解釋，我國執行死刑的標準是什麼，「流程和時限都毫無標準判斷，對受害者家屬而言，完全無法判斷我的正義何時到達，」這對受害者家屬是另種迫害，希望未來新政權應把執行死刑，當做法律中的標準流程，照章執行、照時間執行，才符合人民期待。\\xa0朱學恆認為，鄭捷執行還不夠快，光是三審定讞就拖了比預料還久的時間，他毫無冤獄可能，確實殺了4個人，所謂速審速決，應在確認沒有冤獄可能、也無誤判之下，儘快執行，對受害者家屬而言「已經等很久了」，對他們是不必要的傷害。\\xa0網路社團「反廢死聯盟」發起人洪振智則表示：「這是近期台灣司法做出最有勇氣的一件事」，台灣的司法機關一直畏懼兩公約、一直不敢判死刑，但這樣的死刑犯本來就沒有拖延槍決的必要，判刑確定就該在短期之內執法，這是理所當然該做的事，否則他的生活負擔由全民埋單。\\xa0洪振智表示：「我不認為鄭捷執行太快，而是其他死囚執行太慢」，對於政黨我沒有任何看法，不論那個政黨，都只是在作秀、在討人民歡心，而非做應該做的事，舊政府選擇此刻槍斃鄭捷也是「討人民歡心」，還有40幾名死囚應執行未執行，在下台的時刻所以槍決一個吧，對人民有個交待。（法庭中心／綜合報導）\\xa0【更多新聞，請看《蘋果陪審團》粉絲團】', 'view_cnt': 19114}, {'link': 'http://www.appledaily.com.tw//realtimenews/article/nextmag/20160511/858191/【壹週刊】【獨家】D奶尹馨勾搭新同志天菜\\u3000「直覺有女友」', 'category': '壹週刊', 'title': '【壹週刊】【獨家】D奶尹馨勾搭新同志天菜...', 'time': '2016/05/11 00:05', 'summary': '有D奶得過金鐘、金馬獎的尹馨的情路多舛，37歲的她不久前宣佈跟大她12歲的文創大叔分手，最近則被小4歲的鄭人碩把。\\xa0不過危險的是，尹馨根本就已經懷疑鄭人碩有正牌女友，但還是私下跟人家偷偷約會，甚至曖昧交換體溫及口水，過程已被本刊全程直擊。（撰文：娛樂組）\\n【想知道更多，一定要看……】【壹週刊】尹馨鄭人碩鍍金\\u3000脫光打砲起家【壹週刊】尹馨沾富商勾小開\\u3000黏導演啾大叔', 'view_cnt': 17937}, {'link': 'http://www.appledaily.com.tw//realtimenews/article/forum/20160511/852241/劉黎兒：老婆只要你做愛半小時', 'category': '論壇', 'title': '劉黎兒：老婆只要你做愛半小時', 'time': '2016/05/11 00:04', 'summary': '許多男人覺得自己怎麼做愛，妻子都不滿意，想東想西，擔心自做的不夠久或不夠細膩，其實正好相反，妻子不是不想做，而是不喜歡丈夫做的太瑣碎太冗長，許多妻子表示只要30分鐘就好了，甚至有時超短性愛也OK的。\\xa0日本夫妻無性不是秘密，許多妻子討厭丈夫做愛邋遢，尤其一起生活多年的夫妻，不需要每次都花很多時間，美津子說：「做太久，懶洋洋的！好浪費時間喲！有時做到都快睡著了！」\\xa0夫妻隨時能做，經常要做的話，妻子希望丈夫做愛能有點抑揚頓挫，才有意思，像有時禮拜天近中午醒來，性緻來了，就俐落地做個15分鐘乃至10分鐘，都會很舒爽，尤其許多丈夫醒來時硬度最佳，不必限定晚上做愛，只要有誠意地緊抱妻子，讓妻子感到愛情與愉悅，時間超短也能衝頂的。\\xa0雖然濃郁的性愛很不錯，但每次都這樣做，妻子會覺得累死了，事實上丈夫也沒那麼厲害；因此大部分的時候，30分鐘就好了，像親吻1分鐘就好，許多妻子不像青春時期會那麼喜歡深吻了，接吻淺嚐即可，整個臉都舔吻，反而不舒服。\\xa0愛撫等前戲10分鐘就好，雖然不要只脫褲子就做，但許多妻子多少自覺肉體變形，不會想讓丈夫看的太清楚，最好關燈或在微暗的狀況下做；丈夫按理已深知妻子喜歡怎樣做，不知道也至少有效率地做；最重要的是手不要停下來，最好用雙手、舌頭等，甚至用大腿搓妻子的肉體，丈夫努力愛撫全身，妻子感度自然提高，而且同時多角進擊，比起從如嘴巴到乳頭到性器的惰性作業好多了，也能縮短時間，一舉兩得。\\xa0有時夫妻能彼此自慰給對方看，讓兩人都亢奮起來，也能感覺到對方想要怎樣；也有丈夫擔心只有10分鐘，沒辦法好好舔陰等，其實妻子不像剛交往上床時，沒工夫充分保持性器的良好狀態，多少有點擔心會有味道，無法安心享受丈夫對性器的刺激，舔陰未必受歡迎；插入之後，好好做個15分鐘，就很不錯，剩下5分鐘，則用在後戲，說句「謝謝，我很舒服！」維持一下做愛餘韻，對妻子而言，是下次還想做愛重要火種！\\n更多劉黎兒文章', 'view_cnt': 14290}, {'link': 'http://www.appledaily.com.tw//realtimenews/article/beauty/20160511/858198/【動新聞】設計師當Coser\\u3000扮娜美南半球好搶鏡', 'category': '正妹', 'title': '【動新聞】設計師當Coser\\u3000扮娜美南半...', 'time': '2016/05/11 00:03', 'summary': '今天我最美是喜愛Cosplay的依葉，身高166公分、體重50公斤，星座是牡羊座。目前24歲的她是商品設計師，興趣是Cosplay。\\xa0擁有好身材的依葉曾Cos過不計其數的動漫人物，在Cos界中小有名氣。而她曾經扮演過《航海王》中的娜美，好身材連比基尼都遮不住，南半球頻頻出來見客，最近分享在臉書粉絲專頁一張自己Cos成《英雄聯盟》角色阿璃的照片，呼之欲出的渾圓美乳也讓不少網友鼻血直流，直呼血不夠流。（隋昊志／綜合報導）\\xa0地點：西門町紅樓暱稱：依葉身高：166公分體重：50公斤年齡：24歲行業：商品設計師星座：牡羊座興趣：cosplay臉書“《依葉 ‧ Eya Cosplayer》\\xa0\\n擁有好身材的依葉喜愛Cosplay，在Cos界小有名氣。依葉時常在臉書分享自己Cosplay的照片。翻攝自依葉 ‧ Eya Cosplayer臉書依葉時常在臉書分享自己Cosplay的照片。翻攝自依葉 ‧ Eya Cosplayer臉書', 'view_cnt': 17620}, {'link': 'http://www.appledaily.com.tw//realtimenews/article/forum/20160511/852134/許佑生：叫春免責權大戰', 'category': '論壇', 'title': '許佑生：叫春免責權大戰', 'time': '2016/05/11 00:02', 'summary': '歐盟對很多議題不同調，甚至連「叫春的管理政策」……該不該叫春？允不允許叫春？可以叫多大聲？態度都迥然不同。像義大利一名男性、英國一名女性因叫春太喧吵，各被法官宣判牢獄。但在瑞典，義、英階下囚，卻變成奉為上賓，政府官員還公開宣導：「叫叫春，有益身心啊。」\\xa0義大利這名男子被12位鄰居聯合控訴，說他做愛時叫春達到「侵犯」（stalk）地步，這字眼讓人懷疑難不成他在高潮時「鬼哭神嚎」？竟爾，為他換來半年刑期。\\xa0英國這名女子「春吶」也被鄰居抱怨，形容「那對夫妻的悽厲叫聲，彷彿正處於令人擔憂的痛苦狀態」，擾亂全棟心神。女子夜夜春宵，每晚都叫，一叫往往達數小時，鄰居誰睡睡得著？一整晚陪聽。此事鬧上法院，當庭還播放苦主芳鄰錄下的「夜半鬼上床」證據\\xa0但在瑞典則大逆轉，一名男子向衛生部長Wikstrom抱怨，被鄰居叫春吵到睡不著，還提議全國應下禁令，晚間10點後不准做愛叫出聲。衛生部長不僅沒跟法院聯手滅春，且出乎意外在推特大表支持。大概，瑞典人基因好吧，這一位衛生部長好看到被全世界注目，封他為「舉世最帥的年輕部長」。由他來為叫春背書，讓很多婦女吃了定心丸。\\xa0他指出，瑞典過去20年來，夫妻每周行房次數下降了4成。很多因壓力、緊張，沒有心力勻給做愛。部長大人憂心景況惡化，他寧可國民盡量生活在做愛可以吵到鄰居的社會，也不希望整個社會日漸性愛乾涸下去。\\xa0光是在歐洲一地，各國對叫春的態度如此懸殊，那到底是叫出來，或悶著幹活好呢？\\xa0瑞典伊恩醫師從事心理與婚姻諮商，他支持瑞典衛生部長的觀點，指出夫妻做愛悶葫蘆，沒發出一點起碼聲量，便無法幫助伴侶了解自己身體需要，性生活品質低檔徘徊。\\xa0在瑞典，上床行歡者無須被枕頭壓著嘴叫春、被摀住口叫春、咬著被單叫春、像忍著打噴嚏叫春等，反正部長說大眾太久不做愛了，想愛愛都有免於「恐懼製造噪音的自由」。瑞典贏得了「喧鬧性愛（loud sex）樂園」之譽，也成了招攬全球觀光客的優勢。噪音，免開罰單，說不定還贈你市民之鑰呢。\\n更多許佑生文章', 'view_cnt': 4450}, {'link': 'http://www.appledaily.com.tw//realtimenews/article/local/20160511/858192/3度輔導鄭捷\\u3000應曉薇：他很可怕、不認有錯', 'category': '社會', 'title': '3度輔導鄭捷\\u3000應曉薇：他很可怕、不認有錯', 'time': '2016/05/11 00:02', 'summary': '犯下台北捷運4死命案的死囚鄭捷，定讞18天後在昨天晚間執行槍決，台北市議員應曉薇在臉書發文表示，自己輔導死刑犯20年，鄭捷是那種會令她要求應該帶警報器的死囚之一，「因為他很可怕，他的一言一行中，他從未認知犯過錯」。\\xa0應曉薇表示她3次輔導鄭捷，第1次鄭捷像值日生，在舍房排上課桌椅乖乖上課；第2次她問鄭捷是否後悔殺人，鄭捷表示「毫不後悔」；第3次鄭捷當時剛開完庭，對她抗議媒體報導的開庭情況與真實不符。\\xa0「他即使因違規被移到犯責房，他仍然認為他沒有錯，反而是帶領大家應該檢討犯責規定」，應曉薇指出，她忘不了鄭捷上課時的眼光，「他凝視我，也迴避我」，即使她已經輔導死囚20年，仍感受到鄭捷的可怕，而且鄭捷從未認知犯過錯。（劉育良／綜合報導）\\xa0\\n翻攝自應曉薇的臉書', 'view_cnt': 107546}, {'link': 'http://www.appledaily.com.tw//realtimenews/article/sports/20160511/858205/【動新聞】陳偉殷明戰釀酒人挑戰本季第3勝', 'category': '體育', 'title': '【動新聞】陳偉殷明戰釀酒人挑戰本季第3勝', 'time': '2016/05/11 00:02', 'summary': '【動新聞／綜合報導】效力馬林魚隊的陳偉殷，台灣時間明天上午7時10分，要在主場擔任與釀酒人3連戰最後1場先發投手，挑戰個人本季第3勝。釀酒人目前仍在國聯中區墊底，殷仔1日才從他們手中拿下本季第2勝，不過釀酒人打擊近況不差，5月份得分、安打、全壘打都是大聯盟第1，殷仔明天還是得小心應付。\\n陳偉殷明戰釀酒人，挑戰本季第3勝。資料照片', 'view_cnt': 8148}, {'link': 'http://www.appledaily.com.tw//realtimenews/article/finance/20160511/858082/5月11日(三)\\u3000全球重要經濟數據預覽', 'category': '財經', 'title': '5月11日(三)\\u3000全球重要經濟數據預覽', 'time': '2016/05/11 00:01', 'summary': '5月11日(三)\\u3000全球重要經濟數據預覽國家經濟數據台北時間預估值前期值解讀南韓4月失業率07:003.8%3.8%持平泰國央行基準利率決策15:301.5%1.5%--英國3月工業生產月增率16:300.5%-0.3%多資料來源：彭博', 'view_cnt': 1164}, {'link': 'http://www.appledaily.com.tw//realtimenews/article/forum/20160511/851427/吳若權：趁早開除豬頭老闆', 'category': '論壇', 'title': '吳若權：趁早開除豬頭老闆', 'time': '2016/05/11 00:00', 'summary': '如果你確定老闆是豬頭，請趁早開除他。否則，他遲早會請你走路。還有比這個更痛苦的結果是，你在他底下耗盡青春，既離不開、也走不了，成為一個只會抱怨，也沒實力的人。\\xa0上班族抱怨老闆是豬頭，這是常有的事。但很少有上班族會回頭過來想，自己是如何跟上了這位豬頭老闆？是當初應徵工作時，眼睛沒睜開、罩子沒放亮；還是對方在一夕之間從溫柔敦厚變尖酸刻薄？\\xa0有位資深上班族向我傾訴，他被公司調派到深圳六年後，突然在完全無預警的狀態下，被調回台灣，未滿三個月，又要被調去一個跟他本職學能完全不同的單位。難道公司是有意要逼他走路？只是為了省下資遣的費用，才故意這樣折磨他。\\xa0乍聽之下，好像滿有道理，但我請教他，是否真正了解整件事情的來龍去脈，他卻不太有把握地跟我坦承，一切都只是來自「小道消息」，弄到最後，彷彿自己要被趕盡殺絕了，卻死得不明不白。\\xa0其實，太突然的、或不合常理的職務調動，甚至惡性逼退，事出必有因，每個變化都有端倪，大至公司連年虧損、小至個人績效不好，若大難臨頭還感到非常無辜，就表示自己的職業敏銳度太差。如果凡事的消息管道，都只是「聽說」之後的「聽說」，就表示自己的辦公室正面溝通不夠，自己對事情的主見太少。光是以上這幾個劣勢，已經足以威脅到自己在辦公室的生存了。\\xa0工作多年以後，我們可以繼續秉持「莫忘初衷」的精神，繼續投入熱情，在崗位上全力以赴；卻不能在接連錯失判斷之後，把自己當成是楚楚可憐的小白兔。當你做得愈資深、裝得愈無辜，就是犯了愈大的錯誤。\\xa0在同一家公司工作超過五年，甚至十年，最後走上逼退的道路，除了老闆確實是豬頭之外，自己多少是要負點責任的。跟錯人、溝通少、努力不夠……都有可能；即使經營錯誤都在資方，上班族沒有發現苗頭不對而及早跳槽，留來留去留成仇，罵老闆豬頭，罵得再大聲，也只是意氣用事而已。前途，畢竟是自己的啊，碰到絕路，也得靠自己轉彎。\\xa0心理學家阿德勒認為，工作發展是人生很重要的一部分。它不只是一種符合興趣的選擇，也是生活風格的形塑。從事適合自己的工作，除了溫飽生活、成就自我，還具有貢獻與利他的意義。\\xa0賴在一個不適合自己的地方，遲遲沒有當機立斷地離開。等到快要被公司逼退的時候，才猶豫要不要採取法律行動抗爭，不僅清醒得有點遲了，也把力氣用錯地方。如果能討回資遣費，當然很好。若要花很多時間，面對法律冗長的程序，何不換個角度想想：人生還有更多比資遣費更有價值的寶山，等著你去挖掘，怎會把時間浪費在垃圾山？永遠不要和豬頭坐困獸之鬥，除非你是一隻比對方更大的豬頭。\\n更多吳若權文章', 'view_cnt': 3558}, {'link': 'http://www.appledaily.com.tw//realtimenews/article/local/20160511/854495/【法律問蘋果】父過世屋遭佔用\\u3000子女可這樣討回', 'category': '社會', 'title': '【法律問蘋果】父過世屋遭佔用\\u3000子女可這樣...', 'time': '2016/05/11 00:00', 'summary': '花蓮李先生問：本人父親已於1984年過世，他留有一間木造房子，兄弟姊妹均未辦理遺產繼承，由大哥居住使用，但近期發現該房屋被他人佔有，因大哥已過世數年，不知是大哥賣他或租他，請問我可否主張有繼承該房屋之權利，應如何辦理？如果是大哥生前賣出或出租他人，我能怎麼辦？\\xa0律師邱怡瑄答：依《民法》相關規定，「繼承，因被繼承人死亡而開始」、「繼承人自繼承開始時，除本法另有規定者外，承受被繼承人財產上之一切權利、義務。」此外，讀者於父親去世後，就是遺產繼承人，當然可以繼承父親所留下的遺產。\\xa0因讀者自父親過世時，依法即已繼承該屋，也就是該屋的所有權人之一，但讀者是否可以對所繼承的木造房子主張權利，會因該屋有無辦理所有權第一次登記（俗稱保存登記）而有所不同。\\xa0若該屋屬於違建，沒辦理保存登記，且目前佔有該屋的人，是無權佔有者，讀者可依《民法》第767條之規定，請求佔有該屋的人返還房屋，但必須注意有無超過15年的請求權時效。但如果該屋已經辦理保存登記，則不受15年時效的拘束。\\xa0另外，如果大哥生前已經將該屋賣給目前佔有該屋的人，因對方可能是善意的買受人，所以讀者不能再要求他返還木屋；但如果大哥只是將房屋出租給對方，則讀者仍可本於所有權人之地位，請求對方返還房屋。（林益民／採訪整理）\\xa0【更多新聞，請看《蘋果陪審團》粉絲團】\\xa0《蘋果》即時推出【法律問蘋果】網友如有法律問題需要解答，歡迎來信e-mail：court@appledaily.com.tw', 'view_cnt': 10676}, {'link': 'http://www.appledaily.com.tw//realtimenews/article/strange/20160511/858116/100包洋芋片放火燒\\u3000網友：脂肪的憤怒', 'category': '搜奇', 'title': '100包洋芋片放火燒\\u3000網友：脂肪的憤怒', 'time': '2016/05/11 00:00', 'summary': 'ЧТО БУДЕТ, ЕСЛИ ПОДЖЕЧЬ 100 ПАЧЕК ЧИПСОВ?! 100包洋芋片全部打開倒在一起，在放把火下去燒的話，會出現整樣的情況呢？\\xa0俄羅斯網路紅人Garri在YouTube分享了一部影片，他開車去大賣場大肆採購洋芋片，結完帳後把它們載上車，到了一處空地後，他們把所有的洋芋片拆開倒在一起，形成了一個像小山一般的洋芋片山，之後再點火燒這洋芋片山，只見火勢逐漸變大，過一會時間整座洋芋片山就成了一攤黑色灰燼。\\xa0看到這驚人的做法，網友留言「這是來自脂肪的憤怒」、「看到洋芋片燒起來，我哭泣了」、「太恐怖了，先吃個洋芋片搭可樂壓壓驚」、「不要玩食物」。（即時新聞中心／綜合報導）\\xa0\\n到賣場添購洋芋片。翻攝YouTube倒出來。翻攝YouTube放火燒。翻攝YouTube黑一片。翻攝YouTube', 'view_cnt': 9864}, {'link': 'http://www.appledaily.com.tw//realtimenews/article/local/20160511/858127/教誨師眼中的鄭捷\\u3000「彷彿人間鬼魅」', 'category': '社會', 'title': '教誨師眼中的鄭捷\\u3000「彷彿人間鬼魅」', 'time': '2016/05/11 00:00', 'summary': '捷運殺人魔鄭捷今天傍晚槍決，曾在看守所內輔導他的教誨師黃明鎮得知後，嘆了一口氣，他直言，鄭捷是他遇過非常特別的死刑犯，犯後毫無悔意，且個性偏激、傲慢、自我，越來越硬頸，聽不進去他人的話，甚至訝異殺人後「還能待（活）這麼久」，彷彿是身在人間的鬼魅，認為鄭捷是網路世界製造出的造孽者。\\xa0《蘋果》晚間致電黃明鎮，黃明鎮得知鄭捷被槍決後，驚訝地說了一聲「哇」，他訝異法務部這麼快就執行槍決，但他認為，社會各界應該也都覺得，「終於！」\\xa0黃明鎮說，鄭捷近來較少參加聚會，不太看新聞，也不太看聖經，幾乎都在看守所內看書。他回憶過去和鄭捷接觸的狀況，直言鄭捷是他過去輔導的死刑犯中，非常特殊的人物，可說是異類，因為「心中無神、目中無人」，想法自我、偏激，沒有任何情感，且鄭捷只要發現媒體寫了他在看守所的情形，就會不爽身邊的人向媒體放話，怒斥：「不要替我講！」\\xa0黃明鎮說，從鄭捷的字跡來看，隱約也可看出他的個性。黃說，鄭捷總將自己的名字寫得又大又潦草，除了顯示出他的自我，也顯示他因長期沉迷網路世界，導致似乎不太會寫字。\\xa0黃明鎮透露，在鄭捷身上，完全看不到對人性的尊重，多數的死刑犯尚未被執行前，都懷著感恩的心，認為仍能苟延殘喘，但鄭捷卻完全不同，常訝異「(殺人後)怎麼還能待這麼久」，且殺人後毫無悔意，認為「每個人都會消失，讓他們早點消失，沒有什麼不對」。\\xa0黃明鎮認為，鄭捷究竟為何會變成這樣，實在是一個謎，不過，他過去和鄭捷訪談時，鄭捷曾透露，過去每天至少打網路遊戲17個小時，研判他現實感完全缺乏，就是長期沉迷網路遊戲所致，「是網路世界製造出的造孽者」，對他伏法感到嘆息。(法庭中心／台北報導)', 'view_cnt': 97250}, {'link': 'http://www.appledaily.com.tw//realtimenews/article/sports/20160511/858187/【動新聞】哈登把妹就愛挑人妻', 'category': '體育', 'title': '【動新聞】哈登把妹就愛挑人妻', 'time': '2016/05/11 00:00', 'summary': '【動新聞/綜合報導】根據八卦網站terezowens.com報導，火箭「大鬍子」哈登(James Harden)日前去看天后碧昂絲(Beyonce Knowles)在休士頓的演唱會，不過眼尖的網友發現他的身邊坐著一名頭戴鴨舌帽的女伴，仔細看之後才知道原來她是前NBA球員帕可(Jannero Pargo)的老婆瑪蕾西亞(Malaysia Pargo)，不過帕可和老婆已在2014年宣布離婚，所以瑪蕾西亞目前是自由之身。\\xa0哈登之前曾和歐登(Lamar Odom)的老婆科勒卡達夏 (Khloe Kardashian)愛得高調，如今兩人分手後，哈登顯然還是過得很精彩，只是他似乎把NBA球員的老婆或前妻，也讓人覺得哈登的口味還真是特別。\\n哈登看演唱會身邊女伴竟是前NBA球員帕可的前妻瑪蕾西亞。翻攝自terezowens.com', 'view_cnt': 14254}]\n"
     ]
    }
   ],
   "source": [
    "newsToday=[]\n",
    "page=1\n",
    "while True:\n",
    "    print(page, end=' ')\n",
    "    newsToday.extend(getPageNews(page));\n",
    "    if(stopFlag):\n",
    "        break\n",
    "    page += 1;    \n",
    "print(newsToday)"
   ]
  },
  {
   "cell_type": "code",
   "execution_count": 45,
   "metadata": {
    "collapsed": false
   },
   "outputs": [
    {
     "data": {
      "text/html": [
       "<div>\n",
       "<table border=\"1\" class=\"dataframe\">\n",
       "  <thead>\n",
       "    <tr style=\"text-align: right;\">\n",
       "      <th></th>\n",
       "      <th>category</th>\n",
       "      <th>link</th>\n",
       "      <th>summary</th>\n",
       "      <th>time</th>\n",
       "      <th>title</th>\n",
       "      <th>view_cnt</th>\n",
       "    </tr>\n",
       "  </thead>\n",
       "  <tbody>\n",
       "    <tr>\n",
       "      <th>0</th>\n",
       "      <td>政治</td>\n",
       "      <td>http://www.appledaily.com.tw//realtimenews/art...</td>\n",
       "      <td>民進黨籍的嘉義縣大林鎮長黃貞瑜及夫婿涉嫌A公務車自用遭起訴，令人意外。黃貞瑜曾「有最美麗鎮長...</td>\n",
       "      <td>2016/05/11 16:01</td>\n",
       "      <td>「最美鎮長」涉貪　媽媽也曾涉賄停職</td>\n",
       "      <td>0</td>\n",
       "    </tr>\n",
       "    <tr>\n",
       "      <th>1</th>\n",
       "      <td>生活</td>\n",
       "      <td>http://www.appledaily.com.tw//realtimenews/art...</td>\n",
       "      <td>藝人羅志祥（小豬）去年發專輯《真人秀？》預告將「買3張可合照、5張抱抱」的互動模式辦歌迷會，...</td>\n",
       "      <td>2016/05/11 16:01</td>\n",
       "      <td>她不怕被罰30萬　也要說小豬「3照5抱」...</td>\n",
       "      <td>0</td>\n",
       "    </tr>\n",
       "    <tr>\n",
       "      <th>2</th>\n",
       "      <td>時尚</td>\n",
       "      <td>http://www.appledaily.com.tw//realtimenews/art...</td>\n",
       "      <td>有新加坡國寶稱號的43歲歌手陳潔儀昨在香港舉行記者會，宣布下月開演唱會，頂著一頭招牌短髮的她...</td>\n",
       "      <td>2016/05/11 16:00</td>\n",
       "      <td>新加坡國寶紅吱吱　強撞仙女級人妻</td>\n",
       "      <td>0</td>\n",
       "    </tr>\n",
       "    <tr>\n",
       "      <th>3</th>\n",
       "      <td>壹週刊</td>\n",
       "      <td>http://www.appledaily.com.tw//realtimenews/art...</td>\n",
       "      <td>香料共和國 果阿面積3702平方公里，距離孟買約一小時飛行時間。這個擁有一百多公里長阿拉伯海...</td>\n",
       "      <td>2016/05/11 16:00</td>\n",
       "      <td>【壹週刊】遊果阿香料農場　吃印度檳榔</td>\n",
       "      <td>0</td>\n",
       "    </tr>\n",
       "    <tr>\n",
       "      <th>4</th>\n",
       "      <td>社會</td>\n",
       "      <td>http://www.appledaily.com.tw//realtimenews/art...</td>\n",
       "      <td>花蓮1名退休獨居孔姓女老師(57歲)在公寓住宅昏迷3天奄奄一息，幸好遠在20公里外的胞弟發現...</td>\n",
       "      <td>2016/05/11 15:59</td>\n",
       "      <td>「電話都不接」　弟報警破門救出昏迷姊</td>\n",
       "      <td>0</td>\n",
       "    </tr>\n",
       "  </tbody>\n",
       "</table>\n",
       "</div>"
      ],
      "text/plain": [
       "  category                                               link  \\\n",
       "0       政治  http://www.appledaily.com.tw//realtimenews/art...   \n",
       "1       生活  http://www.appledaily.com.tw//realtimenews/art...   \n",
       "2       時尚  http://www.appledaily.com.tw//realtimenews/art...   \n",
       "3      壹週刊  http://www.appledaily.com.tw//realtimenews/art...   \n",
       "4       社會  http://www.appledaily.com.tw//realtimenews/art...   \n",
       "\n",
       "                                             summary              time  \\\n",
       "0  民進黨籍的嘉義縣大林鎮長黃貞瑜及夫婿涉嫌A公務車自用遭起訴，令人意外。黃貞瑜曾「有最美麗鎮長...  2016/05/11 16:01   \n",
       "1  藝人羅志祥（小豬）去年發專輯《真人秀？》預告將「買3張可合照、5張抱抱」的互動模式辦歌迷會，...  2016/05/11 16:01   \n",
       "2  有新加坡國寶稱號的43歲歌手陳潔儀昨在香港舉行記者會，宣布下月開演唱會，頂著一頭招牌短髮的她...  2016/05/11 16:00   \n",
       "3  香料共和國 果阿面積3702平方公里，距離孟買約一小時飛行時間。這個擁有一百多公里長阿拉伯海...  2016/05/11 16:00   \n",
       "4  花蓮1名退休獨居孔姓女老師(57歲)在公寓住宅昏迷3天奄奄一息，幸好遠在20公里外的胞弟發現...  2016/05/11 15:59   \n",
       "\n",
       "                     title  view_cnt  \n",
       "0        「最美鎮長」涉貪　媽媽也曾涉賄停職         0  \n",
       "1  她不怕被罰30萬　也要說小豬「3照5抱」...         0  \n",
       "2       新加坡國寶紅吱吱　強撞仙女級人妻　          0  \n",
       "3       【壹週刊】遊果阿香料農場　吃印度檳榔         0  \n",
       "4       「電話都不接」　弟報警破門救出昏迷姊         0  "
      ]
     },
     "execution_count": 45,
     "metadata": {},
     "output_type": "execute_result"
    }
   ],
   "source": [
    "import pandas as pd\n",
    "df = pd.DataFrame(newsToday)\n",
    "df.head()"
   ]
  },
  {
   "cell_type": "markdown",
   "metadata": {},
   "source": [
    "# insert into sqlite3"
   ]
  },
  {
   "cell_type": "code",
   "execution_count": 39,
   "metadata": {
    "collapsed": true
   },
   "outputs": [],
   "source": [
    "# -*-coding: utf-8 -*-\n",
    "import sqlite3\n",
    "db=sqlite3.connect('news.sqlite')\n",
    "cur=db.cursor()\n",
    "cur.execute('''DROP TABLE IF EXISTS news_entry''')\n",
    "cur.execute('''CREATE TABLE IF NOT EXISTS news_entry\n",
    "     (id INTEGER PRIMARY KEY,\n",
    "      category TEXT,\n",
    "      view_cnt INTEGER,\n",
    "      time TEXT,\n",
    "      title TEXT,\n",
    "      summary TEXT,\n",
    "      link TEXT)''')\n",
    "cur.close()"
   ]
  },
  {
   "cell_type": "code",
   "execution_count": 17,
   "metadata": {
    "collapsed": false
   },
   "outputs": [],
   "source": [
    "# -*-coding: utf-8 -*-\n",
    "import sqlite3\n",
    "db=sqlite3.connect('news.sqlite')\n",
    "cur=db.cursor()\n",
    "data = cur.execute('''select * from news_entry''')\n",
    "for ele in  data:\n",
    "    print(ele)\n",
    "cur.close()"
   ]
  },
  {
   "cell_type": "code",
   "execution_count": null,
   "metadata": {
    "collapsed": true
   },
   "outputs": [],
   "source": [
    "insert_stmt = \"insert into tbl(c1, c2) values('v1', 'v2')\"\n",
    "prepare_stmt = \"insert into tbl(c1, c2) values(?, ?)\""
   ]
  },
  {
   "cell_type": "code",
   "execution_count": 5,
   "metadata": {
    "collapsed": false
   },
   "outputs": [
    {
     "name": "stdout",
     "output_type": "stream",
     "text": [
      "a!b!c!d!e\n",
      "a,b,c,d,e\n"
     ]
    }
   ],
   "source": [
    "a = ['a', 'b', 'c', 'd', 'e']\n",
    "print('!'.join(a))\n",
    "print(','.join(a))"
   ]
  },
  {
   "cell_type": "code",
   "execution_count": 8,
   "metadata": {
    "collapsed": false
   },
   "outputs": [
    {
     "name": "stdout",
     "output_type": "stream",
     "text": [
      "??????????\n",
      "?,?,?,?,?,?,?,?,?,?\n",
      "a,b,c,d,e\n"
     ]
    }
   ],
   "source": [
    "'?'\n",
    "print('?' * 10)\n",
    "print(','.join('?' * 10))\n",
    "print(','.join('abcde'))"
   ]
  },
  {
   "cell_type": "code",
   "execution_count": 18,
   "metadata": {
    "collapsed": false
   },
   "outputs": [
    {
     "name": "stdout",
     "output_type": "stream",
     "text": [
      "link,category,title,time,summary,view_cnt\n",
      "?,?,?,?,?,?\n",
      "insert into news_entry(link,category,title,time,summary,view_cnt) values(?,?,?,?,?,?)\n"
     ]
    }
   ],
   "source": [
    "#newsall[0].keys()\n",
    "#newsall[0].values()\n",
    "\n",
    "insert_stmt = 'insert into news_entry({}) values({})'\n",
    "columns = ','.join(newsToday[0].keys())\n",
    "print(columns)\n",
    "vals = ','.join(len(newsToday[0].keys()) * '?')\n",
    "print(vals)\n",
    "\n",
    "stmt = insert_stmt.format(columns, vals)\n",
    "print(stmt)"
   ]
  },
  {
   "cell_type": "code",
   "execution_count": 19,
   "metadata": {
    "collapsed": false
   },
   "outputs": [
    {
     "data": {
      "text/plain": [
       "dict_keys(['link', 'category', 'title', 'time', 'summary', 'view_cnt'])"
      ]
     },
     "execution_count": 19,
     "metadata": {},
     "output_type": "execute_result"
    }
   ],
   "source": [
    "newsToday[0].keys()"
   ]
  },
  {
   "cell_type": "code",
   "execution_count": null,
   "metadata": {
    "collapsed": false
   },
   "outputs": [
    {
     "name": "stdout",
     "output_type": "stream",
     "text": [
      "0\n",
      "insert into news_entry(link,category,title,time,summary,view_cnt) values(?,?,?,?,?,?)\n",
      "dict_values(['http://www.appledaily.com.tw//realtimenews/article/politics/20160511/858694/「最美鎮長」涉貪\\u3000媽媽也曾涉賄停職', '政治', '「最美鎮長」涉貪\\u3000媽媽也曾涉賄停職', '2016/05/11 16:01', '民進黨籍的嘉義縣大林鎮長黃貞瑜及夫婿涉嫌A公務車自用遭起訴，令人意外。黃貞瑜曾「有最美麗鎮長」之稱，她出身政治世家，母親李秀美8年前因擔任大林鎮長選舉賄選遭停職，縣府派黃貞瑜代理鎮長，她以創意和親和力，贏得鎮民好感，代理鎮之後當選第16屆鎮長再連任成功至今，也是「台灣最年輕女鎮長」，姑姑是知名歌手黃思婷。\\xa0黃貞瑜世新大學口傳系畢業再攻讀國立中正大學政治學研究所，長相甜美加上口才一流，常常主持民進黨在嘉義縣的大型活動，黃貞瑜也是總統當選人蔡英文的愛將之一，是民進黨看好的明日之星。\\xa0黃 貞瑜擔任鎮長，充滿熱忱與服務精神，平易近人的親和作風，很快拉近了與民眾的距離。黃貞瑜2010年在大林鎮北向入口處，創設「大林My Darling」景觀地標入口意象，將「Dalin」（大林英文地名）與「Darling」（親愛的）的諧音趣味巧妙串連，表現大林的熱情、親愛與溫暖。 此地標吸引許多結婚新人來拍婚紗照，平面及電子媒體均有報導，已成為婚紗攝影的熱門景點，並推動婚紗小鎮，也打響了大林知名度。\\xa0黃貞瑜3年前3月19日和大林鎮公所原行政室課員李豐全結婚（李豐全和同年2月20日調到嘉義縣政府新聞行銷處當科員），才子佳人一時傳為美談。今天卻因為公車私用，遭嘉義地檢署檢察官依《貪污治罪條例》，起訴她和丈夫李豐全，令人感到意外。（徐彩媚／嘉義報導）\\xa0\\xa0\\n【想知道更多，一定要看……】A公務車給老公用\\u3000大林美女鎮長夫妻起訴黃貞瑜主持大型活動能力強，被看好是民進黨的明日之星。翻攝黃貞瑜臉書', 0])\n",
      "1\n",
      "insert into news_entry(link,category,title,time,summary,view_cnt) values(?,?,?,?,?,?)\n",
      "dict_values(['http://www.appledaily.com.tw//realtimenews/article/life/20160511/858757/她不怕被罰30萬\\u3000也要說小豬「3照5抱」錯在這', '生活', '她不怕被罰30萬\\u3000也要說小豬「3照5抱」...', '2016/05/11 16:01', '藝人羅志祥（小豬）去年發專輯《真人秀？》預告將「買3張可合照、5張抱抱」的互動模式辦歌迷會，被活動主持人陳沂酸肉體斂財、「亞洲空幹王」，遭羅志祥提告，台北地院昨判陳沂需賠羅志祥30萬元，並登報道歉。對於小豬的「三照五抱」方式，部落客廣告小妹AdFan在臉書粉絲專頁發文提醒手段不高明，道行不夠深。\\xa0廣告小妹在臉書指出，當年她瘋狂愛黎明，要她買5張根本沒問題，「可是等哪一日我長大了，想起這位我真心崇拜過的偶像曾經使用這種方式賺我的錢，會非常心寒。」她點出一個藝人能紅得長久，一定是本身道德標準很高，她並以劉德華為例，「知道很多偶像最後是怎麼死的嗎？都是被『鐵轉黑』的前任粉絲幹掉的。不要小看粉絲的潛在恨意與破壞力。」\\xa0廣告小妹認為，賺錢得漂亮不漂亮很重要，「你的問題在於你有商人的慾望，卻沒有商人的手段。」要粉絲一次買多張照片不是不行，但明講就是公關技巧差，她並以韓國為例，想抱抱、簽名和握手都必須靠抽籤，「你覺得這種方式很公平嗎？錯！每多買一張唱片就多一份被抽中的機會，所以強者我朋友買了一百張少女時代新專輯。有人叫他買一百張嗎？沒有。唱片公司賺飽飽，還不會被人罵肉體斂財。賺錢要靠腦袋，懂？」\\xa0有網友擔心地問「你不怕被罰30萬嗎？」廣告小妹回應「不怕。因為我中肯（自己誇自己？）」（盧麗蓮／綜合報導）', 0])\n",
      "2\n",
      "insert into news_entry(link,category,title,time,summary,view_cnt) values(?,?,?,?,?,?)\n",
      "dict_values(['http://www.appledaily.com.tw//realtimenews/article/fashion/20160511/858592/新加坡國寶紅吱吱\\u3000強撞仙女級人妻\\u3000', '時尚', '新加坡國寶紅吱吱\\u3000強撞仙女級人妻\\u3000 ', '2016/05/11 16:00', '有新加坡國寶稱號的43歲歌手陳潔儀昨在香港舉行記者會，宣布下月開演唱會，頂著一頭招牌短髮的她，穿著Michael Kors（MK） 2016春夏系列紅色印花洋裝，並化上大紅唇，熟女氣場十足，讓人難以忽視。\\xa0\\xa0其實這件洋裝，29歲的氣質人妻劉詩詩早在3月就穿過，清新派的她化著裸色唇妝登上中國《紅秀》雜誌封面，仙氣飄飄的模樣，照例電暈不少粉絲。（陳玥礽／綜合報導）\\xa0\\n劉詩詩以裸色唇妝搭配Michael Kors紅色洋裝，飄逸依舊。翻攝Michael Kors微博Michael Kors 2016春夏系列。香港《蘋果日報》', 0])\n",
      "3\n",
      "insert into news_entry(link,category,title,time,summary,view_cnt) values(?,?,?,?,?,?)\n",
      "dict_values(['http://www.appledaily.com.tw//realtimenews/article/nextmag/20160511/858655/【壹週刊】遊果阿香料農場\\u3000吃印度檳榔', '壹週刊', '【壹週刊】遊果阿香料農場\\u3000吃印度檳榔', '2016/05/11 16:00', '香料共和國 果阿面積3702平方公里，距離孟買約一小時飛行時間。這個擁有一百多公里長阿拉伯海海岸線的小邦，有著曾被葡萄牙殖民長達約五世紀的歷史。而整個果阿邦最知名的殖民時期建築，便是位在舊果阿城（Old Goa）的「仁慈耶穌大教堂（Basilica of Bom Jesus）」。教堂之所以知名，是因為這裡擺放著聖方濟．沙勿略神父的棺柩。聖方濟．沙勿略是耶穌會創辦人，一五四二年來到果阿，在這裡給成千上萬的人受洗；1552年，在前往中國傳教的途中得了瘧疾病逝，死前交待希望自己能安葬在果阿，最後遺體便擺放在仁慈耶穌大教堂裡。果阿目前人口約一百八十萬，有接近二成六是天主教徒，仁慈耶穌大教堂每隔十年便會舉行紀念儀式，供各地信徒朝聖。\\xa0為了打造一條壟斷亞洲到歐洲的海上香料、絲綢、陶瓷的貿易路線，葡萄牙人在1510年來到了果阿。之所以會選擇果阿，除了是作為里斯本到澳門、麻六甲、長崎的中轉站，也是看中這裡盛產的各式香料。目前果阿有幾座香料觀光農場，全集中在北部的龐達（Ponda）地區。\\xa0這一日我們來到一處被沼澤圍繞著的「熱帶香料園（Tropical Spice Plantation）」參觀；隨著園區導遊走入香料林內，迎面而來的是各式濃郁辛香，以及大群咬人不留情面蚊蟲。一邊這裡抓那裡抓，一邊仔細聽著導遊講解的香料名，聽不懂的，就將香料捏碎放在鼻子前聞聞；那情景看起來，好像我和旅伴還是對世界充滿好奇的猴子。\\xa0除了數不清的植物，園區裡還提供幾種香料製品供遊客品嚐，最特別是竟然還有以香蕉葉捲的菸草與印度檳榔。印度檳榔名為Paan，本是印度當地人喜歡的以葉子包起的類口香糖零食。而熱帶香料園則在檳榔裡加入自產的丁香、荳蔻、薄荷、肉桂……等香料。一口咬下，除了石灰味與台灣檳榔相似，其餘香料混和的味道，則讓印度檳榔多了一種清新感。那感覺有些詭異，像是一邊含著漱口水一邊嚼菁仔，也像著西裝外套卻內搭宮廟T恤有著衝突的滋味。吃了印度檳榔，感覺有些昏沉像走入迷宮；到了園區出口，導遊則從一旁陶水缸裡舀起一大瓢清水，拉開旅客領口往背後淋去。據說往昔在香料園裡工作的工人，都會以這種方式驅散在樹林裡工作的悶熱。清水淋下，冰涼直衝腦門，也許是交感神經影響味覺，口腔鼻腔複雜的香料味，也瞬間但化成一股遙遠的草甜味。（撰文：王志元，攝影：李智為）\\xa0「更多其他壹週刊內容請點我」', 0])\n",
      "4\n",
      "insert into news_entry(link,category,title,time,summary,view_cnt) values(?,?,?,?,?,?)\n",
      "dict_values(['http://www.appledaily.com.tw//realtimenews/article/local/20160511/858683/「電話都不接」\\u3000弟報警破門救出昏迷姊', '社會', '「電話都不接」\\u3000弟報警破門救出昏迷姊', '2016/05/11 15:59', '花蓮1名退休獨居孔姓女老師(57歲)在公寓住宅昏迷3天奄奄一息，幸好遠在20公里外的胞弟發現有異，急忙跑到美崙派出所報案，警消獲後報動用器材車前往破門，發現女老師躺在床上動彈不得，尚存一絲氣息，趕緊將她送至門諾醫院急救，及時救回一命。\\xa0消防局救護隊員藍俊斌說，抵達現場時警方已在場，因敲門打電話都沒人應門，屋內電話也沒接。消防隊員莊逸寧才持破壞器材破門，但因有三道門鎖救護人員花了二十分鐘，並用腳踹門，最後才將門打開。\\xa0救護隊員劉羽哲說，進入屋內時門窗緊閉空氣不流通，趕緊去打開門窗通風，當時發現婦人躺在床上動也不動，經檢查發現她很虛弱尚有體溫及氣息，趕緊將她救出送醫急救。\\xa0美崙派出所長鄭詠翰表示，獨居的孔姓婦人之前身體硬朗，常會到派出所找員警泡茶聊天，沒想到，有一陣子沒見到她，竟是臥病在床。孔姓婦人的弟弟，常打電話關心姐姐，因上班加上沒有姐姐住家鑰匙，這3天來打電話給姐姐，都沒接電話，才到派出所求救，幸好發現得早，來得及救回姐姐一命。院方說，婦人送醫時已呈現肝昏迷狀態，若再持續昏睡恐危及性命。（突發中心李光濱／花蓮報導）\\xa0\\n婦人被救出時奄奄一息。李光濱攝美崙派出所獲報後，趕緊派員前往查看救人。李光濱攝消防隊員藍俊斌(右)及劉羽哲將婦人救出送醫，搶救回一條寶貴性命。李光濱攝', 0])\n",
      "5\n",
      "insert into news_entry(link,category,title,time,summary,view_cnt) values(?,?,?,?,?,?)\n",
      "dict_values(['http://www.appledaily.com.tw//realtimenews/article/politics/20160511/858618/花蓮議會總質詢少一天\\u3000學生高喊：還我總質詢', '政治', '花蓮議會總質詢少一天\\u3000學生高喊：還我總質...', '2016/05/11 15:58', '花蓮縣議會本屆定期大會縣政總質詢原訂今天截止，但議長賴進坤昨天下午突然敲槌宣布休會，明起開始分組審查，6天議程再度縮水成5天，引來旁聽席的學生與環盟不滿，今在議場外高喊：「還我總質詢！」東華大學烏頭翁社學生郭家瑋說，總質詢從12天縮水成6天，如今再少1天，令人錯愕！環保聯盟鍾寶珠說：「5天夠議員監督縣政嗎？」\\xa0賴進坤表示，議會33名議員每人口頭質詢50分鐘，也有人選擇用書面質詢，6天的質詢時間共36小時，足夠每位議員發揮，昨天下午因所有議員的發言時間接用罄，且無人再登記質詢，他依議長職權宣布休會，合情合理、並無不妥。他強調，監督縣政是全年無休，不侷限在這短短5天。\\xa0花蓮縣議員劉曉玫譏諷說：「花蓮縣議會創造很多第一，誰能比我們行啊？」她認為總質詢從12天一路縮水，就是限縮議員質詢的權利與義務，大人不去爭取反倒是學生在捍衛議員權力，實在可笑。議員王燕美說，過去總質詢的剩餘時間是提供給議員與官員小組座談溝通協調，現在全都沒有，但議長行使職權她也無話可說。\\xa0東華大學烏頭翁社學生鄧家洋表示，議員針對旁聽席直播問題雖已提案修改，但未見期程，本月17日就是議會排定的二讀會、三讀會，預計當天會修改議事規則，該社會幫花蓮縣議會開始倒數，17日當天再重返議場，監督代議士會如何修訂。（突發中心王文傑／花蓮報導）\\xa0\\n東華大學學生為花蓮縣議會修法倒數。王文傑攝', 0])\n",
      "6\n",
      "insert into news_entry(link,category,title,time,summary,view_cnt) values(?,?,?,?,?,?)\n",
      "dict_values(['http://www.appledaily.com.tw//realtimenews/article/local/20160511/858577/超失控！馬尾女竟對警察嗆「恁爸」', '社會', '超失控！馬尾女竟對警察嗆「恁爸」', '2016/05/11 15:56', '（更新：影片）\\xa0高市1名蔡姓女子（31歲）在超商大聲講電話，警方據報處理，沒想到蔡女竟失控飆罵，不時以恁北、衝啥小（台語）等字眼對嗆警察，最後甚連臭雞巴及幹拎婆字眼都出籠，這名蔡女失控的下場就是吃上妨害公務及公然侮辱官司。\\xa0警方說，蔡女原住鳳山，因與家人不合，4月下旬搬到三民區1人獨住。上月27日深夜11時，她到住處附近1處超商買東西，後來在店內講起電話，愈講愈大聲，搞得店家受不了報警。\\xa0警方起初好言相勸，告知已經妨害安寧，但蔡女卻不聽勸，一再挑釁執勤員警，警方見蔡女實在太囂張，最後告知權利依法逮捕，蔡女沒料到警方會強力執法，還試圖反抗， 2名男警折騰了好一會兒，才將她制伏帶回。（湯寶隆／高雄報導）\\xa0出版時間13：26更新時間15：56\\n警方到場勸阻，但蔡女卻出言辱罵。翻攝畫面蔡女遭警方當場壓制，手被反扣上銬。翻攝畫面蔡女因反抗，一度被壓制在地上。翻攝畫面蔡女的言詞辱罵，讓服務30年的副所長簡奇彬都受不了。翻攝畫面', 4364])\n",
      "7\n",
      "insert into news_entry(link,category,title,time,summary,view_cnt) values(?,?,?,?,?,?)\n",
      "dict_values(['http://www.appledaily.com.tw//realtimenews/article/finance/20160511/858748/陸網友用ApplePay\\u3000「還要簽名較麻煩」', '財經', '陸網友用Apple Pay\\u3000「還要簽名較...', '2016/05/11 15:54', '行政院長張善政今天中午已拍板，有條件開放Apple Pay等國際行動支付來台，中國已於2月搶先開放，以網友使用經驗來看，認為相對中國民眾常用的支付寶與微信支付，完全是不同的事，認為Apple Pay的觀念，是要取代「錢包內的卡片」。\\xa0根據中國網站「快用」的網友經驗分享，指出部分北京連鎖企業店面，已更換支持閃付的POS機，實際到當地太平洋咖啡店與肯德基體驗時，發現有些店面的的POS機是平放在桌上，使用Apple Pay時需要非常靠近；而肯德基則是比較人性化，架在桌子前使用更方便。\\xa0然而比起刷卡支付，網友表示，目前Apple Pay支付完成後仍需簽名，是因為中國的銀聯支付體系，仍無法避免該流程，並認為如果在未來指紋可以代替用户簽名，應會更便利。（李易紓／綜合報導）\\n在大陸用Apple Pay支付完，依然需要簽名。翻攝網路網友認為北京肯德基的POS機是直立式的，使用較為方便。翻攝網路', 95])\n",
      "8\n",
      "insert into news_entry(link,category,title,time,summary,view_cnt) values(?,?,?,?,?,?)\n",
      "dict_values(['http://www.appledaily.com.tw//realtimenews/article/local/20160511/858755/鄭捷遺體冰存\\u3000姑姑已領「死亡證明書」', '社會', '鄭捷遺體冰存\\u3000姑姑已領「死亡證明書」', '2016/05/11 15:54', '北捷殺人案兇嫌鄭捷昨晚間8時47分在台北看守所遭槍決伏法，法務部昨晚證實遺體被送到中壢殯儀館殯冰存。根據「桃園市政府殯葬所中壢區殯葬服務中心」網站的「冰庫使用狀況」顯示，鄭捷遺體冰存在編號098冰櫃。根據《中時電子報》報導，鄭捷姑姑已在今天領取死亡證明。\\xa0中壢區殯儀館所長黃國清今天，家屬可將死亡證明書、委託書，委由殯葬業者處理，家屬並不需親自到殯儀館，即可委託業者辦理後事。（突發中心／桃園報導）', 244])\n",
      "9\n",
      "insert into news_entry(link,category,title,time,summary,view_cnt) values(?,?,?,?,?,?)\n",
      "dict_values(['http://www.appledaily.com.tw//realtimenews/article/life/20160511/858737/漁民、觀光業者向德翔臺北求償\\u3000黃國昌批政府協助消極', '生活', '漁民、觀光業者向德翔臺北求償\\u3000黃國昌批政...', '2016/05/11 15:52', '立院衛環委員會今邀相關部會做「德翔臺北」輪船體移除作業是否符合海洋環境保護需求及後續污染賠償作業報告。立委黃國昌、呂孫綾都批評，當地漁民、觀光業者受損，但政府協助處理不夠積極。漁業署說，下周會排3場說明會，在金山漁會、石門區公所召開；觀光局允諾，會跟北海岸地區觀光業者一一詢問確認。\\xa0黃國昌質詢，上月28日他開記者會，要求對於當地漁民及觀光損失向「德翔臺北」船東求償、並要求設立油污求償專線，他問，至今農委會接到多少求償電話？農委會漁業署組長施俊毅答「目前都沒接到」。黃國昌批評，大家都沒損害？還是大家都不知道？\\xa0黃國昌批評，政府應該代表漁民，並告訴漁民如何做證據蒐集和證據保全，教戰守則該做什麼，該如何證明損害。他說，很多當地觀光業者如飯店、餐廳陳情因油污造成損害，但調閱觀光局公文資料，僅發函詢問了救國團、白宮行館、翡翠灣等少數業者，形同只做少數觀光損害調查。(洪敏隆／台北報導)', 34])\n",
      "10\n",
      "insert into news_entry(link,category,title,time,summary,view_cnt) values(?,?,?,?,?,?)\n",
      "dict_values(['http://www.appledaily.com.tw//realtimenews/article/local/20160511/858646/【有片】鄭捷遺體無人領\\u3000中壢殯儀館：冰存沒有期限', '社會', '【有片】鄭捷遺體無人領 \\u3000中壢殯儀館：冰...', '2016/05/11 15:51', '（更新：新增影片）\\xa0北捷殺人案兇嫌鄭捷昨晚間於台北看守所執行槍決，鄭捷遭槍決後，殯葬業者將他的遺體運送至桃園市中壢區殯葬服務中心冰存，但從昨晚至今天下午，鄭捷的家人尚未出面至殯儀館辦理後事。\\xa0桃園市政府殯葬管理所中壢區殯葬服務中心主管黃國清表示，死者家屬可以將死亡證明書和委託書和交由殯葬業者代為處理，所以家屬並不一定需要親自出面向殯儀館辦理後事。\\xa0戶籍設在桃園當地人冰存遺體費用一天為200元，而戶籍設在外縣市的遺體冰存費用則是一天600元，是當地人的3倍，殯葬服務中心有提供遺體冰存和遺體火化等服務，領取遺體前只要結清費用，冰存的時間並沒有限制，此外只要確認死者還有家屬，殯儀館不會通報社會局以無名屍的方式處理遺體。（突發中心／新北報導）\\xa0發稿時間：14：34更新時間：15：51\\xa0\\n媒體守在殯儀館外等候鄭捷家屬出面辦理後事。陳韋劭攝中壢區殯葬服務中心外觀。陳韋劭攝', 113906])\n",
      "11\n",
      "insert into news_entry(link,category,title,time,summary,view_cnt) values(?,?,?,?,?,?)\n",
      "dict_values(['http://www.appledaily.com.tw//realtimenews/article/international/20160511/858697/習近平訪英「無禮事件」\\u3000當天威廉夫妻.成龍作陪', '國際', '習近平訪英「無禮事件」\\u3000當天威廉夫妻.成...', '2016/05/11 15:51', '中國國家主席習近平去年訪英期間，究竟發生什麼事，讓英國女王也忍不住批評？從英國女王和倫敦警察廳指揮官朵爾西的對話中可知，當時的「無禮事件」發生在蘭開斯特宮（Lancaster House）。《蘋果》記者回溯當時新聞影像發現，當天陪同習近平伉儷的是英國威廉王子夫妻和香港武打明星成龍。\\xa0根據路透資料畫面，去年10月21日、習近平夫妻展開國是訪問英國行程第二天，兩人前往蘭開斯特宮參觀一項慶祝中英關係友好的展覽活動。威廉王子和王妃凱特親自在蘭開斯特宮外迎接習近平夫婦。香港武打明星成龍也受邀參加此活動，當天一行人還開心合影，絲毫看不出有任何不悅事件發生。\\xa0根據英國《衛報》報導，英國駐北京使館不願評論，駐中大使吳百納（Barbara Woodward）當時究竟被如何「不當對待」。資深英國外交人員向《衛報》表示，根據他和習近平接觸的經驗，他認為習近平是個「很有魅力且迷人」的政治領袖。但中國外交人員確曾多次發生無禮行徑。報導指出，2014年李克強訪英時，中國官員威脅一定要安排李克強和英國女王會面，否則將取消訪英行程。英國政府當時一名匿名官員曾向媒體抱怨：「中國人是很強悍的談判者。」（桂家齊／綜合外電報導）\\xa0更多國際新聞請進蘋果繞著地球爆\\xa0\\n【想知道更多，一定要看……】【有片】接待習近平「真倒楣」\\u3000英女王批中國言論曝光習近平訪英多無禮？\\u3000英警官不肯說中國國家主席習近平夫妻（左三及左二）去年訪英時，成龍和威廉王子夫妻作陪。翻攝英國《鏡報》', 534])\n",
      "12\n",
      "insert into news_entry(link,category,title,time,summary,view_cnt) values(?,?,?,?,?,?)\n",
      "dict_values(['http://www.appledaily.com.tw//realtimenews/article/life/20160511/858754/對流旺盛\\u3000南投、嘉義注意大雷雨', '生活', '對流旺盛\\u3000南投、嘉義注意大雷雨', '2016/05/11 15:51', '由於對流雲系發展旺盛，中央氣象局剛針對南投縣信義鄉、嘉義縣的竹崎鄉、梅山鄉、番路鄉、阿里山發布大雷雨即時訊息，持續時間到16時0分為止。\\xa0氣象局表示，請民眾慎防劇烈降雨、雷擊、9級以上強陣風、冰雹，低窪地區慎防淹水。路面濕滑，步行與開車請注意安全。能見度低，請注意行車安全、減速慢行。請進入室內，遠離山頂、屋頂、涼亭、獨立樹下、溪流或水塘，位於空曠區域應蹲下降並盡量減少與地面接觸的面積。駕車人士如駛經高速公路或天橋，應提防強勁陣風吹襲。（生活中心／台北報導）', 9])\n",
      "13\n",
      "insert into news_entry(link,category,title,time,summary,view_cnt) values(?,?,?,?,?,?)\n",
      "dict_values(['http://www.appledaily.com.tw//realtimenews/article/life/20160511/858727/【有片】柯P：世大運場館多數是整建\\u3000明年4月整修完畢', '生活', '【有片】柯P：世大運場館多數是整建\\u3000明年...', '2016/05/11 15:50', '更新：新增影片\\xa0北市府將在明年8月舉行世界大學運動會，但距離開幕僅剩1年3個月，有議員發現2座新建場館施工進度不到6成，另外需要整修的52座場館，更有41座尚未發包。台北市長柯文哲今表示，整建的部分會利用寒暑假再來修，但不管怎樣，明年4月以前會整修完畢，北市府評估世大運場館，目前都還來得及。\\xa0柯表示，世大運場館除了幾個是興建外，絕大部分都是整建，整建幾乎都是在學校，由於目前開學學生還在用，因此會利用寒暑假再來修，「不管怎樣，明年4月以前會整修完畢」。他直言，如果都是興建那會來不及，但很多只是整建而且是輕微整建，例如換冷氣，因此「我們評估過是還來得及」。至於世大運轉播部分，柯說後來將變成議價，目前應該是在找華視議價。(陳思豪/台北報導)\\xa0出版：15:34更新：15:50\\xa0\\xa0\\n台北市長柯文哲受訪。林啟弘攝', 355])\n",
      "14\n",
      "insert into news_entry(link,category,title,time,summary,view_cnt) values(?,?,?,?,?,?)\n",
      "dict_values(['http://www.appledaily.com.tw//realtimenews/article/politics/20160511/858684/\\u200b2758號決議文\\u3000洪秀柱：杯葛我參與國際組織前兆', '政治', '\\u200b2758號決議文\\u3000洪秀柱：杯葛我參與國...', '2016/05/11 15:48', '國民黨主席洪秀柱今天表示，北京透過WHA邀請函附上2758號決議文的方式，警示民進黨，若民進黨不願接受九二共識，北京將「一個中國」原則從原有兩岸共識層次，拉高到聯合國決議文層次，「這是全面杯葛我們參與國際組織的前兆，請民進黨清楚了解此事」。\\xa0洪秀柱今天邀請外交部長林永樂赴中常會報告「活路外交的成果」，並開放臉書直播，獲得上千人次觀看。\\xa0洪秀柱會後裁示指出，國民黨執政8年在外交上有豐碩成果，關鍵在於兩岸關係穩定發展，維繫兩岸關係基礎就是「九二共識」，以及九二共識帶來的善意，她非常憂心8年來的豐碩成果，極有可能因為民進黨執著「反九二共識」的意識形態，讓兩岸善意基礎變得不存在，外交休兵也會結束，未來國際參與將變得更困難。現在政府即將進行交接，活路外交是否延續，兩岸關係穩定現況是否可以維繫，都是國民黨關切議題，也是監督重點，希望民黨政府體察得來不易的成果，不要重蹈金援外交與烽火外交的覆轍。（張文馨／台北報導）', 207])\n",
      "15\n",
      "insert into news_entry(link,category,title,time,summary,view_cnt) values(?,?,?,?,?,?)\n",
      "dict_values(['http://www.appledaily.com.tw//realtimenews/article/local/20160511/858731/太巧合！\\u3000鄭捷遺體冰櫃與大體車都是98', '社會', '太巧合！\\u3000鄭捷遺體冰櫃與大體車都是98', '2016/05/11 15:47', '鄭捷遭槍決後遺體由殯葬業者運送至中壢區殯葬服務中心，今天下午中壢殯儀館官網資料證實，鄭捷的遺體從昨晚入館後，就暫時冰存在遺體處理中心的98號冰櫃內，昨天載運鄭捷遺體的車輛車號為9886，前兩碼恰巧與冰存鄭捷遺體的冰櫃都是98。\\xa0鄭捷犯案被捕後拘禁在台北看守所，他在所內的編號為「1892」，今年4月22日由最高法院判4個死刑定讞，18天後，於5月10日晚間8點47分執行槍決開第一槍，8點49分第二槍，槍決後由車牌後4號碼9886殯葬業者車輛，將遺體載至中壢區殯葬服務中心存放，今天下午桃園市政府殯葬管理所官網證實，鄭捷的遺體就冰存於中 壢區殯葬服務中心的98號冰櫃。（突發中心／新北報導）\\xa0\\xa0\\n鄭捷的遺體冰存在遺體處理中心內。陳韋劭攝', 1573])\n",
      "16\n",
      "insert into news_entry(link,category,title,time,summary,view_cnt) values(?,?,?,?,?,?)\n",
      "dict_values(['http://www.appledaily.com.tw//realtimenews/article/forum/20160511/858750/【公庫】親愛的議員，別把自己藏在黑箱裡', '論壇', '【公庫】親愛的議員，別把自己藏在黑箱裡', '2016/05/11 15:46', '本內容由公庫提供\\xa0文 / 管中祥東華大學學生郭家瑋日前到花蓮縣議會直播開議，卻被警方架出議場。根據郭家瑋的描述，第一天社員到議場紀錄便受到阻擾，甚至被議長約談，第二天議會通過旁聽席不能直播的規定，而在第三天，他入座旁聽席後，議會工作人員便趨前表示要坐在他旁邊，不斷質問「你有沒有在直播？」沒多久，郭生就被架離議場。這是繼4月7日，「桃園在地聯盟」理事長桃長潘忠政等人在桃園市議會旁聽、錄影，遭警察架離後，另一次地方議會驅趕旁聽民眾事件。更早之前，中正大學學生到嘉義市議會旁聽，側錄議會質詢，也被攔阻。地方議會禁止民眾在議場內錄音、錄影，其實是於「法」有據、依「法」行政....（閱讀全文）', 57])\n",
      "17\n",
      "insert into news_entry(link,category,title,time,summary,view_cnt) values(?,?,?,?,?,?)\n",
      "dict_values(['http://www.appledaily.com.tw//realtimenews/article/entertainment/20160511/858505/「像動物園裡動物」\\u3000男偶像受夠禁粉絲合照', '娛樂', '「像動物園裡動物」\\u3000男偶像受夠禁粉絲合照', '2016/05/11 15:45', '22歲的加拿大偶像「小賈斯汀」賈斯汀畢柏（Justin Bieber）飽受盛名之累，不管到哪都被粉絲包圍、要求簽名合照，他昨在IG宣布，以後不會再和歌迷合照，小賈抱怨有些人甚至連招呼都不打，就上前拍照，讓他受夠了，他甚至自比像動物園裡的動物，為了保持清醒，他決定全面禁止合照。\\xa0小賈語重心長向歌迷喊話：「如果你正好在哪看到我，你知道我不會和大家合照，我已經受夠拍照了。現在有些人甚至不會說Hi，或是體認到我也是個人，我感覺像動物園裡的動物，而我想保持清醒。我知道大家會很失望，但我不欠任何人合照，有人會說『但我買了你的專輯』，我知道你買了我的專輯，而你付出的就是一張專輯的代價，專輯印刷上並沒有說，不管你何時看到我，你也可以要求合照。」\\xa0他的PO文引發歌迷兩極反應，大部分歌迷認同他，覺得他很可憐，一名歌迷留言：「我深深為你感到遺憾，你被困住了，為你禱告。」也有人說小賈並非機器，希望大家同理心體諒他。今年3月，他也宣布取消演唱會後在後台和歌迷面對面的互動，因為他最後都感到筋疲力盡、不開心。（林慧娟／綜合報導）\\xa0\\xa0\\n小賈斯汀前陣子宣布取消演唱會後在後台和歌迷面對面的互動，因為他最後都感到筋疲力盡、不開心。翻攝IG22歲的加拿大偶像「小賈斯汀」賈斯汀畢柏走到哪都是眾人焦點，讓他飽受壓力。達志', 320])\n",
      "18\n",
      "insert into news_entry(link,category,title,time,summary,view_cnt) values(?,?,?,?,?,?)\n",
      "dict_values(['http://www.appledaily.com.tw//realtimenews/article/international/20160511/858699/【央廣RTI】UFC主席否認出售終極格鬥傳聞', '國際', '【央廣RTI】UFC主席否認出售終極格鬥...', '2016/05/11 15:45', '本內容由中央廣播電臺提供\\xa0\\xa0 \\xa0 \\xa0 \\xa0傳聞全球最大的綜合武術組織「終極格鬥錦標賽」(UFC)將出售給中國大陸企業，UFC主席懷特(Dana White)10日否認相關報導。懷特說，「UFC沒有要賣。」「ESPN的報導太誇張了。」他還說，ESPN的報導「無法差事實更多」。\\xa0 \\xa0 \\xa0 \\xa0懷特10日晚間對「拉斯維加斯評論報」(Las Vegas Review-Journal)表示，美國體育頻道網站(ESPN.com)的報導是錯誤的。ESPN報導內容指出，UFC可能將以好幾十億美元的價格出售。ESPN稍早報導表示，UFC母公司Zuffa正在進行出售UFC的「事前對談」，價格在35億至40億美元之間。Zuffa出售UFC的提案吸引至少4個可能買家的興趣。\\xa0 \\xa0 \\xa0 \\xa0ESPN報導提到，中國大陸最大商業地產企業、億萬富翁王健林(Wang Jianlin)所擁有的大連萬達集團(Dalian Wanda)有可能出價收購UFC。協商正在進行中，並可能於7月底定案。(繼續閱讀)', 72])\n",
      "19\n",
      "insert into news_entry(link,category,title,time,summary,view_cnt) values(?,?,?,?,?,?)\n",
      "dict_values(['http://www.appledaily.com.tw//realtimenews/article/politics/20160511/858707/鄭捷槍決\\u3000民進黨：執行死刑是法務部權責', '政治', '鄭捷槍決\\u3000民進黨：執行死刑是法務部權責', '2016/05/11 15:45', '捷運殺人犯鄭捷昨天被槍決，民進黨發言人阮昭雄下午在民進黨中常會後回應媒體詢問表示，死刑執行有既定的程序、機制，屬於法務部的權責，民進黨沒有評論。\\xa0至於民進黨上任後是否執行死刑，阮昭雄強調，民進黨的態度很清楚，關於鄭捷這類的隨機殺人事件是社會悲劇，當務之急是儘速建置更完備的社會安全防護網，避免類似犯罪再次發生，這是新政府未來努力方向。（曾盈瑜／台北報導）', 830])\n",
      "20\n",
      "insert into news_entry(link,category,title,time,summary,view_cnt) values(?,?,?,?,?,?)\n",
      "dict_values(['http://www.appledaily.com.tw//realtimenews/article/nextmag/20160511/858732/【壹週刊】7月開唱\\u3000Bii想起往事眼眶紅', '壹週刊', '【壹週刊】7月開唱\\u3000Bii想起往事眼眶紅', '2016/05/11 15:45', '人氣歌手Bii畢書盡即將於7月16日在台大體育館舉辦個人首次大型售票演唱會「Catch Your Double Eye」，在台灣出道10年，從2011年大河岸演唱會一路唱到今年的台大體育館，Bii看到過往的紀錄影片，不禁紅了眼眶。\\xa0為了呈現不同風貌的Bii畢書盡，主辦單位就是娛樂與老鷹音樂特地首創B字型特殊舞台設計，不惜犧牲演唱會近千個位置，希望讓歌迷見證Bii 畢書盡出道6年來的成長經歷，Bii表示演唱會沒有特別來賓，將展現火力全開的面貌，獻給一路支持他的粉絲。演唱會將於5月14日晚上7點7分，於KKTIX及全家便利商店售票，更表示沒有公關票，讓喜歡Bii的歌迷都能順利買到票，在7月16日進場欣賞Bii畢書盡的精彩演出。（撰文：娛樂組）\\xa0「更多精彩壹週刊內容請點我」\\nBii畢書盡的演唱會，首創B字型舞台設計，不惜攜牲台大體育館上千個座位。（老鷹音樂提供）', 21])\n",
      "21\n",
      "insert into news_entry(link,category,title,time,summary,view_cnt) values(?,?,?,?,?,?)\n",
      "dict_values(['http://www.appledaily.com.tw//realtimenews/article/local/20160511/858741/姑姑氣氣！嗆法務部：沒腦官員只會用子彈做事', '社會', '姑姑氣氣！嗆法務部：沒腦官員只會用子彈做...', '2016/05/11 15:45', '鄭捷已經伏法了，但法務部的工作就只有這樣嗎？兒童權益促進會理事長王薇君今天在臉書氣憤Po文，餘怒未消，也暗諷法務部只處死鄭捷，卻沒重視她們力推的犯罪被害人改革制度，是「只想選擇簡單的事做 讓人生氣！！」\\xa0「姑姑」王薇君，近年也努力推動「犯罪被害人保護制度」改革，但似乎仍覺不見法務部誠意，今日於臉書氣憤寫道「法務部只想選不需用腦 輕輕鬆鬆用『子彈』做事？」、「『犯罪被害人保護制度改革』法務部重視這個制度的大問題嗎？聽到看到了我這幾年來的呼籲嗎？（和法務部面談三年了完全沒下文，法務部你們的腦呢？該不會是腦死了吧？）」\\xa0最後心情還註明是「覺得沒腦官員只會用『子彈』做事好棒棒呢！」諷刺意味濃厚。\\xa0有網友留言支持「先殺幾個壓壓驚，轉移焦點後，就可以不用管被害人，及其他健全社福制度的問題了。」、「現在是拿鄭捷當成績單在繳...老實說~不削!!!」，王也回應「只想選擇簡單的事做 讓人生氣！」\\xa0但也有人不認同，留言「我是認為這是兩回事... 反過來說,也可以努力在受害人保護機制之下,讓受害者能真正的寬恕加害人. 只是,不論死刑與否,不會做的政府還是不會做.」、「所以.重視問題是要法務部還是敎育部,法務部本來就是執行司法正義,你罵他幹嘛?」(即時新聞中心/綜合報導)\\n【想知道更多，一定要看……】鄭捷槍決\\u3000廢死聯盟怒批「等於現場轉播」【鄭捷槍決】藤井樹批廢死\\u3000「誰被冤枉了嗎？」【槍決鄭捷】廢死聯盟：羅瑩雪會被記得做了什麼事情', 2611])\n",
      "22\n",
      "insert into news_entry(link,category,title,time,summary,view_cnt) values(?,?,?,?,?,?)\n",
      "dict_values(['http://www.appledaily.com.tw//realtimenews/article/finance/20160511/858745/昔日帽子大王戴勝通\\u3000當導遊帶團玩', '財經', '昔日帽子大王戴勝通\\u3000當導遊帶團玩', '2016/05/11 15:45', '過去人稱「帽子大王」的戴勝通，2008年歷經家族事業「三勝製帽」倒閉，一度要靠弟弟戴勝益贊助生活費。然而，承襲戴家人對觀光餐飲業的敏感度，戴勝通7年前來了個大轉彎，出版自己撰寫的旅遊書與雜誌，甚至親自「下海」帶旅行團出遊。\\xa0儘管是家族企業第2代掌門人，但三勝製帽卻是在戴勝通手上發揚光大。當年戴家三兄弟- -戴勝通、戴勝益、戴勝堂，其實最為人知曉的「戴董」就是戴勝通，因為他不僅被譽為「帽子大王」、榮獲第6屆青年創業楷模，還擔任過中小企業協會理事長。\\xa02004年三勝製帽在海地投資失利，2005年高幹集體出走，成立新公司打對台，同時也正臨對岸低成本的製帽產業崛起，三勝製帽旗下工廠被迫一一關閉，並且在2008年正式宣布倒閉。背負沉重財務壓力的戴勝通，還不得已接受戴勝益贊助生活費。\\xa0如同弟弟戴勝益、戴勝堂在創業路上的能屈能伸，戴勝通憑藉自己當年做董事長「吃遍天下」的經驗，以及戴家人天生對觀光餐旅的敏感度，2009年他先是以筆名「官東侑」寫了3本台灣旅遊書，2013年更創辦月刊《跟著董事長遊台灣》。\\xa03年前，戴勝通的觀光事業從紙本走向實體，成立《跟著董事長遊台灣》網站，供人訂購台灣、日本、歐洲、中東的旅遊行程，其中部分的台灣旅遊行團，還是他親自當導遊帶隊。（侯良儒／台北報導）\\xa0\\xa0戴勝通小檔案出生年：1946年 11月6日／70歲現職：《跟著董事長遊台灣》董事長籍貫：台中清水學歷：清水高中畢經歷：三勝製帽董事長、中小企業協會理事長、國策顧問等封號：因繼承家業三勝製帽，因而有帽子大王之稱家庭狀況：已婚，育有2子。父為三勝製帽創辦人戴芳，弟為王品前董事長戴勝益、大鼎活蝦董事長戴勝堂近況：˙2004年\\u3000海地投資失利、三勝製帽跳票˙2008年\\u3000三勝製帽大甲工廠遭查封˙2009年\\u3000出版《跟著董事長學點菜》、《跟著董事長挑民宿》等書，轉型成作家˙2012年\\u3000成立「跟著董事長遊台灣」粉絲團˙2013年\\u3000創辦旅遊雜誌《跟著董事長遊台灣》雙月刊，後並經營旅行社業務資料來源：《蘋果》採訪整理', 235])\n",
      "23\n",
      "insert into news_entry(link,category,title,time,summary,view_cnt) values(?,?,?,?,?,?)\n",
      "dict_values(['http://www.appledaily.com.tw//realtimenews/article/politics/20160511/858692/蔡英文恭喜菲國新總統勝選\\u3000強調深化雙向交流', '政治', '蔡英文恭喜菲國新總統勝選\\u3000強調深化雙向交...', '2016/05/11 15:43', '民進黨下午舉行中常會，發言人阮昭雄會後轉述表示，黨主席蔡英文在會中恭喜菲律賓納卯市長杜特蒂（Rodrigo Duterte）在這次菲國大選勝出，並肯定菲律賓選民投下手中一票，透過民主機制選出未來六年的領導人。蔡英文也說，台灣與菲律賓的新政府很快都將上任，未來民進黨政府將大力推動新南向政策，在各方深化台灣與東南亞各國的夥伴關係，將來也會和菲律賓新政府合作，持續推動雙方投資、產業、文化、語言、觀光、教育、人才等雙向交流。\\xa0今天民進黨中常會邀中興大學國際政治研究所所長陳牧民以「菲律賓大選之國際政經情勢分析」為題進行專案報告，並邀請台灣自由選舉觀察協會秘書長洪耀南與談。阮昭雄會後轉述，蔡英文在會中表示，關心東南亞各國重要政經情勢是增進認識、強化交流的第一步。希望未來的執政團隊能深入掌握東南亞各國的發展，也抓緊東南亞迅速發展的契機，為台灣建設與發展尋求更多國際合作機會。（曾盈瑜／台北報導）', 254])\n",
      "24\n",
      "insert into news_entry(link,category,title,time,summary,view_cnt) values(?,?,?,?,?,?)\n",
      "dict_values(['http://www.appledaily.com.tw//realtimenews/article/finance/20160511/858739/富邦金EV達39.6元\\u3000年增2.3', '財經', '富邦金EV達39.6元\\u3000年增2.3%', '2016/05/11 15:43', '富邦金今日將舉行第1季法說會，最新出爐資料顯示，截至去年底，富邦人壽隱含價值達4051億元，年增2.3%，每股隱含價值(EV)70.7元，年減21.5%，反映在富邦金每股隱含價值達39.6元，較前年底成長2.3%。\\xa0富邦人壽精算價值7196億元，換算每股精算價值(AV)125.5元，反映在富邦金每股精算價值70.3元，年增2.3%\\xa0此外，富邦金總資產在今年3月底也逼近6兆元關卡，達5.985兆元，淨值由去年底的約3680億元，回溫到第一季底約3990億元。（王立德／台北報導）', 125])\n",
      "25\n",
      "insert into news_entry(link,category,title,time,summary,view_cnt) values(?,?,?,?,?,?)\n",
      "dict_values(['http://www.appledaily.com.tw//realtimenews/article/life/20160511/858661/【有片】世新漲學費說明會爆衝突\\u3000學校人員動手推學生', '生活', '【有片】世新漲學費說明會爆衝突\\u3000學校人員...', '2016/05/11 15:42', '（上傳影帶）世新大學今召開調漲學費說明會，卻發生學校人員動手推擠學生事件。一名世新學生拍攝衝突影片，並向《蘋果》投訴指，校方上周突然宣布在今天召開漲學費說明會，但調漲學費的決策並未公開，引發部分學生不滿，該校學生組成的勞權小組今到場抗議，遭一名男子粗暴拉扯，多位學生被他用力推出門外。投訴學生指，這名動手的男子為該校課外活動組長。《蘋果》目前尚未取得校方說法，也正與該校勞權小組聯繫中。（生活中心／台北報導）\\xa0出版時間：14:39更改時間：15:42\\xa0\\xa0\\n世新大學今召開調漲學費說明會，卻發生學校人員動手推擠學生事件。翻攝臉書', 930])\n",
      "26\n",
      "insert into news_entry(link,category,title,time,summary,view_cnt) values(?,?,?,?,?,?)\n",
      "dict_values(['http://www.appledaily.com.tw//realtimenews/article/life/20160511/858507/【有片】何嘉仁未正面回應\\u3000全教總痛批超收幼童罰太少', '生活', '【有片】何嘉仁未正面回應\\u3000全教總痛批超收...', '2016/05/11 15:42', '（更新：新增影片）知名連鎖幼兒園何嘉仁旗下的台北市嘉勝、嘉維幼兒園，遭檢舉嚴重超收62位幼童，政府稽查時就把幼兒藏起來。北市教育局前天各罰4萬5000元和3萬元，並停止招生半年。全國教師工會總聯合會今天批評，何嘉仁超收所得超過1200萬，罰款連1％都不到，教育局應派具園長資格的人員接管，社會局、勞動局也應介入。教育局回應會研議加重處罰。\\xa0嘉勝、嘉維合計只能收62人，實際上超收1倍。幼兒家長賴小姐痛批，每次政府派人稽查，園方就把超收的「黑戶」幼兒藏在違章建築的房子裡，安全沒保障；部分家長上周五驚覺自己的小孩沒有保險，園方拖到昨天才給了一張「產物保險」的保險單，而非幼兒團體保險，上面也沒有保費、保額、投保日期等資訊。\\xa0家長黃媽媽說，事發多日，總公司都沒人出面解釋，教育局罰款太低，她認為幼兒園門口應張貼規定人數和違規紀錄，讓家長知道。\\xa0全教總幼教委員會副主委顏嘉辰指出，何嘉仁超收62個學生，每個月收1萬7000元，整年收入超過1200萬，北市教育局處罰太輕，令人憤怒，他認為園內教師工作超時，北市勞動局也應該去勞動檢查。立委王育敏認為業者可能已經違反《幼兒教育及照顧法》和《兒童及少年福利法》，北市社會局也要介入開罰，何嘉仁總公司也有相對責任。立委柯志恩說，18年前北市公立幼兒園可容納21％的市內幼兒，現在也才30％，成長空間不大，該業者應該先勒令停業，而不是限期改善。\\xa0北市教育局主任祕書廖文靜指出，市內幼兒園有500多所，局裡稽查人力有限，他們已經找法務局研議加重裁罰，也會要求業者退費，或提供資訊協助轉介超收幼兒到合法立案的幼兒園。\\xa0對此，何嘉仁旗下的嘉勝、嘉維幼兒園未正面回應。（蔡永彬／台北報導）\\xa0出版時間：12:09更新時間：15:42\\xa0\\n全教總兒童教育委員會副主委顏嘉辰（右）與家長等召開幼兒教育記者會。林啟弘攝', 1778])\n",
      "27\n",
      "insert into news_entry(link,category,title,time,summary,view_cnt) values(?,?,?,?,?,?)\n",
      "dict_values(['http://www.appledaily.com.tw//realtimenews/article/local/20160511/858516/【影片曝光】花蓮環保局突擊稽查\\u3000非法土資場先罰300萬', '社會', '【影片曝光】花蓮環保局突擊稽查\\u3000非法土資...', '2016/05/11 15:41', '（更新：新增影片）\\xa0花蓮縣議員張智冠接獲陳情，指壽豐鄉志學村有一處占地逾萬坪的非法土資場，今會同議員謝國榮帶縣府官員直搗黃龍、突擊檢查，發現場內堆放大批可二度利用的瀝青、下腳料及建築事業廢棄物，環保局長饒忠見狀說：「違法堆置，先開罰300萬元！」土石堆中驚見蔣介石半身斑駁銅像，有人笑說：「落難王者也依然保持微笑。」\\xa0半身銅像早已落漆斑駁不堪，還好下方註明「總統遺像」才能勉強辨認，身邊還擺放一尊彌勒佛像，兩尊塑像笑容可掬、氣度悠然。議員與環保局督察人員現場會勘，但占地萬坪土資場早人去樓空，巧遇2名男子開聯結車、貨車進場被警方攔下，警方問說老闆在哪？2人辯稱：「我是來找工作，其他一概不知。」警斥說：「開聯結車找工作？你再掰啊！」\\xa0張智冠表示，廢土、建築廢棄物堆置都有法規約束，就是有人不守法、逃避檢查，該家土資場貨源充足、品項又多，儼然成為非法土石大賣場，他要求各處室要詳查，務必揪出幕後影武者。饒忠表示，該場區未登記列管，任意堆是廢棄物可依《廢棄物清理法》第46條法辦，業者最高可處5年有期徒刑，併科300萬元罰金。（突發中心王文傑／花蓮報導）\\xa0出版時間：12:31更新時間：15:41\\xa0\\n查非法土資場見落難蔣公。王文傑攝查非法土資場見落難蔣公。王文傑攝大批建築廢棄物任意堆置。王文傑攝土資場內貨源充足儼然是土石大賣場。王文傑攝', 1069])\n",
      "28\n",
      "insert into news_entry(link,category,title,time,summary,view_cnt) values(?,?,?,?,?,?)\n",
      "dict_values(['http://www.appledaily.com.tw//realtimenews/article/nextmag/20160511/858645/【壹週刊】奧日光重機行\\u3000征服頭文字D場景', '壹週刊', '【壹週刊】奧日光重機行\\u3000征服頭文字D場景', '2016/05/11 15:40', '進到日本栃木縣一二○號國道往奧日光山路後，氣溫驟降，我在機車後座發著抖，腦袋一片空白，無法去想究竟是因為害怕還是沒穿外套的緣故。跨上後座前，騎士們叮嚀我：「坐重機後座的訣竅就是把自己當成貨物，不要因為害怕就亂動改變車子重心。」\\xa0這群重機騎士是鴻寶重機俱樂部的車友們，此行要挑戰的是日本賽車動漫《頭文字D》的山路場景。所謂的「奧日光」在日文裡指的是枥木縣日光這個地區的深處，範圍是從中禪寺湖往北到金精峠隘口的一段山路。「奧日光」本是日本秋季賞楓的知名景點，但對追求速度與競技的重機騎士來說，眼中只有那段「伊呂波歌」的四十八個彎道。之所以會被稱為伊呂波歌，則是因為和古時和歌《伊呂波歌》的四十八個字數相同。\\xa0從奧日光一直到赤城山這段路程，有相當多適合機車騎士以及後座嚇得要死的乘客休息的景點，例如「華嚴瀑布」便是其一。華嚴瀑布源自中禪寺湖，向下奔流銜接鬼怒川支流大谷川。除了因為氣勢磅礡成為日本三大瀑布之一，更因為作家夏目漱石的學生藤村操在此留下一篇厭世遺書「巖頭之感」後跳崖自盡，引得當時許多學子爭相模仿。（撰文、攝影：王志元）\\xa0「更多其他壹週刊內容請點我」', 145])\n",
      "29\n",
      "insert into news_entry(link,category,title,time,summary,view_cnt) values(?,?,?,?,?,?)\n",
      "dict_values(['http://www.appledaily.com.tw//realtimenews/article/politics/20160511/858725/【有卦】羅瑩雪拒答Ａ濫\\u3000原來是這件事不能說', '政治', '【有卦】羅瑩雪拒答Ａ濫\\u3000原來是這件事不能...', '2016/05/11 15:40', '法務部長羅瑩雪昨天中午錄《蘋果》「紅芯Ａ-真心話大冒險」時，婉拒主持人Ａ濫問「任內簽署11個死刑犯的執行」的問題，不料她跑完行程，下午回辦公室就簽了鄭捷死刑的執行令。兩位主持人昨晚在臉書提起此事，雖然意外又震驚，又覺羅瑩雪言談之間已露端倪。\\xa0《蘋果》製作單位4月底邀羅瑩雪當5月4日的「紅芯Ａ-真心話大冒險」來賓，羅瑩雪主動要求改到昨天（10日），錄影時羅瑩雪侃侃而談，三人聊到忘了時間。但她離開攝影棚時，被記者追問「法務部是否儘快執行鄭捷死刑？」，眼神明顯閃爍了一下。\\xa0昨晚「鄭捷即將執行死刑」消息傳出，「紅芯Ａ」兩位主持人齊呼：「怎會那麼巧？」不約而同在臉書抒發心情。\\xa0Ａ濫在臉書寫著：「我之前擬了一個問題，羅部長在任內簽署11個死刑犯的執行，這根本違背妳個人的信仰。結果她來了、在梳化時看到這個問題，便請部屬來轉達不要這樣問，我只好換個方式問。最後，她給我的答案，是死刑也是佛教所說的『因果循環』，似乎透露出一點簽署鄭捷死刑執行的心態。」\\xa0徐巧芯也在臉書寫：「今天才跟她討論有關死刑的議題，晚上就聽到鄭捷伏法的消息，老實說我蠻震驚。」\\xa0兩邊支持者對羅瑩雪火速執行鄭捷死刑的看法，大不相同，Ａ濫網友多不認同。有人罵：「她自己這樣亂搞，是有把因果循環放在眼裡嗎??」、「因果本來是鄭捷和被害人的，若決定執行這個槍決時有任何算計，羅部長也攪入這因果了」，還有人用羅瑩雪的名言挖苦拒答事件：「這問題有很難嗎？答案不就是：然後就死掉了！然後就死掉了！然後就死掉了！」\\xa0徐巧芯臉書的粉絲，挺此事居多，有人罵「人權是善良者之冠冕，反之放在惡人頭上就變成免死金牌…情何以堪？天理何在？」「我還是要罵羅部長，為何不多斃幾個？場地都佈置好了，只一個伏法，這對被奸殺死掉的冤魂們太不公平了！」還有人問徐巧芯：「是震驚還是驚喜？」（動專題組╱台北報導）\\xa0更多羅瑩雪真心話，通通在11日晚間七點「紅芯Ａ-真心話大冒險」請鎖定 \\xa0蘋果LIVE', 1334])\n",
      "30\n",
      "insert into news_entry(link,category,title,time,summary,view_cnt) values(?,?,?,?,?,?)\n",
      "dict_values(['http://www.appledaily.com.tw//realtimenews/article/life/20160511/858730/高鐵行李專區無監視器\\u3000行李被偷難追查', '生活', '高鐵行李專區無監視器\\u3000行李被偷難追查', '2016/05/11 15:40', '高鐵車廂有設置大型行李置放空間，方便旅客不用把行李帶進座位，不過，有旅客遺失行李，行李區卻無監視器，找不到竊賊，恐成為治安死角。對此，台灣高鐵表示，目前會請鐵路警察及保全加強巡邏。\\xa0台南吳小姐表示，四月三十日和友人搭乘高鐵到台中旅遊，上車後兩人都把行李箱放在車廂的大型行李置放空間，兩人坐進車廂中，下車時，卻找不到她的行李箱，當下通報列車長，現場沒有設置監視器，到各車廂廁所搜尋都查無所獲，只好報案，她說，「行李放置區竟無監視器，對乘客完全沒有保障！」以後只能把行李推到座位旁就近保管。\\xa0鐵路警察局刑警大隊副大隊長鄭家昇表示，今年已接獲兩起民眾報案行李遺失案，正在過濾各車站監視畫面，清查竊嫌樣貌。\\xa0台灣高鐵公司表示，目前車廂內並無監視器，基於車廂氣密性，日本原廠不建議加裝監視器，但已在新採購合約中納入裝設監視器要求，同時也已協調鐵路警察提高隨車巡邏次數，並會要求隨車保全加強車廂內巡檢，以避免行李遺失案件再發生。\\xa0台南市消保官楊璿圓表示，在車廂內裝設監視器恐引起侵犯旅隱私的爭議，基於維護消費者財產安全，她贊成在不侵犯他人下，裝設監視器，同時，建議行李最好隨身保管，若有大型行李，高鐵可考慮在列車上成立有專人管理的寄放專區。(投訴組／台南報導)\\xa0\\n吳小姐出示報案單表示，四月底搭乘高鐵，把行李箱放在車廂上的行李專區被偷，因無監視器，目前仍找不到小偷。投訴人提供吳小姐二十吋的行李箱第一次使用就被偷，圖為行李箱外觀。投訴人提供\\n圖為高鐵大型行李專區。資料照片，非當事車廂。', 150])\n",
      "31\n",
      "insert into news_entry(link,category,title,time,summary,view_cnt) values(?,?,?,?,?,?)\n",
      "dict_values(['http://www.appledaily.com.tw//realtimenews/article/entertainment/20160511/858738/【大數聚】當夢幻無法隨現實長大：台灣偶像劇的矛盾困境(下)', '娛樂', '【大數聚】當夢幻無法隨現實長大：台灣偶像...', '2016/05/11 15:40', '本內容由網路溫度計提供\\xa0(還不瞭解歷年偶像劇的男女主角年齡變化？請見第一集、第二集！)\\xa0從三大要素檢視偶像劇的轉型！而要進一步檢視偶像劇的文本轉型問題，就從構成原始偶像劇的三大要素「愛情至上」、「青春」、「夢幻浪漫」來看吧！「愛情至上」背後代表的是偶像劇的題材選擇；「青春」背後代表的是偶像劇的角色年紀；「夢幻浪漫」背後代表的是劇中角色的身分和所在環境與現實差距多少。題材選擇方面，我們先用和愛情有關的關鍵字，包括「愛」、「戀」、「情」等，去粗略檢視366部偶像劇劇名，發現劇名包含「愛」字的有69部、「戀」字17部、「情」字30部。雖然當中劇名可能重複包含這些關鍵字，例如「好想談戀愛」就同時包含戀跟愛，但仍可看出愛情還是偶像劇想探討的主題，但是否為愛情「至上」則無法透過劇名來解釋。偶像劇角色的年紀由於已經是問題當中被認為有疑點、被檢視的對象，因此我們先暫時跳過不看。至於偶像劇劇情「夢幻浪漫」與否，我們則試著用劇中男女主角的「身分」為何來觀察。\\xa0偶像劇的男女主角都是什麼身分？這裡一樣挑出偶像劇人物檔案中有「描述到第一男、女主角身分」的資料來看，我們先檢視過去16年整體來說，劇中的男女主角分別扮演什麼樣的社會角色為多。2000-2015年間的偶像劇中，我們共歸納出287齣戲的女主角身分，其中由最大族群前五名依序排列，分別是：大學生50位（17.42％）上班族39位（13.59％）高中生23位（8.01％）公司主管20位（6.97％）富家千金15位（5.23％）\\xa0(示意圖由此去)\\xa0男主角部分，我們則歸納出304位的身分，一樣由最大族群前五名依序排列，分別是：大學生42位（13.82％）總經理/董事長25位（8.22％）高中生21位（6.91％）公司主管19位（6.25％）富家公子19位（6.25％）\\xa0(示意圖由此去)\\xa0要稍作說明的是，這裡「公司主管」的定義是受僱中階管理階層，例如「我可能不會愛你」的女主角程又青擔任鞋業公司北區區長即是。而「總經理/董事長」分類則偏向負責大企業經營者，例如「命中註定我愛你」的男主角紀存希是亞洲最大日用化工集團「魔法靈集團」企業第九代的執行長、「幸福最晴天」男主角是天宇集團總裁等，就屬此類。就觀眾投射自身的角度（也就是女主角）來看，學生族群（高中生＋大學生）佔了1/4，較貼近輕熟齡族群的身分（上班族＋公司主管）佔1/5，夢幻不切實際的代表（富家千金）則佔1/20。就觀眾嚮往的愛情角度（也就是男主角）來看，學生族群（高中生＋大學生）佔1/5，較貼近輕熟齡族群會接觸的身分（公司主管＋上班族）佔約1/10，夢幻不切實際的代表（總經理/董事長＋富家公子）則佔1/7。看出端倪了嗎？在女性觀眾自身投射的角色（女主角）中，夢幻不切實際的角色佔比明顯比貼近自身身分的角色來得少；但在戀愛對象的投射角色（男主角）中，夢幻不切實際的角色卻比貼近自身身分的角色要多。\\xa0不論如何，就是愛看總裁高富帥系列！我們再進重新搬出「2010年主角年齡轉捩點」來檢視角色身分。女主角方面，2000-2009年共140位辨識得出身分的角色中，排名前五大的族群依序是：大學生40位高中生21位富家千金13位上班族7位設計師4位\\xa0(示意圖由此去)\\xa0學生族群佔了四成（40.15％）為大宗，貼近生活角色的上班族（包括設計師）佔7.86％，夢幻角色富家千金ˊ則佔9.29％。到了2010-2015階段，共147位辨識得出身分的女主角中，排名前五大的族群依序是‧‧‧‧‧‧\\xa0究竟近期的偶像劇中，女主角的職業產生了什麼變化？而男主角的職業又都是什麼類型呢？讓我們繼續看下去！(作者：渴膩怒)\\xa0本文未完，精采全文詳見當夢幻無法隨現實長大：台灣偶像劇的矛盾困境(下)\\xa0【更多精采文章，請上《大數聚官網：http://group.dailyview.tw》；《DailyView網路溫度計官網：http://dailyview.tw》；《DailyView網路溫度計粉絲團www.facebook.com/DailyView.tw》未經授權，請勿轉載！】', 362])\n",
      "32\n",
      "insert into news_entry(link,category,title,time,summary,view_cnt) values(?,?,?,?,?,?)\n",
      "dict_values(['http://www.appledaily.com.tw//realtimenews/article/politics/20160511/858669/【有片】國宴菜色曝光\\u3000小英唯一要求：有客家料理', '政治', '【有片】國宴菜色曝光\\u3000小英唯一要求：有客...', '2016/05/11 15:39', '更新：新增影片\\xa0準總統蔡英文即將於下周五就職，當天的國宴料理也成為各界矚目的焦點，負責製作的台北萬豪酒店今天也舉行記者會，正式對外公布國宴菜色並請師傅現場烹調「錦繡菊花雞湯」料理。民進黨媒體創意中心主任李厚慶表示，當天菜單也結合Qrcode條碼，首度將菜單的產銷履歷掛在總統府官網，讓當天參與國宴的賓客，能夠用手機就輕鬆連結到總統府官網，觀看菜單的完整產銷履歷。\\xa0李厚慶說明，會採取QRcode掃描履歷的方式，是延續蔡英文的「食安五環」政策，讓大家了解產銷履歷，兼顧食品安全。李厚慶表示，菜色大概從三月初就開始規劃，關於菜色搭配、餐具使用與各國來賓的使用餐具、食用習慣，再持續討論調整。\\xa0520當天的前菜與主菜菜色分別為前菜小盤為雲林刺蔥帝豆 / 梅汁大甲芋頭 / 醋漬木耳蓮藕，其他菜色則是福爾摩沙之春、蔥蒜蒸龍蝦、爐烤快樂豬、百合綠時蔬、樹子蒸龍膽、客家炒粄條，飲品則是東方美人茶與古坑咖啡。萬豪飯店表示，菜色很完美，但是甜點更是讓人驚艷，不過，周六才會對外公布國宴甜點。\\xa0至於新任總統蔡英文對菜色是有有特別要求，萬豪飯店中餐總主廚高鋼輝指出，因為蔡英文是客家人，所以特別有要求客家料理的呈現，其中經過黨部試菜後，也是最喜愛客家炒粄條這道料理。李厚慶表示，由於蔡英文是「客家妹」，所以當然希望把代表客家的料理，讓前來國宴的客人都能享用，這是一種分享的概念。（黃信維／台北報導）\\xa0出版：15:29更新：15:39\\xa0\\xa0\\n蔡英國宴菜色曝光。莊宗達攝前菜。莊宗達攝福爾摩沙之春。莊宗達攝蔥蒜蒸龍蝦。莊宗達攝爐烤快樂豬。莊宗達攝百合綠時蔬。莊宗達攝樹子蒸龍膽。莊宗達攝客家炒粄條。莊宗達攝錦繡菊花雞湯爐烤快樂豬。莊宗達攝', 4111])\n",
      "33\n",
      "insert into news_entry(link,category,title,time,summary,view_cnt) values(?,?,?,?,?,?)\n",
      "dict_values(['http://www.appledaily.com.tw//realtimenews/article/finance/20160511/858723/三貝德Q2攀高峰\\u3000今年營收拼破10億', '財經', '三貝德Q2攀高峰\\u3000今年營收拼破10億', '2016/05/11 15:39', '全台最大K-12（幼兒園至高中）數位教育領導廠商三貝德（8489）累計前4月營收2.2億元，年增逾35%，展望第2季，總經理魏宏泰表示，台灣數位學習產值在2015年成長23%至546億元，看好傳統升學考試旺季，不管是國高中生學員的招生與升學產品的銷售成長趨勢明確，有助新增學員人數保持高比率成長，另正式跨入線上live課程，來擴展升學市場外龐大的外語學習商機，預期第2季營運將再攀高峰，法人預估，第2季營收至少2.1億元，季增至少3成，董事長史勇信樂觀預期，今年營收目標可望突破10億元。\\xa0中國市場數位市場方面，魏宏泰說，中國成長非常火熱，2015年數位教育總投資額達6000億元，為搶攻大陸數位市場，已在廣州透過小量試做，希望未來在教學及商業模式取得中國認同後，將台灣的經驗直接複製到大陸市場，並透過加盟、自營或公播3軌併行，搶進中國市場。\\xa0另與科見合作的線上live課程，4月底就會正式上線，初步目前1年使用的學生目標是3000人，預估第3季就會有營收貢獻。\\xa0至於新增學員方面，今年預估新增2.5萬人，其中希望高單價使用會員可佔1萬人，扣除畢業的學員，今年底總學生約可從去年的4.5萬人增至5.2~5.5萬人。\\xa0他進一步指出，全年段、全功能、全載具，是三貝德數位教育產品的核心競爭優勢，可同時兼顧補習班與家教兩者的優點，並且增進家長與學生間在學習上的互動，這也是三貝德營運持續創高的重要關鍵。\\xa0因應107年課綱修改，因此，今年將在國高中銷售人員大幅擴編，魏宏泰說，目前公司銷售人員約200人，今年預計再擴增5成，總人數將增至300人。\\xa0他說，首季營收因為升學王先修，年增34%，達1.61億元，展望第2季，隨著傳統升學考試旺季，營收會逐步增溫，到第3季達到高峰。\\xa0董事長史勇信進一步指出，因應數位市場快速成長，公司在行銷成本也大幅增加，預估成長支出將由去年的1800萬增至2800萬，預估其效益對營收貢獻，預估至少年增3成，營收目標突破10億元。（高佳菁／台北報導）', 83])\n",
      "34\n",
      "insert into news_entry(link,category,title,time,summary,view_cnt) values(?,?,?,?,?,?)\n",
      "dict_values(['http://www.appledaily.com.tw//realtimenews/article/entertainment/20160511/858207/【辣片】方文琳比基尼射C彈\\u3000害男星流鼻血', '娛樂', '【辣片】方文琳比基尼射C彈\\u3000害男星流鼻血', '2016/05/11 15:38', '(新增動新聞)美魔女方文琳日前拋下2個女兒帶媽媽到沖繩過母親節，碧海藍天的美景讓她身心放鬆，還大方換上火紅比基尼戲水，50歲白皙肌膚配上C罩杯火辣身材大吸網友眼球，連星友張勛傑都忍不住留言：「很難不洗版～流鼻血中！」\\xa0其實方文琳已結束5天4夜的沖繩之旅，因答應網友如果按讚人數增加就po比基尼照，昨晚她實現承諾：「答應你們，說穿比基尼就比基尼，雖然不是第1次穿（只敢在國外），倒真是第1次發，而且還是真真實實的動態。」\\xa0因在家人、朋友面前可以很放膽盡情玩樂，加上沖繩的沙灘很乾淨、海水很清透，舒服得誘她換上比基尼下海游泳，臉友誇她「身材真沒話講，可以拍個寫真集」，她卻謙虛回「還差遠了……」，只肯讓火辣身影留在沖繩。（黃于珊／綜合報導）\\xa0出版時間：00：50更新時間：15：38\\xa0\\xa0\\n方文琳換上比基尼躺在沖繩沙灘上，女兒還幫她P成美人魚。翻攝方文琳臉書方文琳在親友面前盡情享受沖繩美景。翻攝方文琳臉書', 44396])\n",
      "35\n",
      "insert into news_entry(link,category,title,time,summary,view_cnt) values(?,?,?,?,?,?)\n",
      "dict_values(['http://www.appledaily.com.tw//realtimenews/article/local/20160511/858380/【影片】張正翰之母謝羅瑩雪\\u3000「心中能放下一點」', '社會', '【影片】張正翰之母謝羅瑩雪\\u3000「心中能放下...', '2016/05/11 15:38', '（更新：張家祭拜祖先和現場相片、新增影片）\\xa0在鄭捷昨晚遭到伏法法，被害人張正翰的母親張素密今天到農會上班前，接受媒體訪問，她說，聽到同事打電話來講鄭捷已經伏法了，她一件事就對天向張正翰說，「殺你的惡魔已經伏法了。」\\xa0張素密說，「她很謝謝司法站在被害人這一方，感謝羅瑩雪部長，即使孩子死了再怎麼痛，心中也能放下一點。」\\xa0張素密說，身為父母就只有一個心願，就是希望社會回歸到正常，每個孩子都能快快樂樂出門，平平安安回家。我們要求的不多，只要能平安健康就好。\\xa0張正翰的父親張振源和張素密和弟弟張書僑3人在今天上午11時一同請假在位在溪口郵局對面的張氏宗祠祭拜張正翰和張家的祖先，張書僑還向大哥說，大哥你可以放心走了，家裡的父親親我會幫你照料。場面令人感動（王智勇／嘉義報導）\\xa0出版時間：10:21更新時間：15:38\\xa0\\n張正翰母親張素密和父親張振源聽到鄭捷伏法，今天上午第一件事就是張氏宗祠祭拜祖先。王智勇攝張振源和張素密夫妻二人站在張氏宗祠前感謝社會各界的關心。王智勇攝\\n張素密準備了張正翰生前最愛吃的溪口名產鳥仔餅祭拜,告訴他張正翰伏法了。王智勇攝', 8109])\n",
      "36\n",
      "insert into news_entry(link,category,title,time,summary,view_cnt) values(?,?,?,?,?,?)\n",
      "dict_values(['http://www.appledaily.com.tw//realtimenews/article/international/20160511/858438/【有片】接待習近平「真倒楣」\\u3000英女王批中國言論曝光', '國際', '【有片】接待習近平「真倒楣」\\u3000英女王批中...', '2016/05/11 15:37', \"（更新：增加動新聞影片）\\xa0英國女王昨天（10日）在白金漢宮花園出席首場夏季花園派對，其間會見倫敦警察廳指揮官朵爾西（Lucy D'Orsi），提到她對中國國家主席習近平伉儷去年訪問英國的感受，直指他們對大使非常無禮。整段對話被御用攝影師威爾金森（Peter Wilkinson）拍下，並發送到全國廣播機構，意外曝光。\\xa0當時，宮務大臣皮爾（William Peel）向英國女王介紹指揮官朵爾西，以下是他們的對話：\\xa0皮爾：我可否向你介紹指揮官朵爾西，是中國國是訪問期間的首席指揮官...英女王：噢，真倒楣。皮爾：她（朵爾西）嚴重、嚴重被中國人傷害，但她成功撐過來並且維持領導工作。這是她母親，朱迪絲（Judith），涉足保護兒童及社會工作。朱迪絲：對，我為愛女感到非常驕傲。皮爾：你必須說說你的故事。朵爾西：對，我是首席指揮官，我不太確定你是否知道，對我來說那是相當考驗的時刻。英女王：對，我知道。朵爾西：那是，呃，我想他們走出蘭開斯特宮的那一刻，跟我說行程告吹，我感到……英女王：他們對大使非常無禮。朵爾西：他們是……\\u3000這個……\\u3000對，她在那，芭芭拉（Barbara Janet Woodward，中國駐英大使吳百納）跟我在一起，他們當我們的面離去。女王：離譜。朵爾西母親：我知道，難以置信。朵爾西：我覺得非常無禮，也不符合外交禮儀。\\xa0（國際中心／綜合外電報導）\\xa0更多國際新聞請進蘋果繞著地球爆\\xa0發稿：11:21更新：15:37\\n【想知道更多，一定要看……】習近平訪英多無禮？\\u3000英警官不肯說習近平訪英「無禮事件」\\u3000當天威廉夫妻.成龍作陪中國國家主席習近平伉儷去年訪問英國。資料照片英女王（右）在白金漢宮花園出席首場夏季花園派對，其間會見倫敦警察廳指揮官朵爾西（左）。翻攝BBC\", 82822])\n",
      "37\n",
      "insert into news_entry(link,category,title,time,summary,view_cnt) values(?,?,?,?,?,?)\n",
      "dict_values(['http://www.appledaily.com.tw//realtimenews/article/finance/20160511/858670/【有片】彰銀案\\u3000台新金：進退願配合新政府政策', '財經', '【有片】彰銀案\\u3000台新金：進退願配合新政府...', '2016/05/11 15:36', '更新：新增影片台新金今日舉行法人說明會， 彰銀經營權問題仍是市場關注焦點，台新金財務長林維俊表示，過去彰銀標購案是在將任行政院院長林全當年出任財長所完成，如果新政府要持續這個政策，現增募集預做準備，但如果新政府改變政策，不違及台新股東權益下，也願意配合退場。\\xa0台新金日昨董事會也通過擬發行戊、己兩種特別股籌資，合計發行75億股，在特別股多採溢價發行下，台新金可望至少從市場募集800、900億元資金，募集資金之大引發市場與銀行經營權保衛戰進行聯想，林維俊強調，此時大舉增資「純屬時間上的巧合」，沒有針對性，外界不要賦予太多聯想。\\xa0另就整體獲利而言，台新金第1季稅後純益約為38億元，較去年同期減少約15%，主要是受提存TRF的損失準備約5億元影響；第1季每股稅後純益0.41元，年化股東權益報酬率(ROE)13.2%。\\xa0林維俊表示，對於今年業績持看好態度，尤其是中小企業放款可望有超過15%的成長。（林潔禎／台北報導）\\xa0出版：14:49更新：15:36\\xa0\\n台新金財務長林維俊。吳貞慧攝', 682])\n",
      "38\n",
      "insert into news_entry(link,category,title,time,summary,view_cnt) values(?,?,?,?,?,?)\n",
      "dict_values(['http://www.appledaily.com.tw//realtimenews/article/life/20160511/858704/誇張！海研五號8月打撈\\u3000恐再跳票', '生活', '誇張！海研五號8月打撈\\u3000恐再跳票', '2016/05/11 15:33', '立院衛環委員會今邀相關部會報告「德翔臺北」輪船體移除作業是否符合海洋環境保護需求及後續污染賠償作業。立委楊曜質詢批評，前年10月10日國慶日在澎湖外海觸礁沉沒的海研五號，至今未打撈，今年2月比德翔臺北擱淺更久，至今仍擱淺的耘海輪也還沒善後。\\xa0交通部航港局副局長林昌輝證實，國研院對於海研五號是否要打撈仍有意見，並且提出行政訴願，但約兩個星期前遭到行政院駁回，尚不知道國研院是否會提行政訴訟，可能要等整個法律程序都走完，才能要求國研院打撈海研五號。\\xa0前年10月10日在澎湖外海觸礁沉沒的海研五號至今未打撈。楊曜說，海研五號是國家的，竟然到現在還沒打撈，他憂心沈船恐破壞海底電纜、危害行經船隻和生態環境，且當時立院有要求國研院今年8月前完成移除。\\xa0航港局透露，因保險公司對有無必要打撈仍有意見，粗估約要台幣3億至5億元，國研院因此向交通部提起不打撈沉船的訴願，等法律程序全部駁回，保險公司才願理賠打撈費用。\\xa0另外，擱淺澎湖海域的耘海輪，林昌輝說，因為船身破了33個洞，且卡在礁岩，無法採浮揚方式處理，明天將會現場查看，決定如何處理。（洪敏隆／台北報導）', 676])\n",
      "39\n",
      "insert into news_entry(link,category,title,time,summary,view_cnt) values(?,?,?,?,?,?)\n",
      "dict_values(['http://www.appledaily.com.tw//realtimenews/article/finance/20160511/858712/APEC貿易部長會議17日登場\\u3000聚焦2大議題', '財經', 'APEC貿易部長會議17日登場\\u3000聚焦2大...', '2016/05/11 15:32', '第22屆APEC貿易部長會議將於5月17~18日舉行，此行由於時機敏感，適逢新舊政府交接期，此行將由經濟部次長楊偉甫與國貿局長楊珍妮帶隊前往秘魯，與20個會員國交流。\\xa0據悉，中國將派部長級出席，市場關注是否重演先前世界鋼鐵會議時，中國代表以我國層級不夠為由，逼我不得參加會議等小手段？楊偉甫說，APEC是以會員體為組成組織，過去都有得到應有尊重，如果有狀況會充分表達，且駐外代表或國安會等都會協助，目前參加資深官員會議回報狀況都正常。\\xa0是否安排中國對於服貿、貨貿等議題交流？楊偉甫說，國際場合上交流是很正常，不過這次APEC議題安排非常緊湊，新政府上來也希望雙方有更好發展模式，若有適當機會一定會表達善意。\\xa0此次APEC貿易部長會議將聚焦「區域經濟整合」及「微中小企業的國際化」兩大議題，會議將延續討論去年的幾項重點進度包括一、進行亞太自由貿易區「共同策略性研究」的撰寫，二、檢視區域供應鏈連結的表現，三、發展APEC服務業競爭力路徑圖，提高服務業帶動經濟成長的潛在能量。(江俞庭／台北報導)', 127])\n",
      "40\n",
      "insert into news_entry(link,category,title,time,summary,view_cnt) values(?,?,?,?,?,?)\n",
      "dict_values(['http://www.appledaily.com.tw//realtimenews/article/international/20160511/858369/可負擔宅比例加倍可打房？反對者：只會讓建商不想蓋', '國際', '可負擔宅比例加倍可打房？反對者：只會讓建...', '2016/05/11 15:31', '（更新：增加動新聞影片）\\xa0舊金山住房問題越演越烈，許多人認同蓋更多房子及可負擔住宅，才能打房價。有市議員提議修訂現有規定，即「每個建案中必須包含12%可負擔住宅」，重新討論可負擔宅比例，並在討論定案前先將百分比暫調到25%。但遭反對陣營質疑此舉會減低建商蓋房意願。\\xa0趁著本週「提前投票（early voting）」開跑，希望選民支持舊金山開發更多建案的陣營，在市政府前拉票，希望選民能支持相關的法案，並對「重審可負擔住宅比例，並在重審過渡期間先將百分比暫調到25%」的C提案（Proposition C）投下反對票。\\xa0C提案是市議員金貞妍（Jane Kim）倡議。她希望選民能同意移除市憲章裡，針對開發商在每個建案中必須涵蓋的12%可負擔住宅比例規定，並由市議會重新討論後，再訂定新的比例。但在拍板定案前的過渡期，該法案將把百分比調高兩倍至25%。\\xa0今天到場反對C提案的民眾，44歲的史渥客（John Schwark）十分憂心目前舊金山房市供不應求，房價居高不下的情形：「根據專家的數據統計，若要求建商多蓋25%的可負擔住宅，將會降低投資者出資的意願，導致建商少蓋30%的房子。 」他認為支持該法案的人目的是希望建商打退堂鼓，少蓋一點房子，「因為他們不希望舊金山太過擁擠」。他也認為新建案跟新的可負擔宅兩者的開發並不衝突，不認為建商開發符合市場價格的住房，會影響到可負擔房屋的興建。\\xa0在舊金山小業主協會擔任董事的招霞（Josephine Zhao）也認為，舊金山應該為各階層多蓋不同類型的住房，否則僧多粥少，房價自然就貴。「尤其是像我們這種人，不是有錢人但也不是太窮，我們現在買不到房子。」\\xa0她與史渥客一樣，以擔心25%將減少建商開發建案為由，反對Ｃ提案。她認為，可負擔宅比例應由建商視狀況自訂。「對於他們來說，負擔不起的話，整個物業就因為這25%而無法蓋 。 但若他們自己訂，房子就蓋得了。有些物業若地皮便宜的話，說不定他們可以多蓋50%甚至100％的可負擔住宅。」\\xa055歲的胡太太則批評C提案是「真空法案」，不顧其可行性，「是左派候選人為了拉攏選票提出的」。她更把增加可負擔宅跟保障租客的現有法案相提並論，表示法律上房東不能依照自己的情況收回租屋自住，與房客的權利不平衡。「一些市議員經常只顧及房客的權益，把責任都加諸在業主身上，像我們這樣獨立屋的屋主經常被剝削。」\\xa0面對指控，金貞妍辦公室澄清，若該議案通過，屆時市議會將參考市府做的影響評估，再做比例調整。稅捐稽徵局第一階段的評估報告將在7底完成，且每三年會重新審查一次。而針對建商找不到資金而負擔不起的說法，他們強調，依照目前的節節升高的房市，多蓋房子只會讓建商多賺，持續收益。（王欣儀／舊金山報導）\\xa0發稿：10:04更新：15:31\\n舊金山住房問題越演越烈，趁著本週「提前投票」開跑，希望選民支持舊金山開發更多建案的陣營，在市政府前拉票。王欣儀攝許多華裔爺爺奶奶也出來支持開發。王欣儀攝支持開發的陣營，反對C提案，認為增加建案需包含的可負擔住宅比例，會降低建商蓋房子的意願。翻攝sfyimby.org支持舊金山應該多蓋住房的舊金山民主黨中央委員會委員安德生（Kat Anderson）表示中央委員會是挺C提案的。王欣儀攝', 1131])\n",
      "41\n",
      "insert into news_entry(link,category,title,time,summary,view_cnt) values(?,?,?,?,?,?)\n",
      "dict_values(['http://www.appledaily.com.tw//realtimenews/article/local/20160511/858500/\\u200b【影片打臉駕駛】貨車臨停路中撿包\\u3000轎車反應不及追撞駕駛命危', '社會', '\\u200b【影片打臉駕駛】貨車臨停路中撿包\\u3000轎車...', '2016/05/11 15:31', '(更新：新增影片)\\xa0宜蘭縣宜191甲線冬山鄉貓里武淵橋下橋處，上午9時10分許發生轎車追撞小貨車的車禍，因撞擊猛烈，轎車男駕駛一度受困車內，警消獲報抵達，以破壞器材將轎車內的男駕駛救出，但已無生命跡象，經緊急送往羅東博愛醫院搶救後救回生命徵象，還在加護病房搶救，不過警方調閱轎車行車記錄器才發現，貨車打著雙黃燈臨停在馬路上，貨車駕駛準備下車撿包包，而後方轎車駕駛反應不及才會直接撞上。\\xa0宜蘭縣政府消防局獲報後，派遣羅東、冬山分隊救護人員前往搶救，當時轎車駕駛卡在車上動彈不得已無生命跡象，緊急用破壞器材破壞車體後把人救出，緊急送往羅東博愛醫院搶救。\\xa0警方抵達時，轎車車頭全毀，現場零件四散，小貨車停在案發前方約20公尺處，轎車的煞車痕長約16公尺。\\xa0小貨車駕駛陳錦和面對媒體追問時說，他當時要往冬山方向行駛，在該橋樑下橋時，突然傳出「砰」聲響，他說當時他行駛在內側車道，但車速不快，為何被撞上他也很莫名其妙。\\xa0警方調查，轎車駕駛為設籍在新北市新店區的50歲男子黃漢鼎，調閱轎車行車記錄器後，赫然發現小貨車當時打閃黃燈，竟停在下橋處內側車道，轎車駕駛疑似發現後閃避不及，雖緊急煞車仍直接撞上貨車車尾。\\xa0「前後才停不到十秒鐘」，陳姓駕駛才向警方坦承說，當時因包包掉落，他停車閃著雙黃燈正要撿才會停車，警方透過行車記錄器，發現貨車停車16秒。\\xa0羅東博愛醫院醫療副院長林志銘說，男子到院時已無心跳、血壓，經搶救後，已恢復心跳，但意識模糊，仍陷入昏迷，經照Ｘ光及電腦斷層掃描後發現，傷者胸口有瘀青骨折情形，是否因重力撞擊造成心因性休克或心臟本身有問題，將請心臟科醫師會診，目前傷者已送入加護病房觀察，生命垂危。（林泊志／宜蘭報導）\\xa0發稿時間：12：18更新時間：15：31\\xa0\\xa0\\n轎車車頭全毀。林泊志攝轎車車頭全毀。林泊志攝貨車陳姓駕駛。林泊志攝貨車駕駛當時為了撿包包，臨停路中央打雙黃燈，後方轎車駕駛反應不及直接撞上。林泊志攝警方現場採證。林泊志攝煞車痕長達16公尺。林泊志攝貨車駕駛陳錦和。林泊志攝', 3752])\n",
      "42\n",
      "insert into news_entry(link,category,title,time,summary,view_cnt) values(?,?,?,?,?,?)\n",
      "dict_values(['http://www.appledaily.com.tw//realtimenews/article/finance/20160511/858491/【有片】鴨胸牛排低溫烹調\\u3000天蔥搶健康飲食商機', '財經', '【有片】鴨胸牛排低溫烹調\\u3000天蔥搶健康飲食...', '2016/05/11 15:30', '民眾重視健康、自我保健的意識提高，天蔥國際（2740）針對產品品質再進化，全面採用真空低溫烹調方式，強調健康、品質並符合國人飲食習慣，策略長張國強表示，斥資百萬元全面引入低溫調理機加強產品力，期望進一步拉抬營收。\\xa0目前天蔥國際共有Mr. Onion以及Grand Mr. Onion兩個品牌，全台共33家店，張國強也說，進入夏季後，將全面更新飲料品項與品質，未來規劃由餐飲業進入飲料業，不排除與其他公司合作。\\xa0天蔥4月營收5817.5萬元，年減14.89%，累計1~4月營收2.76億元，年減2.7%。張國強指出，除了既有２個品牌外，目前也已經有新品牌Bistro Onion正在試營運，將走精緻餐飲路線，預計6月就能展出首店。（林海／台北報導）\\xa0出版：11:59更新：15:31\\n左起法式櫻桃鴨胸、特選菲力牛排、迷迭香嫩雞排。康仲誠攝天蔥國際斥資百萬元全面引入Sous Vide真空低溫烹調機。康仲誠攝', 2371])\n",
      "43\n",
      "insert into news_entry(link,category,title,time,summary,view_cnt) values(?,?,?,?,?,?)\n",
      "dict_values(['http://www.appledaily.com.tw//realtimenews/article/nextmag/20160511/858625/【壹週刊】夜遊胡志明\\u3000泡酒吧慵懶聽爵士', '壹週刊', '【壹週刊】夜遊胡志明\\u3000泡酒吧慵懶聽爵士', '2016/05/11 15:30', \"對旅客來說，夜晚胡志明市的重頭戲就在范五老街（Kho pho Pham Ngu Lao）。范五老街是越南背包客大本營，要找便宜旅館來這就對了。隨著外國遊客群集，范五老街上也發展出獨特酒吧文化。太陽一下山，那酒吧店外的高腳椅上便坐滿了穿著清涼的辣妹，一個個嗲聲嗲氣招攬著客人好像狐妖鬥法，走在路上也一堆騎著摩托車的男人挑著眉問你要不要馬殺雞。\\xa0若嫌范五老街氣質不夠，還可以到Saxn'art Jazz Club聽爵士樂。Saxn'art Jazz Club在胡志明市 Le Loi 路上，老闆Tran Manh Tuanu本身也是出過多張爵士專輯的知名薩克斯風手，從范五老街步行約二十分鐘左右。這家爵士酒吧曾被《Vietnam Economic Times》雜誌選為越南最棒爵士酒吧。一輪樂手演奏後，一位莫約四十多歲的女歌手從後台走出，老外們開始騷動紛紛遞上點歌單，看來是位在外國人圈子裡小有名氣的歌手。音樂一下，是經典曲目〈La Vie En Rose〉﹙玫瑰人生﹚，女歌手唱起香頌來有種慵懶的南洋氣息。（撰文、攝影：王志元）\\xa0「更多其他壹週刊內容請點我」\", 301])\n",
      "44\n",
      "insert into news_entry(link,category,title,time,summary,view_cnt) values(?,?,?,?,?,?)\n",
      "dict_values(['http://www.appledaily.com.tw//realtimenews/article/local/20160511/858689/病母囑「讓我解脫」\\u3000弒母男判緩刑3年', '社會', '病母囑「讓我解脫」\\u3000弒母男判緩刑3年', '2016/05/11 15:30', '台南市李姓男子疑因不忍母親久病纏身，前年12月以麻繩勒死對方，吞服大量治療痛風的藥物「秋水仙素」，企圖自殺未果，事後打電話自首。台南高分院法官認為，被告坦認犯行，自首接受裁判，受其母囑託終止其母病痛而殺人，事後自殺急救未死，可見其內心痛苦，日前依《殺人罪》判處2年徒刑，緩刑3年。\\xa0二審判決書指出，被告李姓男子（60歲）的84歲母親，因腫瘤導致肝臟異常腫大，壓迫腹部及其他器官，常年腹部疼痛不適，夜間痛醒、哀嚎，經醫師評估僅半年餘年，身心備受煎熬，起意求死。前年12月28日凌晨3時，李母疼痛難耐哀嚎，向兒子表示「幫我解脫，讓我早點走」等語。\\xa0李姓男子不忍母親常年深受病痛所苦，在李母房間，以母親繫褲腰帶的備用棉繩，勒死李母頸部窒息死亡。李姓男子陪伴母親4小時後，打電話向110自首，表示願意接受制裁，隨後服用平日治療口腔潰瘍的58顆秋水仙藥物自殺，經警員抵達戒護下，把李男戒護到成大醫院急救。（辛啟松／台南報導）\\xa0想知道更多，一定要看......勒死癌末母 60歲兒露詭笑\\xa0\\xa0\\n警方到場處理。資料照片', 909])\n",
      "45\n",
      "insert into news_entry(link,category,title,time,summary,view_cnt) values(?,?,?,?,?,?)\n",
      "dict_values(['http://www.appledaily.com.tw//realtimenews/article/forum/20160511/858719/【公庫】從教育現場看鄭捷的火速槍決', '論壇', '【公庫】從教育現場看鄭捷的火速槍決', '2016/05/11 15:27', '本內容由公庫提供\\xa0文 /\\xa0 陳登耀 (現任高中教師)2016年5月10日晚上，行刑前的3小時，才從電視新聞看到捷將被實行槍決的消息，當下的第一個想法–怎麼會這麼突然？2014年5月21日，台北捷運發生台灣史上第一件捷運隨機殺人的事件，當時轟動全台，釘死鄭捷、殺人償命的聲音響徹雲霄，而我也是其中之一。然而，這件事難道「砰！砰！砰！」三聲就結束了？死者安息？受害家屬得到補償？事情畫下完美的句點？我想當大家知道他行刑前是「不後悔也不怕死，只怕槍決過程太痛苦」的想法時，這一切應該也畫下了大問號．．（閱讀全文）', 499])\n",
      "46\n",
      "insert into news_entry(link,category,title,time,summary,view_cnt) values(?,?,?,?,?,?)\n",
      "dict_values(['http://www.appledaily.com.tw//realtimenews/article/finance/20160511/858722/華碩CEO沈振來稱徐世昌\\u3000最佳創意教練\\u3000', '財經', '華碩CEO沈振來稱徐世昌\\u3000最佳創意教練\\u3000', '2016/05/11 15:27', '對徐世昌加入，華碩執行長沈振來表示，徐世昌以前是我的教練，也是現在我的教練，他加入當策略長，首先，最欣賞他的創意跟洞察力，徐世昌未來會積極在創意跟洞察力對公司有幫助，公司決策會更快。策略長會進入董事會，為來3J（施崇棠、曾鏘聲、沈振來）＋1T（徐世昌），一起努力合作不會變。\\xa0沈振來表示，董事長施崇棠的認真度跟努力度不會變，甚至比沈振來上班還認真，每天非常專注在公司營運，這一點不會變，沈振來表示，施崇棠工作範圍不會變，組織上則要看未來變化。施崇棠仍將是華碩的傳奇精神領袖，工作熱忱不會變，只是創意上，華碩會多一個更犀利的人進來，把華碩的策略準度加強。（王郁倫／台北報導）', 190])\n",
      "47\n",
      "insert into news_entry(link,category,title,time,summary,view_cnt) values(?,?,?,?,?,?)\n",
      "dict_values(['http://www.appledaily.com.tw//realtimenews/article/local/20160511/858701/鄭捷遺體在哪引關切\\u3000鄉民查出「098」', '社會', '鄭捷遺體在哪引關切\\u3000鄉民查出「098」', '2016/05/11 15:26', '北捷殺人案兇嫌鄭捷昨晚於台北看守所執行槍決後，殯葬業者將他的遺體運送至桃園市中壢區殯葬服務中心冰存，本來說今天將有家屬認屍，還有耳語傳出家屬低調在中途領走，到底槍決後的「鄭捷」在哪？引發網友好奇，有網友透過桃園市政府殯葬管理資訊系統的資料查到，鄭捷的確是保存在冷凍櫃中。\\xa0PTT網友在八卦版，分享使用桃園市政府殯葬管理所「殯葬管理資訊系統」查詢的結果，他指出，從冷凍櫃使用狀況可看出，鄭捷的遺體並沒有被領走，依然在編號「098」的冷凍櫃。\\xa0不過也有網友猜測，有寫出來不一定真的還在裡面「瞞天過海實際上死的不是鄭捷的可能性」、「啊不是都說了，家屬在倒殯儀館前就領走了」、「同名同姓的可能性?!」。\\xa0（即時新聞中心／綜合報導）', 8082])\n",
      "48\n",
      "insert into news_entry(link,category,title,time,summary,view_cnt) values(?,?,?,?,?,?)\n",
      "dict_values(['http://www.appledaily.com.tw//realtimenews/article/life/20160511/858573/【有片】見鬼了！他預言5/14起\\u3000台灣終年冬天', '生活', '【有片】見鬼了！他預言5/14起\\u3000台灣終...', '2016/05/11 15:25', '（更新：新增影片）\\xa0你相信嗎？\\xa0網路上這兩天流傳一「預言」，台灣即將變天。\\xa0莊圓文化指出，天帝佛陀宣示，今年5月14日也就是這個星期六，上午7點開始，天氣將轉變為終年冬天，每天氣溫最高不超過20℃。\\xa0不過這項預言被氣象局狠狠打臉，因為根據天氣預報，周六起為多雲到晴，各地高溫均逾30℃，並無所謂的「終年成冬」。（王嘉慶／綜合報導）\\xa0出版時間\\u300013：05更新時間\\u300015：25\\n台灣今年1月遇到「霸王寒流」，山區積雪明顯。資料照片翻攝臉書', 51427])\n",
      "49\n",
      "insert into news_entry(link,category,title,time,summary,view_cnt) values(?,?,?,?,?,?)\n",
      "dict_values(['http://www.appledaily.com.tw//realtimenews/article/local/20160511/858632/大仁哥白嫖勒索\\u3000援交女被騙3次才清醒', '社會', '大仁哥白嫖勒索\\u3000援交女被騙3次才清醒', '2016/05/11 15:24', '台中29歲古姓女子今年三月間透過手機通訊軟體Wechat，結識一名暱稱「大仁」的方姓男子，並約定援交，不料雙方碰面後，大仁卻拿出警察服務證，要求古女給付1.2萬元，以免除援交刑責，古女沒錢，同意與對方發生性關係，「以肉償債」抵銷1萬元，完事後還補足「欠費」2千元給對方。\\xa0大仁白嫖知其味，上月八日又到古女租屋處，要了1萬元，昨天又要向古女要1萬元，古女終於覺得不對勁，報警將其逮捕，清水分局偵查隊查出假冒警察的方姓 男子（27歲），及其所持的偽造警察服務證。\\xa0警方查扣一本本票，內有四名女子簽的本票，共15張，價值近20萬元。（蕭夙眉／台中報導）\\xa0\\xa0\\n上方是真的警察證，下方是假的。蕭夙眉攝方姓男子被依照詐欺和恐嚇罪送辦。翻攝畫面清水分局偵查隊在男子身上查到畫押的本票。蕭夙眉攝', 5749])\n",
      "50\n",
      "insert into news_entry(link,category,title,time,summary,view_cnt) values(?,?,?,?,?,?)\n",
      "dict_values(['http://www.appledaily.com.tw//realtimenews/article/life/20160511/858715/上周災防通報簡訊出包\\u3000NCC：民眾應速更新手機', '生活', '上周災防通報簡訊出包\\u3000NCC：民眾應速更...', '2016/05/11 15:24', '上週地震災防通報簡訊測試出現重複接收、未接受到等狀況，國家通訊傳播委員會（NCC）表示，上週是首次完整流程測試，據了解上述狀況有可能是民眾手機軟體未更新，或尚未支援該功能所致，呼籲民眾能夠儘速更新。\\xa0NCC發言人虞孝成表示，根據一般正常程序，「地震速報」要五級以上才會即刻發布，而上週所發佈的為「地震報告」，只要震度一級以上地區縣市，包含中部、東部等十個縣市民眾都會發送，會持續發送一個小時。\\xa0NCC表示，上週發送地震報告發送測試，相較過去是由電信業者發送測試訊息到民眾手機，這次測試是首度經完整流程發送，由中央災防主管機關主動發送，經由電信業者傳送出去。\\xa0針對部分民眾出現重複接收、延遲接收，甚至完全沒收到狀況，NCC表示，反映有異民眾數量並不多，一般正常狀況，上述災防簡訊會持續發送一段時間，但手機端必須能判斷是否接到重複訊息忽略。\\xa0NCC表示，三月一日後經認證手機，都已支援接受緊急訊息功能，在此之前則由業者提供更新軟體，經了解上述出現重複接收狀況，可能是手機端未更新到最新版軟體，導致接收訊息功能不完整，才會出現一直不斷收到重複訊息狀況。\\xa0至於延遲收到，或是未收到，NCC表示，因關機、沒有收訊，或是通話、上網的時候，都沒法收到該簡訊，相關使用須知及支援手機型號，民眾可以查詢NCC官網專區。（朱正庭／台北報導）', 320])\n",
      "51\n",
      "insert into news_entry(link,category,title,time,summary,view_cnt) values(?,?,?,?,?,?)\n",
      "dict_values(['http://www.appledaily.com.tw//realtimenews/article/life/20160511/858710/大巨蛋要攤牌了\\u3000柯P：523當天將交代清楚', '生活', '大巨蛋要攤牌了\\u3000柯P：523當天將交代清...', '2016/05/11 15:22', '台北市議員高嘉瑜今在臉書透露，昨日與台北市長柯文哲進行午餐會，柯已表明會在523議會大巨蛋專案報告中，公布北市將如何處理大巨蛋。台北市長柯文哲今表示，屆時至少會提出方向，因為台北市政府受議會監督，所以不管怎樣，還是要有一個比較清楚的說明，目前專案小組，也都在日夜趕工研究各種方案的可行性。\\xa0柯文哲今出席國際護師節活動後受訪表示，大巨蛋當天至少要提出個方向，因為台北市政府受議會監督，所以不管怎樣，523還是要有一個比較清楚的說明。記者追問是否有具體的想法？柯說目前北市府委託的律師、專案小組都在日夜趕工，各種可能性、優劣性以及是否可行性都還在評估，最後他重申「不管怎樣，(我們)必須跟議會報告」。柯坦言，北市府確實有很多壓力，因為這是一個很困難的題目。\\xa0至於大巨蛋周圍不斷出現地層下陷的情形，柯表示已經有跟都發局建管處交代，以後每個禮拜都要巡視工地，目前大巨蛋擺在那裡，加上遠雄整個一副擺爛的樣子，這樣不行，因此建管處每個禮拜會排時間進場檢查，發現問題就要處理。\\xa0由於高嘉瑜在臉書還透露，柯文哲談大巨蛋議題說提到「要是能拆早就拆了」的想法，現場記者追問柯的最終目標是不是要拆蛋？柯坦言「這個不是我喜歡不喜歡，不是我個人意願，國家還是有法律，要在法律程序內想一個解套方案」。(陳思豪/台北報導)', 881])\n",
      "52\n",
      "insert into news_entry(link,category,title,time,summary,view_cnt) values(?,?,?,?,?,?)\n",
      "dict_values(['http://www.appledaily.com.tw//realtimenews/article/life/20160511/858713/遠傳宣佈與Gogoro合作\\u3000買電動機車可綁門號', '生活', '遠傳宣佈與Gogoro合作\\u3000買電動機車可...', '2016/05/11 15:22', '買電動機車也能搭配手機門號補貼，遠傳電信今宣布和電動車品牌Gogoro跨業合作，後天起將可搭配遠傳資費方案，只要到 Gogoro 門市申辦遠傳 2 年4G 方案，最高可獲得購車折扣2萬元，等於最低只要4.3萬元就可以買到Gogoro電動機車。\\xa0遠傳電信表示，該專案從5月13日至7月31日止，限到全國Gogoro門市申辦，需搭配4G新絕配1199/1399/1799指定方案，簽約24個月並預繳，即可享Gogoro智慧雙輪購車補貼優惠。\\xa0根據該「超級騎機」方案，如申辦1199元資費，可提供1萬6000元車價補貼，擁有前6個月4G上網吃到飽，過後每月26GB上網傳輸量，申辦1399、1799元方案，則分別可補貼1萬8000元及2萬元車價補貼，還有上網吃到飽不限速。（朱正庭／台北報導）', 522])\n",
      "53\n",
      "insert into news_entry(link,category,title,time,summary,view_cnt) values(?,?,?,?,?,?)\n",
      "dict_values(['http://www.appledaily.com.tw//realtimenews/article/local/20160511/858679/談判馬國詐騙犯回台\\u3000法務部帶這個當籌碼', '社會', '談判馬國詐騙犯回台\\u3000法務部帶這個當籌碼', '2016/05/11 15:21', '法務部等單位明天將派員前往中國，針對日前從馬來西亞被押送到中國的32名台灣詐欺犯，以及兩岸共同打擊犯罪等進行事務性協商。桃園地檢署今天依殺人罪嫌起訴郭鎮豪（33歲，在押），他在3年多前在深圳槍殺中國商人谷峰，該份起訴書也將被帶到中國，成為這次談判的重要籌碼之一，也讓對岸了解台灣配合共同打擊犯罪的決心。（突發中心張沛森／桃園報導）\\xa0\\xa0\\xa0\\n【想知道更多，一定要看……】台男槍殺中國商人\\u3000茶葉禮盒留DNA被捕郭鎮豪（前中）被移審到桃園地院。張沛森攝', 808])\n",
      "54\n",
      "insert into news_entry(link,category,title,time,summary,view_cnt) values(?,?,?,?,?,?)\n",
      "dict_values(['http://www.appledaily.com.tw//realtimenews/article/sports/20160511/858708/\\u200b跟著金牌選手這樣吃\\u3000你也能健美又不胖', '體育', '\\u200b跟著金牌選手這樣吃\\u3000你也能健美又不胖 ...', '2016/05/11 15:21', '2016巴西奧運倒數不到2個月，台灣代表隊每天除規律訓練，飲食也是很重要的一環，國家運動訓練中心營養師潘奕廷說：「每個選手需要攝取的熱量和營養都不一樣，我會先教導他們如何選擇自己需要的食物，在比賽前2周我甚至會主動幫選手打菜，幫他們客制化餐點。」\\xa0潘奕廷以舉重選手陳士杰和女將許淑淨為例子，他說：「陳士杰的體重大約150公斤(155公斤)，他每餐需要攝取的熱量約1000大卡，而許淑淨體重只有52公斤，每餐的熱量大約650大卡到700大卡上下，我會依照他們的身材肌肉組成、體脂肪率做綜合考量，讓他們在吃得飽的前提下，又能均衡攝取營養。」\\xa0除餐點，潘奕廷也透露，選手在飲料的取用上也有限制，基本上早餐大多建議牛奶，中午用餐因為結束訓練，可以補充1罐運動飲料，此外國訓中心冰箱裡也有無糖豆漿與低糖豆漿，都是適合運動員的飲料。（龍柏安／高雄報導）\\n國訓中心營養師潘奕廷幫選手客制冠軍餐。游智勝攝舉重選手許淑淨冠軍餐。游智勝攝舉重選手陳士杰冠軍餐。游智勝攝', 776])\n",
      "55\n",
      "insert into news_entry(link,category,title,time,summary,view_cnt) values(?,?,?,?,?,?)\n",
      "dict_values(['http://www.appledaily.com.tw//realtimenews/article/nextmag/20160511/858724/【壹週刊】馬總統准辭隔天士檢隨即約談翁啟惠', '壹週刊', ' 【壹週刊】馬總統准辭隔天 士檢隨即約談...', '2016/05/11 15:21', '\\u200b總統馬英九才剛批准中研院院長翁啟惠的辭呈，今天(11日)就傳出檢調再度約談翁啟惠；據悉，翁啟惠與浩鼎董事長張念慈現已於調查局台北市調查處應訊，預計下午4點移送士林地檢署複訊。\\xa0翁啟惠4月25日與他會面時表示，此時辭職，將造成人事極大動盪，甚或影響國際聲譽，總統說，此一考量，顯係多慮，他為維護中研院聲譽，並在審酌各界期待後，決定同意翁啟惠3月29日所提辭呈。\\xa0總統表示，翁啟惠請辭獲准後，將依機關政務首長辭職通例，立即留任王汎森、王瑜、王惠鈞等3位副院長，並指派其中一位副院長代理院長職務，以維持中研院正常運作，至下任院長產生就任為止，絕不致因翁啟惠辭職造成人事動盪。(撰文：專案組)\\xa0「更多其他壹週刊內容請點我」', 145])\n",
      "56\n",
      "insert into news_entry(link,category,title,time,summary,view_cnt) values(?,?,?,?,?,?)\n",
      "dict_values(['http://www.appledaily.com.tw//realtimenews/article/international/20160511/858705/【央廣RTI】不會要他道歉歐巴馬將訪廣島', '國際', '【央廣RTI】不會要他道歉  歐巴馬將訪...', '2016/05/11 15:20', '本內容由中央廣播電臺提供\\xa0\\xa0 \\xa0 \\xa0 \\xa0美國總統歐巴馬(Barack Obama)決定將拜訪二戰期間遭受原子彈轟炸的廣島市(Hiroshima)，日本對此表示歡迎。今天(11日)接受美聯社採訪的日本民眾也表示，他們不會尋求美國道歉。歐巴馬計畫參與完在日本舉行的七大工業國(G7)年度峰會之後，拜訪1945年原爆地的受難者紀念碑，有受訪者對此表示開心。\\xa0 \\xa0 \\xa0 \\xa0現年74歲的老婦人森美惠子(Mieko Mori，音譯)表示，「我不住在廣島或長崎，但一想到盼望致意的某人(歐巴馬)終於要來，我就覺得情緒激動。」這名老婦人受訪時正在東京一處紀念碑前為受難者祈禱。\\xa0 \\xa0 \\xa0 \\xa0歐巴馬將成為首位拜訪廣島的美國在任總統。這座城市在二戰結束前不久，遭美軍投擲一顆原子彈，幾乎完全被摧毀，共有約14萬人死亡，其他人到今天仍受原爆後遺症所苦。美軍3天後又在長崎市上空投了第二顆原子彈，此後，日本很快就在1945年8月15日宣布投降。\\xa0 \\xa0 \\xa0 \\xa0日本放送協會(NHK)本周公布一份民調指出，70%的日本人希望歐巴馬拜訪廣島，只有2%反對。\\xa0 \\xa0 \\xa0 \\xa0現年59歲的民眾林八郎(Kohachiro Hayashi，音譯)表示，「我聽說美國對原子彈轟炸的看法仍然分歧，但距離戰爭結束已經過了將近71年，我想該是歐巴馬可以訪問廣島的時候了。」這名退休的老師還說，「他或許不能在任期一半的時候來，但現在差不多要卸任了，現在看來機不可失。」他說，若日本要求道歉，只會導致無止盡、沒有結果的辯論，爭論誰該為多種戰爭犯行負責。(繼續閱讀)', 200])\n",
      "57\n",
      "insert into news_entry(link,category,title,time,summary,view_cnt) values(?,?,?,?,?,?)\n",
      "dict_values(['http://www.appledaily.com.tw//realtimenews/article/politics/20160511/858690/Applepay登台\\u3000行政院長張善政下午批准了', '政治', 'Apple pay登台\\u3000行政院長張善政下...', '2016/05/11 15:18', '行政院長張善政下午批准Apple Pay來台，准許可不限由國內TSP業者提供代碼化服務，但是我國持卡人的國內信用卡交易依法應在國內辦理清算。\\xa0張揆有關Apple pay國內提供行動支付服務裁示：\\xa01. 同意開放Apple Pay等國際行動支付，不限由國內TSP業者提供代碼化服務，惟我國持卡人之國內信用卡交易依法應在國內辦理清算。2. 為提供消費者多元選擇，金管會應要求國際行動支付業者與國內非信用卡之支付方式(如金融卡、電子票證、第三方支付等)業者合作，以國際、國內服務業者皆能上線為目標，讓國內業者得以利用其行動裝置作為載具，併請金管會配合鬆綁相關法令。3. 為協助國內TSP業者發展，請金管會協調國際行動支付業者及信用卡國際組織，儘速與國內TSP業者洽商合作事宜，進行代碼(Token)相關技術、系統介接及認證等事項。\\xa0張善政四月底宣示說，開放ApplePay登台，可讓國人金融科技服務便利性與國外同步，也有助國內TSP（Token Service Provider，代碼化服務平台）開發與應用，若評估沒有逃漏稅等負面疑慮，請金管會盡速開放，金管會主委王儷玲則說，在國際化和金融科技發展上，希望台灣可跟上ApplePay趨勢，但須研議相關配套。（王家俊／台北報導）', 29442])\n",
      "58\n",
      "insert into news_entry(link,category,title,time,summary,view_cnt) values(?,?,?,?,?,?)\n",
      "dict_values(['http://www.appledaily.com.tw//realtimenews/article/life/20160511/858702/是否支持廢死？\\u3000柯Ｐ：應先維持現狀', '生活', '是否支持廢死？\\u3000柯Ｐ：應先維持現狀', '2016/05/11 15:18', '鄭捷昨晚執行死刑引發外界熱議。台北市長柯文哲今表示，自己沒有特別的意見，但是否支持維持死刑或廢死？因為目前有很高的民意認為應該保留(死刑)，因此他認為「既然民意這樣就暫時這樣吧」。對總統馬英九宣稱520以前不會執法、最後卻破功一事，柯則笑稱「他一定會辯解說，這表示我國的司法是獨立的」。\\xa0柯文哲下午出席國際護師節活動後，被媒體詢問對鄭捷伏法的看法。柯冷冷的說「反正事情就發生了，問我什麼？」，記者再問柯，對鄭捷插隊有何看法？柯反問「這種事還有插隊喔？」對外界批評時間過快，柯再冷回，強調執行順序是法務部決定的，他也不曉得，要記者應該去問羅瑩雪，而不是問他。\\xa0至於是否支持廢死？柯說自己以前已講過很多次，那就是台灣所有公共政策上，(支持反對)比例最懸殊的就是這項，從10幾年前做民調到現在，支持執行死刑最低至少有70%，最高還曾經到85%，「既然民意這樣就暫時這樣吧」。(陳思豪/台北報導)', 1591])\n",
      "59\n",
      "insert into news_entry(link,category,title,time,summary,view_cnt) values(?,?,?,?,?,?)\n",
      "dict_values(['http://www.appledaily.com.tw//realtimenews/article/sports/20160511/858709/【未來事件交易所】NBA總冠軍可能是…', '體育', '【未來事件交易所】NBA總冠軍可能是…', '2016/05/11 15:17', '本內容由未來事件交易所提供\\xa02016 NBA季後賽如火如荼的進行中，第二輪賽事也於5/1登場，七戰四勝制進行到了後段，目前除了例行賽東區強權「騎士」，連續兩個系列賽橫掃對手，靠著強大的團隊戰力以4：0立剋老鷹，全勝挺進東區總決賽外，其餘六支隊伍仍在努力奮戰。勇士第四戰在傷癒歸隊的「100%年度MVP」得主Stephen Curry，狂轟40分的帶領下，系列賽以3:1領先拓荒者率先聽牌；暴龍與熱火系列戰，在兩隊先發中鋒Jonas Valanciunas與Hassan Whiteside雙雙掛點的情況下，目前戰成2:2平手局面。雷霆今日靠著「忍者龜」Russell Westbrook ，35分、11籃板、9助攻準大三元神人表現，連隊友杜蘭特（Kevin Durant）都表示「今晚他就是一個瘋子！」，在決勝節成功逆轉馬刺，以95：91奪下第五戰勝利，系列賽取得3勝2負優勢。「未來運動交易所」在預測市場「2016NBA總冠軍預測」的數據，截至今天(5/11 15:00)最新交易價格，目前是勇士(60.00)暫居龍頭，其次為騎士(39.00)、馬刺(15.00) 。其價格如下：\\xa0表一：2016NBA總冠軍預測球隊最新交易價格(05/11 15:00)金州勇士60.00克里福蘭騎士39.00聖安東尼奧馬刺15.00奧克拉荷馬雷霆5.00多倫多暴龍5.00邁阿密熱火4.90波特蘭拓荒者1.00資料來源：未來事件交易所(2016)現在「未來運動交易所」正在舉辦「This Is Why We Predict 2016NBA季後賽預測競賽」，只要購買NBA全餐就送「威剛科技獨家提供隨身碟」；另外參與季後賽賽事相關預測，還有機會獲得Kobe與Jordan限量絕版公仔，想知道詳細活動辦法嗎？請點\\xa0按我馬上參加！註：照片擷取自金州勇士官網', 1708])\n",
      "60\n",
      "insert into news_entry(link,category,title,time,summary,view_cnt) values(?,?,?,?,?,?)\n",
      "dict_values(['http://www.appledaily.com.tw//realtimenews/article/life/20160511/858688/土航開航杜布羅夫尼克\\u3000前進《冰與火之歌》場景', '生活', '土航開航杜布羅夫尼克 \\u3000前進《冰與火之歌...', '2016/05/11 15:13', '看好東歐旅遊市場日益擴大，土耳其航空即日起開航伊斯坦堡直飛克羅埃西亞杜布羅夫尼克（Dubrovnik）航班，採每周2、4、6三班機直飛。\\xa0瀕臨亞得理亞海的杜布羅夫尼克，為一座有著數百年歷史的界世界遺產古城，也是《冰與火之歌》君臨城大部分場景主要拍攝地之一，特別是登上老城牆，由制高點遠眺成片紅瓦、石牆民宅堆疊出的曠世美景，令人屏息。\\xa0該景點目前也廣受國內旅行社安排，成為浪漫旅遊新景之一，如今土航直飛杜布羅夫尼克，台北直飛伊斯坦堡後銜接遊程更便利，不需至黑山共和國等地拉車前往、或走回頭路，省去不少旅遊時間。目前土航台北至杜布羅夫尼克票價2萬8900元起(稅金1萬4694元)。（齊佑誠/克羅埃西亞報導）\\xa0更多資訊請看吃喝玩樂蘋果花粉絲團\\xa0\\xa0\\n主要街道普拉卡(Placa)大道，石坂路兩側除了可見始建於13~16世紀的教堂、宮殿、噴水池、修道院等古建築，也處處可見露天咖啡館。這座階梯是《冰與火之歌》拍攝場景。為慶祝昨日(5/10)首航，杜布羅夫尼克機場請來傳統舞蹈迎接班機。', 691])\n",
      "61\n",
      "insert into news_entry(link,category,title,time,summary,view_cnt) values(?,?,?,?,?,?)\n",
      "dict_values(['http://www.appledaily.com.tw//realtimenews/article/life/20160511/858691/【央廣RTI】中油估今年營收達6千億', '生活', '【央廣RTI】中油估今年營收達6千億', '2016/05/11 15:10', '本內容由中央廣播電臺提供\\xa0\\xa0 \\xa0 \\xa0 \\xa0中油今天(11日)舉辦「中油70能源高峰論壇」，中油發言人張瑞宗表示，近期國際油價逐步回穩，加上天然氣、多角化經營挹注營收，目前盈餘約新台幣40億元。他也預估，若國際油價穩定，全年營收可望上看6千億元。\\xa0 \\xa0 \\xa0 「中油70能源高峰論壇」11日在台北登場，邀請國內外專家學者就「新能源發展之機會與挑戰」、「天然氣多元化契機與挑戰」及「加油站品牌經營與價值創新」等議題進行演講與交流。中油發言人張瑞宗受訪表示，今年初由於國際油價走低，中油1月虧損新台幣43億元，所幸2月以來，原油價格逐步回穩，再加上天然氣、多角化經營挹注營收，已轉虧為盈。\\xa0 \\xa0 \\xa0 \\xa0張瑞宗表示，由於當前頁岩油生產成本已經降低，若市場價格過低，業者將不敷成本，因此預估國際油價將來到每桶50美元。而今年原油價格若保持在每桶40到50美元水位，或只有微幅波動，中油全年營收將可望上看6000億元。而對於法定全年盈餘目標61億元，他也樂觀看待。\\xa0 \\xa0 \\xa0 \\xa0中油董事長林聖忠則表示，多角化經營是潮流趨勢，中油已有很好的通路，包括旗下的630座直營加油站，還有2000多座民營加油站，因此，未來將努力提升通路價值。(繼續閱讀)', 730])\n",
      "62\n",
      "insert into news_entry(link,category,title,time,summary,view_cnt) values(?,?,?,?,?,?)\n",
      "dict_values(['http://www.appledaily.com.tw//realtimenews/article/local/20160511/858578/【有片】「跟著政府去投資」遭聲請管收\\u3000戴勝通求國賠30億', '社會', '【有片】「跟著政府去投資」遭聲請管收\\u3000戴...', '2016/05/11 15:09', '（更新：新增影片）\\xa0「三勝製帽」2003年赴海地共和國設子公司慘陪，先後向中國輸出入銀行申貸1億餘元仍血本無歸，負責人戴勝通回台創業「跟著董事長遊台灣」，1.5億元貸款本息則由財團法人國際合作發展基金會代償。事後國合會要求戴還債不成，認為他隱匿財產，向法院聲請管收，戴收到台北地院傳票後，今開記者會怒批「我為國家作這麼多，為何還追殺我」，還一度哽咽說：「這10年來，為了國家，我遍體麟傷」，他表示，將向總統府及國合會連帶請求國賠30億元，而這項求償行動，與520新舊政權交接無關。\\xa0三勝2005年自中輸取得1億4800萬元填補公司資金缺口後，因繳不出第2期保證手續費251萬元，造成國合會代償中輸1億5266元，有「帽子大王」之稱三勝董座戴勝通、總經理高堅育等人被控詐欺，2013年間，北檢認為，三勝申貸時財務沒問題，三勝也沒財報不實，事後雖因資力不佳而無法償還貸款，但申貸時並無詐欺意圖，全案已不起訴。\\xa0戴勝通今指出，14年前為了邦交，受總統及政府高層等人之要求而赴海地投資設廠，沒想到隔年當地暴動導致慘賠，投資失利後，他已70多歲，低調返台老年創業，卻二度收到法院的開庭通知，隨時隨地就要被抓去管收，他認為這沒有道理，當年政府要求他前往海地投資，那時他已跳票，但國合會還是協助他向銀行貸款，而國合會是外交部的基金會，負責外交秘密預算，當時海地政府說，若沒人去投資，就要與北京建交，他才答應投資，國合會也認同這投資是為國家外交才協助他。\\xa0戴說：「我沒有欠國家錢，是國家欠我的」，現在名下已無財產，講到激動處，還一度哽咽，戴說，這筆債務不是他欠的，虧損不應由他償還，目前自己為了國家外交遍體鱗傷，也負責近30億，因此將向總統府及國合會提告請求國賠30億元，若獲國賠，全數用來償債，有餘額全數捐公益，戴的律師說，目前還未與總統府協商要求國賠，也尚未向法院遞狀。（劉志原╱台北報導）\\xa0【更多法庭新聞，請看《蘋果陪審團》粉絲團】\\xa0出版時間 13：59更新時間 15：09\\n戴勝通(左)申請國賠記者會。康仲誠攝戴勝通申請國賠記者會。康仲誠攝', 46814])\n",
      "63\n",
      "insert into news_entry(link,category,title,time,summary,view_cnt) values(?,?,?,?,?,?)\n",
      "dict_values(['http://www.appledaily.com.tw//realtimenews/article/international/20160511/858555/【有片】挑戰YouTube\\u3000亞馬遜創影音平台', '國際', '【有片】挑戰YouTube\\u3000亞馬遜創影音...', '2016/05/11 15:08', '（新增動新聞）\\xa0美國網路零售巨擘亞馬遜（Amazon）宣布新成立網路影音平台「Amazon Video Direct」，企圖以潛在獲利分紅模式吸引專業影音工作者。外界分析，亞馬遜不僅在和YouTube搶客戶，最主要的競爭對手還包括網路影音串流業者Netflix。\\xa0亞馬遜表示，所有成功申請成立「Amazon Video Direct」帳戶的用戶，都可選擇未來影音利潤的分享模式，包括：附加廣告免費觀看、收取租借費、付費後永久觀看或透過Amazon Prime Video訂閱。若選擇附加廣告模式，可獲得廣告收入的一半。若選擇租借或販售方式，也可獲得一半金額。\\xa0外界分析，亞馬遜此舉雖看似針對擁有1億用戶、全球最大影音平台YouTube而來，但其實只想挖提供高品質影音的用戶，並非針對一般用戶。投資顧問公司Wedbush Securities分析師帕切特（Michael Pachter）說：「亞馬遜企圖吸引高品質的影音內容。他們希望獲得更多影片，而YouTube的品質要求則較低。」\\xa0專家認為，從Amazon要求申請「Amazon Video Direct」帳戶者，必須提供公司名號以及繳納稅資料等條件可看出，Amazon要的不是一般拍攝貓貓狗狗的影片，而是擁有專業內容但非大型娛樂公司拍攝的影片，企圖和Netflix爭奪這塊影音市場。目前「Amazon Video Direct」只在美國、英國、德國、奧地利及日本推出。\\xa0亞馬遜同時宣布另一項影音新服務，合作對象包括玩具商美泰兒（Mattel）、出版社Conde Nast Entertainment及多媒體集團Mashabled等。（桂家齊／綜合外電報導）\\xa0發稿時間：13:16更新時間：15:08\\xa0更多國際新聞請進蘋果繞著地球爆\\xa0\\n資料照片亞馬遜宣布新成立網路影音平台「Amazon Video Direct」。翻攝網路', 975])\n",
      "64\n",
      "insert into news_entry(link,category,title,time,summary,view_cnt) values(?,?,?,?,?,?)\n",
      "dict_values(['http://www.appledaily.com.tw//realtimenews/article/finance/20160511/858693/農糧署模糊公文\\u3000高雄關放行疑似大陸蒜', '財經', '農糧署模糊公文\\u3000高雄關放行疑似大陸蒜', '2016/05/11 15:08', '立委蘇治芬今天下午帶領一整台遊覽車的蒜農北上財政部抗議，蒜農懷疑從泰國進口的大蒜疑似為中國大陸品種，高雄關昨天卻依然放行，將造成國內蒜價大跌。關務署長莊水吉說，因依據農糧署公文指出，與鑑定小組所蒐集的中國大陸蒜頭樣品外觀比對，非屬所蒐集的大陸蒜品種，請海關逕行判定。\\u200b蒜農昨天早上提告，蘇治芬說，農糧署昨天下午承諾她，因為無法百分百確定是否來自大陸，所以會請海關暫緩放行，等今天早上開完記者會再協調，沒想到海關昨晚就准許押款放行，昨晚已取走兩貨櫃，今天早上取走最後一箱貨櫃。\\xa0關務署解釋，依據海關稅法，廠商繳完３倍價款就可放行。蒜農不滿怒吼飆罵，大蒜市價是每台斤110~130元，這些疑似中國產地，從泰國進口的大陸算進來後，蒜價將跌到1斤百元以下。且根據廠商繳交押款700萬估算，80噸的蒜價等於1公斤才27元。\\xa0蒜農也痛批，99%從泰國進口的蒜都是有問題，幾乎都是從大陸來的，一看就很明顯，農糧署只說與所蒐集的樣本不符，但農糧署沒有收集完整樣本，也不敢百分百確定不是中國品種。\\xa0莊水吉委屈說，海關只是執行單位，能不能放行由農糧署決定，以後會請農糧署公文寫清楚，不要模擬兩可。\\xa0即將接下新財長位子的財政部次長許虞哲隨後也來聽取蒜農陳情，氣氛頓時轉為溫馨祥和，蒜農還紛紛改跟新部長拍照留影，不捨離去。許虞哲也與陳情蒜農達成共識，除了請政風處調查高雄關是否有疏失之外，未來若農糧署公文寫不清楚，將會退給農糧署寫清楚是否可放行。（林巧雁／台北報導）\\xa0\\xa0\\xa0\\n立委蘇治芬舉行反對大陸蒜入台記者會時，為了高雄關將疑似夾帶大陸蒜的東南亞進口蒜頭貨櫃放行，而和財政部關務署通關業務組組長陳金標（左二西裝）、高雄關驗貨課長杲景翔（短襯衫）等官員爆發言語衝突。張良一攝', 568])\n",
      "65\n",
      "insert into news_entry(link,category,title,time,summary,view_cnt) values(?,?,?,?,?,?)\n",
      "dict_values(['http://www.appledaily.com.tw//realtimenews/article/finance/20160511/858695/【科技新報】科學家破解紅蘿蔔基因，解開為何是橘色的謎團', '財經', '【科技新報】科學家破解紅蘿蔔基因，解開為...', '2016/05/11 15:08', '本內容由科技新報TechNews提供\\xa0你喜歡煮過的紅蘿蔔還是搭配生菜沙拉生吃的紅蘿蔔？科學家最近破解了飲食中常見的紅蘿蔔基因，除了解開為何紅蘿蔔為何是橘色的問是之外，透過找到影響維生素 A 含量的關鍵基因，能夠培育出更營養多產的紅蘿蔔品種。\\xa0研究團隊分析紅蘿蔔品種南特 (Nantes) 的基因，發現總共有 32,000 個基因，而蔬果類平均有 3 萬個基因，比人類還要多。紅蘿蔔的橘色外觀來自類胡蘿蔔素，研究者找到導致紅蘿蔔會累積胡蘿蔔素的基因 DCAR_032551。胡蘿蔔素經過轉變會變成維生素 A，能夠保護人類視覺，攝取不足會導致夜盲症。\\xa0「正常來說橘色色素的累積不會發生，」研究團隊之一的威斯康辛大學園藝和基因教授 Phil Simon 說，「如今我們知道是哪個基因造成的，而我們知道如何調整。」\\xa0除了跟維生素 A 相關的基因，研究員也找出跟抗蟲、抗病、抗旱和生產力相關的基因......\\xa0【更多精彩內容請詳科技新報官網】', 631])\n",
      "66\n",
      "insert into news_entry(link,category,title,time,summary,view_cnt) values(?,?,?,?,?,?)\n",
      "dict_values(['http://www.appledaily.com.tw//realtimenews/article/beauty/20160511/858686/男師躺著跟E奶妹運動\\u3000她上上下下讓人「忍不住」', '正妹', '男師躺著跟E奶妹運動\\u3000她上上下下讓人「忍...', '2016/05/11 15:06', '有著E奶好身材的網路紅人「Tiffany Chen」，在臉書PO出自己運動的影片，卻讓大家看得血脈噴張！\\xa0Tiffany這次找來老師陪她一起運動，影片中可見男老師躺在地上，T妹則穿著運動內衣直接正面面對男老師，利用手部力量上升又下降，T妹手都在發抖了。她事後也表示「手真的酸到發抖，老師說因為我太弱，我下次要雪恥加油！」\\xa0網友看了後直呼想跟T妹一起運動，「怎麼受得了」、「這樣沒辦法專心」，甚至還有人說「如果我是教練，超想故意鬆手」、「這樣的運動，我會忍不住」。（盧麗蓮／綜合報導）', 12410])\n",
      "67\n",
      "insert into news_entry(link,category,title,time,summary,view_cnt) values(?,?,?,?,?,?)\n",
      "dict_values(['http://www.appledaily.com.tw//realtimenews/article/local/20160511/858402/遭疑虛擬招募實剝削\\u3000宏達電：嚴格遵守法規', '社會', '遭疑虛擬招募實剝削\\u3000宏達電：嚴格遵守法規', '2016/05/11 15:05', '（更新：新增影片）\\xa0手機大廠宏達電去年大量解雇勞工，最近公司招募員工，2名曾遭解雇員工回聘，今天上午重返公司前，提出薪資不如以往等，抗議宏達電藉由非法解雇，進行實質剝削，宏達電回映：公司嚴格遵守勞動法規，視員工為重要資產，致力保障同仁權益。\\xa0去年8、9月間，宏達電員工趙建輝、黃春安遭解雇，2人隨即籌組桃園市電子產業工會，並分別擔任理事長及監事。2人得知宏達電最近招募員工，依據大量解雇勞工保護法重新回聘，並於今天上午重回宏達電上班。\\xa0趙建輝、黃春安今天上午與支持民眾前往宏達電公司前抗議，趙建輝指稱，事業單位大量解雇勞工再雇用工作性質相同的勞工，除法令另有規定，應優先雇用經其大量解雇的勞工。公司去年大量解雇勞工，最近大量應徵勞工，卻沒有優先照顧之前解雇的員工，且再度回聘後，薪資不如從前，認為公司利用非法裁員，進行剝削本勞。\\xa0宏達電表示：公司一向嚴格遵守勞動法規，視員工為重要資產，致力保障同仁權益；同時也透過持續檢視人力資源配置，促使營運更有效率運作，提升企業核心競爭力。（突發中心石明啟／桃園報導）\\xa0發稿時間：10：35更新時間：15：05\\xa0\\n宏達電回聘員工重返前持標語抗議。石明啟攝回聘員工在公司大門口抗議。石明啟攝宏達電回聘員工出示公司招徵才資訊。石明啟攝', 2432])\n",
      "68\n",
      "insert into news_entry(link,category,title,time,summary,view_cnt) values(?,?,?,?,?,?)\n",
      "dict_values(['http://www.appledaily.com.tw//realtimenews/article/nextmag/20160511/858648/【壹週刊】建商都更大讓利\\u30001坪換2.5坪', '壹週刊', '【壹週刊】建商都更大讓利 \\u30001坪換2.5...', '2016/05/11 15:05', '「文林苑」案之後，許多建商對都更案都興趣缺缺，但在位在汀州路上的「太平洋之森」都更案，卻在11號舉辦完銷慶功宴，建商之所以可以順利取得1300多坪土地，是因為大讓利。\\xa0一般都更戶約是一坪換一坪，但住戶與建商談判時要求，都更後的使用空間必需有30坪，加上30%公設比後，太平洋建設承諾分給每個都更戶45坪，外加一個車位，換算下來，等於每坪可換2.5坪，以該案每坪均價80萬元計算，每個住戶都有4000萬元身價。（撰文：高迪、拍攝、剪接：楊弘熙）\\xa0更多其他壹週刊內容請點我\\n位在汀州路一段的「太平洋之森」，每坪均價80萬元，符合區域行情，3個月就完銷。（攝影：楊弘熙）', 1687])\n",
      "69\n",
      "insert into news_entry(link,category,title,time,summary,view_cnt) values(?,?,?,?,?,?)\n",
      "dict_values(['http://www.appledaily.com.tw//realtimenews/article/local/20160511/858572/【有片】翁啟惠昨請辭獲准\\u3000今再遭檢調約談', '社會', '【有片】翁啟惠昨請辭獲准\\u3000今再遭檢調約談', '2016/05/11 15:03', '(更新：新增影片)剛請辭獲准的前中研院長翁啟惠，今天又因浩鼎案再被檢調約談，目前他人已進入台北市市調處，預計下午4點移送士林地檢署複訊。\\xa0據了解，檢調原定明、後天要再度約談翁啟惠、浩鼎董事長張念慈，沒想到這2人今早就自行到市調處應訊。\\xa0昨天才被總統馬英九批准辭去中研院院長一職的翁啟惠，因為捲入浩鼎案而於上個月21日遭檢調約談，檢調認為，中研院將生技技術轉移給浩鼎，翁啟惠卻隱匿女兒持有浩鼎股票，其中疑涉行收賄，且檢調另發現，翁啟惠讓潤雅生技公司在與中研院合作前， 就參觀中研院實驗室，並由研究員為潤雅簡報，但雙方最後並未合作，認為他恐另涉背信罪。\\xa0據悉翁啟惠應訊表示，女兒認股浩鼎的9300多萬元，是他們夫妻贈與，他強調，自己從事研究多年，有能力支付這筆費用，且他為免女兒受到損失而協助管理股票，並無不法，至於讓潤雅人員參觀中研院研究室，也未違法，當時檢方僅將他限制出境，並未有交保等強制處分。\\xa0由於翁啟惠日前已將相關資金證明呈報檢調，預計今天檢調將就他贈與女兒資金來源進行了解。（法庭中心／台北報導）\\xa0出版時間 12:59修改時間 15:03\\n翁啟惠。資料照片', 23251])\n",
      "70\n",
      "insert into news_entry(link,category,title,time,summary,view_cnt) values(?,?,?,?,?,?)\n",
      "dict_values(['http://www.appledaily.com.tw//realtimenews/article/entertainment/20160511/858643/華仔愛女4歲生日趴\\u3000朱麗倩藏肚神隱', '娛樂', '華仔愛女4歲生日趴\\u3000朱麗倩藏肚神隱', '2016/05/11 15:03', '劉德華（華仔）愛女劉向蕙前天（9日）過4歲生日，他一改低調，為她舉行生日趴，邀幼稚園同學與家長同樂。衝著天王名號，小朋友與家長出席踴躍，從流出的大合照看來，至少有5、60人，會場布置迪士尼公主氣球，華仔抱著小向蕙站中間，桌上放著五彩繽紛的蛋糕；小向蕙穿著藍色連身裙，笑得燦爛。\\xa0當天現場未見華仔老婆朱麗倩，50歲的她日前傳出懷第2胎，雖然華仔未正面承認，但從她缺席女兒慶生會看來，因懷孕不便露面的可能性很大。（吳惠菁／綜合報導）\\xa0\\n劉德華邀請女兒幼稚園的同學與家長同樂，現場熱鬧非凡。翻攝時上時時上微博50歲朱麗倩（右）日前被拍到大腹便便。翻攝壹週Plus', 10920])\n",
      "71\n",
      "insert into news_entry(link,category,title,time,summary,view_cnt) values(?,?,?,?,?,?)\n",
      "dict_values(['http://www.appledaily.com.tw//realtimenews/article/politics/20160511/858685/陳菊愛將蔡清華\\u3000接任教育部政次', '政治', '陳菊愛將蔡清華\\u3000接任教育部政次', '2016/05/11 15:02', '新政府教育部三巨頭到齊。根據《自由時報》報導，中山大學退休教授轉任文藻大學副校長的蔡清華將接任教育部政次。\\xa0蔡清華曾擔任高雄市教育局長，為高雄市長陳菊重用的人士，專長為比較教育，與綠營、教育界人脈關係良好，接任教育部政次外界表示不意外。(葉國吏/綜合報導)', 1785])\n",
      "72\n",
      "insert into news_entry(link,category,title,time,summary,view_cnt) values(?,?,?,?,?,?)\n",
      "dict_values(['http://www.appledaily.com.tw//realtimenews/article/entertainment/20160511/858574/寫真妹首戰AV\\u3000嬌嗔搞到肌肉痠痛', '娛樂', '寫真妹首戰AV\\u3000嬌嗔搞到肌肉痠痛', '2016/05/11 15:00', '日本G奶寫真女星高崎聖子，改名為高橋翔子拍AV轟動業界，還在報紙開專欄。她透露拍攝AV處女作時，一開始只是打扮美美擺pose，和寫真女星的工作沒兩樣，所以一點都不緊張，但男優登場後，她不知如何是好，還好靠男方引導，才安心完成拍攝。\\xa0她說：「被愛撫、揉胸部後，感覺越來越棒，也漸漸不緊張。第一次跟男優愛愛，被引導地很舒服，對著鏡頭表演很多體位，蠻令人害羞的。雖然隔天肌肉痠痛，但拍攝過程很愉快。」她下月2日將首度推出裸體露毛寫真集，目前高居日本Amazon網站藝人寫真集預購榜第3名。（吳惠菁／綜合報導）', 8233])\n",
      "73\n",
      "insert into news_entry(link,category,title,time,summary,view_cnt) values(?,?,?,?,?,?)\n",
      "dict_values(['http://www.appledaily.com.tw//realtimenews/article/fashion/20160511/858605/鞏俐李冰冰機場裝\\u3000簡約就時尚', '時尚', '鞏俐李冰冰機場裝\\u3000簡約就時尚', '2016/05/11 15:00', '第69屆坎城影展即將開幕，隨官方贊助商「巴黎歐萊雅」出席的鞏俐、李冰冰也在當地時間5月10日現身機場，大批粉絲接機只為爭睹天后們風采。\\xa0鞏俐、李冰冰的機場裝扮，有志一同的皆以簡約裝束現身。鞏俐身穿白襯衫搭配白色休閒褲腳踩McCartney厚底鞋，提著路易威登（LV）包包，而李冰冰則是身穿Jil Sander印花西裝配戴Dior split墨鏡，腳踩adidas Originals布鞋，兩人皆沒有用過多色彩點綴，但天后氣場仍是藏不住。（林品宜／綜合報導）\\xa0\\n李冰冰身穿Jil Sander印花西裝配戴Dior split墨鏡，腳踩adidas Originals布鞋。鞏俐身穿白襯衫搭配白色休閒褲腳踩McCartney厚底鞋。McCartney厚底鞋。翻攝自品牌官網', 1505])\n",
      "74\n",
      "insert into news_entry(link,category,title,time,summary,view_cnt) values(?,?,?,?,?,?)\n",
      "dict_values(['http://www.appledaily.com.tw//realtimenews/article/life/20160511/858649/即期藥改標再賣\\u3000醫師：恐讓病情更嚴重', '生活', '即期藥改標再賣\\u3000醫師：恐讓病情更嚴重', '2016/05/11 15:00', '彰化縣彰化市的GMP藥廠的大豐製藥股份有限公司，涉嫌改換藥品包裝等不法，彰化縣衛生局秘書蕭惠玲表示，昨日配合檢調到彰化市大豐製藥公司搜索，在一旁鐵皮屋內的桌上當場查獲167瓶涉嫌改標的抗黴菌液，以及548個瓶身標籤及469個空盒，現場馬上封存。\\xa0蕭惠玲表示，業者是供稱下游廠商反映抗黴菌液的外包裝損毀，才會寄回公司更改包裝，否認有重新換標、更改有效日期的情事。\\xa0蕭惠玲說，只要藥品一出廠，就不可以更換包裝或是塗改、更換有效日期，違者有涉嫌違反《藥事法》第20條規定，可處十年以下有期徒刑，得併科一億元以下罰金。\\xa0蕭惠玲說，現場還發現有其他不明藥品在場，懷疑不只一個商品被更改有效日期，將報請地檢署深入追查。\\xa0彰基皮膚科主治醫師邱足滿表示，使用過期藥品，一來可能因超過保存期限，致使效力減低或是無效。二來可能還未因為藥品變質，導致出現接觸性皮膚炎，出現紅腫、發癢甚至發炎的情況，致使病情更加惡化。 (詹智淵╱彰化報導）\\xa0\\n【想知道更多，一定要看……】GMP藥廠幹黑心事\\u3000即期藥改標再賣稽查人員查獲私下標籤的瓶身。翻攝照片桌上有大批新標籤。翻攝照片一旁紙箱內有大批標籤。翻攝照片外包紙盒的新標籤。翻攝照片大豐表示是更換新包裝。翻攝照片', 681])\n",
      "75\n",
      "insert into news_entry(link,category,title,time,summary,view_cnt) values(?,?,?,?,?,?)\n",
      "dict_values(['http://www.appledaily.com.tw//realtimenews/article/nextmag/20160511/858673/【壹週刊】拒當餓死鬼殺人魔鄭捷定讞19天三槍伏法', '壹週刊', '【壹週刊】拒當餓死鬼 殺人魔鄭捷定讞19...', '2016/05/11 15:00', '碰碰碰！有聽到槍聲沒，前年在台北捷運犯下4死22受傷的鄭捷被槍決了。\\xa0啊，這早就要彈掉，這摳鄭捷根本是俗仔，連法醫問他是否要打麻藥，鄭捷一聽到就說：「要！」，法醫還問是否怕痛，鄭捷竟然點頭，難道他殺人的時候都沒想到那些無辜的被害人會痛。\\xa0鄭捷被判死刑，在看守所不用去工廠工作，還跟獄友分享殺人經驗，嚇得對方要求換牢房，他每天還有半小時放風打籃球，看起來很開心，其他時間幾乎都在看科幻小說、發呆，身材明顯發福，這些花的都是納歲人的錢ㄟ。\\xa0鄭捷的嘴很刁，不但會嫌看守所飯菜難吃，每天還拿著父母寄給他的零用金買泡麵或罐頭吃，連要死之前，看守所還要花錢買滷肉便當給他吃最後一餐，很多混黑道的死刑犯都吃不下去這頓，但是鄭捷不當餓死鬼，最後一頓不但幾乎把便當吃光，不知是否太緊張，還是怕死，還一直說口渴，要討水喝。\\xa0聽說鄭捷挨3槍撐6分鐘才死，屍體由葬儀社送到殯儀館冰存，醫院也不要死刑犯的器官捐贈了。被害人家屬聽到鄭捷槍決，都認為這才是正義，連執行的檢察官錢漢良也寫紙條說：「法律的精神在於社會正義，而正義是基於良知的正道，正道的理想必須能夠具體實現，社會正義才有落實的可能。」\\xa0撰文：林俊宏', 11175])\n",
      "76\n",
      "insert into news_entry(link,category,title,time,summary,view_cnt) values(?,?,?,?,?,?)\n",
      "dict_values(['http://www.appledaily.com.tw//realtimenews/article/international/20160511/858682/【央廣RTI】爭取總統提名桑德斯：奮戰到底無意退選', '國際', '【央廣RTI】爭取總統提名  桑德斯：奮...', '2016/05/11 15:00', '本內容由中央廣播電臺提供\\xa0\\xa0 \\xa0 \\xa0 \\xa0美國民主黨聯邦參議員桑德斯(Bernie Sanders)10日在贏得黨內西維吉尼亞州總統提名初選之後表示，他將會奮戰到底，他無意退選。這位佛蒙特州參議員表示，即使對手希拉蕊(Hillary Clinton)距離獲得提名所需要的2,383代表人票只差145票，但他並沒有計劃要退出這場選戰。\\xa0 \\xa0 \\xa0 \\xa0不過，桑德斯在奧勒岡州賽勒姆(Salem)舉行的造勢大會中也坦承，他的路已經越走越窄，但表示他慣於逆境作戰，聲稱自己是打敗可能成為共和黨總統提名人川普(Donald Trump)的最佳人選，並說他仍有希望贏得多數的黨代表人票。但桑德斯若想贏得黨內提名，必須取得86%的剩餘代表人票。截至目前，他只贏得40%。(繼續閱讀)', 288])\n",
      "77\n",
      "insert into news_entry(link,category,title,time,summary,view_cnt) values(?,?,?,?,?,?)\n",
      "dict_values(['http://www.appledaily.com.tw//realtimenews/article/life/20160511/858668/台灣成功養殖大西洋鮭魚魚苗\\u3000首批長逾20公分', '生活', '台灣成功養殖大西洋鮭魚魚苗\\u3000首批長逾20...', '2016/05/11 14:59', '漁業署今公布台灣首批養殖成功的大西洋鮭魚魚苗！漁業署表示，大西洋鮭魚最適合溫度為攝氏6至16度，在受精卵孵化及幼魚時期生活於淡水環境，銀化過程後至海水環境成長，主要分布於北大西洋沿岸，包括北美洲東岸，格蘭陵島及歐洲沿海地區，屬冷水性魚類。漁業署委託國立台灣海洋大學與高雄海洋科技大學研發團隊執行冷水性魚類繁殖技術開發計畫後，成功在台灣建立大西洋鮭魚的孵化與育苗技術。\\xa0漁業署說，台灣近3年鮭魚進口量平均2萬公噸，國內市場批發價為每公斤200至250元，未來養殖成功，台灣即可吃到國人自己養殖的大西洋鮭魚，減少進口鮭魚的二氧化碳排放。\\xa0台灣海洋大學副教授冉繁華說，過去台灣從沒有人成功建立大黑洋鮭魚養殖技術，這次透過與雪霸國家公園台灣櫻花鉤吻鮭生態中心、海洋科技博物館潮境海洋中心合作，成功建立台灣首例大西洋鮭魚受精卵孵化與魚苗銀化養殖技術，目前幼魚已養殖至20公分以上，未來將進一步利用中油永安液化氣廠的冷排水，營造適合鮭魚的養殖環境。（戴安瑋／台北報導）\\xa0\\n台灣首批成功養殖大西洋鮭魚魚苗。戴安瑋攝', 1307])\n",
      "78\n",
      "insert into news_entry(link,category,title,time,summary,view_cnt) values(?,?,?,?,?,?)\n",
      "dict_values(['http://www.appledaily.com.tw//realtimenews/article/local/20160511/858672/世新漲學費公聽會動粗趕學生\\u3000洪崇晏批程序不完備', '社會', '世新漲學費公聽會動粗趕學生\\u3000洪崇晏批程序...', '2016/05/11 14:59', '世新大學今天下午一點舉行的「學雜費調整公開說明會」，因校方遲在說明會前一週的星期五才公布資訊，引起部分學生反彈，下午公聽會現場，校方更粗暴動手驅離抗議學生。\\xa0校友呂曜舜在臉書貼上公聽會現場影片，校方人員大喊：「請出去！」學生則回應：「請不要動手好不好！我們只是表達我們的意見！」「為什麼要動手！」接著校方人士強行推離抗議學生離開，一名抗議女學生甚至大叫，仍遭推擠出場。\\xa0曾發起包圍中正一分局活動的世新大學社發所學生洪崇晏（綽號八六）表示，校方今天臨時舉行學雜費調整公聽會，卻無依照教育部規定公告應告知全校學生，根本「程序不完備」，且公聽會現場僅高呼口號，卻遭到校方咆哮、搶布條，甚至奪下麥克風，影片中被拖行的女子是世新勞權小組的聲援學生，仍遭校方如此粗暴對待。\\xa0世新大學公共事務處表示，學校在今天下午一點召開調漲學費的說明會，由副校長陳清河主持，世新大學社發所學生洪崇晏帶領的學生勞動權益小組，約10多名學生在教室後方拉開黑布條，抗議校方欲調漲學費。 因學生持大聲公抗議，聲量太大讓說明會無法進行，體育組長何正峰在請抗議學生出場時，爆發肢體衝突，隨後副校長宣布說明會中止。（突發中心／台北報導）\\xa0\\xa0\\xa0\\n抗議學生洪崇晏遭校方動手驅離（翻攝畫面）洪崇晏被校方強行驅離出場（翻攝畫面）前往聲援的女學生也遭人推離（翻攝畫面）校方將人推出場外（翻攝畫面）', 674])\n",
      "79\n",
      "insert into news_entry(link,category,title,time,summary,view_cnt) values(?,?,?,?,?,?)\n",
      "dict_values(['http://www.appledaily.com.tw//realtimenews/article/beauty/20160511/858660/最正計程車運將拍寫真\\u3000泳裝照令人噴鼻血', '正妹', '最正計程車運將拍寫真\\u3000泳裝照令人噴鼻血', '2016/05/11 14:58', '計程車司機如果是個大正妹，你會不會想天天叫車呢？\\xa0目前24歲的正妹模特兒生田佳那，因緣際會下參加了計程車公司的培訓計畫，意外通過了錄取率僅2成的考試，成為正式的計程車司機，目前已開車上路1年半，還常在推特分享開車照片。\\xa0日前生田佳那幫日本雜誌「週刊プレイボーイ」拍攝性感寫真集，一連串比基尼照片秀出姣好身材，讓不少讀者看了大噴鼻血，生田佳那接受訪問時說，即使穿著計程車司機制服，也有很多人不相信她就是計程車司機，還會問「是在Cosplay嗎？」，她也透露雖然不是第一次拍寫真，但「半裸」姿態還是令她難為情，還有一套沒有肩帶的服裝，讓她一直擔心胸部「快掉出來了」（張鈜閔／綜合報導）\\xa0\\n翻攝自ertk翻攝自ertk翻攝自ertk翻攝自ertk翻攝自生田佳那推特翻攝自生田佳那推特', 8249])\n",
      "80\n",
      "insert into news_entry(link,category,title,time,summary,view_cnt) values(?,?,?,?,?,?)\n",
      "dict_values(['http://www.appledaily.com.tw//realtimenews/article/finance/20160511/858681/Google：並無於彰濱成立研發中心計劃', '財經', 'Google：並無於彰濱成立研發中心計劃', '2016/05/11 14:58', '針對今日媒體報導指出Google將於彰濱成立研發中心以及資料中心擴建計劃等細節，Google的官方聲明如下：\\xa0針對增設研發中心，Google表示：「我們於2006年在台北成立研發中心以來，團隊仍持續穩健成長，目前並無在台灣其他地區成立研發中心的計劃。」\\xa0針對擴建資料中心，Google重申：「我們於台灣擴建資料中心的計劃未曾改變。兩年多前Google啟用台灣資料中心之際，我們便承諾長期投入Google台灣資料中心，相關團隊和設施至今仍不斷成長。未來若有更新的相關資訊，我們將會進一步分享。」（蕭文康／台北報導）', 1167])\n",
      "81\n",
      "insert into news_entry(link,category,title,time,summary,view_cnt) values(?,?,?,?,?,?)\n",
      "dict_values(['http://www.appledaily.com.tw//realtimenews/article/sports/20160511/858678/美國職棒今日比賽結果', '體育', '美國職棒今日比賽結果', '2016/05/11 14:57', 'Your browser does not support iframes.\\xa0美國聯盟洋基(主)10：7皇家紅襪(主)13：5運動家遊騎兵(主)13：11白襪金鶯(客)5：3雙城印地安人(客)4：0太空人水手(主)6：4巨人\\xa0國家聯盟釀酒人(客)10：2馬林魚費城人(客)3：2勇士小熊(主)8：7教士響尾蛇(客)5：1落磯道奇(主)3：2大都會\\xa0跨聯盟老虎(客)5：4國民紅雀(客)8：1天使藍鳥(客)4：0巨人\\xa0（記者楊逸民／製表）註：紅人vs.海盜之戰因雨延賽※資料來源：大聯盟官網', 1705])\n",
      "82\n",
      "insert into news_entry(link,category,title,time,summary,view_cnt) values(?,?,?,?,?,?)\n",
      "dict_values(['http://www.appledaily.com.tw//realtimenews/article/life/20160511/858680/【今周刊】保險理賠糾紛保險公司沒說的秘密', '生活', '【今周刊】保險理賠糾紛 保險公司沒說的秘...', '2016/05/11 14:57', '本內容由今周刊官網提供\\xa0「這樣的理賠結果，我完全不能接受，非常、非常不合理；尤其，原本以為可以理賠，但後來卻完全不行，當下真是氣炸了，有被騙的感覺！」\\xa035歲的余小葳（化名），在金融業服務超過10年，對理財、保險規畫向來很有想法，4年多前，她就加強了醫療險，但她沒料到，業務員說好可以理賠的內容，最後卻不是那一回事。\\xa0「我經常中耳發炎積水，醫師建議做中耳炎引流手術；保險業務員告訴我，門診手術可給付1萬元。」余小葳講起這段往事，還是一肚子火，「投保的公司在還沒被合併前，同樣是引流手術，理賠申請都沒問題；不料合併後，保險公司就拒賠了。」\\xa0原來，業務員主動幫余小葳申請理賠後，保險公司承辦人員告訴他，引流手術在健保認定是處置治療、而非手術；換言之，在保險公司的認定裡，這根本不是門診手術，自然不會給付理賠金。\\xa0保單大不同\\xa0 投保看清楚\\xa0余小葳的業務員李先生解釋，現行健保制度下，不少人以為是手術的項目，已多改為處置，如果保險公司照此認定，就會有愈來愈多雙方認知不同的爭議產生，「隨著醫學進步，新形態手術若不在健保涵蓋項目內，也容易出現理賠糾紛，此時就要看各家保險公司條款內容，或有無開放給付。」\\xa0金融消費評議中心資料顯示，人壽保險5大理賠爭議類型中，高居榜首的正是「必要性醫療」，申訴及申請評議件數，約占17%；其次是事故發生原因認定約9%；殘廢等級認定8.7%、理賠金額認定8.2%；投保時已患疾病或在妊娠中約占7%；其他像是手術認定、違反告知義務、除外責任、癌症或其併發症認定，及承保範圍，申訴比率也不低。（閱讀更多）\\xa0延伸閱讀\\xa0新制重大疾病險 投保攻略大公開\\u3000第8件事： 用年輕的自己養年老的自己\\n避免必要性醫療爭議的有效做法，是將醫療資料準備齊全，包括「診斷證明、完整病例，及住院期間護理紀錄」。', 1387])\n",
      "83\n",
      "insert into news_entry(link,category,title,time,summary,view_cnt) values(?,?,?,?,?,?)\n",
      "dict_values(['http://www.appledaily.com.tw//realtimenews/article/finance/20160511/858667/優你康新品量產\\u3000歐洲代工業績看增2倍', '財經', '優你康新品量產\\u3000歐洲代工業績看增2倍', '2016/05/11 14:55', '隱型眼鏡供應商優你康〈4150〉表示，公司製造新一代矽水膠技術純熟，月拋良率提升，已邁入大量生產階段，預計第3季開始出貨。總經理顏萬春表示，隨著產品線逐步完整，有助讓歐洲代工業績提升2倍，另外，中國市場今年第4季也將導入新品，年底可望貢獻業績。\\xa0優你康主要為國際品牌代工隱形眼鏡，外銷至日本、中國、東南亞、歐洲、加拿大、紐澳等地，此外，也幫日本Hello kitty品牌製作出有可愛Hello Kitty圖案的獨特彩片，深受亞洲女性喜愛，銷量甚佳，目前日本代工的佔比高達7成。\\xa0優你康財務長張通義表示，今年優你康製造新一代矽水膠技術純熟，月拋良率提升，已邁入大量生產階段，下季開始出貨，目標鎖定歐洲及中國市場，希望新一 代矽水膠日、月拋及矽水膠散光日、月拋領軍，將代工佔比不到10％的歐洲及中國，擴大到20％。(江俞庭／台北報導)', 276])\n",
      "84\n",
      "insert into news_entry(link,category,title,time,summary,view_cnt) values(?,?,?,?,?,?)\n",
      "dict_values(['http://www.appledaily.com.tw//realtimenews/article/property/20160511/858502/建案完銷慶功\\u3000竟送住戶這個', '地產', '建案完銷慶功\\u3000 竟送住戶這個', '2016/05/11 14:53', '還沒正式公開就賣光的「太平洋之森」，今舉辦慶功記者會，高齡94歲的太平洋集團總裁章民強亦出席，章民強表示，多年整合後能圓滿銷售成功，是一件很不容易的事情，也說明好地段、好規劃及好的商品、公道的價錢，就能得到消費者的肯定。\\xa0太設總經理章啟明指出，太設為此案付出相當心力，整合過程與原住戶建立相當情感，甚至為住戶出版《老家的，畢業紀念冊》，內容詳載住戶的故事，及整合過程中的小插曲，並拍攝微電影。\\xa0負責銷售此案的聯碩地產3月成功完銷「Trump Park」、4月則完成「太平洋之森」銷售，成績斐然。該公司總經理史碩綱透露，6~10月已陸續接下台北市5案，總銷售金額約45億元。（詹宜軒／台北報導）\\xa0「蘋果掀房事」每周三中午12點半，午餐加好料更多房地產新聞，請參考蘋果地產王粉絲團\\xa0\\xa0\\n太設總經理章啟明秀出為都更戶製作的《老家的，畢業紀念冊》。詹宜軒攝高齡94歲的太平洋集團總裁章民強，親自出席建案慶功記者會。林琨凱攝', 3786])\n",
      "85\n",
      "insert into news_entry(link,category,title,time,summary,view_cnt) values(?,?,?,?,?,?)\n",
      "dict_values(['http://www.appledaily.com.tw//realtimenews/article/local/20160511/858636/被燈桿砸中躺路邊\\u3000多人經過「看一眼」', '社會', '被燈桿砸中躺路邊\\u3000多人經過「看一眼」', '2016/05/11 14:53', '（更新：新增影片）\\xa0高市左營區民族路昨早發生一起車禍，一輛砂石車拖倒路燈，燈桿子砸中2台機車，造成2人輕傷，意外發生時，傷者昏躺地面無法起身，不少騎士從旁經過好奇察看，卻都無人停車協助，直到警方趕到才將傷者送醫，這段畫面被上傳網路，令人感慨。\\xa0昨早7時左右，徐姓司機（50歲）駕駛的砂石車，卸貨後，疑因車斗未放下，在左營區民族路段撞斷分隔島上告示牌及路燈。\\xa0當時陳姓（24歲）騎士被扯斷路燈桿子砸中機車，當場摔出，一度昏躺地上，嚇壞不少用路人，另沈姓女騎士（34歲）則是被電線扯到摔車，所幸2人僅皮肉傷。\\xa0在電子公司上班的謝姓市民（38歲）當時也騎機車，離砂石車後方不遠處，他先聽到「砰」的聲響，接著看到路燈及告示牌被扯落，謝追上前，告訴徐姓司機「你撞到人了」，再趕去上班。\\xa0謝事後將行車紀錄器錄下的部份過程PO網。他說，當時心想，如果再騎快一點，搞不好倒在地上的就是他，謝騎民族路上班已2年，看到路燈被扯斷，想來還是覺得不可思議。\\xa0警方說，接獲民眾報案到場，但不知是誰報案，肇事責任還待鑑定，不過光賠償路燈及告示牌，初估就超過80萬元。（湯寶隆／高雄報導）\\xa0出版時間：14:40更新時間：14:53\\n陳姓騎士當場昏厥，躺臥馬路，後方騎士有的嚇得不敢往前。翻攝畫面陳姓騎士昏摔馬路，有騎士陸續從旁騎過。翻攝畫面砂石車因車斗未放下釀禍。翻攝畫面安全島的告示牌被扯斷，看來頗為嚇人。翻攝畫面砂車車扯斷安全島的告示牌，讓民族路的交通一度混亂。翻攝畫面', 5909])\n",
      "86\n",
      "insert into news_entry(link,category,title,time,summary,view_cnt) values(?,?,?,?,?,?)\n",
      "dict_values(['http://www.appledaily.com.tw//realtimenews/article/international/20160511/858576/【有片】受困小島\\u3000懼高男不上直升機「寧願待著」', '國際', '【有片】受困小島\\u3000懼高男不上直升機「寧願...', '2016/05/11 14:51', '美國紐約一對夫婦自行開船前往布魯克林（Brooklyn）附近的一座小島旅遊，結果被困在島上一天一夜，靠著警方派出直升機才成功救回。\\xa0美國哥倫比亞廣播公司（CBS）報導，50歲的李珍妮（Jenny Ly）和52歲的丈夫漢恩（Kevin Huynh）周一搭著船隻前往牙買加灣（Jamaica Bay）一座小島，不料船隻擱淺，夫婦倆就這麼受困在小島上整整一天一夜，超過24小時。隔天其他船的人經過發現夫婦倆，才趕緊報警呼救。紐約警方派出空中單位－直升機到現場支援，在周二下午2時04分將他們救起。\\xa0但是由於漢恩患有懼高症，整個援救過程一度顯得棘手：「他們先把我太太救上去，我跟警察說，我怕高，我要留下來。但他們說：『你一定得走！』」，漢恩只好閉著雙眼上被救上直升機，還直說這過程比被困在島上本身還恐怖。（北美中心／綜合外電報導）\\n警察出動直升機搜救。翻攝紐約警方漢恩夫婦在紐約小島上受困超過一天。翻攝紐約警方漢恩接受記者訪問，直說上直升機比受困小島可怕。翻攝CBS', 1863])\n",
      "87\n",
      "insert into news_entry(link,category,title,time,summary,view_cnt) values(?,?,?,?,?,?)\n",
      "dict_values(['http://www.appledaily.com.tw//realtimenews/article/sports/20160511/858653/首度公開\\u3000奧運台灣奪金基地探女力士郭婞淳', '體育', '首度公開\\u3000奧運台灣奪金基地探女力士郭婞淳', '2016/05/11 14:48', '台灣女子舉重好手郭婞淳，是今年巴西奧運重點奪金選手，在備戰奧運之餘，她也不忘回饋家鄉母校台東體中，從2013年起她每年捐贈母校10萬元，還額外自掏腰包幫助像她一樣努力訓練、目標放眼奧運的學弟妹，她說：「透過這種方式，讓我更珍惜現在的舞台，我的目標很清楚，就是奧運金牌。」\\xa0郭婞淳是阿美族與布農族「混血」，身長在單親家庭的她家境不算充裕，但今年初才捐贈澎湖馬公天主教靈醫會惠民醫院一台價值超過百萬的救護車，私底下的她個性節儉，教練林敬能說：「她(郭婞淳)全身上下幾乎沒有一樣東西是自己花錢買的，但是學弟妹只要沒鞋穿，一雙3、4000元的鞋子她眼睛都不眨一下就買下來送他們，現在很少有像她這樣心地這麼善良的小孩了。」\\xa0對於自己的善行，郭婞淳揮揮手說：「這沒什麼。」自己這麼節省，卻對學弟妹這麼大方？她說：「很多學弟妹的家境都不好，有時候我回去看到他們鞋子都穿到破洞也沒錢換，既然我有能力就幫助他們，而且看到他們努力訓練的背影，會讓我格外珍惜現在的舞台。」\\xa0郭婞淳2013年在舉重國際戰場上席捲4金，被譽為仁川亞運金牌大熱門，不料大賽前夕她因右大腿肌肉撕裂，亞運奪金夢碎，直到今年烏茲別克的亞洲舉重錦標賽她再次舉金，才找回自信，不過她透露，每天訓練她都是對著鏡子不斷自我催眠，她笑說：「因為鏡子會反射，我對著鏡子裡的人說要堅強，她(自己)就會對著我說要堅強。」（龍柏安／高雄報導）\\n郭婞淳習慣與鏡子裡的自己對話加油打氣。游智勝攝郭婞淳筆記自己的訓練課程。游智勝攝', 444])\n",
      "88\n",
      "insert into news_entry(link,category,title,time,summary,view_cnt) values(?,?,?,?,?,?)\n",
      "dict_values(['http://www.appledaily.com.tw//realtimenews/article/international/20160511/858656/習近平訪英多無禮？\\u3000英警官不肯說', '國際', '習近平訪英多無禮？\\u3000英警官不肯說', '2016/05/11 14:48', \"英女王接見倫敦警察廳指揮官朵爾西（Lucy D'Orsi），雙方都忍不住抱怨中國國家主席習近平伉儷去年訪英的種種麻煩。朵爾西之後被媒體追訪，她不願透漏習近平訪英時究竟發生什麼事。\\xa0朵爾西向媒體強調，她和女王只是談及當職業婦女的苦惱。她說：「她（女王）感謝我在中國國是訪問期間作出的所有努力，這對我來說相當鼓舞。」白金漢宮發言人則說：「我們對英女皇的私人對話不予置評。不過中國國是訪問非常成功，各方緊密合作確保一切順利。」\\xa0根據先前曝光的談話影片，朵爾西向女王抱怨，習近平伉儷訪英期間對英國駐中大使吳百納（Barbara Woodward）十分無禮。當時朵爾西說：「他們真的……嗯，她真的是（非常無禮），吳百納當然與我在一起，他們突然拋下我們兩個離開。」英女王回說：「匪夷所思！」朵爾西說：「這是非常無禮及非常不符外交禮節，我認為。」\\xa0目前外界無法得知習近平夫婦和英國官員在蘭卡斯特宮外發生何事，奧爾西事後受訪時也沒再提及事件。（國際中心／綜合外電報導）\\xa0\\xa0更多國際新聞請進蘋果繞著地球爆\\xa0\\n【想知道更多，一定要看……】【有片】接待習近平「真倒楣」\\u3000英女王批中國言論曝光習近平訪英「無禮事件」\\u3000當天威廉夫妻.成龍作陪\", 2706])\n",
      "89\n",
      "insert into news_entry(link,category,title,time,summary,view_cnt) values(?,?,?,?,?,?)\n",
      "dict_values(['http://www.appledaily.com.tw//realtimenews/article/life/20160511/858664/台大研究：台婦女生育率已止跌反彈', '生活', '台大研究：台婦女生育率已止跌反彈', '2016/05/11 14:46', '少子化對台灣造成嚴重衝擊，根據台灣大學研究顯示，台灣婦女生育總量隨世代演替而穩定遞減，1970至1980年代出生的女性，其生育步調不但起步晚，完成生育數量也拖延較長時間，反倒是1980年後年輕世代雖晚生育，但因為政府政策支持反而迎頭趕上，學者指最低生育結果可能出現在1970至1980年代出生女性，台灣婦女生育率已出現止跌反彈。\\xa0在科技部經費補助下，台大生物產業傳播暨發展學系與政治大學社會系共同執行為期3年的「近期回升的生育率能否持續？制度變遷與婚育行為的連結」研究計畫，該研究利用人口統計資料，針對1950年至1995年出生的女性，進行世代累計探討台灣戰後出生世代對於婚姻和生育的偏好和行為，以及因教育、就業時間延長，導致延遲結婚與生育事件的效應，進行研究。\\xa0台大生傳系副教授陳玉華說，少子化不僅是人口問題，更是社會、經濟，甚至擴及政治層面的複雜問題，觀察生育率與結婚率的長期變動趨勢，發現不僅政治與經濟風暴會影響婚育時間的選擇，趨吉避凶的社會傳統文化然左右台灣民眾的決策，例如經濟不景氣加上完成大學以上學歷的年齡，都是少子化原因之一。\\xa0不過，陳玉華指出，1980年之後的年輕世代雖然晚生育，但因為育兒津貼及育嬰假等政府政策的鼓勵，卻有「急起直追、迎頭趕上」的現象，反倒是1970-1980年出生的女性，其生育步調不但起步晚、完成生育數量也拖延較長的時間。\\xa0面對日益嚴峻狀況，陳玉華認為，少子化是一個嚴重問題，但台灣在現有政策推動不僅太晚，且資源仍不足，而生育的責任應該是大家去負擔，把孩子當成公共財，建議政府應該擴大鼓勵生育的相關政策，包括育嬰假更有彈性或時間更長，且育兒津貼額度不應有區域性差別，而是全國一體適用，才能解決生育率下降導致的人口老化問題。（許敏溶／台北報導）\\xa0\\n台大生傳系副教授陳玉華說，少子化不僅是人口問題，更是社會、經濟，甚至擴及政治層面的複雜問題。許敏溶攝', 2442])\n",
      "90\n",
      "insert into news_entry(link,category,title,time,summary,view_cnt) values(?,?,?,?,?,?)\n",
      "dict_values(['http://www.appledaily.com.tw//realtimenews/article/life/20160511/858640/【民報/林靜君心理專欄】家有退休老公真是討人厭？\\u200b', '生活', '【民報/林靜君心理專欄】家有退休老公真是...', '2016/05/11 14:45', '本內容由民報提供\\xa0(摘錄 全文請連結民報)文 / 林靜君\\xa0「我快要被搞瘋了，千萬不能讓妳老公提早退休，太可怕了！」拉開星巴克的木椅，小蘭人還沒有坐穩，馬上對和自己年齡相仿的編輯耳提面命，開始大倒苦水。\\xa0前年小蘭的先生，因為公司轉型祭出優退方案，擔任主管的他盤算在部門整併之後自己職涯發展到頂，選擇領錢走人。小蘭看到先生上班辛苦，支持他趁優退機會休息一下。小蘭不假思索認為，向來是工作狂的先生，需要的只是短暫的休息，過一陣子就會自己找事情做。她和先生年齡差距快十歲，婚後一直過著在家接案畫插畫，過獨立作業的生活。\\xa0小蘭萬萬沒想到，先生的優退變成她的惡夢。\\xa0前幾個月度過退休蜜月期，先生說：「以前真是想不開，替人家賣命還要被糟蹋。以後，我要快樂做自己。」舊識多半都還在工作崗位上，在職時往來密切的朋友，互動也沒以前熱絡。他開口向舊識問是否有工作機會，但對方打哈哈說：「我們小廟哪容得下你這大菩薩，別開玩笑！」先生向小蘭提到這件事時，兩頰微微發抖忿忿地說：「我又不差這幾個錢，是他過去一再拜託要我跳槽到他公司。我是給他面子。」\\xa0斷續談了兩、三個位置，先生嫌位子小、條件不好，說如果要屈就根本就不需要優退。之後多半時間，就在家上網看看股票、滑手機，偶而發表一下對政論的高見。\\xa0同時間，先生開始對家人的生活方式看不順眼。首當其衝是小蘭，為了配合業主的時間，有時需熬夜畫圖，沒辦法在第二天六點半起床弄早餐。小蘭前一天買麵包，要先生起床後自已倒牛奶用餐，結果他勃然大怒，罵小蘭不懂紀律與時間管理，太好命，沒在社會工作過嚴重與社會脫節。\\xa0小蘭有次和男性的企劃約在住家附近咖啡廳談案子，剛好遇到先生，小蘭介紹企畫給先生認識，結果他當場沒給人好臉色，回到家大發雷霆，說談公事不在辦公室，兩人心裡一定有鬼。之後，只要小蘭要出門，先生就鉅細靡遺問東問西。批評小蘭為一個鳥工作，花那麼多時間。\\xa0在外念書的兒子回到家也是動輒得咎，從髮型、衣著到作息，沒有一點他看得順眼，兒子有次被罵煩了，直接回他：「你有病！」小蘭看先生不到兩年時間，從意氣風發社會中堅，變成晚上睡不好覺、白天愛找碴的老頭。連帶自己也變得愛發脾氣，有時人在外只要一接近用餐時間，不自覺會緊張、甚至胃痛。小蘭好懊惱，早知如此，當初要是反對先生提前退休就好了。\\xa0退休是一家子的事\\xa0退休是劇烈的生活轉變，當家庭成員從職場上退下來，並不只是......(摘錄 全文請連結民報)', 1692])\n",
      "91\n",
      "insert into news_entry(link,category,title,time,summary,view_cnt) values(?,?,?,?,?,?)\n",
      "dict_values(['http://www.appledaily.com.tw//realtimenews/article/international/20160511/858651/【央廣RTI】紐西蘭兩大報考慮合併', '國際', '【央廣RTI】紐西蘭兩大報考慮合併', '2016/05/11 14:45', '本內容由中央廣播電臺提供\\xa0\\xa0 \\xa0 \\xa0 \\xa0美聯社報導，面對年收入下滑與讀者閱讀習慣改變等衝擊，紐西蘭兩大報正在商討合併。此舉可能終結雙方數十年來的競爭關係，這項合併提案若通過，將使紐西蘭的主要報紙出版商剩下唯一一家。並導致數百個工作機會消失。\\xa0 \\xa0 \\xa0 \\xa0總部設在澳洲的費爾法克斯媒體公司(Fairfax Media)與APN新聞媒體集團(APN News & Media)今天(11日)宣布，他們正考慮合併兩家公司在紐西蘭的報紙、廣播電台與網站。此舉是紐澳地區企業緊縮開支的最新一起案例，當地許多媒體都在致力調整，以應付快速變化的環境。但合併提案仍須經過監管單位同意。\\xa0 \\xa0 \\xa0 \\xa0企業方面表示，兩家公司彼此互補，合併也可改善提供給讀者與廣告主的服務。但工會與觀察員則憂心工作機會可能消失，與公司持不同看法。(繼續閱讀)', 174])\n",
      "92\n",
      "insert into news_entry(link,category,title,time,summary,view_cnt) values(?,?,?,?,?,?)\n",
      "dict_values(['http://www.appledaily.com.tw//realtimenews/article/3c/20160511/857959/躺著就高潮\\u3000但總覺得好眼熟？', '3C', '躺著就高潮\\u3000但總覺得好眼熟？', '2016/05/11 14:44', '科技狂潮席捲大眾，連睡眠商機業者也積極搶進，據外電媒體報導，Starpool與Neocogita二家公司日前合作開發了一款智慧水療床Zerobody Bed，它可是款能加熱的水床，也可自己調整適合溫度及燈光，還能帶給使用者無重力漂浮的體驗，號稱更能幫助冥想時快速進入放鬆狀態，讓身心徹底舒暢，只是有人似乎覺得它長得太像棺材，似乎有點觸霉頭就是了。(王心怡／綜合報導)\\xa0分享更多有趣生活照快上失焦der小確幸\\xa0更多有趣新聞快上吃喝玩樂蘋果花', 3046])\n",
      "93\n",
      "insert into news_entry(link,category,title,time,summary,view_cnt) values(?,?,?,?,?,?)\n",
      "dict_values(['http://www.appledaily.com.tw//realtimenews/article/property/20160511/858659/新竹巨城商圈\\u3000房市交易住宅熱店面冷', '地產', '新竹巨城商圈\\u3000房市交易住宅熱店面冷', '2016/05/11 14:43', '新竹市東區開發較早，生活機能純熟，且有規劃遠東巨城購物中心，居民吃喝玩樂機能完備，專家表示，近期周邊中古屋交易熱絡，多集中在北大路與中央路段，店面部分則較少人詢問。\\xa0遠東巨城購物中心周邊，屋齡10~15年大樓，成交行情每坪25~27萬元，視社區品質及有無物業管理而定，中信房屋新竹區北大加盟店店長楊嘉寶表示，近期北大路與中央路中古屋帶看量大，主要為自住需求，且客群多偏向於新竹科學園區上班的工程師，楊嘉寶解釋，因園區周邊房價多為每坪30幾萬，相較下此區價位較低，且百貨公司落於市中心，逛街機能吸引不少人。\\xa0新案部分，位民主路的「榀house」，基地位置處靜巷，且近北新竹車站，生活及交通機能皆不錯，總價1558萬元起，銷售專員周士軒表示，此案採清水混凝土打造日式外觀，強調建築工法，目前僅剩2戶，另一新案由群新建設興建的「群新風度」，基地位置近學區三民國小和三民國中，小孩上下學方便，專案經理黃雅芳表示，顧客看屋需求多為自助型換屋族，且主要為新竹科學園區客，目前已銷售7成。（廖育萱／新竹報導）\\xa0「蘋果掀房事」每周三中午12點半 午餐加好料\\xa0更多房市快訊請看蘋果地產王粉絲團', 790])\n",
      "94\n",
      "insert into news_entry(link,category,title,time,summary,view_cnt) values(?,?,?,?,?,?)\n",
      "dict_values(['http://www.appledaily.com.tw//realtimenews/article/finance/20160511/858662/都怪日圓太強\\u3000豐田警告純益恐銳減35\\u30005年來首見下滑', '財經', '都怪日圓太強\\u3000豐田警告純益恐銳減35%\\u3000...', '2016/05/11 14:42', '日本最大企業豐田汽車今發布聲明表示，受日圓強升影響，至明年3月底止本年度純益恐銳減35%至1.5兆日圓（138億美元），為5年來純益首見下滑，而且遠少於市場預期的2.19兆，計劃最多買回3.42%股票，金額上看5000億日圓。（于倩若／綜合外電報導）', 721])\n",
      "95\n",
      "insert into news_entry(link,category,title,time,summary,view_cnt) values(?,?,?,?,?,?)\n",
      "dict_values(['http://www.appledaily.com.tw//realtimenews/article/life/20160511/858441/【有片】慢慢的那個突然衝刺好快\\u3000網友驚呆', '生活', '【有片】慢慢的那個突然衝刺好快\\u3000網友驚呆', '2016/05/11 14:40', '(新增：影片和公關說法)\\xa0號稱「亞洲最好玩的國際級購物中心」大魯閣草衙道開幕後，不少人搶著去體驗，有網友到了現場發現，摩天輪的轉速超快，光看就頭暈，還有人封這是「無敵風火輪」。\\xa0該名網友在臉書「爆料公社」貼出摩天輪運轉的畫面，可見摩天輪運轉的速度明顯得快，讓網友大驚「第一次看過『摩天輪』轉那快～可能頭暈會吐到死！」\\xa0網友笑稱「這根本是無敵風火輪」、「這是血滴子」、「轉吧...七彩霓虹燈」、「趕場嗎」、「他是標榜高速摩天輪啊！慢的轉兩圈快的轉三圈」，但也有人懷疑「可能是壓力測試」。\\xa0而大魯閣草衙道公關則表示，其實園區內的遊樂園，主題是「車」，因此遊具也多半呼應主題，強調「速度感」。而引進的摩天輪，更是全台獨家具有「速度感」的摩天輪，其造型就是一個輪胎，而遊客搭乘後，摩天輪會運轉三圈，第一圈是緩慢的運轉，方便遊客上下摩天輪，而第二圈後便會開始「飆速」，但其實座位上也都已經設置安全帶，速度快就是其特色，安全無虞，也歡迎民眾前來體驗。（盧麗蓮、劉邠如／綜合報導）\\xa0出版：11:25更新：14:24\\n大魯閣草衙道的摩天輪被封「無敵風火輪」。翻攝爆料公社', 7992])\n",
      "96\n",
      "insert into news_entry(link,category,title,time,summary,view_cnt) values(?,?,?,?,?,?)\n",
      "dict_values(['http://www.appledaily.com.tw//realtimenews/article/nextmag/20160511/858663/【壹週刊】跟著達人逛\\u3000全球第一家LV行李箱概念店', '壹週刊', '【壹週刊】跟著達人逛\\u3000全球第一家LV行李...', '2016/05/11 14:39', '講到古董行李箱，就不會忘記LOUIS VUITTON。昨日剛開幕的LOUIS VUITTON晶華行李箱概念店，是全球第一家針對硬箱的概念店。現在就跟著店經理一起逛，除了旅行用的行李箱，竟然有香檳箱、威士忌箱、西洋棋箱跟各種 奇妙的箱子，還可以擁有專屬的彩繪與刻印，快點一窺這奢華概念的私房小秘密。（撰文：李詩文）\\xa0「更多其他壹週刊內容請點我」', 253])\n",
      "97\n",
      "insert into news_entry(link,category,title,time,summary,view_cnt) values(?,?,?,?,?,?)\n",
      "dict_values(['http://www.appledaily.com.tw//realtimenews/article/local/20160511/858508/台男槍殺中國商人\\u3000茶葉禮盒留DNA被捕', '社會', '台男槍殺中國商人\\u3000茶葉禮盒留DNA被捕', '2016/05/11 14:39', '（更新：新增畫面）\\xa0商業糾紛竟找槍手殺人！台灣一名陳姓男子因為商業糾紛，2012年12月中旬帶著郭鎮豪（33歲）搭機前往中國深圳後，就由郭男以送茶葉禮盒為名，進入深圳市羅湖區的世界金融中心大樓，待在中國籍男子谷峰（48歲）經營的生物科技公司，趁著谷男的公司員工陸續下班，郭男再持槍射殺谷男身亡，事後還把做案槍枝丟在深圳市皇崗口岸公用廁所，隨後與陳姓男子分別搭機回台。\\xa0中國警方調查後，在命案現場發現茶葉禮盒的提繩，還有在公廁內拾獲的槍枝上採集到DNA，追查出搭機回台的郭男涉案，中國警方於是依據「海峽兩岸共同打擊犯罪及司法互助協議」，請求台灣警方協助調查，桃園地檢署指揮刑事局等單位，根據中國警方提供的DNA，比對出涉案郭男的身分，並在今年1月13日將其拘提到案。\\xa0郭男到案說明時供詞反覆，但是警方出示他在案發時間進出命案大樓的影像，也查出陳姓男子涉案，郭男才坦承因與谷男發生衝突，見到谷男持槍相向，於是上前搶槍引發槍枝走火，才會不慎打死谷男，但是桃園地檢署今天仍依殺人罪嫌將郭男起訴，檢警並持續追查潛逃出境的陳姓男子。（突發中心張沛森／桃園報導）\\xa0發稿時間：1240更新時間：1439\\xa0\\n【想知道更多，一定要看……】談判馬國詐騙犯回台\\u3000法務部帶這個當籌碼郭男攜去中國的茶葉禮盒，留下DNA跡證。翻攝畫面', 2502])\n",
      "98\n",
      "insert into news_entry(link,category,title,time,summary,view_cnt) values(?,?,?,?,?,?)\n",
      "dict_values(['http://www.appledaily.com.tw//realtimenews/article/international/20160511/858633/鄭捷遭槍決\\u3000BBC、《美聯社》關注', '國際', '鄭捷遭槍決\\u3000BBC、《美聯社》關注', '2016/05/11 14:39', '前年犯下4死、22傷的台北捷運殺人魔鄭捷，昨晚8時47分被開3槍伏法，今日英國《BBC》和《美聯社》皆陸續報導鄭捷遭槍決的新聞。\\xa0《BBC》報導引述法務部政務次長陳明堂的說法，表示鄭捷的死刑執行，是唯一能伸張正義並減輕受害者家屬痛苦的方法。報導也稱近幾年來台灣社會有多數人支持死刑，尤其是針對類似鄭捷案的隨機殺人案，以及殺害兒童案件。但國際特赦組織及歐盟委員會，以及台灣在地的人權組織卻認為，台灣應該停止死刑執行。\\xa0而《美聯社》引述法務部說法指出，鄭捷的死刑執行是有必要的，因為他的犯罪情節太嚴重，而且公眾要求要維護社會正義。（施旖婕／綜合外電報導）\\n美國abc新聞網引述《美聯社》報導，刊登鄭捷遭槍決消息。', 13053])\n",
      "99\n",
      "insert into news_entry(link,category,title,time,summary,view_cnt) values(?,?,?,?,?,?)\n",
      "dict_values(['http://www.appledaily.com.tw//realtimenews/article/entertainment/20160511/858647/李婭莎怕痛拒生\\u3000媽媽撂話「斷絕關係」', '娛樂', '李婭莎怕痛拒生\\u3000媽媽撂話「斷絕關係」', '2016/05/11 14:38', '來自上海的台語金曲歌后李婭莎推出新輯《Live台北/騷故事》，今舉辦活動暢談耗資300萬的專輯，並以千萬音響設備播放歌曲，她現場播放《西施》、《騷》、《我住台北》3首試聽，並解說歌曲創作靈感，她的專輯去年底發行，剛好趕上今年金曲獎報名，明就要公佈入圍名單，她笑說有關注，有無入圍就抱持平常心。\\xa033歲的她笑稱自己單身，但媽媽一直催她結婚，期限就是她35歲時，她笑說順其自然，還曾跟媽媽說即便結婚，也不打算生小孩，因為怕痛，媽媽撂狠話說「那就斷絕關係吧」，讓她很無奈。（陳薈涵／台北報導）\\xa0\\n李婭莎超偶出身，並曾獲第24屆金曲獎最佳台語女歌手獎。陳明中攝李婭莎今出席新輯宣傳活動，穿著黑色禮服秀出美腿。陳明中攝', 6754])\n",
      "100\n",
      "insert into news_entry(link,category,title,time,summary,view_cnt) values(?,?,?,?,?,?)\n",
      "dict_values(['http://www.appledaily.com.tw//realtimenews/article/nextmag/20160511/858654/【壹週刊】班傑家門深吻南洋妹\\u3000新女友曝光！', '壹週刊', '【壹週刊】班傑家門深吻南洋妹\\u3000新女友曝光...', '2016/05/11 14:35', '本刊直擊班傑摸黑帶新女伴回家，兩人牽手、喇舌，做滿前戲後才一起進門，顯然早把劉雨柔忘個精光。四日晚間10點，本刊目擊班傑一手拿著茶飲，一手緊牽著一名長髮女生的手，兩人用英文有說有笑地沿著大安區的街道散步，看起來就像是熱戀中的情侶。班傑神情愉悅，還不時含情脈脈地望向身旁的女伴。\\xa0本刊觀察，這名新女伴只比身高183公分的班傑矮了半個頭，一身健康的小麥色肌，身材比例不像台灣人，散發出濃濃的南洋風情，而且相當活潑健談，一路上一張嘴幾乎沒停過。\\xa0途中，兩人巧遇騎單車經過的男性友人，班傑將這位南洋女伴介紹給友人認識，女伴還大方地與男子握手；從交談中可聽出，女子的中文也很好。\\xa0小倆口與友人道別後，非常省錢地搭著公車回到班傑住處。進門倒數前，兩人還猴急地先在門口喇舌，口水交融好一陣後，才心甘情願回家，證明這親嘴並非只是國際禮儀。這也是繼劉雨柔後，班傑身邊首次被拍到有新對象。\\xa0對此，班傑所屬「重感情創意工作室」經紀人艾瑪士坦承，兩人的確是男女朋友，交往不到一個月，為了保護戀情和尊重女方，不方便透露其他資訊。（撰文：娛樂組）\\xa0更多精彩壹週刊內容請點我', 3599])\n",
      "101\n",
      "insert into news_entry(link,category,title,time,summary,view_cnt) values(?,?,?,?,?,?)\n",
      "dict_values(['http://www.appledaily.com.tw//realtimenews/article/entertainment/20160511/857980/超模2歲愛女\\u3000收豪宅等比娃娃屋慶生', '娛樂', '超模2歲愛女\\u3000收豪宅等比娃娃屋慶生', '2016/05/11 14:30', '31歲英國超模塔瑪拉（Tamara Ecclestone）是F1賽車主席埃克萊斯通之女，又嫁了個富商老公，她有個2歲的女兒蘇菲亞，這個含著金湯匙出生的小女孩竟擁有一座和塔瑪拉自家倫敦豪宅等比例打造的娃娃屋。\\xa0根據《每日郵報》，這座娃娃屋是依據塔瑪拉娘家位於倫敦價值34億元台幣的豪宅等比打造，要價近50萬台幣，是塔瑪拉的妹妹，也就是蘇菲亞的阿姨佩特拉送給小外甥女的生日禮物。（封以恩╱綜合報導）\\xa0\\xa0\\n塔瑪拉娘家位於倫敦的豪華宅邸。翻攝每日郵報', 4055])\n",
      "102\n",
      "insert into news_entry(link,category,title,time,summary,view_cnt) values(?,?,?,?,?,?)\n",
      "dict_values(['http://www.appledaily.com.tw//realtimenews/article/finance/20160511/858624/台新信用卡當電子發票\\u3000大潤發也適用', '財經', '台新信用卡當電子發票\\u3000大潤發也適用', '2016/05/11 14:30', '財政部今年年初開放信用卡做為電子發票載具，台新銀行在5月與新光三越合作首辦後，與大潤發合作建置的電子發票系統預計在6月底上線，大潤發也是國內首家導入信用卡電子發票載具功能的量販業者。\\xa0據了解，過去可以用來存取電子發票的載具，包括手機條碼、自然人憑證、悠遊卡、一卡通等，今年起多了信用卡，在5月台新銀行與新光三越配合率先開辦，之後包括台灣銀行、華南銀行、第一銀行和合作金庫等八大公股行庫。\\xa0台新銀支付金融處資深副總經理周偉萱表示，支付數位代時代來臨，「發票無紙化」是必然趨勢，除了新光三越百貨，未來民眾到大潤發各門市購物並使用台新信用卡或VISA金融卡刷卡結帳，只需告知櫃員不列印發票，即可用台新卡存取電子發票。\\xa0周偉萱進一步指出，日後若發票中獎，台新銀行將透過簡訊及e-mail通知持卡人，若持卡人以手機條碼或自然人憑證等方式完成載具歸戶，可再免去兌領獎項的手續，獎金扣除應納稅額後，可直接匯入中獎人指定帳戶。（林潔禎／台北報導）', 807])\n",
      "103\n",
      "insert into news_entry(link,category,title,time,summary,view_cnt) values(?,?,?,?,?,?)\n",
      "dict_values(['http://www.appledaily.com.tw//realtimenews/article/international/20160511/858642/【央廣RTI】達文西死因揭秘可能死於中風', '國際', '【央廣RTI】達文西死因揭秘  可能死於...', '2016/05/11 14:30', '本內容由中央廣播電臺提供\\xa0\\xa0 \\xa0 \\xa0 「刺胳針神經學」(The Lancet Neurology)6月號一份研究指出，文藝復興時期天才達文西(Leonardo da Vinci)生前最後兩年可能飽受一再中風所苦，導致他行動能力減低，最終邁向死亡。探索新聞網(Discovery News)10日報導，這項研究是由義大利兩位醫師所進行，他們翻閱古老文獻，重建達文西自1517年至1519年死亡中間的健康狀況。達文西去世時為67歲。\\xa0 \\xa0 \\xa0 \\xa0義大利戈里齊亞(Gorizia)醫院醫學部的沛恰坎蒂(Antonio Perciaccante)表示，「根據(文藝復興時期人物)德貝亞提斯(Antonio de Beatis)紀載(其主人)達阿拉戈納(Louis d’Aragona)的旅行日誌，李奧納多(達文西)65歲時右手癱瘓。」沛恰坎蒂與共同作者柯拉里(Alessia Coralli)指出，根據文獻敘述，達文西右手雖然癱瘓，但只有身體部分受到影響，並未損及認知能力。柯拉里是奇維塔卡斯泰拉納(Civita Castellana)醫院的外科醫師。\\xa0 \\xa0 \\xa0 \\xa0但依據15世紀畫家、建築師兼作家瓦薩里(Giorgio Vasari)的描述，達文西健康可能已經退化。在瓦薩里1550年的書籍「藝術家的一生」(Lives of the Artists，暫譯)中，他形容達文西為一名生病且久臥病榻的人，無法在沒有僕人與朋友的手臂支持下站起來。瓦薩里寫道，達文西的病情持續好幾個月。\\xa0 \\xa0 \\xa0 \\xa0沛恰坎蒂與柯拉里表示，應該是發生甚麼事，才損害了這位文藝復興時期奇才的自主能力。沛恰坎蒂說，「我們的假設是，第一次中風導致(達文西的)手癱瘓，接著又發生其他幾次中風，使達文西的健康與行動力惡化。」(繼續閱讀)', 779])\n",
      "104\n",
      "insert into news_entry(link,category,title,time,summary,view_cnt) values(?,?,?,?,?,?)\n",
      "dict_values(['http://www.appledaily.com.tw//realtimenews/article/life/20160511/858641/夏季旅展520超殺登場\\u3000住宿券門票3折起', '生活', '夏季旅展520超殺登場\\u3000住宿券門票3折起', '2016/05/11 14:26', '夏季最大旅展、台北國際觀光博覽會預計5月20日到23日登場，為搶攻暑假旅遊商機，旅行業者、飯店業者和遊樂園卯足勁推出超殺優惠，其中住宿券約3折起、餐券3.2折起、遊樂園門票3.3折起，預估今年將吸引30萬人次搶進旅展。\\xa0台北市旅行公會理事長吳志健表示，台灣國際觀光博覽會是夏季最大旅展，今年總計有460家廠商、1200個攤位參展，創下夏季旅展最大規模，去年4天內吸引28萬人次入場，今年預計將突破30萬人次。\\xa0看準夏季旅遊商機，旅行業者搶推超殺優惠搶客，易遊網推出環島之星遠雄海洋公園一日遊，原價2199元，下殺1590元起，易遊網國內處長蕭冠群表示，易遊網包下台鐵環島之星，旅客購買該行程不用擔心買不到火車票，保證有位可搭。\\xa0另國人最愛搶買的餐券也推優惠，錦華大飯店推出2人港式好食套餐，原價1254元，優惠僅398元，下殺3.2折起，五星級飯店折扣也超強勢，君悅飯店凱菲屋平日分享餐券原價3872元，優惠僅2500元，且可選平日下午茶4客，或是午餐或晚餐2客。\\xa0明天才開幕的桃園大溪笠復威斯汀度假酒店也首度參展，住宿券原價1萬7千元，優惠5999元，推出3.5折超低折扣，若買5張還可再送1張，等於下殺3折。義大世界皇家酒店豪華客房住宿原價1萬3530元，優惠4500元，推出3.3折。國內遊樂園優惠也不少，麗寶樂園推出雙人月光票，原價598元，優惠199元，下殺3.3折。(李姿慧／台北報導)', 1038])\n",
      "105\n",
      "insert into news_entry(link,category,title,time,summary,view_cnt) values(?,?,?,?,?,?)\n",
      "dict_values(['http://www.appledaily.com.tw//realtimenews/article/life/20160511/858534/【更新】iPadPro9.7資費出爐\\u3000購機折抵萬元', '生活', '【更新】iPad Pro 9.7資費出爐...', '2016/05/11 14:25', '（更新：新增燦坤、Studio A購機方案）\\xa0蘋果今年三月發表的iPad Pro 9.7吋，德誼數位及燦坤今宣布資費方案，空機價20900元起，搭配遠傳699元及台灣之星799元4G上網方案可折抵萬元。Studio A則推出蘋果系列產品舊換新折抵服務，以蘋果平板為例，單機舊換新約可2千元至8700元不等，舊機折抵不限數量，最高可全額折抵。\\xa0iPad Pro 9.7吋開賣，最低容量32GB售價20900元、128GB售價25900元、256GB售價30900元，德誼數位今推出遠傳電信699元資費方案，前6個月吃到飽不降速，之後每月提供20.5GB上網傳輸量，綁約24期加贈市價10490元的Apple Pencil及Beats Solo 2耳罩式耳機，綁約36期可折9千元，最高可折抵1萬元。\\xa0德誼數位總經理杜偉昱表示，統計過去一年以來德誼門市iPad銷售，同為9.7吋的iPad/iPad Air系列超過所有銷售的6成以上，這次的iPad Pro 9.7吋很有市場潛力。\\xa0燦坤今也搭配台灣之星，推出4G競速799資費方案，網內通話吃到飽、網外送45分鐘、4G上網吃到飽不限速，綁約30期，原價20900元的iPad Pro 9.7吋售價6999元，單買空機可享12期0利率。\\xa0Studio A這次推出iPad Pro 9.7吋的舊換新折抵方案，可持手上舊有的蘋果iPhone、平板、Mac折價，不限數量，最多可全額折抵，以平板為例，平均折抵價錢約2千元至8700元不等。\\xa0Studio A說，這次折抵方案加入公益活動，民眾拿來折抵的蘋果系列商品將捐贈給肌肉萎縮病友協會、雅文基金會、慎修養護中心。（蔡孟修／台北報導）\\xa0發稿時間：12：26更新時間：14：25', 2387])\n",
      "106\n",
      "insert into news_entry(link,category,title,time,summary,view_cnt) values(?,?,?,?,?,?)\n",
      "dict_values(['http://www.appledaily.com.tw//realtimenews/article/life/20160511/858635/對流雲系旺盛\\u3000氣象局：嘉義縣要注意大雷雨', '生活', '對流雲系旺盛\\u3000氣象局：嘉義縣要注意大雷雨', '2016/05/11 14:25', '由於對流雲系發展旺盛，中央氣象局剛剛發布剛針對嘉義縣的朴子市、布袋鎮、六腳鄉、東石鄉等地發布大雷雨即時訊息，持續時間至14 時45 分止。\\xa0氣象局表示，請民眾慎防劇烈降雨、雷擊、9級以上強陣風，低窪地區慎防淹水。路面濕滑，步行與開車請注意安全。能見度低，請注意行車安全、減速慢行。請進入室內，遠離山頂、屋頂、涼亭、獨立樹下、溪流或水塘，位於空曠區域應蹲下降並盡量減少與地面接觸的面積。（生活中心／台北報導）', 985])\n",
      "107\n",
      "insert into news_entry(link,category,title,time,summary,view_cnt) values(?,?,?,?,?,?)\n",
      "dict_values(['http://www.appledaily.com.tw//realtimenews/article/local/20160511/858477/7天被抓2次\\u3000怕見不到女友哭了', '社會', '7天被抓2次\\u3000怕見不到女友哭了', '2016/05/11 14:24', '（更新：增加影片）\\xa02名男子在賣場前交易毒品遭逮，買毒的黃姓男子擔心無法見到女友，先當街求饒，見警方無意放人，乾脆跌坐地上，放聲大哭，讓在場警員看傻了，警方事後通融，讓他講電話，只見黃男在電話這頭，不斷輕聲安慰女友，讓警方直嘆「早知如此，何必當初」。\\xa0前天凌晨3時40分，保大特勤警網行經三多、福德路口，發現2名男子在賣場前交頭接耳，2人看到警車靠近，快步閃人，警方下車逮人，共在2人身上查獲5小安毒，另有4發制式子彈。\\xa0警方指出，遭逮的黃男（23歲）在建築工地當派遣工，與17歲就讀護專女友交往1年，目前租屋同住，黃1星期前才持毒被抓，如今再被抓，擔心被關，見不到女友才會情緒如此失控。\\xa0另名黃姓男子（30歲）開設服飾店，他否認販毒，強調只是自己吸食，子彈是赴台中批貨時，對方欠5千元，拿4顆子彈抵債，全案訊後依毒品及槍砲罪嫌送辦。（湯寶隆／高雄報導）\\xa0發稿時間 11:54更新時間 14:24\\n黃姓男子涉嫌持有子彈及毒品被送辦。翻攝畫面黃男跌坐地上，向警方求饒。翻攝畫面', 8322])\n",
      "108\n",
      "insert into news_entry(link,category,title,time,summary,view_cnt) values(?,?,?,?,?,?)\n",
      "dict_values(['http://www.appledaily.com.tw//realtimenews/article/finance/20160511/858637/華碩Q3推手持VR裝置\\u30002017年推VR頭盔\\u3000', '財經', '華碩Q3推手持VR裝置\\u30002017年推VR...', '2016/05/11 14:24', '華碩估個人電腦中電競業務第2季營收年增率56%，Chromebook業務年增5成，ZenBook跟ZenAiO營收年增10%，其中ZenBook 3及變形系列Transformer 3預計將台北國際電腦展推出。華碩首季手機營收年增40%，第2季預估是過渡期，新舊機交替。\\xa0華碩進軍VR（虛擬實境）跟AR（擴增實境）領域，宣布2016年第3季推出手持VR裝置，2017年上半將推出電腦VR頭戴裝置及新手持VR裝置，2017年CES預計也會推出AR行動裝置。華碩也宣布將進軍智慧家庭、智慧車、智慧穿戴3大領域。（王郁倫／台北報導）\\xa0\\n華碩財務長兼發言人吳長榮。李柏毅攝華碩執行長沈振來。李柏毅攝', 494])\n",
      "109\n",
      "insert into news_entry(link,category,title,time,summary,view_cnt) values(?,?,?,?,?,?)\n",
      "dict_values(['http://www.appledaily.com.tw//realtimenews/article/forum/20160511/858639/【台灣英文新聞】馬英九在急什麼？', '論壇', '【台灣英文新聞】馬英九在急什麼？', '2016/05/11 14:24', '本內容由台灣英文新聞提供\\xa0（作者李平華，資深媒體人）\\xa0馬英九總統的任期，進入最後倒數計時，但他到底在想什麼？急著在各種事情軋上一腳，將燙手山芋拚命往身上攬？這是否是馬不願放下權力，企圖創造最後歷史定位，殊不知他已乏力回天，執政成績早已評定，現在只是多添加幾筆爛帳。\\xa0以中研院院長遴選為例，剛好處於新舊政權交接期，外界希望由新任總統蔡英文拍板定案，方便讓雙方未來能更緊密合作，馬英九卻在同意現任院長翁啟惠請辭時，硬要安排三位院長候選人，與他會面深談。\\xa0馬英九雖然說，約談院長候選人後，由他或下屆總統來核定人選；但蔡英文和馬英九一起面談候選人的可能性極低，候選人分兩次和先後任總統會面的機會也不高。可以預期的是，由馬英九約談，最後院長如何產生，答案呼之欲出。\\xa0再看看北捷殺人犯鄭捷伏法過程，從死刑定讞，到執行槍決，只有19天，創下近年來最快紀錄。啟人疑竇的是，不像以往多人同時執法，這次卻只有鄭捷一人，... 閱讀全文\\xa0Taiwan News／台灣英文新聞生活頻道／世界深度', 1609])\n",
      "110\n",
      "insert into news_entry(link,category,title,time,summary,view_cnt) values(?,?,?,?,?,?)\n",
      "dict_values(['http://www.appledaily.com.tw//realtimenews/article/beauty/20160511/858392/【有片】正妹主播轉戰演藝圈\\u3000「真妹妹文」曝光', '正妹', '【有片】正妹主播轉戰演藝圈\\u3000「真妹妹文」...', '2016/05/11 14:22', '（更新：新增影片）\\xa0《蘋果》報導「女神主播閃退新聞圈 竟然要去這上班」，指出民視體育主播林柏妤將告別採訪生涯，轉戰演藝圈、朝全職藝人發展。對此消息許多批踢踢鄉民討論，並在推文說「主播就是念稿做做表情 當藝人剛好啊 」、「藝人好賺多了 如果照吳怡霈 應該有以前當主播的10倍吧 \\xa0」、「根本撞臉蘇晏霈」等不看好。\\xa0不過有位自稱是「肥宅哥哥」的鄉民發文「別的主播我不知道是不是只是念念稿做做表情，我妹是真心熱愛體育這塊」「肥宅哥哥」說，林柏妤很有意志力，讓他心底對他只有佩服。\\xa0對於林柏妤要轉戰演藝圈，肥宅哥哥也說「這不是條好走的路，要努力，要機緣，要天時地利人和，不過既然是她下定決心的事，做為家人就是相信與支持」、「但我妹應該不是走女神路線的，她是我心中的鐵娘子!」\\xa0對此鄉民紛紛敲碗說「你跟你妹的圖勒」、「真妹妹文4ni?」，當然肥宅哥哥不負眾望的PO初他與林柏妤合照，讓更多鄉民改稱他「大舅子」。(葉國吏/綜合報導)\\xa0出版時間 10：48更新時間 14：22\\n林柏妤比基尼照令人驚豔。翻攝林柏妤臉書林柏妤轉戰演藝圈。林柏妤提供翻攝批踢踢', 16422])\n",
      "111\n",
      "insert into news_entry(link,category,title,time,summary,view_cnt) values(?,?,?,?,?,?)\n",
      "dict_values(['http://www.appledaily.com.tw//realtimenews/article/life/20160511/858554/【有片】恐怖鄭捷\\u3000應曉薇輔導要求戴警報器', '生活', '【有片】恐怖鄭捷\\u3000應曉薇輔導要求戴警報器', '2016/05/11 14:22', '台北捷運隨機殺人案凶手鄭捷昨晚槍決伏法。台北市議員應曉薇說，輔導死刑犯20年中，鄭捷是她要求應帶警報器輔導的死刑犯之一，他很可怕且毫不後悔殺人。應曉薇形容鄭捷眼神恐怖、尖銳，「他很冷靜 你不知道他的下一秒鐘要做什麼」，並指鄭捷很在意媒體對他的報導，「我感覺他把他自己當成殺人魔中的英雄」，更多應曉薇談鄭捷的內容，請看影片。（生活中心／台北報導）\\xa0\\xa0\\n【想知道更多，一定要看……】【鄭捷槍決】死者解青雲母：羅瑩雪正義之舉【有片】速簽鄭捷死刑令\\u3000羅瑩雪：做該做的事台北市議員應曉薇指，輔導死刑犯20年中，鄭捷是她要求應帶警報器輔導的死刑犯之一。取自應曉薇臉書', 9117])\n",
      "112\n",
      "insert into news_entry(link,category,title,time,summary,view_cnt) values(?,?,?,?,?,?)\n",
      "dict_values(['http://www.appledaily.com.tw//realtimenews/article/politics/20160511/858621/夾腳拖事件遭批腦子進水\\u3000張景森：發狂的不是我', '政治', '夾腳拖事件遭批腦子進水\\u3000張景森：發狂的不...', '2016/05/11 14:20', '準政務委員張景森日前在臉書PO文指出，台灣天氣太炎熱，應該允許正式場合穿著短褲、夾腳拖，引來網路熱議。資深媒體人周玉蔻也則在臉書諷刺張景森「腦子進水，還裝可愛！」張景森今早在臉書再度發文表示，「其實小的能夠在政壇活到今天，腦袋應該不會是裝大便，發狂的應該也不是我」。\\xa0張景森說，他提出應允許正式場合穿著短褲、夾腳拖，結果「不分青紅皂白，又被媒體圍毆了」，他抱怨指媒體說他發狂想、名嘴說他腦袋進水。\\xa0張景森說，稍微關心環境問題的人都知道，日本小泉政府，為了節能減碳、降低室內冷氣耗電，10年前就推動cool biz，目的就是要改善日本人的商業禮儀，從政府機關倡導，夏季公務場合不穿西裝、不打領帶，改成輕便服裝，後來推展到企業，這不但實際產生節能減碳的效果，也帶領出日本輕便服飾的時尚產業；311地震之後，cool biz 更進展成super cool biz。\\xa0張景森說，台灣更熱，文化包袱比日本更輕，應該更容易改革服裝文化，讓台灣的穿著更接近台灣的氣候環境，發展出更多自己的時尚產業。\\xa0張景森還在文末自我調侃，「一定要寫這麼正式嗎？這樣會有人報導嗎？」（政治中心／台北報導）\\xa0\\xa0\\xa0\\xa0\\n【想知道更多，一定要看……】夾腳拖列正式服裝？\\u3000準文化部長鄭麗君這樣說【有片】張景森推夾腳拖列國服 綠委：「藍白拖才是台灣精神」', 4357])\n",
      "113\n",
      "insert into news_entry(link,category,title,time,summary,view_cnt) values(?,?,?,?,?,?)\n",
      "dict_values(['http://www.appledaily.com.tw//realtimenews/article/international/20160511/858627/【民報】好直接！英女王形容接待習大大「真倒楣」', '國際', '【民報】好直接！英女王形容接待習大大「真...', '2016/05/11 14:20', \"本內容由民報提供\\xa0(摘錄 全文請連結民報)民報國際中心／綜合報導\\xa0英國女王伊莉莎白二世（Elizabeth II）日前在白金漢宮出席今年首場花園派對時，在接見倫敦警察廳指揮官奧爾西（Lucy D'Orsi）時，得知奧爾西為去年中國國家主席習近平伉儷訪問英國期間指揮官時，竟意外說出真心話表示：「歐！真倒楣」（Oh, bad luck），還在對話時透露「他們對大使非常粗魯！」整段對話全被拍攝下來，意外道出英國對習近平訪問期間的心情......(摘錄 全文請連結民報)\", 2030])\n",
      "114\n",
      "insert into news_entry(link,category,title,time,summary,view_cnt) values(?,?,?,?,?,?)\n",
      "dict_values(['http://www.appledaily.com.tw//realtimenews/article/entertainment/20160511/858405/【更新】老公蓋SHotel\\u3000大S笑拉小S墊背', '娛樂', '【更新】老公蓋S Hotel\\u3000大S笑拉小...', '2016/05/11 14:19', '（新增大S回應）大S老公汪小菲在台北打造精品旅館，請來法國知名設計師Philippe Starck主導裝潢，今年將開幕，同時版圖拓展到海南島三亞，以「S hotel」命名，高調向老婆示愛。\\xa0大S稍晚開心回應：「我非常支持他創業，這會是一個有趣又艱難的過程，希望他玩得開心並從中學習。」至於以她名字命名，她說：「用我的S當飯店的名字，我很感動！若生意不好就當是我妹（小S）的S！」\\xa0汪小菲昨深夜在微博po出飯店房間照，和外籍人士邊看建築模型邊討論，還有和大S的甜蜜自拍，表示：「這幾年雖然投（資）了不少公司，獲得了還好的回報，但我還是喜歡做些實事來給家人。老婆，再過幾個月咱們台北的Philippe Starck酒店就開業了。三亞亞龍灣的也快動工了。都是為了家人開心，都是為了你的名字S hotel，都是要把快樂帶給每個酒店的文化裡。然而這一切都是因為你。」吸引大S粉絲留言謝謝他如此疼愛大S。（吳惠菁、張瑞振／綜合報導）\\xa0出版時間：13:09更新時間：14:19\\xa0\\n汪小菲po出飯店房間照。翻攝汪小菲微博', 13663])\n",
      "115\n",
      "insert into news_entry(link,category,title,time,summary,view_cnt) values(?,?,?,?,?,?)\n",
      "dict_values(['http://www.appledaily.com.tw//realtimenews/article/entertainment/20160511/858314/【有片】離譜！女主播自爆喝醉\\u3000被召回播新聞', '娛樂', '【有片】離譜！女主播自爆喝醉\\u3000被召回播新...', '2016/05/11 14:18', '（更新：新增影片）\\xa0法務部昨晚閃電執行鄭捷槍決，各家媒體紛紛召回人力，高規格報導。\\xa0東森新聞主播陳柔安被叫回公司，在臉書粉絲專頁開新聞直播。結果她自爆「有人發現我是醉的嗎？至少喝了3杯威士忌」，坦言「被伏法殺得措手不及。」\\xa0陳柔安PO文後隨即刪文，但已被網友擷圖分享，網友覺得她「很有事」、「喝醉了還播新聞」、「我能相信妳嗎」、「失去主播專業」。\\xa0有網友虧，「通常都是死刑犯槍決前要喝酒，沒聽過主播上台前也要喝。」\\xa0也有人替陳柔安緩頰，「說不定她只是下班喝點酒，根本不知道會有突發新聞啊！」（王嘉慶／綜合報導）\\xa0出版時間\\u300009：01更新時間\\u300014：18\\n【想知道更多，一定要看……】女主播喝醉還直播新聞\\u3000東森「會檢討」東森主播陳柔安自爆酒醉。翻攝網路', 90620])\n",
      "116\n",
      "insert into news_entry(link,category,title,time,summary,view_cnt) values(?,?,?,?,?,?)\n",
      "dict_values(['http://www.appledaily.com.tw//realtimenews/article/life/20160511/858631/芝山岩蓋19層高樓\\u3000柯P指示先暫緩實行', '生活', '芝山岩蓋19層高樓\\u3000柯P指示先暫緩實行', '2016/05/11 14:18', '1993年北市芝山岩被指定為國家二級古蹟公園，2011年北市府有意針對周邊擬定「視覺景觀與天際線管制」條文，但5年時間過去，條文不但未見蹤影，鄰近的惠濟宮旁還準備興建一棟19層高的大樓。北市今舉行里長座談，當地里長再度就此事向台北市長柯文哲陳情，柯最後拍板，市府會在3個月內釐清立場，該都更案先暫緩實行。\\xa0岩山里長王芝安與名山里長薛群秀今在里長會議上向柯陳情，兩人希望政府儘快擬出管制計畫，才能核發建照，至於目前19層大樓的都更案，市府必須先撤回。柯文哲隨後指示，會和副市長林欽榮進行討論，釐清市府的立場與態度，該先列管3個月。\\xa0都發局則表示，該建案為民辦都更，裡面有40%土地為市有地，因此根據都更條例第27條規定市府必須參加，未來主要希望做公宅使用。至於「芝山岩周圍視覺景觀與天際線管制」草案目前正在內部作業，預計對建案高度有相關限制，但內容還須送都委會進行審議，預計本月底會進行。(陳思豪/台北報導)', 1296])\n",
      "117\n",
      "insert into news_entry(link,category,title,time,summary,view_cnt) values(?,?,?,?,?,?)\n",
      "dict_values(['http://www.appledaily.com.tw//realtimenews/article/life/20160511/858630/北市腸病毒上周就診人次破千\\u3000進入流行期', '生活', '北市腸病毒上周就診人次破千\\u3000進入流行期', '2016/05/11 14:17', '腸病毒疫情持續升溫，北市正式進入疫情流行期。台北市衛生局今公布上周腸病毒門急診就診人次，已達1019人次，超過衛福部疾管署日前公布北市腸病毒疫情流行警戒值1千人，昨衛生局正式公告北市進入腸病毒疫情流行期。北市衛生局表示，今年腸病毒疫情恐大爆發，國小及幼托機構應落實通報及停課規定，違者將依《傳染病防治法》處3千元到1萬5千元罰鍰。\\xa0北市衛生局疾病管制處長陳少卿表示，北市近4周（4月10日至5月7日）腸病毒門急診就診人次分別為561、648、783及1019人次，而上周（5月1日至7日）就診人次已破千人，正式進入流行期。另外，國小、國小補習班及幼托機構的校園通報數也持續攀升，今年截至前天共通報2514人次、停課196班次，均高於去年同期1875人次及117班次。\\xa0陳少卿說，腸病毒疫情約每3到4年會有一次大流行，今年離上次大流行約3年，今年腸病毒疫情恐再次出現大流行。今年至今全台腸病毒感染併發重症個案確診已有3例，但北市尚無確診個案，目前社區流行腸病毒為克沙奇A型，患者多為輕症，但仍有導致重症的風險，不可掉以輕心。\\xa0陳少卿說，孩童若出現發燒、嘔吐、疱疹性咽峽炎或手、足、口等部位出現小紅疹或水泡等疑似腸病毒症狀時，應減少出入公共場所，並在家休息。但若孩童出現嗜睡、肌躍型抽搐、持續性嘔吐、呼吸急促等疑似腸病毒重症，應速就醫治療。（沈能元／台北報導）\\xa0</iframe', 397])\n",
      "118\n",
      "insert into news_entry(link,category,title,time,summary,view_cnt) values(?,?,?,?,?,?)\n",
      "dict_values(['http://www.appledaily.com.tw//realtimenews/article/sports/20160511/858634/【有片】時速408公里殺球創紀錄\\u3000李宗偉殺翻中國', '體育', '【有片】時速408公里殺球創紀錄\\u3000李宗偉...', '2016/05/11 14:17', '2015香港羽球公開賽 李宗偉vs.田厚威 根據BWF(Badminton World Federation，世界羽球聯合會)公布的消息，李宗偉在2015年香港公開賽決賽，面對中國球員田厚威，曾打出一記時速高達408公里的殺球，締造BWF在正式比賽中最快殺球紀錄。\\xa0舊紀錄則是同年的日本公開賽，由丹麥球員艾利森(Viktor Axelsen)所保持的時速404公里。\\xa02013年由知名羽球品牌Yonex曾邀請多位球星，參與一項速金氏世界紀錄極速殺球認證，馬來西亞男子雙打球員陳文宏，在測試中，打出一記時速493公里殺球，締造新的紀錄。\\xa0台灣女單一姐戴資穎，在今年的全英公開賽，8強賽也曾打出一記時速360公里的殺球，在BWF紀錄中，速度僅次於泰國球員伊瑟儂(Ratchanok Intanon)於今年馬來西亞公開賽四強賽，所打出時速372公里殺球。\\xa0（陳國偉／綜合報導)【更多體育新聞訊息，請加入《蘋果運動超級吧》粉絲團】\\n戴資穎在全英公開賽殺出時速360公里速球。Badminton Photo', 1562])\n",
      "119\n",
      "insert into news_entry(link,category,title,time,summary,view_cnt) values(?,?,?,?,?,?)\n",
      "dict_values(['http://www.appledaily.com.tw//realtimenews/article/3c/20160511/858013/毛小孩當道\\u3000寵物遊戲超療癒', '3C', '毛小孩當道\\u3000寵物遊戲超療癒', '2016/05/11 14:14', '現在毛小孩的地位愈來愈高，是不少飼主的心頭肉，但很多上班族礙於沒有時間可以陪伴牠，或是家裡空間不大而作罷。現在不少電玩廠商看中這點，紛紛推出養寵物的相關遊戲，不僅撫慰了沒辦法養寵物的人的遺憾，還大大療癒苦悶的上班族呢！到底有哪些可愛的寵物遊戲呢？快一起來看看吧！（蔣欣倫／綜合報導）\\xa0照片均取自YouTube\\xa0快來手寫時代，分享你的手寫作品！更多內容，請上吃喝玩樂蘋果花粉絲團\\xa0\\xa0\\n《進化小天地》中有超過40隻的奇怪生物，餵不同的食物會影響進化的結果喔！感覺會孕育出各種怪異的傢伙～～《啾比牧場》這款遊戲裡並非有小狗小貓，而是可愛的寵物精靈，除了可以打造專屬自己的牧場外，還能養成精靈進而分配工作給它們。可以讓你飼養各種狗狗的《晴天小狗》，內容豐富且畫面相當可愛唷！可愛指數爆表的休閒養成遊戲《寵物派對Web》，可以幫毛小孩打扮成任何帥氣又時尚的樣子唷～超夯的《貓咪收集》遊戲，每隻貓咪的個性都不同，還可以將庭院打造成遊樂場呢！', 748])\n",
      "120\n",
      "insert into news_entry(link,category,title,time,summary,view_cnt) values(?,?,?,?,?,?)\n",
      "dict_values(['http://www.appledaily.com.tw//realtimenews/article/3c/20160511/858022/一起來萌萌噠丟泡泡吧！', '3C', '一起來萌萌噠丟泡泡吧！', '2016/05/11 14:13', '以前還沒有那麼多智慧型手機時，朋友都會互相借手機來玩遊戲，其中最容易上手又有挑戰力的莫過於丟泡泡的遊戲了，尤其是《泡泡龍》，可愛的小龍努力消除泡泡闖關，非常有趣！現在各業者也紛紛推出泡泡遊戲，讓人隨手就能消磨時光、打發時間。（楊婷凱／綜合報導）\\xa0你也喜歡玩丟泡泡嗎？請上手寫時代社團分享更多有趣報導，請上吃喝玩樂蘋果花粉絲團\\xa0\\n大家應該都玩過《泡泡龍》，是百玩不膩的遊戲。翻攝自http://acg.gamer.com.tw/acgDetail.php?s=73928迪士尼的《腦筋急轉彎：泡泡樂》是《腦筋急轉彎》卡通的同名遊戲，加上可愛人物很吸引小朋友目光。翻攝自http://acg.gamer.com.tw/acgDetail.php?s=78586', 358])\n",
      "121\n",
      "insert into news_entry(link,category,title,time,summary,view_cnt) values(?,?,?,?,?,?)\n",
      "dict_values(['http://www.appledaily.com.tw//realtimenews/article/local/20160511/858595/曾柏瑜影射羅明才是黑道\\u3000檢察官認定非憑空杜撰', '社會', '曾柏瑜影射羅明才是黑道\\u3000檢察官認定非憑空...', '2016/05/11 14:13', '曾代表綠社盟參選立委的曾柏瑜，在去年登記參選期間，影射同選區的國民黨籍立委候選人羅明才是黑道，被控違反《選罷法》竟圖使人不當選，但台北地檢署認為之前已有媒體報導羅明才的父親羅福助是黑道，而曾女以家世背景質疑對手，並非憑空杜撰，且抛出該議題讓選民選擇，也無使人不當選犯意，今將曾女不起訴。\\xa0曾柏瑜原為「黑色島國青年陣線」行政組長，在太陽花學運期間，多次代表學運上政論節目發言，事後她加入綠黨，擔任青年部召集人，去年底代表綠社盟登記參選立委，昨天鄭捷執行槍決，曾在臉書粉絲專頁發文批評，一個政府為了討好人民而貿然奪走一個人的性命，「我永遠不能明白，也無法諒解」，引發議論。\\xa0去年11月23日，曾柏瑜前往新北市選委會登記角逐新北市第11選區立委，同選區的包括長期經營的國民黨籍立委羅明才，曾女當天登記後召開記者會表示：「自從參選以來，我們對上的是對這邊長期經營，己經當了16年立委的羅明才、羅福助的兒子。」\\xa0曾柏瑜話峰一轉說道：「自從我競選以來，不停的有支持者跑來告訴我，要提醒我吳善九的命案、提醒我關狗籠事件，這些事情，就是不停有人跑來告訴我，要我們小心一點，小心人身安全、要不要裝監視器、要不要請保鑣。」\\xa0曾女說，「問我們說怕不怕，老實說我們很怕，可是我們更害怕台灣沒有未來，我們更害怕我們沒有更好的政治，因此雖然我們很害怕，我們還是決定要勇於冒險，要站出來、迎戰黑道勢力、迎戰這個黑色的勢力，我們不相信新店只能選出黑道。」\\xa0羅明才認為曾柏瑜的發言在引射他是黑道，認為名譽受辱，提出告訴。但曾女開庭時，否認有說羅明才是黑道，當時的說法，只是想要表達不畏懼惡勢力，為了台灣的前途，會勇敢的站出來。\\xa0但檢察官聽了當天曾柏瑜的現場言論，從前後文來研判曾女的說法是在指羅福助為黑道份子，而羅明才又是羅的兒子，的確會讓人覺得是在影射羅明才有黑幫的背景，不過，檢察官認為，羅福助是黑道，之前媒體就已大篇幅報導過，曾女以其家世背景提出質疑，並抛出這個議題讓選民選擇，並無意圖使人不當選的犯意，因此將她不起訴。（呂志明／台北報導）\\xa0【更多新聞，請看《蘋果陪審團》粉絲團】\\n曾柏瑜質疑羅明才（圖）是黑道，檢察官認定並非憑空杜撰。資料照片', 3119])\n",
      "122\n",
      "insert into news_entry(link,category,title,time,summary,view_cnt) values(?,?,?,?,?,?)\n",
      "dict_values(['http://www.appledaily.com.tw//realtimenews/article/life/20160511/858628/【央廣RTI】巡迴全球推廣臺灣美食僑胞熱情讓人感動', '生活', '【央廣RTI】巡迴全球推廣臺灣美食 僑胞...', '2016/05/11 14:13', '本內容由中央廣播電臺提供\\xa0\\xa0 僑委會每年都會遴選臺灣名廚遠赴世界各地舉辦臺灣美食廚藝巡迴講座，今年擔任「加拿大地區臺灣美食廚藝巡迴講座」講師的醒吾科技大學餐旅管理系副教授兼系主任黃寶元，他多次排除萬難參與為期不短的巡迴講座，也曾經一落地就丟掉行李，但支持他不斷參與下去的最大動力就是全球僑胞的熱情。\\xa0\\xa0\\xa0 僑務委員會為協助僑營餐館提升專業力及配合推動臺灣美食國際化、行銷臺灣美食品牌形象，每年都會遠赴世界各地辦理「臺灣美食廚藝巡迴講座」，「2016 年加拿大地區臺灣美食廚藝巡迴講座」於 5 月 1 日至 5 月 23 日在加拿大多倫多、渥太華、卡加利、溫哥華以及溫哥華島等地舉行，今年邀請黃寶元主任擔任講師。黃寶元曾經參與過中南美洲、美西地區以及印尼地區的臺灣美食廚藝巡迴講座，在2011年遠赴中南美洲時，下機的第一天行李就不見了，精心準備從臺灣帶去的材料也全部化為烏有，談到當時如何度過難關，從事餐飲行業多年，經驗相當豐富的他說，只要給他一把菜刀、一套廚師服就可以。\\xa0\\xa0\\xa0 本身工作也相當忙碌的黃寶元，為了參與為期幾乎長達一個月的巡迴講座，常常義無反顧放下手頭的工作，只為了服務海外殷切期盼家鄉味的僑胞們。他說，僑胞的熱情是他持續下去的力量，他也希望把臺灣美食的溫度，帶到每一位僑胞家中的廚房，成為維繫家族感情的力量。\\xa0\\xa0\\xa0 而這一次「加拿大地區臺灣美食廚藝巡迴講座」，黃寶元準備了將近40道菜單，除了僑胞最想念的牛肉麵、滷肉飯等臺灣美食之外，還有金瓜米粉以及臺灣古早味甜點雪花膏。此外，他還將運用加拿大著名的食材─象拔蚌，製作出有臺灣味的美食。\\xa0詳細專訪內容收聽', 121])\n",
      "123\n",
      "insert into news_entry(link,category,title,time,summary,view_cnt) values(?,?,?,?,?,?)\n",
      "dict_values(['http://www.appledaily.com.tw//realtimenews/article/finance/20160511/858629/優預期\\u3000華碩首季每股賺5.6元', '財經', '優預期\\u3000華碩首季每股賺5.6元', '2016/05/11 14:13', '華碩首季財報出爐，首季營收1100.5億元，季減11%，單季毛利率13.1%比去年同期跟第4季略降，本業賺46.97億元，季減16%，稅後純益41.61億元，季減8%，每股純益5.6元，略高於法人預期的5.3元。華碩業外匯兌收益達7900萬元。但業績比去年成長。\\xa0華碩首季手機營收佔比17%，電腦營收66%，零組件14%，物聯網裝置約貢獻3%。\\xa0展望第2季，華碩估營收在950~1000億元之間，營收季減9~14%。其中電腦營收季減10~15%，但仍維持正年成長，手機等行動裝置業務營收季增5%內，低於去年同期，零組件業務如主機板，營收季減5~10%，也維持正年成長。（王郁倫／台北報導）', 642])\n",
      "124\n",
      "insert into news_entry(link,category,title,time,summary,view_cnt) values(?,?,?,?,?,?)\n",
      "dict_values(['http://www.appledaily.com.tw//realtimenews/article/local/20160511/858606/【有片】騎士撞公車彈飛\\u3000時間凝結5秒鐘', '社會', '【有片】騎士撞公車彈飛\\u3000時間凝結5秒鐘', '2016/05/11 14:11', '台中市南區國光路、南門路口中興大學側門今天上午8點左右發生一起車禍，一輛台中客運公車行駛到路口左轉時，一輛由許姓男子（21歲）駕駛機車突然高速衝撞公車車頭，碰的一聲，騎士彈飛數公尺倒地後動也不動，一旁的路人和騎士全都嚇呆，約五秒鐘，沒人敢上前查看，現場氣氛凝結，還好許男隨即動了一下，並掙扎想站起來，這時公車司機也下車，將許多扶起，沒想到許男又腳軟癱坐下來，整個過程都被停等紅燈的汽車行車記錄器拍下，向《蘋果》爆料，目擊民眾說：「當場頭破血流，實在很可怕，應該傷得很重吧！」\\xa0台中市警局三分局交通分隊長黃昱維表示，很幸運地，許姓機車騎士只有全身多處挫傷，沒有生命危險，據王姓公車司機（48歲）表示，他在路口等左轉綠燈亮起後才剛起步，機車就衝過來，根本來不及反應。許姓機車騎士聲稱他是黃燈通過路口，沒有闖紅燈。\\xa0黃昱維說，雙方都聲稱沒有闖紅燈，將調閱公車行車紀錄器及路口監視器進一步查證，釐清肇責。（蔡智銘／台中報導）\\n公車左轉，機車直行而來。翻攝畫面機車撞上公車車頭。翻攝畫機車騎士彈飛數公尺。翻攝畫面騎士倒在地上一動也不動。翻攝畫面', 4775])\n",
      "125\n",
      "insert into news_entry(link,category,title,time,summary,view_cnt) values(?,?,?,?,?,?)\n",
      "dict_values(['http://www.appledaily.com.tw//realtimenews/article/sports/20160511/858626/喬丹為何哭？\\u3000哭到網友都認不得', '體育', '喬丹為何哭？\\u3000哭到網友都認不得', '2016/05/11 14:11', 'Reddit user asks \"who is that crying black dude?\" https://t.co/vlYHLoOWq1 pic.twitter.com/Pw21T9AkCc— Complex (@ComplexMag) May 10, 2016「籃球之神」喬丹(Michael Jordan)在籃球界的地位可說是無人不知，無人不曉。但今天在美國論壇Reddit上就有名瑞典網友貼上「喬丹哭哭圖」天真問說：「這黑人老兄是誰啊？為什麼每次有球隊在季後賽被淘汰我就看到這張圖？」引起眾多網友熱議。但他隨即就將發文刪掉，並表示：「我當然認識喬丹，但從來沒認出他來(指照片)。」\\xa0這張圖是喬丹在2009年喬丹入選名人堂時激動落淚時所拍攝的畫面，後來被網友惡搞因此成為網路上永久流傳的經典惡搞圖。也許正是平時喬丹打球的樣子，跟淚流滿面的他樣子真的差很多所以這名網友才認不出來。（丁曉祥／綜合報導）', 5893])\n",
      "126\n",
      "insert into news_entry(link,category,title,time,summary,view_cnt) values(?,?,?,?,?,?)\n",
      "dict_values(['http://www.appledaily.com.tw//realtimenews/article/politics/20160511/858585/【民報】槍斃鄭捷好貼心？羅瑩雪：不讓邱太三為難', '政治', '【民報】槍斃鄭捷好貼心？羅瑩雪：不讓邱太...', '2016/05/11 14:10', '本內容由民報提供\\xa0(摘錄 全文請連結民報)政治中心／綜合報導\\xa0台北捷運殺人案造成4死22傷，兇手鄭捷昨天晚間執行槍決。法務部長羅瑩雪今（11）日表示，批准執行死刑，是因為鄭捷在眾目睽睽之下施暴，對社會治安產生很大不良影響，「鄭捷這個死刑是他為自己判的」，她還認為即將接任的邱太三執行死刑「會不會有些為難」。\\xa0媒體詢問，有人批評她搶功，把「鄭捷這一筆」記在自己任內，而非即將接任的邱太三。羅瑩雪否認指出，事實上她未曾跟邱太三討論過死刑，過去印象民進黨有些立委支持廢死，「我反而覺得邱太三對執行死刑會不會有些為難」。邱太三昨晚也對媒體表示，自己事前並不知道鄭捷槍決一事。\\xa0羅瑩雪上午出席行政院會議前受訪說，鄭捷是......(摘錄 全文請連結民報)', 1689])\n",
      "127\n",
      "insert into news_entry(link,category,title,time,summary,view_cnt) values(?,?,?,?,?,?)\n",
      "dict_values(['http://www.appledaily.com.tw//realtimenews/article/life/20160511/857815/【有片】吃了這個\\u3000大姨媽來不停', '生活', '【有片】吃了這個\\u3000大姨媽來不停', '2016/05/11 14:06', '(更新：增加影片)\\xa0頻繁使用緊急避孕藥易打亂經期，導致不規則出血，馬偕紀念醫院婦產科主治醫師翁嘉穗表示，日前收治1位年輕女性，性行為時不避孕，1個月內吃了3次事後藥，結果導致整個月陰道不規則出血，大幅增加血管栓塞風險，尤其若家族女性有血栓病史者，更忌使用。\\xa0翁嘉穗醫師提到，事後藥所含的黃體素劑量高於一般避孕藥的8倍，高濃度的黃體素進入人體後，會影響荷爾蒙與雌激素分泌，打亂原本的月經周期，建議避孕仍應使用一般避孕藥、保險套，或是可自費約6000元裝設子宮內投藥系統，較傳統避孕器更少感染風險。（黃子倫／台北報導）\\xa0出版時間：10:32更新時間：14:06\\xa0\\xa0\\n事後藥易導致經血失調，頻繁出血。設計畫面／資料照片', 6326])\n",
      "128\n",
      "insert into news_entry(link,category,title,time,summary,view_cnt) values(?,?,?,?,?,?)\n",
      "dict_values(['http://www.appledaily.com.tw//realtimenews/article/entertainment/20160511/858025/女團成員被P出2隻右腳\\u3000網友酸「很難買鞋」', '娛樂', '女團成員被P出2隻右腳\\u3000網友酸「很難買鞋...', '2016/05/11 14:06', '美國流行女團「五佳人」（Fifth Harmony）4年前在選秀節目《X Factor》成軍出道，以流行舞曲走紅的她們日前推出單曲《Work from Home》，副歌旋律洗腦，MV已有近1億人次點閱，她們登上最新一期《告示牌》雜誌封面，拍攝一系列沙龍美照，卻被網友抓包修圖修很大，成員艾莉布魯克竟然被修出2隻右腳，網友笑稱：「一定很難買鞋。」\\xa0「五佳人」2012年參加選秀比賽被評審賽門克威爾相中簽約，她們日前為《告示牌》雜誌拍攝沙龍照，其中一張照片卻把艾莉的雙腿修圖修成2隻右腳，但該照並未刊出。艾莉在個人IG貼出修圖特寫照自嘲：「當你有2隻右腳還想裝可愛。」粉絲也開玩笑說「她真的沒有2隻右腳嗎」？「一定很難買鞋」。（謝宛儒／綜合報導）', 8982])\n",
      "129\n",
      "insert into news_entry(link,category,title,time,summary,view_cnt) values(?,?,?,?,?,?)\n",
      "dict_values(['http://www.appledaily.com.tw//realtimenews/article/fashion/20160511/858476/VALENTINO鉚釘風衣\\u3000追求中性不完美', '時尚', 'VALENTINO鉚釘風衣\\u3000追求中性不完...', '2016/05/11 14:06', '「仙女牌」VALENTINO近期與藝術家Vanessa Beecroft攜手合作，創作嶄新的Rockstud Untitled膠囊系列。將於2016秋季上市的新作概念來自日本「侘寂」美學，以手工裝飾大量鉚釘，追求不完美的美，並以風衣、圓領毛衣、白襯衫等經典輪廓落實中性美學風潮。Rockstud Untitled系列每件精品各有編號，由1至12順序排列，編號標籤繫於包裝服裝的軟帆布袋上。\\xa0前陣子在紐約藝術學院舉行的「VB_Valentino_Untitled 01」藝術表演，由25位男女詮釋Rockstud Untitled膠囊系列的中性思想，當中包括演員艾美莉莫添瑪和夫婿艾歷山度利奧拿、名模Nicolas Malleville及其他在街頭選角的性格人物。\\xa0VALENTINO創作總監Maria Grazia Chiuri與Pierpaolo Piccioli表示：「我們希望創作一組獨一無二的中性服飾，所以構思了Rockstud Untitled系列。我們認為標記可以賦予物件和人物特質，用金色鉚釘作裝飾，令每件服飾也有即時可辨認的設計特點。很高興請來Vanessa實現我們的意念，她的演繹來得很自然，沒有誰比她更了解我們的心意。她的手法時尚而具感染力，巧妙地把美感、現實、完美、獨特和多元概念融入藝術。在她的藝術表演裡，不同人物穿上「制服」分享一個獨特時刻，一切只為了表達個人對美的信念。我們希望穿着這系列精品的顧客也可以感受這美妙的一刻。」（薛佳甯／台北報導）\\xa0\\xa0\\nVALENTINO近期與藝術家Vanessa Beecroft合作推出Rockstud Untitled膠囊系列。品牌提供VALENTINO近期與藝術家Vanessa Beecroft合作推出Rockstud Untitled膠囊系列。品牌提供VALENTINO近期與藝術家Vanessa Beecroft合作推出Rockstud Untitled膠囊系列。品牌提供VALENTINO近期與藝術家Vanessa Beecroft合作推出Rockstud Untitled膠囊系列。品牌提供VALENTINO近期與藝術家Vanessa Beecroft合作推出Rockstud Untitled膠囊系列。品牌提供VALENTINO近期與藝術家Vanessa Beecroft合作推出Rockstud Untitled膠囊系列。品牌提供VALENTINO近期與藝術家Vanessa Beecroft合作推出Rockstud Untitled膠囊系列。品牌提供前陣子在紐約藝術學院舉行的「VB_Valentino_Untitled 01」藝術表演，由25位男女詮釋Rockstud Untitled膠囊系列的中性思想。品牌提供', 576])\n",
      "130\n",
      "insert into news_entry(link,category,title,time,summary,view_cnt) values(?,?,?,?,?,?)\n",
      "dict_values(['http://www.appledaily.com.tw//realtimenews/article/local/20160511/858610/「我與我的鄭捷學長」\\u3000再掀網友熱議', '社會', '「我與我的鄭捷學長」\\u3000再掀網友熱議', '2016/05/11 14:02', '北捷殺人案兇手鄭捷昨晚遭伏法，讓去年《蘋果》一篇文章「我與我的鄭捷學長」再度被網友討論。這篇文章是由一位名叫「鄭捷」的成大法律系大學生所投稿，文中透露他小學時與北捷殺人犯鄭捷同校，也因為同名名姓引起許多意外。\\xa0成大生「鄭捷」說「北捷事件發生，許多老師才知道在那時的校園裡有兩個鄭捷。」、「當我與鄭捷學長同在一個校園時，他透過廣播或許認識了我，但包括我的多數人卻完全無意識他的存在。」\\xa0成大「鄭捷」也說「當一個鄭捷站在台上接受掌聲時，有一個因此而懷疑自己、失落內傷的鄭捷站在台下，那是一個教育環節最殘忍的時刻」。\\xa0對於這篇投稿，則有一位名叫「西風」的網友投稿「呼應〈我與我的鄭捷學長〉」，「西風」認為在資源與榮耀的大水庫理論中，你消我長是不可避免之惡，直言「現今的教育現象就像是披著羊皮的狼，表面上適性揚才、發展多元智能、教學正常化，實際上智育至上的升學主義與過去相比有過之而無不及」。(葉國吏/綜合報導)\\n網友投稿「呼應《我與我的鄭捷學長》」。翻攝《蘋果》', 33706])\n",
      "131\n",
      "insert into news_entry(link,category,title,time,summary,view_cnt) values(?,?,?,?,?,?)\n",
      "dict_values(['http://www.appledaily.com.tw//realtimenews/article/international/20160511/858238/【有片】克卜勒望遠鏡\\u3000新發現1284個系外行星', '國際', '【有片】克卜勒望遠鏡\\u3000新發現1284個系...', '2016/05/11 14:00', '（新增配音影片）\\xa0美國太空總署（NASA）10日宣布，克卜勒望遠鏡（Kepler）又發現1284個系外行星，當中9個可能為宜居行星，且可能有液態水，這是克卜勒望遠鏡發現截至目前最大一群聚集在一起的行星，其中近550個行星，大小類似地球佈滿岩石。\\xa0加上此次發現，克卜勒發現的系外行星數目增至2325個，所有已知的系外行星數達3264個。\\xa0耗資6億美元的克卜勒任務於2009年3月展開，是NASA在適居帶或接近適居帶尋找繞行遠方恆星的近地行星的首個任務。（國際中心／綜合外電報導）\\xa0發稿時間：03:39更新時間：14:00\\n照片來源：NASA', 22616])\n",
      "132\n",
      "insert into news_entry(link,category,title,time,summary,view_cnt) values(?,?,?,?,?,?)\n",
      "dict_values(['http://www.appledaily.com.tw//realtimenews/article/international/20160511/858339/【更新】慟！前公辯律師護民30載\\u3000疑遭親侄兒手刃', '國際', '【更新】慟！前公辯律師護民30載\\u3000疑遭親...', '2016/05/11 13:56', \"（更新：新增動新聞）\\xa0悲！一位主打青年罪行官司，畢生為人辯護無數的前公辯律師，上週五疑似被親侄兒殺害。舊金山前首席檢察官薩莫拉（Marla Zamora）上周五遇刺身亡。警方剛公布疑犯資料，指嫌犯是死者的親姪兒，他今被正式控以謀殺罪。\\xa0警方周一公布案中被告是20歲青年，舊金山居民安吉洛（ Angelo Zamora）。他於案發後被捕，原訂周二於高等法院出庭作認罪應訊，但因仍留醫，而延後一天，法官托普高（Edward Torpoco）將他的保釋金訂在1千萬美元（約3億2千萬台幣），他目前在舊金山總醫院羈留候審。\\xa0據悉，他患有精神病，犯案動機未明，但被指於凶案發生前，在屋內與姑姑薩莫拉發生爭執。\\xa0數名死者親友這天現身高等法院，神情哀戚。他們的發言人，公辯律師賀大器（Jeff Adachi）於庭外透露，死者親友原希望尋求舊金山公共辯護辦公室（San Francisco Public Defender's Office）的律師代表辯護，但鑑於那是死者生前工作處，她與裡面的職員熟稔，基於利益衡突遭否決，因此改由加州馬林郡（Marin County）派出辯護律師，「相信薩莫拉也會明白這個決定較為公正」。賀大器又說：「對所有認識她的人來說，這是個非常艱難的時期，我們很想念她，她是個了不起的人物！」\\xa0上周五早上約11時，警方接報稱Arkansas街一個公寓單位發生兇殺案，到案時薩莫拉已沒生命跡象，被刺後倒斃在家中，當場證實死亡，終年65歲。薩莫拉住所外仍擺滿民眾所獻的鮮花，附以悼念語句。\\xa0薩莫拉畢業於加州大學哈斯汀法學院（Hastings College of the Law），於公辯辦服務超過30年，離職前為首席檢察官，被法律界同僚形容為是位「大無畏精神的倡導者」。她任內助人無數，挺身而出的案件中，包括轟動全美的羅慕斯（Edwin Ramos）殺人案。羅慕斯本為非法移民黑道中人，薩莫拉當年代表他辯護，飽受爭議。她退休後時有接手私人案件，不時提攜後輩。據了解，她對青年罪犯的案件格外關心，對姪子安吉洛一直非常關懷。\\xa0警方呼籲，任何有案件進一步消息者，盡快透過匿名熱線 (415) 575-4444向當局提供。\\xa0出版：09：44更新：13：40\\xa0\\xa0\\n舊金山退休公辯律師薩莫拉（Marla Zamora）遭殺害，疑兇是她的姪兒。翻攝網絡警方正式起訴死者薩莫拉的20歲姪兒安吉洛（ Angelo Zamora）。警方提供圖片死者薩莫拉（Marla Zamora）（左一）服務公共辯護辦公室逾30年，主打青年罪行官司。翻攝舊金山紀事報凶案現場死者住所外，周二仍放滿民眾所獻的鮮花，悼念為民服務多年的公辯律師。唐芷瑩攝公辯律師賀大器（Jeff Adachi）表示，由於死者有身份衝突，公辯辦無法派員為前同僚辯護。唐芷瑩攝\", 4834])\n",
      "133\n",
      "insert into news_entry(link,category,title,time,summary,view_cnt) values(?,?,?,?,?,?)\n",
      "dict_values(['http://www.appledaily.com.tw//realtimenews/article/entertainment/20160511/858583/【有片】楊麗花夫爆出私生子\\u3000愛徒陳亞蘭說...', '娛樂', '【有片】楊麗花夫爆出私生子\\u3000愛徒陳亞蘭說...', '2016/05/11 13:55', '71歲的「歌仔戲國寶」楊麗花3月才烏龍傳出跟醫師老公洪文棟，為了家產問題鬧離婚「分居中」，今又被《壹週刊》爆出老公有個55歲的私生子徐國璋，將從美國跨海提訴訟，要求認祖歸宗改姓洪。楊麗花的徒弟亞蘭今受訪無奈表示「這些問題，問我們晚輩也沒有辦法回答」。\\xa0陳亞蘭今錄《華視天王豬哥秀》前受訪，提到師父「家事」」又鬧紛爭，表示自己今天一早就出門，還來不及問楊麗花這件事情。自己平常會去陪師父小住，楊麗花的心情一直都挺好的，但師徒倆平常也不大會聊私事，都在討論舞台造型或是表演。陳亞蘭最後大嘆「清官難斷家務事，我這個嘉慶君（節目角色）也難處理」。（葉文正、毛敬智/台北報導）\\xa0\\xa0\\n陳亞蘭今錄《華視天王豬哥秀》前受訪無奈表示「這些問題，問我們晚輩也沒有辦法回答」。陳賜哿攝陳亞蘭（右)和師父楊麗花情同母女。資料照片', 15460])\n",
      "134\n",
      "insert into news_entry(link,category,title,time,summary,view_cnt) values(?,?,?,?,?,?)\n",
      "dict_values(['http://www.appledaily.com.tw//realtimenews/article/life/20160511/858615/旅行社線上旅展激殺夏威夷6天2萬9900元起', '生活', '旅行社線上旅展激殺 夏威夷6天2萬990...', '2016/05/11 13:55', '台北夏季旅展雖為期3天，不過許多旅行社線上旅展已開跑，提早炒熱買氣。其中鳳凰旅行社夏威夷6日遊團體自由行2萬9990元起、洛杉磯環球影城哈利波特7日遊3萬3990元起、及西班牙11日6萬9900元起；雄獅旅遊則是從即日起至5/31推出線上「每日秒殺行程」，香港自由行3日4699元起及國內行程忘憂森林1900元起，且2人同行1人免費。\\xa0旅展現場則有五福旅行社促銷澳門3日4888元(只含1晚酒店)起，東京迪士尼5日遊3萬5800元起，兒童享半價、第2人減4000元；易飛網沖繩4日自由行9990元起、東京5日9900元起；華泰旅遊韓國首爾5日遊9888元起、喜鴻旅行社沖繩自由行4日8999元起。\\xa0另外，長程線有迎家旅行社杜拜阿布達比7日2萬9900元起、友泰旅行社土耳其+烏魯木齊10天原價4萬6900元起，旅展特價2萬9900元起，埃及尼羅河遊輪紅海10天原價5萬4900元起，特價4萬7900元起，以上價格均已含稅金。(陳姿吟／台北報導)\\xa0洽詢電話復興航空(02) 412-8133鳳凰旅行社(02)2537-8111雄獅旅遊(02)8793-9669五福旅遊(02)2547-1155華泰旅遊(02)2509-4888喜鴻旅行社(02) 412-8618迎家旅行社(02)6600-1688友泰旅行社(02)7701-6866易飛網(02)7725-0900\\xa0更多資訊請看吃喝玩樂蘋果花粉絲團\\xa0想知道更多親子遊去處，請參加蘋果花客製親子遊社團\\xa0\\n【想知道更多，一定要看……】台北夏季旅展5/20登場 將狂送百張機票針對暑假檔期親子團優惠，東京迪士尼5日遊享兒童半價、第2人減4000元。', 1618])\n",
      "135\n",
      "insert into news_entry(link,category,title,time,summary,view_cnt) values(?,?,?,?,?,?)\n",
      "dict_values(['http://www.appledaily.com.tw//realtimenews/article/life/20160511/858613/【獨家有片】國宴一桌2萬元\\u3000比婚宴還便宜', '生活', '【獨家有片】國宴一桌2萬元\\u3000比婚宴還便宜', '2016/05/11 13:54', '2016總統就職520國宴倒數計時，繼小英啤酒全民瘋搶，禮賓員服裝發表及國宴菜色陸續曝光，菜色有人說好，但也有人批評是了無新意，總統國宴主廚、高鋼輝接受蘋果獨家專訪時表示，國宴賓客菜色每人預算2000元，還要符合在地、得時，並要融合族群及文化精神，這場國宴很難做。\\xa0但舉辦國宴是飯店殊榮，今年主辦總統國宴的台北萬豪酒店表示咬牙也要完成這個重要任務，並在今天下午正式公布國宴菜色。現任萬豪中餐廳主廚，目前還兼任台北西華飯店中餐主廚的高鋼輝也將以國宴主廚身分現場示範國宴料理。曾為美國前總統老布希、英國前首相柴契爾夫人、導演李安上菜的高鋼輝表示，今年國宴除了要使用各縣市食材，還要融合原住民、客家文化，從選擇食材、製做到擺盤，都很不容易。\\xa0目前在台北市的五星飯店的一桌宴會桌席平均3萬元左右，像是台北君悅酒店三樓宴會廳一桌28000元到29000元起，可以吃到大明蝦或小龍蝦、肋眼牛排等10道菜色；台北晶華酒店宴會廳一桌約3萬元，若想指定一人2000元的宴會餐點，龍蝦和鮑魚可以二擇一，但是龍蝦只吃得到半隻。4年前圓山飯店為總統馬英九舉辦第13屆就職國宴料理，一人8道菜成本1600元，即使把預算壓到最低，但仍遭民眾批評：「時機歹歹，國宴上大吃龍蝦太瞎。」\\xa0國宴要辦得得體，又要顧及全民觀感，拿捏大不易。高鋼輝說：「今年國宴菜色共有9道菜，像是頭盤福爾摩沙之春就很有難度，像是其中的海鮮凍，要融合各地食材，像是拉拉山水蜜桃及神農獎的雞等都入菜，菜色變化多，在排盤和搭配上都是大挑戰。」(林嘉琪/台北報導)\\n2016國宴共有9道菜，一套國宴菜色預算2000元，每桌2萬元。國宴前菜小盤為雲林刺蔥帝豆 / 梅汁大甲芋頭 / 醋漬木耳蓮藕。台北萬豪酒店提供國宴菜色之一蔥蒜蒸龍蝦，選用澎湖海域的龍蝦。台北萬豪酒店提供顧及國賓禮賓可能不吃牛，主菜之一是來自雲林的爐烤快樂豬。台北萬豪酒店提供國宴米食要吃客家炒粄條。台北萬豪酒店提供國宴湯品是一道刀工細緻的錦繡菊花雞湯。台北萬豪酒店提供國宴菜色的另一道海鮮料理是樹子蒸龍膽。台北萬豪酒店提供第一道迎賓盤是高鋼輝認為難度最高的福爾摩沙之春，用了海鮮凍、拉拉山水蜜桃及神農獎的雞等材料入菜。台北萬豪酒店提供現任萬豪中餐廳主廚還兼任台北西華飯店中餐主廚的高鋼輝，是台灣首位女總統蔡英文總統就職國宴主廚。資料相片台灣第一位女總統蔡英文的520總統就職國宴全民矚目。資料相片民進黨主席、總統當選人蔡英文520總統就職國宴確定於萬豪酒店登場，預計有1200位賓客出席。台北萬豪酒店提供', 20962])\n",
      "136\n",
      "insert into news_entry(link,category,title,time,summary,view_cnt) values(?,?,?,?,?,?)\n",
      "dict_values(['http://www.appledaily.com.tw//realtimenews/article/international/20160511/858617/描述如何烹煮人肉\\u3000港血腥小說沒封套惹議', '國際', '描述如何烹煮人肉\\u3000港血腥小說沒封套惹議', '2016/05/11 13:52', '香港年輕網絡作家「恐懼鳥」所創作的「黑暗網絡」題材讀物《DEEP WEB FILE#網絡奇談》(《DEEP WEB》)，最近引爆香港家長恐慌。《DEEP WEB》內容充滿難以想像的神秘活動，人口販賣、血腥儀式、邪教結社，甚至有烹煮女孩步驟的描述，吸引到不少心智仍未成熟的學生成為書迷，銷量非常火爆，更成為本港連鎖書店的十大暢銷書籍，情況已引起教師及家長憂慮，擔心學生有樣學樣。\\xa0《DEEP WEB》是「恐懼鳥」首本作品，他最近已推出新作《Deep Web File 2.0人性奇談》，並在臉書粉絲專頁介紹新作：「除了一如以往有大量鮮血橫飛的情節（例如病態戀童癖者教授如何烹煮小孩）外，今次更加著墨描繪Deep Web裡頭不同角色的人的心理，窺探他們的內心掙扎，以及詳細分析Deep Web犯罪網絡怎樣運作」，聲稱讓讀者思索環繞生活四周圍的「黑暗」。\\xa0不過，由於作品吸引到大批青少年讀者，情況已引起家長及教師關注，不少家長已在WhatsApp群組及網上討論區聲討書籍教壞小孩，指該書「內容是將網上世界既暴力，色情，殺人，變態等等兒童不宜內容，將之譯作中文及文字化」，最擔心是該書沒有封套，在各大型書局都能輕易買到，更是誠品Top 10，但卻沒有警告字句及任何封條去讓人識別內容存在暴力成份。有教師更在群組指，曾見學生在校園閱讀該書，被同事沒收，呼籲老師們留意。\\xa0香港《蘋果》記者今早到銅鑼灣誠品了解，發現原先放在暢銷書籍排行榜第一及第四位的「恐懼鳥」作品，已被員工拿走，當值職員指該書並非下架，但如要購買，讀者必需出示身份證，證明年滿18歲。\\xa0作者「恐懼鳥」在臉書粉絲專頁表示得知此事，聲稱已第一時間和出版社商量問題，又指早已在封面多加警告和描述本書內容絕對會令人不安，不少書店早已把書本包膠，「但明顯地，我們的措施還未足夠，所以我們很樂意接受各家長和學校的意見，正積極商量對策，並保證會加強書本上的警告字句，讓人一眼便知曉書本內容的恐怖性，對於還未包膠的書店，出版社也會和他們協商，儘力避免同類型的事件發生。」\\xa0「恐懼鳥」在出版《DEEP WEB》後曾接受訪問，被問到書本內容令人驚訝，他答道：「當你知道全球每天有多少謀殺、強姦案件，有多少失蹤人口，你便不會再對deep web的內容感到驚訝。」（大陸中心／綜合報導）\\n翻攝網路', 663])\n",
      "137\n",
      "insert into news_entry(link,category,title,time,summary,view_cnt) values(?,?,?,?,?,?)\n",
      "dict_values(['http://www.appledaily.com.tw//realtimenews/article/local/20160511/858535/GMP藥廠幹黑心事\\u3000即期藥改標再賣', '社會', 'GMP藥廠幹黑心事\\u3000即期藥改標再賣', '2016/05/11 13:48', '（新增：照片）\\xa0彰化縣彰化市的GMP藥廠的大豐製藥股份有限公司，涉嫌在藥廠外搭建一鐵皮倉庫，從事暗帳、改換藥品包裝等不法，彰化地檢署昨前往搜索，當場查獲2名員工正在拆除某品牌藥物抗黴菌液外包裝，以便改換包裝盒批號，達到延長效期的目的，檢方並扣得其涉嫌逃漏稅的進銷項、內帳、公司內部簽呈、電腦檔案等資料，已交由國稅局核算逃漏稅金額。\\xa0因 鐵皮屋內藥品品項及數量龐大，檢方先封存，待食品藥物管理署派員協助清點查核。檢方拘提葉姓廠長、陳姓副理、游姓包裝組長及傳喚吳姓會計與現場2名員工到案，對犯行大致坦承，訊後檢方認為涉嫌違反《藥事法》、《刑法》偽造文書等罪嫌，諭知葉、陳、游3被告各以100萬元、20萬元、5萬元交保，其餘請回。《蘋果》記者前往該藥廠，員工否認有改標情事。而該藥廠去年4月間因其由厚生製藥委託生產的「厚生胃散」，使用允成化工無藥證原料碳酸鈣作主成分，食藥署已要求廠商下架，也被依藥事法處罰3萬元。\\xa0（鄧惠珍、詹智淵／彰化報導）\\xa0發稿時間：21:46修改時間：13:48\\xa0\\n【想知道更多，一定要看……】即期藥改標再賣\\u3000醫師：恐讓病情更嚴重藥廠涉嫌將有效期限2018年舊包裝改換2020年新包裝。翻攝畫面。藥廠涉嫌改換藥品包裝遭檢警搜索。詹智淵攝。', 11749])\n",
      "138\n",
      "insert into news_entry(link,category,title,time,summary,view_cnt) values(?,?,?,?,?,?)\n",
      "dict_values(['http://www.appledaily.com.tw//realtimenews/article/local/20160511/858596/過肩摔還沒用\\u300032歲就被60歲KO', '社會', '過肩摔還沒用\\u300032歲就被60歲KO', '2016/05/11 13:46', '高雄市一名無業張姓男子昨日上午11時40分許，騎車行經一處檳榔攤，由於張男先前曾向檳榔攤女老闆的黃姓哥哥借3000元未還，見黃男坐在店內又開口借錢，黃男出示皮夾，指生病剛出院繳了2萬多元，沒錢可借，未料，張男瞧見黃皮夾內有千元大鈔，搶了2千元後，棄車拔腿往巷弄逃逸，一旁的大樓周姓管理員聽到黃男喊「搶錢呀！」隨即騎車載被害人追搶嫌，在300公尺處發現搶嫌，追到搶嫌後，嗆再跑我就搓死你，雖搶嫌聲稱是黃男要借錢給他，周男未聽信其說詞，將他扭送法辦！\\xa0警方指出，張姓搶嫌（32歲，有竊盜、毒品前科），先前在檳榔攤旁的卡拉OK上班，認識黃姓被害人，但張上班一個多月後即離職，失業後，曾向黃借3000元未還，昨早11時40分許，張嫌騎車經過瑞隆路檳榔攤前，見黃男坐在檳榔攤，上前開口借錢。\\xa0黃因前一天大病初癒剛出院，打開皮夾對張說；「我才繳2萬多元住院費，沒甚麼錢借你」，張見皮夾內有千元大鈔，趁黃不注意，伸手搶了2000元，棄車逃離現場。\\xa0黃男大喊搶錢，一旁的大樓周姓管理員聞聲，見義勇為，問黃男「哪一個搶你的錢」，黃用手指：「前面在跑的那個」，周男隨即騎車勇追張嫌，追了300公尺，見張嫌徒步快跑，近身貼近張嫌，由於張嫌身材不到170公分、體型瘦弱，周男下車擋住張去路，質問：「為何搶別人的錢？」張辯稱；是黃男借他的，周未聽信黃男說詞，請一旁計程車司機報警，將張嫌扭送法辦。\\xa060多歲的周姓管理員學化學工程出身，原本承包工程，因沒生意可做，去年加入保全行業，剛當大樓管理員4個月，周男謙虛地表示，「這沒甚麼，因為聽到檳榔攤的黃男喊搶錢的聲音，研判搶嫌跑不遠，當下立即騎車追人，並指若搶嫌反抗，或有攜帶凶器，就會將他過肩摔，警方偵訊後依《搶奪罪》將張嫌送辦。（石秀華／高雄報導）\\xa0\\n張嫌辯稱是向被害人借錢，但卻搶了錢卻棄機車拔腿逃逸，被警方依搶奪罪送辦。翻攝周姓管理員見義勇為，敘說逮搶匪經過。石秀華攝發生搶案的瑞隆東路口。石秀華攝', 8783])\n",
      "139\n",
      "insert into news_entry(link,category,title,time,summary,view_cnt) values(?,?,?,?,?,?)\n",
      "dict_values(['http://www.appledaily.com.tw//realtimenews/article/life/20160511/858607/對流發展旺盛\\u3000雲林至高雄防大雨與雷擊', '生活', '對流發展旺盛\\u3000雲林至高雄防大雨與雷擊', '2016/05/11 13:45', '由於對流雲系發展旺盛，中央氣象局剛剛發布即時天氣訊息，氣象局指出，目前台灣海峽對流雲系發展旺盛並即將移入，雲林至高雄沿海地區民眾請注意瞬間大雨、強陣風及雷擊。（生活中心／台北報導）', 1565])\n",
      "140\n",
      "insert into news_entry(link,category,title,time,summary,view_cnt) values(?,?,?,?,?,?)\n",
      "dict_values(['http://www.appledaily.com.tw//realtimenews/article/finance/20160511/858612/你買了沒？\\u3000未來半年逾1成消費者擬買VR產品', '財經', '你買了沒？\\u3000未來半年逾1成消費者擬買VR...', '2016/05/11 13:45', '市場研究公司Newzoo所做遍及12個西方國家的全新線上調查指出，11%的消費者有計劃在未來6個月內購買虛擬實境產品，其中西班牙人擁有最高的購買意願，加拿大人則願意花最多錢購買虛擬實境產品。\\xa0在此最新報告中，受訪者來自12個國家，根據文化背景與對虛擬實境的關注度回覆興趣等級。在Newzoo的報告中，除美國的樣本數為3000人外，其他各個國家的樣本數為2000人，結果指出，消費者對虛擬實境的關注與了解遠超過人們所想。\\xa0當受訪者被詢問「在未來6個月內，你計劃購買虛擬實境產品嗎？」，令人意外地有高達16%的西班牙人、12%的美國人與10%的英國人表示「是，有計劃購買」；僅有4%的荷蘭人有意願購買虛擬實境產品，甚至有15%的比利時人未關注虛擬實境的話題。\\xa0根據Newzoo的報告，在虛擬實境產品中願意投入相對高金額的比例，竟出乎意料地高，此現象在此報告中對高科技敏感族群的核心人群-遊戲玩家更明顯。舉例來說，雖然僅7%的加拿大人有計劃購買虛擬實境產品，但其中28%已在相關產品上花費超過600美元，而在同個受訪題目中，有24%的瑞典人與18%的英國人在相同金額級距中。\\xa0雖然VR已經開始進入民眾的生活，但這只是個開始，虛擬實境產品於今年在消費者市場中跨出了第一步，使得所有人得以更進一步探索與了解。無庸置疑地，目前市場處於虛擬實境最好的發展並帶來消費者最能負擔得起的虛擬實境技術，但未來的機會更比目前所見還要更大，高階虛擬實境裝置於今年1月起開始接受預購，相信在經過耶誕及跨年等假期後，在新的1年將能看出端倪。（陳俐妏／台北報導）', 1100])\n",
      "141\n",
      "insert into news_entry(link,category,title,time,summary,view_cnt) values(?,?,?,?,?,?)\n",
      "dict_values(['http://www.appledaily.com.tw//realtimenews/article/forum/20160511/858609/張景森失言已超過八秒了！', '論壇', '張景森失言已超過八秒了！', '2016/05/11 13:44', '作者：呂孝佛（文字工作者）\\xa0按照蔡英文的執政標準：八秒鐘失言，毀掉八年累積。林全則提醒準內閣團隊：人民期待我們解決問題，而不是製造爭議。站在公民的立場，張景森失言已超過\\xa0八秒了。在520前，筆者贊同林飛帆前一陣子的提議：能否請民進黨新政府把張景森從內閣名單裡刪除！\\xa0張景森的失言爭議已不止一次，道歉也不止一次。從捅出電價爭議，到指文林苑王家都更案是「史上最Kuso的一場社會運動」熱議；還貼上一位女性裸露雙峰，文字則寫「明天早上六點，爬九五峰。意者私訊」，被網友截圖轉傳，痛批「準閣員公然性騷擾」。引起社會譁然。到近日520總統就職典禮「穿夾腳夾腳拖和短褲應定為正式服裝」，又引發藍綠立委反對，連準文化部長鄭麗君都說：國家不須評論人民穿著！而骨科醫師也認為非常極端，有的醫師認為，若夾腳拖穿太久，容易導致小腿和背部痠痛等等。\\xa0即便是才高八斗或點子王，既然當了閣員，就要像個「大臣」樣子，知止不辱，不是當名嘴，或作家，言行舉止，自受社會矚目。而今民進黨苦了八年翻身，靠人民支持，若不謹言慎行，一樣會被推翻。所謂人民「能載舟，亦能沉舟」，這就是蔡英文心之所危的地方，民進黨豈能忽焉！如今一再耳提面命，言猶在耳，況且「君無戲言」，倘若一再「縱容」閣員恣意妄為，人民是絕不會「包容」的，切記！切記！\\xa0任何團隊必須紀律嚴明，該怎麼做就怎麼做，一切要以大局為重。但張景森尚未上任，一再惹起爭議，就已是「不適格、不勝任」了，他本人更應知所進退，可留下好的身影！\\xa0《即時論壇》徵稿\\xa0你對新聞是否不吐不快，《蘋果日報即時新聞》新闢《即時論壇》，歡迎讀者投稿，對新聞時事表達意見。來稿請寄onlineopinions@appledaily.com.tw，文長以500到1000字為度，一經錄用，將發布在蘋果日報即時新聞區，唯不付稿酬。\\xa0請勿一稿兩投，本報有刪改權，當天未見報，請另行處理，不另退件或通知。', 2983])\n",
      "142\n",
      "insert into news_entry(link,category,title,time,summary,view_cnt) values(?,?,?,?,?,?)\n",
      "dict_values(['http://www.appledaily.com.tw//realtimenews/article/international/20160511/858602/曾捲薄熙來案前央視女主播姜豐秀海外豪宅', '國際', '曾捲薄熙來案 前央視女主播姜豐秀海外豪宅', '2016/05/11 13:43', '曾為中國重慶前市委書記薄熙來持有法國別墅的央視女主播姜豐，昨在微博上大秀她在海外的豪宅及品味生活，她留言稱：「週日的早上，我們都穿著睡衣，吃了今年夏天的第一頓花園早餐。只要太陽照常升起，人類就不乏幸福感。」不過，相關的微博已經被刪除。\\xa0在薄熙來案爆發後，現年45歲的姜豐被指是代替遭谷開來毒殺的英國人海伍德，管理薄熙來在法國的別墅，而在谷開來審訊期間，谷稱姜豐是遼寧大連富商徐明的「女朋友」。\\xa0上海復旦大學畢業的姜豐，1994年到中央電視台工作，至2011年離職到英國劍橋大學升學，期間遇到英籍丈夫，並且結婚，2007年誔下一子一女，她亦已取得英國國籍。（大陸中心／綜合報導）\\n翻攝網路', 4600])\n",
      "143\n",
      "insert into news_entry(link,category,title,time,summary,view_cnt) values(?,?,?,?,?,?)\n",
      "dict_values(['http://www.appledaily.com.tw//realtimenews/article/international/20160511/858290/【有片】熊本熊休息25天正式開工\\u3000粉絲飆淚', '國際', '【有片】熊本熊休息25天正式開工\\u3000粉絲飆...', '2016/05/11 13:42', '（更新：新增41J配音版影片）\\xa0日本熊本自上月中旬發生大地震以來，「營業部長」熊本熊表示救難第一，於是暫停所有活動，在休息25日之後，昨日熊本熊正式開工。\\xa0據《日本電視台》報導，雖然熊本熊已在本月5日溫暖回歸，探望災區的小朋友，但昨日才是熊本熊正式上工的日子。許多粉絲看到熊本熊上班，忍不住當場飆淚。有粉絲表示，熊本熊是復興的象徵，能夠療癒人心。還有粉絲爆哭著說：「熊本熊沒事，真是太好了，終於見到面了！」\\xa0未來熊本熊將恢復正常活動，固定每天下午會有2場與粉絲互動的機會。（施旖婕／綜合外電報導）\\xa0發稿：07:38更新：13:42\\n熊本熊休息25天正式開工。翻自《西日本新聞》', 3396])\n",
      "144\n",
      "insert into news_entry(link,category,title,time,summary,view_cnt) values(?,?,?,?,?,?)\n",
      "dict_values(['http://www.appledaily.com.tw//realtimenews/article/life/20160511/858588/怪象！恆春玉荷包不開花結果反抽新芽', '生活', '怪象！恆春玉荷包不開花結果反抽新芽', '2016/05/11 13:42', '原定母親節前上市的恆春玉荷包，今年開花期遇到高溫，花沒開成反倒猛長新芽，讓果農大嘆，沒開花根本無法結果，產量預估僅剩3成，恆春鎮農會今天與高雄農改場到果園調查，確切受災原因還待進一步瞭解。\\xa0果農葉恆泉說，適合玉荷包開花的溫度約17度，年初正值開花期，卻出現30度的高溫，無法開花，種植2公頃的玉荷包僅1、2株有盛開，產期也預估在下周才會陸續上市，產量預估不到3成。\\xa0高雄農改場表示，開花結果是很多因素綜合而成，有無達天然災害的補助標準，需要進一步認定。（李卉婷／屏東報導）\\n恆春玉荷包落果嚴重。李卉婷攝玉荷包出現裂果。李卉婷攝恆春玉荷包產期延後2周，預估下周才會上市。李卉婷攝今天前往勘災。李卉婷攝', 1781])\n",
      "145\n",
      "insert into news_entry(link,category,title,time,summary,view_cnt) values(?,?,?,?,?,?)\n",
      "dict_values(['http://www.appledaily.com.tw//realtimenews/article/life/20160511/858603/台北夏季旅展5/20登場將狂送百張機票', '生活', '台北夏季旅展5/20登場 將狂送百張機票', '2016/05/11 13:40', '2016台北國際觀光博覽會(TTE)也稱台北夏季旅展，即將在下周末5/20~23於台北世貿一館登場。主辦單位台北市旅行商業同業公會於今日(5/11)中午舉辦者會表示，今年總共460家業者、、1200個攤位參展搶暑假商機，再創歷屆新高，主辦單位及航空公司總計將送出100張機票及300個福袋，總價值破千萬元。\\xa0主辦單位推出購買現場票，即可獲得「任意門。遊世界刮刮卡」一張，以「世界第一」主題為獎項，如世界第一間馬卡龍創始店(法國)、第一間星巴克(西雅圖)等等，刮中者等於獲得該航線來回機票，線上再登錄刮刮卡還可加碼參加大會於旅展期間每日17:00額外抽出的機票、住宿券。\\xa0\\xa0另外，旅展首日主辦將發出300個福袋，最小獎也有價值300元，其它還有住宿券、餐券、泡湯券等以及35張機票，總價值達千萬元以上。復興航空適逢65周年慶，配合夏季旅展也送出65張機票，即日起至5/31只要於興航官網、App購買來回機票即可參加抽獎，包含40張不限航點的國際線及國內航線25張。 (陳姿吟／台北報導)\\xa0BOX╱2016夏季旅展台北國際觀光博覽會日期：5/20(五)~5/23(一)時間：10:00~18:00地點：台北世貿一館票價：全票200、優惠票150元電話：(02)2759-7167網址：www.tte.tw\\xa0更多資訊請看吃喝玩樂蘋果花粉絲團\\xa0想知道更多親子遊去處，請參加蘋果花客製親子遊社團\\xa0\\n【想知道更多，一定要看……】旅行社線上旅展激殺 夏威夷6天2萬9900元起購票入場者幸運的話有機會抽中法國來回機票。圖為資料照片', 882])\n",
      "146\n",
      "insert into news_entry(link,category,title,time,summary,view_cnt) values(?,?,?,?,?,?)\n",
      "dict_values(['http://www.appledaily.com.tw//realtimenews/article/finance/20160511/858604/德誼iPadPro開賣\\u3000搭方案送Beats耳機', '財經', '德誼iPad Pro開賣\\u3000搭方案送Bea...', '2016/05/11 13:40', '德誼數位Data Express今天宣布最新iPad Pro 9.7吋即日起開賣！看好9.7吋iPad商機，德誼數位在5月31日前推搭配網卡699資費方案24期，即限量加贈Apple Pencil+Beats Solo 2耳罩式耳機（市價10490元），充分享受iPad Pro原廠配件帶來的美好使用體驗！更限時3天推出urBeats入耳式耳機（市價3900元）75折上市優惠給購買iPad Pro 9.7吋單機消費者！\\xa0德誼數位總經理杜偉昱表示，德誼數位認為這次的iPad Pro 9.7吋很有市場潛力，統計過去1年以來德誼門市iPad銷售，同為9.7吋的iPad/iPad Air系列超過所有銷售的6成以上，顯現消費者選購平板時，輕巧適中的尺寸為考量的第一要素，預計上市後可再掀起一波iPad Pro熱潮。\\xa0iPad Air 系列一直是蘋果暢銷機種，此次推出同樣9.7吋的iPad Pro功能更進化，除了處理器加強外，新增廣色域顯示功能，比以往iPad的色彩飽和度提升25%，True Tone顯示可根據所處環境的光線，自動調整顯示器的色彩與發光強度，讓閱讀起來更舒適自然，配備1200萬像素iSight鏡頭更可拍攝4K影片，讓影像細節更顯真實，尤其搭配Apple Pencil繪畫使用，對流暢敏銳的筆觸感到驚艷。\\xa0考量購買iPad Pro消費者周邊加購的需求，德誼數位這次也推出兩種不同的促銷方案：針對有設計需求的消費者，將Apple Pencil、Beats Solo 2耳罩式耳機組成優惠方案，讓設計師在設計、影音、雲端儲存三個願望一次滿足。\\xa0針對單機消費者，德誼數位貼心洞察iPad Pro使用者注重音效的使用習慣，德誼這次也推出限時3天（5/11-5/13）urBeats入耳式耳機75折上市優惠活動。（陳俐妏／台北報導）', 1232])\n",
      "147\n",
      "insert into news_entry(link,category,title,time,summary,view_cnt) values(?,?,?,?,?,?)\n",
      "dict_values(['http://www.appledaily.com.tw//realtimenews/article/local/20160511/858367/【有片】倒吊撞地虐死3歲童\\u3000狠舅公下場是這樣', '社會', '【有片】倒吊撞地虐死3歲童\\u3000狠舅公下場是...', '2016/05/11 13:39', '(更新：新增影片)新竹縣一對3歲、1歲小兄妹因未滿18歲的父母吵架離家，去年7月將他們託付給愛吸毒的33歲何姓舅公照料，但何男狠心將小兄妹關在房間，9天竟然只給4次麵包、一瓶飲料，夏天炎熱也不開冷氣，還嫌2童吵鬧而毆打，推男童撞牆，甚至抓他雙腳倒吊後撞地，導致男童顱內出血慘死，女童則脫水昏迷、腎衰竭險死，急救後保命。新竹地院先前依對兒童傷害致死等罪，判何男11年半徒刑，高等法院今仍判他11年6月。可上訴。\\xa0高等法院目前尚未提供判決理由，但前審法官認為，何男僅因兩兄妹爭搶食物、男童不練習寫名字等原因，就恣意毆打兩兄妹，甚至將男童抱摔撞擊牆柱門檻，造成男童頭部重創，雖他發現男童翻白眼、無法出聲、臉色蒼白等命危狀態，卻未將男童送醫，導致男童死亡。\\xa0但法官考量何男並非拿物品傷害男童，事後也坦承犯行，且他僅是受託暫時照顧小兄妹，因此依對兒童傷害致死罪、對兒童傷害罪判刑11年6月。(丁牧群／台北報導)\\xa0【更多新聞，請看《蘋果陪審團》粉絲團】\\xa0出版時間 10:11修改時間 13:39\\n狠舅公一度想抱男童送醫，卻反悔搭電梯返家。翻攝畫面', 10628])\n",
      "148\n",
      "insert into news_entry(link,category,title,time,summary,view_cnt) values(?,?,?,?,?,?)\n",
      "dict_values(['http://www.appledaily.com.tw//realtimenews/article/politics/20160511/858580/漁民如驚弓之鳥\\u3000馬公艦護漁被當菲船', '政治', '漁民如驚弓之鳥\\u3000馬公艦護漁被當菲船', '2016/05/11 13:39', '琉球籍捕黑鮪的漁船富漁慶2號，今天上午7時許在台菲重疊海域作業時，一度傳出遭不明船艦跟蹤，漁民研判可能是菲國船艦，即通報東港漁業電台盼我國海巡護漁。不過經查證後，應是我國的馬公艦，虛驚一場。\\xa0琉球區漁會總幹事蔡寶興表示，從這事顯見漁民在海上捕魚風險如驚弓之鳥，雖然漁船發現該艦還遠在後方約二到三海浬的距離，但怕是菲方軍艦，若不小心又被扣了，當然是遠遠看到船艦就先逃、先通報。\\xa0富漁慶2號的通報地點在北緯21度30分，東經122度03分，約是台菲重疊海域的雅米島東北方海域，該區仍屬我國暫定執法線內。\\xa0蔡寶興表示，這件通報案，經海巡單位查證，後來是第五海巡隊打電話通知他，查證後確認應是我方的馬公艦。（陳宏銘／屏東報導）', 2409])\n",
      "149\n",
      "insert into news_entry(link,category,title,time,summary,view_cnt) values(?,?,?,?,?,?)\n",
      "dict_values(['http://www.appledaily.com.tw//realtimenews/article/strange/20160511/858600/這個小三有夠嗆\\u3000一句話讓正宮都認輸了', '搜奇', '這個小三有夠嗆\\u3000一句話讓正宮都認輸了', '2016/05/11 13:38', '這個「小三」恐怕是所有媽媽最難以抵擋的敵人！\\xa0一名網友在YouTube上傳了一支約1分鐘的影片，影片中可見一個小妹妹抓著一旁爸爸的手臂，嗲聲嬌喊「老公、老公」，媽媽在一旁問「妳叫誰老公啊？」萌娃斬釘截鐵地回答「這是我老公！」媽媽糾正「他是妳老爸」，萌娃還拍胸回嗆「他是我老公」，讓一旁的爸爸笑歪了腰。\\xa0媽媽忍不住捍衛正宮立場說「他是我老公」，還強調「我」的部分，沒想到萌娃仍堅持地說「爸爸是妳老爸」，讓一旁的爸爸都哈哈大笑。\\xa0其實不少萌娃都把最愛的爸爸當成老公，曾有一名女童聽到媽媽說「老公是我的」，結果整個人大崩潰，在爸爸身上大哭，看來大家都說「女兒是爸爸上輩子的情人」是有原因的。（盧麗蓮／綜合報導）\\xa0\\n萌娃還拍胸回嗆「他是我老公」。翻攝彩兒YouTube', 9641])\n",
      "150\n",
      "insert into news_entry(link,category,title,time,summary,view_cnt) values(?,?,?,?,?,?)\n",
      "dict_values(['http://www.appledaily.com.tw//realtimenews/article/life/20160511/858588/怪象！恆春玉荷包不開花結果反抽新芽', '生活', '怪象！恆春玉荷包不開花結果反抽新芽', '2016/05/11 13:42', '原定母親節前上市的恆春玉荷包，今年開花期遇到高溫，花沒開成反倒猛長新芽，讓果農大嘆，沒開花根本無法結果，產量預估僅剩3成，恆春鎮農會今天與高雄農改場到果園調查，確切受災原因還待進一步瞭解。\\xa0果農葉恆泉說，適合玉荷包開花的溫度約17度，年初正值開花期，卻出現30度的高溫，無法開花，種植2公頃的玉荷包僅1、2株有盛開，產期也預估在下周才會陸續上市，產量預估不到3成。\\xa0高雄農改場表示，開花結果是很多因素綜合而成，有無達天然災害的補助標準，需要進一步認定。（李卉婷／屏東報導）\\n恆春玉荷包落果嚴重。李卉婷攝玉荷包出現裂果。李卉婷攝恆春玉荷包產期延後2周，預估下周才會上市。李卉婷攝今天前往勘災。李卉婷攝', 1799])\n",
      "151\n",
      "insert into news_entry(link,category,title,time,summary,view_cnt) values(?,?,?,?,?,?)\n",
      "dict_values(['http://www.appledaily.com.tw//realtimenews/article/life/20160511/858603/台北夏季旅展5/20登場將狂送百張機票', '生活', '台北夏季旅展5/20登場 將狂送百張機票', '2016/05/11 13:40', '2016台北國際觀光博覽會(TTE)也稱台北夏季旅展，即將在下周末5/20~23於台北世貿一館登場。主辦單位台北市旅行商業同業公會於今日(5/11)中午舉辦者會表示，今年總共460家業者、、1200個攤位參展搶暑假商機，再創歷屆新高，主辦單位及航空公司總計將送出100張機票及300個福袋，總價值破千萬元。\\xa0主辦單位推出購買現場票，即可獲得「任意門。遊世界刮刮卡」一張，以「世界第一」主題為獎項，如世界第一間馬卡龍創始店(法國)、第一間星巴克(西雅圖)等等，刮中者等於獲得該航線來回機票，線上再登錄刮刮卡還可加碼參加大會於旅展期間每日17:00額外抽出的機票、住宿券。\\xa0\\xa0另外，旅展首日主辦將發出300個福袋，最小獎也有價值300元，其它還有住宿券、餐券、泡湯券等以及35張機票，總價值達千萬元以上。復興航空適逢65周年慶，配合夏季旅展也送出65張機票，即日起至5/31只要於興航官網、App購買來回機票即可參加抽獎，包含40張不限航點的國際線及國內航線25張。 (陳姿吟／台北報導)\\xa0BOX╱2016夏季旅展台北國際觀光博覽會日期：5/20(五)~5/23(一)時間：10:00~18:00地點：台北世貿一館票價：全票200、優惠票150元電話：(02)2759-7167網址：www.tte.tw\\xa0更多資訊請看吃喝玩樂蘋果花粉絲團\\xa0想知道更多親子遊去處，請參加蘋果花客製親子遊社團\\xa0\\n【想知道更多，一定要看……】旅行社線上旅展激殺 夏威夷6天2萬9900元起購票入場者幸運的話有機會抽中法國來回機票。圖為資料照片', 885])\n",
      "152\n",
      "insert into news_entry(link,category,title,time,summary,view_cnt) values(?,?,?,?,?,?)\n",
      "dict_values(['http://www.appledaily.com.tw//realtimenews/article/finance/20160511/858604/德誼iPadPro開賣\\u3000搭方案送Beats耳機', '財經', '德誼iPad Pro開賣\\u3000搭方案送Bea...', '2016/05/11 13:40', '德誼數位Data Express今天宣布最新iPad Pro 9.7吋即日起開賣！看好9.7吋iPad商機，德誼數位在5月31日前推搭配網卡699資費方案24期，即限量加贈Apple Pencil+Beats Solo 2耳罩式耳機（市價10490元），充分享受iPad Pro原廠配件帶來的美好使用體驗！更限時3天推出urBeats入耳式耳機（市價3900元）75折上市優惠給購買iPad Pro 9.7吋單機消費者！\\xa0德誼數位總經理杜偉昱表示，德誼數位認為這次的iPad Pro 9.7吋很有市場潛力，統計過去1年以來德誼門市iPad銷售，同為9.7吋的iPad/iPad Air系列超過所有銷售的6成以上，顯現消費者選購平板時，輕巧適中的尺寸為考量的第一要素，預計上市後可再掀起一波iPad Pro熱潮。\\xa0iPad Air 系列一直是蘋果暢銷機種，此次推出同樣9.7吋的iPad Pro功能更進化，除了處理器加強外，新增廣色域顯示功能，比以往iPad的色彩飽和度提升25%，True Tone顯示可根據所處環境的光線，自動調整顯示器的色彩與發光強度，讓閱讀起來更舒適自然，配備1200萬像素iSight鏡頭更可拍攝4K影片，讓影像細節更顯真實，尤其搭配Apple Pencil繪畫使用，對流暢敏銳的筆觸感到驚艷。\\xa0考量購買iPad Pro消費者周邊加購的需求，德誼數位這次也推出兩種不同的促銷方案：針對有設計需求的消費者，將Apple Pencil、Beats Solo 2耳罩式耳機組成優惠方案，讓設計師在設計、影音、雲端儲存三個願望一次滿足。\\xa0針對單機消費者，德誼數位貼心洞察iPad Pro使用者注重音效的使用習慣，德誼這次也推出限時3天（5/11-5/13）urBeats入耳式耳機75折上市優惠活動。（陳俐妏／台北報導）', 1232])\n",
      "153\n",
      "insert into news_entry(link,category,title,time,summary,view_cnt) values(?,?,?,?,?,?)\n",
      "dict_values(['http://www.appledaily.com.tw//realtimenews/article/local/20160511/858367/【有片】倒吊撞地虐死3歲童\\u3000狠舅公下場是這樣', '社會', '【有片】倒吊撞地虐死3歲童\\u3000狠舅公下場是...', '2016/05/11 13:39', '(更新：新增影片)新竹縣一對3歲、1歲小兄妹因未滿18歲的父母吵架離家，去年7月將他們託付給愛吸毒的33歲何姓舅公照料，但何男狠心將小兄妹關在房間，9天竟然只給4次麵包、一瓶飲料，夏天炎熱也不開冷氣，還嫌2童吵鬧而毆打，推男童撞牆，甚至抓他雙腳倒吊後撞地，導致男童顱內出血慘死，女童則脫水昏迷、腎衰竭險死，急救後保命。新竹地院先前依對兒童傷害致死等罪，判何男11年半徒刑，高等法院今仍判他11年6月。可上訴。\\xa0高等法院目前尚未提供判決理由，但前審法官認為，何男僅因兩兄妹爭搶食物、男童不練習寫名字等原因，就恣意毆打兩兄妹，甚至將男童抱摔撞擊牆柱門檻，造成男童頭部重創，雖他發現男童翻白眼、無法出聲、臉色蒼白等命危狀態，卻未將男童送醫，導致男童死亡。\\xa0但法官考量何男並非拿物品傷害男童，事後也坦承犯行，且他僅是受託暫時照顧小兄妹，因此依對兒童傷害致死罪、對兒童傷害罪判刑11年6月。(丁牧群／台北報導)\\xa0【更多新聞，請看《蘋果陪審團》粉絲團】\\xa0出版時間 10:11修改時間 13:39\\n狠舅公一度想抱男童送醫，卻反悔搭電梯返家。翻攝畫面', 10666])\n",
      "154\n",
      "insert into news_entry(link,category,title,time,summary,view_cnt) values(?,?,?,?,?,?)\n",
      "dict_values(['http://www.appledaily.com.tw//realtimenews/article/politics/20160511/858580/漁民如驚弓之鳥\\u3000馬公艦護漁被當菲船', '政治', '漁民如驚弓之鳥\\u3000馬公艦護漁被當菲船', '2016/05/11 13:39', '琉球籍捕黑鮪的漁船富漁慶2號，今天上午7時許在台菲重疊海域作業時，一度傳出遭不明船艦跟蹤，漁民研判可能是菲國船艦，即通報東港漁業電台盼我國海巡護漁。不過經查證後，應是我國的馬公艦，虛驚一場。\\xa0琉球區漁會總幹事蔡寶興表示，從這事顯見漁民在海上捕魚風險如驚弓之鳥，雖然漁船發現該艦還遠在後方約二到三海浬的距離，但怕是菲方軍艦，若不小心又被扣了，當然是遠遠看到船艦就先逃、先通報。\\xa0富漁慶2號的通報地點在北緯21度30分，東經122度03分，約是台菲重疊海域的雅米島東北方海域，該區仍屬我國暫定執法線內。\\xa0蔡寶興表示，這件通報案，經海巡單位查證，後來是第五海巡隊打電話通知他，查證後確認應是我方的馬公艦。（陳宏銘／屏東報導）', 2445])\n",
      "155\n",
      "insert into news_entry(link,category,title,time,summary,view_cnt) values(?,?,?,?,?,?)\n",
      "dict_values(['http://www.appledaily.com.tw//realtimenews/article/strange/20160511/858600/這個小三有夠嗆\\u3000一句話讓正宮都認輸了', '搜奇', '這個小三有夠嗆\\u3000一句話讓正宮都認輸了', '2016/05/11 13:38', '這個「小三」恐怕是所有媽媽最難以抵擋的敵人！\\xa0一名網友在YouTube上傳了一支約1分鐘的影片，影片中可見一個小妹妹抓著一旁爸爸的手臂，嗲聲嬌喊「老公、老公」，媽媽在一旁問「妳叫誰老公啊？」萌娃斬釘截鐵地回答「這是我老公！」媽媽糾正「他是妳老爸」，萌娃還拍胸回嗆「他是我老公」，讓一旁的爸爸笑歪了腰。\\xa0媽媽忍不住捍衛正宮立場說「他是我老公」，還強調「我」的部分，沒想到萌娃仍堅持地說「爸爸是妳老爸」，讓一旁的爸爸都哈哈大笑。\\xa0其實不少萌娃都把最愛的爸爸當成老公，曾有一名女童聽到媽媽說「老公是我的」，結果整個人大崩潰，在爸爸身上大哭，看來大家都說「女兒是爸爸上輩子的情人」是有原因的。（盧麗蓮／綜合報導）\\xa0\\n萌娃還拍胸回嗆「他是我老公」。翻攝彩兒YouTube', 9692])\n",
      "156\n",
      "insert into news_entry(link,category,title,time,summary,view_cnt) values(?,?,?,?,?,?)\n",
      "dict_values(['http://www.appledaily.com.tw//realtimenews/article/nextmag/20160511/858601/【壹週刊】520不談92共識段宜康:中方施壓更不能讓步', '壹週刊', '【壹週刊】520不談92共識    段宜...', '2016/05/11 13:36', '準總統蔡英文就職演說確定不談92共識，民進黨立委段宜康認為，兩岸關係發展，任何讓步都是籌碼，蔡英文若在中方不斷恫嚇下讓步，恐怕會讓外界認為是在壓力下接受九二共識的印象。\\xa0段宜康表示，兩岸關係就台灣來說，要不要做更有彈性的詮釋，本來就是我們手上的籌碼，這個籌碼如果隨意用掉，顯然在兩岸互動上，會讓我們陷於不利地位，對岸一定不會滿意我們做彈性處理，我們所做的任何讓步，中國一定會想辦法要得更多。段宜康說，中方從肯亞案到ＷＨＡ邀請函的處理方式，都在延伸一個中國的論述，兩岸的模糊空間變小，對想拉近兩岸關係的中國而言，反而是適得其反。\\xa0台灣智庫諮詢委員董立文指出，2012年與2016年兩次大選的東亞情勢不同，也讓蔡英文在上台前承載了鄰近各國的期待。2010年美國總統歐巴馬對習近平剛上台時的中美關係有所期待，國際氛圍對習近平友好，馬英九的「和中」路線因此在東亞有市場。但2016年不論是美日或東南亞等國家，已認清習近平的強硬及不確定性。\\xa0尤其過去三個月馬政府的外交政策走向，突然在南海主權問題上表現得非常強硬，加上沖之鳥礁事件爭議擴大，讓馬英九的外交政策從過去的「親美、友日、和中」變成「反日、遠美、親中」，如此劇烈的轉變，不但讓國際社會看破手腳，也讓他們對蔡英文新政府的態度，從原先的觀望變成期待，促成如此巨大的轉變，其實正是來自台灣。(撰文:劉榮)\\n立委段宜康認為，中國對我們所做的任何讓步，一定會想辦法要得更多。', 1401])\n",
      "157\n",
      "insert into news_entry(link,category,title,time,summary,view_cnt) values(?,?,?,?,?,?)\n",
      "dict_values(['http://www.appledaily.com.tw//realtimenews/article/international/20160511/858575/美漢堡驗出老鼠DNA\\u3000專家：不一定會損害健康', '國際', '美漢堡驗出老鼠DNA\\u3000專家：不一定會損害...', '2016/05/11 13:35', '美國的漢堡被檢測出人類和老鼠的DNA！根據美國食品分析公司Clear Labs昨發布報告指，美國市面上的漢堡超過10%有問題，甚至在少數漢堡中檢測到人類及老鼠的DNA。\\xa0新華社報導，該公司與美國安全專家均指，食品裡出現人類與老鼠DNA難以避免，不一定會損害人的健康。\\xa0該公司研究人員針對加州22零售店賣的漢堡進行基因組分析，共調查77個品牌、共258份樣品，結果顯示，13.6%的漢堡有問題，包括成分與標籤標示不合、衛生問題與病菌污染等。其中研究人員在一份漢堡樣品中發現人類DNA，在3份漢堡中發現老鼠DNA，報告認為，人類DNA可能來源於漢堡包加工過程中操作人員的頭髮、皮膚或指甲等。\\xa0報告指，美國食品和藥物管理局允許食品中存在一定量的人類與老鼠DNA，因為這在生產過程中無法完全避免。\\xa0此外，素食漢堡包問題也很多。在89份樣品中，23.6%存在所含成分與標籤不一致等問題。比如，2份素食漢堡包樣品中出現牛肉DNA，一份黑豆漢堡包裏根本不含黑豆。\\xa0最引人關注的是，4.3%的樣品裏含有假結核耶爾森氏菌、嗜水氣單胞菌等病菌的DNA。不過，喬治亞大學食品微生物學教授多伊爾表示，這一結果會有一點誤導，因為基因組分析技術無法區分出死與活的細胞，發現死細胞的病菌DNA並沒有多大意義。而且，所發現的病菌不是人們通常擔心的病菌，就是數量較少不足以致病。（大陸中心／綜合外電報導）', 1568])\n",
      "158\n",
      "insert into news_entry(link,category,title,time,summary,view_cnt) values(?,?,?,?,?,?)\n",
      "dict_values(['http://www.appledaily.com.tw//realtimenews/article/3c/20160511/858598/9.7吋iPadPro舊換新0元起\\u3000', '3C', '9.7吋iPad Pro舊換新0元起\\u3000', '2016/05/11 13:35', '最新9.7吋iPad Pro今天正式在門市開賣，售價2萬900元起，蘋果經銷商Studio A推出舊換新活動，可以0元換購，而德誼數位 Data Express 則推5/31前購買單機再加上搭配網卡699資費方案24期，即限量加贈Apple Pencil+Beats Solo 2耳罩式耳機，市價共1萬0490元。\\xa0Studio A表示，iPad Pro 9.7吋開賣並同步推出「舊i分享，希望傳承」二手iPad募集活動，持舊款iPhone、Mac電腦、iPad購買新機，最高可折抵2萬6500元，除可免費折換新9.7吋iPad Pro，將以消費者名義捐出二手二手iPad，捐贈給雅文基金會等單位。(王雪玲／台北報導)\\xa0管迷人美照，還是失焦殘念照，快來「失焦der小確幸」社團分享照片吧\\xa0更有趣報導，請上副刊吃喝玩樂蘋果花粉絲團', 1920])\n",
      "159\n",
      "insert into news_entry(link,category,title,time,summary,view_cnt) values(?,?,?,?,?,?)\n",
      "dict_values(['http://www.appledaily.com.tw//realtimenews/article/finance/20160511/858599/股王獨強無力撐盤\\u3000台股開高走低跌20點', '財經', '股王獨強無力撐盤\\u3000台股開高走低跌20點', '2016/05/11 13:33', '美股大漲，激勵台股今天開高一度站回8200點之上，但因追價力道不足，指數再度翻黑，儘管股王大立光（3008）一枝獨秀，卻無法撐起盤勢，終場下跌20.73點，收8135.56點，成交值783億元。\\xa0台新投顧研究部協理黃文清表示，目前外資動向還是偏空，加上季報等變數尚未釐清，短期指數仍有回測8000點關卡，建議保守觀望為宜。\\xa0黃文清表示，台股這波從3月下旬的8840點回檔迄今，跌幅最多達8.65%，雖然短線跌深，反彈卻不夠力，顯示盤勢比預期弱很多，主要有幾項變數，包括外資態度持續偏空、季報要等5月中才會公布完畢，以及上市櫃公司4月營收較去年同期衰退。\\xa0他認為，短期指數可能回測8000點關卡，至於會不會跌破，屆時再觀察外資動向而定。在指數未出現帶量中長紅、外資未開始反手加碼、主流股走勢續強等訊號出現前，操作還是要謹慎為宜，因為缺乏整體性表現，仍以個股為主。（陳建彰／台北報導）\\xa0\\xa0\\n台股終場下跌20.73點，收8135.56點，成交值783億元。林林攝', 903])\n",
      "160\n",
      "insert into news_entry(link,category,title,time,summary,view_cnt) values(?,?,?,?,?,?)\n",
      "dict_values(['http://www.appledaily.com.tw//realtimenews/article/entertainment/20160511/858518/妙麗捲入巴拿馬文件\\u3000透過境外公司買豪宅', '娛樂', '妙麗捲入巴拿馬文件\\u3000透過境外公司買豪宅', '2016/05/11 13:30', '「巴拿馬文件」（Panama Papers）外洩案轟動全球，英國女星「妙麗」艾瑪華森（Emma Watson）也上榜。英國《太陽報》報導，26歲的艾瑪2013年透過一家設在英屬維京群島的境外公司Falling Leaves LTD，斥資300萬元英鎊（約1億4355萬元台幣）購買一棟3房的房地產，她的發言人表示，艾瑪設立境外公司單純是為了保護個人隱私，而非逃稅。\\xa0艾瑪身家估計高達3500萬元英鎊（約16億7475萬元台幣），她的發言人指出：「艾瑪其他名人一樣，成立境外公司是為了保護她的隱私和安全。英國公司行號必須公開股東的身分資料，她為保障自己安全，保有匿名性，才選擇設立境外公司。她以前便曾因個資被公開，飽受威脅。」\\xa0美國「國際調查記者聯盟」（ICIJ）台灣時間10日凌晨2時，開放巴拿馬文件開放網路資料庫，可供一般民眾搜尋，全球有36萬筆境外公司資料，引起各界高度關注。（林慧娟／綜合報導）\\xa0\\xa0\\n【想知道更多，一定要看……】【有片】劉嘉玲捲入巴拿馬文件\\u3000沒算財產幾個零26歲的艾瑪捲入「巴拿馬文件」，被爆透過境外公司買房產，發言人代她否認逃稅。達志', 3719])\n",
      "161\n",
      "insert into news_entry(link,category,title,time,summary,view_cnt) values(?,?,?,?,?,?)\n",
      "dict_values(['http://www.appledaily.com.tw//realtimenews/article/sports/20160511/858593/萊恩帶你玩翻府城\\u3000周末球場吃美食', '體育', '萊恩帶你玩翻府城\\u3000周末球場吃美食', '2016/05/11 13:28', '統一獅「PLAYFUL TAINAN 玩翻府城」系列活動，本周六、日(14、15日)在台南主場推出「美食球場」活動，邀請台南在地美食「台南度小月原始店本舖」、「張三瘋小鮮肉奶茶」、「誠品知味」、「辛村籽煙燻滷味」、「台南funbox鳳盒子鳳梨酥」、「Bula冷奶油咖椰吐司」，來球場設攤，讓球迷們在看球同時可以品嚐平日要排隊才吃得到的美食。此外，統一獅將同步推山與「台南度小月擔仔麵」、「張三瘋小鮮肉奶茶」聯名推出限定紙碗、吊卡。(姚瑞宸／綜合報導)\\n【看了這則新聞的人，也看了……】張進德2A初猛打賞\\u3000林子偉安打突圍皇家先發輪值異動\\u3000基伊取代克里斯楊張三瘋小鮮肉奶茶：結合統一獅Q版圖案製作小鮮肉及小鮮女奶茶吊牌，限量推出萊恩到安平推薦美味辛村籽煙燻滷味萊恩客串美食家烤土司服務旅客。統一獅提供', 1232])\n",
      "162\n",
      "insert into news_entry(link,category,title,time,summary,view_cnt) values(?,?,?,?,?,?)\n",
      "dict_values(['http://www.appledaily.com.tw//realtimenews/article/local/20160511/858490/採訪遭警暴力驅離受傷\\u3000《蘋果》提告遭駁', '社會', '採訪遭警暴力驅離受傷\\u3000《蘋果》提告遭駁', '2016/05/11 13:26', '《蘋果》張姓記者前年4月在北市忠孝西路、中山南路天橋上採訪反核大遊行時，遭警方暴力驅離致跌落台階受傷、相機受損，他為捍衛言論自由，自訴控告時任中正一分局局長的指揮官方仰寧妨害自由等罪，但台北地院認定方執行任務未違法，而現場影像也無法證明警員施暴，今駁回張男自訴。可抗告。\\xa0民進黨前主席林義雄為主張「落實民主、停建核四」，前年4月22日展開禁食行動，相關環保團體陸續響應號召民眾上街，直到26日民眾聚凱道周圍，並迅速蔓延擴散至忠孝西路，時任北市警局長黃昇勇下令淨空，由時任中正一分局長方仰寧指揮，經多次柔性勸導無效，28日凌晨4時許即以噴水驅離。\\xa0張男指控，當時在忠孝西路、中山南路口天橋上採訪，方仰寧下令警方以噴水柱及拉扯方式驅離群眾，另有警員以強光照射、推擠等方式阻擋他採訪，他要求警員說明單位及編號，對方不滿反而激烈拉扯，當下蒐證時，又遭警員遮住手機鏡頭，拉扯時手機摔壞上無法繼續蒐證，後來又有警員推他摔落台階受傷，眼鏡及相機配備受損。\\xa0張男指出，方仰寧及施暴警員不但造成他採訪權利受損，更嚴重傷害新聞自由，他為捍衛言論自由的民主價值，才不得已控告方仰寧妨害自由等罪。\\xa0法官認為，當時現場有群眾違法集會遊行，又有民眾從高處丟擲物品，方仰寧受命依法執行驅離任務並未違法，而根據新聞影像也看不出張男指控的情形，無法證明警員施暴犯行，因此駁回張男自訴。可抗告。（張欽／台北報導）\\xa0【更多司法新聞，請看《蘋果陪審團》粉絲團】', 1072])\n",
      "163\n",
      "insert into news_entry(link,category,title,time,summary,view_cnt) values(?,?,?,?,?,?)\n",
      "dict_values(['http://www.appledaily.com.tw//realtimenews/article/life/20160511/858589/紅包被嫌太少\\u3000新娘竟寫信要求加碼', '生活', '紅包被嫌太少\\u3000新娘竟寫信要求加碼', '2016/05/11 13:24', '這起案例實在太扯了！\\xa0《壹周刊》報導，國外有名網友在Mumsne發文，他說日前被前同事邀請參加婚禮，她包了100英鎊（約新台幣4,775元）的支票做為禮金。但婚宴過後幾天，前同事卻寄電郵來說：「我們很驚訝妳所送的禮金金額，似乎與這個值得祝福的大日子不大對等…如果妳想修改增加金額，我們會非常感激！」\\xa0網友說，自己當時看到傻眼，而且這名前同事還故意提醒她：「妳最近似乎繼承了一筆遺產…」暗示她禮金應該可以更大方。對此，網友覺得不知該怎麼辦，「我從來沒有碰到過這樣的事情！」上論壇求援。（即時新聞中心／綜合報導）\\xa0\\n翻攝自網路', 28253])\n",
      "164\n",
      "insert into news_entry(link,category,title,time,summary,view_cnt) values(?,?,?,?,?,?)\n",
      "dict_values(['http://www.appledaily.com.tw//realtimenews/article/finance/20160511/858591/外資看衰砍目標價\\u3000宏達電重挫跌停', '財經', '外資看衰砍目標價\\u3000宏達電重挫跌停', '2016/05/11 13:24', '宏達電（2498）第1季持續虧損，且本季可能還沒轉盈機會，外資大砍目標價，最低甚至喊到31元，拖累今天股價持續走弱，尾盤打入跌停62.1元鎖住，創7個多月來新低價。\\xa0宏達電第1季雖有處分桃園廠獲利挹注，但因手機出貨低迷，加上非手機業務尚未帶來實際貢獻，單季每股虧損逾3元，連4季虧損，儘管內部預期，本季起手機業務可好轉，但以出貨規模來看，可能還無法獲利，甚至有外資看衰到2018年才會獲利，大砍目標價，今天股價弱勢跌停。（陳建彰／台北報導）', 2250])\n",
      "165\n",
      "insert into news_entry(link,category,title,time,summary,view_cnt) values(?,?,?,?,?,?)\n",
      "dict_values(['http://www.appledaily.com.tw//realtimenews/article/life/20160511/858465/【有片】圓仔「變身」\\u3000邁向青春美少女', '生活', '【有片】圓仔「變身」\\u3000邁向青春美少女', '2016/05/11 13:22', '（更新：新增影片）\\xa0台北市立動物園的大貓熊「圓仔」7月即將滿3歲，已經出現青春期的徵兆，從「小女孩」變身為「青春美少女」了！園方表示，近1個月來圓仔出現頻繁來回走動、蹭陰、食慾下降等行為，經過尿液荷爾蒙檢測，確認牠已經進入青春期。園方解釋，雄性野生大貓熊約7歲性成熟，雌性約6歲，圈養的大貓熊因為營養較充足，會比野外提早2至3年。\\xa0台北動物園表示，上月中旬開始，圓仔開始焦躁不安的走動，到了下旬，連吃竹葉的狀況也變差、糞便量減少、外陰紅腫，保育員蒐集尿液交由實驗室進行荷爾蒙分析，發現圓仔的生殖系統開始微幅運作，不過目前還沒有達到性成熟，距離「熟女」還有一段路要走。\\xa0園方指出，大貓熊進入青春期時的類似發情（稱為「發身」）行為一般會維持3個星期，目前圓仔已經進入尾聲，食慾和體重都已經恢復正常。（蔡永彬／台北報導）\\xa0出版時間：11:36更新時間：13:22\\xa0\\n圓仔。北市動物園提供圓仔。北市動物園提供圓仔。北市動物園提供圓仔蹭陰。北市動物園提供', 2853])\n",
      "166\n",
      "insert into news_entry(link,category,title,time,summary,view_cnt) values(?,?,?,?,?,?)\n",
      "dict_values(['http://www.appledaily.com.tw//realtimenews/article/local/20160511/857501/【有片】凌晨偷襲夜歸女\\u3000狼竟辯夜色好在慢跑', '社會', '【有片】凌晨偷襲夜歸女\\u3000狼竟辯夜色好在慢...', '2016/05/11 13:21', '1名年輕女子在凌晨3時許下班返家，卻在回家的路上，遭到1名陌生男子從後方熊抱襲胸，然後望著對方掦長而去，警方獲報後調閱沿路監視畫面，發現20多歲的陳男涉有重嫌，但陳男竟辯稱，當天他騎車經過該路段，發現夜色好，環境也好，未來想要在那裡置產，所以到哪裡慢跑認識環境，但絕沒有偷襲女子，但檢察官勘驗監視器畫面，認定陳男在鬼扯，今依強制猥褻罪將他起訴。\\xa0這起事件發生在今年1月間，家住台北市中山區的20歲被害女子，凌晨3時下班走路回家，突然被1名戴著口罩、穿著大衣的男子，從後方熊抱襲胸，當時她嚇得不知所措任對方擺布，等到對方離開時她才回神過來，並在家人陪同下報警處理。警方獲報後立即調閱沿路的監視畫面，發現20多歲的陳姓男子，當天騎著摩托車到案發地附近涉有重嫌，因此將陳男函送法辦。\\xa0陳男雖然不否認當天有到案發現場，但否認有對女子襲胸，對於監視畫面穿著大衣的襲胸男，則否認是他本人，而是另有其人，陳男辯稱，當天因為要去榮星花園附近慢跑，在騎車經過案發地時，發現當時夜色美，環境也不錯，未來想要到那裡置產，因此將車子停在一旁，以慢跑的方式想要認識當地的環境。\\xa0對於陳男的說詞，檢察官也以證人身分傳喚調閱沿路監視器的警員作證，警員證稱，他們在接獲報案時，立即調閱現場及周圍所有的監視器影像，他從編號第1支影像，開始過濾，從陳男停車，從女子後方襲胸、到得逞後再度騎車離開，發現衣服、人影都與女子所指訴的加害人身影一致，檢察官還問了「當天路上人車多不多，會不會誤認」，警員回答，當天路上幾乎只有陳男及他的車子，不會有辯識錯誤的情形」。\\xa0檢察官認為，從各項證據在再顯示陳男涉有重嫌，其辯詞並不可採，因此依強制猥褻罪起訴。（呂志明／台北報導）\\xa0【更多新聞，請看《蘋果陪審團》粉絲團】\\nOL夜歸遇上色狼。示意圖', 3968])\n",
      "167\n",
      "insert into news_entry(link,category,title,time,summary,view_cnt) values(?,?,?,?,?,?)\n",
      "dict_values(['http://www.appledaily.com.tw//realtimenews/article/entertainment/20160511/858372/【有片】劉嘉玲捲入巴拿馬文件\\u3000沒算財產幾個零', '娛樂', '【有片】劉嘉玲捲入巴拿馬文件\\u3000沒算財產幾...', '2016/05/11 13:21', '（更新動新聞）美國「國際調查記者聯盟」（ICIJ）上月公布多國政商權貴藏富避稅的「巴拿馬文件」，昨天凌晨開放網路資料庫供搜尋，全球有36萬筆境外公司資料，吳奇隆、周星馳、澳門賭王何鴻燊名列其中，劉嘉玲也被披露曾於2002年至2007年期間，擔任英屬維京群島（BVI）註冊公司Cheers More Holdings的中介人。\\xa0劉嘉玲昨晚在香港出席慈善晚宴，被問到「巴拿馬文件」，她一頭霧水，反問內容後再說：「我沒有留意今天的新聞，我的財務是由BVI公司安排，我不希望將整件事帶到不正確的方向，變成非法，我的財務是有正常的安排，是個奉公守法的人。」表示稍後會再了解。\\xa0經營副業嚇嚇叫的她，是否知道自己有多少身家？她說：「真的不知道，我沒算有幾個零，不過我隨時可以退休，我好有信心。但退休又可以幹什麼呢？我覺得一個人不可以不工作。」笑問她大可以專心相夫？她說：「有在相，邊相邊工作。工作可以開闊視野，令自己好開心，有時工作不是說賺到多少錢，只是想學多一些，得到多一些經驗。」（吳惠菁／綜合報導）\\xa0出版時間：10:45更新時間：13:21\\xa0\\n【想知道更多，一定要看……】妙麗捲入巴拿馬文件\\u3000透過境外公司買豪宅劉嘉玲昨晚在香港出席慈善晚宴。香港《蘋果日報》楊千嬅（左起）、劉心悠、劉嘉玲和梁詠琪昨晚不約而同都穿花花裙。香港《蘋果日報》', 7028])\n",
      "168\n",
      "insert into news_entry(link,category,title,time,summary,view_cnt) values(?,?,?,?,?,?)\n",
      "dict_values(['http://www.appledaily.com.tw//realtimenews/article/life/20160511/858590/\\u200b資訊科技納國中必修\\u3000教長：國中會考不考', '生活', '\\u200b資訊科技納國中必修\\u3000教長：國中會考不考', '2016/05/11 13:20', '教育部今天公布「資訊教育總藍圖」，列出未來資訊教育的兩大願景、四大目標以及二十四項發展策略架構；在學習面部分，將培育有創新實作及自主學習的數位公民。然而，趕在520政府交接之前公告，遭現場媒體質疑沒有任何實質內容，包括上課怎麼上、師資怎麼來，設備充不充足等，教育部皆沒有具體答案。不過教育部長吳思華承諾，雖資訊教育將納入十二年國教的國中必修，但短期內不會成為會考考科，請大家放心。\\xa0十二年國教課綱預定2018年上路，總綱中新增資訊科技領域，將成為國中、高中的科目，包括必修合計八學分、選修八學分。由於現行教育中，資訊教育是採融入式教學，未來課程怎麼上、師資怎麼來，今教育部沒有具體答案，僅表示細節還在規劃中，唯一給予家長及學生的承諾，就是短期內不會成為會考考科。\\xa0吳思華表示，現階段國高中教師約有700名具有資訊科技專長，但資訊科技成為正式科目之後，預估需要1500至2000名教師人力，將由現職教師中補修學分，並加註第二專長模式，補足教師人力。至於需補修多少學分等細節，教育部國教署仍在規劃中。\\xa0另針對學生、家長關心是否成為升學考試科目，吳思華承諾，在短期內不會成為會考考科，但會鼓勵高中職開設資訊特招班，例如今年有北市師大附中設資訊特招班，將透過特招管道招生，未來將視辦理成果，鼓勵其他縣市學校繼續推廣。\\xa0設備部分，吳思華也表示，今年4月已完成學術骨幹網路升級至100G，年底前將投入2400萬元資金，協助學校區域網路升級；至於學校電腦教室則是每四年更新一次設備，這些都是既有政策，因此設備方面將能如期完成。\\xa0現場有媒體質疑，教育部趕在520前公布「資訊教育總藍圖」，卻只空有「口號」，沒有實質政策牛肉。教育部則解釋，由於時間不足，細節仍在規劃討論中，具體如何執行，還會再慢慢討論。（劉嘉韻／台北報導）', 582])\n",
      "169\n",
      "insert into news_entry(link,category,title,time,summary,view_cnt) values(?,?,?,?,?,?)\n",
      "dict_values(['http://www.appledaily.com.tw//realtimenews/article/fashion/20160511/858376/Missoni聯名國民鞋\\u3000今夏掀足潮', '時尚', 'Missoni聯名國民鞋\\u3000今夏掀足潮', '2016/05/11 13:17', '時尚圈吹起球鞋潮後，不分男女、著正式服裝或休閒服裝，總可搭配球鞋的新潮穿搭，也接連帶動精品與知名球鞋品牌推出聯名款的風潮，義大利品牌Missoni自2015年與素有「國民鞋」美稱的Converse合作推出聯名系列，2016夏季最新聯名款正式發布，把Missoni標誌性的彩色印花圖騰和Converse經典的Chuck Taylor All Star鞋款結合，推出彈性編織網眼布料款，共有藍、紅、黃三種主要色系。（劉妍伶／綜合報導）\\xa0\\xa0\\n黃、灰配色的Missoni x Converse夏季聯名款，為炎熱夏至注入清爽感。翻攝sneakernews.com義大利品牌Missoni和Converse的2016夏季聯名款。翻攝sneakernews.com', 1074])\n",
      "170\n",
      "insert into news_entry(link,category,title,time,summary,view_cnt) values(?,?,?,?,?,?)\n",
      "dict_values(['http://www.appledaily.com.tw//realtimenews/article/entertainment/20160511/858545/【有片】徐佳瑩談「歌手」心得\\u3000虧林子祥蹣跚中年男子', '娛樂', '【有片】徐佳瑩談「歌手」心得\\u3000虧林子祥蹣...', '2016/05/11 13:16', '徐佳瑩將發行「日全蝕」演唱會實錄，分享比《我是歌手4》心得，她透露能李玟等前輩合作，像經歷「涅槃」，決賽時還見到葉蒨文、林子祥，她笑說港星很有氣勢，原本都不敢靠近，但她後來發現「一位步履蹣跚的中年男子」慢慢走過她身旁，那人就是林子祥，她邊笑邊學逗笑全場。（張力文／台北報導）\\xa0\\n徐佳瑩今天為了演唱會專輯舉辦記者會。張桓誠攝徐佳瑩回想起她ㄧ路走來的經歷仍然十分興奮。張桓誠攝唱片公司送上印有她愛犬的靠墊。張桓誠攝', 3077])\n",
      "171\n",
      "insert into news_entry(link,category,title,time,summary,view_cnt) values(?,?,?,?,?,?)\n",
      "dict_values(['http://www.appledaily.com.tw//realtimenews/article/local/20160511/858561/生小孩丟給朋友照顧\\u3000無良媽媽有報應', '社會', '生小孩丟給朋友照顧\\u3000無良媽媽有報應', '2016/05/11 13:16', '高雄一名蕭姓女子前年9月產子後無力照顧，把3個月大的孩子丟給謝姓友人照顧，隨即避不見面，事後謝女要求蕭女出面接回小孩，蕭女隨口答應卻未現身，謝女只好報警。高雄地檢署今依遺棄兒童罪將蕭女起訴。\\xa0起訴指出，20餘歲的蕭女前年9月生下一子，12月就把孩子託付給謝姓友人照顧，並請父親給謝2萬5000元買奶粉。但謝女照顧1個月後，發現自己也無法照顧這麼小的嬰兒，打電話要求蕭女把孩子帶回去，但蕭女卻未出現。謝不得已打電話報警。\\xa0高雄地檢署認為，蕭女不顧孩子無自救能力，就把他託付給非保母也非親屬的謝姓朋友，之後對小孩不聞不問，已觸犯遺棄罪，且須依《兒童及少年福利與權益保障法》加重其刑，若罪名成立，蕭女將面臨1年以上、7年6個月以下徒刑。（郭芷余／高雄報導）\\xa0【更多新聞，請看《蘋果陪審團》粉絲團】', 10390])\n",
      "172\n",
      "insert into news_entry(link,category,title,time,summary,view_cnt) values(?,?,?,?,?,?)\n",
      "dict_values(['http://www.appledaily.com.tw//realtimenews/article/life/20160511/858587/樂壇新寵兒演唱會門票秒殺沒問題！', '生活', '樂壇新寵兒 演唱會門票秒殺沒問題！', '2016/05/11 13:16', '甫發新專輯《REBORN》的滅火器樂團上月剛結束首波巡迴演唱，今(11)日中午12點開賣第2輪「早安台灣 A NEW DAY TOUR」，場次幾乎遍及全台，開賣不到10分鐘，台北4場、高雄2場即完售，其他像是台南場、台中場的票券則所剩不多，火種紛紛在Team Fire社團求票，更有人留言表示：「有沒有買不到票就馬上求票的…」成軍16年的滅火器要說是樂壇新寵兒當之無愧！\\xa0滅火器表示：「這次我們規劃12場巡迴，雖然演唱空間較小，但規格及精采度大大提升！」滅火器原本就是從小場唱到大場，吉他手鄭宇辰說：「其實我們比較喜歡唱小空間，因為我們不是偶像，且跟歌迷零距離、也最能直接感受他們的熱情！」（劉珮芬／台北報導）\\xa0你知道更多有趣的事物嗎？分享到手寫時代吧！更多資訊請上吃喝玩樂蘋果花', 786])\n",
      "173\n",
      "insert into news_entry(link,category,title,time,summary,view_cnt) values(?,?,?,?,?,?)\n",
      "dict_values(['http://www.appledaily.com.tw//realtimenews/article/local/20160511/858537/妄想領700,000,000,000\\u3000女偽造存單被逮\\u3000', '社會', '妄想領700,000,000,000\\u3000女...', '2016/05/11 13:15', '妄想領7千億！台北市萬華區一間郵局，上週二突然出現一名神秘的許姓女子，持著寫有「柒仟億元」的定期儲金存單，向櫃檯人員請領這筆鉅款，因金額實在太驚人，郵局人員報警逮捕這名異想天開的女子。\\xa0警方調查，許姓女子在3日下午4時到郵局，手持郵政定期儲金存單到櫃台辦理質押借款，行員一看存單上印著「柒仟億元」，當場嚇傻眼，急忙通報郵局經理，經理懷疑儲金存單遭變造，請警方到場處理。\\xa0警員抵達後，許女仍與行員爭論不休，堅持這張「柒仟億元」的儲金存單絕對沒有變造，郵局人員只好請郵政總局的業務承辦人鑑定，郵局柯姓股長指稱，正常存單的數字是使用電腦印製，但女子手持的存單是用圖章按壓，況且郵局不會開立「柒仟億元」這種離譜數字的儲金支票。\\xa0誇張的是，警方後來在許女身上搜出面額「壹兆元」、「玖千億元」的存單，這些金額加起來高達兩兆多元新台幣，讓人直呼不可思議，許女後來坦承犯行，訊後依行使變造有價證券罪嫌移送台北地檢署偵辦。（突發中心／台北報導）\\xa0\\xa0\\n經變造的7000億元存單。翻攝畫面經變造的1兆元存單。翻攝畫面', 18541])\n",
      "174\n",
      "insert into news_entry(link,category,title,time,summary,view_cnt) values(?,?,?,?,?,?)\n",
      "dict_values(['http://www.appledaily.com.tw//realtimenews/article/politics/20160511/858569/【有片】鄭捷伏法\\u3000林昶佐：執行槍決不應這麼突然', '政治', '【有片】鄭捷伏法\\u3000林昶佐：執行槍決不應這...', '2016/05/11 13:14', '更新：新增影片\\xa0台北捷運隨機殺人案凶手鄭捷昨晚遭槍決，法務部長羅瑩雪今早受訪說，簽署死刑令是避免準法務部長邱太三為難。時代力量立委黃國昌上午受訪說，任何刑罰的執行都不應該有政治的考慮，這是非常嚴肅議題，政府施政的作為應是能有效的預防犯罪，讓社會的人更有安全感。\\xa0至於對死刑的立場，黃國昌說，時代力量提出的政策並沒有廢死，過去沒有廢死的政策，現在也沒有提出法案，但當然有部分時代力量成員認為，推動死刑無法防範犯罪，這是基於國際人權公約的角度，也是希望台灣能推動的方向。\\xa0時代力量立委洪慈庸上午受訪說，鄭捷的槍決太突然，讓人覺得心情沉重，她想問的是，執行槍決然後呢？大家能否再為社會防護網作些什麼，讓社會更好，不要再有類似的事件發生，這是她要繼續努力的，她不想再作評論，能評論此事的只有受害者家屬，看他們是否能就此放下。\\xa0時代力量立委林昶佐上午受訪說，他不揣測羅瑩雪是否有政治動機，但執行槍決不應這麼突然，台灣雖然有死刑，但不應這麼突然，應該要建立一個透明的程序，同時也希望不要再有下一個鄭捷。（黃信維、何哲欣／台北報導）\\xa0出版：12:58更新：13:14\\xa0\\n林昶佐認為，鄭捷遭槍決太突然。張良一攝黃國昌否認時代力量政策有廢死。唐紹航攝洪慈庸對鄭捷遭槍決感到心情沉重。唐紹航攝', 15387])\n",
      "175\n",
      "insert into news_entry(link,category,title,time,summary,view_cnt) values(?,?,?,?,?,?)\n",
      "dict_values(['http://www.appledaily.com.tw//realtimenews/article/local/20160511/858512/【有片】鄭捷槍決後\\u3000羅瑩雪說出真心話', '社會', '【有片】鄭捷槍決後\\u3000羅瑩雪說出真心話', '2016/05/11 13:13', '捷運殺人魔鄭捷昨晚3槍伏法，火速簽下死刑執行令的羅瑩雪，明天也將隨內閣總辭，今天她接受媒體訪問，對於是誰決定優先槍決鄭捷？她爽快回說：「是我。因為這是一個非常嚴重的社會矚目案件，這個案子對社會治安造成很大的傷害，造成社會大眾認為台灣是一個非常安全地方的破壞，我覺得這個事情必須要有一個特別的處理，所以提出優先處理的想法，部裡同仁也都蠻支持的。」\\xa0羅瑩雪以往執行槍決，都會打坐、迴向給死刑犯，這次呢？羅瑩雪說：「其實就跟平常一樣，過去已經執行過2次，這個是我工作的一部分，所以很多人覺得我會不會有壓力？情緒上是不是會受干擾？其實都沒有，因為我當做這些人（死刑犯），所有接觸到的人，都是因此陪伴我成長的人，從他們身上我也學到很多，我也祝福他們從今以後會走得更好，我是佛教徒，其實不相信人死生滅，我相信還有一個靈魂會繼續走他的路，我希望大家有學到該學的東西。」\\xa0羅瑩雪強調，執行鄭捷死刑其實沒有特別不一樣，「因為每一個生命都是非常可貴的，每一個靈魂都有他極高的價值」。\\xa0羅瑩雪表示，鄭捷在光天化日之下進行犯罪，他的案情相對非常簡單，證據也非常直接明確，所以法院沒有誤判的可能，雖法務部一如過往進行所有程序審核，但速度非常快，羅瑩雪強調，之所以單獨處理鄭捷槍決，是因為他對社會的影響太大了，「我們需要安定社會，讓大家回歸一個正確的觀念，這些事情是不容許的，也讓那些崇拜鄭捷、想效法的人有所警惕」。\\xa0至於簽署鄭捷死刑令是否考慮到外界觀感？羅瑩雪說：「執行公務時我只想一件事，這件事該不該做，這件事這樣做對不對，如果是該做、是對的事，我就會去做，至於批評都一定會有，因為有些人只是因為我就是我，就是會想要批評，我覺得這些都沒有關係，覺得執行公務都是可受公評的」；至於沒有事先通知鄭捷律師，「是因若事先通知的話，所有的死刑都不可能執行，因為相關的人可能會提出再審、非常上訴等等的動作，那會使得死刑的判決形同具文，變成沒有作用」。\\xa0至於昨天睡前是否針對任內3次簽准死刑令做一個總回想？羅瑩雪指出，「晚上打坐時候都會回迴向給所有的一切，跟我有緣、無緣的眾生，當然包括他們（死刑犯）。」（胡守得／台北報導）\\xa0【更多新聞，請看《蘋果陪審團》粉絲團】\\n法務部長羅瑩雪明天即將總辭。黃世宏攝', 11726])\n",
      "176\n",
      "insert into news_entry(link,category,title,time,summary,view_cnt) values(?,?,?,?,?,?)\n",
      "dict_values(['http://www.appledaily.com.tw//realtimenews/article/local/20160511/858564/一隻黑貴賓\\u3000讓司小姐相逢詩先生', '社會', '一隻黑貴賓\\u3000讓司小姐相逢詩先生', '2016/05/11 13:12', '雲林縣斗六市長安里司小姐（47歲）一隻養了二年的黑貴賓「小柚」，週日母親節當天一早離家出走，牠逛大街時，被住鎮東里的詩先生（30歲）發現，帶往附近長安派出所備案，並帶「小柚」先到動物醫院檢查，因掃瞄不到晶片，無法找到飼主，準備送交動植物疾病防治所處理。\\xa0\\u3000詩先生離開派出所約一小時，司小姐就急急忙忙跑進派出所報案；所長許坤雄請她不要著急，表示剛有人拾獲一隻黑貴賓，不過派出所當時沒留下詩先生的聯絡電話，調閱監視器找到詩先生的車牌號碼，根據車籍資料的電話，電話已停用，聯繫不上。\\u3000\\u3000司小姐急得如熱鍋上的螞蟻，許坤雄好人做到底，直接到詩先生的戶籍地找，順利找到詩家，由於星期天動植物疾疾防治所沒上班，所以狗還留在家中。許坤雄請詩先生帶狗回到派出所，把狗面交給司小姐。\\u3000\\u3000司小姐開心不已，頻頻向所長及詩先生道謝，所長在留他們二人的資料時，才發現二人的姓氏都很罕見，二人都是第一次遇到對方這種姓氏，覺得為了一隻小狗而相遇，是一種難得緣份，司小姐看詩先生也是愛狗人，歡迎他有空來找「小柚」玩。（寶智華／雲林報導）\\n司小姐感謝所長許坤雄。寶智華攝司小姐女兒在臉書社團PO文感謝警方熱心幫忙尋狗。翻攝畫面', 2182])\n",
      "177\n",
      "insert into news_entry(link,category,title,time,summary,view_cnt) values(?,?,?,?,?,?)\n",
      "dict_values(['http://www.appledaily.com.tw//realtimenews/article/international/20160511/858586/美巡航陸控島礁\\u3000陸國防部：已派艦驅離', '國際', '美巡航陸控島礁\\u3000陸國防部：已派艦驅離', '2016/05/11 13:12', '美軍驅逐艦勞倫斯號昨天駛入大陸控制的南沙永暑礁海域，引發中國不滿，中國國防部發言人楊宇軍昨表示，美國海軍驅逐艦「未經中國政府允許，非法進入中國南沙群島有關島礁鄰近海域，中國軍隊當即採取應對行動」，他並指已派軍艦警告驅離。（大陸中心／綜合外電報導）', 1863])\n",
      "178\n",
      "insert into news_entry(link,category,title,time,summary,view_cnt) values(?,?,?,?,?,?)\n",
      "dict_values(['http://www.appledaily.com.tw//realtimenews/article/nextmag/20160511/858147/【壹週刊】驚！ATR模擬實測\\u3000依「導引儀」飛皆失速', '壹週刊', '【壹週刊】驚！ATR模擬實測\\u3000依「導引儀...', '2016/05/11 13:10', '今年4月26日，本刊前往泰國曼谷AATC模擬機訓練中心，並找來曾任ATR法國原廠飛行教官、飛行資歷超過40年的Robert Allemand（法國籍），及曾任立榮航空ATR72-600型客機副駕駛、現為自由機師的Frank Ting（台灣籍）擔任正、副駕駛，進行模擬機飛行測試。\\xa0本刊告訴正、副駕駛測試目的，並根據飛安會公布的「事實資料報告」進行電腦設定，包括氣溫、風向、飛機重量等參數，都與復航南港空難當天狀況一致，起飛機場也設定為台北松山機場。\\xa0飛機升空不久，副駕駛按下自動駕駛AP（AutoPilot）鈕，飛機繼續往上飛。當飛行高度接近1200呎時，副駕駛將2號發動機的油門完全收掉，模擬空難發生前，2號發動機失效的情況。此時，機艙內的警報聲大作，接著「自動駕駛」突然跳開，正駕駛手中握的操縱桿抖了一下，表示飛機已變成「手動駕駛模式」。\\xa0同一時間，儀表板上的2個發動機扭力表也出現變化。失效的2號發動機，扭力指針瞬間歸零，螢幕變成白色；未失效的1號發動機，扭力則突然提高，指針甚至超過100％（正常上限為99.9％），螢幕也從白色變成橘色警示。\\xa0副駕駛為了避免發動機過熱，根據操作手冊規定，把1號發動機的油門先收了一點，讓扭力表的指針回復正常。雖然機艙內還是不時發出警報聲響，但正駕駛握著操縱桿，跟著「飛行導引儀」的十字座標飛，飛機仍在掌控中。\\xa0當飛行高度達到1600呎，副駕駛把正常運作的1號發動機油門完全收掉，模擬空難發生前，駕駛收錯油門的情況。此時，2具發動機通通停止運作，正駕駛根據「標準作業程序」，繼續跟著「飛行導引儀」飛，不料3秒後，「失速」警報聲大作，接著操縱桿劇烈震動，正駕駛根本無法掌握，代表飛機失控，即將墜毀。\\xa0這樣的結果，讓正、副駕駛大吃一驚，因為在高空中，就算2具發動機都失去動力，但只要操控得宜，飛機並不會發生「失速」這樣無可挽回的悲劇。老經驗的正、副駕駛不信邪，重新測試3次，結果狀況一模一樣，飛機最後失速墜毀。\\xa0第5次測試，正、副駕駛決定不再跟著「飛行導引儀」飛。當2具發動機都停止運作後，正駕駛憑著經驗，先將機頭往下帶，讓飛機維持一定速度，再靠目視及副駕駛的引導，將飛機避開地面上的建築物。這一次「失速警報」沒再響過，就算飛機沒有動力，但始終在駕駛掌控中，最後平安迫降。\\xa0為了確認「飛行導引儀」是否真有瑕疵，正、副駕駛再進行第6次測試，這次依舊照「飛行導引儀」的帶領飛，最後一樣出現失速的結果。（撰文：丁國鈞）\\xa0「更多其他壹週刊內容請點我」', 5025])\n",
      "179\n",
      "insert into news_entry(link,category,title,time,summary,view_cnt) values(?,?,?,?,?,?)\n",
      "dict_values(['http://www.appledaily.com.tw//realtimenews/article/strange/20160511/858480/【有片】這樣的男人快追！\\u3000證明他將是好老公', '搜奇', '【有片】這樣的男人快追！\\u3000證明他將是好老...', '2016/05/11 13:10', '其實不管是前一陣子流行的暖男還是草食男，或是日本專門形容有少女的興趣，擁有一顆少女心卻不娘娘腔的「乙男」，都證明現代女性已經不喜歡大男人主義了，她們要的是跟自己有相同興趣、共同話題的溫柔男孩。如果有以下特徵並且不是「甲甲」的話，女孩請務必要把握，因為他就是妳的必嫁男人。(李佩珊／綜合報導)\\xa0\\xa01.對時尚品味非常關注，衣櫃衣服甚至比妳多。\\xa02.非常喜歡做菜，尤其是甜點。\\xa03.超級喜歡小動物。\\xa04.願意花一整天陪妳玩無聊小遊戲。\\xa05.熱愛保養，絕對不會覺得花錢保養是浪費的行為。\\xa06.不在乎你做過什麼整形手術。\\xa07.就算妳朋友嫌他娘，他還是依然做自己，只在乎妳對他的看法。\\xa0\\xa0\\xa0\\xa0\\xa0\\n以妳為重的男人才是最值得嫁的。圖片來源：必娶女人粉絲團', 1443])\n",
      "180\n",
      "insert into news_entry(link,category,title,time,summary,view_cnt) values(?,?,?,?,?,?)\n",
      "dict_values(['http://www.appledaily.com.tw//realtimenews/article/strange/20160511/858480/【有片】這樣的男人快追！\\u3000證明他將是好老公', '搜奇', '【有片】這樣的男人快追！\\u3000證明他將是好老...', '2016/05/11 13:10', '其實不管是前一陣子流行的暖男還是草食男，或是日本專門形容有少女的興趣，擁有一顆少女心卻不娘娘腔的「乙男」，都證明現代女性已經不喜歡大男人主義了，她們要的是跟自己有相同興趣、共同話題的溫柔男孩。如果有以下特徵並且不是「甲甲」的話，女孩請務必要把握，因為他就是妳的必嫁男人。(李佩珊／綜合報導)\\xa0\\xa01.對時尚品味非常關注，衣櫃衣服甚至比妳多。\\xa02.非常喜歡做菜，尤其是甜點。\\xa03.超級喜歡小動物。\\xa04.願意花一整天陪妳玩無聊小遊戲。\\xa05.熱愛保養，絕對不會覺得花錢保養是浪費的行為。\\xa06.不在乎你做過什麼整形手術。\\xa07.就算妳朋友嫌他娘，他還是依然做自己，只在乎妳對他的看法。\\xa0\\xa0\\xa0\\xa0\\xa0\\n以妳為重的男人才是最值得嫁的。圖片來源：必娶女人粉絲團', 1457])\n",
      "181\n",
      "insert into news_entry(link,category,title,time,summary,view_cnt) values(?,?,?,?,?,?)\n",
      "dict_values(['http://www.appledaily.com.tw//realtimenews/article/local/20160511/858539/裝作不怕死？\\u3000教誨師稱：鄭捷刑前閃尿剉咧等', '社會', '裝作不怕死？\\u3000教誨師稱：鄭捷刑前閃尿剉咧...', '2016/05/11 13:10', '鄭捷臨刑前的心情到底如何？\\xa0「北捷隨機殺人犯」鄭捷昨日被槍決，曾經輔導過他的「教誨師」張柏舟在上三立節目《54新觀點》時透露，雖然鄭捷總是一副「不怕死」的樣子，但經過他的分析發現，鄭捷「他是最怕死的」，對一切都不屑一顧的樣子其實是在掩飾他「心中的恐懼」。張柏舟說，一個死囚最大的凌遲就是「等死」，他相信「鄭捷在5點多時就已經閃尿了！」\\xa0不過這番言論受到許多質疑，台北市長柯文哲的正妹幕僚「戳戳妹」葉芝邑就直言「非常噁心」，她在臉書痛批「我們國家的教誨師沒有教誨的功能，只會在教誨對象死後繼續上政論節目鞭屍，講一些對社會沒幫助的屁話」，大酸「凸顯自己是多麼無能多麼失職多麼低能。」\\xa0新聞被轉載至PTT八卦版，網友也都毫不留情，有網友轟「這種心態的咖洨當教誨師難怪獄政差」「他一定要這樣嘴砲來增加死刑的嚇阻力嗎？」「幻想文果然來了...」「教誨師都這樣的話，還期待那些犯人向善喔？」「承認有人就是冷漠到對自己與他人生命都無感很難嗎？」「難怪監獄沒教化功能」（張鈜閔／綜合報導）\\xa0\\n教誨師張柏舟在節目中稱「鄭捷必定怕死」「5點多時就已經閃尿了！」翻攝自setn 三立新聞網', 55571])\n",
      "182\n",
      "insert into news_entry(link,category,title,time,summary,view_cnt) values(?,?,?,?,?,?)\n",
      "dict_values(['http://www.appledaily.com.tw//realtimenews/article/politics/20160511/858579/【民報】人物／磺溪傲骨石錫勳從反日一路到反國民黨', '政治', '【民報】人物／磺溪傲骨石錫勳 從反日一路...', '2016/05/11 13:05', '本內容由民報提供\\xa0(摘錄 全文請連結民報)【本文取材自民報文化雜誌2016年／第12期】文／陳婉真 (資深媒體工作者)\\xa0\\xa0他和他的夫人都是受過正規醫學教育的醫師夫婦，功名利祿唾手可得，他卻選擇最艱辛的路：日本人統治時他抗日，國民黨來台灣不久，因為三度以無黨籍身分參選彰化縣長落敗。他散盡家財，醫師執照被吊銷，並成為「中華民國」的叛亂犯，多次被捕，最後祖產被拍賣，被迫遷居高雄，客死異鄉。\\xa0他是彰化的名醫石錫勳，夫人則是日本習醫的張慶美醫師，老一輩彰化人只記得他以唐吉訶德式的精神，在國民黨提名等同當選的年代，每次競選縣長等都高票落選。年輕人根本聽都沒聽過這個名字。\\xa0浪漫仁醫 坎坷人生路\\xa0石錫勳不只是名醫、仁醫，也是多情多產的詩人。或許源自於詩人的浪漫性格，導致他的人生路崎嶇坎坷。\\xa0石錫勳於1900年出生在彰化市北門外，父親是著名中醫師，也是詩文造詣頗深的漢學家。他自幼在父親的培植下，17歲就展現詩才。同年考入臺灣總督府臺北醫學校（今臺大醫學院），1921年參與文化協會籌組工作，成為創會理事。\\xa0石錫勳在同年畢業後，為了想繼續從事政治活動，及逃避父親幫他指腹為婚的安排，到高雄旗後（今旗津）開業。\\xa01923年1月，他擔任「臺灣議會期成同盟會」理事，兼高雄州總幹事，為了向民眾鼓吹議會設置的重要，他練就群眾演講的好口才，加上年輕、聲音宏亮，妙語如珠，贏得「石大砲」的綽號。10月，續任文化協會理事。12月，因「治警事件」被捕，並於次年被起訴，第一審判無罪，第二審判罰金1百圓。\\xa01928年，彰化人士王敏川、賴和等人創辦「大眾時報」，成為文化協會的機關報，石錫勳也沒有缺席。\\xa01929年文化協會分裂改組後，主要幹部幾乎清一色為彰化人，石錫勳被選為中央執行委員會委員。\\xa0日人也採取收買策略，由總督府派台中州高等科長山下末之武前往遊說，只要他退出文協，或不參加文協活動，除給予一筆鉅款外，還有芳苑地區175甲土地奉送，石錫勳拒絕了。\\xa01936年日本政府改派軍人擔任台灣總督，強力推動皇民化運動，而台灣人的改革運動，已被日人取締殆盡，石錫勳乃結合昔日文協同志，暗中組織一個反對皇民化的俱樂部和日人周旋，因而常被日本特務跟踪。\\xa0二戰終結丶日本人投降後，和大多數抗日志士一樣，彰化人懷抱回歸祖國的美夢，自動組成歡迎國民政府接收的委員會，到台北中山堂受降儀式會場觀禮，石錫勳被推舉為委員會主席，旋被地方委員會推選為首任省轄市彰化市長。國民黨彰化市黨部及三民主義青年團，都是由他發起成立的，1946年也曾當選彰化市參議員，但次年他就看清國民黨真相而退黨，成為無黨籍人士。\\xa01949年他因經營貿易的胞弟，在搭船載貨由日返台途中，在上海連人帶貨遭共匪搶劫，貿易行宣告倒閉，石錫勳也因是胞弟借款的保證人，散盡家財好不容易辦妥賠償等善後事宜，卻遭政敵密告他開地下錢莊、擾亂金融及惡性倒閉；政治上則被警總指控為與逃到日本的廖文毅暗中來往，因而被捕入獄90天，因查無實據，被判無罪。\\xa0一生多次參選 皆不敵國民黨買票、作票而落敗\\xa0石錫勳隨後舉家遷往臺中，然而，由於彰化地方人士看不慣國民黨籍首長的惡行惡狀......(摘錄 全文請連結民報)', 975])\n",
      "183\n",
      "insert into news_entry(link,category,title,time,summary,view_cnt) values(?,?,?,?,?,?)\n",
      "dict_values(['http://www.appledaily.com.tw//realtimenews/article/life/20160511/858556/劈腿和無縫接軌的差異\\u3000他的回文讓網友推爆', '生活', '劈腿和無縫接軌的差異\\u3000他的回文讓網友推爆', '2016/05/11 13:04', '有網友在批踢踢詢問「劈腿」和「無縫接軌」有什麼差異？引起許多網友討論，批踢踢名人蘇美回文表示，在交往期間，和其他人曖昧就算劈腿。\\xa0蘇美說，一般人所認知的劈腿，是同一個時期，交往兩個以上的人，但他認為，有交往的人，還和其他人曖昧就算劈腿了。「平常有在養備胎或工具人，這就不叫無縫接軌了，因為根本就是在劈腿啦！」他說，真正無縫接軌大概只有一種狀況，「晚上吃飯談了分手，出了餐廳門，心情不好去夜店喝酒，結果在夜店認識了新朋友，當天馬上交往。」他認為，分手前就認識，且關係很好，分手後沒多久就交往，「別人可能不知道，但是自己最清楚就是劈腿啊，那是騙不了人的。」\\xa0許多網友留言：「真的，真相只有自己知道」、「很清楚! 果然無縫跟劈腿一線之隔」、「太中肯了」、「自己最清楚，其他都是藉口!」，也有網友認為，「無縫只是劈腿好聽一點的說法吧」。（即時新聞中心／綜合報導）', 6309])\n",
      "184\n",
      "insert into news_entry(link,category,title,time,summary,view_cnt) values(?,?,?,?,?,?)\n",
      "dict_values(['http://www.appledaily.com.tw//realtimenews/article/finance/20160511/858581/群募挺電競\\u3000助《快打旋風5》選手出國戰', '財經', '群募挺電競\\u3000助《快打旋風 5》選手出國戰', '2016/05/11 13:03', '在為期4個月的《快打旋風 5》台灣代表預選賽中，群募貝果首創利用群眾募資的手法，來讓台灣廣大的電競社群可以一同參與支持創造台灣電競的歷史。群募貝果的執行長陳威光也表示：「群募貝果支持台灣電競發展，期待成為電競選手的圓夢推手，在國內及國際的電競舞台上發光發熱！」\\xa0台灣最大的原生直播平台 LIVEhouse.in，致力發展台灣遊戲與電競產業，並緊密結合實況直播，舉辦多場電競賽事。更於今年的台北國際電玩展，協同多個遊戲廠商舉辦活動。近日更協同 ESR 電競王，於3/19(六)起，共同舉辦連續4個月的「Evolution 2016」《快打旋風 5》台灣代表預選賽，期望透過此賽事可以將台灣優秀的選手送往美國拉斯維加斯參加於7/14~15舉辦的E.V.O世界格鬥大賽，為台灣贏得下一個世界冠軍。\\xa0賽事主辦單位 ESR 電競王執行長陳建群表示：「電競是一國科技力的表徵，更是一個先進文明的驕傲，電競代表的就是一種未來力量，世界電競正在發展，台灣電競不能缺席。」\\xa0LIVEhouse.in除了贊助選手出國比賽的費用之外，更將這些選手們精彩刺激的比賽過程，透過現場直播的方式擴散於網路世界，即時呈現於全台灣的觀眾面前，並善用直播平台的VOD保存功能，為我們台灣電競之路，留下一個精彩的回顧。此賽事目前已經吸引到台灣上百名好手參加，包含「Tomy」、「洛克胖」、「基隆東」等《快打旋風》系列的好手參賽，並累積近 10 萬人觀看次數。LIVEhouse.in 執行長程世嘉表示：「LIVEhouse.in 將持續耕耘電競領域，讓台灣的電競產業可以跟世界接軌！」\\xa0《快打旋風 5》於2016年2月上市以來，迅速成為2016全球各大賽事組織指定年度項目；為與世界電競接軌，本次依循 E.V.O 賽事的「傳統」：進行高密度的雙敗淘汰賽事，於僅僅一天的賽程日內進行所有賽事，直至決選出冠亞軍為止。此賽事的聯合推動廠商包括了 LIVEhouse.in、ESR電競王、Intel、e-go台灣租車旅遊集團、群募貝果，此賽事目前亦得到台北市政府的支持，預選賽出線的選手也將會代表台北市前往參加比賽！接下來的預選賽於5/28（六）進行，勝者將可以晉級至 6/18（六）台灣預選賽決戰！（蕭文康／台北報導）', 589])\n",
      "185\n",
      "insert into news_entry(link,category,title,time,summary,view_cnt) values(?,?,?,?,?,?)\n",
      "dict_values(['http://www.appledaily.com.tw//realtimenews/article/local/20160511/858543/擒鄭捷勇伯\\u3000已返美國定居', '社會', '擒鄭捷勇伯\\u3000已返美國定居', '2016/05/11 13:02', '勇伯陳風（64歲）2年前的5月21日當天，正好就在江子翠捷運站，原本因為背痛要去看醫生，看見月台上不斷有人驚叫，「殺人了！」他瞬間忘記背痛，對著鄭捷大喊：「你給我過來！」接著使用擒拿術扣住鄭捷，再使勁坐在他身上，一直到警方將他上銬，如今鄭捷伏法，《蘋果》試圖聯繫陳風，但他已返回美國。\\xa0已經退休的陳風，1994年便舉家移民美國，當初是為了照顧母親才會返台，當時他因為受背痛所苦，搭捷運去看病，想不到竟遇上殺人魔，事發後陳風英勇作為被廣為報導，儘管家人都勸他低調些，但正如他當時勇於與持刀的鄭捷對抗，陳風也不吝於分享事蹟。\\xa0陳風曾對媒體提到，他在美國時歷經911恐攻，當時社會恐懼氛圍不斷散布，鄭捷案後社會也陷入恐慌，但他說：「他沒做惡夢，也照常搭捷運。」勇伯勇敢對抗殺人魔、戰勝恐懼的形象，讓陷入黑暗中台灣社會帶來一絲光芒，鄭捷伏法後，《蘋果》試圖再度聯繫陳風，但家中外籍看護表示，他目前已返回美國，無法聯繫上。（突發中心／新北報導）\\xa0\\xa0\\n陳風已移民美國，目前其母住在北大特區。黃靖文攝', 23275])\n",
      "186\n",
      "insert into news_entry(link,category,title,time,summary,view_cnt) values(?,?,?,?,?,?)\n",
      "dict_values(['http://www.appledaily.com.tw//realtimenews/article/finance/20160511/858566/F-VHQ強片進補\\u3000全年EPS6元起跳', '財經', 'F-VHQ強片進補\\u3000全年EPS 6元起跳', '2016/05/11 13:02', '影視特效製作公司F-VHQ（4803）投資的《快手鎗手快鎗手》及《麥兵兵》2部電影，確認在下半年上映，票房收入會依比例在今年底前及明年初陸續認列入帳，法人預估，這2部對EPS貢獻約1.2元，為了滿足亞太市場及爭取歐美影業市場，拓展全球業務規模，近期將積極物色及購併優質的特效後製公司，以縮短培訓時間及吸納各地人才，此外，F-VHQ集團計劃結合大中華區的知名影業集團共同成立基金，聯手挖掘影視文創產業的潛力市場。\\xa0F-VHQ表示，去年全年營收7.64億元，首季為營收淡季，但因電影項目加入營業，首季營收即達2.2億元，隨著年底再加認列票房收入與4月後新接單收入挹注下，今年營收和EPS將再創新高，法人指出，針對F-VHQ全年廣告及電影已接單部分做今年收入評估，預估全年EPS至少6元以上。\\xa0F-VHQ指出，接獲由阿里影業（屬阿里巴巴旗下）及儒意影業2家聯合出品三生三世十里桃花電影玄幻仙俠大片，已進行後製階段，因亞太地區影視業務成長，且為拓展其全球業務規模，物色購併優質的特效後製公司，已為VHQ集團近程迫切規劃的要項之一。\\xa0F-VHQ進一步指出，去年簽約多部電影投資案中，目前已確定有《麥兵兵》及《快手鎗手快鎗手》等2部電影上映，其中《快手鎗手快鎗手》將於7月中旬暑假檔期上映，《麥兵兵》則於11月中年底電影旺季上映。\\xa0《快手鎗手快鎗手》這部電影是由潘安子導演，林更新及張靜初分任男女主角，這次2人主演的《快手鎗手快鎗手》為動作喜劇片，主攻全球華人市場，預計達4~5億人民幣的票房收入時，法人預估將可貢獻F-VHQ約EPS1.1元。\\xa0至於《麥兵兵》則是中國影業第1部設計以人與動物互動，進行編劇拍攝的特效大片，此片是由F-VHQ與中國官方文化單位共同出品發行，並由F-VHQ承辦片中之特效製作。\\xa0F-VHQ指出，目前中國電影市場，每部電影的平均票房約4~5億元人民幣，麥兵兵保守估計票房收入將可超出平均值之上，總收入扣除成本後，該片票房收入每多1億元，法人估計約可增加F-VHQ之EPS 0.09元。\\xa0F-VHQ說，未來除了以集團優勢的特效後製主要業務來帶動票房投資合作機會，並將票房收入列為VHQ主要業務，為滿足亞太市場及爭取歐美影業市場，拓展全球業務規模，將積極物色及購併優質的特效後製公司，以縮短培訓時間及吸納各地人才，這是VHQ目前積極進行的要項。此外，VHQ集團還計畫結合大中華區的知名影業集團共同成立基金，聯手挖掘影視文創產業的潛力市場。（高佳菁／台北報導）', 527])\n",
      "187\n",
      "insert into news_entry(link,category,title,time,summary,view_cnt) values(?,?,?,?,?,?)\n",
      "dict_values(['http://www.appledaily.com.tw//realtimenews/article/sports/20160511/858582/日本足球巨星本田圭佑真的要來臺灣', '體育', '日本足球巨星本田圭佑真的要來臺灣', '2016/05/11 13:02', \"自2010年南非世界盃足球賽起爆紅的日本足球中場名將本田圭佑即將首度來臺灣！本田圭佑創辦足球營隊「本田圭佑足球學校(HONDA's SOLTILO SOCCER SCHOOL，直譯為本田的太陽風格足球學校)」6月8日在臺灣新北板橋體育場登場，他將帶領日本教練團來台指導小球員踢球，並免費開放民眾於觀眾席觀摩教學。活動已透過足球相關社團招募150名臺灣、日本小學生參與。\\xa0本田圭佑目前效力義大利名門球會AC米蘭(AC Milan)，他自幼夢想以足球員身分登上國際舞台，也希望藉由自身經驗讓更多孩子了解到擁有夢想與相信自己力量的重要性。他表示：「擁有夢想的人，才會越來越強大。」\\xa0本田圭佑足球學校營隊自2009年開辦，他另在2012年5月創辦「SOLTILO FAMILIA SOCCER SCHOOL(太陽風格家族足球學校)」，Familia是西班牙文「家人」，Soltilo則是日本J聯盟球會盛行的結合外語，結合西班牙文「太陽」(Sol)和「風格」(Estilo)新創。SOLTILO FAMILIA足球學校已在日本關東、關西及九州各大城市建立共56所分校。(王毓健／綜合報導)\", 1823])\n",
      "188\n",
      "insert into news_entry(link,category,title,time,summary,view_cnt) values(?,?,?,?,?,?)\n",
      "dict_values(['http://www.appledaily.com.tw//realtimenews/article/nextmag/20160511/858584/【壹週刊】520就職演說王牌文膽再操刀', '壹週刊', '【壹週刊】520就職演說 王牌文膽再操刀', '2016/05/11 13:02', '曾為準總統蔡英文撰寫過 2012大選參選聲明、敗選演說及2016勝選演說的清大社會所所長姚人多，再度為520就職演說執筆，綠營幕僚不諱言，姚的筆鋒感性有溫度，蔡只要說出動人辭句，外界第一個聯想的就是出自姚人多手筆。\\xa0姚人多能掌握蔡的談話精要，要領在除了事先參與幕僚會議，定稿後也會再跟蔡討論，蔡只要提示方向及基調，姚就能掌握精髓，例如2012年落選感言，蔡要求落選感言與幕僚討論時，就交待「我等一下出去就是希望告訴大家不能失望，這個國家未來四年要繼續往前走」，姚果真為蔡寫出「你可以哭泣，但不要洩氣。你可以悲傷，但是不要放棄。」的精典催淚金句。(撰文:劉榮)', 1364])\n",
      "189\n",
      "insert into news_entry(link,category,title,time,summary,view_cnt) values(?,?,?,?,?,?)\n",
      "dict_values(['http://www.appledaily.com.tw//realtimenews/article/life/20160511/858533/【聲明全文】中研院長候選第一\\u3000廖俊智願回台見總統', '生活', '【聲明全文】中研院長候選第一\\u3000廖俊智願回...', '2016/05/11 13:01', '中央研究院上月16日召開評議會，選出3位新院長候選人，目前待總統馬英九擇一任命，馬曾表示他將與3人面談，再決定選誰，中研院則說還在代為聯繫中。外傳新院長候選人排名第1的是美國加州大學洛杉磯分校化學暨生物分子工程系系主任廖俊智，今天隔海發出聲明指，他願回台灣與總統馬英九面談院長遴選過程，但也請總統府和中研院澄清遴選程序的適法性問題，以決定回台日期，廖另澄清他和馬英九、中研院前院長李遠哲、準總統蔡英文都不熟識。截至目前為止，《蘋果》未能聯繫上廖俊智，暫時無法取得進一步說法。（蔡永彬／台北報導）\\xa0廖俊智聲明全文如下：\\xa0本人承蒙中研院評議會肯定，獲選為下屆中研院院長候選人，深感榮幸。近期有關本人與中研院長選舉的各項傳言，本人認為事久自能論定，並由於本人為事件當事人，不當對此發表任何意見，故皆選擇沈默以對。然近二日有一些突發狀況要求本人回應，關係重大，故特別發此聲明稿。\\xa0總統府於昨日批准翁院長辭職，並透過中研院院方立即來電詢問是否能儘速回台與馬總統面談。本人當時將此視為新院長遴選過程的正常程序，既然府方與院方有此要求，故已首肯。\\xa0然而之後上網讀到馬總統批准翁院長辭職所致的長函，其中多次提到似乎有不少人士對院長選舉過程有所疑慮，希望中研院處理。本人自從獲推薦以來，與中研院所有的互動皆屬被動，對選舉過程亦不甚清楚。馬總統的信函既然提到關於遴選過程的許多疑慮，希望中研院處理，仍盼府方或院方在面談前對於遴選程序的適法性與有效性做進一步的澄清，以便決定何時回國。如若造成院方或府方的不便，尚請見諒。\\xa0此外，本人與李遠哲前院長於遴選前並不認識。與馬英九及蔡准總統亦未曾相識。外界有許多不確實的傳言，於此亦特別加以澄清。\\xa0廖俊智5月10日於洛杉磯\\xa0發稿時間：12:28更新時間：13:01', 4189])\n",
      "190\n",
      "insert into news_entry(link,category,title,time,summary,view_cnt) values(?,?,?,?,?,?)\n",
      "dict_values(['http://www.appledaily.com.tw//realtimenews/article/local/20160511/858550/鄭捷槍決\\u3000廢死聯盟怒批「等於現場轉播」', '社會', '鄭捷槍決\\u3000廢死聯盟怒批「等於現場轉播」', '2016/05/11 13:01', '殺人魔鄭捷昨被槍決，廢死聯盟今發新聞稿呼籲：「莫為政治算計，背棄程序正義」，指出昨晚法務部某種程度，是一場看不見的死刑執行現場轉播，將死刑作為一種展演，用來恫嚇或者虛偽安撫社會大眾，強調總統馬英九任內執行33人槍決，但還是沒嚇阻犯罪效果，廢死聯盟指出，對於這樣的死刑執行過程深感遺憾及不滿，認為不能用死刑作為解決問題手段，廢死聯盟指出：「拜託新的政府有新的思維，別殺，別只剩下殺」\\xa0廢死聯盟指出，鄭捷案最高法院2016年4月22日宣判死刑確定，當天下午法警親送判決書至律師事務所，4月26日發布新聞稿「將全案卷證檢送最高法院檢察署執行，同時副知法務部檢察司」；法務部5月10日通知記者將於晚間8時45分召開記者會說明鄭捷的死刑執行，最後記者會延遲至8時58分召開，8時47分執行死刑，在記者會現場等待的同時，大家都知道，鄭捷正在被執行死刑，某種程度，這是一場看不見的死刑執行現場轉播。\\xa0廢死聯盟強調，反對鄭捷被判處死刑及執行死刑，並不是因為廢死聯盟「同情」及「原諒」加害者或者無視於被害者的處境，而是認為政府不能以死刑作為解決問題的手段，也不能因政治算計而背棄程序正義，因為台灣社會一直不重視程序正義，造成很多無可彌補的憾事，廢死懇切希望台灣社會能從過去的經驗裡體會程序正義的重要性。而程序正義的堅持，是不能挑選案子的，不能在那些廢死聯盟認為毫無疑問的案子裡就自動跳過程序正義。\\xa0廢死聯盟也向未來的法務部長邱太三提出呼籲，邱於昨天和法務部長羅瑩雪見面時談到死刑，表示會「依循以往的機制」，這是絕對錯誤的想法，而從馬英九政府執政以來總計執行了7次死刑、33位死刑犯，廢死聯盟心驚的殺人事件都是在執行死刑後發生，死刑沒有嚇阻效果，只會有模仿效應，這個「以往的機制」向政府學到了殺人是可以的，以暴制暴是可以的。\\xa0新聞稿指出，新政府不能夠學習舊政府用幾顆子彈排除所有精神衛生、校園安全、社會經濟與被害人保障等層面的批評及檢討；邱太三部長也必須要認真思考犯罪預防的機制、監獄改革、更生政策、被害人保護的工作。若只依循以往的機制，意思就是製造更多冤死的杜氏兄弟。廢死聯盟拜託新的政府有新的思維，別殺，別只剩下殺。（劉志原╱台北報導）\\xa0【更多法庭新聞，請看《蘋果陪審團》粉絲團】', 10905])\n",
      "191\n",
      "insert into news_entry(link,category,title,time,summary,view_cnt) values(?,?,?,?,?,?)\n",
      "dict_values(['http://www.appledaily.com.tw//realtimenews/article/politics/20160511/858540/疑似中國蒜遭海關押款放行\\u3000綠委嗆：520後見', '政治', '疑似中國蒜遭海關押款放行\\u3000綠委嗆：520...', '2016/05/11 13:00', '台灣蒜頭今年產量少，造成價格上揚，但有蒜農發現有不肖業者疑似假冒泰國蒜頭名義，進口中國蒜頭「大片黑」品種，想從高雄海關闖關，並在昨天控告海關瀆職。綠委蘇治芬與蒜農協會理事長胡永芳等今早更召開記者會，要求海關保障台灣蒜農權益；胡永芳表示，行政官員應積極替台灣農民把關，為調查前不該先行放行，更不得押款放行。\\xa0記者會進行中，蘇治芬得知相關裝有蒜頭的三個貨櫃，兩個已在昨晚、一個在今早都已「押款放行」的方式，讓廠商提領走後，大罵海關辦事不力，罔顧農民訴求。關務署通關業務組長陳金標、高雄關驗貨課課長杲景祥連忙解釋，目前初步鑑定後，與中國品種不同，後續會再積極查驗，了解到處有無中國蒜頭混充。陳金標解釋，依照《關稅法》規定，貨品有保存期，目前暫時查無中國品種，若不放行造成蒜頭壞掉恐有國賠問題，才會讓廠商押款放行，後續再行處理。\\xa0但蘇治芬與蒜農嗆，都已經提告，海關卻完全沒有保護蒜農權益，要人民如何相信政府；蘇治芬最後轟，「走著瞧，520後見」，就宣布記者會結束。（黃信維／台北報導）', 2762])\n",
      "192\n",
      "insert into news_entry(link,category,title,time,summary,view_cnt) values(?,?,?,?,?,?)\n",
      "dict_values(['http://www.appledaily.com.tw//realtimenews/article/life/20160511/858570/為何男人想找援交妹？一句話引爆網友大戰', '生活', '為何男人想找援交妹？一句話引爆網友大戰', '2016/05/11 12:56', '一個問題，引發男女大戰！\\xa0一名網友在臉書「靠北男友」問「男生到底為何想找援交妹啊？不覺得髒嗎？到底心態是什麼？」引發男女網友筆戰，雙方各持己見，在留言區交鋒。\\xa0男性網友認為「因為援交妹不會對你靠北，不會邊跟你做跟你說我朋友買一個包包好好看欸，我朋友買一條手練好好看唷 ，我朋友買新的香水，欸我朋友買新的衣服耶」、「因為直接花錢解決不囉唆」、「一樣給2500~3000元，給女友還是老婆也許嫌少，還會擺一張臭臉，如果給援交妹2500~3000，他們會說謝謝哥哥，也許還可以完美的性服務。那知道答案了嗎？就是得到的感覺不一樣！」\\xa0這種回應讓女網友怒吼「好可怕， 一堆男人女人覺得沒問題。有女朋友的懂什麼叫忠誠嗎？沒女朋友的懂什麼叫自愛嗎？覺得沒問題的女人，你男人找援交記得乖乖不要吵。」、「我看到有人打“各求所需沒甚麼大不了”我覺得很好笑，把自己骯髒行為講得合情合理，那你無法滿足你女友，就自己多戴幾頂綠帽吧，看誰才是傻B！」（即時新聞中心／綜合報導）\\n網友問為何男人想找援交妹？結果引爆網友大戰。翻攝靠北男友', 16183])\n",
      "193\n",
      "insert into news_entry(link,category,title,time,summary,view_cnt) values(?,?,?,?,?,?)\n",
      "dict_values(['http://www.appledaily.com.tw//realtimenews/article/local/20160511/858532/私吞國中生車馬費\\u3000亞洲波神前經紀人起訴', '社會', '私吞國中生車馬費\\u3000亞洲波神前經紀人起訴', '2016/05/11 12:56', '亞洲波神巧巧（本名王騴之）的前經紀人瑞奇（本名朱俊憲），前年遭一名16歲的國中男生指控對他摸頭性騷擾，雖因事證不足朱男獲不起訴，但國中男生另控告朱男假冒中國湖南衛視選秀人員和他簽約並A走車馬費，台北地檢署認定朱男將廠商付給國中生的8千元據為己有，今依業務侵占罪將他起訴。\\xa0起訴指出，該名國中生和母親指控，31歲的朱男在2014年1月間，向該名長相俊俏的國中男生和其母親表示，自己是湖南衛視委託的選秀人員，若和他簽立經紀約就可以當湖南衛視的藝人，每個月可以領8千元車馬費，事後還和他們延長合約。\\xa0但同年4月間，朱男卻將廠商提供的8千元車馬費匯到自己戶頭，還向國中生的母親謊稱廠商不願贊助，因此沒有拿到車馬費，但國中生的母親向廠商查證發現錢早就匯給朱男，且朱男也並非湖南衛視委託的選秀人員。\\xa0檢方調查，朱男只是口頭說可以使用湖南衛視的資源，但在合約中並未稱受湖南衛視委託，因此認為朱男並未詐騙國中生和母親，詐欺罪部分不起訴朱男；但朱男卻私吞廠商要給國中生的8千元，因此依業務侵占罪起訴朱男。（吳珮如／台北報導）\\xa0【更多司法新聞，請看《蘋果陪審團》粉絲團】', 3030])\n",
      "194\n",
      "insert into news_entry(link,category,title,time,summary,view_cnt) values(?,?,?,?,?,?)\n",
      "dict_values(['http://www.appledaily.com.tw//realtimenews/article/forum/20160511/858568/面對死刑犯，也不能違背工作倫理', '論壇', '面對死刑犯，也不能違背工作倫理', '2016/05/11 12:56', '作者：王大維（國立屏東大學教育心理與輔導學系助理教授兼社區諮商中心主任）\\xa0昨日鄭捷被執行槍決，之後紛紛有「輔導員」、「教誨師」跳出來訴說他們「輔導」鄭捷的經驗，其中一位具台北市議員身份者不斷說「他好可怕」、「是那種會令她要求應該帶警報器的死囚之一，因為他很可怕，他的一言一行中，他從未認知犯過錯」。另一位具宗教背景的教誨師則是彷彿當起算命師，從字跡測性格，他提到「鄭捷總將自己的名字寫得又大又潦草，除了顯示出他的自我，也顯示他因長期沉迷網路世界，導致似乎不太會寫字。」\\xa0上述兩位應該都是不具備專業心理諮商與輔導訓練的半專業助人工作者，然而其言論會讓民眾混淆，以為他們在做的事情與專業心理諮商與輔導無異。事實上他們兩位主動在臉書貼文或向記者爆料都已經違反了助人工作的大忌-維護當事人的私密。不論當事人是否犯錯，輔導人員與當事人晤談的過程都應該是保密的。這樣的基本倫理原則是心理師、社工、輔導老師等所有助人工作者都該遵守的，即使像張老師或生命線這類的半專業助人工作者（輔導志工）亦然。因為個案把他最私密的內心世界向你傾吐，無疑是因為他信任你；若助人工作者違反倫理、打破保密，這樣的輔導關係是難以建立的。即使鄭捷是死刑犯，也已被槍決，但看在其他受輔者的眼中，也可能會對於輔導人員畏懼與排斥，不敢信任。因此相關專業團體有必要澄清、導正視聽。\\xa0做為心理輔導工作者，當事人願意信任我們，把內心世界與我們分享，甚至有些話是他這一輩子從未向人說過；這是諮商輔導人員的「特權」，但同時這份信任也是沈重的「負擔」。特別是當我們聽到痛苦、黑暗、扭曲的人生故事時，輔導人員內心的掙扎與自我的情緒調適都是非常困難的，不過我們可以尋求專業督導來協助我們處理許多兩難的困境。這種情況在對各類暴力加害人的諮商輔導上特別常見。無論如何，保密是各種輔導人員的天職，唯有將這層保護網架構起來，我們才有足夠的能量去承接當事人心底最深處的情緒。也唯有從這裡開始，行為的改變才有可能展開。\\xa0這樣的原則是無關乎我們眼前這位受輔者是誰、什麼身份、犯過多少錯的。保密當然也有例外，例如當個案明確表示有自殺或殺害他人的意圖，或是違反家庭暴力、性侵害等相關法令。詳細內容可參考「台灣輔導與諮商學會諮商專業倫理守則」\\xa0領有證照的心理師、社工師及學校輔導老師是不可能犯這種最基本的錯誤，心理師法、社工師法、學生輔導法等等也有明文規範，違反者是會受到懲罰。但是半專業助人工作者卻無法可管，只能靠不斷的自我反思、道德約束與專業提升來避免。然而光靠自律有時是不夠的，監獄與其他司法機關應思考發展一套機制，來管理並協助這些教誨師或義務輔導員等半專業助人工作者提升倫理作為。\\xa0期許往後不要再看到有任何助人工作者濫用這份當事人所賦予的特權，來達到吸引鎂光燈、提升自我價值與成就感或其他私人目的。\\xa0《即時論壇》徵稿\\xa0你對新聞是否不吐不快，《蘋果日報即時新聞》新闢《即時論壇》，歡迎讀者投稿，對新聞時事表達意見。來稿請寄onlineopinions@appledaily.com.tw，文長以500到1000字為度，一經錄用，將發布在蘋果日報即時新聞區，唯不付稿酬。\\xa0請勿一稿兩投，本報有刪改權，當天未見報，請另行處理，不另退件或通知。', 15452])\n",
      "195\n",
      "insert into news_entry(link,category,title,time,summary,view_cnt) values(?,?,?,?,?,?)\n",
      "dict_values(['http://www.appledaily.com.tw//realtimenews/article/international/20160511/858282/【有片】少女慘遭鬼畜父親性侵\\u3000卻被判鞭刑', '國際', '【有片】少女慘遭鬼畜父親性侵\\u3000卻被判鞭刑', '2016/05/11 12:55', '（更新：新增41J配音版影片）\\xa0印度一名年約13歲左右的少女，近日遭到村裡6名長老「判刑」，對這名少女進行鞭刑，但原因竟是她遭到親生父親性侵，卻未報案。\\xa0據美國《華盛頓郵報》報導，這名少女年約13~15歲，沒有上學，她一直待在家裡做家事，偶爾到父親的雜技團裡幫忙或表演，賺取微薄金錢。不過日前她卻慘遭父親性侵，但村裡的長老並沒有保護她，反而稱因為少女未報案，要對她進行鞭刑，於是少女被五花大綁行刑。眾人圍觀看少女被鞭刑，大喊「夠了！夠了！」，卻無人上前制止。\\xa0這位少女的故事，其實只是印度類似案例的冰山一角，雖然近幾年來政府明訂這種私刑是屬於違法，但在印度的鄉村內卻仍不時發生。除了上述的鞭刑，還有所謂的「榮譽殺人」，另外在2014年曾發生過一名女子與村外的一名男子相戀，違反村內規定，於是這名女子被判「姦刑」，也就是讓眾多男子對她輪流性侵。\\xa0在印度，多數遭遇性侵的女子都被迫隱忍吞聲，被逼著與加害人妥協，無法獲得正義與公平，更被造成二次傷害。（施旖婕／綜合外電報導）\\xa0發稿：07:14更新：12:55\\n印度一名年約13歲左右的少女，近日遭到村裡6名長老「判刑」，對這名少女進行鞭刑，但原因竟是她遭到親生父親性侵卻未報案。翻自《華盛頓郵報》', 25543])\n",
      "196\n",
      "insert into news_entry(link,category,title,time,summary,view_cnt) values(?,?,?,?,?,?)\n",
      "dict_values(['http://www.appledaily.com.tw//realtimenews/article/local/20160511/858382/鬱女街頭尋短\\u3000新舊割腕痕跡好嚇人', '社會', '鬱女街頭尋短\\u3000新舊割腕痕跡好嚇人', '2016/05/11 12:55', '苗栗縣一名罹患嚴重精神憂鬱症的女子（30多歲）太久沒見到男友，以割腕方式引起男友出面關心，警方接獲其男友報案趕到，見女子酒醉、走路搖搖晃晃，她在馬路上情緒激動，不願就醫，男友到場後表示，女友常有脫序行為，已感身心俱疲無法處理，才請警方出面協助。\\xa0警方苦口婆心、動之以情，請她想想家中老母會擔憂，女警魏姿瑜一句「有事情我幫妳！」撼動藍女，讓她情緒漸漸平穩，願意接受警方協助，隨救護車前往醫院救治。（吳傑沐／苗栗報導）\\n女子在警方苦勸下同意到醫院接受治療。吳傑沐翻攝', 2400])\n",
      "197\n",
      "insert into news_entry(link,category,title,time,summary,view_cnt) values(?,?,?,?,?,?)\n",
      "dict_values(['http://www.appledaily.com.tw//realtimenews/article/life/20160511/858562/【有片】囂張重機國道狂飆還比中指挑釁', '生活', '【有片】囂張 重機國道狂飆還比中指挑釁', '2016/05/11 12:55', '嚇死人了！台北林先生5月9日晚間開車行駛國道一號往台北南京東路方向行駛時，眼前竟出現兩輛機車，其中一輛黃牌大型重機居然囂張的刻意擋在他車前，讓他相當不滿。內政部警政署國道公路警察局表示，機車行駛國道，依《道路交通管理處罰條例》，最高可處6000元罰鍰，民眾可檢舉。\\xa0林先生說，5月9日凌晨許，他要駕車從國道一號汐止交流道南下至內湖交流道，才剛上汐止交流道不久，就發現前方出現兩輛以超過時速90公里行駛的機車，一輛是黃牌大型重機，另一輛是白牌普通重機，黃牌大型重機騎士囂張的刻意擋在他車前，副駕駛座的友人見狀，遂拿起手機錄影，黃牌大型重機騎士疑似是發現有人錄影，竟還比中指挑釁，他氣呼「太囂張！」\\xa0內政部警政署國道公路警察局國道一隊交通組組長游子揚看過影片後表示，機車行駛國道，已違反《道路交通管理處罰條例》，可處3000元以上、6000元以下罰鍰，民眾遇相同狀況，可檢附事證影像向警察機關檢舉。(投訴組／台北報導)\\xa0\\n5月9日零時，國道一號汐止端往南京東路方向，竟有兩輛機車違規行駛在高速公路上。投訴人提供違規行駛在高速公路上的大型重機不但惡意擋在林先生車前，還比中指挑釁。投訴人提供', 2605])\n",
      "198\n",
      "insert into news_entry(link,category,title,time,summary,view_cnt) values(?,?,?,?,?,?)\n",
      "dict_values(['http://www.appledaily.com.tw//realtimenews/article/finance/20160511/858571/【快來看片～財長自評幾分？】他請老師打分數', '財經', '【快來看片～財長自評幾分？】他請老師打分...', '2016/05/11 12:55', '財政部長張盛和今天很放得開，即將卸任的他，被問及卸任感想，他笑說很輕鬆，請他為自己打個分數，他又打趣說「有人為自己打分數的嗎？」說自己是學生，大家才是他的老師，應由老師打分數。他的畢業感言還說了什麼？快看影片～（財經中心／台北報導）\\xa0\\n財政部長張盛和即將卸任，他說心情很輕鬆。', 318])\n",
      "199\n",
      "insert into news_entry(link,category,title,time,summary,view_cnt) values(?,?,?,?,?,?)\n",
      "dict_values(['http://www.appledaily.com.tw//realtimenews/article/local/20160511/858526/ATR瑕疵釀復航空難？\\u3000檢赴長榮模擬測試', '社會', 'ATR瑕疵釀復航空難？\\u3000檢赴長榮模擬測試', '2016/05/11 12:51', '復興航空GE235班機去年2月4日墜落基隆河釀43死，《壹週刊》今報導墜毀的 ATR 72-600型客機系統存在重大瑕疵，當2具發動機同時失效時，若駕駛仍然跟著「飛行導引儀」操控飛行，反而會造成失速墜毀。據悉，士林地檢署檢察官黃睦涵為查明相關疑點，本月6日特地前往長榮航空訓練中心，依失事班機黑盒子數據進行模擬測試，但檢方不願進一步說明測試結果。\\xa0飛安會去年7月已先公布復興航空GE235航班墜毀基隆河的「事故事實資料報告」，當中顯示空難2大肇因都與操控駕駛員廖建宗有關，一是飛機起飛滾行4秒、自動起飛動力控制系統出現異常，廖未放棄起飛，二是誤關正常的一號發動機。\\xa0《壹週刊》則報導指出，檢方測試結果發現，ATR72-600型客機在相同失事情況下，出現3大系統瑕疵，包括發動機失效時，自動駕駛系統會解開，駕駛員僅能手動操動、而沒失效的發動機扭力會突然提升，為避免發動機過熱，駕駛需微收油門，但慌亂中可能收錯，嚴重將造成2具發動機同時失效，而最大瑕疵則是，假使2具發動機都失效時，駕駛若依照平常習慣照著「飛行導引儀」的十字座標飛行，反而會導致失速，飛機將完全失控墜機，若駕駛改以目視飛行，才能成功迫降。(顏凡裴／台北報導)\\xa0【更多新聞，請看《蘋果陪審團》粉絲團】', 2909])\n",
      "200\n",
      "insert into news_entry(link,category,title,time,summary,view_cnt) values(?,?,?,?,?,?)\n",
      "dict_values(['http://www.appledaily.com.tw//realtimenews/article/local/20160511/858552/鄭捷遺體送中壢\\u3000板殯：家屬與葬儀社秘密協定', '社會', '鄭捷遺體送中壢\\u3000板殯：家屬與葬儀社秘密協...', '2016/05/11 12:50', '北捷殺人魔鄭捷昨天晚間遭槍決伏法，遺體昨天從台北看守所載離，卻未按慣例送往最近的新北市板橋殯儀館，而是直奔國道往中壢，一度更傳出是因為板殯冰櫃不足，《蘋果》記者今天實地前往採訪，館方人員喊冤，並開遺體冰藏室供檢視，其實館內還有100多個空的冰櫃，絕對能夠應付，至於為何「不來」的原因，研判是家屬與禮儀社之間的秘密協定，外界不得而知。\\xa0據了解，台北看守所槍決的死刑犯，若非器官捐贈送往指定器官摘除醫院外，幾乎都會送往新北 市板橋殯儀館遺體冰藏室冰存，再由家屬來辦理後事，鄭捷遺體此次未送往板殯，讓館方大呼意外，依有多年處理殯葬業務的人士推斷，已經搬離板橋的鄭捷家屬， 目的就是為了能方便就近處理兒子後事。（突發中心曾佳俊／新北報導）', 23765])\n",
      "201\n",
      "insert into news_entry(link,category,title,time,summary,view_cnt) values(?,?,?,?,?,?)\n",
      "dict_values(['http://www.appledaily.com.tw//realtimenews/article/nextmag/20160511/858567/【壹週刊】警破千歲團賭場\\u300090歲賭客腳麻跑不了', '壹週刊', '【壹週刊】警破千歲團賭場\\u300090歲賭客腳麻...', '2016/05/11 12:50', '台南市麻豆警分局接獲通報，在油車里一處寺廟旁的廢棄豬舍疑似有人聚賭，警方立即派員埋伏蒐證，果然發現賭博情事，有的幹員躲在悶不透氣的冷凍車內，忍耐超過30度的高溫，有的偽裝成進香客，等到時機成熟，一舉衝入賭場逮人。\\xa030名賭客中，有年輕人看到警方查緝，紛紛逃竄，還是被員警一一逮回，其中也有8、90歲的長者，看到警察，乾脆坐在椅子上，乖乖就逮，因為年紀大行動不方便，但是賭性堅強，拄著拐杖跑到賭場插一腳，警方在現場查獲賭資總計2萬5千元，以及撲克牌、骰子、賭桌等賭具，動用遊覽車將莊家、賭客全部帶回，依賭博罪嫌移送法辦。（撰文:社會組）\\u3000「點我看更多其他壹週刊新聞…」\\n台南警方破獲賭場，賭客多為近百歲老人。（圖：警方提供）', 736])\n",
      "202\n",
      "insert into news_entry(link,category,title,time,summary,view_cnt) values(?,?,?,?,?,?)\n",
      "dict_values(['http://www.appledaily.com.tw//realtimenews/article/entertainment/20160511/858496/王子死因未明\\u3000美國緝毒局突襲搜索豪宅', '娛樂', '王子死因未明\\u3000美國緝毒局突襲搜索豪宅', '2016/05/11 12:49', '西洋樂壇鬼才「王子」（Prince）逝世3星期，身後仍不平靜，他的驗屍程序已完成，確切死因證明尚未出爐。外界懷疑他服藥過量致死，美國緝毒局（DEA）今天到王子的豪宅兼工作室「派斯利公園」（Paisley Park）搜索，TMZ網站指出，這項搜尋行動由聯邦調查局發動，將查明醫師是否濫開止痛藥，導致王子死亡。\\xa0美國國家廣播公司報導，王子過世時身邊有處方止痛藥，而開給他處方簽的醫師麥可陶德史楚藍寶（Dr. Michael Todd Schulenberg）最近悄悄離開他服務的醫院North Memorial Medical Center，警方日前持搜索證到醫院，要求王子相關的醫療紀錄、文件和照片。\\xa0史楚藍寶4月兩度為王子看病，最後一次是在王子過世前一天，他告訴警方，他幫王子做檢驗，而在王子過世當天，他也到派斯利公園，通知他檢驗結果。他同時坦承開立處方簽給王子。TMZ報導，史楚藍寶最近在醫院的名單中除名，已經不在該單位服務，離開原因不明。（林慧娟／綜合報導）\\xa0\\xa0\\n美國緝毒局今天大陣仗到王子的豪宅兼工作室「派斯利公園」搜索。翻攝TMZ網站王子的豪宅兼工作室「派斯利公園」（Paisley Park）。翻攝TMZ網站', 2019])\n",
      "203\n",
      "insert into news_entry(link,category,title,time,summary,view_cnt) values(?,?,?,?,?,?)\n",
      "dict_values(['http://www.appledaily.com.tw//realtimenews/article/entertainment/20160511/858522/【瘋片】異鄉人Tellmeajoke\\u3000大家來笑笑唄', '娛樂', '【瘋片】異鄉人Tell me a jok...', '2016/05/11 12:49', '網路興起一位奇葩「異鄉人」，喜歡在臉書分享「Tell me a joke」一日一笑話廣受歡迎，4月底爆紅短短10天光景就增加6萬個讚，除了講笑話專長還有跳舞及饒舌創作，表演free style版《簡單愛》更是笑翻網友。（娛樂中心／綜合報導）\\xa0\\xa0\\n「異鄉人」改編名曲自創舞步搞笑。翻攝YouTube', 2995])\n",
      "204\n",
      "insert into news_entry(link,category,title,time,summary,view_cnt) values(?,?,?,?,?,?)\n",
      "dict_values(['http://www.appledaily.com.tw//realtimenews/article/forum/20160511/858563/【公庫】以「正義」為名的槍響\\u3000補償了誰？', '論壇', '【公庫】以「正義」為名的槍響\\u3000補償了誰？', '2016/05/11 12:49', '本內容由公庫提供\\xa0文/孔德廉在亂刀揮舞中，他失去了一路陪伴他成長的姊夫，然而在兩年不到的時間內，筆直而迅速的子彈，也轉眼解決了這個奪去姊夫性命的罪犯；身為最應該感到滿足的被害人家屬，他卻認為這種「短期需求」的解決，無疑是自慰式的正義，刺激了所有人對於公理的短暫高潮，政府也迅速了結了重大的治安汙點，但這樣的做法無疑凸顯國家殺人的權力可以無限擴張，更代表政府的法治精神與阿Q式的正義補償相去不遠，「鄭捷的血液只是單純為了政治而流。」....（閱讀全文）', 1160])\n",
      "205\n",
      "insert into news_entry(link,category,title,time,summary,view_cnt) values(?,?,?,?,?,?)\n",
      "dict_values(['http://www.appledaily.com.tw//realtimenews/article/politics/20160511/858547/【有片】好友卓冠廷代寫稿？\\u3000洪慈庸：沒有的事', '政治', '【有片】好友卓冠廷代寫稿？\\u3000洪慈庸：沒有...', '2016/05/11 12:48', '今日出刊的《周刊王》報導，時代力量立委洪慈庸與台中市新聞局長卓冠廷關係匪淺，不僅有吃飯、出國而已，甚至連洪慈庸的新聞稿，都出自卓冠廷的文筆，卓還會順便指導洪慈庸與助理，對於新聞議題掌控與發佈的技巧。不過洪慈庸上午否認，她說自己的辦公室有很資深的助理團隊，不必請人代筆。\\xa0洪慈庸說，周刊的報導都非事實，不知道為什麼會報導這種奇怪的事。那會特別請教卓冠廷嗎？她說她請教的對象很多。那最近有跟卓冠廷聯絡嗎？她說，今天心情沉重，這題就不回應了。（何哲欣／台北報導）\\xa0\\n洪慈庸否認找卓冠廷代寫新聞稿。唐紹航攝', 3967])\n",
      "206\n",
      "insert into news_entry(link,category,title,time,summary,view_cnt) values(?,?,?,?,?,?)\n",
      "dict_values(['http://www.appledaily.com.tw//realtimenews/article/life/20160511/858558/鄭明典示警\\u3000今中午過南部將有一波雷陣雨', '生活', '鄭明典示警\\u3000今中午過南部將有一波雷陣雨', '2016/05/11 12:48', '中央氣象局剛剛針對台南、高雄、屏東發布新的即時天氣訊息，指恐有大雨與雷擊，氣象局預報中心主認鄭明典也在臉書指出，有新對流胞在北側出現。中午過後，南部有可能再出現一波雷陣雨。\\xa0鄭明典說，通常一團對流胞擠在一起，新對流胞比較常在南側發展，因為南方氣流通常比較不穩定，但這一次，新對流胞是在北側發展，這比較特殊。原因是鋒面已呈滯留，但是南風在增強，所以不穩定帶稍稍往北擴展，中午過後，南部有可能再出現一波雷陣雨。（生活中心／台北報導）', 1680])\n",
      "207\n",
      "insert into news_entry(link,category,title,time,summary,view_cnt) values(?,?,?,?,?,?)\n",
      "dict_values(['http://www.appledaily.com.tw//realtimenews/article/local/20160511/858378/【更新】紅燈高速撞前車\\u30006車撞一團釀1死', '社會', '【更新】紅燈高速撞前車\\u30006車撞一團釀1死', '2016/05/11 12:47', '（更新：新增相片和內容）\\xa0今天上午9時許，高雄市燕巢區安招路發生一起死亡車禍，戴姓男子（45歲）一輛黑色小轎車行經路口時，疑似未減速也沒保持安全距離，直接衝撞前方吳姓女車主的銀色小轎車，劇烈的衝擊力把銀車推撞到對向車道，再撞上陳姓男子開的藍色小轎車，肇事車輛則再往前衝撞停等紅燈的3台車才停止。\\xa0意外現場6車撞成一團，肇事車輛撞上小貨車車斗後，還反彈了將近3公尺才停下，可見撞擊力道之大，肇事車嚴重毀損，戴姓男子一度被夾在車內，救出時已沒有呼吸心跳，送醫仍宣告不治，其餘車主則都沒有無礙。\\xa0遭無辜波及的王姓小貨車駕駛說，當時正在等紅燈，先聽到後方一聲劇烈碰撞聲，隨後肇事車輛就撞上他的車後斗，另一位鄭姓車主表示，他聽到撞擊聲後，還從後照鏡瞄了一下，還心裡起禱不要撞過來，沒想到還是被撞上，不過還好沒受傷，算是大幸。（陳宏瑞／高雄報導）\\xa0出版時間：10:12更新時間：12:47\\xa0\\n肇事車輛嚴重毀損。陳宏瑞攝肇事車輛嚴重毀損。陳宏瑞攝被推撞的第一輛車衝到對向車道，撞上對向大型車。陳宏瑞攝肇事現場一片混亂。陳宏瑞攝肇事車輛毀損嚴重，零件散落一地。陳宏瑞攝肇事車輛撞上小貨車車斗後，又反彈了將近3公尺。肇事車輛追撞前方三台停等紅燈的車輛。陳宏瑞攝肇事車輛內血跡斑斑。陳宏瑞攝', 9920])\n",
      "208\n",
      "insert into news_entry(link,category,title,time,summary,view_cnt) values(?,?,?,?,?,?)\n",
      "dict_values(['http://www.appledaily.com.tw//realtimenews/article/strange/20160511/858538/他們都怕這一針\\u3000看完有感請分享', '搜奇', '他們都怕這一針\\u3000看完有感請分享', '2016/05/11 12:46', '「打針」雖然沒有味道，但還是有些人會怕、有些人不會怕。《美拍》網頁版有支集結網友分享「那群最害怕打針的人」的反應，看完真是令人可愛又心疼。\\xa0在這支一分半的影片中，可以看到打針的恐懼，無論年紀、性別，都會有人害怕，像是已經十幾歲的少女，為了躲避打針不惜曝光。也有小孩針還沒打就直接放聲大哭，對於這些反應網友留言說「哭笑不得」、「我也好怕！一看見針就全身起雞皮疙瘩」、「實在感同身受」。(葉國吏/綜合報導)\\n一針打下去，大男孩直接目瞪口呆。翻攝網頁小女孩還沒打就先哭了。翻攝網頁', 3930])\n",
      "209\n",
      "insert into news_entry(link,category,title,time,summary,view_cnt) values(?,?,?,?,?,?)\n",
      "dict_values(['http://www.appledaily.com.tw//realtimenews/article/politics/20160511/858482/【有片】520就職主舞台被批醜\\u3000民進黨：再做修改調整', '政治', '【有片】520就職主舞台被批醜\\u3000民進黨：...', '2016/05/11 12:44', '更新：新增影片\\xa0520總統副總統就職府外慶祝大會主舞台，遭外界批評「很醜」。總統副總統就職相關活動籌備委員會證實，主舞台設計將做調整。民進黨媒創中心副主任詹賀舜今表示， 舞台設計從公佈的那天起，有很多不同意見提出來，「對我們來講，意見是創新的養份之一」，所有會參考這些意見，而設計師也會做修改和調整。\\xa0詹賀舜說，人民與多元的原素是不會變，這是大會的主軸，而設計師會在這個基礎下，參考各方意見再去調，也敬請期待。\\xa0據了解，520就職府外主舞台之前定版的圖樣，事前並未給總統當選人蔡英文先看過，記者會公佈後，蔡是透露新聞才知道主舞台的設計。（林修卉／台北報導）\\xa0出版：12:08更新：12:44\\xa0\\xa0\\n520總統副總統就職府外慶祝大會主舞台，遭外界批評「很醜」。民進黨提供總統府前已開始搭建520主舞台的鐵架。林啟弘攝總統府前已開始搭建520主舞台的鐵架。林啟弘攝民進黨媒創中心副主任詹賀舜。林修卉攝', 3954])\n",
      "210\n",
      "insert into news_entry(link,category,title,time,summary,view_cnt) values(?,?,?,?,?,?)\n",
      "dict_values(['http://www.appledaily.com.tw//realtimenews/article/nextmag/20160511/858559/【壹週刊】轎車撞翻機車\\u3000網友卻只看到白皙長腿', '壹週刊', '【壹週刊】轎車撞翻機車\\u3000網友卻只看到白皙...', '2016/05/11 12:40', '最近網路上瘋傳兩張車禍照片，一輛白色TOYOTA轎車，險撞進超商內，卻把門口七、八輛機車撞成一團，相當混亂，警方到場處理，發現是一名穿著灰色小洋裝，露出修長美腿的正妹，女駕駛發現自己闖禍，神情緊張，看到警察，趕緊到車內拿證件，這時眼尖的網友看到亮點…\\xa0這起車禍，引起上千網友紛紛留言，到底車禍原因是啥沒人關心，反而是女駕駛成了亮點，原本事故的留言卻成歪樓，大家關注的焦點全在女子身上，有人留言：「你們會原諒車主嗎？我選擇原諒，給年輕人一個機會」，也有網友霸氣的說：「遇上正妹撞上我的車，修車費我來出」。（撰文:社會組）\\u3000「點我看更多其他壹週刊新聞…」\\n網友留言蓋歪樓，如果車被她撞，寧願自己出修車費。（圖：翻攝Duke li）', 2675])\n",
      "211\n",
      "insert into news_entry(link,category,title,time,summary,view_cnt) values(?,?,?,?,?,?)\n",
      "dict_values(['http://www.appledaily.com.tw//realtimenews/article/international/20160511/858549/西藏昌都丁青縣5.5地震\\u3000有人受傷', '國際', '西藏昌都丁青縣5.5地震\\u3000有人受傷', '2016/05/11 12:39', '中國地震台網今證實，西藏昌都市丁青縣今上午9時15分發生芮氏規模5.5地震，震央深度7公里，目前已知當地有人員受傷及道路塌方。新華網報導，西藏自治區地震局指出，地震震央位於丁青縣嘎塔鄉，震央附近有兩座較大的寺廟，當地道路出現塌方，目前當地電信均暢通，距離鄉政府10公里左右的嘎塔鄉果東村有人受傷。（大陸中心／綜合外電報導）', 342])\n",
      "212\n",
      "insert into news_entry(link,category,title,time,summary,view_cnt) values(?,?,?,?,?,?)\n",
      "dict_values(['http://www.appledaily.com.tw//realtimenews/article/forum/20160511/858551/【公庫】邱顯智：馬政府操弄死刑政治鄭性澤活著回家是奇蹟', '論壇', '【公庫】邱顯智：馬政府操弄死刑政治 鄭性...', '2016/05/11 12:39', '本內容由公庫提供\\xa0文 / 邱顯智 （鄭性澤案義務辯護律師）過去近五年來，我大概都是週五下午去律見鄭性澤，而馬政府過去幾年來操作的死刑政治衝民調，也都在週五的下午。有一次，很巧，鄭的室友也是我另一個案件的當事人，我問他說，鄭性澤平日在舍房都在做甚麼？他說，「如果看守所放封，提早收封，鄭就會很緊張，因為通常提早收封就是要執行死刑。」「 這樣阿澤就死不瞑目了！」....（閱讀全文）', 971])\n",
      "213\n",
      "insert into news_entry(link,category,title,time,summary,view_cnt) values(?,?,?,?,?,?)\n",
      "dict_values(['http://www.appledaily.com.tw//realtimenews/article/life/20160511/858553/德翔臺北賠償金額\\u3000蔣萬安憂只有10分之1', '生活', '德翔臺北賠償金額\\u3000蔣萬安憂只有10分之1', '2016/05/11 12:39', '立院衛環委員會今邀相關部會做「德翔臺北」輪船體移除作業是否符合海洋環境保護需求及後續污染賠償作業報告，立委蔣萬安關注賠償事宜，他指出，過去1977年科威特籍油輪布拉格號於基隆外海觸礁淹沒，超過3萬噸的原油外洩，我們求償10億，最後只賠1億，2001年希臘籍阿瑪斯號在鵝鑾鼻外海油污，打國際官司求償3億5千萬，最後和解只有3千4百萬，兩起案例都只賠10分之1。\\xa0漁業署副署長王正芳說，漁業署跟新北市政府成立專案小組，定期召開會議就漁民受損部分協助求償，其中直接損失部分，也就是漁船漁具受污染，目前有40艘漁船向船東德翔海運公司委託的中華海事檢定社申請會勘及採樣，共提出300多萬元，目前有兩艘已做確認，各賠3萬多元。\\xa0間接損失部分，因為漁民無法作業等不易舉證，漁會已委託學者做調查評估，預定9月底完成。另生態影響評估，漁業署也已委託學者與水產試驗所合作辦理評估，作為後續海域生態受損求償及後續復育的依據。（洪敏隆／台北報導）', 525])\n",
      "214\n",
      "insert into news_entry(link,category,title,time,summary,view_cnt) values(?,?,?,?,?,?)\n",
      "dict_values(['http://www.appledaily.com.tw//realtimenews/article/local/20160511/858470/霸超商店車格一個月\\u3000警說「無法處理」', '社會', '霸超商店車格一個月\\u3000警說「無法處理」', '2016/05/11 12:38', '雲林縣虎尾鎮光明路一家24小時便利超商，業者在店前準備停車格方便駕駛購物，不料一輛三菱轎車卻連停一整個月，車主也沒有去移動車，最近南部天氣 熱，車輛疑似電線短路，喇叭響個不停，業者報警後，警方聯繫車主後，對方還是不處理，熱心網友拍影片上傳臉書，表示「誰的車快過來牽別太無恥停了一個月現在還在亂叫……。」\\xa0便利超商向報警處理，警員到場根據車牌號碼查詢，由店員說，警察也請車主來開走，車主就是不來，我們也是沒辦法。\\xa0虎 尾警分局虎尾派出所所長鄭智仁表示，警員通知住斗六市的車主，將該車開回，車主向警方表示會去處理，但是過了好幾天，該車還是停在那裏。\\xa0鄭智仁說，該車沒有影響出入，也沒有影響交通安全，加上未失竊，多次以電話通知車主前往處理，但車主每次都說要去處理，就是不見 處理，車主可能涉及民事的損害他人權益，但店家不願意提告，只希望盡快將車開離，目前持續通知車主前往處理。（李政遠／雲林報導）\\xa0\\n民眾將該車拍影片貼臉書社團。有車主將便利超商前停車位，當成自家停車位，一停就是一個月沒移動。李政遠攝', 6631])\n",
      "215\n",
      "insert into news_entry(link,category,title,time,summary,view_cnt) values(?,?,?,?,?,?)\n",
      "dict_values(['http://www.appledaily.com.tw//realtimenews/article/international/20160511/858546/中國要求別出席520\\u3000美眾議員霸氣回應', '國際', '中國要求別出席520\\u3000美眾議員霸氣回應', '2016/05/11 12:38', '美國聯邦眾議院外交委員會亞太小組主席邵建隆10日在美國指出，中國駐美國大使館曾要求他不要赴台灣參加總統當選人蔡英文的就職典禮，他已回絕。\\xa0中央社報導，邵建隆（Matt Salmon）10日傍晚參加在國會舉行的台灣美食活動上向台灣記者透露，要他別出席蔡英文的就職，「這是不可能發生的」。\\xa0邵建隆並指出，美國應派「現任官員、國務院更高層級的官員」參加蔡英文的就職典禮，而非前任官員，但中國對美施加極大的壓力。美國日前已宣布指派前貿易代表柯克率團出席蔡的就職典禮。密西西比州眾議員祖柏（Hank Zuber）先前也曾指中國勸他不要出席。（石秀娟／綜合外電報導）', 3862])\n",
      "216\n",
      "insert into news_entry(link,category,title,time,summary,view_cnt) values(?,?,?,?,?,?)\n",
      "dict_values(['http://www.appledaily.com.tw//realtimenews/article/strange/20160511/858536/【旅途中】好耳熟喔！越南歌謠聽起來像……', '搜奇', '【旅途中】好耳熟喔！越南歌謠聽起來像……', '2016/05/11 12:37', '前陣子到越南下龍灣搭郵輪，工作人員在晚餐後，一時興起，唱起了一段傳統的越南歌，乍聽覺得似曾相似，好像某種台灣歌謠，不知道大家覺得有像嗎？趕快按下影片，一起來聽聽看！\\xa0更多精采訊息請看吃喝玩樂蘋果花\\xa0想要知道更多親子旅遊地點，歡迎加入「蘋果花客製親子遊」社團\\xa0\\n搭下龍灣郵輪聽見了似曾相似的越南歌……。愛玩姊攝。', 1234])\n",
      "217\n",
      "insert into news_entry(link,category,title,time,summary,view_cnt) values(?,?,?,?,?,?)\n",
      "dict_values(['http://www.appledaily.com.tw//realtimenews/article/strange/20160511/857882/【有片】肉肉好悶肉肉不說\\u3000多肉植物養護五撇步', '搜奇', '【有片】肉肉好悶肉肉不說\\u3000多肉植物養護五...', '2016/05/11 12:35', '在這一波療癒植物風潮下，許多人都購入了模樣可愛的多肉植物，但除了熱愛豔陽的仙人掌型多肉植物外，台灣悶熱的夏季可是厚葉型多肉植物的大敵，一不注意就容易爛根死亡。為了幫肉肉們平安度過夏天，請務必Follow以下五大撇步。(李佩珊／台北報導)\\xa01.將葉片上的水珠吹落：避免水珠因為陽光照射而急速加溫，造成葉片曬傷。\\xa02.不要在白天澆水：為了避免水分因為高溫在根部悶燒，要在晚上澆水才對。\\xa03.厚葉型多肉植物移至陰涼處：不同於仙人掌類的多肉植物喜歡日曬，厚葉型多肉植物在夏日應該移到陰涼處。\\xa04.將介質換成鬆軟的石頭：排水性良好的小碎石，可以避免根部因為不通風而悶壞。\\xa05.厚葉型多肉植物澆水量減半：台灣的夏天十分濕熱，所以澆水量變成原本的一半或是1/3。\\xa0圖片、資料來源：http://succuland.com.tw/\\xa0蘋果副刊每天推出【愛飛遜】流行訊息，想看更多流行資訊，請上副刊Vintage School @古庫社團，或上吃喝玩樂蘋果花粉絲團\\xa0\\xa0\\xa0\\n為了不讓可愛的肉肉被炎炎夏日悶死，你需要知道這五個照顧撇步。', 1088])\n",
      "218\n",
      "insert into news_entry(link,category,title,time,summary,view_cnt) values(?,?,?,?,?,?)\n",
      "dict_values(['http://www.appledaily.com.tw//realtimenews/article/sports/20160511/858403/【有片】雙星飆58分\\u3000雷霆客場強拔馬刺聽牌', '體育', '【有片】雙星飆58分\\u3000雷霆客場強拔馬刺聽...', '2016/05/11 12:35', 'NBA西區季後賽次輪聖安東尼奧馬刺vs.奧克拉荷馬雷霆系列賽關鍵第5戰，雷霆在雙星威斯布克(Russell Westbrook)、杜蘭特(Kevin Durant)合攻58分下，以95比91強拔馬刺，搶先在系列戰以3勝2敗聽牌。\\xa0雷霆首節打完6分領先，但馬刺新一哥雷納德(Kawhi Leonard)第2節單節拿下15分逆轉局面，讓馬刺半場打完反以48比43領先。雷霆第3節在威斯布克、杜蘭特單節合攻19分下縮小差距，並在第4節開打沒多久就讓比分重陷拉鋸。\\xa0雙方至比賽倒數1分鐘左右仍是90比90平手僵局，雷霆在杜蘭特2罰命中後佔據主動，威斯布克連投帶罰3分打底定勝基。\\xa0威斯布克此役不僅攻下35分冠絕全場，另有11籃板、9助攻，差1助攻就完成大三元，他另有2抄截。杜蘭特也貢獻23分、6籃板、5助攻。雷霆除2人之外僅先發中鋒亞當斯(Steven Adams)得分達雙位數12分。\\xa0馬刺有3人得20分以上，一哥雷納德26分、6籃板、4助攻、5抄截，大前鋒阿德里奇(LaMarcus Aldridge)和後衛格林(Danny Green)均繳20分，但他們也是全隊僅有3名得分達2位數者。阿德里奇另貢獻9籃板，但他全場21投僅6中，命中率僅28.57%有失水準。馬刺昔日三巨頭鄧肯(Tim Duncan)、帕克(Tony Parker)、吉諾比利(Manuel Ginobili)此役僅合得17分。(王毓健／綜合報導)\\n【想知道更多，一定要看……】 【有片】柯神再創紀錄\\u3000史上首位全票當選MVP 【有片】柯瑞女兒大鬧MVP頒獎典禮現場 雷霆杜蘭特(Kevin Durant)與雷納德(Kawhi Leonard)。美聯社', 16615])\n",
      "219\n",
      "insert into news_entry(link,category,title,time,summary,view_cnt) values(?,?,?,?,?,?)\n",
      "dict_values(['http://www.appledaily.com.tw//realtimenews/article/nextmag/20160511/858530/【壹週刊】五種必備單品\\u3000穿出獨特個性風', '壹週刊', '【壹週刊】五種必備單品\\u3000穿出獨特個性風', '2016/05/11 12:35', '比起清純柔弱的文青，個性風女孩有著更強烈的存在感，本次我們送上個性風5種必備單品，帥一下是必要的呀。（撰文：邱冠旭 攝影：邱之嶔）\\xa0「更多其他壹週刊內容請點我」', 655])\n",
      "220\n",
      "insert into news_entry(link,category,title,time,summary,view_cnt) values(?,?,?,?,?,?)\n",
      "dict_values(['http://www.appledaily.com.tw//realtimenews/article/animal/20160511/858169/你看過嗎？天竺鼠跳躍的瞬間', '動物', '你看過嗎？天竺鼠跳躍的瞬間', '2016/05/11 12:34', '4肢短短的天竺鼠，大家平時對牠的印象就是肥肥的在地上跑來跑去，但其實天竺鼠也是具備跳躍能力的！臉書頻道Break5/10上傳了一段影片，慢動作的畫面捕捉到豚鼠跳過兩塊地毯的接縫處的景象，從影片中看來天竺鼠的動作其實非常俐落喔！ (程加敏/綜合報導)\\xa0資料來源: https://www.facebook.com/Break/videos/10154214927142792/更多內容請上毛愛蘋果粉絲團\\xa0\\xa0\\n跳躍成功！(翻攝Break)', 1211])\n",
      "221\n",
      "insert into news_entry(link,category,title,time,summary,view_cnt) values(?,?,?,?,?,?)\n",
      "dict_values(['http://www.appledaily.com.tw//realtimenews/article/strange/20160511/858054/\\u200b想吃不能吃的樂高食物！', '搜奇', '\\u200b想吃不能吃的樂高食物！', '2016/05/11 12:33', '樂高是不少大小朋友的興趣，用各種零件拼湊出自己喜歡的世界，是讓不少人著迷的原因，樂高高手Tary在他的Flickr上發表了一系列的樂高食物，高還原的食物模樣，讓人超想咬一口！（張家瑋／綜合報導）\\xa0圖片來源：https://www.flickr.com/photos/127525305@N02/sets/72157665113357492來手寫時代分享另類手寫吧！更多有趣的報導，請上吃喝玩樂蘋果花粉絲團\\xa0\\xa0\\n天丼的炸蝦看起來超酥脆！牽絲披薩超多料。來份甜點吧！可愛的蛋糕也是樂高做的。連香蕉也可以做出來！', 613])\n",
      "222\n",
      "insert into news_entry(link,category,title,time,summary,view_cnt) values(?,?,?,?,?,?)\n",
      "dict_values(['http://www.appledaily.com.tw//realtimenews/article/strange/20160511/858515/只要小改造\\u3000家的氣氛更溫馨', '搜奇', '只要小改造\\u3000家的氣氛更溫馨', '2016/05/11 12:33', '想要維持舒適的居家空間，除了把用不到的東西丟掉，也可試著動手小改造，不僅能廢物利用，家裡也煥然一新。Distractify就分享了家中隨手可得的燈泡、相框等小物，手作感讓家中感覺更溫馨了呢！（劉欣欣／綜合報導）\\xa0圖片翻攝自Distractify\\xa0更多有趣新知快上蘋果花愛Shopping副刊中心粉絲團：吃喝玩樂蘋果花\\xa0\\xa0\\n廢棄的透明燈泡，放入水跟植物，夏天看起來十分清爽。小孩長大了，玩具不一定要通通丟掉，「分屍」當書擋更有創意。酒喝完了，把軟木塞集合就能變成特色地墊。想要有美麗燭台，就用鐵罐小改造吧！小巧糖果盒最適合收納髮夾、鈕釦等小物，再貼上紙膠帶，就變成彩色收納盒。粗曠的輪胎噴上白漆，也能化身優雅的鏡子。', 947])\n",
      "223\n",
      "insert into news_entry(link,category,title,time,summary,view_cnt) values(?,?,?,?,?,?)\n",
      "dict_values(['http://www.appledaily.com.tw//realtimenews/article/entertainment/20160511/858487/陳沂槓小豬敗訴\\u3000吳宗憲酸「筆干王」催繳30萬', '娛樂', '陳沂槓小豬敗訴\\u3000吳宗憲酸「筆干王」催繳3...', '2016/05/11 12:33', '活動主持人陳沂指羅志祥（小豬）疑用肉體斂財、「亞洲空幹王」和賣淫小模有什麼兩樣等語，遭羅志祥提告，台北地院昨判陳沂需賠羅志祥30萬元，並登報道歉。曾被她利嘴掃到的吳宗憲，今po文說：「這一下可好啦！官司輸了，判賠30萬，還要道歉！要去澳洲之前，記得要先買單喔！」附上P成狗臉的自拍照，戲謔意味濃厚。\\xa0吳宗憲稱陳沂是亞洲筆干（幹）王，勸她：「憲哥希望妳可以發自內心的改變自己，在藝能界有才藝就不怕沒出路，主持更不是耍耍嘴皮子而已……心境一打開！就能夠有機會改變！看妳囉……」不過陳沂已表明會上訴到底。（吳惠菁／綜合報導）\\xa0【想知道更多，一定要看……】小豬被辱「肉體斂財」勝訴\\u3000陳沂判賠30萬登報道歉\\xa0\\n吳宗憲好聲好氣勸陳沂。翻攝吳宗憲臉書', 7091])\n",
      "224\n",
      "insert into news_entry(link,category,title,time,summary,view_cnt) values(?,?,?,?,?,?)\n",
      "dict_values(['http://www.appledaily.com.tw//realtimenews/article/forum/20160511/858544/【公庫】從黑夜到清晨死刑改變了什麼？', '論壇', '【公庫】從黑夜到清晨 死刑改變了什麼？', '2016/05/11 12:33', '本內容由公庫提供\\xa0文 / 盧映潔（中正大學法律系教授）我大四畢業那年暑假，在理律事務所打工，小小的工讀生在訴訟組。前一年發生了馬曉濱等三位當時所謂的反共義士，因生活困頓，策劃綁架了長榮集團張榮發的兒子，勤贖五千萬。縱使沒有殺害肉票，也沒有凌虐肉票，也釋放了肉票，但因為當時的懲治盜匪條例第二條的規定，意圖勒贖而擄人，唯一死刑，再加上解嚴不久，社會治安變壞，司法政策上對於重大犯罪要求速審速結，所以馬曉濱等三人很快三審死刑定讞。近二十幾年過去了，法律事務所的小小工讀生變成法律系刑法老師，變化大嗎？一點都不。若我沒記錯，那時馬曉濱案的判決書寫著：若不處以死刑，不足以維護治安，將使社會上的有錢人人人自危....（閱讀全文）', 923])\n",
      "225\n",
      "insert into news_entry(link,category,title,time,summary,view_cnt) values(?,?,?,?,?,?)\n",
      "dict_values(['http://www.appledaily.com.tw//realtimenews/article/strange/20160511/858121/【有片】以下這4件事\\u3000最易引爆怒火\\u3000\\u3000\\u3000', '搜奇', ' 【有片】以下這4件事\\u3000最易引爆怒火\\u3000\\u3000...', '2016/05/11 12:30', '你是否有遇過一些很沒品或沒公德心的人，他們做了一些事情讓你氣到很想揍他們兩拳，但卻不知道兇手是誰呢？或者是碰到一些讓你內心十把火在燒卻不知道能對誰發火的事情呢？快來看看我們蒐集的這些行為，是否也會讓你怒火中燒吧！（陳映蓁／台北報導）\\xa0快一起來手寫時代分享吧！更多資訊請上吃喝玩樂蘋果花\\xa0\\n【電梯裡有人放屁】明知道放屁是生理現象，但在密閉空間內有人放屁內心還是會有很多把火在燒啊…翻攝《櫻桃小丸子》【下雨天雨傘被偷走】到底是誰這麼缺德啦！偷拿別人的傘是要我怎麼回家啦？翻攝《蠟筆小新》【摩托車被亂移位】你不能因為不想讓自己的愛車淋雨，就把我的摩托車移去淋雨啊！翻攝bikesindia.org【限量商品售完】為什麼輪到我就賣光了…我只能看著空空的購物車哭泣了。翻攝kirarian.com', 897])\n",
      "226\n",
      "insert into news_entry(link,category,title,time,summary,view_cnt) values(?,?,?,?,?,?)\n",
      "dict_values(['http://www.appledaily.com.tw//realtimenews/article/property/20160511/858415/小英擬調高遺贈稅率\\u3000房市重擊？', '地產', '小英擬調高遺贈稅率\\u3000房市重擊？', '2016/05/11 12:30', '新政府有意提高遺贈稅率，財政部委外調查報告日前建議，改變現行單一稅制為2、3級累進制，報告中試算各種稅率模組，最高稅率落在15~40%，免稅額度也建議調整。台北大學財政暨金融研究中心主任劉彩卿認為，稅率目前調高至20%可行，建議新政府試行後，再評估狀況調整。「蘋果掀房事」直播中：http://goo.gl/Z9ZI9u\\xa0當初很多人認為，遺贈稅率從50%降至10%，是造成房價高漲的兇手，劉彩卿表示，這是部分原因，但同時大環境有美國寬鬆政策，造成熱錢湧入亞洲，尤其進到台灣來，房價高漲並非單一稅制問題，而是跟整個景氣循環有關。\\xa0針對未來遺贈稅率調整對房市景氣影響，劉彩卿觀察，調升遺產稅可能會打擊民眾財富累積意願，使得不動產需求下降；但另一方面，民眾可能重新考慮資產配置，比如不想存錢，轉而投資房地產，帶動需求。劉彩卿說：「短期對房價抑制效果，我持保留態度，長期則須搭配全球景氣循環再觀察。」（陳世峰／台北報導）\\xa0更多房市訊息，請上蘋果地產王粉絲團\\n台北大學財政暨金融研究中心主任劉彩卿認為，房價高漲並非單一稅制問題，應搭配全球景氣循環觀察。翻攝影片', 2881])\n",
      "227\n",
      "insert into news_entry(link,category,title,time,summary,view_cnt) values(?,?,?,?,?,?)\n",
      "dict_values(['http://www.appledaily.com.tw//realtimenews/article/life/20160511/858513/芒果荔枝釋迦都吃不到了\\u3000接下來是什麼？', '生活', '芒果荔枝釋迦都吃不到了\\u3000接下來是什麼？', '2016/05/11 12:30', '今年初的霸王寒流加3月連日降雨影響，不僅台南芒果產量銳減，許多歸仁釋迦果農也向立委王定宇陳情，指出釋迦果樹不但無法開花結果，甚至整棵樹受損枯死，王定宇指出，將協助果農爭取中央認定補助，盼讓農民損失程度降低。\\xa0釋迦去年8月才因颱風造成落果嚴重，台南被劃定為現金救助災區，每公頃9萬元補助農民，沒想到今年現在正是要人工授粉的季節，果農卻發現不少果樹陸續枯死，讓果農心急如焚；歸仁區崙頂里長徐進德指出，年初寒害造成釋迦果樹不開花，嚴重影響授粉，再加上春季豪雨，讓果樹受損，甚至出現枯死，必須整棵刨除，「農損不是只有一時，會影響後續收成狀況」。\\xa0歸仁區公所指出，釋迦農損狀況已向市府農業局通報，後續將由農委會和農改場等專家會勘，若確認是屬於延遲性農損，將可申請補助。（李恩慈／台南報導）\\xa0\\n立委王定宇聽取歸仁釋迦果農意見，將協助爭取補助。翻攝畫面', 3255])\n",
      "228\n",
      "insert into news_entry(link,category,title,time,summary,view_cnt) values(?,?,?,?,?,?)\n",
      "dict_values(['http://www.appledaily.com.tw//realtimenews/article/life/20160511/858541/國中會考周末登場\\u3000想金榜題名有8撇步', '生活', '國中會考周末登場\\u3000想金榜題名有8撇步', '2016/05/11 12:30', '國中會考本周六、日登場，衛福部國健署今表示，考生考前生活應注意8撇步，有助發揮最佳實力。國健署表示，考生考前應規律作息、睡眠充足，每天須有7到8小時睡眠，且為有良好睡眠品質，就寢前切忌使用3C產品，利用輕音樂及伸展運動幫助入睡；考試當天則應穿著淺色、寬鬆、透氣衣物，減少考試時高溫造成的不適。\\xa0國健署表示，考前仍應保持運動習慣，建議每天應運動30分鐘，或做肩頸伸展動作，減緩不適久坐讀書造成的肩頸僵硬或痠痛。若考試壓力引起心情焦慮，可採聽音樂、散步等方式紓緩情緒，保持平常心才能有最佳表現。\\xa0飲食方面，考生吃東西前應勤洗手，避免食用生食或不新鮮食物，並多攝取蔬菜水果，減少高油、高鹽、高糖及油炸食物等不易消化的食物，以及茶、咖啡等刺激物，減少腹瀉、發燒、腸胃不適等症狀。（沈能元／台北報導）\\xa0金榜題名8撇步\\xa01.規律作息睡眠足\\xa02.適當運動好腦力\\xa03.紓壓保持平常心\\xa04.舒適穿著好涼爽\\xa05.補充水分防中暑\\xa06.健康飲食少油膩\\xa07.注重衛生勤洗手\\xa08.考場規則要清楚\\xa0</iframe', 580])\n",
      "229\n",
      "insert into news_entry(link,category,title,time,summary,view_cnt) values(?,?,?,?,?,?)\n",
      "dict_values(['http://www.appledaily.com.tw//realtimenews/article/local/20160511/858449/「滿足性幻想」\\u3000她嗲聲誘男客掏錢判無罪', '社會', '「滿足性幻想」\\u3000她嗲聲誘男客掏錢判無罪', '2016/05/11 12:29', '台中市一名32歲張姓已婚女子在電信公司「大中華生活網」從事接線聊天工作，與來客30歲彭姓單身男子結識後交往，事後彭男指控張女為吸引他打電話聊天為她拉抬業績，謊稱她未婚、身兼模特兒，年僅23歲，並編造家人欠會錢、母親簽賭留債、學貸無法償還等理由，騙他匯款100萬元並買3支手機、1台平板電腦、1個LV包給張女，檢察官依詐欺罪將張女起訴，但台中地院認定銀行領款單據無法證明彭男受騙，今判張女無罪。\\xa0另一方面，彭男認為受騙後，曾怒發簡訊給張女「我要拿你女兒陪葬、抵債」、「你逼我的、一定先動小孩」等，結果也遭張女提告恐嚇，最後同樣被台中地檢署起訴，且因台中地院審理期間，彭男屢傳不到，已被法院發佈通緝。\\xa0張女出庭辯稱，她從來沒有說過家人欠會錢、母親簽賭留債、學貸無法償還等理由，向彭男要錢，一切都是彭男自己給的，且金額也沒有彭男所說的100萬元這麼高。\\xa0張女律師也為張女辯護，強調張女是色情電話接線生，工作服務的內容，就是要滿足來電男客的性幻想，所以在電話中佯裝自己年輕貌美、身材曼妙，進而與來電男客調情，沒有什麼詐術可言，且張女收受手機、平版電腦、化妝品、衛生棉等，都是彭男希望私下聯繫而主動贈與，不算詐欺。\\xa0法官查出彭男提出向銀行領款時間與匯款給張女的時間不符，且領款單據不能證明錢交給張女，加上雙方事後僅以10萬元達成和解，與彭男指控被騙金額相差太大，有違常理，因此判張女無罪。仍可上訴。（鄧玉瑩／台中報導）\\xa0【更多新聞，請看《蘋果陪審團》粉絲團】', 6687])\n",
      "230\n",
      "insert into news_entry(link,category,title,time,summary,view_cnt) values(?,?,?,?,?,?)\n",
      "dict_values(['http://www.appledaily.com.tw//realtimenews/article/finance/20160511/858528/噩耗3連發\\u3000智慧手機更糟的還在後頭', '財經', '噩耗3連發\\u3000智慧手機更糟的還在後頭', '2016/05/11 12:27', '彭博報導指出，亞洲供應商又傳來3個噩耗，預示智慧手機市況將會更糟，包括iPhone組裝廠和碩（4938）周二公布未達獲利預期，並表示4月營收銳減16%；日本背光模組大廠Minebea落後於自己所做的營收與純益預測；日本顯示器（JDI）表示獲利快速惡化，恐出現年度虧損，並取消發放原先承諾的股息。\\xa0凱基證券分析師Richard Ko說：「智慧手機產業今年將持續走疲，競爭將加劇，價格很可能進一步走跌。」\\xa0全球智慧手機面臨2007年iPhone問世來最糟糕的擴張速度。中國本是智慧手機強大成長引擎，而今卻面臨歷史性的洗牌，對當地消費者而言，智慧手機已不再新鮮，大部分國內品牌鎖定中低價產品，消費者換機速度比不上蘋果或三星用戶。（于倩若／綜合外電報導）\\xa0\\xa0\\n全球智慧手機市場正快速流失成長動能。翻攝彭博網站', 4805])\n",
      "231\n",
      "insert into news_entry(link,category,title,time,summary,view_cnt) values(?,?,?,?,?,?)\n",
      "dict_values(['http://www.appledaily.com.tw//realtimenews/article/property/20160511/858481/馬總統居住政策只拿F\\u3000巢運要小英別跳票', '地產', '馬總統居住政策只拿F\\u3000巢運要小英別跳票 ...', '2016/05/11 12:25', '520新總統即將上任，巢運團體今早公布馬政府的居住政策成績單，指出馬總統初上任時，承諾推動居住改革，但8年來，房價飆漲，弱勢民眾還是難覓安居之處，巢運批評，「馬總統居住政策分數只有F，不合格，宣示大於實踐！」\\xa0巢運記者會砲轟，馬政府強推合宜宅等錯誤政策，被少數財團綁架、出現弊端，且改革決心不足，無能有效推動「社會住宅」，嚴重忽視「租屋市場及住安全」，實價登錄做半套，尤其預售屋及租屋市場資訊都不實、不夠透明。\\xa0巢運列出7大科目，馬總統分數最低就是「租屋市場」、「居住安全及品質」，以及「弱勢居住」、「社會住宅」。崔媽媽基金會執行長呂秉怡建議蔡英文上任後，能針對多戶房東適用消保法，其次用政策引導愛心房東加入弱勢租屋，同時運用包租包管方案，管理租屋市場，並訂定啟動租賃專法。」\\xa0消費者文教基金會房屋委員會委員林旺根也指出，國內發生0206地震導致維冠大樓倒塌，浮洲合宜宅也被震裂，誰來讓民眾知道住宅是否安全、結構設計是否合法，「新政府應針對住宅品質保證立法，保固保證住宅性能，並針對舊建物強制健檢、新建物增設履歷。」\\xa0針對蔡英文提出興建20萬戶社會住宅政策，巢運呼籲她上任後絕對不能跳票，盡速修正住宅法、健全社宅興辦機制，強化中央和地方整合。\\xa0台北大學不動產與城鄉環境系教授彭建文表示，新政府要「新、社、租、稅、產」，應修法加強整體住宅政策、都市更新，20萬社會住宅不能跳票，提供多元租屋選擇，將持有稅提高、減少空屋，強化居住相關產業管制，包括施工品質、不實廣告剔除及金融管制等，「新總統上任後，盡速提出新版的居住政策相關法令，9月送往立法院。」（于靜芳／台北報導）\\xa0「蘋果掀房事」每周三中午12點半，午餐加好料更多房地產新聞，請參考蘋果地產王粉絲團\\n巢運團體今舉辦記者會，點出馬政府居住政策缺失，並提出新政府應努力的方向。于靜芳攝', 767])\n",
      "232\n",
      "insert into news_entry(link,category,title,time,summary,view_cnt) values(?,?,?,?,?,?)\n",
      "dict_values(['http://www.appledaily.com.tw//realtimenews/article/finance/20160511/858529/這些人願意在半年掏錢內買VR', '財經', '這些人願意在半年掏錢內買 VR', '2016/05/11 12:25', '虛擬實境 （VR）裝置話題夯，Newzoo 調查12個西方國家顯示，未來6個月將會採購VR裝置，12%美國人傾向購買，其中西班牙民眾最願意掏錢，佔比達16%。而加拿大遊戲玩家，最願意掏錢購買超過600美元的VR產品。\\xa0近期調查資料顯示，從12個西方市場來看，考量對於偷窺這檔事的文化態度，以及對虛擬實境產品的認知度，其實市場對於VR 需求高於預期。 相關調查包括12個歐洲市場2000各、美國3000名受訪者，16% 西班牙人願意在半年內購買，12%的美國人有意願、英國人購買意願比例也有10%，加拿大約7%，荷蘭人意願最低4%。\\xa0至於談到願意花多少預算購買VR裝置，以VR主要目標族群遊戲玩家來看，雖然加拿大人傾向購買比例僅有7%，不過他們可願意花上超過600 美元。（陳俐妏/ 台北報導）', 1191])\n",
      "233\n",
      "insert into news_entry(link,category,title,time,summary,view_cnt) values(?,?,?,?,?,?)\n",
      "dict_values(['http://www.appledaily.com.tw//realtimenews/article/sports/20160511/858523/首爾網球挑戰賽\\u3000莊吉生單打晉16', '體育', '首爾網球挑戰賽\\u3000莊吉生單打晉16', '2016/05/11 12:24', '臺灣2名好手在總獎金10萬美元(約327.2萬臺幣)並招待住宿、ATP(Association of Tennis Professionals，男子職業網球協會)首爾挑戰賽單打首輪出賽，世界第311莊吉生以6比3、6比2擊敗美國選手薩基西恩(Alexander Sarkissian)，晉級16強；世界第225陳迪則以3比6、3比6敗給世界第121斯洛伐克選手拉奇科(Lukas Lacko)，遭淘汰。(王毓健／綜合報導)', 367])\n",
      "234\n",
      "insert into news_entry(link,category,title,time,summary,view_cnt) values(?,?,?,?,?,?)\n",
      "dict_values(['http://www.appledaily.com.tw//realtimenews/article/local/20160511/858517/吳宗憲加封陳沂新稱號：去澳洲前記得先買單', '社會', '吳宗憲加封陳沂新稱號：去澳洲前記得先買單', '2016/05/11 12:23', '主持人陳沂日前在臉書發文酸藝人羅志祥（小豬）「應只要來簽名會，都可拍照跟抱抱啊！三拍五抱根本是用肉體來斂財，「亞洲空幹王」這行徑跟賣淫小模有什麼兩樣？」結果陳沂昨天被判賠30萬須登報道歉。對此綜藝天王吳宗憲特地為陳沂在臉書發文。\\xa0吳宗憲封她「亞洲筆干王」，並說「這一下可好啦！官司輸了，判賠三十萬，還要道歉！要去澳洲之前，記得要先買單喔！憲哥希望你可以發自內心的改變自己，在藝能界有才藝就不怕沒出路，主持更不是耍耍嘴皮子而已⋯⋯心境一打開！就能夠有機會改變！看妳囉⋯⋯」。(葉國吏/綜合報導)', 8157])\n",
      "235\n",
      "insert into news_entry(link,category,title,time,summary,view_cnt) values(?,?,?,?,?,?)\n",
      "dict_values(['http://www.appledaily.com.tw//realtimenews/article/life/20160511/858525/台鐵車長打盹被舉發\\u3000司機員揭血汗內幕', '生活', '台鐵車長打盹被舉發\\u3000司機員揭血汗內幕', '2016/05/11 12:23', '日前台鐵一名車長在斗六開往台中的台鐵區間車上，列車長坐在車廂內打盹被旅客拍下照片舉發。臉書上「火車司機的日常」因此PO文叫屈，指雖然執勤時不該這樣大剌剌的找「空檔」休息，但若去了解台鐵行車人員(司機和車長)排班，就會知道真的血汗，以司機工作班來說，睡不飽的班不在少數，只睡個4、5小時，隔天繼續當牛來操。\\xa0「火車司機的日常」臉書更貼出2月份一張工作班表，曾有當天凌晨0時才下班，當天4時12分就上班，貼文更指出，不然就是司機工作班晚上7、8時到，隔天凌晨3、4時就要起床上班，表面上有足夠時間可去睡眠，但實際上因為前幾天都工作到半夜12時、1時的，哪可能今天突然7、8時下班就能馬上睡著，大多都是在床上翻來覆去到10、11時才勉強睡著，更慘的可能還要翻到12時才睡著。\\xa0「火車司機的日常」臉書貼文指出，不正常的工作時間，一直都是他們這些行車人員的困擾，可是上面的人有在乎這一點嗎？沒有！！反正對長官來說，只要「表面上」沒違法就好，誰管你的「休息品質」好不好？司機整路硬撐到下班，才能好好的休息，那要是撐不下去呢？這種只看表面的排班方式，才是「置行車安全不顧！」\\xa0台鐵駕駛透過「火車司機的日常」臉書更爆料，指除排班問題外，工班內容也一直都有問題，許多深夜的長途列車，如果是自強號也就算了，停的站少、速度快，跑一趟大約3小時，勉強還能撐一下，可是連莒光號也這樣搞，這才是想害人，一趟七堵─彰化的莒光號，少說都要跑4小時以上，不要說是半夜到站，或是凌晨3、4時起床上班，在這種精神不濟的狀況下，要硬撐4小時以上的長時間開車，都想拿牙籤來撐住眼皮了！向上面抗議、反應，這種深夜的長途車應該要在中途(新竹)就換人開，結果都是被駁回，反正出事有司機扛責任，打不到遠在天邊的長官。\\xa0台鐵則回應表示，不可否認目前台鐵駕駛休息時間會有斷斷續續或輪夜班情況，工作班會有長有短交錯，整體平均每天工時為6小時40分，但也因為司機員較辛苦，因此待遇也較其他職務高，目前排班會透過機班工時協商會訂出相關規則方向後，再由各段各自去協商，另還有機班排班小組來排班，各種類型包括夜班等都會公平來輪，且除依法規規定工時排班外，列車上也有無人警醒裝置，司機員若睡著或昏迷超過60秒或90秒沒有腳踩該裝置，列車就會自動煞停下來，不會有安全問題。(生活中心／台北報導)', 7705])\n",
      "236\n",
      "insert into news_entry(link,category,title,time,summary,view_cnt) values(?,?,?,?,?,?)\n",
      "dict_values(['http://www.appledaily.com.tw//realtimenews/article/forum/20160511/858519/習大大棒打蔡英文', '論壇', '習大大棒打蔡英文', '2016/05/11 12:22', '作者：羅伯特亞當斯(部落格作家)\\xa0蔡總統如果決定祭出「空心話術」，在520就職演說，模糊處理兩岸關係，忽略九二共識和一個中國原則，中共的大棍棒勢必要揮向蔡政府，兩岸關係會進入新的賽局競爭。兩岸之間，一旦扯上國際空間，蔡政府所要的伸張主權、國際參與，勢難兩全，必得對抗中共死硬派的封殺與凌遲。今年WHA入場與會能否順利，要看中國臉色，蔡政府要做好最壞局勢的應對策略，我方代表團很有可能連出國搭機都不能成行，與會證件拿不到，想參與、抗議，門兒都沒有。\\xa0習大大與傳統的中共領導人有一點大不相同，他曾經是文革受害者，應該可以體驗中共一黨專政下，人治迂腐的不可避免與特權劣行。從習大大上臺後，對內積極打貪反腐，對外全球趴趴走，主動拜訪與維繫外交，出訪次數已經創下紀錄，所有作為彰彰顯示他不是傳統的共產黨領導人。對於如何處理臺灣，習大大應該有他真實的想法與策略。只可惜，面對鷹派的掣肘，不能放軟處理兩岸關係，也不能輕易放棄九二「攻勢」。\\xa0九二共識已經成為中共抑制民進黨的政治攻勢，兩岸版的一中原則就是九二共識，如果民進黨不接受，中國立馬擺出國際版一中原則，也就是聯合國2758號決議。除了臺灣22個隨時可以斷交的邦交承認關係外，2758號決議不僅限縮臺灣的國際參與，也會強逼民進黨務實面對國際上的一中原則。美國歡迎臺灣參與WHA，但是對於2758號決議，也僅是毫無新意重申一中政策、三個公報、臺灣關係法而已，形式上支援臺灣的力道很弱，僅僅敷衍應付。蔡政府要看到這項警訊，中共要耍弄大棍棒，不會虛張聲勢，說說罷了。\\xa0臺灣關係法沒有承認臺灣當局是個主權獨立的國家，頂多可以視為獨立的政治實體。蔡總統要維持現狀，不走向臺獨或統一，這確實是臺灣人民透過選舉想要表達的意願和聲音。倘若九二共識可以談判成為不統、不獨、不武的政治共識，在國際上即使要求臺灣承認一個中國原則，蔡政府應該務實面對，甚至接受與默認。\\xa0蔡政府未當家前，可以同時陳義伸張主權和國際參與，但是當家執政後，面對中共強力打壓，伸張主權一定做不到。從兩岸版一中原則到國際版一中原則，中國釋出的訊息已經很清楚明白，不容許操弄申論題，只能面對選擇題。如此殘酷事實，需要蔡政府在520之後，誠實面對與告知國人如何應對。\\xa0臺南登革熱疫情嚴重時，國人看不到過去七年參與WHA的實質效益何在。為了不到六天的會期和短短五分鐘的國際能見度，而要飛蛾撲火、迎接中國的大棍棒，是否值得？蔡總統請再想想。\\xa0《即時論壇》徵稿\\xa0你對新聞是否不吐不快，《蘋果日報即時新聞》新闢《即時論壇》，歡迎讀者投稿，對新聞時事表達意見。來稿請寄onlineopinions@appledaily.com.tw，文長以500到1000字為度，一經錄用，將發布在蘋果日報即時新聞區，唯不付稿酬。\\xa0請勿一稿兩投，本報有刪改權，當天未見報，請另行處理，不另退件或通知。', 3462])\n",
      "237\n",
      "insert into news_entry(link,category,title,time,summary,view_cnt) values(?,?,?,?,?,?)\n",
      "dict_values(['http://www.appledaily.com.tw//realtimenews/article/nextmag/20160511/858524/【壹週刊】偷美妝品太專注\\u3000被店員盯上還不知', '壹週刊', '【壹週刊】偷美妝品太專注\\u3000被店員盯上還不...', '2016/05/11 12:22', '高雄一名65年次的胡姓女子，跑到連鎖藥妝店行竊商品，由於她手法相當罕見，不易被發現，讓店家損失不少，還好機警的店員發現該名女子不斷地翻動商品，行為詭異，仔細查看，終於發現女嫌犯的行竊手法，報警逮人，果然在她身上搜出價值420元的美妝商品，人贓俱獲。\\xa0女子帶著帽子來到藥妝店，在化妝品區徘徊，拿起試用商品塗塗抹抹，鎖定要下手的目標後，竟然拆開外盒，將唇膏放進包包裡，為了避人耳目，還將空盒移往櫃架後方，企圖掩飾犯行。\\xa0胡女用類似手法，偷了唇膏、粉餅、眉線筆，因為她知道，美妝外盒有防盜條碼，出門口時會觸動警報器作響，原本以為這樣可以瞞天過海，沒想到機警的女店員早就發現胡女的行為，當女嫌犯假裝像是整理貨品的樣子，將偷走商品的空盒往內移動時，可能是偷的太專注，完全沒察覺，後方已經有店員雙手叉腰，看在眼裡。\\xa0警方調查，胡姓女子有10多項竊盜前科，根本就是名慣竊，貪小便宜行竊，自以為聰明可以躲避店裡的防盜器，卻逃不過店員的法眼。（撰文:社會組）\\u3000 「點我看更多其他壹週刊新聞…」\\n女賊專注偷美妝品，店員站在背後她也不知道。（圖：翻攝畫面）', 643])\n",
      "238\n",
      "insert into news_entry(link,category,title,time,summary,view_cnt) values(?,?,?,?,?,?)\n",
      "dict_values(['http://www.appledaily.com.tw//realtimenews/article/strange/20160511/857968/學會真玉辨別\\u30003秒打趴假玉業者', '搜奇', '學會真玉辨別\\u30003秒打趴假玉業者', '2016/05/11 12:21', '很多人喜歡玉，除了外觀的美麗讓人喜愛，所蘊含的能量甚至是能改變壞磁場，都是玉的魅力所在。不過玉與石頭只在一線之隔，坊間所販賣的玉石、配飾，真真假假，有時民眾以高價位購買，殊不知買到的是假玉，而其實，根據行家蘇君綾說法，只要3秒鐘，就能辨別玉石的真假，依照花費時間的多寡排序，列舉以下4種快速檢測方式，讓您不再當冤大頭。（蔡惠嵐／台中報導）\\xa0臉書必加社團「蘋果花愛Shopping」副刊中心粉絲團：吃喝玩樂蘋果花\\xa0\\xa0\\n2.輕敲法：把玉器用線或鍊子懸空掛起，再用硬物輕輕敲擊玉石，真玉聲音清脆悅耳，假玉則相對沉悶乾澀。(5秒鐘)3.視察法：將玉器朝向光明處(如陽光處、燈光下)，若顏色剔透，色澤均勻分布為真玉。(5~10秒鐘)4.水鑑別法：將一滴水滴在玉上，如果呈露珠狀久不散開者為真玉，水滴快速消失為假玉。(10秒鐘)', 3666])\n",
      "239\n",
      "insert into news_entry(link,category,title,time,summary,view_cnt) values(?,?,?,?,?,?)\n",
      "dict_values(['http://www.appledaily.com.tw//realtimenews/article/finance/20160511/858520/焦點股～本季營運看俏\\u3000廣達邁向月線', '財經', '焦點股～本季營運看俏\\u3000廣達邁向月線', '2016/05/11 12:20', '廣達（2382）公布第1季財報，每股純益0.94元，預期本季筆電及非筆電業務都可維持10%季成長，今天股價表現強勢，漲幅逾3%，逼近月線53.6元關卡。\\xa0廣達第1季獲利與去年同期相當，儘管本季為電子業淡季，不過，廣達預期本季筆電、非筆電業務都可維持10%成長，董事長林百里也看好雲端業務，預估每年可維持3成成長幅度，今天股價逆勢走高，往月線邁進。（陳建彰／台北報導）', 366])\n",
      "240\n",
      "insert into news_entry(link,category,title,time,summary,view_cnt) values(?,?,?,?,?,?)\n",
      "dict_values(['http://www.appledaily.com.tw//realtimenews/article/forum/20160511/858519/習大大棒打蔡英文', '論壇', '習大大棒打蔡英文', '2016/05/11 12:22', '作者：羅伯特亞當斯(部落格作家)\\xa0蔡總統如果決定祭出「空心話術」，在520就職演說，模糊處理兩岸關係，忽略九二共識和一個中國原則，中共的大棍棒勢必要揮向蔡政府，兩岸關係會進入新的賽局競爭。兩岸之間，一旦扯上國際空間，蔡政府所要的伸張主權、國際參與，勢難兩全，必得對抗中共死硬派的封殺與凌遲。今年WHA入場與會能否順利，要看中國臉色，蔡政府要做好最壞局勢的應對策略，我方代表團很有可能連出國搭機都不能成行，與會證件拿不到，想參與、抗議，門兒都沒有。\\xa0習大大與傳統的中共領導人有一點大不相同，他曾經是文革受害者，應該可以體驗中共一黨專政下，人治迂腐的不可避免與特權劣行。從習大大上臺後，對內積極打貪反腐，對外全球趴趴走，主動拜訪與維繫外交，出訪次數已經創下紀錄，所有作為彰彰顯示他不是傳統的共產黨領導人。對於如何處理臺灣，習大大應該有他真實的想法與策略。只可惜，面對鷹派的掣肘，不能放軟處理兩岸關係，也不能輕易放棄九二「攻勢」。\\xa0九二共識已經成為中共抑制民進黨的政治攻勢，兩岸版的一中原則就是九二共識，如果民進黨不接受，中國立馬擺出國際版一中原則，也就是聯合國2758號決議。除了臺灣22個隨時可以斷交的邦交承認關係外，2758號決議不僅限縮臺灣的國際參與，也會強逼民進黨務實面對國際上的一中原則。美國歡迎臺灣參與WHA，但是對於2758號決議，也僅是毫無新意重申一中政策、三個公報、臺灣關係法而已，形式上支援臺灣的力道很弱，僅僅敷衍應付。蔡政府要看到這項警訊，中共要耍弄大棍棒，不會虛張聲勢，說說罷了。\\xa0臺灣關係法沒有承認臺灣當局是個主權獨立的國家，頂多可以視為獨立的政治實體。蔡總統要維持現狀，不走向臺獨或統一，這確實是臺灣人民透過選舉想要表達的意願和聲音。倘若九二共識可以談判成為不統、不獨、不武的政治共識，在國際上即使要求臺灣承認一個中國原則，蔡政府應該務實面對，甚至接受與默認。\\xa0蔡政府未當家前，可以同時陳義伸張主權和國際參與，但是當家執政後，面對中共強力打壓，伸張主權一定做不到。從兩岸版一中原則到國際版一中原則，中國釋出的訊息已經很清楚明白，不容許操弄申論題，只能面對選擇題。如此殘酷事實，需要蔡政府在520之後，誠實面對與告知國人如何應對。\\xa0臺南登革熱疫情嚴重時，國人看不到過去七年參與WHA的實質效益何在。為了不到六天的會期和短短五分鐘的國際能見度，而要飛蛾撲火、迎接中國的大棍棒，是否值得？蔡總統請再想想。\\xa0《即時論壇》徵稿\\xa0你對新聞是否不吐不快，《蘋果日報即時新聞》新闢《即時論壇》，歡迎讀者投稿，對新聞時事表達意見。來稿請寄onlineopinions@appledaily.com.tw，文長以500到1000字為度，一經錄用，將發布在蘋果日報即時新聞區，唯不付稿酬。\\xa0請勿一稿兩投，本報有刪改權，當天未見報，請另行處理，不另退件或通知。', 3476])\n",
      "241\n",
      "insert into news_entry(link,category,title,time,summary,view_cnt) values(?,?,?,?,?,?)\n",
      "dict_values(['http://www.appledaily.com.tw//realtimenews/article/nextmag/20160511/858524/【壹週刊】偷美妝品太專注\\u3000被店員盯上還不知', '壹週刊', '【壹週刊】偷美妝品太專注\\u3000被店員盯上還不...', '2016/05/11 12:22', '高雄一名65年次的胡姓女子，跑到連鎖藥妝店行竊商品，由於她手法相當罕見，不易被發現，讓店家損失不少，還好機警的店員發現該名女子不斷地翻動商品，行為詭異，仔細查看，終於發現女嫌犯的行竊手法，報警逮人，果然在她身上搜出價值420元的美妝商品，人贓俱獲。\\xa0女子帶著帽子來到藥妝店，在化妝品區徘徊，拿起試用商品塗塗抹抹，鎖定要下手的目標後，竟然拆開外盒，將唇膏放進包包裡，為了避人耳目，還將空盒移往櫃架後方，企圖掩飾犯行。\\xa0胡女用類似手法，偷了唇膏、粉餅、眉線筆，因為她知道，美妝外盒有防盜條碼，出門口時會觸動警報器作響，原本以為這樣可以瞞天過海，沒想到機警的女店員早就發現胡女的行為，當女嫌犯假裝像是整理貨品的樣子，將偷走商品的空盒往內移動時，可能是偷的太專注，完全沒察覺，後方已經有店員雙手叉腰，看在眼裡。\\xa0警方調查，胡姓女子有10多項竊盜前科，根本就是名慣竊，貪小便宜行竊，自以為聰明可以躲避店裡的防盜器，卻逃不過店員的法眼。（撰文:社會組）\\u3000 「點我看更多其他壹週刊新聞…」\\n女賊專注偷美妝品，店員站在背後她也不知道。（圖：翻攝畫面）', 644])\n",
      "242\n",
      "insert into news_entry(link,category,title,time,summary,view_cnt) values(?,?,?,?,?,?)\n",
      "dict_values(['http://www.appledaily.com.tw//realtimenews/article/strange/20160511/857968/學會真玉辨別\\u30003秒打趴假玉業者', '搜奇', '學會真玉辨別\\u30003秒打趴假玉業者', '2016/05/11 12:21', '很多人喜歡玉，除了外觀的美麗讓人喜愛，所蘊含的能量甚至是能改變壞磁場，都是玉的魅力所在。不過玉與石頭只在一線之隔，坊間所販賣的玉石、配飾，真真假假，有時民眾以高價位購買，殊不知買到的是假玉，而其實，根據行家蘇君綾說法，只要3秒鐘，就能辨別玉石的真假，依照花費時間的多寡排序，列舉以下4種快速檢測方式，讓您不再當冤大頭。（蔡惠嵐／台中報導）\\xa0臉書必加社團「蘋果花愛Shopping」副刊中心粉絲團：吃喝玩樂蘋果花\\xa0\\xa0\\n2.輕敲法：把玉器用線或鍊子懸空掛起，再用硬物輕輕敲擊玉石，真玉聲音清脆悅耳，假玉則相對沉悶乾澀。(5秒鐘)3.視察法：將玉器朝向光明處(如陽光處、燈光下)，若顏色剔透，色澤均勻分布為真玉。(5~10秒鐘)4.水鑑別法：將一滴水滴在玉上，如果呈露珠狀久不散開者為真玉，水滴快速消失為假玉。(10秒鐘)', 3666])\n",
      "243\n",
      "insert into news_entry(link,category,title,time,summary,view_cnt) values(?,?,?,?,?,?)\n",
      "dict_values(['http://www.appledaily.com.tw//realtimenews/article/finance/20160511/858520/焦點股～本季營運看俏\\u3000廣達邁向月線', '財經', '焦點股～本季營運看俏\\u3000廣達邁向月線', '2016/05/11 12:20', '廣達（2382）公布第1季財報，每股純益0.94元，預期本季筆電及非筆電業務都可維持10%季成長，今天股價表現強勢，漲幅逾3%，逼近月線53.6元關卡。\\xa0廣達第1季獲利與去年同期相當，儘管本季為電子業淡季，不過，廣達預期本季筆電、非筆電業務都可維持10%成長，董事長林百里也看好雲端業務，預估每年可維持3成成長幅度，今天股價逆勢走高，往月線邁進。（陳建彰／台北報導）', 366])\n",
      "244\n",
      "insert into news_entry(link,category,title,time,summary,view_cnt) values(?,?,?,?,?,?)\n",
      "dict_values(['http://www.appledaily.com.tw//realtimenews/article/strange/20160511/858118/【有片】小時候最期待的校外教學！\\u3000好懷念啊～', '搜奇', '【有片】小時候最期待的校外教學！\\u3000好懷念...', '2016/05/11 12:19', '還是小小孩的時候，總是最期待校外教學，除了當天不用上課外，還可以帶著零食和同學歡樂的遊玩，遠足總是小孩們心目中的最快樂的上學日，還記得你曾為遠足做些什麼準備嗎？還記得那種期待遠足的心情嗎？讓我們一起來回味吧。（林婉珺／綜合報導）\\xa0你也有校外教學的回憶可以說嗎？可以寫下來到手寫時代社團分享更多有趣報導，請上吃喝玩樂蘋果花粉絲團\\xa0\\xa0\\n要去遠足啦！豪嗨森～～～翻攝《小丸子》【遠足前一天拖著爸媽買零食】一定要帶很多很多的零食和好朋友一起分享啊！翻攝www.dianliwenmi.com【睡前興奮地把東西準備好】睡不著就是睡不著，總會興奮地期待明天的郊遊！翻攝《小丸子》【在遊覽車上和好友大唱歌】在遊覽車上跟好朋友高歌一曲也是校外教學必做的事情之一啊！資料照片可惜天下不會有白吃的午餐，出去玩是要付出代價的，像是交張落落長的學習單……翻攝appnews.fanswong.com', 730])\n",
      "245\n",
      "insert into news_entry(link,category,title,time,summary,view_cnt) values(?,?,?,?,?,?)\n",
      "dict_values(['http://www.appledaily.com.tw//realtimenews/article/local/20160511/858478/找藥師借牌詐百萬\\u3000名醫遭起訴', '社會', '找藥師借牌詐百萬\\u3000名醫遭起訴', '2016/05/11 12:18', '北市大直區知名的診所「高固廉聯合診所」旗下的「元氣藥局」，涉嫌找藥劑師借牌開藥，詐領健保費，遭健保署查出後移送法辦，台北地檢署查出，診所醫師高固廉夥同岳母等人，每個月以1萬元向張姓女藥師借用藥師執照開藥，從2011年12月間至2014年7月間詐領保費188萬多元，因此依詐欺、偽造文書罪起訴高男等5人。\\xa046歲的高固廉曾任林口長庚醫院急診室主治醫師，專長慢性病、外傷等，2009年在大直開業後，因治療科目完備，而小有名氣。\\xa0北檢查出，該診所附設的元氣藥局，由高固廉和岳母經營，依規定依藥局必須有藥師執業，高等人因此涉嫌從2011年12月間至2014年7月間，以1萬元向張姓女藥師借牌，登記為該藥局藥師，但張女根本沒在藥局工作，而是由診所行政人員和其他藥師，在病患的處方箋中記載由張女配藥，再請領健保的藥事服務費，3年來共詐領188萬多元。\\xa0檢方認定，高男和顏姓岳母以及藥局的許姓藥師、高姓行政人員和張女是共犯，依詐欺取財、偽造文書罪起訴5人。（吳珮如／台北報導）\\xa0【更多司法新聞，請看《蘋果陪審團》粉絲團】', 2225])\n",
      "246\n",
      "insert into news_entry(link,category,title,time,summary,view_cnt) values(?,?,?,?,?,?)\n",
      "dict_values(['http://www.appledaily.com.tw//realtimenews/article/forum/20160511/858514/面對兩岸，台灣不能自說自唱', '論壇', '面對兩岸，台灣不能自說自唱', '2016/05/11 12:17', '中美與兩岸之間一個巧合的類似情況\\xa0作者：朱駿（獨立評論人）\\xa0中美之間因大陸的快速崛起，國際資源有限，雙方處於「修昔底德陷阱」(Thucydides\\'s trap)，雖然大陸方面一再淡化這種陷阱的存在，多方舉證歷史事實，說明這個強權之間惡性競爭的局面是可以避免的，但實際事態的發展顯然無法說服美方。之所以如此，在於理論與實踐之間的差異所致。\\xa0美國何嘗不知道，大陸這樣體量的國家一旦崛起，必然要排擠美方原先掌控的國際權力與資源的機會。好比一個人從小長大了，必然要換大件的衣服一樣，但一家人可用的布料只有一塊，小弟長大了當然要分大哥的布料，天公地道。大陸崛起所帶來的對國際資源與權力的現實需求是美國不能否定的生存權利，美國很難完全排擠與封鎖的。也就是說，美國勢必要讓出一些國際權力與資源，這是幾十年來一路發展的國際現實所呈現的事實。\\xa0然而，站在美國的立場，天下沒有白吃的午餐，大陸要的，美國不能白送，必須靠本事才能拿得走且抓得穩。美國也會擔心，一旦讓大陸予取予求，美國在國際間的力量將會潰敗崩盤，屆時，既有的全球秩序被破壞了，新的秩序還來不及建設完成，全球將陷入混亂，立即影響美國的現實利益，也會直接衝擊美方國內政治與經濟。這是任何一位美國政治人物不會准許的。只有一種情況他們不得不准，就是大陸的實力夠強，強到可以幫助建立有效的新秩序，在實力夠強的情況下幫助建立的新秩序當然就必然會有不同的內涵，這必然是靠各種實力鬥爭的結果，美國恐怕也無法不認。證諸人類歷史，這恐怕不能僅僅依靠多少飛彈或第五代戰機做得到的，最終是捨軟實力莫由。偏偏，軟實力主要是由價值觀念與政治制度的吸引力構成，這是大陸迄今為止最大的罩門，相信大陸領導人心中有數。\\xa0兩岸之間也有一個類似的情況，根據台灣長期以來的民調顯示，絕大多數的民眾不願統一，偏向台灣獨立的比例已超過半數，但大家都很清楚，客觀的情勢越來越不利於台灣，台灣的經濟已經深深依賴大陸，中美間軍事與綜合國力差距日漸縮小，令台灣想要依賴美國的夢想越來越沒有現實的條件，成本也會越來越高，在經濟長期持續下滑，見不到新的熱帶氣旋可以將台灣經濟拉起的前景下，依賴美國更不是台灣可以期盼或擔負得起的。在這個彼長我消的明顯趨勢對照之下，台灣遲早有一天會被統一，只要頭腦正常，具有常識判斷的水平，都可以做出這個結論。這也就是說，台灣其實有一大批人明知道統一的進程不可阻擋，但好像類似美國，對大陸發出天下沒有白吃午餐的信息，要吃午餐(要統一)，必須要拿出真本事，不能由台灣白給。簡言之，這是告訴大陸，若不經一番鬥爭獲勝，想統一台灣，門兒都沒有。可惜，在兩岸之間，台灣是極弱的一方，與中美之間美國是優勢的一方，情況不同。\\xa0中美與兩岸之間似乎都存在一個引誘雙方使用角力爭勝的現實格局，這種格局最容易發展成自我實現的陷阱，似乎已經沒道理可講，勝者為王，欲勝唯力，這是台海或南海風雲中最具危險的潛在勢能，這股能量還在激化之中。《紐約時報》5月9日報導，美國太平洋海軍司令哈里斯曾公開表示，太平洋美軍必須做好「今夜就開戰」的準備，哈氏的發言其實代表一大批鷹派內心的想法。大陸代表官方口徑的學者倪永傑5月10日亦有「歷史證明，兩岸和平發展現狀基於\"九二共識\"，有則續、無則毀。歷史證明，兩岸和平發展現狀基於\"九二共識\"，有則續、無則毀。」的發言。情勢不斷在激化，可見一般。\\xa0不過，前述兩個情況還有一個明顯的重大差異。在國際間，戰略的時間與空間深長，要增長實力與持盈保泰，軟實力是最終的決定力量。在兩岸間，格局本身就給不出類似國際上那麼深長之戰略時間與空間，在以唯力是從的較量中，台灣沒有戰略縱深，只需常識水平就能判斷。大陸若能展現軟實力固然是上上策，但在國際局勢激盪之下，台灣內部有一大群人想要配合美國力量，將兩岸之間的距離越拉越遠，恐怕大陸要對台發展軟實力的時間與條件已經不充分，而且明顯會被壓縮，要統一的方法恐怕越來越會走向以經濟為核心內涵的巧實力，乃至以軍事為核心內涵的硬實力恐怕都會被超乎預期地提上日程。屆時，台灣必然受重傷，不知美國人會在哪裡？可靠嗎？看看烏克蘭就可知道答案。\\xa0台灣要跳說這種不利於自己的格局，必須避免走向軍事硬實力與經濟巧實力的對決格局，而是大膽地走向以軟實力為核心內涵的政治談判，這種談判非一朝一夕可成，也許沒有十年八年難以竟其功，台灣應爭取在這談判期間說服大陸進行政治體制改革，台灣亦應自我提升民主政治的素質，幫助大陸有序地進行政治體制改革，解決兩岸最大差異的根本原因，如此能消除台灣民眾對大陸的恐懼。不過，這有兩個基本前提，要在一個中國之內找戰略支撐點，同時獨立自主，不受美方脅制，馬習會的成局應可看出，只要台灣堅持，美國也莫可奈何！而且，獨立自主才能為台灣創造左右逢源的最大利益。\\xa0台灣當局如果看不清這個戰略形勢，找到可以與大陸以政治談判方式解決爭議的戰略支撐點，獨立自主地有序推動政治談判，所有現在被提到的「在中華民國體制下」、「維持現狀」、「南向政策」、「亞投行」、「一帶一路」、「憲法一中」、「一中各表」、「兩岸監督條例」、「林中森條款」、「兩岸和平協議」等等都會是自說自唱、自欺自誤的假議題，吵乾唾液，只會令自己身體更虛弱罷了，前面所列的沒有一條在中長期趨勢下可以站得住，甚至有短期就會出問題者。「不會有意外」只會是一個懵懂無知的美好空想！\\xa0客觀的情勢如此，歷史正確道路的門徑很窄，時間窗口也有限，就看台灣自己的主觀抉擇了。不要說沒有機會幹大事，老抱怨別人打壓，應先問問自己頭腦是否清楚，如果行如鴕鳥，天亦難助，何況是向來自私自利的老美！別傻了！\\xa0《即時論壇》徵稿\\xa0你對新聞是否不吐不快，《蘋果日報即時新聞》新闢《即時論壇》，歡迎讀者投稿，對新聞時事表達意見。來稿請寄onlineopinions@appledaily.com.tw，文長以500到1000字為度，一經錄用，將發布在蘋果日報即時新聞區，唯不付稿酬。\\xa0請勿一稿兩投，本報有刪改權，當天未見報，請另行處理，不另退件或通知。', 1191])\n",
      "247\n",
      "insert into news_entry(link,category,title,time,summary,view_cnt) values(?,?,?,?,?,?)\n",
      "dict_values(['http://www.appledaily.com.tw//realtimenews/article/finance/20160511/858510/新台幣午盤~32.54元\\u3000貶值0.7分', '財經', '新台幣午盤~32.54元\\u3000貶值0.7分', '2016/05/11 12:16', '新台幣兌美元匯率今日因韓元小幅升值帶動，早盤同呈小幅走升，不過因股市表現不佳、外資續匯出，台幣兌美元匯率由升轉貶。\\xa0截至午盤為止，台幣兌美元匯率暫收32.54元對1美元，貶值0.7分，台北外匯交易經紀公司成交量暫收4.11億美元。（王立德/台北報導）', 300])\n",
      "248\n",
      "insert into news_entry(link,category,title,time,summary,view_cnt) values(?,?,?,?,?,?)\n",
      "dict_values(['http://www.appledaily.com.tw//realtimenews/article/property/20160511/858414/遺贈節稅撇步\\u300012點半「掀房事」直播', '地產', '遺贈節稅撇步\\u3000 12點半「掀房事」直播', '2016/05/11 12:15', '520新政府上台，準總統蔡英文有意調增遺贈稅率，在2009年稅率從50%降至10%，造成熱錢湧入台灣，推升房價，同時也掀起一波房屋贈與潮，《蘋果掀房事》今天中午12點半邀請住商不動產企研室主任徐佳馨，與正業代書事務所地政士鄭文在，在節目中剖析遺贈稅率對房市的影響，也教你怎麼做才能省稅！。\\xa0根據內政部統計，2009年贈與移轉棟數為3.32萬棟，到2015年攀升至5.58萬棟，大華不動產估價師聯合事務所所長張義權表示，遺贈稅基以土地公告現值跟房屋評定現值課徵，因兩者較市價低，相對來說更省稅。但張義權提醒，在今年房地合一新制後，這樣做已經行不通。\\xa0張義權指出，使用贈與、繼承取得，實價登錄是以土地公告現值及房屋評定現值登記，未來交易的所得稅將較買賣取得多很多。舉例來說，1間市價1000萬元的房子，土地公告現值500萬元、房屋評定現值100萬元，實價登錄即為600萬元，假定以1100萬元賣出，國稅局認定獲利為500萬元，若以市價出售，認定獲利僅100萬元，兩者相差400萬元！\\xa0現在最佳的省稅策略，張義權建議善用夫妻1年各220萬元，合計440萬元的免稅額，每年用現金贈與給下一代，等到錢達到市價的價格，再讓小孩用買賣的方式取得房子，才可以幫小孩省掉以後賣掉的所得稅。想了解更多內容？快看《蘋果掀房事》直播中：http://goo.gl/Z9ZI9u（陳世峰／台北報導）\\xa0更多房市訊息，請上蘋果地產王粉絲團\\xa0\\n新政府有意提高遺贈稅率，對房市有何影響？請鎖定中午12點半「蘋果掀房事」直播。資料照片2009年遺贈稅率調降，贈與移轉棟數逐年攀升，從2009年的3.32萬棟，攀升到2015年5.58萬棟。翻攝影片大華不動產估價師聯合事務所所長張義權建議，應讓小孩以市價跟父母買房子，才能省未來交易的所得稅。翻攝影片', 11140])\n",
      "249\n",
      "insert into news_entry(link,category,title,time,summary,view_cnt) values(?,?,?,?,?,?)\n",
      "dict_values(['http://www.appledaily.com.tw//realtimenews/article/international/20160511/858509/【央廣RTI】洩密大傷巴拿馬事務所擬告記者聯盟', '國際', '【央廣RTI】洩密大傷  巴拿馬事務所擬...', '2016/05/11 12:15', '本內容由中央廣播電臺提供\\xa0\\xa0 \\xa0 \\xa0 \\xa0因為巴拿馬文件(Panama Papers)外洩案被拖入金融醜聞的巴拿馬法律事務所莫薩克馮賽卡(Mossack Fonseca)10日表示，將對國際調查(International Consortium of Investigative Journalists, ICIJ)採取法律行動。莫薩克馮賽卡發表聲明說，已要求ICIJ停止公布巴拿馬文件中的資料。\\xa0 \\xa0 \\xa0 \\xa0ICIJ是在9日將可供搜尋的資料庫放在網上，讓大眾獲得查詢巴拿馬文件中20多萬筆祕密海外公司紀錄的管道，包括隱藏在匿名空殼公司後的個人和企業名稱，而且這只是莫薩克馮賽卡1,150萬筆外洩文件一部分。莫薩克馮賽卡指出，ICIJ曾表示，他們是經由電腦駭客取得這些資料。這家巴拿馬法律公司說，除了非法取得之外，這些資料中也充滿不實的錯誤內容。\\xa0 \\xa0 \\xa0 \\xa0巴拿馬文件由於披露出全球富豪和罪犯，是如何藉由這樣的代理人公司規避法務和稅務官員追查，以隱匿和轉移其資產，其中包括重要的政治人物和社會名流，因此在全球引發軒然大波。(繼續閱讀)', 498])\n",
      "250\n",
      "insert into news_entry(link,category,title,time,summary,view_cnt) values(?,?,?,?,?,?)\n",
      "dict_values(['http://www.appledaily.com.tw//realtimenews/article/local/20160511/858463/火鍋店小開撒錢毆人\\u3000法官怒斥「錢猶如刀」', '社會', '火鍋店小開撒錢毆人\\u3000法官怒斥「錢猶如刀」', '2016/05/11 12:14', '基隆市知名火鍋店「義美火鍋」黃姓小開（40歲），上月5日晚間8時許，前往女友上班的養生館接對方下班，得知女友與徐姓女同事有嫌隙，黃男為了替女友抱不平，走進店內拍桌怒罵5字經，之後拿出千元鈔票當眾往徐女頭上砸，嗆聲說：「我是義美火鍋店的兒子，很有錢！」\\xa0黃男不罷休，還衝上前痛毆徐女，導致對方顏面挫傷、左眼結膜下出血及頸部擦傷等，對方氣得提告傷害、公然侮辱等罪嫌。今天判決出爐，法官在判決書上痛斥黃男說：「錢猶如刀，刀在醫生手是救人，刀在惡人手是殺人。」指出黃男不要總是炫富，應與人和睦共處為宜。\\xa0法院依傷害罪判處黃男有期徒刑3個月，得易科罰金9萬元；另外公然侮辱罪判處黃拘役58日，得易科罰金58000，全案仍可上訴。（突發中心陳偉周／基隆報導）\\xa0\\xa0\\n法官在判決書中痛斥黃，「錢猶如刀」。陳偉周攝', 3524])\n",
      "251\n",
      "insert into news_entry(link,category,title,time,summary,view_cnt) values(?,?,?,?,?,?)\n",
      "dict_values(['http://www.appledaily.com.tw//realtimenews/article/local/20160511/858485/女警偷拍讓他不滿\\u3000發文「我是不是太無聊」', '社會', '女警偷拍讓他不滿\\u3000發文「我是不是太無聊」', '2016/05/11 12:13', '有位女警站在人行道上拍「未禮讓行人」的車輛，結果引發網友不滿前去理論。\\xa0網友在《Mobile01》發文「到底是不是我太無聊」，表示他在捷運站外看到女警，拿著錄影機要拍下「未禮讓行人的車輛」，但網友覺得既然有人力在這錄影，何不在路口指揮交通、避免行人被撞？於是他以「行人」身分前去詢問女警。\\xa0但在他與女警交談後，雙方「不歡而散」，於是網友提問「到底是不是我太多管閒事了?」，也解釋他的想法只是「好好的指揮交通 會讓往來的車輛和行人都覺得很安心 但是站在那邊錄影，就會讓我覺得只是要拚業績而已」。\\xa0對此有人認為「資源是有限的，警方不可能24小時都派人指揮」認為，取締的目的是讓駕駛改變違規習慣；但也有網友認為「只要不違規 那管得了他愛怎麼拍就怎麼拍不是嗎? 有時我反而更無法理解反對側錄的人心態究竟為何= =」。(葉國吏/綜合報導)', 7499])\n",
      "252\n",
      "insert into news_entry(link,category,title,time,summary,view_cnt) values(?,?,?,?,?,?)\n",
      "dict_values(['http://www.appledaily.com.tw//realtimenews/article/forum/20160511/858506/大家今天出門就安心了', '論壇', '大家今天出門就安心了', '2016/05/11 12:12', '作者：陳時豐（退休）\\xa0殺人犯鄭捷經最高法院判決死刑確定才19天，昨天就以最快的速度執行槍決，除了讓大家發洩怨恨，大快部分人心，然後呢？大家今天出門就安心了？媽媽今天帶小孩上學，就不再害怕了？\\xa0最近花東縣民，呼籲未來的中央政府，給他們一條安全回家的路。在蘇花公路開車，不幸被落石砸中死亡，是因為蘇花公路依山傍海，地勢險惡，落石不斷，造成道路的不安全，如果不針對道路安全的問題，加以徹底改善，就算把砸死人的石頭炸得粉碎，以後還是會有倒楣的人，在蘇花公路開車被落石砸死。\\xa0出門在外，無故被不特定的隨機殺人殺害，是因為社會安全體系出了問題，社會不安全的情況很多，原因也非常複雜，如果不針對社會不安全的原因，逐一加以研究，徹頭徹尾檢討改善，就算把殺人犯碎屍萬段，以後還是會有人被隨機殺人傷害。\\xa0我不是要談死刑存廢，按照現行法律，我們的刑法還有死刑，死刑犯只要證據明確，經最高法院判決死刑確定，就要執行死刑。台灣的死刑犯包括鄭捷還有很多個，鄭捷被以最快的速度執行槍決，真的有那麼急破嗎？\\xa0鄭捷是在捷運造成四人死亡慘案的殺人重要個案當事人，政府有委請相關的專業人士，學者專家，針對個案當事人鄭捷的成長背景，家庭狀況，求學過程，心理狀態，犯案動機，做深入的訪談、研究並作成報告嗎？昨天以最快的速度執行槍決，但問題就解決了嗎？如今，想做這殺人個案研究的學者專家、大學博士班研究生、甚至新政府的相關首長，少了個案當事人鄭捷，所做的相關研究，恐怕也是片面呈現。\\xa0醫學上發現造成死亡的新流行病毒，醫師是直接把病毒殺死搶救病人，還是通知疾病管制局，將流行病毒取樣，送到實驗室培養，針對病毒做預防、藥品、防疫等研究工作，甚至要通知世界衛生組織，善盡國際社會責任。法務部昨天的做法就是直接把病毒消滅，還自認做該做的事！\\xa0《即時論壇》徵稿\\xa0你對新聞是否不吐不快，《蘋果日報即時新聞》新闢《即時論壇》，歡迎讀者投稿，對新聞時事表達意見。來稿請寄onlineopinions@appledaily.com.tw，文長以500到1000字為度，一經錄用，將發布在蘋果日報即時新聞區，唯不付稿酬。\\xa0請勿一稿兩投，本報有刪改權，當天未見報，請另行處理，不另退件或通知。', 2269])\n",
      "253\n",
      "insert into news_entry(link,category,title,time,summary,view_cnt) values(?,?,?,?,?,?)\n",
      "dict_values(['http://www.appledaily.com.tw//realtimenews/article/fashion/20160511/858044/美女部落客事業做很大\\u3000前進甜點圈', '時尚', '美女部落客事業做很大\\u3000前進甜點圈', '2016/05/11 12:10', '義大利籍、長住美國洛杉磯的美女時尚部落客Chiara Ferragni，事業版圖不只侷限在她的同名鞋款品牌、參加時尚活動，近期她將跨足甜點圈，與馬卡龍聞名的法國百年老牌Ladurée合作，推出時尚餐點，據悉將有一套漂亮時尚的馬卡龍套餐與特別版沙拉。\\xa0\\xa0Ladurée非首次與時尚圈聯手，過去曾與Pucci、Lanvin等品牌攜手推出餐點，吸引時尚迷捧場。可惜Ladurée已退出台灣，2013年登台引起排隊風潮的風光只能成為追憶。（陳雅韻／台北報導）\\xa0\\nChiara也愛po美食照。翻攝IG女星潔西卡艾芭生日時收到 Ladurée馬卡龍蛋糕塔。翻攝IG色彩繽紛的馬卡龍令人食指大動。翻攝IG', 2876])\n",
      "254\n",
      "insert into news_entry(link,category,title,time,summary,view_cnt) values(?,?,?,?,?,?)\n",
      "dict_values(['http://www.appledaily.com.tw//realtimenews/article/entertainment/20160511/858141/嚴控老公防偷吃\\u3000一線女星慘變疑心病人妻', '娛樂', '嚴控老公防偷吃\\u3000一線女星慘變疑心病人妻', '2016/05/11 12:10', '27歲日本女星堀北真希去年8月閃嫁C咖男星山本耕史，日前拍完日劇《彼岸花~警視廳搜查七課》後，暫時在家當專職主婦。日本「livedoor」網站報導，她結婚之初完全握有主導權，山本耕史也都唯命是從，最近夫妻倆的立場卻完全顛倒，她突然變得神經兮兮，每天都仔細追問老公的行程，擔心他在外面偷吃，緊迫盯人的攻勢，已讓他開始吃不消。\\xa0報導指出，她去年決定閃婚，對山本耕史之前的戀情緋聞也略知一二，沒想到升格當人妻後，反而開始擔心他會故態復萌在外把妹，山本耕史每天回到家，她就開始追問他「今天去了哪裡？」、「和誰見了面？」，有時候甚至還親自去攝影棚探班宣示主權，全面防護不讓老公有在外偷吃的機會。日本演藝圈人士表示，她婚前是高高在上的一線女星，婚後竟變成有疑心病的人妻，前後判若兩人。\\xa0堀北真希婚後生活都以山本耕史為中心，之前傳她常抽空為他做便當，看到購物網站有適合的東西，也毫不考慮就買下來送他，更希望能盡快生兒育女，2人結婚還不滿1年，她現在就將老公管得死死的，會否因此影響夫妻倆的感情，有待觀察。（蘇威全╱綜合報導）\\xa0\\xa0\\n堀北真希（右）和山本耕史閃婚至今還不滿1年。翻攝《日刊體育報》網站', 12837])\n",
      "255\n",
      "insert into news_entry(link,category,title,time,summary,view_cnt) values(?,?,?,?,?,?)\n",
      "dict_values(['http://www.appledaily.com.tw//realtimenews/article/life/20160511/858498/【央廣RTI】9成國人用Line滑手機不分世代', '生活', '【央廣RTI】9成國人用Line  滑手...', '2016/05/11 12:10', '本內容由中央廣播電臺提供\\xa0\\xa0 \\xa0 \\xa0 \\xa0教育部委託國立台灣師範大學進行「數位科技及社群媒體使用與家人關係」電訪調查，結果顯示，有8成民眾擁有智慧型手機，其中18到29歲族群更高達9成5，且近9成都有使用Line，近8成還會成立家族群組，顯見「滑手機」已不分世代。\\xa0 \\xa0 \\xa0 \\xa0調查結果發現，8成民眾已使用智慧型手機，主要用途為看Line、拍照、上臉書與傳簡訊，而且有7成7的人透過Line成立家族群組。計畫主持人、台師大教授林如萍表示，有7成以上的受訪父母會藉由臉書取得教養資訊與支持，尤其家有學齡前幼兒的家長更是如此；另外，也有一半以上的民眾使用臉書搜尋關於婚姻或與家人相處的資訊。\\xa0 \\xa0 \\xa0 \\xa0這次調查也發現，有7成5的民眾認為數位科技增加與家人的聯繫和溝通，但也有半數的人覺得，數位科技減少了家人的實質互動，並有3成受訪者表示，數位科技也提高了家人間的衝突。(繼續閱讀)', 929])\n",
      "256\n",
      "insert into news_entry(link,category,title,time,summary,view_cnt) values(?,?,?,?,?,?)\n",
      "dict_values(['http://www.appledaily.com.tw//realtimenews/article/forum/20160511/858503/鄭捷的死是廉價正義', '論壇', '鄭捷的死是廉價正義', '2016/05/11 12:09', '作者：林建德（大學教師）\\xa0鄭捷兩年前北捷行兇殺人，死刑定讞短短19天隨即伏法。法務部表示鄭捷罪行人神共憤，而今殺人者償命，其伏刑可謂罪有應得。然鄭捷被槍決，固然給受害者暨受害者家屬一個公道，但進一步想，也徒留諸多疑問。\\xa0第一、鄭捷殺人目的其一就是不想活，想透過被判死刑，早早結束這無趣的人生，而今死刑定讞隨即伏法，不正逐其所願？\\xa0第二、不死比死更艱難，對鄭捷這樣的人而言，活著反而是一種懲罰，不只失去自由，成天當個「人形廢物」，那等待槍決的日子，提心吊膽，每天度日如年的煎熬歲月，才足以收懲戒之效，才有促其自省悔悟的可能。\\xa0第三、人生真正糾結所在，在於你知道自己錯了，真心懺悔想要挽回、想要彌補，卻為時已晚，一切都來不及，你還是必須一死。但我們看不到鄭捷這樣的轉折，卻讓他輕輕鬆鬆死去，未免太可惜了。\\xa0第四、鄭捷伏法前打足麻醉藥，然被他殺害的人卻無此福份，多半穿腸破肚血肉橫飛慘死；更重要的是他麻木不仁，已麻痺的人是感覺不到痛苦的，而沒有痛苦的刑罰，是否還是刑罰？是否達到嚴懲的目的？\\xa0鄭捷的死是廉價正義，如不少網友表示，直接槍決太便宜他了！幾槍斃命的當下雖大快人心，但靜下心來好好思考，這究竟是解決了問題，還是留下更多遺憾和不解？\\xa0《即時論壇》徵稿\\xa0你對新聞是否不吐不快，《蘋果日報即時新聞》新闢《即時論壇》，歡迎讀者投稿，對新聞時事表達意見。來稿請寄onlineopinions@appledaily.com.tw，文長以500到1000字為度，一經錄用，將發布在蘋果日報即時新聞區，唯不付稿酬。\\xa0請勿一稿兩投，本報有刪改權，當天未見報，請另行處理，不另退件或通知。', 2911])\n",
      "257\n",
      "insert into news_entry(link,category,title,time,summary,view_cnt) values(?,?,?,?,?,?)\n",
      "dict_values(['http://www.appledaily.com.tw//realtimenews/article/sports/20160511/858504/【有片】擊中164公里火球\\u3000球棒碎了', '體育', '【有片】擊中164公里火球\\u3000球棒碎了', '2016/05/11 12:09', 'Your browser does not support iframes.\\xa0剛坐完球監，解禁上班不到24小時，洋基隊守護神查普曼(Aroldis Chapman\\xa0)在今天對皇家隊之戰第9局，馬上就飆出102哩(164公里)火球，擊碎皇家打者卡斯伯特(Cheslor Cuthbert)的球棒。查普曼在第9局洋基隊10比7領先時登板，先讓卡斯伯特擊出軟弱的一壘方向滾地球出局，再三振柯隆(Christian Colon)，解決今天單場3響砲的坎恩(Lorenzo Cain)，輕鬆取得轉隊至洋基後的第1場救援成功。大聯盟史上最快球速紀錄，也是查普曼保持，他在2010年9月24日，對聖地牙哥教士的比賽中，投出105.1哩(約169.1公里)的快速球，刷新大聯盟紀錄。(姚瑞宸／綜合報導)', 13483])\n",
      "258\n",
      "insert into news_entry(link,category,title,time,summary,view_cnt) values(?,?,?,?,?,?)\n",
      "dict_values(['http://www.appledaily.com.tw//realtimenews/article/sports/20160511/858501/小熊預約世界大賽冠軍\\u3000開季25勝6敗平隊史紀錄', '體育', '小熊預約世界大賽冠軍\\u3000開季25勝6敗平隊...', '2016/05/11 12:08', '3棒布萊恩(Kris Bryant)敲出2分打點二壘打，游擊手羅素(Addison Russel)打下3分，加上佐伯瑞斯特(Ben Zobrist)單場4安、2打點，僅管教士在8上反攻4分，但終場小熊還是以8比7險勝，不但成為本季大聯盟率先25勝的球隊，也追平1907年開季25勝6敗的隊史最佳成績。\\xa0小熊最近8連勝，隊史2次拿下世界大賽冠軍，就是在1907和1908年，本季賽前就被各方看好，開季至今也勢如破竹，一步一步朝睽違百年的世界大賽冠軍邁進。\\xa0先發左投雷斯特(Jon Lester)直到4局被厄普頓(Melvin Upton Jr.)敲出陽春砲，才被擊出第1支安打，他今投6局失3分，只被擊出4安，終於拿下本季他在主場的首勝，目前戰績4勝1敗。(鍾裕能／綜合報導)', 3642])\n",
      "259\n",
      "insert into news_entry(link,category,title,time,summary,view_cnt) values(?,?,?,?,?,?)\n",
      "dict_values(['http://www.appledaily.com.tw//realtimenews/article/forum/20160511/858495/死刑存廢的另一種觀點', '論壇', '死刑存廢的另一種觀點    ', '2016/05/11 12:07', '作者：呂岳桐\\xa0鄭傑的槍決，再度引起台灣是否繼續維持死刑的各方激辯，撇開是否為政治操作不談，我認為在面對死刑存廢的議題上，或許我們能用另一種角度思考。\\xa0首先，刑罰的意義應該在於：１.懲罰加害者２.預防潛在犯罪者３.補償受害者或遺族４.處理產生問題的原因\\xa0而我觀察到的是，無論死刑制度或是廢死制度，當發生遺憾事件的時候，他們都在用他們各自認為最適當的方式，去處理上述的四件事情。台灣在爭論廢死與否的兩造雙方，無非就是質疑對方的制度，在處理上述的項目時有多少的瑕疵與不完善。比方說廢死主張：死刑與再犯率並無顯著關係；贊成死刑主張：廢死無法補償受害者遺族心理上的感受等等。\\xa0其次，使用死刑或是廢死的地區，都有正反案例可循，這代表了問題其實並不在於「面對一個死刑犯，我們該不該取其生命？」，而是不管選擇了哪種制度，背後是否有一套適宜的配討措施，來針對上述的四個意義去做處理，進而爭取到更多人的認同與支持。\\xa0而且在這個世界上，至少在台灣，永遠不會出現一條讓全島人民都能接受的法律出現（何況涉及死刑的法律不只一條），尤其是牽扯到道德、正義、義務或分配時更是如如此，因為那是種價值的選擇，而沒有絕對的是非對錯。因此，一味質疑對方的道德感、同理心程度，或是在處理四個意義時的瑕疵是沒有意義的，因為沒有標準答案。\\xa0因此個人認為，廢死與否的層次不應癥結在爭論這種沒有標準答案的事情上，而該是更深層的，「在我們的民主體制中，多數人有沒有權力去決定一個人的生死？」的探究，以利了解自身真正的性向為何，以免發生不認為有權力，但卻支持死刑，或是認為有權利，卻反對死刑的矛盾邏輯。\\xa0簡單的說，其實死刑與廢死兩種論點，都在用它們自認最符合自己價值的方式去處理產生問題的原因。所以無論你認為死刑或廢死在處理這件事情上有多麼的糟糕，甚至根本沒有處理，擁護它的人還是會用他的價值告訴你他其實有做，而這就陷入我所謂沒有意義的爭論。\\xa0「多數人能不能決定一個人的生命？」本來就是個沒有標準答案的問題，只會因為同意或不同意這兩股力量在抗衡時誰取得優勢，進而讓死刑或廢死變成這個社會的遊戲規則，所以這只是對於生命價值觀的不同，在制度上並沒有絕對的優劣。也就是在廢死議題上，我認為無須浪費口舌在沒有標準答案的地方，而是該就更深層的哲學意義去尋求最大公約數，我們也會在探詢這個公約數的同時了解自己，進一步理解對方。而法律終究也只是一個群體中的優勢，為了某種共同目的所訂定的遊戲規則，所以當優勢方在這個深層問題的討論中有了共識，一套大家都能接受的新遊戲規則也就會自然而然的誕生。\\xa0《即時論壇》徵稿\\xa0你對新聞是否不吐不快，《蘋果日報即時新聞》新闢《即時論壇》，歡迎讀者投稿，對新聞時事表達意見。來稿請寄onlineopinions@appledaily.com.tw，文長以500到1000字為度，一經錄用，將發布在蘋果日報即時新聞區，唯不付稿酬。\\xa0請勿一稿兩投，本報有刪改權，當天未見報，請另行處理，不另退件或通知。', 1336])\n",
      "260\n",
      "insert into news_entry(link,category,title,time,summary,view_cnt) values(?,?,?,?,?,?)\n",
      "dict_values(['http://www.appledaily.com.tw//realtimenews/article/international/20160511/858499/文革浩劫50周年：《毛語錄》人人熟讀', '國際', '文革浩劫50周年：《毛語錄》人人熟讀 ', '2016/05/11 12:07', '被視為10年浩劫的文化大革命下周一滿50周年，而當時人手一本的「小紅書」《毛語錄》，收錄毛澤東近400句名言，包括「為人民服務」、「自力更生艱苦奮鬥」和「敢於鬥爭敢於勝利」等金句，成為文革時期的重要象徵之一。《毛語錄》全球印刷量僅次於 《聖經》，估計超過9億本，中文以外還有幾十種不同語言的譯本，在百多個國家出版，被譽為20世紀最流行書籍。當時為了讓解放軍方便攜帶，改成以64開本小本形式，並搭配標誌的紅色書皮，文化大革命時又稱「紅寶書」。1966年公開發行，成為毛澤東思想的象徵。《毛語錄》的推手是曾任毛澤東副手的中共中央委員會副主席林彪，為鼓吹活學活用毛澤東思想，1961年林彪授意解放軍報經常選登毛澤東的語錄。\\xa0當時坊間曾流傳「飯可以不吃、覺可以不睡、《毛語錄》不可不帶」，就連結婚和畢業證書都會印上毛主席語錄，反映當時中國社會對《毛語錄》的風靡程度。在當時社會的各個角落，小到杯子等日用品，大到學校教室和工廠車間裡的字幅，處處可見語錄裡的警句，就連結婚送禮也必少不了一本語錄，毛澤東還曾在天安門城樓上8次接見紅衞兵，當時他們人手一本《毛語錄》熱烈揮舞，成為難以抹滅的歷史性畫面。不過，隨着 1976年毛澤東逝世和文革結束，《毛語錄》熱潮減退，中宣部1979年宣布停止發行《毛語錄》。 （大陸中心／綜合外電報導）', 1087])\n",
      "261\n",
      "insert into news_entry(link,category,title,time,summary,view_cnt) values(?,?,?,?,?,?)\n",
      "dict_values(['http://www.appledaily.com.tw//realtimenews/article/animal/20160511/858173/奧少年！汪星人登山前後對比超爆笑', '動物', '奧少年！汪星人登山前後對比超爆笑', '2016/05/11 12:06', '說到出去玩，沒有一隻狗狗是不興奮的，但每次玩完上車還沒到家汪星人就先睡翻了。國外網友5/4在網站izismile上傳了自家狗狗登山前後的before&after照，登山前的汪星人一臉興奮地往車外看；但爬完山後的牠卻露出一臉快要往生的表情，呈現眼神呆滯的狀態。(程加敏/綜合報導)資料來源: http://izismile.com/2016/05/04/dog_before_vs_after_mountain_biking_2_pics-2.html更多內容請上毛愛蘋果粉絲團\\n要出去玩嗎?好期待~好期待~(翻攝izismile)近期內登山還是不要揪我好惹！(翻攝izismile)爬一天，我腿快斷了！(翻攝izismile)', 2843])\n",
      "262\n",
      "insert into news_entry(link,category,title,time,summary,view_cnt) values(?,?,?,?,?,?)\n",
      "dict_values(['http://www.appledaily.com.tw//realtimenews/article/politics/20160511/858448/A公務車給老公用\\u3000大林美女鎮長夫妻起訴', '政治', 'A公務車給老公用\\u3000大林美女鎮長夫妻起訴', '2016/05/11 12:06', '出身政治世家的嘉義縣大林鎮美女鎮長黃貞瑜（34歲），在2012年利用汰換鎮公所清潔隊環保稽查車機會，指派當時的未婚夫、行政室課員的李豐全（36歲）驗收，並開走使用，保險費、油料費、維修費也全報公帳，不法利益近52萬元，嘉義地檢署今天偵依貪污治罪條例圖利罪起訴倆人。\\xa0起訴指出，黃貞瑜夫婦涉嫌夫婦詐取加油油料，及使用環保稽查車圖利自己私人不法利益共51萬9681元。不過黃貞諭夫婦，偵辦時都矢口否認犯行。\\xa0起 訴書指，黃貞瑜為掩飾丈夫占用汰換舊環保稽查車，採購豐田汽車做環保稽查車的事實，2013年1月30日還指示行政室簽辦，將稽查車與原黃貞瑜使用的鎮長座車對調使用，但黃貞瑜未將鎮長座車交回清潔隊，仍由司機駕駛作鎮長公務車，環保稽查車則授意變更為鎮長座車，續停家中，供李豐全上下班及假日私用。\\xa0起訴書指，黃貞瑜夫婦公車私用謀取不法利益，包括2013年1月3日至2015年2月8日的核銷油料費10萬8080元，公務車定期保養維修費3萬3442元， 公務車保險費5萬3498元，車輛已折舊43萬2741元，核算黃貞瑜夫婦詐取加油油料費10萬8080元，使用環保稽查車圖利自己不法利益為5l萬 9681元。全還可上訴。（徐彩媚／嘉義報導）\\xa0\\xa0\\n【想知道更多，一定要看……】「最美鎮長」涉貪\\u3000媽媽也曾涉賄停職黃貞瑜平時做風相當親民。翻攝黃貞瑜臉書', 22333])\n",
      "263\n",
      "insert into news_entry(link,category,title,time,summary,view_cnt) values(?,?,?,?,?,?)\n",
      "dict_values(['http://www.appledaily.com.tw//realtimenews/article/politics/20160511/858489/勞動條件差\\u3000民團轟：護理人員超時嚴重', '政治', '勞動條件差\\u3000民團轟：護理人員超時嚴重', '2016/05/11 12:06', '民進黨立委林淑芬、台灣勞陣秘書長孫友聯、台灣護理產業工會理事長盧孳艷上午舉行記者會，公布台灣護理人員的工時現況，批評勞動條件仍然十分惡化。據台灣護理產業工會調查，雖目前法定工時每周四十小時，但是高達78%醫護人員每周工時超過40小時，甚至高達90小時，區域醫院平均更高達47小時，負責門診的護理人員則有48.3小時。\\xa0盧孳艷痛批，除了工時過長，更有將近68.7%的護理人員天天加班，但是卻僅有29.2%依照《勞動基準法》給予加班費，45.7%遭要求累積加班時數，甚至醫院還要求月結加班時數來規避法律。盧孳艷質疑，血汗醫院遭成護理人員身心俱疲，更是扭曲法律的制度，連合理的工時補償都沒給予醫護人員，嚴重危害民眾的醫護品質。（黃信維／台北報導）', 698])\n",
      "264\n",
      "insert into news_entry(link,category,title,time,summary,view_cnt) values(?,?,?,?,?,?)\n",
      "dict_values(['http://www.appledaily.com.tw//realtimenews/article/animal/20160511/858120/前面明明好歡樂第30秒卻讓人落淚', '動物', '前面明明好歡樂  第30秒卻讓人落淚', '2016/05/11 12:05', '日前The Little Things網站分享了一則廣告，廣告溫馨描述主人與狗狗的情感，互相陪伴與依賴，一起外出遊玩、在家依偎，一天，主人和朋友外出飲酒作樂，狗狗獨自在家等待主人歸來，然而日落月升，趴在門口的狗卻等不到主人歸來。這隻啤酒廠商推出的感人廣告，明白點出酒駕帶來的最大傷害，是那些在家裡默默等待你歸來的家人，而廣告最後也讓人明白，避免酒駕就能平安回到家人身邊。(戴伊妏／綜合報導)資料來源：The Little Things網站更多內容請上毛愛蘋果粉絲團\\n一天，主人和朋友外出飲酒作樂，狗狗獨自在家等待主人歸來，然而日落月升，趴在門口的狗卻等不到主人歸來。', 2935])\n",
      "265\n",
      "insert into news_entry(link,category,title,time,summary,view_cnt) values(?,?,?,?,?,?)\n",
      "dict_values(['http://www.appledaily.com.tw//realtimenews/article/animal/20160511/858122/手遊玩多了\\u3000腦筋動到老舊雞舍上', '動物', '手遊玩多了\\u3000腦筋動到老舊雞舍上', '2016/05/11 12:05', '農場類型手遊熱門，可以打造農場與開心農場、卡通農場、迷你農場等遊戲吸引無數網友，滑滑手指種田、蓋農舍，滿足遠離都市、下鄉種田的幻想。國外一位網友，則是親自動手改造老舊雞舍，重新木作、油漆、上鐵網，將農舍變身可愛美觀的雞舍喔！（戴伊妏／綜合報導）資料來源：https://www.reddit.com更多內容請上毛愛蘋果粉絲團\\n國外一位網友親自動手將老舊雞舍大改造。不但重上木板門窗，還重新刷上油漆。老舊雞舍改造成這麼可愛的模樣，是不是很像卡通農場遊戲裡的夢幻雞舍呢？', 1165])\n",
      "266\n",
      "insert into news_entry(link,category,title,time,summary,view_cnt) values(?,?,?,?,?,?)\n",
      "dict_values(['http://www.appledaily.com.tw//realtimenews/article/animal/20160511/858171/守護寶寶！貓咪緊貼即將臨盆女主人', '動物', '守護寶寶！貓咪緊貼即將臨盆女主人', '2016/05/11 12:05', '平時傲嬌的喵星人，透過敏銳的觀察，往往會對懷孕的主人特別體貼，國外一隻虎斑貓Sparta在主人臨盆前，竟然變得比平常更黏主人，像是想要守護主人還肚子中的寶寶一樣。YouTube頻道4/28上傳了這段影片，主人在影片介紹中提到，Sparta在女主人快臨盆前，像是忽然意識到「她正在懷孕」這件事，每天都要跟在女主人身旁，甚至要整隻貓壓在她的身上，一起「陪睡」。(程加敏/綜合報導)資料來源: https://www.youtube.com/watch?v=FDxjb2Cko0c更多內容請上毛愛蘋果粉絲團\\n除了Sparta 外，家中其他的狗狗貓貓也都圍繞著她。(翻攝YouTube)', 1805])\n",
      "267\n",
      "insert into news_entry(link,category,title,time,summary,view_cnt) values(?,?,?,?,?,?)\n",
      "dict_values(['http://www.appledaily.com.tw//realtimenews/article/animal/20160511/857612/沒聽過樹懶叫也要知道樹懶長怎樣', '動物', '沒聽過樹懶叫 也要知道樹懶長怎樣', '2016/05/11 12:04', '近期上映的電影《動物方程式》讓樹懶一炮而紅，動作超緩慢的牠們也是哺乳類動物，移動的速度只有每分鐘4公尺(0.24km/h)的速度，若是在地面上更只有每分鐘公尺(0.12km/h)的速度，所以不慎掉到地面，容易成為其他肉食性動物的獵物！而樹懶天敵是角鵰，可以迅速且無聲無息將樹懶抓起，這時候你想聽樹懶叫也來不及了。 (王彥婷／台北報導)更有趣報導，請上副刊Vintage School @古庫社團，或上吃喝玩樂蘋果花粉絲團', 1429])\n",
      "268\n",
      "insert into news_entry(link,category,title,time,summary,view_cnt) values(?,?,?,?,?,?)\n",
      "dict_values(['http://www.appledaily.com.tw//realtimenews/article/animal/20160511/858117/狗寶寶版的旋轉床鈴', '動物', '狗寶寶版的旋轉床鈴', '2016/05/11 12:04', \"They're so happy!\\xa0旋轉音樂床鈴是陪伴嬰兒的玩具之一，但你知道嗎？這竟然有汪星人版呢？網站imgur於5/10有網友分享一段影片，影片中的一群幼犬開心地玩耍，仔細一看竟然是變形版的床鈴，主人將寶特瓶和鐵罐，甚至是可愛的布偶，全部綁在支架上，讓狗寶寶們可以玩耍，該影片吸引不少人觀賞，目前已經累積51萬人點閱！ (黃馨儀／綜合報導)\\xa0更多內容，請上毛愛蘋果粉絲團\\xa0\\xa0\\n這根本是汪汪版的旋轉音樂床鈴。圖片／翻攝自網站imgur\", 1084])\n",
      "269\n",
      "insert into news_entry(link,category,title,time,summary,view_cnt) values(?,?,?,?,?,?)\n",
      "dict_values(['http://www.appledaily.com.tw//realtimenews/article/life/20160511/857825/【健康問蘋果】室內工作也要擦防曬乳？', '生活', '【健康問蘋果】室內工作也要擦防曬乳？', '2016/05/11 12:03', '網友艾琳問：夏天怕曬黑，聽聞即便在室內工作，也要選擇防曬係數（SPF）高的防曬乳，防曬效果較好，是真的嗎？\\xa0台北長庚醫院皮膚科主治醫師黃毓惠表示，民眾選購防曬乳時常陷入防曬係數（SPF）愈高愈好的迷思。事實上，上班族日常防曬只需塗抹SPF15的防曬乳，即可過濾93％的中波紫外線，避免皮膚曬紅、曬傷。\\xa0她說，戶外工作者或民眾到海邊戲水時，才需塗抹SPF30以上的防曬乳，不論是室內上班族或戶外工作者，重點是防曬乳過濾紫外線的效果會隨時間遞減，因此每隔2至3小時應補充，降低皮膚受傷風險。\\xa0《蘋果》即時新聞推出「健康問蘋果」專欄，解答讀者對健康方面的疑問，歡迎寫信至life@appledaily.com.tw。\\xa0來看更多「健康問蘋果」！', 2199])\n",
      "270\n",
      "insert into news_entry(link,category,title,time,summary,view_cnt) values(?,?,?,?,?,?)\n",
      "dict_values(['http://www.appledaily.com.tw//realtimenews/article/animal/20160511/858117/狗寶寶版的旋轉床鈴', '動物', '狗寶寶版的旋轉床鈴', '2016/05/11 12:04', \"They're so happy!\\xa0旋轉音樂床鈴是陪伴嬰兒的玩具之一，但你知道嗎？這竟然有汪星人版呢？網站imgur於5/10有網友分享一段影片，影片中的一群幼犬開心地玩耍，仔細一看竟然是變形版的床鈴，主人將寶特瓶和鐵罐，甚至是可愛的布偶，全部綁在支架上，讓狗寶寶們可以玩耍，該影片吸引不少人觀賞，目前已經累積51萬人點閱！ (黃馨儀／綜合報導)\\xa0更多內容，請上毛愛蘋果粉絲團\\xa0\\xa0\\n這根本是汪汪版的旋轉音樂床鈴。圖片／翻攝自網站imgur\", 1084])\n",
      "271\n",
      "insert into news_entry(link,category,title,time,summary,view_cnt) values(?,?,?,?,?,?)\n",
      "dict_values(['http://www.appledaily.com.tw//realtimenews/article/life/20160511/857825/【健康問蘋果】室內工作也要擦防曬乳？', '生活', '【健康問蘋果】室內工作也要擦防曬乳？', '2016/05/11 12:03', '網友艾琳問：夏天怕曬黑，聽聞即便在室內工作，也要選擇防曬係數（SPF）高的防曬乳，防曬效果較好，是真的嗎？\\xa0台北長庚醫院皮膚科主治醫師黃毓惠表示，民眾選購防曬乳時常陷入防曬係數（SPF）愈高愈好的迷思。事實上，上班族日常防曬只需塗抹SPF15的防曬乳，即可過濾93％的中波紫外線，避免皮膚曬紅、曬傷。\\xa0她說，戶外工作者或民眾到海邊戲水時，才需塗抹SPF30以上的防曬乳，不論是室內上班族或戶外工作者，重點是防曬乳過濾紫外線的效果會隨時間遞減，因此每隔2至3小時應補充，降低皮膚受傷風險。\\xa0《蘋果》即時新聞推出「健康問蘋果」專欄，解答讀者對健康方面的疑問，歡迎寫信至life@appledaily.com.tw。\\xa0來看更多「健康問蘋果」！', 2229])\n",
      "272\n",
      "insert into news_entry(link,category,title,time,summary,view_cnt) values(?,?,?,?,?,?)\n",
      "dict_values(['http://www.appledaily.com.tw//realtimenews/article/animal/20160511/857943/萌噠噠\\u3000這些撲倒讓人融化', '動物', '萌噠噠\\u3000這些撲倒讓人融化', '2016/05/11 12:03', '勞累一天回到家後，被毛小孩團團圍住是一件幸福的事情，尤其是蜂擁而至的擁抱可以慰勞一天的辛勞，就連傲嬌的喵星人也被攻陷，快來看以下這些萌噠噠的撲倒吧！ (黃馨儀／綜合報導)\\xa0資料來源：網站youtube\\xa0更多內容，請上毛愛蘋果粉絲團\\xa0\\xa0\\n萌噠噠的汪式撲倒~相當可愛。圖片／翻攝自網站youtube回到家抱著汪汪們，所有的辛勞的一掃而空。圖片／翻攝自網站youtube主人完全被淹沒~。圖片／翻攝自網站youtube', 4830])\n",
      "273\n",
      "insert into news_entry(link,category,title,time,summary,view_cnt) values(?,?,?,?,?,?)\n",
      "dict_values(['http://www.appledaily.com.tw//realtimenews/article/strange/20160511/858483/【第一手試開】ToyotaVios新CVT變速箱到底好不好用？答案是…', '搜奇', '【第一手試開】Toyota Vios新C...', '2016/05/11 11:59', 'Toyota算夠有誠意的了，原本我們以為它只是將Vios針對胎壓偵測法規作了對應，沒想到，乾脆也把我們唸了許久的四速自排變速箱給換了，換上一具CVT無段變速箱，而且還一不做二不休地把新的1.5升Dual VVT-i雙連續可變汽門正時2NR-FE引擎裝到Vios車上。厚、厚，這下Vios雖然沒有拉皮，但內涵卻已經大大地不同了，那開起來新CVT變速箱到底好不好用啊？來，我們來告訴你答案是：大部分的路段省油好用，中高轉速行駛加速也比較精緻一些。不過，一般道路行駛CVT變速箱無頓挫、更平暢，不代表它開起來完美無缺，它的缺點就是走山路時，協助動力輸出的反應有點溫吞，引擎轉速4000轉前的爬升有夠慢，比原來四速自排還慢，得過4000轉扭力迸發才會比較大一點。總之，像Vios這樣小排氣量車款運用上CVT無段變速箱，在絕大部分的道路上行駛，它的順暢度比原本的四速自排要讚，中高轉速域表現較為滑溜、也不會有檔位換來換去的毛躁嘶吼聲，可是面對山路爬坡經常用到的再加速力道傳遞，它的周全就沒那麼好了。(陳宏銘/台北報導)\\xa0副刊中心粉絲團：吃喝玩樂蘋果花\\xa0想看更多有趣車訊，快上轟轟轟 就是愛車\\xa0\\xa0\\xa0\\n無段變速檔位銜接順、無頓挫感。可是一旦山路遇坡，油門下來之後的再加速，遞力時機慢、印象溫吞。翁玉信攝1.5升Dual VVT-i雙連續可變汽門正時新引擎，讓平均油耗從每公升汽油跑15.6公里提升至17.4公里。翁玉信攝Super CVT-i無段變速系統還規劃有7速手自排功能，它的好處就是虛擬檔位變換無落差，動力銜接性好。翁玉信攝車室內裝刻意經過美化，雖然塑膠感仍重，但至少有立體層次感，沒辦法，俗仔車質感不可能高。翁玉信攝前座空間實際乘坐還OK，後座頭部餘裕小，腿膝的活動空間沒有雙生車Yaris、和對手Honda City優。翁玉信攝', 2888])\n",
      "274\n",
      "insert into news_entry(link,category,title,time,summary,view_cnt) values(?,?,?,?,?,?)\n",
      "dict_values(['http://www.appledaily.com.tw//realtimenews/article/life/20160511/858492/設計之都很無感\\u3000謝佩霓：3、4年後就能看到價值', '生活', '設計之都很無感\\u3000謝佩霓：3、4年後就能看...', '2016/05/11 11:58', '台北市今年舉行世界設計之都，預計投入10億多經費，但很多市民甚至市長柯文哲都不清楚設計之都做了什麼。文化局長謝佩霓今表示，市長所指的應該是他上任前跟上任的第一年，但現在已感受到設計可能性與可貴性，日前還指示文化局看如何更讓設計融入市民的生活；對無感的批評，她坦言設計需要時間累積，過往的首爾、赫爾辛基等，也是在辦理後第3、4年，「終於大家看到它脫胎換骨的價值」。\\xa0謝表示，這些城市舉行設計之都，都是用國家的高度在操作，以國家整體政策做訴求，相對資訊會比較有露出，台北做為首善之都，也可以用首都高度展現，但目前的表現應該不止於此，坦言還有改進的空間。\\xa0對市長和市民無感的批評，謝表示「市長的確改受到設計可能性和可貴姓」，日前也責成文化局，希望再多思考怎麼讓各局處能有更多的連結，另外把設計融入到市民、執政者的生活，成為未來大家重要的思考、成為執政者對城市發展的新想像，這都是設計之都最終的目的。（陳思豪/台北報導）', 1515])\n",
      "275\n",
      "insert into news_entry(link,category,title,time,summary,view_cnt) values(?,?,?,?,?,?)\n",
      "dict_values(['http://www.appledaily.com.tw//realtimenews/article/life/20160511/858497/亞東母公司曾陷財務危機\\u3000業者：解決中', '生活', '亞東母公司曾陷財務危機\\u3000業者：解決中', '2016/05/11 11:58', '亞東電信無預警停止國際電話卡業務，而專營070節費電話母公司全網通去年也出現財務危機，負債高達13億元，讓吳伯雄次子、台北市議員吳志剛，因身兼公司保證人讓房產遭法拍，今全網通董事長林瑋軒表示，已積極尋找金主投資，現資金缺口已縮小至2億元，下月起也有新合作案推出。\\xa0吳志剛去年因投資全網通，並身兼公司保證人，結果因全網通經營不善，傳揹債10億元，旗下淡水房產也遭法拍，據了解目前為止都還未拍出。\\xa0林瑋軒表示，這一年來，已積極引入包含港資在內資金，也積極協調債權人，盡量不要連累到吳志剛，不要讓吳的財產受到損傷，而過去吳就是單純投資角色，由他進行實際經營，對於吳也非常抱歉，現相關債權人也暫沒有其他動作。\\xa0林瑋軒表示，目前公司資金缺口僅剩2億元，和一年多前相比僅剩十分之一左右，許多投資人仍看好070業務仍在台仍大有可為，預計很快其他資金也會到位。\\xa0林表示，為了節約成本，現在人力確實已緊縮，最多時曾有四、五十名員工，現僅剩十餘位，不過接下來將有新業務拓展，後續人力也可能再拓展。\\xa0林瑋軒表示，070業務是台灣少數可結合通訊軟體電信執照，過去曾和揪科、XONO等通訊軟體合作，提供包含市話、國際電話和行動電話通話優惠利率，而全網通也是少數持有執照業者，也是少數非財團成立公司。\\xa0林表示，當初走太快了，在資金上沒有妥善規劃才出現財務危機，但對於相關業務前景仍很有信心，已談妥新的合作方案，將和其他合作廠商推出低於市場水準的通話資費，相關內容還需保密，但下月就會推出，甚至和揪科後續也還有合作計畫。（朱正庭／台北報導）', 1120])\n",
      "276\n",
      "insert into news_entry(link,category,title,time,summary,view_cnt) values(?,?,?,?,?,?)\n",
      "dict_values(['http://www.appledaily.com.tw//realtimenews/article/life/20160511/858455/她來台灣2年\\u3000大嘆台灣女生真辛苦！', '生活', '她來台灣2年\\u3000大嘆台灣女生真辛苦！', '2016/05/11 11:57', '女網友在《Dcard》發文，她有感而發地寫下「我不是台灣人，但是來台灣也快接近2年了，我真的很佩服各位台灣的女生，妳們是怎麼活過來？」\\xa0女網友說，班上某位女同學嫌自己太胖、腿太粗，也說自己因為有腿、手毛常招來嘲笑，當女網友聽到後就感嘆這位女同學明明很瘦、根本像筷子了！而且，在很多國家都認為手腳毛長的都是美女才有的，「可是在台灣，美女都被標準化，追求的都是同一個樣子，如果沒在設下的標準內，就會從小遭受言語霸凌」。\\xa0這篇獲得很多人的討論「在台灣還有更多問題，成績好就被罵說是書呆子，弱雞…」、「台灣人的審美觀太狹隘了」、「白富美」、「很多人對肉肉女生的態度不好啊…動不動就要嘲笑人家」、「胖=懶」（即時新聞中心／綜合報導）\\xa0\\n女網友發文，翻攝網路', 37681])\n",
      "277\n",
      "insert into news_entry(link,category,title,time,summary,view_cnt) values(?,?,?,?,?,?)\n",
      "dict_values(['http://www.appledaily.com.tw//realtimenews/article/sports/20160511/858484/【有片】柯瑞值不值全票MVP？看各式神蹟', '體育', '【有片】柯瑞值不值全票MVP？看各式神蹟', '2016/05/11 11:56', '金州勇士一哥柯瑞(Stephen Curry)成功蟬聯MVP(Most Valuable Player，最有價值球員)，也創紀錄成為史上首位全票當選者。就數據來看，他當之無愧，以下是他本季驚人成就。\\xa01. 各式各樣3分球紀錄柯瑞本季例行賽3分球出手886次、命中402球都是NBA紀錄，但最可怕的是3分球命中率還高達45.4%，這也是所有單季3分球出手超過500次球員裡的最高命中率紀錄。\\xa0此外，單場投進3、4、5、6、7、8、9、10、11顆3分球的場數紀錄也全被他刷新。他有許多3分球出手投射距離都超過25呎(約7.6公尺)，新聞媒體甚至為他新創LOGO Shot(中圈投籃)名詞。甚至有不少球迷打趣，NBA該考慮取消3分球或增設4分球。\\xa02.50-40-90俱樂部賽季投籃命中率50%、3分球命中率40%、罰球命中率90%是評斷射手的高門檻，NBA歷來僅9人完成13次。\\xa0他本季投籃命中率50.4%、3分球命中率45.4%、罰球命中率90.8%，更是繼勇士現任教練柯爾(Steve Kerr)、前太陽名將納許(Steve Nash)後，達成50-45-90第3人，此外柯瑞場均30.1分也是50-40-90俱樂部中最高紀錄。\\xa03.全能控衛柯瑞除場均30.1分拿下例行賽得分王，場均2.14次抄截也傲視聯盟，場均6.7助攻在全聯盟也能排到第10。\\xa0此外，NBA在1997年新創的聯想值(+/-)，亦即球員上場後到他下場時，球隊領先或落後的分差，柯瑞整季達+1022，這代表他本季79場出賽為球隊帶來的效益。全聯盟領先他的只有勇士隊友格林(Draymond Green)，+1070。他們2人也是統計這項數據以來史上前2名。\\xa0(王毓健／綜合報導)\\n【想知道更多，一定要看……】 【影片】柯神再創紀錄\\u3000史上首位全票當選MVP 【有片】雙星飆58分\\u3000雷霆客場強拔馬刺聽牌', 11108])\n",
      "278\n",
      "insert into news_entry(link,category,title,time,summary,view_cnt) values(?,?,?,?,?,?)\n",
      "dict_values(['http://www.appledaily.com.tw//realtimenews/article/entertainment/20160511/858422/女主播喝醉還直播新聞\\u3000東森「會檢討」', '娛樂', '女主播喝醉還直播新聞\\u3000東森「會檢討」', '2016/05/11 11:55', '法務部昨晚閃電執行鄭捷槍決，\\xa0東森新聞主播陳柔安被叫回公司支援，在臉書粉絲專頁開新聞直播。結果她竟自爆「有人發現我是醉的嗎？至少喝了3杯威士忌」，坦言「被伏法殺得措手不及。」\\xa0隨即刪文，但已被網友擷圖分享，網友批她「很有事」、「喝醉了還播新聞」、「我能相信妳嗎」、「失去主播專業」。\\xa0也有人替陳柔安緩頰，「說不定她只是下班喝點酒，根本不知道會有突發新聞啊！」對此東森新聞部總監孫嘉蕊回應:「昨天柔安有報備，主管評估狀況不影響直播，因此派遣工作，直播過程也正常，無不當表現。但內部仍會針對此事件檢討，對網路直播再做規範。」（蔡維歆／台北報導）\\xa0\\xa0\\n【想知道更多，一定要看……】【有片】離譜！女主播自爆喝醉\\u3000被召回播新聞', 25429])\n",
      "279\n",
      "insert into news_entry(link,category,title,time,summary,view_cnt) values(?,?,?,?,?,?)\n",
      "dict_values(['http://www.appledaily.com.tw//realtimenews/article/politics/20160511/858464/回應國台辦\\u3000童振源：健康是基本人權普世價值', '政治', '回應國台辦\\u3000童振源：健康是基本人權普世價...', '2016/05/11 11:55', '世界衛生組織（WHO）秘書處寄給台灣的的世界衛生大會（WHA）邀請函竟加註聯合國大會第2758號決議及「一個中國原則」。中國國台辦發言人馬曉光今表示，挑戰國際社會公認的「一中原則」，相關的安排將難以為繼。準行政院發言人童振源今表示，依據世界衛生組織憲章，健康是基本人權，是普世價值，不因種族、宗教、政治信仰、經濟或社會情境而有所分別，而台灣在國際社會務實而有意義的參與，不僅攸關全體國人的健康權益，更是世界衛生及防疫體系中不可或缺的一環。\\xa0童振源表示，新政府對於出席WHA的立場與態度很清楚，他也做過多次的說明，就是依據世界衛生組織憲章，健康是基本人權，是普世價值，不因種族、宗教、政治信仰、經濟或社會情境而有所分別，而台灣在國際社會務實而有意義的參與，不僅攸關全體國人的健康權益，更是世界衛生及防疫體系中不可或缺的一環。他說，「我們相信臺灣繼續參與WHA，將會提升臺灣及世界人民的健康與福祉。」（林修卉／台北報導）\\xa0\\xa0\\n【想知道更多，一定要看……】國台辦：兩岸若現危機\\u3000改變者承擔責任', 1358])\n",
      "280\n",
      "insert into news_entry(link,category,title,time,summary,view_cnt) values(?,?,?,?,?,?)\n",
      "dict_values(['http://www.appledaily.com.tw//realtimenews/article/local/20160511/858444/當車手賺6千\\u3000少年自豪「比打工好賺」', '社會', '當車手賺6千\\u3000少年自豪「比打工好賺」', '2016/05/11 11:54', '詐騙集團吸收少不經事的未成年當車手，簡直可惡至極！台中市龍井區上周發生陳姓婦人誤信詐騙集團說詞，遭騙走80萬現款案件，警方調閱監視器循線追查，前 日在逢甲商圈一家速食店內逮捕2名負責取款的少年車手，少年供稱，只要依據上游指示取款，就可輕鬆賺到6000元，「比打工還好賺」，毫無悔意說詞令警方不禁 搖頭：「為了蠅頭小利就出賣自己清白，少年ㄟ划不來啦！」\\xa0台中市龍井區一名陳姓婦人，上周五接獲詐騙集團電話，誆稱其子因替友人作保積 欠80萬元被押走，要求陳姓婦人交付款項贖回兒子，陳婦一時心慌急奔銀行分二次共提領現金80萬元，並依對方指示將款項放置在龍新路107巷口，事後陳婦 與兒子取得連繫才驚覺受騙，返回現場時鉅款已被取走，氣急敗壞向警方報案。\\xa0轄區烏日分局龍井分駐所立即調閱銀行及周遭路口監視器，鎖定二名取走鉅款的黑衣少年，依據二人搭乘的計程車循線追查，前天上午在西屯區福星路上的麥當勞速食店內，逮捕與取款當天穿著同一件黑色上衣的葉姓少年（15歲），及另名周姓少年（16歲）。\\xa0葉 姓少年坦承，上週五接獲詐騙集團上手指示，與另名蘇姓少年搭乘計程車前往烏日區取款，得手後由在逃蘇姓少年將80萬元款項交回上手，自己僅分得6000 元，前天上午與葉姓少年在西屯區麥當勞內待命等候電話指示，不料就遭警方逮捕，警方訊後將二名少年送往少年法庭審理，並繼續追查在逃蘇姓少年及上游詐騙集 團。（王煌忠／台中報導）\\xa0\\xa0\\xa0\\xa0\\xa0\\xa0\\xa0\\xa0\\xa0\\xa0\\xa0\\xa0\\xa0\\xa0\\xa0\\xa0\\xa0\\xa0\\xa0\\xa0\\xa0\\xa0\\xa0\\xa0\\xa0\\xa0\\xa0\\xa0\\xa0\\xa0\\xa0\\n葉姓少年車手穿著黑色上衣，胸前印有明顯紅色圖案，遭警方鎖定。翻攝畫面', 4488])\n",
      "281\n",
      "insert into news_entry(link,category,title,time,summary,view_cnt) values(?,?,?,?,?,?)\n",
      "dict_values(['http://www.appledaily.com.tw//realtimenews/article/local/20160511/858260/【有片】鄭捷伏法遺體送桃園\\u3000家屬今認領', '社會', '【有片】鄭捷伏法遺體送桃園\\u3000家屬今認領', '2016/05/11 11:53', '（更新：新增影片）\\xa0北捷殺人案兇嫌鄭捷，於昨天晚間8時47分在土城看守所槍決，在執行檢察官的監督下，3槍伏法，鄭捷的遺體在伏法後，由殯葬業者用大體運送車運送離開，原本以為遺體會運送至就近的板橋殯儀館，但是車輛開往國道一路南下，昨天晚間法務部證實，鄭捷遺體送往中壢殯儀館冰存，已經通知家屬今天白天至殯儀館認領。\\xa0承辦的葬儀社老闆在鄭捷伏法後，不斷接到電話有人詢問，但是由於有簽訂保密協定，在個人臉書裡只回答：「在冰庫、、在冰庫、在冰庫說了三次夠清楚了吧！」希望大家不要再打給他了，冰存何處保密到家，至於鄭捷的靈位擺放何處，還有待家屬認領後由家屬決定。（突發中心／桃園報導）\\xa0發稿時間：06：10更新時間：11：53\\xa0\\n承辦的葬儀社老闆臉書抱怨不要再打給他了。翻攝畫面法務部表示遺體運送至中壢殯儀館冰存。突發中心攝', 272274])\n",
      "282\n",
      "insert into news_entry(link,category,title,time,summary,view_cnt) values(?,?,?,?,?,?)\n",
      "dict_values(['http://www.appledaily.com.tw//realtimenews/article/strange/20160511/858452/豔陽草地好風光\\u3000裸體四腳獸盡情野合', '搜奇', '豔陽草地好風光\\u3000裸體四腳獸盡情野合', '2016/05/11 11:52', \"$('#popup_18').show();\\n\\n 在英國唐卡斯特學院(Doncaster College)附近的一處草叢邊，近日發現一對男女變成裸體四腳獸，在光天化日之下竟然當場野合，完全忽略旁人的存在。\\xa0據英國《每日郵報》報導，這對男女就在一處提存款機的後方寬衣解帶，躺在草地上盡情忘我做愛，目擊者則透過鐵網偷拍這對男女的猥褻行徑。報導也指出，這對男女做愛的地點，除了鄰近學校，附近還有火車經過，鄰近市區不遠。（施旖婕／綜合外電報導）\\n目擊者則透過鐵網偷拍這對男女的猥褻行徑。翻自《每日郵報》\", 22766])\n",
      "283\n",
      "insert into news_entry(link,category,title,time,summary,view_cnt) values(?,?,?,?,?,?)\n",
      "dict_values(['http://www.appledaily.com.tw//realtimenews/article/sports/20160511/858479/連5場登板無失分\\u3000曹錦輝第4場救援成功', '體育', '連5場登板無失分\\u3000曹錦輝第4場救援成功', '2016/05/11 11:50', '效力奧克拉荷瑪道奇隊的旅美投手曹錦輝，今天對遊騎兵3A圓石隊(Round Rock)之戰第9局登板，順利讓對手3上3下，取得個人本季第4場救援成功。曹錦輝此役後援1局，面對3人次，投10球(8好2壞)，飆出1次三振，目前戰績1勝1敗4救援成功，防禦率4.15，從4月30日已連5場出賽0失分。(姚瑞宸／綜合報導)', 4688])\n",
      "284\n",
      "insert into news_entry(link,category,title,time,summary,view_cnt) values(?,?,?,?,?,?)\n",
      "dict_values(['http://www.appledaily.com.tw//realtimenews/article/finance/20160511/858473/宏碁攜手青葡萄\\u3000搶吃東北教育雲', '財經', '宏碁攜手青葡萄\\u3000搶吃東北教育雲', '2016/05/11 11:47', '宏碁跟深圳青葡萄科技合作桌面虛擬化解決方案，期望帶動中國東北電子化教室教育翻轉，利用桌面雲系統，每個教室只要一台雲教室主機設備，就能相當擁有數10台電腦主機，提供個人化專屬電腦桌面環境，無線環境下也能在平板或顯示器、AIO等裝置上使用。\\xa0宏碁5月參加瀋陽中國教育裝備行業協會舉辦的「第70屆中國教育裝備展示會」，以「身身歷其境，進入桌面雲的世界」為主題參展，宏碁跟深圳青葡萄科技合作展出宏碁桌面雲，宏碁雲計算中心總經理聞賢表示，該系統不止是鎖定教育市場，包括企業政府也都是目標行業。（王郁倫／台北報導）', 818])\n",
      "285\n",
      "insert into news_entry(link,category,title,time,summary,view_cnt) values(?,?,?,?,?,?)\n",
      "dict_values(['http://www.appledaily.com.tw//realtimenews/article/local/20160511/858431/鄭捷伏法後\\u3000人渣文本預告「還沒結束」', '社會', '鄭捷伏法後\\u3000人渣文本預告「還沒結束」', '2016/05/11 11:45', '北捷殺人案兇嫌正傑昨天伏法，再度引起社會大眾討論。作家人渣文本在臉書分享一篇文章「周偉航／鄭捷案還沒結束」，他提出三個問題，解釋為何鄭捷案還沒結束。\\xa0首先是「鄭捷留下第一個問題，是隨機殺人的成因到底為何，我們還是不清楚。」，人渣文本認為，由於沒人對鄭捷進行相關研究「然後他就死掉了」，這對於解決後續的隨機殺人完全沒幫助，也讓大家「只好繼續保持著無知的狀態，來面對下一起隨機殺人。」\\xa0第二，是犯罪者的教化問題。人渣文本提到鄭捷在最後一次開庭說的幾點個人看法，認為「台灣的監獄，如果只是把人關一關，啥都沒做，「懲罰以快人心」就好，那麼只是把「普通炸彈」改成「定時炸彈」，時間一到放出來，還是會爆炸。」、「活在這樣的世界，你很開心嗎？」。\\xa0最後則是「社會信任的機會成本已高到很難支應」，他認為鄭捷隨機殺人破壞的人對陌生人之間的信任，「讓我們只能花錢來建構防禦體系」、「但網蓋得再密，還是會有漏網的隨機殺人者，我們就只能砸下更多的成本，直到有一天所有人付不起。」(葉國吏/綜合報導)', 22264])\n",
      "286\n",
      "insert into news_entry(link,category,title,time,summary,view_cnt) values(?,?,?,?,?,?)\n",
      "dict_values(['http://www.appledaily.com.tw//realtimenews/article/life/20160511/858474/【央廣RTI】穆斯林祈禱室國道清水服務區也有了', '生活', '【央廣RTI】穆斯林祈禱室  國道清水服...', '2016/05/11 11:45', '本內容由中央廣播電臺提供\\xa0\\xa0 \\xa0 \\xa0 \\xa0交通部國道高速公路局今天(11日)首度啟用設置在台中清水服務區的「穆斯林祈禱室」。這是台灣繼桃園機場、台北火車站、高鐵台中站之後，第4個在重要交通場站設置穆斯林祈禱室的地方，希望打造出更友善穆斯林的旅遊環境，迎接佔全球旅遊市場達1成的穆斯林國際觀光客來台旅遊。\\xa0 \\xa0 \\xa0 \\xa0根據統計，全球穆斯林旅客一年高達1億1,700萬人次，旅遊商機上看1,500億美元，佔全球旅遊市場的1成。為了吸引穆斯林旅客來台觀光，交通部從4年前開始，逐步推動友善穆斯林的旅遊環境，也讓穆斯林來台人數逐年成長，去年已逾20萬人次，較前年成長1成。新加坡伊斯蘭旅遊網站新月評等與萬事達卡更連續2年，將台灣列為「全球十大非穆斯林組織國家最佳旅遊地」。\\xa0 \\xa0 \\xa0 \\xa0為了擴大成效，國道高速公路局11日也在台中清水服務區，啟用國道服務區第一個穆斯林祈禱室，成為台灣繼桃園機場、台北火車站、高鐵台中站之後，第4個在重要交通場站設置穆斯林祈禱室的地方。對於清水服務區設置的穆斯林祈禱室，中國回教協會秘書長馬超彥盛讚，國際間也只有在馬來西亞或沙烏地阿拉伯等虔誠的回教國家，才能在國道上見到穆斯林祈禱室。加上清水服務區設置的祈禱室又相當美觀、舒適、簡潔，堪稱國際的表率。(繼續閱讀)', 597])\n",
      "287\n",
      "insert into news_entry(link,category,title,time,summary,view_cnt) values(?,?,?,?,?,?)\n",
      "dict_values(['http://www.appledaily.com.tw//realtimenews/article/3c/20160511/858071/吉他新手別怕怕\\u3000周六神來教', '3C', '吉他新手別怕怕\\u3000周六神來教', '2016/05/11 11:43', '會彈吉他的人對於閃靈內的吉他手Jesse劉笙彙一定不陌生，在國外也是相當有名氣的吉他手，現在有個可以拜神的機會，STUDIO A將於5/14邀請Jesse到Neo 19門市舉辦教學，主要透過《BIAS FX》音樂APP，來讓新手快速進入音樂的世界，同時當天購買任一款iPad就加送價值890元《BIAS FX》APP，購買12.9吋iPad Pro 128GB加購安心意外保就送Apple Pencil，同時20名報到者加送皮革證件套。（周淑萍／綜合報導）\\xa0更有趣報導，請上副刊吃喝玩樂蘋果花粉絲團\\xa0不管迷人美照，還是失焦殘念照，快來「失焦der小確幸」社團分享照片吧\\n5/14當天購買iPad 任一款加碼送價值近900元的《BIAS FX》音樂APP。廠商提供', 854])\n",
      "288\n",
      "insert into news_entry(link,category,title,time,summary,view_cnt) values(?,?,?,?,?,?)\n",
      "dict_values(['http://www.appledaily.com.tw//realtimenews/article/entertainment/20160511/858143/巨石強森演新版《野蠻遊戲》\\u3000「讓羅賓威廉斯驕傲」', '娛樂', '巨石強森演新版《野蠻遊戲》\\u3000「讓羅賓威廉...', '2016/05/11 11:40', '好萊塢巨石強森（Dwayne Johnson）以《玩命關頭》系列、《加州大地震》等票房電影衝出高人氣，他確定主演90年代經典科幻冒險片《野蠻遊戲》的重啟版，預計明年7月上映，他日前受訪時表示新版電影會更忠於原著，並保證「一定會讓羅賓威廉斯驕傲」。\\xa0\\xa01995年推出的電影《野蠻遊戲》由已故男星羅賓威廉斯、克莉絲汀鄧斯特主演，劇情描述神祕的桌上遊戲「野蠻遊戲」只要輸入符合的密碼，就會帶領玩家進入超時空環境中，12歲的男孩阿倫派瑞許困在遊戲中的叢林裡達26年之久，直到他38歲這年才被兩位小孩茱蒂和彼特無意間尋獲，但他們必須玩完全程，並找回當時阿倫的玩伴莎拉才可以回到現實。該片因題材新奇廣獲好評，全球熱賣2.62億美元（約85億元台幣），堪稱90年代奇幻片的經典作，索尼影業11年前曾以續集之名推出《野蠻遊戲：迷走星球》。\\xa0巨石強森日前確定主演重啟版的《野蠻遊戲》，他受訪時透露該片是「重新想像這個奇幻的故事」，將更忠於原著小說的劇情設定，他也對威廉斯表達致意，他說：「我們將向他致敬，而阿倫將以真摯且很酷的形象永遠活在《野蠻遊戲》的世界中，我已經有一些初步想法，我想他的家人會感到驕傲。」該片卡司還有黑人諧星凱文哈特，新版蜘蛛人湯姆哈蘭也將軋一角，預計明年7月在美上映。（謝宛儒／綜合報導）', 4179])\n",
      "289\n",
      "insert into news_entry(link,category,title,time,summary,view_cnt) values(?,?,?,?,?,?)\n",
      "dict_values(['http://www.appledaily.com.tw//realtimenews/article/international/20160511/858261/【更新】911恐攻倖存者\\u3000當佛光山義工走出陰霾', '國際', '【更新】911恐攻倖存者\\u3000當佛光山義工走...', '2016/05/11 11:40', '（更新：新增動新聞）\\xa0慶祝佛誕節暨佛光山開山50週年，法拉盛的佛光山紐約道場將在週六同步舉辦影像回顧圖像展。走過半世紀，老照片承載珍貴的歷史回憶，其中星雲法師在2001年發生911恐怖攻擊事件後，率領百名法師到現場超渡往生者的照片也在展出之中。佛光山紐約道場理事陳雅芬看到這張照片甚是激動，因為她是恐攻事件的倖存者。\\xa0「很長一段時間，很怕接觸人群，也很怕看到高樓」，陳雅芬指著照片上的雙子星大廈，她說飛機撞上當時，從事保險業的她就在大樓裡。雖然順利躲過死劫，但死裡逃生的她卻在事件之後，身心承受不了如此大的創傷，得了憂鬱症，好一陣子走不出來。甚至「一聽到警車、救護車聲音就會緊張」。\\xa0陳雅芬回想事件發生之前，在美國的日子都過得相當平安，完完全全沒想到會遭遇15年前恐攻事件。當時的她特別「覺得沒有安全感，不曉得明天在哪裡」。雖然她過去就曾經接觸佛光山活動，但她當時更需要宗教心靈上的慰藉，「因為911我來到佛堂」，也因此，陳雅芬天天將行程排滿，參加道場裡的書法班、讀書會、合唱團，「每天日子過得很紮實，花了幾年時間才慢慢走出來」。\\xa0陳雅芬講著講著難掩激動，頻頻啜泣、拭淚。她說「珍惜現在能活著的日子」，也感念經歷此創傷期間，佛光山道場是她「心靈寄託的場所、心靈的加油站」。而後，陳雅芬也持續在佛光山紐約道場擔任義工，甚至擔任支會分會長，幫助心靈受過創傷的人，或者是來美的新移民。\\xa0佛光山開山50週年活動影像回顧圖像展，將在5月15日至6月15日在紐約道場為期一個月的展出，現場除了展有星雲大師年輕時弘法照片，更有佛光山半世紀的全球五大洲動靜態影像紀實。配合活動也將舉辦「慶祝佛誕節佛光三好園遊會」活動，佛光山紐約道場邀請民眾共同參加。（曾偉旻╱紐約報導）出版：06：40更新：11：37\\xa0\\n陳雅芬指著當時她遭遇911恐攻時，所處的48樓。曾偉旻攝911事件發生後，星雲法師與上百名法師前往現場超渡。翻攝畫面佛光山紐約道場將與全球佛光山道場同慶開山50週年，舉辦系列活動。曾偉旻攝影像回顧圖像展上也展出星雲大師年輕時的模樣，相當帥氣。曾偉旻攝', 7362])\n",
      "290\n",
      "insert into news_entry(link,category,title,time,summary,view_cnt) values(?,?,?,?,?,?)\n",
      "dict_values(['http://www.appledaily.com.tw//realtimenews/article/finance/20160511/858416/【財訊】外資金童楊應超的第15個戰場\\u3000轉戰Fintech', '財經', '【財訊】外資金童楊應超的第15個戰場\\u3000轉...', '2016/05/11 11:40', '本內容由財訊雙週刊提供\\xa0走進位於敦化南路上葉財記大樓的異康公司辦公室，由logo上的英文名稱E-COM，推測是和網路業務相關的公司；但讓人意外的，這裡是前巴克萊銀行董事總經理楊應超的新辦公室。這位片刻不得閒的外資金童，即使卸下重擔，仍一如既往地忙碌著，看上去像是剛結束上一個行程。投身金融業新顯學楊應超總是一襲吊帶西裝，拎上一只後背包就能全世界走透透，儘管工作繁忙，但說起話來臉上永遠掛著笑容，身為外資圈裡明星級的大咖分析師卻絲毫沒有架子，走在路上要是不特別注意，你不會知道這位擦身而過的大叔所發表的投資報告，影響上千億外資資金進出。一陣寒暄後，記者問起楊應超的職涯下一步，他爽朗笑回：「你們問得真是時候，這份工作是剛才吃飯時才談定的，我接下來會在這裡（異康公司）擔任首席資深顧問。」見記者一臉疑惑，他接著說，「異康現在正投入Fintech（金融科技）產業。」Fintech一詞掀起全球熱潮，近期更成為金融業顯學，「我是科技背景出身，曾經待過ＩＢＭ及ＩＴ資訊公司；而我又在金融領域這麼久，金融業做財務工程就是運用科技來達成，所以Fintech對我來說不算陌生，接下這個顧問職就是幫忙把這兩個產業知識結合，提供意見與策略方向。」楊應超提到，國外有不少華爾街大班轉戰Fintech的例子，例如花旗、摩根士丹利及德銀的前舵手，都紛紛「掉轉槍頭」投身Fintech...詳全文', 1159])\n",
      "291\n",
      "insert into news_entry(link,category,title,time,summary,view_cnt) values(?,?,?,?,?,?)\n",
      "dict_values(['http://www.appledaily.com.tw//realtimenews/article/life/20160511/858443/【有片】亞東電信爆歇業\\u3000母公司：會全額退費\\u3000', '生活', '【有片】亞東電信爆歇業\\u3000母公司：會全額退...', '2016/05/11 11:40', '更新：新增影片\\xa0專售國際電話卡第二類電信業者亞東電信，傳出無預警歇業，今母公司全網通出面表示亞東確實暫停國際電話卡業務，但不會停業解散公司，購買民眾持發票和電話卡可到超商或該公司全額退費，業者透露，國際電話業務受通訊軟體盛行影響，每月全台銷售量僅剩十多萬元。\\xa0根據公司登記資料，亞東電信為全網通科技所投資，全網通董事長林瑋軒也身兼亞東電信監察人。今林出面說明表示，雖國際電話卡業務並不賺錢，但基於服務老客戶，仍持續經營，不過近日因身體微恙開刀治療，但原負責業務財務顧問卻未繳交租用電路費用，導致從上月底起斷訊。\\xa0林瑋軒表示，為此已將負責三位財務顧問解除職務，但因該業務確實營運不佳，也順勢停止，對於造成消費者不便也非常抱歉，超商業者代收2到4月費用，還在超商處，民眾可持發票和電話卡至原購買超商全額退費，已開卡、未用完民眾，也可至證件至位於北市內湖區瑞光路公司所在地退費。\\xa0林表示，受到通訊軟體盛行影響，目前每月全台銷售金額僅約十多萬元，和二、三年前相比，僅剩兩、三成。不過未來還有其他新業務會推展，所以亞東電信雖停止國際電話卡業務，但不會停業。\\xa0不過林瑋軒表示，為了節省人力成本，現在亞東電信已沒有員工，原業務由全網通員工統一處理相關業務。（朱正庭／台北報導）\\xa0出版：11:26更新：11:40\\xa0\\xa0 \\xa0\\n全網通。莊宗達攝全網通董事長林瑋軒。莊宗達攝', 5703])\n",
      "292\n",
      "insert into news_entry(link,category,title,time,summary,view_cnt) values(?,?,?,?,?,?)\n",
      "dict_values(['http://www.appledaily.com.tw//realtimenews/article/international/20160511/858459/【央廣RTI】衛星曝光!北韓暫無核試跡象', '國際', '【央廣RTI】衛星曝光!北韓暫無核試跡象', '2016/05/11 11:40', '本內容由中央廣播電臺提供\\xa0\\xa0 \\xa0 \\xa0 \\xa0在北韓勞動黨全國代表大會通過提升北韓核子軍備政策之際，美國智庫今天(11日)表示，最近的衛星影像顯示，沒有北韓迫在眉睫要進行五次核試的跡象。北韓最近召開36年來首見的勞動黨全國代表大會，並正式通過一項提升及擴大北韓核子軍備的政策。北韓中央通信社(KCNA)報導，這項決定是為了「在質量和數量上提升北韓自我防衛的核子能力。」\\xa0 \\xa0 \\xa0 \\xa0美國約翰霍普金斯大學(Johns Hopkins University)美韓研究所(US-Korea Institute)指出，這些日期標示為5月8日的衛星照片顯示，位於北韓東北方的豐溪里(Punggye-ri)地下核測試場只有低程度的活動，而且先前在核試場指揮中心發現的車輛也已不見。先前的衛星影像顯示，指揮中心前緊密停放著車輛，這通常只有在最終的核試準備時會看到。\\xa0 \\xa0 \\xa0 \\xa0北韓領導人金正恩並在會中宣布，北韓要做一個負責任的擁核國家，要為全球的無核化努力。金正恩表示，將誠實履行核不擴散義務，為實現世界無核化而努力。只要敵對勢力不動用核武侵犯北韓的自主權，北韓將依照承諾，不會先動用核武器。(繼續閱讀)', 566])\n",
      "293\n",
      "insert into news_entry(link,category,title,time,summary,view_cnt) values(?,?,?,?,?,?)\n",
      "dict_values(['http://www.appledaily.com.tw//realtimenews/article/local/20160511/858409/【有片】女騎士竄出巷道\\u30001秒後被撞死', '社會', '【有片】女騎士竄出巷道\\u30001秒後被撞死', '2016/05/11 11:39', '「路口一定要減速！」彰化縣警局再度將驚悚的死亡車禍行車紀錄器影片PO上臉書，一名騎機車未戴安全帽的婦人從巷道右轉彰化縣埤頭鄉中和村溪林路，一輛直行的大客車閃避不及，直接撞上婦人，經送醫不治死亡。警方ＰＯ臉書呼籲「請大家行經交岔路口時，應減速並禮讓，注意來車方向，最重要的記得戴安全帽！」\\xa0警方指出，車禍發生在上月26日清晨6時許，劉姓男子（54歲）駕駛某校校車要前往上班地點，行經溪林路時，右側巷道突然有一部機車衝出來，騎機車的婦人連看都沒看左側是否有來車就向右轉，大客車車速也不慢，根本來不及減速，右側就直接撞上婦人機車。\\xa0沒有戴安全帽的陳姓婦人（78歲）當場被拋飛到一旁的圳溝裡，大客車駕駛也趕緊停車，並下車查看、報警，但陳女雖經送醫急救，仍因傷重不治。當時車上並沒有載學生，司機也未受傷。\\xa0雙方經酒精濃度檢測均無酒駕情形，警方指出，千萬不要心存僥倖、貪圖方便，不戴安全帽就騎車上路，而汽機車經過巷道路口也一定要減速，才不致發生遺憾。（鄧惠珍／彰化報導）\\xa0\\xa0\\n婦人由巷道右轉。翻攝畫面。婦人看起來並未戴安全帽。翻攝畫面。大客車閃避不及，右側撞上婦人。翻攝畫面。', 139483])\n",
      "294\n",
      "insert into news_entry(link,category,title,time,summary,view_cnt) values(?,?,?,?,?,?)\n",
      "dict_values(['http://www.appledaily.com.tw//realtimenews/article/finance/20160511/858458/谷歌投資沒喊卡反加碼\\u3000經部：滿足水電需求', '財經', '谷歌投資沒喊卡反加碼\\u3000經部：滿足水電需求', '2016/05/11 11:38', '日前傳出由於台灣缺水又缺電，不僅臉書不來台投資，連谷歌在彰濱投資案都要喊卡，經濟部次長沈榮津今赴立院備詢時澄清，谷歌將持續在台投資，一定會滿足水電等需求，先前因有簽定NDA保密協定因此不便詳細說明。\\xa0據日前媒體報導，谷歌4年前在彰濱工業區設置雲端資料中心，去年加碼3億美元擴廠，提出用水量要增加6000噸的需求，但彰化縣缺乏水源，經濟部雖編列經費，擬自雲林引水遇抗爭，傳出Google第３期擴廠計畫進度受阻。\\xa0立委批，缺水缺電等問題使得台灣投資環境差、外資不願來台投資，排名為全球倒數第5，實為警訊，是否因為缺水問題導致臉書不來台投資、谷歌投資案喊卡？\\xa0沈榮津表示，谷歌投資計劃將持續，金額未變，與谷歌保持密切關係，一定會滿足投資者水電需求，雙方因有簽定NDA保密協定所以才不便說明細節。\\xa0據了解，谷歌投資案不僅沒喊卡，甚至還加碼投資彰濱工業區！沈榮津引述媒體報導指出，除第1階段第3期擴廠工程將於年底完工外，第2階段總金額390億元投資也悄悄展開，預計將在彰化縣彰濱工業區興建佔地32公頃的Chrome及Nest研發中心，完成後台灣將是谷歌在美國之外，全球最大營運基地。(江俞庭／台北報導)', 1446])\n",
      "295\n",
      "insert into news_entry(link,category,title,time,summary,view_cnt) values(?,?,?,?,?,?)\n",
      "dict_values(['http://www.appledaily.com.tw//realtimenews/article/politics/20160511/858457/2758決議與一中原則無關？\\u3000馬總統：與事實相距太遠', '政治', '2758決議與一中原則無關？\\u3000馬總統：與...', '2016/05/11 11:37', '總統馬英九今天上午頒贈兩岸交流有功人員勳章，給海基會董事長林中森、陸委會主委夏立言、國安會諮委王郁琦與行政院顧問吳美紅。馬總統在致詞時提到世界衛生大會（WHA）的議題，他說，中華民國在1971年失去聯合國代表權，是外交戰場上最大的挫敗，那次挫敗後，邦交國從60幾國一下子變成20多國，是驚天動地的大變化，對台灣影響太大；有人說2758號決議跟台灣無關或是跟一中原則無關，「我不知道他們怎麼會有這樣的想法，跟事實實在相距太遠，對我們影響太大，所以沒有這個的話，我們在國際上不會有這麼大困難。」\\xa0馬總統說，闊別38年，我們在2009年還是參加WHA，用的是「中華台北」的名稱，採納的是正式觀察員的身份，出席的是正式大會，而非技術性會議，聯繫時直接就跟世界衛生組織的秘書處聯絡，而非經過第三方，這都是過去從未達到過的。「兩岸關係改善，外溢效果就是國際關係改善，讓全世界都知道，儘管他們跟中國大陸建立正式外交關係，但他們還是願意跟台灣保持適度關係，不光是對他們有益，對整個世界和平繁榮都有利」。\\xa0馬總統指出，在此狹窄空間中，發展出前所未有的國際角色，就是和平促進者與人道援助提供者，也因為做了這些，大家都認為中華民國存在在這個世界是資產不是負債，這沒有大陸政策改善是不可能達成的。台灣所面對的是兩岸情勢嚴峻，不管哪一黨執政都會遭遇困難，前人已經種的樹、開的花、結的果，必須要珍惜，歷史留在這個地方給我們重要參考，盼台灣人民與政府都能珍視，讓兩岸關係繼續前進。（張文馨／台北報導）', 3157])\n",
      "296\n",
      "insert into news_entry(link,category,title,time,summary,view_cnt) values(?,?,?,?,?,?)\n",
      "dict_values(['http://www.appledaily.com.tw//realtimenews/article/sports/20160511/858471/【有片】紅襪拉米瑞茲夯468呎MLB本季第2遠', '體育', '【有片】紅襪拉米瑞茲夯468呎MLB本季...', '2016/05/11 11:37', '紅襪靠著貝茲(Mookie Betts)、拉米瑞茲 (Hanley Ramirez)和蕭(Travis Shaw )3轟，以及打線敲出本季單場新高的16安，以13比5大勝運動家。蕭敲出生涯新高的單場5打點，而拉米瑞茲1局下的左外野2分砲，直接飛越芬威球場的綠色怪物，是支468呎(約142.6公尺)的超大號全壘打。\\xa0貝茲和拉米瑞茲的兩支全壘打，讓紅襪一開賽就取得3比0領先。拉米瑞茲這1棒，僅次馬林魚「怪力男」史坦頓(Giancarlo Stanton)7日所擊出的475呎(144.8公尺)，是本季大聯盟第2遠的全壘打。\\xa0另外，紅襪9棒布雷德利(Jackie Bradley Jr.)則4打數2安打，延續大聯盟本季最長的連16場安打。(鍾裕能／綜合報導).►Your browser does not support iframes.', 3123])\n",
      "297\n",
      "insert into news_entry(link,category,title,time,summary,view_cnt) values(?,?,?,?,?,?)\n",
      "dict_values(['http://www.appledaily.com.tw//realtimenews/article/entertainment/20160511/858467/【網路溫度計】暖心男神從軍去？修杰楷閃電宣告入伍！', '娛樂', '【網路溫度計】暖心男神從軍去？修杰楷閃電...', '2016/05/11 11:36', '本內容由網路溫度計提供\\xa0《2016網路溫度人氣大賞》暖心男神引發激戰，10日宣布即將入伍的帥氣人夫修杰楷，票數意外直逼年輕小鮮肉畢書盡、李國毅、李玉璽！\\xa0師兄弟齊賣萌 畢書盡、李玉璽闖進前三不論是親回粉絲留言、送上生日祝福，或苦勸小粉絲好好念書，畢書盡長期與粉絲熱情互動凝聚大票鐵粉，活動一開跑便與其他入圍者拉出差距，目前粉絲支持度高達4萬多票，於12位入圍者中暫居第一。\\xa0目前正忙著拍攝新作《我和我的17歲》的李國毅，因忙碌行程較少公開活動，但透過《我的自由年代》《料理高校生》等作品累積超高人氣，目前位列粉絲支持度第二。\\xa0而李玉璽因為演出《我的少女時代》爆紅，最近又接下新版《惡作劇之吻》男主角，人氣持續翻漲，李玉璽笑說有入圍就很開心了，要超越「大魔王」畢書盡實在太難啦，賣萌催票粉絲支持度成功衝進前三！\\xa0當爸更吃香 修杰楷入伍當「修大尉」誰說只有年輕小帥哥才能成為暖男！修杰楷自從結了婚、當了爸爸後，粉絲年齡層從20、30代女生升級全年齡通殺，在一票年輕男星中突圍目前名列第四名，10日晚上老婆賈靜雯發文「修爸爸乖乖去做該做的事」，親手幫修杰楷剃平頭，宣告老公即將入伍，粉絲感性留言「修爸爸要去當修大尉了」、「大家等你回來」！而近年重心轉往中國的彭于晏、霍建華，雖然在台灣曝光度較少，粉絲們依舊熱情十足，還特別在粉絲團撰寫投票教學文替偶像催票，難怪兩人就算沒露面粉絲支持度依舊能分列第四、第五名。其他入圍者包括四爺吳奇隆、五月天主唱阿信、大仁哥陳柏霖、布魯斯、劉以豪、韋禮安等，粉絲支持度投票活動將於5/15截止，最終總排名將統計DailyView網路溫度計網路討論聲量（占45%）、Yahoo奇摩關鍵字搜尋量（占45%）、粉絲支持度（占10%），於5/17公布最終排名。\\xa0「oeoe網路警報器」為偶像持續加溫《DailyView網路溫度計》為感謝眾多粉絲熱烈響應2016網路溫度人氣大賞！推出「oeoe網路警報器」App，關注偶像超方便，透過oeoe每8小時可加碼支持你的心愛偶像一次，加溫他們的網路溫度！\\xa0Android版下載 / iOS版Coming Soon\\xa0更多詳細資訊：大賞火速加溫投票 下載oeoe網路警報器2016網路溫度人氣大賞完整入圍名單DailyView網路溫度計官網2016網路溫度人氣大賞眾星催票影片', 4438])\n",
      "298\n",
      "insert into news_entry(link,category,title,time,summary,view_cnt) values(?,?,?,?,?,?)\n",
      "dict_values(['http://www.appledaily.com.tw//realtimenews/article/politics/20160511/857954/【內心事】\\u200b羅瑩雪真面目\\u3000其實是「宅女小雪」', '政治', '【內心事】\\u200b羅瑩雪真面目\\u3000其實是「宅女小...', '2016/05/11 11:35', '即將卸任的法務部長羅瑩雪，近來不斷大鳴大放，講真話不怕得罪人的作風，被網友封為雪神、藍營女戰神，也有人批評她不打理門面、答詢時表情猙獰如悍婦。雪神聽得下去嗎？\\xa0羅瑩雪在《蘋果》網路政論節目《紅芯A真心話大冒險》，接受主持人A濫、徐巧芯的真心話大考驗，錄影前空檔接受《蘋果》採訪，她說不覺得自己凶悍：「法務部年輕同仁都叫我阿姨」，卸下公務身份的她，根本超自閉，「其實你可以叫我宅女」。\\xa0羅瑩雪說，她平常在家完全素顏，「我不喜歡逛街，我喜歡宅在家」，上班只畫眉毛、擦個口紅，連吃喜酒、出席活動都不化妝，「我不是雪神，我就是個宅女」，可以宅到星期五下班到星期一上班，「中間都沒出過門」。看著造型師幫她上妝，羅瑩雪還笑著問記者：「我都快不認識自己了，你們知道我是誰嗎？」\\xa0至於宅在家做什麼？羅瑩雪說，她喜歡看書，「我喜歡看武俠小說、科幻小說，什麼書都看，看書能給我啟發」，更給了一段「宅女小雪」名言：「有書，一點都不寂寞！」（專案組／台北報導）\\xa0更多戰神部長的新聞，你一定要看......【有片】就是他！\\u3000讓雪神嘆「人都會看走眼」\\xa0更多羅瑩雪真心話，通通在11日晚間七點「紅芯Ａ-真心話大冒險」請鎖定 \\xa0蘋果LIVE\\xa0\\n法務部長羅瑩雪薄施脂粉，配上開朗笑容，像個鄰家阿姨。游宗樺攝不愛化妝的法務部長羅瑩雪，難得讓造型師上妝。游宗樺攝', 5294])\n",
      "299\n",
      "insert into news_entry(link,category,title,time,summary,view_cnt) values(?,?,?,?,?,?)\n",
      "dict_values(['http://www.appledaily.com.tw//realtimenews/article/finance/20160511/858461/焦點股～獲利優預期\\u3000京元電挑戰前高', '財經', '焦點股～獲利優預期\\u3000京元電挑戰前高', '2016/05/11 11:34', '封測廠京元電（2449）4月營收創今年新高，預期本季營運可望淡季不淡，股價維持高檔震盪後，今天再度發動攻勢，漲幅一度超過3%，短期若量能持續增溫，有機會突破28.9元高點。\\xa0京元電第1季每股純益達0.52元，優於市場，且4月營收創今年新高，預期本季營運可望持續走高，淡季不淡，近期股價維持高檔震盪，表現相對強勢，今天再度轉強，最高達28.7元，逼近前高28.9元關卡。（陳建彰／台北報導）', 824])\n",
      "300\n",
      "insert into news_entry(link,category,title,time,summary,view_cnt) values(?,?,?,?,?,?)\n",
      "dict_values(['http://www.appledaily.com.tw//realtimenews/article/life/20160511/858468/設計之都你有感嗎？\\u30005路段62處變電箱大變身', '生活', '設計之都你有感嗎？\\u30005路段62處變電箱大...', '2016/05/11 11:34', '你有感嗎？為了讓民眾生活環境獲得改善，設計之都專案辦公室今天召開記者會，宣布與台電合作，共同改造台北市全市62處133座變電箱。設計之都執行長吳漢中表示，希望透過這些微小的細節，讓民眾體會到城市的改變；文化局長謝佩霓則認為，透過小小的美化工程，讓大家體會到不同的變化。\\xa0設計之都專案辦公室表示，目前北市共有9000多座變電箱，本次計畫執行北市62處133座變電箱環境彩色作業，包含松江路、復興南北路、北門、新生南路與羅斯福路等5路段，所有變電箱都將配合周圍道路、橋樑的背景，設計5種不同造型，目前松江路路段開始作業，其餘路段陸續執行。該計畫總經費約1000餘萬，除了變電箱改造，還包含高架橋、人行道、公車專用道彩繪。\\xa0吳漢中表示，設計之都希望能改變一些微小細節，讓民眾感受到設計就在各個角落。新的變電箱將重新整理排版箱體上的字體與符號，減少視覺負擔與雜亂的資訊，底部的水泥基座也會調整警示條紋的比例，內側也會刷上輔助色，讓整體看起來更有層次。\\xa0謝佩霓表示，希望藉此帶動公民參與，未來擴大改變全台北市9000座的變電箱，她坦言自己不認為設計就是要花大錢，畢竟每個階段拆除、重造成本都是非常高的，透過這樣小小改變，就可以讓城市產生新的表情和新的可能。未來也可能在變電箱上附上資訊載體，可以在上頭放上QR Code，民眾可用手機掃描找尋周圍捷運站、文化景點，這樣政府就不需要再打造9000個資訊站。\\xa0台電台北營業處副處長楊顯輝特別感謝市府的用心，過去變電箱都是統一色塊，上頭甚至貼滿貼紙還有塗鴉，看起來有些凌亂，能配合周圍環境打造不同的特點的變電箱，確實讓整體環境看起來更美好。(陳思豪/台北報導)\\xa0\\n文化局長謝佩霓認為設計不一定要花大錢，小小改變就能讓民眾有不同體驗。陳思豪攝設計之都改造松江路上的變電箱。陳思豪攝', 1037])\n",
      "301\n",
      "insert into news_entry(link,category,title,time,summary,view_cnt) values(?,?,?,?,?,?)\n",
      "dict_values(['http://www.appledaily.com.tw//realtimenews/article/international/20160511/858345/重新開幕超吸睛\\u3000整理舊金山現代藝術博物館10大亮點\\u3000', '國際', '重新開幕超吸睛\\u3000整理舊金山現代藝術博物館...', '2016/05/11 11:31', '美國舊金山現代藝術博物館（San Francisco Museum of Modern Art，SFMOMA）歷經3年翻修，將在5月14日重新開幕，新的建築外觀彷彿是漂浮的冰山，除了超酷的外型相當吸睛，負責博物館翻修的建築公司負責人戴克（Craig Dykers）表示：「希望能敞開大門，歡迎更多對現代藝術較沒概念的民眾」使得博物館本身，不僅只是一座存放藝術品的場所。\\xa0《WIRED》雜誌報導，新的博物館至少有以下10大亮點。（北美中心／綜合外電報導）\\n１．富麗堂皇樓梯間：原本複合式的樓梯多少會擋住上方的視線，新的樓梯間採光能力更佳，天然光線直接照耀進來。翻攝《WIRED》２．生命之牆：這座3層樓高的牆面，是全美最大面的生命之牆之一。俄勒岡酢漿草、劍蕨等植物就是覆蓋在加州森林地表上的綠色植物，能降低周遭溫度，淨化空氣，甚至減緩壓力。翻攝《WIRED》３．更多採光：為了採納更多光線，窗戶的框線，玻璃窗片之間的接合點，都盡可能做到最細。翻攝《WIRED》４．炫目外裝：建築的外觀模仿舊金山灣的波光粼粼，除了炫目更是務實之選：玻璃纖維的原料既比鋼鐵輕盈，又比混凝土便宜。翻攝《WIRED》５．專屬APP讓你把手機放在口袋，眼睛專心體驗藝術，而不只是普通的語音導覽。翻攝《WIRED》6．極細排氣孔：特殊空調系統設計，將排氣管藏在天花板裡，且孔隙極細化，不影響美觀。翻攝《WIRED》7．隱藏式LED燈：隱藏式LED燈透過反射器將讓光線四散，使得燈光亮度更適合觀賞藝術品。翻攝《WIRED》8．玻璃三明治：多層次窗戶內建特殊「溶塊」，這些小黑點能阻擋陽光曝曬，版塊之間的空隙則能隔離外部干擾，還有抗紫外線的內層等，多道層次彷彿三明治。翻攝《WIRED》9．神秘園丁：生命之牆內設有智慧裝置，隱藏式感應器監控灌溉、酸鹼值和濕度，秘密照料館內19,000株植物，彷彿隱藏版園丁。翻攝《WIRED》10．隔音設備：總有些咳嗽、拖著腳走路，大力踩踏的觀眾，難免妨礙觀賞的興致。建築物天花板內建隔音灰漿、樓梯間設置特製木板，吸取不必要的噪音，提高參觀品質。', 579])\n",
      "302\n",
      "insert into news_entry(link,category,title,time,summary,view_cnt) values(?,?,?,?,?,?)\n",
      "dict_values(['http://www.appledaily.com.tw//realtimenews/article/politics/20160511/858453/回應國台辦\\u3000民進黨：維持現狀是合乎各方利益的最大共識', '政治', '回應國台辦\\u3000民進黨：維持現狀是合乎各方利...', '2016/05/11 11:31', '中國國台辦發言人馬曉光今表示，中國對「九二共識」的要求是合理的，因為「我們沒有對台灣新候選人提出過超出2008年以來的新要求」、現在「球在台灣新的當政者手上」。民進黨發言人阮昭雄今表示，總統當選人蔡英文的兩岸政策立場非常清楚，就是維持現狀，維持台灣的自由與民主，維持台海和平與兩岸穩定與發展的現狀。\\xa0阮昭雄說，蔡英文維持現狀的主張，不僅合乎各方的利益，更是台灣社會最大的共識所在，而維持兩岸關係和平穩定與發展，也是雙方共同的責任。（林修卉／台北報導）\\xa0\\xa0\\n【想知道更多，一定要看……】交部稱網軍攻擊準戰爭程度\\u3000軍方打臉：不會用這個字速簽鄭捷死刑令\\u3000羅瑩雪回應10語錄', 2305])\n",
      "303\n",
      "insert into news_entry(link,category,title,time,summary,view_cnt) values(?,?,?,?,?,?)\n",
      "dict_values(['http://www.appledaily.com.tw//realtimenews/article/life/20160511/858446/對流旺盛\\u3000台南高雄屏東注意大雷雨', '生活', '對流旺盛\\u3000台南高雄屏東注意大雷雨', '2016/05/11 11:30', '由於目前台灣海峽南部對流雲系發展旺盛並即將移入，中央氣象局剛剛發布即時天氣訊息，提醒台南、高雄及屏東地區注意瞬間大雨、強陣風及雷擊。（生活中心／台北報導）', 1029])\n",
      "304\n",
      "insert into news_entry(link,category,title,time,summary,view_cnt) values(?,?,?,?,?,?)\n",
      "dict_values(['http://www.appledaily.com.tw//realtimenews/article/nextmag/20160511/858466/【壹週刊】女疑吸毒超商咆哮\\u3000囂張嗆警GG了', '壹週刊', '【壹週刊】女疑吸毒超商咆哮\\u3000囂張嗆警GG...', '2016/05/11 11:28', '警方日前獲報高雄市一家超商內，有名女性不斷大聲咆哮，並且騷擾客人，前往勸阻時，該女子竟然囂張嗆警，還辱罵三字經，警方不容公權力受挑戰，強勢壓制移送法辦。\\xa0位於新民路與灣中路超商，4月27號晚間11點多，一名女子坐在超商椅子上，自言自語還不時大聲咆哮，甚至對客人怒罵，店員發現女子行為怪異，擔心波及顧客，趕緊報警，沒想到，兩名員警前往處理時，她竟然大聲嗆警，簡直就把客氣的員警當成小弟在罵。\\xa0警方警告她說話客氣點，互相尊重，該名女子不但沒有收斂，還不甘示弱地站起來，指著員警問「這是什麼世界」，員警耐著性子請她卡小聲點、不要妨礙安寧秩序，女子嗆警察說要調哪裡，接著三字經出口，辱罵員警，警方眼看女子行為已經明顯犯下公然侮辱，直接將她壓制，移送警局。\\xa0經過調查，大鬧超商的是74年次的蔡姓女子，有竊盜以及多項毒品前科，租屋在附近，警方懷疑，蔡女可能吸毒後出現神智不清，跑到超商大鬧，已經採集檢體化驗，並且針對她公然侮辱還有妨礙公務的部分，移送法辦。警方強力執法的影片貼在臉書上後，引起網友廣泛討論，有人認為警察總算硬起來，也痛罵該女子沒有教養，給警察按個讚等留言。（撰文:社會組）\\u3000「點我看更多其他壹週刊新聞…」\\n警方獲報前往超商安撫情緒不穩女子，卻遭辱罵。（圖：警方提供）', 2804])\n",
      "305\n",
      "insert into news_entry(link,category,title,time,summary,view_cnt) values(?,?,?,?,?,?)\n",
      "dict_values(['http://www.appledaily.com.tw//realtimenews/article/life/20160511/858456/兒女照「書」養\\u3000研究：逾7成父母照臉書養', '生活', '兒女照「書」養\\u3000研究：逾7成父母照臉書養', '2016/05/11 11:26', '3C產品普及，造就「滑世代」。台師大一項研究發現，由於3C裝置盛行，民眾生活越來越離不開手機，不僅年輕世代會使用智慧型手機，而65歲以上銀髮族，使用智慧手機的比率也超過五成；此外，台灣有9成民眾使用LINE，並有7成有家族LINE群組，也有四成五臉書使用者，有臉書家族社團，而令人訝異的是，各年齡層使用臉書家族社團的比率，以65歲以上的6成最高。\\xa0台師大家庭研究發展中心主任林茹萍今在教育部發表「數位科技及社群媒體使用與家人關係」調查研究，顯示台灣18歲以上民眾生活，愈來越離不開3C裝置與社群媒體，而銀髮族也不遑多讓，尤其在臉書家族社群的使用者中，65歲銀髮族佔比例最高，達59.7%，最低的反而是18-29歲的年輕族群，只有36.5%。\\xa0林茹萍並指，以前養兒育女是「照書養」，現在則是照「臉書」養；調查發現，育有學齡前兒童的父母，有七成二是透過臉書詢問教養孩子的問題，有八成五則在臉書上找到有用的教養資訊。而針對13-17歲子女的教養，有三成七父母以禁止使用手機或電腦，作為對孩子處罰的方式。\\xa0然而，數位科技是否增加了家人的互動？林茹萍說，三十年前的家族聚會，一家人應該是很快樂的在餐桌上聊天，然而前幾天的母親節，應該有不少人是在餐桌上先拍照、再聊天、吃飯配滑手機；但這項調查發現，有七成五民眾同意數位科技增加了家人的聯繫與溝通，六成以上民眾也認為社群網路讓家人更加親近，另有五成認為，科技造成減少了實質互動。\\xa0林茹萍建議，活在數位時代，父母一定要做的幾件事，包括提升自己的數位素養、設定合宜的監控機制及使用規範，甚至可以全家一同努力、健康地使用數位裝置或社群網路。(劉嘉韻／台北報導)\\xa0\\xa0\\n台師大一項研究發現，由於3C裝置盛行，民眾生活越來越離不開手機。劉嘉韻攝', 656])\n",
      "306\n",
      "insert into news_entry(link,category,title,time,summary,view_cnt) values(?,?,?,?,?,?)\n",
      "dict_values(['http://www.appledaily.com.tw//realtimenews/article/international/20160511/858433/16歲不可抽菸但可投票？舊金山11月歷史性公投定奪', '國際', '16歲不可抽菸但可投票？舊金山11月歷史...', '2016/05/11 11:26', '16歲以上的舊金山青年是否具能力投票？現在確定進入公投，端看11月時，市民怎麼說。\\xa0今天下午舊金山市議會以9比2的票數，通過11月交由選民決定是否修改市憲章，將地方選舉的投票年齡從18降低至16歲。\\xa0投下反對票的市議員麥翡（Mark Farrell）和郭嫻（Malia Cohen）皆認為舊金山在不同議題上，對年齡的限制不一致。\\xa0「合法買菸年齡剛從18歲提高到21歲⋯⋯我16歲時，根本還沒準備好要投票。我16歲時，比較關心考到駕照、棒球，以及邀請女孩去畢業舞會這些事，投票這檔事我壓根沒想過。」\\xa0麥翡也表示，今年市議會才提高抽煙的年紀至21歲，現在又認為青年有足夠判斷能力參與市政投票，對於青少年和其智力的定義十分矛盾。\\xa0郭嫻補充，她擔心一旦青少年被認定有投票權，在法庭上，將會被視同為成人來審判。\\xa0不過其他原先有質疑的市議員，包括威善高（Scott Wiener）和議長布里德（Lodon Breed）都在上禮拜的公聽會後改變主意，轉而支持。\\xa0市議員馬兆光（Eric Mar）則再次強調，他16歲女兒絕對有能力可投票了。（王欣儀／綜合報導）\\xa0\\n議案的提案人，第11區市議員愛華樂（John Avalos ）。翻攝SF Examiner投反對票的第二區市議員麥翡（Mark Farrell）。翻攝SF Examiner第十區市議員郭嫻（Malia Cohen）也反對調降投票年齡。翻攝sfbos.org', 531])\n",
      "307\n",
      "insert into news_entry(link,category,title,time,summary,view_cnt) values(?,?,?,?,?,?)\n",
      "dict_values(['http://www.appledaily.com.tw//realtimenews/article/politics/20160511/858429/交部稱網軍攻擊準戰爭程度\\u3000軍方打臉：不會用這個字', '政治', '交部稱網軍攻擊準戰爭程度\\u3000軍方打臉：不會...', '2016/05/11 11:25', '立法院外交及國防委員會今天邀國防部、國安局等相關部會報告「從國防部成立第四軍種之必要性探討網路駭客之侵擾對政府及民間資訊安全防範之挑戰」。根據交通部提供報告指出，台灣是駭客攻擊活動最頻繁的國家，勝過美國、香港、中國大陸，主因是「多數駭客攻擊行為來自對岸」，許多活躍的駭客是來自大陸網軍，長年滲透台灣的國防、外交、民生（油水電）、航管、通信等關鍵系統，入侵規模及深度已經構成「準戰爭程度」。\\xa0不過，交通部報告遭到國防部與行政院打臉。國民黨立委江啟臣指出，交通部報告稱網軍攻擊是「準戰爭程度」，國防部副部長鄭德美答覆指出，國防部不會用這種字眼。行政院資通安全辦公室主任蕭秀琴也說，台灣應該是駭客攻擊活動最頻繁的國家「之一」。\\xa0民進黨選前公布的國防藍皮書說明國防部應該成立第四軍種，不過，鄭德美會前受訪表表示，國防部目前並沒有接獲任何消息要成立第四軍種，不過國軍會恪守行政院的政策指導。\\xa0國防部通通信電子資訊參謀次長室次長胡延年中將在詢答時說，大家都認為現在網安威脅都非常重要，需要在這方面做充實與努力，國防部資電作戰部隊在個精簡案中，只有在網路戰部隊人員沒有精簡，還增加人力，現階段國防部在質與量進行調整。但交通部提交的書面報告稱，成立第四軍種有必要性，以有效防衛台灣相關資產與關鍵基礎設施免於遭到組織駭客與恐怖分子的網路侵襲，必要時也要有攻擊的戰力，以癱瘓敵方可能對台產生的網路攻擊。（陳培煌／台北報導）\\xa0\\xa0\\n【想知道更多，一定要看……】回應國台辦\\u3000民進黨：維持現狀是合乎各方利益的最大共識【有片】政府未婚聯誼設年齡限制\\u3000吳思瑤自嘲「快不能參加了」', 1843])\n",
      "308\n",
      "insert into news_entry(link,category,title,time,summary,view_cnt) values(?,?,?,?,?,?)\n",
      "dict_values(['http://www.appledaily.com.tw//realtimenews/article/life/20160511/858450/南山人壽併購美亞產險\\u3000公平會准了', '生活', '南山人壽併購美亞產險\\u3000公平會准了', '2016/05/11 11:25', '南山人壽董事會去年6月通過購併美國國際集團(AIG)在台子公司美亞產險之個人險及中小企業商業保險業務，成交金額約49.23億元，兩家公司申報結合，經公平會審核後，今決議該結合案。\\xa0為拓展保險經營版圖，潤成投資控股公司旗下之南山人壽擬取得美亞產險全部股份，去年董事通過購併美國國際集團(AIG)在台子公司美亞產險之個人險及中小企業商業保險業務。\\xa0由於該案符合《公平交易法》第10條第1項第2款「持有或取得他事業之股份或出資額，達到他事業有表決權股份總數或資本總額三分之一以上」及第5款「直接或間接控制他事業之業務經營或人事任免」之結合類型，且潤成投資控股及南山人壽、美亞產險104年度之銷售金額已達結合應申報之門檻，所以依法向公平會提出結合申報。（蔡孟修／台北報導）', 405])\n",
      "309\n",
      "insert into news_entry(link,category,title,time,summary,view_cnt) values(?,?,?,?,?,?)\n",
      "dict_values(['http://www.appledaily.com.tw//realtimenews/article/life/20160511/858440/先恢復勞工7天國定假日\\u3000勞動部擬將「周休二日」入法', '生活', '先恢復勞工7天國定假日\\u3000勞動部擬將「周休...', '2016/05/11 11:24', '馬政府推動縮短工時而減少勞工7天國定假日，但在勞團激烈反彈下，立院退回此案不予備查，民進黨政府會怎麼做？有媒體報導，勞動部研擬兩方案，都是刪除7天國定假日，但配套是新增7天有薪家庭照顧假，或是明訂周休二日；但勞動部官員表示，並未研擬；準勞動部部長郭芳煜日前曾對民進黨立委表示，將先恢復7天國定假日。\\xa0《勞動基準法》今年元旦起將法定工時由雙周84小時減為單周40小時，但同步修正《勞動基準法施行細則》做為配套，將勞工與公務員國定假日齊一、減少勞工7天假，包括孔子誕辰紀念日、台灣光復節等。但立院日前決議退回此案，要求行政院2個月內修正或廢止，若依時程推估，新政府最慢要在6月20日前做出決定。\\xa0今《經濟日報》報導，勞動部內部研擬兩方案配套，一是維持刪除7天國定假日，但讓勞工比照公務員，增加7天有薪家庭照顧假；二是刪除7天國定假日，但周休二日訂入《勞基法》。\\xa0但勞動部官員說，並未研擬過「增加7天有薪家庭照顧假來換國定假日」這方案，家庭照顧假跟國定假日層次不同，不能一概而論。官員說，7天有薪家庭照顧假概念，先前討論與勞僱團體討論產假、育嬰假時，曾有人提出；但當時僱主希望由就業保險基金支應薪資，但基金在財務上無法負擔，因此並未有結論，這次也沒有再拿出來討論。。\\xa0準勞動部部長郭芳煜6日與民進黨立委餐敘時，在席間表示會先恢復勞工7天國定假日，未來再翻修《勞基法》將周休二日入法，再一併討論7天國定假日與變形工時調整的問題。（唐鎮宇／台北報導）', 3102])\n",
      "310\n",
      "insert into news_entry(link,category,title,time,summary,view_cnt) values(?,?,?,?,?,?)\n",
      "dict_values(['http://www.appledaily.com.tw//realtimenews/article/politics/20160511/858427/唉！這款效率\\u3000台南大震過半捐款沒開收據', '政治', '唉！這款效率\\u3000台南大震過半捐款沒開收據', '2016/05/11 11:22', '台南震災捐款截至上週五統計達43萬多筆，善款近42億元，但3個月來，捐款收據開出不到20萬筆，今天議會賑災款使用專案報告上，議員謝龍介等人批評市府作業太慢，市府社會局長劉淑惠表示，預定6月底可全數開出。\\xa0台南市副市長曾旭正上午在議會進行0206地震賑災款使用專案報告表示，截至上週五統計，累計捐款共41億9千餘萬元，已支出5億多元，後續預估還要再支出10餘億元。\\xa0大會主席林阳乙說，災後3個月，很多人捐款還沒收到收據，如果有人不想捐了，可不可以把錢要回去？議員杜素吟說，賑災捐款應用在受災戶，不是要讓市府開發建設，也不是讓市府放在銀行生利息。\\xa0議員謝龍介則批市府開立捐款收據速度太慢，相較新北市八仙塵爆時，他捐了1個月12萬多薪水，捐後19天就收到收據，這次震款他捐了20萬元，前後向市府要了3次，至今沒拿到，如果是這樣的話，希望把錢還他，他直接拿給受災家屬即可。\\xa0社會局長劉淑惠答詢時說，各界捐款共計43萬多筆，收據均採人工開立，所以作業較慢，至今開出收據不到 20 萬筆，預定 6 月底可全數開出。（劉榮輝／台南報導）\\n謝龍介批市府開立收據太慢輸新北市。劉榮輝攝。', 3557])\n",
      "311\n",
      "insert into news_entry(link,category,title,time,summary,view_cnt) values(?,?,?,?,?,?)\n",
      "dict_values(['http://www.appledaily.com.tw//realtimenews/article/nextmag/20160511/858451/【壹週刊】速決鄭捷過程合法人權團體：羅瑩雪自打嘴巴', '壹週刊', ' 【壹週刊】速決鄭捷過程合法 人權團體：...', '2016/05/11 11:22', '殘忍犯下4死22傷捷運殺人案的鄭捷，在最高法院死刑定讞第19天，昨(10日)遭槍決，法務部長羅瑩雪今(11日)上午受訪時強調簽下鄭捷槍決令過程絕對合法，不過台灣人權促進會砲轟羅部長根本是自打嘴巴。\\xa0台灣人權促進會祕書長邱伊翎表示：「台灣是個法治國家，法律有賦予人民有提非常上訴、再審及釋憲等的救濟期限，目前鄭捷還沒有超過30天法定期限，才19天而已，因此部長說是合法完全是自打嘴巴。」\\xa0羅瑩雪今早表示：「這個案件非常特別，鄭捷帶來的傷害，讓人心惶惶，治安產生不良影響，為了要使社會導入正途，讓那些崇拜、想效法鄭捷的人知所警惕，所以我們快速執行此案，因為此案案情非常簡單明白，證據直接明確，審查過程也照過去一樣，每個步驟都做了，但就像剛剛講的原因，所以比較快。」(撰文：專案組)', 6])\n",
      "312\n",
      "insert into news_entry(link,category,title,time,summary,view_cnt) values(?,?,?,?,?,?)\n",
      "dict_values(['http://www.appledaily.com.tw//realtimenews/article/entertainment/20160511/858377/【更新】鄭捷為何槍決？\\u3000美女主播「神翻譯」', '娛樂', '【更新】鄭捷為何槍決？\\u3000美女主播「神翻譯...', '2016/05/11 11:21', '（更新：白喬茵刪文）\\xa0鄭捷昨晚遭槍決，法務部隨即發出新聞稿，三立新聞主播白喬茵把它翻成「白話文」，獲網友好評。\\xa0不過白喬茵今天上午已將該PO文刪除。\\xa0白喬茵分享法務部新聞稿，「由於鄭捷案影響社會層面甚廣，社會大眾也紛紛要求法務部應依法執行死刑，以彰顯社會公義。我們理解，人權保障固為普世價值，惟刑事政策必須兼顧被害人人權及社會正義，發揮刑罰抗衡犯罪的功能，以維護社會秩序安定，保障絕大多數善良百姓的安全與福祉。」\\xa0白喬茵改成淺顯易懂的文，「我知道你有人權，但既然大多數人要你死，我就保不了你了，所以得罪了，我要開槍了！」\\xa0網友大推女主播一下子就讓人了解新聞緣由，「新聞稿給妳寫得很容易懂」。（王嘉慶／綜合報導）\\xa0出版時間\\u300010：23更新時間\\u300011：21\\n三立新聞主播白喬茵。翻攝臉書網友擷圖白喬茵臉書PO文。翻攝網路', 54378])\n",
      "313\n",
      "insert into news_entry(link,category,title,time,summary,view_cnt) values(?,?,?,?,?,?)\n",
      "dict_values(['http://www.appledaily.com.tw//realtimenews/article/finance/20160511/858445/雙鏡頭夯\\u3000大立光目標價上看3200元', '財經', '雙鏡頭夯\\u3000大立光目標價上看3200元', '2016/05/11 11:21', '歐系外資重新聚焦雙鏡頭趨勢，看好全球品牌廠採用雙鏡頭滲透率提升，預期今年大立光主要客戶蘋果、華為加速採用，帶動全球雙鏡頭滲透率可達5.6%、明年有望達13.5%，大立光將在6月重啟動能，將評等從減碼調升至買進，將目標價從先前的2000元一舉調升至3200元，也同步上調今明年獲利預估2.7%、18.4%。\\xa0由於大立光可能從下半年將提供主要客戶雙鏡頭鏡頭，雖然光學防手震組裝需要更複雜的製成，且由鏡頭模組著手，可能影響大立光營收，但對獲利影響應有限，預期大立光毛利率在有望擴增至60%。（陳俐妏／台北報導）', 1429])\n",
      "314\n",
      "insert into news_entry(link,category,title,time,summary,view_cnt) values(?,?,?,?,?,?)\n",
      "dict_values(['http://www.appledaily.com.tw//realtimenews/article/life/20160511/858437/【民報】面對生命的不確定／正念減壓，不被復發陰影綁架', '生活', '【民報】面對生命的不確定／正念減壓，不被...', '2016/05/11 11:20', '本內容由民報提供\\xa0(摘錄 全文請連結民報)民報編輯部\\xa0前言：正念(Mindfulness)逐漸進入醫學主流，許多美國、英國、加拿大等醫學中心，都開始將正念應用在醫療上。透過有系統的正念練習，重新學習專注意念，體驗心活在當下、身體活在當下，幫助癌友遠離復發陰影，啟動新生活。\\xa0雖然治療日新月異，癌症仍然令人聞風喪膽，許多癌友咬牙撐過治療，追蹤5年「畢業」後，心理的恐懼仍會因為身旁病友一個又一個復發而逐漸擴張，很難逃離擔憂復發的隱形魔咒。\\xa0而這份恐懼可能放大了身體一切的不適，如胃痛就想到胃癌，一點不適都可能讓癌友崩潰。\\xa0台灣正念工坊執行長、諮商心理師陳德中解釋，情緒（感受）、認知（想法）、行為三者會互相影響，許多病友時常因身體不舒服而陷入負面循環，比如身體出現胃痛的感受，進而產生如癌症轉移等擔憂及想法；此時看到孩子不乖，可能對孩子發脾氣、說出「以後媽媽不在該怎麼辦？」等行為，家人可能因此影響心情與病友起衝突，衝突又容易讓病友產生身體不適，一連串由感受引發的連鎖效應就像無止境的漩渦，難以掙脫。「此時，身體的痛（pain）已經從原本只是單純神經反應，變成了身心煎熬的痛苦（suffering），」陳德中說。\\xa0現在國內逐漸推廣的正念減壓（Mindfulness-Based Stress Reduction）源自喬‧卡巴金（Jon Kabat-Zinn）於美國麻州大學醫學中心開設的減壓門診，藉由系統性的練習，協助病人處理壓力、疼痛、慢性疾病等所導致的種種身心問題，目前已有豐富研究證實正念減壓的效果，許多研究者也以此基礎運用到各領域。\\xa0而從正念減壓課程延伸出的「正念取向癌症療癒（Mindfulness-Based Cancer Recovery，簡稱MBCR）」，則是特別為癌友設計的課程，用來處理罹患癌症後的情緒與壓力問題，幫助病友從惡性循環解脫。\\xa0目前已有許多研究證實正念取向可以協助癌友改善憂鬱、焦慮與不安的情緒。其中最早期的一篇是2000年發表在《心身醫學期刊（Psychosomatic Medicine）》的研究，經過正念減壓的課程後，參與癌友的情緒狀態、憂鬱指標如焦慮、憤怒、疑惑等等都顯著地比對照組少，也更有活力。整體減少了65％的情緒困擾、35％壓力症狀；壓力反應如肌肉緊繃、腸胃不適、易怒、緊張、酗酒、睡眠問題等也大幅降低。在課程結束後的6個月，學員身上的效果仍持續。\\xa0而在台灣，由和信治癌中心醫院臨床心理師石世明在和信治癌中心醫院帶領的正念課程效果顯示......\\u200b(摘錄 全文請連結民報)', 690])\n"
     ]
    }
   ],
   "source": [
    "import sqlite3\n",
    "db=sqlite3.connect('news.sqlite')\n",
    "cur=db.cursor()\n",
    "insert_stmt = 'insert into news_entry({}) values({})'\n",
    "for idx,news in enumerate(newsToday):\n",
    "    print(idx)\n",
    "    columns = ','.join(news.keys())\n",
    "    vals = ','.join(len(news.keys()) * '?')\n",
    "    sql = insert_stmt.format(columns, vals)\n",
    "    print(sql)\n",
    "    print(news.values())\n",
    "    cur.execute(sql, list(news.values())) # 要list()轉型\n",
    "    db.commit() # 要commit\n",
    "cur.close()\n",
    "db.close()"
   ]
  },
  {
   "cell_type": "code",
   "execution_count": null,
   "metadata": {
    "collapsed": true
   },
   "outputs": [],
   "source": [
    "import pandas as pd \n",
    "df = pd.DataFrame(newsall)\n",
    "df.head()"
   ]
  },
  {
   "cell_type": "code",
   "execution_count": 48,
   "metadata": {
    "collapsed": true
   },
   "outputs": [],
   "source": [
    "# Dataframe to DB\n",
    "import sqlite3 as lite\n",
    "with lite.connect('news.sqlite') as db:\n",
    "    df.to_sql(name='news_entry3', index=False, con=db, if_exists='replace')"
   ]
  },
  {
   "cell_type": "code",
   "execution_count": 49,
   "metadata": {
    "collapsed": false
   },
   "outputs": [
    {
     "data": {
      "text/plain": [
       "id          579\n",
       "category    579\n",
       "view_cnt    579\n",
       "time        579\n",
       "title       579\n",
       "summary     579\n",
       "link        579\n",
       "dtype: int64"
      ]
     },
     "execution_count": 49,
     "metadata": {},
     "output_type": "execute_result"
    }
   ],
   "source": [
    "# DB 2 Dataframe\n",
    "import sqlite3 as lite\n",
    "with lite.connect('news.sqlite') as db:\n",
    "    df2 = pd.read_sql_query('SELECT * FROM news_entry;', db)\n",
    "df2.count()"
   ]
  },
  {
   "cell_type": "code",
   "execution_count": 53,
   "metadata": {
    "collapsed": false
   },
   "outputs": [
    {
     "name": "stdout",
     "output_type": "stream",
     "text": [
      "Error Occur!\n"
     ]
    },
    {
     "ename": "NameError",
     "evalue": "name 'traceback' is not defined",
     "output_type": "error",
     "traceback": [
      "\u001b[1;31m---------------------------------------------------------------------------\u001b[0m",
      "\u001b[1;31mOperationalError\u001b[0m                          Traceback (most recent call last)",
      "\u001b[1;32m<ipython-input-53-818bbb4d9b8c>\u001b[0m in \u001b[0;36m<module>\u001b[1;34m()\u001b[0m\n\u001b[0;32m      6\u001b[0m \u001b[1;32mtry\u001b[0m\u001b[1;33m:\u001b[0m\u001b[1;33m\u001b[0m\u001b[0m\n\u001b[1;32m----> 7\u001b[1;33m     \u001b[0mcur\u001b[0m\u001b[1;33m.\u001b[0m\u001b[0mexecute\u001b[0m\u001b[1;33m(\u001b[0m\u001b[0msql\u001b[0m\u001b[1;33m)\u001b[0m\u001b[1;33m\u001b[0m\u001b[0m\n\u001b[0m\u001b[0;32m      8\u001b[0m \u001b[1;32mexcept\u001b[0m\u001b[1;33m:\u001b[0m\u001b[1;33m\u001b[0m\u001b[0m\n",
      "\u001b[1;31mOperationalError\u001b[0m: no such table: news_entry3",
      "\nDuring handling of the above exception, another exception occurred:\n",
      "\u001b[1;31mNameError\u001b[0m                                 Traceback (most recent call last)",
      "\u001b[1;32m<ipython-input-53-818bbb4d9b8c>\u001b[0m in \u001b[0;36m<module>\u001b[1;34m()\u001b[0m\n\u001b[0;32m      8\u001b[0m \u001b[1;32mexcept\u001b[0m\u001b[1;33m:\u001b[0m\u001b[1;33m\u001b[0m\u001b[0m\n\u001b[0;32m      9\u001b[0m     \u001b[0mprint\u001b[0m\u001b[1;33m(\u001b[0m\u001b[1;34m\"Error Occur!\"\u001b[0m\u001b[1;33m)\u001b[0m\u001b[1;33m\u001b[0m\u001b[0m\n\u001b[1;32m---> 10\u001b[1;33m     \u001b[0mtraceback\u001b[0m\u001b[1;33m.\u001b[0m\u001b[0mprint_exc\u001b[0m\u001b[1;33m(\u001b[0m\u001b[1;33m)\u001b[0m\u001b[1;33m\u001b[0m\u001b[0m\n\u001b[0m\u001b[0;32m     11\u001b[0m \u001b[1;32mfinally\u001b[0m\u001b[1;33m:\u001b[0m\u001b[1;33m\u001b[0m\u001b[0m\n\u001b[0;32m     12\u001b[0m     \u001b[0mdb\u001b[0m\u001b[1;33m.\u001b[0m\u001b[0mcommit\u001b[0m\u001b[1;33m(\u001b[0m\u001b[1;33m)\u001b[0m \u001b[1;31m# 要commit\u001b[0m\u001b[1;33m\u001b[0m\u001b[0m\n",
      "\u001b[1;31mNameError\u001b[0m: name 'traceback' is not defined"
     ]
    }
   ],
   "source": [
    "# Drop table \n",
    "import sqlite3\n",
    "db=sqlite3.connect('news.sqlite')\n",
    "cur=db.cursor()\n",
    "sql = 'drop table news_entry3'\n",
    "try:\n",
    "    cur.execute(sql)\n",
    "except:\n",
    "    print(\"Error Occur!\")\n",
    "    traceback.print_exc()\n",
    "finally:    \n",
    "    db.commit() # 要commit\n",
    "    cur.close()\n",
    "    db.close()"
   ]
  }
 ],
 "metadata": {
  "kernelspec": {
   "display_name": "Python 3",
   "language": "python",
   "name": "python3"
  },
  "language_info": {
   "codemirror_mode": {
    "name": "ipython",
    "version": 3
   },
   "file_extension": ".py",
   "mimetype": "text/x-python",
   "name": "python",
   "nbconvert_exporter": "python",
   "pygments_lexer": "ipython3",
   "version": "3.5.1"
  }
 },
 "nbformat": 4,
 "nbformat_minor": 0
}
