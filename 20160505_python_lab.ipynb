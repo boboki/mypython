{
 "cells": [
  {
   "cell_type": "code",
   "execution_count": 13,
   "metadata": {
    "collapsed": false
   },
   "outputs": [
    {
     "data": {
      "text/plain": [
       "5"
      ]
     },
     "execution_count": 13,
     "metadata": {},
     "output_type": "execute_result"
    }
   ],
   "source": [
    "a=3\n",
    "b=2\n",
    "a+b"
   ]
  },
  {
   "cell_type": "code",
   "execution_count": 11,
   "metadata": {
    "collapsed": false
   },
   "outputs": [
    {
     "name": "stdout",
     "output_type": "stream",
     "text": [
      "6\n"
     ]
    }
   ],
   "source": [
    "print(a+3)"
   ]
  },
  {
   "cell_type": "code",
   "execution_count": 6,
   "metadata": {
    "collapsed": false
   },
   "outputs": [
    {
     "name": "stdout",
     "output_type": "stream",
     "text": [
      "Help on package requests:\n",
      "\n",
      "NAME\n",
      "    requests\n",
      "\n",
      "DESCRIPTION\n",
      "    Requests HTTP library\n",
      "    ~~~~~~~~~~~~~~~~~~~~~\n",
      "    \n",
      "    Requests is an HTTP library, written in Python, for human beings. Basic GET\n",
      "    usage:\n",
      "    \n",
      "       >>> import requests\n",
      "       >>> r = requests.get('https://www.python.org')\n",
      "       >>> r.status_code\n",
      "       200\n",
      "       >>> 'Python is a programming language' in r.content\n",
      "       True\n",
      "    \n",
      "    ... or POST:\n",
      "    \n",
      "       >>> payload = dict(key1='value1', key2='value2')\n",
      "       >>> r = requests.post('http://httpbin.org/post', data=payload)\n",
      "       >>> print(r.text)\n",
      "       {\n",
      "         ...\n",
      "         \"form\": {\n",
      "           \"key2\": \"value2\",\n",
      "           \"key1\": \"value1\"\n",
      "         },\n",
      "         ...\n",
      "       }\n",
      "    \n",
      "    The other HTTP methods are supported - see `requests.api`. Full documentation\n",
      "    is at <http://python-requests.org>.\n",
      "    \n",
      "    :copyright: (c) 2015 by Kenneth Reitz.\n",
      "    :license: Apache 2.0, see LICENSE for more details.\n",
      "\n",
      "PACKAGE CONTENTS\n",
      "    adapters\n",
      "    api\n",
      "    auth\n",
      "    certs\n",
      "    compat\n",
      "    cookies\n",
      "    exceptions\n",
      "    hooks\n",
      "    models\n",
      "    packages (package)\n",
      "    sessions\n",
      "    status_codes\n",
      "    structures\n",
      "    utils\n",
      "\n",
      "DATA\n",
      "    __build__ = 133377\n",
      "    __copyright__ = 'Copyright 2015 Kenneth Reitz'\n",
      "    __license__ = 'Apache 2.0'\n",
      "    __title__ = 'requests'\n",
      "    codes = <lookup 'status_codes'>\n",
      "\n",
      "VERSION\n",
      "    2.9.1\n",
      "\n",
      "AUTHOR\n",
      "    Kenneth Reitz\n",
      "\n",
      "FILE\n",
      "    c:\\anaconda3\\lib\\site-packages\\requests\\__init__.py\n",
      "\n",
      "\n"
     ]
    }
   ],
   "source": [
    "import requests\n",
    "dir(requests)\n",
    "help(requests)"
   ]
  },
  {
   "cell_type": "code",
   "execution_count": 9,
   "metadata": {
    "collapsed": false
   },
   "outputs": [
    {
     "data": {
      "text/plain": [
       "['__abs__',\n",
       " '__add__',\n",
       " '__and__',\n",
       " '__bool__',\n",
       " '__ceil__',\n",
       " '__class__',\n",
       " '__delattr__',\n",
       " '__dir__',\n",
       " '__divmod__',\n",
       " '__doc__',\n",
       " '__eq__',\n",
       " '__float__',\n",
       " '__floor__',\n",
       " '__floordiv__',\n",
       " '__format__',\n",
       " '__ge__',\n",
       " '__getattribute__',\n",
       " '__getnewargs__',\n",
       " '__gt__',\n",
       " '__hash__',\n",
       " '__index__',\n",
       " '__init__',\n",
       " '__int__',\n",
       " '__invert__',\n",
       " '__le__',\n",
       " '__lshift__',\n",
       " '__lt__',\n",
       " '__mod__',\n",
       " '__mul__',\n",
       " '__ne__',\n",
       " '__neg__',\n",
       " '__new__',\n",
       " '__or__',\n",
       " '__pos__',\n",
       " '__pow__',\n",
       " '__radd__',\n",
       " '__rand__',\n",
       " '__rdivmod__',\n",
       " '__reduce__',\n",
       " '__reduce_ex__',\n",
       " '__repr__',\n",
       " '__rfloordiv__',\n",
       " '__rlshift__',\n",
       " '__rmod__',\n",
       " '__rmul__',\n",
       " '__ror__',\n",
       " '__round__',\n",
       " '__rpow__',\n",
       " '__rrshift__',\n",
       " '__rshift__',\n",
       " '__rsub__',\n",
       " '__rtruediv__',\n",
       " '__rxor__',\n",
       " '__setattr__',\n",
       " '__sizeof__',\n",
       " '__str__',\n",
       " '__sub__',\n",
       " '__subclasshook__',\n",
       " '__truediv__',\n",
       " '__trunc__',\n",
       " '__xor__',\n",
       " 'bit_length',\n",
       " 'conjugate',\n",
       " 'denominator',\n",
       " 'from_bytes',\n",
       " 'imag',\n",
       " 'numerator',\n",
       " 'real',\n",
       " 'to_bytes']"
      ]
     },
     "execution_count": 9,
     "metadata": {},
     "output_type": "execute_result"
    }
   ],
   "source": [
    "dir()\n",
    "dir(1)"
   ]
  },
  {
   "cell_type": "markdown",
   "metadata": {},
   "source": [
    "# python requests"
   ]
  },
  {
   "cell_type": "code",
   "execution_count": 11,
   "metadata": {
    "collapsed": false
   },
   "outputs": [
    {
     "data": {
      "text/plain": [
       "<Response [200]>"
      ]
     },
     "execution_count": 11,
     "metadata": {},
     "output_type": "execute_result"
    }
   ],
   "source": [
    "import requests\n",
    "res = requests.get('http://www.appledaily.com.tw/realtimenews/section/new/')\n",
    "res"
   ]
  },
  {
   "cell_type": "code",
   "execution_count": 13,
   "metadata": {
    "collapsed": false
   },
   "outputs": [
    {
     "data": {
      "text/plain": [
       "requests.models.Response"
      ]
     },
     "execution_count": 13,
     "metadata": {},
     "output_type": "execute_result"
    }
   ],
   "source": [
    "type(res)"
   ]
  },
  {
   "cell_type": "code",
   "execution_count": 23,
   "metadata": {
    "collapsed": false,
    "scrolled": false
   },
   "outputs": [
    {
     "name": "stdout",
     "output_type": "stream",
     "text": [
      "['__attrs__', '__bool__', '__class__', '__delattr__', '__dict__', '__dir__', '__doc__', '__eq__', '__format__', '__ge__', '__getattribute__', '__getstate__', '__gt__', '__hash__', '__init__', '__iter__', '__le__', '__lt__', '__module__', '__ne__', '__new__', '__nonzero__', '__reduce__', '__reduce_ex__', '__repr__', '__setattr__', '__setstate__', '__sizeof__', '__str__', '__subclasshook__', '__weakref__', '_content', '_content_consumed', 'apparent_encoding', 'close', 'connection', 'content', 'cookies', 'elapsed', 'encoding', 'headers', 'history', 'is_permanent_redirect', 'is_redirect', 'iter_content', 'iter_lines', 'json', 'links', 'ok', 'raise_for_status', 'raw', 'reason', 'request', 'status_code', 'text', 'url']\n",
      "{'Content-Type': 'text/html; charset=utf-8', 'Connection': 'keep-alive', 'Content-Encoding': 'gzip', 'Vary': 'Accept-Encoding', 'Date': 'Sat, 07 May 2016 05:12:34 GMT', 'Server': 'Apache', 'Content-Length': '15687'}\n",
      "http://www.appledaily.com.tw/realtimenews/section/new/\n"
     ]
    }
   ],
   "source": [
    "print(dir(res))\n",
    "print(res.headers)\n",
    "print(res.url)\n",
    "# print(res.text)"
   ]
  },
  {
   "cell_type": "code",
   "execution_count": 26,
   "metadata": {
    "collapsed": false
   },
   "outputs": [
    {
     "data": {
      "text/plain": [
       "2"
      ]
     },
     "execution_count": 26,
     "metadata": {},
     "output_type": "execute_result"
    }
   ],
   "source": [
    "dic = {'a':1, 'b':2, 'c':4}\n",
    "dic['b']"
   ]
  },
  {
   "cell_type": "markdown",
   "metadata": {},
   "source": [
    "# BeautifulSoup"
   ]
  },
  {
   "cell_type": "code",
   "execution_count": 31,
   "metadata": {
    "collapsed": false
   },
   "outputs": [
    {
     "name": "stdout",
     "output_type": "stream",
     "text": [
      "\n",
      "<html> \n",
      "<body> \n",
      "   <h1 id=\"title\">Hello World</h1> \n",
      "   <a href=\"#\" class=\"link\">This is link1</a> \n",
      "   <a href=\"# link2\" class=\"link\">This is link2</a> \n",
      "</body> \n",
      "</html>\n",
      "<class 'bs4.BeautifulSoup'>\n",
      "\n",
      "\n",
      "\n",
      "Hello World\n",
      "This is link1\n",
      "This is link2\n",
      "\n",
      "\n"
     ]
    }
   ],
   "source": [
    "from bs4 import BeautifulSoup\n",
    "html_sample='''\n",
    "<html> \n",
    "<body> \n",
    "   <h1 id=\"title\">Hello World</h1> \n",
    "   <a href=\"#\" class=\"link\">This is link1</a> \n",
    "   <a href=\"# link2\" class=\"link\">This is link2</a> \n",
    "</body> \n",
    "</html>'''\n",
    "print(html_sample)\n",
    "\n",
    "soup = BeautifulSoup(html_sample, 'html.parser')\n",
    "print(type(soup))\n",
    "print(soup.text)"
   ]
  },
  {
   "cell_type": "code",
   "execution_count": 33,
   "metadata": {
    "collapsed": false
   },
   "outputs": [
    {
     "name": "stdout",
     "output_type": "stream",
     "text": [
      "1\n",
      "2\n",
      "5\n"
     ]
    }
   ],
   "source": [
    "a=[1,2,3,4,5]\n",
    "print(a[0])\n",
    "print(a[1])\n",
    "print(a[-1])"
   ]
  },
  {
   "cell_type": "code",
   "execution_count": 47,
   "metadata": {
    "collapsed": false
   },
   "outputs": [
    {
     "name": "stdout",
     "output_type": "stream",
     "text": [
      "[<a class=\"link\" href=\"#\">This is link1</a>, <a class=\"link\" href=\"# link2\">This is link2</a>]\n",
      "<class 'list'>\n",
      "<a class=\"link\" href=\"#\">This is link1</a>\n",
      "This is link1\n",
      "#\n",
      "# link2\n"
     ]
    }
   ],
   "source": [
    "print(soup.select('a'))\n",
    "print(type(soup.select('a')))\n",
    "print(soup.select('a')[0])\n",
    "print(soup.select('a')[0].text)\n",
    "for link in soup.select('a'):\n",
    "    print(link['href'])"
   ]
  },
  {
   "cell_type": "code",
   "execution_count": 42,
   "metadata": {
    "collapsed": false
   },
   "outputs": [
    {
     "name": "stdout",
     "output_type": "stream",
     "text": [
      "[<h1 id=\"title\">Hello World</h1>]\n",
      "<class 'list'>\n",
      "<h1 id=\"title\">Hello World</h1>\n",
      "Hello World\n"
     ]
    }
   ],
   "source": [
    "print(soup.select('h1'))\n",
    "print(type(soup.select('h1')))\n",
    "print(soup.select('h1')[0])\n",
    "print(soup.select('h1')[0].text)"
   ]
  },
  {
   "cell_type": "code",
   "execution_count": 44,
   "metadata": {
    "collapsed": false
   },
   "outputs": [
    {
     "name": "stdout",
     "output_type": "stream",
     "text": [
      "[<h1 id=\"title\">Hello World</h1>]\n",
      "Hello World\n"
     ]
    }
   ],
   "source": [
    "#id => #\n",
    "print(soup.select('#title'))\n",
    "print(soup.select('#title')[0].text)"
   ]
  },
  {
   "cell_type": "code",
   "execution_count": 48,
   "metadata": {
    "collapsed": false
   },
   "outputs": [
    {
     "name": "stdout",
     "output_type": "stream",
     "text": [
      "[<a class=\"link\" href=\"#\">This is link1</a>, <a class=\"link\" href=\"# link2\">This is link2</a>]\n",
      "This is link1\n"
     ]
    }
   ],
   "source": [
    "#classs => .\n",
    "print(soup.select('.link'))\n",
    "print(soup.select('.link')[0].text)"
   ]
  },
  {
   "cell_type": "code",
   "execution_count": 65,
   "metadata": {
    "collapsed": false,
    "scrolled": false
   },
   "outputs": [
    {
     "name": "stdout",
     "output_type": "stream",
     "text": [
      "[<a href=\"#\" iii=\"ttt\" qoo=\"123\">this is a link</a>]\n",
      "<a href=\"#\" iii=\"ttt\" qoo=\"123\">this is a link</a>\n",
      "ttt 123\n"
     ]
    }
   ],
   "source": [
    "a = '<a href=# qoo=123 iii=ttt>this is a link</a>'\n",
    "soup2 = BeautifulSoup(a,'html.parser')\n",
    "print(soup2.select('a'))\n",
    "print(soup2.select('a')[0])\n",
    "for ele in soup2.select('a'):\n",
    "    print(ele['iii'], ele['qoo'])"
   ]
  },
  {
   "cell_type": "markdown",
   "metadata": {},
   "source": [
    "# Case AppleDailyNews"
   ]
  },
  {
   "cell_type": "code",
   "execution_count": 80,
   "metadata": {
    "collapsed": false
   },
   "outputs": [
    {
     "name": "stdout",
     "output_type": "stream",
     "text": [
      "2016 / 05 / 07\n",
      "30\n",
      "===================\n",
      "MLB今日戰績(0) 2016/05/07 16:07 體育\n",
      "===================\n",
      "日巡世界女子高爾夫錦標賽　姚宣榆落後8桿(480) 2016/05/07 16:05 體育\n",
      "===================\n",
      "今年要不要參加WHA？　蔡英文笑而不答(0) 2016/05/07 16:05 政治\n",
      "===================\n",
      "【更新】台新銀搶匪落網　追回60萬贓款(42162) 2016/05/07 16:04 社會\n",
      "===================\n",
      "【有片】殘忍育兒法？　母坐視女嬰水中掙扎...(7676) 2016/05/07 16:01 國際\n",
      "===================\n",
      "女闖輸送帶大鬧　羽田機場重驗行李2小時(52) 2016/05/07 15:59 國際\n",
      "===================\n",
      "【有片】26歲喀麥隆中場國腳猝死賽場(6404) 2016/05/07 15:55 體育\n",
      "===================\n",
      "【法廣RFI】陸外儲再升 人民幣貶值壓力...(47) 2016/05/07 15:55 財經\n",
      "===================\n",
      "林洲民：台北人真自私　接納豪宅反對好宅(351) 2016/05/07 15:54 生活\n",
      "===================\n",
      "​台大實驗室氟氣外洩　化災人員進入處理(5016) 2016/05/07 15:53 社會\n"
     ]
    }
   ],
   "source": [
    "import requests\n",
    "from bs4 import BeautifulSoup as bs\n",
    "res = requests.get('http://www.appledaily.com.tw/realtimenews/section/new/')\n",
    "soup = bs(res.text, 'html.parser')\n",
    "\n",
    "print(soup.select('h1.dddd')[0].text)\n",
    "# if today==soup.select('h1.dddd')[0].text break\n",
    "today = \"\".join(soup.select('h1.dddd')[0].text.split())\n",
    "\n",
    "print(len(soup.select('li.rtddt')))\n",
    "for li in soup.select('li.rtddt')[0:10]:\n",
    "    print(\"===================\")\n",
    "#     print(li)\n",
    "    print(li.select('h1')[0].text, '{} {}'.format(today, li.select('time')[0].text), li.select('h2')[0].text)"
   ]
  },
  {
   "cell_type": "code",
   "execution_count": 83,
   "metadata": {
    "collapsed": false
   },
   "outputs": [
    {
     "name": "stdout",
     "output_type": "stream",
     "text": [
      "True\n",
      "True\n"
     ]
    }
   ],
   "source": [
    "s='apple'\n",
    "print(s=='apple')\n",
    "print(s is 'apple')"
   ]
  },
  {
   "cell_type": "code",
   "execution_count": 87,
   "metadata": {
    "collapsed": false
   },
   "outputs": [
    {
     "name": "stdout",
     "output_type": "stream",
     "text": [
      "a\n",
      "a\n",
      "a\n",
      "a\n"
     ]
    }
   ],
   "source": [
    "import re\n",
    "a = 'apple'\n",
    "m  = re.match('a', a)\n",
    "print(m.group(0))\n",
    "\n",
    "m  = re.match('[abcdefghhijklmnopqrstuvwxyz]', a)\n",
    "print(m.group(0))\n",
    "\n",
    "m  = re.match('[a-z]', a)\n",
    "print(m.group(0))\n",
    "\n",
    "m  = re.match('\\w', a)\n",
    "print(m.group(0))"
   ]
  },
  {
   "cell_type": "code",
   "execution_count": 89,
   "metadata": {
    "collapsed": false
   },
   "outputs": [
    {
     "name": "stdout",
     "output_type": "stream",
     "text": [
      "1\n",
      "1\n",
      "1\n",
      "1\n"
     ]
    }
   ],
   "source": [
    "s = '1a2@'\n",
    "m  = re.match('1', s)\n",
    "print(m.group(0))\n",
    "\n",
    "m  = re.match('[0123456789]', s)\n",
    "print(m.group(0))\n",
    "\n",
    "m  = re.match('[0-9]', s)\n",
    "print(m.group(0))\n",
    "\n",
    "m  = re.match('\\d', s)\n",
    "print(m.group(0))"
   ]
  },
  {
   "cell_type": "code",
   "execution_count": 95,
   "metadata": {
    "collapsed": false
   },
   "outputs": [
    {
     "name": "stdout",
     "output_type": "stream",
     "text": [
      "apple\n",
      "apple\n",
      "apple\n",
      "apple\n",
      "apple\n"
     ]
    }
   ],
   "source": [
    "import re\n",
    "a = 'apple'\n",
    "m  = re.match('\\w{5,9}', a)\n",
    "print(m.group(0))\n",
    "\n",
    "m  = re.match('\\w{0,}', a)\n",
    "print(m.group(0))\n",
    "\n",
    "m  = re.match('\\w*', a) # {0, } => *\n",
    "print(m.group(0))\n",
    "\n",
    "m  = re.match('\\w{1,}', a) \n",
    "print(m.group(0))\n",
    "\n",
    "m  = re.match('\\w+', a) # {1, } => +\n",
    "print(m.group(0))"
   ]
  },
  {
   "cell_type": "code",
   "execution_count": 97,
   "metadata": {
    "collapsed": false
   },
   "outputs": [
    {
     "name": "stdout",
     "output_type": "stream",
     "text": [
      "0912345678\n",
      "0912\n",
      "0912\n",
      "091234567812301382908128302193802913\n"
     ]
    }
   ],
   "source": [
    "phone = ['0912345678', '0912-345-678', '0912-345678', '091234567812301382908128302193802913']\n",
    "import re\n",
    "for p in phone:\n",
    "    m = re.match('09\\d+', p)\n",
    "    print(m.group(0))"
   ]
  },
  {
   "cell_type": "code",
   "execution_count": 98,
   "metadata": {
    "collapsed": false
   },
   "outputs": [
    {
     "name": "stdout",
     "output_type": "stream",
     "text": [
      "0912345678\n",
      "0912-345-678\n",
      "0912-345678\n",
      "0912345678\n"
     ]
    }
   ],
   "source": [
    "phone = ['0912345678', '0912-345-678', '0912-345678', '091234567812301382908128302193802913']\n",
    "import re\n",
    "for p in phone:\n",
    "    m = re.match('09\\d{2}-{0,1}\\d{3}-{0,1}\\d{3}', p) # {0,1} => ?\n",
    "    print(m.group(0))"
   ]
  },
  {
   "cell_type": "code",
   "execution_count": 99,
   "metadata": {
    "collapsed": false
   },
   "outputs": [
    {
     "name": "stdout",
     "output_type": "stream",
     "text": [
      "0912345678\n",
      "0912-345-678\n",
      "0912-345678\n",
      "0912345678\n"
     ]
    }
   ],
   "source": [
    "phone = ['0912345678', '0912-345-678', '0912-345678', '091234567812301382908128302193802913']\n",
    "import re\n",
    "for p in phone:\n",
    "    m = re.match('09\\d{2}-?\\d{3}-?\\d{3}', p) # {0,1} => ?\n",
    "    print(m.group(0))"
   ]
  },
  {
   "cell_type": "code",
   "execution_count": 101,
   "metadata": {
    "collapsed": false
   },
   "outputs": [
    {
     "name": "stdout",
     "output_type": "stream",
     "text": [
      "0912345678\n",
      "0912-345-678\n",
      "0912-345678\n"
     ]
    }
   ],
   "source": [
    "phone = ['0912345678', '0912-345-678', '0912-345678', '091234567812301382908128302193802913']\n",
    "import re\n",
    "for p in phone:\n",
    "    m = re.match('^09\\d{2}-?\\d{3}-?\\d{3}$', p) # ^ match initial, $ match end\n",
    "    if m:\n",
    "        print(m.group(0))"
   ]
  },
  {
   "cell_type": "code",
   "execution_count": 109,
   "metadata": {
    "collapsed": false
   },
   "outputs": [
    {
     "name": "stdout",
     "output_type": "stream",
     "text": [
      "2016 / 05 / 07\n",
      "30\n",
      "===================\n",
      "【更新】郭俊麟1.2局被KO　火腿8比6...(11457) 2016/05/07 16:50 體育 http://www.appledaily.com.tw//realtimenews/article/sports/20160507/855491/【更新】郭俊麟1.2局被KO　火腿8比6勝西武\n",
      "===================\n",
      "忘情觀海困沙洲　輕熟女險滅頂(0) 2016/05/07 16:49 社會 http://www.appledaily.com.tw//realtimenews/article/local/20160507/855621/忘情觀海困沙洲　輕熟女險滅頂\n",
      "===================\n",
      "一家4口受困電梯　警消助脫困(0) 2016/05/07 16:48 社會 http://www.appledaily.com.tw//realtimenews/article/local/20160507/855619/一家4口受困電梯　警消助脫困\n",
      "===================\n",
      "統一vs.中信　陳韻文vs.希克(8) 2016/05/07 16:45 體育 http://www.appledaily.com.tw//realtimenews/article/sports/20160507/855620/統一vs.中信　陳韻文vs.希克\n",
      "===================\n",
      "陽耀勳縫12針　約須休養一個月(342) 2016/05/07 16:40 體育 http://www.appledaily.com.tw//realtimenews/article/sports/20160507/855617/陽耀勳縫12針　約須休養一個月\n",
      "===================\n",
      "【更新】要跟老婆離婚　男子攜槍大鬧岳父家(4363) 2016/05/07 16:38 社會 http://www.appledaily.com.tw//realtimenews/article/local/20160507/855519/【更新】要跟老婆離婚　男子攜槍大鬧岳父家\n",
      "===================\n",
      "【更新】譏下屬「有菜味」遭殺　家屬駁「把...(6478) 2016/05/07 16:35 社會 http://www.appledaily.com.tw//realtimenews/article/local/20160507/855552/【更新】譏下屬「有菜味」遭殺　家屬駁「把他當朋友竟被殺」\n",
      "===================\n",
      "【有片】母親節快樂！　美女立委們這樣過節(354) 2016/05/07 16:33 政治 http://www.appledaily.com.tw//realtimenews/article/politics/20160507/855258/【有片】母親節快樂！　美女立委們這樣過節\n",
      "===================\n",
      "【更新】台北長庚電腦出包　約千人受影響　(2720) 2016/05/07 16:33 生活 http://www.appledaily.com.tw//realtimenews/article/life/20160507/855527/【更新】台北長庚電腦出包　約千人受影響　\n",
      "===================\n",
      "【有片】桃園王室打線出征　國輝國麟再拼同...(246) 2016/05/07 16:33 體育 http://www.appledaily.com.tw//realtimenews/article/sports/20160507/855574/【有片】桃園王室打線出征　國輝國麟再拼同場開轟\n"
     ]
    }
   ],
   "source": [
    "import requests\n",
    "from bs4 import BeautifulSoup as bs\n",
    "res = requests.get('http://www.appledaily.com.tw/realtimenews/section/new/')\n",
    "soup = bs(res.text, 'html.parser')\n",
    "\n",
    "print(soup.select('h1.dddd')[0].text)\n",
    "# if today==soup.select('h1.dddd')[0].text break\n",
    "\n",
    "today = \"\".join(soup.select('h1.dddd')[0].text.split())\n",
    "domain = 'http://www.appledaily.com.tw/'\n",
    "\n",
    "print(len(soup.select('li.rtddt')))\n",
    "for li in soup.select('li.rtddt')[0:10]:\n",
    "    print(\"===================\")\n",
    "#     print(li)\n",
    "    print(li.select('h1')[0].text, \\\n",
    "          '{} {}'.format(today, li.select('time')[0].text), \\\n",
    "          li.select('h2')[0].text, \\\n",
    "          domain + li.select('a')[0]['href'])\n"
   ]
  },
  {
   "cell_type": "code",
   "execution_count": 105,
   "metadata": {
    "collapsed": false
   },
   "outputs": [
    {
     "name": "stdout",
     "output_type": "stream",
     "text": [
      "david@largitdata.com\n",
      "yoyo@gmail.com\n"
     ]
    }
   ],
   "source": [
    "import re\n",
    "emails = ['david@largitdata.com', 'hihi qoo', 'yoyo@gmail.com']\n",
    "for email in emails:\n",
    "    m = re.match('.+@.+' , email)\n",
    "    if m:\n",
    "        print(m.group(0))"
   ]
  },
  {
   "cell_type": "code",
   "execution_count": 107,
   "metadata": {
    "collapsed": false
   },
   "outputs": [
    {
     "name": "stdout",
     "output_type": "stream",
     "text": [
      "david@largitdata.com\n",
      "david\n",
      "largitdata.com\n",
      "yoyo@gmail.com\n",
      "yoyo\n",
      "gmail.com\n"
     ]
    }
   ],
   "source": [
    "import re\n",
    "emails = ['david@largitdata.com', 'hihi qoo', 'yoyo@gmail.com']\n",
    "for email in emails:\n",
    "    m = re.match('(.+)@(.+)' , email)\n",
    "    if m:\n",
    "        print(m.group(0))\n",
    "        print(m.group(1))\n",
    "        print(m.group(2))"
   ]
  },
  {
   "cell_type": "code",
   "execution_count": 110,
   "metadata": {
    "collapsed": false
   },
   "outputs": [
    {
     "name": "stdout",
     "output_type": "stream",
     "text": [
      "【更新】任內最後一次備詢　吳思華語錄在此...(706)\n",
      "【更新】任內最後一次備詢　吳思華語錄在此...\n",
      "706\n"
     ]
    }
   ],
   "source": [
    "import re\n",
    "s = '【更新】任內最後一次備詢　吳思華語錄在此...(706)'\n",
    "m = re.match('(.+)\\((\\d+)\\)', s) # . match anything (include \\d, \\w)\n",
    "print(m.group(0)) # s\n",
    "print(m.group(1)) # (.+)\n",
    "print(m.group(2)) # (\\d+)"
   ]
  },
  {
   "cell_type": "code",
   "execution_count": 115,
   "metadata": {
    "collapsed": false
   },
   "outputs": [
    {
     "name": "stdout",
     "output_type": "stream",
     "text": [
      "2016 / 05 / 07\n",
      "30\n",
      "===================\n",
      "蘇花改觀音隧道「貫通石」　5月12日最後... 0 2016/05/07 17:06 生活 http://www.appledaily.com.tw//realtimenews/article/life/20160507/855526/蘇花改觀音隧道「貫通石」　5月12日最後一次發放\n",
      "===================\n",
      "台塑化今宣布　後天汽、柴油不調整 8 2016/05/07 17:00 生活 http://www.appledaily.com.tw//realtimenews/article/life/20160507/855584/台塑化今宣布　後天汽、柴油不調整\n",
      "===================\n",
      "台大毒氣疑案　校方：師生操作儀器致氟氣外... 90 2016/05/07 16:57 生活 http://www.appledaily.com.tw//realtimenews/article/life/20160507/855622/台大毒氣疑案　校方：師生操作儀器致氟氣外洩\n",
      "===================\n",
      "花蓮中正國小傳工安意外　１工人遭電擊命危 0 2016/05/07 16:56 社會 http://www.appledaily.com.tw//realtimenews/article/local/20160507/855626/花蓮中正國小傳工安意外　１工人遭電擊命危\n",
      "===================\n",
      "蘋果股價墜2年新低　專家：快去買！ 469 2016/05/07 16:53 財經 http://www.appledaily.com.tw//realtimenews/article/finance/20160507/855624/蘋果股價墜2年新低　專家：快去買！\n",
      "===================\n",
      "【有片】張志豪屁股痛痛　繼續挑戰連25場... 432 2016/05/07 16:52 體育 http://www.appledaily.com.tw//realtimenews/article/sports/20160507/855595/【有片】張志豪屁股痛痛　繼續挑戰連25場安打\n",
      "===================\n",
      "【更新】郭俊麟1.2局被KO　火腿8比6... 12047 2016/05/07 16:50 體育 http://www.appledaily.com.tw//realtimenews/article/sports/20160507/855491/【更新】郭俊麟1.2局被KO　火腿8比6勝西武\n",
      "===================\n",
      "忘情觀海困沙洲　輕熟女險滅頂 680 2016/05/07 16:49 社會 http://www.appledaily.com.tw//realtimenews/article/local/20160507/855621/忘情觀海困沙洲　輕熟女險滅頂\n",
      "===================\n",
      "一家4口受困電梯　警消助脫困 305 2016/05/07 16:48 社會 http://www.appledaily.com.tw//realtimenews/article/local/20160507/855619/一家4口受困電梯　警消助脫困\n",
      "===================\n",
      "統一vs.中信　陳韻文vs.希克 254 2016/05/07 16:45 體育 http://www.appledaily.com.tw//realtimenews/article/sports/20160507/855620/統一vs.中信　陳韻文vs.希克\n"
     ]
    }
   ],
   "source": [
    "import requests\n",
    "from bs4 import BeautifulSoup as bs\n",
    "import re\n",
    "\n",
    "res = requests.get('http://www.appledaily.com.tw/realtimenews/section/new/')\n",
    "soup = bs(res.text, 'html.parser')\n",
    "\n",
    "print(soup.select('h1.dddd')[0].text)\n",
    "# if today==soup.select('h1.dddd')[0].text break\n",
    "\n",
    "today = \"\".join(soup.select('h1.dddd')[0].text.split())\n",
    "domain = 'http://www.appledaily.com.tw/'\n",
    "\n",
    "print(len(soup.select('li.rtddt')))\n",
    "for li in soup.select('li.rtddt')[0:10]:\n",
    "    print(\"===================\")\n",
    "    h1 = li.select('h1')[0].text\n",
    "    m = re.match('(.+)\\((\\d+)\\)', h1)\n",
    "    time  = '{} {}'.format(today, li.select('time')[0].text)\n",
    "    category = li.select('h2')[0].text\n",
    "    link = domain + li.select('a')[0]['href']\n",
    "    if m:\n",
    "        title =  m.group(1)\n",
    "        view_cnt = int(m.group(2))\n",
    "        print(title, view_cnt, time, category, link)"
   ]
  },
  {
   "cell_type": "markdown",
   "metadata": {},
   "source": [
    "# DataFrame"
   ]
  },
  {
   "cell_type": "code",
   "execution_count": 121,
   "metadata": {
    "collapsed": false
   },
   "outputs": [
    {
     "name": "stdout",
     "output_type": "stream",
     "text": [
      "32\n",
      "{'John': 30, 'david': 32}\n",
      "32\n"
     ]
    }
   ],
   "source": [
    "names = ['david', 'John']\n",
    "ages = [32, 30]\n",
    "\n",
    "for idx, name in enumerate(names):\n",
    "    if name == 'david':\n",
    "        #print idx\n",
    "        print(ages[idx])\n",
    "\n",
    "#dict zip\n",
    "print(dict(zip(names,ages)))\n",
    "print(dict(zip(names,ages))['david'])"
   ]
  },
  {
   "cell_type": "code",
   "execution_count": 124,
   "metadata": {
    "collapsed": false
   },
   "outputs": [
    {
     "name": "stdout",
     "output_type": "stream",
     "text": [
      "   age   name\n",
      "0   32  david\n",
      "1   30   john\n"
     ]
    }
   ],
   "source": [
    "import pandas\n",
    "df = pandas.DataFrame([{'name':'david', 'age':32}, {'name':'john', 'age':30}])\n",
    "print(df)"
   ]
  },
  {
   "cell_type": "code",
   "execution_count": 126,
   "metadata": {
    "collapsed": false
   },
   "outputs": [
    {
     "name": "stdout",
     "output_type": "stream",
     "text": [
      "0    david\n",
      "1     john\n",
      "Name: name, dtype: object\n",
      "0    32\n",
      "1    30\n",
      "Name: age, dtype: int64\n"
     ]
    }
   ],
   "source": [
    "#by columnname\n",
    "print(df['name'])\n",
    "print(df['age'])"
   ]
  },
  {
   "cell_type": "code",
   "execution_count": 127,
   "metadata": {
    "collapsed": false
   },
   "outputs": [
    {
     "name": "stdout",
     "output_type": "stream",
     "text": [
      "age        32\n",
      "name    david\n",
      "Name: 0, dtype: object\n"
     ]
    }
   ],
   "source": [
    "#by index number\n",
    "print(df.ix[0])"
   ]
  },
  {
   "cell_type": "code",
   "execution_count": 130,
   "metadata": {
    "collapsed": false
   },
   "outputs": [
    {
     "name": "stdout",
     "output_type": "stream",
     "text": [
      "count     2.000000\n",
      "mean     31.000000\n",
      "std       1.414214\n",
      "min      30.000000\n",
      "25%      30.500000\n",
      "50%      31.000000\n",
      "75%      31.500000\n",
      "max      32.000000\n",
      "Name: age, dtype: float64\n",
      "count        2\n",
      "unique       2\n",
      "top       john\n",
      "freq         1\n",
      "Name: name, dtype: object\n"
     ]
    }
   ],
   "source": [
    "print(df['age'].describe())\n",
    "print(df['name'].describe())"
   ]
  },
  {
   "cell_type": "code",
   "execution_count": 132,
   "metadata": {
    "collapsed": false
   },
   "outputs": [
    {
     "name": "stdout",
     "output_type": "stream",
     "text": [
      "2016 / 05 / 07\n",
      "30\n",
      "[{'link': 'http://www.appledaily.com.tw//realtimenews/article/life/20160507/855655/中國施壓讓台經濟衰退？\\u3000網友戳破難堪真相', 'view_cnt': 0, 'category': '生活', 'title': '中國施壓讓台經濟衰退？\\u3000網友戳破難堪真相', 'time': '2016/05/07 17:31'}, {'link': 'http://www.appledaily.com.tw//realtimenews/article/local/20160507/855436/【有片】驚險直擊\\u3000火場屋坍壓傷2消防員', 'view_cnt': 2570, 'category': '社會', 'title': '【有片】驚險直擊\\u3000火場屋坍壓傷2消防員', 'time': '2016/05/07 17:26'}, {'link': 'http://www.appledaily.com.tw//realtimenews/article/life/20160507/855585/226公里超級鐵人賽\\u3000侯怡君與賈永婕的對決', 'view_cnt': 57, 'category': '生活', 'title': '226公里超級鐵人賽\\u3000侯怡君與賈永婕的對...', 'time': '2016/05/07 17:24'}, {'link': 'http://www.appledaily.com.tw//realtimenews/article/sports/20160507/855648/張志豪開季連25場安打\\u3000破日職紀錄', 'view_cnt': 40, 'category': '體育', 'title': '張志豪開季連25場安打\\u3000破日職紀錄', 'time': '2016/05/07 17:24'}, {'link': 'http://www.appledaily.com.tw//realtimenews/article/sports/20160507/855615/【更新】林哲瑄首局開轟\\u3000義大4比0桃猿', 'view_cnt': 532, 'category': '體育', 'title': '【更新】林哲瑄首局開轟\\u3000義大4比0桃猿', 'time': '2016/05/07 17:24'}, {'link': 'http://www.appledaily.com.tw//realtimenews/article/finance/20160507/855650/【母愛最偉大】留住媽媽人才！\\u3000IBM用這招', 'view_cnt': 0, 'category': '財經', 'title': '【母愛最偉大】留住媽媽人才！\\u3000IBM用這...', 'time': '2016/05/07 17:24'}, {'link': 'http://www.appledaily.com.tw//realtimenews/article/life/20160507/855638/台大實驗室氣體外洩\\u3000北市府：已消散', 'view_cnt': 15, 'category': '生活', 'title': '台大實驗室氣體外洩\\u3000北市府：已消散', 'time': '2016/05/07 17:23'}, {'link': 'http://www.appledaily.com.tw//realtimenews/article/international/20160507/855644/中國四知名藥廠止咳藥含硫磺\\u3000吃多損肝腎', 'view_cnt': 88, 'category': '國際', 'title': '中國四知名藥廠止咳藥含硫磺\\u3000吃多損肝腎', 'time': '2016/05/07 17:21'}, {'link': 'http://www.appledaily.com.tw//realtimenews/article/sports/20160507/855645/劉以豪開球\\u3000桃猿復古球衣被虧合庫打義大', 'view_cnt': 132, 'category': '體育', 'title': '劉以豪開球\\u3000桃猿復古球衣被虧合庫打義大', 'time': '2016/05/07 17:21'}, {'link': 'http://www.appledaily.com.tw//realtimenews/article/sports/20160507/855620/【更新】高國慶1分打點安打\\u3000統一先馳得點', 'view_cnt': 958, 'category': '體育', 'title': '【更新】高國慶1分打點安打\\u3000統一先馳得點', 'time': '2016/05/07 17:18'}]\n"
     ]
    }
   ],
   "source": [
    "import requests\n",
    "from bs4 import BeautifulSoup as bs\n",
    "import re\n",
    "\n",
    "res = requests.get('http://www.appledaily.com.tw/realtimenews/section/new/')\n",
    "soup = bs(res.text, 'html.parser')\n",
    "\n",
    "print(soup.select('h1.dddd')[0].text)\n",
    "# if today==soup.select('h1.dddd')[0].text break\n",
    "\n",
    "today = \"\".join(soup.select('h1.dddd')[0].text.split())\n",
    "domain = 'http://www.appledaily.com.tw/'\n",
    "news = []\n",
    "print(len(soup.select('li.rtddt')))\n",
    "for li in soup.select('li.rtddt')[0:10]:\n",
    "#     print(\"===================\")\n",
    "    h1 = li.select('h1')[0].text\n",
    "    m = re.match('(.+)\\((\\d+)\\)', h1)\n",
    "    time  = '{} {}'.format(today, li.select('time')[0].text)\n",
    "    category = li.select('h2')[0].text\n",
    "    link = domain + li.select('a')[0]['href']\n",
    "    if m:\n",
    "        title =  m.group(1)\n",
    "        view_cnt = int(m.group(2))\n",
    "#       print(title, view_cnt, time, category, link)\n",
    "        news.append({'title':title, 'view_cnt':view_cnt, 'time': time, 'category': category, 'link': link})\n",
    "print(news)"
   ]
  },
  {
   "cell_type": "code",
   "execution_count": 134,
   "metadata": {
    "collapsed": false
   },
   "outputs": [
    {
     "name": "stdout",
     "output_type": "stream",
     "text": [
      "10\n",
      "{'link': 'http://www.appledaily.com.tw//realtimenews/article/life/20160507/855655/中國施壓讓台經濟衰退？\\u3000網友戳破難堪真相', 'view_cnt': 0, 'category': '生活', 'title': '中國施壓讓台經濟衰退？\\u3000網友戳破難堪真相', 'time': '2016/05/07 17:31'}\n",
      "中國施壓讓台經濟衰退？　網友戳破難堪真相\n"
     ]
    }
   ],
   "source": [
    "print(len(news))\n",
    "print(news[0])\n",
    "print(news[0]['title'])"
   ]
  },
  {
   "cell_type": "code",
   "execution_count": 139,
   "metadata": {
    "collapsed": false
   },
   "outputs": [
    {
     "data": {
      "text/html": [
       "<div>\n",
       "<table border=\"1\" class=\"dataframe\">\n",
       "  <thead>\n",
       "    <tr style=\"text-align: right;\">\n",
       "      <th></th>\n",
       "      <th>category</th>\n",
       "      <th>link</th>\n",
       "      <th>time</th>\n",
       "      <th>title</th>\n",
       "      <th>view_cnt</th>\n",
       "    </tr>\n",
       "  </thead>\n",
       "  <tbody>\n",
       "    <tr>\n",
       "      <th>0</th>\n",
       "      <td>生活</td>\n",
       "      <td>http://www.appledaily.com.tw//realtimenews/art...</td>\n",
       "      <td>2016/05/07 17:31</td>\n",
       "      <td>中國施壓讓台經濟衰退？　網友戳破難堪真相</td>\n",
       "      <td>0</td>\n",
       "    </tr>\n",
       "    <tr>\n",
       "      <th>1</th>\n",
       "      <td>社會</td>\n",
       "      <td>http://www.appledaily.com.tw//realtimenews/art...</td>\n",
       "      <td>2016/05/07 17:26</td>\n",
       "      <td>【有片】驚險直擊　火場屋坍壓傷2消防員</td>\n",
       "      <td>2570</td>\n",
       "    </tr>\n",
       "    <tr>\n",
       "      <th>2</th>\n",
       "      <td>生活</td>\n",
       "      <td>http://www.appledaily.com.tw//realtimenews/art...</td>\n",
       "      <td>2016/05/07 17:24</td>\n",
       "      <td>226公里超級鐵人賽　侯怡君與賈永婕的對...</td>\n",
       "      <td>57</td>\n",
       "    </tr>\n",
       "    <tr>\n",
       "      <th>3</th>\n",
       "      <td>體育</td>\n",
       "      <td>http://www.appledaily.com.tw//realtimenews/art...</td>\n",
       "      <td>2016/05/07 17:24</td>\n",
       "      <td>張志豪開季連25場安打　破日職紀錄</td>\n",
       "      <td>40</td>\n",
       "    </tr>\n",
       "    <tr>\n",
       "      <th>4</th>\n",
       "      <td>體育</td>\n",
       "      <td>http://www.appledaily.com.tw//realtimenews/art...</td>\n",
       "      <td>2016/05/07 17:24</td>\n",
       "      <td>【更新】林哲瑄首局開轟　義大4比0桃猿</td>\n",
       "      <td>532</td>\n",
       "    </tr>\n",
       "  </tbody>\n",
       "</table>\n",
       "</div>"
      ],
      "text/plain": [
       "  category                                               link  \\\n",
       "0       生活  http://www.appledaily.com.tw//realtimenews/art...   \n",
       "1       社會  http://www.appledaily.com.tw//realtimenews/art...   \n",
       "2       生活  http://www.appledaily.com.tw//realtimenews/art...   \n",
       "3       體育  http://www.appledaily.com.tw//realtimenews/art...   \n",
       "4       體育  http://www.appledaily.com.tw//realtimenews/art...   \n",
       "\n",
       "               time                    title  view_cnt  \n",
       "0  2016/05/07 17:31     中國施壓讓台經濟衰退？　網友戳破難堪真相         0  \n",
       "1  2016/05/07 17:26      【有片】驚險直擊　火場屋坍壓傷2消防員      2570  \n",
       "2  2016/05/07 17:24  226公里超級鐵人賽　侯怡君與賈永婕的對...        57  \n",
       "3  2016/05/07 17:24        張志豪開季連25場安打　破日職紀錄        40  \n",
       "4  2016/05/07 17:24      【更新】林哲瑄首局開轟　義大4比0桃猿       532  "
      ]
     },
     "execution_count": 139,
     "metadata": {},
     "output_type": "execute_result"
    }
   ],
   "source": [
    "import pandas as pd\n",
    "df = pd.DataFrame(news)\n",
    "df.head()"
   ]
  },
  {
   "cell_type": "code",
   "execution_count": 140,
   "metadata": {
    "collapsed": false
   },
   "outputs": [
    {
     "data": {
      "text/plain": [
       "count      10.000000\n",
       "mean      439.200000\n",
       "std       810.141524\n",
       "min         0.000000\n",
       "25%        21.250000\n",
       "50%        72.500000\n",
       "75%       432.000000\n",
       "max      2570.000000\n",
       "Name: view_cnt, dtype: float64"
      ]
     },
     "execution_count": 140,
     "metadata": {},
     "output_type": "execute_result"
    }
   ],
   "source": [
    " df['view_cnt'].describe()"
   ]
  },
  {
   "cell_type": "markdown",
   "metadata": {},
   "source": [
    "# Create Function"
   ]
  },
  {
   "cell_type": "code",
   "execution_count": 142,
   "metadata": {
    "collapsed": false
   },
   "outputs": [
    {
     "name": "stdout",
     "output_type": "stream",
     "text": [
      "4\n",
      "3\n"
     ]
    }
   ],
   "source": [
    "def a(a = 1,  b = 2):\n",
    "    return a + b\n",
    "\n",
    "print(a(2,2))\n",
    "print(a())"
   ]
  },
  {
   "cell_type": "code",
   "execution_count": 143,
   "metadata": {
    "collapsed": false
   },
   "outputs": [
    {
     "name": "stdout",
     "output_type": "stream",
     "text": [
      "Hi my name is david and my age is 32 years'old\n",
      "Hi my name is david and my age is 32 years'old\n"
     ]
    }
   ],
   "source": [
    "name ='david'\n",
    "age = '32'\n",
    "print(\"Hi my name is \" + name + ' and my age is ' + age + \" years'old\")\n",
    "print(\"Hi my name is {} and my age is {} years'old\".format(name, age))"
   ]
  },
  {
   "cell_type": "code",
   "execution_count": 145,
   "metadata": {
    "collapsed": false
   },
   "outputs": [
    {
     "name": "stdout",
     "output_type": "stream",
     "text": [
      "[1, 2, 3, 2, 3, 4]\n"
     ]
    }
   ],
   "source": [
    "a = [1,2,3]\n",
    "b = [2,3,4]\n",
    "a.extend(b)\n",
    "print(a)"
   ]
  },
  {
   "cell_type": "code",
   "execution_count": 148,
   "metadata": {
    "collapsed": false
   },
   "outputs": [
    {
     "name": "stdout",
     "output_type": "stream",
     "text": [
      "1\n",
      "2\n",
      "3\n",
      "4\n",
      "5\n",
      "6\n",
      "7\n",
      "8\n",
      "9\n",
      "10\n"
     ]
    }
   ],
   "source": [
    "for i in range(1,11): # for(int i = 1 ; i < 11; i++)\n",
    "    print(i)"
   ]
  },
  {
   "cell_type": "code",
   "execution_count": 1,
   "metadata": {
    "collapsed": true
   },
   "outputs": [],
   "source": [
    "import requests\n",
    "from bs4 import BeautifulSoup as bs\n",
    "import re\n",
    "\n",
    "domain = 'http://www.appledaily.com.tw/'\n",
    "\n",
    "def getPageNews(page=1):\n",
    "    res = requests.get('http://www.appledaily.com.tw/realtimenews/section/new/{}'.format(page))\n",
    "    soup = bs(res.text, 'html.parser')\n",
    "\n",
    "#     print(soup.select('h1.dddd')[0].text)\n",
    "    # if today==soup.select('h1.dddd')[0].text break\n",
    "\n",
    "    today = \"\".join(soup.select('h1.dddd')[0].text.split())\n",
    "    news = []\n",
    "#     print(len(soup.select('li.rtddt')))\n",
    "    for li in soup.select('li.rtddt'):\n",
    "    #     print(\"===================\")\n",
    "        h1 = li.select('h1')[0].text\n",
    "        m = re.match('(.+)\\((\\d+)\\)', h1)\n",
    "        time  = '{} {}'.format(today, li.select('time')[0].text)\n",
    "        category = li.select('h2')[0].text\n",
    "        link = domain + li.select('a')[0]['href']\n",
    "        if m:\n",
    "            title =  m.group(1)\n",
    "            view_cnt = int(m.group(2))\n",
    "    #       print(title, view_cnt, time, category, link)\n",
    "            news.append({'title':title, 'view_cnt':view_cnt, 'time': time, 'category': category, 'link': link})\n",
    "#     print(news)\n",
    "    return news"
   ]
  },
  {
   "cell_type": "code",
   "execution_count": 149,
   "metadata": {
    "collapsed": false
   },
   "outputs": [
    {
     "name": "stdout",
     "output_type": "stream",
     "text": [
      "Help on built-in function print in module builtins:\n",
      "\n",
      "print(...)\n",
      "    print(value, ..., sep=' ', end='\\n', file=sys.stdout, flush=False)\n",
      "    \n",
      "    Prints the values to a stream, or to sys.stdout by default.\n",
      "    Optional keyword arguments:\n",
      "    file:  a file-like object (stream); defaults to the current sys.stdout.\n",
      "    sep:   string inserted between values, default a space.\n",
      "    end:   string appended after the last value, default a newline.\n",
      "    flush: whether to forcibly flush the stream.\n",
      "\n"
     ]
    }
   ],
   "source": [
    "help(print)"
   ]
  },
  {
   "cell_type": "code",
   "execution_count": 2,
   "metadata": {
    "collapsed": false
   },
   "outputs": [
    {
     "name": "stdout",
     "output_type": "stream",
     "text": [
      "1 2 3 4 5 6 7 8 9 10 "
     ]
    }
   ],
   "source": [
    "newsall = []\n",
    "for i in range(1,11): # for(int i = 0 ; i < 11; i++)\n",
    "    newsall.extend(getPageNews(i))\n",
    "    print(i, end=' ')"
   ]
  },
  {
   "cell_type": "code",
   "execution_count": 3,
   "metadata": {
    "collapsed": false
   },
   "outputs": [
    {
     "name": "stdout",
     "output_type": "stream",
     "text": [
      "300\n"
     ]
    },
    {
     "data": {
      "text/plain": [
       "category    300\n",
       "link        300\n",
       "time        300\n",
       "title       300\n",
       "view_cnt    300\n",
       "dtype: int64"
      ]
     },
     "execution_count": 3,
     "metadata": {},
     "output_type": "execute_result"
    }
   ],
   "source": [
    "import pandas as pd\n",
    "print(len(newsall))\n",
    "newspd = pd.DataFrame(newsall)\n",
    "newspd.count() "
   ]
  },
  {
   "cell_type": "code",
   "execution_count": 4,
   "metadata": {
    "collapsed": false
   },
   "outputs": [
    {
     "data": {
      "text/html": [
       "<div>\n",
       "<table border=\"1\" class=\"dataframe\">\n",
       "  <thead>\n",
       "    <tr style=\"text-align: right;\">\n",
       "      <th></th>\n",
       "      <th>category</th>\n",
       "      <th>link</th>\n",
       "      <th>time</th>\n",
       "      <th>title</th>\n",
       "      <th>view_cnt</th>\n",
       "    </tr>\n",
       "  </thead>\n",
       "  <tbody>\n",
       "    <tr>\n",
       "      <th>0</th>\n",
       "      <td>財經</td>\n",
       "      <td>http://www.appledaily.com.tw//realtimenews/art...</td>\n",
       "      <td>2016/05/10 10:04</td>\n",
       "      <td>​英仁套幣今亮相　李紀珠：我已預購不止1...</td>\n",
       "      <td>0</td>\n",
       "    </tr>\n",
       "    <tr>\n",
       "      <th>1</th>\n",
       "      <td>生活</td>\n",
       "      <td>http://www.appledaily.com.tw//realtimenews/art...</td>\n",
       "      <td>2016/05/10 10:01</td>\n",
       "      <td>飲料店打工7年的他告訴你　喝的這個是假的</td>\n",
       "      <td>445</td>\n",
       "    </tr>\n",
       "    <tr>\n",
       "      <th>2</th>\n",
       "      <td>財經</td>\n",
       "      <td>http://www.appledaily.com.tw//realtimenews/art...</td>\n",
       "      <td>2016/05/10 10:01</td>\n",
       "      <td>外資撤出台股　王儷玲：勿負面解讀</td>\n",
       "      <td>0</td>\n",
       "    </tr>\n",
       "    <tr>\n",
       "      <th>3</th>\n",
       "      <td>娛樂</td>\n",
       "      <td>http://www.appledaily.com.tw//realtimenews/art...</td>\n",
       "      <td>2016/05/10 10:00</td>\n",
       "      <td>【有片】寶寶不哭～陳海茵妙招哄喜羊羊</td>\n",
       "      <td>23</td>\n",
       "    </tr>\n",
       "    <tr>\n",
       "      <th>4</th>\n",
       "      <td>政治</td>\n",
       "      <td>http://www.appledaily.com.tw//realtimenews/art...</td>\n",
       "      <td>2016/05/10 10:00</td>\n",
       "      <td>【財訊】小英真正的左右手　劉建忻、陳俊麟...</td>\n",
       "      <td>0</td>\n",
       "    </tr>\n",
       "  </tbody>\n",
       "</table>\n",
       "</div>"
      ],
      "text/plain": [
       "  category                                               link  \\\n",
       "0       財經  http://www.appledaily.com.tw//realtimenews/art...   \n",
       "1       生活  http://www.appledaily.com.tw//realtimenews/art...   \n",
       "2       財經  http://www.appledaily.com.tw//realtimenews/art...   \n",
       "3       娛樂  http://www.appledaily.com.tw//realtimenews/art...   \n",
       "4       政治  http://www.appledaily.com.tw//realtimenews/art...   \n",
       "\n",
       "               time                    title  view_cnt  \n",
       "0  2016/05/10 10:04  ​英仁套幣今亮相　李紀珠：我已預購不止1...         0  \n",
       "1  2016/05/10 10:01     飲料店打工7年的他告訴你　喝的這個是假的       445  \n",
       "2  2016/05/10 10:01         外資撤出台股　王儷玲：勿負面解讀         0  \n",
       "3  2016/05/10 10:00       【有片】寶寶不哭～陳海茵妙招哄喜羊羊        23  \n",
       "4  2016/05/10 10:00  【財訊】小英真正的左右手　劉建忻、陳俊麟...         0  "
      ]
     },
     "execution_count": 4,
     "metadata": {},
     "output_type": "execute_result"
    }
   ],
   "source": [
    "newspd.head()"
   ]
  },
  {
   "cell_type": "code",
   "execution_count": 6,
   "metadata": {
    "collapsed": false
   },
   "outputs": [
    {
     "data": {
      "text/html": [
       "<div>\n",
       "<table border=\"1\" class=\"dataframe\">\n",
       "  <thead>\n",
       "    <tr style=\"text-align: right;\">\n",
       "      <th></th>\n",
       "      <th>category</th>\n",
       "      <th>link</th>\n",
       "      <th>time</th>\n",
       "      <th>title</th>\n",
       "      <th>view_cnt</th>\n",
       "    </tr>\n",
       "  </thead>\n",
       "  <tbody>\n",
       "    <tr>\n",
       "      <th>233</th>\n",
       "      <td>3C</td>\n",
       "      <td>http://www.appledaily.com.tw//realtimenews/art...</td>\n",
       "      <td>2016/05/10 22:59</td>\n",
       "      <td>【影片 】LINE更新超有感　值得升級</td>\n",
       "      <td>131375</td>\n",
       "    </tr>\n",
       "    <tr>\n",
       "      <th>141</th>\n",
       "      <td>娛樂</td>\n",
       "      <td>http://www.appledaily.com.tw//realtimenews/art...</td>\n",
       "      <td>2016/05/10 01:18</td>\n",
       "      <td>男偶像臉書粉絲91萬　演唱會票房比謝金燕...</td>\n",
       "      <td>111180</td>\n",
       "    </tr>\n",
       "    <tr>\n",
       "      <th>227</th>\n",
       "      <td>社會</td>\n",
       "      <td>http://www.appledaily.com.tw//realtimenews/art...</td>\n",
       "      <td>2016/05/10 23:14</td>\n",
       "      <td>大魯閣草衙道外牆剝落　2大人傷頭1孩童破...</td>\n",
       "      <td>100820</td>\n",
       "    </tr>\n",
       "    <tr>\n",
       "      <th>234</th>\n",
       "      <td>政治</td>\n",
       "      <td>http://www.appledaily.com.tw//realtimenews/art...</td>\n",
       "      <td>2016/05/10 22:57</td>\n",
       "      <td>【獨家】等不到520名單　業者揚言不調車...</td>\n",
       "      <td>88752</td>\n",
       "    </tr>\n",
       "    <tr>\n",
       "      <th>103</th>\n",
       "      <td>社會</td>\n",
       "      <td>http://www.appledaily.com.tw//realtimenews/art...</td>\n",
       "      <td>2016/05/10 06:59</td>\n",
       "      <td>15歲蹺家少年年賺千萬？　他找出4大疑點</td>\n",
       "      <td>84883</td>\n",
       "    </tr>\n",
       "  </tbody>\n",
       "</table>\n",
       "</div>"
      ],
      "text/plain": [
       "    category                                               link  \\\n",
       "233       3C  http://www.appledaily.com.tw//realtimenews/art...   \n",
       "141       娛樂  http://www.appledaily.com.tw//realtimenews/art...   \n",
       "227       社會  http://www.appledaily.com.tw//realtimenews/art...   \n",
       "234       政治  http://www.appledaily.com.tw//realtimenews/art...   \n",
       "103       社會  http://www.appledaily.com.tw//realtimenews/art...   \n",
       "\n",
       "                 time                    title  view_cnt  \n",
       "233  2016/05/10 22:59      【影片 】LINE更新超有感　值得升級    131375  \n",
       "141  2016/05/10 01:18  男偶像臉書粉絲91萬　演唱會票房比謝金燕...    111180  \n",
       "227  2016/05/10 23:14  大魯閣草衙道外牆剝落　2大人傷頭1孩童破...    100820  \n",
       "234  2016/05/10 22:57  【獨家】等不到520名單　業者揚言不調車...     88752  \n",
       "103  2016/05/10 06:59     15歲蹺家少年年賺千萬？　他找出4大疑點     84883  "
      ]
     },
     "execution_count": 6,
     "metadata": {},
     "output_type": "execute_result"
    }
   ],
   "source": [
    "newspd.sort_values(by=['view_cnt'],ascending=False).head()"
   ]
  },
  {
   "cell_type": "code",
   "execution_count": 5,
   "metadata": {
    "collapsed": false
   },
   "outputs": [
    {
     "data": {
      "text/plain": [
       "category\n",
       "3C     131375\n",
       "娛樂     111180\n",
       "社會     100820\n",
       "政治      88752\n",
       "生活      83764\n",
       "國際      44644\n",
       "正妹      42634\n",
       "搜奇      30130\n",
       "論壇      14904\n",
       "體育      11053\n",
       "財經      10884\n",
       "壹週刊     10480\n",
       "動物       7630\n",
       "時尚       6438\n",
       "地產       4439\n",
       "Name: view_cnt, dtype: int64"
      ]
     },
     "execution_count": 5,
     "metadata": {},
     "output_type": "execute_result"
    }
   ],
   "source": [
    "df1=newspd.groupby(['category'])['view_cnt'].max().sort_values(ascending=False)\n",
    "df1"
   ]
  },
  {
   "cell_type": "code",
   "execution_count": 7,
   "metadata": {
    "collapsed": false
   },
   "outputs": [
    {
     "data": {
      "text/plain": [
       "category       \n",
       "3C        count         9.000000\n",
       "          mean      18963.000000\n",
       "          std       42668.692533\n",
       "          min         236.000000\n",
       "          25%        1763.000000\n",
       "          50%        2990.000000\n",
       "          75%        4827.000000\n",
       "          max      131375.000000\n",
       "動物        count         8.000000\n",
       "          mean       4344.500000\n",
       "          std        1807.478433\n",
       "          min        2790.000000\n",
       "          25%        2973.250000\n",
       "          50%        3511.000000\n",
       "          75%        5559.250000\n",
       "          max        7630.000000\n",
       "國際        count        67.000000\n",
       "          mean       4024.208955\n",
       "          std        6452.838789\n",
       "          min          24.000000\n",
       "          25%        1075.000000\n",
       "          50%        1676.000000\n",
       "          75%        4751.500000\n",
       "          max       44644.000000\n",
       "地產        count         1.000000\n",
       "          mean       4439.000000\n",
       "          std                NaN\n",
       "          min        4439.000000\n",
       "          25%        4439.000000\n",
       "          50%        4439.000000\n",
       "                       ...      \n",
       "社會        std       23596.280948\n",
       "          min          41.000000\n",
       "          25%        5211.250000\n",
       "          50%        9585.500000\n",
       "          75%       21130.500000\n",
       "          max      100820.000000\n",
       "論壇        count        15.000000\n",
       "          mean       3585.666667\n",
       "          std        3711.321591\n",
       "          min         735.000000\n",
       "          25%        1629.500000\n",
       "          50%        2348.000000\n",
       "          75%        3551.500000\n",
       "          max       14904.000000\n",
       "財經        count        32.000000\n",
       "          mean       2585.187500\n",
       "          std        3031.793767\n",
       "          min           0.000000\n",
       "          25%         484.750000\n",
       "          50%        1285.500000\n",
       "          75%        3354.250000\n",
       "          max       10884.000000\n",
       "體育        count        10.000000\n",
       "          mean       3607.900000\n",
       "          std        3189.532723\n",
       "          min         126.000000\n",
       "          25%        2178.000000\n",
       "          50%        2696.500000\n",
       "          75%        3646.000000\n",
       "          max       11053.000000\n",
       "dtype: float64"
      ]
     },
     "execution_count": 7,
     "metadata": {},
     "output_type": "execute_result"
    }
   ],
   "source": [
    "df1=newspd.groupby(['category'])['view_cnt'].describe()\n",
    "df1  "
   ]
  },
  {
   "cell_type": "code",
   "execution_count": 38,
   "metadata": {
    "collapsed": false
   },
   "outputs": [
    {
     "data": {
      "text/html": [
       "<div>\n",
       "<table border=\"1\" class=\"dataframe\">\n",
       "  <thead>\n",
       "    <tr style=\"text-align: right;\">\n",
       "      <th></th>\n",
       "      <th>category</th>\n",
       "      <th>link</th>\n",
       "      <th>time</th>\n",
       "      <th>title</th>\n",
       "      <th>view_cnt</th>\n",
       "    </tr>\n",
       "  </thead>\n",
       "  <tbody>\n",
       "    <tr>\n",
       "      <th>227</th>\n",
       "      <td>社會</td>\n",
       "      <td>http://www.appledaily.com.tw//realtimenews/art...</td>\n",
       "      <td>2016/05/10 23:14</td>\n",
       "      <td>大魯閣草衙道外牆剝落　2大人傷頭1孩童破...</td>\n",
       "      <td>100820</td>\n",
       "    </tr>\n",
       "    <tr>\n",
       "      <th>103</th>\n",
       "      <td>社會</td>\n",
       "      <td>http://www.appledaily.com.tw//realtimenews/art...</td>\n",
       "      <td>2016/05/10 06:59</td>\n",
       "      <td>15歲蹺家少年年賺千萬？　他找出4大疑點</td>\n",
       "      <td>84883</td>\n",
       "    </tr>\n",
       "    <tr>\n",
       "      <th>101</th>\n",
       "      <td>社會</td>\n",
       "      <td>http://www.appledaily.com.tw//realtimenews/art...</td>\n",
       "      <td>2016/05/10 07:01</td>\n",
       "      <td>男友回妻子身邊　女大生哭求：我甘願作小</td>\n",
       "      <td>69511</td>\n",
       "    </tr>\n",
       "    <tr>\n",
       "      <th>113</th>\n",
       "      <td>社會</td>\n",
       "      <td>http://www.appledaily.com.tw//realtimenews/art...</td>\n",
       "      <td>2016/05/10 06:15</td>\n",
       "      <td>老公全裸、小三嬌叫　老婆抓姦超傻眼</td>\n",
       "      <td>50209</td>\n",
       "    </tr>\n",
       "    <tr>\n",
       "      <th>184</th>\n",
       "      <td>社會</td>\n",
       "      <td>http://www.appledaily.com.tw//realtimenews/art...</td>\n",
       "      <td>2016/05/10 00:15</td>\n",
       "      <td>他讓女網友在高檔飯店過夜　下場竟這樣</td>\n",
       "      <td>47306</td>\n",
       "    </tr>\n",
       "  </tbody>\n",
       "</table>\n",
       "</div>"
      ],
      "text/plain": [
       "    category                                               link  \\\n",
       "227       社會  http://www.appledaily.com.tw//realtimenews/art...   \n",
       "103       社會  http://www.appledaily.com.tw//realtimenews/art...   \n",
       "101       社會  http://www.appledaily.com.tw//realtimenews/art...   \n",
       "113       社會  http://www.appledaily.com.tw//realtimenews/art...   \n",
       "184       社會  http://www.appledaily.com.tw//realtimenews/art...   \n",
       "\n",
       "                 time                    title  view_cnt  \n",
       "227  2016/05/10 23:14  大魯閣草衙道外牆剝落　2大人傷頭1孩童破...    100820  \n",
       "103  2016/05/10 06:59     15歲蹺家少年年賺千萬？　他找出4大疑點     84883  \n",
       "101  2016/05/10 07:01      男友回妻子身邊　女大生哭求：我甘願作小     69511  \n",
       "113  2016/05/10 06:15       老公全裸、小三嬌叫　老婆抓姦超傻眼　     50209  \n",
       "184  2016/05/10 00:15       他讓女網友在高檔飯店過夜　下場竟這樣     47306  "
      ]
     },
     "execution_count": 38,
     "metadata": {},
     "output_type": "execute_result"
    }
   ],
   "source": [
    "newspd[newspd.category=='社會'].sort_values(by=['view_cnt'],ascending=False).head()"
   ]
  },
  {
   "cell_type": "code",
   "execution_count": 69,
   "metadata": {
    "collapsed": false
   },
   "outputs": [
    {
     "data": {
      "text/plain": [
       "Index(['category', 'link', 'time', 'title', 'view_cnt'], dtype='object')"
      ]
     },
     "execution_count": 69,
     "metadata": {},
     "output_type": "execute_result"
    }
   ],
   "source": [
    "# Dataframe中取出column name\n",
    "newspd.columns"
   ]
  },
  {
   "cell_type": "code",
   "execution_count": 98,
   "metadata": {
    "collapsed": false
   },
   "outputs": [
    {
     "data": {
      "text/plain": [
       "['3C',\n",
       " '動物',\n",
       " '國際',\n",
       " '地產',\n",
       " '壹週刊',\n",
       " '娛樂',\n",
       " '搜奇',\n",
       " '政治',\n",
       " '時尚',\n",
       " '正妹',\n",
       " '生活',\n",
       " '社會',\n",
       " '論壇',\n",
       " '財經',\n",
       " '體育']"
      ]
     },
     "execution_count": 98,
     "metadata": {},
     "output_type": "execute_result"
    }
   ],
   "source": [
    "# Dataframe中取出不重覆的類別名稱\n",
    "a = sorted(newspd['category'].unique())\n",
    "a"
   ]
  },
  {
   "cell_type": "code",
   "execution_count": 101,
   "metadata": {
    "collapsed": false
   },
   "outputs": [
    {
     "data": {
      "text/html": [
       "<div>\n",
       "<table border=\"1\" class=\"dataframe\">\n",
       "  <thead>\n",
       "    <tr style=\"text-align: right;\">\n",
       "      <th></th>\n",
       "      <th>category</th>\n",
       "      <th>link</th>\n",
       "      <th>time</th>\n",
       "      <th>title</th>\n",
       "      <th>view_cnt</th>\n",
       "    </tr>\n",
       "  </thead>\n",
       "  <tbody>\n",
       "    <tr>\n",
       "      <th>12</th>\n",
       "      <td>體育</td>\n",
       "      <td>http://www.appledaily.com.tw//realtimenews/art...</td>\n",
       "      <td>2016/05/10 09:52</td>\n",
       "      <td>【更新】基伊一人搞定5.1局　王建民連5...</td>\n",
       "      <td>11053</td>\n",
       "    </tr>\n",
       "    <tr>\n",
       "      <th>130</th>\n",
       "      <td>財經</td>\n",
       "      <td>http://www.appledaily.com.tw//realtimenews/art...</td>\n",
       "      <td>2016/05/10 02:54</td>\n",
       "      <td>《巴拿馬文件》資料庫揭密　台灣近2萬筆客...</td>\n",
       "      <td>10884</td>\n",
       "    </tr>\n",
       "    <tr>\n",
       "      <th>190</th>\n",
       "      <td>論壇</td>\n",
       "      <td>http://www.appledaily.com.tw//realtimenews/art...</td>\n",
       "      <td>2016/05/10 00:10</td>\n",
       "      <td>新政府立馬讓支持者傻眼</td>\n",
       "      <td>14904</td>\n",
       "    </tr>\n",
       "    <tr>\n",
       "      <th>227</th>\n",
       "      <td>社會</td>\n",
       "      <td>http://www.appledaily.com.tw//realtimenews/art...</td>\n",
       "      <td>2016/05/10 23:14</td>\n",
       "      <td>大魯閣草衙道外牆剝落　2大人傷頭1孩童破...</td>\n",
       "      <td>100820</td>\n",
       "    </tr>\n",
       "    <tr>\n",
       "      <th>270</th>\n",
       "      <td>生活</td>\n",
       "      <td>http://www.appledaily.com.tw//realtimenews/art...</td>\n",
       "      <td>2016/05/09 21:50</td>\n",
       "      <td>電話鍵盤數字旁的小英文字　功能就這2個字</td>\n",
       "      <td>83764</td>\n",
       "    </tr>\n",
       "    <tr>\n",
       "      <th>94</th>\n",
       "      <td>正妹</td>\n",
       "      <td>http://www.appledaily.com.tw//realtimenews/art...</td>\n",
       "      <td>2016/05/10 07:22</td>\n",
       "      <td>不科學！台大正妹主播新婚　對象是PTT鄉...</td>\n",
       "      <td>42634</td>\n",
       "    </tr>\n",
       "    <tr>\n",
       "      <th>68</th>\n",
       "      <td>時尚</td>\n",
       "      <td>http://www.appledaily.com.tw//realtimenews/art...</td>\n",
       "      <td>2016/05/10 08:19</td>\n",
       "      <td>女生快減肥！看看辣模想想自己</td>\n",
       "      <td>6438</td>\n",
       "    </tr>\n",
       "    <tr>\n",
       "      <th>234</th>\n",
       "      <td>政治</td>\n",
       "      <td>http://www.appledaily.com.tw//realtimenews/art...</td>\n",
       "      <td>2016/05/10 22:57</td>\n",
       "      <td>【獨家】等不到520名單　業者揚言不調車...</td>\n",
       "      <td>88752</td>\n",
       "    </tr>\n",
       "    <tr>\n",
       "      <th>158</th>\n",
       "      <td>搜奇</td>\n",
       "      <td>http://www.appledaily.com.tw//realtimenews/art...</td>\n",
       "      <td>2016/05/10 00:57</td>\n",
       "      <td>【有片】微波食物傷身？害人的是這兩個字</td>\n",
       "      <td>30130</td>\n",
       "    </tr>\n",
       "    <tr>\n",
       "      <th>141</th>\n",
       "      <td>娛樂</td>\n",
       "      <td>http://www.appledaily.com.tw//realtimenews/art...</td>\n",
       "      <td>2016/05/10 01:18</td>\n",
       "      <td>男偶像臉書粉絲91萬　演唱會票房比謝金燕...</td>\n",
       "      <td>111180</td>\n",
       "    </tr>\n",
       "    <tr>\n",
       "      <th>91</th>\n",
       "      <td>壹週刊</td>\n",
       "      <td>http://www.appledaily.com.tw//realtimenews/art...</td>\n",
       "      <td>2016/05/10 07:27</td>\n",
       "      <td>【壹週刊】一杯茶　竟讓他開出六百多家連鎖...</td>\n",
       "      <td>10480</td>\n",
       "    </tr>\n",
       "    <tr>\n",
       "      <th>90</th>\n",
       "      <td>地產</td>\n",
       "      <td>http://www.appledaily.com.tw//realtimenews/art...</td>\n",
       "      <td>2016/05/10 07:27</td>\n",
       "      <td>【買房問蘋果】1樓嫌吵　要求送羊奶用走的...</td>\n",
       "      <td>4439</td>\n",
       "    </tr>\n",
       "    <tr>\n",
       "      <th>134</th>\n",
       "      <td>國際</td>\n",
       "      <td>http://www.appledaily.com.tw//realtimenews/art...</td>\n",
       "      <td>2016/05/10 02:18</td>\n",
       "      <td>《巴拿馬文件》凌晨公開　32萬間境外公司...</td>\n",
       "      <td>44644</td>\n",
       "    </tr>\n",
       "    <tr>\n",
       "      <th>146</th>\n",
       "      <td>動物</td>\n",
       "      <td>http://www.appledaily.com.tw//realtimenews/art...</td>\n",
       "      <td>2016/05/10 01:10</td>\n",
       "      <td>幫狗辦信用卡  收到帳單悲劇惹</td>\n",
       "      <td>7630</td>\n",
       "    </tr>\n",
       "    <tr>\n",
       "      <th>233</th>\n",
       "      <td>3C</td>\n",
       "      <td>http://www.appledaily.com.tw//realtimenews/art...</td>\n",
       "      <td>2016/05/10 22:59</td>\n",
       "      <td>【影片 】LINE更新超有感　值得升級</td>\n",
       "      <td>131375</td>\n",
       "    </tr>\n",
       "  </tbody>\n",
       "</table>\n",
       "</div>"
      ],
      "text/plain": [
       "    category                                               link  \\\n",
       "12        體育  http://www.appledaily.com.tw//realtimenews/art...   \n",
       "130       財經  http://www.appledaily.com.tw//realtimenews/art...   \n",
       "190       論壇  http://www.appledaily.com.tw//realtimenews/art...   \n",
       "227       社會  http://www.appledaily.com.tw//realtimenews/art...   \n",
       "270       生活  http://www.appledaily.com.tw//realtimenews/art...   \n",
       "94        正妹  http://www.appledaily.com.tw//realtimenews/art...   \n",
       "68        時尚  http://www.appledaily.com.tw//realtimenews/art...   \n",
       "234       政治  http://www.appledaily.com.tw//realtimenews/art...   \n",
       "158       搜奇  http://www.appledaily.com.tw//realtimenews/art...   \n",
       "141       娛樂  http://www.appledaily.com.tw//realtimenews/art...   \n",
       "91       壹週刊  http://www.appledaily.com.tw//realtimenews/art...   \n",
       "90        地產  http://www.appledaily.com.tw//realtimenews/art...   \n",
       "134       國際  http://www.appledaily.com.tw//realtimenews/art...   \n",
       "146       動物  http://www.appledaily.com.tw//realtimenews/art...   \n",
       "233       3C  http://www.appledaily.com.tw//realtimenews/art...   \n",
       "\n",
       "                 time                    title  view_cnt  \n",
       "12   2016/05/10 09:52  【更新】基伊一人搞定5.1局　王建民連5...     11053  \n",
       "130  2016/05/10 02:54  《巴拿馬文件》資料庫揭密　台灣近2萬筆客...     10884  \n",
       "190  2016/05/10 00:10              新政府立馬讓支持者傻眼     14904  \n",
       "227  2016/05/10 23:14  大魯閣草衙道外牆剝落　2大人傷頭1孩童破...    100820  \n",
       "270  2016/05/09 21:50     電話鍵盤數字旁的小英文字　功能就這2個字     83764  \n",
       "94   2016/05/10 07:22  不科學！台大正妹主播新婚　對象是PTT鄉...     42634  \n",
       "68   2016/05/10 08:19           女生快減肥！看看辣模想想自己      6438  \n",
       "234  2016/05/10 22:57  【獨家】等不到520名單　業者揚言不調車...     88752  \n",
       "158  2016/05/10 00:57      【有片】微波食物傷身？害人的是這兩個字     30130  \n",
       "141  2016/05/10 01:18  男偶像臉書粉絲91萬　演唱會票房比謝金燕...    111180  \n",
       "91   2016/05/10 07:27  【壹週刊】一杯茶　竟讓他開出六百多家連鎖...     10480  \n",
       "90   2016/05/10 07:27  【買房問蘋果】1樓嫌吵　要求送羊奶用走的...      4439  \n",
       "134  2016/05/10 02:18  《巴拿馬文件》凌晨公開　32萬間境外公司...     44644  \n",
       "146  2016/05/10 01:10          幫狗辦信用卡  收到帳單悲劇惹      7630  \n",
       "233  2016/05/10 22:59      【影片 】LINE更新超有感　值得升級    131375  "
      ]
     },
     "execution_count": 101,
     "metadata": {},
     "output_type": "execute_result"
    }
   ],
   "source": [
    "# 各類別，取head()，並依view_cnt排序，類似各類別的 top N 新聞\n",
    "newslist = []\n",
    "for cat in sorted(newspd['category'].unique(), reverse=True):\n",
    "    news= newspd[newspd.category==cat].sort_values(by=['view_cnt'],ascending=False).head(1)\n",
    "    newslist.append(news)\n",
    "result = pd.concat(newslist)\n",
    "result"
   ]
  },
  {
   "cell_type": "code",
   "execution_count": 100,
   "metadata": {
    "collapsed": false
   },
   "outputs": [
    {
     "name": "stdout",
     "output_type": "stream",
     "text": [
      "    category                    title  view_cnt\n",
      "12        體育  【更新】基伊一人搞定5.1局　王建民連5...     11053\n",
      "68        時尚           女生快減肥！看看辣模想想自己      6438\n",
      "90        地產  【買房問蘋果】1樓嫌吵　要求送羊奶用走的...      4439\n",
      "91       壹週刊  【壹週刊】一杯茶　竟讓他開出六百多家連鎖...     10480\n",
      "94        正妹  不科學！台大正妹主播新婚　對象是PTT鄉...     42634\n",
      "130       財經  《巴拿馬文件》資料庫揭密　台灣近2萬筆客...     10884\n",
      "134       國際  《巴拿馬文件》凌晨公開　32萬間境外公司...     44644\n",
      "141       娛樂  男偶像臉書粉絲91萬　演唱會票房比謝金燕...    111180\n",
      "146       動物          幫狗辦信用卡  收到帳單悲劇惹      7630\n",
      "158       搜奇      【有片】微波食物傷身？害人的是這兩個字     30130\n",
      "190       論壇              新政府立馬讓支持者傻眼     14904\n",
      "227       社會  大魯閣草衙道外牆剝落　2大人傷頭1孩童破...    100820\n",
      "233       3C      【影片 】LINE更新超有感　值得升級    131375\n",
      "234       政治  【獨家】等不到520名單　業者揚言不調車...     88752\n",
      "270       生活     電話鍵盤數字旁的小英文字　功能就這2個字     83764\n"
     ]
    }
   ],
   "source": [
    "idx = newspd.groupby(['category'],sort=True)['view_cnt'].transform(max) == newspd['view_cnt']\n",
    "# print(newspd.groupby(['category'])['view_cnt'].transform(max),  newspd['view_cnt'])\n",
    "# print(idx)\n",
    "print(newspd[idx][['category', 'title', 'view_cnt']])"
   ]
  },
  {
   "cell_type": "code",
   "execution_count": null,
   "metadata": {
    "collapsed": true
   },
   "outputs": [],
   "source": []
  }
 ],
 "metadata": {
  "kernelspec": {
   "display_name": "Python 3",
   "language": "python",
   "name": "python3"
  },
  "language_info": {
   "codemirror_mode": {
    "name": "ipython",
    "version": 3
   },
   "file_extension": ".py",
   "mimetype": "text/x-python",
   "name": "python",
   "nbconvert_exporter": "python",
   "pygments_lexer": "ipython3",
   "version": "3.5.1"
  }
 },
 "nbformat": 4,
 "nbformat_minor": 0
}
