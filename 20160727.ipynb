{
 "cells": [
  {
   "cell_type": "code",
   "execution_count": 12,
   "metadata": {
    "collapsed": false
   },
   "outputs": [
    {
     "name": "stdout",
     "output_type": "stream",
     "text": [
      "pass\n",
      "Error發生，除以0\n",
      "finally\n"
     ]
    }
   ],
   "source": [
    "#-*-coding:UTF-8 -*-\n",
    "#  EX07_01.py\n",
    "#  \n",
    "#  例外處理範例\n",
    "#  \n",
    "\n",
    "num1 = 10\n",
    "num2 = 0\n",
    "nums = [1,3,5,7,9]\n",
    "try:\n",
    "    print('pass')\n",
    "    #除以0,導致例外產生 ZeroDivisionError\n",
    "    print(num1/num2)\n",
    "\n",
    "    #使用沒有宣告過的變數 NameError\n",
    "    print(num1*num3)\n",
    "\n",
    "    #索引值超出範圍 IndexError\n",
    "    print(nums[100])\n",
    "\n",
    "except ZeroDivisionError:\n",
    "    print('Error發生，除以0')\n",
    "\n",
    "except NameError:\n",
    "    print('Error發生，使用沒有宣告過的變數')\n",
    "\n",
    "except IndexError:\n",
    "    print('Error發生，索引值超出範圍')\n",
    "\n",
    "except:\n",
    "    print('Error發生')\n",
    "else:\n",
    "    print('else')\n",
    "finally:\n",
    "     print('finally')"
   ]
  },
  {
   "cell_type": "code",
   "execution_count": 22,
   "metadata": {
    "collapsed": false
   },
   "outputs": [
    {
     "name": "stdout",
     "output_type": "stream",
     "text": [
      "-->25\n",
      "-->5\n",
      "5.0\n",
      "終於對了\n",
      "finally\n"
     ]
    }
   ],
   "source": [
    "#練習: 輸入兩數字相除，補捉所有可能的Error，並讓使用者一直輸入到正確為止\n",
    "while(True):\n",
    "    num1 = input(\"-->\")\n",
    "    num2 = input(\"-->\")\n",
    "    try:\n",
    "        num1 = int(num1)\n",
    "        num2 = int(num2)\n",
    "        print(num1/num2)\n",
    "\n",
    "    except ValueError:\n",
    "        print('Error發生，不是數字')\n",
    "\n",
    "    except ZeroDivisionError:\n",
    "        print('Error發生，除以0')\n",
    "\n",
    "    except:\n",
    "        print('Error發生')\n",
    "    else:\n",
    "        print('終於對了')\n",
    "        break\n",
    "    finally:\n",
    "         print('finally')    "
   ]
  },
  {
   "cell_type": "code",
   "execution_count": 23,
   "metadata": {
    "collapsed": false
   },
   "outputs": [
    {
     "name": "stdout",
     "output_type": "stream",
     "text": [
      "INSUFFICIENT FUND\n"
     ]
    }
   ],
   "source": [
    "#-*-coding:UTF-8 -*-\n",
    "#  EX07_02.py\n",
    "#  \n",
    "#  自訂例外範例\n",
    "#  \n",
    "#  錢包總金額為1000元，如果購買商品總金額超過1000\n",
    "#  將會引發一個金額不足的例外\n",
    "\n",
    "\n",
    "shoppingcart = {'fruits':400,'shoes':700 }\n",
    "\n",
    "class insufficientError(Exception): pass\n",
    "\n",
    "def buy(items):\n",
    "    cash = 1000\n",
    "    total = 0\n",
    "    try:\n",
    "        for price in items.values():\n",
    "            total += price\n",
    "        if total > cash:\n",
    "            raise insufficientError\n",
    "    except insufficientError:\n",
    "        print('INSUFFICIENT FUND')\n",
    "\n",
    "buy(shoppingcart)"
   ]
  },
  {
   "cell_type": "code",
   "execution_count": 24,
   "metadata": {
    "collapsed": true
   },
   "outputs": [],
   "source": [
    "#-*-coding:UTF-8 -*-\n",
    "#  EX07_03.py\n",
    "#  \n",
    "#  print 寫檔範例\n",
    "#  \n",
    "\n",
    "text = '''食譜：芒果冰沙\n",
    "1.將愛文芒果去皮，切小塊備料\n",
    "2.將冰塊放進果汁機，再放入其他所有食材(可留部分芒果塊，放置冰沙上方)\n",
    "3.開啟果汁機，以漸進式方式快速打勻，直到冰塊完全打成冰沙即可\n",
    "4.芒果冰沙裝杯後，放入芒果塊於冰沙上方，可增加芒果冰沙的口感喔!'''\n",
    "\n",
    "print(text ,file=open('data.txt','w',encoding='utf-8'))"
   ]
  },
  {
   "cell_type": "code",
   "execution_count": 25,
   "metadata": {
    "collapsed": false
   },
   "outputs": [
    {
     "name": "stdout",
     "output_type": "stream",
     "text": [
      "食譜：芒果冰沙\n",
      "1.將愛文芒果去皮，切小塊備料\n",
      "2.將冰塊放進果汁機，再放入其他所有食材(可留部分芒果塊，放置冰沙上方)\n",
      "3.開啟果汁機，以漸進式方式快速打勻，直到冰塊完全打成冰沙即可\n",
      "4.芒果冰沙裝杯後，放入芒果塊於冰沙上方，可增加芒果冰沙的口感喔!\n",
      "\n"
     ]
    }
   ],
   "source": [
    "#-*-coding:UTF-8 -*-\n",
    "#  EX07_04.py\n",
    "#  \n",
    "#  file 讀檔範例 read():一次讀整篇文章\n",
    "#  \n",
    "\n",
    "file = open('data.txt', 'r', encoding='UTF-8')\n",
    "content = file.read()\n",
    "print(content)\n",
    "file.close()"
   ]
  },
  {
   "cell_type": "code",
   "execution_count": 33,
   "metadata": {
    "collapsed": false
   },
   "outputs": [
    {
     "name": "stdout",
     "output_type": "stream",
     "text": [
      "食譜：芒果冰沙\n",
      "\n",
      "食譜：芒果冰沙\n",
      "1.將愛文芒果去皮，切小塊備料\n",
      "\n",
      "1.將愛文芒果去皮，切小塊備料\n",
      "2.將冰塊放進果汁機，再放入其他所有食材(可留部分芒果塊，放置冰沙上方)\n",
      "\n",
      "2.將冰塊放進果汁機，再放入其他所有食材(可留部分芒果塊，放置冰沙上方)\n",
      "3.開啟果汁機，以漸進式方式快速打勻，直到冰塊完全打成冰沙即可\n",
      "\n",
      "3.開啟果汁機，以漸進式方式快速打勻，直到冰塊完全打成冰沙即可\n",
      "4.芒果冰沙裝杯後，放入芒果塊於冰沙上方，可增加芒果冰沙的口感喔!\n",
      "\n",
      "4.芒果冰沙裝杯後，放入芒果塊於冰沙上方，可增加芒果冰沙的口感喔!\n"
     ]
    }
   ],
   "source": [
    "#-*-coding:UTF-8 -*-\n",
    "#  EX07_05.py\n",
    "#  \n",
    "#  file 讀檔範例 readline()\n",
    "#  \n",
    "\n",
    "file = open('data.txt', 'r', encoding='UTF-8')\n",
    "# line = file.readline() # readline 讀出，把已讀的從file中pop掉，所以每次readline不同，(好似有游標的功能)\n",
    "# print(list(file))\n",
    "while True:\n",
    "    line = file.readline() # readline 讀出，把已讀的從file中pop掉，所以每次readline不同，(好似有游標的功能)\n",
    "    if not line: \n",
    "        break \n",
    "    print(line, end='') #去除一個換行符號\n",
    "file.close()"
   ]
  },
  {
   "cell_type": "code",
   "execution_count": 34,
   "metadata": {
    "collapsed": false
   },
   "outputs": [
    {
     "name": "stdout",
     "output_type": "stream",
     "text": [
      "食譜：芒果冰沙\n",
      "1.將愛文芒果去皮，切小塊備料\n",
      "2.將冰塊放進果汁機，再放入其他所有食材(可留部分芒果塊，放置冰沙上方)\n",
      "3.開啟果汁機，以漸進式方式快速打勻，直到冰塊完全打成冰沙即可\n",
      "4.芒果冰沙裝杯後，放入芒果塊於冰沙上方，可增加芒果冰沙的口感喔!\n"
     ]
    }
   ],
   "source": [
    "#-*-coding:UTF-8 -*-\n",
    "#  EX07_06.py\n",
    "#  \n",
    "#  file 讀檔範例 readlines()\n",
    "#  \n",
    "\n",
    "file = open('data.txt', 'r', encoding='UTF-8') \n",
    "for line in file.readlines(): #將文章所有行存成一個list\n",
    "    print(line, end='')\n",
    "file.close()"
   ]
  },
  {
   "cell_type": "code",
   "execution_count": 37,
   "metadata": {
    "collapsed": false
   },
   "outputs": [],
   "source": [
    "#-*-coding:UTF-8 -*-\n",
    "#  EX07_07.py\n",
    "#  \n",
    "#  file 寫檔範例 write()\n",
    "#  亂數產生10個整數(1~1000)，寫入檔案中\n",
    "\n",
    "import random\n",
    "file = open('rand_num.txt', 'w', encoding = 'UTF-8')\n",
    "for i in range(10):\n",
    "    file.write( str(random.randint(1,1000))+'\\n' )\n",
    "file.close()"
   ]
  },
  {
   "cell_type": "code",
   "execution_count": 40,
   "metadata": {
    "collapsed": false
   },
   "outputs": [
    {
     "name": "stdout",
     "output_type": "stream",
     "text": [
      "模組範例檔_1\n"
     ]
    }
   ],
   "source": [
    "#-*-coding:UTF-8 -*-\n",
    "#  EX08_02_1.py\n",
    "#  \n",
    "#  模組範例檔_1\n",
    "#  \n",
    "import random\n",
    "\n",
    "if __name__ == '__main__':\n",
    "    print('模組範例檔_1')\n",
    "\n",
    "class tools:\n",
    "    def generate_random_nums(self,length):\n",
    "        nums=[]\n",
    "        for i in range(length):\n",
    "            nums.append(random.randint(1,100))\n",
    "        return nums"
   ]
  },
  {
   "cell_type": "code",
   "execution_count": 9,
   "metadata": {
    "collapsed": false,
    "scrolled": true
   },
   "outputs": [
    {
     "name": "stdout",
     "output_type": "stream",
     "text": [
      "C:\\Users\\chtti\\Documents\n",
      "['', 'C:\\\\Anaconda3\\\\python35.zip', 'C:\\\\Anaconda3\\\\DLLs', 'C:\\\\Anaconda3\\\\lib', 'C:\\\\Anaconda3', 'C:\\\\Anaconda3\\\\lib\\\\site-packages', 'C:\\\\Anaconda3\\\\lib\\\\site-packages\\\\Sphinx-1.4.1-py3.5.egg', 'C:\\\\Anaconda3\\\\lib\\\\site-packages\\\\win32', 'C:\\\\Anaconda3\\\\lib\\\\site-packages\\\\win32\\\\lib', 'C:\\\\Anaconda3\\\\lib\\\\site-packages\\\\Pythonwin', 'C:\\\\Anaconda3\\\\lib\\\\site-packages\\\\setuptools-23.0.0-py3.5.egg', 'C:\\\\Anaconda3\\\\lib\\\\site-packages\\\\IPython\\\\extensions', 'C:\\\\Users\\\\chtti\\\\.ipython', 'C:\\\\Users\\\\chtti\\\\Documents', 'C:\\\\Users\\\\chtti\\\\Documents', 'C:\\\\Users\\\\chtti\\\\Documents']\n",
      "模組範例檔_2\n"
     ]
    },
    {
     "ename": "TypeError",
     "evalue": "generate_random_nums() missing 1 required positional argument: 'length'",
     "output_type": "error",
     "traceback": [
      "\u001b[1;31m---------------------------------------------------------------------------\u001b[0m",
      "\u001b[1;31mTypeError\u001b[0m                                 Traceback (most recent call last)",
      "\u001b[1;32m<ipython-input-9-6d8a270ccb97>\u001b[0m in \u001b[0;36m<module>\u001b[1;34m()\u001b[0m\n\u001b[0;32m     17\u001b[0m \u001b[1;33m\u001b[0m\u001b[0m\n\u001b[0;32m     18\u001b[0m \u001b[0mtool\u001b[0m \u001b[1;33m=\u001b[0m \u001b[0mEX08_02_1\u001b[0m\u001b[1;33m.\u001b[0m\u001b[0mtools\u001b[0m\u001b[1;33m(\u001b[0m\u001b[1;33m)\u001b[0m\u001b[1;33m\u001b[0m\u001b[0m\n\u001b[1;32m---> 19\u001b[1;33m \u001b[0mprint\u001b[0m\u001b[1;33m(\u001b[0m\u001b[0mtools\u001b[0m\u001b[1;33m.\u001b[0m\u001b[0mgenerate_random_nums\u001b[0m\u001b[1;33m(\u001b[0m\u001b[1;36m10\u001b[0m\u001b[1;33m)\u001b[0m\u001b[1;33m)\u001b[0m\u001b[1;33m\u001b[0m\u001b[0m\n\u001b[0m",
      "\u001b[1;31mTypeError\u001b[0m: generate_random_nums() missing 1 required positional argument: 'length'"
     ]
    }
   ],
   "source": [
    "#-*-coding:UTF-8 -*-\n",
    "#  EX08_02_2.py\n",
    "#  \n",
    "#  模組範例檔_2\n",
    "#  \n",
    "import os\n",
    "import sys\n",
    "print(os.getcwd())\n",
    "print(sys.path)\n",
    "\n",
    "# Do the import\n",
    "import EX08_02_1\n",
    "from EX08_02_1 import tools\n",
    "\n",
    "if __name__ == '__main__':\n",
    "    print('模組範例檔_2')\n",
    "\n",
    "tool = EX08_02_1.tools()\n",
    "print(tools.generate_random_nums(10))\n"
   ]
  },
  {
   "cell_type": "code",
   "execution_count": 45,
   "metadata": {
    "collapsed": false
   },
   "outputs": [
    {
     "data": {
      "text/plain": [
       "'2016-07-27 13:45:53'"
      ]
     },
     "execution_count": 45,
     "metadata": {},
     "output_type": "execute_result"
    }
   ],
   "source": [
    "import time\n",
    "# time.time()\n",
    "# time.sleep(10)\n",
    "# time.localtime()\n",
    "time.gmtime()\n",
    "time.strftime('%Y-%m-%d %H:%M:%S',time.localtime())"
   ]
  },
  {
   "cell_type": "code",
   "execution_count": 11,
   "metadata": {
    "collapsed": false
   },
   "outputs": [
    {
     "ename": "SyntaxError",
     "evalue": "invalid syntax (<ipython-input-11-ca55bbf208c4>, line 1)",
     "output_type": "error",
     "traceback": [
      "\u001b[1;36m  File \u001b[1;32m\"<ipython-input-11-ca55bbf208c4>\"\u001b[1;36m, line \u001b[1;32m1\u001b[0m\n\u001b[1;33m    pip install pyqrcode\u001b[0m\n\u001b[1;37m              ^\u001b[0m\n\u001b[1;31mSyntaxError\u001b[0m\u001b[1;31m:\u001b[0m invalid syntax\n"
     ]
    }
   ],
   "source": []
  },
  {
   "cell_type": "code",
   "execution_count": 1,
   "metadata": {
    "collapsed": false
   },
   "outputs": [],
   "source": [
    "#-*-coding:UTF-8 -*-\n",
    "#  EX08_01.py\n",
    "#  \n",
    "#  pyqrcode 使用範例\n",
    "#  \n",
    "from pyqrcode import QRCode\n",
    "url = QRCode('http://www.ntu.edu.tw')\n",
    "#輸出SVG格式檔案:url.svg ,縮放比為10\n",
    "url.svg('url.svg', scale=10)\n",
    "#輸出PNG格式檔案:url.png ,縮放比為10\n",
    "url.png('url.png', scale=10)"
   ]
  },
  {
   "cell_type": "markdown",
   "metadata": {},
   "source": [
    "# 練習題"
   ]
  },
  {
   "cell_type": "code",
   "execution_count": 11,
   "metadata": {
    "collapsed": false
   },
   "outputs": [
    {
     "data": {
      "text/html": [
       "<div>\n",
       "<table border=\"1\" class=\"dataframe\">\n",
       "  <thead>\n",
       "    <tr style=\"text-align: right;\">\n",
       "      <th></th>\n",
       "      <th>sid</th>\n",
       "      <th>name</th>\n",
       "      <th>tel</th>\n",
       "      <th>wifi</th>\n",
       "    </tr>\n",
       "  </thead>\n",
       "  <tbody>\n",
       "    <tr>\n",
       "      <th>0</th>\n",
       "      <td>1</td>\n",
       "      <td>海景門市</td>\n",
       "      <td>02-2428-4223</td>\n",
       "      <td>Y</td>\n",
       "    </tr>\n",
       "    <tr>\n",
       "      <th>1</th>\n",
       "      <td>2</td>\n",
       "      <td>新世界門市</td>\n",
       "      <td>02-2371-7092</td>\n",
       "      <td>NaN</td>\n",
       "    </tr>\n",
       "    <tr>\n",
       "      <th>2</th>\n",
       "      <td>3</td>\n",
       "      <td>寶平門市</td>\n",
       "      <td>02-2331-0388</td>\n",
       "      <td>Y</td>\n",
       "    </tr>\n",
       "    <tr>\n",
       "      <th>3</th>\n",
       "      <td>4</td>\n",
       "      <td>羅斯福門市</td>\n",
       "      <td>02-2364-6845</td>\n",
       "      <td>Y</td>\n",
       "    </tr>\n",
       "    <tr>\n",
       "      <th>4</th>\n",
       "      <td>5</td>\n",
       "      <td>懷寧門市</td>\n",
       "      <td>02-2389-3776</td>\n",
       "      <td>Y</td>\n",
       "    </tr>\n",
       "  </tbody>\n",
       "</table>\n",
       "</div>"
      ],
      "text/plain": [
       "   sid   name           tel wifi\n",
       "0    1   海景門市  02-2428-4223    Y\n",
       "1    2  新世界門市  02-2371-7092  NaN\n",
       "2    3   寶平門市  02-2331-0388    Y\n",
       "3    4  羅斯福門市  02-2364-6845    Y\n",
       "4    5   懷寧門市  02-2389-3776    Y"
      ]
     },
     "execution_count": 11,
     "metadata": {},
     "output_type": "execute_result"
    }
   ],
   "source": [
    "'''\n",
    "第1題:讀取stores_old.csv檔案後，將sid, name, tel, wifi 四個欄位篩選出來並寫入檔案 stores_new.csv 中。\n",
    "'''\n",
    "import pandas as pd\n",
    "df = pd.read_csv('stores_old.csv', encoding='big5')\n",
    "df1 = df[['sid','name','tel','wifi']]\n",
    "df1.to_csv(\"stores_new.csv\",mode='w',index=False)\n",
    "df1.head()"
   ]
  },
  {
   "cell_type": "code",
   "execution_count": 13,
   "metadata": {
    "collapsed": false
   },
   "outputs": [
    {
     "data": {
      "text/html": [
       "<div>\n",
       "<table border=\"1\" class=\"dataframe\">\n",
       "  <thead>\n",
       "    <tr style=\"text-align: right;\">\n",
       "      <th></th>\n",
       "      <th>sid</th>\n",
       "      <th>longitude</th>\n",
       "      <th>latitude</th>\n",
       "      <th>name</th>\n",
       "      <th>address</th>\n",
       "      <th>tel</th>\n",
       "      <th>wifi</th>\n",
       "      <th>notes</th>\n",
       "    </tr>\n",
       "  </thead>\n",
       "  <tbody>\n",
       "    <tr>\n",
       "      <th>0</th>\n",
       "      <td>1</td>\n",
       "      <td>121.740089</td>\n",
       "      <td>25.132571</td>\n",
       "      <td>海景門市</td>\n",
       "      <td>200基隆市仁愛區港西街6之2號</td>\n",
       "      <td>02-2428-4223</td>\n",
       "      <td>Y</td>\n",
       "      <td>NaN</td>\n",
       "    </tr>\n",
       "    <tr>\n",
       "      <th>1</th>\n",
       "      <td>2</td>\n",
       "      <td>121.517670</td>\n",
       "      <td>25.047029</td>\n",
       "      <td>新世界門市</td>\n",
       "      <td>100台北市中正區忠孝西路一段49號B1</td>\n",
       "      <td>02-2371-7092</td>\n",
       "      <td>NaN</td>\n",
       "      <td>NaN</td>\n",
       "    </tr>\n",
       "    <tr>\n",
       "      <th>2</th>\n",
       "      <td>3</td>\n",
       "      <td>121.509098</td>\n",
       "      <td>25.041583</td>\n",
       "      <td>寶平門市</td>\n",
       "      <td>100台北市中正區寶慶路32號</td>\n",
       "      <td>02-2331-0388</td>\n",
       "      <td>Y</td>\n",
       "      <td>NaN</td>\n",
       "    </tr>\n",
       "    <tr>\n",
       "      <th>3</th>\n",
       "      <td>4</td>\n",
       "      <td>121.531439</td>\n",
       "      <td>25.017797</td>\n",
       "      <td>羅斯福門市</td>\n",
       "      <td>106台北市大安區羅斯福路三段301號</td>\n",
       "      <td>02-2364-6845</td>\n",
       "      <td>Y</td>\n",
       "      <td>NaN</td>\n",
       "    </tr>\n",
       "    <tr>\n",
       "      <th>4</th>\n",
       "      <td>5</td>\n",
       "      <td>121.514167</td>\n",
       "      <td>25.046001</td>\n",
       "      <td>懷寧門市</td>\n",
       "      <td>100台北市中正區懷寧街10號</td>\n",
       "      <td>02-2389-3776</td>\n",
       "      <td>Y</td>\n",
       "      <td>NaN</td>\n",
       "    </tr>\n",
       "  </tbody>\n",
       "</table>\n",
       "</div>"
      ],
      "text/plain": [
       "   sid   longitude   latitude   name               address           tel wifi  \\\n",
       "0    1  121.740089  25.132571   海景門市      200基隆市仁愛區港西街6之2號  02-2428-4223    Y   \n",
       "1    2  121.517670  25.047029  新世界門市  100台北市中正區忠孝西路一段49號B1  02-2371-7092  NaN   \n",
       "2    3  121.509098  25.041583   寶平門市       100台北市中正區寶慶路32號  02-2331-0388    Y   \n",
       "3    4  121.531439  25.017797  羅斯福門市   106台北市大安區羅斯福路三段301號  02-2364-6845    Y   \n",
       "4    5  121.514167  25.046001   懷寧門市       100台北市中正區懷寧街10號  02-2389-3776    Y   \n",
       "\n",
       "   notes  \n",
       "0    NaN  \n",
       "1    NaN  \n",
       "2    NaN  \n",
       "3    NaN  \n",
       "4    NaN  "
      ]
     },
     "execution_count": 13,
     "metadata": {},
     "output_type": "execute_result"
    }
   ],
   "source": [
    "df.head()"
   ]
  },
  {
   "cell_type": "code",
   "execution_count": 57,
   "metadata": {
    "collapsed": false
   },
   "outputs": [
    {
     "name": "stdout",
     "output_type": "stream",
     "text": [
      "133         302新竹縣竹北市高鐵七路6號1F\n",
      "134     302新竹縣竹北市台元科技園區台元街34號\n",
      "135    308新竹縣新竹科學工業園區研新一路9號一樓\n",
      "136           300新竹市中正路2號1~2樓\n",
      "137              300新竹市介壽路47號\n",
      "138      300新竹市新竹科學園區力行六路六號四樓\n",
      "139              300新竹市力行二路1號\n",
      "140             300新竹市西大路323號\n",
      "141          300新竹市東門街47號1~2F\n",
      "142        308新竹市全區科學園區研新二路6號\n",
      "143           300新竹市光復路二段344號\n",
      "144            新竹縣竹北市光明一路376號\n",
      "Name: address, dtype: object\n"
     ]
    }
   ],
   "source": [
    "'''\n",
    "第2題:試著讀取 stores_old.csv 檔案後，撰寫函式find(field, text)： find 函式功能為搜尋 field 欄位中含有 text 中的字串，有的話則印出。 示意: find(‘address’,‘台中市’) \n",
    "'''\n",
    "def find(fieldname,string):\n",
    "    df2 = df[df[fieldname].str.contains(string)]\n",
    "    print(df2.address)\n",
    "\n",
    "find('address','新竹')"
   ]
  },
  {
   "cell_type": "code",
   "execution_count": 25,
   "metadata": {
    "collapsed": false
   },
   "outputs": [
    {
     "data": {
      "text/html": [
       "<div>\n",
       "<table border=\"1\" class=\"dataframe\">\n",
       "  <thead>\n",
       "    <tr style=\"text-align: right;\">\n",
       "      <th></th>\n",
       "      <th>sid</th>\n",
       "      <th>longitude</th>\n",
       "      <th>latitude</th>\n",
       "      <th>name</th>\n",
       "      <th>address</th>\n",
       "      <th>tel</th>\n",
       "      <th>wifi</th>\n",
       "      <th>notes</th>\n",
       "    </tr>\n",
       "  </thead>\n",
       "  <tbody>\n",
       "    <tr>\n",
       "      <th>205</th>\n",
       "      <td>206</td>\n",
       "      <td>121.824178</td>\n",
       "      <td>24.686071</td>\n",
       "      <td>傳藝門市</td>\n",
       "      <td>268宜蘭縣五結鄉五濱路二段201號</td>\n",
       "      <td>03-950-8007</td>\n",
       "      <td>N</td>\n",
       "      <td>NaN</td>\n",
       "    </tr>\n",
       "    <tr>\n",
       "      <th>206</th>\n",
       "      <td>207</td>\n",
       "      <td>121.756531</td>\n",
       "      <td>24.757631</td>\n",
       "      <td>宜蘭門市</td>\n",
       "      <td>260宜蘭縣宜蘭市舊城東路56號</td>\n",
       "      <td>(03) 931-0158</td>\n",
       "      <td>N</td>\n",
       "      <td>NaN</td>\n",
       "    </tr>\n",
       "    <tr>\n",
       "      <th>207</th>\n",
       "      <td>208</td>\n",
       "      <td>121.156972</td>\n",
       "      <td>24.043806</td>\n",
       "      <td>清境門市</td>\n",
       "      <td>南投縣仁愛鄉定遠新村26-1號1樓</td>\n",
       "      <td>049-280-3798</td>\n",
       "      <td>Y</td>\n",
       "      <td>NaN</td>\n",
       "    </tr>\n",
       "    <tr>\n",
       "      <th>208</th>\n",
       "      <td>209</td>\n",
       "      <td>120.910651</td>\n",
       "      <td>23.866840</td>\n",
       "      <td>日月潭門市</td>\n",
       "      <td>555南投縣魚池鄉中山路101號</td>\n",
       "      <td>049-285-6849</td>\n",
       "      <td>Y</td>\n",
       "      <td>NaN</td>\n",
       "    </tr>\n",
       "    <tr>\n",
       "      <th>209</th>\n",
       "      <td>210</td>\n",
       "      <td>119.569217</td>\n",
       "      <td>23.566203</td>\n",
       "      <td>馬公門市</td>\n",
       "      <td>880澎湖縣馬公市三民路2號</td>\n",
       "      <td>06-927-3459</td>\n",
       "      <td>Y</td>\n",
       "      <td>NaN</td>\n",
       "    </tr>\n",
       "  </tbody>\n",
       "</table>\n",
       "</div>"
      ],
      "text/plain": [
       "     sid   longitude   latitude   name             address            tel  \\\n",
       "205  206  121.824178  24.686071   傳藝門市  268宜蘭縣五結鄉五濱路二段201號    03-950-8007   \n",
       "206  207  121.756531  24.757631   宜蘭門市    260宜蘭縣宜蘭市舊城東路56號  (03) 931-0158   \n",
       "207  208  121.156972  24.043806   清境門市   南投縣仁愛鄉定遠新村26-1號1樓   049-280-3798   \n",
       "208  209  120.910651  23.866840  日月潭門市    555南投縣魚池鄉中山路101號   049-285-6849   \n",
       "209  210  119.569217  23.566203   馬公門市      880澎湖縣馬公市三民路2號    06-927-3459   \n",
       "\n",
       "    wifi  notes  \n",
       "205    N    NaN  \n",
       "206    N    NaN  \n",
       "207    Y    NaN  \n",
       "208    Y    NaN  \n",
       "209    Y    NaN  "
      ]
     },
     "execution_count": 25,
     "metadata": {},
     "output_type": "execute_result"
    }
   ],
   "source": [
    "df.tail()"
   ]
  },
  {
   "cell_type": "code",
   "execution_count": 52,
   "metadata": {
    "collapsed": false
   },
   "outputs": [
    {
     "data": {
      "text/plain": [
       "city\n",
       "台北市    93\n",
       "台北縣    24\n",
       "台中市    18\n",
       "高雄市    16\n",
       "桃園縣    15\n",
       "新竹市     8\n",
       "台南市     8\n",
       "台南縣     5\n",
       "新竹縣     4\n",
       "屏東縣     3\n",
       "嘉義市     3\n",
       "南投縣     2\n",
       "台中縣     2\n",
       "宜蘭縣     2\n",
       "高雄縣     1\n",
       "台東縣     1\n",
       "嘉義縣     1\n",
       "彰化縣     1\n",
       "澎湖縣     1\n",
       "花蓮縣     1\n",
       "基隆市     1\n",
       "Name: city, dtype: int64"
      ]
     },
     "execution_count": 52,
     "metadata": {},
     "output_type": "execute_result"
    }
   ],
   "source": [
    "'''\n",
    "第3題:試著讀取 stores_old.csv 檔案後，撰寫函式city_count()： city_count()函式功能為統計各個「縣市」的店家數目，並依店家的數目由大到小排序後，輸出各個「縣市」的店家數目 \n",
    "示意: city_count() 台北市:93 台北縣:24 台中市:18 高雄市:16 桃園縣:15 新竹市:8 台南市:8 台南縣:5 新竹縣:4 嘉義市:3 屏東縣:3 宜蘭縣:2 南投縣:2 台中縣:2 彰化縣:1 高雄縣:1 花蓮縣:1 台東縣:1 基隆市:1 澎湖縣:1 嘉義縣:1\n",
    "'''\n",
    "city_list =[]\n",
    "for city in df.address:\n",
    "    start = 0\n",
    "    end = 0    \n",
    "    city = city.strip()\n",
    "    try:\n",
    "        end= city.index('縣')+1\n",
    "    except:\n",
    "        end = city.index('市')+1\n",
    "    if(end>3):\n",
    "        start = 3\n",
    "#     print(city[start:end])\n",
    "    city_list.append(city[start:end])\n",
    "df['city'] = pd.Series(city_list)\n",
    "df.groupby('city')['city'].count().sort_values(ascending=0)\n",
    "# def city_count():\n",
    "#     print(df2)\n",
    "\n",
    "# find('address','台中市')"
   ]
  },
  {
   "cell_type": "markdown",
   "metadata": {},
   "source": [
    "# 老師答案\n",
    "* http://tinyurl.com/zok5q3j"
   ]
  },
  {
   "cell_type": "code",
   "execution_count": 54,
   "metadata": {
    "collapsed": true
   },
   "outputs": [],
   "source": [
    "#Q1\n",
    "import csv\n",
    "\n",
    "old = open('stores_old.csv', 'r', encoding='big5')\n",
    "new = open('stores_new.csv', 'w', encoding='big5', newline='')\n",
    "for i in csv.reader(old, delimiter=','):\n",
    "    contents = i[0], i[3], i[5], i[6]\n",
    "    csv.writer(new).writerow(contents)\n",
    "old.close()\n",
    "new.close()"
   ]
  },
  {
   "cell_type": "code",
   "execution_count": 55,
   "metadata": {
    "collapsed": false
   },
   "outputs": [
    {
     "name": "stdout",
     "output_type": "stream",
     "text": [
      "六家門市 新竹縣竹北市高鐵七路6號1F\n",
      "台元門市 新竹縣竹北市台元科技園區台元街34號\n",
      "園區門市 新竹縣新竹科學工業園區研新一路9號一樓\n",
      "中正門市 新竹市中正路2號1~2樓\n",
      "介壽門市 新竹市介壽路47號\n",
      "台積電門市 新竹市新竹科學園區力行六路六號四樓\n",
      "竹達門市 新竹市力行二路1號\n",
      "西大門市 新竹市西大路323號\n",
      "東門門市 新竹市東門街47號1~2F\n",
      "研新門市 新竹市全區科學園區研新二路6號\n",
      "清大門市 新竹市光復路二段344號\n",
      "竹北門市 新竹縣竹北市光明一路376號\n",
      "台北市:93\n",
      "台北縣:24\n",
      "台中市:18\n",
      "高雄市:16\n",
      "桃園縣:15\n",
      "新竹市:8\n",
      "台南市:8\n",
      "台南縣:5\n",
      "新竹縣:4\n",
      "屏東縣:3\n",
      "嘉義市:3\n",
      "宜蘭縣:2\n",
      "南投縣:2\n",
      "台中縣:2\n",
      "澎湖縣:1\n",
      "台東縣:1\n",
      "基隆市:1\n",
      "嘉義縣:1\n",
      "高雄縣:1\n",
      "花蓮縣:1\n",
      "彰化縣:1\n"
     ]
    }
   ],
   "source": [
    "#Q2\n",
    "from collections import Counter\n",
    "class store:\n",
    "    def __init__(self,sid,name,address,tel):\n",
    "        self.sid = sid\n",
    "        self.name = name\n",
    "        self.address = address\n",
    "        self.tel = tel\n",
    "        self.rows= {'sid':self.sid,'name':self.name ,'address':self.address,'tel':self.tel}\n",
    "\n",
    "    def get_value(self,field_name):\n",
    "        return self.rows.get(field_name)\n",
    "    \n",
    "stores = []\n",
    "citys =[]\n",
    "\n",
    "file = open('stores_old.csv','r',encoding='big5')\n",
    "for line in file.readlines()[1:]:\n",
    "    row = line.split(',')\n",
    "    if len(row) == 8:\n",
    "        address = row[4].strip()\n",
    "        if address[:3].isdigit():\n",
    "            address = address[3:]           \n",
    "        citys.append(address[:3])\n",
    "        stores.append(store(row[0],row[3],address,row[5]))\n",
    "    if not line: \n",
    "        break \n",
    "file.close()\n",
    "\n",
    "def find(field,text):\n",
    "    result = [s for s in stores if text in s.get_value(field)]\n",
    "    for r in result:\n",
    "        print(r.name,r.address)\n",
    "\n",
    "def city_count():\n",
    "    counts = Counter(citys)\n",
    "    for city,count in sorted(counts.items(),key=lambda x:x[1], reverse=True):\n",
    "        print('%s:%s'%(city,count))\n",
    "        \n",
    "find('address','新竹')\n",
    "city_count()\n"
   ]
  }
 ],
 "metadata": {
  "anaconda-cloud": {},
  "kernelspec": {
   "display_name": "Python [Root]",
   "language": "python",
   "name": "Python [Root]"
  },
  "language_info": {
   "codemirror_mode": {
    "name": "ipython",
    "version": 3
   },
   "file_extension": ".py",
   "mimetype": "text/x-python",
   "name": "python",
   "nbconvert_exporter": "python",
   "pygments_lexer": "ipython3",
   "version": "3.5.2"
  }
 },
 "nbformat": 4,
 "nbformat_minor": 0
}
